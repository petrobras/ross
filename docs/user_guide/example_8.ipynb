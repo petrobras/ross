{
 "cells": [
  {
   "cell_type": "markdown",
   "metadata": {},
   "source": [
    "Example 8 - Overhung rotor.\n",
    "=========\n",
    "In this example, we use the rotor seen in Example 5.9.9 from {cite}`friswell2010dynamics`.\n",
    "\n",
    "The shaft is $1.5m$ long and the diameter is $50 mm$ with a disk of diameter $350mm$ and thickness $70 mm$. The two bearings, have a stiffness of $10 MN/m$ in each direction. The shaft and disk are made of steel. Damping is neglected."
   ]
  },
  {
   "cell_type": "code",
   "execution_count": 1,
   "metadata": {
    "execution": {
     "iopub.execute_input": "2023-05-04T01:03:23.736354Z",
     "iopub.status.busy": "2023-05-04T01:03:23.736004Z",
     "iopub.status.idle": "2023-05-04T01:03:24.765402Z",
     "shell.execute_reply": "2023-05-04T01:03:24.764929Z"
    }
   },
   "outputs": [],
   "source": [
    "import ross as rs\n",
    "import numpy as np"
   ]
  },
  {
   "cell_type": "code",
   "execution_count": 2,
   "metadata": {
    "execution": {
     "iopub.execute_input": "2023-05-04T01:03:24.768390Z",
     "iopub.status.busy": "2023-05-04T01:03:24.767914Z",
     "iopub.status.idle": "2023-05-04T01:03:24.979622Z",
     "shell.execute_reply": "2023-05-04T01:03:24.979198Z"
    }
   },
   "outputs": [
    {
     "data": {
      "application/vnd.plotly.v1+json": {
       "config": {
        "plotlyServerURL": "https://plot.ly"
       },
       "data": [
        {
         "hoverinfo": "none",
         "line": {
          "color": "black",
          "dash": "dashdot",
          "width": 3.0
         },
         "mode": "lines",
         "opacity": 0.7,
         "showlegend": false,
         "type": "scatter",
         "x": [
          -0.30000000000000004,
          1.7999999999999998
         ],
         "y": [
          0,
          0
         ]
        },
        {
         "hoverinfo": "none",
         "marker": {
          "color": "#ffcc99",
          "line": {
           "color": "black",
           "width": 1.0
          },
          "opacity": 0.7,
          "size": 20
         },
         "mode": "markers+text",
         "showlegend": false,
         "text": [
          "0",
          "1",
          "2"
         ],
         "type": "scatter",
         "x": [
          0.0,
          1.0,
          1.5
         ],
         "y": [
          0.0,
          0.0,
          0.0
         ]
        },
        {
         "customdata": [
          [
           0,
           0.05,
           0.0,
           0.05,
           0.0,
           1.0,
           "Steel"
          ],
          [
           0,
           0.05,
           0.0,
           0.05,
           0.0,
           1.0,
           "Steel"
          ],
          [
           0,
           0.05,
           0.0,
           0.05,
           0.0,
           1.0,
           "Steel"
          ],
          [
           0,
           0.05,
           0.0,
           0.05,
           0.0,
           1.0,
           "Steel"
          ],
          [
           0,
           0.05,
           0.0,
           0.05,
           0.0,
           1.0,
           "Steel"
          ],
          [
           0,
           0.05,
           0.0,
           0.05,
           0.0,
           1.0,
           "Steel"
          ],
          [
           0,
           0.05,
           0.0,
           0.05,
           0.0,
           1.0,
           "Steel"
          ],
          [
           0,
           0.05,
           0.0,
           0.05,
           0.0,
           1.0,
           "Steel"
          ],
          [
           0,
           0.05,
           0.0,
           0.05,
           0.0,
           1.0,
           "Steel"
          ],
          [
           0,
           0.05,
           0.0,
           0.05,
           0.0,
           1.0,
           "Steel"
          ]
         ],
         "fill": "toself",
         "fillcolor": "#525252",
         "hoverinfo": "text",
         "hoverlabel": {
          "bgcolor": "#525252"
         },
         "hoveron": "points+fills",
         "hovertemplate": "Element Number: 0<br>Left Outer Diameter: 0.05 m<br>Left Inner Diameter: 0.0 m<br>Right Outer Diameter: 0.05 m<br>Right Inner Diameter: 0.0 m<br>Element Length: 1.0 m<br>Material: Steel<br>",
         "legendgroup": "Shaft",
         "line": {
          "color": "black",
          "width": 1.5
         },
         "mode": "lines",
         "name": "ShaftElement 0",
         "opacity": 0.5,
         "showlegend": false,
         "text": "Element Number: 0<br>Left Outer Diameter: 0.05 m<br>Left Inner Diameter: 0.0 m<br>Right Outer Diameter: 0.05 m<br>Right Inner Diameter: 0.0 m<br>Element Length: 1.0 m<br>Material: Steel<br>",
         "type": "scatter",
         "x": [
          0.0,
          0.0,
          1.0,
          1.0,
          0.0,
          0.0,
          0.0,
          1.0,
          1.0,
          0.0
         ],
         "y": [
          0.0,
          0.025,
          0.025,
          0.0,
          0.0,
          -0.0,
          -0.025,
          -0.025,
          -0.0,
          -0.0
         ]
        },
        {
         "customdata": [
          [
           1,
           0.05,
           0.0,
           0.05,
           0.0,
           0.5,
           "Steel"
          ],
          [
           1,
           0.05,
           0.0,
           0.05,
           0.0,
           0.5,
           "Steel"
          ],
          [
           1,
           0.05,
           0.0,
           0.05,
           0.0,
           0.5,
           "Steel"
          ],
          [
           1,
           0.05,
           0.0,
           0.05,
           0.0,
           0.5,
           "Steel"
          ],
          [
           1,
           0.05,
           0.0,
           0.05,
           0.0,
           0.5,
           "Steel"
          ],
          [
           1,
           0.05,
           0.0,
           0.05,
           0.0,
           0.5,
           "Steel"
          ],
          [
           1,
           0.05,
           0.0,
           0.05,
           0.0,
           0.5,
           "Steel"
          ],
          [
           1,
           0.05,
           0.0,
           0.05,
           0.0,
           0.5,
           "Steel"
          ],
          [
           1,
           0.05,
           0.0,
           0.05,
           0.0,
           0.5,
           "Steel"
          ],
          [
           1,
           0.05,
           0.0,
           0.05,
           0.0,
           0.5,
           "Steel"
          ]
         ],
         "fill": "toself",
         "fillcolor": "#525252",
         "hoverinfo": "text",
         "hoverlabel": {
          "bgcolor": "#525252"
         },
         "hoveron": "points+fills",
         "hovertemplate": "Element Number: 1<br>Left Outer Diameter: 0.05 m<br>Left Inner Diameter: 0.0 m<br>Right Outer Diameter: 0.05 m<br>Right Inner Diameter: 0.0 m<br>Element Length: 0.5 m<br>Material: Steel<br>",
         "legendgroup": "Shaft",
         "line": {
          "color": "black",
          "width": 1.5
         },
         "mode": "lines",
         "name": "ShaftElement 1",
         "opacity": 0.5,
         "showlegend": false,
         "text": "Element Number: 1<br>Left Outer Diameter: 0.05 m<br>Left Inner Diameter: 0.0 m<br>Right Outer Diameter: 0.05 m<br>Right Inner Diameter: 0.0 m<br>Element Length: 0.5 m<br>Material: Steel<br>",
         "type": "scatter",
         "x": [
          1.0,
          1.0,
          1.5,
          1.5,
          1.0,
          1.0,
          1.0,
          1.5,
          1.5,
          1.0
         ],
         "y": [
          0.0,
          0.025,
          0.025,
          0.0,
          0.0,
          -0.0,
          -0.025,
          -0.025,
          -0.0,
          -0.0
         ]
        },
        {
         "customdata": [
          [
           2,
           0.8050822048675969,
           0.4235805840543383,
           51.5252611115262
          ],
          [
           2,
           0.8050822048675969,
           0.4235805840543383,
           51.5252611115262
          ],
          [
           2,
           0.8050822048675969,
           0.4235805840543383,
           51.5252611115262
          ],
          [
           2,
           0.8050822048675969,
           0.4235805840543383,
           51.5252611115262
          ],
          [
           2,
           0.8050822048675969,
           0.4235805840543383,
           51.5252611115262
          ],
          [
           2,
           0.8050822048675969,
           0.4235805840543383,
           51.5252611115262
          ],
          [
           2,
           0.8050822048675969,
           0.4235805840543383,
           51.5252611115262
          ],
          [
           2,
           0.8050822048675969,
           0.4235805840543383,
           51.5252611115262
          ],
          [
           2,
           0.8050822048675969,
           0.4235805840543383,
           51.5252611115262
          ]
         ],
         "fill": "toself",
         "fillcolor": "Firebrick",
         "hoverinfo": "text",
         "hoverlabel": {
          "bgcolor": "Firebrick"
         },
         "hoveron": "points+fills",
         "hovertemplate": "Disk Node: 2<br>Polar Inertia: 8.051e-01<br>Diametral Inertia: 4.236e-01<br>Disk mass: 51.525<br>",
         "legendgroup": "disks",
         "line": {
          "color": "Firebrick",
          "width": 2.0
         },
         "mode": "lines",
         "name": "Disk 0",
         "opacity": 0.8,
         "showlegend": false,
         "text": "Disk Node: 2<br>Polar Inertia: 8.051e-01<br>Diametral Inertia: 4.236e-01<br>Disk mass: 51.525<br>",
         "type": "scatter",
         "x": [
          1.5,
          1.502,
          1.498,
          1.5,
          null,
          1.5,
          1.502,
          1.498,
          1.5
         ],
         "y": [
          0.025,
          0.12500000000000003,
          0.12500000000000003,
          0.025,
          null,
          -0.025,
          -0.12500000000000003,
          -0.12500000000000003,
          -0.025
         ]
        },
        {
         "hoverinfo": "none",
         "legendgroup": "bearings",
         "line": {
          "color": "#355d7a",
          "width": 1
         },
         "mode": "lines",
         "name": "Bearing 0",
         "showlegend": false,
         "type": "scatter",
         "x": [
          0.0,
          0.0,
          -0.007142857142857144,
          0.007142857142857144
         ],
         "y": [
          0.025,
          0.037500000000000006,
          0.037500000000000006,
          0.037500000000000006
         ]
        },
        {
         "hoverinfo": "none",
         "legendgroup": "bearings",
         "line": {
          "color": "#355d7a",
          "width": 1
         },
         "mode": "lines",
         "name": "Bearing 0",
         "showlegend": false,
         "type": "scatter",
         "x": [
          0.0,
          0.0,
          -0.007142857142857144,
          0.007142857142857144
         ],
         "y": [
          -0.025,
          -0.037500000000000006,
          -0.037500000000000006,
          -0.037500000000000006
         ]
        },
        {
         "hoverinfo": "none",
         "legendgroup": "bearings",
         "line": {
          "color": "#355d7a",
          "width": 1
         },
         "mode": "lines",
         "name": "Bearing 0",
         "showlegend": false,
         "type": "scatter",
         "x": [
          0.0,
          0.0,
          -0.007142857142857144,
          0.007142857142857144
         ],
         "y": [
          0.07500000000000001,
          0.0625,
          0.0625,
          0.0625
         ]
        },
        {
         "hoverinfo": "none",
         "legendgroup": "bearings",
         "line": {
          "color": "#355d7a",
          "width": 1
         },
         "mode": "lines",
         "name": "Bearing 0",
         "showlegend": false,
         "type": "scatter",
         "x": [
          0.0,
          0.0,
          -0.007142857142857144,
          0.007142857142857144
         ],
         "y": [
          -0.07500000000000001,
          -0.0625,
          -0.0625,
          -0.0625
         ]
        },
        {
         "hoverinfo": "none",
         "legendgroup": "bearings",
         "line": {
          "color": "#355d7a",
          "width": 1
         },
         "mode": "lines",
         "name": "Bearing 0",
         "showlegend": false,
         "type": "scatter",
         "x": [
          -0.010714285714285716,
          0.010714285714285716
         ],
         "y": [
          0.07500000000000001,
          0.07500000000000001
         ]
        },
        {
         "hoverinfo": "none",
         "legendgroup": "bearings",
         "line": {
          "color": "#355d7a",
          "width": 1
         },
         "mode": "lines",
         "name": "Bearing 0",
         "showlegend": false,
         "type": "scatter",
         "x": [
          -0.010714285714285716,
          0.010714285714285716
         ],
         "y": [
          -0.07500000000000001,
          -0.07500000000000001
         ]
        },
        {
         "hoverinfo": "none",
         "legendgroup": "bearings",
         "line": {
          "color": "#355d7a",
          "width": 1
         },
         "mode": "lines",
         "name": "Bearing 0",
         "showlegend": false,
         "type": "scatter",
         "x": [
          -0.010714285714285716,
          -0.006428571428571429
         ],
         "y": [
          0.07500000000000001,
          0.08250000000000002
         ]
        },
        {
         "hoverinfo": "none",
         "legendgroup": "bearings",
         "line": {
          "color": "#355d7a",
          "width": 1
         },
         "mode": "lines",
         "name": "Bearing 0",
         "showlegend": false,
         "type": "scatter",
         "x": [
          -0.010714285714285716,
          -0.006428571428571429
         ],
         "y": [
          -0.07500000000000001,
          -0.08250000000000002
         ]
        },
        {
         "hoverinfo": "none",
         "legendgroup": "bearings",
         "line": {
          "color": "#355d7a",
          "width": 1
         },
         "mode": "lines",
         "name": "Bearing 0",
         "showlegend": false,
         "type": "scatter",
         "x": [
          -0.006428571428571429,
          -0.0021428571428571425
         ],
         "y": [
          0.07500000000000001,
          0.08250000000000002
         ]
        },
        {
         "hoverinfo": "none",
         "legendgroup": "bearings",
         "line": {
          "color": "#355d7a",
          "width": 1
         },
         "mode": "lines",
         "name": "Bearing 0",
         "showlegend": false,
         "type": "scatter",
         "x": [
          -0.006428571428571429,
          -0.0021428571428571425
         ],
         "y": [
          -0.07500000000000001,
          -0.08250000000000002
         ]
        },
        {
         "hoverinfo": "none",
         "legendgroup": "bearings",
         "line": {
          "color": "#355d7a",
          "width": 1
         },
         "mode": "lines",
         "name": "Bearing 0",
         "showlegend": false,
         "type": "scatter",
         "x": [
          -0.0021428571428571425,
          0.0021428571428571443
         ],
         "y": [
          0.07500000000000001,
          0.08250000000000002
         ]
        },
        {
         "hoverinfo": "none",
         "legendgroup": "bearings",
         "line": {
          "color": "#355d7a",
          "width": 1
         },
         "mode": "lines",
         "name": "Bearing 0",
         "showlegend": false,
         "type": "scatter",
         "x": [
          -0.0021428571428571425,
          0.0021428571428571443
         ],
         "y": [
          -0.07500000000000001,
          -0.08250000000000002
         ]
        },
        {
         "hoverinfo": "none",
         "legendgroup": "bearings",
         "line": {
          "color": "#355d7a",
          "width": 1
         },
         "mode": "lines",
         "name": "Bearing 0",
         "showlegend": false,
         "type": "scatter",
         "x": [
          0.0021428571428571443,
          0.006428571428571431
         ],
         "y": [
          0.07500000000000001,
          0.08250000000000002
         ]
        },
        {
         "hoverinfo": "none",
         "legendgroup": "bearings",
         "line": {
          "color": "#355d7a",
          "width": 1
         },
         "mode": "lines",
         "name": "Bearing 0",
         "showlegend": false,
         "type": "scatter",
         "x": [
          0.0021428571428571443,
          0.006428571428571431
         ],
         "y": [
          -0.07500000000000001,
          -0.08250000000000002
         ]
        },
        {
         "hoverinfo": "none",
         "legendgroup": "bearings",
         "line": {
          "color": "#355d7a",
          "width": 1
         },
         "mode": "lines",
         "name": "Bearing 0",
         "showlegend": false,
         "type": "scatter",
         "x": [
          0.006428571428571431,
          0.01071428571428572
         ],
         "y": [
          0.07500000000000001,
          0.08250000000000002
         ]
        },
        {
         "hoverinfo": "none",
         "legendgroup": "bearings",
         "line": {
          "color": "#355d7a",
          "width": 1
         },
         "mode": "lines",
         "name": "Bearing 0",
         "showlegend": false,
         "type": "scatter",
         "x": [
          0.006428571428571431,
          0.01071428571428572
         ],
         "y": [
          -0.07500000000000001,
          -0.08250000000000002
         ]
        },
        {
         "hoverinfo": "none",
         "legendgroup": "bearings",
         "line": {
          "color": "#355d7a",
          "width": 1
         },
         "mode": "lines",
         "name": "Bearing 0",
         "showlegend": false,
         "type": "scatter",
         "x": [
          0.01071428571428572,
          0.015000000000000005
         ],
         "y": [
          0.07500000000000001,
          0.08250000000000002
         ]
        },
        {
         "hoverinfo": "none",
         "legendgroup": "bearings",
         "line": {
          "color": "#355d7a",
          "width": 1
         },
         "mode": "lines",
         "name": "Bearing 0",
         "showlegend": false,
         "type": "scatter",
         "x": [
          0.01071428571428572,
          0.015000000000000005
         ],
         "y": [
          -0.07500000000000001,
          -0.08250000000000002
         ]
        },
        {
         "hoverinfo": "none",
         "legendgroup": "bearings",
         "line": {
          "color": "#355d7a",
          "width": 1
         },
         "mode": "lines",
         "name": "Bearing 0",
         "showlegend": false,
         "type": "scatter",
         "x": [
          -0.007142857142857144,
          -0.007142857142857144,
          -0.010714285714285716,
          -0.003571428571428572,
          -0.010714285714285716,
          -0.003571428571428572,
          -0.010714285714285716,
          -0.003571428571428572,
          -0.007142857142857144,
          -0.007142857142857144
         ],
         "y": [
          0.037500000000000006,
          0.04107142857142858,
          0.04107142857142858,
          0.04464285714285715,
          0.04821428571428572,
          0.051785714285714296,
          0.05535714285714287,
          0.05892857142857144,
          0.05892857142857144,
          0.06250000000000001
         ]
        },
        {
         "hoverinfo": "none",
         "legendgroup": "bearings",
         "line": {
          "color": "#355d7a",
          "width": 1
         },
         "mode": "lines",
         "name": "Bearing 0",
         "showlegend": false,
         "type": "scatter",
         "x": [
          -0.007142857142857144,
          -0.007142857142857144,
          -0.010714285714285716,
          -0.003571428571428572,
          -0.010714285714285716,
          -0.003571428571428572,
          -0.010714285714285716,
          -0.003571428571428572,
          -0.007142857142857144,
          -0.007142857142857144
         ],
         "y": [
          -0.037500000000000006,
          -0.04107142857142858,
          -0.04107142857142858,
          -0.04464285714285715,
          -0.04821428571428572,
          -0.051785714285714296,
          -0.05535714285714287,
          -0.05892857142857144,
          -0.05892857142857144,
          -0.06250000000000001
         ]
        },
        {
         "hoverinfo": "none",
         "legendgroup": "bearings",
         "line": {
          "color": "#355d7a",
          "width": 1
         },
         "mode": "lines",
         "name": "Bearing 0",
         "showlegend": false,
         "type": "scatter",
         "x": [
          0.007142857142857144,
          0.007142857142857144
         ],
         "y": [
          0.037500000000000006,
          0.04464285714285715
         ]
        },
        {
         "hoverinfo": "none",
         "legendgroup": "bearings",
         "line": {
          "color": "#355d7a",
          "width": 1
         },
         "mode": "lines",
         "name": "Bearing 0",
         "showlegend": false,
         "type": "scatter",
         "x": [
          0.007142857142857144,
          0.007142857142857144
         ],
         "y": [
          -0.037500000000000006,
          -0.04464285714285715
         ]
        },
        {
         "hoverinfo": "none",
         "legendgroup": "bearings",
         "line": {
          "color": "#355d7a",
          "width": 1
         },
         "mode": "lines",
         "name": "Bearing 0",
         "showlegend": false,
         "type": "scatter",
         "x": [
          0.0,
          0.0,
          0.014285714285714289,
          0.014285714285714289
         ],
         "y": [
          0.05535714285714287,
          0.04464285714285715,
          0.04464285714285715,
          0.05535714285714287
         ]
        },
        {
         "hoverinfo": "none",
         "legendgroup": "bearings",
         "line": {
          "color": "#355d7a",
          "width": 1
         },
         "mode": "lines",
         "name": "Bearing 0",
         "showlegend": false,
         "type": "scatter",
         "x": [
          0.0,
          0.0,
          0.014285714285714289,
          0.014285714285714289
         ],
         "y": [
          -0.05535714285714287,
          -0.04464285714285715,
          -0.04464285714285715,
          -0.05535714285714287
         ]
        },
        {
         "hoverinfo": "none",
         "legendgroup": "bearings",
         "line": {
          "color": "#355d7a",
          "width": 1
         },
         "mode": "lines",
         "name": "Bearing 0",
         "showlegend": false,
         "type": "scatter",
         "x": [
          0.0,
          0.014285714285714289,
          0.007142857142857144,
          0.007142857142857144
         ],
         "y": [
          0.051785714285714296,
          0.051785714285714296,
          0.051785714285714296,
          0.0625
         ]
        },
        {
         "hoverinfo": "none",
         "legendgroup": "bearings",
         "line": {
          "color": "#355d7a",
          "width": 1
         },
         "mode": "lines",
         "name": "Bearing 0",
         "showlegend": false,
         "type": "scatter",
         "x": [
          0.0,
          0.014285714285714289,
          0.007142857142857144,
          0.007142857142857144
         ],
         "y": [
          -0.051785714285714296,
          -0.051785714285714296,
          -0.051785714285714296,
          -0.0625
         ]
        },
        {
         "hoverinfo": "none",
         "legendgroup": "bearings",
         "line": {
          "color": "#355d7a",
          "width": 1
         },
         "mode": "lines",
         "name": "Bearing 1",
         "showlegend": false,
         "type": "scatter",
         "x": [
          1.0,
          1.0,
          0.9928571428571429,
          1.0071428571428571
         ],
         "y": [
          0.025,
          0.037500000000000006,
          0.037500000000000006,
          0.037500000000000006
         ]
        },
        {
         "hoverinfo": "none",
         "legendgroup": "bearings",
         "line": {
          "color": "#355d7a",
          "width": 1
         },
         "mode": "lines",
         "name": "Bearing 1",
         "showlegend": false,
         "type": "scatter",
         "x": [
          1.0,
          1.0,
          0.9928571428571429,
          1.0071428571428571
         ],
         "y": [
          -0.025,
          -0.037500000000000006,
          -0.037500000000000006,
          -0.037500000000000006
         ]
        },
        {
         "hoverinfo": "none",
         "legendgroup": "bearings",
         "line": {
          "color": "#355d7a",
          "width": 1
         },
         "mode": "lines",
         "name": "Bearing 1",
         "showlegend": false,
         "type": "scatter",
         "x": [
          1.0,
          1.0,
          0.9928571428571429,
          1.0071428571428571
         ],
         "y": [
          0.07500000000000001,
          0.0625,
          0.0625,
          0.0625
         ]
        },
        {
         "hoverinfo": "none",
         "legendgroup": "bearings",
         "line": {
          "color": "#355d7a",
          "width": 1
         },
         "mode": "lines",
         "name": "Bearing 1",
         "showlegend": false,
         "type": "scatter",
         "x": [
          1.0,
          1.0,
          0.9928571428571429,
          1.0071428571428571
         ],
         "y": [
          -0.07500000000000001,
          -0.0625,
          -0.0625,
          -0.0625
         ]
        },
        {
         "hoverinfo": "none",
         "legendgroup": "bearings",
         "line": {
          "color": "#355d7a",
          "width": 1
         },
         "mode": "lines",
         "name": "Bearing 1",
         "showlegend": false,
         "type": "scatter",
         "x": [
          0.9892857142857143,
          1.0107142857142857
         ],
         "y": [
          0.07500000000000001,
          0.07500000000000001
         ]
        },
        {
         "hoverinfo": "none",
         "legendgroup": "bearings",
         "line": {
          "color": "#355d7a",
          "width": 1
         },
         "mode": "lines",
         "name": "Bearing 1",
         "showlegend": false,
         "type": "scatter",
         "x": [
          0.9892857142857143,
          1.0107142857142857
         ],
         "y": [
          -0.07500000000000001,
          -0.07500000000000001
         ]
        },
        {
         "hoverinfo": "none",
         "legendgroup": "bearings",
         "line": {
          "color": "#355d7a",
          "width": 1
         },
         "mode": "lines",
         "name": "Bearing 1",
         "showlegend": false,
         "type": "scatter",
         "x": [
          0.9892857142857143,
          0.9935714285714285
         ],
         "y": [
          0.07500000000000001,
          0.08250000000000002
         ]
        },
        {
         "hoverinfo": "none",
         "legendgroup": "bearings",
         "line": {
          "color": "#355d7a",
          "width": 1
         },
         "mode": "lines",
         "name": "Bearing 1",
         "showlegend": false,
         "type": "scatter",
         "x": [
          0.9892857142857143,
          0.9935714285714285
         ],
         "y": [
          -0.07500000000000001,
          -0.08250000000000002
         ]
        },
        {
         "hoverinfo": "none",
         "legendgroup": "bearings",
         "line": {
          "color": "#355d7a",
          "width": 1
         },
         "mode": "lines",
         "name": "Bearing 1",
         "showlegend": false,
         "type": "scatter",
         "x": [
          0.9935714285714285,
          0.9978571428571429
         ],
         "y": [
          0.07500000000000001,
          0.08250000000000002
         ]
        },
        {
         "hoverinfo": "none",
         "legendgroup": "bearings",
         "line": {
          "color": "#355d7a",
          "width": 1
         },
         "mode": "lines",
         "name": "Bearing 1",
         "showlegend": false,
         "type": "scatter",
         "x": [
          0.9935714285714285,
          0.9978571428571429
         ],
         "y": [
          -0.07500000000000001,
          -0.08250000000000002
         ]
        },
        {
         "hoverinfo": "none",
         "legendgroup": "bearings",
         "line": {
          "color": "#355d7a",
          "width": 1
         },
         "mode": "lines",
         "name": "Bearing 1",
         "showlegend": false,
         "type": "scatter",
         "x": [
          0.9978571428571429,
          1.0021428571428572
         ],
         "y": [
          0.07500000000000001,
          0.08250000000000002
         ]
        },
        {
         "hoverinfo": "none",
         "legendgroup": "bearings",
         "line": {
          "color": "#355d7a",
          "width": 1
         },
         "mode": "lines",
         "name": "Bearing 1",
         "showlegend": false,
         "type": "scatter",
         "x": [
          0.9978571428571429,
          1.0021428571428572
         ],
         "y": [
          -0.07500000000000001,
          -0.08250000000000002
         ]
        },
        {
         "hoverinfo": "none",
         "legendgroup": "bearings",
         "line": {
          "color": "#355d7a",
          "width": 1
         },
         "mode": "lines",
         "name": "Bearing 1",
         "showlegend": false,
         "type": "scatter",
         "x": [
          1.0021428571428572,
          1.0064285714285715
         ],
         "y": [
          0.07500000000000001,
          0.08250000000000002
         ]
        },
        {
         "hoverinfo": "none",
         "legendgroup": "bearings",
         "line": {
          "color": "#355d7a",
          "width": 1
         },
         "mode": "lines",
         "name": "Bearing 1",
         "showlegend": false,
         "type": "scatter",
         "x": [
          1.0021428571428572,
          1.0064285714285715
         ],
         "y": [
          -0.07500000000000001,
          -0.08250000000000002
         ]
        },
        {
         "hoverinfo": "none",
         "legendgroup": "bearings",
         "line": {
          "color": "#355d7a",
          "width": 1
         },
         "mode": "lines",
         "name": "Bearing 1",
         "showlegend": false,
         "type": "scatter",
         "x": [
          1.0064285714285715,
          1.0107142857142857
         ],
         "y": [
          0.07500000000000001,
          0.08250000000000002
         ]
        },
        {
         "hoverinfo": "none",
         "legendgroup": "bearings",
         "line": {
          "color": "#355d7a",
          "width": 1
         },
         "mode": "lines",
         "name": "Bearing 1",
         "showlegend": false,
         "type": "scatter",
         "x": [
          1.0064285714285715,
          1.0107142857142857
         ],
         "y": [
          -0.07500000000000001,
          -0.08250000000000002
         ]
        },
        {
         "hoverinfo": "none",
         "legendgroup": "bearings",
         "line": {
          "color": "#355d7a",
          "width": 1
         },
         "mode": "lines",
         "name": "Bearing 1",
         "showlegend": false,
         "type": "scatter",
         "x": [
          1.0107142857142857,
          1.015
         ],
         "y": [
          0.07500000000000001,
          0.08250000000000002
         ]
        },
        {
         "hoverinfo": "none",
         "legendgroup": "bearings",
         "line": {
          "color": "#355d7a",
          "width": 1
         },
         "mode": "lines",
         "name": "Bearing 1",
         "showlegend": false,
         "type": "scatter",
         "x": [
          1.0107142857142857,
          1.015
         ],
         "y": [
          -0.07500000000000001,
          -0.08250000000000002
         ]
        },
        {
         "hoverinfo": "none",
         "legendgroup": "bearings",
         "line": {
          "color": "#355d7a",
          "width": 1
         },
         "mode": "lines",
         "name": "Bearing 1",
         "showlegend": false,
         "type": "scatter",
         "x": [
          0.9928571428571429,
          0.9928571428571429,
          0.9892857142857143,
          0.9964285714285714,
          0.9892857142857143,
          0.9964285714285714,
          0.9892857142857143,
          0.9964285714285714,
          0.9928571428571429,
          0.9928571428571429
         ],
         "y": [
          0.037500000000000006,
          0.04107142857142858,
          0.04107142857142858,
          0.04464285714285715,
          0.04821428571428572,
          0.051785714285714296,
          0.05535714285714287,
          0.05892857142857144,
          0.05892857142857144,
          0.06250000000000001
         ]
        },
        {
         "hoverinfo": "none",
         "legendgroup": "bearings",
         "line": {
          "color": "#355d7a",
          "width": 1
         },
         "mode": "lines",
         "name": "Bearing 1",
         "showlegend": false,
         "type": "scatter",
         "x": [
          0.9928571428571429,
          0.9928571428571429,
          0.9892857142857143,
          0.9964285714285714,
          0.9892857142857143,
          0.9964285714285714,
          0.9892857142857143,
          0.9964285714285714,
          0.9928571428571429,
          0.9928571428571429
         ],
         "y": [
          -0.037500000000000006,
          -0.04107142857142858,
          -0.04107142857142858,
          -0.04464285714285715,
          -0.04821428571428572,
          -0.051785714285714296,
          -0.05535714285714287,
          -0.05892857142857144,
          -0.05892857142857144,
          -0.06250000000000001
         ]
        },
        {
         "hoverinfo": "none",
         "legendgroup": "bearings",
         "line": {
          "color": "#355d7a",
          "width": 1
         },
         "mode": "lines",
         "name": "Bearing 1",
         "showlegend": false,
         "type": "scatter",
         "x": [
          1.0071428571428571,
          1.0071428571428571
         ],
         "y": [
          0.037500000000000006,
          0.04464285714285715
         ]
        },
        {
         "hoverinfo": "none",
         "legendgroup": "bearings",
         "line": {
          "color": "#355d7a",
          "width": 1
         },
         "mode": "lines",
         "name": "Bearing 1",
         "showlegend": false,
         "type": "scatter",
         "x": [
          1.0071428571428571,
          1.0071428571428571
         ],
         "y": [
          -0.037500000000000006,
          -0.04464285714285715
         ]
        },
        {
         "hoverinfo": "none",
         "legendgroup": "bearings",
         "line": {
          "color": "#355d7a",
          "width": 1
         },
         "mode": "lines",
         "name": "Bearing 1",
         "showlegend": false,
         "type": "scatter",
         "x": [
          1.0,
          1.0,
          1.0142857142857142,
          1.0142857142857142
         ],
         "y": [
          0.05535714285714287,
          0.04464285714285715,
          0.04464285714285715,
          0.05535714285714287
         ]
        },
        {
         "hoverinfo": "none",
         "legendgroup": "bearings",
         "line": {
          "color": "#355d7a",
          "width": 1
         },
         "mode": "lines",
         "name": "Bearing 1",
         "showlegend": false,
         "type": "scatter",
         "x": [
          1.0,
          1.0,
          1.0142857142857142,
          1.0142857142857142
         ],
         "y": [
          -0.05535714285714287,
          -0.04464285714285715,
          -0.04464285714285715,
          -0.05535714285714287
         ]
        },
        {
         "hoverinfo": "none",
         "legendgroup": "bearings",
         "line": {
          "color": "#355d7a",
          "width": 1
         },
         "mode": "lines",
         "name": "Bearing 1",
         "showlegend": false,
         "type": "scatter",
         "x": [
          1.0,
          1.0142857142857142,
          1.0071428571428571,
          1.0071428571428571
         ],
         "y": [
          0.051785714285714296,
          0.051785714285714296,
          0.051785714285714296,
          0.0625
         ]
        },
        {
         "hoverinfo": "none",
         "legendgroup": "bearings",
         "line": {
          "color": "#355d7a",
          "width": 1
         },
         "mode": "lines",
         "name": "Bearing 1",
         "showlegend": false,
         "type": "scatter",
         "x": [
          1.0,
          1.0142857142857142,
          1.0071428571428571,
          1.0071428571428571
         ],
         "y": [
          -0.051785714285714296,
          -0.051785714285714296,
          -0.051785714285714296,
          -0.0625
         ]
        }
       ],
       "layout": {
        "shapes": [
         {
          "fillcolor": "Firebrick",
          "line": {
           "color": "Firebrick"
          },
          "type": "circle",
          "x0": 1.49375,
          "x1": 1.50625,
          "xref": "x",
          "y0": 0.11875000000000002,
          "y1": 0.13125000000000003,
          "yref": "y"
         },
         {
          "fillcolor": "Firebrick",
          "line": {
           "color": "Firebrick"
          },
          "type": "circle",
          "x0": 1.49375,
          "x1": 1.50625,
          "xref": "x",
          "y0": -0.13125000000000003,
          "y1": -0.11875000000000002,
          "yref": "y"
         }
        ],
        "template": {
         "data": {
          "bar": [
           {
            "error_x": {
             "color": "#2a3f5f"
            },
            "error_y": {
             "color": "#2a3f5f"
            },
            "marker": {
             "line": {
              "color": "white",
              "width": 0.5
             }
            },
            "type": "bar"
           }
          ],
          "barpolar": [
           {
            "marker": {
             "line": {
              "color": "white",
              "width": 0.5
             }
            },
            "type": "barpolar"
           }
          ],
          "carpet": [
           {
            "aaxis": {
             "endlinecolor": "#2a3f5f",
             "gridcolor": "#C8D4E3",
             "linecolor": "#C8D4E3",
             "minorgridcolor": "#C8D4E3",
             "startlinecolor": "#2a3f5f"
            },
            "baxis": {
             "endlinecolor": "#2a3f5f",
             "gridcolor": "#C8D4E3",
             "linecolor": "#C8D4E3",
             "minorgridcolor": "#C8D4E3",
             "startlinecolor": "#2a3f5f"
            },
            "type": "carpet"
           }
          ],
          "choropleth": [
           {
            "colorbar": {
             "outlinewidth": 0,
             "ticks": ""
            },
            "type": "choropleth"
           }
          ],
          "contour": [
           {
            "colorbar": {
             "outlinewidth": 0,
             "ticks": ""
            },
            "colorscale": [
             [
              0.0,
              "#0d0887"
             ],
             [
              0.1111111111111111,
              "#46039f"
             ],
             [
              0.2222222222222222,
              "#7201a8"
             ],
             [
              0.3333333333333333,
              "#9c179e"
             ],
             [
              0.4444444444444444,
              "#bd3786"
             ],
             [
              0.5555555555555556,
              "#d8576b"
             ],
             [
              0.6666666666666666,
              "#ed7953"
             ],
             [
              0.7777777777777778,
              "#fb9f3a"
             ],
             [
              0.8888888888888888,
              "#fdca26"
             ],
             [
              1.0,
              "#f0f921"
             ]
            ],
            "type": "contour"
           }
          ],
          "contourcarpet": [
           {
            "colorbar": {
             "outlinewidth": 0,
             "ticks": ""
            },
            "type": "contourcarpet"
           }
          ],
          "heatmap": [
           {
            "colorbar": {
             "outlinewidth": 0,
             "ticks": ""
            },
            "colorscale": [
             [
              0.0,
              "#0d0887"
             ],
             [
              0.1111111111111111,
              "#46039f"
             ],
             [
              0.2222222222222222,
              "#7201a8"
             ],
             [
              0.3333333333333333,
              "#9c179e"
             ],
             [
              0.4444444444444444,
              "#bd3786"
             ],
             [
              0.5555555555555556,
              "#d8576b"
             ],
             [
              0.6666666666666666,
              "#ed7953"
             ],
             [
              0.7777777777777778,
              "#fb9f3a"
             ],
             [
              0.8888888888888888,
              "#fdca26"
             ],
             [
              1.0,
              "#f0f921"
             ]
            ],
            "type": "heatmap"
           }
          ],
          "heatmapgl": [
           {
            "colorbar": {
             "outlinewidth": 0,
             "ticks": ""
            },
            "colorscale": [
             [
              0.0,
              "#0d0887"
             ],
             [
              0.1111111111111111,
              "#46039f"
             ],
             [
              0.2222222222222222,
              "#7201a8"
             ],
             [
              0.3333333333333333,
              "#9c179e"
             ],
             [
              0.4444444444444444,
              "#bd3786"
             ],
             [
              0.5555555555555556,
              "#d8576b"
             ],
             [
              0.6666666666666666,
              "#ed7953"
             ],
             [
              0.7777777777777778,
              "#fb9f3a"
             ],
             [
              0.8888888888888888,
              "#fdca26"
             ],
             [
              1.0,
              "#f0f921"
             ]
            ],
            "type": "heatmapgl"
           }
          ],
          "histogram": [
           {
            "marker": {
             "colorbar": {
              "outlinewidth": 0,
              "ticks": ""
             }
            },
            "type": "histogram"
           }
          ],
          "histogram2d": [
           {
            "colorbar": {
             "outlinewidth": 0,
             "ticks": ""
            },
            "colorscale": [
             [
              0.0,
              "#0d0887"
             ],
             [
              0.1111111111111111,
              "#46039f"
             ],
             [
              0.2222222222222222,
              "#7201a8"
             ],
             [
              0.3333333333333333,
              "#9c179e"
             ],
             [
              0.4444444444444444,
              "#bd3786"
             ],
             [
              0.5555555555555556,
              "#d8576b"
             ],
             [
              0.6666666666666666,
              "#ed7953"
             ],
             [
              0.7777777777777778,
              "#fb9f3a"
             ],
             [
              0.8888888888888888,
              "#fdca26"
             ],
             [
              1.0,
              "#f0f921"
             ]
            ],
            "type": "histogram2d"
           }
          ],
          "histogram2dcontour": [
           {
            "colorbar": {
             "outlinewidth": 0,
             "ticks": ""
            },
            "colorscale": [
             [
              0.0,
              "#0d0887"
             ],
             [
              0.1111111111111111,
              "#46039f"
             ],
             [
              0.2222222222222222,
              "#7201a8"
             ],
             [
              0.3333333333333333,
              "#9c179e"
             ],
             [
              0.4444444444444444,
              "#bd3786"
             ],
             [
              0.5555555555555556,
              "#d8576b"
             ],
             [
              0.6666666666666666,
              "#ed7953"
             ],
             [
              0.7777777777777778,
              "#fb9f3a"
             ],
             [
              0.8888888888888888,
              "#fdca26"
             ],
             [
              1.0,
              "#f0f921"
             ]
            ],
            "type": "histogram2dcontour"
           }
          ],
          "mesh3d": [
           {
            "colorbar": {
             "outlinewidth": 0,
             "ticks": ""
            },
            "type": "mesh3d"
           }
          ],
          "parcoords": [
           {
            "line": {
             "colorbar": {
              "outlinewidth": 0,
              "ticks": ""
             }
            },
            "type": "parcoords"
           }
          ],
          "pie": [
           {
            "automargin": true,
            "type": "pie"
           }
          ],
          "scatter": [
           {
            "marker": {
             "colorbar": {
              "outlinewidth": 0,
              "ticks": ""
             }
            },
            "type": "scatter"
           }
          ],
          "scatter3d": [
           {
            "line": {
             "colorbar": {
              "outlinewidth": 0,
              "ticks": ""
             }
            },
            "marker": {
             "colorbar": {
              "outlinewidth": 0,
              "ticks": ""
             },
             "size": 4
            },
            "type": "scatter3d"
           }
          ],
          "scattercarpet": [
           {
            "marker": {
             "colorbar": {
              "outlinewidth": 0,
              "ticks": ""
             }
            },
            "type": "scattercarpet"
           }
          ],
          "scattergeo": [
           {
            "marker": {
             "colorbar": {
              "outlinewidth": 0,
              "ticks": ""
             }
            },
            "type": "scattergeo"
           }
          ],
          "scattergl": [
           {
            "marker": {
             "colorbar": {
              "outlinewidth": 0,
              "ticks": ""
             }
            },
            "type": "scattergl"
           }
          ],
          "scattermapbox": [
           {
            "marker": {
             "colorbar": {
              "outlinewidth": 0,
              "ticks": ""
             }
            },
            "type": "scattermapbox"
           }
          ],
          "scatterpolar": [
           {
            "marker": {
             "colorbar": {
              "outlinewidth": 0,
              "ticks": ""
             }
            },
            "type": "scatterpolar"
           }
          ],
          "scatterpolargl": [
           {
            "marker": {
             "colorbar": {
              "outlinewidth": 0,
              "ticks": ""
             }
            },
            "type": "scatterpolargl"
           }
          ],
          "scatterternary": [
           {
            "marker": {
             "colorbar": {
              "outlinewidth": 0,
              "ticks": ""
             }
            },
            "type": "scatterternary"
           }
          ],
          "surface": [
           {
            "colorbar": {
             "outlinewidth": 0,
             "ticks": ""
            },
            "colorscale": [
             [
              0.0,
              "#0d0887"
             ],
             [
              0.1111111111111111,
              "#46039f"
             ],
             [
              0.2222222222222222,
              "#7201a8"
             ],
             [
              0.3333333333333333,
              "#9c179e"
             ],
             [
              0.4444444444444444,
              "#bd3786"
             ],
             [
              0.5555555555555556,
              "#d8576b"
             ],
             [
              0.6666666666666666,
              "#ed7953"
             ],
             [
              0.7777777777777778,
              "#fb9f3a"
             ],
             [
              0.8888888888888888,
              "#fdca26"
             ],
             [
              1.0,
              "#f0f921"
             ]
            ],
            "type": "surface"
           }
          ],
          "table": [
           {
            "cells": {
             "fill": {
              "color": "#EBF0F8"
             },
             "line": {
              "color": "white"
             }
            },
            "header": {
             "fill": {
              "color": "#C8D4E3"
             },
             "line": {
              "color": "white"
             }
            },
            "type": "table"
           }
          ]
         },
         "layout": {
          "annotationdefaults": {
           "arrowcolor": "#2a3f5f",
           "arrowhead": 0,
           "arrowwidth": 1
          },
          "coloraxis": {
           "colorbar": {
            "outlinewidth": 0,
            "ticks": ""
           }
          },
          "colorscale": {
           "diverging": [
            [
             0,
             "#8e0152"
            ],
            [
             0.1,
             "#c51b7d"
            ],
            [
             0.2,
             "#de77ae"
            ],
            [
             0.3,
             "#f1b6da"
            ],
            [
             0.4,
             "#fde0ef"
            ],
            [
             0.5,
             "#f7f7f7"
            ],
            [
             0.6,
             "#e6f5d0"
            ],
            [
             0.7,
             "#b8e186"
            ],
            [
             0.8,
             "#7fbc41"
            ],
            [
             0.9,
             "#4d9221"
            ],
            [
             1,
             "#276419"
            ]
           ],
           "sequential": [
            [
             0.0,
             "#0d0887"
            ],
            [
             0.1111111111111111,
             "#46039f"
            ],
            [
             0.2222222222222222,
             "#7201a8"
            ],
            [
             0.3333333333333333,
             "#9c179e"
            ],
            [
             0.4444444444444444,
             "#bd3786"
            ],
            [
             0.5555555555555556,
             "#d8576b"
            ],
            [
             0.6666666666666666,
             "#ed7953"
            ],
            [
             0.7777777777777778,
             "#fb9f3a"
            ],
            [
             0.8888888888888888,
             "#fdca26"
            ],
            [
             1.0,
             "#f0f921"
            ]
           ],
           "sequentialminus": [
            [
             0.0,
             "#0d0887"
            ],
            [
             0.1111111111111111,
             "#46039f"
            ],
            [
             0.2222222222222222,
             "#7201a8"
            ],
            [
             0.3333333333333333,
             "#9c179e"
            ],
            [
             0.4444444444444444,
             "#bd3786"
            ],
            [
             0.5555555555555556,
             "#d8576b"
            ],
            [
             0.6666666666666666,
             "#ed7953"
            ],
            [
             0.7777777777777778,
             "#fb9f3a"
            ],
            [
             0.8888888888888888,
             "#fdca26"
            ],
            [
             1.0,
             "#f0f921"
            ]
           ]
          },
          "colorway": [
           "#1f77b4",
           "#ff7f0e",
           "#2ca02c",
           "#d62728",
           "#9467bd",
           "#8c564b",
           "#e377c2",
           "#7f7f7f",
           "#bcbd22",
           "#17becf"
          ],
          "font": {
           "color": "#2a3f5f"
          },
          "geo": {
           "bgcolor": "white",
           "lakecolor": "white",
           "landcolor": "white",
           "showlakes": true,
           "showland": true,
           "subunitcolor": "#C8D4E3"
          },
          "hoverlabel": {
           "align": "left"
          },
          "hovermode": "closest",
          "mapbox": {
           "style": "light"
          },
          "paper_bgcolor": "white",
          "plot_bgcolor": "white",
          "polar": {
           "angularaxis": {
            "gridcolor": "#EBF0F8",
            "linecolor": "#EBF0F8",
            "ticks": ""
           },
           "bgcolor": "white",
           "radialaxis": {
            "gridcolor": "#EBF0F8",
            "linecolor": "#EBF0F8",
            "ticks": ""
           }
          },
          "scene": {
           "camera": {
            "center": {
             "x": 0,
             "y": 0,
             "z": 0
            },
            "eye": {
             "x": 2.0,
             "y": 2.0,
             "z": 2.0
            },
            "up": {
             "x": 0,
             "y": 0,
             "z": 1
            }
           },
           "xaxis": {
            "backgroundcolor": "white",
            "gridcolor": "#DFE8F3",
            "gridwidth": 2,
            "linecolor": "#EBF0F8",
            "showbackground": true,
            "showspikes": false,
            "ticks": "",
            "zerolinecolor": "#EBF0F8"
           },
           "yaxis": {
            "backgroundcolor": "white",
            "gridcolor": "#DFE8F3",
            "gridwidth": 2,
            "linecolor": "#EBF0F8",
            "showbackground": true,
            "showspikes": false,
            "ticks": "",
            "zerolinecolor": "#EBF0F8"
           },
           "zaxis": {
            "backgroundcolor": "white",
            "gridcolor": "#DFE8F3",
            "gridwidth": 2,
            "linecolor": "#EBF0F8",
            "showbackground": true,
            "showspikes": false,
            "ticks": "",
            "zerolinecolor": "#EBF0F8"
           }
          },
          "shapedefaults": {
           "line": {
            "color": "#2a3f5f"
           }
          },
          "ternary": {
           "aaxis": {
            "gridcolor": "#DFE8F3",
            "linecolor": "#A2B1C6",
            "ticks": ""
           },
           "baxis": {
            "gridcolor": "#DFE8F3",
            "linecolor": "#A2B1C6",
            "ticks": ""
           },
           "bgcolor": "white",
           "caxis": {
            "gridcolor": "#DFE8F3",
            "linecolor": "#A2B1C6",
            "ticks": ""
           }
          },
          "title": {
           "x": 0.05
          },
          "xaxis": {
           "automargin": true,
           "gridcolor": "#EBF0F8",
           "linecolor": "black",
           "linewidth": 2.0,
           "mirror": true,
           "showline": true,
           "ticks": "",
           "title": {
            "standoff": 15
           },
           "zeroline": false,
           "zerolinecolor": "#EBF0F8",
           "zerolinewidth": 2
          },
          "yaxis": {
           "automargin": true,
           "gridcolor": "#EBF0F8",
           "linecolor": "black",
           "linewidth": 2.0,
           "mirror": true,
           "showline": true,
           "ticks": "",
           "title": {
            "standoff": 15
           },
           "zeroline": false,
           "zerolinecolor": "#EBF0F8",
           "zerolinewidth": 2
          }
         }
        },
        "title": {
         "text": "Rotor Model"
        },
        "xaxis": {
         "mirror": true,
         "range": [
          -0.15000000000000002,
          1.6500000000000001
         ],
         "showgrid": false,
         "title": {
          "text": "Axial location (m)"
         }
        },
        "yaxis": {
         "mirror": true,
         "range": [
          -0.44999999999999996,
          0.44999999999999996
         ],
         "showgrid": false,
         "title": {
          "text": "Shaft radius (m)"
         }
        }
       }
      }
     },
     "metadata": {},
     "output_type": "display_data"
    }
   ],
   "source": [
    "shaft_elements = []\n",
    "disk_elements = []\n",
    "bearing_seal_elements = []\n",
    "steel = rs.steel\n",
    "\n",
    "bearing_seal_elements.append(rs.BearingElement(n=0, kxx=10e6, kyy=10e6, cxx=0, cyy=0))\n",
    "bearing_seal_elements.append(rs.BearingElement(n=1, kxx=10e6, kyy=10e6, cxx=0, cyy=0))\n",
    "\n",
    "shaft_elements.append(rs.ShaftElement(material=steel, n=0, L=1, odl=0.05, idl=0))\n",
    "shaft_elements.append(rs.ShaftElement(material=steel, n=1, L=0.5, odl=0.05, idl=0))\n",
    "\n",
    "disk_elements.append(\n",
    "    rs.DiskElement.from_geometry(n=2, i_d=0.05, o_d=0.35, width=0.07, material=steel)\n",
    ")\n",
    "\n",
    "# Moment approach\n",
    "overhung_rotor = rs.Rotor(\n",
    "    shaft_elements=shaft_elements,\n",
    "    bearing_elements=bearing_seal_elements,\n",
    "    disk_elements=disk_elements,\n",
    ")\n",
    "# from section approach\n",
    "leng_data = [1.0, 0.5]\n",
    "\n",
    "overhung_from_section_rotor = rs.Rotor.from_section(\n",
    "    brg_seal_data=bearing_seal_elements,\n",
    "    disk_data=disk_elements,\n",
    "    leng_data=leng_data,\n",
    "    idl_data=[0, 0],\n",
    "    odl_data=[0.05, 0.05],\n",
    "    material_data=steel,\n",
    ")\n",
    "overhung_from_section_rotor.plot_rotor()"
   ]
  },
  {
   "cell_type": "code",
   "execution_count": 3,
   "metadata": {
    "execution": {
     "iopub.execute_input": "2023-05-04T01:03:24.989742Z",
     "iopub.status.busy": "2023-05-04T01:03:24.989419Z",
     "iopub.status.idle": "2023-05-04T01:03:25.106262Z",
     "shell.execute_reply": "2023-05-04T01:03:25.105879Z"
    }
   },
   "outputs": [
    {
     "name": "stdout",
     "output_type": "stream",
     "text": [
      "From section approach = [ 14.34690401  14.34690401 109.31683436 109.31683437 134.05186826\n",
      " 134.05186826]\n"
     ]
    }
   ],
   "source": [
    "modal = overhung_from_section_rotor.run_modal(0)\n",
    "\n",
    "print(\"From section approach =\", modal.wn / (2 * np.pi))"
   ]
  },
  {
   "cell_type": "code",
   "execution_count": 4,
   "metadata": {
    "execution": {
     "iopub.execute_input": "2023-05-04T01:03:25.108232Z",
     "iopub.status.busy": "2023-05-04T01:03:25.107905Z",
     "iopub.status.idle": "2023-05-04T01:03:25.982607Z",
     "shell.execute_reply": "2023-05-04T01:03:25.982229Z"
    }
   },
   "outputs": [
    {
     "data": {
      "application/vnd.plotly.v1+json": {
       "config": {
        "plotlyServerURL": "https://plot.ly"
       },
       "data": [
        {
         "hovertemplate": "Frequency (rad/s): %{x:.2f}<br>Critical Speed (rad/s): %{y:.2f}",
         "legendgroup": "Crit. Speed",
         "marker": {
          "color": "black",
          "symbol": "x"
         },
         "mode": "markers",
         "name": "Crit. Speed",
         "showlegend": true,
         "type": "scatter",
         "x": [
          87.20065480783117,
          93.28277441590879
         ],
         "y": [
          87.20065480783117,
          93.28277441590879
         ]
        },
        {
         "hoverinfo": "none",
         "legendgroup": "Forward",
         "marker": {
          "color": [
           -2.427232133061336e-14,
           -2.4671048736763514e-13,
           -1.9405215382209883e-14,
           -2.6743279673458842e-14,
           -1.622133655083535e-14,
           -3.9992281850021393e-14,
           -5.27365339552332e-15,
           2.871765739594271e-14,
           1.4656115959752398e-14,
           -1.4321250038885268e-14,
           -7.881893557094483e-15,
           9.002740941896692e-14,
           -6.643195398058568e-15,
           -8.980793071497865e-15,
           2.3678263156412583e-14,
           1.1745823317091288e-14,
           1.398203988051311e-14,
           1.0517951036942186e-14,
           2.3442967708829816e-14,
           -2.011635800312901e-14,
           1.4968144504930688e-14,
           -6.832706701062855e-15,
           1.225588267898149e-14,
           1.321686259309494e-14,
           -1.1399559118825804e-14,
           3.722231232394942e-15,
           1.5598447025532805e-14,
           -9.49289085632535e-15,
           6.704234914166365e-15,
           -5.941719692930333e-15,
           -4.045404098151797e-15,
           5.409074711210086e-16,
           4.881825135448968e-15,
           5.439397863006731e-16,
           -1.6363551814177354e-15,
           5.4696078067871476e-15,
           -7.678536472423835e-15,
           -1.773653258373151e-14,
           -2.757350307529844e-15,
           -5.529670141927869e-16,
           -4.574301666948632e-15,
           -1.6678541748535388e-15,
           8.361580709078172e-16,
           8.383840878156693e-16,
           1.541109285283945e-15,
           1.1237612392889888e-14,
           -1.6900632227578578e-15,
           -1.0025638319251823e-14,
           -4.2471857525628147e-16
          ],
          "coloraxis": "coloraxis",
          "symbol": "triangle-up"
         },
         "mode": "markers",
         "name": "Forward",
         "showlegend": false,
         "type": "scatter",
         "x": [
          8.548551438339572,
          17.097102876679145,
          25.645654315018717,
          34.19420575335829,
          42.74275719169786,
          51.291308630037435,
          59.83986006837701,
          68.38841150671658,
          76.93696294505615,
          85.48551438339572,
          94.0340658217353,
          102.58261726007487,
          111.13116869841444,
          119.67972013675401,
          128.22827157509357,
          136.77682301343316,
          145.32537445177275,
          153.8739258901123,
          162.42247732845186,
          170.97102876679145,
          179.51958020513104,
          188.0681316434706,
          196.61668308181015,
          205.16523452014974,
          213.71378595848932,
          222.26233739682888,
          230.81088883516844,
          239.35944027350803,
          247.90799171184761,
          256.45654315018714,
          265.00509458852673,
          273.5536460268663,
          282.1021974652059,
          290.6507489035455,
          299.199300341885,
          307.7478517802246,
          316.2964032185642,
          324.8449546569037,
          333.3935060952433,
          341.9420575335829,
          350.4906089719225,
          359.03916041026207,
          367.5877118486016,
          376.1362632869412,
          384.6848147252808,
          393.2333661636203,
          401.7819176019599,
          410.3304690402995,
          418.87902047863906
         ],
         "y": [
          90.43258589740725,
          90.72081374282492,
          91.00892580634475,
          91.29690793014234,
          91.58474601949754,
          91.87242604699136,
          92.15993405665354,
          92.44725616804203,
          92.73437858025181,
          93.02128757586338,
          93.30796952481163,
          93.59441088818186,
          93.88059822193426,
          94.16651818054062,
          94.45215752054864,
          94.73750310405661,
          95.02254190210334,
          95.30726099797423,
          95.59164759041677,
          95.87568899676518,
          96.15937265597086,
          96.44268613154676,
          96.72561711440895,
          97.0081534256264,
          97.29028301907678,
          97.57199398399976,
          97.85327454745541,
          98.13411307668359,
          98.41449808136328,
          98.69441821577264,
          98.97386228084959,
          99.25281922615329,
          99.53127815172219,
          99.80922830983671,
          100.0866591066797,
          100.36356010389677,
          100.63992102006077,
          100.91573173203317,
          101.19098227623219,
          101.46566284980041,
          101.73976381167815,
          102.01327568357797,
          102.28618915086912,
          102.55849506336527,
          102.83018443601924,
          103.10124844952983,
          103.37167845085351,
          103.64146595363222,
          103.91060263853156
         ]
        },
        {
         "hoverinfo": "none",
         "legendgroup": "Forward",
         "marker": {
          "color": [
           -2.1186903109482847e-13,
           -1.5856847127181174e-12,
           1.6822550652622896e-12,
           1.5666301976694878e-13,
           1.903230528627993e-12,
           1.6677612776362322e-12,
           -2.496698779063002e-13,
           -2.3062909082292293e-13,
           5.392596060923021e-13,
           4.67540696680644e-13,
           2.2819702826674862e-14,
           -3.643037299556248e-13,
           1.0676203311556184e-12,
           -1.345846903043796e-12,
           1.3194645921174036e-13,
           -1.6235261260366208e-13,
           -6.363930386840499e-15,
           -5.905894325259304e-13,
           3.3864424135937e-13,
           9.410536363238445e-13,
           -4.2704806862582023e-14,
           -8.316340403668324e-13,
           -2.9387322253537773e-13,
           2.787066446898844e-13,
           2.177205840744943e-13,
           8.963226114053061e-13,
           -1.4504470869712958e-13,
           -4.607296781781751e-14,
           -6.196116707304385e-13,
           4.3204442480375814e-13,
           5.845935741346744e-13,
           -3.5558686644910954e-13,
           -3.972582289020794e-14,
           -6.030696115222988e-13,
           4.30842053457275e-13,
           1.0389890941111258e-12,
           1.3509606556476142e-13,
           2.4112208290760343e-13,
           2.349993249844407e-13,
           -1.0133067784644648e-13,
           4.982805686961875e-13,
           4.1192785253855325e-13,
           1.2548634386984863e-13,
           -5.254425917540911e-13,
           -7.445547293160634e-13,
           4.28210615797806e-13,
           -9.036438689565939e-14,
           2.8012157993179215e-13,
           -1.435686555859093e-13
          ],
          "coloraxis": "coloraxis",
          "symbol": "triangle-up"
         },
         "mode": "markers",
         "name": "Forward",
         "showlegend": false,
         "type": "scatter",
         "x": [
          8.548551438339572,
          17.097102876679145,
          25.645654315018717,
          34.19420575335829,
          42.74275719169786,
          51.291308630037435,
          59.83986006837701,
          68.38841150671658,
          76.93696294505615,
          85.48551438339572,
          94.0340658217353,
          102.58261726007487,
          111.13116869841444,
          119.67972013675401,
          128.22827157509357,
          136.77682301343316,
          145.32537445177275,
          153.8739258901123,
          162.42247732845186,
          170.97102876679145,
          179.51958020513104,
          188.0681316434706,
          196.61668308181015,
          205.16523452014974,
          213.71378595848932,
          222.26233739682888,
          230.81088883516844,
          239.35944027350803,
          247.90799171184761,
          256.45654315018714,
          265.00509458852673,
          273.5536460268663,
          282.1021974652059,
          290.6507489035455,
          299.199300341885,
          307.7478517802246,
          316.2964032185642,
          324.8449546569037,
          333.3935060952433,
          341.9420575335829,
          350.4906089719225,
          359.03916041026207,
          367.5877118486016,
          376.1362632869412,
          384.6848147252808,
          393.2333661636203,
          401.7819176019599,
          410.3304690402995,
          418.87902047863906
         ],
         "y": [
          687.319642354548,
          687.7525024772596,
          688.1589341231154,
          688.5411256725528,
          688.9010522198628,
          689.240497853839,
          689.5610757297118,
          689.8642460800627,
          690.1513323147263,
          690.423535382611,
          690.6819465623937,
          690.9275588416858,
          691.1612770343032,
          691.3839267747634,
          691.5962625153929,
          691.798974638771,
          691.9926957878806,
          692.1780065036268,
          692.3554402493818,
          692.5254878962702,
          692.6886017256718,
          692.8451990122087,
          692.9956652293122,
          693.1403569221708,
          693.2796042877641,
          693.4137134919002,
          693.5429687544088,
          693.6676342274241,
          693.7879556903847,
          693.904162080062,
          694.0164668749185,
          694.1250693482355,
          694.2301557049063,
          694.3319001122679,
          694.4304656380621,
          694.5260051034662,
          694.6186618605003,
          694.7085705004988,
          694.7958575020143,
          694.8806418230894,
          694.9630354418488,
          695.0431438536133,
          695.1210665265437,
          695.1968973189355,
          695.2707248641004,
          695.3426329232944,
          695.4127007126264,
          695.4810032017748,
          695.5476113921378
         ]
        },
        {
         "hoverinfo": "none",
         "legendgroup": "Forward",
         "marker": {
          "color": [
           -1.7980950332104416e-13
          ],
          "coloraxis": "coloraxis",
          "symbol": "triangle-up"
         },
         "mode": "markers",
         "name": "Forward",
         "showlegend": false,
         "type": "scatter",
         "x": [
          0.0
         ],
         "y": [
          842.2727290696628
         ]
        },
        {
         "hoverinfo": "none",
         "legendgroup": "Forward",
         "marker": {
          "color": [
           7.468061889262744e-15,
           1.3723779785846822e-12,
           2.217284174818785e-13,
           -1.9177655202946568e-11,
           1.4409985926564864e-12,
           1.653082799618455e-12,
           -5.016763135193367e-12,
           6.025652839186504e-13,
           3.0100828846811002e-12,
           5.726809220377339e-12,
           -2.1975261341127637e-12,
           -5.578475870508391e-13,
           3.178362601910168e-12,
           -9.05407923879678e-13,
           2.2841815495484617e-12,
           3.7074405554554894e-13,
           1.6033926449023218e-12,
           -1.2049421227858713e-12,
           5.405221643817745e-13,
           -1.6657923876361902e-12,
           -3.517367602103858e-14,
           -2.0395220398339254e-12,
           -3.8183864872828144e-13,
           -2.660734473734587e-12,
           -2.0807344639813173e-13,
           -1.7207802259836016e-14,
           9.072090702658241e-13,
           1.1173607734927566e-12,
           3.367540577665116e-13,
           3.687614753035627e-13,
           -1.3677304351812127e-12,
           1.807833328014415e-12,
           5.388723851600237e-13,
           7.597448397488815e-13,
           9.132247518820356e-13,
           -1.2312592934172482e-12,
           -1.83861570776906e-12,
           -6.589570793965543e-12,
           -4.519636884213512e-13,
           3.0449608524929363e-13,
           1.2392519827159964e-12,
           -8.017114105976433e-13,
           1.0665910643443637e-13,
           -1.8351700398611484e-14,
           4.988081221540685e-13,
           -9.998357591229369e-13,
           1.5015443706434833e-13,
           7.622953879912648e-13,
           -6.075577022001044e-13,
           -6.057804842394628e-13
          ],
          "coloraxis": "coloraxis",
          "symbol": "triangle-up"
         },
         "mode": "markers",
         "name": "Forward",
         "showlegend": false,
         "type": "scatter",
         "x": [
          0.0,
          8.548551438339572,
          17.097102876679145,
          25.645654315018717,
          34.19420575335829,
          42.74275719169786,
          51.291308630037435,
          59.83986006837701,
          68.38841150671658,
          76.93696294505615,
          85.48551438339572,
          94.0340658217353,
          102.58261726007487,
          111.13116869841444,
          119.67972013675401,
          128.22827157509357,
          136.77682301343316,
          145.32537445177275,
          153.8739258901123,
          162.42247732845186,
          170.97102876679145,
          179.51958020513104,
          188.0681316434706,
          196.61668308181015,
          205.16523452014974,
          213.71378595848932,
          222.26233739682888,
          230.81088883516844,
          239.35944027350803,
          247.90799171184761,
          256.45654315018714,
          265.00509458852673,
          273.5536460268663,
          282.1021974652059,
          290.6507489035455,
          299.199300341885,
          307.7478517802246,
          316.2964032185642,
          324.8449546569037,
          333.3935060952433,
          341.9420575335829,
          350.4906089719225,
          359.03916041026207,
          367.5877118486016,
          376.1362632869412,
          384.6848147252808,
          393.2333661636203,
          401.7819176019599,
          410.3304690402995,
          418.87902047863906
         ],
         "y": [
          842.2727290702034,
          848.2424156294986,
          854.2918047149527,
          860.4180070723725,
          866.6183404358903,
          872.8903044134255,
          879.2315576479738,
          885.6398972035988,
          892.1132399784912,
          898.6496060404411,
          905.2471036699412,
          911.9039159807007,
          918.6182889284046,
          925.3885205620957,
          932.2129513940985,
          939.0899557396016,
          946.0179339230177,
          952.9953052491694,
          960.0205016466334,
          967.0919618945109,
          974.208126374387,
          981.3674322679274,
          988.5683091599591,
          995.8091749878777,
          1003.0884322913488,
          1010.4044647401424,
          1017.7556338879353,
          1025.1402761366298,
          1032.5566998834252,
          1040.003182824198,
          1047.477969400882,
          1054.9792683828696,
          1062.5052505522058,
          1070.0540465033566,
          1077.623744538798,
          1085.2123886584827,
          1092.8179766422306,
          1100.4384582183602,
          1108.0717333315665,
          1115.7156505085154,
          1123.368005319733,
          1131.0265389657627,
          1138.6889369796581,
          1146.3528280714888,
          1154.0157831300696,
          1161.6753143906133,
          1169.3288748086875,
          1176.9738576382972,
          1184.6075962710413,
          1192.22736433867
         ]
        },
        {
         "hoverinfo": "none",
         "legendgroup": "Backward",
         "marker": {
          "color": [
           -1.0774516007305847e-15,
           3.134053529379534e-14,
           2.008628838268471e-13,
           2.5300658533610326e-14,
           1.9762868004007357e-14,
           1.6435784418175168e-14,
           3.493284964941189e-14,
           1.6328819248320302e-14,
           -1.3163877246754886e-15,
           -1.1391088519652777e-14,
           2.0715759117261727e-14,
           1.0190330390478844e-14,
           -7.251294016885017e-14,
           1.0122750941800096e-14,
           5.396430168896111e-15,
           -1.8005857099485507e-14,
           -1.444956848870629e-14,
           -7.897289039920838e-15,
           -2.4074886354481788e-14,
           -1.502471849088807e-14,
           9.541801231379683e-15,
           -8.936481231010099e-15,
           9.362709107415937e-15,
           -7.28248330357555e-15,
           -1.1566652956954504e-14,
           6.32848546746516e-15,
           -3.603812891858564e-15,
           -6.9582617986262035e-15,
           6.319034386107235e-15,
           5.572651726617091e-16,
           7.71903152392747e-15,
           2.490251334507441e-15,
           -4.63222028225347e-15,
           -2.1980917269281266e-15,
           1.971337270007921e-15,
           7.093672949582605e-16,
           -6.089926235839674e-15,
           2.058925757812922e-15,
           8.584484744369286e-15,
           -4.841909113094111e-15,
           8.577252113029619e-16,
           1.1284338175738082e-15,
           2.1290591182921364e-16,
           -1.2728714817289907e-15,
           2.1138598081765948e-16,
           -1.2637688802218437e-15,
           -7.345512213362577e-15,
           3.920941983944805e-15,
           6.3811341383318e-15,
           -1.193767751891344e-15
          ],
          "coloraxis": "coloraxis",
          "symbol": "triangle-down"
         },
         "mode": "markers",
         "name": "Backward",
         "showlegend": false,
         "type": "scatter",
         "x": [
          0.0,
          8.548551438339572,
          17.097102876679145,
          25.645654315018717,
          34.19420575335829,
          42.74275719169786,
          51.291308630037435,
          59.83986006837701,
          68.38841150671658,
          76.93696294505615,
          85.48551438339572,
          94.0340658217353,
          102.58261726007487,
          111.13116869841444,
          119.67972013675401,
          128.22827157509357,
          136.77682301343316,
          145.32537445177275,
          153.8739258901123,
          162.42247732845186,
          170.97102876679145,
          179.51958020513104,
          188.0681316434706,
          196.61668308181015,
          205.16523452014974,
          213.71378595848932,
          222.26233739682888,
          230.81088883516844,
          239.35944027350803,
          247.90799171184761,
          256.45654315018714,
          265.00509458852673,
          273.5536460268663,
          282.1021974652059,
          290.6507489035455,
          299.199300341885,
          307.7478517802246,
          316.2964032185642,
          324.8449546569037,
          333.3935060952433,
          341.9420575335829,
          350.4906089719225,
          359.03916041026207,
          367.5877118486016,
          376.1362632869412,
          384.6848147252808,
          393.2333661636203,
          401.7819176019599,
          410.3304690402995,
          418.87902047863906
         ],
         "y": [
          90.14425648675625,
          89.85583978205872,
          89.56735010465921,
          89.27880182164337,
          88.99020934138179,
          88.70158710902714,
          88.41294960197098,
          88.12431132527927,
          87.83568680708565,
          87.5470905939613,
          87.25853724626432,
          86.97004133346748,
          86.68161742947198,
          86.3932801079065,
          86.10504393742704,
          85.8169234770005,
          85.52893327120094,
          85.24108784550229,
          84.95340170158237,
          84.66588931263679,
          84.37856511871121,
          84.09144352205256,
          83.80453888248277,
          83.51786551280152,
          83.23143767421915,
          82.94526957182643,
          82.65937535010004,
          82.37376908845408,
          82.08846479683471,
          81.80347641136582,
          81.51881779004697,
          81.23450270850806,
          80.95054485582283,
          80.66695783038776,
          80.3837551358628,
          80.10095017718459,
          79.81855625665001,
          79.5365865700744,
          79.25505420302832,
          78.97397212715322,
          78.6933531965598,
          78.41321014431237,
          78.13355557899793,
          77.8544019813882,
          77.57576170118972,
          77.29764695388832,
          77.02006981768979,
          76.74304223055493,
          76.4665759873343,
          76.19068273700222
         ]
        },
        {
         "hoverinfo": "none",
         "legendgroup": "Backward",
         "marker": {
          "color": [
           -5.918240281236024e-15
          ],
          "coloraxis": "coloraxis",
          "symbol": "triangle-down"
         },
         "mode": "markers",
         "name": "Backward",
         "showlegend": false,
         "type": "scatter",
         "x": [
          0.0
         ],
         "y": [
          90.14425648675405
         ]
        },
        {
         "hoverinfo": "none",
         "legendgroup": "Backward",
         "marker": {
          "color": [
           7.941411431116217e-14,
           2.328490137835873e-13,
           1.4796501320445865e-12,
           -1.2676590363525253e-12,
           -3.584942603702377e-13,
           -1.3036541309869713e-12,
           -1.6976291395416621e-12,
           2.178385760476462e-13,
           3.146397769013182e-14,
           -4.0966059846971807e-13,
           -1.933686626480662e-13,
           -9.318413570798485e-14,
           -2.0418105160941755e-13,
           -5.587894204616495e-13,
           7.393822758044221e-13,
           1.5467741427098983e-13,
           -4.602183257848799e-14,
           4.0060371182525766e-13,
           6.143215475208731e-13,
           8.176255646958955e-14,
           -3.574997034510461e-13,
           4.0278710286006445e-13,
           -4.820665924231389e-13,
           1.0444652004287394e-12,
           -3.9665191717124333e-13,
           -4.210721893301314e-13,
           -2.4006408023175654e-13,
           1.838073341542672e-13,
           -5.524300684888451e-13,
           2.6123905731703887e-13,
           4.382513392641313e-13,
           -6.331363530207398e-13,
           2.3491243511442585e-13,
           -1.1067262464385998e-14,
           -3.9861646350266054e-13,
           6.182328420969531e-13,
           8.548132558565954e-13,
           1.8379221968658268e-12,
           5.777879694279249e-13,
           4.7174820730161783e-14,
           -6.583200912793254e-13,
           4.921292799690677e-13,
           2.6014704007731e-13,
           3.7457308452286323e-13,
           -5.760124863025337e-14,
           -6.915528408754553e-13,
           5.921734124721497e-15,
           -7.199850525815639e-13,
           -1.550081606073347e-14,
           3.676092429879325e-13
          ],
          "coloraxis": "coloraxis",
          "symbol": "triangle-down"
         },
         "mode": "markers",
         "name": "Backward",
         "showlegend": false,
         "type": "scatter",
         "x": [
          0.0,
          8.548551438339572,
          17.097102876679145,
          25.645654315018717,
          34.19420575335829,
          42.74275719169786,
          51.291308630037435,
          59.83986006837701,
          68.38841150671658,
          76.93696294505615,
          85.48551438339572,
          94.0340658217353,
          102.58261726007487,
          111.13116869841444,
          119.67972013675401,
          128.22827157509357,
          136.77682301343316,
          145.32537445177275,
          153.8739258901123,
          162.42247732845186,
          170.97102876679145,
          179.51958020513104,
          188.0681316434706,
          196.61668308181015,
          205.16523452014974,
          213.71378595848932,
          222.26233739682888,
          230.81088883516844,
          239.35944027350803,
          247.90799171184761,
          256.45654315018714,
          265.00509458852673,
          273.5536460268663,
          282.1021974652059,
          290.6507489035455,
          299.199300341885,
          307.7478517802246,
          316.2964032185642,
          324.8449546569037,
          333.3935060952433,
          341.9420575335829,
          350.4906089719225,
          359.03916041026207,
          367.5877118486016,
          376.1362632869412,
          384.6848147252808,
          393.2333661636203,
          401.7819176019599,
          410.3304690402995,
          418.87902047863906
         ],
         "y": [
          686.8579275097296,
          686.364666933548,
          685.8368757261858,
          685.2712440115988,
          684.6641044085776,
          684.0113989328923,
          683.3086466787992,
          682.550914265484,
          681.7327918519172,
          680.8483784976319,
          679.8912817973637,
          678.8546379196375,
          677.7311592653716,
          676.5132176774475,
          675.1929710199802,
          673.7625395110014,
          672.2142348796871,
          670.540839867328,
          668.7359278190708,
          666.7942029531287,
          664.7118329880038,
          662.4867395693749,
          660.1188109349855,
          657.6100070656804,
          654.9643401190393,
          652.187729807699,
          649.2877506508914,
          646.2733015294546,
          643.154234878091,
          639.9409824475902,
          636.6442083108271,
          633.2745102175932,
          629.8421802331435,
          626.3570268244858,
          622.8282542040008,
          619.2643909687771,
          615.6732584971351,
          612.0619695496341,
          608.4369484770574,
          604.8039658328072,
          601.1681816817144,
          597.5341933201798,
          593.9060843078513,
          590.2874726976492,
          586.681557088452,
          583.0911596909643,
          579.5187659910266,
          575.9665608662685,
          572.4364612053901,
          568.9301451802619
         ]
        },
        {
         "hoverinfo": "none",
         "legendgroup": "Backward",
         "marker": {
          "color": [
           1.3397279634669935e-13
          ],
          "coloraxis": "coloraxis",
          "symbol": "triangle-down"
         },
         "mode": "markers",
         "name": "Backward",
         "showlegend": false,
         "type": "scatter",
         "x": [
          0.0
         ],
         "y": [
          686.8579275098756
         ]
        },
        {
         "hoverinfo": "none",
         "legendgroup": "Backward",
         "marker": {
          "color": [
           -1.3668695728325012e-12,
           9.816887647131309e-14,
           1.866769544007021e-11,
           -1.0570729125105305e-12,
           -2.023752547604326e-12,
           5.249343366576576e-12,
           -4.2039581922918977e-13,
           -2.843029699316487e-12,
           -5.379071546335135e-12,
           1.9100101349590465e-12,
           3.4457097408908737e-13,
           -2.6263893839938194e-12,
           3.7505112823201866e-13,
           -1.4547857470076526e-12,
           -6.143404101934124e-13,
           -1.3705144051900091e-12,
           6.042738768167244e-13,
           -5.095754374590899e-13,
           1.1153892806888443e-12,
           -6.96330464417537e-13,
           1.2272974720198167e-12,
           1.82371459967664e-12,
           1.4624040319209847e-12,
           5.929572835920511e-13,
           -1.4646179521280166e-14,
           -1.1527764858195483e-12,
           -1.0386889210537403e-12,
           5.288360427492188e-13,
           3.597463857505055e-14,
           7.944667339671019e-14,
           -1.529717656599585e-12,
           -4.8548363809691576e-14,
           -4.932796458569456e-13,
           -1.9603486927703882e-15,
           -1.9747611291695972e-13,
           -3.891929522179203e-13,
           3.7045018480783925e-12,
           -2.2262236396271393e-13,
           -3.273842355270161e-13,
           -4.5167773274291207e-13,
           -2.100651769135788e-13,
           -7.954220622044166e-13,
           -5.8088121002094e-13,
           4.2029671728856165e-13,
           1.9942702462673954e-12,
           -4.569488920376268e-13,
           2.857295312504421e-13,
           2.5895198246858608e-14,
           -7.25659642441758e-16
          ],
          "coloraxis": "coloraxis",
          "symbol": "triangle-down"
         },
         "mode": "markers",
         "name": "Backward",
         "showlegend": false,
         "type": "scatter",
         "x": [
          8.548551438339572,
          17.097102876679145,
          25.645654315018717,
          34.19420575335829,
          42.74275719169786,
          51.291308630037435,
          59.83986006837701,
          68.38841150671658,
          76.93696294505615,
          85.48551438339572,
          94.0340658217353,
          102.58261726007487,
          111.13116869841444,
          119.67972013675401,
          128.22827157509357,
          136.77682301343316,
          145.32537445177275,
          153.8739258901123,
          162.42247732845186,
          170.97102876679145,
          179.51958020513104,
          188.0681316434706,
          196.61668308181015,
          205.16523452014974,
          213.71378595848932,
          222.26233739682888,
          230.81088883516844,
          239.35944027350803,
          247.90799171184761,
          256.45654315018714,
          265.00509458852673,
          273.5536460268663,
          282.1021974652059,
          290.6507489035455,
          299.199300341885,
          307.7478517802246,
          316.2964032185642,
          324.8449546569037,
          333.3935060952433,
          341.9420575335829,
          350.4906089719225,
          359.03916041026207,
          367.5877118486016,
          376.1362632869412,
          384.6848147252808,
          393.2333661636203,
          401.7819176019599,
          410.3304690402995,
          418.87902047863906
         ],
         "y": [
          836.3858687169792,
          830.5852223342708,
          824.8744733852511,
          819.257634084491,
          813.7390790254465,
          808.3235780131408,
          803.0163261512265,
          797.8229683398929,
          792.7496144450455,
          787.8028401796345,
          782.9896675965791,
          778.317517955801,
          773.794129038358,
          769.4274291028246,
          765.225361081548,
          761.1956539554538,
          757.3455437898053,
          753.6814546810646,
          750.2086590233495,
          746.9309454254266,
          743.8503288201875,
          740.9668383458877,
          738.2784127380496,
          735.7809204352474,
          733.4683047486526,
          731.3328371507558,
          729.3654482625936,
          727.5560992036861,
          725.8941563676514,
          724.3687389526343,
          722.9690181444815,
          721.6844570063448,
          720.5049889222465,
          719.4211387782336,
          718.4240948425603,
          717.5057408859517,
          716.6586580893501,
          715.876105340987,
          715.1519851250035,
          714.4808007025117,
          713.8576088789171,
          713.2779714498878,
          712.7379074435004,
          712.2338475313641,
          711.7625914167644,
          711.3212686206263,
          710.9073028011786,
          710.5183795659525,
          710.1524176199232
         ]
        },
        {
         "hoverinfo": "none",
         "line": {
          "color": "blue",
          "dash": "dashdot"
         },
         "mode": "lines",
         "name": "1x speed",
         "type": "scatter",
         "x": [
          0.0,
          8.548551438339572,
          17.097102876679145,
          25.645654315018717,
          34.19420575335829,
          42.74275719169786,
          51.291308630037435,
          59.83986006837701,
          68.38841150671658,
          76.93696294505615,
          85.48551438339572,
          94.0340658217353,
          102.58261726007487,
          111.13116869841444,
          119.67972013675401,
          128.22827157509357,
          136.77682301343316,
          145.32537445177275,
          153.8739258901123,
          162.42247732845186,
          170.97102876679145,
          179.51958020513104,
          188.0681316434706,
          196.61668308181015,
          205.16523452014974,
          213.71378595848932,
          222.26233739682888,
          230.81088883516844,
          239.35944027350803,
          247.90799171184761,
          256.45654315018714,
          265.00509458852673,
          273.5536460268663,
          282.1021974652059,
          290.6507489035455,
          299.199300341885,
          307.7478517802246,
          316.2964032185642,
          324.8449546569037,
          333.3935060952433,
          341.9420575335829,
          350.4906089719225,
          359.03916041026207,
          367.5877118486016,
          376.1362632869412,
          384.6848147252808,
          393.2333661636203,
          401.7819176019599,
          410.3304690402995,
          418.87902047863906
         ],
         "y": [
          0.0,
          8.548551438339572,
          17.097102876679145,
          25.645654315018717,
          34.19420575335829,
          42.74275719169786,
          51.291308630037435,
          59.83986006837701,
          68.38841150671658,
          76.93696294505615,
          85.48551438339572,
          94.0340658217353,
          102.58261726007487,
          111.13116869841444,
          119.67972013675401,
          128.22827157509357,
          136.77682301343316,
          145.32537445177275,
          153.8739258901123,
          162.42247732845186,
          170.97102876679145,
          179.51958020513104,
          188.0681316434706,
          196.61668308181015,
          205.16523452014974,
          213.71378595848932,
          222.26233739682888,
          230.81088883516844,
          239.35944027350803,
          247.90799171184761,
          256.45654315018714,
          265.00509458852673,
          273.5536460268663,
          282.1021974652059,
          290.6507489035455,
          299.199300341885,
          307.7478517802246,
          316.2964032185642,
          324.8449546569037,
          333.3935060952433,
          341.9420575335829,
          350.4906089719225,
          359.03916041026207,
          367.5877118486016,
          376.1362632869412,
          384.6848147252808,
          393.2333661636203,
          401.7819176019599,
          410.3304690402995,
          418.87902047863906
         ]
        },
        {
         "hoverinfo": "none",
         "legendgroup": "Forward",
         "marker": {
          "color": "black",
          "symbol": "triangle-up"
         },
         "mode": "markers",
         "name": "Forward",
         "type": "scatter",
         "x": [
          0
         ],
         "y": [
          0
         ]
        },
        {
         "hoverinfo": "none",
         "legendgroup": "Mixed",
         "marker": {
          "color": "black",
          "symbol": "circle"
         },
         "mode": "markers",
         "name": "Mixed",
         "type": "scatter",
         "x": [
          0
         ],
         "y": [
          0
         ]
        },
        {
         "hoverinfo": "none",
         "legendgroup": "Backward",
         "marker": {
          "color": "black",
          "symbol": "triangle-down"
         },
         "mode": "markers",
         "name": "Backward",
         "type": "scatter",
         "x": [
          0
         ],
         "y": [
          0
         ]
        }
       ],
       "layout": {
        "coloraxis": {
         "cmax": 1.0,
         "cmin": 0.0,
         "colorbar": {
          "title": {
           "side": "right",
           "text": "<b>Log Dec</b>"
          }
         },
         "colorscale": [
          [
           0.0,
           "rgb(103,0,31)"
          ],
          [
           0.1,
           "rgb(178,24,43)"
          ],
          [
           0.2,
           "rgb(214,96,77)"
          ],
          [
           0.3,
           "rgb(244,165,130)"
          ],
          [
           0.4,
           "rgb(253,219,199)"
          ],
          [
           0.5,
           "rgb(247,247,247)"
          ],
          [
           0.6,
           "rgb(209,229,240)"
          ],
          [
           0.7,
           "rgb(146,197,222)"
          ],
          [
           0.8,
           "rgb(67,147,195)"
          ],
          [
           0.9,
           "rgb(33,102,172)"
          ],
          [
           1.0,
           "rgb(5,48,97)"
          ]
         ]
        },
        "legend": {
         "itemsizing": "constant",
         "orientation": "h",
         "x": 0.5,
         "xanchor": "center",
         "y": -0.3,
         "yanchor": "bottom"
        },
        "template": {
         "data": {
          "bar": [
           {
            "error_x": {
             "color": "#2a3f5f"
            },
            "error_y": {
             "color": "#2a3f5f"
            },
            "marker": {
             "line": {
              "color": "white",
              "width": 0.5
             }
            },
            "type": "bar"
           }
          ],
          "barpolar": [
           {
            "marker": {
             "line": {
              "color": "white",
              "width": 0.5
             }
            },
            "type": "barpolar"
           }
          ],
          "carpet": [
           {
            "aaxis": {
             "endlinecolor": "#2a3f5f",
             "gridcolor": "#C8D4E3",
             "linecolor": "#C8D4E3",
             "minorgridcolor": "#C8D4E3",
             "startlinecolor": "#2a3f5f"
            },
            "baxis": {
             "endlinecolor": "#2a3f5f",
             "gridcolor": "#C8D4E3",
             "linecolor": "#C8D4E3",
             "minorgridcolor": "#C8D4E3",
             "startlinecolor": "#2a3f5f"
            },
            "type": "carpet"
           }
          ],
          "choropleth": [
           {
            "colorbar": {
             "outlinewidth": 0,
             "ticks": ""
            },
            "type": "choropleth"
           }
          ],
          "contour": [
           {
            "colorbar": {
             "outlinewidth": 0,
             "ticks": ""
            },
            "colorscale": [
             [
              0.0,
              "#0d0887"
             ],
             [
              0.1111111111111111,
              "#46039f"
             ],
             [
              0.2222222222222222,
              "#7201a8"
             ],
             [
              0.3333333333333333,
              "#9c179e"
             ],
             [
              0.4444444444444444,
              "#bd3786"
             ],
             [
              0.5555555555555556,
              "#d8576b"
             ],
             [
              0.6666666666666666,
              "#ed7953"
             ],
             [
              0.7777777777777778,
              "#fb9f3a"
             ],
             [
              0.8888888888888888,
              "#fdca26"
             ],
             [
              1.0,
              "#f0f921"
             ]
            ],
            "type": "contour"
           }
          ],
          "contourcarpet": [
           {
            "colorbar": {
             "outlinewidth": 0,
             "ticks": ""
            },
            "type": "contourcarpet"
           }
          ],
          "heatmap": [
           {
            "colorbar": {
             "outlinewidth": 0,
             "ticks": ""
            },
            "colorscale": [
             [
              0.0,
              "#0d0887"
             ],
             [
              0.1111111111111111,
              "#46039f"
             ],
             [
              0.2222222222222222,
              "#7201a8"
             ],
             [
              0.3333333333333333,
              "#9c179e"
             ],
             [
              0.4444444444444444,
              "#bd3786"
             ],
             [
              0.5555555555555556,
              "#d8576b"
             ],
             [
              0.6666666666666666,
              "#ed7953"
             ],
             [
              0.7777777777777778,
              "#fb9f3a"
             ],
             [
              0.8888888888888888,
              "#fdca26"
             ],
             [
              1.0,
              "#f0f921"
             ]
            ],
            "type": "heatmap"
           }
          ],
          "heatmapgl": [
           {
            "colorbar": {
             "outlinewidth": 0,
             "ticks": ""
            },
            "colorscale": [
             [
              0.0,
              "#0d0887"
             ],
             [
              0.1111111111111111,
              "#46039f"
             ],
             [
              0.2222222222222222,
              "#7201a8"
             ],
             [
              0.3333333333333333,
              "#9c179e"
             ],
             [
              0.4444444444444444,
              "#bd3786"
             ],
             [
              0.5555555555555556,
              "#d8576b"
             ],
             [
              0.6666666666666666,
              "#ed7953"
             ],
             [
              0.7777777777777778,
              "#fb9f3a"
             ],
             [
              0.8888888888888888,
              "#fdca26"
             ],
             [
              1.0,
              "#f0f921"
             ]
            ],
            "type": "heatmapgl"
           }
          ],
          "histogram": [
           {
            "marker": {
             "colorbar": {
              "outlinewidth": 0,
              "ticks": ""
             }
            },
            "type": "histogram"
           }
          ],
          "histogram2d": [
           {
            "colorbar": {
             "outlinewidth": 0,
             "ticks": ""
            },
            "colorscale": [
             [
              0.0,
              "#0d0887"
             ],
             [
              0.1111111111111111,
              "#46039f"
             ],
             [
              0.2222222222222222,
              "#7201a8"
             ],
             [
              0.3333333333333333,
              "#9c179e"
             ],
             [
              0.4444444444444444,
              "#bd3786"
             ],
             [
              0.5555555555555556,
              "#d8576b"
             ],
             [
              0.6666666666666666,
              "#ed7953"
             ],
             [
              0.7777777777777778,
              "#fb9f3a"
             ],
             [
              0.8888888888888888,
              "#fdca26"
             ],
             [
              1.0,
              "#f0f921"
             ]
            ],
            "type": "histogram2d"
           }
          ],
          "histogram2dcontour": [
           {
            "colorbar": {
             "outlinewidth": 0,
             "ticks": ""
            },
            "colorscale": [
             [
              0.0,
              "#0d0887"
             ],
             [
              0.1111111111111111,
              "#46039f"
             ],
             [
              0.2222222222222222,
              "#7201a8"
             ],
             [
              0.3333333333333333,
              "#9c179e"
             ],
             [
              0.4444444444444444,
              "#bd3786"
             ],
             [
              0.5555555555555556,
              "#d8576b"
             ],
             [
              0.6666666666666666,
              "#ed7953"
             ],
             [
              0.7777777777777778,
              "#fb9f3a"
             ],
             [
              0.8888888888888888,
              "#fdca26"
             ],
             [
              1.0,
              "#f0f921"
             ]
            ],
            "type": "histogram2dcontour"
           }
          ],
          "mesh3d": [
           {
            "colorbar": {
             "outlinewidth": 0,
             "ticks": ""
            },
            "type": "mesh3d"
           }
          ],
          "parcoords": [
           {
            "line": {
             "colorbar": {
              "outlinewidth": 0,
              "ticks": ""
             }
            },
            "type": "parcoords"
           }
          ],
          "pie": [
           {
            "automargin": true,
            "type": "pie"
           }
          ],
          "scatter": [
           {
            "marker": {
             "colorbar": {
              "outlinewidth": 0,
              "ticks": ""
             }
            },
            "type": "scatter"
           }
          ],
          "scatter3d": [
           {
            "line": {
             "colorbar": {
              "outlinewidth": 0,
              "ticks": ""
             }
            },
            "marker": {
             "colorbar": {
              "outlinewidth": 0,
              "ticks": ""
             },
             "size": 4
            },
            "type": "scatter3d"
           }
          ],
          "scattercarpet": [
           {
            "marker": {
             "colorbar": {
              "outlinewidth": 0,
              "ticks": ""
             }
            },
            "type": "scattercarpet"
           }
          ],
          "scattergeo": [
           {
            "marker": {
             "colorbar": {
              "outlinewidth": 0,
              "ticks": ""
             }
            },
            "type": "scattergeo"
           }
          ],
          "scattergl": [
           {
            "marker": {
             "colorbar": {
              "outlinewidth": 0,
              "ticks": ""
             }
            },
            "type": "scattergl"
           }
          ],
          "scattermapbox": [
           {
            "marker": {
             "colorbar": {
              "outlinewidth": 0,
              "ticks": ""
             }
            },
            "type": "scattermapbox"
           }
          ],
          "scatterpolar": [
           {
            "marker": {
             "colorbar": {
              "outlinewidth": 0,
              "ticks": ""
             }
            },
            "type": "scatterpolar"
           }
          ],
          "scatterpolargl": [
           {
            "marker": {
             "colorbar": {
              "outlinewidth": 0,
              "ticks": ""
             }
            },
            "type": "scatterpolargl"
           }
          ],
          "scatterternary": [
           {
            "marker": {
             "colorbar": {
              "outlinewidth": 0,
              "ticks": ""
             }
            },
            "type": "scatterternary"
           }
          ],
          "surface": [
           {
            "colorbar": {
             "outlinewidth": 0,
             "ticks": ""
            },
            "colorscale": [
             [
              0.0,
              "#0d0887"
             ],
             [
              0.1111111111111111,
              "#46039f"
             ],
             [
              0.2222222222222222,
              "#7201a8"
             ],
             [
              0.3333333333333333,
              "#9c179e"
             ],
             [
              0.4444444444444444,
              "#bd3786"
             ],
             [
              0.5555555555555556,
              "#d8576b"
             ],
             [
              0.6666666666666666,
              "#ed7953"
             ],
             [
              0.7777777777777778,
              "#fb9f3a"
             ],
             [
              0.8888888888888888,
              "#fdca26"
             ],
             [
              1.0,
              "#f0f921"
             ]
            ],
            "type": "surface"
           }
          ],
          "table": [
           {
            "cells": {
             "fill": {
              "color": "#EBF0F8"
             },
             "line": {
              "color": "white"
             }
            },
            "header": {
             "fill": {
              "color": "#C8D4E3"
             },
             "line": {
              "color": "white"
             }
            },
            "type": "table"
           }
          ]
         },
         "layout": {
          "annotationdefaults": {
           "arrowcolor": "#2a3f5f",
           "arrowhead": 0,
           "arrowwidth": 1
          },
          "coloraxis": {
           "colorbar": {
            "outlinewidth": 0,
            "ticks": ""
           }
          },
          "colorscale": {
           "diverging": [
            [
             0,
             "#8e0152"
            ],
            [
             0.1,
             "#c51b7d"
            ],
            [
             0.2,
             "#de77ae"
            ],
            [
             0.3,
             "#f1b6da"
            ],
            [
             0.4,
             "#fde0ef"
            ],
            [
             0.5,
             "#f7f7f7"
            ],
            [
             0.6,
             "#e6f5d0"
            ],
            [
             0.7,
             "#b8e186"
            ],
            [
             0.8,
             "#7fbc41"
            ],
            [
             0.9,
             "#4d9221"
            ],
            [
             1,
             "#276419"
            ]
           ],
           "sequential": [
            [
             0.0,
             "#0d0887"
            ],
            [
             0.1111111111111111,
             "#46039f"
            ],
            [
             0.2222222222222222,
             "#7201a8"
            ],
            [
             0.3333333333333333,
             "#9c179e"
            ],
            [
             0.4444444444444444,
             "#bd3786"
            ],
            [
             0.5555555555555556,
             "#d8576b"
            ],
            [
             0.6666666666666666,
             "#ed7953"
            ],
            [
             0.7777777777777778,
             "#fb9f3a"
            ],
            [
             0.8888888888888888,
             "#fdca26"
            ],
            [
             1.0,
             "#f0f921"
            ]
           ],
           "sequentialminus": [
            [
             0.0,
             "#0d0887"
            ],
            [
             0.1111111111111111,
             "#46039f"
            ],
            [
             0.2222222222222222,
             "#7201a8"
            ],
            [
             0.3333333333333333,
             "#9c179e"
            ],
            [
             0.4444444444444444,
             "#bd3786"
            ],
            [
             0.5555555555555556,
             "#d8576b"
            ],
            [
             0.6666666666666666,
             "#ed7953"
            ],
            [
             0.7777777777777778,
             "#fb9f3a"
            ],
            [
             0.8888888888888888,
             "#fdca26"
            ],
            [
             1.0,
             "#f0f921"
            ]
           ]
          },
          "colorway": [
           "#1f77b4",
           "#ff7f0e",
           "#2ca02c",
           "#d62728",
           "#9467bd",
           "#8c564b",
           "#e377c2",
           "#7f7f7f",
           "#bcbd22",
           "#17becf"
          ],
          "font": {
           "color": "#2a3f5f"
          },
          "geo": {
           "bgcolor": "white",
           "lakecolor": "white",
           "landcolor": "white",
           "showlakes": true,
           "showland": true,
           "subunitcolor": "#C8D4E3"
          },
          "hoverlabel": {
           "align": "left"
          },
          "hovermode": "closest",
          "mapbox": {
           "style": "light"
          },
          "paper_bgcolor": "white",
          "plot_bgcolor": "white",
          "polar": {
           "angularaxis": {
            "gridcolor": "#EBF0F8",
            "linecolor": "#EBF0F8",
            "ticks": ""
           },
           "bgcolor": "white",
           "radialaxis": {
            "gridcolor": "#EBF0F8",
            "linecolor": "#EBF0F8",
            "ticks": ""
           }
          },
          "scene": {
           "camera": {
            "center": {
             "x": 0,
             "y": 0,
             "z": 0
            },
            "eye": {
             "x": 2.0,
             "y": 2.0,
             "z": 2.0
            },
            "up": {
             "x": 0,
             "y": 0,
             "z": 1
            }
           },
           "xaxis": {
            "backgroundcolor": "white",
            "gridcolor": "#DFE8F3",
            "gridwidth": 2,
            "linecolor": "#EBF0F8",
            "showbackground": true,
            "showspikes": false,
            "ticks": "",
            "zerolinecolor": "#EBF0F8"
           },
           "yaxis": {
            "backgroundcolor": "white",
            "gridcolor": "#DFE8F3",
            "gridwidth": 2,
            "linecolor": "#EBF0F8",
            "showbackground": true,
            "showspikes": false,
            "ticks": "",
            "zerolinecolor": "#EBF0F8"
           },
           "zaxis": {
            "backgroundcolor": "white",
            "gridcolor": "#DFE8F3",
            "gridwidth": 2,
            "linecolor": "#EBF0F8",
            "showbackground": true,
            "showspikes": false,
            "ticks": "",
            "zerolinecolor": "#EBF0F8"
           }
          },
          "shapedefaults": {
           "line": {
            "color": "#2a3f5f"
           }
          },
          "ternary": {
           "aaxis": {
            "gridcolor": "#DFE8F3",
            "linecolor": "#A2B1C6",
            "ticks": ""
           },
           "baxis": {
            "gridcolor": "#DFE8F3",
            "linecolor": "#A2B1C6",
            "ticks": ""
           },
           "bgcolor": "white",
           "caxis": {
            "gridcolor": "#DFE8F3",
            "linecolor": "#A2B1C6",
            "ticks": ""
           }
          },
          "title": {
           "x": 0.05
          },
          "xaxis": {
           "automargin": true,
           "gridcolor": "#EBF0F8",
           "linecolor": "black",
           "linewidth": 2.0,
           "mirror": true,
           "showline": true,
           "ticks": "",
           "title": {
            "standoff": 15
           },
           "zeroline": false,
           "zerolinecolor": "#EBF0F8",
           "zerolinewidth": 2
          },
          "yaxis": {
           "automargin": true,
           "gridcolor": "#EBF0F8",
           "linecolor": "black",
           "linewidth": 2.0,
           "mirror": true,
           "showline": true,
           "ticks": "",
           "title": {
            "standoff": 15
           },
           "zeroline": false,
           "zerolinecolor": "#EBF0F8",
           "zerolinewidth": 2
          }
         }
        },
        "xaxis": {
         "exponentformat": "none",
         "range": [
          0.0,
          418.87902047863906
         ],
         "title": {
          "text": "Frequency (rad/s)"
         }
        },
        "yaxis": {
         "range": [
          0,
          1311.450100772537
         ],
         "title": {
          "text": "Natural Frequencies (rad/s)"
         }
        }
       }
      }
     },
     "metadata": {},
     "output_type": "display_data"
    }
   ],
   "source": [
    "overhung_from_section_rotor.run_campbell(np.linspace(0, 4000 * np.pi / 30, 50)).plot()"
   ]
  },
  {
   "cell_type": "markdown",
   "metadata": {},
   "source": [
    "## References\n",
    "\n",
    "```{bibliography}\n",
    ":filter: docname in docnames\n",
    "```"
   ]
  }
 ],
 "metadata": {
  "kernelspec": {
   "display_name": "Python 3 (ipykernel)",
   "language": "python",
   "name": "python3"
  },
  "language_info": {
   "codemirror_mode": {
    "name": "ipython",
    "version": 3
   },
   "file_extension": ".py",
   "mimetype": "text/x-python",
   "name": "python",
   "nbconvert_exporter": "python",
   "pygments_lexer": "ipython3",
   "version": "3.10.9"
  }
 },
 "nbformat": 4,
 "nbformat_minor": 2
}
