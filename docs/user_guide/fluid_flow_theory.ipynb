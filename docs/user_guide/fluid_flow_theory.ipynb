{
 "cells": [
  {
   "cell_type": "markdown",
   "metadata": {},
   "source": [
    "# Fluid-flow theory\n",
    "\n",
    "The FluidFlow code is responsible for providing Ross with simulations of thin thickness fluid in hydrodynamic bearings. It returns relevant information for the stability analysis of rotating machines, such as pressure field, fluid forces and dynamic coefficients. In this section, the main theoretical foundations of the modeling described in the code are synthesized and some examples are provided."
   ]
  },
  {
   "cell_type": "code",
   "execution_count": 1,
   "metadata": {
    "execution": {
     "iopub.execute_input": "2023-05-04T00:58:15.229595Z",
     "iopub.status.busy": "2023-05-04T00:58:15.229188Z",
     "iopub.status.idle": "2023-05-04T00:58:17.032353Z",
     "shell.execute_reply": "2023-05-04T00:58:17.031872Z"
    }
   },
   "outputs": [],
   "source": [
    "import ross\n",
    "from ross.fluid_flow.fluid_flow import fluid_flow_example2\n",
    "\n",
    "my_fluid_flow = fluid_flow_example2()"
   ]
  },
  {
   "cell_type": "markdown",
   "metadata": {},
   "source": [
    "**PROBLEM DESCRIPTION**\n",
    "\n",
    "Fluid flow occurs in the annular space between the shaft and the bearing, both of $ L $ length. These structures are called rotor and stator, respectively. The stator is fixed with radius $R_{o}$ and the rotor, with radius $R_{i} $, is a rigid body with rotation speed $\\omega$, as shown in the figure below.\n",
    "\n",
    "<img src=\"https://docs.google.com/uc?id=1ZVqsNZEBQ8PhKZ5v4IlXHpwUTkgO4sM8\" width=\"350\"/>\n",
    "\n",
    "Due to the rotation of the rotor, a pressure field is set in the lubricating oil film, developing fluid forces that act on the rotor surface. For a constant speed of rotation, these forces displace the rotor to a location inside the stator called the _equilibrium position_. In this position, the stator and rotor are eccentric, with a distance between centers $e$ and an attitude angle $\\beta$, formed between the axis connecting both centers and the vertical axis.\n",
    "\n",
    "Based on the eccentricity and attitude angle, the cosine law can be used to describe the position of the rotor surface $R_{\\theta}$ with respect to the center of the stator:\n",
    "\n",
    "$$ R_{\\theta} = \\sqrt{R_i ^2 - e^2 \\sin^2{\\alpha}} + e \\cos{\\alpha},$$\n",
    "\n",
    "where $\\alpha =\\begin{cases} \n",
    "\\dfrac{3\\pi}{2} - \\theta + \\beta \\text{,} \n",
    "&\\mbox{se } \\dfrac{\\pi}{2} + \\beta \\leq \\theta < \\dfrac{3\\pi}{2} + \\beta \\\\ \\\\\n",
    "- \\left(\\dfrac{3\\pi}{2} - \\theta + \\beta\\right) \\text{,} \n",
    "& \\mbox{se } \\dfrac{3\\pi}{2} + \\beta \\leq \\theta < \\dfrac{5\\pi}{2} + \\beta \n",
    "\\end{cases}$."
   ]
  },
  {
   "cell_type": "code",
   "execution_count": 2,
   "metadata": {
    "execution": {
     "iopub.execute_input": "2023-05-04T00:58:17.034587Z",
     "iopub.status.busy": "2023-05-04T00:58:17.034425Z",
     "iopub.status.idle": "2023-05-04T00:58:17.114439Z",
     "shell.execute_reply": "2023-05-04T00:58:17.113944Z"
    }
   },
   "outputs": [
    {
     "data": {
      "application/vnd.plotly.v1+json": {
       "config": {
        "plotlyServerURL": "https://plot.ly"
       },
       "data": [
        {
         "customdata": [
          [
           62.16757674048748,
           2.5405559628908923E-5,
           0.0499,
           0.05,
           0.4,
           "cylindrical"
          ],
          [
           62.16757674048748,
           2.5405559628908923E-5,
           0.0499,
           0.05,
           0.4,
           "cylindrical"
          ],
          [
           62.16757674048748,
           2.5405559628908923E-5,
           0.0499,
           0.05,
           0.4,
           "cylindrical"
          ],
          [
           62.16757674048748,
           2.5405559628908923E-5,
           0.0499,
           0.05,
           0.4,
           "cylindrical"
          ],
          [
           62.16757674048748,
           2.5405559628908923E-5,
           0.0499,
           0.05,
           0.4,
           "cylindrical"
          ],
          [
           62.16757674048748,
           2.5405559628908923E-5,
           0.0499,
           0.05,
           0.4,
           "cylindrical"
          ],
          [
           62.16757674048748,
           2.5405559628908923E-5,
           0.0499,
           0.05,
           0.4,
           "cylindrical"
          ],
          [
           62.16757674048748,
           2.5405559628908923E-5,
           0.0499,
           0.05,
           0.4,
           "cylindrical"
          ],
          [
           62.16757674048748,
           2.5405559628908923E-5,
           0.0499,
           0.05,
           0.4,
           "cylindrical"
          ],
          [
           62.16757674048748,
           2.5405559628908923E-5,
           0.0499,
           0.05,
           0.4,
           "cylindrical"
          ],
          [
           62.16757674048748,
           2.5405559628908923E-5,
           0.0499,
           0.05,
           0.4,
           "cylindrical"
          ],
          [
           62.16757674048748,
           2.5405559628908923E-5,
           0.0499,
           0.05,
           0.4,
           "cylindrical"
          ],
          [
           62.16757674048748,
           2.5405559628908923E-5,
           0.0499,
           0.05,
           0.4,
           "cylindrical"
          ],
          [
           62.16757674048748,
           2.5405559628908923E-5,
           0.0499,
           0.05,
           0.4,
           "cylindrical"
          ],
          [
           62.16757674048748,
           2.5405559628908923E-5,
           0.0499,
           0.05,
           0.4,
           "cylindrical"
          ],
          [
           62.16757674048748,
           2.5405559628908923E-5,
           0.0499,
           0.05,
           0.4,
           "cylindrical"
          ]
         ],
         "hovertemplate": "Stator radius: 5.00e-02<br>Ellipticity ratio: 0.40<br>Shape Geometry: cylindrical<br>",
         "legendgroup": "Stator",
         "line": {
          "color": "#d62728"
         },
         "marker": {
          "color": "#d62728"
         },
         "mode": "markers+lines",
         "name": "Stator",
         "type": "scatter",
         "x": [
          -0.04421584544143725,
          -0.04988819023084324,
          -0.04693441370935639,
          -0.03586525067175904,
          -0.01859465996744103,
          0.001891116372430085,
          0.022049901511255188,
          0.03839605836171764,
          0.04810318790419959,
          0.0494928392543024,
          0.04232472906900718,
          0.027838288719588086,
          0.008538355347638705,
          -0.012237937232440503,
          -0.030898179286861355,
          -0.04421584544143726
         ],
         "y": [
          0.023344357174677838,
          0.003341926912904779,
          -0.017238352872562375,
          -0.03483796484084408,
          -0.04641377619516911,
          -0.04996422398942995,
          -0.04487540354519329,
          -0.0320272181477501,
          -0.013641235774418205,
          0.007103440191047106,
          0.02661986681475207,
          0.041533476632288506,
          0.049265571020312454,
          0.048479200615262286,
          0.03931033600412202,
          0.023344357174677827
         ]
        },
        {
         "customdata": [
          [
           62.16757674048748,
           2.5405559628908923E-5,
           0.0499,
           0.05,
           0.4,
           "cylindrical"
          ],
          [
           62.16757674048748,
           2.5405559628908923E-5,
           0.0499,
           0.05,
           0.4,
           "cylindrical"
          ],
          [
           62.16757674048748,
           2.5405559628908923E-5,
           0.0499,
           0.05,
           0.4,
           "cylindrical"
          ],
          [
           62.16757674048748,
           2.5405559628908923E-5,
           0.0499,
           0.05,
           0.4,
           "cylindrical"
          ],
          [
           62.16757674048748,
           2.5405559628908923E-5,
           0.0499,
           0.05,
           0.4,
           "cylindrical"
          ],
          [
           62.16757674048748,
           2.5405559628908923E-5,
           0.0499,
           0.05,
           0.4,
           "cylindrical"
          ],
          [
           62.16757674048748,
           2.5405559628908923E-5,
           0.0499,
           0.05,
           0.4,
           "cylindrical"
          ],
          [
           62.16757674048748,
           2.5405559628908923E-5,
           0.0499,
           0.05,
           0.4,
           "cylindrical"
          ],
          [
           62.16757674048748,
           2.5405559628908923E-5,
           0.0499,
           0.05,
           0.4,
           "cylindrical"
          ],
          [
           62.16757674048748,
           2.5405559628908923E-5,
           0.0499,
           0.05,
           0.4,
           "cylindrical"
          ],
          [
           62.16757674048748,
           2.5405559628908923E-5,
           0.0499,
           0.05,
           0.4,
           "cylindrical"
          ],
          [
           62.16757674048748,
           2.5405559628908923E-5,
           0.0499,
           0.05,
           0.4,
           "cylindrical"
          ],
          [
           62.16757674048748,
           2.5405559628908923E-5,
           0.0499,
           0.05,
           0.4,
           "cylindrical"
          ],
          [
           62.16757674048748,
           2.5405559628908923E-5,
           0.0499,
           0.05,
           0.4,
           "cylindrical"
          ],
          [
           62.16757674048748,
           2.5405559628908923E-5,
           0.0499,
           0.05,
           0.4,
           "cylindrical"
          ],
          [
           62.16757674048748,
           2.5405559628908923E-5,
           0.0499,
           0.05,
           0.4,
           "cylindrical"
          ]
         ],
         "hovertemplate": "Attitude angle: 62.17°<br>Eccentricity: 2.54e-05<br>Rotor radius: 4.99e-02<br>",
         "legendgroup": "Rotor",
         "line": {
          "color": "#1f77b4"
         },
         "marker": {
          "color": "#1f77b4"
         },
         "mode": "markers+lines",
         "name": "Rotor",
         "type": "scatter",
         "x": [
          -0.024800699928275112,
          -0.029045931201883916,
          -0.026840427666448917,
          -0.018562902984004315,
          -0.0056408314421222145,
          0.009693871263865785,
          0.024789159051831135,
          0.0370317723366606,
          0.04430117714741697,
          0.04533865777117065,
          0.039966131714581014,
          0.0291160758077953,
          0.014667963201309616,
          -8.789642952035624E-4,
          -0.014838519440597333,
          -0.02480069992827512
         ],
         "y": [
          0.013093866950355481,
          -0.0018702194557657912,
          -0.017268998763325705,
          -0.030442599312353987,
          -0.03911304412589956,
          -0.041778226536858455,
          -0.03797356151649216,
          -0.028354799228879752,
          -0.014586038017827915,
          9.48626508411942E-4,
          0.015559552320623778,
          0.02671896947316117,
          0.03249898576280679,
          0.031903828882649476,
          0.025039612237578963,
          0.013093866950355477
         ]
        },
        {
         "customdata": [
          [
           62.16757674048748,
           2.5405559628908923E-5,
           0.0499,
           0.05,
           0.4,
           "cylindrical"
          ]
         ],
         "hovertemplate": "Attitude angle: 62.17°<br>Eccentricity: 2.54e-05<br>Rotor radius: 4.99e-02<br>",
         "legendgroup": "Rotor",
         "marker": {
          "color": "#1f77b4",
          "size": 8
         },
         "name": "Rotor",
         "showlegend": false,
         "type": "scatter",
         "x": [
          0.008294860384640664
         ],
         "y": [
          -0.004379384394890878
         ]
        },
        {
         "customdata": [
          [
           62.16757674048748,
           2.5405559628908923E-5,
           0.0499,
           0.05,
           0.4,
           "cylindrical"
          ]
         ],
         "hovertemplate": "Stator radius: 5.00e-02<br>Ellipticity ratio: 0.40<br>Shape Geometry: cylindrical<br>",
         "legendgroup": "Stator",
         "marker": {
          "color": "#d62728",
          "size": 8
         },
         "name": "Stator",
         "showlegend": false,
         "type": "scatter",
         "x": [
          0
         ],
         "y": [
          0
         ]
        }
       ],
       "layout": {
        "template": {
         "data": {
          "bar": [
           {
            "error_x": {
             "color": "#2a3f5f"
            },
            "error_y": {
             "color": "#2a3f5f"
            },
            "marker": {
             "line": {
              "color": "white",
              "width": 0.5
             }
            },
            "type": "bar"
           }
          ],
          "barpolar": [
           {
            "marker": {
             "line": {
              "color": "white",
              "width": 0.5
             }
            },
            "type": "barpolar"
           }
          ],
          "carpet": [
           {
            "aaxis": {
             "endlinecolor": "#2a3f5f",
             "gridcolor": "#C8D4E3",
             "linecolor": "#C8D4E3",
             "minorgridcolor": "#C8D4E3",
             "startlinecolor": "#2a3f5f"
            },
            "baxis": {
             "endlinecolor": "#2a3f5f",
             "gridcolor": "#C8D4E3",
             "linecolor": "#C8D4E3",
             "minorgridcolor": "#C8D4E3",
             "startlinecolor": "#2a3f5f"
            },
            "type": "carpet"
           }
          ],
          "choropleth": [
           {
            "colorbar": {
             "outlinewidth": 0,
             "ticks": ""
            },
            "type": "choropleth"
           }
          ],
          "contour": [
           {
            "colorbar": {
             "outlinewidth": 0,
             "ticks": ""
            },
            "colorscale": [
             [
              0.0,
              "#0d0887"
             ],
             [
              0.1111111111111111,
              "#46039f"
             ],
             [
              0.2222222222222222,
              "#7201a8"
             ],
             [
              0.3333333333333333,
              "#9c179e"
             ],
             [
              0.4444444444444444,
              "#bd3786"
             ],
             [
              0.5555555555555556,
              "#d8576b"
             ],
             [
              0.6666666666666666,
              "#ed7953"
             ],
             [
              0.7777777777777778,
              "#fb9f3a"
             ],
             [
              0.8888888888888888,
              "#fdca26"
             ],
             [
              1.0,
              "#f0f921"
             ]
            ],
            "type": "contour"
           }
          ],
          "contourcarpet": [
           {
            "colorbar": {
             "outlinewidth": 0,
             "ticks": ""
            },
            "type": "contourcarpet"
           }
          ],
          "heatmap": [
           {
            "colorbar": {
             "outlinewidth": 0,
             "ticks": ""
            },
            "colorscale": [
             [
              0.0,
              "#0d0887"
             ],
             [
              0.1111111111111111,
              "#46039f"
             ],
             [
              0.2222222222222222,
              "#7201a8"
             ],
             [
              0.3333333333333333,
              "#9c179e"
             ],
             [
              0.4444444444444444,
              "#bd3786"
             ],
             [
              0.5555555555555556,
              "#d8576b"
             ],
             [
              0.6666666666666666,
              "#ed7953"
             ],
             [
              0.7777777777777778,
              "#fb9f3a"
             ],
             [
              0.8888888888888888,
              "#fdca26"
             ],
             [
              1.0,
              "#f0f921"
             ]
            ],
            "type": "heatmap"
           }
          ],
          "heatmapgl": [
           {
            "colorbar": {
             "outlinewidth": 0,
             "ticks": ""
            },
            "colorscale": [
             [
              0.0,
              "#0d0887"
             ],
             [
              0.1111111111111111,
              "#46039f"
             ],
             [
              0.2222222222222222,
              "#7201a8"
             ],
             [
              0.3333333333333333,
              "#9c179e"
             ],
             [
              0.4444444444444444,
              "#bd3786"
             ],
             [
              0.5555555555555556,
              "#d8576b"
             ],
             [
              0.6666666666666666,
              "#ed7953"
             ],
             [
              0.7777777777777778,
              "#fb9f3a"
             ],
             [
              0.8888888888888888,
              "#fdca26"
             ],
             [
              1.0,
              "#f0f921"
             ]
            ],
            "type": "heatmapgl"
           }
          ],
          "histogram": [
           {
            "marker": {
             "colorbar": {
              "outlinewidth": 0,
              "ticks": ""
             }
            },
            "type": "histogram"
           }
          ],
          "histogram2d": [
           {
            "colorbar": {
             "outlinewidth": 0,
             "ticks": ""
            },
            "colorscale": [
             [
              0.0,
              "#0d0887"
             ],
             [
              0.1111111111111111,
              "#46039f"
             ],
             [
              0.2222222222222222,
              "#7201a8"
             ],
             [
              0.3333333333333333,
              "#9c179e"
             ],
             [
              0.4444444444444444,
              "#bd3786"
             ],
             [
              0.5555555555555556,
              "#d8576b"
             ],
             [
              0.6666666666666666,
              "#ed7953"
             ],
             [
              0.7777777777777778,
              "#fb9f3a"
             ],
             [
              0.8888888888888888,
              "#fdca26"
             ],
             [
              1.0,
              "#f0f921"
             ]
            ],
            "type": "histogram2d"
           }
          ],
          "histogram2dcontour": [
           {
            "colorbar": {
             "outlinewidth": 0,
             "ticks": ""
            },
            "colorscale": [
             [
              0.0,
              "#0d0887"
             ],
             [
              0.1111111111111111,
              "#46039f"
             ],
             [
              0.2222222222222222,
              "#7201a8"
             ],
             [
              0.3333333333333333,
              "#9c179e"
             ],
             [
              0.4444444444444444,
              "#bd3786"
             ],
             [
              0.5555555555555556,
              "#d8576b"
             ],
             [
              0.6666666666666666,
              "#ed7953"
             ],
             [
              0.7777777777777778,
              "#fb9f3a"
             ],
             [
              0.8888888888888888,
              "#fdca26"
             ],
             [
              1.0,
              "#f0f921"
             ]
            ],
            "type": "histogram2dcontour"
           }
          ],
          "mesh3d": [
           {
            "colorbar": {
             "outlinewidth": 0,
             "ticks": ""
            },
            "type": "mesh3d"
           }
          ],
          "parcoords": [
           {
            "line": {
             "colorbar": {
              "outlinewidth": 0,
              "ticks": ""
             }
            },
            "type": "parcoords"
           }
          ],
          "pie": [
           {
            "automargin": true,
            "type": "pie"
           }
          ],
          "scatter": [
           {
            "marker": {
             "colorbar": {
              "outlinewidth": 0,
              "ticks": ""
             }
            },
            "type": "scatter"
           }
          ],
          "scatter3d": [
           {
            "line": {
             "colorbar": {
              "outlinewidth": 0,
              "ticks": ""
             }
            },
            "marker": {
             "colorbar": {
              "outlinewidth": 0,
              "ticks": ""
             },
             "size": 4
            },
            "type": "scatter3d"
           }
          ],
          "scattercarpet": [
           {
            "marker": {
             "colorbar": {
              "outlinewidth": 0,
              "ticks": ""
             }
            },
            "type": "scattercarpet"
           }
          ],
          "scattergeo": [
           {
            "marker": {
             "colorbar": {
              "outlinewidth": 0,
              "ticks": ""
             }
            },
            "type": "scattergeo"
           }
          ],
          "scattergl": [
           {
            "marker": {
             "colorbar": {
              "outlinewidth": 0,
              "ticks": ""
             }
            },
            "type": "scattergl"
           }
          ],
          "scattermapbox": [
           {
            "marker": {
             "colorbar": {
              "outlinewidth": 0,
              "ticks": ""
             }
            },
            "type": "scattermapbox"
           }
          ],
          "scatterpolar": [
           {
            "marker": {
             "colorbar": {
              "outlinewidth": 0,
              "ticks": ""
             }
            },
            "type": "scatterpolar"
           }
          ],
          "scatterpolargl": [
           {
            "marker": {
             "colorbar": {
              "outlinewidth": 0,
              "ticks": ""
             }
            },
            "type": "scatterpolargl"
           }
          ],
          "scatterternary": [
           {
            "marker": {
             "colorbar": {
              "outlinewidth": 0,
              "ticks": ""
             }
            },
            "type": "scatterternary"
           }
          ],
          "surface": [
           {
            "colorbar": {
             "outlinewidth": 0,
             "ticks": ""
            },
            "colorscale": [
             [
              0.0,
              "#0d0887"
             ],
             [
              0.1111111111111111,
              "#46039f"
             ],
             [
              0.2222222222222222,
              "#7201a8"
             ],
             [
              0.3333333333333333,
              "#9c179e"
             ],
             [
              0.4444444444444444,
              "#bd3786"
             ],
             [
              0.5555555555555556,
              "#d8576b"
             ],
             [
              0.6666666666666666,
              "#ed7953"
             ],
             [
              0.7777777777777778,
              "#fb9f3a"
             ],
             [
              0.8888888888888888,
              "#fdca26"
             ],
             [
              1.0,
              "#f0f921"
             ]
            ],
            "type": "surface"
           }
          ],
          "table": [
           {
            "cells": {
             "fill": {
              "color": "#EBF0F8"
             },
             "line": {
              "color": "white"
             }
            },
            "header": {
             "fill": {
              "color": "#C8D4E3"
             },
             "line": {
              "color": "white"
             }
            },
            "type": "table"
           }
          ]
         },
         "layout": {
          "annotationdefaults": {
           "arrowcolor": "#2a3f5f",
           "arrowhead": 0,
           "arrowwidth": 1
          },
          "coloraxis": {
           "colorbar": {
            "outlinewidth": 0,
            "ticks": ""
           }
          },
          "colorscale": {
           "diverging": [
            [
             0,
             "#8e0152"
            ],
            [
             0.1,
             "#c51b7d"
            ],
            [
             0.2,
             "#de77ae"
            ],
            [
             0.3,
             "#f1b6da"
            ],
            [
             0.4,
             "#fde0ef"
            ],
            [
             0.5,
             "#f7f7f7"
            ],
            [
             0.6,
             "#e6f5d0"
            ],
            [
             0.7,
             "#b8e186"
            ],
            [
             0.8,
             "#7fbc41"
            ],
            [
             0.9,
             "#4d9221"
            ],
            [
             1,
             "#276419"
            ]
           ],
           "sequential": [
            [
             0.0,
             "#0d0887"
            ],
            [
             0.1111111111111111,
             "#46039f"
            ],
            [
             0.2222222222222222,
             "#7201a8"
            ],
            [
             0.3333333333333333,
             "#9c179e"
            ],
            [
             0.4444444444444444,
             "#bd3786"
            ],
            [
             0.5555555555555556,
             "#d8576b"
            ],
            [
             0.6666666666666666,
             "#ed7953"
            ],
            [
             0.7777777777777778,
             "#fb9f3a"
            ],
            [
             0.8888888888888888,
             "#fdca26"
            ],
            [
             1.0,
             "#f0f921"
            ]
           ],
           "sequentialminus": [
            [
             0.0,
             "#0d0887"
            ],
            [
             0.1111111111111111,
             "#46039f"
            ],
            [
             0.2222222222222222,
             "#7201a8"
            ],
            [
             0.3333333333333333,
             "#9c179e"
            ],
            [
             0.4444444444444444,
             "#bd3786"
            ],
            [
             0.5555555555555556,
             "#d8576b"
            ],
            [
             0.6666666666666666,
             "#ed7953"
            ],
            [
             0.7777777777777778,
             "#fb9f3a"
            ],
            [
             0.8888888888888888,
             "#fdca26"
            ],
            [
             1.0,
             "#f0f921"
            ]
           ]
          },
          "colorway": [
           "#1f77b4",
           "#ff7f0e",
           "#2ca02c",
           "#d62728",
           "#9467bd",
           "#8c564b",
           "#e377c2",
           "#7f7f7f",
           "#bcbd22",
           "#17becf"
          ],
          "font": {
           "color": "#2a3f5f"
          },
          "geo": {
           "bgcolor": "white",
           "lakecolor": "white",
           "landcolor": "white",
           "showlakes": true,
           "showland": true,
           "subunitcolor": "#C8D4E3"
          },
          "hoverlabel": {
           "align": "left"
          },
          "hovermode": "closest",
          "mapbox": {
           "style": "light"
          },
          "paper_bgcolor": "white",
          "plot_bgcolor": "white",
          "polar": {
           "angularaxis": {
            "gridcolor": "#EBF0F8",
            "linecolor": "#EBF0F8",
            "ticks": ""
           },
           "bgcolor": "white",
           "radialaxis": {
            "gridcolor": "#EBF0F8",
            "linecolor": "#EBF0F8",
            "ticks": ""
           }
          },
          "scene": {
           "camera": {
            "center": {
             "x": 0,
             "y": 0,
             "z": 0
            },
            "eye": {
             "x": 2.0,
             "y": 2.0,
             "z": 2.0
            },
            "up": {
             "x": 0,
             "y": 0,
             "z": 1
            }
           },
           "xaxis": {
            "backgroundcolor": "white",
            "gridcolor": "#DFE8F3",
            "gridwidth": 2,
            "linecolor": "#EBF0F8",
            "showbackground": true,
            "showspikes": false,
            "ticks": "",
            "zerolinecolor": "#EBF0F8"
           },
           "yaxis": {
            "backgroundcolor": "white",
            "gridcolor": "#DFE8F3",
            "gridwidth": 2,
            "linecolor": "#EBF0F8",
            "showbackground": true,
            "showspikes": false,
            "ticks": "",
            "zerolinecolor": "#EBF0F8"
           },
           "zaxis": {
            "backgroundcolor": "white",
            "gridcolor": "#DFE8F3",
            "gridwidth": 2,
            "linecolor": "#EBF0F8",
            "showbackground": true,
            "showspikes": false,
            "ticks": "",
            "zerolinecolor": "#EBF0F8"
           }
          },
          "shapedefaults": {
           "line": {
            "color": "#2a3f5f"
           }
          },
          "ternary": {
           "aaxis": {
            "gridcolor": "#DFE8F3",
            "linecolor": "#A2B1C6",
            "ticks": ""
           },
           "baxis": {
            "gridcolor": "#DFE8F3",
            "linecolor": "#A2B1C6",
            "ticks": ""
           },
           "bgcolor": "white",
           "caxis": {
            "gridcolor": "#DFE8F3",
            "linecolor": "#A2B1C6",
            "ticks": ""
           }
          },
          "title": {
           "x": 0.05
          },
          "xaxis": {
           "automargin": true,
           "gridcolor": "#EBF0F8",
           "linecolor": "black",
           "linewidth": 2.0,
           "mirror": true,
           "showline": true,
           "ticks": "",
           "title": {
            "standoff": 15
           },
           "zeroline": false,
           "zerolinecolor": "#EBF0F8",
           "zerolinewidth": 2
          },
          "yaxis": {
           "automargin": true,
           "gridcolor": "#EBF0F8",
           "linecolor": "black",
           "linewidth": 2.0,
           "mirror": true,
           "showline": true,
           "ticks": "",
           "title": {
            "standoff": 15
           },
           "zeroline": false,
           "zerolinecolor": "#EBF0F8",
           "zerolinewidth": 2
          }
         }
        },
        "title": {
         "text": "<b>Cut in plane Z=4</b>"
        },
        "xaxis": {
         "title": {
          "text": "<b>X axis</b>"
         }
        },
        "yaxis": {
         "scaleanchor": "x",
         "scaleratio": 1,
         "title": {
          "text": "<b>Y axis</b>"
         }
        }
       }
      }
     },
     "metadata": {},
     "output_type": "display_data"
    }
   ],
   "source": [
    "from ross.fluid_flow.fluid_flow_graphics import plot_eccentricity\n",
    "\n",
    "fig = plot_eccentricity(my_fluid_flow, z=int(my_fluid_flow.nz / 2), scale_factor=0.5)\n",
    "fig.show()"
   ]
  },
  {
   "cell_type": "markdown",
   "metadata": {},
   "source": [
    "**THEORETICAL MODELING**\n",
    "\n",
    "We start from the Navier Stokes and continuity equations:\n",
    "\n",
    "$$\\rho \\left(\\dfrac{\\partial \\mathbf{v}}{\\partial t} + \\mathbf{v} \\cdot \\nabla \\mathbf{v} \\right) = \\nabla \\cdot \\sigma$$\n",
    "\n",
    "$$\\dfrac{\\partial \\rho}{\\partial t} + \\nabla \\cdot \\left( \\rho \\mathbf{v} \\right) = 0$$\n",
    "\n",
    "where $\\rho$ is the specific mass of the fluid, $\\mathbf{v}$ is the velocity field, and $\\sigma=-p \\mathbf{I} + \\tau$ is the Cauchy's tensor, in which $p$ represents the pressure field, $\\tau$ is the stress tensor and $\\mathbf{I}$ the identity tensor. In order to consider the effects of curvature, the velocity field is represented in cylindrical coordinates with $u$, $v$ and $w$ being the axial, radial and tangential speeds, respectively.\n",
    "\n",
    "In this code, the following hypotheses are considered:\n",
    "\n",
    "* Newtonian fluid: ${\\mathbf{\\tau}} = {\\mathbf{\\mu}}(\\nabla \\mathbf{v})$\n",
    "* Incompressible fluid: constant $\\rho$\n",
    "* Permanent regime: $\\dfrac{\\partial(*)}{\\partial t}=0$\n",
    "\n",
    "Thus, the equations can be rewritten as\n",
    "\n",
    "$$\\rho \\left(\\mathbf{v} \\cdot \\nabla \\mathbf{v}\\right) = - \\nabla p + \\mu \\nabla^2 \\mathbf{v}$$\n",
    "$$\\nabla \\cdot \\mathbf{v}=0,$$\n",
    "\n",
    "or in terms of each direction:\n",
    "\n",
    "\n",
    "* Direction $z$ (similar to directions $r$ and $\\theta$):\n",
    "\n",
    "$${\\rho \n",
    "\\left(\n",
    "u \\dfrac{\\partial{u}}{\\partial{z}} \n",
    "+ v \\dfrac{\\partial{u}}{\\partial{r}} \n",
    "+ \\dfrac{w}{r} \\dfrac{\\partial{u}}{\\partial{\\theta}}\n",
    "\\right)}\n",
    "=\n",
    "{-\\dfrac{\\partial{p}}{\\partial{z}} \n",
    "+ \\mu \n",
    "\\left(\n",
    "\\dfrac{1}{r} \\dfrac{\\partial{}}{\\partial{r}}\\left[r\\dfrac{\\partial{u}}{\\partial{r}} \\right] \n",
    "+ \\dfrac{1}{r^2}\\dfrac{\\partial^2{u}}{\\partial{\\theta ^2}} \n",
    "+ \\dfrac{\\partial^2{u}}{\\partial{z^2}}  \n",
    "\\right)}$$\n",
    "\n",
    "* Continuity:\n",
    "\n",
    "$$\\dfrac{1}{r} \\dfrac{\\partial{\\left(rv\\right)}}{\\partial{r}}+\\dfrac{1}{r}\\dfrac{\\partial{w}}{\\partial{\\theta}}+\\dfrac{\\partial{u}}{\\partial{z}} = 0$$\n",
    "\n",
    "**Dimensionaless Analysis**\n",
    "\n",
    "Considering U and L as a typical speed and sizes with the relation\n",
    "\n",
    "$$(R_{o}-R_{i}) = F \\ll L,$$\n",
    "\n",
    "the equation that represents movement in the $z$ direction, in its dimensionless form, is:\n",
    "\n",
    "$${\\rho \n",
    "\\left(\n",
    "U\\hat{u} \\dfrac{\\partial{U\\hat{u}}}{\\partial{L\\hat{z}}} \n",
    "+ U\\hat{v} \\dfrac{\\partial{U\\hat{u}}}{\\partial{F\\hat{r}}} \n",
    "+ \\dfrac{U\\hat{w}}{L\\hat{r}} \\dfrac{\\partial{U\\hat{u}}}{\\partial{\\theta}}\n",
    "\\right)}\n",
    "=\n",
    "{-\\dfrac{\\partial{P\\hat{p}}}{\\partial{L\\hat{z}}} \n",
    "+ \\mu \n",
    "\\left(\n",
    "\\dfrac{1}{L\\hat{r}} \\dfrac{\\partial{}}{\\partial{F\\hat{r}}}\\left[L\\hat{r}\\dfrac{\\partial{U\\hat{u}}}{\\partial{F\\hat{r}}} \\right] \n",
    "+ \\dfrac{1}{L^2\\hat{r}^2}\\dfrac{\\partial^2{U\\hat{u}}}{\\partial{\\theta ^2}} \n",
    "+ \\dfrac{\\partial^2{U\\hat{u}}}{\\partial{L^2\\hat{z}^2}}  \n",
    "\\right)}$$\n",
    "\n",
    "where the dimensionless quantities aare denoted with a circumflex accent.\n",
    "\n",
    "The previous equation is rearranged to explicit the Reynolds number $\\left(\\mathbf{Re}=\\dfrac{\\rho U L}{\\mu}\\right)$ by using the relation $P = \\dfrac{\\mu UL}{F^2}$:\n",
    "\n",
    "$${ \\mathbf{Re} \n",
    "\\left(\n",
    "\\left(\\dfrac{F^2}{L^2}\\right)\\hat{u} \\dfrac{\\partial{\\hat{u}}}{\\partial{\\hat{z}}} \n",
    "+ \\left(\\dfrac{F}{L} \\right) \\hat{v} \\dfrac{\\partial{\\hat{u}}}{\\partial{\\hat{r}}} \n",
    "+ \\left(\\dfrac{F^2}{L^2}\\right) \\dfrac{\\hat{w}}{\\hat{r}} \\dfrac{\\partial{\\hat{u}}}{\\partial{\\theta}}\n",
    "\\right)}\n",
    "=\n",
    "{-\\dfrac{\\partial{\\hat{p}}}{\\partial{\\hat{z}}} \n",
    "+ \\left(\n",
    "\\dfrac{1}{\\hat{r}} \\dfrac{\\partial{}}{\\partial{\\hat{r}}}\\left[\\hat{r}\\dfrac{\\partial{\\hat{u}}}{\\partial{\\hat{r}}} \\right] \n",
    "+ \\left(\\dfrac{F^2}{L^2}\\right) \\dfrac{1}{\\hat{r}^2}\\dfrac{\\partial^2{\\hat{u}}}{\\partial{\\theta ^2}} \n",
    "+ \\left(\\dfrac{F^2}{L^2}\\right)\\dfrac{\\partial^2{\\hat{u}}}{\\partial{\\hat{z}^2}}  \n",
    "\\right)}$$\n",
    "\n",
    "After some simplifications, based on lubrication theory, the equations along each direction are:\n",
    "\n",
    "* $z$ direction:\n",
    "\n",
    "$$-\\dfrac{\\partial{\\hat{p}}}{\\partial{\\hat{z}}} \n",
    "+ \\dfrac{1}{\\hat{r}} \\dfrac{\\partial{}}{\\partial{\\hat{r}}}\\left(\\hat{r}\\dfrac{\\partial{\\hat{u}}}{\\partial{\\hat{r}}} \\right) =0$$\n",
    "\n",
    "* $r$ direction:\n",
    "\n",
    "$$-\\dfrac{\\partial{\\hat{p}}}{\\partial{\\hat{r}}}=0$$\n",
    "\n",
    "* $\\theta$ direction:\n",
    "\n",
    "$$\\dfrac{\\partial{}}{\\partial{\\hat{r}}} \n",
    "\\left(\\dfrac{1}{\\hat{r}}\\dfrac{\\partial{(\\hat{r}\\hat{w})}}{\\partial{\\hat{r}}}\\right)\n",
    "- \\dfrac{1}{\\hat{r}}\\dfrac{\\partial{\\hat{p}}}{\\partial{\\theta}}\n",
    "=0$$\n",
    "\n",
    "Returning to the dimensional form and noting that the pressure does not change along the radial direction, the simplified Reynold's equations are:\n",
    "\n",
    "$$-\\dfrac{\\partial{p}}{\\partial{z}} \n",
    "+ \\mu \\left[\\dfrac{1}{r} \\dfrac{\\partial{}}{\\partial{r}}\\left(r\\dfrac{\\partial{u}}{\\partial{r}} \\right)\\right] =0$$\n",
    "$$-\\dfrac{1}{r} \\dfrac{\\partial{p}}{\\partial{\\theta}}\n",
    "+ \\mu \\left[\\dfrac{\\partial{}}{\\partial{r}}\\left(\\dfrac{1}{r}\\dfrac{\\partial{(rw)}}{\\partial{r}}\\right)\\right]\n",
    "=0$$\n",
    "\n",
    "**Speeds**\n",
    "\n",
    "It is now possible to integrate the above equations to find the velocities in the $z$ (axial velocity $u$) and $\\theta$ (tangential velocity w) directions. This yields:\n",
    "\n",
    "$$u = \\dfrac{1}{\\mu}\\left[\\dfrac{\\partial{p}}{\\partial{z}}\\dfrac{r^2}{4} + c_1 \\ln{r} + c_2\\right]$$\n",
    "\n",
    "$$w = \\dfrac{1}{\\mu} \\left\\{\\dfrac{1}{2}\\left[\\dfrac{\\partial{p}}{\\partial{\\theta}} r \\left(\\ln{r} -\\dfrac{1}{2}\\right) + c_3 r\\right] + \\dfrac{c_4}{r}\\right\\}$$\n",
    "\n",
    "where $c_1$, $c_2$, $c_3$ and $c_4$ are constant in the integration in the variable $r$.\n",
    "\n",
    "By applying the boundary conditions\n",
    "\n",
    "* $u(R_{o})=u(R_{\\theta})=0,$\n",
    "* $w(R_{o})=0$ and $w(R_{\\theta}) = \\omega R_{i},$\n",
    "\n",
    "the speeds are\n",
    "\n",
    "$$u = \n",
    "\\dfrac{1}{4\\mu} \n",
    "\\dfrac{\\partial{p}}{\\partial{z}} R_{\\theta}^2 \n",
    "\\left[\n",
    "    \\left(\n",
    "        \\dfrac{r}{R_{\\theta}} \n",
    "    \\right)^2\n",
    "    - \\dfrac{\\left(R_{o}^2 - R_{\\theta}^2\\right)}{R_{\\theta}^2 \\ln{\\left(\\dfrac{R_{o}}{R_{\\theta}}\\right)}}\n",
    "    \\left(\n",
    "        \\ln{\\dfrac{r}{R_{\\theta}}}\n",
    "    \\right)\n",
    "    - 1\n",
    "\\right]$$\n",
    "$$w =\n",
    "\\dfrac{1}{2 \\mu} \n",
    "\\dfrac{\\partial p}{\\partial \\theta} \n",
    "\\left[ \n",
    "    r \\left(\n",
    "        \\ln r - \\dfrac{1}{2}\n",
    "    \\right) \n",
    "    + k r  \n",
    "    - \\dfrac{R_{o}^2}{r} \\left( \n",
    "        \\ln R_{o} + k - \\dfrac{1}{2}\n",
    "        \\right)\n",
    "\\right]  \n",
    "+ \\dfrac{\\omega R_{i} R_{\\theta}}{\\left(R_{\\theta}^2 - R_{o}^2\\right)} \n",
    "\\left(\n",
    "    r - \\dfrac{R_{o}^2}{r}\n",
    "\\right)$$\n",
    "\n",
    "where $k = \n",
    "\\frac{1}{R^2_{\\theta}-R^2_{o}}\n",
    "\\left[\n",
    "    R^2_{o}\n",
    "    \\left(\n",
    "        \\ln R_{o} - \\frac{1}{2}\n",
    "    \\right)\n",
    "    -R^2_{\\theta}\n",
    "    \\left(\n",
    "        \\ln R_{\\theta} - \\frac{1}{2}\n",
    "    \\right)\n",
    "\\right]$\n",
    "\n",
    "**Pressure**\n",
    "\n",
    "Once the speeds are calculated, the continuity equation is integrated into the annular region of interest, from $R_{\\theta}$ to $R_o$:\n",
    "\n",
    "$$ \\int^{R_{o}}_{R_{\\theta}} \n",
    "    \\left(\n",
    "        \\frac{\\partial{(rv)}}{\\partial{r}}\n",
    "        + \\frac{\\partial{w}}{\\partial{\\theta}}\n",
    "        + \\frac{\\partial{(ru)}}{\\partial{z}}\n",
    "    \\right) \n",
    "    \\,dr = 0$$\n",
    "    \n",
    "The integral is splitted into three integrals and the fundamental theorem of calculus and Leibnitz rule are applied. This yields:\n",
    "\n",
    "1. $\\int^{R_{o}}_{R_{\\theta}} \n",
    "        \\left(\n",
    "            \\frac{\\partial{(rv)}}{\\partial{r}}\n",
    "        \\right) \\,dr \n",
    "        = \n",
    "        R_{o} v(R_{o}) - R_{\\theta} v(R_{\\theta})$\n",
    "2. $\\int^{R_{o}}_{R_{\\theta}}\n",
    "        \\left(\n",
    "            \\frac{\\partial{w}}{\\partial{\\theta}}\n",
    "        \\right) \\, dr \n",
    "        =\n",
    "        \\dfrac{\\partial}{\\partial \\theta}\n",
    "        \\int^{R_{o}}_{R_{\\theta}} w \\,dr \n",
    "        - \\left[\n",
    "            w(R_{o}) \\dfrac{\\partial R_{o}}{\\partial \\theta}\n",
    "            - w(R_{\\theta}) \\dfrac{\\partial R_{\\theta}}{\\partial \\theta}\n",
    "        \\right]$\n",
    "3. $\\int^{R_{o}}_{R_{\\theta}}\n",
    "        \\left(\n",
    "            \\frac{\\partial{(ru)}}{\\partial{z}}\n",
    "        \\right) \\, dr\n",
    "        =\n",
    "        \\dfrac{\\partial}{\\partial z}\n",
    "        \\int^{R_{o}}_{R_{\\theta}} (ru) \\,dr \n",
    "        - \\left[\n",
    "            u(R_{o}) \\dfrac{\\partial R_{o}}{\\partial z}\n",
    "            - u(R_{\\theta}) \\dfrac{\\partial R_i}{\\partial z}\n",
    "        \\right]$\n",
    "\n",
    "Here, some considerations are taken into account:\n",
    "\n",
    "* The radial velocity is zero at $v(R_{o})=0$. However, $v(R_{\\theta})\\neq 0$ because the origin of the frame is not in the center of the rotor.\n",
    "* As seen earlier, $w(R_o) = 0$ and $w(R_{\\theta}) = \\omega R_{i}$. Due to the eccentricity, $\\dfrac{\\partial R_{\\theta}}{\\partial \\theta} \\neq 0$.\n",
    "* By the boundary condition it is known that $u(R_o)=u(R_{\\theta})=0$.\n",
    "\n",
    "Moreover, the speeds $v(R_{\\theta})$ and $w(R_{\\theta})$ must be calculated with kinematic relations. First, consider any $ A $ point pertaining to the rotor surface. Due to rotation, point $A$ has a velocity\n",
    "\n",
    "$$v_{rot} = v_{rad}\\,e_{r} + v_{tan}\\,e_{\\theta},$$\n",
    "\n",
    "where $e_{r}$ and $e_{\\theta}$ are unit vectors of the cylindrical coordinate system. This is shown in the figure below.\n",
    "\n",
    "<img src=\"https://docs.google.com/uc?id=1M9hvJYa6Hg_-PD8HpP9AriD59vR64e-P\" width=\"350\"/>\n",
    "\n",
    "   \n",
    "Now, consider the position vector $a=R_{\\theta} e_r$, from the stator center to any point in the rotor surface. Its time derivative, relative to an inertial frame, is the total speed $v_{tot}$:\n",
    "\n",
    "$$v_{rot}=\\omega \\dfrac{\\partial R_{\\theta}}{\\partial \\theta}\\,e_r \n",
    "    + \\omega R_{\\theta}\\,e_{\\theta}$$\n",
    "    \n",
    "where $v(R_{\\theta}) = \\omega \\dfrac{\\partial R_{\\theta}}{\\partial \\theta}$ and $w(R_{\\theta}) = \\omega R_{\\theta}$.\n",
    "\n",
    "Substituting the values of $v(R_{\\theta})$ and $w(R_{\\theta})$ in the continuity equation, we obtain:\n",
    "\n",
    "$$\\dfrac{\\partial}{\\partial \\theta}\n",
    "    \\int^{R_{o}}_{R_{\\theta}} w \\,dr\n",
    "    + \\dfrac{\\partial}{\\partial z}\n",
    "    \\int^{R_{o}}_{R_{\\theta}} ru \\,dr\n",
    "    = 0$$\n",
    "\n",
    "Performing this integral and replacing the $u$ and $w$ speeds yields:\n",
    "\n",
    "$$\\dfrac{\\partial}{\\partial \\theta}\n",
    "    \\left(\n",
    "        \\mathbf{C_1}\n",
    "        \\dfrac{\\partial p}{\\partial \\theta}\n",
    "    \\right)\n",
    "    +\n",
    "    \\dfrac{\\partial}{\\partial z}\n",
    "    \\left(\n",
    "        \\mathbf{C_2}\n",
    "        \\dfrac{\\partial p}{\\partial z}\n",
    "    \\right)\n",
    "    =\n",
    "    \\dfrac{\\partial}{\\partial \\theta}\n",
    "    \\mathbf{C_0}$$\n",
    "    \n",
    "where \n",
    "\n",
    "$$\\mathbf{C_0} = \n",
    "    - \\omega R_{i} R_{\\theta}\n",
    "    \\left[\n",
    "        \\ln{\\left(\\frac{R_{o}}{R_{\\theta}}\\right)}\n",
    "        \\left(\n",
    "            1 +\n",
    "            \\frac{R_{\\theta}^2}{(R_{o}^2-R_{\\theta}^2)}\n",
    "        \\right)\n",
    "        -\\dfrac{1}{2}\n",
    "    \\right]\\label{eq:C_0}\\text{,}$$\n",
    "    \n",
    "$$\\mathbf{C_1} =\n",
    "    \\dfrac{1}{4\\mu}\n",
    "    \\left\\{\n",
    "        \\left[\n",
    "            R_{o}^2 \\ln{R_{o}}\n",
    "            - R_{\\theta}^2 \\ln{R_{\\theta}}\n",
    "            + (R_{o}^2-R_{\\theta}^2)(k-1)\n",
    "        \\right]\n",
    "        - 2R_{o}^2\n",
    "        \\left[\n",
    "            \\left(\n",
    "                \\ln{R_{o}}+k-\\dfrac{1}{2}\n",
    "            \\right)\n",
    "            \\ln{\\left(\\frac{R_{o}}{R_{\\theta}}\\right)}\n",
    "        \\right]\n",
    "    \\right\\}\\label{eq:C_1}\\text{,}$$\n",
    "\n",
    "$$\\mathbf{C_2} =\n",
    "    - \\dfrac{R_{\\theta}^2}{8\\mu}\n",
    "    \\left\\{\n",
    "        \\left[\n",
    "            R_{o}^2-R_{\\theta}^2\n",
    "            -\\dfrac{(R_{o}^4-R_{\\theta}^4)}{2R_{\\theta}^2}\n",
    "        \\right]\n",
    "        +\n",
    "        \\left(\n",
    "            \\dfrac{R_{o}^2-R_{\\theta}^2}{R_{\\theta}^2 \\ln{\\left(\\dfrac{R_{o}}{R_{\\theta}}\\right)}}\n",
    "        \\right)\n",
    "        \\left[\n",
    "            R_{o}^2\\ln{\\left(\\dfrac{R_{o}}{R_{\\theta}}\\right)}\n",
    "            -\\dfrac{(R_{o}^2-R_{\\theta}^2)}{2}\n",
    "        \\right]\n",
    "    \\right\\}\\label{eq:C_2}\\text{.}$$\n",
    "\n",
    "This is a elliptic partial differential equation and its solution detemines the pressure field $p$."
   ]
  },
  {
   "cell_type": "markdown",
   "metadata": {},
   "source": [
    "**NUMERICAL SOLUTION**\n",
    "\n",
    "The partial differential equation is solved using finite centered differences method. It is applied to a regular rectangular mesh with $𝑁_{z}$ nodes in the axial direction and $𝑁_{\\theta}$ nodes in the tangential direction, as shown in the figure below.\n",
    "\n",
    "<img src=\"https://docs.google.com/uc?id=1PTvlpNx6QlZq7wPWfwjKLsOa9M_qR9pp\" width=\"350\"/>\n",
    "\n",
    "The discretized equation is given by\n",
    "\n",
    "$$p_{i-1,j}\\frac{(\\mathbf{C_{2(i-1,j)}})}{\\Delta z^{2}} +  p_{i,j-1}\\frac{(\\mathbf{C_{1(i,j-1)}})}{\\Delta\\theta^{2}} - p_{i,j}\\left(\\frac{(\\mathbf{C_{1(i,j)}} + \\mathbf{C_{1(i,j-1)}})}{\\Delta\\theta^{2}} + \\frac{(\\mathbf{C_{2(i,j)}} + \\mathbf{C_{2(i-1,j)}})}{\\Delta z^{2}} \\right) + p_{i,j+1} \\frac{(\\mathbf{C_{1(i,j)}})}{\\Delta\\theta^{2}} + p_{i+1,j}\\frac{(\\mathbf{C_{2(i,j)}})}{\\Delta z^{2}} = \\frac{1}{\\Delta\\theta}\\left[\\mathbf{C_{0W(i,j)}}-\\mathbf{C_{0W(i,j-1)}}\\right],\\nonumber$$\n",
    "\n",
    "with boundary conditions\n",
    "\n",
    "$$p(z=0)=p(1,j)=P_{in}$$\n",
    "$$p(z=L)=p(NZ,j)=P_{out}$$\n",
    "$$p(\\theta=0)=p(\\theta=2\\pi)=p(i,1)=p(i,N\\theta)$$\n",
    "\n",
    "**Cavitation Condition**\n",
    "\n",
    "According to DOWNSON and TAYLOR (1979) [1], cavitation can be defined as the phenomenon that describes the discontinuity of a fluid due to the existence of gases or steam. This is a characteristic phenomenon in hydrodynamic bearings.\n",
    "\n",
    "It is important to note that this change in pressure behavior due to cavitation does not necessarily start at the point of least thickness in the annular space. Several studies seek to establish the appropriate boundary conditions to describe the beginning of cavitation in the fluid. ISHIDA and YAMAMOTO (2012) [2] indicate that the condition of Gumbel is widely used because of its simplicity. Using the argument that lubricant evaporation and axial air flow from both ends can occur, the pressure in the region $\\pi < \\theta < 2\\pi$ is considered to be almost zero (that is, the atmospheric pressure ). $p = 0 $ is then defined across the divergent region.\n",
    "\n",
    "<img src=\"https://docs.google.com/uc?id=1pmKtHS0sW4t6kW0qq3sxwNIlBMJRQUaz\" width=\"250\"/>\n",
    "\n",
    "In addition, according to SANTOS (1995) [3], although it violates mass conservation, this condition presents acceptable errors in the global parameters of the bearing. For these reasons, the present study adopts the Gumbel boundary condition to describe the phenomenon of cavitation."
   ]
  },
  {
   "cell_type": "code",
   "execution_count": 3,
   "metadata": {
    "execution": {
     "iopub.execute_input": "2023-05-04T00:58:17.142302Z",
     "iopub.status.busy": "2023-05-04T00:58:17.141636Z",
     "iopub.status.idle": "2023-05-04T00:58:17.197274Z",
     "shell.execute_reply": "2023-05-04T00:58:17.196817Z"
    }
   },
   "outputs": [
    {
     "data": {
      "application/vnd.plotly.v1+json": {
       "config": {
        "plotlyServerURL": "https://plot.ly"
       },
       "data": [
        {
         "hovertemplate": "<b>Axial Length: %{x:.2f}</b><br><b>Numerical pressure: %{y:.2f}</b>",
         "line": {
          "color": "#1f77b4"
         },
         "mode": "markers+lines",
         "name": "<b>Numerical pressure</b>",
         "showlegend": true,
         "type": "scatter",
         "x": [
          0.0,
          0.004285714285714286,
          0.008571428571428572,
          0.012857142857142859,
          0.017142857142857144,
          0.02142857142857143,
          0.025714285714285717,
          0.030000000000000002
         ],
         "y": [
          0.0,
          2762.973786067147,
          4920.069535181485,
          6090.455831804952,
          6090.455831804949,
          4920.069535181479,
          2762.973786067144,
          0.0
         ]
        }
       ],
       "layout": {
        "template": {
         "data": {
          "bar": [
           {
            "error_x": {
             "color": "#2a3f5f"
            },
            "error_y": {
             "color": "#2a3f5f"
            },
            "marker": {
             "line": {
              "color": "white",
              "width": 0.5
             }
            },
            "type": "bar"
           }
          ],
          "barpolar": [
           {
            "marker": {
             "line": {
              "color": "white",
              "width": 0.5
             }
            },
            "type": "barpolar"
           }
          ],
          "carpet": [
           {
            "aaxis": {
             "endlinecolor": "#2a3f5f",
             "gridcolor": "#C8D4E3",
             "linecolor": "#C8D4E3",
             "minorgridcolor": "#C8D4E3",
             "startlinecolor": "#2a3f5f"
            },
            "baxis": {
             "endlinecolor": "#2a3f5f",
             "gridcolor": "#C8D4E3",
             "linecolor": "#C8D4E3",
             "minorgridcolor": "#C8D4E3",
             "startlinecolor": "#2a3f5f"
            },
            "type": "carpet"
           }
          ],
          "choropleth": [
           {
            "colorbar": {
             "outlinewidth": 0,
             "ticks": ""
            },
            "type": "choropleth"
           }
          ],
          "contour": [
           {
            "colorbar": {
             "outlinewidth": 0,
             "ticks": ""
            },
            "colorscale": [
             [
              0.0,
              "#0d0887"
             ],
             [
              0.1111111111111111,
              "#46039f"
             ],
             [
              0.2222222222222222,
              "#7201a8"
             ],
             [
              0.3333333333333333,
              "#9c179e"
             ],
             [
              0.4444444444444444,
              "#bd3786"
             ],
             [
              0.5555555555555556,
              "#d8576b"
             ],
             [
              0.6666666666666666,
              "#ed7953"
             ],
             [
              0.7777777777777778,
              "#fb9f3a"
             ],
             [
              0.8888888888888888,
              "#fdca26"
             ],
             [
              1.0,
              "#f0f921"
             ]
            ],
            "type": "contour"
           }
          ],
          "contourcarpet": [
           {
            "colorbar": {
             "outlinewidth": 0,
             "ticks": ""
            },
            "type": "contourcarpet"
           }
          ],
          "heatmap": [
           {
            "colorbar": {
             "outlinewidth": 0,
             "ticks": ""
            },
            "colorscale": [
             [
              0.0,
              "#0d0887"
             ],
             [
              0.1111111111111111,
              "#46039f"
             ],
             [
              0.2222222222222222,
              "#7201a8"
             ],
             [
              0.3333333333333333,
              "#9c179e"
             ],
             [
              0.4444444444444444,
              "#bd3786"
             ],
             [
              0.5555555555555556,
              "#d8576b"
             ],
             [
              0.6666666666666666,
              "#ed7953"
             ],
             [
              0.7777777777777778,
              "#fb9f3a"
             ],
             [
              0.8888888888888888,
              "#fdca26"
             ],
             [
              1.0,
              "#f0f921"
             ]
            ],
            "type": "heatmap"
           }
          ],
          "heatmapgl": [
           {
            "colorbar": {
             "outlinewidth": 0,
             "ticks": ""
            },
            "colorscale": [
             [
              0.0,
              "#0d0887"
             ],
             [
              0.1111111111111111,
              "#46039f"
             ],
             [
              0.2222222222222222,
              "#7201a8"
             ],
             [
              0.3333333333333333,
              "#9c179e"
             ],
             [
              0.4444444444444444,
              "#bd3786"
             ],
             [
              0.5555555555555556,
              "#d8576b"
             ],
             [
              0.6666666666666666,
              "#ed7953"
             ],
             [
              0.7777777777777778,
              "#fb9f3a"
             ],
             [
              0.8888888888888888,
              "#fdca26"
             ],
             [
              1.0,
              "#f0f921"
             ]
            ],
            "type": "heatmapgl"
           }
          ],
          "histogram": [
           {
            "marker": {
             "colorbar": {
              "outlinewidth": 0,
              "ticks": ""
             }
            },
            "type": "histogram"
           }
          ],
          "histogram2d": [
           {
            "colorbar": {
             "outlinewidth": 0,
             "ticks": ""
            },
            "colorscale": [
             [
              0.0,
              "#0d0887"
             ],
             [
              0.1111111111111111,
              "#46039f"
             ],
             [
              0.2222222222222222,
              "#7201a8"
             ],
             [
              0.3333333333333333,
              "#9c179e"
             ],
             [
              0.4444444444444444,
              "#bd3786"
             ],
             [
              0.5555555555555556,
              "#d8576b"
             ],
             [
              0.6666666666666666,
              "#ed7953"
             ],
             [
              0.7777777777777778,
              "#fb9f3a"
             ],
             [
              0.8888888888888888,
              "#fdca26"
             ],
             [
              1.0,
              "#f0f921"
             ]
            ],
            "type": "histogram2d"
           }
          ],
          "histogram2dcontour": [
           {
            "colorbar": {
             "outlinewidth": 0,
             "ticks": ""
            },
            "colorscale": [
             [
              0.0,
              "#0d0887"
             ],
             [
              0.1111111111111111,
              "#46039f"
             ],
             [
              0.2222222222222222,
              "#7201a8"
             ],
             [
              0.3333333333333333,
              "#9c179e"
             ],
             [
              0.4444444444444444,
              "#bd3786"
             ],
             [
              0.5555555555555556,
              "#d8576b"
             ],
             [
              0.6666666666666666,
              "#ed7953"
             ],
             [
              0.7777777777777778,
              "#fb9f3a"
             ],
             [
              0.8888888888888888,
              "#fdca26"
             ],
             [
              1.0,
              "#f0f921"
             ]
            ],
            "type": "histogram2dcontour"
           }
          ],
          "mesh3d": [
           {
            "colorbar": {
             "outlinewidth": 0,
             "ticks": ""
            },
            "type": "mesh3d"
           }
          ],
          "parcoords": [
           {
            "line": {
             "colorbar": {
              "outlinewidth": 0,
              "ticks": ""
             }
            },
            "type": "parcoords"
           }
          ],
          "pie": [
           {
            "automargin": true,
            "type": "pie"
           }
          ],
          "scatter": [
           {
            "marker": {
             "colorbar": {
              "outlinewidth": 0,
              "ticks": ""
             }
            },
            "type": "scatter"
           }
          ],
          "scatter3d": [
           {
            "line": {
             "colorbar": {
              "outlinewidth": 0,
              "ticks": ""
             }
            },
            "marker": {
             "colorbar": {
              "outlinewidth": 0,
              "ticks": ""
             },
             "size": 4
            },
            "type": "scatter3d"
           }
          ],
          "scattercarpet": [
           {
            "marker": {
             "colorbar": {
              "outlinewidth": 0,
              "ticks": ""
             }
            },
            "type": "scattercarpet"
           }
          ],
          "scattergeo": [
           {
            "marker": {
             "colorbar": {
              "outlinewidth": 0,
              "ticks": ""
             }
            },
            "type": "scattergeo"
           }
          ],
          "scattergl": [
           {
            "marker": {
             "colorbar": {
              "outlinewidth": 0,
              "ticks": ""
             }
            },
            "type": "scattergl"
           }
          ],
          "scattermapbox": [
           {
            "marker": {
             "colorbar": {
              "outlinewidth": 0,
              "ticks": ""
             }
            },
            "type": "scattermapbox"
           }
          ],
          "scatterpolar": [
           {
            "marker": {
             "colorbar": {
              "outlinewidth": 0,
              "ticks": ""
             }
            },
            "type": "scatterpolar"
           }
          ],
          "scatterpolargl": [
           {
            "marker": {
             "colorbar": {
              "outlinewidth": 0,
              "ticks": ""
             }
            },
            "type": "scatterpolargl"
           }
          ],
          "scatterternary": [
           {
            "marker": {
             "colorbar": {
              "outlinewidth": 0,
              "ticks": ""
             }
            },
            "type": "scatterternary"
           }
          ],
          "surface": [
           {
            "colorbar": {
             "outlinewidth": 0,
             "ticks": ""
            },
            "colorscale": [
             [
              0.0,
              "#0d0887"
             ],
             [
              0.1111111111111111,
              "#46039f"
             ],
             [
              0.2222222222222222,
              "#7201a8"
             ],
             [
              0.3333333333333333,
              "#9c179e"
             ],
             [
              0.4444444444444444,
              "#bd3786"
             ],
             [
              0.5555555555555556,
              "#d8576b"
             ],
             [
              0.6666666666666666,
              "#ed7953"
             ],
             [
              0.7777777777777778,
              "#fb9f3a"
             ],
             [
              0.8888888888888888,
              "#fdca26"
             ],
             [
              1.0,
              "#f0f921"
             ]
            ],
            "type": "surface"
           }
          ],
          "table": [
           {
            "cells": {
             "fill": {
              "color": "#EBF0F8"
             },
             "line": {
              "color": "white"
             }
            },
            "header": {
             "fill": {
              "color": "#C8D4E3"
             },
             "line": {
              "color": "white"
             }
            },
            "type": "table"
           }
          ]
         },
         "layout": {
          "annotationdefaults": {
           "arrowcolor": "#2a3f5f",
           "arrowhead": 0,
           "arrowwidth": 1
          },
          "coloraxis": {
           "colorbar": {
            "outlinewidth": 0,
            "ticks": ""
           }
          },
          "colorscale": {
           "diverging": [
            [
             0,
             "#8e0152"
            ],
            [
             0.1,
             "#c51b7d"
            ],
            [
             0.2,
             "#de77ae"
            ],
            [
             0.3,
             "#f1b6da"
            ],
            [
             0.4,
             "#fde0ef"
            ],
            [
             0.5,
             "#f7f7f7"
            ],
            [
             0.6,
             "#e6f5d0"
            ],
            [
             0.7,
             "#b8e186"
            ],
            [
             0.8,
             "#7fbc41"
            ],
            [
             0.9,
             "#4d9221"
            ],
            [
             1,
             "#276419"
            ]
           ],
           "sequential": [
            [
             0.0,
             "#0d0887"
            ],
            [
             0.1111111111111111,
             "#46039f"
            ],
            [
             0.2222222222222222,
             "#7201a8"
            ],
            [
             0.3333333333333333,
             "#9c179e"
            ],
            [
             0.4444444444444444,
             "#bd3786"
            ],
            [
             0.5555555555555556,
             "#d8576b"
            ],
            [
             0.6666666666666666,
             "#ed7953"
            ],
            [
             0.7777777777777778,
             "#fb9f3a"
            ],
            [
             0.8888888888888888,
             "#fdca26"
            ],
            [
             1.0,
             "#f0f921"
            ]
           ],
           "sequentialminus": [
            [
             0.0,
             "#0d0887"
            ],
            [
             0.1111111111111111,
             "#46039f"
            ],
            [
             0.2222222222222222,
             "#7201a8"
            ],
            [
             0.3333333333333333,
             "#9c179e"
            ],
            [
             0.4444444444444444,
             "#bd3786"
            ],
            [
             0.5555555555555556,
             "#d8576b"
            ],
            [
             0.6666666666666666,
             "#ed7953"
            ],
            [
             0.7777777777777778,
             "#fb9f3a"
            ],
            [
             0.8888888888888888,
             "#fdca26"
            ],
            [
             1.0,
             "#f0f921"
            ]
           ]
          },
          "colorway": [
           "#1f77b4",
           "#ff7f0e",
           "#2ca02c",
           "#d62728",
           "#9467bd",
           "#8c564b",
           "#e377c2",
           "#7f7f7f",
           "#bcbd22",
           "#17becf"
          ],
          "font": {
           "color": "#2a3f5f"
          },
          "geo": {
           "bgcolor": "white",
           "lakecolor": "white",
           "landcolor": "white",
           "showlakes": true,
           "showland": true,
           "subunitcolor": "#C8D4E3"
          },
          "hoverlabel": {
           "align": "left"
          },
          "hovermode": "closest",
          "mapbox": {
           "style": "light"
          },
          "paper_bgcolor": "white",
          "plot_bgcolor": "white",
          "polar": {
           "angularaxis": {
            "gridcolor": "#EBF0F8",
            "linecolor": "#EBF0F8",
            "ticks": ""
           },
           "bgcolor": "white",
           "radialaxis": {
            "gridcolor": "#EBF0F8",
            "linecolor": "#EBF0F8",
            "ticks": ""
           }
          },
          "scene": {
           "camera": {
            "center": {
             "x": 0,
             "y": 0,
             "z": 0
            },
            "eye": {
             "x": 2.0,
             "y": 2.0,
             "z": 2.0
            },
            "up": {
             "x": 0,
             "y": 0,
             "z": 1
            }
           },
           "xaxis": {
            "backgroundcolor": "white",
            "gridcolor": "#DFE8F3",
            "gridwidth": 2,
            "linecolor": "#EBF0F8",
            "showbackground": true,
            "showspikes": false,
            "ticks": "",
            "zerolinecolor": "#EBF0F8"
           },
           "yaxis": {
            "backgroundcolor": "white",
            "gridcolor": "#DFE8F3",
            "gridwidth": 2,
            "linecolor": "#EBF0F8",
            "showbackground": true,
            "showspikes": false,
            "ticks": "",
            "zerolinecolor": "#EBF0F8"
           },
           "zaxis": {
            "backgroundcolor": "white",
            "gridcolor": "#DFE8F3",
            "gridwidth": 2,
            "linecolor": "#EBF0F8",
            "showbackground": true,
            "showspikes": false,
            "ticks": "",
            "zerolinecolor": "#EBF0F8"
           }
          },
          "shapedefaults": {
           "line": {
            "color": "#2a3f5f"
           }
          },
          "ternary": {
           "aaxis": {
            "gridcolor": "#DFE8F3",
            "linecolor": "#A2B1C6",
            "ticks": ""
           },
           "baxis": {
            "gridcolor": "#DFE8F3",
            "linecolor": "#A2B1C6",
            "ticks": ""
           },
           "bgcolor": "white",
           "caxis": {
            "gridcolor": "#DFE8F3",
            "linecolor": "#A2B1C6",
            "ticks": ""
           }
          },
          "title": {
           "x": 0.05
          },
          "xaxis": {
           "automargin": true,
           "gridcolor": "#EBF0F8",
           "linecolor": "black",
           "linewidth": 2.0,
           "mirror": true,
           "showline": true,
           "ticks": "",
           "title": {
            "standoff": 15
           },
           "zeroline": false,
           "zerolinecolor": "#EBF0F8",
           "zerolinewidth": 2
          },
          "yaxis": {
           "automargin": true,
           "gridcolor": "#EBF0F8",
           "linecolor": "black",
           "linewidth": 2.0,
           "mirror": true,
           "showline": true,
           "ticks": "",
           "title": {
            "standoff": 15
           },
           "zeroline": false,
           "zerolinecolor": "#EBF0F8",
           "zerolinewidth": 2
          }
         }
        },
        "title": {
         "text": "<b>Pressure along the flow (axial direction)<b><br><b>Theta=8</b>"
        },
        "xaxis": {
         "title": {
          "text": "<b>Axial Length</b>"
         }
        },
        "yaxis": {
         "title": {
          "text": "<b>Pressure</b>"
         }
        }
       }
      }
     },
     "metadata": {},
     "output_type": "display_data"
    },
    {
     "data": {
      "application/vnd.plotly.v1+json": {
       "config": {
        "plotlyServerURL": "https://plot.ly"
       },
       "data": [
        {
         "hovertemplate": "<b>Theta: %{x:.2f}</b><br><b>Numerical pressure: %{y:.2f}</b>",
         "line": {
          "color": "#1f77b4"
         },
         "mode": "markers+lines",
         "name": "<b>Numerical pressure</b>",
         "showlegend": true,
         "type": "scatter",
         "x": [
          2.6558252289026476,
          3.074704249381287,
          3.4935832698599256,
          3.912462290338565,
          4.331341310817204,
          4.750220331295843,
          5.1690993517744825,
          5.58797837225312,
          6.00685739273176,
          6.4257364132104,
          6.844615433689038,
          7.263494454167677,
          7.682373474646317,
          8.101252495124955,
          8.520131515603595,
          8.939010536082234
         ],
         "y": [
          0.0,
          33682.77583616662,
          97371.1142270826,
          178324.4276929094,
          271670.6558507706,
          351395.02376400767,
          358465.093012605,
          233451.38721394364,
          6090.455831804949,
          0.0,
          0.0,
          0.0,
          0.0,
          0.0,
          0.0,
          0.0
         ]
        }
       ],
       "layout": {
        "template": {
         "data": {
          "bar": [
           {
            "error_x": {
             "color": "#2a3f5f"
            },
            "error_y": {
             "color": "#2a3f5f"
            },
            "marker": {
             "line": {
              "color": "white",
              "width": 0.5
             }
            },
            "type": "bar"
           }
          ],
          "barpolar": [
           {
            "marker": {
             "line": {
              "color": "white",
              "width": 0.5
             }
            },
            "type": "barpolar"
           }
          ],
          "carpet": [
           {
            "aaxis": {
             "endlinecolor": "#2a3f5f",
             "gridcolor": "#C8D4E3",
             "linecolor": "#C8D4E3",
             "minorgridcolor": "#C8D4E3",
             "startlinecolor": "#2a3f5f"
            },
            "baxis": {
             "endlinecolor": "#2a3f5f",
             "gridcolor": "#C8D4E3",
             "linecolor": "#C8D4E3",
             "minorgridcolor": "#C8D4E3",
             "startlinecolor": "#2a3f5f"
            },
            "type": "carpet"
           }
          ],
          "choropleth": [
           {
            "colorbar": {
             "outlinewidth": 0,
             "ticks": ""
            },
            "type": "choropleth"
           }
          ],
          "contour": [
           {
            "colorbar": {
             "outlinewidth": 0,
             "ticks": ""
            },
            "colorscale": [
             [
              0.0,
              "#0d0887"
             ],
             [
              0.1111111111111111,
              "#46039f"
             ],
             [
              0.2222222222222222,
              "#7201a8"
             ],
             [
              0.3333333333333333,
              "#9c179e"
             ],
             [
              0.4444444444444444,
              "#bd3786"
             ],
             [
              0.5555555555555556,
              "#d8576b"
             ],
             [
              0.6666666666666666,
              "#ed7953"
             ],
             [
              0.7777777777777778,
              "#fb9f3a"
             ],
             [
              0.8888888888888888,
              "#fdca26"
             ],
             [
              1.0,
              "#f0f921"
             ]
            ],
            "type": "contour"
           }
          ],
          "contourcarpet": [
           {
            "colorbar": {
             "outlinewidth": 0,
             "ticks": ""
            },
            "type": "contourcarpet"
           }
          ],
          "heatmap": [
           {
            "colorbar": {
             "outlinewidth": 0,
             "ticks": ""
            },
            "colorscale": [
             [
              0.0,
              "#0d0887"
             ],
             [
              0.1111111111111111,
              "#46039f"
             ],
             [
              0.2222222222222222,
              "#7201a8"
             ],
             [
              0.3333333333333333,
              "#9c179e"
             ],
             [
              0.4444444444444444,
              "#bd3786"
             ],
             [
              0.5555555555555556,
              "#d8576b"
             ],
             [
              0.6666666666666666,
              "#ed7953"
             ],
             [
              0.7777777777777778,
              "#fb9f3a"
             ],
             [
              0.8888888888888888,
              "#fdca26"
             ],
             [
              1.0,
              "#f0f921"
             ]
            ],
            "type": "heatmap"
           }
          ],
          "heatmapgl": [
           {
            "colorbar": {
             "outlinewidth": 0,
             "ticks": ""
            },
            "colorscale": [
             [
              0.0,
              "#0d0887"
             ],
             [
              0.1111111111111111,
              "#46039f"
             ],
             [
              0.2222222222222222,
              "#7201a8"
             ],
             [
              0.3333333333333333,
              "#9c179e"
             ],
             [
              0.4444444444444444,
              "#bd3786"
             ],
             [
              0.5555555555555556,
              "#d8576b"
             ],
             [
              0.6666666666666666,
              "#ed7953"
             ],
             [
              0.7777777777777778,
              "#fb9f3a"
             ],
             [
              0.8888888888888888,
              "#fdca26"
             ],
             [
              1.0,
              "#f0f921"
             ]
            ],
            "type": "heatmapgl"
           }
          ],
          "histogram": [
           {
            "marker": {
             "colorbar": {
              "outlinewidth": 0,
              "ticks": ""
             }
            },
            "type": "histogram"
           }
          ],
          "histogram2d": [
           {
            "colorbar": {
             "outlinewidth": 0,
             "ticks": ""
            },
            "colorscale": [
             [
              0.0,
              "#0d0887"
             ],
             [
              0.1111111111111111,
              "#46039f"
             ],
             [
              0.2222222222222222,
              "#7201a8"
             ],
             [
              0.3333333333333333,
              "#9c179e"
             ],
             [
              0.4444444444444444,
              "#bd3786"
             ],
             [
              0.5555555555555556,
              "#d8576b"
             ],
             [
              0.6666666666666666,
              "#ed7953"
             ],
             [
              0.7777777777777778,
              "#fb9f3a"
             ],
             [
              0.8888888888888888,
              "#fdca26"
             ],
             [
              1.0,
              "#f0f921"
             ]
            ],
            "type": "histogram2d"
           }
          ],
          "histogram2dcontour": [
           {
            "colorbar": {
             "outlinewidth": 0,
             "ticks": ""
            },
            "colorscale": [
             [
              0.0,
              "#0d0887"
             ],
             [
              0.1111111111111111,
              "#46039f"
             ],
             [
              0.2222222222222222,
              "#7201a8"
             ],
             [
              0.3333333333333333,
              "#9c179e"
             ],
             [
              0.4444444444444444,
              "#bd3786"
             ],
             [
              0.5555555555555556,
              "#d8576b"
             ],
             [
              0.6666666666666666,
              "#ed7953"
             ],
             [
              0.7777777777777778,
              "#fb9f3a"
             ],
             [
              0.8888888888888888,
              "#fdca26"
             ],
             [
              1.0,
              "#f0f921"
             ]
            ],
            "type": "histogram2dcontour"
           }
          ],
          "mesh3d": [
           {
            "colorbar": {
             "outlinewidth": 0,
             "ticks": ""
            },
            "type": "mesh3d"
           }
          ],
          "parcoords": [
           {
            "line": {
             "colorbar": {
              "outlinewidth": 0,
              "ticks": ""
             }
            },
            "type": "parcoords"
           }
          ],
          "pie": [
           {
            "automargin": true,
            "type": "pie"
           }
          ],
          "scatter": [
           {
            "marker": {
             "colorbar": {
              "outlinewidth": 0,
              "ticks": ""
             }
            },
            "type": "scatter"
           }
          ],
          "scatter3d": [
           {
            "line": {
             "colorbar": {
              "outlinewidth": 0,
              "ticks": ""
             }
            },
            "marker": {
             "colorbar": {
              "outlinewidth": 0,
              "ticks": ""
             },
             "size": 4
            },
            "type": "scatter3d"
           }
          ],
          "scattercarpet": [
           {
            "marker": {
             "colorbar": {
              "outlinewidth": 0,
              "ticks": ""
             }
            },
            "type": "scattercarpet"
           }
          ],
          "scattergeo": [
           {
            "marker": {
             "colorbar": {
              "outlinewidth": 0,
              "ticks": ""
             }
            },
            "type": "scattergeo"
           }
          ],
          "scattergl": [
           {
            "marker": {
             "colorbar": {
              "outlinewidth": 0,
              "ticks": ""
             }
            },
            "type": "scattergl"
           }
          ],
          "scattermapbox": [
           {
            "marker": {
             "colorbar": {
              "outlinewidth": 0,
              "ticks": ""
             }
            },
            "type": "scattermapbox"
           }
          ],
          "scatterpolar": [
           {
            "marker": {
             "colorbar": {
              "outlinewidth": 0,
              "ticks": ""
             }
            },
            "type": "scatterpolar"
           }
          ],
          "scatterpolargl": [
           {
            "marker": {
             "colorbar": {
              "outlinewidth": 0,
              "ticks": ""
             }
            },
            "type": "scatterpolargl"
           }
          ],
          "scatterternary": [
           {
            "marker": {
             "colorbar": {
              "outlinewidth": 0,
              "ticks": ""
             }
            },
            "type": "scatterternary"
           }
          ],
          "surface": [
           {
            "colorbar": {
             "outlinewidth": 0,
             "ticks": ""
            },
            "colorscale": [
             [
              0.0,
              "#0d0887"
             ],
             [
              0.1111111111111111,
              "#46039f"
             ],
             [
              0.2222222222222222,
              "#7201a8"
             ],
             [
              0.3333333333333333,
              "#9c179e"
             ],
             [
              0.4444444444444444,
              "#bd3786"
             ],
             [
              0.5555555555555556,
              "#d8576b"
             ],
             [
              0.6666666666666666,
              "#ed7953"
             ],
             [
              0.7777777777777778,
              "#fb9f3a"
             ],
             [
              0.8888888888888888,
              "#fdca26"
             ],
             [
              1.0,
              "#f0f921"
             ]
            ],
            "type": "surface"
           }
          ],
          "table": [
           {
            "cells": {
             "fill": {
              "color": "#EBF0F8"
             },
             "line": {
              "color": "white"
             }
            },
            "header": {
             "fill": {
              "color": "#C8D4E3"
             },
             "line": {
              "color": "white"
             }
            },
            "type": "table"
           }
          ]
         },
         "layout": {
          "annotationdefaults": {
           "arrowcolor": "#2a3f5f",
           "arrowhead": 0,
           "arrowwidth": 1
          },
          "coloraxis": {
           "colorbar": {
            "outlinewidth": 0,
            "ticks": ""
           }
          },
          "colorscale": {
           "diverging": [
            [
             0,
             "#8e0152"
            ],
            [
             0.1,
             "#c51b7d"
            ],
            [
             0.2,
             "#de77ae"
            ],
            [
             0.3,
             "#f1b6da"
            ],
            [
             0.4,
             "#fde0ef"
            ],
            [
             0.5,
             "#f7f7f7"
            ],
            [
             0.6,
             "#e6f5d0"
            ],
            [
             0.7,
             "#b8e186"
            ],
            [
             0.8,
             "#7fbc41"
            ],
            [
             0.9,
             "#4d9221"
            ],
            [
             1,
             "#276419"
            ]
           ],
           "sequential": [
            [
             0.0,
             "#0d0887"
            ],
            [
             0.1111111111111111,
             "#46039f"
            ],
            [
             0.2222222222222222,
             "#7201a8"
            ],
            [
             0.3333333333333333,
             "#9c179e"
            ],
            [
             0.4444444444444444,
             "#bd3786"
            ],
            [
             0.5555555555555556,
             "#d8576b"
            ],
            [
             0.6666666666666666,
             "#ed7953"
            ],
            [
             0.7777777777777778,
             "#fb9f3a"
            ],
            [
             0.8888888888888888,
             "#fdca26"
            ],
            [
             1.0,
             "#f0f921"
            ]
           ],
           "sequentialminus": [
            [
             0.0,
             "#0d0887"
            ],
            [
             0.1111111111111111,
             "#46039f"
            ],
            [
             0.2222222222222222,
             "#7201a8"
            ],
            [
             0.3333333333333333,
             "#9c179e"
            ],
            [
             0.4444444444444444,
             "#bd3786"
            ],
            [
             0.5555555555555556,
             "#d8576b"
            ],
            [
             0.6666666666666666,
             "#ed7953"
            ],
            [
             0.7777777777777778,
             "#fb9f3a"
            ],
            [
             0.8888888888888888,
             "#fdca26"
            ],
            [
             1.0,
             "#f0f921"
            ]
           ]
          },
          "colorway": [
           "#1f77b4",
           "#ff7f0e",
           "#2ca02c",
           "#d62728",
           "#9467bd",
           "#8c564b",
           "#e377c2",
           "#7f7f7f",
           "#bcbd22",
           "#17becf"
          ],
          "font": {
           "color": "#2a3f5f"
          },
          "geo": {
           "bgcolor": "white",
           "lakecolor": "white",
           "landcolor": "white",
           "showlakes": true,
           "showland": true,
           "subunitcolor": "#C8D4E3"
          },
          "hoverlabel": {
           "align": "left"
          },
          "hovermode": "closest",
          "mapbox": {
           "style": "light"
          },
          "paper_bgcolor": "white",
          "plot_bgcolor": "white",
          "polar": {
           "angularaxis": {
            "gridcolor": "#EBF0F8",
            "linecolor": "#EBF0F8",
            "ticks": ""
           },
           "bgcolor": "white",
           "radialaxis": {
            "gridcolor": "#EBF0F8",
            "linecolor": "#EBF0F8",
            "ticks": ""
           }
          },
          "scene": {
           "camera": {
            "center": {
             "x": 0,
             "y": 0,
             "z": 0
            },
            "eye": {
             "x": 2.0,
             "y": 2.0,
             "z": 2.0
            },
            "up": {
             "x": 0,
             "y": 0,
             "z": 1
            }
           },
           "xaxis": {
            "backgroundcolor": "white",
            "gridcolor": "#DFE8F3",
            "gridwidth": 2,
            "linecolor": "#EBF0F8",
            "showbackground": true,
            "showspikes": false,
            "ticks": "",
            "zerolinecolor": "#EBF0F8"
           },
           "yaxis": {
            "backgroundcolor": "white",
            "gridcolor": "#DFE8F3",
            "gridwidth": 2,
            "linecolor": "#EBF0F8",
            "showbackground": true,
            "showspikes": false,
            "ticks": "",
            "zerolinecolor": "#EBF0F8"
           },
           "zaxis": {
            "backgroundcolor": "white",
            "gridcolor": "#DFE8F3",
            "gridwidth": 2,
            "linecolor": "#EBF0F8",
            "showbackground": true,
            "showspikes": false,
            "ticks": "",
            "zerolinecolor": "#EBF0F8"
           }
          },
          "shapedefaults": {
           "line": {
            "color": "#2a3f5f"
           }
          },
          "ternary": {
           "aaxis": {
            "gridcolor": "#DFE8F3",
            "linecolor": "#A2B1C6",
            "ticks": ""
           },
           "baxis": {
            "gridcolor": "#DFE8F3",
            "linecolor": "#A2B1C6",
            "ticks": ""
           },
           "bgcolor": "white",
           "caxis": {
            "gridcolor": "#DFE8F3",
            "linecolor": "#A2B1C6",
            "ticks": ""
           }
          },
          "title": {
           "x": 0.05
          },
          "xaxis": {
           "automargin": true,
           "gridcolor": "#EBF0F8",
           "linecolor": "black",
           "linewidth": 2.0,
           "mirror": true,
           "showline": true,
           "ticks": "",
           "title": {
            "standoff": 15
           },
           "zeroline": false,
           "zerolinecolor": "#EBF0F8",
           "zerolinewidth": 2
          },
          "yaxis": {
           "automargin": true,
           "gridcolor": "#EBF0F8",
           "linecolor": "black",
           "linewidth": 2.0,
           "mirror": true,
           "showline": true,
           "ticks": "",
           "title": {
            "standoff": 15
           },
           "zeroline": false,
           "zerolinecolor": "#EBF0F8",
           "zerolinewidth": 2
          }
         }
        },
        "title": {
         "text": "<b>Pressure along Theta | Z=4<b>"
        },
        "xaxis": {
         "title": {
          "text": "<b>Theta value</b>"
         }
        },
        "yaxis": {
         "title": {
          "text": "<b>Pressure</b>"
         }
        }
       }
      }
     },
     "metadata": {},
     "output_type": "display_data"
    },
    {
     "data": {
      "application/vnd.plotly.v1+json": {
       "config": {
        "plotlyServerURL": "https://plot.ly"
       },
       "data": [
        {
         "customdata": [
          0.01,
          0.01,
          0.01,
          0.01,
          0.01,
          0.01,
          0.01,
          0.01,
          0.01,
          0.01,
          0.01,
          0.01,
          0.01,
          0.01,
          0.01,
          0.01,
          0.01,
          0.01,
          0.01,
          0.01,
          0.01,
          0.01,
          0.01,
          0.01,
          0.01,
          0.01,
          0.01,
          0.01,
          0.01,
          0.01,
          0.01,
          0.01,
          0.01,
          0.01,
          0.01,
          0.01,
          0.01,
          0.01,
          0.01,
          0.01,
          0.01,
          0.01,
          0.01,
          0.01,
          0.01,
          0.01,
          0.01,
          0.01,
          0.01,
          0.01,
          33682.78583616662,
          33682.78583616662,
          33682.78583616662,
          33682.78583616662,
          33682.78583616662,
          33682.78583616662,
          33682.78583616662,
          33682.78583616662,
          33682.78583616662,
          33682.78583616662,
          33682.78583616662,
          33682.78583616662,
          33682.78583616662,
          33682.78583616662,
          33682.78583616662,
          33682.78583616662,
          33682.78583616662,
          33682.78583616662,
          33682.78583616662,
          33682.78583616662,
          33682.78583616662,
          33682.78583616662,
          33682.78583616662,
          33682.78583616662,
          33682.78583616662,
          33682.78583616662,
          33682.78583616662,
          33682.78583616662,
          33682.78583616662,
          33682.78583616662,
          33682.78583616662,
          33682.78583616662,
          33682.78583616662,
          33682.78583616662,
          33682.78583616662,
          33682.78583616662,
          33682.78583616662,
          33682.78583616662,
          33682.78583616662,
          33682.78583616662,
          33682.78583616662,
          33682.78583616662,
          33682.78583616662,
          33682.78583616662,
          33682.78583616662,
          33682.78583616662,
          33682.78583616662,
          33682.78583616662,
          33682.78583616662,
          33682.78583616662,
          97371.12422708259,
          97371.12422708259,
          97371.12422708259,
          97371.12422708259,
          97371.12422708259,
          97371.12422708259,
          97371.12422708259,
          97371.12422708259,
          97371.12422708259,
          97371.12422708259,
          97371.12422708259,
          97371.12422708259,
          97371.12422708259,
          97371.12422708259,
          97371.12422708259,
          97371.12422708259,
          97371.12422708259,
          97371.12422708259,
          97371.12422708259,
          97371.12422708259,
          97371.12422708259,
          97371.12422708259,
          97371.12422708259,
          97371.12422708259,
          97371.12422708259,
          97371.12422708259,
          97371.12422708259,
          97371.12422708259,
          97371.12422708259,
          97371.12422708259,
          97371.12422708259,
          97371.12422708259,
          97371.12422708259,
          97371.12422708259,
          97371.12422708259,
          97371.12422708259,
          97371.12422708259,
          97371.12422708259,
          97371.12422708259,
          97371.12422708259,
          97371.12422708259,
          97371.12422708259,
          97371.12422708259,
          97371.12422708259,
          97371.12422708259,
          97371.12422708259,
          97371.12422708259,
          97371.12422708259,
          97371.12422708259,
          97371.12422708259,
          178324.4376929094,
          178324.4376929094,
          178324.4376929094,
          178324.4376929094,
          178324.4376929094,
          178324.4376929094,
          178324.4376929094,
          178324.4376929094,
          178324.4376929094,
          178324.4376929094,
          178324.4376929094,
          178324.4376929094,
          178324.4376929094,
          178324.4376929094,
          178324.4376929094,
          178324.4376929094,
          178324.4376929094,
          178324.4376929094,
          178324.4376929094,
          178324.4376929094,
          178324.4376929094,
          178324.4376929094,
          178324.4376929094,
          178324.4376929094,
          178324.4376929094,
          178324.4376929094,
          178324.4376929094,
          178324.4376929094,
          178324.4376929094,
          178324.4376929094,
          178324.4376929094,
          178324.4376929094,
          178324.4376929094,
          178324.4376929094,
          178324.4376929094,
          178324.4376929094,
          178324.4376929094,
          178324.4376929094,
          178324.4376929094,
          178324.4376929094,
          178324.4376929094,
          178324.4376929094,
          178324.4376929094,
          178324.4376929094,
          178324.4376929094,
          178324.4376929094,
          178324.4376929094,
          178324.4376929094,
          178324.4376929094,
          178324.4376929094,
          0.0,
          0.0,
          271670.6658507706,
          271670.6658507706,
          271670.6658507706,
          271670.6658507706,
          271670.6658507706,
          271670.6658507706,
          271670.6658507706,
          271670.6658507706,
          271670.6658507706,
          271670.6658507706,
          271670.6658507706,
          271670.6658507706,
          271670.6658507706,
          271670.6658507706,
          271670.6658507706,
          271670.6658507706,
          271670.6658507706,
          271670.6658507706,
          271670.6658507706,
          271670.6658507706,
          271670.6658507706,
          271670.6658507706,
          271670.6658507706,
          271670.6658507706,
          271670.6658507706,
          271670.6658507706,
          271670.6658507706,
          271670.6658507706,
          271670.6658507706,
          271670.6658507706,
          271670.6658507706,
          271670.6658507706,
          271670.6658507706,
          271670.6658507706,
          271670.6658507706,
          271670.6658507706,
          271670.6658507706,
          271670.6658507706,
          271670.6658507706,
          271670.6658507706,
          271670.6658507706,
          271670.6658507706,
          271670.6658507706,
          271670.6658507706,
          271670.6658507706,
          271670.6658507706,
          271670.6658507706,
          271670.6658507706,
          0.0,
          0.0,
          0.0,
          0.0,
          0.0,
          0.0,
          0.0,
          351395.0337640077,
          351395.0337640077,
          351395.0337640077,
          351395.0337640077,
          351395.0337640077,
          351395.0337640077,
          351395.0337640077,
          351395.0337640077,
          351395.0337640077,
          351395.0337640077,
          351395.0337640077,
          351395.0337640077,
          351395.0337640077,
          351395.0337640077,
          351395.0337640077,
          351395.0337640077,
          351395.0337640077,
          351395.0337640077,
          351395.0337640077,
          351395.0337640077,
          351395.0337640077,
          351395.0337640077,
          351395.0337640077,
          351395.0337640077,
          351395.0337640077,
          351395.0337640077,
          351395.0337640077,
          351395.0337640077,
          351395.0337640077,
          351395.0337640077,
          351395.0337640077,
          351395.0337640077,
          351395.0337640077,
          351395.0337640077,
          351395.0337640077,
          351395.0337640077,
          351395.0337640077,
          351395.0337640077,
          351395.0337640077,
          351395.0337640077,
          351395.0337640077,
          351395.0337640077,
          351395.0337640077,
          0.0,
          0.0,
          0.0,
          0.0,
          0.0,
          0.0,
          0.0,
          0.0,
          0.0,
          0.0,
          0.0,
          358465.103012605,
          358465.103012605,
          358465.103012605,
          358465.103012605,
          358465.103012605,
          358465.103012605,
          358465.103012605,
          358465.103012605,
          358465.103012605,
          358465.103012605,
          358465.103012605,
          358465.103012605,
          358465.103012605,
          358465.103012605,
          358465.103012605,
          358465.103012605,
          358465.103012605,
          358465.103012605,
          358465.103012605,
          358465.103012605,
          358465.103012605,
          358465.103012605,
          358465.103012605,
          358465.103012605,
          358465.103012605,
          358465.103012605,
          358465.103012605,
          358465.103012605,
          358465.103012605,
          358465.103012605,
          358465.103012605,
          358465.103012605,
          358465.103012605,
          358465.103012605,
          358465.103012605,
          358465.103012605,
          358465.103012605,
          358465.103012605,
          358465.103012605,
          0.0,
          0.0,
          0.0,
          0.0,
          0.0,
          0.0,
          0.0,
          0.0,
          0.0,
          0.0,
          0.0,
          0.0,
          0.0,
          233451.39721394365,
          233451.39721394365,
          233451.39721394365,
          233451.39721394365,
          233451.39721394365,
          233451.39721394365,
          233451.39721394365,
          233451.39721394365,
          233451.39721394365,
          233451.39721394365,
          233451.39721394365,
          233451.39721394365,
          233451.39721394365,
          233451.39721394365,
          233451.39721394365,
          233451.39721394365,
          233451.39721394365,
          233451.39721394365,
          233451.39721394365,
          233451.39721394365,
          233451.39721394365,
          233451.39721394365,
          233451.39721394365,
          233451.39721394365,
          233451.39721394365,
          233451.39721394365,
          233451.39721394365,
          233451.39721394365,
          233451.39721394365,
          233451.39721394365,
          233451.39721394365,
          233451.39721394365,
          233451.39721394365,
          233451.39721394365,
          233451.39721394365,
          233451.39721394365,
          233451.39721394365,
          0.0,
          0.0,
          0.0,
          0.0,
          0.0,
          0.0,
          0.0,
          0.0,
          0.0,
          0.0,
          0.0,
          0.0,
          0.0,
          6090.46583180495,
          6090.46583180495,
          6090.46583180495,
          6090.46583180495,
          6090.46583180495,
          6090.46583180495,
          6090.46583180495,
          6090.46583180495,
          6090.46583180495,
          6090.46583180495,
          6090.46583180495,
          6090.46583180495,
          6090.46583180495,
          6090.46583180495,
          6090.46583180495,
          6090.46583180495,
          6090.46583180495,
          6090.46583180495,
          6090.46583180495,
          6090.46583180495,
          6090.46583180495,
          6090.46583180495,
          6090.46583180495,
          6090.46583180495,
          6090.46583180495,
          6090.46583180495,
          6090.46583180495,
          6090.46583180495,
          6090.46583180495,
          6090.46583180495,
          6090.46583180495,
          6090.46583180495,
          6090.46583180495,
          6090.46583180495,
          6090.46583180495,
          6090.46583180495,
          6090.46583180495,
          0.0,
          0.0,
          0.0,
          0.0,
          0.0,
          0.0,
          0.0,
          0.0,
          0.0,
          0.0,
          0.0,
          0.01,
          0.01,
          0.01,
          0.01,
          0.01,
          0.01,
          0.01,
          0.01,
          0.01,
          0.01,
          0.01,
          0.01,
          0.01,
          0.01,
          0.01,
          0.01,
          0.01,
          0.01,
          0.01,
          0.01,
          0.01,
          0.01,
          0.01,
          0.01,
          0.01,
          0.01,
          0.01,
          0.01,
          0.01,
          0.01,
          0.01,
          0.01,
          0.01,
          0.01,
          0.01,
          0.01,
          0.01,
          0.01,
          0.01,
          0.0,
          0.0,
          0.0,
          0.0,
          0.0,
          0.0,
          0.0,
          0.01,
          0.01,
          0.01,
          0.01,
          0.01,
          0.01,
          0.01,
          0.01,
          0.01,
          0.01,
          0.01,
          0.01,
          0.01,
          0.01,
          0.01,
          0.01,
          0.01,
          0.01,
          0.01,
          0.01,
          0.01,
          0.01,
          0.01,
          0.01,
          0.01,
          0.01,
          0.01,
          0.01,
          0.01,
          0.01,
          0.01,
          0.01,
          0.01,
          0.01,
          0.01,
          0.01,
          0.01,
          0.01,
          0.01,
          0.01,
          0.01,
          0.01,
          0.01,
          0.0,
          0.0,
          0.01,
          0.01,
          0.01,
          0.01,
          0.01,
          0.01,
          0.01,
          0.01,
          0.01,
          0.01,
          0.01,
          0.01,
          0.01,
          0.01,
          0.01,
          0.01,
          0.01,
          0.01,
          0.01,
          0.01,
          0.01,
          0.01,
          0.01,
          0.01,
          0.01,
          0.01,
          0.01,
          0.01,
          0.01,
          0.01,
          0.01,
          0.01,
          0.01,
          0.01,
          0.01,
          0.01,
          0.01,
          0.01,
          0.01,
          0.01,
          0.01,
          0.01,
          0.01,
          0.01,
          0.01,
          0.01,
          0.01,
          0.01,
          0.01,
          0.01,
          0.01,
          0.01,
          0.01,
          0.01,
          0.01,
          0.01,
          0.01,
          0.01,
          0.01,
          0.01,
          0.01,
          0.01,
          0.01,
          0.01,
          0.01,
          0.01,
          0.01,
          0.01,
          0.01,
          0.01,
          0.01,
          0.01,
          0.01,
          0.01,
          0.01,
          0.01,
          0.01,
          0.01,
          0.01,
          0.01,
          0.01,
          0.01,
          0.01,
          0.01,
          0.01,
          0.01,
          0.01,
          0.01,
          0.01,
          0.01,
          0.01,
          0.01,
          0.01,
          0.01,
          0.01,
          0.01,
          0.01,
          0.01,
          0.01,
          0.01,
          0.01,
          0.01,
          0.01,
          0.01,
          0.01,
          0.01,
          0.01,
          0.01,
          0.01,
          0.01,
          0.01,
          0.01,
          0.01,
          0.01,
          0.01,
          0.01,
          0.01,
          0.01,
          0.01,
          0.01,
          0.01,
          0.01,
          0.01,
          0.01,
          0.01,
          0.01,
          0.01,
          0.01,
          0.01,
          0.01,
          0.01,
          0.01,
          0.01,
          0.01,
          0.01,
          0.01,
          0.01,
          0.01,
          0.01,
          0.01,
          0.01,
          0.01,
          0.01,
          0.01,
          0.01,
          0.01,
          0.01,
          0.01,
          0.01,
          0.01,
          0.01,
          0.01,
          0.01,
          0.01,
          0.01,
          0.01,
          0.01,
          0.01,
          0.01,
          0.01,
          0.01,
          0.01,
          0.01,
          0.01,
          0.01,
          0.01,
          0.01,
          0.01,
          0.01,
          0.01,
          0.01,
          0.01,
          0.01,
          0.01,
          0.01,
          0.01,
          0.01,
          0.01,
          0.01,
          0.01,
          0.01,
          0.01,
          0.01,
          0.01,
          0.01,
          0.01,
          0.01,
          0.01,
          0.01,
          0.01,
          0.01,
          0.01,
          0.01,
          0.01,
          0.01,
          0.01,
          0.01,
          0.01,
          0.01,
          0.01,
          0.01,
          0.01,
          0.01,
          0.01,
          0.01,
          0.01,
          0.01,
          0.01,
          0.01,
          0.01,
          0.01,
          0.01,
          0.01,
          0.01,
          0.01,
          0.01,
          0.01,
          0.01,
          0.01,
          0.01,
          0.01,
          0.01,
          0.01,
          0.01,
          0.01,
          0.01,
          0.01,
          0.01,
          0.01,
          0.01,
          0.01,
          0.01,
          0.01,
          0.01,
          0.01,
          0.01,
          0.01,
          0.01,
          0.01,
          0.01,
          0.01,
          0.01,
          0.01,
          0.01,
          0.01,
          0.01,
          0.01,
          0.01
         ],
         "hovertemplate": "<b>Raddi: %{r:.4e}</b><br><b>θ: %{theta:.2f}</b><br><b>Pressure: %{customdata:.4e}</b>",
         "marker": {
          "cmax": 358465.103012605,
          "cmin": 0.0,
          "color": [
           0.01,
           0.01,
           0.01,
           0.01,
           0.01,
           0.01,
           0.01,
           0.01,
           0.01,
           0.01,
           0.01,
           0.01,
           0.01,
           0.01,
           0.01,
           0.01,
           0.01,
           0.01,
           0.01,
           0.01,
           0.01,
           0.01,
           0.01,
           0.01,
           0.01,
           0.01,
           0.01,
           0.01,
           0.01,
           0.01,
           0.01,
           0.01,
           0.01,
           0.01,
           0.01,
           0.01,
           0.01,
           0.01,
           0.01,
           0.01,
           0.01,
           0.01,
           0.01,
           0.01,
           0.01,
           0.01,
           0.01,
           0.01,
           0.01,
           0.01,
           33682.78583616662,
           33682.78583616662,
           33682.78583616662,
           33682.78583616662,
           33682.78583616662,
           33682.78583616662,
           33682.78583616662,
           33682.78583616662,
           33682.78583616662,
           33682.78583616662,
           33682.78583616662,
           33682.78583616662,
           33682.78583616662,
           33682.78583616662,
           33682.78583616662,
           33682.78583616662,
           33682.78583616662,
           33682.78583616662,
           33682.78583616662,
           33682.78583616662,
           33682.78583616662,
           33682.78583616662,
           33682.78583616662,
           33682.78583616662,
           33682.78583616662,
           33682.78583616662,
           33682.78583616662,
           33682.78583616662,
           33682.78583616662,
           33682.78583616662,
           33682.78583616662,
           33682.78583616662,
           33682.78583616662,
           33682.78583616662,
           33682.78583616662,
           33682.78583616662,
           33682.78583616662,
           33682.78583616662,
           33682.78583616662,
           33682.78583616662,
           33682.78583616662,
           33682.78583616662,
           33682.78583616662,
           33682.78583616662,
           33682.78583616662,
           33682.78583616662,
           33682.78583616662,
           33682.78583616662,
           33682.78583616662,
           33682.78583616662,
           97371.12422708259,
           97371.12422708259,
           97371.12422708259,
           97371.12422708259,
           97371.12422708259,
           97371.12422708259,
           97371.12422708259,
           97371.12422708259,
           97371.12422708259,
           97371.12422708259,
           97371.12422708259,
           97371.12422708259,
           97371.12422708259,
           97371.12422708259,
           97371.12422708259,
           97371.12422708259,
           97371.12422708259,
           97371.12422708259,
           97371.12422708259,
           97371.12422708259,
           97371.12422708259,
           97371.12422708259,
           97371.12422708259,
           97371.12422708259,
           97371.12422708259,
           97371.12422708259,
           97371.12422708259,
           97371.12422708259,
           97371.12422708259,
           97371.12422708259,
           97371.12422708259,
           97371.12422708259,
           97371.12422708259,
           97371.12422708259,
           97371.12422708259,
           97371.12422708259,
           97371.12422708259,
           97371.12422708259,
           97371.12422708259,
           97371.12422708259,
           97371.12422708259,
           97371.12422708259,
           97371.12422708259,
           97371.12422708259,
           97371.12422708259,
           97371.12422708259,
           97371.12422708259,
           97371.12422708259,
           97371.12422708259,
           97371.12422708259,
           178324.4376929094,
           178324.4376929094,
           178324.4376929094,
           178324.4376929094,
           178324.4376929094,
           178324.4376929094,
           178324.4376929094,
           178324.4376929094,
           178324.4376929094,
           178324.4376929094,
           178324.4376929094,
           178324.4376929094,
           178324.4376929094,
           178324.4376929094,
           178324.4376929094,
           178324.4376929094,
           178324.4376929094,
           178324.4376929094,
           178324.4376929094,
           178324.4376929094,
           178324.4376929094,
           178324.4376929094,
           178324.4376929094,
           178324.4376929094,
           178324.4376929094,
           178324.4376929094,
           178324.4376929094,
           178324.4376929094,
           178324.4376929094,
           178324.4376929094,
           178324.4376929094,
           178324.4376929094,
           178324.4376929094,
           178324.4376929094,
           178324.4376929094,
           178324.4376929094,
           178324.4376929094,
           178324.4376929094,
           178324.4376929094,
           178324.4376929094,
           178324.4376929094,
           178324.4376929094,
           178324.4376929094,
           178324.4376929094,
           178324.4376929094,
           178324.4376929094,
           178324.4376929094,
           178324.4376929094,
           178324.4376929094,
           178324.4376929094,
           0.0,
           0.0,
           271670.6658507706,
           271670.6658507706,
           271670.6658507706,
           271670.6658507706,
           271670.6658507706,
           271670.6658507706,
           271670.6658507706,
           271670.6658507706,
           271670.6658507706,
           271670.6658507706,
           271670.6658507706,
           271670.6658507706,
           271670.6658507706,
           271670.6658507706,
           271670.6658507706,
           271670.6658507706,
           271670.6658507706,
           271670.6658507706,
           271670.6658507706,
           271670.6658507706,
           271670.6658507706,
           271670.6658507706,
           271670.6658507706,
           271670.6658507706,
           271670.6658507706,
           271670.6658507706,
           271670.6658507706,
           271670.6658507706,
           271670.6658507706,
           271670.6658507706,
           271670.6658507706,
           271670.6658507706,
           271670.6658507706,
           271670.6658507706,
           271670.6658507706,
           271670.6658507706,
           271670.6658507706,
           271670.6658507706,
           271670.6658507706,
           271670.6658507706,
           271670.6658507706,
           271670.6658507706,
           271670.6658507706,
           271670.6658507706,
           271670.6658507706,
           271670.6658507706,
           271670.6658507706,
           271670.6658507706,
           0.0,
           0.0,
           0.0,
           0.0,
           0.0,
           0.0,
           0.0,
           351395.0337640077,
           351395.0337640077,
           351395.0337640077,
           351395.0337640077,
           351395.0337640077,
           351395.0337640077,
           351395.0337640077,
           351395.0337640077,
           351395.0337640077,
           351395.0337640077,
           351395.0337640077,
           351395.0337640077,
           351395.0337640077,
           351395.0337640077,
           351395.0337640077,
           351395.0337640077,
           351395.0337640077,
           351395.0337640077,
           351395.0337640077,
           351395.0337640077,
           351395.0337640077,
           351395.0337640077,
           351395.0337640077,
           351395.0337640077,
           351395.0337640077,
           351395.0337640077,
           351395.0337640077,
           351395.0337640077,
           351395.0337640077,
           351395.0337640077,
           351395.0337640077,
           351395.0337640077,
           351395.0337640077,
           351395.0337640077,
           351395.0337640077,
           351395.0337640077,
           351395.0337640077,
           351395.0337640077,
           351395.0337640077,
           351395.0337640077,
           351395.0337640077,
           351395.0337640077,
           351395.0337640077,
           0.0,
           0.0,
           0.0,
           0.0,
           0.0,
           0.0,
           0.0,
           0.0,
           0.0,
           0.0,
           0.0,
           358465.103012605,
           358465.103012605,
           358465.103012605,
           358465.103012605,
           358465.103012605,
           358465.103012605,
           358465.103012605,
           358465.103012605,
           358465.103012605,
           358465.103012605,
           358465.103012605,
           358465.103012605,
           358465.103012605,
           358465.103012605,
           358465.103012605,
           358465.103012605,
           358465.103012605,
           358465.103012605,
           358465.103012605,
           358465.103012605,
           358465.103012605,
           358465.103012605,
           358465.103012605,
           358465.103012605,
           358465.103012605,
           358465.103012605,
           358465.103012605,
           358465.103012605,
           358465.103012605,
           358465.103012605,
           358465.103012605,
           358465.103012605,
           358465.103012605,
           358465.103012605,
           358465.103012605,
           358465.103012605,
           358465.103012605,
           358465.103012605,
           358465.103012605,
           0.0,
           0.0,
           0.0,
           0.0,
           0.0,
           0.0,
           0.0,
           0.0,
           0.0,
           0.0,
           0.0,
           0.0,
           0.0,
           233451.39721394365,
           233451.39721394365,
           233451.39721394365,
           233451.39721394365,
           233451.39721394365,
           233451.39721394365,
           233451.39721394365,
           233451.39721394365,
           233451.39721394365,
           233451.39721394365,
           233451.39721394365,
           233451.39721394365,
           233451.39721394365,
           233451.39721394365,
           233451.39721394365,
           233451.39721394365,
           233451.39721394365,
           233451.39721394365,
           233451.39721394365,
           233451.39721394365,
           233451.39721394365,
           233451.39721394365,
           233451.39721394365,
           233451.39721394365,
           233451.39721394365,
           233451.39721394365,
           233451.39721394365,
           233451.39721394365,
           233451.39721394365,
           233451.39721394365,
           233451.39721394365,
           233451.39721394365,
           233451.39721394365,
           233451.39721394365,
           233451.39721394365,
           233451.39721394365,
           233451.39721394365,
           0.0,
           0.0,
           0.0,
           0.0,
           0.0,
           0.0,
           0.0,
           0.0,
           0.0,
           0.0,
           0.0,
           0.0,
           0.0,
           6090.46583180495,
           6090.46583180495,
           6090.46583180495,
           6090.46583180495,
           6090.46583180495,
           6090.46583180495,
           6090.46583180495,
           6090.46583180495,
           6090.46583180495,
           6090.46583180495,
           6090.46583180495,
           6090.46583180495,
           6090.46583180495,
           6090.46583180495,
           6090.46583180495,
           6090.46583180495,
           6090.46583180495,
           6090.46583180495,
           6090.46583180495,
           6090.46583180495,
           6090.46583180495,
           6090.46583180495,
           6090.46583180495,
           6090.46583180495,
           6090.46583180495,
           6090.46583180495,
           6090.46583180495,
           6090.46583180495,
           6090.46583180495,
           6090.46583180495,
           6090.46583180495,
           6090.46583180495,
           6090.46583180495,
           6090.46583180495,
           6090.46583180495,
           6090.46583180495,
           6090.46583180495,
           0.0,
           0.0,
           0.0,
           0.0,
           0.0,
           0.0,
           0.0,
           0.0,
           0.0,
           0.0,
           0.0,
           0.01,
           0.01,
           0.01,
           0.01,
           0.01,
           0.01,
           0.01,
           0.01,
           0.01,
           0.01,
           0.01,
           0.01,
           0.01,
           0.01,
           0.01,
           0.01,
           0.01,
           0.01,
           0.01,
           0.01,
           0.01,
           0.01,
           0.01,
           0.01,
           0.01,
           0.01,
           0.01,
           0.01,
           0.01,
           0.01,
           0.01,
           0.01,
           0.01,
           0.01,
           0.01,
           0.01,
           0.01,
           0.01,
           0.01,
           0.0,
           0.0,
           0.0,
           0.0,
           0.0,
           0.0,
           0.0,
           0.01,
           0.01,
           0.01,
           0.01,
           0.01,
           0.01,
           0.01,
           0.01,
           0.01,
           0.01,
           0.01,
           0.01,
           0.01,
           0.01,
           0.01,
           0.01,
           0.01,
           0.01,
           0.01,
           0.01,
           0.01,
           0.01,
           0.01,
           0.01,
           0.01,
           0.01,
           0.01,
           0.01,
           0.01,
           0.01,
           0.01,
           0.01,
           0.01,
           0.01,
           0.01,
           0.01,
           0.01,
           0.01,
           0.01,
           0.01,
           0.01,
           0.01,
           0.01,
           0.0,
           0.0,
           0.01,
           0.01,
           0.01,
           0.01,
           0.01,
           0.01,
           0.01,
           0.01,
           0.01,
           0.01,
           0.01,
           0.01,
           0.01,
           0.01,
           0.01,
           0.01,
           0.01,
           0.01,
           0.01,
           0.01,
           0.01,
           0.01,
           0.01,
           0.01,
           0.01,
           0.01,
           0.01,
           0.01,
           0.01,
           0.01,
           0.01,
           0.01,
           0.01,
           0.01,
           0.01,
           0.01,
           0.01,
           0.01,
           0.01,
           0.01,
           0.01,
           0.01,
           0.01,
           0.01,
           0.01,
           0.01,
           0.01,
           0.01,
           0.01,
           0.01,
           0.01,
           0.01,
           0.01,
           0.01,
           0.01,
           0.01,
           0.01,
           0.01,
           0.01,
           0.01,
           0.01,
           0.01,
           0.01,
           0.01,
           0.01,
           0.01,
           0.01,
           0.01,
           0.01,
           0.01,
           0.01,
           0.01,
           0.01,
           0.01,
           0.01,
           0.01,
           0.01,
           0.01,
           0.01,
           0.01,
           0.01,
           0.01,
           0.01,
           0.01,
           0.01,
           0.01,
           0.01,
           0.01,
           0.01,
           0.01,
           0.01,
           0.01,
           0.01,
           0.01,
           0.01,
           0.01,
           0.01,
           0.01,
           0.01,
           0.01,
           0.01,
           0.01,
           0.01,
           0.01,
           0.01,
           0.01,
           0.01,
           0.01,
           0.01,
           0.01,
           0.01,
           0.01,
           0.01,
           0.01,
           0.01,
           0.01,
           0.01,
           0.01,
           0.01,
           0.01,
           0.01,
           0.01,
           0.01,
           0.01,
           0.01,
           0.01,
           0.01,
           0.01,
           0.01,
           0.01,
           0.01,
           0.01,
           0.01,
           0.01,
           0.01,
           0.01,
           0.01,
           0.01,
           0.01,
           0.01,
           0.01,
           0.01,
           0.01,
           0.01,
           0.01,
           0.01,
           0.01,
           0.01,
           0.01,
           0.01,
           0.01,
           0.01,
           0.01,
           0.01,
           0.01,
           0.01,
           0.01,
           0.01,
           0.01,
           0.01,
           0.01,
           0.01,
           0.01,
           0.01,
           0.01,
           0.01,
           0.01,
           0.01,
           0.01,
           0.01,
           0.01,
           0.01,
           0.01,
           0.01,
           0.01,
           0.01,
           0.01,
           0.01,
           0.01,
           0.01,
           0.01,
           0.01,
           0.01,
           0.01,
           0.01,
           0.01,
           0.01,
           0.01,
           0.01,
           0.01,
           0.01,
           0.01,
           0.01,
           0.01,
           0.01,
           0.01,
           0.01,
           0.01,
           0.01,
           0.01,
           0.01,
           0.01,
           0.01,
           0.01,
           0.01,
           0.01,
           0.01,
           0.01,
           0.01,
           0.01,
           0.01,
           0.01,
           0.01,
           0.01,
           0.01,
           0.01,
           0.01,
           0.01,
           0.01,
           0.01,
           0.01,
           0.01,
           0.01,
           0.01,
           0.01,
           0.01,
           0.01,
           0.01,
           0.01,
           0.01,
           0.01,
           0.01,
           0.01,
           0.01,
           0.01,
           0.01,
           0.01,
           0.01,
           0.01,
           0.01,
           0.01,
           0.01,
           0.01,
           0.01,
           0.01,
           0.01,
           0.01,
           0.01
          ],
          "colorbar": {
           "title": {
            "side": "top",
            "text": "<b>Pressure</b>"
           }
          },
          "colorscale": [
           [
            0.0,
            "#440154"
           ],
           [
            0.1111111111111111,
            "#482878"
           ],
           [
            0.2222222222222222,
            "#3e4989"
           ],
           [
            0.3333333333333333,
            "#31688e"
           ],
           [
            0.4444444444444444,
            "#26828e"
           ],
           [
            0.5555555555555556,
            "#1f9e89"
           ],
           [
            0.6666666666666666,
            "#35b779"
           ],
           [
            0.7777777777777778,
            "#6ece58"
           ],
           [
            0.8888888888888888,
            "#b5de2b"
           ],
           [
            1.0,
            "#fde725"
           ]
          ]
         },
         "name": "Pressure",
         "r": [
          0.0499,
          0.04990204081632653,
          0.04990408163265306,
          0.049906122448979594,
          0.04990816326530612,
          0.04991020408163265,
          0.04991224489795918,
          0.04991428571428572,
          0.049916326530612246,
          0.049918367346938775,
          0.049920408163265304,
          0.04992244897959184,
          0.04992448979591837,
          0.0499265306122449,
          0.049928571428571426,
          0.04993061224489796,
          0.04993265306122449,
          0.04993469387755102,
          0.04993673469387755,
          0.049938775510204085,
          0.049940816326530614,
          0.04994285714285714,
          0.04994489795918367,
          0.04994693877551021,
          0.04994897959183674,
          0.049951020408163266,
          0.049953061224489795,
          0.04995510204081633,
          0.04995714285714286,
          0.04995918367346939,
          0.04996122448979592,
          0.049963265306122454,
          0.04996530612244898,
          0.04996734693877551,
          0.04996938775510204,
          0.049971428571428576,
          0.049973469387755105,
          0.049975510204081634,
          0.04997755102040816,
          0.0499795918367347,
          0.04998163265306123,
          0.04998367346938776,
          0.049985714285714286,
          0.04998775510204082,
          0.04998979591836735,
          0.04999183673469388,
          0.04999387755102041,
          0.049995918367346945,
          0.049997959183673474,
          0.05,
          0.0499,
          0.04990204081632653,
          0.04990408163265306,
          0.049906122448979594,
          0.04990816326530612,
          0.04991020408163265,
          0.04991224489795918,
          0.04991428571428572,
          0.049916326530612246,
          0.049918367346938775,
          0.049920408163265304,
          0.04992244897959184,
          0.04992448979591837,
          0.0499265306122449,
          0.049928571428571426,
          0.04993061224489796,
          0.04993265306122449,
          0.04993469387755102,
          0.04993673469387755,
          0.049938775510204085,
          0.049940816326530614,
          0.04994285714285714,
          0.04994489795918367,
          0.04994693877551021,
          0.04994897959183674,
          0.049951020408163266,
          0.049953061224489795,
          0.04995510204081633,
          0.04995714285714286,
          0.04995918367346939,
          0.04996122448979592,
          0.049963265306122454,
          0.04996530612244898,
          0.04996734693877551,
          0.04996938775510204,
          0.049971428571428576,
          0.049973469387755105,
          0.049975510204081634,
          0.04997755102040816,
          0.0499795918367347,
          0.04998163265306123,
          0.04998367346938776,
          0.049985714285714286,
          0.04998775510204082,
          0.04998979591836735,
          0.04999183673469388,
          0.04999387755102041,
          0.049995918367346945,
          0.049997959183673474,
          0.05,
          0.0499,
          0.04990204081632653,
          0.04990408163265306,
          0.049906122448979594,
          0.04990816326530612,
          0.04991020408163265,
          0.04991224489795918,
          0.04991428571428572,
          0.049916326530612246,
          0.049918367346938775,
          0.049920408163265304,
          0.04992244897959184,
          0.04992448979591837,
          0.0499265306122449,
          0.049928571428571426,
          0.04993061224489796,
          0.04993265306122449,
          0.04993469387755102,
          0.04993673469387755,
          0.049938775510204085,
          0.049940816326530614,
          0.04994285714285714,
          0.04994489795918367,
          0.04994693877551021,
          0.04994897959183674,
          0.049951020408163266,
          0.049953061224489795,
          0.04995510204081633,
          0.04995714285714286,
          0.04995918367346939,
          0.04996122448979592,
          0.049963265306122454,
          0.04996530612244898,
          0.04996734693877551,
          0.04996938775510204,
          0.049971428571428576,
          0.049973469387755105,
          0.049975510204081634,
          0.04997755102040816,
          0.0499795918367347,
          0.04998163265306123,
          0.04998367346938776,
          0.049985714285714286,
          0.04998775510204082,
          0.04998979591836735,
          0.04999183673469388,
          0.04999387755102041,
          0.049995918367346945,
          0.049997959183673474,
          0.05,
          0.0499,
          0.04990204081632653,
          0.04990408163265306,
          0.049906122448979594,
          0.04990816326530612,
          0.04991020408163265,
          0.04991224489795918,
          0.04991428571428572,
          0.049916326530612246,
          0.049918367346938775,
          0.049920408163265304,
          0.04992244897959184,
          0.04992448979591837,
          0.0499265306122449,
          0.049928571428571426,
          0.04993061224489796,
          0.04993265306122449,
          0.04993469387755102,
          0.04993673469387755,
          0.049938775510204085,
          0.049940816326530614,
          0.04994285714285714,
          0.04994489795918367,
          0.04994693877551021,
          0.04994897959183674,
          0.049951020408163266,
          0.049953061224489795,
          0.04995510204081633,
          0.04995714285714286,
          0.04995918367346939,
          0.04996122448979592,
          0.049963265306122454,
          0.04996530612244898,
          0.04996734693877551,
          0.04996938775510204,
          0.049971428571428576,
          0.049973469387755105,
          0.049975510204081634,
          0.04997755102040816,
          0.0499795918367347,
          0.04998163265306123,
          0.04998367346938776,
          0.049985714285714286,
          0.04998775510204082,
          0.04998979591836735,
          0.04999183673469388,
          0.04999387755102041,
          0.049995918367346945,
          0.049997959183673474,
          0.05,
          0.0499,
          0.04990204081632653,
          0.04990408163265306,
          0.049906122448979594,
          0.04990816326530612,
          0.04991020408163265,
          0.04991224489795918,
          0.04991428571428572,
          0.049916326530612246,
          0.049918367346938775,
          0.049920408163265304,
          0.04992244897959184,
          0.04992448979591837,
          0.0499265306122449,
          0.049928571428571426,
          0.04993061224489796,
          0.04993265306122449,
          0.04993469387755102,
          0.04993673469387755,
          0.049938775510204085,
          0.049940816326530614,
          0.04994285714285714,
          0.04994489795918367,
          0.04994693877551021,
          0.04994897959183674,
          0.049951020408163266,
          0.049953061224489795,
          0.04995510204081633,
          0.04995714285714286,
          0.04995918367346939,
          0.04996122448979592,
          0.049963265306122454,
          0.04996530612244898,
          0.04996734693877551,
          0.04996938775510204,
          0.049971428571428576,
          0.049973469387755105,
          0.049975510204081634,
          0.04997755102040816,
          0.0499795918367347,
          0.04998163265306123,
          0.04998367346938776,
          0.049985714285714286,
          0.04998775510204082,
          0.04998979591836735,
          0.04999183673469388,
          0.04999387755102041,
          0.049995918367346945,
          0.049997959183673474,
          0.05,
          0.0499,
          0.04990204081632653,
          0.04990408163265306,
          0.049906122448979594,
          0.04990816326530612,
          0.04991020408163265,
          0.04991224489795918,
          0.04991428571428572,
          0.049916326530612246,
          0.049918367346938775,
          0.049920408163265304,
          0.04992244897959184,
          0.04992448979591837,
          0.0499265306122449,
          0.049928571428571426,
          0.04993061224489796,
          0.04993265306122449,
          0.04993469387755102,
          0.04993673469387755,
          0.049938775510204085,
          0.049940816326530614,
          0.04994285714285714,
          0.04994489795918367,
          0.04994693877551021,
          0.04994897959183674,
          0.049951020408163266,
          0.049953061224489795,
          0.04995510204081633,
          0.04995714285714286,
          0.04995918367346939,
          0.04996122448979592,
          0.049963265306122454,
          0.04996530612244898,
          0.04996734693877551,
          0.04996938775510204,
          0.049971428571428576,
          0.049973469387755105,
          0.049975510204081634,
          0.04997755102040816,
          0.0499795918367347,
          0.04998163265306123,
          0.04998367346938776,
          0.049985714285714286,
          0.04998775510204082,
          0.04998979591836735,
          0.04999183673469388,
          0.04999387755102041,
          0.049995918367346945,
          0.049997959183673474,
          0.05,
          0.0499,
          0.04990204081632653,
          0.04990408163265306,
          0.049906122448979594,
          0.04990816326530612,
          0.04991020408163265,
          0.04991224489795918,
          0.04991428571428572,
          0.049916326530612246,
          0.049918367346938775,
          0.049920408163265304,
          0.04992244897959184,
          0.04992448979591837,
          0.0499265306122449,
          0.049928571428571426,
          0.04993061224489796,
          0.04993265306122449,
          0.04993469387755102,
          0.04993673469387755,
          0.049938775510204085,
          0.049940816326530614,
          0.04994285714285714,
          0.04994489795918367,
          0.04994693877551021,
          0.04994897959183674,
          0.049951020408163266,
          0.049953061224489795,
          0.04995510204081633,
          0.04995714285714286,
          0.04995918367346939,
          0.04996122448979592,
          0.049963265306122454,
          0.04996530612244898,
          0.04996734693877551,
          0.04996938775510204,
          0.049971428571428576,
          0.049973469387755105,
          0.049975510204081634,
          0.04997755102040816,
          0.0499795918367347,
          0.04998163265306123,
          0.04998367346938776,
          0.049985714285714286,
          0.04998775510204082,
          0.04998979591836735,
          0.04999183673469388,
          0.04999387755102041,
          0.049995918367346945,
          0.049997959183673474,
          0.05,
          0.0499,
          0.04990204081632653,
          0.04990408163265306,
          0.049906122448979594,
          0.04990816326530612,
          0.04991020408163265,
          0.04991224489795918,
          0.04991428571428572,
          0.049916326530612246,
          0.049918367346938775,
          0.049920408163265304,
          0.04992244897959184,
          0.04992448979591837,
          0.0499265306122449,
          0.049928571428571426,
          0.04993061224489796,
          0.04993265306122449,
          0.04993469387755102,
          0.04993673469387755,
          0.049938775510204085,
          0.049940816326530614,
          0.04994285714285714,
          0.04994489795918367,
          0.04994693877551021,
          0.04994897959183674,
          0.049951020408163266,
          0.049953061224489795,
          0.04995510204081633,
          0.04995714285714286,
          0.04995918367346939,
          0.04996122448979592,
          0.049963265306122454,
          0.04996530612244898,
          0.04996734693877551,
          0.04996938775510204,
          0.049971428571428576,
          0.049973469387755105,
          0.049975510204081634,
          0.04997755102040816,
          0.0499795918367347,
          0.04998163265306123,
          0.04998367346938776,
          0.049985714285714286,
          0.04998775510204082,
          0.04998979591836735,
          0.04999183673469388,
          0.04999387755102041,
          0.049995918367346945,
          0.049997959183673474,
          0.05,
          0.0499,
          0.04990204081632653,
          0.04990408163265306,
          0.049906122448979594,
          0.04990816326530612,
          0.04991020408163265,
          0.04991224489795918,
          0.04991428571428572,
          0.049916326530612246,
          0.049918367346938775,
          0.049920408163265304,
          0.04992244897959184,
          0.04992448979591837,
          0.0499265306122449,
          0.049928571428571426,
          0.04993061224489796,
          0.04993265306122449,
          0.04993469387755102,
          0.04993673469387755,
          0.049938775510204085,
          0.049940816326530614,
          0.04994285714285714,
          0.04994489795918367,
          0.04994693877551021,
          0.04994897959183674,
          0.049951020408163266,
          0.049953061224489795,
          0.04995510204081633,
          0.04995714285714286,
          0.04995918367346939,
          0.04996122448979592,
          0.049963265306122454,
          0.04996530612244898,
          0.04996734693877551,
          0.04996938775510204,
          0.049971428571428576,
          0.049973469387755105,
          0.049975510204081634,
          0.04997755102040816,
          0.0499795918367347,
          0.04998163265306123,
          0.04998367346938776,
          0.049985714285714286,
          0.04998775510204082,
          0.04998979591836735,
          0.04999183673469388,
          0.04999387755102041,
          0.049995918367346945,
          0.049997959183673474,
          0.05,
          0.0499,
          0.04990204081632653,
          0.04990408163265306,
          0.049906122448979594,
          0.04990816326530612,
          0.04991020408163265,
          0.04991224489795918,
          0.04991428571428572,
          0.049916326530612246,
          0.049918367346938775,
          0.049920408163265304,
          0.04992244897959184,
          0.04992448979591837,
          0.0499265306122449,
          0.049928571428571426,
          0.04993061224489796,
          0.04993265306122449,
          0.04993469387755102,
          0.04993673469387755,
          0.049938775510204085,
          0.049940816326530614,
          0.04994285714285714,
          0.04994489795918367,
          0.04994693877551021,
          0.04994897959183674,
          0.049951020408163266,
          0.049953061224489795,
          0.04995510204081633,
          0.04995714285714286,
          0.04995918367346939,
          0.04996122448979592,
          0.049963265306122454,
          0.04996530612244898,
          0.04996734693877551,
          0.04996938775510204,
          0.049971428571428576,
          0.049973469387755105,
          0.049975510204081634,
          0.04997755102040816,
          0.0499795918367347,
          0.04998163265306123,
          0.04998367346938776,
          0.049985714285714286,
          0.04998775510204082,
          0.04998979591836735,
          0.04999183673469388,
          0.04999387755102041,
          0.049995918367346945,
          0.049997959183673474,
          0.05,
          0.0499,
          0.04990204081632653,
          0.04990408163265306,
          0.049906122448979594,
          0.04990816326530612,
          0.04991020408163265,
          0.04991224489795918,
          0.04991428571428572,
          0.049916326530612246,
          0.049918367346938775,
          0.049920408163265304,
          0.04992244897959184,
          0.04992448979591837,
          0.0499265306122449,
          0.049928571428571426,
          0.04993061224489796,
          0.04993265306122449,
          0.04993469387755102,
          0.04993673469387755,
          0.049938775510204085,
          0.049940816326530614,
          0.04994285714285714,
          0.04994489795918367,
          0.04994693877551021,
          0.04994897959183674,
          0.049951020408163266,
          0.049953061224489795,
          0.04995510204081633,
          0.04995714285714286,
          0.04995918367346939,
          0.04996122448979592,
          0.049963265306122454,
          0.04996530612244898,
          0.04996734693877551,
          0.04996938775510204,
          0.049971428571428576,
          0.049973469387755105,
          0.049975510204081634,
          0.04997755102040816,
          0.0499795918367347,
          0.04998163265306123,
          0.04998367346938776,
          0.049985714285714286,
          0.04998775510204082,
          0.04998979591836735,
          0.04999183673469388,
          0.04999387755102041,
          0.049995918367346945,
          0.049997959183673474,
          0.05,
          0.0499,
          0.04990204081632653,
          0.04990408163265306,
          0.049906122448979594,
          0.04990816326530612,
          0.04991020408163265,
          0.04991224489795918,
          0.04991428571428572,
          0.049916326530612246,
          0.049918367346938775,
          0.049920408163265304,
          0.04992244897959184,
          0.04992448979591837,
          0.0499265306122449,
          0.049928571428571426,
          0.04993061224489796,
          0.04993265306122449,
          0.04993469387755102,
          0.04993673469387755,
          0.049938775510204085,
          0.049940816326530614,
          0.04994285714285714,
          0.04994489795918367,
          0.04994693877551021,
          0.04994897959183674,
          0.049951020408163266,
          0.049953061224489795,
          0.04995510204081633,
          0.04995714285714286,
          0.04995918367346939,
          0.04996122448979592,
          0.049963265306122454,
          0.04996530612244898,
          0.04996734693877551,
          0.04996938775510204,
          0.049971428571428576,
          0.049973469387755105,
          0.049975510204081634,
          0.04997755102040816,
          0.0499795918367347,
          0.04998163265306123,
          0.04998367346938776,
          0.049985714285714286,
          0.04998775510204082,
          0.04998979591836735,
          0.04999183673469388,
          0.04999387755102041,
          0.049995918367346945,
          0.049997959183673474,
          0.05,
          0.0499,
          0.04990204081632653,
          0.04990408163265306,
          0.049906122448979594,
          0.04990816326530612,
          0.04991020408163265,
          0.04991224489795918,
          0.04991428571428572,
          0.049916326530612246,
          0.049918367346938775,
          0.049920408163265304,
          0.04992244897959184,
          0.04992448979591837,
          0.0499265306122449,
          0.049928571428571426,
          0.04993061224489796,
          0.04993265306122449,
          0.04993469387755102,
          0.04993673469387755,
          0.049938775510204085,
          0.049940816326530614,
          0.04994285714285714,
          0.04994489795918367,
          0.04994693877551021,
          0.04994897959183674,
          0.049951020408163266,
          0.049953061224489795,
          0.04995510204081633,
          0.04995714285714286,
          0.04995918367346939,
          0.04996122448979592,
          0.049963265306122454,
          0.04996530612244898,
          0.04996734693877551,
          0.04996938775510204,
          0.049971428571428576,
          0.049973469387755105,
          0.049975510204081634,
          0.04997755102040816,
          0.0499795918367347,
          0.04998163265306123,
          0.04998367346938776,
          0.049985714285714286,
          0.04998775510204082,
          0.04998979591836735,
          0.04999183673469388,
          0.04999387755102041,
          0.049995918367346945,
          0.049997959183673474,
          0.05,
          0.0499,
          0.04990204081632653,
          0.04990408163265306,
          0.049906122448979594,
          0.04990816326530612,
          0.04991020408163265,
          0.04991224489795918,
          0.04991428571428572,
          0.049916326530612246,
          0.049918367346938775,
          0.049920408163265304,
          0.04992244897959184,
          0.04992448979591837,
          0.0499265306122449,
          0.049928571428571426,
          0.04993061224489796,
          0.04993265306122449,
          0.04993469387755102,
          0.04993673469387755,
          0.049938775510204085,
          0.049940816326530614,
          0.04994285714285714,
          0.04994489795918367,
          0.04994693877551021,
          0.04994897959183674,
          0.049951020408163266,
          0.049953061224489795,
          0.04995510204081633,
          0.04995714285714286,
          0.04995918367346939,
          0.04996122448979592,
          0.049963265306122454,
          0.04996530612244898,
          0.04996734693877551,
          0.04996938775510204,
          0.049971428571428576,
          0.049973469387755105,
          0.049975510204081634,
          0.04997755102040816,
          0.0499795918367347,
          0.04998163265306123,
          0.04998367346938776,
          0.049985714285714286,
          0.04998775510204082,
          0.04998979591836735,
          0.04999183673469388,
          0.04999387755102041,
          0.049995918367346945,
          0.049997959183673474,
          0.05,
          0.0499,
          0.04990204081632653,
          0.04990408163265306,
          0.049906122448979594,
          0.04990816326530612,
          0.04991020408163265,
          0.04991224489795918,
          0.04991428571428572,
          0.049916326530612246,
          0.049918367346938775,
          0.049920408163265304,
          0.04992244897959184,
          0.04992448979591837,
          0.0499265306122449,
          0.049928571428571426,
          0.04993061224489796,
          0.04993265306122449,
          0.04993469387755102,
          0.04993673469387755,
          0.049938775510204085,
          0.049940816326530614,
          0.04994285714285714,
          0.04994489795918367,
          0.04994693877551021,
          0.04994897959183674,
          0.049951020408163266,
          0.049953061224489795,
          0.04995510204081633,
          0.04995714285714286,
          0.04995918367346939,
          0.04996122448979592,
          0.049963265306122454,
          0.04996530612244898,
          0.04996734693877551,
          0.04996938775510204,
          0.049971428571428576,
          0.049973469387755105,
          0.049975510204081634,
          0.04997755102040816,
          0.0499795918367347,
          0.04998163265306123,
          0.04998367346938776,
          0.049985714285714286,
          0.04998775510204082,
          0.04998979591836735,
          0.04999183673469388,
          0.04999387755102041,
          0.049995918367346945,
          0.049997959183673474,
          0.05,
          0.0499,
          0.04990204081632653,
          0.04990408163265306,
          0.049906122448979594,
          0.04990816326530612,
          0.04991020408163265,
          0.04991224489795918,
          0.04991428571428572,
          0.049916326530612246,
          0.049918367346938775,
          0.049920408163265304,
          0.04992244897959184,
          0.04992448979591837,
          0.0499265306122449,
          0.049928571428571426,
          0.04993061224489796,
          0.04993265306122449,
          0.04993469387755102,
          0.04993673469387755,
          0.049938775510204085,
          0.049940816326530614,
          0.04994285714285714,
          0.04994489795918367,
          0.04994693877551021,
          0.04994897959183674,
          0.049951020408163266,
          0.049953061224489795,
          0.04995510204081633,
          0.04995714285714286,
          0.04995918367346939,
          0.04996122448979592,
          0.049963265306122454,
          0.04996530612244898,
          0.04996734693877551,
          0.04996938775510204,
          0.049971428571428576,
          0.049973469387755105,
          0.049975510204081634,
          0.04997755102040816,
          0.0499795918367347,
          0.04998163265306123,
          0.04998367346938776,
          0.049985714285714286,
          0.04998775510204082,
          0.04998979591836735,
          0.04999183673469388,
          0.04999387755102041,
          0.049995918367346945,
          0.049997959183673474,
          0.05
         ],
         "showlegend": false,
         "theta": [
          0.0,
          0.0,
          0.0,
          0.0,
          0.0,
          0.0,
          0.0,
          0.0,
          0.0,
          0.0,
          0.0,
          0.0,
          0.0,
          0.0,
          0.0,
          0.0,
          0.0,
          0.0,
          0.0,
          0.0,
          0.0,
          0.0,
          0.0,
          0.0,
          0.0,
          0.0,
          0.0,
          0.0,
          0.0,
          0.0,
          0.0,
          0.0,
          0.0,
          0.0,
          0.0,
          0.0,
          0.0,
          0.0,
          0.0,
          0.0,
          0.0,
          0.0,
          0.0,
          0.0,
          0.0,
          0.0,
          0.0,
          0.0,
          0.0,
          0.0,
          24.8,
          24.8,
          24.8,
          24.8,
          24.8,
          24.8,
          24.8,
          24.8,
          24.8,
          24.8,
          24.8,
          24.8,
          24.8,
          24.8,
          24.8,
          24.8,
          24.8,
          24.8,
          24.8,
          24.8,
          24.8,
          24.8,
          24.8,
          24.8,
          24.8,
          24.8,
          24.8,
          24.8,
          24.8,
          24.8,
          24.8,
          24.8,
          24.8,
          24.8,
          24.8,
          24.8,
          24.8,
          24.8,
          24.8,
          24.8,
          24.8,
          24.8,
          24.8,
          24.8,
          24.8,
          24.8,
          24.8,
          24.8,
          24.8,
          24.8,
          49.6,
          49.6,
          49.6,
          49.6,
          49.6,
          49.6,
          49.6,
          49.6,
          49.6,
          49.6,
          49.6,
          49.6,
          49.6,
          49.6,
          49.6,
          49.6,
          49.6,
          49.6,
          49.6,
          49.6,
          49.6,
          49.6,
          49.6,
          49.6,
          49.6,
          49.6,
          49.6,
          49.6,
          49.6,
          49.6,
          49.6,
          49.6,
          49.6,
          49.6,
          49.6,
          49.6,
          49.6,
          49.6,
          49.6,
          49.6,
          49.6,
          49.6,
          49.6,
          49.6,
          49.6,
          49.6,
          49.6,
          49.6,
          49.6,
          49.6,
          74.4,
          74.4,
          74.4,
          74.4,
          74.4,
          74.4,
          74.4,
          74.4,
          74.4,
          74.4,
          74.4,
          74.4,
          74.4,
          74.4,
          74.4,
          74.4,
          74.4,
          74.4,
          74.4,
          74.4,
          74.4,
          74.4,
          74.4,
          74.4,
          74.4,
          74.4,
          74.4,
          74.4,
          74.4,
          74.4,
          74.4,
          74.4,
          74.4,
          74.4,
          74.4,
          74.4,
          74.4,
          74.4,
          74.4,
          74.4,
          74.4,
          74.4,
          74.4,
          74.4,
          74.4,
          74.4,
          74.4,
          74.4,
          74.4,
          74.4,
          99.2,
          99.2,
          99.2,
          99.2,
          99.2,
          99.2,
          99.2,
          99.2,
          99.2,
          99.2,
          99.2,
          99.2,
          99.2,
          99.2,
          99.2,
          99.2,
          99.2,
          99.2,
          99.2,
          99.2,
          99.2,
          99.2,
          99.2,
          99.2,
          99.2,
          99.2,
          99.2,
          99.2,
          99.2,
          99.2,
          99.2,
          99.2,
          99.2,
          99.2,
          99.2,
          99.2,
          99.2,
          99.2,
          99.2,
          99.2,
          99.2,
          99.2,
          99.2,
          99.2,
          99.2,
          99.2,
          99.2,
          99.2,
          99.2,
          99.2,
          124.0,
          124.0,
          124.0,
          124.0,
          124.0,
          124.0,
          124.0,
          124.0,
          124.0,
          124.0,
          124.0,
          124.0,
          124.0,
          124.0,
          124.0,
          124.0,
          124.0,
          124.0,
          124.0,
          124.0,
          124.0,
          124.0,
          124.0,
          124.0,
          124.0,
          124.0,
          124.0,
          124.0,
          124.0,
          124.0,
          124.0,
          124.0,
          124.0,
          124.0,
          124.0,
          124.0,
          124.0,
          124.0,
          124.0,
          124.0,
          124.0,
          124.0,
          124.0,
          124.0,
          124.0,
          124.0,
          124.0,
          124.0,
          124.0,
          124.0,
          148.8,
          148.8,
          148.8,
          148.8,
          148.8,
          148.8,
          148.8,
          148.8,
          148.8,
          148.8,
          148.8,
          148.8,
          148.8,
          148.8,
          148.8,
          148.8,
          148.8,
          148.8,
          148.8,
          148.8,
          148.8,
          148.8,
          148.8,
          148.8,
          148.8,
          148.8,
          148.8,
          148.8,
          148.8,
          148.8,
          148.8,
          148.8,
          148.8,
          148.8,
          148.8,
          148.8,
          148.8,
          148.8,
          148.8,
          148.8,
          148.8,
          148.8,
          148.8,
          148.8,
          148.8,
          148.8,
          148.8,
          148.8,
          148.8,
          148.8,
          173.6,
          173.6,
          173.6,
          173.6,
          173.6,
          173.6,
          173.6,
          173.6,
          173.6,
          173.6,
          173.6,
          173.6,
          173.6,
          173.6,
          173.6,
          173.6,
          173.6,
          173.6,
          173.6,
          173.6,
          173.6,
          173.6,
          173.6,
          173.6,
          173.6,
          173.6,
          173.6,
          173.6,
          173.6,
          173.6,
          173.6,
          173.6,
          173.6,
          173.6,
          173.6,
          173.6,
          173.6,
          173.6,
          173.6,
          173.6,
          173.6,
          173.6,
          173.6,
          173.6,
          173.6,
          173.6,
          173.6,
          173.6,
          173.6,
          173.6,
          198.4,
          198.4,
          198.4,
          198.4,
          198.4,
          198.4,
          198.4,
          198.4,
          198.4,
          198.4,
          198.4,
          198.4,
          198.4,
          198.4,
          198.4,
          198.4,
          198.4,
          198.4,
          198.4,
          198.4,
          198.4,
          198.4,
          198.4,
          198.4,
          198.4,
          198.4,
          198.4,
          198.4,
          198.4,
          198.4,
          198.4,
          198.4,
          198.4,
          198.4,
          198.4,
          198.4,
          198.4,
          198.4,
          198.4,
          198.4,
          198.4,
          198.4,
          198.4,
          198.4,
          198.4,
          198.4,
          198.4,
          198.4,
          198.4,
          198.4,
          223.20000000000002,
          223.20000000000002,
          223.20000000000002,
          223.20000000000002,
          223.20000000000002,
          223.20000000000002,
          223.20000000000002,
          223.20000000000002,
          223.20000000000002,
          223.20000000000002,
          223.20000000000002,
          223.20000000000002,
          223.20000000000002,
          223.20000000000002,
          223.20000000000002,
          223.20000000000002,
          223.20000000000002,
          223.20000000000002,
          223.20000000000002,
          223.20000000000002,
          223.20000000000002,
          223.20000000000002,
          223.20000000000002,
          223.20000000000002,
          223.20000000000002,
          223.20000000000002,
          223.20000000000002,
          223.20000000000002,
          223.20000000000002,
          223.20000000000002,
          223.20000000000002,
          223.20000000000002,
          223.20000000000002,
          223.20000000000002,
          223.20000000000002,
          223.20000000000002,
          223.20000000000002,
          223.20000000000002,
          223.20000000000002,
          223.20000000000002,
          223.20000000000002,
          223.20000000000002,
          223.20000000000002,
          223.20000000000002,
          223.20000000000002,
          223.20000000000002,
          223.20000000000002,
          223.20000000000002,
          223.20000000000002,
          223.20000000000002,
          248.0,
          248.0,
          248.0,
          248.0,
          248.0,
          248.0,
          248.0,
          248.0,
          248.0,
          248.0,
          248.0,
          248.0,
          248.0,
          248.0,
          248.0,
          248.0,
          248.0,
          248.0,
          248.0,
          248.0,
          248.0,
          248.0,
          248.0,
          248.0,
          248.0,
          248.0,
          248.0,
          248.0,
          248.0,
          248.0,
          248.0,
          248.0,
          248.0,
          248.0,
          248.0,
          248.0,
          248.0,
          248.0,
          248.0,
          248.0,
          248.0,
          248.0,
          248.0,
          248.0,
          248.0,
          248.0,
          248.0,
          248.0,
          248.0,
          248.0,
          272.79999999999995,
          272.79999999999995,
          272.79999999999995,
          272.79999999999995,
          272.79999999999995,
          272.79999999999995,
          272.79999999999995,
          272.79999999999995,
          272.79999999999995,
          272.79999999999995,
          272.79999999999995,
          272.79999999999995,
          272.79999999999995,
          272.79999999999995,
          272.79999999999995,
          272.79999999999995,
          272.79999999999995,
          272.79999999999995,
          272.79999999999995,
          272.79999999999995,
          272.79999999999995,
          272.79999999999995,
          272.79999999999995,
          272.79999999999995,
          272.79999999999995,
          272.79999999999995,
          272.79999999999995,
          272.79999999999995,
          272.79999999999995,
          272.79999999999995,
          272.79999999999995,
          272.79999999999995,
          272.79999999999995,
          272.79999999999995,
          272.79999999999995,
          272.79999999999995,
          272.79999999999995,
          272.79999999999995,
          272.79999999999995,
          272.79999999999995,
          272.79999999999995,
          272.79999999999995,
          272.79999999999995,
          272.79999999999995,
          272.79999999999995,
          272.79999999999995,
          272.79999999999995,
          272.79999999999995,
          272.79999999999995,
          272.79999999999995,
          297.6,
          297.6,
          297.6,
          297.6,
          297.6,
          297.6,
          297.6,
          297.6,
          297.6,
          297.6,
          297.6,
          297.6,
          297.6,
          297.6,
          297.6,
          297.6,
          297.6,
          297.6,
          297.6,
          297.6,
          297.6,
          297.6,
          297.6,
          297.6,
          297.6,
          297.6,
          297.6,
          297.6,
          297.6,
          297.6,
          297.6,
          297.6,
          297.6,
          297.6,
          297.6,
          297.6,
          297.6,
          297.6,
          297.6,
          297.6,
          297.6,
          297.6,
          297.6,
          297.6,
          297.6,
          297.6,
          297.6,
          297.6,
          297.6,
          297.6,
          322.4,
          322.4,
          322.4,
          322.4,
          322.4,
          322.4,
          322.4,
          322.4,
          322.4,
          322.4,
          322.4,
          322.4,
          322.4,
          322.4,
          322.4,
          322.4,
          322.4,
          322.4,
          322.4,
          322.4,
          322.4,
          322.4,
          322.4,
          322.4,
          322.4,
          322.4,
          322.4,
          322.4,
          322.4,
          322.4,
          322.4,
          322.4,
          322.4,
          322.4,
          322.4,
          322.4,
          322.4,
          322.4,
          322.4,
          322.4,
          322.4,
          322.4,
          322.4,
          322.4,
          322.4,
          322.4,
          322.4,
          322.4,
          322.4,
          322.4,
          347.2,
          347.2,
          347.2,
          347.2,
          347.2,
          347.2,
          347.2,
          347.2,
          347.2,
          347.2,
          347.2,
          347.2,
          347.2,
          347.2,
          347.2,
          347.2,
          347.2,
          347.2,
          347.2,
          347.2,
          347.2,
          347.2,
          347.2,
          347.2,
          347.2,
          347.2,
          347.2,
          347.2,
          347.2,
          347.2,
          347.2,
          347.2,
          347.2,
          347.2,
          347.2,
          347.2,
          347.2,
          347.2,
          347.2,
          347.2,
          347.2,
          347.2,
          347.2,
          347.2,
          347.2,
          347.2,
          347.2,
          347.2,
          347.2,
          347.2,
          372.0,
          372.0,
          372.0,
          372.0,
          372.0,
          372.0,
          372.0,
          372.0,
          372.0,
          372.0,
          372.0,
          372.0,
          372.0,
          372.0,
          372.0,
          372.0,
          372.0,
          372.0,
          372.0,
          372.0,
          372.0,
          372.0,
          372.0,
          372.0,
          372.0,
          372.0,
          372.0,
          372.0,
          372.0,
          372.0,
          372.0,
          372.0,
          372.0,
          372.0,
          372.0,
          372.0,
          372.0,
          372.0,
          372.0,
          372.0,
          372.0,
          372.0,
          372.0,
          372.0,
          372.0,
          372.0,
          372.0,
          372.0,
          372.0,
          372.0
         ],
         "thetaunit": "degrees",
         "type": "barpolar"
        }
       ],
       "layout": {
        "polar": {
         "angularaxis": {
          "rotation": -152.16757674048748
         },
         "bargap": 0.0,
         "hole": 0.5
        },
        "template": {
         "data": {
          "bar": [
           {
            "error_x": {
             "color": "#2a3f5f"
            },
            "error_y": {
             "color": "#2a3f5f"
            },
            "marker": {
             "line": {
              "color": "white",
              "width": 0.5
             }
            },
            "type": "bar"
           }
          ],
          "barpolar": [
           {
            "marker": {
             "line": {
              "color": "white",
              "width": 0.5
             }
            },
            "type": "barpolar"
           }
          ],
          "carpet": [
           {
            "aaxis": {
             "endlinecolor": "#2a3f5f",
             "gridcolor": "#C8D4E3",
             "linecolor": "#C8D4E3",
             "minorgridcolor": "#C8D4E3",
             "startlinecolor": "#2a3f5f"
            },
            "baxis": {
             "endlinecolor": "#2a3f5f",
             "gridcolor": "#C8D4E3",
             "linecolor": "#C8D4E3",
             "minorgridcolor": "#C8D4E3",
             "startlinecolor": "#2a3f5f"
            },
            "type": "carpet"
           }
          ],
          "choropleth": [
           {
            "colorbar": {
             "outlinewidth": 0,
             "ticks": ""
            },
            "type": "choropleth"
           }
          ],
          "contour": [
           {
            "colorbar": {
             "outlinewidth": 0,
             "ticks": ""
            },
            "colorscale": [
             [
              0.0,
              "#0d0887"
             ],
             [
              0.1111111111111111,
              "#46039f"
             ],
             [
              0.2222222222222222,
              "#7201a8"
             ],
             [
              0.3333333333333333,
              "#9c179e"
             ],
             [
              0.4444444444444444,
              "#bd3786"
             ],
             [
              0.5555555555555556,
              "#d8576b"
             ],
             [
              0.6666666666666666,
              "#ed7953"
             ],
             [
              0.7777777777777778,
              "#fb9f3a"
             ],
             [
              0.8888888888888888,
              "#fdca26"
             ],
             [
              1.0,
              "#f0f921"
             ]
            ],
            "type": "contour"
           }
          ],
          "contourcarpet": [
           {
            "colorbar": {
             "outlinewidth": 0,
             "ticks": ""
            },
            "type": "contourcarpet"
           }
          ],
          "heatmap": [
           {
            "colorbar": {
             "outlinewidth": 0,
             "ticks": ""
            },
            "colorscale": [
             [
              0.0,
              "#0d0887"
             ],
             [
              0.1111111111111111,
              "#46039f"
             ],
             [
              0.2222222222222222,
              "#7201a8"
             ],
             [
              0.3333333333333333,
              "#9c179e"
             ],
             [
              0.4444444444444444,
              "#bd3786"
             ],
             [
              0.5555555555555556,
              "#d8576b"
             ],
             [
              0.6666666666666666,
              "#ed7953"
             ],
             [
              0.7777777777777778,
              "#fb9f3a"
             ],
             [
              0.8888888888888888,
              "#fdca26"
             ],
             [
              1.0,
              "#f0f921"
             ]
            ],
            "type": "heatmap"
           }
          ],
          "heatmapgl": [
           {
            "colorbar": {
             "outlinewidth": 0,
             "ticks": ""
            },
            "colorscale": [
             [
              0.0,
              "#0d0887"
             ],
             [
              0.1111111111111111,
              "#46039f"
             ],
             [
              0.2222222222222222,
              "#7201a8"
             ],
             [
              0.3333333333333333,
              "#9c179e"
             ],
             [
              0.4444444444444444,
              "#bd3786"
             ],
             [
              0.5555555555555556,
              "#d8576b"
             ],
             [
              0.6666666666666666,
              "#ed7953"
             ],
             [
              0.7777777777777778,
              "#fb9f3a"
             ],
             [
              0.8888888888888888,
              "#fdca26"
             ],
             [
              1.0,
              "#f0f921"
             ]
            ],
            "type": "heatmapgl"
           }
          ],
          "histogram": [
           {
            "marker": {
             "colorbar": {
              "outlinewidth": 0,
              "ticks": ""
             }
            },
            "type": "histogram"
           }
          ],
          "histogram2d": [
           {
            "colorbar": {
             "outlinewidth": 0,
             "ticks": ""
            },
            "colorscale": [
             [
              0.0,
              "#0d0887"
             ],
             [
              0.1111111111111111,
              "#46039f"
             ],
             [
              0.2222222222222222,
              "#7201a8"
             ],
             [
              0.3333333333333333,
              "#9c179e"
             ],
             [
              0.4444444444444444,
              "#bd3786"
             ],
             [
              0.5555555555555556,
              "#d8576b"
             ],
             [
              0.6666666666666666,
              "#ed7953"
             ],
             [
              0.7777777777777778,
              "#fb9f3a"
             ],
             [
              0.8888888888888888,
              "#fdca26"
             ],
             [
              1.0,
              "#f0f921"
             ]
            ],
            "type": "histogram2d"
           }
          ],
          "histogram2dcontour": [
           {
            "colorbar": {
             "outlinewidth": 0,
             "ticks": ""
            },
            "colorscale": [
             [
              0.0,
              "#0d0887"
             ],
             [
              0.1111111111111111,
              "#46039f"
             ],
             [
              0.2222222222222222,
              "#7201a8"
             ],
             [
              0.3333333333333333,
              "#9c179e"
             ],
             [
              0.4444444444444444,
              "#bd3786"
             ],
             [
              0.5555555555555556,
              "#d8576b"
             ],
             [
              0.6666666666666666,
              "#ed7953"
             ],
             [
              0.7777777777777778,
              "#fb9f3a"
             ],
             [
              0.8888888888888888,
              "#fdca26"
             ],
             [
              1.0,
              "#f0f921"
             ]
            ],
            "type": "histogram2dcontour"
           }
          ],
          "mesh3d": [
           {
            "colorbar": {
             "outlinewidth": 0,
             "ticks": ""
            },
            "type": "mesh3d"
           }
          ],
          "parcoords": [
           {
            "line": {
             "colorbar": {
              "outlinewidth": 0,
              "ticks": ""
             }
            },
            "type": "parcoords"
           }
          ],
          "pie": [
           {
            "automargin": true,
            "type": "pie"
           }
          ],
          "scatter": [
           {
            "marker": {
             "colorbar": {
              "outlinewidth": 0,
              "ticks": ""
             }
            },
            "type": "scatter"
           }
          ],
          "scatter3d": [
           {
            "line": {
             "colorbar": {
              "outlinewidth": 0,
              "ticks": ""
             }
            },
            "marker": {
             "colorbar": {
              "outlinewidth": 0,
              "ticks": ""
             },
             "size": 4
            },
            "type": "scatter3d"
           }
          ],
          "scattercarpet": [
           {
            "marker": {
             "colorbar": {
              "outlinewidth": 0,
              "ticks": ""
             }
            },
            "type": "scattercarpet"
           }
          ],
          "scattergeo": [
           {
            "marker": {
             "colorbar": {
              "outlinewidth": 0,
              "ticks": ""
             }
            },
            "type": "scattergeo"
           }
          ],
          "scattergl": [
           {
            "marker": {
             "colorbar": {
              "outlinewidth": 0,
              "ticks": ""
             }
            },
            "type": "scattergl"
           }
          ],
          "scattermapbox": [
           {
            "marker": {
             "colorbar": {
              "outlinewidth": 0,
              "ticks": ""
             }
            },
            "type": "scattermapbox"
           }
          ],
          "scatterpolar": [
           {
            "marker": {
             "colorbar": {
              "outlinewidth": 0,
              "ticks": ""
             }
            },
            "type": "scatterpolar"
           }
          ],
          "scatterpolargl": [
           {
            "marker": {
             "colorbar": {
              "outlinewidth": 0,
              "ticks": ""
             }
            },
            "type": "scatterpolargl"
           }
          ],
          "scatterternary": [
           {
            "marker": {
             "colorbar": {
              "outlinewidth": 0,
              "ticks": ""
             }
            },
            "type": "scatterternary"
           }
          ],
          "surface": [
           {
            "colorbar": {
             "outlinewidth": 0,
             "ticks": ""
            },
            "colorscale": [
             [
              0.0,
              "#0d0887"
             ],
             [
              0.1111111111111111,
              "#46039f"
             ],
             [
              0.2222222222222222,
              "#7201a8"
             ],
             [
              0.3333333333333333,
              "#9c179e"
             ],
             [
              0.4444444444444444,
              "#bd3786"
             ],
             [
              0.5555555555555556,
              "#d8576b"
             ],
             [
              0.6666666666666666,
              "#ed7953"
             ],
             [
              0.7777777777777778,
              "#fb9f3a"
             ],
             [
              0.8888888888888888,
              "#fdca26"
             ],
             [
              1.0,
              "#f0f921"
             ]
            ],
            "type": "surface"
           }
          ],
          "table": [
           {
            "cells": {
             "fill": {
              "color": "#EBF0F8"
             },
             "line": {
              "color": "white"
             }
            },
            "header": {
             "fill": {
              "color": "#C8D4E3"
             },
             "line": {
              "color": "white"
             }
            },
            "type": "table"
           }
          ]
         },
         "layout": {
          "annotationdefaults": {
           "arrowcolor": "#2a3f5f",
           "arrowhead": 0,
           "arrowwidth": 1
          },
          "coloraxis": {
           "colorbar": {
            "outlinewidth": 0,
            "ticks": ""
           }
          },
          "colorscale": {
           "diverging": [
            [
             0,
             "#8e0152"
            ],
            [
             0.1,
             "#c51b7d"
            ],
            [
             0.2,
             "#de77ae"
            ],
            [
             0.3,
             "#f1b6da"
            ],
            [
             0.4,
             "#fde0ef"
            ],
            [
             0.5,
             "#f7f7f7"
            ],
            [
             0.6,
             "#e6f5d0"
            ],
            [
             0.7,
             "#b8e186"
            ],
            [
             0.8,
             "#7fbc41"
            ],
            [
             0.9,
             "#4d9221"
            ],
            [
             1,
             "#276419"
            ]
           ],
           "sequential": [
            [
             0.0,
             "#0d0887"
            ],
            [
             0.1111111111111111,
             "#46039f"
            ],
            [
             0.2222222222222222,
             "#7201a8"
            ],
            [
             0.3333333333333333,
             "#9c179e"
            ],
            [
             0.4444444444444444,
             "#bd3786"
            ],
            [
             0.5555555555555556,
             "#d8576b"
            ],
            [
             0.6666666666666666,
             "#ed7953"
            ],
            [
             0.7777777777777778,
             "#fb9f3a"
            ],
            [
             0.8888888888888888,
             "#fdca26"
            ],
            [
             1.0,
             "#f0f921"
            ]
           ],
           "sequentialminus": [
            [
             0.0,
             "#0d0887"
            ],
            [
             0.1111111111111111,
             "#46039f"
            ],
            [
             0.2222222222222222,
             "#7201a8"
            ],
            [
             0.3333333333333333,
             "#9c179e"
            ],
            [
             0.4444444444444444,
             "#bd3786"
            ],
            [
             0.5555555555555556,
             "#d8576b"
            ],
            [
             0.6666666666666666,
             "#ed7953"
            ],
            [
             0.7777777777777778,
             "#fb9f3a"
            ],
            [
             0.8888888888888888,
             "#fdca26"
            ],
            [
             1.0,
             "#f0f921"
            ]
           ]
          },
          "colorway": [
           "#1f77b4",
           "#ff7f0e",
           "#2ca02c",
           "#d62728",
           "#9467bd",
           "#8c564b",
           "#e377c2",
           "#7f7f7f",
           "#bcbd22",
           "#17becf"
          ],
          "font": {
           "color": "#2a3f5f"
          },
          "geo": {
           "bgcolor": "white",
           "lakecolor": "white",
           "landcolor": "white",
           "showlakes": true,
           "showland": true,
           "subunitcolor": "#C8D4E3"
          },
          "hoverlabel": {
           "align": "left"
          },
          "hovermode": "closest",
          "mapbox": {
           "style": "light"
          },
          "paper_bgcolor": "white",
          "plot_bgcolor": "white",
          "polar": {
           "angularaxis": {
            "gridcolor": "#EBF0F8",
            "linecolor": "#EBF0F8",
            "ticks": ""
           },
           "bgcolor": "white",
           "radialaxis": {
            "gridcolor": "#EBF0F8",
            "linecolor": "#EBF0F8",
            "ticks": ""
           }
          },
          "scene": {
           "camera": {
            "center": {
             "x": 0,
             "y": 0,
             "z": 0
            },
            "eye": {
             "x": 2.0,
             "y": 2.0,
             "z": 2.0
            },
            "up": {
             "x": 0,
             "y": 0,
             "z": 1
            }
           },
           "xaxis": {
            "backgroundcolor": "white",
            "gridcolor": "#DFE8F3",
            "gridwidth": 2,
            "linecolor": "#EBF0F8",
            "showbackground": true,
            "showspikes": false,
            "ticks": "",
            "zerolinecolor": "#EBF0F8"
           },
           "yaxis": {
            "backgroundcolor": "white",
            "gridcolor": "#DFE8F3",
            "gridwidth": 2,
            "linecolor": "#EBF0F8",
            "showbackground": true,
            "showspikes": false,
            "ticks": "",
            "zerolinecolor": "#EBF0F8"
           },
           "zaxis": {
            "backgroundcolor": "white",
            "gridcolor": "#DFE8F3",
            "gridwidth": 2,
            "linecolor": "#EBF0F8",
            "showbackground": true,
            "showspikes": false,
            "ticks": "",
            "zerolinecolor": "#EBF0F8"
           }
          },
          "shapedefaults": {
           "line": {
            "color": "#2a3f5f"
           }
          },
          "ternary": {
           "aaxis": {
            "gridcolor": "#DFE8F3",
            "linecolor": "#A2B1C6",
            "ticks": ""
           },
           "baxis": {
            "gridcolor": "#DFE8F3",
            "linecolor": "#A2B1C6",
            "ticks": ""
           },
           "bgcolor": "white",
           "caxis": {
            "gridcolor": "#DFE8F3",
            "linecolor": "#A2B1C6",
            "ticks": ""
           }
          },
          "title": {
           "x": 0.05
          },
          "xaxis": {
           "automargin": true,
           "gridcolor": "#EBF0F8",
           "linecolor": "black",
           "linewidth": 2.0,
           "mirror": true,
           "showline": true,
           "ticks": "",
           "title": {
            "standoff": 15
           },
           "zeroline": false,
           "zerolinecolor": "#EBF0F8",
           "zerolinewidth": 2
          },
          "yaxis": {
           "automargin": true,
           "gridcolor": "#EBF0F8",
           "linecolor": "black",
           "linewidth": 2.0,
           "mirror": true,
           "showline": true,
           "ticks": "",
           "title": {
            "standoff": 15
           },
           "zeroline": false,
           "zerolinecolor": "#EBF0F8",
           "zerolinewidth": 2
          }
         }
        }
       }
      }
     },
     "metadata": {},
     "output_type": "display_data"
    },
    {
     "data": {
      "application/vnd.plotly.v1+json": {
       "config": {
        "plotlyServerURL": "https://plot.ly"
       },
       "data": [
        {
         "cmax": 358465.0930126051,
         "cmin": 0.0,
         "colorbar": {
          "title": {
           "side": "top",
           "text": "<b>Pressure</b>"
          }
         },
         "colorscale": [
          [
           0.0,
           "#440154"
          ],
          [
           0.1111111111111111,
           "#482878"
          ],
          [
           0.2222222222222222,
           "#3e4989"
          ],
          [
           0.3333333333333333,
           "#31688e"
          ],
          [
           0.4444444444444444,
           "#26828e"
          ],
          [
           0.5555555555555556,
           "#1f9e89"
          ],
          [
           0.6666666666666666,
           "#35b779"
          ],
          [
           0.7777777777777778,
           "#6ece58"
          ],
          [
           0.8888888888888888,
           "#b5de2b"
          ],
          [
           1.0,
           "#fde725"
          ]
         ],
         "hovertemplate": "<b>Length: %{x:.2e}</b><br><b>Angular Position: %{y:.2f}</b><br><b>Pressure: %{z:.2f}</b>",
         "name": "Pressure",
         "showlegend": false,
         "type": "surface",
         "x": [
          [
           0.0,
           0.004285714285714286,
           0.008571428571428572,
           0.012857142857142859,
           0.017142857142857144,
           0.02142857142857143,
           0.025714285714285717,
           0.030000000000000002
          ],
          [
           0.0,
           0.004285714285714286,
           0.008571428571428572,
           0.012857142857142859,
           0.017142857142857144,
           0.02142857142857143,
           0.025714285714285717,
           0.030000000000000002
          ],
          [
           0.0,
           0.004285714285714286,
           0.008571428571428572,
           0.012857142857142859,
           0.017142857142857144,
           0.02142857142857143,
           0.025714285714285717,
           0.030000000000000002
          ],
          [
           0.0,
           0.004285714285714286,
           0.008571428571428572,
           0.012857142857142859,
           0.017142857142857144,
           0.02142857142857143,
           0.025714285714285717,
           0.030000000000000002
          ],
          [
           0.0,
           0.004285714285714286,
           0.008571428571428572,
           0.012857142857142859,
           0.017142857142857144,
           0.02142857142857143,
           0.025714285714285717,
           0.030000000000000002
          ],
          [
           0.0,
           0.004285714285714286,
           0.008571428571428572,
           0.012857142857142859,
           0.017142857142857144,
           0.02142857142857143,
           0.025714285714285717,
           0.030000000000000002
          ],
          [
           0.0,
           0.004285714285714286,
           0.008571428571428572,
           0.012857142857142859,
           0.017142857142857144,
           0.02142857142857143,
           0.025714285714285717,
           0.030000000000000002
          ],
          [
           0.0,
           0.004285714285714286,
           0.008571428571428572,
           0.012857142857142859,
           0.017142857142857144,
           0.02142857142857143,
           0.025714285714285717,
           0.030000000000000002
          ],
          [
           0.0,
           0.004285714285714286,
           0.008571428571428572,
           0.012857142857142859,
           0.017142857142857144,
           0.02142857142857143,
           0.025714285714285717,
           0.030000000000000002
          ],
          [
           0.0,
           0.004285714285714286,
           0.008571428571428572,
           0.012857142857142859,
           0.017142857142857144,
           0.02142857142857143,
           0.025714285714285717,
           0.030000000000000002
          ],
          [
           0.0,
           0.004285714285714286,
           0.008571428571428572,
           0.012857142857142859,
           0.017142857142857144,
           0.02142857142857143,
           0.025714285714285717,
           0.030000000000000002
          ],
          [
           0.0,
           0.004285714285714286,
           0.008571428571428572,
           0.012857142857142859,
           0.017142857142857144,
           0.02142857142857143,
           0.025714285714285717,
           0.030000000000000002
          ],
          [
           0.0,
           0.004285714285714286,
           0.008571428571428572,
           0.012857142857142859,
           0.017142857142857144,
           0.02142857142857143,
           0.025714285714285717,
           0.030000000000000002
          ],
          [
           0.0,
           0.004285714285714286,
           0.008571428571428572,
           0.012857142857142859,
           0.017142857142857144,
           0.02142857142857143,
           0.025714285714285717,
           0.030000000000000002
          ],
          [
           0.0,
           0.004285714285714286,
           0.008571428571428572,
           0.012857142857142859,
           0.017142857142857144,
           0.02142857142857143,
           0.025714285714285717,
           0.030000000000000002
          ],
          [
           0.0,
           0.004285714285714286,
           0.008571428571428572,
           0.012857142857142859,
           0.017142857142857144,
           0.02142857142857143,
           0.025714285714285717,
           0.030000000000000002
          ]
         ],
         "y": [
          [
           2.6558252289026476,
           2.6558252289026476,
           2.6558252289026476,
           2.6558252289026476,
           2.6558252289026476,
           2.6558252289026476,
           2.6558252289026476,
           2.6558252289026476
          ],
          [
           3.074704249381287,
           3.074704249381287,
           3.074704249381287,
           3.074704249381287,
           3.074704249381287,
           3.074704249381287,
           3.074704249381287,
           3.074704249381287
          ],
          [
           3.4935832698599256,
           3.4935832698599256,
           3.4935832698599256,
           3.4935832698599256,
           3.4935832698599256,
           3.4935832698599256,
           3.4935832698599256,
           3.4935832698599256
          ],
          [
           3.912462290338565,
           3.912462290338565,
           3.912462290338565,
           3.912462290338565,
           3.912462290338565,
           3.912462290338565,
           3.912462290338565,
           3.912462290338565
          ],
          [
           4.331341310817204,
           4.331341310817204,
           4.331341310817204,
           4.331341310817204,
           4.331341310817204,
           4.331341310817204,
           4.331341310817204,
           4.331341310817204
          ],
          [
           4.750220331295843,
           4.750220331295843,
           4.750220331295843,
           4.750220331295843,
           4.750220331295843,
           4.750220331295843,
           4.750220331295843,
           4.750220331295843
          ],
          [
           5.1690993517744825,
           5.1690993517744825,
           5.1690993517744825,
           5.1690993517744825,
           5.1690993517744825,
           5.1690993517744825,
           5.1690993517744825,
           5.1690993517744825
          ],
          [
           5.58797837225312,
           5.58797837225312,
           5.58797837225312,
           5.58797837225312,
           5.58797837225312,
           5.58797837225312,
           5.58797837225312,
           5.58797837225312
          ],
          [
           6.00685739273176,
           6.00685739273176,
           6.00685739273176,
           6.00685739273176,
           6.00685739273176,
           6.00685739273176,
           6.00685739273176,
           6.00685739273176
          ],
          [
           6.4257364132104,
           6.4257364132104,
           6.4257364132104,
           6.4257364132104,
           6.4257364132104,
           6.4257364132104,
           6.4257364132104,
           6.4257364132104
          ],
          [
           6.844615433689038,
           6.844615433689038,
           6.844615433689038,
           6.844615433689038,
           6.844615433689038,
           6.844615433689038,
           6.844615433689038,
           6.844615433689038
          ],
          [
           7.263494454167677,
           7.263494454167677,
           7.263494454167677,
           7.263494454167677,
           7.263494454167677,
           7.263494454167677,
           7.263494454167677,
           7.263494454167677
          ],
          [
           7.682373474646317,
           7.682373474646317,
           7.682373474646317,
           7.682373474646317,
           7.682373474646317,
           7.682373474646317,
           7.682373474646317,
           7.682373474646317
          ],
          [
           8.101252495124955,
           8.101252495124955,
           8.101252495124955,
           8.101252495124955,
           8.101252495124955,
           8.101252495124955,
           8.101252495124955,
           8.101252495124955
          ],
          [
           8.520131515603595,
           8.520131515603595,
           8.520131515603595,
           8.520131515603595,
           8.520131515603595,
           8.520131515603595,
           8.520131515603595,
           8.520131515603595
          ],
          [
           8.939010536082234,
           8.939010536082234,
           8.939010536082234,
           8.939010536082234,
           8.939010536082234,
           8.939010536082234,
           8.939010536082234,
           8.939010536082234
          ]
         ],
         "z": [
          [
           0.0,
           0.0,
           0.0,
           0.0,
           0.0,
           0.0,
           0.0,
           0.0
          ],
          [
           0.0,
           16634.755381626488,
           27956.1808561153,
           33682.77583616662,
           33682.77583616662,
           27956.180856115298,
           16634.755381626484,
           0.0
          ],
          [
           0.0,
           48616.87991467092,
           81104.5276869943,
           97371.11422708258,
           97371.1142270826,
           81104.52768699432,
           48616.87991467093,
           0.0
          ],
          [
           0.0,
           89270.60308584783,
           148664.39751292,
           178324.42769290935,
           178324.4276929094,
           148664.39751292003,
           89270.60308584785,
           0.0
          ],
          [
           0.0,
           136331.8140892651,
           226668.17977164598,
           271670.65585077053,
           271670.6558507706,
           226668.179771646,
           136331.81408926516,
           0.0
          ],
          [
           0.0,
           176772.4569387907,
           293424.87144169805,
           351395.02376400767,
           351395.02376400767,
           293424.87144169805,
           176772.4569387907,
           0.0
          ],
          [
           0.0,
           180621.1193667171,
           299489.34881228633,
           358465.0930126051,
           358465.093012605,
           299489.3488122862,
           180621.11936671703,
           0.0
          ],
          [
           0.0,
           117551.31403303139,
           195000.13871842533,
           233451.38721394364,
           233451.38721394364,
           195000.1387184253,
           117551.31403303139,
           0.0
          ],
          [
           0.0,
           2762.973786067147,
           4920.069535181485,
           6090.455831804952,
           6090.455831804949,
           4920.069535181479,
           2762.973786067144,
           0.0
          ],
          [
           0.0,
           0.0,
           0.0,
           0.0,
           0.0,
           0.0,
           0.0,
           0.0
          ],
          [
           0.0,
           0.0,
           0.0,
           0.0,
           0.0,
           0.0,
           0.0,
           0.0
          ],
          [
           0.0,
           0.0,
           0.0,
           0.0,
           0.0,
           0.0,
           0.0,
           0.0
          ],
          [
           0.0,
           0.0,
           0.0,
           0.0,
           0.0,
           0.0,
           0.0,
           0.0
          ],
          [
           0.0,
           0.0,
           0.0,
           0.0,
           0.0,
           0.0,
           0.0,
           0.0
          ],
          [
           0.0,
           0.0,
           0.0,
           0.0,
           0.0,
           0.0,
           0.0,
           0.0
          ],
          [
           0.0,
           0.0,
           0.0,
           0.0,
           0.0,
           0.0,
           0.0,
           0.0
          ]
         ]
        }
       ],
       "layout": {
        "scene": {
         "bgcolor": "white",
         "xaxis": {
          "title": {
           "text": "<b>Rotor Length</b>"
          }
         },
         "yaxis": {
          "title": {
           "text": "<b>Angular Position</b>"
          }
         },
         "zaxis": {
          "title": {
           "text": "<b>Pressure</b>"
          }
         }
        },
        "template": {
         "data": {
          "bar": [
           {
            "error_x": {
             "color": "#2a3f5f"
            },
            "error_y": {
             "color": "#2a3f5f"
            },
            "marker": {
             "line": {
              "color": "white",
              "width": 0.5
             }
            },
            "type": "bar"
           }
          ],
          "barpolar": [
           {
            "marker": {
             "line": {
              "color": "white",
              "width": 0.5
             }
            },
            "type": "barpolar"
           }
          ],
          "carpet": [
           {
            "aaxis": {
             "endlinecolor": "#2a3f5f",
             "gridcolor": "#C8D4E3",
             "linecolor": "#C8D4E3",
             "minorgridcolor": "#C8D4E3",
             "startlinecolor": "#2a3f5f"
            },
            "baxis": {
             "endlinecolor": "#2a3f5f",
             "gridcolor": "#C8D4E3",
             "linecolor": "#C8D4E3",
             "minorgridcolor": "#C8D4E3",
             "startlinecolor": "#2a3f5f"
            },
            "type": "carpet"
           }
          ],
          "choropleth": [
           {
            "colorbar": {
             "outlinewidth": 0,
             "ticks": ""
            },
            "type": "choropleth"
           }
          ],
          "contour": [
           {
            "colorbar": {
             "outlinewidth": 0,
             "ticks": ""
            },
            "colorscale": [
             [
              0.0,
              "#0d0887"
             ],
             [
              0.1111111111111111,
              "#46039f"
             ],
             [
              0.2222222222222222,
              "#7201a8"
             ],
             [
              0.3333333333333333,
              "#9c179e"
             ],
             [
              0.4444444444444444,
              "#bd3786"
             ],
             [
              0.5555555555555556,
              "#d8576b"
             ],
             [
              0.6666666666666666,
              "#ed7953"
             ],
             [
              0.7777777777777778,
              "#fb9f3a"
             ],
             [
              0.8888888888888888,
              "#fdca26"
             ],
             [
              1.0,
              "#f0f921"
             ]
            ],
            "type": "contour"
           }
          ],
          "contourcarpet": [
           {
            "colorbar": {
             "outlinewidth": 0,
             "ticks": ""
            },
            "type": "contourcarpet"
           }
          ],
          "heatmap": [
           {
            "colorbar": {
             "outlinewidth": 0,
             "ticks": ""
            },
            "colorscale": [
             [
              0.0,
              "#0d0887"
             ],
             [
              0.1111111111111111,
              "#46039f"
             ],
             [
              0.2222222222222222,
              "#7201a8"
             ],
             [
              0.3333333333333333,
              "#9c179e"
             ],
             [
              0.4444444444444444,
              "#bd3786"
             ],
             [
              0.5555555555555556,
              "#d8576b"
             ],
             [
              0.6666666666666666,
              "#ed7953"
             ],
             [
              0.7777777777777778,
              "#fb9f3a"
             ],
             [
              0.8888888888888888,
              "#fdca26"
             ],
             [
              1.0,
              "#f0f921"
             ]
            ],
            "type": "heatmap"
           }
          ],
          "heatmapgl": [
           {
            "colorbar": {
             "outlinewidth": 0,
             "ticks": ""
            },
            "colorscale": [
             [
              0.0,
              "#0d0887"
             ],
             [
              0.1111111111111111,
              "#46039f"
             ],
             [
              0.2222222222222222,
              "#7201a8"
             ],
             [
              0.3333333333333333,
              "#9c179e"
             ],
             [
              0.4444444444444444,
              "#bd3786"
             ],
             [
              0.5555555555555556,
              "#d8576b"
             ],
             [
              0.6666666666666666,
              "#ed7953"
             ],
             [
              0.7777777777777778,
              "#fb9f3a"
             ],
             [
              0.8888888888888888,
              "#fdca26"
             ],
             [
              1.0,
              "#f0f921"
             ]
            ],
            "type": "heatmapgl"
           }
          ],
          "histogram": [
           {
            "marker": {
             "colorbar": {
              "outlinewidth": 0,
              "ticks": ""
             }
            },
            "type": "histogram"
           }
          ],
          "histogram2d": [
           {
            "colorbar": {
             "outlinewidth": 0,
             "ticks": ""
            },
            "colorscale": [
             [
              0.0,
              "#0d0887"
             ],
             [
              0.1111111111111111,
              "#46039f"
             ],
             [
              0.2222222222222222,
              "#7201a8"
             ],
             [
              0.3333333333333333,
              "#9c179e"
             ],
             [
              0.4444444444444444,
              "#bd3786"
             ],
             [
              0.5555555555555556,
              "#d8576b"
             ],
             [
              0.6666666666666666,
              "#ed7953"
             ],
             [
              0.7777777777777778,
              "#fb9f3a"
             ],
             [
              0.8888888888888888,
              "#fdca26"
             ],
             [
              1.0,
              "#f0f921"
             ]
            ],
            "type": "histogram2d"
           }
          ],
          "histogram2dcontour": [
           {
            "colorbar": {
             "outlinewidth": 0,
             "ticks": ""
            },
            "colorscale": [
             [
              0.0,
              "#0d0887"
             ],
             [
              0.1111111111111111,
              "#46039f"
             ],
             [
              0.2222222222222222,
              "#7201a8"
             ],
             [
              0.3333333333333333,
              "#9c179e"
             ],
             [
              0.4444444444444444,
              "#bd3786"
             ],
             [
              0.5555555555555556,
              "#d8576b"
             ],
             [
              0.6666666666666666,
              "#ed7953"
             ],
             [
              0.7777777777777778,
              "#fb9f3a"
             ],
             [
              0.8888888888888888,
              "#fdca26"
             ],
             [
              1.0,
              "#f0f921"
             ]
            ],
            "type": "histogram2dcontour"
           }
          ],
          "mesh3d": [
           {
            "colorbar": {
             "outlinewidth": 0,
             "ticks": ""
            },
            "type": "mesh3d"
           }
          ],
          "parcoords": [
           {
            "line": {
             "colorbar": {
              "outlinewidth": 0,
              "ticks": ""
             }
            },
            "type": "parcoords"
           }
          ],
          "pie": [
           {
            "automargin": true,
            "type": "pie"
           }
          ],
          "scatter": [
           {
            "marker": {
             "colorbar": {
              "outlinewidth": 0,
              "ticks": ""
             }
            },
            "type": "scatter"
           }
          ],
          "scatter3d": [
           {
            "line": {
             "colorbar": {
              "outlinewidth": 0,
              "ticks": ""
             }
            },
            "marker": {
             "colorbar": {
              "outlinewidth": 0,
              "ticks": ""
             },
             "size": 4
            },
            "type": "scatter3d"
           }
          ],
          "scattercarpet": [
           {
            "marker": {
             "colorbar": {
              "outlinewidth": 0,
              "ticks": ""
             }
            },
            "type": "scattercarpet"
           }
          ],
          "scattergeo": [
           {
            "marker": {
             "colorbar": {
              "outlinewidth": 0,
              "ticks": ""
             }
            },
            "type": "scattergeo"
           }
          ],
          "scattergl": [
           {
            "marker": {
             "colorbar": {
              "outlinewidth": 0,
              "ticks": ""
             }
            },
            "type": "scattergl"
           }
          ],
          "scattermapbox": [
           {
            "marker": {
             "colorbar": {
              "outlinewidth": 0,
              "ticks": ""
             }
            },
            "type": "scattermapbox"
           }
          ],
          "scatterpolar": [
           {
            "marker": {
             "colorbar": {
              "outlinewidth": 0,
              "ticks": ""
             }
            },
            "type": "scatterpolar"
           }
          ],
          "scatterpolargl": [
           {
            "marker": {
             "colorbar": {
              "outlinewidth": 0,
              "ticks": ""
             }
            },
            "type": "scatterpolargl"
           }
          ],
          "scatterternary": [
           {
            "marker": {
             "colorbar": {
              "outlinewidth": 0,
              "ticks": ""
             }
            },
            "type": "scatterternary"
           }
          ],
          "surface": [
           {
            "colorbar": {
             "outlinewidth": 0,
             "ticks": ""
            },
            "colorscale": [
             [
              0.0,
              "#0d0887"
             ],
             [
              0.1111111111111111,
              "#46039f"
             ],
             [
              0.2222222222222222,
              "#7201a8"
             ],
             [
              0.3333333333333333,
              "#9c179e"
             ],
             [
              0.4444444444444444,
              "#bd3786"
             ],
             [
              0.5555555555555556,
              "#d8576b"
             ],
             [
              0.6666666666666666,
              "#ed7953"
             ],
             [
              0.7777777777777778,
              "#fb9f3a"
             ],
             [
              0.8888888888888888,
              "#fdca26"
             ],
             [
              1.0,
              "#f0f921"
             ]
            ],
            "type": "surface"
           }
          ],
          "table": [
           {
            "cells": {
             "fill": {
              "color": "#EBF0F8"
             },
             "line": {
              "color": "white"
             }
            },
            "header": {
             "fill": {
              "color": "#C8D4E3"
             },
             "line": {
              "color": "white"
             }
            },
            "type": "table"
           }
          ]
         },
         "layout": {
          "annotationdefaults": {
           "arrowcolor": "#2a3f5f",
           "arrowhead": 0,
           "arrowwidth": 1
          },
          "coloraxis": {
           "colorbar": {
            "outlinewidth": 0,
            "ticks": ""
           }
          },
          "colorscale": {
           "diverging": [
            [
             0,
             "#8e0152"
            ],
            [
             0.1,
             "#c51b7d"
            ],
            [
             0.2,
             "#de77ae"
            ],
            [
             0.3,
             "#f1b6da"
            ],
            [
             0.4,
             "#fde0ef"
            ],
            [
             0.5,
             "#f7f7f7"
            ],
            [
             0.6,
             "#e6f5d0"
            ],
            [
             0.7,
             "#b8e186"
            ],
            [
             0.8,
             "#7fbc41"
            ],
            [
             0.9,
             "#4d9221"
            ],
            [
             1,
             "#276419"
            ]
           ],
           "sequential": [
            [
             0.0,
             "#0d0887"
            ],
            [
             0.1111111111111111,
             "#46039f"
            ],
            [
             0.2222222222222222,
             "#7201a8"
            ],
            [
             0.3333333333333333,
             "#9c179e"
            ],
            [
             0.4444444444444444,
             "#bd3786"
            ],
            [
             0.5555555555555556,
             "#d8576b"
            ],
            [
             0.6666666666666666,
             "#ed7953"
            ],
            [
             0.7777777777777778,
             "#fb9f3a"
            ],
            [
             0.8888888888888888,
             "#fdca26"
            ],
            [
             1.0,
             "#f0f921"
            ]
           ],
           "sequentialminus": [
            [
             0.0,
             "#0d0887"
            ],
            [
             0.1111111111111111,
             "#46039f"
            ],
            [
             0.2222222222222222,
             "#7201a8"
            ],
            [
             0.3333333333333333,
             "#9c179e"
            ],
            [
             0.4444444444444444,
             "#bd3786"
            ],
            [
             0.5555555555555556,
             "#d8576b"
            ],
            [
             0.6666666666666666,
             "#ed7953"
            ],
            [
             0.7777777777777778,
             "#fb9f3a"
            ],
            [
             0.8888888888888888,
             "#fdca26"
            ],
            [
             1.0,
             "#f0f921"
            ]
           ]
          },
          "colorway": [
           "#1f77b4",
           "#ff7f0e",
           "#2ca02c",
           "#d62728",
           "#9467bd",
           "#8c564b",
           "#e377c2",
           "#7f7f7f",
           "#bcbd22",
           "#17becf"
          ],
          "font": {
           "color": "#2a3f5f"
          },
          "geo": {
           "bgcolor": "white",
           "lakecolor": "white",
           "landcolor": "white",
           "showlakes": true,
           "showland": true,
           "subunitcolor": "#C8D4E3"
          },
          "hoverlabel": {
           "align": "left"
          },
          "hovermode": "closest",
          "mapbox": {
           "style": "light"
          },
          "paper_bgcolor": "white",
          "plot_bgcolor": "white",
          "polar": {
           "angularaxis": {
            "gridcolor": "#EBF0F8",
            "linecolor": "#EBF0F8",
            "ticks": ""
           },
           "bgcolor": "white",
           "radialaxis": {
            "gridcolor": "#EBF0F8",
            "linecolor": "#EBF0F8",
            "ticks": ""
           }
          },
          "scene": {
           "camera": {
            "center": {
             "x": 0,
             "y": 0,
             "z": 0
            },
            "eye": {
             "x": 2.0,
             "y": 2.0,
             "z": 2.0
            },
            "up": {
             "x": 0,
             "y": 0,
             "z": 1
            }
           },
           "xaxis": {
            "backgroundcolor": "white",
            "gridcolor": "#DFE8F3",
            "gridwidth": 2,
            "linecolor": "#EBF0F8",
            "showbackground": true,
            "showspikes": false,
            "ticks": "",
            "zerolinecolor": "#EBF0F8"
           },
           "yaxis": {
            "backgroundcolor": "white",
            "gridcolor": "#DFE8F3",
            "gridwidth": 2,
            "linecolor": "#EBF0F8",
            "showbackground": true,
            "showspikes": false,
            "ticks": "",
            "zerolinecolor": "#EBF0F8"
           },
           "zaxis": {
            "backgroundcolor": "white",
            "gridcolor": "#DFE8F3",
            "gridwidth": 2,
            "linecolor": "#EBF0F8",
            "showbackground": true,
            "showspikes": false,
            "ticks": "",
            "zerolinecolor": "#EBF0F8"
           }
          },
          "shapedefaults": {
           "line": {
            "color": "#2a3f5f"
           }
          },
          "ternary": {
           "aaxis": {
            "gridcolor": "#DFE8F3",
            "linecolor": "#A2B1C6",
            "ticks": ""
           },
           "baxis": {
            "gridcolor": "#DFE8F3",
            "linecolor": "#A2B1C6",
            "ticks": ""
           },
           "bgcolor": "white",
           "caxis": {
            "gridcolor": "#DFE8F3",
            "linecolor": "#A2B1C6",
            "ticks": ""
           }
          },
          "title": {
           "x": 0.05
          },
          "xaxis": {
           "automargin": true,
           "gridcolor": "#EBF0F8",
           "linecolor": "black",
           "linewidth": 2.0,
           "mirror": true,
           "showline": true,
           "ticks": "",
           "title": {
            "standoff": 15
           },
           "zeroline": false,
           "zerolinecolor": "#EBF0F8",
           "zerolinewidth": 2
          },
          "yaxis": {
           "automargin": true,
           "gridcolor": "#EBF0F8",
           "linecolor": "black",
           "linewidth": 2.0,
           "mirror": true,
           "showline": true,
           "ticks": "",
           "title": {
            "standoff": 15
           },
           "zeroline": false,
           "zerolinecolor": "#EBF0F8",
           "zerolinewidth": 2
          }
         }
        },
        "title": {
         "text": "<b>Bearing Pressure Field</b>"
        }
       }
      }
     },
     "metadata": {},
     "output_type": "display_data"
    }
   ],
   "source": [
    "from ross.fluid_flow.fluid_flow_graphics import (\n",
    "    plot_pressure_theta_cylindrical,\n",
    "    plot_pressure_z,\n",
    "    plot_pressure_theta,\n",
    "    plot_pressure_surface,\n",
    ")\n",
    "\n",
    "my_fluid_flow.calculate_pressure_matrix_numerical()\n",
    "fig1 = plot_pressure_z(my_fluid_flow, theta=int(my_fluid_flow.ntheta / 2))\n",
    "fig1.show()\n",
    "fig2 = plot_pressure_theta(my_fluid_flow, z=int(my_fluid_flow.nz / 2))\n",
    "fig2.show()\n",
    "fig3 = plot_pressure_theta_cylindrical(my_fluid_flow, z=int(my_fluid_flow.nz / 2))\n",
    "fig3.show()\n",
    "fig4 = plot_pressure_surface(my_fluid_flow)\n",
    "fig4.show()"
   ]
  },
  {
   "cell_type": "markdown",
   "metadata": {},
   "source": [
    "**FORCES**\n",
    "\n",
    "The pressure field developes forces that acts on the rotor surface. According to SAN ANDRES (2010) [4] these forces are given by:\n",
    "\n",
    "$$    \\begin{bmatrix}\n",
    "    N \\\\ T\n",
    "    \\end{bmatrix} \n",
    "    = R_i \\int_{0}^{L} \\int_{0}^{2\\pi} p \\begin{bmatrix}\n",
    "\\cos{\\theta}\\\\\\sin{\\theta} \n",
    "\\end{bmatrix} d\\theta dz$$\n",
    "\n",
    "As the pressure behavior is obtained numerically, the integrals above also need a numerical method to be solved. For this, the composite Simpson rule applied through the *integrate.simps* method of the library *SciPy* was chosen, by VIRTANEN et al. (2020) [5].\n",
    "\n",
    "It is also possible to obtain the forces $ f_x $ and $ f_y $ in the Cartesian coordinate system:\n",
    "\n",
    "$$    f_x = T \\cos{(\\beta)} - N \\sin{(\\beta)}\n",
    "    \\\\ \n",
    "    f_y = T \\sin{(\\beta)} + N \\cos{(\\beta)}$$"
   ]
  },
  {
   "cell_type": "code",
   "execution_count": 4,
   "metadata": {
    "execution": {
     "iopub.execute_input": "2023-05-04T00:58:17.199256Z",
     "iopub.status.busy": "2023-05-04T00:58:17.199141Z",
     "iopub.status.idle": "2023-05-04T00:58:17.204872Z",
     "shell.execute_reply": "2023-05-04T00:58:17.204426Z"
    }
   },
   "outputs": [
    {
     "name": "stdout",
     "output_type": "stream",
     "text": [
      "N= 245.11574757987194\n",
      "T= 464.26637600572286\n",
      "fx= 1.908338163048029e-06\n",
      "fy= 524.9999977153587\n"
     ]
    }
   ],
   "source": [
    "from ross.fluid_flow.fluid_flow_coefficients import calculate_oil_film_force\n",
    "\n",
    "radial_force, tangential_force, force_x, force_y = calculate_oil_film_force(\n",
    "    my_fluid_flow\n",
    ")\n",
    "print(\"N=\", radial_force)\n",
    "print(\"T=\", tangential_force)\n",
    "print(\"fx=\", force_x)\n",
    "print(\"fy=\", force_y)"
   ]
  },
  {
   "cell_type": "markdown",
   "metadata": {},
   "source": [
    "**EQUILIBRIUM POSITION**\n",
    "\n",
    "As indicated by SAN ANDRES (2010) [4], there is an equilibrium position in which the rotor center is stationary and the  fluid film forces balance the external forces, in this case the rotor weight. This is expressed as:\n",
    "\n",
    "$$f_{x_0} = 0$$\n",
    "$$f_{y_0} = W $$\n",
    "    \n",
    "Knowing the external load $ W $, it is possible to reach the equilibrium position using an iterative method. Starting at an initial position, the residues between the forces at the current position and external forces are calculated. If the residue is greater than a defined tolerance, the position of the rotor is varied systematically,  inside the fourth quadrant, until the desired tolerance is reached. In other words, a local minimum of the forces function is reached. The Python tool *optimize.least\\_squares* was used for this purpose. The method is shown in the image below.\n",
    "\n",
    "<img src=\"https://docs.google.com/uc?id=1KQImAbLR8uyFHpl1pGL-sJ4BCiUT0Ok3\" height=\"300\" />"
   ]
  },
  {
   "cell_type": "code",
   "execution_count": 5,
   "metadata": {
    "execution": {
     "iopub.execute_input": "2023-05-04T00:58:17.206977Z",
     "iopub.status.busy": "2023-05-04T00:58:17.206608Z",
     "iopub.status.idle": "2023-05-04T00:58:18.039376Z",
     "shell.execute_reply": "2023-05-04T00:58:18.038927Z"
    }
   },
   "outputs": [
    {
     "name": "stdout",
     "output_type": "stream",
     "text": [
      "(xi,yi)= ( 2.24665659581011e-05 , -1.186152916399651e-05 )\n",
      "fx, fy= 6.35342044574827e-06 , 524.9999866137354\n"
     ]
    }
   ],
   "source": [
    "from ross.fluid_flow.fluid_flow_coefficients import find_equilibrium_position\n",
    "\n",
    "find_equilibrium_position(my_fluid_flow)\n",
    "print(\"(xi,yi)=\", \"(\", my_fluid_flow.xi, \",\", my_fluid_flow.yi, \")\")\n",
    "radial_force, tangential_force, force_x, force_y = calculate_oil_film_force(\n",
    "    my_fluid_flow\n",
    ")\n",
    "print(\"fx, fy=\", force_x, \",\", force_y)"
   ]
  },
  {
   "cell_type": "markdown",
   "metadata": {},
   "source": [
    "**DYNAMIC COEFFICIENTS**\n",
    "\n",
    "According to SAN ANDRÉS (2010) [4], small disturbances around the equilibrium position allow us to express the fluid film forces as an expansion in Taylor series:\n",
    "\n",
    "$$f_x = f_{x_0} \n",
    "    + \\dfrac{\\partial f_x}{\\partial x} \\Delta x\n",
    "    + \\dfrac{\\partial f_x}{\\partial y} \\Delta y\n",
    "    + \\dfrac{\\partial f_x}{\\partial \\dot{x}} \\Delta \\dot{x}\n",
    "    + \\dfrac{\\partial f_x}{\\partial \\dot{y}} \\Delta \\dot{y}\n",
    "\\\\\n",
    "    f_y = f_{y_0} \n",
    "    + \\dfrac{\\partial f_y}{\\partial x} \\Delta x\n",
    "    + \\dfrac{\\partial f_y}{\\partial y} \\Delta y\n",
    "    + \\dfrac{\\partial f_y}{\\partial \\dot{x}} \\Delta \\dot{x}\n",
    "    + \\dfrac{\\partial f_y}{\\partial \\dot{y}} \\Delta \\dot{y}$$\n",
    "\n",
    "From this expansion, the author also defines the stiffness coefficients $(k_{ij})$, damping $(c_{ij})$ as:\n",
    "\n",
    "$$    k_{ij}=-\\dfrac{\\partial f_i}{\\partial j}\\text{;}\n",
    "    \\quad \\quad \n",
    "    c_{ij}=-\\dfrac{\\partial f_i}{\\partial \\dot{j}}\\text{;}\n",
    "    \\quad \\quad \n",
    "     i,j \\in x,y$$\n",
    "\n",
    "The procedure to calculate these coeficients is divided in three steps. First, two perturbations along the $x$ and $y$ directions are considered in the calculation of the velocity of any point $A$ in the rotor surface. This is expressed as\n",
    "\n",
    "$$v_{tot} = v_{rot} + v_p$$\n",
    "\n",
    "where $v_{rot}$ is the velocity of the point due to the rotation and $v_{p}$ is the velocity acquired by a disturbance along each direction. These perturbation are considered of the type\n",
    "\n",
    "$$(v_p)_x = \\omega_p x_p \\cos{(\\omega_p t)}e_x \\longrightarrow \\text{for a perturbation along the $x$ direction}\n",
    "    \\\\\n",
    "    (v_p)_y = \\omega_p y_p \\cos{(\\omega_p t)}e_y \\longrightarrow \\text{for a perturbation along the $y$ direction},$$\n",
    "\n",
    "where $e_x$ and $e_y$ are unit vectors in cartesian coordinates.\n",
    "\n",
    "Combination of the two last equations, in cylindrical coordinates, gives the following velocity along each axis:\n",
    "\n",
    "$$(v_{tot})_x \n",
    "    = \\underset{v(R_\\theta)_x}{\\underbrace{\\left(\\omega \\dfrac{\\partial R_{\\theta}}{\\partial \\theta} + \\omega_p x_p \\cos{(\\omega_p t)\\cos{(\\theta)}}\\right)}} e_r \n",
    "    + \\underset{w(R_\\theta)_x}{\\underbrace{\\left(\\omega R_{\\theta} - \\omega_p x_p \\cos{(\\omega_p t)}\\sin{(\\theta)} \\right)}} e_{\\theta}\n",
    "    \\\\\n",
    "    (v_{tot})_y \n",
    "    = \\underset{v(R_\\theta)_y}{\\underbrace{\\left(\\omega \\dfrac{\\partial R_{\\theta}}{\\partial \\theta} + \\omega_p y_p \\cos{(\\omega_p t)\\sin{(\\theta)}}\\right)}} e_r \n",
    "    + \\underset{w(R_\\theta)_y}{\\underbrace{\\left(\\omega R_{\\theta} - \\omega_p y_p \\cos{(\\omega_p t)}\\cos{(\\theta)} \\right)}} e_{\\theta}$$\n",
    "    \n",
    "The second step is to substitute the radial speeds ($v(R_\\theta)_x$ and $v(R_\\theta)_y$), and tangential speeds($w(R_\\theta)_x$ and $w(R_\\theta)_y$) in the continuity equation, previously calculated for a fixed position. Thus, when the rotor is rotating and its center is being perturbed along horizontal and vertical directions, the new $C_0$ coefficient of the continuity equation is\n",
    "\n",
    "$$(C_0)_x = C_0 + \\left[R_{\\theta} \\omega_p x_p \\cos{(\\omega_p t)} \\sin{(\\theta)}\\right]\n",
    "    \\\\\n",
    "    (C_0)_y = C_0 + \\left[R_{\\theta} \\omega_p y_p \\cos{(\\omega_p t)} \\cos{(\\theta)}\\right]$$\n",
    "\n",
    "This new coefficient ensures that the fluid film forces are calculated for a rotor with a fixed rotation $\\omega$ and with a center moving along a horizontal or vertical direction with a fixed frequency $\\omega_p$.\n",
    "\n",
    "The final step is to calculate the forces, along both the horizontal and vertical directions, for each perturbation. This sets the following four equations:\n",
    "\n",
    "$$\\left( f_x[t] \\right)_x = f_{x_0} + k_{xx}\\Delta x[t] + c_{xx}\\Delta \\dot{x}[t]\\text{,}\n",
    "    \\\\\n",
    "    \\left( f_y[t] \\right)_x = f_{y_0} + k_{yx}\\Delta x[t] + c_{yx}\\Delta \\dot{x}[t]\\text{,}\n",
    "    \\\\\n",
    "    \\left( f_x[t] \\right)_y = f_{x_0} + k_{xy}\\Delta y[t] + c_{xy}\\Delta \\dot{y}[t]\\text{,}\n",
    "    \\\\\n",
    "    \\left( f_y[t] \\right)_y = f_{y_0} + k_{yy}\\Delta y[t] + c_{yy}\\Delta \\dot{y}[t]  $$\n",
    "\n",
    "where the only unkowns are the eight coefficients.\n",
    "In matrix form, this equation is expressed as follows\n",
    "\n",
    "$$\\mathbf{A}_x \n",
    "    \\begin{bmatrix}\n",
    "    \tk_{xx} & k_{yx}\\\\\n",
    "    \tc_{xx} & c_{yx}\n",
    "\t\\end{bmatrix}\n",
    "\t= \\mathbf{F}_x \n",
    "\t\\quad \\quad \\text{e} \\quad \\quad\n",
    "\t\\mathbf{A}_y \n",
    "    \\begin{bmatrix}\n",
    "    \tk_{xy} & k_{yy}\\\\\n",
    "    \tc_{xy} & c_{yy}\n",
    "\t\\end{bmatrix}\n",
    "\t= \\mathbf{F}_y$$\n",
    "\n",
    "The coefficients are obtained by using the Moore Penrose inverse and solving for each set of coefficients:\n",
    "\n",
    "$$\\begin{bmatrix}\n",
    "    \tk_{xx} & k_{yx}\\\\\n",
    "    \tc_{xx} & c_{yx}\n",
    "\t\\end{bmatrix}\n",
    "\t= \\left( \\mathbf{A}_{x}^{T} \\mathbf{A}_{x}\\right)^{-1}\n",
    "    \\mathbf{A}_{x}^{T} \\mathbf{F}_x \\quad \\quad \\text{e} \\quad \\quad\n",
    "    \\begin{bmatrix}\n",
    "    \tk_{xy} & k_{yy}\\\\\n",
    "    \tc_{xy} & c_{yy}\n",
    "\t\\end{bmatrix}\n",
    "\t= \\left( \\mathbf{A}_{y}^{T} \\mathbf{A}_{y}\\right)^{-1}\n",
    "    \\mathbf{A}_{y}^{T}\\mathbf{F}_y$$"
   ]
  },
  {
   "cell_type": "code",
   "execution_count": 6,
   "metadata": {
    "execution": {
     "iopub.execute_input": "2023-05-04T00:58:18.041308Z",
     "iopub.status.busy": "2023-05-04T00:58:18.041194Z",
     "iopub.status.idle": "2023-05-04T00:58:18.147520Z",
     "shell.execute_reply": "2023-05-04T00:58:18.147024Z"
    }
   },
   "outputs": [
    {
     "name": "stdout",
     "output_type": "stream",
     "text": [
      "Stiffness coefficients:\n",
      "kxx, kxy, kyx, kyy =  15121431.698482102 15384601.661070675 -25817662.364928093 13631622.300446654\n",
      "Damping coefficients:\n",
      "cxx, cxy, cyx, cyy 270679.3080703647 -142944.89893464962 -27092.083591982722 312029.25118641555\n"
     ]
    }
   ],
   "source": [
    "from ross.fluid_flow.fluid_flow_coefficients import (\n",
    "    calculate_stiffness_and_damping_coefficients,\n",
    ")\n",
    "\n",
    "K, C = calculate_stiffness_and_damping_coefficients(my_fluid_flow)\n",
    "kxx, kxy, kyx, kyy = K[0], K[1], K[2], K[3]\n",
    "cxx, cxy, cyx, cyy = C[0], C[1], C[2], C[3]\n",
    "print(\"Stiffness coefficients:\")\n",
    "print(\"kxx, kxy, kyx, kyy = \", kxx, kxy, kyx, kyy)\n",
    "print(\"Damping coefficients:\")\n",
    "print(\"cxx, cxy, cyx, cyy\", cxx, cxy, cyx, cyy)"
   ]
  },
  {
   "cell_type": "markdown",
   "metadata": {},
   "source": [
    "#### Based on MOTA (2020), where is the complete theory used by *FluidFlow*:\n",
    "\n",
    "Mota, J. A.; **Estudo da teoria de lubrificação com parametrização diferenciada da geometria e aplicações em mancais hidrodinâmicos.** Dissertação de Mestrado - Programa de Pós-Graduação em Informática, Universidade Federal do Rio de Janeiro, Rio de Janeiro, 2020\n",
    "\n"
   ]
  },
  {
   "cell_type": "markdown",
   "metadata": {},
   "source": [
    "**REFERENCES CITED IN THE TEXT**\n",
    "\n",
    "[1] DOWSON, D.; TAYLOR, C. Cavitation in bearings. **Annual Review of Fluid Mechanics**, [S.l.], v. 11, n. 1, p. 35–65, 1979.\n",
    "\n",
    "[2] ISHIDA, Y.; YAMAMOTO, T. Flow-Induced Vibrations. In: **Linear and nonlinear rotordynamics**. Weinheim: Wiley Online Library, 2012. p. 235–261.\n",
    "\n",
    "[3] SANTOS, E. S. ** Carregamento dinamico de mancais radiais com cavitaçãodo filme de óleo**. Dissertação de Mestrado — Centro Tecnológico, Universidade Federal de Santa Catarina, Santa Catarina, 1995.\n",
    "\n",
    "[4] SAN ANDRES, L. **Experimental Identification of Bearing Force Coefficients**, Notes 1 5 Acesso em 08/02/2020, http://oaktrust.library.tamu.edu/handle/1969.1/93199.\n",
    "\n",
    "[5] VIRTANEN, P. et al. SciPy 1.0: fundamental algorithms for scientific computing inpython. **Nature Methods**, [S.l.], v. 17, p. 261–272, 2020."
   ]
  }
 ],
 "metadata": {
  "kernelspec": {
   "display_name": "Python 3 (ipykernel)",
   "language": "python",
   "name": "python3"
  },
  "language_info": {
   "codemirror_mode": {
    "name": "ipython",
    "version": 3
   },
   "file_extension": ".py",
   "mimetype": "text/x-python",
   "name": "python",
   "nbconvert_exporter": "python",
   "pygments_lexer": "ipython3",
   "version": "3.10.9"
  }
 },
 "nbformat": 4,
 "nbformat_minor": 4
}
