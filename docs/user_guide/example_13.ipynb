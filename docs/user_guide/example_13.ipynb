{
 "cells": [
  {
   "cell_type": "markdown",
   "metadata": {},
   "source": [
    "Example 13 - Uncertainties on bearings coefficients\n",
    "==========================================\n",
    "In this example, we use the rotor seen in Example 5.9.4 from {cite}`friswell2010dynamics`.\n",
    "\n",
    "This system is the same as that of Example 3, except that now, we'll considerer some level of uncertainties on bearing direct coefficients (`kxx`, `kyy`, `cxx`, `cyy`)."
   ]
  },
  {
   "cell_type": "code",
   "execution_count": 1,
   "metadata": {
    "execution": {
     "iopub.execute_input": "2023-05-04T00:59:08.009679Z",
     "iopub.status.busy": "2023-05-04T00:59:08.009449Z",
     "iopub.status.idle": "2023-05-04T00:59:08.998291Z",
     "shell.execute_reply": "2023-05-04T00:59:08.997841Z"
    }
   },
   "outputs": [],
   "source": [
    "import ross as rs\n",
    "import ross.stochastic as srs\n",
    "import numpy as np"
   ]
  },
  {
   "cell_type": "code",
   "execution_count": 2,
   "metadata": {
    "execution": {
     "iopub.execute_input": "2023-05-04T00:59:09.000331Z",
     "iopub.status.busy": "2023-05-04T00:59:09.000165Z",
     "iopub.status.idle": "2023-05-04T00:59:09.004872Z",
     "shell.execute_reply": "2023-05-04T00:59:09.004338Z"
    },
    "scrolled": true
   },
   "outputs": [],
   "source": [
    "# Deterministic Shaft Elements\n",
    "Steel = rs.steel\n",
    "shaft = [rs.ShaftElement(L=0.25, material=Steel, idl=0, odl=0.05) for i in range(6)]\n",
    "\n",
    "# Deterministic Disk Elements\n",
    "disk1 = rs.DiskElement.from_geometry(\n",
    "    n=2,\n",
    "    material=Steel,\n",
    "    width=0.07,\n",
    "    i_d=0.05,\n",
    "    o_d=0.28,\n",
    ")\n",
    "\n",
    "disk2 = rs.DiskElement.from_geometry(\n",
    "    n=4,\n",
    "    material=Steel,\n",
    "    width=0.07,\n",
    "    i_d=0.05,\n",
    "    o_d=0.35,\n",
    ")\n",
    "disks = [disk1, disk2]"
   ]
  },
  {
   "cell_type": "markdown",
   "metadata": {},
   "source": [
    "In this example, let's consider an uniform distribuition for the coefficients. Because it's a demonstrative example, we'll not use too many samples, to avoid taking too long to run the simulation.\n",
    "\n",
    "We can use `numpy.random` package to generate random values for our variables.\n",
    "\n",
    "#### Stochastic Bearing Elements"
   ]
  },
  {
   "cell_type": "code",
   "execution_count": 3,
   "metadata": {
    "execution": {
     "iopub.execute_input": "2023-05-04T00:59:09.007124Z",
     "iopub.status.busy": "2023-05-04T00:59:09.006806Z",
     "iopub.status.idle": "2023-05-04T00:59:09.011341Z",
     "shell.execute_reply": "2023-05-04T00:59:09.010813Z"
    }
   },
   "outputs": [],
   "source": [
    "# random variables must have the same size\n",
    "kxx = np.random.uniform(low=1e6, high=3e6, size=50)\n",
    "cxx = np.random.uniform(low=1e2, high=2e2, size=50)\n",
    "\n",
    "bearing1 = srs.ST_BearingElement(n=0, kxx=kxx, cxx=cxx, is_random=[\"kxx\", \"cxx\"])\n",
    "bearing2 = srs.ST_BearingElement(n=6, kxx=kxx, cxx=cxx, is_random=[\"kxx\", \"cxx\"])\n",
    "bearings = [bearing1, bearing2]"
   ]
  },
  {
   "cell_type": "code",
   "execution_count": 4,
   "metadata": {
    "execution": {
     "iopub.execute_input": "2023-05-04T00:59:09.013188Z",
     "iopub.status.busy": "2023-05-04T00:59:09.013022Z",
     "iopub.status.idle": "2023-05-04T00:59:10.214803Z",
     "shell.execute_reply": "2023-05-04T00:59:10.214273Z"
    }
   },
   "outputs": [
    {
     "name": "stdout",
     "output_type": "stream",
     "text": [
      "Number of samples: 50\n"
     ]
    }
   ],
   "source": [
    "# Building random instances for a rotor model\n",
    "\n",
    "rand_rotor = srs.ST_Rotor(\n",
    "    shaft_elements=shaft, disk_elements=disks, bearing_elements=bearings\n",
    ")\n",
    "\n",
    "# Number of samples\n",
    "print(\"Number of samples:\", len(list(iter(rand_rotor))))"
   ]
  },
  {
   "cell_type": "markdown",
   "metadata": {},
   "source": [
    "#### Plotting a random sample\n",
    "\n",
    "We can use `numpy.random.choice` to take a random rotor object. Then, we can use the same functions than to `Rotor` class."
   ]
  },
  {
   "cell_type": "code",
   "execution_count": 5,
   "metadata": {
    "execution": {
     "iopub.execute_input": "2023-05-04T00:59:10.216768Z",
     "iopub.status.busy": "2023-05-04T00:59:10.216656Z",
     "iopub.status.idle": "2023-05-04T00:59:11.473512Z",
     "shell.execute_reply": "2023-05-04T00:59:11.472998Z"
    }
   },
   "outputs": [
    {
     "data": {
      "application/vnd.plotly.v1+json": {
       "config": {
        "plotlyServerURL": "https://plot.ly"
       },
       "data": [
        {
         "hoverinfo": "none",
         "line": {
          "color": "black",
          "dash": "dashdot",
          "width": 3.0
         },
         "mode": "lines",
         "opacity": 0.7,
         "showlegend": false,
         "type": "scatter",
         "x": [
          -0.30000000000000004,
          1.7999999999999998
         ],
         "y": [
          0,
          0
         ]
        },
        {
         "hoverinfo": "none",
         "marker": {
          "color": "#ffcc99",
          "line": {
           "color": "black",
           "width": 1.0
          },
          "opacity": 0.7,
          "size": 20
         },
         "mode": "markers+text",
         "showlegend": false,
         "text": [
          "0",
          "1",
          "2",
          "3",
          "4",
          "5",
          "6"
         ],
         "type": "scatter",
         "x": [
          0.0,
          0.25,
          0.5,
          0.75,
          1.0,
          1.25,
          1.5
         ],
         "y": [
          0.0,
          0.0,
          0.0,
          0.0,
          0.0,
          0.0,
          0.0
         ]
        },
        {
         "customdata": [
          [
           0,
           0.05,
           0.0,
           0.05,
           0.0,
           0.25,
           "Steel"
          ],
          [
           0,
           0.05,
           0.0,
           0.05,
           0.0,
           0.25,
           "Steel"
          ],
          [
           0,
           0.05,
           0.0,
           0.05,
           0.0,
           0.25,
           "Steel"
          ],
          [
           0,
           0.05,
           0.0,
           0.05,
           0.0,
           0.25,
           "Steel"
          ],
          [
           0,
           0.05,
           0.0,
           0.05,
           0.0,
           0.25,
           "Steel"
          ],
          [
           0,
           0.05,
           0.0,
           0.05,
           0.0,
           0.25,
           "Steel"
          ],
          [
           0,
           0.05,
           0.0,
           0.05,
           0.0,
           0.25,
           "Steel"
          ],
          [
           0,
           0.05,
           0.0,
           0.05,
           0.0,
           0.25,
           "Steel"
          ],
          [
           0,
           0.05,
           0.0,
           0.05,
           0.0,
           0.25,
           "Steel"
          ],
          [
           0,
           0.05,
           0.0,
           0.05,
           0.0,
           0.25,
           "Steel"
          ]
         ],
         "fill": "toself",
         "fillcolor": "#525252",
         "hoverinfo": "text",
         "hoverlabel": {
          "bgcolor": "#525252"
         },
         "hoveron": "points+fills",
         "hovertemplate": "Element Number: 0<br>Left Outer Diameter: 0.05 m<br>Left Inner Diameter: 0.0 m<br>Right Outer Diameter: 0.05 m<br>Right Inner Diameter: 0.0 m<br>Element Length: 0.25 m<br>Material: Steel<br>",
         "legendgroup": "Shaft",
         "line": {
          "color": "black",
          "width": 1.5
         },
         "mode": "lines",
         "name": "ShaftElement 0",
         "opacity": 0.5,
         "showlegend": false,
         "text": "Element Number: 0<br>Left Outer Diameter: 0.05 m<br>Left Inner Diameter: 0.0 m<br>Right Outer Diameter: 0.05 m<br>Right Inner Diameter: 0.0 m<br>Element Length: 0.25 m<br>Material: Steel<br>",
         "type": "scatter",
         "x": [
          0.0,
          0.0,
          0.25,
          0.25,
          0.0,
          0.0,
          0.0,
          0.25,
          0.25,
          0.0
         ],
         "y": [
          0.0,
          0.025,
          0.025,
          0.0,
          0.0,
          -0.0,
          -0.025,
          -0.025,
          -0.0,
          -0.0
         ]
        },
        {
         "customdata": [
          [
           1,
           0.05,
           0.0,
           0.05,
           0.0,
           0.25,
           "Steel"
          ],
          [
           1,
           0.05,
           0.0,
           0.05,
           0.0,
           0.25,
           "Steel"
          ],
          [
           1,
           0.05,
           0.0,
           0.05,
           0.0,
           0.25,
           "Steel"
          ],
          [
           1,
           0.05,
           0.0,
           0.05,
           0.0,
           0.25,
           "Steel"
          ],
          [
           1,
           0.05,
           0.0,
           0.05,
           0.0,
           0.25,
           "Steel"
          ],
          [
           1,
           0.05,
           0.0,
           0.05,
           0.0,
           0.25,
           "Steel"
          ],
          [
           1,
           0.05,
           0.0,
           0.05,
           0.0,
           0.25,
           "Steel"
          ],
          [
           1,
           0.05,
           0.0,
           0.05,
           0.0,
           0.25,
           "Steel"
          ],
          [
           1,
           0.05,
           0.0,
           0.05,
           0.0,
           0.25,
           "Steel"
          ],
          [
           1,
           0.05,
           0.0,
           0.05,
           0.0,
           0.25,
           "Steel"
          ]
         ],
         "fill": "toself",
         "fillcolor": "#525252",
         "hoverinfo": "text",
         "hoverlabel": {
          "bgcolor": "#525252"
         },
         "hoveron": "points+fills",
         "hovertemplate": "Element Number: 1<br>Left Outer Diameter: 0.05 m<br>Left Inner Diameter: 0.0 m<br>Right Outer Diameter: 0.05 m<br>Right Inner Diameter: 0.0 m<br>Element Length: 0.25 m<br>Material: Steel<br>",
         "legendgroup": "Shaft",
         "line": {
          "color": "black",
          "width": 1.5
         },
         "mode": "lines",
         "name": "ShaftElement 1",
         "opacity": 0.5,
         "showlegend": false,
         "text": "Element Number: 1<br>Left Outer Diameter: 0.05 m<br>Left Inner Diameter: 0.0 m<br>Right Outer Diameter: 0.05 m<br>Right Inner Diameter: 0.0 m<br>Element Length: 0.25 m<br>Material: Steel<br>",
         "type": "scatter",
         "x": [
          0.25,
          0.25,
          0.5,
          0.5,
          0.25,
          0.25,
          0.25,
          0.5,
          0.5,
          0.25
         ],
         "y": [
          0.0,
          0.025,
          0.025,
          0.0,
          0.0,
          -0.0,
          -0.025,
          -0.025,
          -0.0,
          -0.0
         ]
        },
        {
         "customdata": [
          [
           2,
           0.05,
           0.0,
           0.05,
           0.0,
           0.25,
           "Steel"
          ],
          [
           2,
           0.05,
           0.0,
           0.05,
           0.0,
           0.25,
           "Steel"
          ],
          [
           2,
           0.05,
           0.0,
           0.05,
           0.0,
           0.25,
           "Steel"
          ],
          [
           2,
           0.05,
           0.0,
           0.05,
           0.0,
           0.25,
           "Steel"
          ],
          [
           2,
           0.05,
           0.0,
           0.05,
           0.0,
           0.25,
           "Steel"
          ],
          [
           2,
           0.05,
           0.0,
           0.05,
           0.0,
           0.25,
           "Steel"
          ],
          [
           2,
           0.05,
           0.0,
           0.05,
           0.0,
           0.25,
           "Steel"
          ],
          [
           2,
           0.05,
           0.0,
           0.05,
           0.0,
           0.25,
           "Steel"
          ],
          [
           2,
           0.05,
           0.0,
           0.05,
           0.0,
           0.25,
           "Steel"
          ],
          [
           2,
           0.05,
           0.0,
           0.05,
           0.0,
           0.25,
           "Steel"
          ]
         ],
         "fill": "toself",
         "fillcolor": "#525252",
         "hoverinfo": "text",
         "hoverlabel": {
          "bgcolor": "#525252"
         },
         "hoveron": "points+fills",
         "hovertemplate": "Element Number: 2<br>Left Outer Diameter: 0.05 m<br>Left Inner Diameter: 0.0 m<br>Right Outer Diameter: 0.05 m<br>Right Inner Diameter: 0.0 m<br>Element Length: 0.25 m<br>Material: Steel<br>",
         "legendgroup": "Shaft",
         "line": {
          "color": "black",
          "width": 1.5
         },
         "mode": "lines",
         "name": "ShaftElement 2",
         "opacity": 0.5,
         "showlegend": false,
         "text": "Element Number: 2<br>Left Outer Diameter: 0.05 m<br>Left Inner Diameter: 0.0 m<br>Right Outer Diameter: 0.05 m<br>Right Inner Diameter: 0.0 m<br>Element Length: 0.25 m<br>Material: Steel<br>",
         "type": "scatter",
         "x": [
          0.5,
          0.5,
          0.75,
          0.75,
          0.5,
          0.5,
          0.5,
          0.75,
          0.75,
          0.5
         ],
         "y": [
          0.0,
          0.025,
          0.025,
          0.0,
          0.0,
          -0.0,
          -0.025,
          -0.025,
          -0.0,
          -0.0
         ]
        },
        {
         "customdata": [
          [
           3,
           0.05,
           0.0,
           0.05,
           0.0,
           0.25,
           "Steel"
          ],
          [
           3,
           0.05,
           0.0,
           0.05,
           0.0,
           0.25,
           "Steel"
          ],
          [
           3,
           0.05,
           0.0,
           0.05,
           0.0,
           0.25,
           "Steel"
          ],
          [
           3,
           0.05,
           0.0,
           0.05,
           0.0,
           0.25,
           "Steel"
          ],
          [
           3,
           0.05,
           0.0,
           0.05,
           0.0,
           0.25,
           "Steel"
          ],
          [
           3,
           0.05,
           0.0,
           0.05,
           0.0,
           0.25,
           "Steel"
          ],
          [
           3,
           0.05,
           0.0,
           0.05,
           0.0,
           0.25,
           "Steel"
          ],
          [
           3,
           0.05,
           0.0,
           0.05,
           0.0,
           0.25,
           "Steel"
          ],
          [
           3,
           0.05,
           0.0,
           0.05,
           0.0,
           0.25,
           "Steel"
          ],
          [
           3,
           0.05,
           0.0,
           0.05,
           0.0,
           0.25,
           "Steel"
          ]
         ],
         "fill": "toself",
         "fillcolor": "#525252",
         "hoverinfo": "text",
         "hoverlabel": {
          "bgcolor": "#525252"
         },
         "hoveron": "points+fills",
         "hovertemplate": "Element Number: 3<br>Left Outer Diameter: 0.05 m<br>Left Inner Diameter: 0.0 m<br>Right Outer Diameter: 0.05 m<br>Right Inner Diameter: 0.0 m<br>Element Length: 0.25 m<br>Material: Steel<br>",
         "legendgroup": "Shaft",
         "line": {
          "color": "black",
          "width": 1.5
         },
         "mode": "lines",
         "name": "ShaftElement 3",
         "opacity": 0.5,
         "showlegend": false,
         "text": "Element Number: 3<br>Left Outer Diameter: 0.05 m<br>Left Inner Diameter: 0.0 m<br>Right Outer Diameter: 0.05 m<br>Right Inner Diameter: 0.0 m<br>Element Length: 0.25 m<br>Material: Steel<br>",
         "type": "scatter",
         "x": [
          0.75,
          0.75,
          1.0,
          1.0,
          0.75,
          0.75,
          0.75,
          1.0,
          1.0,
          0.75
         ],
         "y": [
          0.0,
          0.025,
          0.025,
          0.0,
          0.0,
          -0.0,
          -0.025,
          -0.025,
          -0.0,
          -0.0
         ]
        },
        {
         "customdata": [
          [
           4,
           0.05,
           0.0,
           0.05,
           0.0,
           0.25,
           "Steel"
          ],
          [
           4,
           0.05,
           0.0,
           0.05,
           0.0,
           0.25,
           "Steel"
          ],
          [
           4,
           0.05,
           0.0,
           0.05,
           0.0,
           0.25,
           "Steel"
          ],
          [
           4,
           0.05,
           0.0,
           0.05,
           0.0,
           0.25,
           "Steel"
          ],
          [
           4,
           0.05,
           0.0,
           0.05,
           0.0,
           0.25,
           "Steel"
          ],
          [
           4,
           0.05,
           0.0,
           0.05,
           0.0,
           0.25,
           "Steel"
          ],
          [
           4,
           0.05,
           0.0,
           0.05,
           0.0,
           0.25,
           "Steel"
          ],
          [
           4,
           0.05,
           0.0,
           0.05,
           0.0,
           0.25,
           "Steel"
          ],
          [
           4,
           0.05,
           0.0,
           0.05,
           0.0,
           0.25,
           "Steel"
          ],
          [
           4,
           0.05,
           0.0,
           0.05,
           0.0,
           0.25,
           "Steel"
          ]
         ],
         "fill": "toself",
         "fillcolor": "#525252",
         "hoverinfo": "text",
         "hoverlabel": {
          "bgcolor": "#525252"
         },
         "hoveron": "points+fills",
         "hovertemplate": "Element Number: 4<br>Left Outer Diameter: 0.05 m<br>Left Inner Diameter: 0.0 m<br>Right Outer Diameter: 0.05 m<br>Right Inner Diameter: 0.0 m<br>Element Length: 0.25 m<br>Material: Steel<br>",
         "legendgroup": "Shaft",
         "line": {
          "color": "black",
          "width": 1.5
         },
         "mode": "lines",
         "name": "ShaftElement 4",
         "opacity": 0.5,
         "showlegend": false,
         "text": "Element Number: 4<br>Left Outer Diameter: 0.05 m<br>Left Inner Diameter: 0.0 m<br>Right Outer Diameter: 0.05 m<br>Right Inner Diameter: 0.0 m<br>Element Length: 0.25 m<br>Material: Steel<br>",
         "type": "scatter",
         "x": [
          1.0,
          1.0,
          1.25,
          1.25,
          1.0,
          1.0,
          1.0,
          1.25,
          1.25,
          1.0
         ],
         "y": [
          0.0,
          0.025,
          0.025,
          0.0,
          0.0,
          -0.0,
          -0.025,
          -0.025,
          -0.0,
          -0.0
         ]
        },
        {
         "customdata": [
          [
           5,
           0.05,
           0.0,
           0.05,
           0.0,
           0.25,
           "Steel"
          ],
          [
           5,
           0.05,
           0.0,
           0.05,
           0.0,
           0.25,
           "Steel"
          ],
          [
           5,
           0.05,
           0.0,
           0.05,
           0.0,
           0.25,
           "Steel"
          ],
          [
           5,
           0.05,
           0.0,
           0.05,
           0.0,
           0.25,
           "Steel"
          ],
          [
           5,
           0.05,
           0.0,
           0.05,
           0.0,
           0.25,
           "Steel"
          ],
          [
           5,
           0.05,
           0.0,
           0.05,
           0.0,
           0.25,
           "Steel"
          ],
          [
           5,
           0.05,
           0.0,
           0.05,
           0.0,
           0.25,
           "Steel"
          ],
          [
           5,
           0.05,
           0.0,
           0.05,
           0.0,
           0.25,
           "Steel"
          ],
          [
           5,
           0.05,
           0.0,
           0.05,
           0.0,
           0.25,
           "Steel"
          ],
          [
           5,
           0.05,
           0.0,
           0.05,
           0.0,
           0.25,
           "Steel"
          ]
         ],
         "fill": "toself",
         "fillcolor": "#525252",
         "hoverinfo": "text",
         "hoverlabel": {
          "bgcolor": "#525252"
         },
         "hoveron": "points+fills",
         "hovertemplate": "Element Number: 5<br>Left Outer Diameter: 0.05 m<br>Left Inner Diameter: 0.0 m<br>Right Outer Diameter: 0.05 m<br>Right Inner Diameter: 0.0 m<br>Element Length: 0.25 m<br>Material: Steel<br>",
         "legendgroup": "Shaft",
         "line": {
          "color": "black",
          "width": 1.5
         },
         "mode": "lines",
         "name": "ShaftElement 5",
         "opacity": 0.5,
         "showlegend": false,
         "text": "Element Number: 5<br>Left Outer Diameter: 0.05 m<br>Left Inner Diameter: 0.0 m<br>Right Outer Diameter: 0.05 m<br>Right Inner Diameter: 0.0 m<br>Element Length: 0.25 m<br>Material: Steel<br>",
         "type": "scatter",
         "x": [
          1.25,
          1.25,
          1.5,
          1.5,
          1.25,
          1.25,
          1.25,
          1.5,
          1.5,
          1.25
         ],
         "y": [
          0.0,
          0.025,
          0.025,
          0.0,
          0.0,
          -0.0,
          -0.025,
          -0.025,
          -0.0,
          -0.0
         ]
        },
        {
         "customdata": [
          [
           2,
           0.32956362089137037,
           0.17808928257067666,
           32.58972765304033
          ],
          [
           2,
           0.32956362089137037,
           0.17808928257067666,
           32.58972765304033
          ],
          [
           2,
           0.32956362089137037,
           0.17808928257067666,
           32.58972765304033
          ],
          [
           2,
           0.32956362089137037,
           0.17808928257067666,
           32.58972765304033
          ],
          [
           2,
           0.32956362089137037,
           0.17808928257067666,
           32.58972765304033
          ],
          [
           2,
           0.32956362089137037,
           0.17808928257067666,
           32.58972765304033
          ],
          [
           2,
           0.32956362089137037,
           0.17808928257067666,
           32.58972765304033
          ],
          [
           2,
           0.32956362089137037,
           0.17808928257067666,
           32.58972765304033
          ],
          [
           2,
           0.32956362089137037,
           0.17808928257067666,
           32.58972765304033
          ]
         ],
         "fill": "toself",
         "fillcolor": "Firebrick",
         "hoverinfo": "text",
         "hoverlabel": {
          "bgcolor": "Firebrick"
         },
         "hoveron": "points+fills",
         "hovertemplate": "Disk Node: 2<br>Polar Inertia: 3.296e-01<br>Diametral Inertia: 1.781e-01<br>Disk mass: 32.590<br>",
         "legendgroup": "disks",
         "line": {
          "color": "Firebrick",
          "width": 2.0
         },
         "mode": "lines",
         "name": "Disk 0",
         "opacity": 0.8,
         "showlegend": false,
         "text": "Disk Node: 2<br>Polar Inertia: 3.296e-01<br>Diametral Inertia: 1.781e-01<br>Disk mass: 32.590<br>",
         "type": "scatter",
         "x": [
          0.5,
          0.502,
          0.498,
          0.5,
          null,
          0.5,
          0.502,
          0.498,
          0.5
         ],
         "y": [
          0.025,
          0.125,
          0.125,
          0.025,
          null,
          -0.025,
          -0.125,
          -0.125,
          -0.025
         ]
        },
        {
         "customdata": [
          [
           4,
           0.8050822048675969,
           0.4235805840543383,
           51.5252611115262
          ],
          [
           4,
           0.8050822048675969,
           0.4235805840543383,
           51.5252611115262
          ],
          [
           4,
           0.8050822048675969,
           0.4235805840543383,
           51.5252611115262
          ],
          [
           4,
           0.8050822048675969,
           0.4235805840543383,
           51.5252611115262
          ],
          [
           4,
           0.8050822048675969,
           0.4235805840543383,
           51.5252611115262
          ],
          [
           4,
           0.8050822048675969,
           0.4235805840543383,
           51.5252611115262
          ],
          [
           4,
           0.8050822048675969,
           0.4235805840543383,
           51.5252611115262
          ],
          [
           4,
           0.8050822048675969,
           0.4235805840543383,
           51.5252611115262
          ],
          [
           4,
           0.8050822048675969,
           0.4235805840543383,
           51.5252611115262
          ]
         ],
         "fill": "toself",
         "fillcolor": "Firebrick",
         "hoverinfo": "text",
         "hoverlabel": {
          "bgcolor": "Firebrick"
         },
         "hoveron": "points+fills",
         "hovertemplate": "Disk Node: 4<br>Polar Inertia: 8.051e-01<br>Diametral Inertia: 4.236e-01<br>Disk mass: 51.525<br>",
         "legendgroup": "disks",
         "line": {
          "color": "Firebrick",
          "width": 2.0
         },
         "mode": "lines",
         "name": "Disk 1",
         "opacity": 0.8,
         "showlegend": false,
         "text": "Disk Node: 4<br>Polar Inertia: 8.051e-01<br>Diametral Inertia: 4.236e-01<br>Disk mass: 51.525<br>",
         "type": "scatter",
         "x": [
          1.0,
          1.002,
          0.998,
          1.0,
          null,
          1.0,
          1.002,
          0.998,
          1.0
         ],
         "y": [
          0.025,
          0.125,
          0.125,
          0.025,
          null,
          -0.025,
          -0.125,
          -0.125,
          -0.025
         ]
        },
        {
         "hoverinfo": "none",
         "legendgroup": "bearings",
         "line": {
          "color": "#355d7a",
          "width": 1
         },
         "mode": "lines",
         "name": "Bearing 0",
         "showlegend": false,
         "type": "scatter",
         "x": [
          0.0,
          0.0,
          -0.007142857142857143,
          0.007142857142857143
         ],
         "y": [
          0.025,
          0.0375,
          0.0375,
          0.0375
         ]
        },
        {
         "hoverinfo": "none",
         "legendgroup": "bearings",
         "line": {
          "color": "#355d7a",
          "width": 1
         },
         "mode": "lines",
         "name": "Bearing 0",
         "showlegend": false,
         "type": "scatter",
         "x": [
          0.0,
          0.0,
          -0.007142857142857143,
          0.007142857142857143
         ],
         "y": [
          -0.025,
          -0.0375,
          -0.0375,
          -0.0375
         ]
        },
        {
         "hoverinfo": "none",
         "legendgroup": "bearings",
         "line": {
          "color": "#355d7a",
          "width": 1
         },
         "mode": "lines",
         "name": "Bearing 0",
         "showlegend": false,
         "type": "scatter",
         "x": [
          0.0,
          0.0,
          -0.007142857142857143,
          0.007142857142857143
         ],
         "y": [
          0.075,
          0.0625,
          0.0625,
          0.0625
         ]
        },
        {
         "hoverinfo": "none",
         "legendgroup": "bearings",
         "line": {
          "color": "#355d7a",
          "width": 1
         },
         "mode": "lines",
         "name": "Bearing 0",
         "showlegend": false,
         "type": "scatter",
         "x": [
          0.0,
          0.0,
          -0.007142857142857143,
          0.007142857142857143
         ],
         "y": [
          -0.075,
          -0.0625,
          -0.0625,
          -0.0625
         ]
        },
        {
         "hoverinfo": "none",
         "legendgroup": "bearings",
         "line": {
          "color": "#355d7a",
          "width": 1
         },
         "mode": "lines",
         "name": "Bearing 0",
         "showlegend": false,
         "type": "scatter",
         "x": [
          -0.010714285714285714,
          0.010714285714285714
         ],
         "y": [
          0.075,
          0.075
         ]
        },
        {
         "hoverinfo": "none",
         "legendgroup": "bearings",
         "line": {
          "color": "#355d7a",
          "width": 1
         },
         "mode": "lines",
         "name": "Bearing 0",
         "showlegend": false,
         "type": "scatter",
         "x": [
          -0.010714285714285714,
          0.010714285714285714
         ],
         "y": [
          -0.075,
          -0.075
         ]
        },
        {
         "hoverinfo": "none",
         "legendgroup": "bearings",
         "line": {
          "color": "#355d7a",
          "width": 1
         },
         "mode": "lines",
         "name": "Bearing 0",
         "showlegend": false,
         "type": "scatter",
         "x": [
          -0.010714285714285714,
          -0.0064285714285714285
         ],
         "y": [
          0.075,
          0.0825
         ]
        },
        {
         "hoverinfo": "none",
         "legendgroup": "bearings",
         "line": {
          "color": "#355d7a",
          "width": 1
         },
         "mode": "lines",
         "name": "Bearing 0",
         "showlegend": false,
         "type": "scatter",
         "x": [
          -0.010714285714285714,
          -0.0064285714285714285
         ],
         "y": [
          -0.075,
          -0.0825
         ]
        },
        {
         "hoverinfo": "none",
         "legendgroup": "bearings",
         "line": {
          "color": "#355d7a",
          "width": 1
         },
         "mode": "lines",
         "name": "Bearing 0",
         "showlegend": false,
         "type": "scatter",
         "x": [
          -0.0064285714285714285,
          -0.0021428571428571425
         ],
         "y": [
          0.075,
          0.0825
         ]
        },
        {
         "hoverinfo": "none",
         "legendgroup": "bearings",
         "line": {
          "color": "#355d7a",
          "width": 1
         },
         "mode": "lines",
         "name": "Bearing 0",
         "showlegend": false,
         "type": "scatter",
         "x": [
          -0.0064285714285714285,
          -0.0021428571428571425
         ],
         "y": [
          -0.075,
          -0.0825
         ]
        },
        {
         "hoverinfo": "none",
         "legendgroup": "bearings",
         "line": {
          "color": "#355d7a",
          "width": 1
         },
         "mode": "lines",
         "name": "Bearing 0",
         "showlegend": false,
         "type": "scatter",
         "x": [
          -0.0021428571428571425,
          0.0021428571428571443
         ],
         "y": [
          0.075,
          0.0825
         ]
        },
        {
         "hoverinfo": "none",
         "legendgroup": "bearings",
         "line": {
          "color": "#355d7a",
          "width": 1
         },
         "mode": "lines",
         "name": "Bearing 0",
         "showlegend": false,
         "type": "scatter",
         "x": [
          -0.0021428571428571425,
          0.0021428571428571443
         ],
         "y": [
          -0.075,
          -0.0825
         ]
        },
        {
         "hoverinfo": "none",
         "legendgroup": "bearings",
         "line": {
          "color": "#355d7a",
          "width": 1
         },
         "mode": "lines",
         "name": "Bearing 0",
         "showlegend": false,
         "type": "scatter",
         "x": [
          0.0021428571428571443,
          0.006428571428571429
         ],
         "y": [
          0.075,
          0.0825
         ]
        },
        {
         "hoverinfo": "none",
         "legendgroup": "bearings",
         "line": {
          "color": "#355d7a",
          "width": 1
         },
         "mode": "lines",
         "name": "Bearing 0",
         "showlegend": false,
         "type": "scatter",
         "x": [
          0.0021428571428571443,
          0.006428571428571429
         ],
         "y": [
          -0.075,
          -0.0825
         ]
        },
        {
         "hoverinfo": "none",
         "legendgroup": "bearings",
         "line": {
          "color": "#355d7a",
          "width": 1
         },
         "mode": "lines",
         "name": "Bearing 0",
         "showlegend": false,
         "type": "scatter",
         "x": [
          0.006428571428571429,
          0.010714285714285714
         ],
         "y": [
          0.075,
          0.0825
         ]
        },
        {
         "hoverinfo": "none",
         "legendgroup": "bearings",
         "line": {
          "color": "#355d7a",
          "width": 1
         },
         "mode": "lines",
         "name": "Bearing 0",
         "showlegend": false,
         "type": "scatter",
         "x": [
          0.006428571428571429,
          0.010714285714285714
         ],
         "y": [
          -0.075,
          -0.0825
         ]
        },
        {
         "hoverinfo": "none",
         "legendgroup": "bearings",
         "line": {
          "color": "#355d7a",
          "width": 1
         },
         "mode": "lines",
         "name": "Bearing 0",
         "showlegend": false,
         "type": "scatter",
         "x": [
          0.010714285714285714,
          0.015000000000000003
         ],
         "y": [
          0.075,
          0.0825
         ]
        },
        {
         "hoverinfo": "none",
         "legendgroup": "bearings",
         "line": {
          "color": "#355d7a",
          "width": 1
         },
         "mode": "lines",
         "name": "Bearing 0",
         "showlegend": false,
         "type": "scatter",
         "x": [
          0.010714285714285714,
          0.015000000000000003
         ],
         "y": [
          -0.075,
          -0.0825
         ]
        },
        {
         "hoverinfo": "none",
         "legendgroup": "bearings",
         "line": {
          "color": "#355d7a",
          "width": 1
         },
         "mode": "lines",
         "name": "Bearing 0",
         "showlegend": false,
         "type": "scatter",
         "x": [
          -0.007142857142857143,
          -0.007142857142857143,
          -0.010714285714285714,
          -0.0035714285714285713,
          -0.010714285714285714,
          -0.0035714285714285713,
          -0.010714285714285714,
          -0.0035714285714285713,
          -0.007142857142857143,
          -0.007142857142857143
         ],
         "y": [
          0.0375,
          0.04107142857142857,
          0.04107142857142857,
          0.044642857142857144,
          0.04821428571428571,
          0.05178571428571428,
          0.055357142857142855,
          0.05892857142857143,
          0.05892857142857143,
          0.0625
         ]
        },
        {
         "hoverinfo": "none",
         "legendgroup": "bearings",
         "line": {
          "color": "#355d7a",
          "width": 1
         },
         "mode": "lines",
         "name": "Bearing 0",
         "showlegend": false,
         "type": "scatter",
         "x": [
          -0.007142857142857143,
          -0.007142857142857143,
          -0.010714285714285714,
          -0.0035714285714285713,
          -0.010714285714285714,
          -0.0035714285714285713,
          -0.010714285714285714,
          -0.0035714285714285713,
          -0.007142857142857143,
          -0.007142857142857143
         ],
         "y": [
          -0.0375,
          -0.04107142857142857,
          -0.04107142857142857,
          -0.044642857142857144,
          -0.04821428571428571,
          -0.05178571428571428,
          -0.055357142857142855,
          -0.05892857142857143,
          -0.05892857142857143,
          -0.0625
         ]
        },
        {
         "hoverinfo": "none",
         "legendgroup": "bearings",
         "line": {
          "color": "#355d7a",
          "width": 1
         },
         "mode": "lines",
         "name": "Bearing 0",
         "showlegend": false,
         "type": "scatter",
         "x": [
          0.007142857142857143,
          0.007142857142857143
         ],
         "y": [
          0.0375,
          0.044642857142857144
         ]
        },
        {
         "hoverinfo": "none",
         "legendgroup": "bearings",
         "line": {
          "color": "#355d7a",
          "width": 1
         },
         "mode": "lines",
         "name": "Bearing 0",
         "showlegend": false,
         "type": "scatter",
         "x": [
          0.007142857142857143,
          0.007142857142857143
         ],
         "y": [
          -0.0375,
          -0.044642857142857144
         ]
        },
        {
         "hoverinfo": "none",
         "legendgroup": "bearings",
         "line": {
          "color": "#355d7a",
          "width": 1
         },
         "mode": "lines",
         "name": "Bearing 0",
         "showlegend": false,
         "type": "scatter",
         "x": [
          0.0,
          0.0,
          0.014285714285714285,
          0.014285714285714285
         ],
         "y": [
          0.055357142857142855,
          0.044642857142857144,
          0.044642857142857144,
          0.055357142857142855
         ]
        },
        {
         "hoverinfo": "none",
         "legendgroup": "bearings",
         "line": {
          "color": "#355d7a",
          "width": 1
         },
         "mode": "lines",
         "name": "Bearing 0",
         "showlegend": false,
         "type": "scatter",
         "x": [
          0.0,
          0.0,
          0.014285714285714285,
          0.014285714285714285
         ],
         "y": [
          -0.055357142857142855,
          -0.044642857142857144,
          -0.044642857142857144,
          -0.055357142857142855
         ]
        },
        {
         "hoverinfo": "none",
         "legendgroup": "bearings",
         "line": {
          "color": "#355d7a",
          "width": 1
         },
         "mode": "lines",
         "name": "Bearing 0",
         "showlegend": false,
         "type": "scatter",
         "x": [
          0.0,
          0.014285714285714285,
          0.007142857142857143,
          0.007142857142857143
         ],
         "y": [
          0.05178571428571428,
          0.05178571428571428,
          0.05178571428571428,
          0.0625
         ]
        },
        {
         "hoverinfo": "none",
         "legendgroup": "bearings",
         "line": {
          "color": "#355d7a",
          "width": 1
         },
         "mode": "lines",
         "name": "Bearing 0",
         "showlegend": false,
         "type": "scatter",
         "x": [
          0.0,
          0.014285714285714285,
          0.007142857142857143,
          0.007142857142857143
         ],
         "y": [
          -0.05178571428571428,
          -0.05178571428571428,
          -0.05178571428571428,
          -0.0625
         ]
        },
        {
         "hoverinfo": "none",
         "legendgroup": "bearings",
         "line": {
          "color": "#355d7a",
          "width": 1
         },
         "mode": "lines",
         "name": "Bearing 1",
         "showlegend": false,
         "type": "scatter",
         "x": [
          1.5,
          1.5,
          1.4928571428571429,
          1.5071428571428571
         ],
         "y": [
          0.025,
          0.0375,
          0.0375,
          0.0375
         ]
        },
        {
         "hoverinfo": "none",
         "legendgroup": "bearings",
         "line": {
          "color": "#355d7a",
          "width": 1
         },
         "mode": "lines",
         "name": "Bearing 1",
         "showlegend": false,
         "type": "scatter",
         "x": [
          1.5,
          1.5,
          1.4928571428571429,
          1.5071428571428571
         ],
         "y": [
          -0.025,
          -0.0375,
          -0.0375,
          -0.0375
         ]
        },
        {
         "hoverinfo": "none",
         "legendgroup": "bearings",
         "line": {
          "color": "#355d7a",
          "width": 1
         },
         "mode": "lines",
         "name": "Bearing 1",
         "showlegend": false,
         "type": "scatter",
         "x": [
          1.5,
          1.5,
          1.4928571428571429,
          1.5071428571428571
         ],
         "y": [
          0.075,
          0.0625,
          0.0625,
          0.0625
         ]
        },
        {
         "hoverinfo": "none",
         "legendgroup": "bearings",
         "line": {
          "color": "#355d7a",
          "width": 1
         },
         "mode": "lines",
         "name": "Bearing 1",
         "showlegend": false,
         "type": "scatter",
         "x": [
          1.5,
          1.5,
          1.4928571428571429,
          1.5071428571428571
         ],
         "y": [
          -0.075,
          -0.0625,
          -0.0625,
          -0.0625
         ]
        },
        {
         "hoverinfo": "none",
         "legendgroup": "bearings",
         "line": {
          "color": "#355d7a",
          "width": 1
         },
         "mode": "lines",
         "name": "Bearing 1",
         "showlegend": false,
         "type": "scatter",
         "x": [
          1.4892857142857143,
          1.5107142857142857
         ],
         "y": [
          0.075,
          0.075
         ]
        },
        {
         "hoverinfo": "none",
         "legendgroup": "bearings",
         "line": {
          "color": "#355d7a",
          "width": 1
         },
         "mode": "lines",
         "name": "Bearing 1",
         "showlegend": false,
         "type": "scatter",
         "x": [
          1.4892857142857143,
          1.5107142857142857
         ],
         "y": [
          -0.075,
          -0.075
         ]
        },
        {
         "hoverinfo": "none",
         "legendgroup": "bearings",
         "line": {
          "color": "#355d7a",
          "width": 1
         },
         "mode": "lines",
         "name": "Bearing 1",
         "showlegend": false,
         "type": "scatter",
         "x": [
          1.4892857142857143,
          1.4935714285714285
         ],
         "y": [
          0.075,
          0.0825
         ]
        },
        {
         "hoverinfo": "none",
         "legendgroup": "bearings",
         "line": {
          "color": "#355d7a",
          "width": 1
         },
         "mode": "lines",
         "name": "Bearing 1",
         "showlegend": false,
         "type": "scatter",
         "x": [
          1.4892857142857143,
          1.4935714285714285
         ],
         "y": [
          -0.075,
          -0.0825
         ]
        },
        {
         "hoverinfo": "none",
         "legendgroup": "bearings",
         "line": {
          "color": "#355d7a",
          "width": 1
         },
         "mode": "lines",
         "name": "Bearing 1",
         "showlegend": false,
         "type": "scatter",
         "x": [
          1.4935714285714285,
          1.4978571428571428
         ],
         "y": [
          0.075,
          0.0825
         ]
        },
        {
         "hoverinfo": "none",
         "legendgroup": "bearings",
         "line": {
          "color": "#355d7a",
          "width": 1
         },
         "mode": "lines",
         "name": "Bearing 1",
         "showlegend": false,
         "type": "scatter",
         "x": [
          1.4935714285714285,
          1.4978571428571428
         ],
         "y": [
          -0.075,
          -0.0825
         ]
        },
        {
         "hoverinfo": "none",
         "legendgroup": "bearings",
         "line": {
          "color": "#355d7a",
          "width": 1
         },
         "mode": "lines",
         "name": "Bearing 1",
         "showlegend": false,
         "type": "scatter",
         "x": [
          1.4978571428571428,
          1.5021428571428572
         ],
         "y": [
          0.075,
          0.0825
         ]
        },
        {
         "hoverinfo": "none",
         "legendgroup": "bearings",
         "line": {
          "color": "#355d7a",
          "width": 1
         },
         "mode": "lines",
         "name": "Bearing 1",
         "showlegend": false,
         "type": "scatter",
         "x": [
          1.4978571428571428,
          1.5021428571428572
         ],
         "y": [
          -0.075,
          -0.0825
         ]
        },
        {
         "hoverinfo": "none",
         "legendgroup": "bearings",
         "line": {
          "color": "#355d7a",
          "width": 1
         },
         "mode": "lines",
         "name": "Bearing 1",
         "showlegend": false,
         "type": "scatter",
         "x": [
          1.5021428571428572,
          1.5064285714285715
         ],
         "y": [
          0.075,
          0.0825
         ]
        },
        {
         "hoverinfo": "none",
         "legendgroup": "bearings",
         "line": {
          "color": "#355d7a",
          "width": 1
         },
         "mode": "lines",
         "name": "Bearing 1",
         "showlegend": false,
         "type": "scatter",
         "x": [
          1.5021428571428572,
          1.5064285714285715
         ],
         "y": [
          -0.075,
          -0.0825
         ]
        },
        {
         "hoverinfo": "none",
         "legendgroup": "bearings",
         "line": {
          "color": "#355d7a",
          "width": 1
         },
         "mode": "lines",
         "name": "Bearing 1",
         "showlegend": false,
         "type": "scatter",
         "x": [
          1.5064285714285715,
          1.5107142857142857
         ],
         "y": [
          0.075,
          0.0825
         ]
        },
        {
         "hoverinfo": "none",
         "legendgroup": "bearings",
         "line": {
          "color": "#355d7a",
          "width": 1
         },
         "mode": "lines",
         "name": "Bearing 1",
         "showlegend": false,
         "type": "scatter",
         "x": [
          1.5064285714285715,
          1.5107142857142857
         ],
         "y": [
          -0.075,
          -0.0825
         ]
        },
        {
         "hoverinfo": "none",
         "legendgroup": "bearings",
         "line": {
          "color": "#355d7a",
          "width": 1
         },
         "mode": "lines",
         "name": "Bearing 1",
         "showlegend": false,
         "type": "scatter",
         "x": [
          1.5107142857142857,
          1.515
         ],
         "y": [
          0.075,
          0.0825
         ]
        },
        {
         "hoverinfo": "none",
         "legendgroup": "bearings",
         "line": {
          "color": "#355d7a",
          "width": 1
         },
         "mode": "lines",
         "name": "Bearing 1",
         "showlegend": false,
         "type": "scatter",
         "x": [
          1.5107142857142857,
          1.515
         ],
         "y": [
          -0.075,
          -0.0825
         ]
        },
        {
         "hoverinfo": "none",
         "legendgroup": "bearings",
         "line": {
          "color": "#355d7a",
          "width": 1
         },
         "mode": "lines",
         "name": "Bearing 1",
         "showlegend": false,
         "type": "scatter",
         "x": [
          1.4928571428571429,
          1.4928571428571429,
          1.4892857142857143,
          1.4964285714285714,
          1.4892857142857143,
          1.4964285714285714,
          1.4892857142857143,
          1.4964285714285714,
          1.4928571428571429,
          1.4928571428571429
         ],
         "y": [
          0.0375,
          0.04107142857142857,
          0.04107142857142857,
          0.044642857142857144,
          0.04821428571428571,
          0.05178571428571428,
          0.055357142857142855,
          0.05892857142857143,
          0.05892857142857143,
          0.0625
         ]
        },
        {
         "hoverinfo": "none",
         "legendgroup": "bearings",
         "line": {
          "color": "#355d7a",
          "width": 1
         },
         "mode": "lines",
         "name": "Bearing 1",
         "showlegend": false,
         "type": "scatter",
         "x": [
          1.4928571428571429,
          1.4928571428571429,
          1.4892857142857143,
          1.4964285714285714,
          1.4892857142857143,
          1.4964285714285714,
          1.4892857142857143,
          1.4964285714285714,
          1.4928571428571429,
          1.4928571428571429
         ],
         "y": [
          -0.0375,
          -0.04107142857142857,
          -0.04107142857142857,
          -0.044642857142857144,
          -0.04821428571428571,
          -0.05178571428571428,
          -0.055357142857142855,
          -0.05892857142857143,
          -0.05892857142857143,
          -0.0625
         ]
        },
        {
         "hoverinfo": "none",
         "legendgroup": "bearings",
         "line": {
          "color": "#355d7a",
          "width": 1
         },
         "mode": "lines",
         "name": "Bearing 1",
         "showlegend": false,
         "type": "scatter",
         "x": [
          1.5071428571428571,
          1.5071428571428571
         ],
         "y": [
          0.0375,
          0.044642857142857144
         ]
        },
        {
         "hoverinfo": "none",
         "legendgroup": "bearings",
         "line": {
          "color": "#355d7a",
          "width": 1
         },
         "mode": "lines",
         "name": "Bearing 1",
         "showlegend": false,
         "type": "scatter",
         "x": [
          1.5071428571428571,
          1.5071428571428571
         ],
         "y": [
          -0.0375,
          -0.044642857142857144
         ]
        },
        {
         "hoverinfo": "none",
         "legendgroup": "bearings",
         "line": {
          "color": "#355d7a",
          "width": 1
         },
         "mode": "lines",
         "name": "Bearing 1",
         "showlegend": false,
         "type": "scatter",
         "x": [
          1.5,
          1.5,
          1.5142857142857142,
          1.5142857142857142
         ],
         "y": [
          0.055357142857142855,
          0.044642857142857144,
          0.044642857142857144,
          0.055357142857142855
         ]
        },
        {
         "hoverinfo": "none",
         "legendgroup": "bearings",
         "line": {
          "color": "#355d7a",
          "width": 1
         },
         "mode": "lines",
         "name": "Bearing 1",
         "showlegend": false,
         "type": "scatter",
         "x": [
          1.5,
          1.5,
          1.5142857142857142,
          1.5142857142857142
         ],
         "y": [
          -0.055357142857142855,
          -0.044642857142857144,
          -0.044642857142857144,
          -0.055357142857142855
         ]
        },
        {
         "hoverinfo": "none",
         "legendgroup": "bearings",
         "line": {
          "color": "#355d7a",
          "width": 1
         },
         "mode": "lines",
         "name": "Bearing 1",
         "showlegend": false,
         "type": "scatter",
         "x": [
          1.5,
          1.5142857142857142,
          1.5071428571428571,
          1.5071428571428571
         ],
         "y": [
          0.05178571428571428,
          0.05178571428571428,
          0.05178571428571428,
          0.0625
         ]
        },
        {
         "hoverinfo": "none",
         "legendgroup": "bearings",
         "line": {
          "color": "#355d7a",
          "width": 1
         },
         "mode": "lines",
         "name": "Bearing 1",
         "showlegend": false,
         "type": "scatter",
         "x": [
          1.5,
          1.5142857142857142,
          1.5071428571428571,
          1.5071428571428571
         ],
         "y": [
          -0.05178571428571428,
          -0.05178571428571428,
          -0.05178571428571428,
          -0.0625
         ]
        }
       ],
       "layout": {
        "shapes": [
         {
          "fillcolor": "Firebrick",
          "line": {
           "color": "Firebrick"
          },
          "type": "circle",
          "x0": 0.49375,
          "x1": 0.50625,
          "xref": "x",
          "y0": 0.11875,
          "y1": 0.13125,
          "yref": "y"
         },
         {
          "fillcolor": "Firebrick",
          "line": {
           "color": "Firebrick"
          },
          "type": "circle",
          "x0": 0.49375,
          "x1": 0.50625,
          "xref": "x",
          "y0": -0.13125,
          "y1": -0.11875,
          "yref": "y"
         },
         {
          "fillcolor": "Firebrick",
          "line": {
           "color": "Firebrick"
          },
          "type": "circle",
          "x0": 0.99375,
          "x1": 1.00625,
          "xref": "x",
          "y0": 0.11875,
          "y1": 0.13125,
          "yref": "y"
         },
         {
          "fillcolor": "Firebrick",
          "line": {
           "color": "Firebrick"
          },
          "type": "circle",
          "x0": 0.99375,
          "x1": 1.00625,
          "xref": "x",
          "y0": -0.13125,
          "y1": -0.11875,
          "yref": "y"
         }
        ],
        "template": {
         "data": {
          "bar": [
           {
            "error_x": {
             "color": "#2a3f5f"
            },
            "error_y": {
             "color": "#2a3f5f"
            },
            "marker": {
             "line": {
              "color": "white",
              "width": 0.5
             }
            },
            "type": "bar"
           }
          ],
          "barpolar": [
           {
            "marker": {
             "line": {
              "color": "white",
              "width": 0.5
             }
            },
            "type": "barpolar"
           }
          ],
          "carpet": [
           {
            "aaxis": {
             "endlinecolor": "#2a3f5f",
             "gridcolor": "#C8D4E3",
             "linecolor": "#C8D4E3",
             "minorgridcolor": "#C8D4E3",
             "startlinecolor": "#2a3f5f"
            },
            "baxis": {
             "endlinecolor": "#2a3f5f",
             "gridcolor": "#C8D4E3",
             "linecolor": "#C8D4E3",
             "minorgridcolor": "#C8D4E3",
             "startlinecolor": "#2a3f5f"
            },
            "type": "carpet"
           }
          ],
          "choropleth": [
           {
            "colorbar": {
             "outlinewidth": 0,
             "ticks": ""
            },
            "type": "choropleth"
           }
          ],
          "contour": [
           {
            "colorbar": {
             "outlinewidth": 0,
             "ticks": ""
            },
            "colorscale": [
             [
              0.0,
              "#0d0887"
             ],
             [
              0.1111111111111111,
              "#46039f"
             ],
             [
              0.2222222222222222,
              "#7201a8"
             ],
             [
              0.3333333333333333,
              "#9c179e"
             ],
             [
              0.4444444444444444,
              "#bd3786"
             ],
             [
              0.5555555555555556,
              "#d8576b"
             ],
             [
              0.6666666666666666,
              "#ed7953"
             ],
             [
              0.7777777777777778,
              "#fb9f3a"
             ],
             [
              0.8888888888888888,
              "#fdca26"
             ],
             [
              1.0,
              "#f0f921"
             ]
            ],
            "type": "contour"
           }
          ],
          "contourcarpet": [
           {
            "colorbar": {
             "outlinewidth": 0,
             "ticks": ""
            },
            "type": "contourcarpet"
           }
          ],
          "heatmap": [
           {
            "colorbar": {
             "outlinewidth": 0,
             "ticks": ""
            },
            "colorscale": [
             [
              0.0,
              "#0d0887"
             ],
             [
              0.1111111111111111,
              "#46039f"
             ],
             [
              0.2222222222222222,
              "#7201a8"
             ],
             [
              0.3333333333333333,
              "#9c179e"
             ],
             [
              0.4444444444444444,
              "#bd3786"
             ],
             [
              0.5555555555555556,
              "#d8576b"
             ],
             [
              0.6666666666666666,
              "#ed7953"
             ],
             [
              0.7777777777777778,
              "#fb9f3a"
             ],
             [
              0.8888888888888888,
              "#fdca26"
             ],
             [
              1.0,
              "#f0f921"
             ]
            ],
            "type": "heatmap"
           }
          ],
          "heatmapgl": [
           {
            "colorbar": {
             "outlinewidth": 0,
             "ticks": ""
            },
            "colorscale": [
             [
              0.0,
              "#0d0887"
             ],
             [
              0.1111111111111111,
              "#46039f"
             ],
             [
              0.2222222222222222,
              "#7201a8"
             ],
             [
              0.3333333333333333,
              "#9c179e"
             ],
             [
              0.4444444444444444,
              "#bd3786"
             ],
             [
              0.5555555555555556,
              "#d8576b"
             ],
             [
              0.6666666666666666,
              "#ed7953"
             ],
             [
              0.7777777777777778,
              "#fb9f3a"
             ],
             [
              0.8888888888888888,
              "#fdca26"
             ],
             [
              1.0,
              "#f0f921"
             ]
            ],
            "type": "heatmapgl"
           }
          ],
          "histogram": [
           {
            "marker": {
             "colorbar": {
              "outlinewidth": 0,
              "ticks": ""
             }
            },
            "type": "histogram"
           }
          ],
          "histogram2d": [
           {
            "colorbar": {
             "outlinewidth": 0,
             "ticks": ""
            },
            "colorscale": [
             [
              0.0,
              "#0d0887"
             ],
             [
              0.1111111111111111,
              "#46039f"
             ],
             [
              0.2222222222222222,
              "#7201a8"
             ],
             [
              0.3333333333333333,
              "#9c179e"
             ],
             [
              0.4444444444444444,
              "#bd3786"
             ],
             [
              0.5555555555555556,
              "#d8576b"
             ],
             [
              0.6666666666666666,
              "#ed7953"
             ],
             [
              0.7777777777777778,
              "#fb9f3a"
             ],
             [
              0.8888888888888888,
              "#fdca26"
             ],
             [
              1.0,
              "#f0f921"
             ]
            ],
            "type": "histogram2d"
           }
          ],
          "histogram2dcontour": [
           {
            "colorbar": {
             "outlinewidth": 0,
             "ticks": ""
            },
            "colorscale": [
             [
              0.0,
              "#0d0887"
             ],
             [
              0.1111111111111111,
              "#46039f"
             ],
             [
              0.2222222222222222,
              "#7201a8"
             ],
             [
              0.3333333333333333,
              "#9c179e"
             ],
             [
              0.4444444444444444,
              "#bd3786"
             ],
             [
              0.5555555555555556,
              "#d8576b"
             ],
             [
              0.6666666666666666,
              "#ed7953"
             ],
             [
              0.7777777777777778,
              "#fb9f3a"
             ],
             [
              0.8888888888888888,
              "#fdca26"
             ],
             [
              1.0,
              "#f0f921"
             ]
            ],
            "type": "histogram2dcontour"
           }
          ],
          "mesh3d": [
           {
            "colorbar": {
             "outlinewidth": 0,
             "ticks": ""
            },
            "type": "mesh3d"
           }
          ],
          "parcoords": [
           {
            "line": {
             "colorbar": {
              "outlinewidth": 0,
              "ticks": ""
             }
            },
            "type": "parcoords"
           }
          ],
          "pie": [
           {
            "automargin": true,
            "type": "pie"
           }
          ],
          "scatter": [
           {
            "marker": {
             "colorbar": {
              "outlinewidth": 0,
              "ticks": ""
             }
            },
            "type": "scatter"
           }
          ],
          "scatter3d": [
           {
            "line": {
             "colorbar": {
              "outlinewidth": 0,
              "ticks": ""
             }
            },
            "marker": {
             "colorbar": {
              "outlinewidth": 0,
              "ticks": ""
             },
             "size": 4
            },
            "type": "scatter3d"
           }
          ],
          "scattercarpet": [
           {
            "marker": {
             "colorbar": {
              "outlinewidth": 0,
              "ticks": ""
             }
            },
            "type": "scattercarpet"
           }
          ],
          "scattergeo": [
           {
            "marker": {
             "colorbar": {
              "outlinewidth": 0,
              "ticks": ""
             }
            },
            "type": "scattergeo"
           }
          ],
          "scattergl": [
           {
            "marker": {
             "colorbar": {
              "outlinewidth": 0,
              "ticks": ""
             }
            },
            "type": "scattergl"
           }
          ],
          "scattermapbox": [
           {
            "marker": {
             "colorbar": {
              "outlinewidth": 0,
              "ticks": ""
             }
            },
            "type": "scattermapbox"
           }
          ],
          "scatterpolar": [
           {
            "marker": {
             "colorbar": {
              "outlinewidth": 0,
              "ticks": ""
             }
            },
            "type": "scatterpolar"
           }
          ],
          "scatterpolargl": [
           {
            "marker": {
             "colorbar": {
              "outlinewidth": 0,
              "ticks": ""
             }
            },
            "type": "scatterpolargl"
           }
          ],
          "scatterternary": [
           {
            "marker": {
             "colorbar": {
              "outlinewidth": 0,
              "ticks": ""
             }
            },
            "type": "scatterternary"
           }
          ],
          "surface": [
           {
            "colorbar": {
             "outlinewidth": 0,
             "ticks": ""
            },
            "colorscale": [
             [
              0.0,
              "#0d0887"
             ],
             [
              0.1111111111111111,
              "#46039f"
             ],
             [
              0.2222222222222222,
              "#7201a8"
             ],
             [
              0.3333333333333333,
              "#9c179e"
             ],
             [
              0.4444444444444444,
              "#bd3786"
             ],
             [
              0.5555555555555556,
              "#d8576b"
             ],
             [
              0.6666666666666666,
              "#ed7953"
             ],
             [
              0.7777777777777778,
              "#fb9f3a"
             ],
             [
              0.8888888888888888,
              "#fdca26"
             ],
             [
              1.0,
              "#f0f921"
             ]
            ],
            "type": "surface"
           }
          ],
          "table": [
           {
            "cells": {
             "fill": {
              "color": "#EBF0F8"
             },
             "line": {
              "color": "white"
             }
            },
            "header": {
             "fill": {
              "color": "#C8D4E3"
             },
             "line": {
              "color": "white"
             }
            },
            "type": "table"
           }
          ]
         },
         "layout": {
          "annotationdefaults": {
           "arrowcolor": "#2a3f5f",
           "arrowhead": 0,
           "arrowwidth": 1
          },
          "coloraxis": {
           "colorbar": {
            "outlinewidth": 0,
            "ticks": ""
           }
          },
          "colorscale": {
           "diverging": [
            [
             0,
             "#8e0152"
            ],
            [
             0.1,
             "#c51b7d"
            ],
            [
             0.2,
             "#de77ae"
            ],
            [
             0.3,
             "#f1b6da"
            ],
            [
             0.4,
             "#fde0ef"
            ],
            [
             0.5,
             "#f7f7f7"
            ],
            [
             0.6,
             "#e6f5d0"
            ],
            [
             0.7,
             "#b8e186"
            ],
            [
             0.8,
             "#7fbc41"
            ],
            [
             0.9,
             "#4d9221"
            ],
            [
             1,
             "#276419"
            ]
           ],
           "sequential": [
            [
             0.0,
             "#0d0887"
            ],
            [
             0.1111111111111111,
             "#46039f"
            ],
            [
             0.2222222222222222,
             "#7201a8"
            ],
            [
             0.3333333333333333,
             "#9c179e"
            ],
            [
             0.4444444444444444,
             "#bd3786"
            ],
            [
             0.5555555555555556,
             "#d8576b"
            ],
            [
             0.6666666666666666,
             "#ed7953"
            ],
            [
             0.7777777777777778,
             "#fb9f3a"
            ],
            [
             0.8888888888888888,
             "#fdca26"
            ],
            [
             1.0,
             "#f0f921"
            ]
           ],
           "sequentialminus": [
            [
             0.0,
             "#0d0887"
            ],
            [
             0.1111111111111111,
             "#46039f"
            ],
            [
             0.2222222222222222,
             "#7201a8"
            ],
            [
             0.3333333333333333,
             "#9c179e"
            ],
            [
             0.4444444444444444,
             "#bd3786"
            ],
            [
             0.5555555555555556,
             "#d8576b"
            ],
            [
             0.6666666666666666,
             "#ed7953"
            ],
            [
             0.7777777777777778,
             "#fb9f3a"
            ],
            [
             0.8888888888888888,
             "#fdca26"
            ],
            [
             1.0,
             "#f0f921"
            ]
           ]
          },
          "colorway": [
           "#1f77b4",
           "#ff7f0e",
           "#2ca02c",
           "#d62728",
           "#9467bd",
           "#8c564b",
           "#e377c2",
           "#7f7f7f",
           "#bcbd22",
           "#17becf"
          ],
          "font": {
           "color": "#2a3f5f"
          },
          "geo": {
           "bgcolor": "white",
           "lakecolor": "white",
           "landcolor": "white",
           "showlakes": true,
           "showland": true,
           "subunitcolor": "#C8D4E3"
          },
          "hoverlabel": {
           "align": "left"
          },
          "hovermode": "closest",
          "mapbox": {
           "style": "light"
          },
          "paper_bgcolor": "white",
          "plot_bgcolor": "white",
          "polar": {
           "angularaxis": {
            "gridcolor": "#EBF0F8",
            "linecolor": "#EBF0F8",
            "ticks": ""
           },
           "bgcolor": "white",
           "radialaxis": {
            "gridcolor": "#EBF0F8",
            "linecolor": "#EBF0F8",
            "ticks": ""
           }
          },
          "scene": {
           "camera": {
            "center": {
             "x": 0,
             "y": 0,
             "z": 0
            },
            "eye": {
             "x": 2.0,
             "y": 2.0,
             "z": 2.0
            },
            "up": {
             "x": 0,
             "y": 0,
             "z": 1
            }
           },
           "xaxis": {
            "backgroundcolor": "white",
            "gridcolor": "#DFE8F3",
            "gridwidth": 2,
            "linecolor": "#EBF0F8",
            "showbackground": true,
            "showspikes": false,
            "ticks": "",
            "zerolinecolor": "#EBF0F8"
           },
           "yaxis": {
            "backgroundcolor": "white",
            "gridcolor": "#DFE8F3",
            "gridwidth": 2,
            "linecolor": "#EBF0F8",
            "showbackground": true,
            "showspikes": false,
            "ticks": "",
            "zerolinecolor": "#EBF0F8"
           },
           "zaxis": {
            "backgroundcolor": "white",
            "gridcolor": "#DFE8F3",
            "gridwidth": 2,
            "linecolor": "#EBF0F8",
            "showbackground": true,
            "showspikes": false,
            "ticks": "",
            "zerolinecolor": "#EBF0F8"
           }
          },
          "shapedefaults": {
           "line": {
            "color": "#2a3f5f"
           }
          },
          "ternary": {
           "aaxis": {
            "gridcolor": "#DFE8F3",
            "linecolor": "#A2B1C6",
            "ticks": ""
           },
           "baxis": {
            "gridcolor": "#DFE8F3",
            "linecolor": "#A2B1C6",
            "ticks": ""
           },
           "bgcolor": "white",
           "caxis": {
            "gridcolor": "#DFE8F3",
            "linecolor": "#A2B1C6",
            "ticks": ""
           }
          },
          "title": {
           "x": 0.05
          },
          "xaxis": {
           "automargin": true,
           "gridcolor": "#EBF0F8",
           "linecolor": "black",
           "linewidth": 2.0,
           "mirror": true,
           "showline": true,
           "ticks": "",
           "title": {
            "standoff": 15
           },
           "zeroline": false,
           "zerolinecolor": "#EBF0F8",
           "zerolinewidth": 2
          },
          "yaxis": {
           "automargin": true,
           "gridcolor": "#EBF0F8",
           "linecolor": "black",
           "linewidth": 2.0,
           "mirror": true,
           "showline": true,
           "ticks": "",
           "title": {
            "standoff": 15
           },
           "zeroline": false,
           "zerolinecolor": "#EBF0F8",
           "zerolinewidth": 2
          }
         }
        },
        "title": {
         "text": "Rotor Model"
        },
        "xaxis": {
         "mirror": true,
         "range": [
          -0.15000000000000002,
          1.6500000000000001
         ],
         "showgrid": false,
         "title": {
          "text": "Axial location (m)"
         }
        },
        "yaxis": {
         "mirror": true,
         "range": [
          -0.44999999999999996,
          0.44999999999999996
         ],
         "showgrid": false,
         "title": {
          "text": "Shaft radius (m)"
         }
        }
       }
      }
     },
     "metadata": {},
     "output_type": "display_data"
    }
   ],
   "source": [
    "sample = np.random.choice(list(iter(rand_rotor)))\n",
    "sample.plot_rotor()"
   ]
  },
  {
   "cell_type": "markdown",
   "metadata": {},
   "source": [
    "#### Running Stochastic Campbell Diagram"
   ]
  },
  {
   "cell_type": "code",
   "execution_count": 6,
   "metadata": {
    "execution": {
     "iopub.execute_input": "2023-05-04T00:59:11.477083Z",
     "iopub.status.busy": "2023-05-04T00:59:11.476887Z",
     "iopub.status.idle": "2023-05-04T01:00:11.300312Z",
     "shell.execute_reply": "2023-05-04T01:00:11.299883Z"
    }
   },
   "outputs": [],
   "source": [
    "speed_range = np.linspace(0, 600, 31)\n",
    "camp = rand_rotor.run_campbell(speed_range)"
   ]
  },
  {
   "cell_type": "markdown",
   "metadata": {},
   "source": [
    "#### Plotting Stochastic Campbell Diagram"
   ]
  },
  {
   "cell_type": "code",
   "execution_count": 7,
   "metadata": {
    "execution": {
     "iopub.execute_input": "2023-05-04T01:00:11.302222Z",
     "iopub.status.busy": "2023-05-04T01:00:11.302064Z",
     "iopub.status.idle": "2023-05-04T01:00:11.317982Z",
     "shell.execute_reply": "2023-05-04T01:00:11.317586Z"
    }
   },
   "outputs": [
    {
     "data": {
      "application/vnd.plotly.v1+json": {
       "config": {
        "plotlyServerURL": "https://plot.ly"
       },
       "data": [
        {
         "hovertemplate": "Frequency: %{x:.3f}<br>Frequency: %{y:.3f}",
         "legendgroup": "speed0",
         "line": {
          "color": "#2E91E5",
          "dash": "dashdot",
          "width": 3
         },
         "mode": "lines",
         "name": "1x speed",
         "type": "scatter",
         "x": [
          0.0,
          20.0,
          40.0,
          60.0,
          80.0,
          100.0,
          120.0,
          140.0,
          160.0,
          180.0,
          200.0,
          220.0,
          240.0,
          260.0,
          280.0,
          300.0,
          320.0,
          340.0,
          360.0,
          380.0,
          400.0,
          420.0,
          440.0,
          460.0,
          480.0,
          500.0,
          520.0,
          540.0,
          560.0,
          580.0,
          600.0
         ],
         "y": [
          0.0,
          20.0,
          40.0,
          60.0,
          80.0,
          100.0,
          120.0,
          140.0,
          160.0,
          180.0,
          200.0,
          220.0,
          240.0,
          260.0,
          280.0,
          300.0,
          320.0,
          340.0,
          360.0,
          380.0,
          400.0,
          420.0,
          440.0,
          460.0,
          480.0,
          500.0,
          520.0,
          540.0,
          560.0,
          580.0,
          600.0
         ]
        },
        {
         "hovertemplate": "Frequency: %{x:.3f}<br>Frequency: %{y:.3f}",
         "legendgroup": "mean0",
         "line": {
          "color": "#2E91E5",
          "width": 3
         },
         "mode": "lines",
         "name": "Mean - Mode 1",
         "type": "scatter",
         "x": [
          0.0,
          20.0,
          40.0,
          60.0,
          80.0,
          100.0,
          120.0,
          140.0,
          160.0,
          180.0,
          200.0,
          220.0,
          240.0,
          260.0,
          280.0,
          300.0,
          320.0,
          340.0,
          360.0,
          380.0,
          400.0,
          420.0,
          440.0,
          460.0,
          480.0,
          500.0,
          520.0,
          540.0,
          560.0,
          580.0,
          600.0
         ],
         "y": [
          96.1335594168634,
          96.04348351443222,
          95.95299755576278,
          95.86209967397434,
          95.77078800782255,
          95.67906070219753,
          95.58691590859317,
          95.49435178558592,
          95.40136649933075,
          95.30795822405895,
          95.21412514259504,
          95.11986544688207,
          95.02517733851313,
          94.93005902928297,
          94.83450874174045,
          94.73852470976176,
          94.64210517912757,
          94.54524840811615,
          94.44795266810532,
          94.35021624418752,
          94.25203743579485,
          94.15341455733649,
          94.05434593884827,
          93.95482992665113,
          93.85486488402559,
          93.75444919189286,
          93.65358124951243,
          93.55225947518628,
          93.45048230697851,
          93.34824820344522,
          93.24555564437422
         ]
        },
        {
         "fill": "toself",
         "fillcolor": "#2E91E5",
         "hovertemplate": "Frequency: %{x:.3f}<br>Frequency: %{y:.3f}",
         "legendgroup": "conf00",
         "line": {
          "color": "#2E91E5",
          "width": 1
         },
         "mode": "lines",
         "name": "confidence interval: 95% - Mode 1",
         "opacity": 0.3,
         "type": "scatter",
         "x": [
          0.0,
          20.0,
          40.0,
          60.0,
          80.0,
          100.0,
          120.0,
          140.0,
          160.0,
          180.0,
          200.0,
          220.0,
          240.0,
          260.0,
          280.0,
          300.0,
          320.0,
          340.0,
          360.0,
          380.0,
          400.0,
          420.0,
          440.0,
          460.0,
          480.0,
          500.0,
          520.0,
          540.0,
          560.0,
          580.0,
          600.0,
          600.0,
          580.0,
          560.0,
          540.0,
          520.0,
          500.0,
          480.0,
          460.0,
          440.0,
          420.0,
          400.0,
          380.0,
          360.0,
          340.0,
          320.0,
          300.0,
          280.0,
          260.0,
          240.0,
          220.0,
          200.0,
          180.0,
          160.0,
          140.0,
          120.0,
          100.0,
          80.0,
          60.0,
          40.0,
          20.0,
          0.0
         ],
         "y": [
          100.66836814045503,
          100.56012733535614,
          100.45142971544912,
          100.34227386959972,
          100.23265840676318,
          100.12258195675699,
          100.01204317094559,
          99.90104072289623,
          99.78957330909633,
          99.67763964963106,
          99.5652384889028,
          99.45236859634576,
          99.33902876714676,
          99.22521782299523,
          99.11093461281055,
          98.99617801350038,
          98.88094693072469,
          98.76524029966068,
          98.64905708578186,
          98.53239628563925,
          98.41525692765623,
          98.2976380729279,
          98.17953881602774,
          98.06095828581783,
          97.94189564627511,
          97.8223500973161,
          97.70232087562809,
          97.58180725550376,
          97.46080854969152,
          97.33932411024973,
          97.21735332937972,
          85.89291116927441,
          85.96396811251435,
          86.0346407663119,
          86.10493180646982,
          86.1748438961643,
          86.24437968566146,
          86.31354181205644,
          86.38233289901247,
          86.4507555565326,
          86.51881238072875,
          86.58650595361836,
          86.6538388429171,
          86.72081360186198,
          86.78743276902692,
          86.85369886816977,
          86.91961440808227,
          86.98518188243555,
          87.05040376966697,
          87.11528253284844,
          87.17982061958732,
          87.24402046191321,
          87.3078844761942,
          87.37141506305828,
          87.4346146073049,
          87.49748547785758,
          87.56003002768333,
          87.62225059377994,
          87.68414949707173,
          87.74572904247286,
          87.80699151868777,
          87.86793919836508
         ]
        },
        {
         "hovertemplate": "Frequency: %{x:.3f}<br>Frequency: %{y:.3f}",
         "legendgroup": "mean1",
         "line": {
          "color": "#E15F99",
          "width": 3
         },
         "mode": "lines",
         "name": "Mean - Mode 2",
         "type": "scatter",
         "x": [
          0.0,
          20.0,
          40.0,
          60.0,
          80.0,
          100.0,
          120.0,
          140.0,
          160.0,
          180.0,
          200.0,
          220.0,
          240.0,
          260.0,
          280.0,
          300.0,
          320.0,
          340.0,
          360.0,
          380.0,
          400.0,
          420.0,
          440.0,
          460.0,
          480.0,
          500.0,
          520.0,
          540.0,
          560.0,
          580.0,
          600.0
         ],
         "y": [
          96.13355941692994,
          96.22322713526384,
          96.3124885464717,
          96.4013455317806,
          96.48979997638057,
          96.57785376898539,
          96.66550880142898,
          96.75276696827169,
          96.83963016642255,
          96.92610029476438,
          97.01217925379173,
          97.09786894525762,
          97.18317127182644,
          97.26808813674128,
          97.35262144349204,
          97.43677309550093,
          97.52054499580903,
          97.60393904677552,
          97.68695714978259,
          97.7696012049511,
          97.85187311086105,
          97.9337747642817,
          98.0153080599096,
          98.09647489011171,
          98.17727714468016,
          98.25771671058901,
          98.33779547176309,
          98.41751530885023,
          98.49687809900169,
          98.57588571566045,
          98.65454002835298
         ]
        },
        {
         "fill": "toself",
         "fillcolor": "#E15F99",
         "hovertemplate": "Frequency: %{x:.3f}<br>Frequency: %{y:.3f}",
         "legendgroup": "conf10",
         "line": {
          "color": "#E15F99",
          "width": 1
         },
         "mode": "lines",
         "name": "confidence interval: 95% - Mode 2",
         "opacity": 0.3,
         "type": "scatter",
         "x": [
          0.0,
          20.0,
          40.0,
          60.0,
          80.0,
          100.0,
          120.0,
          140.0,
          160.0,
          180.0,
          200.0,
          220.0,
          240.0,
          260.0,
          280.0,
          300.0,
          320.0,
          340.0,
          360.0,
          380.0,
          400.0,
          420.0,
          440.0,
          460.0,
          480.0,
          500.0,
          520.0,
          540.0,
          560.0,
          580.0,
          600.0,
          600.0,
          580.0,
          560.0,
          540.0,
          520.0,
          500.0,
          480.0,
          460.0,
          440.0,
          420.0,
          400.0,
          380.0,
          360.0,
          340.0,
          320.0,
          300.0,
          280.0,
          260.0,
          240.0,
          220.0,
          200.0,
          180.0,
          160.0,
          140.0,
          120.0,
          100.0,
          80.0,
          60.0,
          40.0,
          20.0,
          0.0
         ],
         "y": [
          100.66836814049796,
          100.77615356185672,
          100.88348504894674,
          100.99036406982484,
          101.09679211010884,
          101.20277067247002,
          101.30830127600315,
          101.41338545565048,
          101.51802476159814,
          101.62222075871614,
          101.72597502598425,
          101.82928915593646,
          101.93216475412092,
          102.03460343855188,
          102.13660683919427,
          102.23817659743843,
          102.33931436559212,
          102.44002180638286,
          102.54030059247035,
          102.64015240596265,
          102.73957893794734,
          102.83858188802797,
          102.93716296386987,
          103.0353238807602,
          103.13306636116837,
          103.23039213433015,
          103.32730293581558,
          103.42380050712723,
          103.5198865953026,
          103.61556295252488,
          103.71083133572688,
          89.56060418143872,
          89.50812305789175,
          89.4553879144035,
          89.40239694879982,
          89.34914834414006,
          89.29564026861878,
          89.24187087549807,
          89.18783830300946,
          89.13354067428625,
          89.07897609728136,
          89.02414266469403,
          88.9690384538844,
          88.91366152682444,
          88.85800993000149,
          88.80208169437242,
          88.74587483529024,
          88.68938735244235,
          88.63261722979341,
          88.57556243552727,
          88.51822092200186,
          88.46059062569154,
          88.40266946713676,
          88.34445535092415,
          88.28594616561865,
          88.22713978375066,
          88.16803406177453,
          88.10862684005946,
          88.04891594282616,
          87.98889917821846,
          87.92857433813542,
          87.86793919839995
         ]
        },
        {
         "hovertemplate": "Frequency: %{x:.3f}<br>Frequency: %{y:.3f}",
         "legendgroup": "mean2",
         "line": {
          "color": "#1CA71C",
          "width": 3
         },
         "mode": "lines",
         "name": "Mean - Mode 3",
         "type": "scatter",
         "x": [
          0.0,
          20.0,
          40.0,
          60.0,
          80.0,
          100.0,
          120.0,
          140.0,
          160.0,
          180.0,
          200.0,
          220.0,
          240.0,
          260.0,
          280.0,
          300.0,
          320.0,
          340.0,
          360.0,
          380.0,
          400.0,
          420.0,
          440.0,
          460.0,
          480.0,
          500.0,
          520.0,
          540.0,
          560.0,
          580.0,
          600.0
         ],
         "y": [
          329.043877839325,
          328.1080224167735,
          327.16542149995,
          326.2160587542637,
          325.25992050062456,
          324.2969958592612,
          323.32727689653416,
          322.35075877457564,
          321.3674399036,
          320.37732209623493,
          319.3804107240455,
          318.37671487543327,
          317.3662475146132,
          316.3490256414446,
          315.325070451273,
          314.29440749449424,
          313.25706683521224,
          312.2130832082669,
          311.1624961742729,
          310.1053502716029,
          309.04169516495216,
          307.9715857895482,
          306.8950824902597,
          305.8122511548076,
          304.7231633402605,
          303.62789639206244,
          302.52653355447075,
          301.4191640718351,
          300.30588327966524,
          299.1867926847049,
          298.0620000330414
         ]
        },
        {
         "fill": "toself",
         "fillcolor": "#1CA71C",
         "hovertemplate": "Frequency: %{x:.3f}<br>Frequency: %{y:.3f}",
         "legendgroup": "conf20",
         "line": {
          "color": "#1CA71C",
          "width": 1
         },
         "mode": "lines",
         "name": "confidence interval: 95% - Mode 3",
         "opacity": 0.3,
         "type": "scatter",
         "x": [
          0.0,
          20.0,
          40.0,
          60.0,
          80.0,
          100.0,
          120.0,
          140.0,
          160.0,
          180.0,
          200.0,
          220.0,
          240.0,
          260.0,
          280.0,
          300.0,
          320.0,
          340.0,
          360.0,
          380.0,
          400.0,
          420.0,
          440.0,
          460.0,
          480.0,
          500.0,
          520.0,
          540.0,
          560.0,
          580.0,
          600.0,
          600.0,
          580.0,
          560.0,
          540.0,
          520.0,
          500.0,
          480.0,
          460.0,
          440.0,
          420.0,
          400.0,
          380.0,
          360.0,
          340.0,
          320.0,
          300.0,
          280.0,
          260.0,
          240.0,
          220.0,
          200.0,
          180.0,
          160.0,
          140.0,
          120.0,
          100.0,
          80.0,
          60.0,
          40.0,
          20.0,
          0.0
         ],
         "y": [
          357.8504395440439,
          356.9758535955762,
          356.0938498961026,
          355.2043786774941,
          354.3073920083529,
          353.40284394560115,
          352.490690691443,
          351.5708907576854,
          350.64340513410167,
          349.7081974637452,
          348.76523422280854,
          347.8144849068399,
          346.85592222089866,
          345.8895222749439,
          344.9152647845485,
          343.93313327394145,
          342.9431152845115,
          341.94520258508726,
          340.93939138604674,
          339.9256825539554,
          338.90408182920004,
          337.8746000429589,
          336.83725333491975,
          335.79206336928695,
          334.7390575489403,
          333.6782692275222,
          332.60973791642226,
          331.53350948776074,
          330.44963637052507,
          329.35817773981864,
          328.25919969775356,
          247.99689807005097,
          249.1378999973556,
          250.27648474184969,
          251.41249324617706,
          252.54577057797874,
          253.676166034638,
          254.80353323523727,
          255.92773020021332,
          257.048619418632,
          258.16606790395616,
          259.2799472370552,
          260.39013359861696,
          261.49650778991816,
          262.5989552424954,
          263.69736601827884,
          264.79163479879554,
          265.8816608652831,
          266.9673480700059,
          268.04860479862,
          269.12534392484673,
          270.19748275751203,
          271.26494298080655,
          272.3276505880352,
          273.385535809566,
          274.43853303552953,
          275.4865807333801,
          276.52962136182146,
          277.5676012801866,
          278.6004706551975,
          279.6281833642267,
          280.650696896871
         ]
        },
        {
         "hovertemplate": "Frequency: %{x:.3f}<br>Frequency: %{y:.3f}",
         "legendgroup": "mean3",
         "line": {
          "color": "#FB0D0D",
          "width": 3
         },
         "mode": "lines",
         "name": "Mean - Mode 4",
         "type": "scatter",
         "x": [
          0.0,
          20.0,
          40.0,
          60.0,
          80.0,
          100.0,
          120.0,
          140.0,
          160.0,
          180.0,
          200.0,
          220.0,
          240.0,
          260.0,
          280.0,
          300.0,
          320.0,
          340.0,
          360.0,
          380.0,
          400.0,
          420.0,
          440.0,
          460.0,
          480.0,
          500.0,
          520.0,
          540.0,
          560.0,
          580.0,
          600.0
         ],
         "y": [
          329.0438778396199,
          329.97300661773835,
          330.8954299796153,
          331.81117139774784,
          332.72025645997047,
          333.6227127434507,
          334.51856969283443,
          335.40785850231754,
          336.29061200188227,
          337.1668645472799,
          338.0366519143947,
          338.9000111974003,
          339.7569807108902,
          340.6075998961829,
          341.4519092313165,
          342.28995014500236,
          343.12176493437386,
          343.94739668630524,
          344.7668892025893,
          345.5802869284074,
          346.38763488442305,
          347.18897860214827,
          347.9843640626205,
          348.77383763814345,
          349.55744603713094,
          350.3352362520117,
          351.1072555097588,
          351.87355122533677,
          352.63417095771854,
          353.38916236851054,
          354.1385731828977
         ]
        },
        {
         "fill": "toself",
         "fillcolor": "#FB0D0D",
         "hovertemplate": "Frequency: %{x:.3f}<br>Frequency: %{y:.3f}",
         "legendgroup": "conf30",
         "line": {
          "color": "#FB0D0D",
          "width": 1
         },
         "mode": "lines",
         "name": "confidence interval: 95% - Mode 4",
         "opacity": 0.3,
         "type": "scatter",
         "x": [
          0.0,
          20.0,
          40.0,
          60.0,
          80.0,
          100.0,
          120.0,
          140.0,
          160.0,
          180.0,
          200.0,
          220.0,
          240.0,
          260.0,
          280.0,
          300.0,
          320.0,
          340.0,
          360.0,
          380.0,
          400.0,
          420.0,
          440.0,
          460.0,
          480.0,
          500.0,
          520.0,
          540.0,
          560.0,
          580.0,
          600.0,
          600.0,
          580.0,
          560.0,
          540.0,
          520.0,
          500.0,
          480.0,
          460.0,
          440.0,
          420.0,
          400.0,
          380.0,
          360.0,
          340.0,
          320.0,
          300.0,
          280.0,
          260.0,
          240.0,
          220.0,
          200.0,
          180.0,
          160.0,
          140.0,
          120.0,
          100.0,
          80.0,
          60.0,
          40.0,
          20.0,
          0.0
         ],
         "y": [
          357.8504395443228,
          358.7176592011059,
          359.5775655759893,
          360.43021309560055,
          361.2756574758668,
          362.11395559934573,
          362.9451653977538,
          363.76934574186106,
          364.58655633491367,
          365.3968576125879,
          366.2003106474392,
          366.9969770592042,
          367.786918928901,
          368.5701987181358,
          369.3468791938347,
          370.11702335553707,
          370.88069436894426,
          371.63795550189826,
          372.388870065847,
          373.13350135907046,
          373.87191261583365,
          374.6041669570045,
          375.3303273455565,
          376.0504565440125,
          376.7646170750283,
          377.4728711860448,
          378.1752808148964,
          378.8719075595967,
          379.5628126491658,
          380.24805691777516,
          380.9277007810054,
          308.8170540372494,
          307.95651335487656,
          307.090682134383,
          306.21953958676926,
          305.3430658599094,
          304.4612420991461,
          303.5740505095397,
          302.6814744207153,
          301.7834983537382,
          300.88010809131436,
          299.9712907491191,
          299.0570348506657,
          298.1373304041101,
          297.2121689810755,
          296.28154379902537,
          295.3454498047041,
          294.40388376034457,
          293.45684433254957,
          292.5043321827077,
          291.5463500597224,
          290.58290289474485,
          289.61399789772463,
          288.63964465564646,
          287.65985523229256,
          286.67464426951096,
          285.6840290893186,
          284.68802979761506,
          283.6866693878099,
          282.67997384575904,
          281.6679722540221,
          280.6506968968622
         ]
        },
        {
         "hovertemplate": "Frequency: %{x:.3f}<br>Frequency: %{y:.3f}",
         "legendgroup": "mean4",
         "line": {
          "color": "#DA16FF",
          "width": 3
         },
         "mode": "lines",
         "name": "Mean - Mode 5",
         "type": "scatter",
         "x": [
          0.0,
          20.0,
          40.0,
          60.0,
          80.0,
          100.0,
          120.0,
          140.0,
          160.0,
          180.0,
          200.0,
          220.0,
          240.0,
          260.0,
          280.0,
          300.0,
          320.0,
          340.0,
          360.0,
          380.0,
          400.0,
          420.0,
          440.0,
          460.0,
          480.0,
          500.0,
          520.0,
          540.0,
          560.0,
          580.0,
          600.0
         ],
         "y": [
          856.076248445127,
          848.7862561922316,
          841.4868119587246,
          834.1829461152789,
          826.8796444261834,
          819.5818307970475,
          812.2943509584564,
          805.0219571812652,
          797.7692941002424,
          790.5408857076229,
          783.3411235562618,
          776.1742561958376,
          769.0443798574186,
          761.955430376097,
          754.9111763377965,
          747.91521342129,
          740.9709598956393,
          734.0816532276368,
          727.2503477438742,
          720.4799132893862,
          713.7730348182513,
          707.1322128488322,
          700.5597647170457,
          694.0578265559241,
          687.6283559340378,
          681.273135082172,
          674.9937746440451,
          668.7917178835252,
          662.6682452875586,
          656.6244795057177,
          650.6613905697131
         ]
        },
        {
         "fill": "toself",
         "fillcolor": "#DA16FF",
         "hovertemplate": "Frequency: %{x:.3f}<br>Frequency: %{y:.3f}",
         "legendgroup": "conf40",
         "line": {
          "color": "#DA16FF",
          "width": 1
         },
         "mode": "lines",
         "name": "confidence interval: 95% - Mode 5",
         "opacity": 0.3,
         "type": "scatter",
         "x": [
          0.0,
          20.0,
          40.0,
          60.0,
          80.0,
          100.0,
          120.0,
          140.0,
          160.0,
          180.0,
          200.0,
          220.0,
          240.0,
          260.0,
          280.0,
          300.0,
          320.0,
          340.0,
          360.0,
          380.0,
          400.0,
          420.0,
          440.0,
          460.0,
          480.0,
          500.0,
          520.0,
          540.0,
          560.0,
          580.0,
          600.0,
          600.0,
          580.0,
          560.0,
          540.0,
          520.0,
          500.0,
          480.0,
          460.0,
          440.0,
          420.0,
          400.0,
          380.0,
          360.0,
          340.0,
          320.0,
          300.0,
          280.0,
          260.0,
          240.0,
          220.0,
          200.0,
          180.0,
          160.0,
          140.0,
          120.0,
          100.0,
          80.0,
          60.0,
          40.0,
          20.0,
          0.0
         ],
         "y": [
          944.8094081243801,
          936.2240544092277,
          927.6404538817118,
          919.0647960382306,
          910.5031446298555,
          901.9614191119613,
          893.4453778497261,
          884.9606031232206,
          876.5124879193974,
          868.1062245199296,
          859.746794828884,
          851.4389623978161,
          843.1872660801364,
          834.9960152369523,
          826.8692864037863,
          818.8109213261553,
          810.824526270556,
          802.9134724991418,
          795.0808978119006,
          787.3297090550363,
          779.6625854924663,
          772.0819829414091,
          764.5901385839111,
          757.1890763568573,
          749.8806128408662,
          742.6663635631148,
          735.5477496454811,
          728.5260047210772,
          721.6021820601737,
          714.7771618464591,
          708.0516585496232,
          564.1286321625695,
          569.0607255648256,
          574.0510515549759,
          579.098572285554,
          584.2021289745153,
          589.3604393899617,
          594.5720957304509,
          599.8355629476641,
          605.1491775503557,
          610.5111469359111,
          615.9195492974736,
          621.3723341331656,
          626.867323409504,
          632.4022134074913,
          637.9745772798334,
          643.5818683454063,
          649.2214241467545,
          654.8904712714782,
          660.5861309565691,
          666.3054254567321,
          672.0452851861717,
          677.8025565911026,
          683.5740107417785,
          689.3563525891942,
          695.1462308471289,
          700.9402484426973,
          706.7349734471276,
          712.5269504393863,
          718.3127121983983,
          724.088791631847,
          729.8517338571836
         ]
        },
        {
         "hovertemplate": "Frequency: %{x:.3f}<br>Frequency: %{y:.3f}",
         "legendgroup": "mean5",
         "line": {
          "color": "#222A2A",
          "width": 3
         },
         "mode": "lines",
         "name": "Mean - Mode 6",
         "type": "scatter",
         "x": [
          0.0,
          20.0,
          40.0,
          60.0,
          80.0,
          100.0,
          120.0,
          140.0,
          160.0,
          180.0,
          200.0,
          220.0,
          240.0,
          260.0,
          280.0,
          300.0,
          320.0,
          340.0,
          360.0,
          380.0,
          400.0,
          420.0,
          440.0,
          460.0,
          480.0,
          500.0,
          520.0,
          540.0,
          560.0,
          580.0,
          600.0
         ],
         "y": [
          856.0762484485982,
          863.3517318310477,
          870.6076416967658,
          877.8389249665826,
          885.0405598363222,
          892.2075756930403,
          899.3350730594935,
          906.418243371567,
          913.4523883901068,
          920.4329390526113,
          927.355473565227,
          934.2157345440346,
          941.0096450320935,
          947.7333232204815,
          954.3830957279023,
          960.9555093108778,
          967.4473408993072,
          973.8556058782945,
          980.1775645612204,
          986.410726831459,
          992.5528549511638,
          998.6019645653532,
          1004.55632395748,
          1010.4144516282316,
          1016.175112300255,
          1021.8373114583832,
          1027.4002885615837,
          1032.8635090627572,
          1038.2266553892584,
          1043.489617036148,
          1048.6524799303008
         ]
        },
        {
         "fill": "toself",
         "fillcolor": "#222A2A",
         "hovertemplate": "Frequency: %{x:.3f}<br>Frequency: %{y:.3f}",
         "legendgroup": "conf50",
         "line": {
          "color": "#222A2A",
          "width": 1
         },
         "mode": "lines",
         "name": "confidence interval: 95% - Mode 6",
         "opacity": 0.3,
         "type": "scatter",
         "x": [
          0.0,
          20.0,
          40.0,
          60.0,
          80.0,
          100.0,
          120.0,
          140.0,
          160.0,
          180.0,
          200.0,
          220.0,
          240.0,
          260.0,
          280.0,
          300.0,
          320.0,
          340.0,
          360.0,
          380.0,
          400.0,
          420.0,
          440.0,
          460.0,
          480.0,
          500.0,
          520.0,
          540.0,
          560.0,
          580.0,
          600.0,
          600.0,
          580.0,
          560.0,
          540.0,
          520.0,
          500.0,
          480.0,
          460.0,
          440.0,
          420.0,
          400.0,
          380.0,
          360.0,
          340.0,
          320.0,
          300.0,
          280.0,
          260.0,
          240.0,
          220.0,
          200.0,
          180.0,
          160.0,
          140.0,
          120.0,
          100.0,
          80.0,
          60.0,
          40.0,
          20.0,
          0.0
         ],
         "y": [
          944.8094081272592,
          953.3902200479511,
          961.9601115675428,
          970.5126438188468,
          979.0413423877114,
          987.5397231862057,
          996.0013192818119,
          1004.4197084500863,
          1012.7885411618555,
          1021.1015687571085,
          1029.3526714628651,
          1037.5358859637772,
          1045.6454321940535,
          1053.675739037501,
          1061.6214686184235,
          1069.4775388882497,
          1077.2391442435483,
          1084.9017739288468,
          1092.461228006817,
          1099.913630749958,
          1107.255441312123,
          1114.483461612604,
          1121.5948414116754,
          1128.587080581711,
          1135.4580286492676,
          1142.205881714785,
          1148.8291768965635,
          1155.3267844685731,
          1161.6978979163287,
          1167.9420221200164,
          1174.058959923873,
          882.8123958121736,
          878.6012921739765,
          874.3210990371625,
          869.9717881146271,
          865.5534386892499,
          861.0662435244807,
          856.5105145695915,
          851.8866884026621,
          847.1953313462983,
          842.4371441715637,
          837.6129663675782,
          832.7237798427997,
          827.7707120540118,
          822.7550384585521,
          817.6781842515152,
          812.5417253058774,
          807.347388305299,
          802.0970499823937,
          796.7927354651007,
          791.4366156789666,
          786.0310038128657,
          780.5783508277921,
          775.0812400314326,
          769.5423807223427,
          763.96460095611,
          758.3508394673629,
          752.7041367921728,
          747.0276256856291,
          741.3245208883759,
          735.5981083272703,
          729.8517338576703
         ]
        }
       ],
       "layout": {
        "height": 700,
        "template": {
         "data": {
          "bar": [
           {
            "error_x": {
             "color": "#2a3f5f"
            },
            "error_y": {
             "color": "#2a3f5f"
            },
            "marker": {
             "line": {
              "color": "white",
              "width": 0.5
             }
            },
            "type": "bar"
           }
          ],
          "barpolar": [
           {
            "marker": {
             "line": {
              "color": "white",
              "width": 0.5
             }
            },
            "type": "barpolar"
           }
          ],
          "carpet": [
           {
            "aaxis": {
             "endlinecolor": "#2a3f5f",
             "gridcolor": "#C8D4E3",
             "linecolor": "#C8D4E3",
             "minorgridcolor": "#C8D4E3",
             "startlinecolor": "#2a3f5f"
            },
            "baxis": {
             "endlinecolor": "#2a3f5f",
             "gridcolor": "#C8D4E3",
             "linecolor": "#C8D4E3",
             "minorgridcolor": "#C8D4E3",
             "startlinecolor": "#2a3f5f"
            },
            "type": "carpet"
           }
          ],
          "choropleth": [
           {
            "colorbar": {
             "outlinewidth": 0,
             "ticks": ""
            },
            "type": "choropleth"
           }
          ],
          "contour": [
           {
            "colorbar": {
             "outlinewidth": 0,
             "ticks": ""
            },
            "colorscale": [
             [
              0.0,
              "#0d0887"
             ],
             [
              0.1111111111111111,
              "#46039f"
             ],
             [
              0.2222222222222222,
              "#7201a8"
             ],
             [
              0.3333333333333333,
              "#9c179e"
             ],
             [
              0.4444444444444444,
              "#bd3786"
             ],
             [
              0.5555555555555556,
              "#d8576b"
             ],
             [
              0.6666666666666666,
              "#ed7953"
             ],
             [
              0.7777777777777778,
              "#fb9f3a"
             ],
             [
              0.8888888888888888,
              "#fdca26"
             ],
             [
              1.0,
              "#f0f921"
             ]
            ],
            "type": "contour"
           }
          ],
          "contourcarpet": [
           {
            "colorbar": {
             "outlinewidth": 0,
             "ticks": ""
            },
            "type": "contourcarpet"
           }
          ],
          "heatmap": [
           {
            "colorbar": {
             "outlinewidth": 0,
             "ticks": ""
            },
            "colorscale": [
             [
              0.0,
              "#0d0887"
             ],
             [
              0.1111111111111111,
              "#46039f"
             ],
             [
              0.2222222222222222,
              "#7201a8"
             ],
             [
              0.3333333333333333,
              "#9c179e"
             ],
             [
              0.4444444444444444,
              "#bd3786"
             ],
             [
              0.5555555555555556,
              "#d8576b"
             ],
             [
              0.6666666666666666,
              "#ed7953"
             ],
             [
              0.7777777777777778,
              "#fb9f3a"
             ],
             [
              0.8888888888888888,
              "#fdca26"
             ],
             [
              1.0,
              "#f0f921"
             ]
            ],
            "type": "heatmap"
           }
          ],
          "heatmapgl": [
           {
            "colorbar": {
             "outlinewidth": 0,
             "ticks": ""
            },
            "colorscale": [
             [
              0.0,
              "#0d0887"
             ],
             [
              0.1111111111111111,
              "#46039f"
             ],
             [
              0.2222222222222222,
              "#7201a8"
             ],
             [
              0.3333333333333333,
              "#9c179e"
             ],
             [
              0.4444444444444444,
              "#bd3786"
             ],
             [
              0.5555555555555556,
              "#d8576b"
             ],
             [
              0.6666666666666666,
              "#ed7953"
             ],
             [
              0.7777777777777778,
              "#fb9f3a"
             ],
             [
              0.8888888888888888,
              "#fdca26"
             ],
             [
              1.0,
              "#f0f921"
             ]
            ],
            "type": "heatmapgl"
           }
          ],
          "histogram": [
           {
            "marker": {
             "colorbar": {
              "outlinewidth": 0,
              "ticks": ""
             }
            },
            "type": "histogram"
           }
          ],
          "histogram2d": [
           {
            "colorbar": {
             "outlinewidth": 0,
             "ticks": ""
            },
            "colorscale": [
             [
              0.0,
              "#0d0887"
             ],
             [
              0.1111111111111111,
              "#46039f"
             ],
             [
              0.2222222222222222,
              "#7201a8"
             ],
             [
              0.3333333333333333,
              "#9c179e"
             ],
             [
              0.4444444444444444,
              "#bd3786"
             ],
             [
              0.5555555555555556,
              "#d8576b"
             ],
             [
              0.6666666666666666,
              "#ed7953"
             ],
             [
              0.7777777777777778,
              "#fb9f3a"
             ],
             [
              0.8888888888888888,
              "#fdca26"
             ],
             [
              1.0,
              "#f0f921"
             ]
            ],
            "type": "histogram2d"
           }
          ],
          "histogram2dcontour": [
           {
            "colorbar": {
             "outlinewidth": 0,
             "ticks": ""
            },
            "colorscale": [
             [
              0.0,
              "#0d0887"
             ],
             [
              0.1111111111111111,
              "#46039f"
             ],
             [
              0.2222222222222222,
              "#7201a8"
             ],
             [
              0.3333333333333333,
              "#9c179e"
             ],
             [
              0.4444444444444444,
              "#bd3786"
             ],
             [
              0.5555555555555556,
              "#d8576b"
             ],
             [
              0.6666666666666666,
              "#ed7953"
             ],
             [
              0.7777777777777778,
              "#fb9f3a"
             ],
             [
              0.8888888888888888,
              "#fdca26"
             ],
             [
              1.0,
              "#f0f921"
             ]
            ],
            "type": "histogram2dcontour"
           }
          ],
          "mesh3d": [
           {
            "colorbar": {
             "outlinewidth": 0,
             "ticks": ""
            },
            "type": "mesh3d"
           }
          ],
          "parcoords": [
           {
            "line": {
             "colorbar": {
              "outlinewidth": 0,
              "ticks": ""
             }
            },
            "type": "parcoords"
           }
          ],
          "pie": [
           {
            "automargin": true,
            "type": "pie"
           }
          ],
          "scatter": [
           {
            "marker": {
             "colorbar": {
              "outlinewidth": 0,
              "ticks": ""
             }
            },
            "type": "scatter"
           }
          ],
          "scatter3d": [
           {
            "line": {
             "colorbar": {
              "outlinewidth": 0,
              "ticks": ""
             }
            },
            "marker": {
             "colorbar": {
              "outlinewidth": 0,
              "ticks": ""
             },
             "size": 4
            },
            "type": "scatter3d"
           }
          ],
          "scattercarpet": [
           {
            "marker": {
             "colorbar": {
              "outlinewidth": 0,
              "ticks": ""
             }
            },
            "type": "scattercarpet"
           }
          ],
          "scattergeo": [
           {
            "marker": {
             "colorbar": {
              "outlinewidth": 0,
              "ticks": ""
             }
            },
            "type": "scattergeo"
           }
          ],
          "scattergl": [
           {
            "marker": {
             "colorbar": {
              "outlinewidth": 0,
              "ticks": ""
             }
            },
            "type": "scattergl"
           }
          ],
          "scattermapbox": [
           {
            "marker": {
             "colorbar": {
              "outlinewidth": 0,
              "ticks": ""
             }
            },
            "type": "scattermapbox"
           }
          ],
          "scatterpolar": [
           {
            "marker": {
             "colorbar": {
              "outlinewidth": 0,
              "ticks": ""
             }
            },
            "type": "scatterpolar"
           }
          ],
          "scatterpolargl": [
           {
            "marker": {
             "colorbar": {
              "outlinewidth": 0,
              "ticks": ""
             }
            },
            "type": "scatterpolargl"
           }
          ],
          "scatterternary": [
           {
            "marker": {
             "colorbar": {
              "outlinewidth": 0,
              "ticks": ""
             }
            },
            "type": "scatterternary"
           }
          ],
          "surface": [
           {
            "colorbar": {
             "outlinewidth": 0,
             "ticks": ""
            },
            "colorscale": [
             [
              0.0,
              "#0d0887"
             ],
             [
              0.1111111111111111,
              "#46039f"
             ],
             [
              0.2222222222222222,
              "#7201a8"
             ],
             [
              0.3333333333333333,
              "#9c179e"
             ],
             [
              0.4444444444444444,
              "#bd3786"
             ],
             [
              0.5555555555555556,
              "#d8576b"
             ],
             [
              0.6666666666666666,
              "#ed7953"
             ],
             [
              0.7777777777777778,
              "#fb9f3a"
             ],
             [
              0.8888888888888888,
              "#fdca26"
             ],
             [
              1.0,
              "#f0f921"
             ]
            ],
            "type": "surface"
           }
          ],
          "table": [
           {
            "cells": {
             "fill": {
              "color": "#EBF0F8"
             },
             "line": {
              "color": "white"
             }
            },
            "header": {
             "fill": {
              "color": "#C8D4E3"
             },
             "line": {
              "color": "white"
             }
            },
            "type": "table"
           }
          ]
         },
         "layout": {
          "annotationdefaults": {
           "arrowcolor": "#2a3f5f",
           "arrowhead": 0,
           "arrowwidth": 1
          },
          "coloraxis": {
           "colorbar": {
            "outlinewidth": 0,
            "ticks": ""
           }
          },
          "colorscale": {
           "diverging": [
            [
             0,
             "#8e0152"
            ],
            [
             0.1,
             "#c51b7d"
            ],
            [
             0.2,
             "#de77ae"
            ],
            [
             0.3,
             "#f1b6da"
            ],
            [
             0.4,
             "#fde0ef"
            ],
            [
             0.5,
             "#f7f7f7"
            ],
            [
             0.6,
             "#e6f5d0"
            ],
            [
             0.7,
             "#b8e186"
            ],
            [
             0.8,
             "#7fbc41"
            ],
            [
             0.9,
             "#4d9221"
            ],
            [
             1,
             "#276419"
            ]
           ],
           "sequential": [
            [
             0.0,
             "#0d0887"
            ],
            [
             0.1111111111111111,
             "#46039f"
            ],
            [
             0.2222222222222222,
             "#7201a8"
            ],
            [
             0.3333333333333333,
             "#9c179e"
            ],
            [
             0.4444444444444444,
             "#bd3786"
            ],
            [
             0.5555555555555556,
             "#d8576b"
            ],
            [
             0.6666666666666666,
             "#ed7953"
            ],
            [
             0.7777777777777778,
             "#fb9f3a"
            ],
            [
             0.8888888888888888,
             "#fdca26"
            ],
            [
             1.0,
             "#f0f921"
            ]
           ],
           "sequentialminus": [
            [
             0.0,
             "#0d0887"
            ],
            [
             0.1111111111111111,
             "#46039f"
            ],
            [
             0.2222222222222222,
             "#7201a8"
            ],
            [
             0.3333333333333333,
             "#9c179e"
            ],
            [
             0.4444444444444444,
             "#bd3786"
            ],
            [
             0.5555555555555556,
             "#d8576b"
            ],
            [
             0.6666666666666666,
             "#ed7953"
            ],
            [
             0.7777777777777778,
             "#fb9f3a"
            ],
            [
             0.8888888888888888,
             "#fdca26"
            ],
            [
             1.0,
             "#f0f921"
            ]
           ]
          },
          "colorway": [
           "#1f77b4",
           "#ff7f0e",
           "#2ca02c",
           "#d62728",
           "#9467bd",
           "#8c564b",
           "#e377c2",
           "#7f7f7f",
           "#bcbd22",
           "#17becf"
          ],
          "font": {
           "color": "#2a3f5f"
          },
          "geo": {
           "bgcolor": "white",
           "lakecolor": "white",
           "landcolor": "white",
           "showlakes": true,
           "showland": true,
           "subunitcolor": "#C8D4E3"
          },
          "hoverlabel": {
           "align": "left"
          },
          "hovermode": "closest",
          "mapbox": {
           "style": "light"
          },
          "paper_bgcolor": "white",
          "plot_bgcolor": "white",
          "polar": {
           "angularaxis": {
            "gridcolor": "#EBF0F8",
            "linecolor": "#EBF0F8",
            "ticks": ""
           },
           "bgcolor": "white",
           "radialaxis": {
            "gridcolor": "#EBF0F8",
            "linecolor": "#EBF0F8",
            "ticks": ""
           }
          },
          "scene": {
           "camera": {
            "center": {
             "x": 0,
             "y": 0,
             "z": 0
            },
            "eye": {
             "x": 2.0,
             "y": 2.0,
             "z": 2.0
            },
            "up": {
             "x": 0,
             "y": 0,
             "z": 1
            }
           },
           "xaxis": {
            "backgroundcolor": "white",
            "gridcolor": "#DFE8F3",
            "gridwidth": 2,
            "linecolor": "#EBF0F8",
            "showbackground": true,
            "showspikes": false,
            "ticks": "",
            "zerolinecolor": "#EBF0F8"
           },
           "yaxis": {
            "backgroundcolor": "white",
            "gridcolor": "#DFE8F3",
            "gridwidth": 2,
            "linecolor": "#EBF0F8",
            "showbackground": true,
            "showspikes": false,
            "ticks": "",
            "zerolinecolor": "#EBF0F8"
           },
           "zaxis": {
            "backgroundcolor": "white",
            "gridcolor": "#DFE8F3",
            "gridwidth": 2,
            "linecolor": "#EBF0F8",
            "showbackground": true,
            "showspikes": false,
            "ticks": "",
            "zerolinecolor": "#EBF0F8"
           }
          },
          "shapedefaults": {
           "line": {
            "color": "#2a3f5f"
           }
          },
          "ternary": {
           "aaxis": {
            "gridcolor": "#DFE8F3",
            "linecolor": "#A2B1C6",
            "ticks": ""
           },
           "baxis": {
            "gridcolor": "#DFE8F3",
            "linecolor": "#A2B1C6",
            "ticks": ""
           },
           "bgcolor": "white",
           "caxis": {
            "gridcolor": "#DFE8F3",
            "linecolor": "#A2B1C6",
            "ticks": ""
           }
          },
          "title": {
           "x": 0.05
          },
          "xaxis": {
           "automargin": true,
           "gridcolor": "#EBF0F8",
           "linecolor": "black",
           "linewidth": 2.0,
           "mirror": true,
           "showline": true,
           "ticks": "",
           "title": {
            "standoff": 15
           },
           "zeroline": false,
           "zerolinecolor": "#EBF0F8",
           "zerolinewidth": 2
          },
          "yaxis": {
           "automargin": true,
           "gridcolor": "#EBF0F8",
           "linecolor": "black",
           "linewidth": 2.0,
           "mirror": true,
           "showline": true,
           "ticks": "",
           "title": {
            "standoff": 15
           },
           "zeroline": false,
           "zerolinecolor": "#EBF0F8",
           "zerolinewidth": 2
          }
         }
        },
        "width": 950,
        "xaxis": {
         "exponentformat": "none",
         "range": [
          0.0,
          600.0
         ],
         "title": {
          "text": "Frequency (rad/s)"
         }
        },
        "yaxis": {
         "range": [
          0,
          1294.591244289049
         ],
         "title": {
          "text": "Natural Frequencies (rad/s)"
         }
        }
       }
      }
     },
     "metadata": {},
     "output_type": "display_data"
    }
   ],
   "source": [
    "# choose the desirable percentiles or confidence intervals\n",
    "camp.plot_nat_freq(conf_interval=[95], width=950, height=700)"
   ]
  },
  {
   "cell_type": "code",
   "execution_count": 8,
   "metadata": {
    "execution": {
     "iopub.execute_input": "2023-05-04T01:00:11.319635Z",
     "iopub.status.busy": "2023-05-04T01:00:11.319403Z",
     "iopub.status.idle": "2023-05-04T01:00:11.336063Z",
     "shell.execute_reply": "2023-05-04T01:00:11.335497Z"
    }
   },
   "outputs": [
    {
     "data": {
      "application/vnd.plotly.v1+json": {
       "config": {
        "plotlyServerURL": "https://plot.ly"
       },
       "data": [
        {
         "hovertemplate": "Frequency: %{x:.3f}<br>Log Dec: %{y:.3f}",
         "legendgroup": "mean0",
         "line": {
          "color": "#2E91E5",
          "width": 3
         },
         "name": "Mean - Mode 1",
         "opacity": 1.0,
         "type": "scatter",
         "x": [
          0.0,
          20.0,
          40.0,
          60.0,
          80.0,
          100.0,
          120.0,
          140.0,
          160.0,
          180.0,
          200.0,
          220.0,
          240.0,
          260.0,
          280.0,
          300.0,
          320.0,
          340.0,
          360.0,
          380.0,
          400.0,
          420.0,
          440.0,
          460.0,
          480.0,
          500.0,
          520.0,
          540.0,
          560.0,
          580.0,
          600.0
         ],
         "y": [
          0.00629342325716933,
          0.006270259902859322,
          0.00624702702984677,
          0.006223725056040891,
          0.006200354417307623,
          0.006176915566771541,
          0.006153408976041072,
          0.00612983513530737,
          0.0061061945537536425,
          0.006082487759607988,
          0.006058715300589306,
          0.006034877744330999,
          0.006010975678607824,
          0.005987009711544944,
          0.005962980472152947,
          0.00593888861049482,
          0.005914734798030308,
          0.005890519727902198,
          0.005866244115418995,
          0.005841908698124262,
          0.005817514236260149,
          0.005793061513046201,
          0.005768551335019542,
          0.005743984532271093,
          0.005719361958792017,
          0.005694684492779849,
          0.005669953036969636,
          0.005645168518767193,
          0.005620331890792166,
          0.00559544413099012,
          0.005570506242892605
         ]
        },
        {
         "fill": "toself",
         "fillcolor": "#2E91E5",
         "hoverinfo": "none",
         "legendgroup": "conf00",
         "line": {
          "color": "#2E91E5",
          "width": 1
         },
         "name": "confidence interval: 95% - Mode 1",
         "opacity": 0.3,
         "type": "scatter",
         "x": [
          0.0,
          20.0,
          40.0,
          60.0,
          80.0,
          100.0,
          120.0,
          140.0,
          160.0,
          180.0,
          200.0,
          220.0,
          240.0,
          260.0,
          280.0,
          300.0,
          320.0,
          340.0,
          360.0,
          380.0,
          400.0,
          420.0,
          440.0,
          460.0,
          480.0,
          500.0,
          520.0,
          540.0,
          560.0,
          580.0,
          600.0,
          600.0,
          580.0,
          560.0,
          540.0,
          520.0,
          500.0,
          480.0,
          460.0,
          440.0,
          420.0,
          400.0,
          380.0,
          360.0,
          340.0,
          320.0,
          300.0,
          280.0,
          260.0,
          240.0,
          220.0,
          200.0,
          180.0,
          160.0,
          140.0,
          120.0,
          100.0,
          80.0,
          60.0,
          40.0,
          20.0,
          0.0
         ],
         "y": [
          0.01666996259755657,
          0.01661800552718363,
          0.016565844574817655,
          0.016513479872272276,
          0.01646091158163766,
          0.016408139901071456,
          0.016355165065888765,
          0.01630198734844655,
          0.016248607059460882,
          0.01619502454956666,
          0.016141240208946823,
          0.016087254470410324,
          0.016033067808552025,
          0.015978680741948536,
          0.01592409383389198,
          0.015869307693685185,
          0.015814322977351886,
          0.015759140389159005,
          0.015703760682921016,
          0.01564818466224388,
          0.015592413183194083,
          0.015536447154204222,
          0.015480287538053842,
          0.015423935352452407,
          0.015367391672020192,
          0.015310657628940884,
          0.015253734414846112,
          0.015196623281073778,
          0.015139325541269547,
          0.015081842571775,
          0.015024175812968879,
          0.002041176935403995,
          0.002052099469492356,
          0.00206301464263584,
          0.002073921854484062,
          0.0020848205137235583,
          0.0020957100385773546,
          0.0021065898569523124,
          0.002117459405916346,
          0.0021283181321506517,
          0.002139165491492915,
          0.0021500009499263706,
          0.0021608239820263934,
          0.002171634072183274,
          0.0021824307142480574,
          0.0021932134112550117,
          0.0022039816756375787,
          0.0022147350290260466,
          0.0022254730024247496,
          0.0022361951360665416,
          0.002246900979192295,
          0.002257590090147736,
          0.002268262036763507,
          0.002278916395363072,
          0.0022895527512851815,
          0.00230017069908114,
          0.0023107698419128427,
          0.002321349791922494,
          0.002331910171008717,
          0.0023424506039408754,
          0.0023529707330719077,
          0.0023634702028785606
         ]
        },
        {
         "hovertemplate": "Frequency: %{x:.3f}<br>Log Dec: %{y:.3f}",
         "legendgroup": "mean1",
         "line": {
          "color": "#E15F99",
          "width": 3
         },
         "name": "Mean - Mode 2",
         "opacity": 1.0,
         "type": "scatter",
         "x": [
          0.0,
          20.0,
          40.0,
          60.0,
          80.0,
          100.0,
          120.0,
          140.0,
          160.0,
          180.0,
          200.0,
          220.0,
          240.0,
          260.0,
          280.0,
          300.0,
          320.0,
          340.0,
          360.0,
          380.0,
          400.0,
          420.0,
          440.0,
          460.0,
          480.0,
          500.0,
          520.0,
          540.0,
          560.0,
          580.0,
          600.0
         ],
         "y": [
          0.006293423257174644,
          0.00631651669246998,
          0.006339539825584269,
          0.006362492289549698,
          0.006385373733627008,
          0.006408183823783265,
          0.006430922241562228,
          0.006453588683997439,
          0.006476182863251379,
          0.006498704506520431,
          0.006521153355649281,
          0.006543529166768382,
          0.00656583171005205,
          0.00658806076956921,
          0.0066102161427857185,
          0.006632297640432185,
          0.00665430508622491,
          0.006676238316599406,
          0.006698097180303386,
          0.006719881538351141,
          0.0067415912636431905,
          0.006763226240720316,
          0.006784786365488124,
          0.006806271545038664,
          0.006827681697357833,
          0.006849016751078185,
          0.006870276645208415,
          0.006891461329059443,
          0.00691257076175291,
          0.0069336049121753165,
          0.006954563758751166
         ]
        },
        {
         "fill": "toself",
         "fillcolor": "#E15F99",
         "hoverinfo": "none",
         "legendgroup": "conf10",
         "line": {
          "color": "#E15F99",
          "width": 1
         },
         "name": "confidence interval: 95% - Mode 2",
         "opacity": 0.3,
         "type": "scatter",
         "x": [
          0.0,
          20.0,
          40.0,
          60.0,
          80.0,
          100.0,
          120.0,
          140.0,
          160.0,
          180.0,
          200.0,
          220.0,
          240.0,
          260.0,
          280.0,
          300.0,
          320.0,
          340.0,
          360.0,
          380.0,
          400.0,
          420.0,
          440.0,
          460.0,
          480.0,
          500.0,
          520.0,
          540.0,
          560.0,
          580.0,
          600.0,
          600.0,
          580.0,
          560.0,
          540.0,
          520.0,
          500.0,
          480.0,
          460.0,
          440.0,
          420.0,
          400.0,
          380.0,
          360.0,
          340.0,
          320.0,
          300.0,
          280.0,
          260.0,
          240.0,
          220.0,
          200.0,
          180.0,
          160.0,
          140.0,
          120.0,
          100.0,
          80.0,
          60.0,
          40.0,
          20.0,
          0.0
         ],
         "y": [
          0.0166699625975219,
          0.016721715693357765,
          0.01677326475465291,
          0.016824609747729653,
          0.0168757506742123,
          0.016926687565082085,
          0.01697742047978386,
          0.017027949506674123,
          0.017078274761771668,
          0.017128396387299218,
          0.017178314552218774,
          0.01722802945005143,
          0.01727754129929293,
          0.017326850341792634,
          0.017375956842622584,
          0.017424861088892407,
          0.017473563389631044,
          0.017522064074712275,
          0.017570363493943957,
          0.017618462017524043,
          0.017666360033741734,
          0.017714057949776558,
          0.01776155619028192,
          0.017808855197482685,
          0.01785595542973772,
          0.017902857361721754,
          0.01794956148316824,
          0.01799606829940788,
          0.0180423783294441,
          0.018088492106466975,
          0.01813441017721777,
          0.002667417092937737,
          0.0026576632825963155,
          0.0026478817178586527,
          0.002638072538709274,
          0.0026282358912445435,
          0.002618371927332601,
          0.002608480804556357,
          0.0025985626868598667,
          0.0025886177440970887,
          0.002578646152775926,
          0.0025686480949115484,
          0.0025586237598300412,
          0.002548573342982782,
          0.0025384970463015843,
          0.0025283950786829305,
          0.0025182676557030438,
          0.0025081149999560235,
          0.0024979373409008054,
          0.0024877349150661094,
          0.0024775079663287096,
          0.0024672567458469043,
          0.002456981511721649,
          0.0024466825300598362,
          0.002436360074341221,
          0.0024260144255540367,
          0.002415645872475877,
          0.002405254711588297,
          0.0023948412460257254,
          0.002384405793007506,
          0.002373948668538307,
          0.0023634702029152943
         ]
        },
        {
         "hovertemplate": "Frequency: %{x:.3f}<br>Log Dec: %{y:.3f}",
         "legendgroup": "mean2",
         "line": {
          "color": "#1CA71C",
          "width": 3
         },
         "name": "Mean - Mode 3",
         "opacity": 1.0,
         "type": "scatter",
         "x": [
          0.0,
          20.0,
          40.0,
          60.0,
          80.0,
          100.0,
          120.0,
          140.0,
          160.0,
          180.0,
          200.0,
          220.0,
          240.0,
          260.0,
          280.0,
          300.0,
          320.0,
          340.0,
          360.0,
          380.0,
          400.0,
          420.0,
          440.0,
          460.0,
          480.0,
          500.0,
          520.0,
          540.0,
          560.0,
          580.0,
          600.0
         ],
         "y": [
          0.037872489274300446,
          0.03794490477018179,
          0.03801623133775864,
          0.03808642391241107,
          0.038155436570372465,
          0.03822322255466618,
          0.03828973430657141,
          0.038354923500853094,
          0.03841874107995497,
          0.03848113730156848,
          0.03854206178512067,
          0.038601463563330426,
          0.038659291142020054,
          0.03871549256049664,
          0.03877001546202276,
          0.03882280716549752,
          0.038873814744818234,
          0.038922985113813806,
          0.038970265112846354,
          0.039015601607387596,
          0.03905894158456777,
          0.0391002322598089,
          0.03913942118742284,
          0.039176456373461184,
          0.03921128639571158,
          0.03924386052699494,
          0.039274128863264965,
          0.03930204245136312,
          0.03932755342483349,
          0.03935061513912775,
          0.039371182308496275
         ]
        },
        {
         "fill": "toself",
         "fillcolor": "#1CA71C",
         "hoverinfo": "none",
         "legendgroup": "conf20",
         "line": {
          "color": "#1CA71C",
          "width": 1
         },
         "name": "confidence interval: 95% - Mode 3",
         "opacity": 0.3,
         "type": "scatter",
         "x": [
          0.0,
          20.0,
          40.0,
          60.0,
          80.0,
          100.0,
          120.0,
          140.0,
          160.0,
          180.0,
          200.0,
          220.0,
          240.0,
          260.0,
          280.0,
          300.0,
          320.0,
          340.0,
          360.0,
          380.0,
          400.0,
          420.0,
          440.0,
          460.0,
          480.0,
          500.0,
          520.0,
          540.0,
          560.0,
          580.0,
          600.0,
          600.0,
          580.0,
          560.0,
          540.0,
          520.0,
          500.0,
          480.0,
          460.0,
          440.0,
          420.0,
          400.0,
          380.0,
          360.0,
          340.0,
          320.0,
          300.0,
          280.0,
          260.0,
          240.0,
          220.0,
          200.0,
          180.0,
          160.0,
          140.0,
          120.0,
          100.0,
          80.0,
          60.0,
          40.0,
          20.0,
          0.0
         ],
         "y": [
          0.09058914026222006,
          0.09072474338448518,
          0.09085677950860319,
          0.09098513597813494,
          0.09110969914127993,
          0.09123035447835455,
          0.09134698677494954,
          0.09145948024928066,
          0.09156771874297515,
          0.09167158589422839,
          0.09177096532389367,
          0.09186574084813455,
          0.0919557966809967,
          0.09204101766618883,
          0.09212128950684927,
          0.09219649900872123,
          0.09226653433287751,
          0.0923312852596805,
          0.09239064345295894,
          0.09244450274181097,
          0.092492759398559,
          0.09253531243086423,
          0.0925720638701212,
          0.09260291906484099,
          0.09262778698286045,
          0.09264658050280312,
          0.0926592167103661,
          0.09266561719399925,
          0.09266570832896848,
          0.09265942156695295,
          0.09264669369751947,
          0.01706400261040474,
          0.01704116670584776,
          0.017017408948728826,
          0.016992757565128757,
          0.016967240843183986,
          0.01694088705341944,
          0.016913724405846275,
          0.016885780983207078,
          0.016857084691138145,
          0.016827663217527603,
          0.0167975439785598,
          0.016766754074898773,
          0.01673532026386548,
          0.01670326892194557,
          0.016670626005335823,
          0.016637417034589617,
          0.016603667058051365,
          0.016569400640371285,
          0.01653464183819906,
          0.016499414182184566,
          0.01646374066742863,
          0.016427643750194548,
          0.01639114531792645,
          0.016354266704277746,
          0.016317028675972938,
          0.01627945142639417,
          0.016241554587799367,
          0.016203357217567698,
          0.016164877806670412,
          0.016126134286846325,
          0.016087144032686868
         ]
        },
        {
         "hovertemplate": "Frequency: %{x:.3f}<br>Log Dec: %{y:.3f}",
         "legendgroup": "mean3",
         "line": {
          "color": "#FB0D0D",
          "width": 3
         },
         "name": "Mean - Mode 4",
         "opacity": 1.0,
         "type": "scatter",
         "x": [
          0.0,
          20.0,
          40.0,
          60.0,
          80.0,
          100.0,
          120.0,
          140.0,
          160.0,
          180.0,
          200.0,
          220.0,
          240.0,
          260.0,
          280.0,
          300.0,
          320.0,
          340.0,
          360.0,
          380.0,
          400.0,
          420.0,
          440.0,
          460.0,
          480.0,
          500.0,
          520.0,
          540.0,
          560.0,
          580.0,
          600.0
         ],
         "y": [
          0.03787248927511924,
          0.03779902903670716,
          0.03772456734269436,
          0.03764914656328931,
          0.037572808143070374,
          0.03749559259199133,
          0.03741753947770463,
          0.03733868742056426,
          0.03725907409759882,
          0.03717873623809029,
          0.03709770962879878,
          0.03701602911966269,
          0.036933728628422015,
          0.03685084115152768,
          0.03676739877094916,
          0.036683432667204315,
          0.03659897313058079,
          0.03651404957272542,
          0.0364286905443973,
          0.03634292374527641,
          0.03625677604322815,
          0.03617027348850121,
          0.03608344132880685,
          0.03599630402875391,
          0.0359088852852737,
          0.0358212080451522,
          0.0357332945207609,
          0.0356451662112844,
          0.035556843917160096,
          0.035468347758220664,
          0.03537969719238716
         ]
        },
        {
         "fill": "toself",
         "fillcolor": "#FB0D0D",
         "hoverinfo": "none",
         "legendgroup": "conf30",
         "line": {
          "color": "#FB0D0D",
          "width": 1
         },
         "name": "confidence interval: 95% - Mode 4",
         "opacity": 0.3,
         "type": "scatter",
         "x": [
          0.0,
          20.0,
          40.0,
          60.0,
          80.0,
          100.0,
          120.0,
          140.0,
          160.0,
          180.0,
          200.0,
          220.0,
          240.0,
          260.0,
          280.0,
          300.0,
          320.0,
          340.0,
          360.0,
          380.0,
          400.0,
          420.0,
          440.0,
          460.0,
          480.0,
          500.0,
          520.0,
          540.0,
          560.0,
          580.0,
          600.0,
          600.0,
          580.0,
          560.0,
          540.0,
          520.0,
          500.0,
          480.0,
          460.0,
          440.0,
          420.0,
          400.0,
          380.0,
          360.0,
          340.0,
          320.0,
          300.0,
          280.0,
          260.0,
          240.0,
          220.0,
          200.0,
          180.0,
          160.0,
          140.0,
          120.0,
          100.0,
          80.0,
          60.0,
          40.0,
          20.0,
          0.0
         ],
         "y": [
          0.0905891402627694,
          0.09045008168213994,
          0.09030767794753189,
          0.09016203801713277,
          0.09001326941250411,
          0.08986147814256612,
          0.08970676859801804,
          0.08954924351641855,
          0.08938900389838196,
          0.08922614896247648,
          0.08906077610824602,
          0.08889298086445487,
          0.08872285687184374,
          0.08855049584730676,
          0.0883759875721611,
          0.08819941987769563,
          0.08802087863642362,
          0.0878404477573916,
          0.0876582091911118,
          0.08747424293123716,
          0.08728862702584306,
          0.08710143758659651,
          0.08691274880567558,
          0.08672263297952912,
          0.08653116051788651,
          0.08633839997605004,
          0.08614441807786573,
          0.08594927973769416,
          0.08575304809534094,
          0.08555578453690023,
          0.08535754874069121,
          0.014868597769754313,
          0.014909291325211084,
          0.014950048619347006,
          0.014990864277362386,
          0.01503173266685194,
          0.015072647915243593,
          0.015113603876505602,
          0.015154594138261696,
          0.015195612005532367,
          0.015236650484326793,
          0.015277702280755607,
          0.015318759790958182,
          0.015359815084148937,
          0.015400859887578503,
          0.015441885591450577,
          0.01548288321922186,
          0.015523843431341226,
          0.01556475650047796,
          0.01560561230844055,
          0.015646400334151423,
          0.015687109638810547,
          0.015727728844605167,
          0.01576824614812971,
          0.01580864928345302,
          0.01584892552133723,
          0.0158890616616353,
          0.01592904400830093,
          0.015968858374540002,
          0.01600849006579388,
          0.016047923866254848,
          0.016087144032579416
         ]
        },
        {
         "hovertemplate": "Frequency: %{x:.3f}<br>Log Dec: %{y:.3f}",
         "legendgroup": "mean4",
         "line": {
          "color": "#DA16FF",
          "width": 3
         },
         "name": "Mean - Mode 5",
         "opacity": 1.0,
         "type": "scatter",
         "x": [
          0.0,
          20.0,
          40.0,
          60.0,
          80.0,
          100.0,
          120.0,
          140.0,
          160.0,
          180.0,
          200.0,
          220.0,
          240.0,
          260.0,
          280.0,
          300.0,
          320.0,
          340.0,
          360.0,
          380.0,
          400.0,
          420.0,
          440.0,
          460.0,
          480.0,
          500.0,
          520.0,
          540.0,
          560.0,
          580.0,
          600.0
         ],
         "y": [
          0.1055531481939184,
          0.10415576052814235,
          0.10276649797774474,
          0.10138667802856047,
          0.10001754790760348,
          0.09866028185355662,
          0.09731597916437414,
          0.09598566298117478,
          0.09467027977049793,
          0.09337069945279261,
          0.09208771610334283,
          0.09082204918346072,
          0.08957434523589541,
          0.08834517996543155,
          0.08713506067108763,
          0.08594442893744958,
          0.08477366356496174,
          0.083623083649718,
          0.08249295178947756,
          0.08138347735981952,
          0.08029481982144519,
          0.07922709202223001,
          0.0781803634644924,
          0.07715466350914692,
          0.07614998449304529,
          0.07516628474444827,
          0.07420349147605682,
          0.07326150354895852,
          0.0723401940928255,
          0.0714394129870526,
          0.07055898918914831
         ]
        },
        {
         "fill": "toself",
         "fillcolor": "#DA16FF",
         "hoverinfo": "none",
         "legendgroup": "conf40",
         "line": {
          "color": "#DA16FF",
          "width": 1
         },
         "name": "confidence interval: 95% - Mode 5",
         "opacity": 0.3,
         "type": "scatter",
         "x": [
          0.0,
          20.0,
          40.0,
          60.0,
          80.0,
          100.0,
          120.0,
          140.0,
          160.0,
          180.0,
          200.0,
          220.0,
          240.0,
          260.0,
          280.0,
          300.0,
          320.0,
          340.0,
          360.0,
          380.0,
          400.0,
          420.0,
          440.0,
          460.0,
          480.0,
          500.0,
          520.0,
          540.0,
          560.0,
          580.0,
          600.0,
          600.0,
          580.0,
          560.0,
          540.0,
          520.0,
          500.0,
          480.0,
          460.0,
          440.0,
          420.0,
          400.0,
          380.0,
          360.0,
          340.0,
          320.0,
          300.0,
          280.0,
          260.0,
          240.0,
          220.0,
          200.0,
          180.0,
          160.0,
          140.0,
          120.0,
          100.0,
          80.0,
          60.0,
          40.0,
          20.0,
          0.0
         ],
         "y": [
          0.20086852982937875,
          0.19894751668094895,
          0.19696335440791377,
          0.19497345812389277,
          0.19297996806384182,
          0.1909849986929646,
          0.18899062958059834,
          0.18699889685789586,
          0.18501178543530283,
          0.18303122188374307,
          0.18105906816500492,
          0.17909711608538245,
          0.1771470826421381,
          0.17521060606375202,
          0.17328924269099824,
          0.1713844646272635,
          0.1694976580395615,
          0.16763012217568987,
          0.16578306900836892,
          0.16395762343551132,
          0.16215482400609635,
          0.16037562410358713,
          0.15862089357052503,
          0.15689142062114725,
          0.1551879141201735,
          0.15351100606919893,
          0.15186125429137104,
          0.15023914532791943,
          0.1486450973553029,
          0.14707946325692556,
          0.14554253372603848,
          0.03501178504571749,
          0.035516960898156785,
          0.036035825048759525,
          0.036568669336031076,
          0.037115784499236616,
          0.03767745884711993,
          0.03825397680113478,
          0.03884561723815838,
          0.03945265166580856,
          0.0400753421914231,
          0.04071393927260987,
          0.04136867933286004,
          0.04203978204437518,
          0.042727447529885956,
          0.04343185326894443,
          0.04415315083058063,
          0.04489146242909185,
          0.045646877282833745,
          0.04641944781510448,
          0.04720918574630421,
          0.04801605807880862,
          0.048839983028034266,
          0.04967197545902193,
          0.05051637642126323,
          0.05137633998051406,
          0.05225150951497732,
          0.05314146168907408,
          0.05404570376543524,
          0.05496367142272468,
          0.05589472698425339,
          0.05683815837792596
         ]
        },
        {
         "hovertemplate": "Frequency: %{x:.3f}<br>Log Dec: %{y:.3f}",
         "legendgroup": "mean5",
         "line": {
          "color": "#222A2A",
          "width": 3
         },
         "name": "Mean - Mode 6",
         "opacity": 1.0,
         "type": "scatter",
         "x": [
          0.0,
          20.0,
          40.0,
          60.0,
          80.0,
          100.0,
          120.0,
          140.0,
          160.0,
          180.0,
          200.0,
          220.0,
          240.0,
          260.0,
          280.0,
          300.0,
          320.0,
          340.0,
          360.0,
          380.0,
          400.0,
          420.0,
          440.0,
          460.0,
          480.0,
          500.0,
          520.0,
          540.0,
          560.0,
          580.0,
          600.0
         ],
         "y": [
          0.10555314819276516,
          0.10695727677348894,
          0.1083666997133192,
          0.10977991329283666,
          0.11119536263253355,
          0.11261144847890309,
          0.11402653473082129,
          0.11543895665388028,
          0.11684702968398492,
          0.11824905873956454,
          0.11964334793857474,
          0.121028210582572,
          0.12240197928298867,
          0.12376301610089363,
          0.1251097225362034,
          0.12644054924498802,
          0.12775400531584855,
          0.1290486670060558,
          0.130323185780035,
          0.1315762955610331,
          0.13280681909197686,
          0.13401367333345907,
          0.13519587384544354,
          0.13635253810745643,
          0.13748288777991755,
          0.13858624990094046,
          0.13966205705170398,
          0.14070984653457863,
          0.14172925863308183,
          0.1427200340073331,
          0.14368201033581793
         ]
        },
        {
         "fill": "toself",
         "fillcolor": "#222A2A",
         "hoverinfo": "none",
         "legendgroup": "conf50",
         "line": {
          "color": "#222A2A",
          "width": 1
         },
         "name": "confidence interval: 95% - Mode 6",
         "opacity": 0.3,
         "type": "scatter",
         "x": [
          0.0,
          20.0,
          40.0,
          60.0,
          80.0,
          100.0,
          120.0,
          140.0,
          160.0,
          180.0,
          200.0,
          220.0,
          240.0,
          260.0,
          280.0,
          300.0,
          320.0,
          340.0,
          360.0,
          380.0,
          400.0,
          420.0,
          440.0,
          460.0,
          480.0,
          500.0,
          520.0,
          540.0,
          560.0,
          580.0,
          600.0,
          600.0,
          580.0,
          560.0,
          540.0,
          520.0,
          500.0,
          480.0,
          460.0,
          440.0,
          420.0,
          400.0,
          380.0,
          360.0,
          340.0,
          320.0,
          300.0,
          280.0,
          260.0,
          240.0,
          220.0,
          200.0,
          180.0,
          160.0,
          140.0,
          120.0,
          100.0,
          80.0,
          60.0,
          40.0,
          20.0,
          0.0
         ],
         "y": [
          0.2008685298244931,
          0.20269549444968157,
          0.20450824252060604,
          0.20630483887259912,
          0.20808338428278617,
          0.20984202488706272,
          0.21157896140913698,
          0.213292457979168,
          0.21498085057210478,
          0.2166425548107618,
          0.21827607318692815,
          0.21988000153297885,
          0.22145303472470138,
          0.2229939714597941,
          0.22450171824515044,
          0.22597529242867984,
          0.2274138242734706,
          0.22881655819502114,
          0.230182852953056,
          0.23151218115059077,
          0.23280412777259513,
          0.23405838794460618,
          0.23527476409723855,
          0.2364531623190573,
          0.23759358826405214,
          0.23869614252445928,
          0.23976101552583406,
          0.24078848219626073,
          0.24177889626807253,
          0.24273268447329333,
          0.24365034057314236,
          0.08527794222607293,
          0.0844984395226955,
          0.08369882045389195,
          0.08287949953473299,
          0.0820409799644733,
          0.08118385455726025,
          0.08030880585372892,
          0.07941660513780321,
          0.07850811051012943,
          0.07758426383526223,
          0.07664608668045984,
          0.07569467516390786,
          0.07473119386343108,
          0.07375686877486841,
          0.07277297943511143,
          0.07178085036493813,
          0.07078184188224504,
          0.06977734053133187,
          0.06876874921439992,
          0.06775747720562711,
          0.06674493023466102,
          0.0657325007850951,
          0.06472155872560713,
          0.06371344251904597,
          0.06270945099752252,
          0.06171083588395203,
          0.06071879517153236,
          0.05973446736412349,
          0.05875892657810302,
          0.05779317870555476,
          0.05683815838227939
         ]
        }
       ],
       "layout": {
        "height": 700,
        "template": {
         "data": {
          "bar": [
           {
            "error_x": {
             "color": "#2a3f5f"
            },
            "error_y": {
             "color": "#2a3f5f"
            },
            "marker": {
             "line": {
              "color": "white",
              "width": 0.5
             }
            },
            "type": "bar"
           }
          ],
          "barpolar": [
           {
            "marker": {
             "line": {
              "color": "white",
              "width": 0.5
             }
            },
            "type": "barpolar"
           }
          ],
          "carpet": [
           {
            "aaxis": {
             "endlinecolor": "#2a3f5f",
             "gridcolor": "#C8D4E3",
             "linecolor": "#C8D4E3",
             "minorgridcolor": "#C8D4E3",
             "startlinecolor": "#2a3f5f"
            },
            "baxis": {
             "endlinecolor": "#2a3f5f",
             "gridcolor": "#C8D4E3",
             "linecolor": "#C8D4E3",
             "minorgridcolor": "#C8D4E3",
             "startlinecolor": "#2a3f5f"
            },
            "type": "carpet"
           }
          ],
          "choropleth": [
           {
            "colorbar": {
             "outlinewidth": 0,
             "ticks": ""
            },
            "type": "choropleth"
           }
          ],
          "contour": [
           {
            "colorbar": {
             "outlinewidth": 0,
             "ticks": ""
            },
            "colorscale": [
             [
              0.0,
              "#0d0887"
             ],
             [
              0.1111111111111111,
              "#46039f"
             ],
             [
              0.2222222222222222,
              "#7201a8"
             ],
             [
              0.3333333333333333,
              "#9c179e"
             ],
             [
              0.4444444444444444,
              "#bd3786"
             ],
             [
              0.5555555555555556,
              "#d8576b"
             ],
             [
              0.6666666666666666,
              "#ed7953"
             ],
             [
              0.7777777777777778,
              "#fb9f3a"
             ],
             [
              0.8888888888888888,
              "#fdca26"
             ],
             [
              1.0,
              "#f0f921"
             ]
            ],
            "type": "contour"
           }
          ],
          "contourcarpet": [
           {
            "colorbar": {
             "outlinewidth": 0,
             "ticks": ""
            },
            "type": "contourcarpet"
           }
          ],
          "heatmap": [
           {
            "colorbar": {
             "outlinewidth": 0,
             "ticks": ""
            },
            "colorscale": [
             [
              0.0,
              "#0d0887"
             ],
             [
              0.1111111111111111,
              "#46039f"
             ],
             [
              0.2222222222222222,
              "#7201a8"
             ],
             [
              0.3333333333333333,
              "#9c179e"
             ],
             [
              0.4444444444444444,
              "#bd3786"
             ],
             [
              0.5555555555555556,
              "#d8576b"
             ],
             [
              0.6666666666666666,
              "#ed7953"
             ],
             [
              0.7777777777777778,
              "#fb9f3a"
             ],
             [
              0.8888888888888888,
              "#fdca26"
             ],
             [
              1.0,
              "#f0f921"
             ]
            ],
            "type": "heatmap"
           }
          ],
          "heatmapgl": [
           {
            "colorbar": {
             "outlinewidth": 0,
             "ticks": ""
            },
            "colorscale": [
             [
              0.0,
              "#0d0887"
             ],
             [
              0.1111111111111111,
              "#46039f"
             ],
             [
              0.2222222222222222,
              "#7201a8"
             ],
             [
              0.3333333333333333,
              "#9c179e"
             ],
             [
              0.4444444444444444,
              "#bd3786"
             ],
             [
              0.5555555555555556,
              "#d8576b"
             ],
             [
              0.6666666666666666,
              "#ed7953"
             ],
             [
              0.7777777777777778,
              "#fb9f3a"
             ],
             [
              0.8888888888888888,
              "#fdca26"
             ],
             [
              1.0,
              "#f0f921"
             ]
            ],
            "type": "heatmapgl"
           }
          ],
          "histogram": [
           {
            "marker": {
             "colorbar": {
              "outlinewidth": 0,
              "ticks": ""
             }
            },
            "type": "histogram"
           }
          ],
          "histogram2d": [
           {
            "colorbar": {
             "outlinewidth": 0,
             "ticks": ""
            },
            "colorscale": [
             [
              0.0,
              "#0d0887"
             ],
             [
              0.1111111111111111,
              "#46039f"
             ],
             [
              0.2222222222222222,
              "#7201a8"
             ],
             [
              0.3333333333333333,
              "#9c179e"
             ],
             [
              0.4444444444444444,
              "#bd3786"
             ],
             [
              0.5555555555555556,
              "#d8576b"
             ],
             [
              0.6666666666666666,
              "#ed7953"
             ],
             [
              0.7777777777777778,
              "#fb9f3a"
             ],
             [
              0.8888888888888888,
              "#fdca26"
             ],
             [
              1.0,
              "#f0f921"
             ]
            ],
            "type": "histogram2d"
           }
          ],
          "histogram2dcontour": [
           {
            "colorbar": {
             "outlinewidth": 0,
             "ticks": ""
            },
            "colorscale": [
             [
              0.0,
              "#0d0887"
             ],
             [
              0.1111111111111111,
              "#46039f"
             ],
             [
              0.2222222222222222,
              "#7201a8"
             ],
             [
              0.3333333333333333,
              "#9c179e"
             ],
             [
              0.4444444444444444,
              "#bd3786"
             ],
             [
              0.5555555555555556,
              "#d8576b"
             ],
             [
              0.6666666666666666,
              "#ed7953"
             ],
             [
              0.7777777777777778,
              "#fb9f3a"
             ],
             [
              0.8888888888888888,
              "#fdca26"
             ],
             [
              1.0,
              "#f0f921"
             ]
            ],
            "type": "histogram2dcontour"
           }
          ],
          "mesh3d": [
           {
            "colorbar": {
             "outlinewidth": 0,
             "ticks": ""
            },
            "type": "mesh3d"
           }
          ],
          "parcoords": [
           {
            "line": {
             "colorbar": {
              "outlinewidth": 0,
              "ticks": ""
             }
            },
            "type": "parcoords"
           }
          ],
          "pie": [
           {
            "automargin": true,
            "type": "pie"
           }
          ],
          "scatter": [
           {
            "marker": {
             "colorbar": {
              "outlinewidth": 0,
              "ticks": ""
             }
            },
            "type": "scatter"
           }
          ],
          "scatter3d": [
           {
            "line": {
             "colorbar": {
              "outlinewidth": 0,
              "ticks": ""
             }
            },
            "marker": {
             "colorbar": {
              "outlinewidth": 0,
              "ticks": ""
             },
             "size": 4
            },
            "type": "scatter3d"
           }
          ],
          "scattercarpet": [
           {
            "marker": {
             "colorbar": {
              "outlinewidth": 0,
              "ticks": ""
             }
            },
            "type": "scattercarpet"
           }
          ],
          "scattergeo": [
           {
            "marker": {
             "colorbar": {
              "outlinewidth": 0,
              "ticks": ""
             }
            },
            "type": "scattergeo"
           }
          ],
          "scattergl": [
           {
            "marker": {
             "colorbar": {
              "outlinewidth": 0,
              "ticks": ""
             }
            },
            "type": "scattergl"
           }
          ],
          "scattermapbox": [
           {
            "marker": {
             "colorbar": {
              "outlinewidth": 0,
              "ticks": ""
             }
            },
            "type": "scattermapbox"
           }
          ],
          "scatterpolar": [
           {
            "marker": {
             "colorbar": {
              "outlinewidth": 0,
              "ticks": ""
             }
            },
            "type": "scatterpolar"
           }
          ],
          "scatterpolargl": [
           {
            "marker": {
             "colorbar": {
              "outlinewidth": 0,
              "ticks": ""
             }
            },
            "type": "scatterpolargl"
           }
          ],
          "scatterternary": [
           {
            "marker": {
             "colorbar": {
              "outlinewidth": 0,
              "ticks": ""
             }
            },
            "type": "scatterternary"
           }
          ],
          "surface": [
           {
            "colorbar": {
             "outlinewidth": 0,
             "ticks": ""
            },
            "colorscale": [
             [
              0.0,
              "#0d0887"
             ],
             [
              0.1111111111111111,
              "#46039f"
             ],
             [
              0.2222222222222222,
              "#7201a8"
             ],
             [
              0.3333333333333333,
              "#9c179e"
             ],
             [
              0.4444444444444444,
              "#bd3786"
             ],
             [
              0.5555555555555556,
              "#d8576b"
             ],
             [
              0.6666666666666666,
              "#ed7953"
             ],
             [
              0.7777777777777778,
              "#fb9f3a"
             ],
             [
              0.8888888888888888,
              "#fdca26"
             ],
             [
              1.0,
              "#f0f921"
             ]
            ],
            "type": "surface"
           }
          ],
          "table": [
           {
            "cells": {
             "fill": {
              "color": "#EBF0F8"
             },
             "line": {
              "color": "white"
             }
            },
            "header": {
             "fill": {
              "color": "#C8D4E3"
             },
             "line": {
              "color": "white"
             }
            },
            "type": "table"
           }
          ]
         },
         "layout": {
          "annotationdefaults": {
           "arrowcolor": "#2a3f5f",
           "arrowhead": 0,
           "arrowwidth": 1
          },
          "coloraxis": {
           "colorbar": {
            "outlinewidth": 0,
            "ticks": ""
           }
          },
          "colorscale": {
           "diverging": [
            [
             0,
             "#8e0152"
            ],
            [
             0.1,
             "#c51b7d"
            ],
            [
             0.2,
             "#de77ae"
            ],
            [
             0.3,
             "#f1b6da"
            ],
            [
             0.4,
             "#fde0ef"
            ],
            [
             0.5,
             "#f7f7f7"
            ],
            [
             0.6,
             "#e6f5d0"
            ],
            [
             0.7,
             "#b8e186"
            ],
            [
             0.8,
             "#7fbc41"
            ],
            [
             0.9,
             "#4d9221"
            ],
            [
             1,
             "#276419"
            ]
           ],
           "sequential": [
            [
             0.0,
             "#0d0887"
            ],
            [
             0.1111111111111111,
             "#46039f"
            ],
            [
             0.2222222222222222,
             "#7201a8"
            ],
            [
             0.3333333333333333,
             "#9c179e"
            ],
            [
             0.4444444444444444,
             "#bd3786"
            ],
            [
             0.5555555555555556,
             "#d8576b"
            ],
            [
             0.6666666666666666,
             "#ed7953"
            ],
            [
             0.7777777777777778,
             "#fb9f3a"
            ],
            [
             0.8888888888888888,
             "#fdca26"
            ],
            [
             1.0,
             "#f0f921"
            ]
           ],
           "sequentialminus": [
            [
             0.0,
             "#0d0887"
            ],
            [
             0.1111111111111111,
             "#46039f"
            ],
            [
             0.2222222222222222,
             "#7201a8"
            ],
            [
             0.3333333333333333,
             "#9c179e"
            ],
            [
             0.4444444444444444,
             "#bd3786"
            ],
            [
             0.5555555555555556,
             "#d8576b"
            ],
            [
             0.6666666666666666,
             "#ed7953"
            ],
            [
             0.7777777777777778,
             "#fb9f3a"
            ],
            [
             0.8888888888888888,
             "#fdca26"
            ],
            [
             1.0,
             "#f0f921"
            ]
           ]
          },
          "colorway": [
           "#1f77b4",
           "#ff7f0e",
           "#2ca02c",
           "#d62728",
           "#9467bd",
           "#8c564b",
           "#e377c2",
           "#7f7f7f",
           "#bcbd22",
           "#17becf"
          ],
          "font": {
           "color": "#2a3f5f"
          },
          "geo": {
           "bgcolor": "white",
           "lakecolor": "white",
           "landcolor": "white",
           "showlakes": true,
           "showland": true,
           "subunitcolor": "#C8D4E3"
          },
          "hoverlabel": {
           "align": "left"
          },
          "hovermode": "closest",
          "mapbox": {
           "style": "light"
          },
          "paper_bgcolor": "white",
          "plot_bgcolor": "white",
          "polar": {
           "angularaxis": {
            "gridcolor": "#EBF0F8",
            "linecolor": "#EBF0F8",
            "ticks": ""
           },
           "bgcolor": "white",
           "radialaxis": {
            "gridcolor": "#EBF0F8",
            "linecolor": "#EBF0F8",
            "ticks": ""
           }
          },
          "scene": {
           "camera": {
            "center": {
             "x": 0,
             "y": 0,
             "z": 0
            },
            "eye": {
             "x": 2.0,
             "y": 2.0,
             "z": 2.0
            },
            "up": {
             "x": 0,
             "y": 0,
             "z": 1
            }
           },
           "xaxis": {
            "backgroundcolor": "white",
            "gridcolor": "#DFE8F3",
            "gridwidth": 2,
            "linecolor": "#EBF0F8",
            "showbackground": true,
            "showspikes": false,
            "ticks": "",
            "zerolinecolor": "#EBF0F8"
           },
           "yaxis": {
            "backgroundcolor": "white",
            "gridcolor": "#DFE8F3",
            "gridwidth": 2,
            "linecolor": "#EBF0F8",
            "showbackground": true,
            "showspikes": false,
            "ticks": "",
            "zerolinecolor": "#EBF0F8"
           },
           "zaxis": {
            "backgroundcolor": "white",
            "gridcolor": "#DFE8F3",
            "gridwidth": 2,
            "linecolor": "#EBF0F8",
            "showbackground": true,
            "showspikes": false,
            "ticks": "",
            "zerolinecolor": "#EBF0F8"
           }
          },
          "shapedefaults": {
           "line": {
            "color": "#2a3f5f"
           }
          },
          "ternary": {
           "aaxis": {
            "gridcolor": "#DFE8F3",
            "linecolor": "#A2B1C6",
            "ticks": ""
           },
           "baxis": {
            "gridcolor": "#DFE8F3",
            "linecolor": "#A2B1C6",
            "ticks": ""
           },
           "bgcolor": "white",
           "caxis": {
            "gridcolor": "#DFE8F3",
            "linecolor": "#A2B1C6",
            "ticks": ""
           }
          },
          "title": {
           "x": 0.05
          },
          "xaxis": {
           "automargin": true,
           "gridcolor": "#EBF0F8",
           "linecolor": "black",
           "linewidth": 2.0,
           "mirror": true,
           "showline": true,
           "ticks": "",
           "title": {
            "standoff": 15
           },
           "zeroline": false,
           "zerolinecolor": "#EBF0F8",
           "zerolinewidth": 2
          },
          "yaxis": {
           "automargin": true,
           "gridcolor": "#EBF0F8",
           "linecolor": "black",
           "linewidth": 2.0,
           "mirror": true,
           "showline": true,
           "ticks": "",
           "title": {
            "standoff": 15
           },
           "zeroline": false,
           "zerolinecolor": "#EBF0F8",
           "zerolinewidth": 2
          }
         }
        },
        "width": 950,
        "xaxis": {
         "exponentformat": "none",
         "range": [
          0.0,
          600.0
         ],
         "title": {
          "text": "Frequency (rad/s)"
         }
        },
        "yaxis": {
         "title": {
          "text": "Logarithmic decrement"
         }
        }
       }
      }
     },
     "metadata": {},
     "output_type": "display_data"
    }
   ],
   "source": [
    "# choose the desirable percentiles or confidence intervals\n",
    "camp.plot_log_dec(conf_interval=[95], width=950, height=700)"
   ]
  },
  {
   "cell_type": "markdown",
   "metadata": {},
   "source": [
    "## References\n",
    "\n",
    "```{bibliography}\n",
    ":filter: docname in docnames\n",
    "```"
   ]
  }
 ],
 "metadata": {
  "kernelspec": {
   "display_name": "Python 3 (ipykernel)",
   "language": "python",
   "name": "python3"
  },
  "language_info": {
   "codemirror_mode": {
    "name": "ipython",
    "version": 3
   },
   "file_extension": ".py",
   "mimetype": "text/x-python",
   "name": "python",
   "nbconvert_exporter": "python",
   "pygments_lexer": "ipython3",
   "version": "3.10.9"
  }
 },
 "nbformat": 4,
 "nbformat_minor": 2
}
