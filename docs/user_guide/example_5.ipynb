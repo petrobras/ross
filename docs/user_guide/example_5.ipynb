{
 "cells": [
  {
   "cell_type": "markdown",
   "metadata": {},
   "source": [
    "Example 5 - Cross-coupled bearings.\n",
    "=====\n",
    "In this example, we use the rotor seen in Example 5.9.4 from {cite}`friswell2010dynamics`.\n",
    "\n",
    "This system is the same as that of\n",
    "Example 3, except that some coupling is introduced in the bearings between the x and y directions. The bearings have direct stiffnesses of $1 MN/m$ and cross-coupling stiffnesses of $0.5 MN/m$."
   ]
  },
  {
   "cell_type": "code",
   "execution_count": 1,
   "metadata": {
    "execution": {
     "iopub.execute_input": "2023-05-04T01:03:33.332905Z",
     "iopub.status.busy": "2023-05-04T01:03:33.332505Z",
     "iopub.status.idle": "2023-05-04T01:03:34.342178Z",
     "shell.execute_reply": "2023-05-04T01:03:34.341694Z"
    }
   },
   "outputs": [],
   "source": [
    "import ross as rs\n",
    "import numpy as np"
   ]
  },
  {
   "cell_type": "code",
   "execution_count": 2,
   "metadata": {
    "execution": {
     "iopub.execute_input": "2023-05-04T01:03:34.344537Z",
     "iopub.status.busy": "2023-05-04T01:03:34.344324Z",
     "iopub.status.idle": "2023-05-04T01:03:34.552467Z",
     "shell.execute_reply": "2023-05-04T01:03:34.552028Z"
    },
    "scrolled": false
   },
   "outputs": [
    {
     "data": {
      "application/vnd.plotly.v1+json": {
       "config": {
        "plotlyServerURL": "https://plot.ly"
       },
       "data": [
        {
         "hoverinfo": "none",
         "line": {
          "color": "black",
          "dash": "dashdot",
          "width": 3.0
         },
         "mode": "lines",
         "opacity": 0.7,
         "showlegend": false,
         "type": "scatter",
         "x": [
          -0.30000000000000004,
          1.7999999999999998
         ],
         "y": [
          0,
          0
         ]
        },
        {
         "hoverinfo": "none",
         "marker": {
          "color": "#ffcc99",
          "line": {
           "color": "black",
           "width": 1.0
          },
          "opacity": 0.7,
          "size": 20
         },
         "mode": "markers+text",
         "showlegend": false,
         "text": [
          "0",
          "1",
          "2",
          "3",
          "4",
          "5",
          "6"
         ],
         "type": "scatter",
         "x": [
          0.0,
          0.25,
          0.5,
          0.75,
          1.0,
          1.25,
          1.5
         ],
         "y": [
          0.0,
          0.0,
          0.0,
          0.0,
          0.0,
          0.0,
          0.0
         ]
        },
        {
         "customdata": [
          [
           0,
           0.05,
           0.0,
           0.05,
           0.0,
           0.25,
           "Steel"
          ],
          [
           0,
           0.05,
           0.0,
           0.05,
           0.0,
           0.25,
           "Steel"
          ],
          [
           0,
           0.05,
           0.0,
           0.05,
           0.0,
           0.25,
           "Steel"
          ],
          [
           0,
           0.05,
           0.0,
           0.05,
           0.0,
           0.25,
           "Steel"
          ],
          [
           0,
           0.05,
           0.0,
           0.05,
           0.0,
           0.25,
           "Steel"
          ],
          [
           0,
           0.05,
           0.0,
           0.05,
           0.0,
           0.25,
           "Steel"
          ],
          [
           0,
           0.05,
           0.0,
           0.05,
           0.0,
           0.25,
           "Steel"
          ],
          [
           0,
           0.05,
           0.0,
           0.05,
           0.0,
           0.25,
           "Steel"
          ],
          [
           0,
           0.05,
           0.0,
           0.05,
           0.0,
           0.25,
           "Steel"
          ],
          [
           0,
           0.05,
           0.0,
           0.05,
           0.0,
           0.25,
           "Steel"
          ]
         ],
         "fill": "toself",
         "fillcolor": "#525252",
         "hoverinfo": "text",
         "hoverlabel": {
          "bgcolor": "#525252"
         },
         "hoveron": "points+fills",
         "hovertemplate": "Element Number: 0<br>Left Outer Diameter: 0.05 m<br>Left Inner Diameter: 0.0 m<br>Right Outer Diameter: 0.05 m<br>Right Inner Diameter: 0.0 m<br>Element Length: 0.25 m<br>Material: Steel<br>",
         "legendgroup": "Shaft",
         "line": {
          "color": "black",
          "width": 1.5
         },
         "mode": "lines",
         "name": "ShaftElement 0",
         "opacity": 0.5,
         "showlegend": false,
         "text": "Element Number: 0<br>Left Outer Diameter: 0.05 m<br>Left Inner Diameter: 0.0 m<br>Right Outer Diameter: 0.05 m<br>Right Inner Diameter: 0.0 m<br>Element Length: 0.25 m<br>Material: Steel<br>",
         "type": "scatter",
         "x": [
          0.0,
          0.0,
          0.25,
          0.25,
          0.0,
          0.0,
          0.0,
          0.25,
          0.25,
          0.0
         ],
         "y": [
          0.0,
          0.025,
          0.025,
          0.0,
          0.0,
          -0.0,
          -0.025,
          -0.025,
          -0.0,
          -0.0
         ]
        },
        {
         "customdata": [
          [
           1,
           0.05,
           0.0,
           0.05,
           0.0,
           0.25,
           "Steel"
          ],
          [
           1,
           0.05,
           0.0,
           0.05,
           0.0,
           0.25,
           "Steel"
          ],
          [
           1,
           0.05,
           0.0,
           0.05,
           0.0,
           0.25,
           "Steel"
          ],
          [
           1,
           0.05,
           0.0,
           0.05,
           0.0,
           0.25,
           "Steel"
          ],
          [
           1,
           0.05,
           0.0,
           0.05,
           0.0,
           0.25,
           "Steel"
          ],
          [
           1,
           0.05,
           0.0,
           0.05,
           0.0,
           0.25,
           "Steel"
          ],
          [
           1,
           0.05,
           0.0,
           0.05,
           0.0,
           0.25,
           "Steel"
          ],
          [
           1,
           0.05,
           0.0,
           0.05,
           0.0,
           0.25,
           "Steel"
          ],
          [
           1,
           0.05,
           0.0,
           0.05,
           0.0,
           0.25,
           "Steel"
          ],
          [
           1,
           0.05,
           0.0,
           0.05,
           0.0,
           0.25,
           "Steel"
          ]
         ],
         "fill": "toself",
         "fillcolor": "#525252",
         "hoverinfo": "text",
         "hoverlabel": {
          "bgcolor": "#525252"
         },
         "hoveron": "points+fills",
         "hovertemplate": "Element Number: 1<br>Left Outer Diameter: 0.05 m<br>Left Inner Diameter: 0.0 m<br>Right Outer Diameter: 0.05 m<br>Right Inner Diameter: 0.0 m<br>Element Length: 0.25 m<br>Material: Steel<br>",
         "legendgroup": "Shaft",
         "line": {
          "color": "black",
          "width": 1.5
         },
         "mode": "lines",
         "name": "ShaftElement 1",
         "opacity": 0.5,
         "showlegend": false,
         "text": "Element Number: 1<br>Left Outer Diameter: 0.05 m<br>Left Inner Diameter: 0.0 m<br>Right Outer Diameter: 0.05 m<br>Right Inner Diameter: 0.0 m<br>Element Length: 0.25 m<br>Material: Steel<br>",
         "type": "scatter",
         "x": [
          0.25,
          0.25,
          0.5,
          0.5,
          0.25,
          0.25,
          0.25,
          0.5,
          0.5,
          0.25
         ],
         "y": [
          0.0,
          0.025,
          0.025,
          0.0,
          0.0,
          -0.0,
          -0.025,
          -0.025,
          -0.0,
          -0.0
         ]
        },
        {
         "customdata": [
          [
           2,
           0.05,
           0.0,
           0.05,
           0.0,
           0.25,
           "Steel"
          ],
          [
           2,
           0.05,
           0.0,
           0.05,
           0.0,
           0.25,
           "Steel"
          ],
          [
           2,
           0.05,
           0.0,
           0.05,
           0.0,
           0.25,
           "Steel"
          ],
          [
           2,
           0.05,
           0.0,
           0.05,
           0.0,
           0.25,
           "Steel"
          ],
          [
           2,
           0.05,
           0.0,
           0.05,
           0.0,
           0.25,
           "Steel"
          ],
          [
           2,
           0.05,
           0.0,
           0.05,
           0.0,
           0.25,
           "Steel"
          ],
          [
           2,
           0.05,
           0.0,
           0.05,
           0.0,
           0.25,
           "Steel"
          ],
          [
           2,
           0.05,
           0.0,
           0.05,
           0.0,
           0.25,
           "Steel"
          ],
          [
           2,
           0.05,
           0.0,
           0.05,
           0.0,
           0.25,
           "Steel"
          ],
          [
           2,
           0.05,
           0.0,
           0.05,
           0.0,
           0.25,
           "Steel"
          ]
         ],
         "fill": "toself",
         "fillcolor": "#525252",
         "hoverinfo": "text",
         "hoverlabel": {
          "bgcolor": "#525252"
         },
         "hoveron": "points+fills",
         "hovertemplate": "Element Number: 2<br>Left Outer Diameter: 0.05 m<br>Left Inner Diameter: 0.0 m<br>Right Outer Diameter: 0.05 m<br>Right Inner Diameter: 0.0 m<br>Element Length: 0.25 m<br>Material: Steel<br>",
         "legendgroup": "Shaft",
         "line": {
          "color": "black",
          "width": 1.5
         },
         "mode": "lines",
         "name": "ShaftElement 2",
         "opacity": 0.5,
         "showlegend": false,
         "text": "Element Number: 2<br>Left Outer Diameter: 0.05 m<br>Left Inner Diameter: 0.0 m<br>Right Outer Diameter: 0.05 m<br>Right Inner Diameter: 0.0 m<br>Element Length: 0.25 m<br>Material: Steel<br>",
         "type": "scatter",
         "x": [
          0.5,
          0.5,
          0.75,
          0.75,
          0.5,
          0.5,
          0.5,
          0.75,
          0.75,
          0.5
         ],
         "y": [
          0.0,
          0.025,
          0.025,
          0.0,
          0.0,
          -0.0,
          -0.025,
          -0.025,
          -0.0,
          -0.0
         ]
        },
        {
         "customdata": [
          [
           3,
           0.05,
           0.0,
           0.05,
           0.0,
           0.25,
           "Steel"
          ],
          [
           3,
           0.05,
           0.0,
           0.05,
           0.0,
           0.25,
           "Steel"
          ],
          [
           3,
           0.05,
           0.0,
           0.05,
           0.0,
           0.25,
           "Steel"
          ],
          [
           3,
           0.05,
           0.0,
           0.05,
           0.0,
           0.25,
           "Steel"
          ],
          [
           3,
           0.05,
           0.0,
           0.05,
           0.0,
           0.25,
           "Steel"
          ],
          [
           3,
           0.05,
           0.0,
           0.05,
           0.0,
           0.25,
           "Steel"
          ],
          [
           3,
           0.05,
           0.0,
           0.05,
           0.0,
           0.25,
           "Steel"
          ],
          [
           3,
           0.05,
           0.0,
           0.05,
           0.0,
           0.25,
           "Steel"
          ],
          [
           3,
           0.05,
           0.0,
           0.05,
           0.0,
           0.25,
           "Steel"
          ],
          [
           3,
           0.05,
           0.0,
           0.05,
           0.0,
           0.25,
           "Steel"
          ]
         ],
         "fill": "toself",
         "fillcolor": "#525252",
         "hoverinfo": "text",
         "hoverlabel": {
          "bgcolor": "#525252"
         },
         "hoveron": "points+fills",
         "hovertemplate": "Element Number: 3<br>Left Outer Diameter: 0.05 m<br>Left Inner Diameter: 0.0 m<br>Right Outer Diameter: 0.05 m<br>Right Inner Diameter: 0.0 m<br>Element Length: 0.25 m<br>Material: Steel<br>",
         "legendgroup": "Shaft",
         "line": {
          "color": "black",
          "width": 1.5
         },
         "mode": "lines",
         "name": "ShaftElement 3",
         "opacity": 0.5,
         "showlegend": false,
         "text": "Element Number: 3<br>Left Outer Diameter: 0.05 m<br>Left Inner Diameter: 0.0 m<br>Right Outer Diameter: 0.05 m<br>Right Inner Diameter: 0.0 m<br>Element Length: 0.25 m<br>Material: Steel<br>",
         "type": "scatter",
         "x": [
          0.75,
          0.75,
          1.0,
          1.0,
          0.75,
          0.75,
          0.75,
          1.0,
          1.0,
          0.75
         ],
         "y": [
          0.0,
          0.025,
          0.025,
          0.0,
          0.0,
          -0.0,
          -0.025,
          -0.025,
          -0.0,
          -0.0
         ]
        },
        {
         "customdata": [
          [
           4,
           0.05,
           0.0,
           0.05,
           0.0,
           0.25,
           "Steel"
          ],
          [
           4,
           0.05,
           0.0,
           0.05,
           0.0,
           0.25,
           "Steel"
          ],
          [
           4,
           0.05,
           0.0,
           0.05,
           0.0,
           0.25,
           "Steel"
          ],
          [
           4,
           0.05,
           0.0,
           0.05,
           0.0,
           0.25,
           "Steel"
          ],
          [
           4,
           0.05,
           0.0,
           0.05,
           0.0,
           0.25,
           "Steel"
          ],
          [
           4,
           0.05,
           0.0,
           0.05,
           0.0,
           0.25,
           "Steel"
          ],
          [
           4,
           0.05,
           0.0,
           0.05,
           0.0,
           0.25,
           "Steel"
          ],
          [
           4,
           0.05,
           0.0,
           0.05,
           0.0,
           0.25,
           "Steel"
          ],
          [
           4,
           0.05,
           0.0,
           0.05,
           0.0,
           0.25,
           "Steel"
          ],
          [
           4,
           0.05,
           0.0,
           0.05,
           0.0,
           0.25,
           "Steel"
          ]
         ],
         "fill": "toself",
         "fillcolor": "#525252",
         "hoverinfo": "text",
         "hoverlabel": {
          "bgcolor": "#525252"
         },
         "hoveron": "points+fills",
         "hovertemplate": "Element Number: 4<br>Left Outer Diameter: 0.05 m<br>Left Inner Diameter: 0.0 m<br>Right Outer Diameter: 0.05 m<br>Right Inner Diameter: 0.0 m<br>Element Length: 0.25 m<br>Material: Steel<br>",
         "legendgroup": "Shaft",
         "line": {
          "color": "black",
          "width": 1.5
         },
         "mode": "lines",
         "name": "ShaftElement 4",
         "opacity": 0.5,
         "showlegend": false,
         "text": "Element Number: 4<br>Left Outer Diameter: 0.05 m<br>Left Inner Diameter: 0.0 m<br>Right Outer Diameter: 0.05 m<br>Right Inner Diameter: 0.0 m<br>Element Length: 0.25 m<br>Material: Steel<br>",
         "type": "scatter",
         "x": [
          1.0,
          1.0,
          1.25,
          1.25,
          1.0,
          1.0,
          1.0,
          1.25,
          1.25,
          1.0
         ],
         "y": [
          0.0,
          0.025,
          0.025,
          0.0,
          0.0,
          -0.0,
          -0.025,
          -0.025,
          -0.0,
          -0.0
         ]
        },
        {
         "customdata": [
          [
           5,
           0.05,
           0.0,
           0.05,
           0.0,
           0.25,
           "Steel"
          ],
          [
           5,
           0.05,
           0.0,
           0.05,
           0.0,
           0.25,
           "Steel"
          ],
          [
           5,
           0.05,
           0.0,
           0.05,
           0.0,
           0.25,
           "Steel"
          ],
          [
           5,
           0.05,
           0.0,
           0.05,
           0.0,
           0.25,
           "Steel"
          ],
          [
           5,
           0.05,
           0.0,
           0.05,
           0.0,
           0.25,
           "Steel"
          ],
          [
           5,
           0.05,
           0.0,
           0.05,
           0.0,
           0.25,
           "Steel"
          ],
          [
           5,
           0.05,
           0.0,
           0.05,
           0.0,
           0.25,
           "Steel"
          ],
          [
           5,
           0.05,
           0.0,
           0.05,
           0.0,
           0.25,
           "Steel"
          ],
          [
           5,
           0.05,
           0.0,
           0.05,
           0.0,
           0.25,
           "Steel"
          ],
          [
           5,
           0.05,
           0.0,
           0.05,
           0.0,
           0.25,
           "Steel"
          ]
         ],
         "fill": "toself",
         "fillcolor": "#525252",
         "hoverinfo": "text",
         "hoverlabel": {
          "bgcolor": "#525252"
         },
         "hoveron": "points+fills",
         "hovertemplate": "Element Number: 5<br>Left Outer Diameter: 0.05 m<br>Left Inner Diameter: 0.0 m<br>Right Outer Diameter: 0.05 m<br>Right Inner Diameter: 0.0 m<br>Element Length: 0.25 m<br>Material: Steel<br>",
         "legendgroup": "Shaft",
         "line": {
          "color": "black",
          "width": 1.5
         },
         "mode": "lines",
         "name": "ShaftElement 5",
         "opacity": 0.5,
         "showlegend": false,
         "text": "Element Number: 5<br>Left Outer Diameter: 0.05 m<br>Left Inner Diameter: 0.0 m<br>Right Outer Diameter: 0.05 m<br>Right Inner Diameter: 0.0 m<br>Element Length: 0.25 m<br>Material: Steel<br>",
         "type": "scatter",
         "x": [
          1.25,
          1.25,
          1.5,
          1.5,
          1.25,
          1.25,
          1.25,
          1.5,
          1.5,
          1.25
         ],
         "y": [
          0.0,
          0.025,
          0.025,
          0.0,
          0.0,
          -0.0,
          -0.025,
          -0.025,
          -0.0,
          -0.0
         ]
        },
        {
         "customdata": [
          [
           2,
           0.32956362089137037,
           0.17808928257067666,
           32.58972765304033
          ],
          [
           2,
           0.32956362089137037,
           0.17808928257067666,
           32.58972765304033
          ],
          [
           2,
           0.32956362089137037,
           0.17808928257067666,
           32.58972765304033
          ],
          [
           2,
           0.32956362089137037,
           0.17808928257067666,
           32.58972765304033
          ],
          [
           2,
           0.32956362089137037,
           0.17808928257067666,
           32.58972765304033
          ],
          [
           2,
           0.32956362089137037,
           0.17808928257067666,
           32.58972765304033
          ],
          [
           2,
           0.32956362089137037,
           0.17808928257067666,
           32.58972765304033
          ],
          [
           2,
           0.32956362089137037,
           0.17808928257067666,
           32.58972765304033
          ],
          [
           2,
           0.32956362089137037,
           0.17808928257067666,
           32.58972765304033
          ]
         ],
         "fill": "toself",
         "fillcolor": "Firebrick",
         "hoverinfo": "text",
         "hoverlabel": {
          "bgcolor": "Firebrick"
         },
         "hoveron": "points+fills",
         "hovertemplate": "Disk Node: 2<br>Polar Inertia: 3.296e-01<br>Diametral Inertia: 1.781e-01<br>Disk mass: 32.590<br>",
         "legendgroup": "disks",
         "line": {
          "color": "Firebrick",
          "width": 2.0
         },
         "mode": "lines",
         "name": "Disk 0",
         "opacity": 0.8,
         "showlegend": false,
         "text": "Disk Node: 2<br>Polar Inertia: 3.296e-01<br>Diametral Inertia: 1.781e-01<br>Disk mass: 32.590<br>",
         "type": "scatter",
         "x": [
          0.5,
          0.502,
          0.498,
          0.5,
          null,
          0.5,
          0.502,
          0.498,
          0.5
         ],
         "y": [
          0.025,
          0.125,
          0.125,
          0.025,
          null,
          -0.025,
          -0.125,
          -0.125,
          -0.025
         ]
        },
        {
         "customdata": [
          [
           4,
           0.8050822048675969,
           0.4235805840543383,
           51.5252611115262
          ],
          [
           4,
           0.8050822048675969,
           0.4235805840543383,
           51.5252611115262
          ],
          [
           4,
           0.8050822048675969,
           0.4235805840543383,
           51.5252611115262
          ],
          [
           4,
           0.8050822048675969,
           0.4235805840543383,
           51.5252611115262
          ],
          [
           4,
           0.8050822048675969,
           0.4235805840543383,
           51.5252611115262
          ],
          [
           4,
           0.8050822048675969,
           0.4235805840543383,
           51.5252611115262
          ],
          [
           4,
           0.8050822048675969,
           0.4235805840543383,
           51.5252611115262
          ],
          [
           4,
           0.8050822048675969,
           0.4235805840543383,
           51.5252611115262
          ],
          [
           4,
           0.8050822048675969,
           0.4235805840543383,
           51.5252611115262
          ]
         ],
         "fill": "toself",
         "fillcolor": "Firebrick",
         "hoverinfo": "text",
         "hoverlabel": {
          "bgcolor": "Firebrick"
         },
         "hoveron": "points+fills",
         "hovertemplate": "Disk Node: 4<br>Polar Inertia: 8.051e-01<br>Diametral Inertia: 4.236e-01<br>Disk mass: 51.525<br>",
         "legendgroup": "disks",
         "line": {
          "color": "Firebrick",
          "width": 2.0
         },
         "mode": "lines",
         "name": "Disk 1",
         "opacity": 0.8,
         "showlegend": false,
         "text": "Disk Node: 4<br>Polar Inertia: 8.051e-01<br>Diametral Inertia: 4.236e-01<br>Disk mass: 51.525<br>",
         "type": "scatter",
         "x": [
          1.0,
          1.002,
          0.998,
          1.0,
          null,
          1.0,
          1.002,
          0.998,
          1.0
         ],
         "y": [
          0.025,
          0.125,
          0.125,
          0.025,
          null,
          -0.025,
          -0.125,
          -0.125,
          -0.025
         ]
        },
        {
         "hoverinfo": "none",
         "legendgroup": "bearings",
         "line": {
          "color": "#355d7a",
          "width": 1
         },
         "mode": "lines",
         "name": "Bearing 0",
         "showlegend": false,
         "type": "scatter",
         "x": [
          0.0,
          0.0,
          -0.007142857142857143,
          0.007142857142857143
         ],
         "y": [
          0.025,
          0.0375,
          0.0375,
          0.0375
         ]
        },
        {
         "hoverinfo": "none",
         "legendgroup": "bearings",
         "line": {
          "color": "#355d7a",
          "width": 1
         },
         "mode": "lines",
         "name": "Bearing 0",
         "showlegend": false,
         "type": "scatter",
         "x": [
          0.0,
          0.0,
          -0.007142857142857143,
          0.007142857142857143
         ],
         "y": [
          -0.025,
          -0.0375,
          -0.0375,
          -0.0375
         ]
        },
        {
         "hoverinfo": "none",
         "legendgroup": "bearings",
         "line": {
          "color": "#355d7a",
          "width": 1
         },
         "mode": "lines",
         "name": "Bearing 0",
         "showlegend": false,
         "type": "scatter",
         "x": [
          0.0,
          0.0,
          -0.007142857142857143,
          0.007142857142857143
         ],
         "y": [
          0.075,
          0.0625,
          0.0625,
          0.0625
         ]
        },
        {
         "hoverinfo": "none",
         "legendgroup": "bearings",
         "line": {
          "color": "#355d7a",
          "width": 1
         },
         "mode": "lines",
         "name": "Bearing 0",
         "showlegend": false,
         "type": "scatter",
         "x": [
          0.0,
          0.0,
          -0.007142857142857143,
          0.007142857142857143
         ],
         "y": [
          -0.075,
          -0.0625,
          -0.0625,
          -0.0625
         ]
        },
        {
         "hoverinfo": "none",
         "legendgroup": "bearings",
         "line": {
          "color": "#355d7a",
          "width": 1
         },
         "mode": "lines",
         "name": "Bearing 0",
         "showlegend": false,
         "type": "scatter",
         "x": [
          -0.010714285714285714,
          0.010714285714285714
         ],
         "y": [
          0.075,
          0.075
         ]
        },
        {
         "hoverinfo": "none",
         "legendgroup": "bearings",
         "line": {
          "color": "#355d7a",
          "width": 1
         },
         "mode": "lines",
         "name": "Bearing 0",
         "showlegend": false,
         "type": "scatter",
         "x": [
          -0.010714285714285714,
          0.010714285714285714
         ],
         "y": [
          -0.075,
          -0.075
         ]
        },
        {
         "hoverinfo": "none",
         "legendgroup": "bearings",
         "line": {
          "color": "#355d7a",
          "width": 1
         },
         "mode": "lines",
         "name": "Bearing 0",
         "showlegend": false,
         "type": "scatter",
         "x": [
          -0.010714285714285714,
          -0.0064285714285714285
         ],
         "y": [
          0.075,
          0.0825
         ]
        },
        {
         "hoverinfo": "none",
         "legendgroup": "bearings",
         "line": {
          "color": "#355d7a",
          "width": 1
         },
         "mode": "lines",
         "name": "Bearing 0",
         "showlegend": false,
         "type": "scatter",
         "x": [
          -0.010714285714285714,
          -0.0064285714285714285
         ],
         "y": [
          -0.075,
          -0.0825
         ]
        },
        {
         "hoverinfo": "none",
         "legendgroup": "bearings",
         "line": {
          "color": "#355d7a",
          "width": 1
         },
         "mode": "lines",
         "name": "Bearing 0",
         "showlegend": false,
         "type": "scatter",
         "x": [
          -0.0064285714285714285,
          -0.0021428571428571425
         ],
         "y": [
          0.075,
          0.0825
         ]
        },
        {
         "hoverinfo": "none",
         "legendgroup": "bearings",
         "line": {
          "color": "#355d7a",
          "width": 1
         },
         "mode": "lines",
         "name": "Bearing 0",
         "showlegend": false,
         "type": "scatter",
         "x": [
          -0.0064285714285714285,
          -0.0021428571428571425
         ],
         "y": [
          -0.075,
          -0.0825
         ]
        },
        {
         "hoverinfo": "none",
         "legendgroup": "bearings",
         "line": {
          "color": "#355d7a",
          "width": 1
         },
         "mode": "lines",
         "name": "Bearing 0",
         "showlegend": false,
         "type": "scatter",
         "x": [
          -0.0021428571428571425,
          0.0021428571428571443
         ],
         "y": [
          0.075,
          0.0825
         ]
        },
        {
         "hoverinfo": "none",
         "legendgroup": "bearings",
         "line": {
          "color": "#355d7a",
          "width": 1
         },
         "mode": "lines",
         "name": "Bearing 0",
         "showlegend": false,
         "type": "scatter",
         "x": [
          -0.0021428571428571425,
          0.0021428571428571443
         ],
         "y": [
          -0.075,
          -0.0825
         ]
        },
        {
         "hoverinfo": "none",
         "legendgroup": "bearings",
         "line": {
          "color": "#355d7a",
          "width": 1
         },
         "mode": "lines",
         "name": "Bearing 0",
         "showlegend": false,
         "type": "scatter",
         "x": [
          0.0021428571428571443,
          0.006428571428571429
         ],
         "y": [
          0.075,
          0.0825
         ]
        },
        {
         "hoverinfo": "none",
         "legendgroup": "bearings",
         "line": {
          "color": "#355d7a",
          "width": 1
         },
         "mode": "lines",
         "name": "Bearing 0",
         "showlegend": false,
         "type": "scatter",
         "x": [
          0.0021428571428571443,
          0.006428571428571429
         ],
         "y": [
          -0.075,
          -0.0825
         ]
        },
        {
         "hoverinfo": "none",
         "legendgroup": "bearings",
         "line": {
          "color": "#355d7a",
          "width": 1
         },
         "mode": "lines",
         "name": "Bearing 0",
         "showlegend": false,
         "type": "scatter",
         "x": [
          0.006428571428571429,
          0.010714285714285714
         ],
         "y": [
          0.075,
          0.0825
         ]
        },
        {
         "hoverinfo": "none",
         "legendgroup": "bearings",
         "line": {
          "color": "#355d7a",
          "width": 1
         },
         "mode": "lines",
         "name": "Bearing 0",
         "showlegend": false,
         "type": "scatter",
         "x": [
          0.006428571428571429,
          0.010714285714285714
         ],
         "y": [
          -0.075,
          -0.0825
         ]
        },
        {
         "hoverinfo": "none",
         "legendgroup": "bearings",
         "line": {
          "color": "#355d7a",
          "width": 1
         },
         "mode": "lines",
         "name": "Bearing 0",
         "showlegend": false,
         "type": "scatter",
         "x": [
          0.010714285714285714,
          0.015000000000000003
         ],
         "y": [
          0.075,
          0.0825
         ]
        },
        {
         "hoverinfo": "none",
         "legendgroup": "bearings",
         "line": {
          "color": "#355d7a",
          "width": 1
         },
         "mode": "lines",
         "name": "Bearing 0",
         "showlegend": false,
         "type": "scatter",
         "x": [
          0.010714285714285714,
          0.015000000000000003
         ],
         "y": [
          -0.075,
          -0.0825
         ]
        },
        {
         "hoverinfo": "none",
         "legendgroup": "bearings",
         "line": {
          "color": "#355d7a",
          "width": 1
         },
         "mode": "lines",
         "name": "Bearing 0",
         "showlegend": false,
         "type": "scatter",
         "x": [
          -0.007142857142857143,
          -0.007142857142857143,
          -0.010714285714285714,
          -0.0035714285714285713,
          -0.010714285714285714,
          -0.0035714285714285713,
          -0.010714285714285714,
          -0.0035714285714285713,
          -0.007142857142857143,
          -0.007142857142857143
         ],
         "y": [
          0.0375,
          0.04107142857142857,
          0.04107142857142857,
          0.044642857142857144,
          0.04821428571428571,
          0.05178571428571428,
          0.055357142857142855,
          0.05892857142857143,
          0.05892857142857143,
          0.0625
         ]
        },
        {
         "hoverinfo": "none",
         "legendgroup": "bearings",
         "line": {
          "color": "#355d7a",
          "width": 1
         },
         "mode": "lines",
         "name": "Bearing 0",
         "showlegend": false,
         "type": "scatter",
         "x": [
          -0.007142857142857143,
          -0.007142857142857143,
          -0.010714285714285714,
          -0.0035714285714285713,
          -0.010714285714285714,
          -0.0035714285714285713,
          -0.010714285714285714,
          -0.0035714285714285713,
          -0.007142857142857143,
          -0.007142857142857143
         ],
         "y": [
          -0.0375,
          -0.04107142857142857,
          -0.04107142857142857,
          -0.044642857142857144,
          -0.04821428571428571,
          -0.05178571428571428,
          -0.055357142857142855,
          -0.05892857142857143,
          -0.05892857142857143,
          -0.0625
         ]
        },
        {
         "hoverinfo": "none",
         "legendgroup": "bearings",
         "line": {
          "color": "#355d7a",
          "width": 1
         },
         "mode": "lines",
         "name": "Bearing 0",
         "showlegend": false,
         "type": "scatter",
         "x": [
          0.007142857142857143,
          0.007142857142857143
         ],
         "y": [
          0.0375,
          0.044642857142857144
         ]
        },
        {
         "hoverinfo": "none",
         "legendgroup": "bearings",
         "line": {
          "color": "#355d7a",
          "width": 1
         },
         "mode": "lines",
         "name": "Bearing 0",
         "showlegend": false,
         "type": "scatter",
         "x": [
          0.007142857142857143,
          0.007142857142857143
         ],
         "y": [
          -0.0375,
          -0.044642857142857144
         ]
        },
        {
         "hoverinfo": "none",
         "legendgroup": "bearings",
         "line": {
          "color": "#355d7a",
          "width": 1
         },
         "mode": "lines",
         "name": "Bearing 0",
         "showlegend": false,
         "type": "scatter",
         "x": [
          0.0,
          0.0,
          0.014285714285714285,
          0.014285714285714285
         ],
         "y": [
          0.055357142857142855,
          0.044642857142857144,
          0.044642857142857144,
          0.055357142857142855
         ]
        },
        {
         "hoverinfo": "none",
         "legendgroup": "bearings",
         "line": {
          "color": "#355d7a",
          "width": 1
         },
         "mode": "lines",
         "name": "Bearing 0",
         "showlegend": false,
         "type": "scatter",
         "x": [
          0.0,
          0.0,
          0.014285714285714285,
          0.014285714285714285
         ],
         "y": [
          -0.055357142857142855,
          -0.044642857142857144,
          -0.044642857142857144,
          -0.055357142857142855
         ]
        },
        {
         "hoverinfo": "none",
         "legendgroup": "bearings",
         "line": {
          "color": "#355d7a",
          "width": 1
         },
         "mode": "lines",
         "name": "Bearing 0",
         "showlegend": false,
         "type": "scatter",
         "x": [
          0.0,
          0.014285714285714285,
          0.007142857142857143,
          0.007142857142857143
         ],
         "y": [
          0.05178571428571428,
          0.05178571428571428,
          0.05178571428571428,
          0.0625
         ]
        },
        {
         "hoverinfo": "none",
         "legendgroup": "bearings",
         "line": {
          "color": "#355d7a",
          "width": 1
         },
         "mode": "lines",
         "name": "Bearing 0",
         "showlegend": false,
         "type": "scatter",
         "x": [
          0.0,
          0.014285714285714285,
          0.007142857142857143,
          0.007142857142857143
         ],
         "y": [
          -0.05178571428571428,
          -0.05178571428571428,
          -0.05178571428571428,
          -0.0625
         ]
        },
        {
         "hoverinfo": "none",
         "legendgroup": "bearings",
         "line": {
          "color": "#355d7a",
          "width": 1
         },
         "mode": "lines",
         "name": "Bearing 1",
         "showlegend": false,
         "type": "scatter",
         "x": [
          1.5,
          1.5,
          1.4928571428571429,
          1.5071428571428571
         ],
         "y": [
          0.025,
          0.0375,
          0.0375,
          0.0375
         ]
        },
        {
         "hoverinfo": "none",
         "legendgroup": "bearings",
         "line": {
          "color": "#355d7a",
          "width": 1
         },
         "mode": "lines",
         "name": "Bearing 1",
         "showlegend": false,
         "type": "scatter",
         "x": [
          1.5,
          1.5,
          1.4928571428571429,
          1.5071428571428571
         ],
         "y": [
          -0.025,
          -0.0375,
          -0.0375,
          -0.0375
         ]
        },
        {
         "hoverinfo": "none",
         "legendgroup": "bearings",
         "line": {
          "color": "#355d7a",
          "width": 1
         },
         "mode": "lines",
         "name": "Bearing 1",
         "showlegend": false,
         "type": "scatter",
         "x": [
          1.5,
          1.5,
          1.4928571428571429,
          1.5071428571428571
         ],
         "y": [
          0.075,
          0.0625,
          0.0625,
          0.0625
         ]
        },
        {
         "hoverinfo": "none",
         "legendgroup": "bearings",
         "line": {
          "color": "#355d7a",
          "width": 1
         },
         "mode": "lines",
         "name": "Bearing 1",
         "showlegend": false,
         "type": "scatter",
         "x": [
          1.5,
          1.5,
          1.4928571428571429,
          1.5071428571428571
         ],
         "y": [
          -0.075,
          -0.0625,
          -0.0625,
          -0.0625
         ]
        },
        {
         "hoverinfo": "none",
         "legendgroup": "bearings",
         "line": {
          "color": "#355d7a",
          "width": 1
         },
         "mode": "lines",
         "name": "Bearing 1",
         "showlegend": false,
         "type": "scatter",
         "x": [
          1.4892857142857143,
          1.5107142857142857
         ],
         "y": [
          0.075,
          0.075
         ]
        },
        {
         "hoverinfo": "none",
         "legendgroup": "bearings",
         "line": {
          "color": "#355d7a",
          "width": 1
         },
         "mode": "lines",
         "name": "Bearing 1",
         "showlegend": false,
         "type": "scatter",
         "x": [
          1.4892857142857143,
          1.5107142857142857
         ],
         "y": [
          -0.075,
          -0.075
         ]
        },
        {
         "hoverinfo": "none",
         "legendgroup": "bearings",
         "line": {
          "color": "#355d7a",
          "width": 1
         },
         "mode": "lines",
         "name": "Bearing 1",
         "showlegend": false,
         "type": "scatter",
         "x": [
          1.4892857142857143,
          1.4935714285714285
         ],
         "y": [
          0.075,
          0.0825
         ]
        },
        {
         "hoverinfo": "none",
         "legendgroup": "bearings",
         "line": {
          "color": "#355d7a",
          "width": 1
         },
         "mode": "lines",
         "name": "Bearing 1",
         "showlegend": false,
         "type": "scatter",
         "x": [
          1.4892857142857143,
          1.4935714285714285
         ],
         "y": [
          -0.075,
          -0.0825
         ]
        },
        {
         "hoverinfo": "none",
         "legendgroup": "bearings",
         "line": {
          "color": "#355d7a",
          "width": 1
         },
         "mode": "lines",
         "name": "Bearing 1",
         "showlegend": false,
         "type": "scatter",
         "x": [
          1.4935714285714285,
          1.4978571428571428
         ],
         "y": [
          0.075,
          0.0825
         ]
        },
        {
         "hoverinfo": "none",
         "legendgroup": "bearings",
         "line": {
          "color": "#355d7a",
          "width": 1
         },
         "mode": "lines",
         "name": "Bearing 1",
         "showlegend": false,
         "type": "scatter",
         "x": [
          1.4935714285714285,
          1.4978571428571428
         ],
         "y": [
          -0.075,
          -0.0825
         ]
        },
        {
         "hoverinfo": "none",
         "legendgroup": "bearings",
         "line": {
          "color": "#355d7a",
          "width": 1
         },
         "mode": "lines",
         "name": "Bearing 1",
         "showlegend": false,
         "type": "scatter",
         "x": [
          1.4978571428571428,
          1.5021428571428572
         ],
         "y": [
          0.075,
          0.0825
         ]
        },
        {
         "hoverinfo": "none",
         "legendgroup": "bearings",
         "line": {
          "color": "#355d7a",
          "width": 1
         },
         "mode": "lines",
         "name": "Bearing 1",
         "showlegend": false,
         "type": "scatter",
         "x": [
          1.4978571428571428,
          1.5021428571428572
         ],
         "y": [
          -0.075,
          -0.0825
         ]
        },
        {
         "hoverinfo": "none",
         "legendgroup": "bearings",
         "line": {
          "color": "#355d7a",
          "width": 1
         },
         "mode": "lines",
         "name": "Bearing 1",
         "showlegend": false,
         "type": "scatter",
         "x": [
          1.5021428571428572,
          1.5064285714285715
         ],
         "y": [
          0.075,
          0.0825
         ]
        },
        {
         "hoverinfo": "none",
         "legendgroup": "bearings",
         "line": {
          "color": "#355d7a",
          "width": 1
         },
         "mode": "lines",
         "name": "Bearing 1",
         "showlegend": false,
         "type": "scatter",
         "x": [
          1.5021428571428572,
          1.5064285714285715
         ],
         "y": [
          -0.075,
          -0.0825
         ]
        },
        {
         "hoverinfo": "none",
         "legendgroup": "bearings",
         "line": {
          "color": "#355d7a",
          "width": 1
         },
         "mode": "lines",
         "name": "Bearing 1",
         "showlegend": false,
         "type": "scatter",
         "x": [
          1.5064285714285715,
          1.5107142857142857
         ],
         "y": [
          0.075,
          0.0825
         ]
        },
        {
         "hoverinfo": "none",
         "legendgroup": "bearings",
         "line": {
          "color": "#355d7a",
          "width": 1
         },
         "mode": "lines",
         "name": "Bearing 1",
         "showlegend": false,
         "type": "scatter",
         "x": [
          1.5064285714285715,
          1.5107142857142857
         ],
         "y": [
          -0.075,
          -0.0825
         ]
        },
        {
         "hoverinfo": "none",
         "legendgroup": "bearings",
         "line": {
          "color": "#355d7a",
          "width": 1
         },
         "mode": "lines",
         "name": "Bearing 1",
         "showlegend": false,
         "type": "scatter",
         "x": [
          1.5107142857142857,
          1.515
         ],
         "y": [
          0.075,
          0.0825
         ]
        },
        {
         "hoverinfo": "none",
         "legendgroup": "bearings",
         "line": {
          "color": "#355d7a",
          "width": 1
         },
         "mode": "lines",
         "name": "Bearing 1",
         "showlegend": false,
         "type": "scatter",
         "x": [
          1.5107142857142857,
          1.515
         ],
         "y": [
          -0.075,
          -0.0825
         ]
        },
        {
         "hoverinfo": "none",
         "legendgroup": "bearings",
         "line": {
          "color": "#355d7a",
          "width": 1
         },
         "mode": "lines",
         "name": "Bearing 1",
         "showlegend": false,
         "type": "scatter",
         "x": [
          1.4928571428571429,
          1.4928571428571429,
          1.4892857142857143,
          1.4964285714285714,
          1.4892857142857143,
          1.4964285714285714,
          1.4892857142857143,
          1.4964285714285714,
          1.4928571428571429,
          1.4928571428571429
         ],
         "y": [
          0.0375,
          0.04107142857142857,
          0.04107142857142857,
          0.044642857142857144,
          0.04821428571428571,
          0.05178571428571428,
          0.055357142857142855,
          0.05892857142857143,
          0.05892857142857143,
          0.0625
         ]
        },
        {
         "hoverinfo": "none",
         "legendgroup": "bearings",
         "line": {
          "color": "#355d7a",
          "width": 1
         },
         "mode": "lines",
         "name": "Bearing 1",
         "showlegend": false,
         "type": "scatter",
         "x": [
          1.4928571428571429,
          1.4928571428571429,
          1.4892857142857143,
          1.4964285714285714,
          1.4892857142857143,
          1.4964285714285714,
          1.4892857142857143,
          1.4964285714285714,
          1.4928571428571429,
          1.4928571428571429
         ],
         "y": [
          -0.0375,
          -0.04107142857142857,
          -0.04107142857142857,
          -0.044642857142857144,
          -0.04821428571428571,
          -0.05178571428571428,
          -0.055357142857142855,
          -0.05892857142857143,
          -0.05892857142857143,
          -0.0625
         ]
        },
        {
         "hoverinfo": "none",
         "legendgroup": "bearings",
         "line": {
          "color": "#355d7a",
          "width": 1
         },
         "mode": "lines",
         "name": "Bearing 1",
         "showlegend": false,
         "type": "scatter",
         "x": [
          1.5071428571428571,
          1.5071428571428571
         ],
         "y": [
          0.0375,
          0.044642857142857144
         ]
        },
        {
         "hoverinfo": "none",
         "legendgroup": "bearings",
         "line": {
          "color": "#355d7a",
          "width": 1
         },
         "mode": "lines",
         "name": "Bearing 1",
         "showlegend": false,
         "type": "scatter",
         "x": [
          1.5071428571428571,
          1.5071428571428571
         ],
         "y": [
          -0.0375,
          -0.044642857142857144
         ]
        },
        {
         "hoverinfo": "none",
         "legendgroup": "bearings",
         "line": {
          "color": "#355d7a",
          "width": 1
         },
         "mode": "lines",
         "name": "Bearing 1",
         "showlegend": false,
         "type": "scatter",
         "x": [
          1.5,
          1.5,
          1.5142857142857142,
          1.5142857142857142
         ],
         "y": [
          0.055357142857142855,
          0.044642857142857144,
          0.044642857142857144,
          0.055357142857142855
         ]
        },
        {
         "hoverinfo": "none",
         "legendgroup": "bearings",
         "line": {
          "color": "#355d7a",
          "width": 1
         },
         "mode": "lines",
         "name": "Bearing 1",
         "showlegend": false,
         "type": "scatter",
         "x": [
          1.5,
          1.5,
          1.5142857142857142,
          1.5142857142857142
         ],
         "y": [
          -0.055357142857142855,
          -0.044642857142857144,
          -0.044642857142857144,
          -0.055357142857142855
         ]
        },
        {
         "hoverinfo": "none",
         "legendgroup": "bearings",
         "line": {
          "color": "#355d7a",
          "width": 1
         },
         "mode": "lines",
         "name": "Bearing 1",
         "showlegend": false,
         "type": "scatter",
         "x": [
          1.5,
          1.5142857142857142,
          1.5071428571428571,
          1.5071428571428571
         ],
         "y": [
          0.05178571428571428,
          0.05178571428571428,
          0.05178571428571428,
          0.0625
         ]
        },
        {
         "hoverinfo": "none",
         "legendgroup": "bearings",
         "line": {
          "color": "#355d7a",
          "width": 1
         },
         "mode": "lines",
         "name": "Bearing 1",
         "showlegend": false,
         "type": "scatter",
         "x": [
          1.5,
          1.5142857142857142,
          1.5071428571428571,
          1.5071428571428571
         ],
         "y": [
          -0.05178571428571428,
          -0.05178571428571428,
          -0.05178571428571428,
          -0.0625
         ]
        }
       ],
       "layout": {
        "shapes": [
         {
          "fillcolor": "Firebrick",
          "line": {
           "color": "Firebrick"
          },
          "type": "circle",
          "x0": 0.49375,
          "x1": 0.50625,
          "xref": "x",
          "y0": 0.11875,
          "y1": 0.13125,
          "yref": "y"
         },
         {
          "fillcolor": "Firebrick",
          "line": {
           "color": "Firebrick"
          },
          "type": "circle",
          "x0": 0.49375,
          "x1": 0.50625,
          "xref": "x",
          "y0": -0.13125,
          "y1": -0.11875,
          "yref": "y"
         },
         {
          "fillcolor": "Firebrick",
          "line": {
           "color": "Firebrick"
          },
          "type": "circle",
          "x0": 0.99375,
          "x1": 1.00625,
          "xref": "x",
          "y0": 0.11875,
          "y1": 0.13125,
          "yref": "y"
         },
         {
          "fillcolor": "Firebrick",
          "line": {
           "color": "Firebrick"
          },
          "type": "circle",
          "x0": 0.99375,
          "x1": 1.00625,
          "xref": "x",
          "y0": -0.13125,
          "y1": -0.11875,
          "yref": "y"
         }
        ],
        "template": {
         "data": {
          "bar": [
           {
            "error_x": {
             "color": "#2a3f5f"
            },
            "error_y": {
             "color": "#2a3f5f"
            },
            "marker": {
             "line": {
              "color": "white",
              "width": 0.5
             }
            },
            "type": "bar"
           }
          ],
          "barpolar": [
           {
            "marker": {
             "line": {
              "color": "white",
              "width": 0.5
             }
            },
            "type": "barpolar"
           }
          ],
          "carpet": [
           {
            "aaxis": {
             "endlinecolor": "#2a3f5f",
             "gridcolor": "#C8D4E3",
             "linecolor": "#C8D4E3",
             "minorgridcolor": "#C8D4E3",
             "startlinecolor": "#2a3f5f"
            },
            "baxis": {
             "endlinecolor": "#2a3f5f",
             "gridcolor": "#C8D4E3",
             "linecolor": "#C8D4E3",
             "minorgridcolor": "#C8D4E3",
             "startlinecolor": "#2a3f5f"
            },
            "type": "carpet"
           }
          ],
          "choropleth": [
           {
            "colorbar": {
             "outlinewidth": 0,
             "ticks": ""
            },
            "type": "choropleth"
           }
          ],
          "contour": [
           {
            "colorbar": {
             "outlinewidth": 0,
             "ticks": ""
            },
            "colorscale": [
             [
              0.0,
              "#0d0887"
             ],
             [
              0.1111111111111111,
              "#46039f"
             ],
             [
              0.2222222222222222,
              "#7201a8"
             ],
             [
              0.3333333333333333,
              "#9c179e"
             ],
             [
              0.4444444444444444,
              "#bd3786"
             ],
             [
              0.5555555555555556,
              "#d8576b"
             ],
             [
              0.6666666666666666,
              "#ed7953"
             ],
             [
              0.7777777777777778,
              "#fb9f3a"
             ],
             [
              0.8888888888888888,
              "#fdca26"
             ],
             [
              1.0,
              "#f0f921"
             ]
            ],
            "type": "contour"
           }
          ],
          "contourcarpet": [
           {
            "colorbar": {
             "outlinewidth": 0,
             "ticks": ""
            },
            "type": "contourcarpet"
           }
          ],
          "heatmap": [
           {
            "colorbar": {
             "outlinewidth": 0,
             "ticks": ""
            },
            "colorscale": [
             [
              0.0,
              "#0d0887"
             ],
             [
              0.1111111111111111,
              "#46039f"
             ],
             [
              0.2222222222222222,
              "#7201a8"
             ],
             [
              0.3333333333333333,
              "#9c179e"
             ],
             [
              0.4444444444444444,
              "#bd3786"
             ],
             [
              0.5555555555555556,
              "#d8576b"
             ],
             [
              0.6666666666666666,
              "#ed7953"
             ],
             [
              0.7777777777777778,
              "#fb9f3a"
             ],
             [
              0.8888888888888888,
              "#fdca26"
             ],
             [
              1.0,
              "#f0f921"
             ]
            ],
            "type": "heatmap"
           }
          ],
          "heatmapgl": [
           {
            "colorbar": {
             "outlinewidth": 0,
             "ticks": ""
            },
            "colorscale": [
             [
              0.0,
              "#0d0887"
             ],
             [
              0.1111111111111111,
              "#46039f"
             ],
             [
              0.2222222222222222,
              "#7201a8"
             ],
             [
              0.3333333333333333,
              "#9c179e"
             ],
             [
              0.4444444444444444,
              "#bd3786"
             ],
             [
              0.5555555555555556,
              "#d8576b"
             ],
             [
              0.6666666666666666,
              "#ed7953"
             ],
             [
              0.7777777777777778,
              "#fb9f3a"
             ],
             [
              0.8888888888888888,
              "#fdca26"
             ],
             [
              1.0,
              "#f0f921"
             ]
            ],
            "type": "heatmapgl"
           }
          ],
          "histogram": [
           {
            "marker": {
             "colorbar": {
              "outlinewidth": 0,
              "ticks": ""
             }
            },
            "type": "histogram"
           }
          ],
          "histogram2d": [
           {
            "colorbar": {
             "outlinewidth": 0,
             "ticks": ""
            },
            "colorscale": [
             [
              0.0,
              "#0d0887"
             ],
             [
              0.1111111111111111,
              "#46039f"
             ],
             [
              0.2222222222222222,
              "#7201a8"
             ],
             [
              0.3333333333333333,
              "#9c179e"
             ],
             [
              0.4444444444444444,
              "#bd3786"
             ],
             [
              0.5555555555555556,
              "#d8576b"
             ],
             [
              0.6666666666666666,
              "#ed7953"
             ],
             [
              0.7777777777777778,
              "#fb9f3a"
             ],
             [
              0.8888888888888888,
              "#fdca26"
             ],
             [
              1.0,
              "#f0f921"
             ]
            ],
            "type": "histogram2d"
           }
          ],
          "histogram2dcontour": [
           {
            "colorbar": {
             "outlinewidth": 0,
             "ticks": ""
            },
            "colorscale": [
             [
              0.0,
              "#0d0887"
             ],
             [
              0.1111111111111111,
              "#46039f"
             ],
             [
              0.2222222222222222,
              "#7201a8"
             ],
             [
              0.3333333333333333,
              "#9c179e"
             ],
             [
              0.4444444444444444,
              "#bd3786"
             ],
             [
              0.5555555555555556,
              "#d8576b"
             ],
             [
              0.6666666666666666,
              "#ed7953"
             ],
             [
              0.7777777777777778,
              "#fb9f3a"
             ],
             [
              0.8888888888888888,
              "#fdca26"
             ],
             [
              1.0,
              "#f0f921"
             ]
            ],
            "type": "histogram2dcontour"
           }
          ],
          "mesh3d": [
           {
            "colorbar": {
             "outlinewidth": 0,
             "ticks": ""
            },
            "type": "mesh3d"
           }
          ],
          "parcoords": [
           {
            "line": {
             "colorbar": {
              "outlinewidth": 0,
              "ticks": ""
             }
            },
            "type": "parcoords"
           }
          ],
          "pie": [
           {
            "automargin": true,
            "type": "pie"
           }
          ],
          "scatter": [
           {
            "marker": {
             "colorbar": {
              "outlinewidth": 0,
              "ticks": ""
             }
            },
            "type": "scatter"
           }
          ],
          "scatter3d": [
           {
            "line": {
             "colorbar": {
              "outlinewidth": 0,
              "ticks": ""
             }
            },
            "marker": {
             "colorbar": {
              "outlinewidth": 0,
              "ticks": ""
             },
             "size": 4
            },
            "type": "scatter3d"
           }
          ],
          "scattercarpet": [
           {
            "marker": {
             "colorbar": {
              "outlinewidth": 0,
              "ticks": ""
             }
            },
            "type": "scattercarpet"
           }
          ],
          "scattergeo": [
           {
            "marker": {
             "colorbar": {
              "outlinewidth": 0,
              "ticks": ""
             }
            },
            "type": "scattergeo"
           }
          ],
          "scattergl": [
           {
            "marker": {
             "colorbar": {
              "outlinewidth": 0,
              "ticks": ""
             }
            },
            "type": "scattergl"
           }
          ],
          "scattermapbox": [
           {
            "marker": {
             "colorbar": {
              "outlinewidth": 0,
              "ticks": ""
             }
            },
            "type": "scattermapbox"
           }
          ],
          "scatterpolar": [
           {
            "marker": {
             "colorbar": {
              "outlinewidth": 0,
              "ticks": ""
             }
            },
            "type": "scatterpolar"
           }
          ],
          "scatterpolargl": [
           {
            "marker": {
             "colorbar": {
              "outlinewidth": 0,
              "ticks": ""
             }
            },
            "type": "scatterpolargl"
           }
          ],
          "scatterternary": [
           {
            "marker": {
             "colorbar": {
              "outlinewidth": 0,
              "ticks": ""
             }
            },
            "type": "scatterternary"
           }
          ],
          "surface": [
           {
            "colorbar": {
             "outlinewidth": 0,
             "ticks": ""
            },
            "colorscale": [
             [
              0.0,
              "#0d0887"
             ],
             [
              0.1111111111111111,
              "#46039f"
             ],
             [
              0.2222222222222222,
              "#7201a8"
             ],
             [
              0.3333333333333333,
              "#9c179e"
             ],
             [
              0.4444444444444444,
              "#bd3786"
             ],
             [
              0.5555555555555556,
              "#d8576b"
             ],
             [
              0.6666666666666666,
              "#ed7953"
             ],
             [
              0.7777777777777778,
              "#fb9f3a"
             ],
             [
              0.8888888888888888,
              "#fdca26"
             ],
             [
              1.0,
              "#f0f921"
             ]
            ],
            "type": "surface"
           }
          ],
          "table": [
           {
            "cells": {
             "fill": {
              "color": "#EBF0F8"
             },
             "line": {
              "color": "white"
             }
            },
            "header": {
             "fill": {
              "color": "#C8D4E3"
             },
             "line": {
              "color": "white"
             }
            },
            "type": "table"
           }
          ]
         },
         "layout": {
          "annotationdefaults": {
           "arrowcolor": "#2a3f5f",
           "arrowhead": 0,
           "arrowwidth": 1
          },
          "coloraxis": {
           "colorbar": {
            "outlinewidth": 0,
            "ticks": ""
           }
          },
          "colorscale": {
           "diverging": [
            [
             0,
             "#8e0152"
            ],
            [
             0.1,
             "#c51b7d"
            ],
            [
             0.2,
             "#de77ae"
            ],
            [
             0.3,
             "#f1b6da"
            ],
            [
             0.4,
             "#fde0ef"
            ],
            [
             0.5,
             "#f7f7f7"
            ],
            [
             0.6,
             "#e6f5d0"
            ],
            [
             0.7,
             "#b8e186"
            ],
            [
             0.8,
             "#7fbc41"
            ],
            [
             0.9,
             "#4d9221"
            ],
            [
             1,
             "#276419"
            ]
           ],
           "sequential": [
            [
             0.0,
             "#0d0887"
            ],
            [
             0.1111111111111111,
             "#46039f"
            ],
            [
             0.2222222222222222,
             "#7201a8"
            ],
            [
             0.3333333333333333,
             "#9c179e"
            ],
            [
             0.4444444444444444,
             "#bd3786"
            ],
            [
             0.5555555555555556,
             "#d8576b"
            ],
            [
             0.6666666666666666,
             "#ed7953"
            ],
            [
             0.7777777777777778,
             "#fb9f3a"
            ],
            [
             0.8888888888888888,
             "#fdca26"
            ],
            [
             1.0,
             "#f0f921"
            ]
           ],
           "sequentialminus": [
            [
             0.0,
             "#0d0887"
            ],
            [
             0.1111111111111111,
             "#46039f"
            ],
            [
             0.2222222222222222,
             "#7201a8"
            ],
            [
             0.3333333333333333,
             "#9c179e"
            ],
            [
             0.4444444444444444,
             "#bd3786"
            ],
            [
             0.5555555555555556,
             "#d8576b"
            ],
            [
             0.6666666666666666,
             "#ed7953"
            ],
            [
             0.7777777777777778,
             "#fb9f3a"
            ],
            [
             0.8888888888888888,
             "#fdca26"
            ],
            [
             1.0,
             "#f0f921"
            ]
           ]
          },
          "colorway": [
           "#1f77b4",
           "#ff7f0e",
           "#2ca02c",
           "#d62728",
           "#9467bd",
           "#8c564b",
           "#e377c2",
           "#7f7f7f",
           "#bcbd22",
           "#17becf"
          ],
          "font": {
           "color": "#2a3f5f"
          },
          "geo": {
           "bgcolor": "white",
           "lakecolor": "white",
           "landcolor": "white",
           "showlakes": true,
           "showland": true,
           "subunitcolor": "#C8D4E3"
          },
          "hoverlabel": {
           "align": "left"
          },
          "hovermode": "closest",
          "mapbox": {
           "style": "light"
          },
          "paper_bgcolor": "white",
          "plot_bgcolor": "white",
          "polar": {
           "angularaxis": {
            "gridcolor": "#EBF0F8",
            "linecolor": "#EBF0F8",
            "ticks": ""
           },
           "bgcolor": "white",
           "radialaxis": {
            "gridcolor": "#EBF0F8",
            "linecolor": "#EBF0F8",
            "ticks": ""
           }
          },
          "scene": {
           "camera": {
            "center": {
             "x": 0,
             "y": 0,
             "z": 0
            },
            "eye": {
             "x": 2.0,
             "y": 2.0,
             "z": 2.0
            },
            "up": {
             "x": 0,
             "y": 0,
             "z": 1
            }
           },
           "xaxis": {
            "backgroundcolor": "white",
            "gridcolor": "#DFE8F3",
            "gridwidth": 2,
            "linecolor": "#EBF0F8",
            "showbackground": true,
            "showspikes": false,
            "ticks": "",
            "zerolinecolor": "#EBF0F8"
           },
           "yaxis": {
            "backgroundcolor": "white",
            "gridcolor": "#DFE8F3",
            "gridwidth": 2,
            "linecolor": "#EBF0F8",
            "showbackground": true,
            "showspikes": false,
            "ticks": "",
            "zerolinecolor": "#EBF0F8"
           },
           "zaxis": {
            "backgroundcolor": "white",
            "gridcolor": "#DFE8F3",
            "gridwidth": 2,
            "linecolor": "#EBF0F8",
            "showbackground": true,
            "showspikes": false,
            "ticks": "",
            "zerolinecolor": "#EBF0F8"
           }
          },
          "shapedefaults": {
           "line": {
            "color": "#2a3f5f"
           }
          },
          "ternary": {
           "aaxis": {
            "gridcolor": "#DFE8F3",
            "linecolor": "#A2B1C6",
            "ticks": ""
           },
           "baxis": {
            "gridcolor": "#DFE8F3",
            "linecolor": "#A2B1C6",
            "ticks": ""
           },
           "bgcolor": "white",
           "caxis": {
            "gridcolor": "#DFE8F3",
            "linecolor": "#A2B1C6",
            "ticks": ""
           }
          },
          "title": {
           "x": 0.05
          },
          "xaxis": {
           "automargin": true,
           "gridcolor": "#EBF0F8",
           "linecolor": "black",
           "linewidth": 2.0,
           "mirror": true,
           "showline": true,
           "ticks": "",
           "title": {
            "standoff": 15
           },
           "zeroline": false,
           "zerolinecolor": "#EBF0F8",
           "zerolinewidth": 2
          },
          "yaxis": {
           "automargin": true,
           "gridcolor": "#EBF0F8",
           "linecolor": "black",
           "linewidth": 2.0,
           "mirror": true,
           "showline": true,
           "ticks": "",
           "title": {
            "standoff": 15
           },
           "zeroline": false,
           "zerolinecolor": "#EBF0F8",
           "zerolinewidth": 2
          }
         }
        },
        "title": {
         "text": "Rotor Model"
        },
        "xaxis": {
         "mirror": true,
         "range": [
          -0.15000000000000002,
          1.6500000000000001
         ],
         "showgrid": false,
         "title": {
          "text": "Axial location (m)"
         }
        },
        "yaxis": {
         "mirror": true,
         "range": [
          -0.44999999999999996,
          0.44999999999999996
         ],
         "showgrid": false,
         "title": {
          "text": "Shaft radius (m)"
         }
        }
       }
      }
     },
     "metadata": {},
     "output_type": "display_data"
    }
   ],
   "source": [
    "# Classic Instantiation of the rotor\n",
    "shaft_elements = []\n",
    "bearing_seal_elements = []\n",
    "disk_elements = []\n",
    "Steel = rs.steel\n",
    "for i in range(6):\n",
    "    shaft_elements.append(rs.ShaftElement(L=0.25, material=Steel, n=i, idl=0, odl=0.05))\n",
    "\n",
    "disk_elements.append(\n",
    "    rs.DiskElement.from_geometry(n=2, material=Steel, width=0.07, i_d=0.05, o_d=0.28)\n",
    ")\n",
    "\n",
    "disk_elements.append(\n",
    "    rs.DiskElement.from_geometry(n=4, material=Steel, width=0.07, i_d=0.05, o_d=0.35)\n",
    ")\n",
    "\n",
    "bearing_seal_elements.append(\n",
    "    rs.BearingElement(n=0, kxx=1e6, kyy=1e6, kxy=0.5e6, cxx=0, cyy=0)\n",
    ")\n",
    "bearing_seal_elements.append(\n",
    "    rs.BearingElement(n=6, kxx=1e6, kyy=1e6, kxy=0.5e6, cxx=0, cyy=0)\n",
    ")\n",
    "\n",
    "rotor594c = rs.Rotor(\n",
    "    shaft_elements=shaft_elements,\n",
    "    bearing_elements=bearing_seal_elements,\n",
    "    disk_elements=disk_elements,\n",
    ")\n",
    "\n",
    "rotor594c.plot_rotor()"
   ]
  },
  {
   "cell_type": "code",
   "execution_count": 3,
   "metadata": {
    "execution": {
     "iopub.execute_input": "2023-05-04T01:03:34.557427Z",
     "iopub.status.busy": "2023-05-04T01:03:34.556770Z",
     "iopub.status.idle": "2023-05-04T01:03:34.629564Z",
     "shell.execute_reply": "2023-05-04T01:03:34.629207Z"
    }
   },
   "outputs": [
    {
     "data": {
      "application/vnd.plotly.v1+json": {
       "config": {
        "plotlyServerURL": "https://plot.ly"
       },
       "data": [
        {
         "hoverinfo": "none",
         "line": {
          "color": "black",
          "dash": "dashdot",
          "width": 3.0
         },
         "mode": "lines",
         "opacity": 0.7,
         "showlegend": false,
         "type": "scatter",
         "x": [
          -0.30000000000000004,
          1.7999999999999998
         ],
         "y": [
          0,
          0
         ]
        },
        {
         "hoverinfo": "none",
         "marker": {
          "color": "#ffcc99",
          "line": {
           "color": "black",
           "width": 1.0
          },
          "opacity": 0.7,
          "size": 20
         },
         "mode": "markers+text",
         "showlegend": false,
         "text": [
          "0",
          "1",
          "2",
          "3"
         ],
         "type": "scatter",
         "x": [
          0.0,
          0.5,
          1.0,
          1.5
         ],
         "y": [
          0.0,
          0.0,
          0.0,
          0.0
         ]
        },
        {
         "customdata": [
          [
           0,
           0.05,
           0.0,
           0.05,
           0.0,
           0.5,
           "Steel"
          ],
          [
           0,
           0.05,
           0.0,
           0.05,
           0.0,
           0.5,
           "Steel"
          ],
          [
           0,
           0.05,
           0.0,
           0.05,
           0.0,
           0.5,
           "Steel"
          ],
          [
           0,
           0.05,
           0.0,
           0.05,
           0.0,
           0.5,
           "Steel"
          ],
          [
           0,
           0.05,
           0.0,
           0.05,
           0.0,
           0.5,
           "Steel"
          ],
          [
           0,
           0.05,
           0.0,
           0.05,
           0.0,
           0.5,
           "Steel"
          ],
          [
           0,
           0.05,
           0.0,
           0.05,
           0.0,
           0.5,
           "Steel"
          ],
          [
           0,
           0.05,
           0.0,
           0.05,
           0.0,
           0.5,
           "Steel"
          ],
          [
           0,
           0.05,
           0.0,
           0.05,
           0.0,
           0.5,
           "Steel"
          ],
          [
           0,
           0.05,
           0.0,
           0.05,
           0.0,
           0.5,
           "Steel"
          ]
         ],
         "fill": "toself",
         "fillcolor": "#525252",
         "hoverinfo": "text",
         "hoverlabel": {
          "bgcolor": "#525252"
         },
         "hoveron": "points+fills",
         "hovertemplate": "Element Number: 0<br>Left Outer Diameter: 0.05 m<br>Left Inner Diameter: 0.0 m<br>Right Outer Diameter: 0.05 m<br>Right Inner Diameter: 0.0 m<br>Element Length: 0.5 m<br>Material: Steel<br>",
         "legendgroup": "Shaft",
         "line": {
          "color": "black",
          "width": 1.5
         },
         "mode": "lines",
         "name": "ShaftElement 0",
         "opacity": 0.5,
         "showlegend": false,
         "text": "Element Number: 0<br>Left Outer Diameter: 0.05 m<br>Left Inner Diameter: 0.0 m<br>Right Outer Diameter: 0.05 m<br>Right Inner Diameter: 0.0 m<br>Element Length: 0.5 m<br>Material: Steel<br>",
         "type": "scatter",
         "x": [
          0.0,
          0.0,
          0.5,
          0.5,
          0.0,
          0.0,
          0.0,
          0.5,
          0.5,
          0.0
         ],
         "y": [
          0.0,
          0.025,
          0.025,
          0.0,
          0.0,
          -0.0,
          -0.025,
          -0.025,
          -0.0,
          -0.0
         ]
        },
        {
         "customdata": [
          [
           1,
           0.05,
           0.0,
           0.05,
           0.0,
           0.5,
           "Steel"
          ],
          [
           1,
           0.05,
           0.0,
           0.05,
           0.0,
           0.5,
           "Steel"
          ],
          [
           1,
           0.05,
           0.0,
           0.05,
           0.0,
           0.5,
           "Steel"
          ],
          [
           1,
           0.05,
           0.0,
           0.05,
           0.0,
           0.5,
           "Steel"
          ],
          [
           1,
           0.05,
           0.0,
           0.05,
           0.0,
           0.5,
           "Steel"
          ],
          [
           1,
           0.05,
           0.0,
           0.05,
           0.0,
           0.5,
           "Steel"
          ],
          [
           1,
           0.05,
           0.0,
           0.05,
           0.0,
           0.5,
           "Steel"
          ],
          [
           1,
           0.05,
           0.0,
           0.05,
           0.0,
           0.5,
           "Steel"
          ],
          [
           1,
           0.05,
           0.0,
           0.05,
           0.0,
           0.5,
           "Steel"
          ],
          [
           1,
           0.05,
           0.0,
           0.05,
           0.0,
           0.5,
           "Steel"
          ]
         ],
         "fill": "toself",
         "fillcolor": "#525252",
         "hoverinfo": "text",
         "hoverlabel": {
          "bgcolor": "#525252"
         },
         "hoveron": "points+fills",
         "hovertemplate": "Element Number: 1<br>Left Outer Diameter: 0.05 m<br>Left Inner Diameter: 0.0 m<br>Right Outer Diameter: 0.05 m<br>Right Inner Diameter: 0.0 m<br>Element Length: 0.5 m<br>Material: Steel<br>",
         "legendgroup": "Shaft",
         "line": {
          "color": "black",
          "width": 1.5
         },
         "mode": "lines",
         "name": "ShaftElement 1",
         "opacity": 0.5,
         "showlegend": false,
         "text": "Element Number: 1<br>Left Outer Diameter: 0.05 m<br>Left Inner Diameter: 0.0 m<br>Right Outer Diameter: 0.05 m<br>Right Inner Diameter: 0.0 m<br>Element Length: 0.5 m<br>Material: Steel<br>",
         "type": "scatter",
         "x": [
          0.5,
          0.5,
          1.0,
          1.0,
          0.5,
          0.5,
          0.5,
          1.0,
          1.0,
          0.5
         ],
         "y": [
          0.0,
          0.025,
          0.025,
          0.0,
          0.0,
          -0.0,
          -0.025,
          -0.025,
          -0.0,
          -0.0
         ]
        },
        {
         "customdata": [
          [
           2,
           0.05,
           0.0,
           0.05,
           0.0,
           0.5,
           "Steel"
          ],
          [
           2,
           0.05,
           0.0,
           0.05,
           0.0,
           0.5,
           "Steel"
          ],
          [
           2,
           0.05,
           0.0,
           0.05,
           0.0,
           0.5,
           "Steel"
          ],
          [
           2,
           0.05,
           0.0,
           0.05,
           0.0,
           0.5,
           "Steel"
          ],
          [
           2,
           0.05,
           0.0,
           0.05,
           0.0,
           0.5,
           "Steel"
          ],
          [
           2,
           0.05,
           0.0,
           0.05,
           0.0,
           0.5,
           "Steel"
          ],
          [
           2,
           0.05,
           0.0,
           0.05,
           0.0,
           0.5,
           "Steel"
          ],
          [
           2,
           0.05,
           0.0,
           0.05,
           0.0,
           0.5,
           "Steel"
          ],
          [
           2,
           0.05,
           0.0,
           0.05,
           0.0,
           0.5,
           "Steel"
          ],
          [
           2,
           0.05,
           0.0,
           0.05,
           0.0,
           0.5,
           "Steel"
          ]
         ],
         "fill": "toself",
         "fillcolor": "#525252",
         "hoverinfo": "text",
         "hoverlabel": {
          "bgcolor": "#525252"
         },
         "hoveron": "points+fills",
         "hovertemplate": "Element Number: 2<br>Left Outer Diameter: 0.05 m<br>Left Inner Diameter: 0.0 m<br>Right Outer Diameter: 0.05 m<br>Right Inner Diameter: 0.0 m<br>Element Length: 0.5 m<br>Material: Steel<br>",
         "legendgroup": "Shaft",
         "line": {
          "color": "black",
          "width": 1.5
         },
         "mode": "lines",
         "name": "ShaftElement 2",
         "opacity": 0.5,
         "showlegend": false,
         "text": "Element Number: 2<br>Left Outer Diameter: 0.05 m<br>Left Inner Diameter: 0.0 m<br>Right Outer Diameter: 0.05 m<br>Right Inner Diameter: 0.0 m<br>Element Length: 0.5 m<br>Material: Steel<br>",
         "type": "scatter",
         "x": [
          1.0,
          1.0,
          1.5,
          1.5,
          1.0,
          1.0,
          1.0,
          1.5,
          1.5,
          1.0
         ],
         "y": [
          0.0,
          0.025,
          0.025,
          0.0,
          0.0,
          -0.0,
          -0.025,
          -0.025,
          -0.0,
          -0.0
         ]
        },
        {
         "customdata": [
          [
           1,
           0.32956362089137037,
           0.17808928257067666,
           32.58972765304033
          ],
          [
           1,
           0.32956362089137037,
           0.17808928257067666,
           32.58972765304033
          ],
          [
           1,
           0.32956362089137037,
           0.17808928257067666,
           32.58972765304033
          ],
          [
           1,
           0.32956362089137037,
           0.17808928257067666,
           32.58972765304033
          ],
          [
           1,
           0.32956362089137037,
           0.17808928257067666,
           32.58972765304033
          ],
          [
           1,
           0.32956362089137037,
           0.17808928257067666,
           32.58972765304033
          ],
          [
           1,
           0.32956362089137037,
           0.17808928257067666,
           32.58972765304033
          ],
          [
           1,
           0.32956362089137037,
           0.17808928257067666,
           32.58972765304033
          ],
          [
           1,
           0.32956362089137037,
           0.17808928257067666,
           32.58972765304033
          ]
         ],
         "fill": "toself",
         "fillcolor": "Firebrick",
         "hoverinfo": "text",
         "hoverlabel": {
          "bgcolor": "Firebrick"
         },
         "hoveron": "points+fills",
         "hovertemplate": "Disk Node: 1<br>Polar Inertia: 3.296e-01<br>Diametral Inertia: 1.781e-01<br>Disk mass: 32.590<br>",
         "legendgroup": "disks",
         "line": {
          "color": "Firebrick",
          "width": 2.0
         },
         "mode": "lines",
         "name": "Disk 0",
         "opacity": 0.8,
         "showlegend": false,
         "text": "Disk Node: 1<br>Polar Inertia: 3.296e-01<br>Diametral Inertia: 1.781e-01<br>Disk mass: 32.590<br>",
         "type": "scatter",
         "x": [
          0.5,
          0.502,
          0.498,
          0.5,
          null,
          0.5,
          0.502,
          0.498,
          0.5
         ],
         "y": [
          0.025,
          0.125,
          0.125,
          0.025,
          null,
          -0.025,
          -0.125,
          -0.125,
          -0.025
         ]
        },
        {
         "customdata": [
          [
           2,
           0.8050822048675969,
           0.4235805840543383,
           51.5252611115262
          ],
          [
           2,
           0.8050822048675969,
           0.4235805840543383,
           51.5252611115262
          ],
          [
           2,
           0.8050822048675969,
           0.4235805840543383,
           51.5252611115262
          ],
          [
           2,
           0.8050822048675969,
           0.4235805840543383,
           51.5252611115262
          ],
          [
           2,
           0.8050822048675969,
           0.4235805840543383,
           51.5252611115262
          ],
          [
           2,
           0.8050822048675969,
           0.4235805840543383,
           51.5252611115262
          ],
          [
           2,
           0.8050822048675969,
           0.4235805840543383,
           51.5252611115262
          ],
          [
           2,
           0.8050822048675969,
           0.4235805840543383,
           51.5252611115262
          ],
          [
           2,
           0.8050822048675969,
           0.4235805840543383,
           51.5252611115262
          ]
         ],
         "fill": "toself",
         "fillcolor": "Firebrick",
         "hoverinfo": "text",
         "hoverlabel": {
          "bgcolor": "Firebrick"
         },
         "hoveron": "points+fills",
         "hovertemplate": "Disk Node: 2<br>Polar Inertia: 8.051e-01<br>Diametral Inertia: 4.236e-01<br>Disk mass: 51.525<br>",
         "legendgroup": "disks",
         "line": {
          "color": "Firebrick",
          "width": 2.0
         },
         "mode": "lines",
         "name": "Disk 1",
         "opacity": 0.8,
         "showlegend": false,
         "text": "Disk Node: 2<br>Polar Inertia: 8.051e-01<br>Diametral Inertia: 4.236e-01<br>Disk mass: 51.525<br>",
         "type": "scatter",
         "x": [
          1.0,
          1.002,
          0.998,
          1.0,
          null,
          1.0,
          1.002,
          0.998,
          1.0
         ],
         "y": [
          0.025,
          0.125,
          0.125,
          0.025,
          null,
          -0.025,
          -0.125,
          -0.125,
          -0.025
         ]
        },
        {
         "hoverinfo": "none",
         "legendgroup": "bearings",
         "line": {
          "color": "#355d7a",
          "width": 1
         },
         "mode": "lines",
         "name": "Bearing 0",
         "showlegend": false,
         "type": "scatter",
         "x": [
          0.0,
          0.0,
          -0.007142857142857144,
          0.007142857142857144
         ],
         "y": [
          0.025,
          0.037500000000000006,
          0.037500000000000006,
          0.037500000000000006
         ]
        },
        {
         "hoverinfo": "none",
         "legendgroup": "bearings",
         "line": {
          "color": "#355d7a",
          "width": 1
         },
         "mode": "lines",
         "name": "Bearing 0",
         "showlegend": false,
         "type": "scatter",
         "x": [
          0.0,
          0.0,
          -0.007142857142857144,
          0.007142857142857144
         ],
         "y": [
          -0.025,
          -0.037500000000000006,
          -0.037500000000000006,
          -0.037500000000000006
         ]
        },
        {
         "hoverinfo": "none",
         "legendgroup": "bearings",
         "line": {
          "color": "#355d7a",
          "width": 1
         },
         "mode": "lines",
         "name": "Bearing 0",
         "showlegend": false,
         "type": "scatter",
         "x": [
          0.0,
          0.0,
          -0.007142857142857144,
          0.007142857142857144
         ],
         "y": [
          0.07500000000000001,
          0.0625,
          0.0625,
          0.0625
         ]
        },
        {
         "hoverinfo": "none",
         "legendgroup": "bearings",
         "line": {
          "color": "#355d7a",
          "width": 1
         },
         "mode": "lines",
         "name": "Bearing 0",
         "showlegend": false,
         "type": "scatter",
         "x": [
          0.0,
          0.0,
          -0.007142857142857144,
          0.007142857142857144
         ],
         "y": [
          -0.07500000000000001,
          -0.0625,
          -0.0625,
          -0.0625
         ]
        },
        {
         "hoverinfo": "none",
         "legendgroup": "bearings",
         "line": {
          "color": "#355d7a",
          "width": 1
         },
         "mode": "lines",
         "name": "Bearing 0",
         "showlegend": false,
         "type": "scatter",
         "x": [
          -0.010714285714285716,
          0.010714285714285716
         ],
         "y": [
          0.07500000000000001,
          0.07500000000000001
         ]
        },
        {
         "hoverinfo": "none",
         "legendgroup": "bearings",
         "line": {
          "color": "#355d7a",
          "width": 1
         },
         "mode": "lines",
         "name": "Bearing 0",
         "showlegend": false,
         "type": "scatter",
         "x": [
          -0.010714285714285716,
          0.010714285714285716
         ],
         "y": [
          -0.07500000000000001,
          -0.07500000000000001
         ]
        },
        {
         "hoverinfo": "none",
         "legendgroup": "bearings",
         "line": {
          "color": "#355d7a",
          "width": 1
         },
         "mode": "lines",
         "name": "Bearing 0",
         "showlegend": false,
         "type": "scatter",
         "x": [
          -0.010714285714285716,
          -0.006428571428571429
         ],
         "y": [
          0.07500000000000001,
          0.08250000000000002
         ]
        },
        {
         "hoverinfo": "none",
         "legendgroup": "bearings",
         "line": {
          "color": "#355d7a",
          "width": 1
         },
         "mode": "lines",
         "name": "Bearing 0",
         "showlegend": false,
         "type": "scatter",
         "x": [
          -0.010714285714285716,
          -0.006428571428571429
         ],
         "y": [
          -0.07500000000000001,
          -0.08250000000000002
         ]
        },
        {
         "hoverinfo": "none",
         "legendgroup": "bearings",
         "line": {
          "color": "#355d7a",
          "width": 1
         },
         "mode": "lines",
         "name": "Bearing 0",
         "showlegend": false,
         "type": "scatter",
         "x": [
          -0.006428571428571429,
          -0.0021428571428571425
         ],
         "y": [
          0.07500000000000001,
          0.08250000000000002
         ]
        },
        {
         "hoverinfo": "none",
         "legendgroup": "bearings",
         "line": {
          "color": "#355d7a",
          "width": 1
         },
         "mode": "lines",
         "name": "Bearing 0",
         "showlegend": false,
         "type": "scatter",
         "x": [
          -0.006428571428571429,
          -0.0021428571428571425
         ],
         "y": [
          -0.07500000000000001,
          -0.08250000000000002
         ]
        },
        {
         "hoverinfo": "none",
         "legendgroup": "bearings",
         "line": {
          "color": "#355d7a",
          "width": 1
         },
         "mode": "lines",
         "name": "Bearing 0",
         "showlegend": false,
         "type": "scatter",
         "x": [
          -0.0021428571428571425,
          0.0021428571428571443
         ],
         "y": [
          0.07500000000000001,
          0.08250000000000002
         ]
        },
        {
         "hoverinfo": "none",
         "legendgroup": "bearings",
         "line": {
          "color": "#355d7a",
          "width": 1
         },
         "mode": "lines",
         "name": "Bearing 0",
         "showlegend": false,
         "type": "scatter",
         "x": [
          -0.0021428571428571425,
          0.0021428571428571443
         ],
         "y": [
          -0.07500000000000001,
          -0.08250000000000002
         ]
        },
        {
         "hoverinfo": "none",
         "legendgroup": "bearings",
         "line": {
          "color": "#355d7a",
          "width": 1
         },
         "mode": "lines",
         "name": "Bearing 0",
         "showlegend": false,
         "type": "scatter",
         "x": [
          0.0021428571428571443,
          0.006428571428571431
         ],
         "y": [
          0.07500000000000001,
          0.08250000000000002
         ]
        },
        {
         "hoverinfo": "none",
         "legendgroup": "bearings",
         "line": {
          "color": "#355d7a",
          "width": 1
         },
         "mode": "lines",
         "name": "Bearing 0",
         "showlegend": false,
         "type": "scatter",
         "x": [
          0.0021428571428571443,
          0.006428571428571431
         ],
         "y": [
          -0.07500000000000001,
          -0.08250000000000002
         ]
        },
        {
         "hoverinfo": "none",
         "legendgroup": "bearings",
         "line": {
          "color": "#355d7a",
          "width": 1
         },
         "mode": "lines",
         "name": "Bearing 0",
         "showlegend": false,
         "type": "scatter",
         "x": [
          0.006428571428571431,
          0.01071428571428572
         ],
         "y": [
          0.07500000000000001,
          0.08250000000000002
         ]
        },
        {
         "hoverinfo": "none",
         "legendgroup": "bearings",
         "line": {
          "color": "#355d7a",
          "width": 1
         },
         "mode": "lines",
         "name": "Bearing 0",
         "showlegend": false,
         "type": "scatter",
         "x": [
          0.006428571428571431,
          0.01071428571428572
         ],
         "y": [
          -0.07500000000000001,
          -0.08250000000000002
         ]
        },
        {
         "hoverinfo": "none",
         "legendgroup": "bearings",
         "line": {
          "color": "#355d7a",
          "width": 1
         },
         "mode": "lines",
         "name": "Bearing 0",
         "showlegend": false,
         "type": "scatter",
         "x": [
          0.01071428571428572,
          0.015000000000000005
         ],
         "y": [
          0.07500000000000001,
          0.08250000000000002
         ]
        },
        {
         "hoverinfo": "none",
         "legendgroup": "bearings",
         "line": {
          "color": "#355d7a",
          "width": 1
         },
         "mode": "lines",
         "name": "Bearing 0",
         "showlegend": false,
         "type": "scatter",
         "x": [
          0.01071428571428572,
          0.015000000000000005
         ],
         "y": [
          -0.07500000000000001,
          -0.08250000000000002
         ]
        },
        {
         "hoverinfo": "none",
         "legendgroup": "bearings",
         "line": {
          "color": "#355d7a",
          "width": 1
         },
         "mode": "lines",
         "name": "Bearing 0",
         "showlegend": false,
         "type": "scatter",
         "x": [
          -0.007142857142857144,
          -0.007142857142857144,
          -0.010714285714285716,
          -0.003571428571428572,
          -0.010714285714285716,
          -0.003571428571428572,
          -0.010714285714285716,
          -0.003571428571428572,
          -0.007142857142857144,
          -0.007142857142857144
         ],
         "y": [
          0.037500000000000006,
          0.04107142857142858,
          0.04107142857142858,
          0.04464285714285715,
          0.04821428571428572,
          0.051785714285714296,
          0.05535714285714287,
          0.05892857142857144,
          0.05892857142857144,
          0.06250000000000001
         ]
        },
        {
         "hoverinfo": "none",
         "legendgroup": "bearings",
         "line": {
          "color": "#355d7a",
          "width": 1
         },
         "mode": "lines",
         "name": "Bearing 0",
         "showlegend": false,
         "type": "scatter",
         "x": [
          -0.007142857142857144,
          -0.007142857142857144,
          -0.010714285714285716,
          -0.003571428571428572,
          -0.010714285714285716,
          -0.003571428571428572,
          -0.010714285714285716,
          -0.003571428571428572,
          -0.007142857142857144,
          -0.007142857142857144
         ],
         "y": [
          -0.037500000000000006,
          -0.04107142857142858,
          -0.04107142857142858,
          -0.04464285714285715,
          -0.04821428571428572,
          -0.051785714285714296,
          -0.05535714285714287,
          -0.05892857142857144,
          -0.05892857142857144,
          -0.06250000000000001
         ]
        },
        {
         "hoverinfo": "none",
         "legendgroup": "bearings",
         "line": {
          "color": "#355d7a",
          "width": 1
         },
         "mode": "lines",
         "name": "Bearing 0",
         "showlegend": false,
         "type": "scatter",
         "x": [
          0.007142857142857144,
          0.007142857142857144
         ],
         "y": [
          0.037500000000000006,
          0.04464285714285715
         ]
        },
        {
         "hoverinfo": "none",
         "legendgroup": "bearings",
         "line": {
          "color": "#355d7a",
          "width": 1
         },
         "mode": "lines",
         "name": "Bearing 0",
         "showlegend": false,
         "type": "scatter",
         "x": [
          0.007142857142857144,
          0.007142857142857144
         ],
         "y": [
          -0.037500000000000006,
          -0.04464285714285715
         ]
        },
        {
         "hoverinfo": "none",
         "legendgroup": "bearings",
         "line": {
          "color": "#355d7a",
          "width": 1
         },
         "mode": "lines",
         "name": "Bearing 0",
         "showlegend": false,
         "type": "scatter",
         "x": [
          0.0,
          0.0,
          0.014285714285714289,
          0.014285714285714289
         ],
         "y": [
          0.05535714285714287,
          0.04464285714285715,
          0.04464285714285715,
          0.05535714285714287
         ]
        },
        {
         "hoverinfo": "none",
         "legendgroup": "bearings",
         "line": {
          "color": "#355d7a",
          "width": 1
         },
         "mode": "lines",
         "name": "Bearing 0",
         "showlegend": false,
         "type": "scatter",
         "x": [
          0.0,
          0.0,
          0.014285714285714289,
          0.014285714285714289
         ],
         "y": [
          -0.05535714285714287,
          -0.04464285714285715,
          -0.04464285714285715,
          -0.05535714285714287
         ]
        },
        {
         "hoverinfo": "none",
         "legendgroup": "bearings",
         "line": {
          "color": "#355d7a",
          "width": 1
         },
         "mode": "lines",
         "name": "Bearing 0",
         "showlegend": false,
         "type": "scatter",
         "x": [
          0.0,
          0.014285714285714289,
          0.007142857142857144,
          0.007142857142857144
         ],
         "y": [
          0.051785714285714296,
          0.051785714285714296,
          0.051785714285714296,
          0.0625
         ]
        },
        {
         "hoverinfo": "none",
         "legendgroup": "bearings",
         "line": {
          "color": "#355d7a",
          "width": 1
         },
         "mode": "lines",
         "name": "Bearing 0",
         "showlegend": false,
         "type": "scatter",
         "x": [
          0.0,
          0.014285714285714289,
          0.007142857142857144,
          0.007142857142857144
         ],
         "y": [
          -0.051785714285714296,
          -0.051785714285714296,
          -0.051785714285714296,
          -0.0625
         ]
        },
        {
         "hoverinfo": "none",
         "legendgroup": "bearings",
         "line": {
          "color": "#355d7a",
          "width": 1
         },
         "mode": "lines",
         "name": "Bearing 1",
         "showlegend": false,
         "type": "scatter",
         "x": [
          1.5,
          1.5,
          1.4928571428571429,
          1.5071428571428571
         ],
         "y": [
          0.025,
          0.037500000000000006,
          0.037500000000000006,
          0.037500000000000006
         ]
        },
        {
         "hoverinfo": "none",
         "legendgroup": "bearings",
         "line": {
          "color": "#355d7a",
          "width": 1
         },
         "mode": "lines",
         "name": "Bearing 1",
         "showlegend": false,
         "type": "scatter",
         "x": [
          1.5,
          1.5,
          1.4928571428571429,
          1.5071428571428571
         ],
         "y": [
          -0.025,
          -0.037500000000000006,
          -0.037500000000000006,
          -0.037500000000000006
         ]
        },
        {
         "hoverinfo": "none",
         "legendgroup": "bearings",
         "line": {
          "color": "#355d7a",
          "width": 1
         },
         "mode": "lines",
         "name": "Bearing 1",
         "showlegend": false,
         "type": "scatter",
         "x": [
          1.5,
          1.5,
          1.4928571428571429,
          1.5071428571428571
         ],
         "y": [
          0.07500000000000001,
          0.0625,
          0.0625,
          0.0625
         ]
        },
        {
         "hoverinfo": "none",
         "legendgroup": "bearings",
         "line": {
          "color": "#355d7a",
          "width": 1
         },
         "mode": "lines",
         "name": "Bearing 1",
         "showlegend": false,
         "type": "scatter",
         "x": [
          1.5,
          1.5,
          1.4928571428571429,
          1.5071428571428571
         ],
         "y": [
          -0.07500000000000001,
          -0.0625,
          -0.0625,
          -0.0625
         ]
        },
        {
         "hoverinfo": "none",
         "legendgroup": "bearings",
         "line": {
          "color": "#355d7a",
          "width": 1
         },
         "mode": "lines",
         "name": "Bearing 1",
         "showlegend": false,
         "type": "scatter",
         "x": [
          1.4892857142857143,
          1.5107142857142857
         ],
         "y": [
          0.07500000000000001,
          0.07500000000000001
         ]
        },
        {
         "hoverinfo": "none",
         "legendgroup": "bearings",
         "line": {
          "color": "#355d7a",
          "width": 1
         },
         "mode": "lines",
         "name": "Bearing 1",
         "showlegend": false,
         "type": "scatter",
         "x": [
          1.4892857142857143,
          1.5107142857142857
         ],
         "y": [
          -0.07500000000000001,
          -0.07500000000000001
         ]
        },
        {
         "hoverinfo": "none",
         "legendgroup": "bearings",
         "line": {
          "color": "#355d7a",
          "width": 1
         },
         "mode": "lines",
         "name": "Bearing 1",
         "showlegend": false,
         "type": "scatter",
         "x": [
          1.4892857142857143,
          1.4935714285714285
         ],
         "y": [
          0.07500000000000001,
          0.08250000000000002
         ]
        },
        {
         "hoverinfo": "none",
         "legendgroup": "bearings",
         "line": {
          "color": "#355d7a",
          "width": 1
         },
         "mode": "lines",
         "name": "Bearing 1",
         "showlegend": false,
         "type": "scatter",
         "x": [
          1.4892857142857143,
          1.4935714285714285
         ],
         "y": [
          -0.07500000000000001,
          -0.08250000000000002
         ]
        },
        {
         "hoverinfo": "none",
         "legendgroup": "bearings",
         "line": {
          "color": "#355d7a",
          "width": 1
         },
         "mode": "lines",
         "name": "Bearing 1",
         "showlegend": false,
         "type": "scatter",
         "x": [
          1.4935714285714285,
          1.4978571428571428
         ],
         "y": [
          0.07500000000000001,
          0.08250000000000002
         ]
        },
        {
         "hoverinfo": "none",
         "legendgroup": "bearings",
         "line": {
          "color": "#355d7a",
          "width": 1
         },
         "mode": "lines",
         "name": "Bearing 1",
         "showlegend": false,
         "type": "scatter",
         "x": [
          1.4935714285714285,
          1.4978571428571428
         ],
         "y": [
          -0.07500000000000001,
          -0.08250000000000002
         ]
        },
        {
         "hoverinfo": "none",
         "legendgroup": "bearings",
         "line": {
          "color": "#355d7a",
          "width": 1
         },
         "mode": "lines",
         "name": "Bearing 1",
         "showlegend": false,
         "type": "scatter",
         "x": [
          1.4978571428571428,
          1.5021428571428572
         ],
         "y": [
          0.07500000000000001,
          0.08250000000000002
         ]
        },
        {
         "hoverinfo": "none",
         "legendgroup": "bearings",
         "line": {
          "color": "#355d7a",
          "width": 1
         },
         "mode": "lines",
         "name": "Bearing 1",
         "showlegend": false,
         "type": "scatter",
         "x": [
          1.4978571428571428,
          1.5021428571428572
         ],
         "y": [
          -0.07500000000000001,
          -0.08250000000000002
         ]
        },
        {
         "hoverinfo": "none",
         "legendgroup": "bearings",
         "line": {
          "color": "#355d7a",
          "width": 1
         },
         "mode": "lines",
         "name": "Bearing 1",
         "showlegend": false,
         "type": "scatter",
         "x": [
          1.5021428571428572,
          1.5064285714285715
         ],
         "y": [
          0.07500000000000001,
          0.08250000000000002
         ]
        },
        {
         "hoverinfo": "none",
         "legendgroup": "bearings",
         "line": {
          "color": "#355d7a",
          "width": 1
         },
         "mode": "lines",
         "name": "Bearing 1",
         "showlegend": false,
         "type": "scatter",
         "x": [
          1.5021428571428572,
          1.5064285714285715
         ],
         "y": [
          -0.07500000000000001,
          -0.08250000000000002
         ]
        },
        {
         "hoverinfo": "none",
         "legendgroup": "bearings",
         "line": {
          "color": "#355d7a",
          "width": 1
         },
         "mode": "lines",
         "name": "Bearing 1",
         "showlegend": false,
         "type": "scatter",
         "x": [
          1.5064285714285715,
          1.5107142857142857
         ],
         "y": [
          0.07500000000000001,
          0.08250000000000002
         ]
        },
        {
         "hoverinfo": "none",
         "legendgroup": "bearings",
         "line": {
          "color": "#355d7a",
          "width": 1
         },
         "mode": "lines",
         "name": "Bearing 1",
         "showlegend": false,
         "type": "scatter",
         "x": [
          1.5064285714285715,
          1.5107142857142857
         ],
         "y": [
          -0.07500000000000001,
          -0.08250000000000002
         ]
        },
        {
         "hoverinfo": "none",
         "legendgroup": "bearings",
         "line": {
          "color": "#355d7a",
          "width": 1
         },
         "mode": "lines",
         "name": "Bearing 1",
         "showlegend": false,
         "type": "scatter",
         "x": [
          1.5107142857142857,
          1.515
         ],
         "y": [
          0.07500000000000001,
          0.08250000000000002
         ]
        },
        {
         "hoverinfo": "none",
         "legendgroup": "bearings",
         "line": {
          "color": "#355d7a",
          "width": 1
         },
         "mode": "lines",
         "name": "Bearing 1",
         "showlegend": false,
         "type": "scatter",
         "x": [
          1.5107142857142857,
          1.515
         ],
         "y": [
          -0.07500000000000001,
          -0.08250000000000002
         ]
        },
        {
         "hoverinfo": "none",
         "legendgroup": "bearings",
         "line": {
          "color": "#355d7a",
          "width": 1
         },
         "mode": "lines",
         "name": "Bearing 1",
         "showlegend": false,
         "type": "scatter",
         "x": [
          1.4928571428571429,
          1.4928571428571429,
          1.4892857142857143,
          1.4964285714285714,
          1.4892857142857143,
          1.4964285714285714,
          1.4892857142857143,
          1.4964285714285714,
          1.4928571428571429,
          1.4928571428571429
         ],
         "y": [
          0.037500000000000006,
          0.04107142857142858,
          0.04107142857142858,
          0.04464285714285715,
          0.04821428571428572,
          0.051785714285714296,
          0.05535714285714287,
          0.05892857142857144,
          0.05892857142857144,
          0.06250000000000001
         ]
        },
        {
         "hoverinfo": "none",
         "legendgroup": "bearings",
         "line": {
          "color": "#355d7a",
          "width": 1
         },
         "mode": "lines",
         "name": "Bearing 1",
         "showlegend": false,
         "type": "scatter",
         "x": [
          1.4928571428571429,
          1.4928571428571429,
          1.4892857142857143,
          1.4964285714285714,
          1.4892857142857143,
          1.4964285714285714,
          1.4892857142857143,
          1.4964285714285714,
          1.4928571428571429,
          1.4928571428571429
         ],
         "y": [
          -0.037500000000000006,
          -0.04107142857142858,
          -0.04107142857142858,
          -0.04464285714285715,
          -0.04821428571428572,
          -0.051785714285714296,
          -0.05535714285714287,
          -0.05892857142857144,
          -0.05892857142857144,
          -0.06250000000000001
         ]
        },
        {
         "hoverinfo": "none",
         "legendgroup": "bearings",
         "line": {
          "color": "#355d7a",
          "width": 1
         },
         "mode": "lines",
         "name": "Bearing 1",
         "showlegend": false,
         "type": "scatter",
         "x": [
          1.5071428571428571,
          1.5071428571428571
         ],
         "y": [
          0.037500000000000006,
          0.04464285714285715
         ]
        },
        {
         "hoverinfo": "none",
         "legendgroup": "bearings",
         "line": {
          "color": "#355d7a",
          "width": 1
         },
         "mode": "lines",
         "name": "Bearing 1",
         "showlegend": false,
         "type": "scatter",
         "x": [
          1.5071428571428571,
          1.5071428571428571
         ],
         "y": [
          -0.037500000000000006,
          -0.04464285714285715
         ]
        },
        {
         "hoverinfo": "none",
         "legendgroup": "bearings",
         "line": {
          "color": "#355d7a",
          "width": 1
         },
         "mode": "lines",
         "name": "Bearing 1",
         "showlegend": false,
         "type": "scatter",
         "x": [
          1.5,
          1.5,
          1.5142857142857142,
          1.5142857142857142
         ],
         "y": [
          0.05535714285714287,
          0.04464285714285715,
          0.04464285714285715,
          0.05535714285714287
         ]
        },
        {
         "hoverinfo": "none",
         "legendgroup": "bearings",
         "line": {
          "color": "#355d7a",
          "width": 1
         },
         "mode": "lines",
         "name": "Bearing 1",
         "showlegend": false,
         "type": "scatter",
         "x": [
          1.5,
          1.5,
          1.5142857142857142,
          1.5142857142857142
         ],
         "y": [
          -0.05535714285714287,
          -0.04464285714285715,
          -0.04464285714285715,
          -0.05535714285714287
         ]
        },
        {
         "hoverinfo": "none",
         "legendgroup": "bearings",
         "line": {
          "color": "#355d7a",
          "width": 1
         },
         "mode": "lines",
         "name": "Bearing 1",
         "showlegend": false,
         "type": "scatter",
         "x": [
          1.5,
          1.5142857142857142,
          1.5071428571428571,
          1.5071428571428571
         ],
         "y": [
          0.051785714285714296,
          0.051785714285714296,
          0.051785714285714296,
          0.0625
         ]
        },
        {
         "hoverinfo": "none",
         "legendgroup": "bearings",
         "line": {
          "color": "#355d7a",
          "width": 1
         },
         "mode": "lines",
         "name": "Bearing 1",
         "showlegend": false,
         "type": "scatter",
         "x": [
          1.5,
          1.5142857142857142,
          1.5071428571428571,
          1.5071428571428571
         ],
         "y": [
          -0.051785714285714296,
          -0.051785714285714296,
          -0.051785714285714296,
          -0.0625
         ]
        }
       ],
       "layout": {
        "shapes": [
         {
          "fillcolor": "Firebrick",
          "line": {
           "color": "Firebrick"
          },
          "type": "circle",
          "x0": 0.49375,
          "x1": 0.50625,
          "xref": "x",
          "y0": 0.11875,
          "y1": 0.13125,
          "yref": "y"
         },
         {
          "fillcolor": "Firebrick",
          "line": {
           "color": "Firebrick"
          },
          "type": "circle",
          "x0": 0.49375,
          "x1": 0.50625,
          "xref": "x",
          "y0": -0.13125,
          "y1": -0.11875,
          "yref": "y"
         },
         {
          "fillcolor": "Firebrick",
          "line": {
           "color": "Firebrick"
          },
          "type": "circle",
          "x0": 0.99375,
          "x1": 1.00625,
          "xref": "x",
          "y0": 0.11875,
          "y1": 0.13125,
          "yref": "y"
         },
         {
          "fillcolor": "Firebrick",
          "line": {
           "color": "Firebrick"
          },
          "type": "circle",
          "x0": 0.99375,
          "x1": 1.00625,
          "xref": "x",
          "y0": -0.13125,
          "y1": -0.11875,
          "yref": "y"
         }
        ],
        "template": {
         "data": {
          "bar": [
           {
            "error_x": {
             "color": "#2a3f5f"
            },
            "error_y": {
             "color": "#2a3f5f"
            },
            "marker": {
             "line": {
              "color": "white",
              "width": 0.5
             }
            },
            "type": "bar"
           }
          ],
          "barpolar": [
           {
            "marker": {
             "line": {
              "color": "white",
              "width": 0.5
             }
            },
            "type": "barpolar"
           }
          ],
          "carpet": [
           {
            "aaxis": {
             "endlinecolor": "#2a3f5f",
             "gridcolor": "#C8D4E3",
             "linecolor": "#C8D4E3",
             "minorgridcolor": "#C8D4E3",
             "startlinecolor": "#2a3f5f"
            },
            "baxis": {
             "endlinecolor": "#2a3f5f",
             "gridcolor": "#C8D4E3",
             "linecolor": "#C8D4E3",
             "minorgridcolor": "#C8D4E3",
             "startlinecolor": "#2a3f5f"
            },
            "type": "carpet"
           }
          ],
          "choropleth": [
           {
            "colorbar": {
             "outlinewidth": 0,
             "ticks": ""
            },
            "type": "choropleth"
           }
          ],
          "contour": [
           {
            "colorbar": {
             "outlinewidth": 0,
             "ticks": ""
            },
            "colorscale": [
             [
              0.0,
              "#0d0887"
             ],
             [
              0.1111111111111111,
              "#46039f"
             ],
             [
              0.2222222222222222,
              "#7201a8"
             ],
             [
              0.3333333333333333,
              "#9c179e"
             ],
             [
              0.4444444444444444,
              "#bd3786"
             ],
             [
              0.5555555555555556,
              "#d8576b"
             ],
             [
              0.6666666666666666,
              "#ed7953"
             ],
             [
              0.7777777777777778,
              "#fb9f3a"
             ],
             [
              0.8888888888888888,
              "#fdca26"
             ],
             [
              1.0,
              "#f0f921"
             ]
            ],
            "type": "contour"
           }
          ],
          "contourcarpet": [
           {
            "colorbar": {
             "outlinewidth": 0,
             "ticks": ""
            },
            "type": "contourcarpet"
           }
          ],
          "heatmap": [
           {
            "colorbar": {
             "outlinewidth": 0,
             "ticks": ""
            },
            "colorscale": [
             [
              0.0,
              "#0d0887"
             ],
             [
              0.1111111111111111,
              "#46039f"
             ],
             [
              0.2222222222222222,
              "#7201a8"
             ],
             [
              0.3333333333333333,
              "#9c179e"
             ],
             [
              0.4444444444444444,
              "#bd3786"
             ],
             [
              0.5555555555555556,
              "#d8576b"
             ],
             [
              0.6666666666666666,
              "#ed7953"
             ],
             [
              0.7777777777777778,
              "#fb9f3a"
             ],
             [
              0.8888888888888888,
              "#fdca26"
             ],
             [
              1.0,
              "#f0f921"
             ]
            ],
            "type": "heatmap"
           }
          ],
          "heatmapgl": [
           {
            "colorbar": {
             "outlinewidth": 0,
             "ticks": ""
            },
            "colorscale": [
             [
              0.0,
              "#0d0887"
             ],
             [
              0.1111111111111111,
              "#46039f"
             ],
             [
              0.2222222222222222,
              "#7201a8"
             ],
             [
              0.3333333333333333,
              "#9c179e"
             ],
             [
              0.4444444444444444,
              "#bd3786"
             ],
             [
              0.5555555555555556,
              "#d8576b"
             ],
             [
              0.6666666666666666,
              "#ed7953"
             ],
             [
              0.7777777777777778,
              "#fb9f3a"
             ],
             [
              0.8888888888888888,
              "#fdca26"
             ],
             [
              1.0,
              "#f0f921"
             ]
            ],
            "type": "heatmapgl"
           }
          ],
          "histogram": [
           {
            "marker": {
             "colorbar": {
              "outlinewidth": 0,
              "ticks": ""
             }
            },
            "type": "histogram"
           }
          ],
          "histogram2d": [
           {
            "colorbar": {
             "outlinewidth": 0,
             "ticks": ""
            },
            "colorscale": [
             [
              0.0,
              "#0d0887"
             ],
             [
              0.1111111111111111,
              "#46039f"
             ],
             [
              0.2222222222222222,
              "#7201a8"
             ],
             [
              0.3333333333333333,
              "#9c179e"
             ],
             [
              0.4444444444444444,
              "#bd3786"
             ],
             [
              0.5555555555555556,
              "#d8576b"
             ],
             [
              0.6666666666666666,
              "#ed7953"
             ],
             [
              0.7777777777777778,
              "#fb9f3a"
             ],
             [
              0.8888888888888888,
              "#fdca26"
             ],
             [
              1.0,
              "#f0f921"
             ]
            ],
            "type": "histogram2d"
           }
          ],
          "histogram2dcontour": [
           {
            "colorbar": {
             "outlinewidth": 0,
             "ticks": ""
            },
            "colorscale": [
             [
              0.0,
              "#0d0887"
             ],
             [
              0.1111111111111111,
              "#46039f"
             ],
             [
              0.2222222222222222,
              "#7201a8"
             ],
             [
              0.3333333333333333,
              "#9c179e"
             ],
             [
              0.4444444444444444,
              "#bd3786"
             ],
             [
              0.5555555555555556,
              "#d8576b"
             ],
             [
              0.6666666666666666,
              "#ed7953"
             ],
             [
              0.7777777777777778,
              "#fb9f3a"
             ],
             [
              0.8888888888888888,
              "#fdca26"
             ],
             [
              1.0,
              "#f0f921"
             ]
            ],
            "type": "histogram2dcontour"
           }
          ],
          "mesh3d": [
           {
            "colorbar": {
             "outlinewidth": 0,
             "ticks": ""
            },
            "type": "mesh3d"
           }
          ],
          "parcoords": [
           {
            "line": {
             "colorbar": {
              "outlinewidth": 0,
              "ticks": ""
             }
            },
            "type": "parcoords"
           }
          ],
          "pie": [
           {
            "automargin": true,
            "type": "pie"
           }
          ],
          "scatter": [
           {
            "marker": {
             "colorbar": {
              "outlinewidth": 0,
              "ticks": ""
             }
            },
            "type": "scatter"
           }
          ],
          "scatter3d": [
           {
            "line": {
             "colorbar": {
              "outlinewidth": 0,
              "ticks": ""
             }
            },
            "marker": {
             "colorbar": {
              "outlinewidth": 0,
              "ticks": ""
             },
             "size": 4
            },
            "type": "scatter3d"
           }
          ],
          "scattercarpet": [
           {
            "marker": {
             "colorbar": {
              "outlinewidth": 0,
              "ticks": ""
             }
            },
            "type": "scattercarpet"
           }
          ],
          "scattergeo": [
           {
            "marker": {
             "colorbar": {
              "outlinewidth": 0,
              "ticks": ""
             }
            },
            "type": "scattergeo"
           }
          ],
          "scattergl": [
           {
            "marker": {
             "colorbar": {
              "outlinewidth": 0,
              "ticks": ""
             }
            },
            "type": "scattergl"
           }
          ],
          "scattermapbox": [
           {
            "marker": {
             "colorbar": {
              "outlinewidth": 0,
              "ticks": ""
             }
            },
            "type": "scattermapbox"
           }
          ],
          "scatterpolar": [
           {
            "marker": {
             "colorbar": {
              "outlinewidth": 0,
              "ticks": ""
             }
            },
            "type": "scatterpolar"
           }
          ],
          "scatterpolargl": [
           {
            "marker": {
             "colorbar": {
              "outlinewidth": 0,
              "ticks": ""
             }
            },
            "type": "scatterpolargl"
           }
          ],
          "scatterternary": [
           {
            "marker": {
             "colorbar": {
              "outlinewidth": 0,
              "ticks": ""
             }
            },
            "type": "scatterternary"
           }
          ],
          "surface": [
           {
            "colorbar": {
             "outlinewidth": 0,
             "ticks": ""
            },
            "colorscale": [
             [
              0.0,
              "#0d0887"
             ],
             [
              0.1111111111111111,
              "#46039f"
             ],
             [
              0.2222222222222222,
              "#7201a8"
             ],
             [
              0.3333333333333333,
              "#9c179e"
             ],
             [
              0.4444444444444444,
              "#bd3786"
             ],
             [
              0.5555555555555556,
              "#d8576b"
             ],
             [
              0.6666666666666666,
              "#ed7953"
             ],
             [
              0.7777777777777778,
              "#fb9f3a"
             ],
             [
              0.8888888888888888,
              "#fdca26"
             ],
             [
              1.0,
              "#f0f921"
             ]
            ],
            "type": "surface"
           }
          ],
          "table": [
           {
            "cells": {
             "fill": {
              "color": "#EBF0F8"
             },
             "line": {
              "color": "white"
             }
            },
            "header": {
             "fill": {
              "color": "#C8D4E3"
             },
             "line": {
              "color": "white"
             }
            },
            "type": "table"
           }
          ]
         },
         "layout": {
          "annotationdefaults": {
           "arrowcolor": "#2a3f5f",
           "arrowhead": 0,
           "arrowwidth": 1
          },
          "coloraxis": {
           "colorbar": {
            "outlinewidth": 0,
            "ticks": ""
           }
          },
          "colorscale": {
           "diverging": [
            [
             0,
             "#8e0152"
            ],
            [
             0.1,
             "#c51b7d"
            ],
            [
             0.2,
             "#de77ae"
            ],
            [
             0.3,
             "#f1b6da"
            ],
            [
             0.4,
             "#fde0ef"
            ],
            [
             0.5,
             "#f7f7f7"
            ],
            [
             0.6,
             "#e6f5d0"
            ],
            [
             0.7,
             "#b8e186"
            ],
            [
             0.8,
             "#7fbc41"
            ],
            [
             0.9,
             "#4d9221"
            ],
            [
             1,
             "#276419"
            ]
           ],
           "sequential": [
            [
             0.0,
             "#0d0887"
            ],
            [
             0.1111111111111111,
             "#46039f"
            ],
            [
             0.2222222222222222,
             "#7201a8"
            ],
            [
             0.3333333333333333,
             "#9c179e"
            ],
            [
             0.4444444444444444,
             "#bd3786"
            ],
            [
             0.5555555555555556,
             "#d8576b"
            ],
            [
             0.6666666666666666,
             "#ed7953"
            ],
            [
             0.7777777777777778,
             "#fb9f3a"
            ],
            [
             0.8888888888888888,
             "#fdca26"
            ],
            [
             1.0,
             "#f0f921"
            ]
           ],
           "sequentialminus": [
            [
             0.0,
             "#0d0887"
            ],
            [
             0.1111111111111111,
             "#46039f"
            ],
            [
             0.2222222222222222,
             "#7201a8"
            ],
            [
             0.3333333333333333,
             "#9c179e"
            ],
            [
             0.4444444444444444,
             "#bd3786"
            ],
            [
             0.5555555555555556,
             "#d8576b"
            ],
            [
             0.6666666666666666,
             "#ed7953"
            ],
            [
             0.7777777777777778,
             "#fb9f3a"
            ],
            [
             0.8888888888888888,
             "#fdca26"
            ],
            [
             1.0,
             "#f0f921"
            ]
           ]
          },
          "colorway": [
           "#1f77b4",
           "#ff7f0e",
           "#2ca02c",
           "#d62728",
           "#9467bd",
           "#8c564b",
           "#e377c2",
           "#7f7f7f",
           "#bcbd22",
           "#17becf"
          ],
          "font": {
           "color": "#2a3f5f"
          },
          "geo": {
           "bgcolor": "white",
           "lakecolor": "white",
           "landcolor": "white",
           "showlakes": true,
           "showland": true,
           "subunitcolor": "#C8D4E3"
          },
          "hoverlabel": {
           "align": "left"
          },
          "hovermode": "closest",
          "mapbox": {
           "style": "light"
          },
          "paper_bgcolor": "white",
          "plot_bgcolor": "white",
          "polar": {
           "angularaxis": {
            "gridcolor": "#EBF0F8",
            "linecolor": "#EBF0F8",
            "ticks": ""
           },
           "bgcolor": "white",
           "radialaxis": {
            "gridcolor": "#EBF0F8",
            "linecolor": "#EBF0F8",
            "ticks": ""
           }
          },
          "scene": {
           "camera": {
            "center": {
             "x": 0,
             "y": 0,
             "z": 0
            },
            "eye": {
             "x": 2.0,
             "y": 2.0,
             "z": 2.0
            },
            "up": {
             "x": 0,
             "y": 0,
             "z": 1
            }
           },
           "xaxis": {
            "backgroundcolor": "white",
            "gridcolor": "#DFE8F3",
            "gridwidth": 2,
            "linecolor": "#EBF0F8",
            "showbackground": true,
            "showspikes": false,
            "ticks": "",
            "zerolinecolor": "#EBF0F8"
           },
           "yaxis": {
            "backgroundcolor": "white",
            "gridcolor": "#DFE8F3",
            "gridwidth": 2,
            "linecolor": "#EBF0F8",
            "showbackground": true,
            "showspikes": false,
            "ticks": "",
            "zerolinecolor": "#EBF0F8"
           },
           "zaxis": {
            "backgroundcolor": "white",
            "gridcolor": "#DFE8F3",
            "gridwidth": 2,
            "linecolor": "#EBF0F8",
            "showbackground": true,
            "showspikes": false,
            "ticks": "",
            "zerolinecolor": "#EBF0F8"
           }
          },
          "shapedefaults": {
           "line": {
            "color": "#2a3f5f"
           }
          },
          "ternary": {
           "aaxis": {
            "gridcolor": "#DFE8F3",
            "linecolor": "#A2B1C6",
            "ticks": ""
           },
           "baxis": {
            "gridcolor": "#DFE8F3",
            "linecolor": "#A2B1C6",
            "ticks": ""
           },
           "bgcolor": "white",
           "caxis": {
            "gridcolor": "#DFE8F3",
            "linecolor": "#A2B1C6",
            "ticks": ""
           }
          },
          "title": {
           "x": 0.05
          },
          "xaxis": {
           "automargin": true,
           "gridcolor": "#EBF0F8",
           "linecolor": "black",
           "linewidth": 2.0,
           "mirror": true,
           "showline": true,
           "ticks": "",
           "title": {
            "standoff": 15
           },
           "zeroline": false,
           "zerolinecolor": "#EBF0F8",
           "zerolinewidth": 2
          },
          "yaxis": {
           "automargin": true,
           "gridcolor": "#EBF0F8",
           "linecolor": "black",
           "linewidth": 2.0,
           "mirror": true,
           "showline": true,
           "ticks": "",
           "title": {
            "standoff": 15
           },
           "zeroline": false,
           "zerolinecolor": "#EBF0F8",
           "zerolinewidth": 2
          }
         }
        },
        "title": {
         "text": "Rotor Model"
        },
        "xaxis": {
         "mirror": true,
         "range": [
          -0.15000000000000002,
          1.6500000000000001
         ],
         "showgrid": false,
         "title": {
          "text": "Axial location (m)"
         }
        },
        "yaxis": {
         "mirror": true,
         "range": [
          -0.44999999999999996,
          0.44999999999999996
         ],
         "showgrid": false,
         "title": {
          "text": "Shaft radius (m)"
         }
        }
       }
      }
     },
     "metadata": {},
     "output_type": "display_data"
    }
   ],
   "source": [
    "# From_section class method instantiation.\n",
    "bearing_seal_elements = []\n",
    "disk_elements = []\n",
    "shaft_length_data = 3 * [0.5]\n",
    "i_d = 3 * [0]\n",
    "o_d = 3 * [0.05]\n",
    "\n",
    "disk_elements.append(\n",
    "    rs.DiskElement.from_geometry(n=1, material=Steel, width=0.07, i_d=0.05, o_d=0.28)\n",
    ")\n",
    "\n",
    "disk_elements.append(\n",
    "    rs.DiskElement.from_geometry(n=2, material=Steel, width=0.07, i_d=0.05, o_d=0.35)\n",
    ")\n",
    "bearing_seal_elements.append(rs.BearingElement(n=0, kxx=1e6, kyy=1e6, cxx=0, cyy=0))\n",
    "bearing_seal_elements.append(rs.BearingElement(n=3, kxx=1e6, kyy=1e6, cxx=0, cyy=0))\n",
    "\n",
    "rotor594fs = rs.Rotor.from_section(\n",
    "    brg_seal_data=bearing_seal_elements,\n",
    "    disk_data=disk_elements,\n",
    "    leng_data=shaft_length_data,\n",
    "    idl_data=i_d,\n",
    "    odl_data=o_d,\n",
    "    material_data=Steel,\n",
    ")\n",
    "rotor594fs.plot_rotor()"
   ]
  },
  {
   "cell_type": "code",
   "execution_count": 4,
   "metadata": {
    "execution": {
     "iopub.execute_input": "2023-05-04T01:03:34.632858Z",
     "iopub.status.busy": "2023-05-04T01:03:34.632719Z",
     "iopub.status.idle": "2023-05-04T01:03:34.776275Z",
     "shell.execute_reply": "2023-05-04T01:03:34.775878Z"
    }
   },
   "outputs": [
    {
     "name": "stdout",
     "output_type": "stream",
     "text": [
      "Normal Instantiation = [ 86.65809746  86.65813124 274.31285297 274.31285487 716.78464412\n",
      " 716.78798043]\n",
      "\n",
      "\n",
      "From Section Instantiation = [ 86.65926451  86.65926451 274.37573752 274.37573752 718.87267816\n",
      " 718.87267816]\n"
     ]
    }
   ],
   "source": [
    "# Obtaining results for w=0 (wn is in rad/s)\n",
    "modal594c = rotor594c.run_modal(0)\n",
    "modal594fs = rotor594fs.run_modal(0)\n",
    "\n",
    "print(\"Normal Instantiation =\", modal594c.wn)\n",
    "print(\"\\n\")\n",
    "print(\"From Section Instantiation =\", modal594fs.wn)"
   ]
  },
  {
   "cell_type": "code",
   "execution_count": 5,
   "metadata": {
    "execution": {
     "iopub.execute_input": "2023-05-04T01:03:34.778277Z",
     "iopub.status.busy": "2023-05-04T01:03:34.778037Z",
     "iopub.status.idle": "2023-05-04T01:03:34.816555Z",
     "shell.execute_reply": "2023-05-04T01:03:34.816170Z"
    }
   },
   "outputs": [
    {
     "name": "stdout",
     "output_type": "stream",
     "text": [
      "Normal Instantiation = [ 84.19790045  89.03269396 246.44121183 301.08623205 594.81950178\n",
      " 834.04203781]\n"
     ]
    }
   ],
   "source": [
    "# Obtaining results for w=4000RPM (wn is in rad/s)\n",
    "\n",
    "modal594c = rotor594c.run_modal(4000 * np.pi / 30)\n",
    "\n",
    "print(\"Normal Instantiation =\", modal594c.wn)"
   ]
  },
  {
   "cell_type": "markdown",
   "metadata": {},
   "source": [
    "## References\n",
    "\n",
    "```{bibliography}\n",
    ":filter: docname in docnames\n",
    "```"
   ]
  }
 ],
 "metadata": {
  "kernelspec": {
   "display_name": "Python 3 (ipykernel)",
   "language": "python",
   "name": "python3"
  },
  "language_info": {
   "codemirror_mode": {
    "name": "ipython",
    "version": 3
   },
   "file_extension": ".py",
   "mimetype": "text/x-python",
   "name": "python",
   "nbconvert_exporter": "python",
   "pygments_lexer": "ipython3",
   "version": "3.10.9"
  }
 },
 "nbformat": 4,
 "nbformat_minor": 2
}
