{
 "cells": [
  {
   "cell_type": "markdown",
   "metadata": {},
   "source": [
    "Example 14 - Uncertainties on material properties\n",
    "========================================\n",
    "In this example, we use the rotor seen in Example 5.9.4 from {cite}`friswell2010dynamics`.\n",
    "\n",
    "This system is the same as that of Example 3, but now we'll work with uncertainties on material properties, representing a defect in the shaft. We will apply the uncertainties at the central elements."
   ]
  },
  {
   "cell_type": "code",
   "execution_count": 1,
   "metadata": {
    "execution": {
     "iopub.execute_input": "2023-05-04T01:00:44.838170Z",
     "iopub.status.busy": "2023-05-04T01:00:44.837938Z",
     "iopub.status.idle": "2023-05-04T01:00:45.785313Z",
     "shell.execute_reply": "2023-05-04T01:00:45.784735Z"
    }
   },
   "outputs": [],
   "source": [
    "import ross as rs\n",
    "import ross.stochastic as srs\n",
    "import numpy as np"
   ]
  },
  {
   "cell_type": "code",
   "execution_count": 2,
   "metadata": {
    "execution": {
     "iopub.execute_input": "2023-05-04T01:00:45.787378Z",
     "iopub.status.busy": "2023-05-04T01:00:45.787208Z",
     "iopub.status.idle": "2023-05-04T01:00:45.842217Z",
     "shell.execute_reply": "2023-05-04T01:00:45.841724Z"
    },
    "scrolled": true
   },
   "outputs": [],
   "source": [
    "# Deterministic Shaft Elements\n",
    "Steel = rs.steel\n",
    "shaft = [rs.ShaftElement(L=0.25, material=Steel, idl=0, odl=0.05) for i in range(4)]\n",
    "\n",
    "# Material with random properties\n",
    "size = 50\n",
    "E = np.random.uniform(low=190e9, high=210e9, size=size)\n",
    "rho = np.random.uniform(low=7000, high=7810, size=size)\n",
    "G_s = np.random.uniform(low=70.5e9, high=81.2e9, size=size)\n",
    "rand_mat = srs.ST_Material(name=\"Steel\", rho=rho, E=E, G_s=G_s)\n",
    "\n",
    "# Stochastic Shaft Elements\n",
    "rand_el = srs.ST_ShaftElement(\n",
    "    L=0.25,\n",
    "    idl=0,\n",
    "    odl=0.05,\n",
    "    material=rand_mat,\n",
    "    is_random=[\"material\"],\n",
    ")\n",
    "\n",
    "# Inserting stochastic elements to the shaft elements list\n",
    "shaft.insert(2, rand_el)\n",
    "shaft.insert(3, rand_el)\n",
    "\n",
    "# Deterministic Disk Elements\n",
    "disk1 = rs.DiskElement.from_geometry(\n",
    "    n=2,\n",
    "    material=Steel,\n",
    "    width=0.07,\n",
    "    i_d=0.05,\n",
    "    o_d=0.28,\n",
    ")\n",
    "\n",
    "disk2 = rs.DiskElement.from_geometry(\n",
    "    n=4,\n",
    "    material=Steel,\n",
    "    width=0.07,\n",
    "    i_d=0.05,\n",
    "    o_d=0.35,\n",
    ")\n",
    "disks = [disk1, disk2]"
   ]
  },
  {
   "cell_type": "markdown",
   "metadata": {},
   "source": [
    "In this example, let's consider an uniform distribuition for the coefficients. Because it's a demonstrative example, we'll not use too many samples, to avoid taking too long to run the simulation.\n",
    "\n",
    "We can use `numpy.random` package to generate random values for our variables.\n",
    "\n",
    "#### Stochastic Bearing Elements"
   ]
  },
  {
   "cell_type": "code",
   "execution_count": 3,
   "metadata": {
    "execution": {
     "iopub.execute_input": "2023-05-04T01:00:45.844301Z",
     "iopub.status.busy": "2023-05-04T01:00:45.844189Z",
     "iopub.status.idle": "2023-05-04T01:00:45.847872Z",
     "shell.execute_reply": "2023-05-04T01:00:45.847269Z"
    }
   },
   "outputs": [],
   "source": [
    "# random variables must have the same size\n",
    "bearing1 = rs.BearingElement(n=0, kxx=1e6, cxx=2e2)\n",
    "bearing2 = rs.BearingElement(n=6, kxx=1e6, cxx=2e2)\n",
    "bearings = [bearing1, bearing2]"
   ]
  },
  {
   "cell_type": "code",
   "execution_count": 4,
   "metadata": {
    "execution": {
     "iopub.execute_input": "2023-05-04T01:00:45.849961Z",
     "iopub.status.busy": "2023-05-04T01:00:45.849572Z",
     "iopub.status.idle": "2023-05-04T01:00:47.047928Z",
     "shell.execute_reply": "2023-05-04T01:00:47.047357Z"
    }
   },
   "outputs": [
    {
     "name": "stdout",
     "output_type": "stream",
     "text": [
      "Number of samples: 50\n"
     ]
    }
   ],
   "source": [
    "# Building random instances for a rotor model\n",
    "\n",
    "rand_rotor = srs.ST_Rotor(\n",
    "    shaft_elements=shaft, disk_elements=disks, bearing_elements=bearings\n",
    ")\n",
    "\n",
    "# Number of samples\n",
    "print(\"Number of samples:\", len(list(iter(rand_rotor))))"
   ]
  },
  {
   "cell_type": "markdown",
   "metadata": {},
   "source": [
    "#### Plotting a random sample\n",
    "\n",
    "We can use `numpy.random.choice` to take a random rotor object. Then, we can use the same functions than to `Rotor` class."
   ]
  },
  {
   "cell_type": "code",
   "execution_count": 5,
   "metadata": {
    "execution": {
     "iopub.execute_input": "2023-05-04T01:00:47.050008Z",
     "iopub.status.busy": "2023-05-04T01:00:47.049892Z",
     "iopub.status.idle": "2023-05-04T01:00:48.381888Z",
     "shell.execute_reply": "2023-05-04T01:00:48.381424Z"
    }
   },
   "outputs": [
    {
     "data": {
      "application/vnd.plotly.v1+json": {
       "config": {
        "plotlyServerURL": "https://plot.ly"
       },
       "data": [
        {
         "hoverinfo": "none",
         "line": {
          "color": "black",
          "dash": "dashdot",
          "width": 3.0
         },
         "mode": "lines",
         "opacity": 0.7,
         "showlegend": false,
         "type": "scatter",
         "x": [
          -0.30000000000000004,
          1.7999999999999998
         ],
         "y": [
          0,
          0
         ]
        },
        {
         "hoverinfo": "none",
         "marker": {
          "color": "#ffcc99",
          "line": {
           "color": "black",
           "width": 1.0
          },
          "opacity": 0.7,
          "size": 20
         },
         "mode": "markers+text",
         "showlegend": false,
         "text": [
          "0",
          "1",
          "2",
          "3",
          "4",
          "5",
          "6"
         ],
         "type": "scatter",
         "x": [
          0.0,
          0.25,
          0.5,
          0.75,
          1.0,
          1.25,
          1.5
         ],
         "y": [
          0.0,
          0.0,
          0.0,
          0.0,
          0.0,
          0.0,
          0.0
         ]
        },
        {
         "customdata": [
          [
           0,
           0.05,
           0.0,
           0.05,
           0.0,
           0.25,
           "Steel"
          ],
          [
           0,
           0.05,
           0.0,
           0.05,
           0.0,
           0.25,
           "Steel"
          ],
          [
           0,
           0.05,
           0.0,
           0.05,
           0.0,
           0.25,
           "Steel"
          ],
          [
           0,
           0.05,
           0.0,
           0.05,
           0.0,
           0.25,
           "Steel"
          ],
          [
           0,
           0.05,
           0.0,
           0.05,
           0.0,
           0.25,
           "Steel"
          ],
          [
           0,
           0.05,
           0.0,
           0.05,
           0.0,
           0.25,
           "Steel"
          ],
          [
           0,
           0.05,
           0.0,
           0.05,
           0.0,
           0.25,
           "Steel"
          ],
          [
           0,
           0.05,
           0.0,
           0.05,
           0.0,
           0.25,
           "Steel"
          ],
          [
           0,
           0.05,
           0.0,
           0.05,
           0.0,
           0.25,
           "Steel"
          ],
          [
           0,
           0.05,
           0.0,
           0.05,
           0.0,
           0.25,
           "Steel"
          ]
         ],
         "fill": "toself",
         "fillcolor": "#525252",
         "hoverinfo": "text",
         "hoverlabel": {
          "bgcolor": "#525252"
         },
         "hoveron": "points+fills",
         "hovertemplate": "Element Number: 0<br>Left Outer Diameter: 0.05 m<br>Left Inner Diameter: 0.0 m<br>Right Outer Diameter: 0.05 m<br>Right Inner Diameter: 0.0 m<br>Element Length: 0.25 m<br>Material: Steel<br>",
         "legendgroup": "Shaft",
         "line": {
          "color": "black",
          "width": 1.5
         },
         "mode": "lines",
         "name": "ShaftElement 0",
         "opacity": 0.5,
         "showlegend": false,
         "text": "Element Number: 0<br>Left Outer Diameter: 0.05 m<br>Left Inner Diameter: 0.0 m<br>Right Outer Diameter: 0.05 m<br>Right Inner Diameter: 0.0 m<br>Element Length: 0.25 m<br>Material: Steel<br>",
         "type": "scatter",
         "x": [
          0.0,
          0.0,
          0.25,
          0.25,
          0.0,
          0.0,
          0.0,
          0.25,
          0.25,
          0.0
         ],
         "y": [
          0.0,
          0.025,
          0.025,
          0.0,
          0.0,
          -0.0,
          -0.025,
          -0.025,
          -0.0,
          -0.0
         ]
        },
        {
         "customdata": [
          [
           1,
           0.05,
           0.0,
           0.05,
           0.0,
           0.25,
           "Steel"
          ],
          [
           1,
           0.05,
           0.0,
           0.05,
           0.0,
           0.25,
           "Steel"
          ],
          [
           1,
           0.05,
           0.0,
           0.05,
           0.0,
           0.25,
           "Steel"
          ],
          [
           1,
           0.05,
           0.0,
           0.05,
           0.0,
           0.25,
           "Steel"
          ],
          [
           1,
           0.05,
           0.0,
           0.05,
           0.0,
           0.25,
           "Steel"
          ],
          [
           1,
           0.05,
           0.0,
           0.05,
           0.0,
           0.25,
           "Steel"
          ],
          [
           1,
           0.05,
           0.0,
           0.05,
           0.0,
           0.25,
           "Steel"
          ],
          [
           1,
           0.05,
           0.0,
           0.05,
           0.0,
           0.25,
           "Steel"
          ],
          [
           1,
           0.05,
           0.0,
           0.05,
           0.0,
           0.25,
           "Steel"
          ],
          [
           1,
           0.05,
           0.0,
           0.05,
           0.0,
           0.25,
           "Steel"
          ]
         ],
         "fill": "toself",
         "fillcolor": "#525252",
         "hoverinfo": "text",
         "hoverlabel": {
          "bgcolor": "#525252"
         },
         "hoveron": "points+fills",
         "hovertemplate": "Element Number: 1<br>Left Outer Diameter: 0.05 m<br>Left Inner Diameter: 0.0 m<br>Right Outer Diameter: 0.05 m<br>Right Inner Diameter: 0.0 m<br>Element Length: 0.25 m<br>Material: Steel<br>",
         "legendgroup": "Shaft",
         "line": {
          "color": "black",
          "width": 1.5
         },
         "mode": "lines",
         "name": "ShaftElement 1",
         "opacity": 0.5,
         "showlegend": false,
         "text": "Element Number: 1<br>Left Outer Diameter: 0.05 m<br>Left Inner Diameter: 0.0 m<br>Right Outer Diameter: 0.05 m<br>Right Inner Diameter: 0.0 m<br>Element Length: 0.25 m<br>Material: Steel<br>",
         "type": "scatter",
         "x": [
          0.25,
          0.25,
          0.5,
          0.5,
          0.25,
          0.25,
          0.25,
          0.5,
          0.5,
          0.25
         ],
         "y": [
          0.0,
          0.025,
          0.025,
          0.0,
          0.0,
          -0.0,
          -0.025,
          -0.025,
          -0.0,
          -0.0
         ]
        },
        {
         "customdata": [
          [
           2,
           0.05,
           0.0,
           0.05,
           0.0,
           0.25,
           "Steel"
          ],
          [
           2,
           0.05,
           0.0,
           0.05,
           0.0,
           0.25,
           "Steel"
          ],
          [
           2,
           0.05,
           0.0,
           0.05,
           0.0,
           0.25,
           "Steel"
          ],
          [
           2,
           0.05,
           0.0,
           0.05,
           0.0,
           0.25,
           "Steel"
          ],
          [
           2,
           0.05,
           0.0,
           0.05,
           0.0,
           0.25,
           "Steel"
          ],
          [
           2,
           0.05,
           0.0,
           0.05,
           0.0,
           0.25,
           "Steel"
          ],
          [
           2,
           0.05,
           0.0,
           0.05,
           0.0,
           0.25,
           "Steel"
          ],
          [
           2,
           0.05,
           0.0,
           0.05,
           0.0,
           0.25,
           "Steel"
          ],
          [
           2,
           0.05,
           0.0,
           0.05,
           0.0,
           0.25,
           "Steel"
          ],
          [
           2,
           0.05,
           0.0,
           0.05,
           0.0,
           0.25,
           "Steel"
          ]
         ],
         "fill": "toself",
         "fillcolor": "#525252",
         "hoverinfo": "text",
         "hoverlabel": {
          "bgcolor": "#525252"
         },
         "hoveron": "points+fills",
         "hovertemplate": "Element Number: 2<br>Left Outer Diameter: 0.05 m<br>Left Inner Diameter: 0.0 m<br>Right Outer Diameter: 0.05 m<br>Right Inner Diameter: 0.0 m<br>Element Length: 0.25 m<br>Material: Steel<br>",
         "legendgroup": "Shaft",
         "line": {
          "color": "black",
          "width": 1.5
         },
         "mode": "lines",
         "name": "ShaftElement 2",
         "opacity": 0.5,
         "showlegend": false,
         "text": "Element Number: 2<br>Left Outer Diameter: 0.05 m<br>Left Inner Diameter: 0.0 m<br>Right Outer Diameter: 0.05 m<br>Right Inner Diameter: 0.0 m<br>Element Length: 0.25 m<br>Material: Steel<br>",
         "type": "scatter",
         "x": [
          0.5,
          0.5,
          0.75,
          0.75,
          0.5,
          0.5,
          0.5,
          0.75,
          0.75,
          0.5
         ],
         "y": [
          0.0,
          0.025,
          0.025,
          0.0,
          0.0,
          -0.0,
          -0.025,
          -0.025,
          -0.0,
          -0.0
         ]
        },
        {
         "customdata": [
          [
           3,
           0.05,
           0.0,
           0.05,
           0.0,
           0.25,
           "Steel"
          ],
          [
           3,
           0.05,
           0.0,
           0.05,
           0.0,
           0.25,
           "Steel"
          ],
          [
           3,
           0.05,
           0.0,
           0.05,
           0.0,
           0.25,
           "Steel"
          ],
          [
           3,
           0.05,
           0.0,
           0.05,
           0.0,
           0.25,
           "Steel"
          ],
          [
           3,
           0.05,
           0.0,
           0.05,
           0.0,
           0.25,
           "Steel"
          ],
          [
           3,
           0.05,
           0.0,
           0.05,
           0.0,
           0.25,
           "Steel"
          ],
          [
           3,
           0.05,
           0.0,
           0.05,
           0.0,
           0.25,
           "Steel"
          ],
          [
           3,
           0.05,
           0.0,
           0.05,
           0.0,
           0.25,
           "Steel"
          ],
          [
           3,
           0.05,
           0.0,
           0.05,
           0.0,
           0.25,
           "Steel"
          ],
          [
           3,
           0.05,
           0.0,
           0.05,
           0.0,
           0.25,
           "Steel"
          ]
         ],
         "fill": "toself",
         "fillcolor": "#525252",
         "hoverinfo": "text",
         "hoverlabel": {
          "bgcolor": "#525252"
         },
         "hoveron": "points+fills",
         "hovertemplate": "Element Number: 3<br>Left Outer Diameter: 0.05 m<br>Left Inner Diameter: 0.0 m<br>Right Outer Diameter: 0.05 m<br>Right Inner Diameter: 0.0 m<br>Element Length: 0.25 m<br>Material: Steel<br>",
         "legendgroup": "Shaft",
         "line": {
          "color": "black",
          "width": 1.5
         },
         "mode": "lines",
         "name": "ShaftElement 3",
         "opacity": 0.5,
         "showlegend": false,
         "text": "Element Number: 3<br>Left Outer Diameter: 0.05 m<br>Left Inner Diameter: 0.0 m<br>Right Outer Diameter: 0.05 m<br>Right Inner Diameter: 0.0 m<br>Element Length: 0.25 m<br>Material: Steel<br>",
         "type": "scatter",
         "x": [
          0.75,
          0.75,
          1.0,
          1.0,
          0.75,
          0.75,
          0.75,
          1.0,
          1.0,
          0.75
         ],
         "y": [
          0.0,
          0.025,
          0.025,
          0.0,
          0.0,
          -0.0,
          -0.025,
          -0.025,
          -0.0,
          -0.0
         ]
        },
        {
         "customdata": [
          [
           4,
           0.05,
           0.0,
           0.05,
           0.0,
           0.25,
           "Steel"
          ],
          [
           4,
           0.05,
           0.0,
           0.05,
           0.0,
           0.25,
           "Steel"
          ],
          [
           4,
           0.05,
           0.0,
           0.05,
           0.0,
           0.25,
           "Steel"
          ],
          [
           4,
           0.05,
           0.0,
           0.05,
           0.0,
           0.25,
           "Steel"
          ],
          [
           4,
           0.05,
           0.0,
           0.05,
           0.0,
           0.25,
           "Steel"
          ],
          [
           4,
           0.05,
           0.0,
           0.05,
           0.0,
           0.25,
           "Steel"
          ],
          [
           4,
           0.05,
           0.0,
           0.05,
           0.0,
           0.25,
           "Steel"
          ],
          [
           4,
           0.05,
           0.0,
           0.05,
           0.0,
           0.25,
           "Steel"
          ],
          [
           4,
           0.05,
           0.0,
           0.05,
           0.0,
           0.25,
           "Steel"
          ],
          [
           4,
           0.05,
           0.0,
           0.05,
           0.0,
           0.25,
           "Steel"
          ]
         ],
         "fill": "toself",
         "fillcolor": "#525252",
         "hoverinfo": "text",
         "hoverlabel": {
          "bgcolor": "#525252"
         },
         "hoveron": "points+fills",
         "hovertemplate": "Element Number: 4<br>Left Outer Diameter: 0.05 m<br>Left Inner Diameter: 0.0 m<br>Right Outer Diameter: 0.05 m<br>Right Inner Diameter: 0.0 m<br>Element Length: 0.25 m<br>Material: Steel<br>",
         "legendgroup": "Shaft",
         "line": {
          "color": "black",
          "width": 1.5
         },
         "mode": "lines",
         "name": "ShaftElement 4",
         "opacity": 0.5,
         "showlegend": false,
         "text": "Element Number: 4<br>Left Outer Diameter: 0.05 m<br>Left Inner Diameter: 0.0 m<br>Right Outer Diameter: 0.05 m<br>Right Inner Diameter: 0.0 m<br>Element Length: 0.25 m<br>Material: Steel<br>",
         "type": "scatter",
         "x": [
          1.0,
          1.0,
          1.25,
          1.25,
          1.0,
          1.0,
          1.0,
          1.25,
          1.25,
          1.0
         ],
         "y": [
          0.0,
          0.025,
          0.025,
          0.0,
          0.0,
          -0.0,
          -0.025,
          -0.025,
          -0.0,
          -0.0
         ]
        },
        {
         "customdata": [
          [
           5,
           0.05,
           0.0,
           0.05,
           0.0,
           0.25,
           "Steel"
          ],
          [
           5,
           0.05,
           0.0,
           0.05,
           0.0,
           0.25,
           "Steel"
          ],
          [
           5,
           0.05,
           0.0,
           0.05,
           0.0,
           0.25,
           "Steel"
          ],
          [
           5,
           0.05,
           0.0,
           0.05,
           0.0,
           0.25,
           "Steel"
          ],
          [
           5,
           0.05,
           0.0,
           0.05,
           0.0,
           0.25,
           "Steel"
          ],
          [
           5,
           0.05,
           0.0,
           0.05,
           0.0,
           0.25,
           "Steel"
          ],
          [
           5,
           0.05,
           0.0,
           0.05,
           0.0,
           0.25,
           "Steel"
          ],
          [
           5,
           0.05,
           0.0,
           0.05,
           0.0,
           0.25,
           "Steel"
          ],
          [
           5,
           0.05,
           0.0,
           0.05,
           0.0,
           0.25,
           "Steel"
          ],
          [
           5,
           0.05,
           0.0,
           0.05,
           0.0,
           0.25,
           "Steel"
          ]
         ],
         "fill": "toself",
         "fillcolor": "#525252",
         "hoverinfo": "text",
         "hoverlabel": {
          "bgcolor": "#525252"
         },
         "hoveron": "points+fills",
         "hovertemplate": "Element Number: 5<br>Left Outer Diameter: 0.05 m<br>Left Inner Diameter: 0.0 m<br>Right Outer Diameter: 0.05 m<br>Right Inner Diameter: 0.0 m<br>Element Length: 0.25 m<br>Material: Steel<br>",
         "legendgroup": "Shaft",
         "line": {
          "color": "black",
          "width": 1.5
         },
         "mode": "lines",
         "name": "ShaftElement 5",
         "opacity": 0.5,
         "showlegend": false,
         "text": "Element Number: 5<br>Left Outer Diameter: 0.05 m<br>Left Inner Diameter: 0.0 m<br>Right Outer Diameter: 0.05 m<br>Right Inner Diameter: 0.0 m<br>Element Length: 0.25 m<br>Material: Steel<br>",
         "type": "scatter",
         "x": [
          1.25,
          1.25,
          1.5,
          1.5,
          1.25,
          1.25,
          1.25,
          1.5,
          1.5,
          1.25
         ],
         "y": [
          0.0,
          0.025,
          0.025,
          0.0,
          0.0,
          -0.0,
          -0.025,
          -0.025,
          -0.0,
          -0.0
         ]
        },
        {
         "customdata": [
          [
           2,
           0.32956362089137037,
           0.17808928257067666,
           32.58972765304033
          ],
          [
           2,
           0.32956362089137037,
           0.17808928257067666,
           32.58972765304033
          ],
          [
           2,
           0.32956362089137037,
           0.17808928257067666,
           32.58972765304033
          ],
          [
           2,
           0.32956362089137037,
           0.17808928257067666,
           32.58972765304033
          ],
          [
           2,
           0.32956362089137037,
           0.17808928257067666,
           32.58972765304033
          ],
          [
           2,
           0.32956362089137037,
           0.17808928257067666,
           32.58972765304033
          ],
          [
           2,
           0.32956362089137037,
           0.17808928257067666,
           32.58972765304033
          ],
          [
           2,
           0.32956362089137037,
           0.17808928257067666,
           32.58972765304033
          ],
          [
           2,
           0.32956362089137037,
           0.17808928257067666,
           32.58972765304033
          ]
         ],
         "fill": "toself",
         "fillcolor": "Firebrick",
         "hoverinfo": "text",
         "hoverlabel": {
          "bgcolor": "Firebrick"
         },
         "hoveron": "points+fills",
         "hovertemplate": "Disk Node: 2<br>Polar Inertia: 3.296e-01<br>Diametral Inertia: 1.781e-01<br>Disk mass: 32.590<br>",
         "legendgroup": "disks",
         "line": {
          "color": "Firebrick",
          "width": 2.0
         },
         "mode": "lines",
         "name": "Disk 0",
         "opacity": 0.8,
         "showlegend": false,
         "text": "Disk Node: 2<br>Polar Inertia: 3.296e-01<br>Diametral Inertia: 1.781e-01<br>Disk mass: 32.590<br>",
         "type": "scatter",
         "x": [
          0.5,
          0.502,
          0.498,
          0.5,
          null,
          0.5,
          0.502,
          0.498,
          0.5
         ],
         "y": [
          0.025,
          0.125,
          0.125,
          0.025,
          null,
          -0.025,
          -0.125,
          -0.125,
          -0.025
         ]
        },
        {
         "customdata": [
          [
           4,
           0.8050822048675969,
           0.4235805840543383,
           51.5252611115262
          ],
          [
           4,
           0.8050822048675969,
           0.4235805840543383,
           51.5252611115262
          ],
          [
           4,
           0.8050822048675969,
           0.4235805840543383,
           51.5252611115262
          ],
          [
           4,
           0.8050822048675969,
           0.4235805840543383,
           51.5252611115262
          ],
          [
           4,
           0.8050822048675969,
           0.4235805840543383,
           51.5252611115262
          ],
          [
           4,
           0.8050822048675969,
           0.4235805840543383,
           51.5252611115262
          ],
          [
           4,
           0.8050822048675969,
           0.4235805840543383,
           51.5252611115262
          ],
          [
           4,
           0.8050822048675969,
           0.4235805840543383,
           51.5252611115262
          ],
          [
           4,
           0.8050822048675969,
           0.4235805840543383,
           51.5252611115262
          ]
         ],
         "fill": "toself",
         "fillcolor": "Firebrick",
         "hoverinfo": "text",
         "hoverlabel": {
          "bgcolor": "Firebrick"
         },
         "hoveron": "points+fills",
         "hovertemplate": "Disk Node: 4<br>Polar Inertia: 8.051e-01<br>Diametral Inertia: 4.236e-01<br>Disk mass: 51.525<br>",
         "legendgroup": "disks",
         "line": {
          "color": "Firebrick",
          "width": 2.0
         },
         "mode": "lines",
         "name": "Disk 1",
         "opacity": 0.8,
         "showlegend": false,
         "text": "Disk Node: 4<br>Polar Inertia: 8.051e-01<br>Diametral Inertia: 4.236e-01<br>Disk mass: 51.525<br>",
         "type": "scatter",
         "x": [
          1.0,
          1.002,
          0.998,
          1.0,
          null,
          1.0,
          1.002,
          0.998,
          1.0
         ],
         "y": [
          0.025,
          0.125,
          0.125,
          0.025,
          null,
          -0.025,
          -0.125,
          -0.125,
          -0.025
         ]
        },
        {
         "hoverinfo": "none",
         "legendgroup": "bearings",
         "line": {
          "color": "#355d7a",
          "width": 1
         },
         "mode": "lines",
         "name": "Bearing 0",
         "showlegend": false,
         "type": "scatter",
         "x": [
          0.0,
          0.0,
          -0.007142857142857143,
          0.007142857142857143
         ],
         "y": [
          0.025,
          0.0375,
          0.0375,
          0.0375
         ]
        },
        {
         "hoverinfo": "none",
         "legendgroup": "bearings",
         "line": {
          "color": "#355d7a",
          "width": 1
         },
         "mode": "lines",
         "name": "Bearing 0",
         "showlegend": false,
         "type": "scatter",
         "x": [
          0.0,
          0.0,
          -0.007142857142857143,
          0.007142857142857143
         ],
         "y": [
          -0.025,
          -0.0375,
          -0.0375,
          -0.0375
         ]
        },
        {
         "hoverinfo": "none",
         "legendgroup": "bearings",
         "line": {
          "color": "#355d7a",
          "width": 1
         },
         "mode": "lines",
         "name": "Bearing 0",
         "showlegend": false,
         "type": "scatter",
         "x": [
          0.0,
          0.0,
          -0.007142857142857143,
          0.007142857142857143
         ],
         "y": [
          0.075,
          0.0625,
          0.0625,
          0.0625
         ]
        },
        {
         "hoverinfo": "none",
         "legendgroup": "bearings",
         "line": {
          "color": "#355d7a",
          "width": 1
         },
         "mode": "lines",
         "name": "Bearing 0",
         "showlegend": false,
         "type": "scatter",
         "x": [
          0.0,
          0.0,
          -0.007142857142857143,
          0.007142857142857143
         ],
         "y": [
          -0.075,
          -0.0625,
          -0.0625,
          -0.0625
         ]
        },
        {
         "hoverinfo": "none",
         "legendgroup": "bearings",
         "line": {
          "color": "#355d7a",
          "width": 1
         },
         "mode": "lines",
         "name": "Bearing 0",
         "showlegend": false,
         "type": "scatter",
         "x": [
          -0.010714285714285714,
          0.010714285714285714
         ],
         "y": [
          0.075,
          0.075
         ]
        },
        {
         "hoverinfo": "none",
         "legendgroup": "bearings",
         "line": {
          "color": "#355d7a",
          "width": 1
         },
         "mode": "lines",
         "name": "Bearing 0",
         "showlegend": false,
         "type": "scatter",
         "x": [
          -0.010714285714285714,
          0.010714285714285714
         ],
         "y": [
          -0.075,
          -0.075
         ]
        },
        {
         "hoverinfo": "none",
         "legendgroup": "bearings",
         "line": {
          "color": "#355d7a",
          "width": 1
         },
         "mode": "lines",
         "name": "Bearing 0",
         "showlegend": false,
         "type": "scatter",
         "x": [
          -0.010714285714285714,
          -0.0064285714285714285
         ],
         "y": [
          0.075,
          0.0825
         ]
        },
        {
         "hoverinfo": "none",
         "legendgroup": "bearings",
         "line": {
          "color": "#355d7a",
          "width": 1
         },
         "mode": "lines",
         "name": "Bearing 0",
         "showlegend": false,
         "type": "scatter",
         "x": [
          -0.010714285714285714,
          -0.0064285714285714285
         ],
         "y": [
          -0.075,
          -0.0825
         ]
        },
        {
         "hoverinfo": "none",
         "legendgroup": "bearings",
         "line": {
          "color": "#355d7a",
          "width": 1
         },
         "mode": "lines",
         "name": "Bearing 0",
         "showlegend": false,
         "type": "scatter",
         "x": [
          -0.0064285714285714285,
          -0.0021428571428571425
         ],
         "y": [
          0.075,
          0.0825
         ]
        },
        {
         "hoverinfo": "none",
         "legendgroup": "bearings",
         "line": {
          "color": "#355d7a",
          "width": 1
         },
         "mode": "lines",
         "name": "Bearing 0",
         "showlegend": false,
         "type": "scatter",
         "x": [
          -0.0064285714285714285,
          -0.0021428571428571425
         ],
         "y": [
          -0.075,
          -0.0825
         ]
        },
        {
         "hoverinfo": "none",
         "legendgroup": "bearings",
         "line": {
          "color": "#355d7a",
          "width": 1
         },
         "mode": "lines",
         "name": "Bearing 0",
         "showlegend": false,
         "type": "scatter",
         "x": [
          -0.0021428571428571425,
          0.0021428571428571443
         ],
         "y": [
          0.075,
          0.0825
         ]
        },
        {
         "hoverinfo": "none",
         "legendgroup": "bearings",
         "line": {
          "color": "#355d7a",
          "width": 1
         },
         "mode": "lines",
         "name": "Bearing 0",
         "showlegend": false,
         "type": "scatter",
         "x": [
          -0.0021428571428571425,
          0.0021428571428571443
         ],
         "y": [
          -0.075,
          -0.0825
         ]
        },
        {
         "hoverinfo": "none",
         "legendgroup": "bearings",
         "line": {
          "color": "#355d7a",
          "width": 1
         },
         "mode": "lines",
         "name": "Bearing 0",
         "showlegend": false,
         "type": "scatter",
         "x": [
          0.0021428571428571443,
          0.006428571428571429
         ],
         "y": [
          0.075,
          0.0825
         ]
        },
        {
         "hoverinfo": "none",
         "legendgroup": "bearings",
         "line": {
          "color": "#355d7a",
          "width": 1
         },
         "mode": "lines",
         "name": "Bearing 0",
         "showlegend": false,
         "type": "scatter",
         "x": [
          0.0021428571428571443,
          0.006428571428571429
         ],
         "y": [
          -0.075,
          -0.0825
         ]
        },
        {
         "hoverinfo": "none",
         "legendgroup": "bearings",
         "line": {
          "color": "#355d7a",
          "width": 1
         },
         "mode": "lines",
         "name": "Bearing 0",
         "showlegend": false,
         "type": "scatter",
         "x": [
          0.006428571428571429,
          0.010714285714285714
         ],
         "y": [
          0.075,
          0.0825
         ]
        },
        {
         "hoverinfo": "none",
         "legendgroup": "bearings",
         "line": {
          "color": "#355d7a",
          "width": 1
         },
         "mode": "lines",
         "name": "Bearing 0",
         "showlegend": false,
         "type": "scatter",
         "x": [
          0.006428571428571429,
          0.010714285714285714
         ],
         "y": [
          -0.075,
          -0.0825
         ]
        },
        {
         "hoverinfo": "none",
         "legendgroup": "bearings",
         "line": {
          "color": "#355d7a",
          "width": 1
         },
         "mode": "lines",
         "name": "Bearing 0",
         "showlegend": false,
         "type": "scatter",
         "x": [
          0.010714285714285714,
          0.015000000000000003
         ],
         "y": [
          0.075,
          0.0825
         ]
        },
        {
         "hoverinfo": "none",
         "legendgroup": "bearings",
         "line": {
          "color": "#355d7a",
          "width": 1
         },
         "mode": "lines",
         "name": "Bearing 0",
         "showlegend": false,
         "type": "scatter",
         "x": [
          0.010714285714285714,
          0.015000000000000003
         ],
         "y": [
          -0.075,
          -0.0825
         ]
        },
        {
         "hoverinfo": "none",
         "legendgroup": "bearings",
         "line": {
          "color": "#355d7a",
          "width": 1
         },
         "mode": "lines",
         "name": "Bearing 0",
         "showlegend": false,
         "type": "scatter",
         "x": [
          -0.007142857142857143,
          -0.007142857142857143,
          -0.010714285714285714,
          -0.0035714285714285713,
          -0.010714285714285714,
          -0.0035714285714285713,
          -0.010714285714285714,
          -0.0035714285714285713,
          -0.007142857142857143,
          -0.007142857142857143
         ],
         "y": [
          0.0375,
          0.04107142857142857,
          0.04107142857142857,
          0.044642857142857144,
          0.04821428571428571,
          0.05178571428571428,
          0.055357142857142855,
          0.05892857142857143,
          0.05892857142857143,
          0.0625
         ]
        },
        {
         "hoverinfo": "none",
         "legendgroup": "bearings",
         "line": {
          "color": "#355d7a",
          "width": 1
         },
         "mode": "lines",
         "name": "Bearing 0",
         "showlegend": false,
         "type": "scatter",
         "x": [
          -0.007142857142857143,
          -0.007142857142857143,
          -0.010714285714285714,
          -0.0035714285714285713,
          -0.010714285714285714,
          -0.0035714285714285713,
          -0.010714285714285714,
          -0.0035714285714285713,
          -0.007142857142857143,
          -0.007142857142857143
         ],
         "y": [
          -0.0375,
          -0.04107142857142857,
          -0.04107142857142857,
          -0.044642857142857144,
          -0.04821428571428571,
          -0.05178571428571428,
          -0.055357142857142855,
          -0.05892857142857143,
          -0.05892857142857143,
          -0.0625
         ]
        },
        {
         "hoverinfo": "none",
         "legendgroup": "bearings",
         "line": {
          "color": "#355d7a",
          "width": 1
         },
         "mode": "lines",
         "name": "Bearing 0",
         "showlegend": false,
         "type": "scatter",
         "x": [
          0.007142857142857143,
          0.007142857142857143
         ],
         "y": [
          0.0375,
          0.044642857142857144
         ]
        },
        {
         "hoverinfo": "none",
         "legendgroup": "bearings",
         "line": {
          "color": "#355d7a",
          "width": 1
         },
         "mode": "lines",
         "name": "Bearing 0",
         "showlegend": false,
         "type": "scatter",
         "x": [
          0.007142857142857143,
          0.007142857142857143
         ],
         "y": [
          -0.0375,
          -0.044642857142857144
         ]
        },
        {
         "hoverinfo": "none",
         "legendgroup": "bearings",
         "line": {
          "color": "#355d7a",
          "width": 1
         },
         "mode": "lines",
         "name": "Bearing 0",
         "showlegend": false,
         "type": "scatter",
         "x": [
          0.0,
          0.0,
          0.014285714285714285,
          0.014285714285714285
         ],
         "y": [
          0.055357142857142855,
          0.044642857142857144,
          0.044642857142857144,
          0.055357142857142855
         ]
        },
        {
         "hoverinfo": "none",
         "legendgroup": "bearings",
         "line": {
          "color": "#355d7a",
          "width": 1
         },
         "mode": "lines",
         "name": "Bearing 0",
         "showlegend": false,
         "type": "scatter",
         "x": [
          0.0,
          0.0,
          0.014285714285714285,
          0.014285714285714285
         ],
         "y": [
          -0.055357142857142855,
          -0.044642857142857144,
          -0.044642857142857144,
          -0.055357142857142855
         ]
        },
        {
         "hoverinfo": "none",
         "legendgroup": "bearings",
         "line": {
          "color": "#355d7a",
          "width": 1
         },
         "mode": "lines",
         "name": "Bearing 0",
         "showlegend": false,
         "type": "scatter",
         "x": [
          0.0,
          0.014285714285714285,
          0.007142857142857143,
          0.007142857142857143
         ],
         "y": [
          0.05178571428571428,
          0.05178571428571428,
          0.05178571428571428,
          0.0625
         ]
        },
        {
         "hoverinfo": "none",
         "legendgroup": "bearings",
         "line": {
          "color": "#355d7a",
          "width": 1
         },
         "mode": "lines",
         "name": "Bearing 0",
         "showlegend": false,
         "type": "scatter",
         "x": [
          0.0,
          0.014285714285714285,
          0.007142857142857143,
          0.007142857142857143
         ],
         "y": [
          -0.05178571428571428,
          -0.05178571428571428,
          -0.05178571428571428,
          -0.0625
         ]
        },
        {
         "hoverinfo": "none",
         "legendgroup": "bearings",
         "line": {
          "color": "#355d7a",
          "width": 1
         },
         "mode": "lines",
         "name": "Bearing 1",
         "showlegend": false,
         "type": "scatter",
         "x": [
          1.5,
          1.5,
          1.4928571428571429,
          1.5071428571428571
         ],
         "y": [
          0.025,
          0.0375,
          0.0375,
          0.0375
         ]
        },
        {
         "hoverinfo": "none",
         "legendgroup": "bearings",
         "line": {
          "color": "#355d7a",
          "width": 1
         },
         "mode": "lines",
         "name": "Bearing 1",
         "showlegend": false,
         "type": "scatter",
         "x": [
          1.5,
          1.5,
          1.4928571428571429,
          1.5071428571428571
         ],
         "y": [
          -0.025,
          -0.0375,
          -0.0375,
          -0.0375
         ]
        },
        {
         "hoverinfo": "none",
         "legendgroup": "bearings",
         "line": {
          "color": "#355d7a",
          "width": 1
         },
         "mode": "lines",
         "name": "Bearing 1",
         "showlegend": false,
         "type": "scatter",
         "x": [
          1.5,
          1.5,
          1.4928571428571429,
          1.5071428571428571
         ],
         "y": [
          0.075,
          0.0625,
          0.0625,
          0.0625
         ]
        },
        {
         "hoverinfo": "none",
         "legendgroup": "bearings",
         "line": {
          "color": "#355d7a",
          "width": 1
         },
         "mode": "lines",
         "name": "Bearing 1",
         "showlegend": false,
         "type": "scatter",
         "x": [
          1.5,
          1.5,
          1.4928571428571429,
          1.5071428571428571
         ],
         "y": [
          -0.075,
          -0.0625,
          -0.0625,
          -0.0625
         ]
        },
        {
         "hoverinfo": "none",
         "legendgroup": "bearings",
         "line": {
          "color": "#355d7a",
          "width": 1
         },
         "mode": "lines",
         "name": "Bearing 1",
         "showlegend": false,
         "type": "scatter",
         "x": [
          1.4892857142857143,
          1.5107142857142857
         ],
         "y": [
          0.075,
          0.075
         ]
        },
        {
         "hoverinfo": "none",
         "legendgroup": "bearings",
         "line": {
          "color": "#355d7a",
          "width": 1
         },
         "mode": "lines",
         "name": "Bearing 1",
         "showlegend": false,
         "type": "scatter",
         "x": [
          1.4892857142857143,
          1.5107142857142857
         ],
         "y": [
          -0.075,
          -0.075
         ]
        },
        {
         "hoverinfo": "none",
         "legendgroup": "bearings",
         "line": {
          "color": "#355d7a",
          "width": 1
         },
         "mode": "lines",
         "name": "Bearing 1",
         "showlegend": false,
         "type": "scatter",
         "x": [
          1.4892857142857143,
          1.4935714285714285
         ],
         "y": [
          0.075,
          0.0825
         ]
        },
        {
         "hoverinfo": "none",
         "legendgroup": "bearings",
         "line": {
          "color": "#355d7a",
          "width": 1
         },
         "mode": "lines",
         "name": "Bearing 1",
         "showlegend": false,
         "type": "scatter",
         "x": [
          1.4892857142857143,
          1.4935714285714285
         ],
         "y": [
          -0.075,
          -0.0825
         ]
        },
        {
         "hoverinfo": "none",
         "legendgroup": "bearings",
         "line": {
          "color": "#355d7a",
          "width": 1
         },
         "mode": "lines",
         "name": "Bearing 1",
         "showlegend": false,
         "type": "scatter",
         "x": [
          1.4935714285714285,
          1.4978571428571428
         ],
         "y": [
          0.075,
          0.0825
         ]
        },
        {
         "hoverinfo": "none",
         "legendgroup": "bearings",
         "line": {
          "color": "#355d7a",
          "width": 1
         },
         "mode": "lines",
         "name": "Bearing 1",
         "showlegend": false,
         "type": "scatter",
         "x": [
          1.4935714285714285,
          1.4978571428571428
         ],
         "y": [
          -0.075,
          -0.0825
         ]
        },
        {
         "hoverinfo": "none",
         "legendgroup": "bearings",
         "line": {
          "color": "#355d7a",
          "width": 1
         },
         "mode": "lines",
         "name": "Bearing 1",
         "showlegend": false,
         "type": "scatter",
         "x": [
          1.4978571428571428,
          1.5021428571428572
         ],
         "y": [
          0.075,
          0.0825
         ]
        },
        {
         "hoverinfo": "none",
         "legendgroup": "bearings",
         "line": {
          "color": "#355d7a",
          "width": 1
         },
         "mode": "lines",
         "name": "Bearing 1",
         "showlegend": false,
         "type": "scatter",
         "x": [
          1.4978571428571428,
          1.5021428571428572
         ],
         "y": [
          -0.075,
          -0.0825
         ]
        },
        {
         "hoverinfo": "none",
         "legendgroup": "bearings",
         "line": {
          "color": "#355d7a",
          "width": 1
         },
         "mode": "lines",
         "name": "Bearing 1",
         "showlegend": false,
         "type": "scatter",
         "x": [
          1.5021428571428572,
          1.5064285714285715
         ],
         "y": [
          0.075,
          0.0825
         ]
        },
        {
         "hoverinfo": "none",
         "legendgroup": "bearings",
         "line": {
          "color": "#355d7a",
          "width": 1
         },
         "mode": "lines",
         "name": "Bearing 1",
         "showlegend": false,
         "type": "scatter",
         "x": [
          1.5021428571428572,
          1.5064285714285715
         ],
         "y": [
          -0.075,
          -0.0825
         ]
        },
        {
         "hoverinfo": "none",
         "legendgroup": "bearings",
         "line": {
          "color": "#355d7a",
          "width": 1
         },
         "mode": "lines",
         "name": "Bearing 1",
         "showlegend": false,
         "type": "scatter",
         "x": [
          1.5064285714285715,
          1.5107142857142857
         ],
         "y": [
          0.075,
          0.0825
         ]
        },
        {
         "hoverinfo": "none",
         "legendgroup": "bearings",
         "line": {
          "color": "#355d7a",
          "width": 1
         },
         "mode": "lines",
         "name": "Bearing 1",
         "showlegend": false,
         "type": "scatter",
         "x": [
          1.5064285714285715,
          1.5107142857142857
         ],
         "y": [
          -0.075,
          -0.0825
         ]
        },
        {
         "hoverinfo": "none",
         "legendgroup": "bearings",
         "line": {
          "color": "#355d7a",
          "width": 1
         },
         "mode": "lines",
         "name": "Bearing 1",
         "showlegend": false,
         "type": "scatter",
         "x": [
          1.5107142857142857,
          1.515
         ],
         "y": [
          0.075,
          0.0825
         ]
        },
        {
         "hoverinfo": "none",
         "legendgroup": "bearings",
         "line": {
          "color": "#355d7a",
          "width": 1
         },
         "mode": "lines",
         "name": "Bearing 1",
         "showlegend": false,
         "type": "scatter",
         "x": [
          1.5107142857142857,
          1.515
         ],
         "y": [
          -0.075,
          -0.0825
         ]
        },
        {
         "hoverinfo": "none",
         "legendgroup": "bearings",
         "line": {
          "color": "#355d7a",
          "width": 1
         },
         "mode": "lines",
         "name": "Bearing 1",
         "showlegend": false,
         "type": "scatter",
         "x": [
          1.4928571428571429,
          1.4928571428571429,
          1.4892857142857143,
          1.4964285714285714,
          1.4892857142857143,
          1.4964285714285714,
          1.4892857142857143,
          1.4964285714285714,
          1.4928571428571429,
          1.4928571428571429
         ],
         "y": [
          0.0375,
          0.04107142857142857,
          0.04107142857142857,
          0.044642857142857144,
          0.04821428571428571,
          0.05178571428571428,
          0.055357142857142855,
          0.05892857142857143,
          0.05892857142857143,
          0.0625
         ]
        },
        {
         "hoverinfo": "none",
         "legendgroup": "bearings",
         "line": {
          "color": "#355d7a",
          "width": 1
         },
         "mode": "lines",
         "name": "Bearing 1",
         "showlegend": false,
         "type": "scatter",
         "x": [
          1.4928571428571429,
          1.4928571428571429,
          1.4892857142857143,
          1.4964285714285714,
          1.4892857142857143,
          1.4964285714285714,
          1.4892857142857143,
          1.4964285714285714,
          1.4928571428571429,
          1.4928571428571429
         ],
         "y": [
          -0.0375,
          -0.04107142857142857,
          -0.04107142857142857,
          -0.044642857142857144,
          -0.04821428571428571,
          -0.05178571428571428,
          -0.055357142857142855,
          -0.05892857142857143,
          -0.05892857142857143,
          -0.0625
         ]
        },
        {
         "hoverinfo": "none",
         "legendgroup": "bearings",
         "line": {
          "color": "#355d7a",
          "width": 1
         },
         "mode": "lines",
         "name": "Bearing 1",
         "showlegend": false,
         "type": "scatter",
         "x": [
          1.5071428571428571,
          1.5071428571428571
         ],
         "y": [
          0.0375,
          0.044642857142857144
         ]
        },
        {
         "hoverinfo": "none",
         "legendgroup": "bearings",
         "line": {
          "color": "#355d7a",
          "width": 1
         },
         "mode": "lines",
         "name": "Bearing 1",
         "showlegend": false,
         "type": "scatter",
         "x": [
          1.5071428571428571,
          1.5071428571428571
         ],
         "y": [
          -0.0375,
          -0.044642857142857144
         ]
        },
        {
         "hoverinfo": "none",
         "legendgroup": "bearings",
         "line": {
          "color": "#355d7a",
          "width": 1
         },
         "mode": "lines",
         "name": "Bearing 1",
         "showlegend": false,
         "type": "scatter",
         "x": [
          1.5,
          1.5,
          1.5142857142857142,
          1.5142857142857142
         ],
         "y": [
          0.055357142857142855,
          0.044642857142857144,
          0.044642857142857144,
          0.055357142857142855
         ]
        },
        {
         "hoverinfo": "none",
         "legendgroup": "bearings",
         "line": {
          "color": "#355d7a",
          "width": 1
         },
         "mode": "lines",
         "name": "Bearing 1",
         "showlegend": false,
         "type": "scatter",
         "x": [
          1.5,
          1.5,
          1.5142857142857142,
          1.5142857142857142
         ],
         "y": [
          -0.055357142857142855,
          -0.044642857142857144,
          -0.044642857142857144,
          -0.055357142857142855
         ]
        },
        {
         "hoverinfo": "none",
         "legendgroup": "bearings",
         "line": {
          "color": "#355d7a",
          "width": 1
         },
         "mode": "lines",
         "name": "Bearing 1",
         "showlegend": false,
         "type": "scatter",
         "x": [
          1.5,
          1.5142857142857142,
          1.5071428571428571,
          1.5071428571428571
         ],
         "y": [
          0.05178571428571428,
          0.05178571428571428,
          0.05178571428571428,
          0.0625
         ]
        },
        {
         "hoverinfo": "none",
         "legendgroup": "bearings",
         "line": {
          "color": "#355d7a",
          "width": 1
         },
         "mode": "lines",
         "name": "Bearing 1",
         "showlegend": false,
         "type": "scatter",
         "x": [
          1.5,
          1.5142857142857142,
          1.5071428571428571,
          1.5071428571428571
         ],
         "y": [
          -0.05178571428571428,
          -0.05178571428571428,
          -0.05178571428571428,
          -0.0625
         ]
        }
       ],
       "layout": {
        "shapes": [
         {
          "fillcolor": "Firebrick",
          "line": {
           "color": "Firebrick"
          },
          "type": "circle",
          "x0": 0.49375,
          "x1": 0.50625,
          "xref": "x",
          "y0": 0.11875,
          "y1": 0.13125,
          "yref": "y"
         },
         {
          "fillcolor": "Firebrick",
          "line": {
           "color": "Firebrick"
          },
          "type": "circle",
          "x0": 0.49375,
          "x1": 0.50625,
          "xref": "x",
          "y0": -0.13125,
          "y1": -0.11875,
          "yref": "y"
         },
         {
          "fillcolor": "Firebrick",
          "line": {
           "color": "Firebrick"
          },
          "type": "circle",
          "x0": 0.99375,
          "x1": 1.00625,
          "xref": "x",
          "y0": 0.11875,
          "y1": 0.13125,
          "yref": "y"
         },
         {
          "fillcolor": "Firebrick",
          "line": {
           "color": "Firebrick"
          },
          "type": "circle",
          "x0": 0.99375,
          "x1": 1.00625,
          "xref": "x",
          "y0": -0.13125,
          "y1": -0.11875,
          "yref": "y"
         }
        ],
        "template": {
         "data": {
          "bar": [
           {
            "error_x": {
             "color": "#2a3f5f"
            },
            "error_y": {
             "color": "#2a3f5f"
            },
            "marker": {
             "line": {
              "color": "white",
              "width": 0.5
             }
            },
            "type": "bar"
           }
          ],
          "barpolar": [
           {
            "marker": {
             "line": {
              "color": "white",
              "width": 0.5
             }
            },
            "type": "barpolar"
           }
          ],
          "carpet": [
           {
            "aaxis": {
             "endlinecolor": "#2a3f5f",
             "gridcolor": "#C8D4E3",
             "linecolor": "#C8D4E3",
             "minorgridcolor": "#C8D4E3",
             "startlinecolor": "#2a3f5f"
            },
            "baxis": {
             "endlinecolor": "#2a3f5f",
             "gridcolor": "#C8D4E3",
             "linecolor": "#C8D4E3",
             "minorgridcolor": "#C8D4E3",
             "startlinecolor": "#2a3f5f"
            },
            "type": "carpet"
           }
          ],
          "choropleth": [
           {
            "colorbar": {
             "outlinewidth": 0,
             "ticks": ""
            },
            "type": "choropleth"
           }
          ],
          "contour": [
           {
            "colorbar": {
             "outlinewidth": 0,
             "ticks": ""
            },
            "colorscale": [
             [
              0.0,
              "#0d0887"
             ],
             [
              0.1111111111111111,
              "#46039f"
             ],
             [
              0.2222222222222222,
              "#7201a8"
             ],
             [
              0.3333333333333333,
              "#9c179e"
             ],
             [
              0.4444444444444444,
              "#bd3786"
             ],
             [
              0.5555555555555556,
              "#d8576b"
             ],
             [
              0.6666666666666666,
              "#ed7953"
             ],
             [
              0.7777777777777778,
              "#fb9f3a"
             ],
             [
              0.8888888888888888,
              "#fdca26"
             ],
             [
              1.0,
              "#f0f921"
             ]
            ],
            "type": "contour"
           }
          ],
          "contourcarpet": [
           {
            "colorbar": {
             "outlinewidth": 0,
             "ticks": ""
            },
            "type": "contourcarpet"
           }
          ],
          "heatmap": [
           {
            "colorbar": {
             "outlinewidth": 0,
             "ticks": ""
            },
            "colorscale": [
             [
              0.0,
              "#0d0887"
             ],
             [
              0.1111111111111111,
              "#46039f"
             ],
             [
              0.2222222222222222,
              "#7201a8"
             ],
             [
              0.3333333333333333,
              "#9c179e"
             ],
             [
              0.4444444444444444,
              "#bd3786"
             ],
             [
              0.5555555555555556,
              "#d8576b"
             ],
             [
              0.6666666666666666,
              "#ed7953"
             ],
             [
              0.7777777777777778,
              "#fb9f3a"
             ],
             [
              0.8888888888888888,
              "#fdca26"
             ],
             [
              1.0,
              "#f0f921"
             ]
            ],
            "type": "heatmap"
           }
          ],
          "heatmapgl": [
           {
            "colorbar": {
             "outlinewidth": 0,
             "ticks": ""
            },
            "colorscale": [
             [
              0.0,
              "#0d0887"
             ],
             [
              0.1111111111111111,
              "#46039f"
             ],
             [
              0.2222222222222222,
              "#7201a8"
             ],
             [
              0.3333333333333333,
              "#9c179e"
             ],
             [
              0.4444444444444444,
              "#bd3786"
             ],
             [
              0.5555555555555556,
              "#d8576b"
             ],
             [
              0.6666666666666666,
              "#ed7953"
             ],
             [
              0.7777777777777778,
              "#fb9f3a"
             ],
             [
              0.8888888888888888,
              "#fdca26"
             ],
             [
              1.0,
              "#f0f921"
             ]
            ],
            "type": "heatmapgl"
           }
          ],
          "histogram": [
           {
            "marker": {
             "colorbar": {
              "outlinewidth": 0,
              "ticks": ""
             }
            },
            "type": "histogram"
           }
          ],
          "histogram2d": [
           {
            "colorbar": {
             "outlinewidth": 0,
             "ticks": ""
            },
            "colorscale": [
             [
              0.0,
              "#0d0887"
             ],
             [
              0.1111111111111111,
              "#46039f"
             ],
             [
              0.2222222222222222,
              "#7201a8"
             ],
             [
              0.3333333333333333,
              "#9c179e"
             ],
             [
              0.4444444444444444,
              "#bd3786"
             ],
             [
              0.5555555555555556,
              "#d8576b"
             ],
             [
              0.6666666666666666,
              "#ed7953"
             ],
             [
              0.7777777777777778,
              "#fb9f3a"
             ],
             [
              0.8888888888888888,
              "#fdca26"
             ],
             [
              1.0,
              "#f0f921"
             ]
            ],
            "type": "histogram2d"
           }
          ],
          "histogram2dcontour": [
           {
            "colorbar": {
             "outlinewidth": 0,
             "ticks": ""
            },
            "colorscale": [
             [
              0.0,
              "#0d0887"
             ],
             [
              0.1111111111111111,
              "#46039f"
             ],
             [
              0.2222222222222222,
              "#7201a8"
             ],
             [
              0.3333333333333333,
              "#9c179e"
             ],
             [
              0.4444444444444444,
              "#bd3786"
             ],
             [
              0.5555555555555556,
              "#d8576b"
             ],
             [
              0.6666666666666666,
              "#ed7953"
             ],
             [
              0.7777777777777778,
              "#fb9f3a"
             ],
             [
              0.8888888888888888,
              "#fdca26"
             ],
             [
              1.0,
              "#f0f921"
             ]
            ],
            "type": "histogram2dcontour"
           }
          ],
          "mesh3d": [
           {
            "colorbar": {
             "outlinewidth": 0,
             "ticks": ""
            },
            "type": "mesh3d"
           }
          ],
          "parcoords": [
           {
            "line": {
             "colorbar": {
              "outlinewidth": 0,
              "ticks": ""
             }
            },
            "type": "parcoords"
           }
          ],
          "pie": [
           {
            "automargin": true,
            "type": "pie"
           }
          ],
          "scatter": [
           {
            "marker": {
             "colorbar": {
              "outlinewidth": 0,
              "ticks": ""
             }
            },
            "type": "scatter"
           }
          ],
          "scatter3d": [
           {
            "line": {
             "colorbar": {
              "outlinewidth": 0,
              "ticks": ""
             }
            },
            "marker": {
             "colorbar": {
              "outlinewidth": 0,
              "ticks": ""
             },
             "size": 4
            },
            "type": "scatter3d"
           }
          ],
          "scattercarpet": [
           {
            "marker": {
             "colorbar": {
              "outlinewidth": 0,
              "ticks": ""
             }
            },
            "type": "scattercarpet"
           }
          ],
          "scattergeo": [
           {
            "marker": {
             "colorbar": {
              "outlinewidth": 0,
              "ticks": ""
             }
            },
            "type": "scattergeo"
           }
          ],
          "scattergl": [
           {
            "marker": {
             "colorbar": {
              "outlinewidth": 0,
              "ticks": ""
             }
            },
            "type": "scattergl"
           }
          ],
          "scattermapbox": [
           {
            "marker": {
             "colorbar": {
              "outlinewidth": 0,
              "ticks": ""
             }
            },
            "type": "scattermapbox"
           }
          ],
          "scatterpolar": [
           {
            "marker": {
             "colorbar": {
              "outlinewidth": 0,
              "ticks": ""
             }
            },
            "type": "scatterpolar"
           }
          ],
          "scatterpolargl": [
           {
            "marker": {
             "colorbar": {
              "outlinewidth": 0,
              "ticks": ""
             }
            },
            "type": "scatterpolargl"
           }
          ],
          "scatterternary": [
           {
            "marker": {
             "colorbar": {
              "outlinewidth": 0,
              "ticks": ""
             }
            },
            "type": "scatterternary"
           }
          ],
          "surface": [
           {
            "colorbar": {
             "outlinewidth": 0,
             "ticks": ""
            },
            "colorscale": [
             [
              0.0,
              "#0d0887"
             ],
             [
              0.1111111111111111,
              "#46039f"
             ],
             [
              0.2222222222222222,
              "#7201a8"
             ],
             [
              0.3333333333333333,
              "#9c179e"
             ],
             [
              0.4444444444444444,
              "#bd3786"
             ],
             [
              0.5555555555555556,
              "#d8576b"
             ],
             [
              0.6666666666666666,
              "#ed7953"
             ],
             [
              0.7777777777777778,
              "#fb9f3a"
             ],
             [
              0.8888888888888888,
              "#fdca26"
             ],
             [
              1.0,
              "#f0f921"
             ]
            ],
            "type": "surface"
           }
          ],
          "table": [
           {
            "cells": {
             "fill": {
              "color": "#EBF0F8"
             },
             "line": {
              "color": "white"
             }
            },
            "header": {
             "fill": {
              "color": "#C8D4E3"
             },
             "line": {
              "color": "white"
             }
            },
            "type": "table"
           }
          ]
         },
         "layout": {
          "annotationdefaults": {
           "arrowcolor": "#2a3f5f",
           "arrowhead": 0,
           "arrowwidth": 1
          },
          "coloraxis": {
           "colorbar": {
            "outlinewidth": 0,
            "ticks": ""
           }
          },
          "colorscale": {
           "diverging": [
            [
             0,
             "#8e0152"
            ],
            [
             0.1,
             "#c51b7d"
            ],
            [
             0.2,
             "#de77ae"
            ],
            [
             0.3,
             "#f1b6da"
            ],
            [
             0.4,
             "#fde0ef"
            ],
            [
             0.5,
             "#f7f7f7"
            ],
            [
             0.6,
             "#e6f5d0"
            ],
            [
             0.7,
             "#b8e186"
            ],
            [
             0.8,
             "#7fbc41"
            ],
            [
             0.9,
             "#4d9221"
            ],
            [
             1,
             "#276419"
            ]
           ],
           "sequential": [
            [
             0.0,
             "#0d0887"
            ],
            [
             0.1111111111111111,
             "#46039f"
            ],
            [
             0.2222222222222222,
             "#7201a8"
            ],
            [
             0.3333333333333333,
             "#9c179e"
            ],
            [
             0.4444444444444444,
             "#bd3786"
            ],
            [
             0.5555555555555556,
             "#d8576b"
            ],
            [
             0.6666666666666666,
             "#ed7953"
            ],
            [
             0.7777777777777778,
             "#fb9f3a"
            ],
            [
             0.8888888888888888,
             "#fdca26"
            ],
            [
             1.0,
             "#f0f921"
            ]
           ],
           "sequentialminus": [
            [
             0.0,
             "#0d0887"
            ],
            [
             0.1111111111111111,
             "#46039f"
            ],
            [
             0.2222222222222222,
             "#7201a8"
            ],
            [
             0.3333333333333333,
             "#9c179e"
            ],
            [
             0.4444444444444444,
             "#bd3786"
            ],
            [
             0.5555555555555556,
             "#d8576b"
            ],
            [
             0.6666666666666666,
             "#ed7953"
            ],
            [
             0.7777777777777778,
             "#fb9f3a"
            ],
            [
             0.8888888888888888,
             "#fdca26"
            ],
            [
             1.0,
             "#f0f921"
            ]
           ]
          },
          "colorway": [
           "#1f77b4",
           "#ff7f0e",
           "#2ca02c",
           "#d62728",
           "#9467bd",
           "#8c564b",
           "#e377c2",
           "#7f7f7f",
           "#bcbd22",
           "#17becf"
          ],
          "font": {
           "color": "#2a3f5f"
          },
          "geo": {
           "bgcolor": "white",
           "lakecolor": "white",
           "landcolor": "white",
           "showlakes": true,
           "showland": true,
           "subunitcolor": "#C8D4E3"
          },
          "hoverlabel": {
           "align": "left"
          },
          "hovermode": "closest",
          "mapbox": {
           "style": "light"
          },
          "paper_bgcolor": "white",
          "plot_bgcolor": "white",
          "polar": {
           "angularaxis": {
            "gridcolor": "#EBF0F8",
            "linecolor": "#EBF0F8",
            "ticks": ""
           },
           "bgcolor": "white",
           "radialaxis": {
            "gridcolor": "#EBF0F8",
            "linecolor": "#EBF0F8",
            "ticks": ""
           }
          },
          "scene": {
           "camera": {
            "center": {
             "x": 0,
             "y": 0,
             "z": 0
            },
            "eye": {
             "x": 2.0,
             "y": 2.0,
             "z": 2.0
            },
            "up": {
             "x": 0,
             "y": 0,
             "z": 1
            }
           },
           "xaxis": {
            "backgroundcolor": "white",
            "gridcolor": "#DFE8F3",
            "gridwidth": 2,
            "linecolor": "#EBF0F8",
            "showbackground": true,
            "showspikes": false,
            "ticks": "",
            "zerolinecolor": "#EBF0F8"
           },
           "yaxis": {
            "backgroundcolor": "white",
            "gridcolor": "#DFE8F3",
            "gridwidth": 2,
            "linecolor": "#EBF0F8",
            "showbackground": true,
            "showspikes": false,
            "ticks": "",
            "zerolinecolor": "#EBF0F8"
           },
           "zaxis": {
            "backgroundcolor": "white",
            "gridcolor": "#DFE8F3",
            "gridwidth": 2,
            "linecolor": "#EBF0F8",
            "showbackground": true,
            "showspikes": false,
            "ticks": "",
            "zerolinecolor": "#EBF0F8"
           }
          },
          "shapedefaults": {
           "line": {
            "color": "#2a3f5f"
           }
          },
          "ternary": {
           "aaxis": {
            "gridcolor": "#DFE8F3",
            "linecolor": "#A2B1C6",
            "ticks": ""
           },
           "baxis": {
            "gridcolor": "#DFE8F3",
            "linecolor": "#A2B1C6",
            "ticks": ""
           },
           "bgcolor": "white",
           "caxis": {
            "gridcolor": "#DFE8F3",
            "linecolor": "#A2B1C6",
            "ticks": ""
           }
          },
          "title": {
           "x": 0.05
          },
          "xaxis": {
           "automargin": true,
           "gridcolor": "#EBF0F8",
           "linecolor": "black",
           "linewidth": 2.0,
           "mirror": true,
           "showline": true,
           "ticks": "",
           "title": {
            "standoff": 15
           },
           "zeroline": false,
           "zerolinecolor": "#EBF0F8",
           "zerolinewidth": 2
          },
          "yaxis": {
           "automargin": true,
           "gridcolor": "#EBF0F8",
           "linecolor": "black",
           "linewidth": 2.0,
           "mirror": true,
           "showline": true,
           "ticks": "",
           "title": {
            "standoff": 15
           },
           "zeroline": false,
           "zerolinecolor": "#EBF0F8",
           "zerolinewidth": 2
          }
         }
        },
        "title": {
         "text": "Rotor Model"
        },
        "xaxis": {
         "mirror": true,
         "range": [
          -0.15000000000000002,
          1.6500000000000001
         ],
         "showgrid": false,
         "title": {
          "text": "Axial location (m)"
         }
        },
        "yaxis": {
         "mirror": true,
         "range": [
          -0.44999999999999996,
          0.44999999999999996
         ],
         "showgrid": false,
         "title": {
          "text": "Shaft radius (m)"
         }
        }
       }
      }
     },
     "metadata": {},
     "output_type": "display_data"
    }
   ],
   "source": [
    "sample = np.random.choice(list(iter(rand_rotor)))\n",
    "fig = sample.plot_rotor()\n",
    "fig.show()"
   ]
  },
  {
   "cell_type": "markdown",
   "metadata": {},
   "source": [
    "#### Running Stochastic Campbell Diagram"
   ]
  },
  {
   "cell_type": "code",
   "execution_count": 6,
   "metadata": {
    "execution": {
     "iopub.execute_input": "2023-05-04T01:00:48.385724Z",
     "iopub.status.busy": "2023-05-04T01:00:48.385541Z",
     "iopub.status.idle": "2023-05-04T01:01:43.068569Z",
     "shell.execute_reply": "2023-05-04T01:01:43.068053Z"
    }
   },
   "outputs": [],
   "source": [
    "speed_range = np.linspace(0, 600, 31)\n",
    "camp = rand_rotor.run_campbell(speed_range)"
   ]
  },
  {
   "cell_type": "markdown",
   "metadata": {},
   "source": [
    "#### Plotting Stochastic Campbell Diagram"
   ]
  },
  {
   "cell_type": "code",
   "execution_count": 7,
   "metadata": {
    "execution": {
     "iopub.execute_input": "2023-05-04T01:01:43.070957Z",
     "iopub.status.busy": "2023-05-04T01:01:43.070618Z",
     "iopub.status.idle": "2023-05-04T01:01:43.088609Z",
     "shell.execute_reply": "2023-05-04T01:01:43.088194Z"
    }
   },
   "outputs": [
    {
     "data": {
      "application/vnd.plotly.v1+json": {
       "config": {
        "plotlyServerURL": "https://plot.ly"
       },
       "data": [
        {
         "hovertemplate": "Frequency: %{x:.3f}<br>Frequency: %{y:.3f}",
         "legendgroup": "speed0",
         "line": {
          "color": "#2E91E5",
          "dash": "dashdot",
          "width": 3
         },
         "mode": "lines",
         "name": "1x speed",
         "type": "scatter",
         "x": [
          0.0,
          20.0,
          40.0,
          60.0,
          80.0,
          100.0,
          120.0,
          140.0,
          160.0,
          180.0,
          200.0,
          220.0,
          240.0,
          260.0,
          280.0,
          300.0,
          320.0,
          340.0,
          360.0,
          380.0,
          400.0,
          420.0,
          440.0,
          460.0,
          480.0,
          500.0,
          520.0,
          540.0,
          560.0,
          580.0,
          600.0
         ],
         "y": [
          0.0,
          20.0,
          40.0,
          60.0,
          80.0,
          100.0,
          120.0,
          140.0,
          160.0,
          180.0,
          200.0,
          220.0,
          240.0,
          260.0,
          280.0,
          300.0,
          320.0,
          340.0,
          360.0,
          380.0,
          400.0,
          420.0,
          440.0,
          460.0,
          480.0,
          500.0,
          520.0,
          540.0,
          560.0,
          580.0,
          600.0
         ]
        },
        {
         "hovertemplate": "Frequency: %{x:.3f}<br>Frequency: %{y:.3f}",
         "legendgroup": "mean0",
         "line": {
          "color": "#2E91E5",
          "width": 3
         },
         "mode": "lines",
         "name": "Mean - Mode 1",
         "type": "scatter",
         "x": [
          0.0,
          20.0,
          40.0,
          60.0,
          80.0,
          100.0,
          120.0,
          140.0,
          160.0,
          180.0,
          200.0,
          220.0,
          240.0,
          260.0,
          280.0,
          300.0,
          320.0,
          340.0,
          360.0,
          380.0,
          400.0,
          420.0,
          440.0,
          460.0,
          480.0,
          500.0,
          520.0,
          540.0,
          560.0,
          580.0,
          600.0
         ],
         "y": [
          86.0870062101348,
          86.0255553261516,
          85.963778163416,
          85.90167231034894,
          85.83923533806845,
          85.77646480041722,
          85.71335823401783,
          85.64991315831342,
          85.58612707562854,
          85.52199747124475,
          85.45752181346629,
          85.39269755371578,
          85.32752212662395,
          85.26199295014067,
          85.19610742564724,
          85.12986293808706,
          85.06325685610362,
          84.9962865321897,
          84.92894930285038,
          84.86124248877924,
          84.79316339504312,
          84.72470931128541,
          84.6558775119405,
          84.5866652564612,
          84.51706978956425,
          84.447088341487,
          84.37671812826375,
          84.30595635201377,
          84.23480020124985,
          84.16324685120253,
          84.09129346416007
         ]
        },
        {
         "fill": "toself",
         "fillcolor": "#2E91E5",
         "hovertemplate": "Frequency: %{x:.3f}<br>Frequency: %{y:.3f}",
         "legendgroup": "conf00",
         "line": {
          "color": "#2E91E5",
          "width": 1
         },
         "mode": "lines",
         "name": "confidence interval: 95% - Mode 1",
         "opacity": 0.3,
         "type": "scatter",
         "x": [
          0.0,
          20.0,
          40.0,
          60.0,
          80.0,
          100.0,
          120.0,
          140.0,
          160.0,
          180.0,
          200.0,
          220.0,
          240.0,
          260.0,
          280.0,
          300.0,
          320.0,
          340.0,
          360.0,
          380.0,
          400.0,
          420.0,
          440.0,
          460.0,
          480.0,
          500.0,
          520.0,
          540.0,
          560.0,
          580.0,
          600.0,
          600.0,
          580.0,
          560.0,
          540.0,
          520.0,
          500.0,
          480.0,
          460.0,
          440.0,
          420.0,
          400.0,
          380.0,
          360.0,
          340.0,
          320.0,
          300.0,
          280.0,
          260.0,
          240.0,
          220.0,
          200.0,
          180.0,
          160.0,
          140.0,
          120.0,
          100.0,
          80.0,
          60.0,
          40.0,
          20.0,
          0.0
         ],
         "y": [
          86.88127941189525,
          86.82304473699108,
          86.7645038816102,
          86.70565453141005,
          86.64649435351909,
          86.58702099644454,
          86.52723209010281,
          86.4671252457906,
          86.40669805608522,
          86.34594809497082,
          86.28487291770149,
          86.22347006086768,
          86.16173704238435,
          86.09967136150328,
          86.03727049884618,
          85.97453191642097,
          85.91145305766935,
          85.84803134751766,
          85.78426419241856,
          85.7201489804351,
          85.65568308130382,
          85.59086384652552,
          85.52568860946492,
          85.4601546854558,
          85.39425937192874,
          85.3279999485242,
          85.26137367725887,
          85.19437780266936,
          85.12700955198844,
          85.05926613532581,
          84.99114474587041,
          82.9181535918486,
          82.99520972822928,
          83.07183698153845,
          83.14803820724579,
          83.2238162537696,
          83.29917396195472,
          83.37411416453781,
          83.44863968566017,
          83.52275334038501,
          83.59645793424265,
          83.6697562627996,
          83.74265111123108,
          83.8151452539306,
          83.88724145412313,
          83.95894246350967,
          84.03025102191425,
          84.10116985696301,
          84.17170168376087,
          84.24184920460529,
          84.31161510870095,
          84.38100207189005,
          84.45001275640901,
          84.51864981063756,
          84.58691586888507,
          84.6548135511786,
          84.72234546305471,
          84.78951419539798,
          84.85632232422333,
          84.92277241055712,
          84.98886700026577,
          85.05460862391527
         ]
        },
        {
         "hovertemplate": "Frequency: %{x:.3f}<br>Frequency: %{y:.3f}",
         "legendgroup": "mean1",
         "line": {
          "color": "#E15F99",
          "width": 3
         },
         "mode": "lines",
         "name": "Mean - Mode 2",
         "type": "scatter",
         "x": [
          0.0,
          20.0,
          40.0,
          60.0,
          80.0,
          100.0,
          120.0,
          140.0,
          160.0,
          180.0,
          200.0,
          220.0,
          240.0,
          260.0,
          280.0,
          300.0,
          320.0,
          340.0,
          360.0,
          380.0,
          400.0,
          420.0,
          440.0,
          460.0,
          480.0,
          500.0,
          520.0,
          540.0,
          560.0,
          580.0,
          600.0
         ],
         "y": [
          86.08700621014685,
          86.14813320962037,
          86.20893870149894,
          86.26942504530064,
          86.32959458318801,
          86.38944963994288,
          86.44899252298723,
          86.50822552238405,
          86.56715091085665,
          86.62577094381665,
          86.68408785938435,
          86.74210387842672,
          86.79982120459069,
          86.85724202434962,
          86.91436850704406,
          86.97120280493593,
          87.02774705326092,
          87.08400337028772,
          87.13997385737737,
          87.19566059904959,
          87.25106566304993,
          87.30619110042184,
          87.36103894557976,
          87.41561121638506,
          87.46990991422751,
          87.52393702410505,
          87.57769451470905,
          87.6311843385089,
          87.68440843184207,
          87.73736871500414,
          87.79006709233967
         ]
        },
        {
         "fill": "toself",
         "fillcolor": "#E15F99",
         "hovertemplate": "Frequency: %{x:.3f}<br>Frequency: %{y:.3f}",
         "legendgroup": "conf10",
         "line": {
          "color": "#E15F99",
          "width": 1
         },
         "mode": "lines",
         "name": "confidence interval: 95% - Mode 2",
         "opacity": 0.3,
         "type": "scatter",
         "x": [
          0.0,
          20.0,
          40.0,
          60.0,
          80.0,
          100.0,
          120.0,
          140.0,
          160.0,
          180.0,
          200.0,
          220.0,
          240.0,
          260.0,
          280.0,
          300.0,
          320.0,
          340.0,
          360.0,
          380.0,
          400.0,
          420.0,
          440.0,
          460.0,
          480.0,
          500.0,
          520.0,
          540.0,
          560.0,
          580.0,
          600.0,
          600.0,
          580.0,
          560.0,
          540.0,
          520.0,
          500.0,
          480.0,
          460.0,
          440.0,
          420.0,
          400.0,
          380.0,
          360.0,
          340.0,
          320.0,
          300.0,
          280.0,
          260.0,
          240.0,
          220.0,
          200.0,
          180.0,
          160.0,
          140.0,
          120.0,
          100.0,
          80.0,
          60.0,
          40.0,
          20.0,
          0.0
         ],
         "y": [
          86.88127941191885,
          86.93921020225096,
          86.99683938539528,
          87.05416922033601,
          87.1112019477906,
          87.16793979010978,
          87.22438495149063,
          87.28053961797734,
          87.3364059575039,
          87.39198612008904,
          87.44728223778223,
          87.50229642482957,
          87.55703077773033,
          87.6114873753361,
          87.66566827894033,
          87.71957553237098,
          87.77321116209352,
          87.82657717730673,
          87.87967557004147,
          87.9325083152713,
          87.98507737101447,
          88.03738467843522,
          88.08943216196207,
          88.14122172939209,
          88.19275527201083,
          88.24403466468688,
          88.29506176600908,
          88.34583841838227,
          88.39636644815482,
          88.44664766573135,
          88.4966838656905,
          86.87462959166056,
          86.81837935990602,
          86.76184462503481,
          86.70502333960196,
          86.64791344020021,
          86.5905128474196,
          86.53281946578414,
          86.47483118371855,
          86.41654587349483,
          86.35796139119606,
          86.29907557669074,
          86.23988625359024,
          86.18039122922531,
          86.12058829462775,
          86.06047522451652,
          86.00004977727238,
          85.93930969494632,
          85.87825270325038,
          85.81687651155826,
          85.75517881292605,
          85.69315728409613,
          85.63080958553103,
          85.56813336142955,
          85.5051262397737,
          85.44178583236695,
          85.37810973488111,
          85.31409552692817,
          85.24974077210352,
          85.18504301807042,
          85.11999979665615,
          85.0546086239214
         ]
        },
        {
         "hovertemplate": "Frequency: %{x:.3f}<br>Frequency: %{y:.3f}",
         "legendgroup": "mean2",
         "line": {
          "color": "#1CA71C",
          "width": 3
         },
         "mode": "lines",
         "name": "Mean - Mode 3",
         "type": "scatter",
         "x": [
          0.0,
          20.0,
          40.0,
          60.0,
          80.0,
          100.0,
          120.0,
          140.0,
          160.0,
          180.0,
          200.0,
          220.0,
          240.0,
          260.0,
          280.0,
          300.0,
          320.0,
          340.0,
          360.0,
          380.0,
          400.0,
          420.0,
          440.0,
          460.0,
          480.0,
          500.0,
          520.0,
          540.0,
          560.0,
          580.0,
          600.0
         ],
         "y": [
          273.92276279524225,
          272.9046209846758,
          271.881190777244,
          270.85251589224833,
          269.8186438835419,
          268.7796262481115,
          267.7355185318733,
          266.6863804323727,
          265.6322758979251,
          264.5732732224642,
          263.5094451357056,
          262.4408688878803,
          261.36762632855255,
          260.2898039788799,
          259.2074930966227,
          258.12078973342346,
          257.02979478361226,
          255.93461402401573,
          254.83535814412772,
          253.7321427660888,
          252.6250884538918,
          251.5143207113198,
          250.39996996803117,
          249.28217155350777,
          248.1610656581936,
          247.0367972817484,
          245.90951616786583,
          244.77937672548666,
          243.64653793629944,
          242.51116324828035,
          241.3734204552607
         ]
        },
        {
         "fill": "toself",
         "fillcolor": "#1CA71C",
         "hovertemplate": "Frequency: %{x:.3f}<br>Frequency: %{y:.3f}",
         "legendgroup": "conf20",
         "line": {
          "color": "#1CA71C",
          "width": 1
         },
         "mode": "lines",
         "name": "confidence interval: 95% - Mode 3",
         "opacity": 0.3,
         "type": "scatter",
         "x": [
          0.0,
          20.0,
          40.0,
          60.0,
          80.0,
          100.0,
          120.0,
          140.0,
          160.0,
          180.0,
          200.0,
          220.0,
          240.0,
          260.0,
          280.0,
          300.0,
          320.0,
          340.0,
          360.0,
          380.0,
          400.0,
          420.0,
          440.0,
          460.0,
          480.0,
          500.0,
          520.0,
          540.0,
          560.0,
          580.0,
          600.0,
          600.0,
          580.0,
          560.0,
          540.0,
          520.0,
          500.0,
          480.0,
          460.0,
          440.0,
          420.0,
          400.0,
          380.0,
          360.0,
          340.0,
          320.0,
          300.0,
          280.0,
          260.0,
          240.0,
          220.0,
          200.0,
          180.0,
          160.0,
          140.0,
          120.0,
          100.0,
          80.0,
          60.0,
          40.0,
          20.0,
          0.0
         ],
         "y": [
          274.57064789522394,
          273.5390275513016,
          272.5024176165043,
          271.4608884124529,
          270.414455852701,
          269.36317704172575,
          268.30711296979877,
          267.24632859707583,
          266.18089293545836,
          265.1108791244283,
          264.03636450269664,
          262.95743067424195,
          261.87416356801214,
          260.7866534915866,
          259.6949951768757,
          258.5992878193381,
          257.4996351080687,
          256.3961452479811,
          255.28893097243568,
          254.17810954669534,
          253.0638027610521,
          251.94613691355326,
          250.82524278241874,
          249.70125558668153,
          248.57431493578022,
          247.44456476738222,
          246.31215327343253,
          245.1772328139403,
          244.0399753929106,
          242.90056377703283,
          241.759127798769,
          240.86603506178284,
          241.9986089217879,
          243.12836062349217,
          244.25511790359826,
          245.3787135398974,
          246.49898546773485,
          247.61577687946908,
          248.7289363083091,
          249.83831769543653,
          250.943726626856,
          252.04504865528818,
          253.1421765537451,
          254.23498627170133,
          255.32335929138438,
          256.40718260701186,
          257.4863486926703,
          258.5607554576535,
          259.6303061909667,
          260.69490949577005,
          261.7544792142826,
          262.80893434342136,
          263.8581989430318,
          264.90220203708697,
          265.94087750719626,
          266.9741639819851,
          268.00200472011664,
          269.0243474897862,
          270.0411444441403,
          271.052351993871,
          272.05793067729286,
          273.0578450282497
         ]
        },
        {
         "hovertemplate": "Frequency: %{x:.3f}<br>Frequency: %{y:.3f}",
         "legendgroup": "mean3",
         "line": {
          "color": "#FB0D0D",
          "width": 3
         },
         "mode": "lines",
         "name": "Mean - Mode 4",
         "type": "scatter",
         "x": [
          0.0,
          20.0,
          40.0,
          60.0,
          80.0,
          100.0,
          120.0,
          140.0,
          160.0,
          180.0,
          200.0,
          220.0,
          240.0,
          260.0,
          280.0,
          300.0,
          320.0,
          340.0,
          360.0,
          380.0,
          400.0,
          420.0,
          440.0,
          460.0,
          480.0,
          500.0,
          520.0,
          540.0,
          560.0,
          580.0,
          600.0
         ],
         "y": [
          273.9227627953708,
          274.9355762141223,
          275.9430248580839,
          276.94507584290403,
          277.94169966884954,
          278.93287010636567,
          279.9185640815673,
          280.89876156204485,
          281.8734454434186,
          282.8426014366754,
          283.80621795682754,
          284.7642860128958,
          285.71679909953747,
          286.6637530906168,
          287.60514613458434,
          288.5409785521591,
          289.4712527361949,
          290.3959730539581,
          291.31514575187515,
          292.2287788628289,
          293.13688211607024,
          294.03946684978825,
          294.93654592629633,
          295.82813365008786,
          296.714245688373,
          297.5948989946082,
          298.47011173449084,
          299.3399032147511,
          300.20429381460764,
          301.06330491985085,
          301.9169588594124
         ]
        },
        {
         "fill": "toself",
         "fillcolor": "#FB0D0D",
         "hovertemplate": "Frequency: %{x:.3f}<br>Frequency: %{y:.3f}",
         "legendgroup": "conf30",
         "line": {
          "color": "#FB0D0D",
          "width": 1
         },
         "mode": "lines",
         "name": "confidence interval: 95% - Mode 4",
         "opacity": 0.3,
         "type": "scatter",
         "x": [
          0.0,
          20.0,
          40.0,
          60.0,
          80.0,
          100.0,
          120.0,
          140.0,
          160.0,
          180.0,
          200.0,
          220.0,
          240.0,
          260.0,
          280.0,
          300.0,
          320.0,
          340.0,
          360.0,
          380.0,
          400.0,
          420.0,
          440.0,
          460.0,
          480.0,
          500.0,
          520.0,
          540.0,
          560.0,
          580.0,
          600.0,
          600.0,
          580.0,
          560.0,
          540.0,
          520.0,
          500.0,
          480.0,
          460.0,
          440.0,
          420.0,
          400.0,
          380.0,
          360.0,
          340.0,
          320.0,
          300.0,
          280.0,
          260.0,
          240.0,
          220.0,
          200.0,
          180.0,
          160.0,
          140.0,
          120.0,
          100.0,
          80.0,
          60.0,
          40.0,
          20.0,
          0.0
         ],
         "y": [
          274.5706478954162,
          275.5972193927861,
          276.6186995033412,
          277.6350491015676,
          278.64623237817165,
          279.65221673836066,
          280.65297270183714,
          281.6484738011121,
          282.6386964800786,
          283.6236199927663,
          284.6032263031256,
          285.57749998476004,
          286.54642812196727,
          287.51000021264355,
          288.46820807125084,
          289.4210457343706,
          290.3685093674177,
          291.3105971734287,
          292.2473093033877,
          293.17864776938666,
          294.10461635861384,
          295.0252205504897,
          295.94046743587194,
          296.85036563830727,
          297.7549252372888,
          298.65415769490903,
          299.5480757832985,
          300.4366935159091,
          301.3200260799196,
          302.19808977173534,
          303.0709019347622,
          300.3728913489899,
          299.544812408532,
          298.7112435793848,
          297.87215593320417,
          297.02752134011746,
          296.17731253340713,
          295.3215031757696,
          294.4600679301473,
          293.59298253227536,
          292.72022386719436,
          291.84177004886067,
          290.9576005026376,
          290.06769605141756,
          289.17203900534497,
          288.27061325377326,
          287.36340436173276,
          286.45039966905694,
          285.5315883927684,
          284.60696173303353,
          283.67651298237035,
          282.7402376371103,
          281.79813351272287,
          280.8502008622391,
          279.89644249584165,
          278.93686390513113,
          277.97147338798743,
          277.0002821765553,
          276.02330456681284,
          275.0405580497615,
          274.0520634438755,
          273.0578450282507
         ]
        },
        {
         "hovertemplate": "Frequency: %{x:.3f}<br>Frequency: %{y:.3f}",
         "legendgroup": "mean4",
         "line": {
          "color": "#DA16FF",
          "width": 3
         },
         "mode": "lines",
         "name": "Mean - Mode 5",
         "type": "scatter",
         "x": [
          0.0,
          20.0,
          40.0,
          60.0,
          80.0,
          100.0,
          120.0,
          140.0,
          160.0,
          180.0,
          200.0,
          220.0,
          240.0,
          260.0,
          280.0,
          300.0,
          320.0,
          340.0,
          360.0,
          380.0,
          400.0,
          420.0,
          440.0,
          460.0,
          480.0,
          500.0,
          520.0,
          540.0,
          560.0,
          580.0,
          600.0
         ],
         "y": [
          709.2432722452459,
          703.4968916654656,
          697.7399741433259,
          691.9760194996873,
          686.2085339068113,
          680.4410175555422,
          674.6769525043828,
          668.9197908148536,
          663.1729430620264,
          657.4397673083967,
          651.7235586164901,
          646.0275391706202,
          640.3548490616079,
          634.708537789354,
          629.0915565141171,
          623.5067510897223,
          617.9568558929546,
          612.4444884606634,
          606.9721449309053,
          601.5421962816804,
          596.1568853501344,
          590.8183246086413,
          585.5284946696579,
          580.2892434856802,
          575.1022862045517,
          569.9692056426517,
          564.891453327164,
          559.8703510673316,
          554.9070930048154,
          550.00274809759,
          545.1582629920285
         ]
        },
        {
         "fill": "toself",
         "fillcolor": "#DA16FF",
         "hovertemplate": "Frequency: %{x:.3f}<br>Frequency: %{y:.3f}",
         "legendgroup": "conf40",
         "line": {
          "color": "#DA16FF",
          "width": 1
         },
         "mode": "lines",
         "name": "confidence interval: 95% - Mode 5",
         "opacity": 0.3,
         "type": "scatter",
         "x": [
          0.0,
          20.0,
          40.0,
          60.0,
          80.0,
          100.0,
          120.0,
          140.0,
          160.0,
          180.0,
          200.0,
          220.0,
          240.0,
          260.0,
          280.0,
          300.0,
          320.0,
          340.0,
          360.0,
          380.0,
          400.0,
          420.0,
          440.0,
          460.0,
          480.0,
          500.0,
          520.0,
          540.0,
          560.0,
          580.0,
          600.0,
          600.0,
          580.0,
          560.0,
          540.0,
          520.0,
          500.0,
          480.0,
          460.0,
          440.0,
          420.0,
          400.0,
          380.0,
          360.0,
          340.0,
          320.0,
          300.0,
          280.0,
          260.0,
          240.0,
          220.0,
          200.0,
          180.0,
          160.0,
          140.0,
          120.0,
          100.0,
          80.0,
          60.0,
          40.0,
          20.0,
          0.0
         ],
         "y": [
          716.9040212139492,
          711.2339789356715,
          705.5511281565302,
          699.858846420583,
          694.1605248691635,
          688.4595564302341,
          682.7593241069542,
          677.0631894868741,
          671.3744815518938,
          665.6964858696298,
          660.0324342601023,
          654.3854949911838,
          648.7587635697191,
          643.1552541860715,
          637.5778918387756,
          632.0295051914012,
          626.5128201653334,
          621.0304542995771,
          615.5849118674107,
          610.1785797593303,
          604.8137241156518,
          599.4924876908809,
          594.2168879273148,
          588.9888157132633,
          583.8100347829173,
          578.6821817409726,
          573.6067666378981,
          568.5851740994268,
          563.61866492525,
          558.708378140545,
          553.8553334462105,
          534.032512855828,
          538.8645820109627,
          543.7598838030933,
          548.7175670450092,
          553.7366544375119,
          558.8160391535447,
          563.9544817906902,
          569.1506077470888,
          574.4029050602342,
          579.7097227756861,
          585.069269878405,
          590.4796148476825,
          595.938685877294,
          601.4442718076175,
          606.9940238071151,
          612.5854578426816,
          618.2159579675812,
          623.8827804507438,
          629.5830587641424,
          635.3138094350654,
          641.0719387694242,
          646.8542504158944,
          652.6574537784254,
          658.4781732192005,
          664.3129580169664,
          670.1582930360373,
          676.0106100249884,
          681.8662994738393,
          687.7217229525369,
          693.5732258260389,
          699.4171502430718
         ]
        },
        {
         "hovertemplate": "Frequency: %{x:.3f}<br>Frequency: %{y:.3f}",
         "legendgroup": "mean5",
         "line": {
          "color": "#222A2A",
          "width": 3
         },
         "mode": "lines",
         "name": "Mean - Mode 6",
         "type": "scatter",
         "x": [
          0.0,
          20.0,
          40.0,
          60.0,
          80.0,
          100.0,
          120.0,
          140.0,
          160.0,
          180.0,
          200.0,
          220.0,
          240.0,
          260.0,
          280.0,
          300.0,
          320.0,
          340.0,
          360.0,
          380.0,
          400.0,
          420.0,
          440.0,
          460.0,
          480.0,
          500.0,
          520.0,
          540.0,
          560.0,
          580.0,
          600.0
         ],
         "y": [
          709.2432722474463,
          714.9756348342129,
          720.6905295365249,
          726.3845498750197,
          732.0543447998741,
          737.6966303563257,
          743.3082008985884,
          748.8859397593628,
          754.4268292807303,
          759.9279601294464,
          765.3865398212902,
          770.7999004002392,
          776.1655052161375,
          781.4809547732216,
          786.7439916182301,
          791.9525042617147,
          797.1045301297032,
          802.1982575614746,
          807.2320268722323,
          812.2043305185448,
          817.1138124048136,
          821.9592663820617,
          826.7396339941405,
          831.4540015352281,
          836.1015964775113,
          840.6817833462904,
          845.1940590991944,
          849.6380480912504,
          854.0134966839356,
          858.3202675708479,
          862.5583338819363
         ]
        },
        {
         "fill": "toself",
         "fillcolor": "#222A2A",
         "hovertemplate": "Frequency: %{x:.3f}<br>Frequency: %{y:.3f}",
         "legendgroup": "conf50",
         "line": {
          "color": "#222A2A",
          "width": 1
         },
         "mode": "lines",
         "name": "confidence interval: 95% - Mode 6",
         "opacity": 0.3,
         "type": "scatter",
         "x": [
          0.0,
          20.0,
          40.0,
          60.0,
          80.0,
          100.0,
          120.0,
          140.0,
          160.0,
          180.0,
          200.0,
          220.0,
          240.0,
          260.0,
          280.0,
          300.0,
          320.0,
          340.0,
          360.0,
          380.0,
          400.0,
          420.0,
          440.0,
          460.0,
          480.0,
          500.0,
          520.0,
          540.0,
          560.0,
          580.0,
          600.0,
          600.0,
          580.0,
          560.0,
          540.0,
          520.0,
          500.0,
          480.0,
          460.0,
          440.0,
          420.0,
          400.0,
          380.0,
          360.0,
          340.0,
          320.0,
          300.0,
          280.0,
          260.0,
          240.0,
          220.0,
          200.0,
          180.0,
          160.0,
          140.0,
          120.0,
          100.0,
          80.0,
          60.0,
          40.0,
          20.0,
          0.0
         ],
         "y": [
          716.9040212191672,
          722.5579029001781,
          728.1923090776795,
          733.8039735959463,
          739.3896903248965,
          744.9463240534034,
          750.4708208880236,
          755.9602180980752,
          761.4116533076979,
          766.8223729657099,
          772.1897400426459,
          777.5112408958837,
          782.7844912630096,
          788.007241359032,
          793.1773800566845,
          798.2929381530495,
          803.3520907226667,
          808.3531585687017,
          813.2946088139001,
          818.1750546515729,
          822.993254309432,
          827.748109274597,
          832.4386618228627,
          837.0640919353646,
          841.6237136382729,
          846.1169708598937,
          850.543432827278,
          854.9027891223333,
          859.1948444099627,
          863.4195129273079,
          867.5768127948006,
          856.118350406388,
          851.7769220271852,
          847.365049408493,
          842.8828175610631,
          838.3304305657937,
          833.708217729816,
          829.0166394818842,
          824.2562929299431,
          819.4279169864459,
          814.5323970383375,
          809.570769019662,
          804.5442228766041,
          799.4541053060822,
          794.3019217249215,
          789.0893373971348,
          783.8181776664264,
          778.4904272396,
          773.108228485219,
          767.6738787155101,
          762.1898264310462,
          756.6586665353134,
          751.0831344953773,
          745.4660995139322,
          739.8105567074825,
          734.1196183492387,
          728.3965042600126,
          722.6445313841988,
          716.8671026548601,
          711.0676952449197,
          705.2498482974237,
          699.417150243299
         ]
        }
       ],
       "layout": {
        "height": 700,
        "template": {
         "data": {
          "bar": [
           {
            "error_x": {
             "color": "#2a3f5f"
            },
            "error_y": {
             "color": "#2a3f5f"
            },
            "marker": {
             "line": {
              "color": "white",
              "width": 0.5
             }
            },
            "type": "bar"
           }
          ],
          "barpolar": [
           {
            "marker": {
             "line": {
              "color": "white",
              "width": 0.5
             }
            },
            "type": "barpolar"
           }
          ],
          "carpet": [
           {
            "aaxis": {
             "endlinecolor": "#2a3f5f",
             "gridcolor": "#C8D4E3",
             "linecolor": "#C8D4E3",
             "minorgridcolor": "#C8D4E3",
             "startlinecolor": "#2a3f5f"
            },
            "baxis": {
             "endlinecolor": "#2a3f5f",
             "gridcolor": "#C8D4E3",
             "linecolor": "#C8D4E3",
             "minorgridcolor": "#C8D4E3",
             "startlinecolor": "#2a3f5f"
            },
            "type": "carpet"
           }
          ],
          "choropleth": [
           {
            "colorbar": {
             "outlinewidth": 0,
             "ticks": ""
            },
            "type": "choropleth"
           }
          ],
          "contour": [
           {
            "colorbar": {
             "outlinewidth": 0,
             "ticks": ""
            },
            "colorscale": [
             [
              0.0,
              "#0d0887"
             ],
             [
              0.1111111111111111,
              "#46039f"
             ],
             [
              0.2222222222222222,
              "#7201a8"
             ],
             [
              0.3333333333333333,
              "#9c179e"
             ],
             [
              0.4444444444444444,
              "#bd3786"
             ],
             [
              0.5555555555555556,
              "#d8576b"
             ],
             [
              0.6666666666666666,
              "#ed7953"
             ],
             [
              0.7777777777777778,
              "#fb9f3a"
             ],
             [
              0.8888888888888888,
              "#fdca26"
             ],
             [
              1.0,
              "#f0f921"
             ]
            ],
            "type": "contour"
           }
          ],
          "contourcarpet": [
           {
            "colorbar": {
             "outlinewidth": 0,
             "ticks": ""
            },
            "type": "contourcarpet"
           }
          ],
          "heatmap": [
           {
            "colorbar": {
             "outlinewidth": 0,
             "ticks": ""
            },
            "colorscale": [
             [
              0.0,
              "#0d0887"
             ],
             [
              0.1111111111111111,
              "#46039f"
             ],
             [
              0.2222222222222222,
              "#7201a8"
             ],
             [
              0.3333333333333333,
              "#9c179e"
             ],
             [
              0.4444444444444444,
              "#bd3786"
             ],
             [
              0.5555555555555556,
              "#d8576b"
             ],
             [
              0.6666666666666666,
              "#ed7953"
             ],
             [
              0.7777777777777778,
              "#fb9f3a"
             ],
             [
              0.8888888888888888,
              "#fdca26"
             ],
             [
              1.0,
              "#f0f921"
             ]
            ],
            "type": "heatmap"
           }
          ],
          "heatmapgl": [
           {
            "colorbar": {
             "outlinewidth": 0,
             "ticks": ""
            },
            "colorscale": [
             [
              0.0,
              "#0d0887"
             ],
             [
              0.1111111111111111,
              "#46039f"
             ],
             [
              0.2222222222222222,
              "#7201a8"
             ],
             [
              0.3333333333333333,
              "#9c179e"
             ],
             [
              0.4444444444444444,
              "#bd3786"
             ],
             [
              0.5555555555555556,
              "#d8576b"
             ],
             [
              0.6666666666666666,
              "#ed7953"
             ],
             [
              0.7777777777777778,
              "#fb9f3a"
             ],
             [
              0.8888888888888888,
              "#fdca26"
             ],
             [
              1.0,
              "#f0f921"
             ]
            ],
            "type": "heatmapgl"
           }
          ],
          "histogram": [
           {
            "marker": {
             "colorbar": {
              "outlinewidth": 0,
              "ticks": ""
             }
            },
            "type": "histogram"
           }
          ],
          "histogram2d": [
           {
            "colorbar": {
             "outlinewidth": 0,
             "ticks": ""
            },
            "colorscale": [
             [
              0.0,
              "#0d0887"
             ],
             [
              0.1111111111111111,
              "#46039f"
             ],
             [
              0.2222222222222222,
              "#7201a8"
             ],
             [
              0.3333333333333333,
              "#9c179e"
             ],
             [
              0.4444444444444444,
              "#bd3786"
             ],
             [
              0.5555555555555556,
              "#d8576b"
             ],
             [
              0.6666666666666666,
              "#ed7953"
             ],
             [
              0.7777777777777778,
              "#fb9f3a"
             ],
             [
              0.8888888888888888,
              "#fdca26"
             ],
             [
              1.0,
              "#f0f921"
             ]
            ],
            "type": "histogram2d"
           }
          ],
          "histogram2dcontour": [
           {
            "colorbar": {
             "outlinewidth": 0,
             "ticks": ""
            },
            "colorscale": [
             [
              0.0,
              "#0d0887"
             ],
             [
              0.1111111111111111,
              "#46039f"
             ],
             [
              0.2222222222222222,
              "#7201a8"
             ],
             [
              0.3333333333333333,
              "#9c179e"
             ],
             [
              0.4444444444444444,
              "#bd3786"
             ],
             [
              0.5555555555555556,
              "#d8576b"
             ],
             [
              0.6666666666666666,
              "#ed7953"
             ],
             [
              0.7777777777777778,
              "#fb9f3a"
             ],
             [
              0.8888888888888888,
              "#fdca26"
             ],
             [
              1.0,
              "#f0f921"
             ]
            ],
            "type": "histogram2dcontour"
           }
          ],
          "mesh3d": [
           {
            "colorbar": {
             "outlinewidth": 0,
             "ticks": ""
            },
            "type": "mesh3d"
           }
          ],
          "parcoords": [
           {
            "line": {
             "colorbar": {
              "outlinewidth": 0,
              "ticks": ""
             }
            },
            "type": "parcoords"
           }
          ],
          "pie": [
           {
            "automargin": true,
            "type": "pie"
           }
          ],
          "scatter": [
           {
            "marker": {
             "colorbar": {
              "outlinewidth": 0,
              "ticks": ""
             }
            },
            "type": "scatter"
           }
          ],
          "scatter3d": [
           {
            "line": {
             "colorbar": {
              "outlinewidth": 0,
              "ticks": ""
             }
            },
            "marker": {
             "colorbar": {
              "outlinewidth": 0,
              "ticks": ""
             },
             "size": 4
            },
            "type": "scatter3d"
           }
          ],
          "scattercarpet": [
           {
            "marker": {
             "colorbar": {
              "outlinewidth": 0,
              "ticks": ""
             }
            },
            "type": "scattercarpet"
           }
          ],
          "scattergeo": [
           {
            "marker": {
             "colorbar": {
              "outlinewidth": 0,
              "ticks": ""
             }
            },
            "type": "scattergeo"
           }
          ],
          "scattergl": [
           {
            "marker": {
             "colorbar": {
              "outlinewidth": 0,
              "ticks": ""
             }
            },
            "type": "scattergl"
           }
          ],
          "scattermapbox": [
           {
            "marker": {
             "colorbar": {
              "outlinewidth": 0,
              "ticks": ""
             }
            },
            "type": "scattermapbox"
           }
          ],
          "scatterpolar": [
           {
            "marker": {
             "colorbar": {
              "outlinewidth": 0,
              "ticks": ""
             }
            },
            "type": "scatterpolar"
           }
          ],
          "scatterpolargl": [
           {
            "marker": {
             "colorbar": {
              "outlinewidth": 0,
              "ticks": ""
             }
            },
            "type": "scatterpolargl"
           }
          ],
          "scatterternary": [
           {
            "marker": {
             "colorbar": {
              "outlinewidth": 0,
              "ticks": ""
             }
            },
            "type": "scatterternary"
           }
          ],
          "surface": [
           {
            "colorbar": {
             "outlinewidth": 0,
             "ticks": ""
            },
            "colorscale": [
             [
              0.0,
              "#0d0887"
             ],
             [
              0.1111111111111111,
              "#46039f"
             ],
             [
              0.2222222222222222,
              "#7201a8"
             ],
             [
              0.3333333333333333,
              "#9c179e"
             ],
             [
              0.4444444444444444,
              "#bd3786"
             ],
             [
              0.5555555555555556,
              "#d8576b"
             ],
             [
              0.6666666666666666,
              "#ed7953"
             ],
             [
              0.7777777777777778,
              "#fb9f3a"
             ],
             [
              0.8888888888888888,
              "#fdca26"
             ],
             [
              1.0,
              "#f0f921"
             ]
            ],
            "type": "surface"
           }
          ],
          "table": [
           {
            "cells": {
             "fill": {
              "color": "#EBF0F8"
             },
             "line": {
              "color": "white"
             }
            },
            "header": {
             "fill": {
              "color": "#C8D4E3"
             },
             "line": {
              "color": "white"
             }
            },
            "type": "table"
           }
          ]
         },
         "layout": {
          "annotationdefaults": {
           "arrowcolor": "#2a3f5f",
           "arrowhead": 0,
           "arrowwidth": 1
          },
          "coloraxis": {
           "colorbar": {
            "outlinewidth": 0,
            "ticks": ""
           }
          },
          "colorscale": {
           "diverging": [
            [
             0,
             "#8e0152"
            ],
            [
             0.1,
             "#c51b7d"
            ],
            [
             0.2,
             "#de77ae"
            ],
            [
             0.3,
             "#f1b6da"
            ],
            [
             0.4,
             "#fde0ef"
            ],
            [
             0.5,
             "#f7f7f7"
            ],
            [
             0.6,
             "#e6f5d0"
            ],
            [
             0.7,
             "#b8e186"
            ],
            [
             0.8,
             "#7fbc41"
            ],
            [
             0.9,
             "#4d9221"
            ],
            [
             1,
             "#276419"
            ]
           ],
           "sequential": [
            [
             0.0,
             "#0d0887"
            ],
            [
             0.1111111111111111,
             "#46039f"
            ],
            [
             0.2222222222222222,
             "#7201a8"
            ],
            [
             0.3333333333333333,
             "#9c179e"
            ],
            [
             0.4444444444444444,
             "#bd3786"
            ],
            [
             0.5555555555555556,
             "#d8576b"
            ],
            [
             0.6666666666666666,
             "#ed7953"
            ],
            [
             0.7777777777777778,
             "#fb9f3a"
            ],
            [
             0.8888888888888888,
             "#fdca26"
            ],
            [
             1.0,
             "#f0f921"
            ]
           ],
           "sequentialminus": [
            [
             0.0,
             "#0d0887"
            ],
            [
             0.1111111111111111,
             "#46039f"
            ],
            [
             0.2222222222222222,
             "#7201a8"
            ],
            [
             0.3333333333333333,
             "#9c179e"
            ],
            [
             0.4444444444444444,
             "#bd3786"
            ],
            [
             0.5555555555555556,
             "#d8576b"
            ],
            [
             0.6666666666666666,
             "#ed7953"
            ],
            [
             0.7777777777777778,
             "#fb9f3a"
            ],
            [
             0.8888888888888888,
             "#fdca26"
            ],
            [
             1.0,
             "#f0f921"
            ]
           ]
          },
          "colorway": [
           "#1f77b4",
           "#ff7f0e",
           "#2ca02c",
           "#d62728",
           "#9467bd",
           "#8c564b",
           "#e377c2",
           "#7f7f7f",
           "#bcbd22",
           "#17becf"
          ],
          "font": {
           "color": "#2a3f5f"
          },
          "geo": {
           "bgcolor": "white",
           "lakecolor": "white",
           "landcolor": "white",
           "showlakes": true,
           "showland": true,
           "subunitcolor": "#C8D4E3"
          },
          "hoverlabel": {
           "align": "left"
          },
          "hovermode": "closest",
          "mapbox": {
           "style": "light"
          },
          "paper_bgcolor": "white",
          "plot_bgcolor": "white",
          "polar": {
           "angularaxis": {
            "gridcolor": "#EBF0F8",
            "linecolor": "#EBF0F8",
            "ticks": ""
           },
           "bgcolor": "white",
           "radialaxis": {
            "gridcolor": "#EBF0F8",
            "linecolor": "#EBF0F8",
            "ticks": ""
           }
          },
          "scene": {
           "camera": {
            "center": {
             "x": 0,
             "y": 0,
             "z": 0
            },
            "eye": {
             "x": 2.0,
             "y": 2.0,
             "z": 2.0
            },
            "up": {
             "x": 0,
             "y": 0,
             "z": 1
            }
           },
           "xaxis": {
            "backgroundcolor": "white",
            "gridcolor": "#DFE8F3",
            "gridwidth": 2,
            "linecolor": "#EBF0F8",
            "showbackground": true,
            "showspikes": false,
            "ticks": "",
            "zerolinecolor": "#EBF0F8"
           },
           "yaxis": {
            "backgroundcolor": "white",
            "gridcolor": "#DFE8F3",
            "gridwidth": 2,
            "linecolor": "#EBF0F8",
            "showbackground": true,
            "showspikes": false,
            "ticks": "",
            "zerolinecolor": "#EBF0F8"
           },
           "zaxis": {
            "backgroundcolor": "white",
            "gridcolor": "#DFE8F3",
            "gridwidth": 2,
            "linecolor": "#EBF0F8",
            "showbackground": true,
            "showspikes": false,
            "ticks": "",
            "zerolinecolor": "#EBF0F8"
           }
          },
          "shapedefaults": {
           "line": {
            "color": "#2a3f5f"
           }
          },
          "ternary": {
           "aaxis": {
            "gridcolor": "#DFE8F3",
            "linecolor": "#A2B1C6",
            "ticks": ""
           },
           "baxis": {
            "gridcolor": "#DFE8F3",
            "linecolor": "#A2B1C6",
            "ticks": ""
           },
           "bgcolor": "white",
           "caxis": {
            "gridcolor": "#DFE8F3",
            "linecolor": "#A2B1C6",
            "ticks": ""
           }
          },
          "title": {
           "x": 0.05
          },
          "xaxis": {
           "automargin": true,
           "gridcolor": "#EBF0F8",
           "linecolor": "black",
           "linewidth": 2.0,
           "mirror": true,
           "showline": true,
           "ticks": "",
           "title": {
            "standoff": 15
           },
           "zeroline": false,
           "zerolinecolor": "#EBF0F8",
           "zerolinewidth": 2
          },
          "yaxis": {
           "automargin": true,
           "gridcolor": "#EBF0F8",
           "linecolor": "black",
           "linewidth": 2.0,
           "mirror": true,
           "showline": true,
           "ticks": "",
           "title": {
            "standoff": 15
           },
           "zeroline": false,
           "zerolinecolor": "#EBF0F8",
           "zerolinewidth": 2
          }
         }
        },
        "width": 950,
        "xaxis": {
         "exponentformat": "none",
         "range": [
          0.0,
          600.0
         ],
         "title": {
          "text": "Frequency (rad/s)"
         }
        },
        "yaxis": {
         "range": [
          0,
          954.7278411303073
         ],
         "title": {
          "text": "Natural Frequencies (rad/s)"
         }
        }
       }
      }
     },
     "metadata": {},
     "output_type": "display_data"
    }
   ],
   "source": [
    "# choose the desirable percentiles or confidence intervals\n",
    "fig1 = camp.plot_nat_freq(conf_interval=[95], width=950, height=700)\n",
    "fig1.show()"
   ]
  },
  {
   "cell_type": "code",
   "execution_count": 8,
   "metadata": {
    "execution": {
     "iopub.execute_input": "2023-05-04T01:01:43.090325Z",
     "iopub.status.busy": "2023-05-04T01:01:43.090186Z",
     "iopub.status.idle": "2023-05-04T01:01:43.106794Z",
     "shell.execute_reply": "2023-05-04T01:01:43.106378Z"
    }
   },
   "outputs": [
    {
     "data": {
      "application/vnd.plotly.v1+json": {
       "config": {
        "plotlyServerURL": "https://plot.ly"
       },
       "data": [
        {
         "hovertemplate": "Frequency: %{x:.3f}<br>Log Dec: %{y:.3f}",
         "legendgroup": "mean0",
         "line": {
          "color": "#2E91E5",
          "width": 3
         },
         "name": "Mean - Mode 1",
         "opacity": 1.0,
         "type": "scatter",
         "x": [
          0.0,
          20.0,
          40.0,
          60.0,
          80.0,
          100.0,
          120.0,
          140.0,
          160.0,
          180.0,
          200.0,
          220.0,
          240.0,
          260.0,
          280.0,
          300.0,
          320.0,
          340.0,
          360.0,
          380.0,
          400.0,
          420.0,
          440.0,
          460.0,
          480.0,
          500.0,
          520.0,
          540.0,
          560.0,
          580.0,
          600.0
         ],
         "y": [
          0.021061458490307237,
          0.020997578957539963,
          0.020933427180797888,
          0.020869003024657152,
          0.020804306394513705,
          0.020739337240257737,
          0.02067409555626791,
          0.020608581383927977,
          0.020542794812070025,
          0.020476735979074828,
          0.02041040507404055,
          0.02034380233825242,
          0.02027692806693429,
          0.02020978261060569,
          0.020142366376920906,
          0.020074679831925415,
          0.02000672350196374,
          0.01993849797534346,
          0.019870003903996694,
          0.019801242005146782,
          0.019732213063263563,
          0.019662917931621223,
          0.01959335753432095,
          0.01952353286803576,
          0.019453445003941538,
          0.019383095089542987,
          0.019312484350742596,
          0.019241614093652364,
          0.019170485706676198,
          0.019099100662486938,
          0.019027460520095015
         ]
        },
        {
         "fill": "toself",
         "fillcolor": "#2E91E5",
         "hoverinfo": "none",
         "legendgroup": "conf00",
         "line": {
          "color": "#2E91E5",
          "width": 1
         },
         "name": "confidence interval: 95% - Mode 1",
         "opacity": 0.3,
         "type": "scatter",
         "x": [
          0.0,
          20.0,
          40.0,
          60.0,
          80.0,
          100.0,
          120.0,
          140.0,
          160.0,
          180.0,
          200.0,
          220.0,
          240.0,
          260.0,
          280.0,
          300.0,
          320.0,
          340.0,
          360.0,
          380.0,
          400.0,
          420.0,
          440.0,
          460.0,
          480.0,
          500.0,
          520.0,
          540.0,
          560.0,
          580.0,
          600.0,
          600.0,
          580.0,
          560.0,
          540.0,
          520.0,
          500.0,
          480.0,
          460.0,
          440.0,
          420.0,
          400.0,
          380.0,
          360.0,
          340.0,
          320.0,
          300.0,
          280.0,
          260.0,
          240.0,
          220.0,
          200.0,
          180.0,
          160.0,
          140.0,
          120.0,
          100.0,
          80.0,
          60.0,
          40.0,
          20.0,
          0.0
         ],
         "y": [
          0.021607044441643505,
          0.02154540777000889,
          0.021483503232577885,
          0.021421330467352947,
          0.021358889149609064,
          0.021296178986120684,
          0.02123319972615471,
          0.021169951154943294,
          0.021106433099119103,
          0.021042645426726726,
          0.020978588048062283,
          0.02091426091832142,
          0.020849664037859452,
          0.02078479745396248,
          0.02071966126235369,
          0.02065425560952967,
          0.020588580692421154,
          0.02052263676156262,
          0.020456424122098894,
          0.020389943135420537,
          0.020323194220454224,
          0.020256177856270218,
          0.02018889458289372,
          0.02012134500344485,
          0.020053529785825967,
          0.019985449664751635,
          0.019917105443106688,
          0.01984849799432582,
          0.01977962826403615,
          0.019710497271866603,
          0.019641106113846694,
          0.018233034038156338,
          0.018307559725922806,
          0.018381838891897862,
          0.018455869334246987,
          0.018529648950875943,
          0.01860317573707744,
          0.01867644778413554,
          0.018749463275992456,
          0.018822220488658375,
          0.018894717787347488,
          0.018966953624475227,
          0.01903892653784376,
          0.01911063514882828,
          0.019182078159942814,
          0.019253254353496552,
          0.01932416258928975,
          0.01939480180279703,
          0.01946517100370626,
          0.019535269273173454,
          0.019605095763312805,
          0.019674649693712458,
          0.01974393035166657,
          0.01981293708957514,
          0.01988166932213967,
          0.01995012652622589,
          0.02001830823954561,
          0.02008621405536495,
          0.020153843627076132,
          0.02022119666330022,
          0.02028827292313409,
          0.0203550722205627
         ]
        },
        {
         "hovertemplate": "Frequency: %{x:.3f}<br>Log Dec: %{y:.3f}",
         "legendgroup": "mean1",
         "line": {
          "color": "#E15F99",
          "width": 3
         },
         "name": "Mean - Mode 2",
         "opacity": 1.0,
         "type": "scatter",
         "x": [
          0.0,
          20.0,
          40.0,
          60.0,
          80.0,
          100.0,
          120.0,
          140.0,
          160.0,
          180.0,
          200.0,
          220.0,
          240.0,
          260.0,
          280.0,
          300.0,
          320.0,
          340.0,
          360.0,
          380.0,
          400.0,
          420.0,
          440.0,
          460.0,
          480.0,
          500.0,
          520.0,
          540.0,
          560.0,
          580.0,
          600.0
         ],
         "y": [
          0.0210614584902843,
          0.021125065957134957,
          0.02118840157603746,
          0.021251465601714647,
          0.021314258327880472,
          0.021376780083511956,
          0.0214390312330987,
          0.021501012174410757,
          0.021562723338289364,
          0.02162416518695621,
          0.021685338213198176,
          0.021746242939439768,
          0.0218068799163932,
          0.021867249722393164,
          0.021927352962062385,
          0.021987190265822066,
          0.022046762288654195,
          0.022106069709233126,
          0.022165113229092284,
          0.022223893571841704,
          0.02228241148212435,
          0.022340667725061762,
          0.0223986630852382,
          0.02245639836605129,
          0.022513874388890895,
          0.022571091992483968,
          0.02262805203206543,
          0.022684755378804006,
          0.02274120291903586,
          0.0227973955536382,
          0.022853334197341146
         ]
        },
        {
         "fill": "toself",
         "fillcolor": "#E15F99",
         "hoverinfo": "none",
         "legendgroup": "conf10",
         "line": {
          "color": "#E15F99",
          "width": 1
         },
         "name": "confidence interval: 95% - Mode 2",
         "opacity": 0.3,
         "type": "scatter",
         "x": [
          0.0,
          20.0,
          40.0,
          60.0,
          80.0,
          100.0,
          120.0,
          140.0,
          160.0,
          180.0,
          200.0,
          220.0,
          240.0,
          260.0,
          280.0,
          300.0,
          320.0,
          340.0,
          360.0,
          380.0,
          400.0,
          420.0,
          440.0,
          460.0,
          480.0,
          500.0,
          520.0,
          540.0,
          560.0,
          580.0,
          600.0,
          600.0,
          580.0,
          560.0,
          540.0,
          520.0,
          500.0,
          480.0,
          460.0,
          440.0,
          420.0,
          400.0,
          380.0,
          360.0,
          340.0,
          320.0,
          300.0,
          280.0,
          260.0,
          240.0,
          220.0,
          200.0,
          180.0,
          160.0,
          140.0,
          120.0,
          100.0,
          80.0,
          60.0,
          40.0,
          20.0,
          0.0
         ],
         "y": [
          0.02160704444154877,
          0.021668413643582338,
          0.021729515804952113,
          0.021790351386249292,
          0.021850920877156448,
          0.02191122480103655,
          0.02197126370558565,
          0.022031038168857393,
          0.022090548793805016,
          0.022149796209819203,
          0.022208781070820627,
          0.022267504054127345,
          0.022325965860253604,
          0.02238416721180009,
          0.02244210885248981,
          0.022499791545563627,
          0.022557216074874695,
          0.022614383242372978,
          0.022671293868014492,
          0.02272794878893789,
          0.02278434885918722,
          0.022840494947960588,
          0.02289638793984056,
          0.02295202873390797,
          0.023007418242917608,
          0.023062557392616916,
          0.023117447121568314,
          0.023172088380069133,
          0.023226482129717337,
          0.023280629343136322,
          0.023334531002896446,
          0.02223109876091764,
          0.02217249031098942,
          0.02211361720326164,
          0.02205447862698623,
          0.021995073790404156,
          0.021935401921814045,
          0.021875462269608185,
          0.02181525410444496,
          0.021754776718496904,
          0.02169402942729352,
          0.02163301157045352,
          0.021571722512461665,
          0.021510161643497942,
          0.021448328380652224,
          0.021386222168606934,
          0.021323842480759227,
          0.021261188820327275,
          0.021198260720914824,
          0.02113505774851975,
          0.02107157950137499,
          0.021007825612596325,
          0.0209437957495184,
          0.02087948961573153,
          0.020814906953101016,
          0.020750047541761234,
          0.02068491120089641,
          0.02061949779359265,
          0.020553807222226606,
          0.020487839432627306,
          0.020421594419460922,
          0.020355072220652255
         ]
        },
        {
         "hovertemplate": "Frequency: %{x:.3f}<br>Log Dec: %{y:.3f}",
         "legendgroup": "mean2",
         "line": {
          "color": "#1CA71C",
          "width": 3
         },
         "name": "Mean - Mode 3",
         "opacity": 1.0,
         "type": "scatter",
         "x": [
          0.0,
          20.0,
          40.0,
          60.0,
          80.0,
          100.0,
          120.0,
          140.0,
          160.0,
          180.0,
          200.0,
          220.0,
          240.0,
          260.0,
          280.0,
          300.0,
          320.0,
          340.0,
          360.0,
          380.0,
          400.0,
          420.0,
          440.0,
          460.0,
          480.0,
          500.0,
          520.0,
          540.0,
          560.0,
          580.0,
          600.0
         ],
         "y": [
          0.11014228348238175,
          0.11030165490930323,
          0.110456227133936,
          0.11060585449306239,
          0.11075039044498838,
          0.11088968777173357,
          0.11102359880476843,
          0.11115197565943902,
          0.11127467048541739,
          0.11139153573265624,
          0.11150242443186627,
          0.11160719048607062,
          0.11170568897635265,
          0.11179777648470056,
          0.11188331142227957,
          0.11196215437283229,
          0.11203416844683602,
          0.11209921964192938,
          0.11215717721388606,
          0.11220791405286333,
          0.11225130706592051,
          0.1122872375604475,
          0.11231559163312702,
          0.11233626055416834,
          0.11234914115461946,
          0.11235413620431699,
          0.11235115478830236,
          0.11234011267089854,
          0.11232093265177294,
          0.11229354490922706,
          0.1122578873255187
         ]
        },
        {
         "fill": "toself",
         "fillcolor": "#1CA71C",
         "hoverinfo": "none",
         "legendgroup": "conf20",
         "line": {
          "color": "#1CA71C",
          "width": 1
         },
         "name": "confidence interval: 95% - Mode 3",
         "opacity": 0.3,
         "type": "scatter",
         "x": [
          0.0,
          20.0,
          40.0,
          60.0,
          80.0,
          100.0,
          120.0,
          140.0,
          160.0,
          180.0,
          200.0,
          220.0,
          240.0,
          260.0,
          280.0,
          300.0,
          320.0,
          340.0,
          360.0,
          380.0,
          400.0,
          420.0,
          440.0,
          460.0,
          480.0,
          500.0,
          520.0,
          540.0,
          560.0,
          580.0,
          600.0,
          600.0,
          580.0,
          560.0,
          540.0,
          520.0,
          500.0,
          480.0,
          460.0,
          440.0,
          420.0,
          400.0,
          380.0,
          360.0,
          340.0,
          320.0,
          300.0,
          280.0,
          260.0,
          240.0,
          220.0,
          200.0,
          180.0,
          160.0,
          140.0,
          120.0,
          100.0,
          80.0,
          60.0,
          40.0,
          20.0,
          0.0
         ],
         "y": [
          0.11093499141184095,
          0.1110827346148494,
          0.11122559335465178,
          0.11136342907601574,
          0.1114961027515431,
          0.11162347506596808,
          0.11174540664632943,
          0.11186175829530842,
          0.1119723912330086,
          0.11207716734742271,
          0.11217594947639613,
          0.1122686016711011,
          0.11235498950170754,
          0.11243498034799684,
          0.11250844371604814,
          0.11257525154939753,
          0.11263527856815672,
          0.11268840258787716,
          0.11273450487288335,
          0.11277347046604365,
          0.11280518854194545,
          0.11282955275478786,
          0.11284646157470865,
          0.11285581864590905,
          0.11285753311773934,
          0.11285151998106105,
          0.1128377003987955,
          0.11281600202227844,
          0.11278635929634181,
          0.1127487137590586,
          0.11270301431436572,
          0.11166387602268099,
          0.11168569982175003,
          0.11169896960836105,
          0.11170376305441007,
          0.11170016596355005,
          0.11168827188277776,
          0.11166818169144425,
          0.11164000317316279,
          0.11160385058509689,
          0.11155984421870797,
          0.11150810995857224,
          0.11144877882994726,
          0.11138198656292314,
          0.11130787313765693,
          0.11122658236534996,
          0.11113826143330703,
          0.11104306050163174,
          0.1109411322870454,
          0.11083263165745097,
          0.11071771525446066,
          0.11059654110371885,
          0.1104692682751045,
          0.11033605652878939,
          0.11019706598502915,
          0.11005245683011561,
          0.10990238901651585,
          0.10974702197450045,
          0.10958651437795332,
          0.10942102388718306,
          0.10925070692912142,
          0.10907571849971703
         ]
        },
        {
         "hovertemplate": "Frequency: %{x:.3f}<br>Log Dec: %{y:.3f}",
         "legendgroup": "mean3",
         "line": {
          "color": "#FB0D0D",
          "width": 3
         },
         "name": "Mean - Mode 4",
         "opacity": 1.0,
         "type": "scatter",
         "x": [
          0.0,
          20.0,
          40.0,
          60.0,
          80.0,
          100.0,
          120.0,
          140.0,
          160.0,
          180.0,
          200.0,
          220.0,
          240.0,
          260.0,
          280.0,
          300.0,
          320.0,
          340.0,
          360.0,
          380.0,
          400.0,
          420.0,
          440.0,
          460.0,
          480.0,
          500.0,
          520.0,
          540.0,
          560.0,
          580.0,
          600.0
         ],
         "y": [
          0.11014228348300399,
          0.10997825744143047,
          0.10980972012025386,
          0.10963681343945257,
          0.1094596777480667,
          0.10927845169193226,
          0.10909327208448523,
          0.10890427379614788,
          0.10871158965439319,
          0.10851535035380858,
          0.10831568437659712,
          0.10811271792657769,
          0.1079065748724123,
          0.10769737669473162,
          0.1074852424500291,
          0.10727028873811724,
          0.10705262967653484,
          0.1068323768860935,
          0.10660963947964872,
          0.10638452405827276,
          0.10615713471240172,
          0.10592757303085562,
          0.10569593811003151,
          0.10546232657323523,
          0.10522683258750419,
          0.10498954789045337,
          0.1047505618149345,
          0.10450996132066544,
          0.10426783102618659,
          0.1040242532419133,
          0.10377930800907739
         ]
        },
        {
         "fill": "toself",
         "fillcolor": "#FB0D0D",
         "hoverinfo": "none",
         "legendgroup": "conf30",
         "line": {
          "color": "#FB0D0D",
          "width": 1
         },
         "name": "confidence interval: 95% - Mode 4",
         "opacity": 0.3,
         "type": "scatter",
         "x": [
          0.0,
          20.0,
          40.0,
          60.0,
          80.0,
          100.0,
          120.0,
          140.0,
          160.0,
          180.0,
          200.0,
          220.0,
          240.0,
          260.0,
          280.0,
          300.0,
          320.0,
          340.0,
          360.0,
          380.0,
          400.0,
          420.0,
          440.0,
          460.0,
          480.0,
          500.0,
          520.0,
          540.0,
          560.0,
          580.0,
          600.0,
          600.0,
          580.0,
          560.0,
          540.0,
          520.0,
          500.0,
          480.0,
          460.0,
          440.0,
          420.0,
          400.0,
          380.0,
          360.0,
          340.0,
          320.0,
          300.0,
          280.0,
          260.0,
          240.0,
          220.0,
          200.0,
          180.0,
          160.0,
          140.0,
          120.0,
          100.0,
          80.0,
          60.0,
          40.0,
          20.0,
          0.0
         ],
         "y": [
          0.11093499141154019,
          0.11078250161380822,
          0.11062540223031377,
          0.11046382924932813,
          0.11029791746241359,
          0.11012780034076582,
          0.10995360989404994,
          0.10977547654536293,
          0.10959352902525893,
          0.10940789427923026,
          0.10921869736340335,
          0.1090260613845093,
          0.10883010741188671,
          0.10863095443154673,
          0.10842871928446007,
          0.10822351663433742,
          0.10801545891395335,
          0.10780465631788981,
          0.10759121675762304,
          0.10737524586557376,
          0.10715684697349491,
          0.10693612110747601,
          0.1067131670015007,
          0.10648808108318268,
          0.1062609574963159,
          0.10603188811398775,
          0.10580096254865923,
          0.10556826817644321,
          0.10533389016268088,
          0.10509791147876626,
          0.10486041294079523,
          0.10233002822513795,
          0.10258472393231075,
          0.10283826083688358,
          0.10309056017741298,
          0.1033415407866434,
          0.10359111903982873,
          0.10383920880400302,
          0.10408572139847157,
          0.10433056555143067,
          0.10457364735884991,
          0.10481487023991817,
          0.10505413491317393,
          0.10529133935175507,
          0.10552637877284916,
          0.10575914559006801,
          0.10598952942638462,
          0.10621741707647528,
          0.10644269250692201,
          0.1066652368600054,
          0.10688492845055128,
          0.10710164279830828,
          0.10731525262805496,
          0.10752562791730436,
          0.10773263593804062,
          0.10793614129291124,
          0.10813600598616482,
          0.10833208951140542,
          0.10852424891279583,
          0.10871233890327116,
          0.10889621197262407,
          0.10907571850550636
         ]
        },
        {
         "hovertemplate": "Frequency: %{x:.3f}<br>Log Dec: %{y:.3f}",
         "legendgroup": "mean4",
         "line": {
          "color": "#DA16FF",
          "width": 3
         },
         "name": "Mean - Mode 5",
         "opacity": 1.0,
         "type": "scatter",
         "x": [
          0.0,
          20.0,
          40.0,
          60.0,
          80.0,
          100.0,
          120.0,
          140.0,
          160.0,
          180.0,
          200.0,
          220.0,
          240.0,
          260.0,
          280.0,
          300.0,
          320.0,
          340.0,
          360.0,
          380.0,
          400.0,
          420.0,
          440.0,
          460.0,
          480.0,
          500.0,
          520.0,
          540.0,
          560.0,
          580.0,
          600.0
         ],
         "y": [
          0.22297009064215811,
          0.22096047385595569,
          0.2189389900158642,
          0.21690784334427704,
          0.2148692366859061,
          0.21282536149900783,
          0.21077838824738973,
          0.20873045732874718,
          0.2066836705532713,
          0.20464008329966013,
          0.20260169732388436,
          0.20057045431212525,
          0.19854823016517462,
          0.1965368300334486,
          0.19453798409627773,
          0.19255334407448388,
          0.1905844804538736,
          0.18863288038245934,
          0.18669994621351996,
          0.18478699465380757,
          0.18289525645755306,
          0.1810258766368092,
          0.17917991512573905,
          0.1773583478525873,
          0.17556206817536033,
          0.17379188863132758,
          0.1720485429372686,
          0.17033268823461406,
          0.1686449074965226,
          0.1669857120926461,
          0.16535554445635806
         ]
        },
        {
         "fill": "toself",
         "fillcolor": "#DA16FF",
         "hoverinfo": "none",
         "legendgroup": "conf40",
         "line": {
          "color": "#DA16FF",
          "width": 1
         },
         "name": "confidence interval: 95% - Mode 5",
         "opacity": 0.3,
         "type": "scatter",
         "x": [
          0.0,
          20.0,
          40.0,
          60.0,
          80.0,
          100.0,
          120.0,
          140.0,
          160.0,
          180.0,
          200.0,
          220.0,
          240.0,
          260.0,
          280.0,
          300.0,
          320.0,
          340.0,
          360.0,
          380.0,
          400.0,
          420.0,
          440.0,
          460.0,
          480.0,
          500.0,
          520.0,
          540.0,
          560.0,
          580.0,
          600.0,
          600.0,
          580.0,
          560.0,
          540.0,
          520.0,
          500.0,
          480.0,
          460.0,
          440.0,
          420.0,
          400.0,
          380.0,
          360.0,
          340.0,
          320.0,
          300.0,
          280.0,
          260.0,
          240.0,
          220.0,
          200.0,
          180.0,
          160.0,
          140.0,
          120.0,
          100.0,
          80.0,
          60.0,
          40.0,
          20.0,
          0.0
         ],
         "y": [
          0.22335522967414148,
          0.2213607511525688,
          0.21935365696446418,
          0.21733611726689325,
          0.2153103057495154,
          0.21327838971535235,
          0.2112425203379436,
          0.20920482356388498,
          0.20716739141406332,
          0.20513227393392966,
          0.2031014717215398,
          0.20107692923566892,
          0.19906052873972677,
          0.19705408503144875,
          0.19505934083857304,
          0.19307796298570493,
          0.19111153928617605,
          0.1891615760752786,
          0.1872294963889171,
          0.18531663884273084,
          0.18342425698318138,
          0.18155351922785534,
          0.17970550927271026,
          0.1778812269333191,
          0.17608158939025642,
          0.1743074327336976,
          0.17255951384102589,
          0.17083851248711399,
          0.16914503365009342,
          0.16747961001183506,
          0.16584270456944944,
          0.1647437040556608,
          0.16636632115530825,
          0.1680186322257202,
          0.169700218437942,
          0.17141059297321734,
          0.17314919824415442,
          0.17491540328772626,
          0.1767085012701922,
          0.17852770706032192,
          0.18037215505392887,
          0.18224089725898335,
          0.1841329015733434,
          0.1860470504468918,
          0.18798213991824703,
          0.18993650010898136,
          0.19190891091632675,
          0.19389810355838336,
          0.1959025286009815,
          0.19792055284916552,
          0.1999504616255798,
          0.20199046185889002,
          0.20403868584348425,
          0.20609319574948068,
          0.20815198899105902,
          0.21021300422232753,
          0.21227412824701092,
          0.21433320357942465,
          0.21638803669832052,
          0.21843640702163378,
          0.2204760763944303,
          0.22250479910647966
         ]
        },
        {
         "hovertemplate": "Frequency: %{x:.3f}<br>Log Dec: %{y:.3f}",
         "legendgroup": "mean5",
         "line": {
          "color": "#222A2A",
          "width": 3
         },
         "name": "Mean - Mode 6",
         "opacity": 1.0,
         "type": "scatter",
         "x": [
          0.0,
          20.0,
          40.0,
          60.0,
          80.0,
          100.0,
          120.0,
          140.0,
          160.0,
          180.0,
          200.0,
          220.0,
          240.0,
          260.0,
          280.0,
          300.0,
          320.0,
          340.0,
          360.0,
          380.0,
          400.0,
          420.0,
          440.0,
          460.0,
          480.0,
          500.0,
          520.0,
          540.0,
          560.0,
          580.0,
          600.0
         ],
         "y": [
          0.2229700906422778,
          0.2249656451295155,
          0.2269449616164994,
          0.22890589461857974,
          0.23084633954033712,
          0.23276424319237576,
          0.23465761407130398,
          0.23652453222641484,
          0.23836315865693913,
          0.24017174405078773,
          0.24194863684992376,
          0.24369229047135874,
          0.24540126965426054,
          0.24707425585316276,
          0.24871005163290635,
          0.250307584035906,
          0.2518659068999091,
          0.25338420214805446,
          0.25486178005115656,
          0.25629807850682174,
          0.25769266137683006,
          0.25904521595361296,
          0.2603555496118869,
          0.2616235857330071,
          0.262849358978481,
          0.2640330099969938,
          0.2651747796887284,
          0.2662750030504307,
          0.26733410276358893,
          0.2683525825500091,
          0.2693310204227203
         ]
        },
        {
         "fill": "toself",
         "fillcolor": "#222A2A",
         "hoverinfo": "none",
         "legendgroup": "conf50",
         "line": {
          "color": "#222A2A",
          "width": 1
         },
         "name": "confidence interval: 95% - Mode 6",
         "opacity": 0.3,
         "type": "scatter",
         "x": [
          0.0,
          20.0,
          40.0,
          60.0,
          80.0,
          100.0,
          120.0,
          140.0,
          160.0,
          180.0,
          200.0,
          220.0,
          240.0,
          260.0,
          280.0,
          300.0,
          320.0,
          340.0,
          360.0,
          380.0,
          400.0,
          420.0,
          440.0,
          460.0,
          480.0,
          500.0,
          520.0,
          540.0,
          560.0,
          580.0,
          600.0,
          600.0,
          580.0,
          560.0,
          540.0,
          520.0,
          500.0,
          480.0,
          460.0,
          440.0,
          420.0,
          400.0,
          380.0,
          360.0,
          340.0,
          320.0,
          300.0,
          280.0,
          260.0,
          240.0,
          220.0,
          200.0,
          180.0,
          160.0,
          140.0,
          120.0,
          100.0,
          80.0,
          60.0,
          40.0,
          20.0,
          0.0
         ],
         "y": [
          0.22335522967293198,
          0.22533493620601194,
          0.22729773865855865,
          0.22924212262647958,
          0.23116911156046913,
          0.23307717818408819,
          0.23496310007551582,
          0.23682292444632846,
          0.23865411304132741,
          0.24045675103127986,
          0.24222785758868695,
          0.24395766832406968,
          0.24566894196359157,
          0.24733699153650213,
          0.24897083631085715,
          0.2505690646068045,
          0.25214132921749177,
          0.2536771448784919,
          0.25516597264889335,
          0.2566139859738743,
          0.25801968427230304,
          0.2593854523259623,
          0.26070915156614854,
          0.261989794345209,
          0.2632273994778424,
          0.26442209636405856,
          0.26557411917896284,
          0.26668505361901046,
          0.26775521620966336,
          0.26878386313321245,
          0.26977157961295356,
          0.26880338079127813,
          0.26783140727959437,
          0.26682023240297625,
          0.265769290985455,
          0.26467808848661,
          0.26354620753884705,
          0.2623733142256072,
          0.2611591643155259,
          0.2599036091399208,
          0.25860660118441203,
          0.2572681992461084,
          0.2558885730361183,
          0.25446800730118174,
          0.2530069050941345,
          0.25150579050478106,
          0.24996490450569853,
          0.2483810171768097,
          0.24675695441054324,
          0.24509614393365206,
          0.24339974766823527,
          0.24166904612580462,
          0.2398905662696264,
          0.2380718753813169,
          0.23621405296427803,
          0.23432322593983979,
          0.2324064216024411,
          0.23046563732466274,
          0.22850293828218027,
          0.22652044694991605,
          0.2245203323518735,
          0.22250479911116972
         ]
        }
       ],
       "layout": {
        "height": 700,
        "template": {
         "data": {
          "bar": [
           {
            "error_x": {
             "color": "#2a3f5f"
            },
            "error_y": {
             "color": "#2a3f5f"
            },
            "marker": {
             "line": {
              "color": "white",
              "width": 0.5
             }
            },
            "type": "bar"
           }
          ],
          "barpolar": [
           {
            "marker": {
             "line": {
              "color": "white",
              "width": 0.5
             }
            },
            "type": "barpolar"
           }
          ],
          "carpet": [
           {
            "aaxis": {
             "endlinecolor": "#2a3f5f",
             "gridcolor": "#C8D4E3",
             "linecolor": "#C8D4E3",
             "minorgridcolor": "#C8D4E3",
             "startlinecolor": "#2a3f5f"
            },
            "baxis": {
             "endlinecolor": "#2a3f5f",
             "gridcolor": "#C8D4E3",
             "linecolor": "#C8D4E3",
             "minorgridcolor": "#C8D4E3",
             "startlinecolor": "#2a3f5f"
            },
            "type": "carpet"
           }
          ],
          "choropleth": [
           {
            "colorbar": {
             "outlinewidth": 0,
             "ticks": ""
            },
            "type": "choropleth"
           }
          ],
          "contour": [
           {
            "colorbar": {
             "outlinewidth": 0,
             "ticks": ""
            },
            "colorscale": [
             [
              0.0,
              "#0d0887"
             ],
             [
              0.1111111111111111,
              "#46039f"
             ],
             [
              0.2222222222222222,
              "#7201a8"
             ],
             [
              0.3333333333333333,
              "#9c179e"
             ],
             [
              0.4444444444444444,
              "#bd3786"
             ],
             [
              0.5555555555555556,
              "#d8576b"
             ],
             [
              0.6666666666666666,
              "#ed7953"
             ],
             [
              0.7777777777777778,
              "#fb9f3a"
             ],
             [
              0.8888888888888888,
              "#fdca26"
             ],
             [
              1.0,
              "#f0f921"
             ]
            ],
            "type": "contour"
           }
          ],
          "contourcarpet": [
           {
            "colorbar": {
             "outlinewidth": 0,
             "ticks": ""
            },
            "type": "contourcarpet"
           }
          ],
          "heatmap": [
           {
            "colorbar": {
             "outlinewidth": 0,
             "ticks": ""
            },
            "colorscale": [
             [
              0.0,
              "#0d0887"
             ],
             [
              0.1111111111111111,
              "#46039f"
             ],
             [
              0.2222222222222222,
              "#7201a8"
             ],
             [
              0.3333333333333333,
              "#9c179e"
             ],
             [
              0.4444444444444444,
              "#bd3786"
             ],
             [
              0.5555555555555556,
              "#d8576b"
             ],
             [
              0.6666666666666666,
              "#ed7953"
             ],
             [
              0.7777777777777778,
              "#fb9f3a"
             ],
             [
              0.8888888888888888,
              "#fdca26"
             ],
             [
              1.0,
              "#f0f921"
             ]
            ],
            "type": "heatmap"
           }
          ],
          "heatmapgl": [
           {
            "colorbar": {
             "outlinewidth": 0,
             "ticks": ""
            },
            "colorscale": [
             [
              0.0,
              "#0d0887"
             ],
             [
              0.1111111111111111,
              "#46039f"
             ],
             [
              0.2222222222222222,
              "#7201a8"
             ],
             [
              0.3333333333333333,
              "#9c179e"
             ],
             [
              0.4444444444444444,
              "#bd3786"
             ],
             [
              0.5555555555555556,
              "#d8576b"
             ],
             [
              0.6666666666666666,
              "#ed7953"
             ],
             [
              0.7777777777777778,
              "#fb9f3a"
             ],
             [
              0.8888888888888888,
              "#fdca26"
             ],
             [
              1.0,
              "#f0f921"
             ]
            ],
            "type": "heatmapgl"
           }
          ],
          "histogram": [
           {
            "marker": {
             "colorbar": {
              "outlinewidth": 0,
              "ticks": ""
             }
            },
            "type": "histogram"
           }
          ],
          "histogram2d": [
           {
            "colorbar": {
             "outlinewidth": 0,
             "ticks": ""
            },
            "colorscale": [
             [
              0.0,
              "#0d0887"
             ],
             [
              0.1111111111111111,
              "#46039f"
             ],
             [
              0.2222222222222222,
              "#7201a8"
             ],
             [
              0.3333333333333333,
              "#9c179e"
             ],
             [
              0.4444444444444444,
              "#bd3786"
             ],
             [
              0.5555555555555556,
              "#d8576b"
             ],
             [
              0.6666666666666666,
              "#ed7953"
             ],
             [
              0.7777777777777778,
              "#fb9f3a"
             ],
             [
              0.8888888888888888,
              "#fdca26"
             ],
             [
              1.0,
              "#f0f921"
             ]
            ],
            "type": "histogram2d"
           }
          ],
          "histogram2dcontour": [
           {
            "colorbar": {
             "outlinewidth": 0,
             "ticks": ""
            },
            "colorscale": [
             [
              0.0,
              "#0d0887"
             ],
             [
              0.1111111111111111,
              "#46039f"
             ],
             [
              0.2222222222222222,
              "#7201a8"
             ],
             [
              0.3333333333333333,
              "#9c179e"
             ],
             [
              0.4444444444444444,
              "#bd3786"
             ],
             [
              0.5555555555555556,
              "#d8576b"
             ],
             [
              0.6666666666666666,
              "#ed7953"
             ],
             [
              0.7777777777777778,
              "#fb9f3a"
             ],
             [
              0.8888888888888888,
              "#fdca26"
             ],
             [
              1.0,
              "#f0f921"
             ]
            ],
            "type": "histogram2dcontour"
           }
          ],
          "mesh3d": [
           {
            "colorbar": {
             "outlinewidth": 0,
             "ticks": ""
            },
            "type": "mesh3d"
           }
          ],
          "parcoords": [
           {
            "line": {
             "colorbar": {
              "outlinewidth": 0,
              "ticks": ""
             }
            },
            "type": "parcoords"
           }
          ],
          "pie": [
           {
            "automargin": true,
            "type": "pie"
           }
          ],
          "scatter": [
           {
            "marker": {
             "colorbar": {
              "outlinewidth": 0,
              "ticks": ""
             }
            },
            "type": "scatter"
           }
          ],
          "scatter3d": [
           {
            "line": {
             "colorbar": {
              "outlinewidth": 0,
              "ticks": ""
             }
            },
            "marker": {
             "colorbar": {
              "outlinewidth": 0,
              "ticks": ""
             },
             "size": 4
            },
            "type": "scatter3d"
           }
          ],
          "scattercarpet": [
           {
            "marker": {
             "colorbar": {
              "outlinewidth": 0,
              "ticks": ""
             }
            },
            "type": "scattercarpet"
           }
          ],
          "scattergeo": [
           {
            "marker": {
             "colorbar": {
              "outlinewidth": 0,
              "ticks": ""
             }
            },
            "type": "scattergeo"
           }
          ],
          "scattergl": [
           {
            "marker": {
             "colorbar": {
              "outlinewidth": 0,
              "ticks": ""
             }
            },
            "type": "scattergl"
           }
          ],
          "scattermapbox": [
           {
            "marker": {
             "colorbar": {
              "outlinewidth": 0,
              "ticks": ""
             }
            },
            "type": "scattermapbox"
           }
          ],
          "scatterpolar": [
           {
            "marker": {
             "colorbar": {
              "outlinewidth": 0,
              "ticks": ""
             }
            },
            "type": "scatterpolar"
           }
          ],
          "scatterpolargl": [
           {
            "marker": {
             "colorbar": {
              "outlinewidth": 0,
              "ticks": ""
             }
            },
            "type": "scatterpolargl"
           }
          ],
          "scatterternary": [
           {
            "marker": {
             "colorbar": {
              "outlinewidth": 0,
              "ticks": ""
             }
            },
            "type": "scatterternary"
           }
          ],
          "surface": [
           {
            "colorbar": {
             "outlinewidth": 0,
             "ticks": ""
            },
            "colorscale": [
             [
              0.0,
              "#0d0887"
             ],
             [
              0.1111111111111111,
              "#46039f"
             ],
             [
              0.2222222222222222,
              "#7201a8"
             ],
             [
              0.3333333333333333,
              "#9c179e"
             ],
             [
              0.4444444444444444,
              "#bd3786"
             ],
             [
              0.5555555555555556,
              "#d8576b"
             ],
             [
              0.6666666666666666,
              "#ed7953"
             ],
             [
              0.7777777777777778,
              "#fb9f3a"
             ],
             [
              0.8888888888888888,
              "#fdca26"
             ],
             [
              1.0,
              "#f0f921"
             ]
            ],
            "type": "surface"
           }
          ],
          "table": [
           {
            "cells": {
             "fill": {
              "color": "#EBF0F8"
             },
             "line": {
              "color": "white"
             }
            },
            "header": {
             "fill": {
              "color": "#C8D4E3"
             },
             "line": {
              "color": "white"
             }
            },
            "type": "table"
           }
          ]
         },
         "layout": {
          "annotationdefaults": {
           "arrowcolor": "#2a3f5f",
           "arrowhead": 0,
           "arrowwidth": 1
          },
          "coloraxis": {
           "colorbar": {
            "outlinewidth": 0,
            "ticks": ""
           }
          },
          "colorscale": {
           "diverging": [
            [
             0,
             "#8e0152"
            ],
            [
             0.1,
             "#c51b7d"
            ],
            [
             0.2,
             "#de77ae"
            ],
            [
             0.3,
             "#f1b6da"
            ],
            [
             0.4,
             "#fde0ef"
            ],
            [
             0.5,
             "#f7f7f7"
            ],
            [
             0.6,
             "#e6f5d0"
            ],
            [
             0.7,
             "#b8e186"
            ],
            [
             0.8,
             "#7fbc41"
            ],
            [
             0.9,
             "#4d9221"
            ],
            [
             1,
             "#276419"
            ]
           ],
           "sequential": [
            [
             0.0,
             "#0d0887"
            ],
            [
             0.1111111111111111,
             "#46039f"
            ],
            [
             0.2222222222222222,
             "#7201a8"
            ],
            [
             0.3333333333333333,
             "#9c179e"
            ],
            [
             0.4444444444444444,
             "#bd3786"
            ],
            [
             0.5555555555555556,
             "#d8576b"
            ],
            [
             0.6666666666666666,
             "#ed7953"
            ],
            [
             0.7777777777777778,
             "#fb9f3a"
            ],
            [
             0.8888888888888888,
             "#fdca26"
            ],
            [
             1.0,
             "#f0f921"
            ]
           ],
           "sequentialminus": [
            [
             0.0,
             "#0d0887"
            ],
            [
             0.1111111111111111,
             "#46039f"
            ],
            [
             0.2222222222222222,
             "#7201a8"
            ],
            [
             0.3333333333333333,
             "#9c179e"
            ],
            [
             0.4444444444444444,
             "#bd3786"
            ],
            [
             0.5555555555555556,
             "#d8576b"
            ],
            [
             0.6666666666666666,
             "#ed7953"
            ],
            [
             0.7777777777777778,
             "#fb9f3a"
            ],
            [
             0.8888888888888888,
             "#fdca26"
            ],
            [
             1.0,
             "#f0f921"
            ]
           ]
          },
          "colorway": [
           "#1f77b4",
           "#ff7f0e",
           "#2ca02c",
           "#d62728",
           "#9467bd",
           "#8c564b",
           "#e377c2",
           "#7f7f7f",
           "#bcbd22",
           "#17becf"
          ],
          "font": {
           "color": "#2a3f5f"
          },
          "geo": {
           "bgcolor": "white",
           "lakecolor": "white",
           "landcolor": "white",
           "showlakes": true,
           "showland": true,
           "subunitcolor": "#C8D4E3"
          },
          "hoverlabel": {
           "align": "left"
          },
          "hovermode": "closest",
          "mapbox": {
           "style": "light"
          },
          "paper_bgcolor": "white",
          "plot_bgcolor": "white",
          "polar": {
           "angularaxis": {
            "gridcolor": "#EBF0F8",
            "linecolor": "#EBF0F8",
            "ticks": ""
           },
           "bgcolor": "white",
           "radialaxis": {
            "gridcolor": "#EBF0F8",
            "linecolor": "#EBF0F8",
            "ticks": ""
           }
          },
          "scene": {
           "camera": {
            "center": {
             "x": 0,
             "y": 0,
             "z": 0
            },
            "eye": {
             "x": 2.0,
             "y": 2.0,
             "z": 2.0
            },
            "up": {
             "x": 0,
             "y": 0,
             "z": 1
            }
           },
           "xaxis": {
            "backgroundcolor": "white",
            "gridcolor": "#DFE8F3",
            "gridwidth": 2,
            "linecolor": "#EBF0F8",
            "showbackground": true,
            "showspikes": false,
            "ticks": "",
            "zerolinecolor": "#EBF0F8"
           },
           "yaxis": {
            "backgroundcolor": "white",
            "gridcolor": "#DFE8F3",
            "gridwidth": 2,
            "linecolor": "#EBF0F8",
            "showbackground": true,
            "showspikes": false,
            "ticks": "",
            "zerolinecolor": "#EBF0F8"
           },
           "zaxis": {
            "backgroundcolor": "white",
            "gridcolor": "#DFE8F3",
            "gridwidth": 2,
            "linecolor": "#EBF0F8",
            "showbackground": true,
            "showspikes": false,
            "ticks": "",
            "zerolinecolor": "#EBF0F8"
           }
          },
          "shapedefaults": {
           "line": {
            "color": "#2a3f5f"
           }
          },
          "ternary": {
           "aaxis": {
            "gridcolor": "#DFE8F3",
            "linecolor": "#A2B1C6",
            "ticks": ""
           },
           "baxis": {
            "gridcolor": "#DFE8F3",
            "linecolor": "#A2B1C6",
            "ticks": ""
           },
           "bgcolor": "white",
           "caxis": {
            "gridcolor": "#DFE8F3",
            "linecolor": "#A2B1C6",
            "ticks": ""
           }
          },
          "title": {
           "x": 0.05
          },
          "xaxis": {
           "automargin": true,
           "gridcolor": "#EBF0F8",
           "linecolor": "black",
           "linewidth": 2.0,
           "mirror": true,
           "showline": true,
           "ticks": "",
           "title": {
            "standoff": 15
           },
           "zeroline": false,
           "zerolinecolor": "#EBF0F8",
           "zerolinewidth": 2
          },
          "yaxis": {
           "automargin": true,
           "gridcolor": "#EBF0F8",
           "linecolor": "black",
           "linewidth": 2.0,
           "mirror": true,
           "showline": true,
           "ticks": "",
           "title": {
            "standoff": 15
           },
           "zeroline": false,
           "zerolinecolor": "#EBF0F8",
           "zerolinewidth": 2
          }
         }
        },
        "width": 950,
        "xaxis": {
         "exponentformat": "none",
         "range": [
          0.0,
          600.0
         ],
         "title": {
          "text": "Frequency (rad/s)"
         }
        },
        "yaxis": {
         "title": {
          "text": "Logarithmic decrement"
         }
        }
       }
      }
     },
     "metadata": {},
     "output_type": "display_data"
    }
   ],
   "source": [
    "# choose the desirable percentiles or confidence intervals\n",
    "fig2 = camp.plot_log_dec(conf_interval=[95], width=950, height=700)\n",
    "fig2.show()"
   ]
  },
  {
   "cell_type": "markdown",
   "metadata": {},
   "source": [
    "## References\n",
    "\n",
    "```{bibliography}\n",
    ":filter: docname in docnames\n",
    "```"
   ]
  }
 ],
 "metadata": {
  "kernelspec": {
   "display_name": "Python 3 (ipykernel)",
   "language": "python",
   "name": "python3"
  },
  "language_info": {
   "codemirror_mode": {
    "name": "ipython",
    "version": 3
   },
   "file_extension": ".py",
   "mimetype": "text/x-python",
   "name": "python",
   "nbconvert_exporter": "python",
   "pygments_lexer": "ipython3",
   "version": "3.10.9"
  }
 },
 "nbformat": 4,
 "nbformat_minor": 2
}
