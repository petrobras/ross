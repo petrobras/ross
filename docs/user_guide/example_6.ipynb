{
 "cells": [
  {
   "cell_type": "markdown",
   "metadata": {},
   "source": [
    "Example 6 - Isotropic bearings with damping.\n",
    "=====\n",
    "In this example, we use the rotor seen in Example 5.9.5 from {cite}`friswell2010dynamics`.\n",
    "\n",
    "The isotropic bearing Example 3 is repeated but with damping in the bearings. The, x and y directions are\n",
    "uncoupled, with a translational stiffness of 1 MN/m and a damping of 3 kNs/m\n",
    "in each direction."
   ]
  },
  {
   "cell_type": "code",
   "execution_count": 1,
   "metadata": {
    "execution": {
     "iopub.execute_input": "2023-05-04T01:00:40.711672Z",
     "iopub.status.busy": "2023-05-04T01:00:40.711376Z",
     "iopub.status.idle": "2023-05-04T01:00:41.645563Z",
     "shell.execute_reply": "2023-05-04T01:00:41.645073Z"
    }
   },
   "outputs": [],
   "source": [
    "import ross as rs\n",
    "import numpy as np"
   ]
  },
  {
   "cell_type": "code",
   "execution_count": 2,
   "metadata": {
    "execution": {
     "iopub.execute_input": "2023-05-04T01:00:41.647899Z",
     "iopub.status.busy": "2023-05-04T01:00:41.647736Z",
     "iopub.status.idle": "2023-05-04T01:00:41.817318Z",
     "shell.execute_reply": "2023-05-04T01:00:41.816774Z"
    }
   },
   "outputs": [
    {
     "data": {
      "application/vnd.plotly.v1+json": {
       "config": {
        "plotlyServerURL": "https://plot.ly"
       },
       "data": [
        {
         "hoverinfo": "none",
         "line": {
          "color": "black",
          "dash": "dashdot",
          "width": 3.0
         },
         "mode": "lines",
         "opacity": 0.7,
         "showlegend": false,
         "type": "scatter",
         "x": [
          -0.30000000000000004,
          1.7999999999999998
         ],
         "y": [
          0,
          0
         ]
        },
        {
         "hoverinfo": "none",
         "marker": {
          "color": "#ffcc99",
          "line": {
           "color": "black",
           "width": 1.0
          },
          "opacity": 0.7,
          "size": 20
         },
         "mode": "markers+text",
         "showlegend": false,
         "text": [
          "0",
          "1",
          "2",
          "3",
          "4",
          "5",
          "6"
         ],
         "type": "scatter",
         "x": [
          0.0,
          0.25,
          0.5,
          0.75,
          1.0,
          1.25,
          1.5
         ],
         "y": [
          0.0,
          0.0,
          0.0,
          0.0,
          0.0,
          0.0,
          0.0
         ]
        },
        {
         "customdata": [
          [
           0,
           0.05,
           0.0,
           0.05,
           0.0,
           0.25,
           "Steel"
          ],
          [
           0,
           0.05,
           0.0,
           0.05,
           0.0,
           0.25,
           "Steel"
          ],
          [
           0,
           0.05,
           0.0,
           0.05,
           0.0,
           0.25,
           "Steel"
          ],
          [
           0,
           0.05,
           0.0,
           0.05,
           0.0,
           0.25,
           "Steel"
          ],
          [
           0,
           0.05,
           0.0,
           0.05,
           0.0,
           0.25,
           "Steel"
          ],
          [
           0,
           0.05,
           0.0,
           0.05,
           0.0,
           0.25,
           "Steel"
          ],
          [
           0,
           0.05,
           0.0,
           0.05,
           0.0,
           0.25,
           "Steel"
          ],
          [
           0,
           0.05,
           0.0,
           0.05,
           0.0,
           0.25,
           "Steel"
          ],
          [
           0,
           0.05,
           0.0,
           0.05,
           0.0,
           0.25,
           "Steel"
          ],
          [
           0,
           0.05,
           0.0,
           0.05,
           0.0,
           0.25,
           "Steel"
          ]
         ],
         "fill": "toself",
         "fillcolor": "#525252",
         "hoverinfo": "text",
         "hoverlabel": {
          "bgcolor": "#525252"
         },
         "hoveron": "points+fills",
         "hovertemplate": "Element Number: 0<br>Left Outer Diameter: 0.05 m<br>Left Inner Diameter: 0.0 m<br>Right Outer Diameter: 0.05 m<br>Right Inner Diameter: 0.0 m<br>Element Length: 0.25 m<br>Material: Steel<br>",
         "legendgroup": "Shaft",
         "line": {
          "color": "black",
          "width": 1.5
         },
         "mode": "lines",
         "name": "ShaftElement 0",
         "opacity": 0.5,
         "showlegend": false,
         "text": "Element Number: 0<br>Left Outer Diameter: 0.05 m<br>Left Inner Diameter: 0.0 m<br>Right Outer Diameter: 0.05 m<br>Right Inner Diameter: 0.0 m<br>Element Length: 0.25 m<br>Material: Steel<br>",
         "type": "scatter",
         "x": [
          0.0,
          0.0,
          0.25,
          0.25,
          0.0,
          0.0,
          0.0,
          0.25,
          0.25,
          0.0
         ],
         "y": [
          0.0,
          0.025,
          0.025,
          0.0,
          0.0,
          -0.0,
          -0.025,
          -0.025,
          -0.0,
          -0.0
         ]
        },
        {
         "customdata": [
          [
           1,
           0.05,
           0.0,
           0.05,
           0.0,
           0.25,
           "Steel"
          ],
          [
           1,
           0.05,
           0.0,
           0.05,
           0.0,
           0.25,
           "Steel"
          ],
          [
           1,
           0.05,
           0.0,
           0.05,
           0.0,
           0.25,
           "Steel"
          ],
          [
           1,
           0.05,
           0.0,
           0.05,
           0.0,
           0.25,
           "Steel"
          ],
          [
           1,
           0.05,
           0.0,
           0.05,
           0.0,
           0.25,
           "Steel"
          ],
          [
           1,
           0.05,
           0.0,
           0.05,
           0.0,
           0.25,
           "Steel"
          ],
          [
           1,
           0.05,
           0.0,
           0.05,
           0.0,
           0.25,
           "Steel"
          ],
          [
           1,
           0.05,
           0.0,
           0.05,
           0.0,
           0.25,
           "Steel"
          ],
          [
           1,
           0.05,
           0.0,
           0.05,
           0.0,
           0.25,
           "Steel"
          ],
          [
           1,
           0.05,
           0.0,
           0.05,
           0.0,
           0.25,
           "Steel"
          ]
         ],
         "fill": "toself",
         "fillcolor": "#525252",
         "hoverinfo": "text",
         "hoverlabel": {
          "bgcolor": "#525252"
         },
         "hoveron": "points+fills",
         "hovertemplate": "Element Number: 1<br>Left Outer Diameter: 0.05 m<br>Left Inner Diameter: 0.0 m<br>Right Outer Diameter: 0.05 m<br>Right Inner Diameter: 0.0 m<br>Element Length: 0.25 m<br>Material: Steel<br>",
         "legendgroup": "Shaft",
         "line": {
          "color": "black",
          "width": 1.5
         },
         "mode": "lines",
         "name": "ShaftElement 1",
         "opacity": 0.5,
         "showlegend": false,
         "text": "Element Number: 1<br>Left Outer Diameter: 0.05 m<br>Left Inner Diameter: 0.0 m<br>Right Outer Diameter: 0.05 m<br>Right Inner Diameter: 0.0 m<br>Element Length: 0.25 m<br>Material: Steel<br>",
         "type": "scatter",
         "x": [
          0.25,
          0.25,
          0.5,
          0.5,
          0.25,
          0.25,
          0.25,
          0.5,
          0.5,
          0.25
         ],
         "y": [
          0.0,
          0.025,
          0.025,
          0.0,
          0.0,
          -0.0,
          -0.025,
          -0.025,
          -0.0,
          -0.0
         ]
        },
        {
         "customdata": [
          [
           2,
           0.05,
           0.0,
           0.05,
           0.0,
           0.25,
           "Steel"
          ],
          [
           2,
           0.05,
           0.0,
           0.05,
           0.0,
           0.25,
           "Steel"
          ],
          [
           2,
           0.05,
           0.0,
           0.05,
           0.0,
           0.25,
           "Steel"
          ],
          [
           2,
           0.05,
           0.0,
           0.05,
           0.0,
           0.25,
           "Steel"
          ],
          [
           2,
           0.05,
           0.0,
           0.05,
           0.0,
           0.25,
           "Steel"
          ],
          [
           2,
           0.05,
           0.0,
           0.05,
           0.0,
           0.25,
           "Steel"
          ],
          [
           2,
           0.05,
           0.0,
           0.05,
           0.0,
           0.25,
           "Steel"
          ],
          [
           2,
           0.05,
           0.0,
           0.05,
           0.0,
           0.25,
           "Steel"
          ],
          [
           2,
           0.05,
           0.0,
           0.05,
           0.0,
           0.25,
           "Steel"
          ],
          [
           2,
           0.05,
           0.0,
           0.05,
           0.0,
           0.25,
           "Steel"
          ]
         ],
         "fill": "toself",
         "fillcolor": "#525252",
         "hoverinfo": "text",
         "hoverlabel": {
          "bgcolor": "#525252"
         },
         "hoveron": "points+fills",
         "hovertemplate": "Element Number: 2<br>Left Outer Diameter: 0.05 m<br>Left Inner Diameter: 0.0 m<br>Right Outer Diameter: 0.05 m<br>Right Inner Diameter: 0.0 m<br>Element Length: 0.25 m<br>Material: Steel<br>",
         "legendgroup": "Shaft",
         "line": {
          "color": "black",
          "width": 1.5
         },
         "mode": "lines",
         "name": "ShaftElement 2",
         "opacity": 0.5,
         "showlegend": false,
         "text": "Element Number: 2<br>Left Outer Diameter: 0.05 m<br>Left Inner Diameter: 0.0 m<br>Right Outer Diameter: 0.05 m<br>Right Inner Diameter: 0.0 m<br>Element Length: 0.25 m<br>Material: Steel<br>",
         "type": "scatter",
         "x": [
          0.5,
          0.5,
          0.75,
          0.75,
          0.5,
          0.5,
          0.5,
          0.75,
          0.75,
          0.5
         ],
         "y": [
          0.0,
          0.025,
          0.025,
          0.0,
          0.0,
          -0.0,
          -0.025,
          -0.025,
          -0.0,
          -0.0
         ]
        },
        {
         "customdata": [
          [
           3,
           0.05,
           0.0,
           0.05,
           0.0,
           0.25,
           "Steel"
          ],
          [
           3,
           0.05,
           0.0,
           0.05,
           0.0,
           0.25,
           "Steel"
          ],
          [
           3,
           0.05,
           0.0,
           0.05,
           0.0,
           0.25,
           "Steel"
          ],
          [
           3,
           0.05,
           0.0,
           0.05,
           0.0,
           0.25,
           "Steel"
          ],
          [
           3,
           0.05,
           0.0,
           0.05,
           0.0,
           0.25,
           "Steel"
          ],
          [
           3,
           0.05,
           0.0,
           0.05,
           0.0,
           0.25,
           "Steel"
          ],
          [
           3,
           0.05,
           0.0,
           0.05,
           0.0,
           0.25,
           "Steel"
          ],
          [
           3,
           0.05,
           0.0,
           0.05,
           0.0,
           0.25,
           "Steel"
          ],
          [
           3,
           0.05,
           0.0,
           0.05,
           0.0,
           0.25,
           "Steel"
          ],
          [
           3,
           0.05,
           0.0,
           0.05,
           0.0,
           0.25,
           "Steel"
          ]
         ],
         "fill": "toself",
         "fillcolor": "#525252",
         "hoverinfo": "text",
         "hoverlabel": {
          "bgcolor": "#525252"
         },
         "hoveron": "points+fills",
         "hovertemplate": "Element Number: 3<br>Left Outer Diameter: 0.05 m<br>Left Inner Diameter: 0.0 m<br>Right Outer Diameter: 0.05 m<br>Right Inner Diameter: 0.0 m<br>Element Length: 0.25 m<br>Material: Steel<br>",
         "legendgroup": "Shaft",
         "line": {
          "color": "black",
          "width": 1.5
         },
         "mode": "lines",
         "name": "ShaftElement 3",
         "opacity": 0.5,
         "showlegend": false,
         "text": "Element Number: 3<br>Left Outer Diameter: 0.05 m<br>Left Inner Diameter: 0.0 m<br>Right Outer Diameter: 0.05 m<br>Right Inner Diameter: 0.0 m<br>Element Length: 0.25 m<br>Material: Steel<br>",
         "type": "scatter",
         "x": [
          0.75,
          0.75,
          1.0,
          1.0,
          0.75,
          0.75,
          0.75,
          1.0,
          1.0,
          0.75
         ],
         "y": [
          0.0,
          0.025,
          0.025,
          0.0,
          0.0,
          -0.0,
          -0.025,
          -0.025,
          -0.0,
          -0.0
         ]
        },
        {
         "customdata": [
          [
           4,
           0.05,
           0.0,
           0.05,
           0.0,
           0.25,
           "Steel"
          ],
          [
           4,
           0.05,
           0.0,
           0.05,
           0.0,
           0.25,
           "Steel"
          ],
          [
           4,
           0.05,
           0.0,
           0.05,
           0.0,
           0.25,
           "Steel"
          ],
          [
           4,
           0.05,
           0.0,
           0.05,
           0.0,
           0.25,
           "Steel"
          ],
          [
           4,
           0.05,
           0.0,
           0.05,
           0.0,
           0.25,
           "Steel"
          ],
          [
           4,
           0.05,
           0.0,
           0.05,
           0.0,
           0.25,
           "Steel"
          ],
          [
           4,
           0.05,
           0.0,
           0.05,
           0.0,
           0.25,
           "Steel"
          ],
          [
           4,
           0.05,
           0.0,
           0.05,
           0.0,
           0.25,
           "Steel"
          ],
          [
           4,
           0.05,
           0.0,
           0.05,
           0.0,
           0.25,
           "Steel"
          ],
          [
           4,
           0.05,
           0.0,
           0.05,
           0.0,
           0.25,
           "Steel"
          ]
         ],
         "fill": "toself",
         "fillcolor": "#525252",
         "hoverinfo": "text",
         "hoverlabel": {
          "bgcolor": "#525252"
         },
         "hoveron": "points+fills",
         "hovertemplate": "Element Number: 4<br>Left Outer Diameter: 0.05 m<br>Left Inner Diameter: 0.0 m<br>Right Outer Diameter: 0.05 m<br>Right Inner Diameter: 0.0 m<br>Element Length: 0.25 m<br>Material: Steel<br>",
         "legendgroup": "Shaft",
         "line": {
          "color": "black",
          "width": 1.5
         },
         "mode": "lines",
         "name": "ShaftElement 4",
         "opacity": 0.5,
         "showlegend": false,
         "text": "Element Number: 4<br>Left Outer Diameter: 0.05 m<br>Left Inner Diameter: 0.0 m<br>Right Outer Diameter: 0.05 m<br>Right Inner Diameter: 0.0 m<br>Element Length: 0.25 m<br>Material: Steel<br>",
         "type": "scatter",
         "x": [
          1.0,
          1.0,
          1.25,
          1.25,
          1.0,
          1.0,
          1.0,
          1.25,
          1.25,
          1.0
         ],
         "y": [
          0.0,
          0.025,
          0.025,
          0.0,
          0.0,
          -0.0,
          -0.025,
          -0.025,
          -0.0,
          -0.0
         ]
        },
        {
         "customdata": [
          [
           5,
           0.05,
           0.0,
           0.05,
           0.0,
           0.25,
           "Steel"
          ],
          [
           5,
           0.05,
           0.0,
           0.05,
           0.0,
           0.25,
           "Steel"
          ],
          [
           5,
           0.05,
           0.0,
           0.05,
           0.0,
           0.25,
           "Steel"
          ],
          [
           5,
           0.05,
           0.0,
           0.05,
           0.0,
           0.25,
           "Steel"
          ],
          [
           5,
           0.05,
           0.0,
           0.05,
           0.0,
           0.25,
           "Steel"
          ],
          [
           5,
           0.05,
           0.0,
           0.05,
           0.0,
           0.25,
           "Steel"
          ],
          [
           5,
           0.05,
           0.0,
           0.05,
           0.0,
           0.25,
           "Steel"
          ],
          [
           5,
           0.05,
           0.0,
           0.05,
           0.0,
           0.25,
           "Steel"
          ],
          [
           5,
           0.05,
           0.0,
           0.05,
           0.0,
           0.25,
           "Steel"
          ],
          [
           5,
           0.05,
           0.0,
           0.05,
           0.0,
           0.25,
           "Steel"
          ]
         ],
         "fill": "toself",
         "fillcolor": "#525252",
         "hoverinfo": "text",
         "hoverlabel": {
          "bgcolor": "#525252"
         },
         "hoveron": "points+fills",
         "hovertemplate": "Element Number: 5<br>Left Outer Diameter: 0.05 m<br>Left Inner Diameter: 0.0 m<br>Right Outer Diameter: 0.05 m<br>Right Inner Diameter: 0.0 m<br>Element Length: 0.25 m<br>Material: Steel<br>",
         "legendgroup": "Shaft",
         "line": {
          "color": "black",
          "width": 1.5
         },
         "mode": "lines",
         "name": "ShaftElement 5",
         "opacity": 0.5,
         "showlegend": false,
         "text": "Element Number: 5<br>Left Outer Diameter: 0.05 m<br>Left Inner Diameter: 0.0 m<br>Right Outer Diameter: 0.05 m<br>Right Inner Diameter: 0.0 m<br>Element Length: 0.25 m<br>Material: Steel<br>",
         "type": "scatter",
         "x": [
          1.25,
          1.25,
          1.5,
          1.5,
          1.25,
          1.25,
          1.25,
          1.5,
          1.5,
          1.25
         ],
         "y": [
          0.0,
          0.025,
          0.025,
          0.0,
          0.0,
          -0.0,
          -0.025,
          -0.025,
          -0.0,
          -0.0
         ]
        },
        {
         "customdata": [
          [
           2,
           0.32956362089137037,
           0.17808928257067666,
           32.58972765304033
          ],
          [
           2,
           0.32956362089137037,
           0.17808928257067666,
           32.58972765304033
          ],
          [
           2,
           0.32956362089137037,
           0.17808928257067666,
           32.58972765304033
          ],
          [
           2,
           0.32956362089137037,
           0.17808928257067666,
           32.58972765304033
          ],
          [
           2,
           0.32956362089137037,
           0.17808928257067666,
           32.58972765304033
          ],
          [
           2,
           0.32956362089137037,
           0.17808928257067666,
           32.58972765304033
          ],
          [
           2,
           0.32956362089137037,
           0.17808928257067666,
           32.58972765304033
          ],
          [
           2,
           0.32956362089137037,
           0.17808928257067666,
           32.58972765304033
          ],
          [
           2,
           0.32956362089137037,
           0.17808928257067666,
           32.58972765304033
          ]
         ],
         "fill": "toself",
         "fillcolor": "Firebrick",
         "hoverinfo": "text",
         "hoverlabel": {
          "bgcolor": "Firebrick"
         },
         "hoveron": "points+fills",
         "hovertemplate": "Disk Node: 2<br>Polar Inertia: 3.296e-01<br>Diametral Inertia: 1.781e-01<br>Disk mass: 32.590<br>",
         "legendgroup": "disks",
         "line": {
          "color": "Firebrick",
          "width": 2.0
         },
         "mode": "lines",
         "name": "Disk 0",
         "opacity": 0.8,
         "showlegend": false,
         "text": "Disk Node: 2<br>Polar Inertia: 3.296e-01<br>Diametral Inertia: 1.781e-01<br>Disk mass: 32.590<br>",
         "type": "scatter",
         "x": [
          0.5,
          0.502,
          0.498,
          0.5,
          null,
          0.5,
          0.502,
          0.498,
          0.5
         ],
         "y": [
          0.025,
          0.125,
          0.125,
          0.025,
          null,
          -0.025,
          -0.125,
          -0.125,
          -0.025
         ]
        },
        {
         "customdata": [
          [
           4,
           0.8050822048675969,
           0.4235805840543383,
           51.5252611115262
          ],
          [
           4,
           0.8050822048675969,
           0.4235805840543383,
           51.5252611115262
          ],
          [
           4,
           0.8050822048675969,
           0.4235805840543383,
           51.5252611115262
          ],
          [
           4,
           0.8050822048675969,
           0.4235805840543383,
           51.5252611115262
          ],
          [
           4,
           0.8050822048675969,
           0.4235805840543383,
           51.5252611115262
          ],
          [
           4,
           0.8050822048675969,
           0.4235805840543383,
           51.5252611115262
          ],
          [
           4,
           0.8050822048675969,
           0.4235805840543383,
           51.5252611115262
          ],
          [
           4,
           0.8050822048675969,
           0.4235805840543383,
           51.5252611115262
          ],
          [
           4,
           0.8050822048675969,
           0.4235805840543383,
           51.5252611115262
          ]
         ],
         "fill": "toself",
         "fillcolor": "Firebrick",
         "hoverinfo": "text",
         "hoverlabel": {
          "bgcolor": "Firebrick"
         },
         "hoveron": "points+fills",
         "hovertemplate": "Disk Node: 4<br>Polar Inertia: 8.051e-01<br>Diametral Inertia: 4.236e-01<br>Disk mass: 51.525<br>",
         "legendgroup": "disks",
         "line": {
          "color": "Firebrick",
          "width": 2.0
         },
         "mode": "lines",
         "name": "Disk 1",
         "opacity": 0.8,
         "showlegend": false,
         "text": "Disk Node: 4<br>Polar Inertia: 8.051e-01<br>Diametral Inertia: 4.236e-01<br>Disk mass: 51.525<br>",
         "type": "scatter",
         "x": [
          1.0,
          1.002,
          0.998,
          1.0,
          null,
          1.0,
          1.002,
          0.998,
          1.0
         ],
         "y": [
          0.025,
          0.125,
          0.125,
          0.025,
          null,
          -0.025,
          -0.125,
          -0.125,
          -0.025
         ]
        },
        {
         "hoverinfo": "none",
         "legendgroup": "bearings",
         "line": {
          "color": "#355d7a",
          "width": 1
         },
         "mode": "lines",
         "name": "Bearing 0",
         "showlegend": false,
         "type": "scatter",
         "x": [
          0.0,
          0.0,
          -0.007142857142857143,
          0.007142857142857143
         ],
         "y": [
          0.025,
          0.0375,
          0.0375,
          0.0375
         ]
        },
        {
         "hoverinfo": "none",
         "legendgroup": "bearings",
         "line": {
          "color": "#355d7a",
          "width": 1
         },
         "mode": "lines",
         "name": "Bearing 0",
         "showlegend": false,
         "type": "scatter",
         "x": [
          0.0,
          0.0,
          -0.007142857142857143,
          0.007142857142857143
         ],
         "y": [
          -0.025,
          -0.0375,
          -0.0375,
          -0.0375
         ]
        },
        {
         "hoverinfo": "none",
         "legendgroup": "bearings",
         "line": {
          "color": "#355d7a",
          "width": 1
         },
         "mode": "lines",
         "name": "Bearing 0",
         "showlegend": false,
         "type": "scatter",
         "x": [
          0.0,
          0.0,
          -0.007142857142857143,
          0.007142857142857143
         ],
         "y": [
          0.075,
          0.0625,
          0.0625,
          0.0625
         ]
        },
        {
         "hoverinfo": "none",
         "legendgroup": "bearings",
         "line": {
          "color": "#355d7a",
          "width": 1
         },
         "mode": "lines",
         "name": "Bearing 0",
         "showlegend": false,
         "type": "scatter",
         "x": [
          0.0,
          0.0,
          -0.007142857142857143,
          0.007142857142857143
         ],
         "y": [
          -0.075,
          -0.0625,
          -0.0625,
          -0.0625
         ]
        },
        {
         "hoverinfo": "none",
         "legendgroup": "bearings",
         "line": {
          "color": "#355d7a",
          "width": 1
         },
         "mode": "lines",
         "name": "Bearing 0",
         "showlegend": false,
         "type": "scatter",
         "x": [
          -0.010714285714285714,
          0.010714285714285714
         ],
         "y": [
          0.075,
          0.075
         ]
        },
        {
         "hoverinfo": "none",
         "legendgroup": "bearings",
         "line": {
          "color": "#355d7a",
          "width": 1
         },
         "mode": "lines",
         "name": "Bearing 0",
         "showlegend": false,
         "type": "scatter",
         "x": [
          -0.010714285714285714,
          0.010714285714285714
         ],
         "y": [
          -0.075,
          -0.075
         ]
        },
        {
         "hoverinfo": "none",
         "legendgroup": "bearings",
         "line": {
          "color": "#355d7a",
          "width": 1
         },
         "mode": "lines",
         "name": "Bearing 0",
         "showlegend": false,
         "type": "scatter",
         "x": [
          -0.010714285714285714,
          -0.0064285714285714285
         ],
         "y": [
          0.075,
          0.0825
         ]
        },
        {
         "hoverinfo": "none",
         "legendgroup": "bearings",
         "line": {
          "color": "#355d7a",
          "width": 1
         },
         "mode": "lines",
         "name": "Bearing 0",
         "showlegend": false,
         "type": "scatter",
         "x": [
          -0.010714285714285714,
          -0.0064285714285714285
         ],
         "y": [
          -0.075,
          -0.0825
         ]
        },
        {
         "hoverinfo": "none",
         "legendgroup": "bearings",
         "line": {
          "color": "#355d7a",
          "width": 1
         },
         "mode": "lines",
         "name": "Bearing 0",
         "showlegend": false,
         "type": "scatter",
         "x": [
          -0.0064285714285714285,
          -0.0021428571428571425
         ],
         "y": [
          0.075,
          0.0825
         ]
        },
        {
         "hoverinfo": "none",
         "legendgroup": "bearings",
         "line": {
          "color": "#355d7a",
          "width": 1
         },
         "mode": "lines",
         "name": "Bearing 0",
         "showlegend": false,
         "type": "scatter",
         "x": [
          -0.0064285714285714285,
          -0.0021428571428571425
         ],
         "y": [
          -0.075,
          -0.0825
         ]
        },
        {
         "hoverinfo": "none",
         "legendgroup": "bearings",
         "line": {
          "color": "#355d7a",
          "width": 1
         },
         "mode": "lines",
         "name": "Bearing 0",
         "showlegend": false,
         "type": "scatter",
         "x": [
          -0.0021428571428571425,
          0.0021428571428571443
         ],
         "y": [
          0.075,
          0.0825
         ]
        },
        {
         "hoverinfo": "none",
         "legendgroup": "bearings",
         "line": {
          "color": "#355d7a",
          "width": 1
         },
         "mode": "lines",
         "name": "Bearing 0",
         "showlegend": false,
         "type": "scatter",
         "x": [
          -0.0021428571428571425,
          0.0021428571428571443
         ],
         "y": [
          -0.075,
          -0.0825
         ]
        },
        {
         "hoverinfo": "none",
         "legendgroup": "bearings",
         "line": {
          "color": "#355d7a",
          "width": 1
         },
         "mode": "lines",
         "name": "Bearing 0",
         "showlegend": false,
         "type": "scatter",
         "x": [
          0.0021428571428571443,
          0.006428571428571429
         ],
         "y": [
          0.075,
          0.0825
         ]
        },
        {
         "hoverinfo": "none",
         "legendgroup": "bearings",
         "line": {
          "color": "#355d7a",
          "width": 1
         },
         "mode": "lines",
         "name": "Bearing 0",
         "showlegend": false,
         "type": "scatter",
         "x": [
          0.0021428571428571443,
          0.006428571428571429
         ],
         "y": [
          -0.075,
          -0.0825
         ]
        },
        {
         "hoverinfo": "none",
         "legendgroup": "bearings",
         "line": {
          "color": "#355d7a",
          "width": 1
         },
         "mode": "lines",
         "name": "Bearing 0",
         "showlegend": false,
         "type": "scatter",
         "x": [
          0.006428571428571429,
          0.010714285714285714
         ],
         "y": [
          0.075,
          0.0825
         ]
        },
        {
         "hoverinfo": "none",
         "legendgroup": "bearings",
         "line": {
          "color": "#355d7a",
          "width": 1
         },
         "mode": "lines",
         "name": "Bearing 0",
         "showlegend": false,
         "type": "scatter",
         "x": [
          0.006428571428571429,
          0.010714285714285714
         ],
         "y": [
          -0.075,
          -0.0825
         ]
        },
        {
         "hoverinfo": "none",
         "legendgroup": "bearings",
         "line": {
          "color": "#355d7a",
          "width": 1
         },
         "mode": "lines",
         "name": "Bearing 0",
         "showlegend": false,
         "type": "scatter",
         "x": [
          0.010714285714285714,
          0.015000000000000003
         ],
         "y": [
          0.075,
          0.0825
         ]
        },
        {
         "hoverinfo": "none",
         "legendgroup": "bearings",
         "line": {
          "color": "#355d7a",
          "width": 1
         },
         "mode": "lines",
         "name": "Bearing 0",
         "showlegend": false,
         "type": "scatter",
         "x": [
          0.010714285714285714,
          0.015000000000000003
         ],
         "y": [
          -0.075,
          -0.0825
         ]
        },
        {
         "hoverinfo": "none",
         "legendgroup": "bearings",
         "line": {
          "color": "#355d7a",
          "width": 1
         },
         "mode": "lines",
         "name": "Bearing 0",
         "showlegend": false,
         "type": "scatter",
         "x": [
          -0.007142857142857143,
          -0.007142857142857143,
          -0.010714285714285714,
          -0.0035714285714285713,
          -0.010714285714285714,
          -0.0035714285714285713,
          -0.010714285714285714,
          -0.0035714285714285713,
          -0.007142857142857143,
          -0.007142857142857143
         ],
         "y": [
          0.0375,
          0.04107142857142857,
          0.04107142857142857,
          0.044642857142857144,
          0.04821428571428571,
          0.05178571428571428,
          0.055357142857142855,
          0.05892857142857143,
          0.05892857142857143,
          0.0625
         ]
        },
        {
         "hoverinfo": "none",
         "legendgroup": "bearings",
         "line": {
          "color": "#355d7a",
          "width": 1
         },
         "mode": "lines",
         "name": "Bearing 0",
         "showlegend": false,
         "type": "scatter",
         "x": [
          -0.007142857142857143,
          -0.007142857142857143,
          -0.010714285714285714,
          -0.0035714285714285713,
          -0.010714285714285714,
          -0.0035714285714285713,
          -0.010714285714285714,
          -0.0035714285714285713,
          -0.007142857142857143,
          -0.007142857142857143
         ],
         "y": [
          -0.0375,
          -0.04107142857142857,
          -0.04107142857142857,
          -0.044642857142857144,
          -0.04821428571428571,
          -0.05178571428571428,
          -0.055357142857142855,
          -0.05892857142857143,
          -0.05892857142857143,
          -0.0625
         ]
        },
        {
         "hoverinfo": "none",
         "legendgroup": "bearings",
         "line": {
          "color": "#355d7a",
          "width": 1
         },
         "mode": "lines",
         "name": "Bearing 0",
         "showlegend": false,
         "type": "scatter",
         "x": [
          0.007142857142857143,
          0.007142857142857143
         ],
         "y": [
          0.0375,
          0.044642857142857144
         ]
        },
        {
         "hoverinfo": "none",
         "legendgroup": "bearings",
         "line": {
          "color": "#355d7a",
          "width": 1
         },
         "mode": "lines",
         "name": "Bearing 0",
         "showlegend": false,
         "type": "scatter",
         "x": [
          0.007142857142857143,
          0.007142857142857143
         ],
         "y": [
          -0.0375,
          -0.044642857142857144
         ]
        },
        {
         "hoverinfo": "none",
         "legendgroup": "bearings",
         "line": {
          "color": "#355d7a",
          "width": 1
         },
         "mode": "lines",
         "name": "Bearing 0",
         "showlegend": false,
         "type": "scatter",
         "x": [
          0.0,
          0.0,
          0.014285714285714285,
          0.014285714285714285
         ],
         "y": [
          0.055357142857142855,
          0.044642857142857144,
          0.044642857142857144,
          0.055357142857142855
         ]
        },
        {
         "hoverinfo": "none",
         "legendgroup": "bearings",
         "line": {
          "color": "#355d7a",
          "width": 1
         },
         "mode": "lines",
         "name": "Bearing 0",
         "showlegend": false,
         "type": "scatter",
         "x": [
          0.0,
          0.0,
          0.014285714285714285,
          0.014285714285714285
         ],
         "y": [
          -0.055357142857142855,
          -0.044642857142857144,
          -0.044642857142857144,
          -0.055357142857142855
         ]
        },
        {
         "hoverinfo": "none",
         "legendgroup": "bearings",
         "line": {
          "color": "#355d7a",
          "width": 1
         },
         "mode": "lines",
         "name": "Bearing 0",
         "showlegend": false,
         "type": "scatter",
         "x": [
          0.0,
          0.014285714285714285,
          0.007142857142857143,
          0.007142857142857143
         ],
         "y": [
          0.05178571428571428,
          0.05178571428571428,
          0.05178571428571428,
          0.0625
         ]
        },
        {
         "hoverinfo": "none",
         "legendgroup": "bearings",
         "line": {
          "color": "#355d7a",
          "width": 1
         },
         "mode": "lines",
         "name": "Bearing 0",
         "showlegend": false,
         "type": "scatter",
         "x": [
          0.0,
          0.014285714285714285,
          0.007142857142857143,
          0.007142857142857143
         ],
         "y": [
          -0.05178571428571428,
          -0.05178571428571428,
          -0.05178571428571428,
          -0.0625
         ]
        },
        {
         "hoverinfo": "none",
         "legendgroup": "bearings",
         "line": {
          "color": "#355d7a",
          "width": 1
         },
         "mode": "lines",
         "name": "Bearing 1",
         "showlegend": false,
         "type": "scatter",
         "x": [
          1.5,
          1.5,
          1.4928571428571429,
          1.5071428571428571
         ],
         "y": [
          0.025,
          0.0375,
          0.0375,
          0.0375
         ]
        },
        {
         "hoverinfo": "none",
         "legendgroup": "bearings",
         "line": {
          "color": "#355d7a",
          "width": 1
         },
         "mode": "lines",
         "name": "Bearing 1",
         "showlegend": false,
         "type": "scatter",
         "x": [
          1.5,
          1.5,
          1.4928571428571429,
          1.5071428571428571
         ],
         "y": [
          -0.025,
          -0.0375,
          -0.0375,
          -0.0375
         ]
        },
        {
         "hoverinfo": "none",
         "legendgroup": "bearings",
         "line": {
          "color": "#355d7a",
          "width": 1
         },
         "mode": "lines",
         "name": "Bearing 1",
         "showlegend": false,
         "type": "scatter",
         "x": [
          1.5,
          1.5,
          1.4928571428571429,
          1.5071428571428571
         ],
         "y": [
          0.075,
          0.0625,
          0.0625,
          0.0625
         ]
        },
        {
         "hoverinfo": "none",
         "legendgroup": "bearings",
         "line": {
          "color": "#355d7a",
          "width": 1
         },
         "mode": "lines",
         "name": "Bearing 1",
         "showlegend": false,
         "type": "scatter",
         "x": [
          1.5,
          1.5,
          1.4928571428571429,
          1.5071428571428571
         ],
         "y": [
          -0.075,
          -0.0625,
          -0.0625,
          -0.0625
         ]
        },
        {
         "hoverinfo": "none",
         "legendgroup": "bearings",
         "line": {
          "color": "#355d7a",
          "width": 1
         },
         "mode": "lines",
         "name": "Bearing 1",
         "showlegend": false,
         "type": "scatter",
         "x": [
          1.4892857142857143,
          1.5107142857142857
         ],
         "y": [
          0.075,
          0.075
         ]
        },
        {
         "hoverinfo": "none",
         "legendgroup": "bearings",
         "line": {
          "color": "#355d7a",
          "width": 1
         },
         "mode": "lines",
         "name": "Bearing 1",
         "showlegend": false,
         "type": "scatter",
         "x": [
          1.4892857142857143,
          1.5107142857142857
         ],
         "y": [
          -0.075,
          -0.075
         ]
        },
        {
         "hoverinfo": "none",
         "legendgroup": "bearings",
         "line": {
          "color": "#355d7a",
          "width": 1
         },
         "mode": "lines",
         "name": "Bearing 1",
         "showlegend": false,
         "type": "scatter",
         "x": [
          1.4892857142857143,
          1.4935714285714285
         ],
         "y": [
          0.075,
          0.0825
         ]
        },
        {
         "hoverinfo": "none",
         "legendgroup": "bearings",
         "line": {
          "color": "#355d7a",
          "width": 1
         },
         "mode": "lines",
         "name": "Bearing 1",
         "showlegend": false,
         "type": "scatter",
         "x": [
          1.4892857142857143,
          1.4935714285714285
         ],
         "y": [
          -0.075,
          -0.0825
         ]
        },
        {
         "hoverinfo": "none",
         "legendgroup": "bearings",
         "line": {
          "color": "#355d7a",
          "width": 1
         },
         "mode": "lines",
         "name": "Bearing 1",
         "showlegend": false,
         "type": "scatter",
         "x": [
          1.4935714285714285,
          1.4978571428571428
         ],
         "y": [
          0.075,
          0.0825
         ]
        },
        {
         "hoverinfo": "none",
         "legendgroup": "bearings",
         "line": {
          "color": "#355d7a",
          "width": 1
         },
         "mode": "lines",
         "name": "Bearing 1",
         "showlegend": false,
         "type": "scatter",
         "x": [
          1.4935714285714285,
          1.4978571428571428
         ],
         "y": [
          -0.075,
          -0.0825
         ]
        },
        {
         "hoverinfo": "none",
         "legendgroup": "bearings",
         "line": {
          "color": "#355d7a",
          "width": 1
         },
         "mode": "lines",
         "name": "Bearing 1",
         "showlegend": false,
         "type": "scatter",
         "x": [
          1.4978571428571428,
          1.5021428571428572
         ],
         "y": [
          0.075,
          0.0825
         ]
        },
        {
         "hoverinfo": "none",
         "legendgroup": "bearings",
         "line": {
          "color": "#355d7a",
          "width": 1
         },
         "mode": "lines",
         "name": "Bearing 1",
         "showlegend": false,
         "type": "scatter",
         "x": [
          1.4978571428571428,
          1.5021428571428572
         ],
         "y": [
          -0.075,
          -0.0825
         ]
        },
        {
         "hoverinfo": "none",
         "legendgroup": "bearings",
         "line": {
          "color": "#355d7a",
          "width": 1
         },
         "mode": "lines",
         "name": "Bearing 1",
         "showlegend": false,
         "type": "scatter",
         "x": [
          1.5021428571428572,
          1.5064285714285715
         ],
         "y": [
          0.075,
          0.0825
         ]
        },
        {
         "hoverinfo": "none",
         "legendgroup": "bearings",
         "line": {
          "color": "#355d7a",
          "width": 1
         },
         "mode": "lines",
         "name": "Bearing 1",
         "showlegend": false,
         "type": "scatter",
         "x": [
          1.5021428571428572,
          1.5064285714285715
         ],
         "y": [
          -0.075,
          -0.0825
         ]
        },
        {
         "hoverinfo": "none",
         "legendgroup": "bearings",
         "line": {
          "color": "#355d7a",
          "width": 1
         },
         "mode": "lines",
         "name": "Bearing 1",
         "showlegend": false,
         "type": "scatter",
         "x": [
          1.5064285714285715,
          1.5107142857142857
         ],
         "y": [
          0.075,
          0.0825
         ]
        },
        {
         "hoverinfo": "none",
         "legendgroup": "bearings",
         "line": {
          "color": "#355d7a",
          "width": 1
         },
         "mode": "lines",
         "name": "Bearing 1",
         "showlegend": false,
         "type": "scatter",
         "x": [
          1.5064285714285715,
          1.5107142857142857
         ],
         "y": [
          -0.075,
          -0.0825
         ]
        },
        {
         "hoverinfo": "none",
         "legendgroup": "bearings",
         "line": {
          "color": "#355d7a",
          "width": 1
         },
         "mode": "lines",
         "name": "Bearing 1",
         "showlegend": false,
         "type": "scatter",
         "x": [
          1.5107142857142857,
          1.515
         ],
         "y": [
          0.075,
          0.0825
         ]
        },
        {
         "hoverinfo": "none",
         "legendgroup": "bearings",
         "line": {
          "color": "#355d7a",
          "width": 1
         },
         "mode": "lines",
         "name": "Bearing 1",
         "showlegend": false,
         "type": "scatter",
         "x": [
          1.5107142857142857,
          1.515
         ],
         "y": [
          -0.075,
          -0.0825
         ]
        },
        {
         "hoverinfo": "none",
         "legendgroup": "bearings",
         "line": {
          "color": "#355d7a",
          "width": 1
         },
         "mode": "lines",
         "name": "Bearing 1",
         "showlegend": false,
         "type": "scatter",
         "x": [
          1.4928571428571429,
          1.4928571428571429,
          1.4892857142857143,
          1.4964285714285714,
          1.4892857142857143,
          1.4964285714285714,
          1.4892857142857143,
          1.4964285714285714,
          1.4928571428571429,
          1.4928571428571429
         ],
         "y": [
          0.0375,
          0.04107142857142857,
          0.04107142857142857,
          0.044642857142857144,
          0.04821428571428571,
          0.05178571428571428,
          0.055357142857142855,
          0.05892857142857143,
          0.05892857142857143,
          0.0625
         ]
        },
        {
         "hoverinfo": "none",
         "legendgroup": "bearings",
         "line": {
          "color": "#355d7a",
          "width": 1
         },
         "mode": "lines",
         "name": "Bearing 1",
         "showlegend": false,
         "type": "scatter",
         "x": [
          1.4928571428571429,
          1.4928571428571429,
          1.4892857142857143,
          1.4964285714285714,
          1.4892857142857143,
          1.4964285714285714,
          1.4892857142857143,
          1.4964285714285714,
          1.4928571428571429,
          1.4928571428571429
         ],
         "y": [
          -0.0375,
          -0.04107142857142857,
          -0.04107142857142857,
          -0.044642857142857144,
          -0.04821428571428571,
          -0.05178571428571428,
          -0.055357142857142855,
          -0.05892857142857143,
          -0.05892857142857143,
          -0.0625
         ]
        },
        {
         "hoverinfo": "none",
         "legendgroup": "bearings",
         "line": {
          "color": "#355d7a",
          "width": 1
         },
         "mode": "lines",
         "name": "Bearing 1",
         "showlegend": false,
         "type": "scatter",
         "x": [
          1.5071428571428571,
          1.5071428571428571
         ],
         "y": [
          0.0375,
          0.044642857142857144
         ]
        },
        {
         "hoverinfo": "none",
         "legendgroup": "bearings",
         "line": {
          "color": "#355d7a",
          "width": 1
         },
         "mode": "lines",
         "name": "Bearing 1",
         "showlegend": false,
         "type": "scatter",
         "x": [
          1.5071428571428571,
          1.5071428571428571
         ],
         "y": [
          -0.0375,
          -0.044642857142857144
         ]
        },
        {
         "hoverinfo": "none",
         "legendgroup": "bearings",
         "line": {
          "color": "#355d7a",
          "width": 1
         },
         "mode": "lines",
         "name": "Bearing 1",
         "showlegend": false,
         "type": "scatter",
         "x": [
          1.5,
          1.5,
          1.5142857142857142,
          1.5142857142857142
         ],
         "y": [
          0.055357142857142855,
          0.044642857142857144,
          0.044642857142857144,
          0.055357142857142855
         ]
        },
        {
         "hoverinfo": "none",
         "legendgroup": "bearings",
         "line": {
          "color": "#355d7a",
          "width": 1
         },
         "mode": "lines",
         "name": "Bearing 1",
         "showlegend": false,
         "type": "scatter",
         "x": [
          1.5,
          1.5,
          1.5142857142857142,
          1.5142857142857142
         ],
         "y": [
          -0.055357142857142855,
          -0.044642857142857144,
          -0.044642857142857144,
          -0.055357142857142855
         ]
        },
        {
         "hoverinfo": "none",
         "legendgroup": "bearings",
         "line": {
          "color": "#355d7a",
          "width": 1
         },
         "mode": "lines",
         "name": "Bearing 1",
         "showlegend": false,
         "type": "scatter",
         "x": [
          1.5,
          1.5142857142857142,
          1.5071428571428571,
          1.5071428571428571
         ],
         "y": [
          0.05178571428571428,
          0.05178571428571428,
          0.05178571428571428,
          0.0625
         ]
        },
        {
         "hoverinfo": "none",
         "legendgroup": "bearings",
         "line": {
          "color": "#355d7a",
          "width": 1
         },
         "mode": "lines",
         "name": "Bearing 1",
         "showlegend": false,
         "type": "scatter",
         "x": [
          1.5,
          1.5142857142857142,
          1.5071428571428571,
          1.5071428571428571
         ],
         "y": [
          -0.05178571428571428,
          -0.05178571428571428,
          -0.05178571428571428,
          -0.0625
         ]
        }
       ],
       "layout": {
        "shapes": [
         {
          "fillcolor": "Firebrick",
          "line": {
           "color": "Firebrick"
          },
          "type": "circle",
          "x0": 0.49375,
          "x1": 0.50625,
          "xref": "x",
          "y0": 0.11875,
          "y1": 0.13125,
          "yref": "y"
         },
         {
          "fillcolor": "Firebrick",
          "line": {
           "color": "Firebrick"
          },
          "type": "circle",
          "x0": 0.49375,
          "x1": 0.50625,
          "xref": "x",
          "y0": -0.13125,
          "y1": -0.11875,
          "yref": "y"
         },
         {
          "fillcolor": "Firebrick",
          "line": {
           "color": "Firebrick"
          },
          "type": "circle",
          "x0": 0.99375,
          "x1": 1.00625,
          "xref": "x",
          "y0": 0.11875,
          "y1": 0.13125,
          "yref": "y"
         },
         {
          "fillcolor": "Firebrick",
          "line": {
           "color": "Firebrick"
          },
          "type": "circle",
          "x0": 0.99375,
          "x1": 1.00625,
          "xref": "x",
          "y0": -0.13125,
          "y1": -0.11875,
          "yref": "y"
         }
        ],
        "template": {
         "data": {
          "bar": [
           {
            "error_x": {
             "color": "#2a3f5f"
            },
            "error_y": {
             "color": "#2a3f5f"
            },
            "marker": {
             "line": {
              "color": "white",
              "width": 0.5
             }
            },
            "type": "bar"
           }
          ],
          "barpolar": [
           {
            "marker": {
             "line": {
              "color": "white",
              "width": 0.5
             }
            },
            "type": "barpolar"
           }
          ],
          "carpet": [
           {
            "aaxis": {
             "endlinecolor": "#2a3f5f",
             "gridcolor": "#C8D4E3",
             "linecolor": "#C8D4E3",
             "minorgridcolor": "#C8D4E3",
             "startlinecolor": "#2a3f5f"
            },
            "baxis": {
             "endlinecolor": "#2a3f5f",
             "gridcolor": "#C8D4E3",
             "linecolor": "#C8D4E3",
             "minorgridcolor": "#C8D4E3",
             "startlinecolor": "#2a3f5f"
            },
            "type": "carpet"
           }
          ],
          "choropleth": [
           {
            "colorbar": {
             "outlinewidth": 0,
             "ticks": ""
            },
            "type": "choropleth"
           }
          ],
          "contour": [
           {
            "colorbar": {
             "outlinewidth": 0,
             "ticks": ""
            },
            "colorscale": [
             [
              0.0,
              "#0d0887"
             ],
             [
              0.1111111111111111,
              "#46039f"
             ],
             [
              0.2222222222222222,
              "#7201a8"
             ],
             [
              0.3333333333333333,
              "#9c179e"
             ],
             [
              0.4444444444444444,
              "#bd3786"
             ],
             [
              0.5555555555555556,
              "#d8576b"
             ],
             [
              0.6666666666666666,
              "#ed7953"
             ],
             [
              0.7777777777777778,
              "#fb9f3a"
             ],
             [
              0.8888888888888888,
              "#fdca26"
             ],
             [
              1.0,
              "#f0f921"
             ]
            ],
            "type": "contour"
           }
          ],
          "contourcarpet": [
           {
            "colorbar": {
             "outlinewidth": 0,
             "ticks": ""
            },
            "type": "contourcarpet"
           }
          ],
          "heatmap": [
           {
            "colorbar": {
             "outlinewidth": 0,
             "ticks": ""
            },
            "colorscale": [
             [
              0.0,
              "#0d0887"
             ],
             [
              0.1111111111111111,
              "#46039f"
             ],
             [
              0.2222222222222222,
              "#7201a8"
             ],
             [
              0.3333333333333333,
              "#9c179e"
             ],
             [
              0.4444444444444444,
              "#bd3786"
             ],
             [
              0.5555555555555556,
              "#d8576b"
             ],
             [
              0.6666666666666666,
              "#ed7953"
             ],
             [
              0.7777777777777778,
              "#fb9f3a"
             ],
             [
              0.8888888888888888,
              "#fdca26"
             ],
             [
              1.0,
              "#f0f921"
             ]
            ],
            "type": "heatmap"
           }
          ],
          "heatmapgl": [
           {
            "colorbar": {
             "outlinewidth": 0,
             "ticks": ""
            },
            "colorscale": [
             [
              0.0,
              "#0d0887"
             ],
             [
              0.1111111111111111,
              "#46039f"
             ],
             [
              0.2222222222222222,
              "#7201a8"
             ],
             [
              0.3333333333333333,
              "#9c179e"
             ],
             [
              0.4444444444444444,
              "#bd3786"
             ],
             [
              0.5555555555555556,
              "#d8576b"
             ],
             [
              0.6666666666666666,
              "#ed7953"
             ],
             [
              0.7777777777777778,
              "#fb9f3a"
             ],
             [
              0.8888888888888888,
              "#fdca26"
             ],
             [
              1.0,
              "#f0f921"
             ]
            ],
            "type": "heatmapgl"
           }
          ],
          "histogram": [
           {
            "marker": {
             "colorbar": {
              "outlinewidth": 0,
              "ticks": ""
             }
            },
            "type": "histogram"
           }
          ],
          "histogram2d": [
           {
            "colorbar": {
             "outlinewidth": 0,
             "ticks": ""
            },
            "colorscale": [
             [
              0.0,
              "#0d0887"
             ],
             [
              0.1111111111111111,
              "#46039f"
             ],
             [
              0.2222222222222222,
              "#7201a8"
             ],
             [
              0.3333333333333333,
              "#9c179e"
             ],
             [
              0.4444444444444444,
              "#bd3786"
             ],
             [
              0.5555555555555556,
              "#d8576b"
             ],
             [
              0.6666666666666666,
              "#ed7953"
             ],
             [
              0.7777777777777778,
              "#fb9f3a"
             ],
             [
              0.8888888888888888,
              "#fdca26"
             ],
             [
              1.0,
              "#f0f921"
             ]
            ],
            "type": "histogram2d"
           }
          ],
          "histogram2dcontour": [
           {
            "colorbar": {
             "outlinewidth": 0,
             "ticks": ""
            },
            "colorscale": [
             [
              0.0,
              "#0d0887"
             ],
             [
              0.1111111111111111,
              "#46039f"
             ],
             [
              0.2222222222222222,
              "#7201a8"
             ],
             [
              0.3333333333333333,
              "#9c179e"
             ],
             [
              0.4444444444444444,
              "#bd3786"
             ],
             [
              0.5555555555555556,
              "#d8576b"
             ],
             [
              0.6666666666666666,
              "#ed7953"
             ],
             [
              0.7777777777777778,
              "#fb9f3a"
             ],
             [
              0.8888888888888888,
              "#fdca26"
             ],
             [
              1.0,
              "#f0f921"
             ]
            ],
            "type": "histogram2dcontour"
           }
          ],
          "mesh3d": [
           {
            "colorbar": {
             "outlinewidth": 0,
             "ticks": ""
            },
            "type": "mesh3d"
           }
          ],
          "parcoords": [
           {
            "line": {
             "colorbar": {
              "outlinewidth": 0,
              "ticks": ""
             }
            },
            "type": "parcoords"
           }
          ],
          "pie": [
           {
            "automargin": true,
            "type": "pie"
           }
          ],
          "scatter": [
           {
            "marker": {
             "colorbar": {
              "outlinewidth": 0,
              "ticks": ""
             }
            },
            "type": "scatter"
           }
          ],
          "scatter3d": [
           {
            "line": {
             "colorbar": {
              "outlinewidth": 0,
              "ticks": ""
             }
            },
            "marker": {
             "colorbar": {
              "outlinewidth": 0,
              "ticks": ""
             },
             "size": 4
            },
            "type": "scatter3d"
           }
          ],
          "scattercarpet": [
           {
            "marker": {
             "colorbar": {
              "outlinewidth": 0,
              "ticks": ""
             }
            },
            "type": "scattercarpet"
           }
          ],
          "scattergeo": [
           {
            "marker": {
             "colorbar": {
              "outlinewidth": 0,
              "ticks": ""
             }
            },
            "type": "scattergeo"
           }
          ],
          "scattergl": [
           {
            "marker": {
             "colorbar": {
              "outlinewidth": 0,
              "ticks": ""
             }
            },
            "type": "scattergl"
           }
          ],
          "scattermapbox": [
           {
            "marker": {
             "colorbar": {
              "outlinewidth": 0,
              "ticks": ""
             }
            },
            "type": "scattermapbox"
           }
          ],
          "scatterpolar": [
           {
            "marker": {
             "colorbar": {
              "outlinewidth": 0,
              "ticks": ""
             }
            },
            "type": "scatterpolar"
           }
          ],
          "scatterpolargl": [
           {
            "marker": {
             "colorbar": {
              "outlinewidth": 0,
              "ticks": ""
             }
            },
            "type": "scatterpolargl"
           }
          ],
          "scatterternary": [
           {
            "marker": {
             "colorbar": {
              "outlinewidth": 0,
              "ticks": ""
             }
            },
            "type": "scatterternary"
           }
          ],
          "surface": [
           {
            "colorbar": {
             "outlinewidth": 0,
             "ticks": ""
            },
            "colorscale": [
             [
              0.0,
              "#0d0887"
             ],
             [
              0.1111111111111111,
              "#46039f"
             ],
             [
              0.2222222222222222,
              "#7201a8"
             ],
             [
              0.3333333333333333,
              "#9c179e"
             ],
             [
              0.4444444444444444,
              "#bd3786"
             ],
             [
              0.5555555555555556,
              "#d8576b"
             ],
             [
              0.6666666666666666,
              "#ed7953"
             ],
             [
              0.7777777777777778,
              "#fb9f3a"
             ],
             [
              0.8888888888888888,
              "#fdca26"
             ],
             [
              1.0,
              "#f0f921"
             ]
            ],
            "type": "surface"
           }
          ],
          "table": [
           {
            "cells": {
             "fill": {
              "color": "#EBF0F8"
             },
             "line": {
              "color": "white"
             }
            },
            "header": {
             "fill": {
              "color": "#C8D4E3"
             },
             "line": {
              "color": "white"
             }
            },
            "type": "table"
           }
          ]
         },
         "layout": {
          "annotationdefaults": {
           "arrowcolor": "#2a3f5f",
           "arrowhead": 0,
           "arrowwidth": 1
          },
          "coloraxis": {
           "colorbar": {
            "outlinewidth": 0,
            "ticks": ""
           }
          },
          "colorscale": {
           "diverging": [
            [
             0,
             "#8e0152"
            ],
            [
             0.1,
             "#c51b7d"
            ],
            [
             0.2,
             "#de77ae"
            ],
            [
             0.3,
             "#f1b6da"
            ],
            [
             0.4,
             "#fde0ef"
            ],
            [
             0.5,
             "#f7f7f7"
            ],
            [
             0.6,
             "#e6f5d0"
            ],
            [
             0.7,
             "#b8e186"
            ],
            [
             0.8,
             "#7fbc41"
            ],
            [
             0.9,
             "#4d9221"
            ],
            [
             1,
             "#276419"
            ]
           ],
           "sequential": [
            [
             0.0,
             "#0d0887"
            ],
            [
             0.1111111111111111,
             "#46039f"
            ],
            [
             0.2222222222222222,
             "#7201a8"
            ],
            [
             0.3333333333333333,
             "#9c179e"
            ],
            [
             0.4444444444444444,
             "#bd3786"
            ],
            [
             0.5555555555555556,
             "#d8576b"
            ],
            [
             0.6666666666666666,
             "#ed7953"
            ],
            [
             0.7777777777777778,
             "#fb9f3a"
            ],
            [
             0.8888888888888888,
             "#fdca26"
            ],
            [
             1.0,
             "#f0f921"
            ]
           ],
           "sequentialminus": [
            [
             0.0,
             "#0d0887"
            ],
            [
             0.1111111111111111,
             "#46039f"
            ],
            [
             0.2222222222222222,
             "#7201a8"
            ],
            [
             0.3333333333333333,
             "#9c179e"
            ],
            [
             0.4444444444444444,
             "#bd3786"
            ],
            [
             0.5555555555555556,
             "#d8576b"
            ],
            [
             0.6666666666666666,
             "#ed7953"
            ],
            [
             0.7777777777777778,
             "#fb9f3a"
            ],
            [
             0.8888888888888888,
             "#fdca26"
            ],
            [
             1.0,
             "#f0f921"
            ]
           ]
          },
          "colorway": [
           "#1f77b4",
           "#ff7f0e",
           "#2ca02c",
           "#d62728",
           "#9467bd",
           "#8c564b",
           "#e377c2",
           "#7f7f7f",
           "#bcbd22",
           "#17becf"
          ],
          "font": {
           "color": "#2a3f5f"
          },
          "geo": {
           "bgcolor": "white",
           "lakecolor": "white",
           "landcolor": "white",
           "showlakes": true,
           "showland": true,
           "subunitcolor": "#C8D4E3"
          },
          "hoverlabel": {
           "align": "left"
          },
          "hovermode": "closest",
          "mapbox": {
           "style": "light"
          },
          "paper_bgcolor": "white",
          "plot_bgcolor": "white",
          "polar": {
           "angularaxis": {
            "gridcolor": "#EBF0F8",
            "linecolor": "#EBF0F8",
            "ticks": ""
           },
           "bgcolor": "white",
           "radialaxis": {
            "gridcolor": "#EBF0F8",
            "linecolor": "#EBF0F8",
            "ticks": ""
           }
          },
          "scene": {
           "camera": {
            "center": {
             "x": 0,
             "y": 0,
             "z": 0
            },
            "eye": {
             "x": 2.0,
             "y": 2.0,
             "z": 2.0
            },
            "up": {
             "x": 0,
             "y": 0,
             "z": 1
            }
           },
           "xaxis": {
            "backgroundcolor": "white",
            "gridcolor": "#DFE8F3",
            "gridwidth": 2,
            "linecolor": "#EBF0F8",
            "showbackground": true,
            "showspikes": false,
            "ticks": "",
            "zerolinecolor": "#EBF0F8"
           },
           "yaxis": {
            "backgroundcolor": "white",
            "gridcolor": "#DFE8F3",
            "gridwidth": 2,
            "linecolor": "#EBF0F8",
            "showbackground": true,
            "showspikes": false,
            "ticks": "",
            "zerolinecolor": "#EBF0F8"
           },
           "zaxis": {
            "backgroundcolor": "white",
            "gridcolor": "#DFE8F3",
            "gridwidth": 2,
            "linecolor": "#EBF0F8",
            "showbackground": true,
            "showspikes": false,
            "ticks": "",
            "zerolinecolor": "#EBF0F8"
           }
          },
          "shapedefaults": {
           "line": {
            "color": "#2a3f5f"
           }
          },
          "ternary": {
           "aaxis": {
            "gridcolor": "#DFE8F3",
            "linecolor": "#A2B1C6",
            "ticks": ""
           },
           "baxis": {
            "gridcolor": "#DFE8F3",
            "linecolor": "#A2B1C6",
            "ticks": ""
           },
           "bgcolor": "white",
           "caxis": {
            "gridcolor": "#DFE8F3",
            "linecolor": "#A2B1C6",
            "ticks": ""
           }
          },
          "title": {
           "x": 0.05
          },
          "xaxis": {
           "automargin": true,
           "gridcolor": "#EBF0F8",
           "linecolor": "black",
           "linewidth": 2.0,
           "mirror": true,
           "showline": true,
           "ticks": "",
           "title": {
            "standoff": 15
           },
           "zeroline": false,
           "zerolinecolor": "#EBF0F8",
           "zerolinewidth": 2
          },
          "yaxis": {
           "automargin": true,
           "gridcolor": "#EBF0F8",
           "linecolor": "black",
           "linewidth": 2.0,
           "mirror": true,
           "showline": true,
           "ticks": "",
           "title": {
            "standoff": 15
           },
           "zeroline": false,
           "zerolinecolor": "#EBF0F8",
           "zerolinewidth": 2
          }
         }
        },
        "title": {
         "text": "Rotor Model"
        },
        "xaxis": {
         "mirror": true,
         "range": [
          -0.15000000000000002,
          1.6500000000000001
         ],
         "showgrid": false,
         "title": {
          "text": "Axial location (m)"
         }
        },
        "yaxis": {
         "mirror": true,
         "range": [
          -0.44999999999999996,
          0.44999999999999996
         ],
         "showgrid": false,
         "title": {
          "text": "Shaft radius (m)"
         }
        }
       }
      }
     },
     "metadata": {},
     "output_type": "display_data"
    }
   ],
   "source": [
    "# Classic Instantiation of the rotor\n",
    "shaft_elements = []\n",
    "bearing_seal_elements = []\n",
    "disk_elements = []\n",
    "steel = rs.steel\n",
    "for i in range(6):\n",
    "    shaft_elements.append(rs.ShaftElement(L=0.25, material=steel, n=i, idl=0, odl=0.05))\n",
    "\n",
    "disk_elements.append(\n",
    "    rs.DiskElement.from_geometry(n=2, material=steel, width=0.07, i_d=0.05, o_d=0.28)\n",
    ")\n",
    "\n",
    "disk_elements.append(\n",
    "    rs.DiskElement.from_geometry(n=4, material=steel, width=0.07, i_d=0.05, o_d=0.35)\n",
    ")\n",
    "bearing_seal_elements.append(rs.BearingElement(n=0, kxx=1e6, kyy=1e6, cxx=3e3, cyy=3e3))\n",
    "bearing_seal_elements.append(rs.BearingElement(n=6, kxx=1e6, kyy=1e6, cxx=3e3, cyy=3e3))\n",
    "\n",
    "rotor595c = rs.Rotor(\n",
    "    shaft_elements=shaft_elements,\n",
    "    bearing_elements=bearing_seal_elements,\n",
    "    disk_elements=disk_elements,\n",
    ")\n",
    "\n",
    "rotor595c.plot_rotor()"
   ]
  },
  {
   "cell_type": "code",
   "execution_count": 3,
   "metadata": {
    "execution": {
     "iopub.execute_input": "2023-05-04T01:00:41.821636Z",
     "iopub.status.busy": "2023-05-04T01:00:41.821448Z",
     "iopub.status.idle": "2023-05-04T01:00:41.889883Z",
     "shell.execute_reply": "2023-05-04T01:00:41.889401Z"
    }
   },
   "outputs": [
    {
     "data": {
      "application/vnd.plotly.v1+json": {
       "config": {
        "plotlyServerURL": "https://plot.ly"
       },
       "data": [
        {
         "hoverinfo": "none",
         "line": {
          "color": "black",
          "dash": "dashdot",
          "width": 3.0
         },
         "mode": "lines",
         "opacity": 0.7,
         "showlegend": false,
         "type": "scatter",
         "x": [
          -0.30000000000000004,
          1.7999999999999998
         ],
         "y": [
          0,
          0
         ]
        },
        {
         "hoverinfo": "none",
         "marker": {
          "color": "#ffcc99",
          "line": {
           "color": "black",
           "width": 1.0
          },
          "opacity": 0.7,
          "size": 20
         },
         "mode": "markers+text",
         "showlegend": false,
         "text": [
          "0",
          "1",
          "2",
          "3"
         ],
         "type": "scatter",
         "x": [
          0.0,
          0.5,
          1.0,
          1.5
         ],
         "y": [
          0.0,
          0.0,
          0.0,
          0.0
         ]
        },
        {
         "customdata": [
          [
           0,
           0.05,
           0.0,
           0.05,
           0.0,
           0.5,
           "Steel"
          ],
          [
           0,
           0.05,
           0.0,
           0.05,
           0.0,
           0.5,
           "Steel"
          ],
          [
           0,
           0.05,
           0.0,
           0.05,
           0.0,
           0.5,
           "Steel"
          ],
          [
           0,
           0.05,
           0.0,
           0.05,
           0.0,
           0.5,
           "Steel"
          ],
          [
           0,
           0.05,
           0.0,
           0.05,
           0.0,
           0.5,
           "Steel"
          ],
          [
           0,
           0.05,
           0.0,
           0.05,
           0.0,
           0.5,
           "Steel"
          ],
          [
           0,
           0.05,
           0.0,
           0.05,
           0.0,
           0.5,
           "Steel"
          ],
          [
           0,
           0.05,
           0.0,
           0.05,
           0.0,
           0.5,
           "Steel"
          ],
          [
           0,
           0.05,
           0.0,
           0.05,
           0.0,
           0.5,
           "Steel"
          ],
          [
           0,
           0.05,
           0.0,
           0.05,
           0.0,
           0.5,
           "Steel"
          ]
         ],
         "fill": "toself",
         "fillcolor": "#525252",
         "hoverinfo": "text",
         "hoverlabel": {
          "bgcolor": "#525252"
         },
         "hoveron": "points+fills",
         "hovertemplate": "Element Number: 0<br>Left Outer Diameter: 0.05 m<br>Left Inner Diameter: 0.0 m<br>Right Outer Diameter: 0.05 m<br>Right Inner Diameter: 0.0 m<br>Element Length: 0.5 m<br>Material: Steel<br>",
         "legendgroup": "Shaft",
         "line": {
          "color": "black",
          "width": 1.5
         },
         "mode": "lines",
         "name": "ShaftElement 0",
         "opacity": 0.5,
         "showlegend": false,
         "text": "Element Number: 0<br>Left Outer Diameter: 0.05 m<br>Left Inner Diameter: 0.0 m<br>Right Outer Diameter: 0.05 m<br>Right Inner Diameter: 0.0 m<br>Element Length: 0.5 m<br>Material: Steel<br>",
         "type": "scatter",
         "x": [
          0.0,
          0.0,
          0.5,
          0.5,
          0.0,
          0.0,
          0.0,
          0.5,
          0.5,
          0.0
         ],
         "y": [
          0.0,
          0.025,
          0.025,
          0.0,
          0.0,
          -0.0,
          -0.025,
          -0.025,
          -0.0,
          -0.0
         ]
        },
        {
         "customdata": [
          [
           1,
           0.05,
           0.0,
           0.05,
           0.0,
           0.5,
           "Steel"
          ],
          [
           1,
           0.05,
           0.0,
           0.05,
           0.0,
           0.5,
           "Steel"
          ],
          [
           1,
           0.05,
           0.0,
           0.05,
           0.0,
           0.5,
           "Steel"
          ],
          [
           1,
           0.05,
           0.0,
           0.05,
           0.0,
           0.5,
           "Steel"
          ],
          [
           1,
           0.05,
           0.0,
           0.05,
           0.0,
           0.5,
           "Steel"
          ],
          [
           1,
           0.05,
           0.0,
           0.05,
           0.0,
           0.5,
           "Steel"
          ],
          [
           1,
           0.05,
           0.0,
           0.05,
           0.0,
           0.5,
           "Steel"
          ],
          [
           1,
           0.05,
           0.0,
           0.05,
           0.0,
           0.5,
           "Steel"
          ],
          [
           1,
           0.05,
           0.0,
           0.05,
           0.0,
           0.5,
           "Steel"
          ],
          [
           1,
           0.05,
           0.0,
           0.05,
           0.0,
           0.5,
           "Steel"
          ]
         ],
         "fill": "toself",
         "fillcolor": "#525252",
         "hoverinfo": "text",
         "hoverlabel": {
          "bgcolor": "#525252"
         },
         "hoveron": "points+fills",
         "hovertemplate": "Element Number: 1<br>Left Outer Diameter: 0.05 m<br>Left Inner Diameter: 0.0 m<br>Right Outer Diameter: 0.05 m<br>Right Inner Diameter: 0.0 m<br>Element Length: 0.5 m<br>Material: Steel<br>",
         "legendgroup": "Shaft",
         "line": {
          "color": "black",
          "width": 1.5
         },
         "mode": "lines",
         "name": "ShaftElement 1",
         "opacity": 0.5,
         "showlegend": false,
         "text": "Element Number: 1<br>Left Outer Diameter: 0.05 m<br>Left Inner Diameter: 0.0 m<br>Right Outer Diameter: 0.05 m<br>Right Inner Diameter: 0.0 m<br>Element Length: 0.5 m<br>Material: Steel<br>",
         "type": "scatter",
         "x": [
          0.5,
          0.5,
          1.0,
          1.0,
          0.5,
          0.5,
          0.5,
          1.0,
          1.0,
          0.5
         ],
         "y": [
          0.0,
          0.025,
          0.025,
          0.0,
          0.0,
          -0.0,
          -0.025,
          -0.025,
          -0.0,
          -0.0
         ]
        },
        {
         "customdata": [
          [
           2,
           0.05,
           0.0,
           0.05,
           0.0,
           0.5,
           "Steel"
          ],
          [
           2,
           0.05,
           0.0,
           0.05,
           0.0,
           0.5,
           "Steel"
          ],
          [
           2,
           0.05,
           0.0,
           0.05,
           0.0,
           0.5,
           "Steel"
          ],
          [
           2,
           0.05,
           0.0,
           0.05,
           0.0,
           0.5,
           "Steel"
          ],
          [
           2,
           0.05,
           0.0,
           0.05,
           0.0,
           0.5,
           "Steel"
          ],
          [
           2,
           0.05,
           0.0,
           0.05,
           0.0,
           0.5,
           "Steel"
          ],
          [
           2,
           0.05,
           0.0,
           0.05,
           0.0,
           0.5,
           "Steel"
          ],
          [
           2,
           0.05,
           0.0,
           0.05,
           0.0,
           0.5,
           "Steel"
          ],
          [
           2,
           0.05,
           0.0,
           0.05,
           0.0,
           0.5,
           "Steel"
          ],
          [
           2,
           0.05,
           0.0,
           0.05,
           0.0,
           0.5,
           "Steel"
          ]
         ],
         "fill": "toself",
         "fillcolor": "#525252",
         "hoverinfo": "text",
         "hoverlabel": {
          "bgcolor": "#525252"
         },
         "hoveron": "points+fills",
         "hovertemplate": "Element Number: 2<br>Left Outer Diameter: 0.05 m<br>Left Inner Diameter: 0.0 m<br>Right Outer Diameter: 0.05 m<br>Right Inner Diameter: 0.0 m<br>Element Length: 0.5 m<br>Material: Steel<br>",
         "legendgroup": "Shaft",
         "line": {
          "color": "black",
          "width": 1.5
         },
         "mode": "lines",
         "name": "ShaftElement 2",
         "opacity": 0.5,
         "showlegend": false,
         "text": "Element Number: 2<br>Left Outer Diameter: 0.05 m<br>Left Inner Diameter: 0.0 m<br>Right Outer Diameter: 0.05 m<br>Right Inner Diameter: 0.0 m<br>Element Length: 0.5 m<br>Material: Steel<br>",
         "type": "scatter",
         "x": [
          1.0,
          1.0,
          1.5,
          1.5,
          1.0,
          1.0,
          1.0,
          1.5,
          1.5,
          1.0
         ],
         "y": [
          0.0,
          0.025,
          0.025,
          0.0,
          0.0,
          -0.0,
          -0.025,
          -0.025,
          -0.0,
          -0.0
         ]
        },
        {
         "customdata": [
          [
           1,
           0.32956362089137037,
           0.17808928257067666,
           32.58972765304033
          ],
          [
           1,
           0.32956362089137037,
           0.17808928257067666,
           32.58972765304033
          ],
          [
           1,
           0.32956362089137037,
           0.17808928257067666,
           32.58972765304033
          ],
          [
           1,
           0.32956362089137037,
           0.17808928257067666,
           32.58972765304033
          ],
          [
           1,
           0.32956362089137037,
           0.17808928257067666,
           32.58972765304033
          ],
          [
           1,
           0.32956362089137037,
           0.17808928257067666,
           32.58972765304033
          ],
          [
           1,
           0.32956362089137037,
           0.17808928257067666,
           32.58972765304033
          ],
          [
           1,
           0.32956362089137037,
           0.17808928257067666,
           32.58972765304033
          ],
          [
           1,
           0.32956362089137037,
           0.17808928257067666,
           32.58972765304033
          ]
         ],
         "fill": "toself",
         "fillcolor": "Firebrick",
         "hoverinfo": "text",
         "hoverlabel": {
          "bgcolor": "Firebrick"
         },
         "hoveron": "points+fills",
         "hovertemplate": "Disk Node: 1<br>Polar Inertia: 3.296e-01<br>Diametral Inertia: 1.781e-01<br>Disk mass: 32.590<br>",
         "legendgroup": "disks",
         "line": {
          "color": "Firebrick",
          "width": 2.0
         },
         "mode": "lines",
         "name": "Disk 0",
         "opacity": 0.8,
         "showlegend": false,
         "text": "Disk Node: 1<br>Polar Inertia: 3.296e-01<br>Diametral Inertia: 1.781e-01<br>Disk mass: 32.590<br>",
         "type": "scatter",
         "x": [
          0.5,
          0.502,
          0.498,
          0.5,
          null,
          0.5,
          0.502,
          0.498,
          0.5
         ],
         "y": [
          0.025,
          0.125,
          0.125,
          0.025,
          null,
          -0.025,
          -0.125,
          -0.125,
          -0.025
         ]
        },
        {
         "customdata": [
          [
           2,
           0.8050822048675969,
           0.4235805840543383,
           51.5252611115262
          ],
          [
           2,
           0.8050822048675969,
           0.4235805840543383,
           51.5252611115262
          ],
          [
           2,
           0.8050822048675969,
           0.4235805840543383,
           51.5252611115262
          ],
          [
           2,
           0.8050822048675969,
           0.4235805840543383,
           51.5252611115262
          ],
          [
           2,
           0.8050822048675969,
           0.4235805840543383,
           51.5252611115262
          ],
          [
           2,
           0.8050822048675969,
           0.4235805840543383,
           51.5252611115262
          ],
          [
           2,
           0.8050822048675969,
           0.4235805840543383,
           51.5252611115262
          ],
          [
           2,
           0.8050822048675969,
           0.4235805840543383,
           51.5252611115262
          ],
          [
           2,
           0.8050822048675969,
           0.4235805840543383,
           51.5252611115262
          ]
         ],
         "fill": "toself",
         "fillcolor": "Firebrick",
         "hoverinfo": "text",
         "hoverlabel": {
          "bgcolor": "Firebrick"
         },
         "hoveron": "points+fills",
         "hovertemplate": "Disk Node: 2<br>Polar Inertia: 8.051e-01<br>Diametral Inertia: 4.236e-01<br>Disk mass: 51.525<br>",
         "legendgroup": "disks",
         "line": {
          "color": "Firebrick",
          "width": 2.0
         },
         "mode": "lines",
         "name": "Disk 1",
         "opacity": 0.8,
         "showlegend": false,
         "text": "Disk Node: 2<br>Polar Inertia: 8.051e-01<br>Diametral Inertia: 4.236e-01<br>Disk mass: 51.525<br>",
         "type": "scatter",
         "x": [
          1.0,
          1.002,
          0.998,
          1.0,
          null,
          1.0,
          1.002,
          0.998,
          1.0
         ],
         "y": [
          0.025,
          0.125,
          0.125,
          0.025,
          null,
          -0.025,
          -0.125,
          -0.125,
          -0.025
         ]
        },
        {
         "hoverinfo": "none",
         "legendgroup": "bearings",
         "line": {
          "color": "#355d7a",
          "width": 1
         },
         "mode": "lines",
         "name": "Bearing 0",
         "showlegend": false,
         "type": "scatter",
         "x": [
          0.0,
          0.0,
          -0.007142857142857144,
          0.007142857142857144
         ],
         "y": [
          0.025,
          0.037500000000000006,
          0.037500000000000006,
          0.037500000000000006
         ]
        },
        {
         "hoverinfo": "none",
         "legendgroup": "bearings",
         "line": {
          "color": "#355d7a",
          "width": 1
         },
         "mode": "lines",
         "name": "Bearing 0",
         "showlegend": false,
         "type": "scatter",
         "x": [
          0.0,
          0.0,
          -0.007142857142857144,
          0.007142857142857144
         ],
         "y": [
          -0.025,
          -0.037500000000000006,
          -0.037500000000000006,
          -0.037500000000000006
         ]
        },
        {
         "hoverinfo": "none",
         "legendgroup": "bearings",
         "line": {
          "color": "#355d7a",
          "width": 1
         },
         "mode": "lines",
         "name": "Bearing 0",
         "showlegend": false,
         "type": "scatter",
         "x": [
          0.0,
          0.0,
          -0.007142857142857144,
          0.007142857142857144
         ],
         "y": [
          0.07500000000000001,
          0.0625,
          0.0625,
          0.0625
         ]
        },
        {
         "hoverinfo": "none",
         "legendgroup": "bearings",
         "line": {
          "color": "#355d7a",
          "width": 1
         },
         "mode": "lines",
         "name": "Bearing 0",
         "showlegend": false,
         "type": "scatter",
         "x": [
          0.0,
          0.0,
          -0.007142857142857144,
          0.007142857142857144
         ],
         "y": [
          -0.07500000000000001,
          -0.0625,
          -0.0625,
          -0.0625
         ]
        },
        {
         "hoverinfo": "none",
         "legendgroup": "bearings",
         "line": {
          "color": "#355d7a",
          "width": 1
         },
         "mode": "lines",
         "name": "Bearing 0",
         "showlegend": false,
         "type": "scatter",
         "x": [
          -0.010714285714285716,
          0.010714285714285716
         ],
         "y": [
          0.07500000000000001,
          0.07500000000000001
         ]
        },
        {
         "hoverinfo": "none",
         "legendgroup": "bearings",
         "line": {
          "color": "#355d7a",
          "width": 1
         },
         "mode": "lines",
         "name": "Bearing 0",
         "showlegend": false,
         "type": "scatter",
         "x": [
          -0.010714285714285716,
          0.010714285714285716
         ],
         "y": [
          -0.07500000000000001,
          -0.07500000000000001
         ]
        },
        {
         "hoverinfo": "none",
         "legendgroup": "bearings",
         "line": {
          "color": "#355d7a",
          "width": 1
         },
         "mode": "lines",
         "name": "Bearing 0",
         "showlegend": false,
         "type": "scatter",
         "x": [
          -0.010714285714285716,
          -0.006428571428571429
         ],
         "y": [
          0.07500000000000001,
          0.08250000000000002
         ]
        },
        {
         "hoverinfo": "none",
         "legendgroup": "bearings",
         "line": {
          "color": "#355d7a",
          "width": 1
         },
         "mode": "lines",
         "name": "Bearing 0",
         "showlegend": false,
         "type": "scatter",
         "x": [
          -0.010714285714285716,
          -0.006428571428571429
         ],
         "y": [
          -0.07500000000000001,
          -0.08250000000000002
         ]
        },
        {
         "hoverinfo": "none",
         "legendgroup": "bearings",
         "line": {
          "color": "#355d7a",
          "width": 1
         },
         "mode": "lines",
         "name": "Bearing 0",
         "showlegend": false,
         "type": "scatter",
         "x": [
          -0.006428571428571429,
          -0.0021428571428571425
         ],
         "y": [
          0.07500000000000001,
          0.08250000000000002
         ]
        },
        {
         "hoverinfo": "none",
         "legendgroup": "bearings",
         "line": {
          "color": "#355d7a",
          "width": 1
         },
         "mode": "lines",
         "name": "Bearing 0",
         "showlegend": false,
         "type": "scatter",
         "x": [
          -0.006428571428571429,
          -0.0021428571428571425
         ],
         "y": [
          -0.07500000000000001,
          -0.08250000000000002
         ]
        },
        {
         "hoverinfo": "none",
         "legendgroup": "bearings",
         "line": {
          "color": "#355d7a",
          "width": 1
         },
         "mode": "lines",
         "name": "Bearing 0",
         "showlegend": false,
         "type": "scatter",
         "x": [
          -0.0021428571428571425,
          0.0021428571428571443
         ],
         "y": [
          0.07500000000000001,
          0.08250000000000002
         ]
        },
        {
         "hoverinfo": "none",
         "legendgroup": "bearings",
         "line": {
          "color": "#355d7a",
          "width": 1
         },
         "mode": "lines",
         "name": "Bearing 0",
         "showlegend": false,
         "type": "scatter",
         "x": [
          -0.0021428571428571425,
          0.0021428571428571443
         ],
         "y": [
          -0.07500000000000001,
          -0.08250000000000002
         ]
        },
        {
         "hoverinfo": "none",
         "legendgroup": "bearings",
         "line": {
          "color": "#355d7a",
          "width": 1
         },
         "mode": "lines",
         "name": "Bearing 0",
         "showlegend": false,
         "type": "scatter",
         "x": [
          0.0021428571428571443,
          0.006428571428571431
         ],
         "y": [
          0.07500000000000001,
          0.08250000000000002
         ]
        },
        {
         "hoverinfo": "none",
         "legendgroup": "bearings",
         "line": {
          "color": "#355d7a",
          "width": 1
         },
         "mode": "lines",
         "name": "Bearing 0",
         "showlegend": false,
         "type": "scatter",
         "x": [
          0.0021428571428571443,
          0.006428571428571431
         ],
         "y": [
          -0.07500000000000001,
          -0.08250000000000002
         ]
        },
        {
         "hoverinfo": "none",
         "legendgroup": "bearings",
         "line": {
          "color": "#355d7a",
          "width": 1
         },
         "mode": "lines",
         "name": "Bearing 0",
         "showlegend": false,
         "type": "scatter",
         "x": [
          0.006428571428571431,
          0.01071428571428572
         ],
         "y": [
          0.07500000000000001,
          0.08250000000000002
         ]
        },
        {
         "hoverinfo": "none",
         "legendgroup": "bearings",
         "line": {
          "color": "#355d7a",
          "width": 1
         },
         "mode": "lines",
         "name": "Bearing 0",
         "showlegend": false,
         "type": "scatter",
         "x": [
          0.006428571428571431,
          0.01071428571428572
         ],
         "y": [
          -0.07500000000000001,
          -0.08250000000000002
         ]
        },
        {
         "hoverinfo": "none",
         "legendgroup": "bearings",
         "line": {
          "color": "#355d7a",
          "width": 1
         },
         "mode": "lines",
         "name": "Bearing 0",
         "showlegend": false,
         "type": "scatter",
         "x": [
          0.01071428571428572,
          0.015000000000000005
         ],
         "y": [
          0.07500000000000001,
          0.08250000000000002
         ]
        },
        {
         "hoverinfo": "none",
         "legendgroup": "bearings",
         "line": {
          "color": "#355d7a",
          "width": 1
         },
         "mode": "lines",
         "name": "Bearing 0",
         "showlegend": false,
         "type": "scatter",
         "x": [
          0.01071428571428572,
          0.015000000000000005
         ],
         "y": [
          -0.07500000000000001,
          -0.08250000000000002
         ]
        },
        {
         "hoverinfo": "none",
         "legendgroup": "bearings",
         "line": {
          "color": "#355d7a",
          "width": 1
         },
         "mode": "lines",
         "name": "Bearing 0",
         "showlegend": false,
         "type": "scatter",
         "x": [
          -0.007142857142857144,
          -0.007142857142857144,
          -0.010714285714285716,
          -0.003571428571428572,
          -0.010714285714285716,
          -0.003571428571428572,
          -0.010714285714285716,
          -0.003571428571428572,
          -0.007142857142857144,
          -0.007142857142857144
         ],
         "y": [
          0.037500000000000006,
          0.04107142857142858,
          0.04107142857142858,
          0.04464285714285715,
          0.04821428571428572,
          0.051785714285714296,
          0.05535714285714287,
          0.05892857142857144,
          0.05892857142857144,
          0.06250000000000001
         ]
        },
        {
         "hoverinfo": "none",
         "legendgroup": "bearings",
         "line": {
          "color": "#355d7a",
          "width": 1
         },
         "mode": "lines",
         "name": "Bearing 0",
         "showlegend": false,
         "type": "scatter",
         "x": [
          -0.007142857142857144,
          -0.007142857142857144,
          -0.010714285714285716,
          -0.003571428571428572,
          -0.010714285714285716,
          -0.003571428571428572,
          -0.010714285714285716,
          -0.003571428571428572,
          -0.007142857142857144,
          -0.007142857142857144
         ],
         "y": [
          -0.037500000000000006,
          -0.04107142857142858,
          -0.04107142857142858,
          -0.04464285714285715,
          -0.04821428571428572,
          -0.051785714285714296,
          -0.05535714285714287,
          -0.05892857142857144,
          -0.05892857142857144,
          -0.06250000000000001
         ]
        },
        {
         "hoverinfo": "none",
         "legendgroup": "bearings",
         "line": {
          "color": "#355d7a",
          "width": 1
         },
         "mode": "lines",
         "name": "Bearing 0",
         "showlegend": false,
         "type": "scatter",
         "x": [
          0.007142857142857144,
          0.007142857142857144
         ],
         "y": [
          0.037500000000000006,
          0.04464285714285715
         ]
        },
        {
         "hoverinfo": "none",
         "legendgroup": "bearings",
         "line": {
          "color": "#355d7a",
          "width": 1
         },
         "mode": "lines",
         "name": "Bearing 0",
         "showlegend": false,
         "type": "scatter",
         "x": [
          0.007142857142857144,
          0.007142857142857144
         ],
         "y": [
          -0.037500000000000006,
          -0.04464285714285715
         ]
        },
        {
         "hoverinfo": "none",
         "legendgroup": "bearings",
         "line": {
          "color": "#355d7a",
          "width": 1
         },
         "mode": "lines",
         "name": "Bearing 0",
         "showlegend": false,
         "type": "scatter",
         "x": [
          0.0,
          0.0,
          0.014285714285714289,
          0.014285714285714289
         ],
         "y": [
          0.05535714285714287,
          0.04464285714285715,
          0.04464285714285715,
          0.05535714285714287
         ]
        },
        {
         "hoverinfo": "none",
         "legendgroup": "bearings",
         "line": {
          "color": "#355d7a",
          "width": 1
         },
         "mode": "lines",
         "name": "Bearing 0",
         "showlegend": false,
         "type": "scatter",
         "x": [
          0.0,
          0.0,
          0.014285714285714289,
          0.014285714285714289
         ],
         "y": [
          -0.05535714285714287,
          -0.04464285714285715,
          -0.04464285714285715,
          -0.05535714285714287
         ]
        },
        {
         "hoverinfo": "none",
         "legendgroup": "bearings",
         "line": {
          "color": "#355d7a",
          "width": 1
         },
         "mode": "lines",
         "name": "Bearing 0",
         "showlegend": false,
         "type": "scatter",
         "x": [
          0.0,
          0.014285714285714289,
          0.007142857142857144,
          0.007142857142857144
         ],
         "y": [
          0.051785714285714296,
          0.051785714285714296,
          0.051785714285714296,
          0.0625
         ]
        },
        {
         "hoverinfo": "none",
         "legendgroup": "bearings",
         "line": {
          "color": "#355d7a",
          "width": 1
         },
         "mode": "lines",
         "name": "Bearing 0",
         "showlegend": false,
         "type": "scatter",
         "x": [
          0.0,
          0.014285714285714289,
          0.007142857142857144,
          0.007142857142857144
         ],
         "y": [
          -0.051785714285714296,
          -0.051785714285714296,
          -0.051785714285714296,
          -0.0625
         ]
        },
        {
         "hoverinfo": "none",
         "legendgroup": "bearings",
         "line": {
          "color": "#355d7a",
          "width": 1
         },
         "mode": "lines",
         "name": "Bearing 1",
         "showlegend": false,
         "type": "scatter",
         "x": [
          1.5,
          1.5,
          1.4928571428571429,
          1.5071428571428571
         ],
         "y": [
          0.025,
          0.037500000000000006,
          0.037500000000000006,
          0.037500000000000006
         ]
        },
        {
         "hoverinfo": "none",
         "legendgroup": "bearings",
         "line": {
          "color": "#355d7a",
          "width": 1
         },
         "mode": "lines",
         "name": "Bearing 1",
         "showlegend": false,
         "type": "scatter",
         "x": [
          1.5,
          1.5,
          1.4928571428571429,
          1.5071428571428571
         ],
         "y": [
          -0.025,
          -0.037500000000000006,
          -0.037500000000000006,
          -0.037500000000000006
         ]
        },
        {
         "hoverinfo": "none",
         "legendgroup": "bearings",
         "line": {
          "color": "#355d7a",
          "width": 1
         },
         "mode": "lines",
         "name": "Bearing 1",
         "showlegend": false,
         "type": "scatter",
         "x": [
          1.5,
          1.5,
          1.4928571428571429,
          1.5071428571428571
         ],
         "y": [
          0.07500000000000001,
          0.0625,
          0.0625,
          0.0625
         ]
        },
        {
         "hoverinfo": "none",
         "legendgroup": "bearings",
         "line": {
          "color": "#355d7a",
          "width": 1
         },
         "mode": "lines",
         "name": "Bearing 1",
         "showlegend": false,
         "type": "scatter",
         "x": [
          1.5,
          1.5,
          1.4928571428571429,
          1.5071428571428571
         ],
         "y": [
          -0.07500000000000001,
          -0.0625,
          -0.0625,
          -0.0625
         ]
        },
        {
         "hoverinfo": "none",
         "legendgroup": "bearings",
         "line": {
          "color": "#355d7a",
          "width": 1
         },
         "mode": "lines",
         "name": "Bearing 1",
         "showlegend": false,
         "type": "scatter",
         "x": [
          1.4892857142857143,
          1.5107142857142857
         ],
         "y": [
          0.07500000000000001,
          0.07500000000000001
         ]
        },
        {
         "hoverinfo": "none",
         "legendgroup": "bearings",
         "line": {
          "color": "#355d7a",
          "width": 1
         },
         "mode": "lines",
         "name": "Bearing 1",
         "showlegend": false,
         "type": "scatter",
         "x": [
          1.4892857142857143,
          1.5107142857142857
         ],
         "y": [
          -0.07500000000000001,
          -0.07500000000000001
         ]
        },
        {
         "hoverinfo": "none",
         "legendgroup": "bearings",
         "line": {
          "color": "#355d7a",
          "width": 1
         },
         "mode": "lines",
         "name": "Bearing 1",
         "showlegend": false,
         "type": "scatter",
         "x": [
          1.4892857142857143,
          1.4935714285714285
         ],
         "y": [
          0.07500000000000001,
          0.08250000000000002
         ]
        },
        {
         "hoverinfo": "none",
         "legendgroup": "bearings",
         "line": {
          "color": "#355d7a",
          "width": 1
         },
         "mode": "lines",
         "name": "Bearing 1",
         "showlegend": false,
         "type": "scatter",
         "x": [
          1.4892857142857143,
          1.4935714285714285
         ],
         "y": [
          -0.07500000000000001,
          -0.08250000000000002
         ]
        },
        {
         "hoverinfo": "none",
         "legendgroup": "bearings",
         "line": {
          "color": "#355d7a",
          "width": 1
         },
         "mode": "lines",
         "name": "Bearing 1",
         "showlegend": false,
         "type": "scatter",
         "x": [
          1.4935714285714285,
          1.4978571428571428
         ],
         "y": [
          0.07500000000000001,
          0.08250000000000002
         ]
        },
        {
         "hoverinfo": "none",
         "legendgroup": "bearings",
         "line": {
          "color": "#355d7a",
          "width": 1
         },
         "mode": "lines",
         "name": "Bearing 1",
         "showlegend": false,
         "type": "scatter",
         "x": [
          1.4935714285714285,
          1.4978571428571428
         ],
         "y": [
          -0.07500000000000001,
          -0.08250000000000002
         ]
        },
        {
         "hoverinfo": "none",
         "legendgroup": "bearings",
         "line": {
          "color": "#355d7a",
          "width": 1
         },
         "mode": "lines",
         "name": "Bearing 1",
         "showlegend": false,
         "type": "scatter",
         "x": [
          1.4978571428571428,
          1.5021428571428572
         ],
         "y": [
          0.07500000000000001,
          0.08250000000000002
         ]
        },
        {
         "hoverinfo": "none",
         "legendgroup": "bearings",
         "line": {
          "color": "#355d7a",
          "width": 1
         },
         "mode": "lines",
         "name": "Bearing 1",
         "showlegend": false,
         "type": "scatter",
         "x": [
          1.4978571428571428,
          1.5021428571428572
         ],
         "y": [
          -0.07500000000000001,
          -0.08250000000000002
         ]
        },
        {
         "hoverinfo": "none",
         "legendgroup": "bearings",
         "line": {
          "color": "#355d7a",
          "width": 1
         },
         "mode": "lines",
         "name": "Bearing 1",
         "showlegend": false,
         "type": "scatter",
         "x": [
          1.5021428571428572,
          1.5064285714285715
         ],
         "y": [
          0.07500000000000001,
          0.08250000000000002
         ]
        },
        {
         "hoverinfo": "none",
         "legendgroup": "bearings",
         "line": {
          "color": "#355d7a",
          "width": 1
         },
         "mode": "lines",
         "name": "Bearing 1",
         "showlegend": false,
         "type": "scatter",
         "x": [
          1.5021428571428572,
          1.5064285714285715
         ],
         "y": [
          -0.07500000000000001,
          -0.08250000000000002
         ]
        },
        {
         "hoverinfo": "none",
         "legendgroup": "bearings",
         "line": {
          "color": "#355d7a",
          "width": 1
         },
         "mode": "lines",
         "name": "Bearing 1",
         "showlegend": false,
         "type": "scatter",
         "x": [
          1.5064285714285715,
          1.5107142857142857
         ],
         "y": [
          0.07500000000000001,
          0.08250000000000002
         ]
        },
        {
         "hoverinfo": "none",
         "legendgroup": "bearings",
         "line": {
          "color": "#355d7a",
          "width": 1
         },
         "mode": "lines",
         "name": "Bearing 1",
         "showlegend": false,
         "type": "scatter",
         "x": [
          1.5064285714285715,
          1.5107142857142857
         ],
         "y": [
          -0.07500000000000001,
          -0.08250000000000002
         ]
        },
        {
         "hoverinfo": "none",
         "legendgroup": "bearings",
         "line": {
          "color": "#355d7a",
          "width": 1
         },
         "mode": "lines",
         "name": "Bearing 1",
         "showlegend": false,
         "type": "scatter",
         "x": [
          1.5107142857142857,
          1.515
         ],
         "y": [
          0.07500000000000001,
          0.08250000000000002
         ]
        },
        {
         "hoverinfo": "none",
         "legendgroup": "bearings",
         "line": {
          "color": "#355d7a",
          "width": 1
         },
         "mode": "lines",
         "name": "Bearing 1",
         "showlegend": false,
         "type": "scatter",
         "x": [
          1.5107142857142857,
          1.515
         ],
         "y": [
          -0.07500000000000001,
          -0.08250000000000002
         ]
        },
        {
         "hoverinfo": "none",
         "legendgroup": "bearings",
         "line": {
          "color": "#355d7a",
          "width": 1
         },
         "mode": "lines",
         "name": "Bearing 1",
         "showlegend": false,
         "type": "scatter",
         "x": [
          1.4928571428571429,
          1.4928571428571429,
          1.4892857142857143,
          1.4964285714285714,
          1.4892857142857143,
          1.4964285714285714,
          1.4892857142857143,
          1.4964285714285714,
          1.4928571428571429,
          1.4928571428571429
         ],
         "y": [
          0.037500000000000006,
          0.04107142857142858,
          0.04107142857142858,
          0.04464285714285715,
          0.04821428571428572,
          0.051785714285714296,
          0.05535714285714287,
          0.05892857142857144,
          0.05892857142857144,
          0.06250000000000001
         ]
        },
        {
         "hoverinfo": "none",
         "legendgroup": "bearings",
         "line": {
          "color": "#355d7a",
          "width": 1
         },
         "mode": "lines",
         "name": "Bearing 1",
         "showlegend": false,
         "type": "scatter",
         "x": [
          1.4928571428571429,
          1.4928571428571429,
          1.4892857142857143,
          1.4964285714285714,
          1.4892857142857143,
          1.4964285714285714,
          1.4892857142857143,
          1.4964285714285714,
          1.4928571428571429,
          1.4928571428571429
         ],
         "y": [
          -0.037500000000000006,
          -0.04107142857142858,
          -0.04107142857142858,
          -0.04464285714285715,
          -0.04821428571428572,
          -0.051785714285714296,
          -0.05535714285714287,
          -0.05892857142857144,
          -0.05892857142857144,
          -0.06250000000000001
         ]
        },
        {
         "hoverinfo": "none",
         "legendgroup": "bearings",
         "line": {
          "color": "#355d7a",
          "width": 1
         },
         "mode": "lines",
         "name": "Bearing 1",
         "showlegend": false,
         "type": "scatter",
         "x": [
          1.5071428571428571,
          1.5071428571428571
         ],
         "y": [
          0.037500000000000006,
          0.04464285714285715
         ]
        },
        {
         "hoverinfo": "none",
         "legendgroup": "bearings",
         "line": {
          "color": "#355d7a",
          "width": 1
         },
         "mode": "lines",
         "name": "Bearing 1",
         "showlegend": false,
         "type": "scatter",
         "x": [
          1.5071428571428571,
          1.5071428571428571
         ],
         "y": [
          -0.037500000000000006,
          -0.04464285714285715
         ]
        },
        {
         "hoverinfo": "none",
         "legendgroup": "bearings",
         "line": {
          "color": "#355d7a",
          "width": 1
         },
         "mode": "lines",
         "name": "Bearing 1",
         "showlegend": false,
         "type": "scatter",
         "x": [
          1.5,
          1.5,
          1.5142857142857142,
          1.5142857142857142
         ],
         "y": [
          0.05535714285714287,
          0.04464285714285715,
          0.04464285714285715,
          0.05535714285714287
         ]
        },
        {
         "hoverinfo": "none",
         "legendgroup": "bearings",
         "line": {
          "color": "#355d7a",
          "width": 1
         },
         "mode": "lines",
         "name": "Bearing 1",
         "showlegend": false,
         "type": "scatter",
         "x": [
          1.5,
          1.5,
          1.5142857142857142,
          1.5142857142857142
         ],
         "y": [
          -0.05535714285714287,
          -0.04464285714285715,
          -0.04464285714285715,
          -0.05535714285714287
         ]
        },
        {
         "hoverinfo": "none",
         "legendgroup": "bearings",
         "line": {
          "color": "#355d7a",
          "width": 1
         },
         "mode": "lines",
         "name": "Bearing 1",
         "showlegend": false,
         "type": "scatter",
         "x": [
          1.5,
          1.5142857142857142,
          1.5071428571428571,
          1.5071428571428571
         ],
         "y": [
          0.051785714285714296,
          0.051785714285714296,
          0.051785714285714296,
          0.0625
         ]
        },
        {
         "hoverinfo": "none",
         "legendgroup": "bearings",
         "line": {
          "color": "#355d7a",
          "width": 1
         },
         "mode": "lines",
         "name": "Bearing 1",
         "showlegend": false,
         "type": "scatter",
         "x": [
          1.5,
          1.5142857142857142,
          1.5071428571428571,
          1.5071428571428571
         ],
         "y": [
          -0.051785714285714296,
          -0.051785714285714296,
          -0.051785714285714296,
          -0.0625
         ]
        }
       ],
       "layout": {
        "shapes": [
         {
          "fillcolor": "Firebrick",
          "line": {
           "color": "Firebrick"
          },
          "type": "circle",
          "x0": 0.49375,
          "x1": 0.50625,
          "xref": "x",
          "y0": 0.11875,
          "y1": 0.13125,
          "yref": "y"
         },
         {
          "fillcolor": "Firebrick",
          "line": {
           "color": "Firebrick"
          },
          "type": "circle",
          "x0": 0.49375,
          "x1": 0.50625,
          "xref": "x",
          "y0": -0.13125,
          "y1": -0.11875,
          "yref": "y"
         },
         {
          "fillcolor": "Firebrick",
          "line": {
           "color": "Firebrick"
          },
          "type": "circle",
          "x0": 0.99375,
          "x1": 1.00625,
          "xref": "x",
          "y0": 0.11875,
          "y1": 0.13125,
          "yref": "y"
         },
         {
          "fillcolor": "Firebrick",
          "line": {
           "color": "Firebrick"
          },
          "type": "circle",
          "x0": 0.99375,
          "x1": 1.00625,
          "xref": "x",
          "y0": -0.13125,
          "y1": -0.11875,
          "yref": "y"
         }
        ],
        "template": {
         "data": {
          "bar": [
           {
            "error_x": {
             "color": "#2a3f5f"
            },
            "error_y": {
             "color": "#2a3f5f"
            },
            "marker": {
             "line": {
              "color": "white",
              "width": 0.5
             }
            },
            "type": "bar"
           }
          ],
          "barpolar": [
           {
            "marker": {
             "line": {
              "color": "white",
              "width": 0.5
             }
            },
            "type": "barpolar"
           }
          ],
          "carpet": [
           {
            "aaxis": {
             "endlinecolor": "#2a3f5f",
             "gridcolor": "#C8D4E3",
             "linecolor": "#C8D4E3",
             "minorgridcolor": "#C8D4E3",
             "startlinecolor": "#2a3f5f"
            },
            "baxis": {
             "endlinecolor": "#2a3f5f",
             "gridcolor": "#C8D4E3",
             "linecolor": "#C8D4E3",
             "minorgridcolor": "#C8D4E3",
             "startlinecolor": "#2a3f5f"
            },
            "type": "carpet"
           }
          ],
          "choropleth": [
           {
            "colorbar": {
             "outlinewidth": 0,
             "ticks": ""
            },
            "type": "choropleth"
           }
          ],
          "contour": [
           {
            "colorbar": {
             "outlinewidth": 0,
             "ticks": ""
            },
            "colorscale": [
             [
              0.0,
              "#0d0887"
             ],
             [
              0.1111111111111111,
              "#46039f"
             ],
             [
              0.2222222222222222,
              "#7201a8"
             ],
             [
              0.3333333333333333,
              "#9c179e"
             ],
             [
              0.4444444444444444,
              "#bd3786"
             ],
             [
              0.5555555555555556,
              "#d8576b"
             ],
             [
              0.6666666666666666,
              "#ed7953"
             ],
             [
              0.7777777777777778,
              "#fb9f3a"
             ],
             [
              0.8888888888888888,
              "#fdca26"
             ],
             [
              1.0,
              "#f0f921"
             ]
            ],
            "type": "contour"
           }
          ],
          "contourcarpet": [
           {
            "colorbar": {
             "outlinewidth": 0,
             "ticks": ""
            },
            "type": "contourcarpet"
           }
          ],
          "heatmap": [
           {
            "colorbar": {
             "outlinewidth": 0,
             "ticks": ""
            },
            "colorscale": [
             [
              0.0,
              "#0d0887"
             ],
             [
              0.1111111111111111,
              "#46039f"
             ],
             [
              0.2222222222222222,
              "#7201a8"
             ],
             [
              0.3333333333333333,
              "#9c179e"
             ],
             [
              0.4444444444444444,
              "#bd3786"
             ],
             [
              0.5555555555555556,
              "#d8576b"
             ],
             [
              0.6666666666666666,
              "#ed7953"
             ],
             [
              0.7777777777777778,
              "#fb9f3a"
             ],
             [
              0.8888888888888888,
              "#fdca26"
             ],
             [
              1.0,
              "#f0f921"
             ]
            ],
            "type": "heatmap"
           }
          ],
          "heatmapgl": [
           {
            "colorbar": {
             "outlinewidth": 0,
             "ticks": ""
            },
            "colorscale": [
             [
              0.0,
              "#0d0887"
             ],
             [
              0.1111111111111111,
              "#46039f"
             ],
             [
              0.2222222222222222,
              "#7201a8"
             ],
             [
              0.3333333333333333,
              "#9c179e"
             ],
             [
              0.4444444444444444,
              "#bd3786"
             ],
             [
              0.5555555555555556,
              "#d8576b"
             ],
             [
              0.6666666666666666,
              "#ed7953"
             ],
             [
              0.7777777777777778,
              "#fb9f3a"
             ],
             [
              0.8888888888888888,
              "#fdca26"
             ],
             [
              1.0,
              "#f0f921"
             ]
            ],
            "type": "heatmapgl"
           }
          ],
          "histogram": [
           {
            "marker": {
             "colorbar": {
              "outlinewidth": 0,
              "ticks": ""
             }
            },
            "type": "histogram"
           }
          ],
          "histogram2d": [
           {
            "colorbar": {
             "outlinewidth": 0,
             "ticks": ""
            },
            "colorscale": [
             [
              0.0,
              "#0d0887"
             ],
             [
              0.1111111111111111,
              "#46039f"
             ],
             [
              0.2222222222222222,
              "#7201a8"
             ],
             [
              0.3333333333333333,
              "#9c179e"
             ],
             [
              0.4444444444444444,
              "#bd3786"
             ],
             [
              0.5555555555555556,
              "#d8576b"
             ],
             [
              0.6666666666666666,
              "#ed7953"
             ],
             [
              0.7777777777777778,
              "#fb9f3a"
             ],
             [
              0.8888888888888888,
              "#fdca26"
             ],
             [
              1.0,
              "#f0f921"
             ]
            ],
            "type": "histogram2d"
           }
          ],
          "histogram2dcontour": [
           {
            "colorbar": {
             "outlinewidth": 0,
             "ticks": ""
            },
            "colorscale": [
             [
              0.0,
              "#0d0887"
             ],
             [
              0.1111111111111111,
              "#46039f"
             ],
             [
              0.2222222222222222,
              "#7201a8"
             ],
             [
              0.3333333333333333,
              "#9c179e"
             ],
             [
              0.4444444444444444,
              "#bd3786"
             ],
             [
              0.5555555555555556,
              "#d8576b"
             ],
             [
              0.6666666666666666,
              "#ed7953"
             ],
             [
              0.7777777777777778,
              "#fb9f3a"
             ],
             [
              0.8888888888888888,
              "#fdca26"
             ],
             [
              1.0,
              "#f0f921"
             ]
            ],
            "type": "histogram2dcontour"
           }
          ],
          "mesh3d": [
           {
            "colorbar": {
             "outlinewidth": 0,
             "ticks": ""
            },
            "type": "mesh3d"
           }
          ],
          "parcoords": [
           {
            "line": {
             "colorbar": {
              "outlinewidth": 0,
              "ticks": ""
             }
            },
            "type": "parcoords"
           }
          ],
          "pie": [
           {
            "automargin": true,
            "type": "pie"
           }
          ],
          "scatter": [
           {
            "marker": {
             "colorbar": {
              "outlinewidth": 0,
              "ticks": ""
             }
            },
            "type": "scatter"
           }
          ],
          "scatter3d": [
           {
            "line": {
             "colorbar": {
              "outlinewidth": 0,
              "ticks": ""
             }
            },
            "marker": {
             "colorbar": {
              "outlinewidth": 0,
              "ticks": ""
             },
             "size": 4
            },
            "type": "scatter3d"
           }
          ],
          "scattercarpet": [
           {
            "marker": {
             "colorbar": {
              "outlinewidth": 0,
              "ticks": ""
             }
            },
            "type": "scattercarpet"
           }
          ],
          "scattergeo": [
           {
            "marker": {
             "colorbar": {
              "outlinewidth": 0,
              "ticks": ""
             }
            },
            "type": "scattergeo"
           }
          ],
          "scattergl": [
           {
            "marker": {
             "colorbar": {
              "outlinewidth": 0,
              "ticks": ""
             }
            },
            "type": "scattergl"
           }
          ],
          "scattermapbox": [
           {
            "marker": {
             "colorbar": {
              "outlinewidth": 0,
              "ticks": ""
             }
            },
            "type": "scattermapbox"
           }
          ],
          "scatterpolar": [
           {
            "marker": {
             "colorbar": {
              "outlinewidth": 0,
              "ticks": ""
             }
            },
            "type": "scatterpolar"
           }
          ],
          "scatterpolargl": [
           {
            "marker": {
             "colorbar": {
              "outlinewidth": 0,
              "ticks": ""
             }
            },
            "type": "scatterpolargl"
           }
          ],
          "scatterternary": [
           {
            "marker": {
             "colorbar": {
              "outlinewidth": 0,
              "ticks": ""
             }
            },
            "type": "scatterternary"
           }
          ],
          "surface": [
           {
            "colorbar": {
             "outlinewidth": 0,
             "ticks": ""
            },
            "colorscale": [
             [
              0.0,
              "#0d0887"
             ],
             [
              0.1111111111111111,
              "#46039f"
             ],
             [
              0.2222222222222222,
              "#7201a8"
             ],
             [
              0.3333333333333333,
              "#9c179e"
             ],
             [
              0.4444444444444444,
              "#bd3786"
             ],
             [
              0.5555555555555556,
              "#d8576b"
             ],
             [
              0.6666666666666666,
              "#ed7953"
             ],
             [
              0.7777777777777778,
              "#fb9f3a"
             ],
             [
              0.8888888888888888,
              "#fdca26"
             ],
             [
              1.0,
              "#f0f921"
             ]
            ],
            "type": "surface"
           }
          ],
          "table": [
           {
            "cells": {
             "fill": {
              "color": "#EBF0F8"
             },
             "line": {
              "color": "white"
             }
            },
            "header": {
             "fill": {
              "color": "#C8D4E3"
             },
             "line": {
              "color": "white"
             }
            },
            "type": "table"
           }
          ]
         },
         "layout": {
          "annotationdefaults": {
           "arrowcolor": "#2a3f5f",
           "arrowhead": 0,
           "arrowwidth": 1
          },
          "coloraxis": {
           "colorbar": {
            "outlinewidth": 0,
            "ticks": ""
           }
          },
          "colorscale": {
           "diverging": [
            [
             0,
             "#8e0152"
            ],
            [
             0.1,
             "#c51b7d"
            ],
            [
             0.2,
             "#de77ae"
            ],
            [
             0.3,
             "#f1b6da"
            ],
            [
             0.4,
             "#fde0ef"
            ],
            [
             0.5,
             "#f7f7f7"
            ],
            [
             0.6,
             "#e6f5d0"
            ],
            [
             0.7,
             "#b8e186"
            ],
            [
             0.8,
             "#7fbc41"
            ],
            [
             0.9,
             "#4d9221"
            ],
            [
             1,
             "#276419"
            ]
           ],
           "sequential": [
            [
             0.0,
             "#0d0887"
            ],
            [
             0.1111111111111111,
             "#46039f"
            ],
            [
             0.2222222222222222,
             "#7201a8"
            ],
            [
             0.3333333333333333,
             "#9c179e"
            ],
            [
             0.4444444444444444,
             "#bd3786"
            ],
            [
             0.5555555555555556,
             "#d8576b"
            ],
            [
             0.6666666666666666,
             "#ed7953"
            ],
            [
             0.7777777777777778,
             "#fb9f3a"
            ],
            [
             0.8888888888888888,
             "#fdca26"
            ],
            [
             1.0,
             "#f0f921"
            ]
           ],
           "sequentialminus": [
            [
             0.0,
             "#0d0887"
            ],
            [
             0.1111111111111111,
             "#46039f"
            ],
            [
             0.2222222222222222,
             "#7201a8"
            ],
            [
             0.3333333333333333,
             "#9c179e"
            ],
            [
             0.4444444444444444,
             "#bd3786"
            ],
            [
             0.5555555555555556,
             "#d8576b"
            ],
            [
             0.6666666666666666,
             "#ed7953"
            ],
            [
             0.7777777777777778,
             "#fb9f3a"
            ],
            [
             0.8888888888888888,
             "#fdca26"
            ],
            [
             1.0,
             "#f0f921"
            ]
           ]
          },
          "colorway": [
           "#1f77b4",
           "#ff7f0e",
           "#2ca02c",
           "#d62728",
           "#9467bd",
           "#8c564b",
           "#e377c2",
           "#7f7f7f",
           "#bcbd22",
           "#17becf"
          ],
          "font": {
           "color": "#2a3f5f"
          },
          "geo": {
           "bgcolor": "white",
           "lakecolor": "white",
           "landcolor": "white",
           "showlakes": true,
           "showland": true,
           "subunitcolor": "#C8D4E3"
          },
          "hoverlabel": {
           "align": "left"
          },
          "hovermode": "closest",
          "mapbox": {
           "style": "light"
          },
          "paper_bgcolor": "white",
          "plot_bgcolor": "white",
          "polar": {
           "angularaxis": {
            "gridcolor": "#EBF0F8",
            "linecolor": "#EBF0F8",
            "ticks": ""
           },
           "bgcolor": "white",
           "radialaxis": {
            "gridcolor": "#EBF0F8",
            "linecolor": "#EBF0F8",
            "ticks": ""
           }
          },
          "scene": {
           "camera": {
            "center": {
             "x": 0,
             "y": 0,
             "z": 0
            },
            "eye": {
             "x": 2.0,
             "y": 2.0,
             "z": 2.0
            },
            "up": {
             "x": 0,
             "y": 0,
             "z": 1
            }
           },
           "xaxis": {
            "backgroundcolor": "white",
            "gridcolor": "#DFE8F3",
            "gridwidth": 2,
            "linecolor": "#EBF0F8",
            "showbackground": true,
            "showspikes": false,
            "ticks": "",
            "zerolinecolor": "#EBF0F8"
           },
           "yaxis": {
            "backgroundcolor": "white",
            "gridcolor": "#DFE8F3",
            "gridwidth": 2,
            "linecolor": "#EBF0F8",
            "showbackground": true,
            "showspikes": false,
            "ticks": "",
            "zerolinecolor": "#EBF0F8"
           },
           "zaxis": {
            "backgroundcolor": "white",
            "gridcolor": "#DFE8F3",
            "gridwidth": 2,
            "linecolor": "#EBF0F8",
            "showbackground": true,
            "showspikes": false,
            "ticks": "",
            "zerolinecolor": "#EBF0F8"
           }
          },
          "shapedefaults": {
           "line": {
            "color": "#2a3f5f"
           }
          },
          "ternary": {
           "aaxis": {
            "gridcolor": "#DFE8F3",
            "linecolor": "#A2B1C6",
            "ticks": ""
           },
           "baxis": {
            "gridcolor": "#DFE8F3",
            "linecolor": "#A2B1C6",
            "ticks": ""
           },
           "bgcolor": "white",
           "caxis": {
            "gridcolor": "#DFE8F3",
            "linecolor": "#A2B1C6",
            "ticks": ""
           }
          },
          "title": {
           "x": 0.05
          },
          "xaxis": {
           "automargin": true,
           "gridcolor": "#EBF0F8",
           "linecolor": "black",
           "linewidth": 2.0,
           "mirror": true,
           "showline": true,
           "ticks": "",
           "title": {
            "standoff": 15
           },
           "zeroline": false,
           "zerolinecolor": "#EBF0F8",
           "zerolinewidth": 2
          },
          "yaxis": {
           "automargin": true,
           "gridcolor": "#EBF0F8",
           "linecolor": "black",
           "linewidth": 2.0,
           "mirror": true,
           "showline": true,
           "ticks": "",
           "title": {
            "standoff": 15
           },
           "zeroline": false,
           "zerolinecolor": "#EBF0F8",
           "zerolinewidth": 2
          }
         }
        },
        "title": {
         "text": "Rotor Model"
        },
        "xaxis": {
         "mirror": true,
         "range": [
          -0.15000000000000002,
          1.6500000000000001
         ],
         "showgrid": false,
         "title": {
          "text": "Axial location (m)"
         }
        },
        "yaxis": {
         "mirror": true,
         "range": [
          -0.44999999999999996,
          0.44999999999999996
         ],
         "showgrid": false,
         "title": {
          "text": "Shaft radius (m)"
         }
        }
       }
      }
     },
     "metadata": {},
     "output_type": "display_data"
    }
   ],
   "source": [
    "# From_section class method instantiation.\n",
    "bearing_seal_elements = []\n",
    "disk_elements = []\n",
    "shaft_length_data = 3 * [0.5]\n",
    "i_d = 3 * [0]\n",
    "o_d = 3 * [0.05]\n",
    "\n",
    "disk_elements.append(\n",
    "    rs.DiskElement.from_geometry(n=1, material=steel, width=0.07, i_d=0.05, o_d=0.28)\n",
    ")\n",
    "\n",
    "disk_elements.append(\n",
    "    rs.DiskElement.from_geometry(n=2, material=steel, width=0.07, i_d=0.05, o_d=0.35)\n",
    ")\n",
    "bearing_seal_elements.append(rs.BearingElement(n=0, kxx=1e6, kyy=1e6, cxx=3e3, cyy=3e3))\n",
    "bearing_seal_elements.append(rs.BearingElement(n=3, kxx=1e6, kyy=1e6, cxx=3e3, cyy=3e3))\n",
    "\n",
    "rotor595fs = rs.Rotor.from_section(\n",
    "    brg_seal_data=bearing_seal_elements,\n",
    "    disk_data=disk_elements,\n",
    "    leng_data=shaft_length_data,\n",
    "    idl_data=i_d,\n",
    "    odl_data=o_d,\n",
    "    material_data=steel,\n",
    ")\n",
    "rotor595fs.plot_rotor()"
   ]
  },
  {
   "cell_type": "code",
   "execution_count": 4,
   "metadata": {
    "execution": {
     "iopub.execute_input": "2023-05-04T01:00:41.893189Z",
     "iopub.status.busy": "2023-05-04T01:00:41.893021Z",
     "iopub.status.idle": "2023-05-04T01:00:41.975544Z",
     "shell.execute_reply": "2023-05-04T01:00:41.975127Z"
    }
   },
   "outputs": [
    {
     "name": "stdout",
     "output_type": "stream",
     "text": [
      "Normal Instantiation = [ 834.32208726  834.32208726 2890.65742361 2890.65742361 8223.63465121\n",
      " 8223.63465114] [RPM]\n",
      "\n",
      "\n",
      "From Section Instantiation = [ 834.33341919  834.33341919 2891.57258897 2891.57258897 8174.61783162\n",
      " 8174.61783181] [RPM]\n"
     ]
    }
   ],
   "source": [
    "# Obtaining results for w=0\n",
    "\n",
    "modal595c = rotor595c.run_modal(0)\n",
    "modal595fs = rotor595fs.run_modal(0)\n",
    "\n",
    "print(\"Normal Instantiation =\", modal595c.wn * 60 / (2 * np.pi), \"[RPM]\")\n",
    "print(\"\\n\")\n",
    "print(\"From Section Instantiation =\", modal595fs.wn * 60 / (2 * np.pi), \"[RPM]\")"
   ]
  },
  {
   "cell_type": "code",
   "execution_count": 5,
   "metadata": {
    "execution": {
     "iopub.execute_input": "2023-05-04T01:00:41.977226Z",
     "iopub.status.busy": "2023-05-04T01:00:41.976912Z",
     "iopub.status.idle": "2023-05-04T01:00:42.013240Z",
     "shell.execute_reply": "2023-05-04T01:00:42.012859Z"
    }
   },
   "outputs": [
    {
     "name": "stdout",
     "output_type": "stream",
     "text": [
      "Normal Instantiation = [ 821.83844862  845.51158264 2616.47783213 3130.72229886 7341.913667\n",
      " 8988.36233893] [RPM]\n"
     ]
    }
   ],
   "source": [
    "# Obtaining results for w=4000RPM\n",
    "\n",
    "modal595c = rotor595c.run_modal(4000 * np.pi / 30)  # speed input in rad/s\n",
    "print(\"Normal Instantiation =\", modal595c.wn * 60 / (2 * np.pi), \"[RPM]\")"
   ]
  },
  {
   "cell_type": "code",
   "execution_count": 6,
   "metadata": {
    "execution": {
     "iopub.execute_input": "2023-05-04T01:00:42.014648Z",
     "iopub.status.busy": "2023-05-04T01:00:42.014537Z",
     "iopub.status.idle": "2023-05-04T01:00:43.797794Z",
     "shell.execute_reply": "2023-05-04T01:00:43.797263Z"
    },
    "scrolled": false
   },
   "outputs": [
    {
     "data": {
      "application/vnd.plotly.v1+json": {
       "config": {
        "plotlyServerURL": "https://plot.ly"
       },
       "data": [
        {
         "hovertemplate": "Frequency (rpm): %{x:.2f}<br>Critical Speed (rpm): %{y:.2f}",
         "legendgroup": "Crit. Speed",
         "marker": {
          "color": "black",
          "symbol": "x"
         },
         "mode": "markers",
         "name": "Crit. Speed",
         "showlegend": true,
         "type": "scatter",
         "x": [
          830.8023007063547,
          835.6596264282801,
          2615.541435984357,
          2979.2853336687717
         ],
         "y": [
          830.8023007063547,
          835.6596264282801,
          2615.541435984357,
          2979.2853336687717
         ]
        },
        {
         "hoverinfo": "none",
         "legendgroup": "Forward",
         "marker": {
          "color": [
           0.31854722058594725
          ],
          "coloraxis": "coloraxis",
          "symbol": "triangle-up"
         },
         "mode": "markers",
         "name": "Forward",
         "showlegend": false,
         "type": "scatter",
         "x": [
          0.0
         ],
         "y": [
          833.2519107239367
         ]
        },
        {
         "hoverinfo": "none",
         "legendgroup": "Forward",
         "marker": {
          "color": [
           0.3185472205859563,
           0.31894002758784884,
           0.31933212624092355,
           0.31972351690244105,
           0.32011419994443346,
           0.32050417575619927,
           0.3208934447437913,
           0.3212820073280883,
           0.3216698639463883,
           0.322057015050749,
           0.32244346110925176,
           0.3228292026048056,
           0.32321424003441335,
           0.32359857391149166,
           0.32398220476154876,
           0.32436513312535986,
           0.3247473595581025,
           0.32512888462811973,
           0.32550970891738834,
           0.32588983302134716,
           0.32626925754828645,
           0.3266479831202704,
           0.3270260103710791,
           0.32740333994768367,
           0.3277799725091613,
           0.32815590872705225,
           0.3285311492848501,
           0.3289056948773321,
           0.32927954621186206,
           0.32965270400604957,
           0.33002516899006146,
           0.33039694190401525,
           0.33076802349967255,
           0.3311384145389261,
           0.33150811579511624,
           0.3318771280510078,
           0.33224545210023665,
           0.33261308874606743,
           0.33298003880204613,
           0.3333463030911272,
           0.3337118824458663,
           0.33407677770874233,
           0.3344409897303444,
           0.33480451937159356,
           0.33516736750133147,
           0.3355295349980693,
           0.33589102274868327,
           0.3362518316478907,
           0.3366119625990034,
           0.3369714165139716
          ],
          "coloraxis": "coloraxis",
          "symbol": "triangle-up"
         },
         "mode": "markers",
         "name": "Forward",
         "showlegend": false,
         "type": "scatter",
         "x": [
          0.0,
          81.63265306122449,
          163.26530612244898,
          244.89795918367346,
          326.53061224489795,
          408.1632653061224,
          489.7959183673469,
          571.4285714285714,
          653.0612244897959,
          734.6938775510204,
          816.3265306122448,
          897.9591836734694,
          979.5918367346939,
          1061.2244897959183,
          1142.857142857143,
          1224.4897959183672,
          1306.1224489795918,
          1387.7551020408164,
          1469.3877551020407,
          1551.020408163265,
          1632.6530612244896,
          1714.2857142857144,
          1795.9183673469388,
          1877.5510204081631,
          1959.1836734693877,
          2040.8163265306123,
          2122.4489795918366,
          2204.081632653061,
          2285.714285714286,
          2367.3469387755104,
          2448.9795918367345,
          2530.612244897959,
          2612.2448979591836,
          2693.877551020408,
          2775.5102040816328,
          2857.142857142857,
          2938.7755102040815,
          3020.408163265306,
          3102.04081632653,
          3183.6734693877547,
          3265.3061224489793,
          3346.9387755102043,
          3428.571428571429,
          3510.204081632653,
          3591.8367346938776,
          3673.469387755102,
          3755.1020408163263,
          3836.734693877551,
          3918.3673469387754,
          4000.0
         ],
         "y": [
          833.251910723892,
          833.4895674303799,
          833.7266887242558,
          833.9632763453168,
          834.1993320271654,
          834.43485749772,
          834.6698544788228,
          834.9043246863276,
          835.1382698302714,
          835.3716916147304,
          835.6045917379088,
          835.836971892033,
          836.068833763422,
          836.3001790326144,
          836.5310093741102,
          836.7613264566396,
          836.9911319430012,
          837.2204274901515,
          837.4492147491852,
          837.6774953653753,
          837.905270978067,
          838.1325432208673,
          838.3593137215538,
          838.5855841020291,
          838.8113559784653,
          839.0366309611677,
          839.2614106547271,
          839.4856966579114,
          839.7094905637642,
          839.9327939595578,
          840.155608426798,
          840.3779355413535,
          840.5997768732763,
          840.8211339869655,
          841.0420084410549,
          841.2624017886236,
          841.4823155769561,
          841.7017513477442,
          841.9207106370287,
          842.1391949751747,
          842.3572058870003,
          842.5747448916658,
          842.7918135027375,
          843.0084132281895,
          843.2245455704717,
          843.440212026456,
          843.6554140874655,
          843.8701532392788,
          844.0844309622538,
          844.2982487311726
         ]
        },
        {
         "hoverinfo": "none",
         "legendgroup": "Forward",
         "marker": {
          "color": [
           1.6811331632234316,
           1.6788572169832272,
           1.6765647122661744,
           1.6742559961693348,
           1.6719314140201016,
           1.6695913093666201,
           1.667236023761971,
           1.664865896724232,
           1.6624812656719534,
           1.6600824657683964,
           1.6576698299082016,
           1.6552436885970159,
           1.6528043698957924,
           1.6503521993750736,
           1.647887499955364,
           1.6454105919985753,
           1.642921793049206,
           1.6404214179594312,
           1.6379097787199768,
           1.6353871844397887,
           1.6328539413697538,
           1.6303103527064156,
           1.6277567186611426,
           1.6251933364288849,
           1.622620500089071,
           1.620038500614675,
           1.6174476258084807,
           1.6148481603151288,
           1.6122403855820884,
           1.6096245798116797,
           1.607001017972303,
           1.6043699717530069,
           1.6017317095984116,
           1.599086496627464,
           1.5964345946671201,
           1.593776262244908,
           1.591111754536296,
           1.5884413234136407,
           1.5857652174387948,
           1.5830836818274887,
           1.5803969584460378,
           1.5777052858991358,
           1.5750088993798983,
           1.5723080308607356,
           1.5696029089499863,
           1.5668937589654646,
           1.5641808029605953,
           1.5614642596655497,
           1.5587443445866338,
           1.5560212699881681
          ],
          "coloraxis": "coloraxis",
          "symbol": "triangle-up"
         },
         "mode": "markers",
         "name": "Forward",
         "showlegend": false,
         "type": "scatter",
         "x": [
          0.0,
          81.63265306122449,
          163.26530612244898,
          244.89795918367346,
          326.53061224489795,
          408.1632653061224,
          489.7959183673469,
          571.4285714285714,
          653.0612244897959,
          734.6938775510204,
          816.3265306122448,
          897.9591836734694,
          979.5918367346939,
          1061.2244897959183,
          1142.857142857143,
          1224.4897959183672,
          1306.1224489795918,
          1387.7551020408164,
          1469.3877551020407,
          1551.020408163265,
          1632.6530612244896,
          1714.2857142857144,
          1795.9183673469388,
          1877.5510204081631,
          1959.1836734693877,
          2040.8163265306123,
          2122.4489795918366,
          2204.081632653061,
          2285.714285714286,
          2367.3469387755104,
          2448.9795918367345,
          2530.612244897959,
          2612.2448979591836,
          2693.877551020408,
          2775.5102040816328,
          2857.142857142857,
          2938.7755102040815,
          3020.408163265306,
          3102.04081632653,
          3183.6734693877547,
          3265.3061224489793,
          3346.9387755102043,
          3428.571428571429,
          3510.204081632653,
          3591.8367346938776,
          3673.469387755102,
          3755.1020408163263,
          3836.734693877551,
          3918.3673469387754,
          4000.0
         ],
         "y": [
          2792.4317194285777,
          2797.7844899807296,
          2803.1253455189894,
          2808.4541574908494,
          2813.770800182358,
          2819.0751507481054,
          2824.367089240698,
          2829.646498546389,
          2834.9132643999596,
          2840.1672754267747,
          2845.4084230243798,
          2850.636601439499,
          2855.851707721274,
          2861.0536416980967,
          2866.2423059753114,
          2871.4176058974767,
          2876.5794495951186,
          2881.727747852734,
          2886.8624141958517,
          2891.9833648161252,
          2897.0905185357688,
          2902.183796830121,
          2907.2631237827436,
          2912.328426040503,
          2917.3796328314143,
          2922.4166758798756,
          2927.4394894495254,
          2932.448010258947,
          2937.4421774876964,
          2942.4219327204296,
          2947.3872199489824,
          2952.3379855254775,
          2957.274178123543,
          2962.1957487387917,
          2967.102650632663,
          2971.9948392968263,
          2976.8722724579748,
          2981.734910005833,
          2986.5827139905527,
          2991.4156485688645,
          2996.2336800031126,
          3001.036776590932,
          3005.824908678526,
          3010.598048577872,
          3015.3561705671,
          3020.09925087179,
          3024.8272675894736,
          3029.5402007107314,
          3034.238032015533,
          3038.920745123079
         ]
        },
        {
         "hoverinfo": "none",
         "legendgroup": "Forward",
         "marker": {
          "color": [
           5.4884061714208086,
           5.512685397506665,
           5.536628074531165,
           5.560235866795582,
           5.58351042257943,
           5.60645337766182,
           5.629066357913529,
           5.651350984549183,
           5.6733088758771135,
           5.694941651698508,
           5.716250935742283,
           5.737238358899622,
           5.757905562907327,
           5.778254201466712,
           5.798285945076001,
           5.818002481488727,
           5.837405519175842,
           5.856496788684122,
           5.875278045811712,
           5.89375107173382,
           5.911917676204989,
           5.9297796976845625,
           5.947339006090335,
           5.964597502392474,
           5.981557120687888,
           5.998219828763276,
           6.014587628262434,
           6.030662556254895,
           6.046446684669495,
           6.061942120871903,
           6.0771510078351385,
           6.092075524179861,
           6.106717884228971,
           6.121080336917848,
           6.135165166575208,
           6.14897469166503,
           6.162511264715303,
           6.175777271398634,
           6.188775129639512,
           6.201507289361426,
           6.213976231052242,
           6.226184465028292,
           6.238134530616588,
           6.2498289943617475,
           6.261270449694418,
           6.272461515398443,
           6.283404834267009,
           6.294103072097405,
           6.304558915944919,
           6.314775073326878
          ],
          "coloraxis": "coloraxis",
          "symbol": "triangle-up"
         },
         "mode": "markers",
         "name": "Forward",
         "showlegend": false,
         "type": "scatter",
         "x": [
          0.0,
          81.63265306122449,
          163.26530612244898,
          244.89795918367346,
          326.53061224489795,
          408.1632653061224,
          489.7959183673469,
          571.4285714285714,
          653.0612244897959,
          734.6938775510204,
          816.3265306122448,
          897.9591836734694,
          979.5918367346939,
          1061.2244897959183,
          1142.857142857143,
          1224.4897959183672,
          1306.1224489795918,
          1387.7551020408164,
          1469.3877551020407,
          1551.020408163265,
          1632.6530612244896,
          1714.2857142857144,
          1795.9183673469388,
          1877.5510204081631,
          1959.1836734693877,
          2040.8163265306123,
          2122.4489795918366,
          2204.081632653061,
          2285.714285714286,
          2367.3469387755104,
          2448.9795918367345,
          2530.612244897959,
          2612.2448979591836,
          2693.877551020408,
          2775.5102040816328,
          2857.142857142857,
          2938.7755102040815,
          3020.408163265306,
          3102.04081632653,
          3183.6734693877547,
          3265.3061224489793,
          3346.9387755102043,
          3428.571428571429,
          3510.204081632653,
          3591.8367346938776,
          3673.469387755102,
          3755.1020408163263,
          3836.734693877551,
          3918.3673469387754,
          4000.0
         ],
         "y": [
          6193.4961840309425,
          6193.630748890244,
          6193.898202879888,
          6194.298470453937,
          6194.831359755501,
          6195.496570428765,
          6196.29370124041,
          6197.222255712699,
          6198.281649096964,
          6199.471213297719,
          6200.7902026264555,
          6202.2377983212555,
          6203.81311280846,
          6205.515194280898,
          6207.34303004124,
          6209.295550589663,
          6211.371632920388,
          6213.570103543234,
          6215.889741242083,
          6218.329280680532,
          6220.887414219835,
          6223.562795204768,
          6226.3540395858545,
          6229.259728938161,
          6232.278412188643,
          6235.40860792459,
          6238.64880652576,
          6241.997471514453,
          6245.453042049608,
          6249.013934597698,
          6252.678544255592,
          6256.445246838296,
          6260.312400256909,
          6264.278346269975,
          6268.341411851589,
          6272.499910621017,
          6276.752144352331,
          6281.096404308611,
          6285.530972668478,
          6290.054123735039,
          6294.664125140139,
          6299.359239325474,
          6304.137724341461,
          6308.997835554784,
          6313.937826138111,
          6318.955948694893,
          6324.05045602347,
          6329.219602234384,
          6334.461643789534,
          6339.774840430467
         ]
        },
        {
         "hoverinfo": "none",
         "legendgroup": "Backward",
         "marker": {
          "color": [
           0.31815370489620515,
           0.31775948019653494,
           0.31736454618098325,
           0.31696890256311566,
           0.31657254907286864,
           0.31617548545823326,
           0.31577771148631906,
           0.31537922694211706,
           0.3149800316299539,
           0.3145801253727247,
           0.3141795080127807,
           0.3137781794124747,
           0.31337613945268344,
           0.31297338803621766,
           0.3125699250854147,
           0.3121657505428351,
           0.3117608643723352,
           0.31135526655916107,
           0.31094895710965176,
           0.31054193605247743,
           0.3101342034373099,
           0.30972575933713853,
           0.3093166038471068,
           0.30890673708543837,
           0.30849615919318424,
           0.3080848703351136,
           0.30767287070001426,
           0.30726016050003596,
           0.30684673997261924,
           0.30643260937898553,
           0.3060177690061903,
           0.3056022191657577,
           0.3051859601957805,
           0.3047689924590835,
           0.30435131634574186,
           0.303932932271933,
           0.3035138406809197,
           0.30309404204279683,
           0.30267353685566006,
           0.3022523256453313,
           0.3018304089652739,
           0.3014077873986071,
           0.30098446155628555,
           0.3005604320791945,
           0.3001356996370797,
           0.29971026492975816,
           0.29928412868794074,
           0.2988572916726033,
           0.29842975467535093
          ],
          "coloraxis": "coloraxis",
          "symbol": "triangle-down"
         },
         "mode": "markers",
         "name": "Backward",
         "showlegend": false,
         "type": "scatter",
         "x": [
          81.63265306122449,
          163.26530612244898,
          244.89795918367346,
          326.53061224489795,
          408.1632653061224,
          489.7959183673469,
          571.4285714285714,
          653.0612244897959,
          734.6938775510204,
          816.3265306122448,
          897.9591836734694,
          979.5918367346939,
          1061.2244897959183,
          1142.857142857143,
          1224.4897959183672,
          1306.1224489795918,
          1387.7551020408164,
          1469.3877551020407,
          1551.020408163265,
          1632.6530612244896,
          1714.2857142857144,
          1795.9183673469388,
          1877.5510204081631,
          1959.1836734693877,
          2040.8163265306123,
          2122.4489795918366,
          2204.081632653061,
          2285.714285714286,
          2367.3469387755104,
          2448.9795918367345,
          2530.612244897959,
          2612.2448979591836,
          2693.877551020408,
          2775.5102040816328,
          2857.142857142857,
          2938.7755102040815,
          3020.408163265306,
          3102.04081632653,
          3183.6734693877547,
          3265.3061224489793,
          3346.9387755102043,
          3428.571428571429,
          3510.204081632653,
          3591.8367346938776,
          3673.469387755102,
          3755.1020408163263,
          3836.734693877551,
          3918.3673469387754,
          4000.0
         ],
         "y": [
          833.0137168593044,
          832.774984084913,
          832.5357106432713,
          832.2958947707631,
          832.0555346980425,
          831.8146286496752,
          831.5731748442176,
          831.331171494358,
          831.0886168067763,
          830.8455089822224,
          830.6018462153817,
          830.357626695051,
          830.1128486041122,
          829.8675101193076,
          829.6216094116214,
          829.3751446459058,
          829.1281139811803,
          828.8805155704257,
          828.6323475607633,
          828.3836080932047,
          828.1342953029985,
          827.8844073193492,
          827.633942265548,
          827.382898259018,
          827.1312734111382,
          826.8790658275157,
          826.6262736077571,
          826.3728948455902,
          826.1189276288918,
          825.8643700396079,
          825.6092201538941,
          825.3534760419716,
          825.0971357682407,
          824.840197391256,
          824.5826589638133,
          824.3245185327838,
          824.06577413936,
          823.8064238188949,
          823.5464656009655,
          823.2858975094344,
          823.024717562437,
          822.7629237723509,
          822.5005141458406,
          822.2374866839903,
          821.9738393821281,
          821.7095702299698,
          821.4446772116022,
          821.1791583055932,
          820.913011484838
         ]
        },
        {
         "hoverinfo": "none",
         "legendgroup": "Backward",
         "marker": {
          "color": [
           1.6811331632199873,
           1.6833922022023784,
           1.6856339836484402,
           1.6878581558080434,
           1.6900643656970822,
           1.6922522590386466,
           1.6944214805755797,
           1.6965716740362713,
           1.6987024823577321,
           1.7008135478407127,
           1.7029045121544275,
           1.704975016626289,
           1.7070247023208074,
           1.709053210178168,
           1.7110601811337935,
           1.7130452563828662,
           1.715008077455746,
           1.7169482863406056,
           1.718865525749182,
           1.7207594392581393,
           1.7226296713415916,
           1.7244758677664338,
           1.726297675607395,
           1.728094743459239,
           1.7298667216447503,
           1.7316132623873224,
           1.733334019952001,
           1.7350286508963377,
           1.7366968141915757,
           1.738338171460489,
           1.7399523871563891,
           1.7415391287333137,
           1.7430980668511191,
           1.7446288755724169,
           1.7461312325428804,
           1.747604819187714,
           1.7490493209188227,
           1.7504644273245014,
           1.7518498323262277,
           1.7532052344130813,
           1.7545303368283014,
           1.75582484773815,
           1.7570884804384168,
           1.758320953525036,
           1.7595219910995326,
           1.7606913229538574,
           1.7618286847124325,
           1.762933818082518,
           1.7640064709530414,
           1.76504639760522
          ],
          "coloraxis": "coloraxis",
          "symbol": "triangle-down"
         },
         "mode": "markers",
         "name": "Backward",
         "showlegend": false,
         "type": "scatter",
         "x": [
          0.0,
          81.63265306122449,
          163.26530612244898,
          244.89795918367346,
          326.53061224489795,
          408.1632653061224,
          489.7959183673469,
          571.4285714285714,
          653.0612244897959,
          734.6938775510204,
          816.3265306122448,
          897.9591836734694,
          979.5918367346939,
          1061.2244897959183,
          1142.857142857143,
          1224.4897959183672,
          1306.1224489795918,
          1387.7551020408164,
          1469.3877551020407,
          1551.020408163265,
          1632.6530612244896,
          1714.2857142857144,
          1795.9183673469388,
          1877.5510204081631,
          1959.1836734693877,
          2040.8163265306123,
          2122.4489795918366,
          2204.081632653061,
          2285.714285714286,
          2367.3469387755104,
          2448.9795918367345,
          2530.612244897959,
          2612.2448979591836,
          2693.877551020408,
          2775.5102040816328,
          2857.142857142857,
          2938.7755102040815,
          3020.408163265306,
          3102.04081632653,
          3183.6734693877547,
          3265.3061224489793,
          3346.9387755102043,
          3428.571428571429,
          3510.204081632653,
          3591.8367346938776,
          3673.469387755102,
          3755.1020408163263,
          3836.734693877551,
          3918.3673469387754,
          4000.0
         ],
         "y": [
          2792.431719427371,
          2787.0671653612753,
          2781.6909621138702,
          2776.3032469344544,
          2770.9041599162406,
          2765.493844056235,
          2760.0724452260133,
          2754.640112139546,
          2749.1969963758766,
          2743.743252368606,
          2738.2790373607,
          2732.804511442125,
          2727.3198374559433,
          2721.8251810902293,
          2716.3207107304534,
          2710.8065975451914,
          2705.2830153933846,
          2699.750140828842,
          2694.208153052653,
          2688.657233913352,
          2683.097567843912,
          2677.5293418243973,
          2671.9527453779265,
          2666.367970492869,
          2660.7752116158977,
          2655.174665577312,
          2649.5665315744095,
          2643.9510111017403,
          2638.3283079117095,
          2632.69862796797,
          2627.0621793772693,
          2621.4191723481836,
          2615.7698191283303,
          2610.1143339452055,
          2604.4529329446677,
          2598.7858341342726,
          2593.1132573023656,
          2587.4354239693675,
          2581.752557321922,
          2576.064882118486,
          2570.3726246456017,
          2564.67601263288,
          2558.975275174979,
          2553.270642675441,
          2547.5623467417226,
          2541.850620128083,
          2536.135696655186,
          2530.417811124613,
          2524.69719922797,
          2518.9740974983047
         ]
        },
        {
         "hoverinfo": "none",
         "legendgroup": "Backward",
         "marker": {
          "color": [
           5.488406171446842,
           5.463788712165242,
           5.438831312266443,
           5.41353223760899,
           5.387889724083206,
           5.361901974656854,
           5.3355671566194145,
           5.308883398638965,
           5.281848789460435,
           5.254461376096515,
           5.226719163115056,
           5.198620113164209,
           5.170162147711277,
           5.141343149482087,
           5.112160966509366,
           5.082613417435537,
           5.052698299671595,
           5.022413398647466,
           4.9917565008583065,
           4.960725410067466,
           4.92931796694426,
           4.897532073356526,
           4.8653657215937125,
           4.832817028825429,
           4.799884279767479,
           4.766565975391614,
           4.732860891268434,
           4.698768145153007,
           4.664287275828401,
           4.629418335021169,
           4.594161991240823,
           4.55851965112407,
           4.52249359595529,
           4.486087135047076,
           4.449304780206801,
           4.412152437141456,
           4.374637618220621,
           4.336769672730303,
           4.298560035911672,
           4.260022490622105,
           4.221173440308276,
           4.182032184980597,
           4.14262119106804,
           4.102966347375545,
           4.063097187138971,
           4.023047068476202,
           3.9828532872447537,
           3.9425571086839493,
           3.9022036967543277,
           3.861841922531686
          ],
          "coloraxis": "coloraxis",
          "symbol": "triangle-down"
         },
         "mode": "markers",
         "name": "Backward",
         "showlegend": false,
         "type": "scatter",
         "x": [
          0.0,
          81.63265306122449,
          163.26530612244898,
          244.89795918367346,
          326.53061224489795,
          408.1632653061224,
          489.7959183673469,
          571.4285714285714,
          653.0612244897959,
          734.6938775510204,
          816.3265306122448,
          897.9591836734694,
          979.5918367346939,
          1061.2244897959183,
          1142.857142857143,
          1224.4897959183672,
          1306.1224489795918,
          1387.7551020408164,
          1469.3877551020407,
          1551.020408163265,
          1632.6530612244896,
          1714.2857142857144,
          1795.9183673469388,
          1877.5510204081631,
          1959.1836734693877,
          2040.8163265306123,
          2122.4489795918366,
          2204.081632653061,
          2285.714285714286,
          2367.3469387755104,
          2448.9795918367345,
          2530.612244897959,
          2612.2448979591836,
          2693.877551020408,
          2775.5102040816328,
          2857.142857142857,
          2938.7755102040815,
          3020.408163265306,
          3102.04081632653,
          3183.6734693877547,
          3265.3061224489793,
          3346.9387755102043,
          3428.571428571429,
          3510.204081632653,
          3591.8367346938776,
          3673.469387755102,
          3755.1020408163263,
          3836.734693877551,
          3918.3673469387754,
          4000.0
         ],
         "y": [
          6193.496184028974,
          6193.494459120281,
          6193.625390997706,
          6193.888652345326,
          6194.283760509347,
          6194.810065578577,
          6195.4667363499975,
          6196.2527467818445,
          6197.166858747975,
          6198.207605131783,
          6199.373269888794,
          6200.661866518782,
          6202.071115004585,
          6203.598415100132,
          6205.240818520454,
          6206.994996705285,
          6208.857206421805,
          6210.823251507906,
          6212.888441504248,
          6215.047544666233,
          6217.294738160175,
          6219.623552234843,
          6222.026810022318,
          6224.4965613163695,
          6227.024010466349,
          6229.59943863329,
          6232.212118998718,
          6234.850226565431,
          6237.500740513618,
          6240.149341010081,
          6242.78030065976,
          6245.376370568192,
          6247.918663375516,
          6250.386535050318,
          6252.757466458491,
          6255.0069504509165,
          6257.108386488376,
          6259.032989976031,
          6260.749719931134,
          6262.225237712035,
          6263.42390021875,
          6264.307801314684,
          6264.83687267971,
          6264.9690522812,
          6264.6605372779895,
          6263.866126228837,
          6262.539662752752,
          6260.634582185377,
          6258.104561445477,
          6254.904265005066
         ]
        },
        {
         "hoverinfo": "none",
         "line": {
          "color": "blue",
          "dash": "dashdot"
         },
         "mode": "lines",
         "name": "1x speed",
         "type": "scatter",
         "x": [
          0.0,
          81.63265306122449,
          163.26530612244898,
          244.89795918367346,
          326.53061224489795,
          408.1632653061224,
          489.7959183673469,
          571.4285714285714,
          653.0612244897959,
          734.6938775510204,
          816.3265306122448,
          897.9591836734694,
          979.5918367346939,
          1061.2244897959183,
          1142.857142857143,
          1224.4897959183672,
          1306.1224489795918,
          1387.7551020408164,
          1469.3877551020407,
          1551.020408163265,
          1632.6530612244896,
          1714.2857142857144,
          1795.9183673469388,
          1877.5510204081631,
          1959.1836734693877,
          2040.8163265306123,
          2122.4489795918366,
          2204.081632653061,
          2285.714285714286,
          2367.3469387755104,
          2448.9795918367345,
          2530.612244897959,
          2612.2448979591836,
          2693.877551020408,
          2775.5102040816328,
          2857.142857142857,
          2938.7755102040815,
          3020.408163265306,
          3102.04081632653,
          3183.6734693877547,
          3265.3061224489793,
          3346.9387755102043,
          3428.571428571429,
          3510.204081632653,
          3591.8367346938776,
          3673.469387755102,
          3755.1020408163263,
          3836.734693877551,
          3918.3673469387754,
          4000.0
         ],
         "y": [
          0.0,
          81.63265306122449,
          163.26530612244898,
          244.89795918367346,
          326.53061224489795,
          408.1632653061224,
          489.7959183673469,
          571.4285714285714,
          653.0612244897959,
          734.6938775510204,
          816.3265306122448,
          897.9591836734694,
          979.5918367346939,
          1061.2244897959183,
          1142.857142857143,
          1224.4897959183672,
          1306.1224489795918,
          1387.7551020408164,
          1469.3877551020407,
          1551.020408163265,
          1632.6530612244896,
          1714.2857142857144,
          1795.9183673469388,
          1877.5510204081631,
          1959.1836734693877,
          2040.8163265306123,
          2122.4489795918366,
          2204.081632653061,
          2285.714285714286,
          2367.3469387755104,
          2448.9795918367345,
          2530.612244897959,
          2612.2448979591836,
          2693.877551020408,
          2775.5102040816328,
          2857.142857142857,
          2938.7755102040815,
          3020.408163265306,
          3102.04081632653,
          3183.6734693877547,
          3265.3061224489793,
          3346.9387755102043,
          3428.571428571429,
          3510.204081632653,
          3591.8367346938776,
          3673.469387755102,
          3755.1020408163263,
          3836.734693877551,
          3918.3673469387754,
          4000.0
         ]
        },
        {
         "hoverinfo": "none",
         "legendgroup": "Forward",
         "marker": {
          "color": "black",
          "symbol": "triangle-up"
         },
         "mode": "markers",
         "name": "Forward",
         "type": "scatter",
         "x": [
          0
         ],
         "y": [
          0
         ]
        },
        {
         "hoverinfo": "none",
         "legendgroup": "Mixed",
         "marker": {
          "color": "black",
          "symbol": "circle"
         },
         "mode": "markers",
         "name": "Mixed",
         "type": "scatter",
         "x": [
          0
         ],
         "y": [
          0
         ]
        },
        {
         "hoverinfo": "none",
         "legendgroup": "Backward",
         "marker": {
          "color": "black",
          "symbol": "triangle-down"
         },
         "mode": "markers",
         "name": "Backward",
         "type": "scatter",
         "x": [
          0
         ],
         "y": [
          0
         ]
        }
       ],
       "layout": {
        "coloraxis": {
         "cmax": 1.0,
         "cmin": 0.0,
         "colorbar": {
          "title": {
           "side": "right",
           "text": "<b>Log Dec</b>"
          }
         },
         "colorscale": [
          [
           0.0,
           "rgb(103,0,31)"
          ],
          [
           0.1,
           "rgb(178,24,43)"
          ],
          [
           0.2,
           "rgb(214,96,77)"
          ],
          [
           0.3,
           "rgb(244,165,130)"
          ],
          [
           0.4,
           "rgb(253,219,199)"
          ],
          [
           0.5,
           "rgb(247,247,247)"
          ],
          [
           0.6,
           "rgb(209,229,240)"
          ],
          [
           0.7,
           "rgb(146,197,222)"
          ],
          [
           0.8,
           "rgb(67,147,195)"
          ],
          [
           0.9,
           "rgb(33,102,172)"
          ],
          [
           1.0,
           "rgb(5,48,97)"
          ]
         ]
        },
        "legend": {
         "itemsizing": "constant",
         "orientation": "h",
         "x": 0.5,
         "xanchor": "center",
         "y": -0.3,
         "yanchor": "bottom"
        },
        "template": {
         "data": {
          "bar": [
           {
            "error_x": {
             "color": "#2a3f5f"
            },
            "error_y": {
             "color": "#2a3f5f"
            },
            "marker": {
             "line": {
              "color": "white",
              "width": 0.5
             }
            },
            "type": "bar"
           }
          ],
          "barpolar": [
           {
            "marker": {
             "line": {
              "color": "white",
              "width": 0.5
             }
            },
            "type": "barpolar"
           }
          ],
          "carpet": [
           {
            "aaxis": {
             "endlinecolor": "#2a3f5f",
             "gridcolor": "#C8D4E3",
             "linecolor": "#C8D4E3",
             "minorgridcolor": "#C8D4E3",
             "startlinecolor": "#2a3f5f"
            },
            "baxis": {
             "endlinecolor": "#2a3f5f",
             "gridcolor": "#C8D4E3",
             "linecolor": "#C8D4E3",
             "minorgridcolor": "#C8D4E3",
             "startlinecolor": "#2a3f5f"
            },
            "type": "carpet"
           }
          ],
          "choropleth": [
           {
            "colorbar": {
             "outlinewidth": 0,
             "ticks": ""
            },
            "type": "choropleth"
           }
          ],
          "contour": [
           {
            "colorbar": {
             "outlinewidth": 0,
             "ticks": ""
            },
            "colorscale": [
             [
              0.0,
              "#0d0887"
             ],
             [
              0.1111111111111111,
              "#46039f"
             ],
             [
              0.2222222222222222,
              "#7201a8"
             ],
             [
              0.3333333333333333,
              "#9c179e"
             ],
             [
              0.4444444444444444,
              "#bd3786"
             ],
             [
              0.5555555555555556,
              "#d8576b"
             ],
             [
              0.6666666666666666,
              "#ed7953"
             ],
             [
              0.7777777777777778,
              "#fb9f3a"
             ],
             [
              0.8888888888888888,
              "#fdca26"
             ],
             [
              1.0,
              "#f0f921"
             ]
            ],
            "type": "contour"
           }
          ],
          "contourcarpet": [
           {
            "colorbar": {
             "outlinewidth": 0,
             "ticks": ""
            },
            "type": "contourcarpet"
           }
          ],
          "heatmap": [
           {
            "colorbar": {
             "outlinewidth": 0,
             "ticks": ""
            },
            "colorscale": [
             [
              0.0,
              "#0d0887"
             ],
             [
              0.1111111111111111,
              "#46039f"
             ],
             [
              0.2222222222222222,
              "#7201a8"
             ],
             [
              0.3333333333333333,
              "#9c179e"
             ],
             [
              0.4444444444444444,
              "#bd3786"
             ],
             [
              0.5555555555555556,
              "#d8576b"
             ],
             [
              0.6666666666666666,
              "#ed7953"
             ],
             [
              0.7777777777777778,
              "#fb9f3a"
             ],
             [
              0.8888888888888888,
              "#fdca26"
             ],
             [
              1.0,
              "#f0f921"
             ]
            ],
            "type": "heatmap"
           }
          ],
          "heatmapgl": [
           {
            "colorbar": {
             "outlinewidth": 0,
             "ticks": ""
            },
            "colorscale": [
             [
              0.0,
              "#0d0887"
             ],
             [
              0.1111111111111111,
              "#46039f"
             ],
             [
              0.2222222222222222,
              "#7201a8"
             ],
             [
              0.3333333333333333,
              "#9c179e"
             ],
             [
              0.4444444444444444,
              "#bd3786"
             ],
             [
              0.5555555555555556,
              "#d8576b"
             ],
             [
              0.6666666666666666,
              "#ed7953"
             ],
             [
              0.7777777777777778,
              "#fb9f3a"
             ],
             [
              0.8888888888888888,
              "#fdca26"
             ],
             [
              1.0,
              "#f0f921"
             ]
            ],
            "type": "heatmapgl"
           }
          ],
          "histogram": [
           {
            "marker": {
             "colorbar": {
              "outlinewidth": 0,
              "ticks": ""
             }
            },
            "type": "histogram"
           }
          ],
          "histogram2d": [
           {
            "colorbar": {
             "outlinewidth": 0,
             "ticks": ""
            },
            "colorscale": [
             [
              0.0,
              "#0d0887"
             ],
             [
              0.1111111111111111,
              "#46039f"
             ],
             [
              0.2222222222222222,
              "#7201a8"
             ],
             [
              0.3333333333333333,
              "#9c179e"
             ],
             [
              0.4444444444444444,
              "#bd3786"
             ],
             [
              0.5555555555555556,
              "#d8576b"
             ],
             [
              0.6666666666666666,
              "#ed7953"
             ],
             [
              0.7777777777777778,
              "#fb9f3a"
             ],
             [
              0.8888888888888888,
              "#fdca26"
             ],
             [
              1.0,
              "#f0f921"
             ]
            ],
            "type": "histogram2d"
           }
          ],
          "histogram2dcontour": [
           {
            "colorbar": {
             "outlinewidth": 0,
             "ticks": ""
            },
            "colorscale": [
             [
              0.0,
              "#0d0887"
             ],
             [
              0.1111111111111111,
              "#46039f"
             ],
             [
              0.2222222222222222,
              "#7201a8"
             ],
             [
              0.3333333333333333,
              "#9c179e"
             ],
             [
              0.4444444444444444,
              "#bd3786"
             ],
             [
              0.5555555555555556,
              "#d8576b"
             ],
             [
              0.6666666666666666,
              "#ed7953"
             ],
             [
              0.7777777777777778,
              "#fb9f3a"
             ],
             [
              0.8888888888888888,
              "#fdca26"
             ],
             [
              1.0,
              "#f0f921"
             ]
            ],
            "type": "histogram2dcontour"
           }
          ],
          "mesh3d": [
           {
            "colorbar": {
             "outlinewidth": 0,
             "ticks": ""
            },
            "type": "mesh3d"
           }
          ],
          "parcoords": [
           {
            "line": {
             "colorbar": {
              "outlinewidth": 0,
              "ticks": ""
             }
            },
            "type": "parcoords"
           }
          ],
          "pie": [
           {
            "automargin": true,
            "type": "pie"
           }
          ],
          "scatter": [
           {
            "marker": {
             "colorbar": {
              "outlinewidth": 0,
              "ticks": ""
             }
            },
            "type": "scatter"
           }
          ],
          "scatter3d": [
           {
            "line": {
             "colorbar": {
              "outlinewidth": 0,
              "ticks": ""
             }
            },
            "marker": {
             "colorbar": {
              "outlinewidth": 0,
              "ticks": ""
             },
             "size": 4
            },
            "type": "scatter3d"
           }
          ],
          "scattercarpet": [
           {
            "marker": {
             "colorbar": {
              "outlinewidth": 0,
              "ticks": ""
             }
            },
            "type": "scattercarpet"
           }
          ],
          "scattergeo": [
           {
            "marker": {
             "colorbar": {
              "outlinewidth": 0,
              "ticks": ""
             }
            },
            "type": "scattergeo"
           }
          ],
          "scattergl": [
           {
            "marker": {
             "colorbar": {
              "outlinewidth": 0,
              "ticks": ""
             }
            },
            "type": "scattergl"
           }
          ],
          "scattermapbox": [
           {
            "marker": {
             "colorbar": {
              "outlinewidth": 0,
              "ticks": ""
             }
            },
            "type": "scattermapbox"
           }
          ],
          "scatterpolar": [
           {
            "marker": {
             "colorbar": {
              "outlinewidth": 0,
              "ticks": ""
             }
            },
            "type": "scatterpolar"
           }
          ],
          "scatterpolargl": [
           {
            "marker": {
             "colorbar": {
              "outlinewidth": 0,
              "ticks": ""
             }
            },
            "type": "scatterpolargl"
           }
          ],
          "scatterternary": [
           {
            "marker": {
             "colorbar": {
              "outlinewidth": 0,
              "ticks": ""
             }
            },
            "type": "scatterternary"
           }
          ],
          "surface": [
           {
            "colorbar": {
             "outlinewidth": 0,
             "ticks": ""
            },
            "colorscale": [
             [
              0.0,
              "#0d0887"
             ],
             [
              0.1111111111111111,
              "#46039f"
             ],
             [
              0.2222222222222222,
              "#7201a8"
             ],
             [
              0.3333333333333333,
              "#9c179e"
             ],
             [
              0.4444444444444444,
              "#bd3786"
             ],
             [
              0.5555555555555556,
              "#d8576b"
             ],
             [
              0.6666666666666666,
              "#ed7953"
             ],
             [
              0.7777777777777778,
              "#fb9f3a"
             ],
             [
              0.8888888888888888,
              "#fdca26"
             ],
             [
              1.0,
              "#f0f921"
             ]
            ],
            "type": "surface"
           }
          ],
          "table": [
           {
            "cells": {
             "fill": {
              "color": "#EBF0F8"
             },
             "line": {
              "color": "white"
             }
            },
            "header": {
             "fill": {
              "color": "#C8D4E3"
             },
             "line": {
              "color": "white"
             }
            },
            "type": "table"
           }
          ]
         },
         "layout": {
          "annotationdefaults": {
           "arrowcolor": "#2a3f5f",
           "arrowhead": 0,
           "arrowwidth": 1
          },
          "coloraxis": {
           "colorbar": {
            "outlinewidth": 0,
            "ticks": ""
           }
          },
          "colorscale": {
           "diverging": [
            [
             0,
             "#8e0152"
            ],
            [
             0.1,
             "#c51b7d"
            ],
            [
             0.2,
             "#de77ae"
            ],
            [
             0.3,
             "#f1b6da"
            ],
            [
             0.4,
             "#fde0ef"
            ],
            [
             0.5,
             "#f7f7f7"
            ],
            [
             0.6,
             "#e6f5d0"
            ],
            [
             0.7,
             "#b8e186"
            ],
            [
             0.8,
             "#7fbc41"
            ],
            [
             0.9,
             "#4d9221"
            ],
            [
             1,
             "#276419"
            ]
           ],
           "sequential": [
            [
             0.0,
             "#0d0887"
            ],
            [
             0.1111111111111111,
             "#46039f"
            ],
            [
             0.2222222222222222,
             "#7201a8"
            ],
            [
             0.3333333333333333,
             "#9c179e"
            ],
            [
             0.4444444444444444,
             "#bd3786"
            ],
            [
             0.5555555555555556,
             "#d8576b"
            ],
            [
             0.6666666666666666,
             "#ed7953"
            ],
            [
             0.7777777777777778,
             "#fb9f3a"
            ],
            [
             0.8888888888888888,
             "#fdca26"
            ],
            [
             1.0,
             "#f0f921"
            ]
           ],
           "sequentialminus": [
            [
             0.0,
             "#0d0887"
            ],
            [
             0.1111111111111111,
             "#46039f"
            ],
            [
             0.2222222222222222,
             "#7201a8"
            ],
            [
             0.3333333333333333,
             "#9c179e"
            ],
            [
             0.4444444444444444,
             "#bd3786"
            ],
            [
             0.5555555555555556,
             "#d8576b"
            ],
            [
             0.6666666666666666,
             "#ed7953"
            ],
            [
             0.7777777777777778,
             "#fb9f3a"
            ],
            [
             0.8888888888888888,
             "#fdca26"
            ],
            [
             1.0,
             "#f0f921"
            ]
           ]
          },
          "colorway": [
           "#1f77b4",
           "#ff7f0e",
           "#2ca02c",
           "#d62728",
           "#9467bd",
           "#8c564b",
           "#e377c2",
           "#7f7f7f",
           "#bcbd22",
           "#17becf"
          ],
          "font": {
           "color": "#2a3f5f"
          },
          "geo": {
           "bgcolor": "white",
           "lakecolor": "white",
           "landcolor": "white",
           "showlakes": true,
           "showland": true,
           "subunitcolor": "#C8D4E3"
          },
          "hoverlabel": {
           "align": "left"
          },
          "hovermode": "closest",
          "mapbox": {
           "style": "light"
          },
          "paper_bgcolor": "white",
          "plot_bgcolor": "white",
          "polar": {
           "angularaxis": {
            "gridcolor": "#EBF0F8",
            "linecolor": "#EBF0F8",
            "ticks": ""
           },
           "bgcolor": "white",
           "radialaxis": {
            "gridcolor": "#EBF0F8",
            "linecolor": "#EBF0F8",
            "ticks": ""
           }
          },
          "scene": {
           "camera": {
            "center": {
             "x": 0,
             "y": 0,
             "z": 0
            },
            "eye": {
             "x": 2.0,
             "y": 2.0,
             "z": 2.0
            },
            "up": {
             "x": 0,
             "y": 0,
             "z": 1
            }
           },
           "xaxis": {
            "backgroundcolor": "white",
            "gridcolor": "#DFE8F3",
            "gridwidth": 2,
            "linecolor": "#EBF0F8",
            "showbackground": true,
            "showspikes": false,
            "ticks": "",
            "zerolinecolor": "#EBF0F8"
           },
           "yaxis": {
            "backgroundcolor": "white",
            "gridcolor": "#DFE8F3",
            "gridwidth": 2,
            "linecolor": "#EBF0F8",
            "showbackground": true,
            "showspikes": false,
            "ticks": "",
            "zerolinecolor": "#EBF0F8"
           },
           "zaxis": {
            "backgroundcolor": "white",
            "gridcolor": "#DFE8F3",
            "gridwidth": 2,
            "linecolor": "#EBF0F8",
            "showbackground": true,
            "showspikes": false,
            "ticks": "",
            "zerolinecolor": "#EBF0F8"
           }
          },
          "shapedefaults": {
           "line": {
            "color": "#2a3f5f"
           }
          },
          "ternary": {
           "aaxis": {
            "gridcolor": "#DFE8F3",
            "linecolor": "#A2B1C6",
            "ticks": ""
           },
           "baxis": {
            "gridcolor": "#DFE8F3",
            "linecolor": "#A2B1C6",
            "ticks": ""
           },
           "bgcolor": "white",
           "caxis": {
            "gridcolor": "#DFE8F3",
            "linecolor": "#A2B1C6",
            "ticks": ""
           }
          },
          "title": {
           "x": 0.05
          },
          "xaxis": {
           "automargin": true,
           "gridcolor": "#EBF0F8",
           "linecolor": "black",
           "linewidth": 2.0,
           "mirror": true,
           "showline": true,
           "ticks": "",
           "title": {
            "standoff": 15
           },
           "zeroline": false,
           "zerolinecolor": "#EBF0F8",
           "zerolinewidth": 2
          },
          "yaxis": {
           "automargin": true,
           "gridcolor": "#EBF0F8",
           "linecolor": "black",
           "linewidth": 2.0,
           "mirror": true,
           "showline": true,
           "ticks": "",
           "title": {
            "standoff": 15
           },
           "zeroline": false,
           "zerolinecolor": "#EBF0F8",
           "zerolinewidth": 2
          }
         }
        },
        "xaxis": {
         "exponentformat": "none",
         "range": [
          0.0,
          4000.0
         ],
         "title": {
          "text": "Frequency (rpm)"
         }
        },
        "yaxis": {
         "range": [
          0,
          6973.752324473514
         ],
         "title": {
          "text": "Natural Frequencies (rpm)"
         }
        }
       }
      }
     },
     "metadata": {},
     "output_type": "display_data"
    }
   ],
   "source": [
    "# The input units must be according to your unit standard system\n",
    "campbell = rotor595c.run_campbell(np.linspace(0, 4000 * np.pi / 30, 50))\n",
    "# Plotting frequency in RPM\n",
    "campbell.plot(frequency_units=\"rpm\")"
   ]
  },
  {
   "cell_type": "markdown",
   "metadata": {},
   "source": [
    "## References\n",
    "\n",
    "```{bibliography}\n",
    ":filter: docname in docnames\n",
    "```"
   ]
  }
 ],
 "metadata": {
  "kernelspec": {
   "display_name": "Python 3 (ipykernel)",
   "language": "python",
   "name": "python3"
  },
  "language_info": {
   "codemirror_mode": {
    "name": "ipython",
    "version": 3
   },
   "file_extension": ".py",
   "mimetype": "text/x-python",
   "name": "python",
   "nbconvert_exporter": "python",
   "pygments_lexer": "ipython3",
   "version": "3.10.9"
  }
 },
 "nbformat": 4,
 "nbformat_minor": 2
}
