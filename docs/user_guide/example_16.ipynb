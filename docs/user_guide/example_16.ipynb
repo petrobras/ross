{
 "cells": [
  {
   "cell_type": "markdown",
   "id": "571dae8b",
   "metadata": {},
   "source": [
    "# Example 16 - Look at different models of the disk-shaft interface\n",
    "\n",
    "In this example, we use the rotor seen in Example 5.8.3 from {cite}`friswell2010dynamics` \n",
    "and we make the same comparison looking at 4 different ways of modelling the shaft-disk interface:\n",
    "\n",
    "```\n",
    "Consider a hollow shaft carrying a central disk and mounted on\n",
    "short, rigid bearings at each end. The shaft is 1.2 m long and it has an outside\n",
    "diameter of 80 mm and an inside diameter of 30 mm. The central disk has a diameter\n",
    "of 400 mm and a thickness of 80 mm. The shaft and disk have a modulus\n",
    "of elasticity of 200GN/m2 and a density of 7,800kg/m3. Poisson’s ratio is 0.27.\n",
    "This is the same as the rotor used in Example 5.8.1. The rotor, consisting of\n",
    "the shaft and central disk, spins at 3,000 rev/min. Investigate the effect of the\n",
    "shaft-disk interface models on the natural frequencies of the machine.\n",
    "```"
   ]
  },
  {
   "cell_type": "code",
   "execution_count": 1,
   "id": "4deb33e7",
   "metadata": {
    "execution": {
     "iopub.execute_input": "2023-05-04T01:02:22.764464Z",
     "iopub.status.busy": "2023-05-04T01:02:22.764194Z",
     "iopub.status.idle": "2023-05-04T01:02:23.706258Z",
     "shell.execute_reply": "2023-05-04T01:02:23.705788Z"
    }
   },
   "outputs": [],
   "source": [
    "import ross as rs"
   ]
  },
  {
   "cell_type": "code",
   "execution_count": 2,
   "id": "828a7b3c",
   "metadata": {
    "execution": {
     "iopub.execute_input": "2023-05-04T01:02:23.708553Z",
     "iopub.status.busy": "2023-05-04T01:02:23.708386Z",
     "iopub.status.idle": "2023-05-04T01:02:23.711118Z",
     "shell.execute_reply": "2023-05-04T01:02:23.710757Z"
    }
   },
   "outputs": [],
   "source": [
    "Q_ = rs.Q_\n",
    "steel = rs.Material(\"steel\", rho=7800, E=200e9, Poisson=0.27)"
   ]
  },
  {
   "cell_type": "code",
   "execution_count": 3,
   "id": "aa93bab1",
   "metadata": {
    "execution": {
     "iopub.execute_input": "2023-05-04T01:02:23.712860Z",
     "iopub.status.busy": "2023-05-04T01:02:23.712751Z",
     "iopub.status.idle": "2023-05-04T01:02:23.714953Z",
     "shell.execute_reply": "2023-05-04T01:02:23.714489Z"
    }
   },
   "outputs": [],
   "source": [
    "L = 0.2\n",
    "idl = 0.03\n",
    "odl = 0.08"
   ]
  },
  {
   "cell_type": "code",
   "execution_count": 4,
   "id": "ba13d2d9",
   "metadata": {
    "execution": {
     "iopub.execute_input": "2023-05-04T01:02:23.717226Z",
     "iopub.status.busy": "2023-05-04T01:02:23.717058Z",
     "iopub.status.idle": "2023-05-04T01:02:23.895342Z",
     "shell.execute_reply": "2023-05-04T01:02:23.894741Z"
    }
   },
   "outputs": [
    {
     "data": {
      "application/vnd.plotly.v1+json": {
       "config": {
        "plotlyServerURL": "https://plot.ly"
       },
       "data": [
        {
         "hoverinfo": "none",
         "line": {
          "color": "black",
          "dash": "dashdot",
          "width": 3.0
         },
         "mode": "lines",
         "opacity": 0.7,
         "showlegend": false,
         "type": "scatter",
         "x": [
          -0.24,
          1.44
         ],
         "y": [
          0,
          0
         ]
        },
        {
         "hoverinfo": "none",
         "marker": {
          "color": "#ffcc99",
          "line": {
           "color": "black",
           "width": 1.0
          },
          "opacity": 0.7,
          "size": 20
         },
         "mode": "markers+text",
         "showlegend": false,
         "text": [
          "0",
          "1",
          "2",
          "3",
          "4",
          "5",
          "6"
         ],
         "type": "scatter",
         "x": [
          0.0,
          0.2,
          0.4,
          0.6000000000000001,
          0.8,
          1.0,
          1.2
         ],
         "y": [
          0.0,
          0.0,
          0.0,
          0.0,
          0.0,
          0.0,
          0.0
         ]
        },
        {
         "customdata": [
          [
           0,
           0.08,
           0.03,
           0.08,
           0.03,
           0.2,
           "steel"
          ],
          [
           0,
           0.08,
           0.03,
           0.08,
           0.03,
           0.2,
           "steel"
          ],
          [
           0,
           0.08,
           0.03,
           0.08,
           0.03,
           0.2,
           "steel"
          ],
          [
           0,
           0.08,
           0.03,
           0.08,
           0.03,
           0.2,
           "steel"
          ],
          [
           0,
           0.08,
           0.03,
           0.08,
           0.03,
           0.2,
           "steel"
          ],
          [
           0,
           0.08,
           0.03,
           0.08,
           0.03,
           0.2,
           "steel"
          ],
          [
           0,
           0.08,
           0.03,
           0.08,
           0.03,
           0.2,
           "steel"
          ],
          [
           0,
           0.08,
           0.03,
           0.08,
           0.03,
           0.2,
           "steel"
          ],
          [
           0,
           0.08,
           0.03,
           0.08,
           0.03,
           0.2,
           "steel"
          ],
          [
           0,
           0.08,
           0.03,
           0.08,
           0.03,
           0.2,
           "steel"
          ]
         ],
         "fill": "toself",
         "fillcolor": "#525252",
         "hoverinfo": "text",
         "hoverlabel": {
          "bgcolor": "#525252"
         },
         "hoveron": "points+fills",
         "hovertemplate": "Element Number: 0<br>Left Outer Diameter: 0.08 m<br>Left Inner Diameter: 0.03 m<br>Right Outer Diameter: 0.08 m<br>Right Inner Diameter: 0.03 m<br>Element Length: 0.2 m<br>Material: steel<br>",
         "legendgroup": "Shaft",
         "line": {
          "color": "black",
          "width": 1.5
         },
         "mode": "lines",
         "name": "ShaftElement 0",
         "opacity": 0.5,
         "showlegend": false,
         "text": "Element Number: 0<br>Left Outer Diameter: 0.08 m<br>Left Inner Diameter: 0.03 m<br>Right Outer Diameter: 0.08 m<br>Right Inner Diameter: 0.03 m<br>Element Length: 0.2 m<br>Material: steel<br>",
         "type": "scatter",
         "x": [
          0.0,
          0.0,
          0.2,
          0.2,
          0.0,
          0.0,
          0.0,
          0.2,
          0.2,
          0.0
         ],
         "y": [
          0.015,
          0.04,
          0.04,
          0.015,
          0.015,
          -0.015,
          -0.04,
          -0.04,
          -0.015,
          -0.015
         ]
        },
        {
         "customdata": [
          [
           1,
           0.08,
           0.03,
           0.08,
           0.03,
           0.2,
           "steel"
          ],
          [
           1,
           0.08,
           0.03,
           0.08,
           0.03,
           0.2,
           "steel"
          ],
          [
           1,
           0.08,
           0.03,
           0.08,
           0.03,
           0.2,
           "steel"
          ],
          [
           1,
           0.08,
           0.03,
           0.08,
           0.03,
           0.2,
           "steel"
          ],
          [
           1,
           0.08,
           0.03,
           0.08,
           0.03,
           0.2,
           "steel"
          ],
          [
           1,
           0.08,
           0.03,
           0.08,
           0.03,
           0.2,
           "steel"
          ],
          [
           1,
           0.08,
           0.03,
           0.08,
           0.03,
           0.2,
           "steel"
          ],
          [
           1,
           0.08,
           0.03,
           0.08,
           0.03,
           0.2,
           "steel"
          ],
          [
           1,
           0.08,
           0.03,
           0.08,
           0.03,
           0.2,
           "steel"
          ],
          [
           1,
           0.08,
           0.03,
           0.08,
           0.03,
           0.2,
           "steel"
          ]
         ],
         "fill": "toself",
         "fillcolor": "#525252",
         "hoverinfo": "text",
         "hoverlabel": {
          "bgcolor": "#525252"
         },
         "hoveron": "points+fills",
         "hovertemplate": "Element Number: 1<br>Left Outer Diameter: 0.08 m<br>Left Inner Diameter: 0.03 m<br>Right Outer Diameter: 0.08 m<br>Right Inner Diameter: 0.03 m<br>Element Length: 0.2 m<br>Material: steel<br>",
         "legendgroup": "Shaft",
         "line": {
          "color": "black",
          "width": 1.5
         },
         "mode": "lines",
         "name": "ShaftElement 1",
         "opacity": 0.5,
         "showlegend": false,
         "text": "Element Number: 1<br>Left Outer Diameter: 0.08 m<br>Left Inner Diameter: 0.03 m<br>Right Outer Diameter: 0.08 m<br>Right Inner Diameter: 0.03 m<br>Element Length: 0.2 m<br>Material: steel<br>",
         "type": "scatter",
         "x": [
          0.2,
          0.2,
          0.4,
          0.4,
          0.2,
          0.2,
          0.2,
          0.4,
          0.4,
          0.2
         ],
         "y": [
          0.015,
          0.04,
          0.04,
          0.015,
          0.015,
          -0.015,
          -0.04,
          -0.04,
          -0.015,
          -0.015
         ]
        },
        {
         "customdata": [
          [
           2,
           0.08,
           0.03,
           0.08,
           0.03,
           0.2,
           "steel"
          ],
          [
           2,
           0.08,
           0.03,
           0.08,
           0.03,
           0.2,
           "steel"
          ],
          [
           2,
           0.08,
           0.03,
           0.08,
           0.03,
           0.2,
           "steel"
          ],
          [
           2,
           0.08,
           0.03,
           0.08,
           0.03,
           0.2,
           "steel"
          ],
          [
           2,
           0.08,
           0.03,
           0.08,
           0.03,
           0.2,
           "steel"
          ],
          [
           2,
           0.08,
           0.03,
           0.08,
           0.03,
           0.2,
           "steel"
          ],
          [
           2,
           0.08,
           0.03,
           0.08,
           0.03,
           0.2,
           "steel"
          ],
          [
           2,
           0.08,
           0.03,
           0.08,
           0.03,
           0.2,
           "steel"
          ],
          [
           2,
           0.08,
           0.03,
           0.08,
           0.03,
           0.2,
           "steel"
          ],
          [
           2,
           0.08,
           0.03,
           0.08,
           0.03,
           0.2,
           "steel"
          ]
         ],
         "fill": "toself",
         "fillcolor": "#525252",
         "hoverinfo": "text",
         "hoverlabel": {
          "bgcolor": "#525252"
         },
         "hoveron": "points+fills",
         "hovertemplate": "Element Number: 2<br>Left Outer Diameter: 0.08 m<br>Left Inner Diameter: 0.03 m<br>Right Outer Diameter: 0.08 m<br>Right Inner Diameter: 0.03 m<br>Element Length: 0.2 m<br>Material: steel<br>",
         "legendgroup": "Shaft",
         "line": {
          "color": "black",
          "width": 1.5
         },
         "mode": "lines",
         "name": "ShaftElement 2",
         "opacity": 0.5,
         "showlegend": false,
         "text": "Element Number: 2<br>Left Outer Diameter: 0.08 m<br>Left Inner Diameter: 0.03 m<br>Right Outer Diameter: 0.08 m<br>Right Inner Diameter: 0.03 m<br>Element Length: 0.2 m<br>Material: steel<br>",
         "type": "scatter",
         "x": [
          0.4,
          0.4,
          0.6000000000000001,
          0.6000000000000001,
          0.4,
          0.4,
          0.4,
          0.6000000000000001,
          0.6000000000000001,
          0.4
         ],
         "y": [
          0.015,
          0.04,
          0.04,
          0.015,
          0.015,
          -0.015,
          -0.04,
          -0.04,
          -0.015,
          -0.015
         ]
        },
        {
         "customdata": [
          [
           3,
           0.08,
           0.03,
           0.08,
           0.03,
           0.2,
           "steel"
          ],
          [
           3,
           0.08,
           0.03,
           0.08,
           0.03,
           0.2,
           "steel"
          ],
          [
           3,
           0.08,
           0.03,
           0.08,
           0.03,
           0.2,
           "steel"
          ],
          [
           3,
           0.08,
           0.03,
           0.08,
           0.03,
           0.2,
           "steel"
          ],
          [
           3,
           0.08,
           0.03,
           0.08,
           0.03,
           0.2,
           "steel"
          ],
          [
           3,
           0.08,
           0.03,
           0.08,
           0.03,
           0.2,
           "steel"
          ],
          [
           3,
           0.08,
           0.03,
           0.08,
           0.03,
           0.2,
           "steel"
          ],
          [
           3,
           0.08,
           0.03,
           0.08,
           0.03,
           0.2,
           "steel"
          ],
          [
           3,
           0.08,
           0.03,
           0.08,
           0.03,
           0.2,
           "steel"
          ],
          [
           3,
           0.08,
           0.03,
           0.08,
           0.03,
           0.2,
           "steel"
          ]
         ],
         "fill": "toself",
         "fillcolor": "#525252",
         "hoverinfo": "text",
         "hoverlabel": {
          "bgcolor": "#525252"
         },
         "hoveron": "points+fills",
         "hovertemplate": "Element Number: 3<br>Left Outer Diameter: 0.08 m<br>Left Inner Diameter: 0.03 m<br>Right Outer Diameter: 0.08 m<br>Right Inner Diameter: 0.03 m<br>Element Length: 0.2 m<br>Material: steel<br>",
         "legendgroup": "Shaft",
         "line": {
          "color": "black",
          "width": 1.5
         },
         "mode": "lines",
         "name": "ShaftElement 3",
         "opacity": 0.5,
         "showlegend": false,
         "text": "Element Number: 3<br>Left Outer Diameter: 0.08 m<br>Left Inner Diameter: 0.03 m<br>Right Outer Diameter: 0.08 m<br>Right Inner Diameter: 0.03 m<br>Element Length: 0.2 m<br>Material: steel<br>",
         "type": "scatter",
         "x": [
          0.6000000000000001,
          0.6000000000000001,
          0.8,
          0.8,
          0.6000000000000001,
          0.6000000000000001,
          0.6000000000000001,
          0.8,
          0.8,
          0.6000000000000001
         ],
         "y": [
          0.015,
          0.04,
          0.04,
          0.015,
          0.015,
          -0.015,
          -0.04,
          -0.04,
          -0.015,
          -0.015
         ]
        },
        {
         "customdata": [
          [
           4,
           0.08,
           0.03,
           0.08,
           0.03,
           0.2,
           "steel"
          ],
          [
           4,
           0.08,
           0.03,
           0.08,
           0.03,
           0.2,
           "steel"
          ],
          [
           4,
           0.08,
           0.03,
           0.08,
           0.03,
           0.2,
           "steel"
          ],
          [
           4,
           0.08,
           0.03,
           0.08,
           0.03,
           0.2,
           "steel"
          ],
          [
           4,
           0.08,
           0.03,
           0.08,
           0.03,
           0.2,
           "steel"
          ],
          [
           4,
           0.08,
           0.03,
           0.08,
           0.03,
           0.2,
           "steel"
          ],
          [
           4,
           0.08,
           0.03,
           0.08,
           0.03,
           0.2,
           "steel"
          ],
          [
           4,
           0.08,
           0.03,
           0.08,
           0.03,
           0.2,
           "steel"
          ],
          [
           4,
           0.08,
           0.03,
           0.08,
           0.03,
           0.2,
           "steel"
          ],
          [
           4,
           0.08,
           0.03,
           0.08,
           0.03,
           0.2,
           "steel"
          ]
         ],
         "fill": "toself",
         "fillcolor": "#525252",
         "hoverinfo": "text",
         "hoverlabel": {
          "bgcolor": "#525252"
         },
         "hoveron": "points+fills",
         "hovertemplate": "Element Number: 4<br>Left Outer Diameter: 0.08 m<br>Left Inner Diameter: 0.03 m<br>Right Outer Diameter: 0.08 m<br>Right Inner Diameter: 0.03 m<br>Element Length: 0.2 m<br>Material: steel<br>",
         "legendgroup": "Shaft",
         "line": {
          "color": "black",
          "width": 1.5
         },
         "mode": "lines",
         "name": "ShaftElement 4",
         "opacity": 0.5,
         "showlegend": false,
         "text": "Element Number: 4<br>Left Outer Diameter: 0.08 m<br>Left Inner Diameter: 0.03 m<br>Right Outer Diameter: 0.08 m<br>Right Inner Diameter: 0.03 m<br>Element Length: 0.2 m<br>Material: steel<br>",
         "type": "scatter",
         "x": [
          0.8,
          0.8,
          1.0,
          1.0,
          0.8,
          0.8,
          0.8,
          1.0,
          1.0,
          0.8
         ],
         "y": [
          0.015,
          0.04,
          0.04,
          0.015,
          0.015,
          -0.015,
          -0.04,
          -0.04,
          -0.015,
          -0.015
         ]
        },
        {
         "customdata": [
          [
           5,
           0.08,
           0.03,
           0.08,
           0.03,
           0.2,
           "steel"
          ],
          [
           5,
           0.08,
           0.03,
           0.08,
           0.03,
           0.2,
           "steel"
          ],
          [
           5,
           0.08,
           0.03,
           0.08,
           0.03,
           0.2,
           "steel"
          ],
          [
           5,
           0.08,
           0.03,
           0.08,
           0.03,
           0.2,
           "steel"
          ],
          [
           5,
           0.08,
           0.03,
           0.08,
           0.03,
           0.2,
           "steel"
          ],
          [
           5,
           0.08,
           0.03,
           0.08,
           0.03,
           0.2,
           "steel"
          ],
          [
           5,
           0.08,
           0.03,
           0.08,
           0.03,
           0.2,
           "steel"
          ],
          [
           5,
           0.08,
           0.03,
           0.08,
           0.03,
           0.2,
           "steel"
          ],
          [
           5,
           0.08,
           0.03,
           0.08,
           0.03,
           0.2,
           "steel"
          ],
          [
           5,
           0.08,
           0.03,
           0.08,
           0.03,
           0.2,
           "steel"
          ]
         ],
         "fill": "toself",
         "fillcolor": "#525252",
         "hoverinfo": "text",
         "hoverlabel": {
          "bgcolor": "#525252"
         },
         "hoveron": "points+fills",
         "hovertemplate": "Element Number: 5<br>Left Outer Diameter: 0.08 m<br>Left Inner Diameter: 0.03 m<br>Right Outer Diameter: 0.08 m<br>Right Inner Diameter: 0.03 m<br>Element Length: 0.2 m<br>Material: steel<br>",
         "legendgroup": "Shaft",
         "line": {
          "color": "black",
          "width": 1.5
         },
         "mode": "lines",
         "name": "ShaftElement 5",
         "opacity": 0.5,
         "showlegend": false,
         "text": "Element Number: 5<br>Left Outer Diameter: 0.08 m<br>Left Inner Diameter: 0.03 m<br>Right Outer Diameter: 0.08 m<br>Right Inner Diameter: 0.03 m<br>Element Length: 0.2 m<br>Material: steel<br>",
         "type": "scatter",
         "x": [
          1.0,
          1.0,
          1.2,
          1.2,
          1.0,
          1.0,
          1.0,
          1.2,
          1.2,
          1.0
         ],
         "y": [
          0.015,
          0.04,
          0.04,
          0.015,
          0.015,
          -0.015,
          -0.04,
          -0.04,
          -0.015,
          -0.015
         ]
        },
        {
         "customdata": [
          [
           3,
           1.5657737997877499,
           0.8230349460422788,
           75.27758652825722
          ],
          [
           3,
           1.5657737997877499,
           0.8230349460422788,
           75.27758652825722
          ],
          [
           3,
           1.5657737997877499,
           0.8230349460422788,
           75.27758652825722
          ],
          [
           3,
           1.5657737997877499,
           0.8230349460422788,
           75.27758652825722
          ],
          [
           3,
           1.5657737997877499,
           0.8230349460422788,
           75.27758652825722
          ],
          [
           3,
           1.5657737997877499,
           0.8230349460422788,
           75.27758652825722
          ],
          [
           3,
           1.5657737997877499,
           0.8230349460422788,
           75.27758652825722
          ],
          [
           3,
           1.5657737997877499,
           0.8230349460422788,
           75.27758652825722
          ],
          [
           3,
           1.5657737997877499,
           0.8230349460422788,
           75.27758652825722
          ]
         ],
         "fill": "toself",
         "fillcolor": "Firebrick",
         "hoverinfo": "text",
         "hoverlabel": {
          "bgcolor": "Firebrick"
         },
         "hoveron": "points+fills",
         "hovertemplate": "Disk Node: 3<br>Polar Inertia: 1.566e+00<br>Diametral Inertia: 8.230e-01<br>Disk mass: 75.278<br>",
         "legendgroup": "disks",
         "line": {
          "color": "Firebrick",
          "width": 2.0
         },
         "mode": "lines",
         "name": "Disk 0",
         "opacity": 0.8,
         "showlegend": false,
         "text": "Disk Node: 3<br>Polar Inertia: 1.566e+00<br>Diametral Inertia: 8.230e-01<br>Disk mass: 75.278<br>",
         "type": "scatter",
         "x": [
          0.6000000000000001,
          0.6032000000000001,
          0.5968000000000001,
          0.6000000000000001,
          null,
          0.6000000000000001,
          0.6032000000000001,
          0.5968000000000001,
          0.6000000000000001
         ],
         "y": [
          0.04,
          0.2,
          0.2,
          0.04,
          null,
          -0.04,
          -0.2,
          -0.2,
          -0.04
         ]
        },
        {
         "hoverinfo": "none",
         "legendgroup": "bearings",
         "line": {
          "color": "#355d7a",
          "width": 1
         },
         "mode": "lines",
         "name": "Bearing 0",
         "showlegend": false,
         "type": "scatter",
         "x": [
          0.0,
          0.0,
          -0.011428571428571427,
          0.011428571428571427
         ],
         "y": [
          0.04,
          0.06,
          0.06,
          0.06
         ]
        },
        {
         "hoverinfo": "none",
         "legendgroup": "bearings",
         "line": {
          "color": "#355d7a",
          "width": 1
         },
         "mode": "lines",
         "name": "Bearing 0",
         "showlegend": false,
         "type": "scatter",
         "x": [
          0.0,
          0.0,
          -0.011428571428571427,
          0.011428571428571427
         ],
         "y": [
          -0.04,
          -0.06,
          -0.06,
          -0.06
         ]
        },
        {
         "hoverinfo": "none",
         "legendgroup": "bearings",
         "line": {
          "color": "#355d7a",
          "width": 1
         },
         "mode": "lines",
         "name": "Bearing 0",
         "showlegend": false,
         "type": "scatter",
         "x": [
          0.0,
          0.0,
          -0.011428571428571427,
          0.011428571428571427
         ],
         "y": [
          0.12,
          0.09999999999999999,
          0.09999999999999999,
          0.09999999999999999
         ]
        },
        {
         "hoverinfo": "none",
         "legendgroup": "bearings",
         "line": {
          "color": "#355d7a",
          "width": 1
         },
         "mode": "lines",
         "name": "Bearing 0",
         "showlegend": false,
         "type": "scatter",
         "x": [
          0.0,
          0.0,
          -0.011428571428571427,
          0.011428571428571427
         ],
         "y": [
          -0.12,
          -0.09999999999999999,
          -0.09999999999999999,
          -0.09999999999999999
         ]
        },
        {
         "hoverinfo": "none",
         "legendgroup": "bearings",
         "line": {
          "color": "#355d7a",
          "width": 1
         },
         "mode": "lines",
         "name": "Bearing 0",
         "showlegend": false,
         "type": "scatter",
         "x": [
          -0.01714285714285714,
          0.01714285714285714
         ],
         "y": [
          0.12,
          0.12
         ]
        },
        {
         "hoverinfo": "none",
         "legendgroup": "bearings",
         "line": {
          "color": "#355d7a",
          "width": 1
         },
         "mode": "lines",
         "name": "Bearing 0",
         "showlegend": false,
         "type": "scatter",
         "x": [
          -0.01714285714285714,
          0.01714285714285714
         ],
         "y": [
          -0.12,
          -0.12
         ]
        },
        {
         "hoverinfo": "none",
         "legendgroup": "bearings",
         "line": {
          "color": "#355d7a",
          "width": 1
         },
         "mode": "lines",
         "name": "Bearing 0",
         "showlegend": false,
         "type": "scatter",
         "x": [
          -0.01714285714285714,
          -0.010285714285714283
         ],
         "y": [
          0.12,
          0.132
         ]
        },
        {
         "hoverinfo": "none",
         "legendgroup": "bearings",
         "line": {
          "color": "#355d7a",
          "width": 1
         },
         "mode": "lines",
         "name": "Bearing 0",
         "showlegend": false,
         "type": "scatter",
         "x": [
          -0.01714285714285714,
          -0.010285714285714283
         ],
         "y": [
          -0.12,
          -0.132
         ]
        },
        {
         "hoverinfo": "none",
         "legendgroup": "bearings",
         "line": {
          "color": "#355d7a",
          "width": 1
         },
         "mode": "lines",
         "name": "Bearing 0",
         "showlegend": false,
         "type": "scatter",
         "x": [
          -0.010285714285714283,
          -0.0034285714285714284
         ],
         "y": [
          0.12,
          0.132
         ]
        },
        {
         "hoverinfo": "none",
         "legendgroup": "bearings",
         "line": {
          "color": "#355d7a",
          "width": 1
         },
         "mode": "lines",
         "name": "Bearing 0",
         "showlegend": false,
         "type": "scatter",
         "x": [
          -0.010285714285714283,
          -0.0034285714285714284
         ],
         "y": [
          -0.12,
          -0.132
         ]
        },
        {
         "hoverinfo": "none",
         "legendgroup": "bearings",
         "line": {
          "color": "#355d7a",
          "width": 1
         },
         "mode": "lines",
         "name": "Bearing 0",
         "showlegend": false,
         "type": "scatter",
         "x": [
          -0.0034285714285714284,
          0.0034285714285714267
         ],
         "y": [
          0.12,
          0.132
         ]
        },
        {
         "hoverinfo": "none",
         "legendgroup": "bearings",
         "line": {
          "color": "#355d7a",
          "width": 1
         },
         "mode": "lines",
         "name": "Bearing 0",
         "showlegend": false,
         "type": "scatter",
         "x": [
          -0.0034285714285714284,
          0.0034285714285714267
         ],
         "y": [
          -0.12,
          -0.132
         ]
        },
        {
         "hoverinfo": "none",
         "legendgroup": "bearings",
         "line": {
          "color": "#355d7a",
          "width": 1
         },
         "mode": "lines",
         "name": "Bearing 0",
         "showlegend": false,
         "type": "scatter",
         "x": [
          0.0034285714285714267,
          0.010285714285714283
         ],
         "y": [
          0.12,
          0.132
         ]
        },
        {
         "hoverinfo": "none",
         "legendgroup": "bearings",
         "line": {
          "color": "#355d7a",
          "width": 1
         },
         "mode": "lines",
         "name": "Bearing 0",
         "showlegend": false,
         "type": "scatter",
         "x": [
          0.0034285714285714267,
          0.010285714285714283
         ],
         "y": [
          -0.12,
          -0.132
         ]
        },
        {
         "hoverinfo": "none",
         "legendgroup": "bearings",
         "line": {
          "color": "#355d7a",
          "width": 1
         },
         "mode": "lines",
         "name": "Bearing 0",
         "showlegend": false,
         "type": "scatter",
         "x": [
          0.010285714285714283,
          0.01714285714285714
         ],
         "y": [
          0.12,
          0.132
         ]
        },
        {
         "hoverinfo": "none",
         "legendgroup": "bearings",
         "line": {
          "color": "#355d7a",
          "width": 1
         },
         "mode": "lines",
         "name": "Bearing 0",
         "showlegend": false,
         "type": "scatter",
         "x": [
          0.010285714285714283,
          0.01714285714285714
         ],
         "y": [
          -0.12,
          -0.132
         ]
        },
        {
         "hoverinfo": "none",
         "legendgroup": "bearings",
         "line": {
          "color": "#355d7a",
          "width": 1
         },
         "mode": "lines",
         "name": "Bearing 0",
         "showlegend": false,
         "type": "scatter",
         "x": [
          0.01714285714285714,
          0.023999999999999994
         ],
         "y": [
          0.12,
          0.132
         ]
        },
        {
         "hoverinfo": "none",
         "legendgroup": "bearings",
         "line": {
          "color": "#355d7a",
          "width": 1
         },
         "mode": "lines",
         "name": "Bearing 0",
         "showlegend": false,
         "type": "scatter",
         "x": [
          0.01714285714285714,
          0.023999999999999994
         ],
         "y": [
          -0.12,
          -0.132
         ]
        },
        {
         "hoverinfo": "none",
         "legendgroup": "bearings",
         "line": {
          "color": "#355d7a",
          "width": 1
         },
         "mode": "lines",
         "name": "Bearing 0",
         "showlegend": false,
         "type": "scatter",
         "x": [
          -0.011428571428571427,
          -0.011428571428571427,
          -0.01714285714285714,
          -0.005714285714285713,
          -0.01714285714285714,
          -0.005714285714285713,
          -0.01714285714285714,
          -0.005714285714285713,
          -0.011428571428571427,
          -0.011428571428571427
         ],
         "y": [
          0.06,
          0.06571428571428571,
          0.06571428571428571,
          0.07142857142857142,
          0.07714285714285714,
          0.08285714285714285,
          0.08857142857142856,
          0.09428571428571428,
          0.09428571428571428,
          0.09999999999999999
         ]
        },
        {
         "hoverinfo": "none",
         "legendgroup": "bearings",
         "line": {
          "color": "#355d7a",
          "width": 1
         },
         "mode": "lines",
         "name": "Bearing 0",
         "showlegend": false,
         "type": "scatter",
         "x": [
          -0.011428571428571427,
          -0.011428571428571427,
          -0.01714285714285714,
          -0.005714285714285713,
          -0.01714285714285714,
          -0.005714285714285713,
          -0.01714285714285714,
          -0.005714285714285713,
          -0.011428571428571427,
          -0.011428571428571427
         ],
         "y": [
          -0.06,
          -0.06571428571428571,
          -0.06571428571428571,
          -0.07142857142857142,
          -0.07714285714285714,
          -0.08285714285714285,
          -0.08857142857142856,
          -0.09428571428571428,
          -0.09428571428571428,
          -0.09999999999999999
         ]
        },
        {
         "hoverinfo": "none",
         "legendgroup": "bearings",
         "line": {
          "color": "#355d7a",
          "width": 1
         },
         "mode": "lines",
         "name": "Bearing 0",
         "showlegend": false,
         "type": "scatter",
         "x": [
          0.011428571428571427,
          0.011428571428571427
         ],
         "y": [
          0.06,
          0.07142857142857142
         ]
        },
        {
         "hoverinfo": "none",
         "legendgroup": "bearings",
         "line": {
          "color": "#355d7a",
          "width": 1
         },
         "mode": "lines",
         "name": "Bearing 0",
         "showlegend": false,
         "type": "scatter",
         "x": [
          0.011428571428571427,
          0.011428571428571427
         ],
         "y": [
          -0.06,
          -0.07142857142857142
         ]
        },
        {
         "hoverinfo": "none",
         "legendgroup": "bearings",
         "line": {
          "color": "#355d7a",
          "width": 1
         },
         "mode": "lines",
         "name": "Bearing 0",
         "showlegend": false,
         "type": "scatter",
         "x": [
          0.0,
          0.0,
          0.022857142857142854,
          0.022857142857142854
         ],
         "y": [
          0.08857142857142856,
          0.07142857142857142,
          0.07142857142857142,
          0.08857142857142856
         ]
        },
        {
         "hoverinfo": "none",
         "legendgroup": "bearings",
         "line": {
          "color": "#355d7a",
          "width": 1
         },
         "mode": "lines",
         "name": "Bearing 0",
         "showlegend": false,
         "type": "scatter",
         "x": [
          0.0,
          0.0,
          0.022857142857142854,
          0.022857142857142854
         ],
         "y": [
          -0.08857142857142856,
          -0.07142857142857142,
          -0.07142857142857142,
          -0.08857142857142856
         ]
        },
        {
         "hoverinfo": "none",
         "legendgroup": "bearings",
         "line": {
          "color": "#355d7a",
          "width": 1
         },
         "mode": "lines",
         "name": "Bearing 0",
         "showlegend": false,
         "type": "scatter",
         "x": [
          0.0,
          0.022857142857142854,
          0.011428571428571427,
          0.011428571428571427
         ],
         "y": [
          0.08285714285714285,
          0.08285714285714285,
          0.08285714285714285,
          0.09999999999999999
         ]
        },
        {
         "hoverinfo": "none",
         "legendgroup": "bearings",
         "line": {
          "color": "#355d7a",
          "width": 1
         },
         "mode": "lines",
         "name": "Bearing 0",
         "showlegend": false,
         "type": "scatter",
         "x": [
          0.0,
          0.022857142857142854,
          0.011428571428571427,
          0.011428571428571427
         ],
         "y": [
          -0.08285714285714285,
          -0.08285714285714285,
          -0.08285714285714285,
          -0.09999999999999999
         ]
        },
        {
         "hoverinfo": "none",
         "legendgroup": "bearings",
         "line": {
          "color": "#355d7a",
          "width": 1
         },
         "mode": "lines",
         "name": "Bearing 1",
         "showlegend": false,
         "type": "scatter",
         "x": [
          1.2,
          1.2,
          1.1885714285714286,
          1.2114285714285713
         ],
         "y": [
          0.04,
          0.06,
          0.06,
          0.06
         ]
        },
        {
         "hoverinfo": "none",
         "legendgroup": "bearings",
         "line": {
          "color": "#355d7a",
          "width": 1
         },
         "mode": "lines",
         "name": "Bearing 1",
         "showlegend": false,
         "type": "scatter",
         "x": [
          1.2,
          1.2,
          1.1885714285714286,
          1.2114285714285713
         ],
         "y": [
          -0.04,
          -0.06,
          -0.06,
          -0.06
         ]
        },
        {
         "hoverinfo": "none",
         "legendgroup": "bearings",
         "line": {
          "color": "#355d7a",
          "width": 1
         },
         "mode": "lines",
         "name": "Bearing 1",
         "showlegend": false,
         "type": "scatter",
         "x": [
          1.2,
          1.2,
          1.1885714285714286,
          1.2114285714285713
         ],
         "y": [
          0.12,
          0.09999999999999999,
          0.09999999999999999,
          0.09999999999999999
         ]
        },
        {
         "hoverinfo": "none",
         "legendgroup": "bearings",
         "line": {
          "color": "#355d7a",
          "width": 1
         },
         "mode": "lines",
         "name": "Bearing 1",
         "showlegend": false,
         "type": "scatter",
         "x": [
          1.2,
          1.2,
          1.1885714285714286,
          1.2114285714285713
         ],
         "y": [
          -0.12,
          -0.09999999999999999,
          -0.09999999999999999,
          -0.09999999999999999
         ]
        },
        {
         "hoverinfo": "none",
         "legendgroup": "bearings",
         "line": {
          "color": "#355d7a",
          "width": 1
         },
         "mode": "lines",
         "name": "Bearing 1",
         "showlegend": false,
         "type": "scatter",
         "x": [
          1.1828571428571428,
          1.217142857142857
         ],
         "y": [
          0.12,
          0.12
         ]
        },
        {
         "hoverinfo": "none",
         "legendgroup": "bearings",
         "line": {
          "color": "#355d7a",
          "width": 1
         },
         "mode": "lines",
         "name": "Bearing 1",
         "showlegend": false,
         "type": "scatter",
         "x": [
          1.1828571428571428,
          1.217142857142857
         ],
         "y": [
          -0.12,
          -0.12
         ]
        },
        {
         "hoverinfo": "none",
         "legendgroup": "bearings",
         "line": {
          "color": "#355d7a",
          "width": 1
         },
         "mode": "lines",
         "name": "Bearing 1",
         "showlegend": false,
         "type": "scatter",
         "x": [
          1.1828571428571428,
          1.1897142857142857
         ],
         "y": [
          0.12,
          0.132
         ]
        },
        {
         "hoverinfo": "none",
         "legendgroup": "bearings",
         "line": {
          "color": "#355d7a",
          "width": 1
         },
         "mode": "lines",
         "name": "Bearing 1",
         "showlegend": false,
         "type": "scatter",
         "x": [
          1.1828571428571428,
          1.1897142857142857
         ],
         "y": [
          -0.12,
          -0.132
         ]
        },
        {
         "hoverinfo": "none",
         "legendgroup": "bearings",
         "line": {
          "color": "#355d7a",
          "width": 1
         },
         "mode": "lines",
         "name": "Bearing 1",
         "showlegend": false,
         "type": "scatter",
         "x": [
          1.1897142857142857,
          1.1965714285714286
         ],
         "y": [
          0.12,
          0.132
         ]
        },
        {
         "hoverinfo": "none",
         "legendgroup": "bearings",
         "line": {
          "color": "#355d7a",
          "width": 1
         },
         "mode": "lines",
         "name": "Bearing 1",
         "showlegend": false,
         "type": "scatter",
         "x": [
          1.1897142857142857,
          1.1965714285714286
         ],
         "y": [
          -0.12,
          -0.132
         ]
        },
        {
         "hoverinfo": "none",
         "legendgroup": "bearings",
         "line": {
          "color": "#355d7a",
          "width": 1
         },
         "mode": "lines",
         "name": "Bearing 1",
         "showlegend": false,
         "type": "scatter",
         "x": [
          1.1965714285714286,
          1.2034285714285713
         ],
         "y": [
          0.12,
          0.132
         ]
        },
        {
         "hoverinfo": "none",
         "legendgroup": "bearings",
         "line": {
          "color": "#355d7a",
          "width": 1
         },
         "mode": "lines",
         "name": "Bearing 1",
         "showlegend": false,
         "type": "scatter",
         "x": [
          1.1965714285714286,
          1.2034285714285713
         ],
         "y": [
          -0.12,
          -0.132
         ]
        },
        {
         "hoverinfo": "none",
         "legendgroup": "bearings",
         "line": {
          "color": "#355d7a",
          "width": 1
         },
         "mode": "lines",
         "name": "Bearing 1",
         "showlegend": false,
         "type": "scatter",
         "x": [
          1.2034285714285713,
          1.2102857142857142
         ],
         "y": [
          0.12,
          0.132
         ]
        },
        {
         "hoverinfo": "none",
         "legendgroup": "bearings",
         "line": {
          "color": "#355d7a",
          "width": 1
         },
         "mode": "lines",
         "name": "Bearing 1",
         "showlegend": false,
         "type": "scatter",
         "x": [
          1.2034285714285713,
          1.2102857142857142
         ],
         "y": [
          -0.12,
          -0.132
         ]
        },
        {
         "hoverinfo": "none",
         "legendgroup": "bearings",
         "line": {
          "color": "#355d7a",
          "width": 1
         },
         "mode": "lines",
         "name": "Bearing 1",
         "showlegend": false,
         "type": "scatter",
         "x": [
          1.2102857142857142,
          1.217142857142857
         ],
         "y": [
          0.12,
          0.132
         ]
        },
        {
         "hoverinfo": "none",
         "legendgroup": "bearings",
         "line": {
          "color": "#355d7a",
          "width": 1
         },
         "mode": "lines",
         "name": "Bearing 1",
         "showlegend": false,
         "type": "scatter",
         "x": [
          1.2102857142857142,
          1.217142857142857
         ],
         "y": [
          -0.12,
          -0.132
         ]
        },
        {
         "hoverinfo": "none",
         "legendgroup": "bearings",
         "line": {
          "color": "#355d7a",
          "width": 1
         },
         "mode": "lines",
         "name": "Bearing 1",
         "showlegend": false,
         "type": "scatter",
         "x": [
          1.217142857142857,
          1.224
         ],
         "y": [
          0.12,
          0.132
         ]
        },
        {
         "hoverinfo": "none",
         "legendgroup": "bearings",
         "line": {
          "color": "#355d7a",
          "width": 1
         },
         "mode": "lines",
         "name": "Bearing 1",
         "showlegend": false,
         "type": "scatter",
         "x": [
          1.217142857142857,
          1.224
         ],
         "y": [
          -0.12,
          -0.132
         ]
        },
        {
         "hoverinfo": "none",
         "legendgroup": "bearings",
         "line": {
          "color": "#355d7a",
          "width": 1
         },
         "mode": "lines",
         "name": "Bearing 1",
         "showlegend": false,
         "type": "scatter",
         "x": [
          1.1885714285714286,
          1.1885714285714286,
          1.1828571428571428,
          1.1942857142857144,
          1.1828571428571428,
          1.1942857142857144,
          1.1828571428571428,
          1.1942857142857144,
          1.1885714285714286,
          1.1885714285714286
         ],
         "y": [
          0.06,
          0.06571428571428571,
          0.06571428571428571,
          0.07142857142857142,
          0.07714285714285714,
          0.08285714285714285,
          0.08857142857142856,
          0.09428571428571428,
          0.09428571428571428,
          0.09999999999999999
         ]
        },
        {
         "hoverinfo": "none",
         "legendgroup": "bearings",
         "line": {
          "color": "#355d7a",
          "width": 1
         },
         "mode": "lines",
         "name": "Bearing 1",
         "showlegend": false,
         "type": "scatter",
         "x": [
          1.1885714285714286,
          1.1885714285714286,
          1.1828571428571428,
          1.1942857142857144,
          1.1828571428571428,
          1.1942857142857144,
          1.1828571428571428,
          1.1942857142857144,
          1.1885714285714286,
          1.1885714285714286
         ],
         "y": [
          -0.06,
          -0.06571428571428571,
          -0.06571428571428571,
          -0.07142857142857142,
          -0.07714285714285714,
          -0.08285714285714285,
          -0.08857142857142856,
          -0.09428571428571428,
          -0.09428571428571428,
          -0.09999999999999999
         ]
        },
        {
         "hoverinfo": "none",
         "legendgroup": "bearings",
         "line": {
          "color": "#355d7a",
          "width": 1
         },
         "mode": "lines",
         "name": "Bearing 1",
         "showlegend": false,
         "type": "scatter",
         "x": [
          1.2114285714285713,
          1.2114285714285713
         ],
         "y": [
          0.06,
          0.07142857142857142
         ]
        },
        {
         "hoverinfo": "none",
         "legendgroup": "bearings",
         "line": {
          "color": "#355d7a",
          "width": 1
         },
         "mode": "lines",
         "name": "Bearing 1",
         "showlegend": false,
         "type": "scatter",
         "x": [
          1.2114285714285713,
          1.2114285714285713
         ],
         "y": [
          -0.06,
          -0.07142857142857142
         ]
        },
        {
         "hoverinfo": "none",
         "legendgroup": "bearings",
         "line": {
          "color": "#355d7a",
          "width": 1
         },
         "mode": "lines",
         "name": "Bearing 1",
         "showlegend": false,
         "type": "scatter",
         "x": [
          1.2,
          1.2,
          1.2228571428571426,
          1.2228571428571426
         ],
         "y": [
          0.08857142857142856,
          0.07142857142857142,
          0.07142857142857142,
          0.08857142857142856
         ]
        },
        {
         "hoverinfo": "none",
         "legendgroup": "bearings",
         "line": {
          "color": "#355d7a",
          "width": 1
         },
         "mode": "lines",
         "name": "Bearing 1",
         "showlegend": false,
         "type": "scatter",
         "x": [
          1.2,
          1.2,
          1.2228571428571426,
          1.2228571428571426
         ],
         "y": [
          -0.08857142857142856,
          -0.07142857142857142,
          -0.07142857142857142,
          -0.08857142857142856
         ]
        },
        {
         "hoverinfo": "none",
         "legendgroup": "bearings",
         "line": {
          "color": "#355d7a",
          "width": 1
         },
         "mode": "lines",
         "name": "Bearing 1",
         "showlegend": false,
         "type": "scatter",
         "x": [
          1.2,
          1.2228571428571426,
          1.2114285714285713,
          1.2114285714285713
         ],
         "y": [
          0.08285714285714285,
          0.08285714285714285,
          0.08285714285714285,
          0.09999999999999999
         ]
        },
        {
         "hoverinfo": "none",
         "legendgroup": "bearings",
         "line": {
          "color": "#355d7a",
          "width": 1
         },
         "mode": "lines",
         "name": "Bearing 1",
         "showlegend": false,
         "type": "scatter",
         "x": [
          1.2,
          1.2228571428571426,
          1.2114285714285713,
          1.2114285714285713
         ],
         "y": [
          -0.08285714285714285,
          -0.08285714285714285,
          -0.08285714285714285,
          -0.09999999999999999
         ]
        }
       ],
       "layout": {
        "shapes": [
         {
          "fillcolor": "Firebrick",
          "line": {
           "color": "Firebrick"
          },
          "type": "circle",
          "x0": 0.5900000000000001,
          "x1": 0.6100000000000001,
          "xref": "x",
          "y0": 0.19,
          "y1": 0.21000000000000002,
          "yref": "y"
         },
         {
          "fillcolor": "Firebrick",
          "line": {
           "color": "Firebrick"
          },
          "type": "circle",
          "x0": 0.5900000000000001,
          "x1": 0.6100000000000001,
          "xref": "x",
          "y0": -0.21000000000000002,
          "y1": -0.19,
          "yref": "y"
         }
        ],
        "template": {
         "data": {
          "bar": [
           {
            "error_x": {
             "color": "#2a3f5f"
            },
            "error_y": {
             "color": "#2a3f5f"
            },
            "marker": {
             "line": {
              "color": "white",
              "width": 0.5
             }
            },
            "type": "bar"
           }
          ],
          "barpolar": [
           {
            "marker": {
             "line": {
              "color": "white",
              "width": 0.5
             }
            },
            "type": "barpolar"
           }
          ],
          "carpet": [
           {
            "aaxis": {
             "endlinecolor": "#2a3f5f",
             "gridcolor": "#C8D4E3",
             "linecolor": "#C8D4E3",
             "minorgridcolor": "#C8D4E3",
             "startlinecolor": "#2a3f5f"
            },
            "baxis": {
             "endlinecolor": "#2a3f5f",
             "gridcolor": "#C8D4E3",
             "linecolor": "#C8D4E3",
             "minorgridcolor": "#C8D4E3",
             "startlinecolor": "#2a3f5f"
            },
            "type": "carpet"
           }
          ],
          "choropleth": [
           {
            "colorbar": {
             "outlinewidth": 0,
             "ticks": ""
            },
            "type": "choropleth"
           }
          ],
          "contour": [
           {
            "colorbar": {
             "outlinewidth": 0,
             "ticks": ""
            },
            "colorscale": [
             [
              0.0,
              "#0d0887"
             ],
             [
              0.1111111111111111,
              "#46039f"
             ],
             [
              0.2222222222222222,
              "#7201a8"
             ],
             [
              0.3333333333333333,
              "#9c179e"
             ],
             [
              0.4444444444444444,
              "#bd3786"
             ],
             [
              0.5555555555555556,
              "#d8576b"
             ],
             [
              0.6666666666666666,
              "#ed7953"
             ],
             [
              0.7777777777777778,
              "#fb9f3a"
             ],
             [
              0.8888888888888888,
              "#fdca26"
             ],
             [
              1.0,
              "#f0f921"
             ]
            ],
            "type": "contour"
           }
          ],
          "contourcarpet": [
           {
            "colorbar": {
             "outlinewidth": 0,
             "ticks": ""
            },
            "type": "contourcarpet"
           }
          ],
          "heatmap": [
           {
            "colorbar": {
             "outlinewidth": 0,
             "ticks": ""
            },
            "colorscale": [
             [
              0.0,
              "#0d0887"
             ],
             [
              0.1111111111111111,
              "#46039f"
             ],
             [
              0.2222222222222222,
              "#7201a8"
             ],
             [
              0.3333333333333333,
              "#9c179e"
             ],
             [
              0.4444444444444444,
              "#bd3786"
             ],
             [
              0.5555555555555556,
              "#d8576b"
             ],
             [
              0.6666666666666666,
              "#ed7953"
             ],
             [
              0.7777777777777778,
              "#fb9f3a"
             ],
             [
              0.8888888888888888,
              "#fdca26"
             ],
             [
              1.0,
              "#f0f921"
             ]
            ],
            "type": "heatmap"
           }
          ],
          "heatmapgl": [
           {
            "colorbar": {
             "outlinewidth": 0,
             "ticks": ""
            },
            "colorscale": [
             [
              0.0,
              "#0d0887"
             ],
             [
              0.1111111111111111,
              "#46039f"
             ],
             [
              0.2222222222222222,
              "#7201a8"
             ],
             [
              0.3333333333333333,
              "#9c179e"
             ],
             [
              0.4444444444444444,
              "#bd3786"
             ],
             [
              0.5555555555555556,
              "#d8576b"
             ],
             [
              0.6666666666666666,
              "#ed7953"
             ],
             [
              0.7777777777777778,
              "#fb9f3a"
             ],
             [
              0.8888888888888888,
              "#fdca26"
             ],
             [
              1.0,
              "#f0f921"
             ]
            ],
            "type": "heatmapgl"
           }
          ],
          "histogram": [
           {
            "marker": {
             "colorbar": {
              "outlinewidth": 0,
              "ticks": ""
             }
            },
            "type": "histogram"
           }
          ],
          "histogram2d": [
           {
            "colorbar": {
             "outlinewidth": 0,
             "ticks": ""
            },
            "colorscale": [
             [
              0.0,
              "#0d0887"
             ],
             [
              0.1111111111111111,
              "#46039f"
             ],
             [
              0.2222222222222222,
              "#7201a8"
             ],
             [
              0.3333333333333333,
              "#9c179e"
             ],
             [
              0.4444444444444444,
              "#bd3786"
             ],
             [
              0.5555555555555556,
              "#d8576b"
             ],
             [
              0.6666666666666666,
              "#ed7953"
             ],
             [
              0.7777777777777778,
              "#fb9f3a"
             ],
             [
              0.8888888888888888,
              "#fdca26"
             ],
             [
              1.0,
              "#f0f921"
             ]
            ],
            "type": "histogram2d"
           }
          ],
          "histogram2dcontour": [
           {
            "colorbar": {
             "outlinewidth": 0,
             "ticks": ""
            },
            "colorscale": [
             [
              0.0,
              "#0d0887"
             ],
             [
              0.1111111111111111,
              "#46039f"
             ],
             [
              0.2222222222222222,
              "#7201a8"
             ],
             [
              0.3333333333333333,
              "#9c179e"
             ],
             [
              0.4444444444444444,
              "#bd3786"
             ],
             [
              0.5555555555555556,
              "#d8576b"
             ],
             [
              0.6666666666666666,
              "#ed7953"
             ],
             [
              0.7777777777777778,
              "#fb9f3a"
             ],
             [
              0.8888888888888888,
              "#fdca26"
             ],
             [
              1.0,
              "#f0f921"
             ]
            ],
            "type": "histogram2dcontour"
           }
          ],
          "mesh3d": [
           {
            "colorbar": {
             "outlinewidth": 0,
             "ticks": ""
            },
            "type": "mesh3d"
           }
          ],
          "parcoords": [
           {
            "line": {
             "colorbar": {
              "outlinewidth": 0,
              "ticks": ""
             }
            },
            "type": "parcoords"
           }
          ],
          "pie": [
           {
            "automargin": true,
            "type": "pie"
           }
          ],
          "scatter": [
           {
            "marker": {
             "colorbar": {
              "outlinewidth": 0,
              "ticks": ""
             }
            },
            "type": "scatter"
           }
          ],
          "scatter3d": [
           {
            "line": {
             "colorbar": {
              "outlinewidth": 0,
              "ticks": ""
             }
            },
            "marker": {
             "colorbar": {
              "outlinewidth": 0,
              "ticks": ""
             },
             "size": 4
            },
            "type": "scatter3d"
           }
          ],
          "scattercarpet": [
           {
            "marker": {
             "colorbar": {
              "outlinewidth": 0,
              "ticks": ""
             }
            },
            "type": "scattercarpet"
           }
          ],
          "scattergeo": [
           {
            "marker": {
             "colorbar": {
              "outlinewidth": 0,
              "ticks": ""
             }
            },
            "type": "scattergeo"
           }
          ],
          "scattergl": [
           {
            "marker": {
             "colorbar": {
              "outlinewidth": 0,
              "ticks": ""
             }
            },
            "type": "scattergl"
           }
          ],
          "scattermapbox": [
           {
            "marker": {
             "colorbar": {
              "outlinewidth": 0,
              "ticks": ""
             }
            },
            "type": "scattermapbox"
           }
          ],
          "scatterpolar": [
           {
            "marker": {
             "colorbar": {
              "outlinewidth": 0,
              "ticks": ""
             }
            },
            "type": "scatterpolar"
           }
          ],
          "scatterpolargl": [
           {
            "marker": {
             "colorbar": {
              "outlinewidth": 0,
              "ticks": ""
             }
            },
            "type": "scatterpolargl"
           }
          ],
          "scatterternary": [
           {
            "marker": {
             "colorbar": {
              "outlinewidth": 0,
              "ticks": ""
             }
            },
            "type": "scatterternary"
           }
          ],
          "surface": [
           {
            "colorbar": {
             "outlinewidth": 0,
             "ticks": ""
            },
            "colorscale": [
             [
              0.0,
              "#0d0887"
             ],
             [
              0.1111111111111111,
              "#46039f"
             ],
             [
              0.2222222222222222,
              "#7201a8"
             ],
             [
              0.3333333333333333,
              "#9c179e"
             ],
             [
              0.4444444444444444,
              "#bd3786"
             ],
             [
              0.5555555555555556,
              "#d8576b"
             ],
             [
              0.6666666666666666,
              "#ed7953"
             ],
             [
              0.7777777777777778,
              "#fb9f3a"
             ],
             [
              0.8888888888888888,
              "#fdca26"
             ],
             [
              1.0,
              "#f0f921"
             ]
            ],
            "type": "surface"
           }
          ],
          "table": [
           {
            "cells": {
             "fill": {
              "color": "#EBF0F8"
             },
             "line": {
              "color": "white"
             }
            },
            "header": {
             "fill": {
              "color": "#C8D4E3"
             },
             "line": {
              "color": "white"
             }
            },
            "type": "table"
           }
          ]
         },
         "layout": {
          "annotationdefaults": {
           "arrowcolor": "#2a3f5f",
           "arrowhead": 0,
           "arrowwidth": 1
          },
          "coloraxis": {
           "colorbar": {
            "outlinewidth": 0,
            "ticks": ""
           }
          },
          "colorscale": {
           "diverging": [
            [
             0,
             "#8e0152"
            ],
            [
             0.1,
             "#c51b7d"
            ],
            [
             0.2,
             "#de77ae"
            ],
            [
             0.3,
             "#f1b6da"
            ],
            [
             0.4,
             "#fde0ef"
            ],
            [
             0.5,
             "#f7f7f7"
            ],
            [
             0.6,
             "#e6f5d0"
            ],
            [
             0.7,
             "#b8e186"
            ],
            [
             0.8,
             "#7fbc41"
            ],
            [
             0.9,
             "#4d9221"
            ],
            [
             1,
             "#276419"
            ]
           ],
           "sequential": [
            [
             0.0,
             "#0d0887"
            ],
            [
             0.1111111111111111,
             "#46039f"
            ],
            [
             0.2222222222222222,
             "#7201a8"
            ],
            [
             0.3333333333333333,
             "#9c179e"
            ],
            [
             0.4444444444444444,
             "#bd3786"
            ],
            [
             0.5555555555555556,
             "#d8576b"
            ],
            [
             0.6666666666666666,
             "#ed7953"
            ],
            [
             0.7777777777777778,
             "#fb9f3a"
            ],
            [
             0.8888888888888888,
             "#fdca26"
            ],
            [
             1.0,
             "#f0f921"
            ]
           ],
           "sequentialminus": [
            [
             0.0,
             "#0d0887"
            ],
            [
             0.1111111111111111,
             "#46039f"
            ],
            [
             0.2222222222222222,
             "#7201a8"
            ],
            [
             0.3333333333333333,
             "#9c179e"
            ],
            [
             0.4444444444444444,
             "#bd3786"
            ],
            [
             0.5555555555555556,
             "#d8576b"
            ],
            [
             0.6666666666666666,
             "#ed7953"
            ],
            [
             0.7777777777777778,
             "#fb9f3a"
            ],
            [
             0.8888888888888888,
             "#fdca26"
            ],
            [
             1.0,
             "#f0f921"
            ]
           ]
          },
          "colorway": [
           "#1f77b4",
           "#ff7f0e",
           "#2ca02c",
           "#d62728",
           "#9467bd",
           "#8c564b",
           "#e377c2",
           "#7f7f7f",
           "#bcbd22",
           "#17becf"
          ],
          "font": {
           "color": "#2a3f5f"
          },
          "geo": {
           "bgcolor": "white",
           "lakecolor": "white",
           "landcolor": "white",
           "showlakes": true,
           "showland": true,
           "subunitcolor": "#C8D4E3"
          },
          "hoverlabel": {
           "align": "left"
          },
          "hovermode": "closest",
          "mapbox": {
           "style": "light"
          },
          "paper_bgcolor": "white",
          "plot_bgcolor": "white",
          "polar": {
           "angularaxis": {
            "gridcolor": "#EBF0F8",
            "linecolor": "#EBF0F8",
            "ticks": ""
           },
           "bgcolor": "white",
           "radialaxis": {
            "gridcolor": "#EBF0F8",
            "linecolor": "#EBF0F8",
            "ticks": ""
           }
          },
          "scene": {
           "camera": {
            "center": {
             "x": 0,
             "y": 0,
             "z": 0
            },
            "eye": {
             "x": 2.0,
             "y": 2.0,
             "z": 2.0
            },
            "up": {
             "x": 0,
             "y": 0,
             "z": 1
            }
           },
           "xaxis": {
            "backgroundcolor": "white",
            "gridcolor": "#DFE8F3",
            "gridwidth": 2,
            "linecolor": "#EBF0F8",
            "showbackground": true,
            "showspikes": false,
            "ticks": "",
            "zerolinecolor": "#EBF0F8"
           },
           "yaxis": {
            "backgroundcolor": "white",
            "gridcolor": "#DFE8F3",
            "gridwidth": 2,
            "linecolor": "#EBF0F8",
            "showbackground": true,
            "showspikes": false,
            "ticks": "",
            "zerolinecolor": "#EBF0F8"
           },
           "zaxis": {
            "backgroundcolor": "white",
            "gridcolor": "#DFE8F3",
            "gridwidth": 2,
            "linecolor": "#EBF0F8",
            "showbackground": true,
            "showspikes": false,
            "ticks": "",
            "zerolinecolor": "#EBF0F8"
           }
          },
          "shapedefaults": {
           "line": {
            "color": "#2a3f5f"
           }
          },
          "ternary": {
           "aaxis": {
            "gridcolor": "#DFE8F3",
            "linecolor": "#A2B1C6",
            "ticks": ""
           },
           "baxis": {
            "gridcolor": "#DFE8F3",
            "linecolor": "#A2B1C6",
            "ticks": ""
           },
           "bgcolor": "white",
           "caxis": {
            "gridcolor": "#DFE8F3",
            "linecolor": "#A2B1C6",
            "ticks": ""
           }
          },
          "title": {
           "x": 0.05
          },
          "xaxis": {
           "automargin": true,
           "gridcolor": "#EBF0F8",
           "linecolor": "black",
           "linewidth": 2.0,
           "mirror": true,
           "showline": true,
           "ticks": "",
           "title": {
            "standoff": 15
           },
           "zeroline": false,
           "zerolinecolor": "#EBF0F8",
           "zerolinewidth": 2
          },
          "yaxis": {
           "automargin": true,
           "gridcolor": "#EBF0F8",
           "linecolor": "black",
           "linewidth": 2.0,
           "mirror": true,
           "showline": true,
           "ticks": "",
           "title": {
            "standoff": 15
           },
           "zeroline": false,
           "zerolinecolor": "#EBF0F8",
           "zerolinewidth": 2
          }
         }
        },
        "title": {
         "text": "Rotor Model"
        },
        "xaxis": {
         "mirror": true,
         "range": [
          -0.12,
          1.32
         ],
         "showgrid": false,
         "title": {
          "text": "Axial location (m)"
         }
        },
        "yaxis": {
         "mirror": true,
         "range": [
          -0.36,
          0.36
         ],
         "showgrid": false,
         "title": {
          "text": "Shaft radius (m)"
         }
        }
       }
      }
     },
     "metadata": {},
     "output_type": "display_data"
    }
   ],
   "source": [
    "N = 6\n",
    "shaft = [rs.ShaftElement(L=L, idl=idl, odl=odl, material=steel) for i in range(N)]\n",
    "bearings = [\n",
    "    rs.BearingElement(n=0, kxx=1e20, cxx=0),\n",
    "    rs.BearingElement(n=len(shaft), kxx=1e20, cxx=0),\n",
    "]\n",
    "disks = [\n",
    "    rs.DiskElement.from_geometry(n=3, material=steel, width=0.08, o_d=0.4, i_d=0.08)\n",
    "]\n",
    "\n",
    "rotor1 = rs.Rotor(shaft_elements=shaft, disk_elements=disks, bearing_elements=bearings)\n",
    "rotor1.plot_rotor()"
   ]
  },
  {
   "cell_type": "code",
   "execution_count": 5,
   "id": "3d70e10b",
   "metadata": {
    "execution": {
     "iopub.execute_input": "2023-05-04T01:02:23.899579Z",
     "iopub.status.busy": "2023-05-04T01:02:23.899226Z",
     "iopub.status.idle": "2023-05-04T01:02:23.973100Z",
     "shell.execute_reply": "2023-05-04T01:02:23.972525Z"
    }
   },
   "outputs": [
    {
     "data": {
      "application/vnd.plotly.v1+json": {
       "config": {
        "plotlyServerURL": "https://plot.ly"
       },
       "data": [
        {
         "hoverinfo": "none",
         "line": {
          "color": "black",
          "dash": "dashdot",
          "width": 3.0
         },
         "mode": "lines",
         "opacity": 0.7,
         "showlegend": false,
         "type": "scatter",
         "x": [
          -0.24000000000000005,
          1.4400000000000002
         ],
         "y": [
          0,
          0
         ]
        },
        {
         "hoverinfo": "none",
         "marker": {
          "color": "#ffcc99",
          "line": {
           "color": "black",
           "width": 1.0
          },
          "opacity": 0.7,
          "size": 20
         },
         "mode": "markers+text",
         "showlegend": false,
         "text": [
          "0",
          "1",
          "2",
          "3",
          "4",
          "5",
          "6",
          "7",
          "8"
         ],
         "type": "scatter",
         "x": [
          0.0,
          0.2,
          0.4,
          0.56,
          0.6000000000000001,
          0.6400000000000001,
          0.8000000000000002,
          1.0000000000000002,
          1.2000000000000002
         ],
         "y": [
          0.0,
          0.0,
          0.0,
          0.0,
          0.0,
          0.0,
          0.0,
          0.0,
          0.0
         ]
        },
        {
         "customdata": [
          [
           0,
           0.08,
           0.03,
           0.08,
           0.03,
           0.2,
           "steel"
          ],
          [
           0,
           0.08,
           0.03,
           0.08,
           0.03,
           0.2,
           "steel"
          ],
          [
           0,
           0.08,
           0.03,
           0.08,
           0.03,
           0.2,
           "steel"
          ],
          [
           0,
           0.08,
           0.03,
           0.08,
           0.03,
           0.2,
           "steel"
          ],
          [
           0,
           0.08,
           0.03,
           0.08,
           0.03,
           0.2,
           "steel"
          ],
          [
           0,
           0.08,
           0.03,
           0.08,
           0.03,
           0.2,
           "steel"
          ],
          [
           0,
           0.08,
           0.03,
           0.08,
           0.03,
           0.2,
           "steel"
          ],
          [
           0,
           0.08,
           0.03,
           0.08,
           0.03,
           0.2,
           "steel"
          ],
          [
           0,
           0.08,
           0.03,
           0.08,
           0.03,
           0.2,
           "steel"
          ],
          [
           0,
           0.08,
           0.03,
           0.08,
           0.03,
           0.2,
           "steel"
          ]
         ],
         "fill": "toself",
         "fillcolor": "#525252",
         "hoverinfo": "text",
         "hoverlabel": {
          "bgcolor": "#525252"
         },
         "hoveron": "points+fills",
         "hovertemplate": "Element Number: 0<br>Left Outer Diameter: 0.08 m<br>Left Inner Diameter: 0.03 m<br>Right Outer Diameter: 0.08 m<br>Right Inner Diameter: 0.03 m<br>Element Length: 0.2 m<br>Material: steel<br>",
         "legendgroup": "Shaft",
         "line": {
          "color": "black",
          "width": 1.5
         },
         "mode": "lines",
         "name": "ShaftElement 0",
         "opacity": 0.5,
         "showlegend": false,
         "text": "Element Number: 0<br>Left Outer Diameter: 0.08 m<br>Left Inner Diameter: 0.03 m<br>Right Outer Diameter: 0.08 m<br>Right Inner Diameter: 0.03 m<br>Element Length: 0.2 m<br>Material: steel<br>",
         "type": "scatter",
         "x": [
          0.0,
          0.0,
          0.2,
          0.2,
          0.0,
          0.0,
          0.0,
          0.2,
          0.2,
          0.0
         ],
         "y": [
          0.015,
          0.04,
          0.04,
          0.015,
          0.015,
          -0.015,
          -0.04,
          -0.04,
          -0.015,
          -0.015
         ]
        },
        {
         "customdata": [
          [
           1,
           0.08,
           0.03,
           0.08,
           0.03,
           0.2,
           "steel"
          ],
          [
           1,
           0.08,
           0.03,
           0.08,
           0.03,
           0.2,
           "steel"
          ],
          [
           1,
           0.08,
           0.03,
           0.08,
           0.03,
           0.2,
           "steel"
          ],
          [
           1,
           0.08,
           0.03,
           0.08,
           0.03,
           0.2,
           "steel"
          ],
          [
           1,
           0.08,
           0.03,
           0.08,
           0.03,
           0.2,
           "steel"
          ],
          [
           1,
           0.08,
           0.03,
           0.08,
           0.03,
           0.2,
           "steel"
          ],
          [
           1,
           0.08,
           0.03,
           0.08,
           0.03,
           0.2,
           "steel"
          ],
          [
           1,
           0.08,
           0.03,
           0.08,
           0.03,
           0.2,
           "steel"
          ],
          [
           1,
           0.08,
           0.03,
           0.08,
           0.03,
           0.2,
           "steel"
          ],
          [
           1,
           0.08,
           0.03,
           0.08,
           0.03,
           0.2,
           "steel"
          ]
         ],
         "fill": "toself",
         "fillcolor": "#525252",
         "hoverinfo": "text",
         "hoverlabel": {
          "bgcolor": "#525252"
         },
         "hoveron": "points+fills",
         "hovertemplate": "Element Number: 1<br>Left Outer Diameter: 0.08 m<br>Left Inner Diameter: 0.03 m<br>Right Outer Diameter: 0.08 m<br>Right Inner Diameter: 0.03 m<br>Element Length: 0.2 m<br>Material: steel<br>",
         "legendgroup": "Shaft",
         "line": {
          "color": "black",
          "width": 1.5
         },
         "mode": "lines",
         "name": "ShaftElement 1",
         "opacity": 0.5,
         "showlegend": false,
         "text": "Element Number: 1<br>Left Outer Diameter: 0.08 m<br>Left Inner Diameter: 0.03 m<br>Right Outer Diameter: 0.08 m<br>Right Inner Diameter: 0.03 m<br>Element Length: 0.2 m<br>Material: steel<br>",
         "type": "scatter",
         "x": [
          0.2,
          0.2,
          0.4,
          0.4,
          0.2,
          0.2,
          0.2,
          0.4,
          0.4,
          0.2
         ],
         "y": [
          0.015,
          0.04,
          0.04,
          0.015,
          0.015,
          -0.015,
          -0.04,
          -0.04,
          -0.015,
          -0.015
         ]
        },
        {
         "customdata": [
          [
           2,
           0.08,
           0.03,
           0.08,
           0.03,
           0.16,
           "steel"
          ],
          [
           2,
           0.08,
           0.03,
           0.08,
           0.03,
           0.16,
           "steel"
          ],
          [
           2,
           0.08,
           0.03,
           0.08,
           0.03,
           0.16,
           "steel"
          ],
          [
           2,
           0.08,
           0.03,
           0.08,
           0.03,
           0.16,
           "steel"
          ],
          [
           2,
           0.08,
           0.03,
           0.08,
           0.03,
           0.16,
           "steel"
          ],
          [
           2,
           0.08,
           0.03,
           0.08,
           0.03,
           0.16,
           "steel"
          ],
          [
           2,
           0.08,
           0.03,
           0.08,
           0.03,
           0.16,
           "steel"
          ],
          [
           2,
           0.08,
           0.03,
           0.08,
           0.03,
           0.16,
           "steel"
          ],
          [
           2,
           0.08,
           0.03,
           0.08,
           0.03,
           0.16,
           "steel"
          ],
          [
           2,
           0.08,
           0.03,
           0.08,
           0.03,
           0.16,
           "steel"
          ]
         ],
         "fill": "toself",
         "fillcolor": "#525252",
         "hoverinfo": "text",
         "hoverlabel": {
          "bgcolor": "#525252"
         },
         "hoveron": "points+fills",
         "hovertemplate": "Element Number: 2<br>Left Outer Diameter: 0.08 m<br>Left Inner Diameter: 0.03 m<br>Right Outer Diameter: 0.08 m<br>Right Inner Diameter: 0.03 m<br>Element Length: 0.16 m<br>Material: steel<br>",
         "legendgroup": "Shaft",
         "line": {
          "color": "black",
          "width": 1.5
         },
         "mode": "lines",
         "name": "ShaftElement 2",
         "opacity": 0.5,
         "showlegend": false,
         "text": "Element Number: 2<br>Left Outer Diameter: 0.08 m<br>Left Inner Diameter: 0.03 m<br>Right Outer Diameter: 0.08 m<br>Right Inner Diameter: 0.03 m<br>Element Length: 0.16 m<br>Material: steel<br>",
         "type": "scatter",
         "x": [
          0.4,
          0.4,
          0.56,
          0.56,
          0.4,
          0.4,
          0.4,
          0.56,
          0.56,
          0.4
         ],
         "y": [
          0.015,
          0.04,
          0.04,
          0.015,
          0.015,
          -0.015,
          -0.04,
          -0.04,
          -0.015,
          -0.015
         ]
        },
        {
         "customdata": [
          [
           3,
           0.16,
           0.03,
           0.16,
           0.03,
           0.04,
           "steel"
          ],
          [
           3,
           0.16,
           0.03,
           0.16,
           0.03,
           0.04,
           "steel"
          ],
          [
           3,
           0.16,
           0.03,
           0.16,
           0.03,
           0.04,
           "steel"
          ],
          [
           3,
           0.16,
           0.03,
           0.16,
           0.03,
           0.04,
           "steel"
          ],
          [
           3,
           0.16,
           0.03,
           0.16,
           0.03,
           0.04,
           "steel"
          ],
          [
           3,
           0.16,
           0.03,
           0.16,
           0.03,
           0.04,
           "steel"
          ],
          [
           3,
           0.16,
           0.03,
           0.16,
           0.03,
           0.04,
           "steel"
          ],
          [
           3,
           0.16,
           0.03,
           0.16,
           0.03,
           0.04,
           "steel"
          ],
          [
           3,
           0.16,
           0.03,
           0.16,
           0.03,
           0.04,
           "steel"
          ],
          [
           3,
           0.16,
           0.03,
           0.16,
           0.03,
           0.04,
           "steel"
          ]
         ],
         "fill": "toself",
         "fillcolor": "#525252",
         "hoverinfo": "text",
         "hoverlabel": {
          "bgcolor": "#525252"
         },
         "hoveron": "points+fills",
         "hovertemplate": "Element Number: 3<br>Left Outer Diameter: 0.16 m<br>Left Inner Diameter: 0.03 m<br>Right Outer Diameter: 0.16 m<br>Right Inner Diameter: 0.03 m<br>Element Length: 0.04 m<br>Material: steel<br>",
         "legendgroup": "Shaft",
         "line": {
          "color": "black",
          "width": 1.5
         },
         "mode": "lines",
         "name": "ShaftElement 3",
         "opacity": 0.5,
         "showlegend": false,
         "text": "Element Number: 3<br>Left Outer Diameter: 0.16 m<br>Left Inner Diameter: 0.03 m<br>Right Outer Diameter: 0.16 m<br>Right Inner Diameter: 0.03 m<br>Element Length: 0.04 m<br>Material: steel<br>",
         "type": "scatter",
         "x": [
          0.56,
          0.56,
          0.6000000000000001,
          0.6000000000000001,
          0.56,
          0.56,
          0.56,
          0.6000000000000001,
          0.6000000000000001,
          0.56
         ],
         "y": [
          0.015,
          0.08,
          0.08,
          0.015,
          0.015,
          -0.015,
          -0.08,
          -0.08,
          -0.015,
          -0.015
         ]
        },
        {
         "customdata": [
          [
           4,
           0.16,
           0.03,
           0.16,
           0.03,
           0.04,
           "steel"
          ],
          [
           4,
           0.16,
           0.03,
           0.16,
           0.03,
           0.04,
           "steel"
          ],
          [
           4,
           0.16,
           0.03,
           0.16,
           0.03,
           0.04,
           "steel"
          ],
          [
           4,
           0.16,
           0.03,
           0.16,
           0.03,
           0.04,
           "steel"
          ],
          [
           4,
           0.16,
           0.03,
           0.16,
           0.03,
           0.04,
           "steel"
          ],
          [
           4,
           0.16,
           0.03,
           0.16,
           0.03,
           0.04,
           "steel"
          ],
          [
           4,
           0.16,
           0.03,
           0.16,
           0.03,
           0.04,
           "steel"
          ],
          [
           4,
           0.16,
           0.03,
           0.16,
           0.03,
           0.04,
           "steel"
          ],
          [
           4,
           0.16,
           0.03,
           0.16,
           0.03,
           0.04,
           "steel"
          ],
          [
           4,
           0.16,
           0.03,
           0.16,
           0.03,
           0.04,
           "steel"
          ]
         ],
         "fill": "toself",
         "fillcolor": "#525252",
         "hoverinfo": "text",
         "hoverlabel": {
          "bgcolor": "#525252"
         },
         "hoveron": "points+fills",
         "hovertemplate": "Element Number: 4<br>Left Outer Diameter: 0.16 m<br>Left Inner Diameter: 0.03 m<br>Right Outer Diameter: 0.16 m<br>Right Inner Diameter: 0.03 m<br>Element Length: 0.04 m<br>Material: steel<br>",
         "legendgroup": "Shaft",
         "line": {
          "color": "black",
          "width": 1.5
         },
         "mode": "lines",
         "name": "ShaftElement 4",
         "opacity": 0.5,
         "showlegend": false,
         "text": "Element Number: 4<br>Left Outer Diameter: 0.16 m<br>Left Inner Diameter: 0.03 m<br>Right Outer Diameter: 0.16 m<br>Right Inner Diameter: 0.03 m<br>Element Length: 0.04 m<br>Material: steel<br>",
         "type": "scatter",
         "x": [
          0.6000000000000001,
          0.6000000000000001,
          0.6400000000000001,
          0.6400000000000001,
          0.6000000000000001,
          0.6000000000000001,
          0.6000000000000001,
          0.6400000000000001,
          0.6400000000000001,
          0.6000000000000001
         ],
         "y": [
          0.015,
          0.08,
          0.08,
          0.015,
          0.015,
          -0.015,
          -0.08,
          -0.08,
          -0.015,
          -0.015
         ]
        },
        {
         "customdata": [
          [
           5,
           0.08,
           0.03,
           0.08,
           0.03,
           0.16,
           "steel"
          ],
          [
           5,
           0.08,
           0.03,
           0.08,
           0.03,
           0.16,
           "steel"
          ],
          [
           5,
           0.08,
           0.03,
           0.08,
           0.03,
           0.16,
           "steel"
          ],
          [
           5,
           0.08,
           0.03,
           0.08,
           0.03,
           0.16,
           "steel"
          ],
          [
           5,
           0.08,
           0.03,
           0.08,
           0.03,
           0.16,
           "steel"
          ],
          [
           5,
           0.08,
           0.03,
           0.08,
           0.03,
           0.16,
           "steel"
          ],
          [
           5,
           0.08,
           0.03,
           0.08,
           0.03,
           0.16,
           "steel"
          ],
          [
           5,
           0.08,
           0.03,
           0.08,
           0.03,
           0.16,
           "steel"
          ],
          [
           5,
           0.08,
           0.03,
           0.08,
           0.03,
           0.16,
           "steel"
          ],
          [
           5,
           0.08,
           0.03,
           0.08,
           0.03,
           0.16,
           "steel"
          ]
         ],
         "fill": "toself",
         "fillcolor": "#525252",
         "hoverinfo": "text",
         "hoverlabel": {
          "bgcolor": "#525252"
         },
         "hoveron": "points+fills",
         "hovertemplate": "Element Number: 5<br>Left Outer Diameter: 0.08 m<br>Left Inner Diameter: 0.03 m<br>Right Outer Diameter: 0.08 m<br>Right Inner Diameter: 0.03 m<br>Element Length: 0.16 m<br>Material: steel<br>",
         "legendgroup": "Shaft",
         "line": {
          "color": "black",
          "width": 1.5
         },
         "mode": "lines",
         "name": "ShaftElement 5",
         "opacity": 0.5,
         "showlegend": false,
         "text": "Element Number: 5<br>Left Outer Diameter: 0.08 m<br>Left Inner Diameter: 0.03 m<br>Right Outer Diameter: 0.08 m<br>Right Inner Diameter: 0.03 m<br>Element Length: 0.16 m<br>Material: steel<br>",
         "type": "scatter",
         "x": [
          0.6400000000000001,
          0.6400000000000001,
          0.8000000000000002,
          0.8000000000000002,
          0.6400000000000001,
          0.6400000000000001,
          0.6400000000000001,
          0.8000000000000002,
          0.8000000000000002,
          0.6400000000000001
         ],
         "y": [
          0.015,
          0.04,
          0.04,
          0.015,
          0.015,
          -0.015,
          -0.04,
          -0.04,
          -0.015,
          -0.015
         ]
        },
        {
         "customdata": [
          [
           6,
           0.08,
           0.03,
           0.08,
           0.03,
           0.2,
           "steel"
          ],
          [
           6,
           0.08,
           0.03,
           0.08,
           0.03,
           0.2,
           "steel"
          ],
          [
           6,
           0.08,
           0.03,
           0.08,
           0.03,
           0.2,
           "steel"
          ],
          [
           6,
           0.08,
           0.03,
           0.08,
           0.03,
           0.2,
           "steel"
          ],
          [
           6,
           0.08,
           0.03,
           0.08,
           0.03,
           0.2,
           "steel"
          ],
          [
           6,
           0.08,
           0.03,
           0.08,
           0.03,
           0.2,
           "steel"
          ],
          [
           6,
           0.08,
           0.03,
           0.08,
           0.03,
           0.2,
           "steel"
          ],
          [
           6,
           0.08,
           0.03,
           0.08,
           0.03,
           0.2,
           "steel"
          ],
          [
           6,
           0.08,
           0.03,
           0.08,
           0.03,
           0.2,
           "steel"
          ],
          [
           6,
           0.08,
           0.03,
           0.08,
           0.03,
           0.2,
           "steel"
          ]
         ],
         "fill": "toself",
         "fillcolor": "#525252",
         "hoverinfo": "text",
         "hoverlabel": {
          "bgcolor": "#525252"
         },
         "hoveron": "points+fills",
         "hovertemplate": "Element Number: 6<br>Left Outer Diameter: 0.08 m<br>Left Inner Diameter: 0.03 m<br>Right Outer Diameter: 0.08 m<br>Right Inner Diameter: 0.03 m<br>Element Length: 0.2 m<br>Material: steel<br>",
         "legendgroup": "Shaft",
         "line": {
          "color": "black",
          "width": 1.5
         },
         "mode": "lines",
         "name": "ShaftElement 6",
         "opacity": 0.5,
         "showlegend": false,
         "text": "Element Number: 6<br>Left Outer Diameter: 0.08 m<br>Left Inner Diameter: 0.03 m<br>Right Outer Diameter: 0.08 m<br>Right Inner Diameter: 0.03 m<br>Element Length: 0.2 m<br>Material: steel<br>",
         "type": "scatter",
         "x": [
          0.8000000000000002,
          0.8000000000000002,
          1.0000000000000002,
          1.0000000000000002,
          0.8000000000000002,
          0.8000000000000002,
          0.8000000000000002,
          1.0000000000000002,
          1.0000000000000002,
          0.8000000000000002
         ],
         "y": [
          0.015,
          0.04,
          0.04,
          0.015,
          0.015,
          -0.015,
          -0.04,
          -0.04,
          -0.015,
          -0.015
         ]
        },
        {
         "customdata": [
          [
           7,
           0.08,
           0.03,
           0.08,
           0.03,
           0.2,
           "steel"
          ],
          [
           7,
           0.08,
           0.03,
           0.08,
           0.03,
           0.2,
           "steel"
          ],
          [
           7,
           0.08,
           0.03,
           0.08,
           0.03,
           0.2,
           "steel"
          ],
          [
           7,
           0.08,
           0.03,
           0.08,
           0.03,
           0.2,
           "steel"
          ],
          [
           7,
           0.08,
           0.03,
           0.08,
           0.03,
           0.2,
           "steel"
          ],
          [
           7,
           0.08,
           0.03,
           0.08,
           0.03,
           0.2,
           "steel"
          ],
          [
           7,
           0.08,
           0.03,
           0.08,
           0.03,
           0.2,
           "steel"
          ],
          [
           7,
           0.08,
           0.03,
           0.08,
           0.03,
           0.2,
           "steel"
          ],
          [
           7,
           0.08,
           0.03,
           0.08,
           0.03,
           0.2,
           "steel"
          ],
          [
           7,
           0.08,
           0.03,
           0.08,
           0.03,
           0.2,
           "steel"
          ]
         ],
         "fill": "toself",
         "fillcolor": "#525252",
         "hoverinfo": "text",
         "hoverlabel": {
          "bgcolor": "#525252"
         },
         "hoveron": "points+fills",
         "hovertemplate": "Element Number: 7<br>Left Outer Diameter: 0.08 m<br>Left Inner Diameter: 0.03 m<br>Right Outer Diameter: 0.08 m<br>Right Inner Diameter: 0.03 m<br>Element Length: 0.2 m<br>Material: steel<br>",
         "legendgroup": "Shaft",
         "line": {
          "color": "black",
          "width": 1.5
         },
         "mode": "lines",
         "name": "ShaftElement 7",
         "opacity": 0.5,
         "showlegend": false,
         "text": "Element Number: 7<br>Left Outer Diameter: 0.08 m<br>Left Inner Diameter: 0.03 m<br>Right Outer Diameter: 0.08 m<br>Right Inner Diameter: 0.03 m<br>Element Length: 0.2 m<br>Material: steel<br>",
         "type": "scatter",
         "x": [
          1.0000000000000002,
          1.0000000000000002,
          1.2000000000000002,
          1.2000000000000002,
          1.0000000000000002,
          1.0000000000000002,
          1.0000000000000002,
          1.2000000000000002,
          1.2000000000000002,
          1.0000000000000002
         ],
         "y": [
          0.015,
          0.04,
          0.04,
          0.015,
          0.015,
          -0.015,
          -0.04,
          -0.04,
          -0.015,
          -0.015
         ]
        },
        {
         "customdata": [
          [
           4,
           1.5281350065236212,
           0.799197043641664,
           65.86788821222505
          ],
          [
           4,
           1.5281350065236212,
           0.799197043641664,
           65.86788821222505
          ],
          [
           4,
           1.5281350065236212,
           0.799197043641664,
           65.86788821222505
          ],
          [
           4,
           1.5281350065236212,
           0.799197043641664,
           65.86788821222505
          ],
          [
           4,
           1.5281350065236212,
           0.799197043641664,
           65.86788821222505
          ],
          [
           4,
           1.5281350065236212,
           0.799197043641664,
           65.86788821222505
          ],
          [
           4,
           1.5281350065236212,
           0.799197043641664,
           65.86788821222505
          ],
          [
           4,
           1.5281350065236212,
           0.799197043641664,
           65.86788821222505
          ],
          [
           4,
           1.5281350065236212,
           0.799197043641664,
           65.86788821222505
          ]
         ],
         "fill": "toself",
         "fillcolor": "Firebrick",
         "hoverinfo": "text",
         "hoverlabel": {
          "bgcolor": "Firebrick"
         },
         "hoveron": "points+fills",
         "hovertemplate": "Disk Node: 4<br>Polar Inertia: 1.528e+00<br>Diametral Inertia: 7.992e-01<br>Disk mass: 65.868<br>",
         "legendgroup": "disks",
         "line": {
          "color": "Firebrick",
          "width": 2.0
         },
         "mode": "lines",
         "name": "Disk 0",
         "opacity": 0.8,
         "showlegend": false,
         "text": "Disk Node: 4<br>Polar Inertia: 1.528e+00<br>Diametral Inertia: 7.992e-01<br>Disk mass: 65.868<br>",
         "type": "scatter",
         "x": [
          0.6000000000000001,
          0.6042666666666667,
          0.5957333333333334,
          0.6000000000000001,
          null,
          0.6000000000000001,
          0.6042666666666667,
          0.5957333333333334,
          0.6000000000000001
         ],
         "y": [
          0.08,
          0.29333333333333333,
          0.29333333333333333,
          0.08,
          null,
          -0.08,
          -0.29333333333333333,
          -0.29333333333333333,
          -0.08
         ]
        },
        {
         "hoverinfo": "none",
         "legendgroup": "bearings",
         "line": {
          "color": "#355d7a",
          "width": 1
         },
         "mode": "lines",
         "name": "Bearing 0",
         "showlegend": false,
         "type": "scatter",
         "x": [
          0.0,
          0.0,
          -0.015238095238095236,
          0.015238095238095236
         ],
         "y": [
          0.04,
          0.06666666666666667,
          0.06666666666666667,
          0.06666666666666667
         ]
        },
        {
         "hoverinfo": "none",
         "legendgroup": "bearings",
         "line": {
          "color": "#355d7a",
          "width": 1
         },
         "mode": "lines",
         "name": "Bearing 0",
         "showlegend": false,
         "type": "scatter",
         "x": [
          0.0,
          0.0,
          -0.015238095238095236,
          0.015238095238095236
         ],
         "y": [
          -0.04,
          -0.06666666666666667,
          -0.06666666666666667,
          -0.06666666666666667
         ]
        },
        {
         "hoverinfo": "none",
         "legendgroup": "bearings",
         "line": {
          "color": "#355d7a",
          "width": 1
         },
         "mode": "lines",
         "name": "Bearing 0",
         "showlegend": false,
         "type": "scatter",
         "x": [
          0.0,
          0.0,
          -0.015238095238095236,
          0.015238095238095236
         ],
         "y": [
          0.14666666666666667,
          0.12,
          0.12,
          0.12
         ]
        },
        {
         "hoverinfo": "none",
         "legendgroup": "bearings",
         "line": {
          "color": "#355d7a",
          "width": 1
         },
         "mode": "lines",
         "name": "Bearing 0",
         "showlegend": false,
         "type": "scatter",
         "x": [
          0.0,
          0.0,
          -0.015238095238095236,
          0.015238095238095236
         ],
         "y": [
          -0.14666666666666667,
          -0.12,
          -0.12,
          -0.12
         ]
        },
        {
         "hoverinfo": "none",
         "legendgroup": "bearings",
         "line": {
          "color": "#355d7a",
          "width": 1
         },
         "mode": "lines",
         "name": "Bearing 0",
         "showlegend": false,
         "type": "scatter",
         "x": [
          -0.022857142857142854,
          0.022857142857142854
         ],
         "y": [
          0.14666666666666667,
          0.14666666666666667
         ]
        },
        {
         "hoverinfo": "none",
         "legendgroup": "bearings",
         "line": {
          "color": "#355d7a",
          "width": 1
         },
         "mode": "lines",
         "name": "Bearing 0",
         "showlegend": false,
         "type": "scatter",
         "x": [
          -0.022857142857142854,
          0.022857142857142854
         ],
         "y": [
          -0.14666666666666667,
          -0.14666666666666667
         ]
        },
        {
         "hoverinfo": "none",
         "legendgroup": "bearings",
         "line": {
          "color": "#355d7a",
          "width": 1
         },
         "mode": "lines",
         "name": "Bearing 0",
         "showlegend": false,
         "type": "scatter",
         "x": [
          -0.022857142857142854,
          -0.013714285714285712
         ],
         "y": [
          0.14666666666666667,
          0.16133333333333336
         ]
        },
        {
         "hoverinfo": "none",
         "legendgroup": "bearings",
         "line": {
          "color": "#355d7a",
          "width": 1
         },
         "mode": "lines",
         "name": "Bearing 0",
         "showlegend": false,
         "type": "scatter",
         "x": [
          -0.022857142857142854,
          -0.013714285714285712
         ],
         "y": [
          -0.14666666666666667,
          -0.16133333333333336
         ]
        },
        {
         "hoverinfo": "none",
         "legendgroup": "bearings",
         "line": {
          "color": "#355d7a",
          "width": 1
         },
         "mode": "lines",
         "name": "Bearing 0",
         "showlegend": false,
         "type": "scatter",
         "x": [
          -0.013714285714285712,
          -0.00457142857142857
         ],
         "y": [
          0.14666666666666667,
          0.16133333333333336
         ]
        },
        {
         "hoverinfo": "none",
         "legendgroup": "bearings",
         "line": {
          "color": "#355d7a",
          "width": 1
         },
         "mode": "lines",
         "name": "Bearing 0",
         "showlegend": false,
         "type": "scatter",
         "x": [
          -0.013714285714285712,
          -0.00457142857142857
         ],
         "y": [
          -0.14666666666666667,
          -0.16133333333333336
         ]
        },
        {
         "hoverinfo": "none",
         "legendgroup": "bearings",
         "line": {
          "color": "#355d7a",
          "width": 1
         },
         "mode": "lines",
         "name": "Bearing 0",
         "showlegend": false,
         "type": "scatter",
         "x": [
          -0.00457142857142857,
          0.0045714285714285735
         ],
         "y": [
          0.14666666666666667,
          0.16133333333333336
         ]
        },
        {
         "hoverinfo": "none",
         "legendgroup": "bearings",
         "line": {
          "color": "#355d7a",
          "width": 1
         },
         "mode": "lines",
         "name": "Bearing 0",
         "showlegend": false,
         "type": "scatter",
         "x": [
          -0.00457142857142857,
          0.0045714285714285735
         ],
         "y": [
          -0.14666666666666667,
          -0.16133333333333336
         ]
        },
        {
         "hoverinfo": "none",
         "legendgroup": "bearings",
         "line": {
          "color": "#355d7a",
          "width": 1
         },
         "mode": "lines",
         "name": "Bearing 0",
         "showlegend": false,
         "type": "scatter",
         "x": [
          0.0045714285714285735,
          0.013714285714285714
         ],
         "y": [
          0.14666666666666667,
          0.16133333333333336
         ]
        },
        {
         "hoverinfo": "none",
         "legendgroup": "bearings",
         "line": {
          "color": "#355d7a",
          "width": 1
         },
         "mode": "lines",
         "name": "Bearing 0",
         "showlegend": false,
         "type": "scatter",
         "x": [
          0.0045714285714285735,
          0.013714285714285714
         ],
         "y": [
          -0.14666666666666667,
          -0.16133333333333336
         ]
        },
        {
         "hoverinfo": "none",
         "legendgroup": "bearings",
         "line": {
          "color": "#355d7a",
          "width": 1
         },
         "mode": "lines",
         "name": "Bearing 0",
         "showlegend": false,
         "type": "scatter",
         "x": [
          0.013714285714285714,
          0.022857142857142854
         ],
         "y": [
          0.14666666666666667,
          0.16133333333333336
         ]
        },
        {
         "hoverinfo": "none",
         "legendgroup": "bearings",
         "line": {
          "color": "#355d7a",
          "width": 1
         },
         "mode": "lines",
         "name": "Bearing 0",
         "showlegend": false,
         "type": "scatter",
         "x": [
          0.013714285714285714,
          0.022857142857142854
         ],
         "y": [
          -0.14666666666666667,
          -0.16133333333333336
         ]
        },
        {
         "hoverinfo": "none",
         "legendgroup": "bearings",
         "line": {
          "color": "#355d7a",
          "width": 1
         },
         "mode": "lines",
         "name": "Bearing 0",
         "showlegend": false,
         "type": "scatter",
         "x": [
          0.022857142857142854,
          0.032
         ],
         "y": [
          0.14666666666666667,
          0.16133333333333336
         ]
        },
        {
         "hoverinfo": "none",
         "legendgroup": "bearings",
         "line": {
          "color": "#355d7a",
          "width": 1
         },
         "mode": "lines",
         "name": "Bearing 0",
         "showlegend": false,
         "type": "scatter",
         "x": [
          0.022857142857142854,
          0.032
         ],
         "y": [
          -0.14666666666666667,
          -0.16133333333333336
         ]
        },
        {
         "hoverinfo": "none",
         "legendgroup": "bearings",
         "line": {
          "color": "#355d7a",
          "width": 1
         },
         "mode": "lines",
         "name": "Bearing 0",
         "showlegend": false,
         "type": "scatter",
         "x": [
          -0.015238095238095236,
          -0.015238095238095236,
          -0.022857142857142854,
          -0.007619047619047618,
          -0.022857142857142854,
          -0.007619047619047618,
          -0.022857142857142854,
          -0.007619047619047618,
          -0.015238095238095236,
          -0.015238095238095236
         ],
         "y": [
          0.06666666666666667,
          0.07428571428571429,
          0.07428571428571429,
          0.0819047619047619,
          0.08952380952380952,
          0.09714285714285714,
          0.10476190476190475,
          0.11238095238095237,
          0.11238095238095237,
          0.12
         ]
        },
        {
         "hoverinfo": "none",
         "legendgroup": "bearings",
         "line": {
          "color": "#355d7a",
          "width": 1
         },
         "mode": "lines",
         "name": "Bearing 0",
         "showlegend": false,
         "type": "scatter",
         "x": [
          -0.015238095238095236,
          -0.015238095238095236,
          -0.022857142857142854,
          -0.007619047619047618,
          -0.022857142857142854,
          -0.007619047619047618,
          -0.022857142857142854,
          -0.007619047619047618,
          -0.015238095238095236,
          -0.015238095238095236
         ],
         "y": [
          -0.06666666666666667,
          -0.07428571428571429,
          -0.07428571428571429,
          -0.0819047619047619,
          -0.08952380952380952,
          -0.09714285714285714,
          -0.10476190476190475,
          -0.11238095238095237,
          -0.11238095238095237,
          -0.12
         ]
        },
        {
         "hoverinfo": "none",
         "legendgroup": "bearings",
         "line": {
          "color": "#355d7a",
          "width": 1
         },
         "mode": "lines",
         "name": "Bearing 0",
         "showlegend": false,
         "type": "scatter",
         "x": [
          0.015238095238095236,
          0.015238095238095236
         ],
         "y": [
          0.06666666666666667,
          0.0819047619047619
         ]
        },
        {
         "hoverinfo": "none",
         "legendgroup": "bearings",
         "line": {
          "color": "#355d7a",
          "width": 1
         },
         "mode": "lines",
         "name": "Bearing 0",
         "showlegend": false,
         "type": "scatter",
         "x": [
          0.015238095238095236,
          0.015238095238095236
         ],
         "y": [
          -0.06666666666666667,
          -0.0819047619047619
         ]
        },
        {
         "hoverinfo": "none",
         "legendgroup": "bearings",
         "line": {
          "color": "#355d7a",
          "width": 1
         },
         "mode": "lines",
         "name": "Bearing 0",
         "showlegend": false,
         "type": "scatter",
         "x": [
          0.0,
          0.0,
          0.030476190476190473,
          0.030476190476190473
         ],
         "y": [
          0.10476190476190475,
          0.0819047619047619,
          0.0819047619047619,
          0.10476190476190475
         ]
        },
        {
         "hoverinfo": "none",
         "legendgroup": "bearings",
         "line": {
          "color": "#355d7a",
          "width": 1
         },
         "mode": "lines",
         "name": "Bearing 0",
         "showlegend": false,
         "type": "scatter",
         "x": [
          0.0,
          0.0,
          0.030476190476190473,
          0.030476190476190473
         ],
         "y": [
          -0.10476190476190475,
          -0.0819047619047619,
          -0.0819047619047619,
          -0.10476190476190475
         ]
        },
        {
         "hoverinfo": "none",
         "legendgroup": "bearings",
         "line": {
          "color": "#355d7a",
          "width": 1
         },
         "mode": "lines",
         "name": "Bearing 0",
         "showlegend": false,
         "type": "scatter",
         "x": [
          0.0,
          0.030476190476190473,
          0.015238095238095236,
          0.015238095238095236
         ],
         "y": [
          0.09714285714285714,
          0.09714285714285714,
          0.09714285714285714,
          0.12
         ]
        },
        {
         "hoverinfo": "none",
         "legendgroup": "bearings",
         "line": {
          "color": "#355d7a",
          "width": 1
         },
         "mode": "lines",
         "name": "Bearing 0",
         "showlegend": false,
         "type": "scatter",
         "x": [
          0.0,
          0.030476190476190473,
          0.015238095238095236,
          0.015238095238095236
         ],
         "y": [
          -0.09714285714285714,
          -0.09714285714285714,
          -0.09714285714285714,
          -0.12
         ]
        },
        {
         "hoverinfo": "none",
         "legendgroup": "bearings",
         "line": {
          "color": "#355d7a",
          "width": 1
         },
         "mode": "lines",
         "name": "Bearing 1",
         "showlegend": false,
         "type": "scatter",
         "x": [
          1.2000000000000002,
          1.2000000000000002,
          1.184761904761905,
          1.2152380952380955
         ],
         "y": [
          0.04,
          0.06666666666666667,
          0.06666666666666667,
          0.06666666666666667
         ]
        },
        {
         "hoverinfo": "none",
         "legendgroup": "bearings",
         "line": {
          "color": "#355d7a",
          "width": 1
         },
         "mode": "lines",
         "name": "Bearing 1",
         "showlegend": false,
         "type": "scatter",
         "x": [
          1.2000000000000002,
          1.2000000000000002,
          1.184761904761905,
          1.2152380952380955
         ],
         "y": [
          -0.04,
          -0.06666666666666667,
          -0.06666666666666667,
          -0.06666666666666667
         ]
        },
        {
         "hoverinfo": "none",
         "legendgroup": "bearings",
         "line": {
          "color": "#355d7a",
          "width": 1
         },
         "mode": "lines",
         "name": "Bearing 1",
         "showlegend": false,
         "type": "scatter",
         "x": [
          1.2000000000000002,
          1.2000000000000002,
          1.184761904761905,
          1.2152380952380955
         ],
         "y": [
          0.14666666666666667,
          0.12,
          0.12,
          0.12
         ]
        },
        {
         "hoverinfo": "none",
         "legendgroup": "bearings",
         "line": {
          "color": "#355d7a",
          "width": 1
         },
         "mode": "lines",
         "name": "Bearing 1",
         "showlegend": false,
         "type": "scatter",
         "x": [
          1.2000000000000002,
          1.2000000000000002,
          1.184761904761905,
          1.2152380952380955
         ],
         "y": [
          -0.14666666666666667,
          -0.12,
          -0.12,
          -0.12
         ]
        },
        {
         "hoverinfo": "none",
         "legendgroup": "bearings",
         "line": {
          "color": "#355d7a",
          "width": 1
         },
         "mode": "lines",
         "name": "Bearing 1",
         "showlegend": false,
         "type": "scatter",
         "x": [
          1.1771428571428573,
          1.222857142857143
         ],
         "y": [
          0.14666666666666667,
          0.14666666666666667
         ]
        },
        {
         "hoverinfo": "none",
         "legendgroup": "bearings",
         "line": {
          "color": "#355d7a",
          "width": 1
         },
         "mode": "lines",
         "name": "Bearing 1",
         "showlegend": false,
         "type": "scatter",
         "x": [
          1.1771428571428573,
          1.222857142857143
         ],
         "y": [
          -0.14666666666666667,
          -0.14666666666666667
         ]
        },
        {
         "hoverinfo": "none",
         "legendgroup": "bearings",
         "line": {
          "color": "#355d7a",
          "width": 1
         },
         "mode": "lines",
         "name": "Bearing 1",
         "showlegend": false,
         "type": "scatter",
         "x": [
          1.1771428571428573,
          1.1862857142857144
         ],
         "y": [
          0.14666666666666667,
          0.16133333333333336
         ]
        },
        {
         "hoverinfo": "none",
         "legendgroup": "bearings",
         "line": {
          "color": "#355d7a",
          "width": 1
         },
         "mode": "lines",
         "name": "Bearing 1",
         "showlegend": false,
         "type": "scatter",
         "x": [
          1.1771428571428573,
          1.1862857142857144
         ],
         "y": [
          -0.14666666666666667,
          -0.16133333333333336
         ]
        },
        {
         "hoverinfo": "none",
         "legendgroup": "bearings",
         "line": {
          "color": "#355d7a",
          "width": 1
         },
         "mode": "lines",
         "name": "Bearing 1",
         "showlegend": false,
         "type": "scatter",
         "x": [
          1.1862857142857144,
          1.1954285714285715
         ],
         "y": [
          0.14666666666666667,
          0.16133333333333336
         ]
        },
        {
         "hoverinfo": "none",
         "legendgroup": "bearings",
         "line": {
          "color": "#355d7a",
          "width": 1
         },
         "mode": "lines",
         "name": "Bearing 1",
         "showlegend": false,
         "type": "scatter",
         "x": [
          1.1862857142857144,
          1.1954285714285715
         ],
         "y": [
          -0.14666666666666667,
          -0.16133333333333336
         ]
        },
        {
         "hoverinfo": "none",
         "legendgroup": "bearings",
         "line": {
          "color": "#355d7a",
          "width": 1
         },
         "mode": "lines",
         "name": "Bearing 1",
         "showlegend": false,
         "type": "scatter",
         "x": [
          1.1954285714285715,
          1.2045714285714288
         ],
         "y": [
          0.14666666666666667,
          0.16133333333333336
         ]
        },
        {
         "hoverinfo": "none",
         "legendgroup": "bearings",
         "line": {
          "color": "#355d7a",
          "width": 1
         },
         "mode": "lines",
         "name": "Bearing 1",
         "showlegend": false,
         "type": "scatter",
         "x": [
          1.1954285714285715,
          1.2045714285714288
         ],
         "y": [
          -0.14666666666666667,
          -0.16133333333333336
         ]
        },
        {
         "hoverinfo": "none",
         "legendgroup": "bearings",
         "line": {
          "color": "#355d7a",
          "width": 1
         },
         "mode": "lines",
         "name": "Bearing 1",
         "showlegend": false,
         "type": "scatter",
         "x": [
          1.2045714285714288,
          1.213714285714286
         ],
         "y": [
          0.14666666666666667,
          0.16133333333333336
         ]
        },
        {
         "hoverinfo": "none",
         "legendgroup": "bearings",
         "line": {
          "color": "#355d7a",
          "width": 1
         },
         "mode": "lines",
         "name": "Bearing 1",
         "showlegend": false,
         "type": "scatter",
         "x": [
          1.2045714285714288,
          1.213714285714286
         ],
         "y": [
          -0.14666666666666667,
          -0.16133333333333336
         ]
        },
        {
         "hoverinfo": "none",
         "legendgroup": "bearings",
         "line": {
          "color": "#355d7a",
          "width": 1
         },
         "mode": "lines",
         "name": "Bearing 1",
         "showlegend": false,
         "type": "scatter",
         "x": [
          1.213714285714286,
          1.222857142857143
         ],
         "y": [
          0.14666666666666667,
          0.16133333333333336
         ]
        },
        {
         "hoverinfo": "none",
         "legendgroup": "bearings",
         "line": {
          "color": "#355d7a",
          "width": 1
         },
         "mode": "lines",
         "name": "Bearing 1",
         "showlegend": false,
         "type": "scatter",
         "x": [
          1.213714285714286,
          1.222857142857143
         ],
         "y": [
          -0.14666666666666667,
          -0.16133333333333336
         ]
        },
        {
         "hoverinfo": "none",
         "legendgroup": "bearings",
         "line": {
          "color": "#355d7a",
          "width": 1
         },
         "mode": "lines",
         "name": "Bearing 1",
         "showlegend": false,
         "type": "scatter",
         "x": [
          1.222857142857143,
          1.2320000000000002
         ],
         "y": [
          0.14666666666666667,
          0.16133333333333336
         ]
        },
        {
         "hoverinfo": "none",
         "legendgroup": "bearings",
         "line": {
          "color": "#355d7a",
          "width": 1
         },
         "mode": "lines",
         "name": "Bearing 1",
         "showlegend": false,
         "type": "scatter",
         "x": [
          1.222857142857143,
          1.2320000000000002
         ],
         "y": [
          -0.14666666666666667,
          -0.16133333333333336
         ]
        },
        {
         "hoverinfo": "none",
         "legendgroup": "bearings",
         "line": {
          "color": "#355d7a",
          "width": 1
         },
         "mode": "lines",
         "name": "Bearing 1",
         "showlegend": false,
         "type": "scatter",
         "x": [
          1.184761904761905,
          1.184761904761905,
          1.1771428571428573,
          1.1923809523809525,
          1.1771428571428573,
          1.1923809523809525,
          1.1771428571428573,
          1.1923809523809525,
          1.184761904761905,
          1.184761904761905
         ],
         "y": [
          0.06666666666666667,
          0.07428571428571429,
          0.07428571428571429,
          0.0819047619047619,
          0.08952380952380952,
          0.09714285714285714,
          0.10476190476190475,
          0.11238095238095237,
          0.11238095238095237,
          0.12
         ]
        },
        {
         "hoverinfo": "none",
         "legendgroup": "bearings",
         "line": {
          "color": "#355d7a",
          "width": 1
         },
         "mode": "lines",
         "name": "Bearing 1",
         "showlegend": false,
         "type": "scatter",
         "x": [
          1.184761904761905,
          1.184761904761905,
          1.1771428571428573,
          1.1923809523809525,
          1.1771428571428573,
          1.1923809523809525,
          1.1771428571428573,
          1.1923809523809525,
          1.184761904761905,
          1.184761904761905
         ],
         "y": [
          -0.06666666666666667,
          -0.07428571428571429,
          -0.07428571428571429,
          -0.0819047619047619,
          -0.08952380952380952,
          -0.09714285714285714,
          -0.10476190476190475,
          -0.11238095238095237,
          -0.11238095238095237,
          -0.12
         ]
        },
        {
         "hoverinfo": "none",
         "legendgroup": "bearings",
         "line": {
          "color": "#355d7a",
          "width": 1
         },
         "mode": "lines",
         "name": "Bearing 1",
         "showlegend": false,
         "type": "scatter",
         "x": [
          1.2152380952380955,
          1.2152380952380955
         ],
         "y": [
          0.06666666666666667,
          0.0819047619047619
         ]
        },
        {
         "hoverinfo": "none",
         "legendgroup": "bearings",
         "line": {
          "color": "#355d7a",
          "width": 1
         },
         "mode": "lines",
         "name": "Bearing 1",
         "showlegend": false,
         "type": "scatter",
         "x": [
          1.2152380952380955,
          1.2152380952380955
         ],
         "y": [
          -0.06666666666666667,
          -0.0819047619047619
         ]
        },
        {
         "hoverinfo": "none",
         "legendgroup": "bearings",
         "line": {
          "color": "#355d7a",
          "width": 1
         },
         "mode": "lines",
         "name": "Bearing 1",
         "showlegend": false,
         "type": "scatter",
         "x": [
          1.2000000000000002,
          1.2000000000000002,
          1.2304761904761907,
          1.2304761904761907
         ],
         "y": [
          0.10476190476190475,
          0.0819047619047619,
          0.0819047619047619,
          0.10476190476190475
         ]
        },
        {
         "hoverinfo": "none",
         "legendgroup": "bearings",
         "line": {
          "color": "#355d7a",
          "width": 1
         },
         "mode": "lines",
         "name": "Bearing 1",
         "showlegend": false,
         "type": "scatter",
         "x": [
          1.2000000000000002,
          1.2000000000000002,
          1.2304761904761907,
          1.2304761904761907
         ],
         "y": [
          -0.10476190476190475,
          -0.0819047619047619,
          -0.0819047619047619,
          -0.10476190476190475
         ]
        },
        {
         "hoverinfo": "none",
         "legendgroup": "bearings",
         "line": {
          "color": "#355d7a",
          "width": 1
         },
         "mode": "lines",
         "name": "Bearing 1",
         "showlegend": false,
         "type": "scatter",
         "x": [
          1.2000000000000002,
          1.2304761904761907,
          1.2152380952380955,
          1.2152380952380955
         ],
         "y": [
          0.09714285714285714,
          0.09714285714285714,
          0.09714285714285714,
          0.12
         ]
        },
        {
         "hoverinfo": "none",
         "legendgroup": "bearings",
         "line": {
          "color": "#355d7a",
          "width": 1
         },
         "mode": "lines",
         "name": "Bearing 1",
         "showlegend": false,
         "type": "scatter",
         "x": [
          1.2000000000000002,
          1.2304761904761907,
          1.2152380952380955,
          1.2152380952380955
         ],
         "y": [
          -0.09714285714285714,
          -0.09714285714285714,
          -0.09714285714285714,
          -0.12
         ]
        }
       ],
       "layout": {
        "shapes": [
         {
          "fillcolor": "Firebrick",
          "line": {
           "color": "Firebrick"
          },
          "type": "circle",
          "x0": 0.5866666666666668,
          "x1": 0.6133333333333334,
          "xref": "x",
          "y0": 0.28,
          "y1": 0.30666666666666664,
          "yref": "y"
         },
         {
          "fillcolor": "Firebrick",
          "line": {
           "color": "Firebrick"
          },
          "type": "circle",
          "x0": 0.5866666666666668,
          "x1": 0.6133333333333334,
          "xref": "x",
          "y0": -0.30666666666666664,
          "y1": -0.28,
          "yref": "y"
         }
        ],
        "template": {
         "data": {
          "bar": [
           {
            "error_x": {
             "color": "#2a3f5f"
            },
            "error_y": {
             "color": "#2a3f5f"
            },
            "marker": {
             "line": {
              "color": "white",
              "width": 0.5
             }
            },
            "type": "bar"
           }
          ],
          "barpolar": [
           {
            "marker": {
             "line": {
              "color": "white",
              "width": 0.5
             }
            },
            "type": "barpolar"
           }
          ],
          "carpet": [
           {
            "aaxis": {
             "endlinecolor": "#2a3f5f",
             "gridcolor": "#C8D4E3",
             "linecolor": "#C8D4E3",
             "minorgridcolor": "#C8D4E3",
             "startlinecolor": "#2a3f5f"
            },
            "baxis": {
             "endlinecolor": "#2a3f5f",
             "gridcolor": "#C8D4E3",
             "linecolor": "#C8D4E3",
             "minorgridcolor": "#C8D4E3",
             "startlinecolor": "#2a3f5f"
            },
            "type": "carpet"
           }
          ],
          "choropleth": [
           {
            "colorbar": {
             "outlinewidth": 0,
             "ticks": ""
            },
            "type": "choropleth"
           }
          ],
          "contour": [
           {
            "colorbar": {
             "outlinewidth": 0,
             "ticks": ""
            },
            "colorscale": [
             [
              0.0,
              "#0d0887"
             ],
             [
              0.1111111111111111,
              "#46039f"
             ],
             [
              0.2222222222222222,
              "#7201a8"
             ],
             [
              0.3333333333333333,
              "#9c179e"
             ],
             [
              0.4444444444444444,
              "#bd3786"
             ],
             [
              0.5555555555555556,
              "#d8576b"
             ],
             [
              0.6666666666666666,
              "#ed7953"
             ],
             [
              0.7777777777777778,
              "#fb9f3a"
             ],
             [
              0.8888888888888888,
              "#fdca26"
             ],
             [
              1.0,
              "#f0f921"
             ]
            ],
            "type": "contour"
           }
          ],
          "contourcarpet": [
           {
            "colorbar": {
             "outlinewidth": 0,
             "ticks": ""
            },
            "type": "contourcarpet"
           }
          ],
          "heatmap": [
           {
            "colorbar": {
             "outlinewidth": 0,
             "ticks": ""
            },
            "colorscale": [
             [
              0.0,
              "#0d0887"
             ],
             [
              0.1111111111111111,
              "#46039f"
             ],
             [
              0.2222222222222222,
              "#7201a8"
             ],
             [
              0.3333333333333333,
              "#9c179e"
             ],
             [
              0.4444444444444444,
              "#bd3786"
             ],
             [
              0.5555555555555556,
              "#d8576b"
             ],
             [
              0.6666666666666666,
              "#ed7953"
             ],
             [
              0.7777777777777778,
              "#fb9f3a"
             ],
             [
              0.8888888888888888,
              "#fdca26"
             ],
             [
              1.0,
              "#f0f921"
             ]
            ],
            "type": "heatmap"
           }
          ],
          "heatmapgl": [
           {
            "colorbar": {
             "outlinewidth": 0,
             "ticks": ""
            },
            "colorscale": [
             [
              0.0,
              "#0d0887"
             ],
             [
              0.1111111111111111,
              "#46039f"
             ],
             [
              0.2222222222222222,
              "#7201a8"
             ],
             [
              0.3333333333333333,
              "#9c179e"
             ],
             [
              0.4444444444444444,
              "#bd3786"
             ],
             [
              0.5555555555555556,
              "#d8576b"
             ],
             [
              0.6666666666666666,
              "#ed7953"
             ],
             [
              0.7777777777777778,
              "#fb9f3a"
             ],
             [
              0.8888888888888888,
              "#fdca26"
             ],
             [
              1.0,
              "#f0f921"
             ]
            ],
            "type": "heatmapgl"
           }
          ],
          "histogram": [
           {
            "marker": {
             "colorbar": {
              "outlinewidth": 0,
              "ticks": ""
             }
            },
            "type": "histogram"
           }
          ],
          "histogram2d": [
           {
            "colorbar": {
             "outlinewidth": 0,
             "ticks": ""
            },
            "colorscale": [
             [
              0.0,
              "#0d0887"
             ],
             [
              0.1111111111111111,
              "#46039f"
             ],
             [
              0.2222222222222222,
              "#7201a8"
             ],
             [
              0.3333333333333333,
              "#9c179e"
             ],
             [
              0.4444444444444444,
              "#bd3786"
             ],
             [
              0.5555555555555556,
              "#d8576b"
             ],
             [
              0.6666666666666666,
              "#ed7953"
             ],
             [
              0.7777777777777778,
              "#fb9f3a"
             ],
             [
              0.8888888888888888,
              "#fdca26"
             ],
             [
              1.0,
              "#f0f921"
             ]
            ],
            "type": "histogram2d"
           }
          ],
          "histogram2dcontour": [
           {
            "colorbar": {
             "outlinewidth": 0,
             "ticks": ""
            },
            "colorscale": [
             [
              0.0,
              "#0d0887"
             ],
             [
              0.1111111111111111,
              "#46039f"
             ],
             [
              0.2222222222222222,
              "#7201a8"
             ],
             [
              0.3333333333333333,
              "#9c179e"
             ],
             [
              0.4444444444444444,
              "#bd3786"
             ],
             [
              0.5555555555555556,
              "#d8576b"
             ],
             [
              0.6666666666666666,
              "#ed7953"
             ],
             [
              0.7777777777777778,
              "#fb9f3a"
             ],
             [
              0.8888888888888888,
              "#fdca26"
             ],
             [
              1.0,
              "#f0f921"
             ]
            ],
            "type": "histogram2dcontour"
           }
          ],
          "mesh3d": [
           {
            "colorbar": {
             "outlinewidth": 0,
             "ticks": ""
            },
            "type": "mesh3d"
           }
          ],
          "parcoords": [
           {
            "line": {
             "colorbar": {
              "outlinewidth": 0,
              "ticks": ""
             }
            },
            "type": "parcoords"
           }
          ],
          "pie": [
           {
            "automargin": true,
            "type": "pie"
           }
          ],
          "scatter": [
           {
            "marker": {
             "colorbar": {
              "outlinewidth": 0,
              "ticks": ""
             }
            },
            "type": "scatter"
           }
          ],
          "scatter3d": [
           {
            "line": {
             "colorbar": {
              "outlinewidth": 0,
              "ticks": ""
             }
            },
            "marker": {
             "colorbar": {
              "outlinewidth": 0,
              "ticks": ""
             },
             "size": 4
            },
            "type": "scatter3d"
           }
          ],
          "scattercarpet": [
           {
            "marker": {
             "colorbar": {
              "outlinewidth": 0,
              "ticks": ""
             }
            },
            "type": "scattercarpet"
           }
          ],
          "scattergeo": [
           {
            "marker": {
             "colorbar": {
              "outlinewidth": 0,
              "ticks": ""
             }
            },
            "type": "scattergeo"
           }
          ],
          "scattergl": [
           {
            "marker": {
             "colorbar": {
              "outlinewidth": 0,
              "ticks": ""
             }
            },
            "type": "scattergl"
           }
          ],
          "scattermapbox": [
           {
            "marker": {
             "colorbar": {
              "outlinewidth": 0,
              "ticks": ""
             }
            },
            "type": "scattermapbox"
           }
          ],
          "scatterpolar": [
           {
            "marker": {
             "colorbar": {
              "outlinewidth": 0,
              "ticks": ""
             }
            },
            "type": "scatterpolar"
           }
          ],
          "scatterpolargl": [
           {
            "marker": {
             "colorbar": {
              "outlinewidth": 0,
              "ticks": ""
             }
            },
            "type": "scatterpolargl"
           }
          ],
          "scatterternary": [
           {
            "marker": {
             "colorbar": {
              "outlinewidth": 0,
              "ticks": ""
             }
            },
            "type": "scatterternary"
           }
          ],
          "surface": [
           {
            "colorbar": {
             "outlinewidth": 0,
             "ticks": ""
            },
            "colorscale": [
             [
              0.0,
              "#0d0887"
             ],
             [
              0.1111111111111111,
              "#46039f"
             ],
             [
              0.2222222222222222,
              "#7201a8"
             ],
             [
              0.3333333333333333,
              "#9c179e"
             ],
             [
              0.4444444444444444,
              "#bd3786"
             ],
             [
              0.5555555555555556,
              "#d8576b"
             ],
             [
              0.6666666666666666,
              "#ed7953"
             ],
             [
              0.7777777777777778,
              "#fb9f3a"
             ],
             [
              0.8888888888888888,
              "#fdca26"
             ],
             [
              1.0,
              "#f0f921"
             ]
            ],
            "type": "surface"
           }
          ],
          "table": [
           {
            "cells": {
             "fill": {
              "color": "#EBF0F8"
             },
             "line": {
              "color": "white"
             }
            },
            "header": {
             "fill": {
              "color": "#C8D4E3"
             },
             "line": {
              "color": "white"
             }
            },
            "type": "table"
           }
          ]
         },
         "layout": {
          "annotationdefaults": {
           "arrowcolor": "#2a3f5f",
           "arrowhead": 0,
           "arrowwidth": 1
          },
          "coloraxis": {
           "colorbar": {
            "outlinewidth": 0,
            "ticks": ""
           }
          },
          "colorscale": {
           "diverging": [
            [
             0,
             "#8e0152"
            ],
            [
             0.1,
             "#c51b7d"
            ],
            [
             0.2,
             "#de77ae"
            ],
            [
             0.3,
             "#f1b6da"
            ],
            [
             0.4,
             "#fde0ef"
            ],
            [
             0.5,
             "#f7f7f7"
            ],
            [
             0.6,
             "#e6f5d0"
            ],
            [
             0.7,
             "#b8e186"
            ],
            [
             0.8,
             "#7fbc41"
            ],
            [
             0.9,
             "#4d9221"
            ],
            [
             1,
             "#276419"
            ]
           ],
           "sequential": [
            [
             0.0,
             "#0d0887"
            ],
            [
             0.1111111111111111,
             "#46039f"
            ],
            [
             0.2222222222222222,
             "#7201a8"
            ],
            [
             0.3333333333333333,
             "#9c179e"
            ],
            [
             0.4444444444444444,
             "#bd3786"
            ],
            [
             0.5555555555555556,
             "#d8576b"
            ],
            [
             0.6666666666666666,
             "#ed7953"
            ],
            [
             0.7777777777777778,
             "#fb9f3a"
            ],
            [
             0.8888888888888888,
             "#fdca26"
            ],
            [
             1.0,
             "#f0f921"
            ]
           ],
           "sequentialminus": [
            [
             0.0,
             "#0d0887"
            ],
            [
             0.1111111111111111,
             "#46039f"
            ],
            [
             0.2222222222222222,
             "#7201a8"
            ],
            [
             0.3333333333333333,
             "#9c179e"
            ],
            [
             0.4444444444444444,
             "#bd3786"
            ],
            [
             0.5555555555555556,
             "#d8576b"
            ],
            [
             0.6666666666666666,
             "#ed7953"
            ],
            [
             0.7777777777777778,
             "#fb9f3a"
            ],
            [
             0.8888888888888888,
             "#fdca26"
            ],
            [
             1.0,
             "#f0f921"
            ]
           ]
          },
          "colorway": [
           "#1f77b4",
           "#ff7f0e",
           "#2ca02c",
           "#d62728",
           "#9467bd",
           "#8c564b",
           "#e377c2",
           "#7f7f7f",
           "#bcbd22",
           "#17becf"
          ],
          "font": {
           "color": "#2a3f5f"
          },
          "geo": {
           "bgcolor": "white",
           "lakecolor": "white",
           "landcolor": "white",
           "showlakes": true,
           "showland": true,
           "subunitcolor": "#C8D4E3"
          },
          "hoverlabel": {
           "align": "left"
          },
          "hovermode": "closest",
          "mapbox": {
           "style": "light"
          },
          "paper_bgcolor": "white",
          "plot_bgcolor": "white",
          "polar": {
           "angularaxis": {
            "gridcolor": "#EBF0F8",
            "linecolor": "#EBF0F8",
            "ticks": ""
           },
           "bgcolor": "white",
           "radialaxis": {
            "gridcolor": "#EBF0F8",
            "linecolor": "#EBF0F8",
            "ticks": ""
           }
          },
          "scene": {
           "camera": {
            "center": {
             "x": 0,
             "y": 0,
             "z": 0
            },
            "eye": {
             "x": 2.0,
             "y": 2.0,
             "z": 2.0
            },
            "up": {
             "x": 0,
             "y": 0,
             "z": 1
            }
           },
           "xaxis": {
            "backgroundcolor": "white",
            "gridcolor": "#DFE8F3",
            "gridwidth": 2,
            "linecolor": "#EBF0F8",
            "showbackground": true,
            "showspikes": false,
            "ticks": "",
            "zerolinecolor": "#EBF0F8"
           },
           "yaxis": {
            "backgroundcolor": "white",
            "gridcolor": "#DFE8F3",
            "gridwidth": 2,
            "linecolor": "#EBF0F8",
            "showbackground": true,
            "showspikes": false,
            "ticks": "",
            "zerolinecolor": "#EBF0F8"
           },
           "zaxis": {
            "backgroundcolor": "white",
            "gridcolor": "#DFE8F3",
            "gridwidth": 2,
            "linecolor": "#EBF0F8",
            "showbackground": true,
            "showspikes": false,
            "ticks": "",
            "zerolinecolor": "#EBF0F8"
           }
          },
          "shapedefaults": {
           "line": {
            "color": "#2a3f5f"
           }
          },
          "ternary": {
           "aaxis": {
            "gridcolor": "#DFE8F3",
            "linecolor": "#A2B1C6",
            "ticks": ""
           },
           "baxis": {
            "gridcolor": "#DFE8F3",
            "linecolor": "#A2B1C6",
            "ticks": ""
           },
           "bgcolor": "white",
           "caxis": {
            "gridcolor": "#DFE8F3",
            "linecolor": "#A2B1C6",
            "ticks": ""
           }
          },
          "title": {
           "x": 0.05
          },
          "xaxis": {
           "automargin": true,
           "gridcolor": "#EBF0F8",
           "linecolor": "black",
           "linewidth": 2.0,
           "mirror": true,
           "showline": true,
           "ticks": "",
           "title": {
            "standoff": 15
           },
           "zeroline": false,
           "zerolinecolor": "#EBF0F8",
           "zerolinewidth": 2
          },
          "yaxis": {
           "automargin": true,
           "gridcolor": "#EBF0F8",
           "linecolor": "black",
           "linewidth": 2.0,
           "mirror": true,
           "showline": true,
           "ticks": "",
           "title": {
            "standoff": 15
           },
           "zeroline": false,
           "zerolinecolor": "#EBF0F8",
           "zerolinewidth": 2
          }
         }
        },
        "title": {
         "text": "Rotor Model"
        },
        "xaxis": {
         "mirror": true,
         "range": [
          -0.12000000000000002,
          1.3200000000000003
         ],
         "showgrid": false,
         "title": {
          "text": "Axial location (m)"
         }
        },
        "yaxis": {
         "mirror": true,
         "range": [
          -0.36000000000000004,
          0.36000000000000004
         ],
         "showgrid": false,
         "title": {
          "text": "Shaft radius (m)"
         }
        }
       }
      }
     },
     "metadata": {},
     "output_type": "display_data"
    }
   ],
   "source": [
    "shaft = [\n",
    "    rs.ShaftElement(n=0, L=L, idl=idl, odl=odl, material=steel),\n",
    "    rs.ShaftElement(n=1, L=L, idl=idl, odl=odl, material=steel),\n",
    "    rs.ShaftElement(n=2, L=0.16, idl=idl, odl=odl, material=steel),\n",
    "    rs.ShaftElement(n=3, L=0.04, idl=idl, odl=0.16, material=steel),\n",
    "    rs.ShaftElement(n=4, L=0.04, idl=idl, odl=0.16, material=steel),\n",
    "    rs.ShaftElement(n=5, L=0.16, idl=idl, odl=odl, material=steel),\n",
    "    rs.ShaftElement(n=6, L=L, idl=idl, odl=odl, material=steel),\n",
    "    rs.ShaftElement(n=7, L=L, idl=idl, odl=odl, material=steel),\n",
    "]\n",
    "bearings = [\n",
    "    rs.BearingElement(n=0, kxx=1e20, cxx=0),\n",
    "    rs.BearingElement(n=len(shaft), kxx=1e20, cxx=0),\n",
    "]\n",
    "disks = [\n",
    "    rs.DiskElement.from_geometry(n=4, material=steel, width=0.08, o_d=0.4, i_d=0.16)\n",
    "]\n",
    "\n",
    "rotor2 = rs.Rotor(shaft_elements=shaft, disk_elements=disks, bearing_elements=bearings)\n",
    "rotor2.plot_rotor()"
   ]
  },
  {
   "cell_type": "code",
   "execution_count": 6,
   "id": "954628f0",
   "metadata": {
    "execution": {
     "iopub.execute_input": "2023-05-04T01:02:23.976602Z",
     "iopub.status.busy": "2023-05-04T01:02:23.976374Z",
     "iopub.status.idle": "2023-05-04T01:02:24.059987Z",
     "shell.execute_reply": "2023-05-04T01:02:24.059463Z"
    }
   },
   "outputs": [
    {
     "data": {
      "application/vnd.plotly.v1+json": {
       "config": {
        "plotlyServerURL": "https://plot.ly"
       },
       "data": [
        {
         "hoverinfo": "none",
         "line": {
          "color": "black",
          "dash": "dashdot",
          "width": 3.0
         },
         "mode": "lines",
         "opacity": 0.7,
         "showlegend": false,
         "type": "scatter",
         "x": [
          -0.24000000000000005,
          1.4400000000000002
         ],
         "y": [
          0,
          0
         ]
        },
        {
         "hoverinfo": "none",
         "marker": {
          "color": "#ffcc99",
          "line": {
           "color": "black",
           "width": 1.0
          },
          "opacity": 0.7,
          "size": 20
         },
         "mode": "markers+text",
         "showlegend": false,
         "text": [
          "0",
          "1",
          "2",
          "3",
          "4",
          "5",
          "6",
          "7",
          "8"
         ],
         "type": "scatter",
         "x": [
          0.0,
          0.2,
          0.4,
          0.56,
          0.6000000000000001,
          0.6400000000000001,
          0.8000000000000002,
          1.0000000000000002,
          1.2000000000000002
         ],
         "y": [
          0.0,
          0.0,
          0.0,
          0.0,
          0.0,
          0.0,
          0.0,
          0.0,
          0.0
         ]
        },
        {
         "customdata": [
          [
           0,
           0.08,
           0.03,
           0.08,
           0.03,
           0.2,
           "steel"
          ],
          [
           0,
           0.08,
           0.03,
           0.08,
           0.03,
           0.2,
           "steel"
          ],
          [
           0,
           0.08,
           0.03,
           0.08,
           0.03,
           0.2,
           "steel"
          ],
          [
           0,
           0.08,
           0.03,
           0.08,
           0.03,
           0.2,
           "steel"
          ],
          [
           0,
           0.08,
           0.03,
           0.08,
           0.03,
           0.2,
           "steel"
          ],
          [
           0,
           0.08,
           0.03,
           0.08,
           0.03,
           0.2,
           "steel"
          ],
          [
           0,
           0.08,
           0.03,
           0.08,
           0.03,
           0.2,
           "steel"
          ],
          [
           0,
           0.08,
           0.03,
           0.08,
           0.03,
           0.2,
           "steel"
          ],
          [
           0,
           0.08,
           0.03,
           0.08,
           0.03,
           0.2,
           "steel"
          ],
          [
           0,
           0.08,
           0.03,
           0.08,
           0.03,
           0.2,
           "steel"
          ]
         ],
         "fill": "toself",
         "fillcolor": "#525252",
         "hoverinfo": "text",
         "hoverlabel": {
          "bgcolor": "#525252"
         },
         "hoveron": "points+fills",
         "hovertemplate": "Element Number: 0<br>Left Outer Diameter: 0.08 m<br>Left Inner Diameter: 0.03 m<br>Right Outer Diameter: 0.08 m<br>Right Inner Diameter: 0.03 m<br>Element Length: 0.2 m<br>Material: steel<br>",
         "legendgroup": "Shaft",
         "line": {
          "color": "black",
          "width": 1.5
         },
         "mode": "lines",
         "name": "ShaftElement 0",
         "opacity": 0.5,
         "showlegend": false,
         "text": "Element Number: 0<br>Left Outer Diameter: 0.08 m<br>Left Inner Diameter: 0.03 m<br>Right Outer Diameter: 0.08 m<br>Right Inner Diameter: 0.03 m<br>Element Length: 0.2 m<br>Material: steel<br>",
         "type": "scatter",
         "x": [
          0.0,
          0.0,
          0.2,
          0.2,
          0.0,
          0.0,
          0.0,
          0.2,
          0.2,
          0.0
         ],
         "y": [
          0.015,
          0.04,
          0.04,
          0.015,
          0.015,
          -0.015,
          -0.04,
          -0.04,
          -0.015,
          -0.015
         ]
        },
        {
         "customdata": [
          [
           1,
           0.08,
           0.03,
           0.08,
           0.03,
           0.2,
           "steel"
          ],
          [
           1,
           0.08,
           0.03,
           0.08,
           0.03,
           0.2,
           "steel"
          ],
          [
           1,
           0.08,
           0.03,
           0.08,
           0.03,
           0.2,
           "steel"
          ],
          [
           1,
           0.08,
           0.03,
           0.08,
           0.03,
           0.2,
           "steel"
          ],
          [
           1,
           0.08,
           0.03,
           0.08,
           0.03,
           0.2,
           "steel"
          ],
          [
           1,
           0.08,
           0.03,
           0.08,
           0.03,
           0.2,
           "steel"
          ],
          [
           1,
           0.08,
           0.03,
           0.08,
           0.03,
           0.2,
           "steel"
          ],
          [
           1,
           0.08,
           0.03,
           0.08,
           0.03,
           0.2,
           "steel"
          ],
          [
           1,
           0.08,
           0.03,
           0.08,
           0.03,
           0.2,
           "steel"
          ],
          [
           1,
           0.08,
           0.03,
           0.08,
           0.03,
           0.2,
           "steel"
          ]
         ],
         "fill": "toself",
         "fillcolor": "#525252",
         "hoverinfo": "text",
         "hoverlabel": {
          "bgcolor": "#525252"
         },
         "hoveron": "points+fills",
         "hovertemplate": "Element Number: 1<br>Left Outer Diameter: 0.08 m<br>Left Inner Diameter: 0.03 m<br>Right Outer Diameter: 0.08 m<br>Right Inner Diameter: 0.03 m<br>Element Length: 0.2 m<br>Material: steel<br>",
         "legendgroup": "Shaft",
         "line": {
          "color": "black",
          "width": 1.5
         },
         "mode": "lines",
         "name": "ShaftElement 1",
         "opacity": 0.5,
         "showlegend": false,
         "text": "Element Number: 1<br>Left Outer Diameter: 0.08 m<br>Left Inner Diameter: 0.03 m<br>Right Outer Diameter: 0.08 m<br>Right Inner Diameter: 0.03 m<br>Element Length: 0.2 m<br>Material: steel<br>",
         "type": "scatter",
         "x": [
          0.2,
          0.2,
          0.4,
          0.4,
          0.2,
          0.2,
          0.2,
          0.4,
          0.4,
          0.2
         ],
         "y": [
          0.015,
          0.04,
          0.04,
          0.015,
          0.015,
          -0.015,
          -0.04,
          -0.04,
          -0.015,
          -0.015
         ]
        },
        {
         "customdata": [
          [
           2,
           0.08,
           0.03,
           0.08,
           0.03,
           0.16,
           "steel"
          ],
          [
           2,
           0.08,
           0.03,
           0.08,
           0.03,
           0.16,
           "steel"
          ],
          [
           2,
           0.08,
           0.03,
           0.08,
           0.03,
           0.16,
           "steel"
          ],
          [
           2,
           0.08,
           0.03,
           0.08,
           0.03,
           0.16,
           "steel"
          ],
          [
           2,
           0.08,
           0.03,
           0.08,
           0.03,
           0.16,
           "steel"
          ],
          [
           2,
           0.08,
           0.03,
           0.08,
           0.03,
           0.16,
           "steel"
          ],
          [
           2,
           0.08,
           0.03,
           0.08,
           0.03,
           0.16,
           "steel"
          ],
          [
           2,
           0.08,
           0.03,
           0.08,
           0.03,
           0.16,
           "steel"
          ],
          [
           2,
           0.08,
           0.03,
           0.08,
           0.03,
           0.16,
           "steel"
          ],
          [
           2,
           0.08,
           0.03,
           0.08,
           0.03,
           0.16,
           "steel"
          ]
         ],
         "fill": "toself",
         "fillcolor": "#525252",
         "hoverinfo": "text",
         "hoverlabel": {
          "bgcolor": "#525252"
         },
         "hoveron": "points+fills",
         "hovertemplate": "Element Number: 2<br>Left Outer Diameter: 0.08 m<br>Left Inner Diameter: 0.03 m<br>Right Outer Diameter: 0.08 m<br>Right Inner Diameter: 0.03 m<br>Element Length: 0.16 m<br>Material: steel<br>",
         "legendgroup": "Shaft",
         "line": {
          "color": "black",
          "width": 1.5
         },
         "mode": "lines",
         "name": "ShaftElement 2",
         "opacity": 0.5,
         "showlegend": false,
         "text": "Element Number: 2<br>Left Outer Diameter: 0.08 m<br>Left Inner Diameter: 0.03 m<br>Right Outer Diameter: 0.08 m<br>Right Inner Diameter: 0.03 m<br>Element Length: 0.16 m<br>Material: steel<br>",
         "type": "scatter",
         "x": [
          0.4,
          0.4,
          0.56,
          0.56,
          0.4,
          0.4,
          0.4,
          0.56,
          0.56,
          0.4
         ],
         "y": [
          0.015,
          0.04,
          0.04,
          0.015,
          0.015,
          -0.015,
          -0.04,
          -0.04,
          -0.015,
          -0.015
         ]
        },
        {
         "customdata": [
          [
           3,
           0.16,
           0.03,
           0.16,
           0.03,
           0.04,
           "steel"
          ],
          [
           3,
           0.16,
           0.03,
           0.16,
           0.03,
           0.04,
           "steel"
          ],
          [
           3,
           0.16,
           0.03,
           0.16,
           0.03,
           0.04,
           "steel"
          ],
          [
           3,
           0.16,
           0.03,
           0.16,
           0.03,
           0.04,
           "steel"
          ],
          [
           3,
           0.16,
           0.03,
           0.16,
           0.03,
           0.04,
           "steel"
          ],
          [
           3,
           0.16,
           0.03,
           0.16,
           0.03,
           0.04,
           "steel"
          ],
          [
           3,
           0.16,
           0.03,
           0.16,
           0.03,
           0.04,
           "steel"
          ],
          [
           3,
           0.16,
           0.03,
           0.16,
           0.03,
           0.04,
           "steel"
          ],
          [
           3,
           0.16,
           0.03,
           0.16,
           0.03,
           0.04,
           "steel"
          ],
          [
           3,
           0.16,
           0.03,
           0.16,
           0.03,
           0.04,
           "steel"
          ]
         ],
         "fill": "toself",
         "fillcolor": "#525252",
         "hoverinfo": "text",
         "hoverlabel": {
          "bgcolor": "#525252"
         },
         "hoveron": "points+fills",
         "hovertemplate": "Element Number: 3<br>Left Outer Diameter: 0.16 m<br>Left Inner Diameter: 0.03 m<br>Right Outer Diameter: 0.16 m<br>Right Inner Diameter: 0.03 m<br>Element Length: 0.04 m<br>Material: steel<br>",
         "legendgroup": "Shaft",
         "line": {
          "color": "black",
          "width": 1.5
         },
         "mode": "lines",
         "name": "ShaftElement 3",
         "opacity": 0.5,
         "showlegend": false,
         "text": "Element Number: 3<br>Left Outer Diameter: 0.16 m<br>Left Inner Diameter: 0.03 m<br>Right Outer Diameter: 0.16 m<br>Right Inner Diameter: 0.03 m<br>Element Length: 0.04 m<br>Material: steel<br>",
         "type": "scatter",
         "x": [
          0.56,
          0.56,
          0.6000000000000001,
          0.6000000000000001,
          0.56,
          0.56,
          0.56,
          0.6000000000000001,
          0.6000000000000001,
          0.56
         ],
         "y": [
          0.015,
          0.08,
          0.08,
          0.015,
          0.015,
          -0.015,
          -0.08,
          -0.08,
          -0.015,
          -0.015
         ]
        },
        {
         "customdata": [
          [
           4,
           0.16,
           0.03,
           0.16,
           0.03,
           0.04,
           "steel"
          ],
          [
           4,
           0.16,
           0.03,
           0.16,
           0.03,
           0.04,
           "steel"
          ],
          [
           4,
           0.16,
           0.03,
           0.16,
           0.03,
           0.04,
           "steel"
          ],
          [
           4,
           0.16,
           0.03,
           0.16,
           0.03,
           0.04,
           "steel"
          ],
          [
           4,
           0.16,
           0.03,
           0.16,
           0.03,
           0.04,
           "steel"
          ],
          [
           4,
           0.16,
           0.03,
           0.16,
           0.03,
           0.04,
           "steel"
          ],
          [
           4,
           0.16,
           0.03,
           0.16,
           0.03,
           0.04,
           "steel"
          ],
          [
           4,
           0.16,
           0.03,
           0.16,
           0.03,
           0.04,
           "steel"
          ],
          [
           4,
           0.16,
           0.03,
           0.16,
           0.03,
           0.04,
           "steel"
          ],
          [
           4,
           0.16,
           0.03,
           0.16,
           0.03,
           0.04,
           "steel"
          ]
         ],
         "fill": "toself",
         "fillcolor": "#525252",
         "hoverinfo": "text",
         "hoverlabel": {
          "bgcolor": "#525252"
         },
         "hoveron": "points+fills",
         "hovertemplate": "Element Number: 4<br>Left Outer Diameter: 0.16 m<br>Left Inner Diameter: 0.03 m<br>Right Outer Diameter: 0.16 m<br>Right Inner Diameter: 0.03 m<br>Element Length: 0.04 m<br>Material: steel<br>",
         "legendgroup": "Shaft",
         "line": {
          "color": "black",
          "width": 1.5
         },
         "mode": "lines",
         "name": "ShaftElement 4",
         "opacity": 0.5,
         "showlegend": false,
         "text": "Element Number: 4<br>Left Outer Diameter: 0.16 m<br>Left Inner Diameter: 0.03 m<br>Right Outer Diameter: 0.16 m<br>Right Inner Diameter: 0.03 m<br>Element Length: 0.04 m<br>Material: steel<br>",
         "type": "scatter",
         "x": [
          0.6000000000000001,
          0.6000000000000001,
          0.6400000000000001,
          0.6400000000000001,
          0.6000000000000001,
          0.6000000000000001,
          0.6000000000000001,
          0.6400000000000001,
          0.6400000000000001,
          0.6000000000000001
         ],
         "y": [
          0.015,
          0.08,
          0.08,
          0.015,
          0.015,
          -0.015,
          -0.08,
          -0.08,
          -0.015,
          -0.015
         ]
        },
        {
         "customdata": [
          [
           5,
           0.08,
           0.03,
           0.08,
           0.03,
           0.16,
           "steel"
          ],
          [
           5,
           0.08,
           0.03,
           0.08,
           0.03,
           0.16,
           "steel"
          ],
          [
           5,
           0.08,
           0.03,
           0.08,
           0.03,
           0.16,
           "steel"
          ],
          [
           5,
           0.08,
           0.03,
           0.08,
           0.03,
           0.16,
           "steel"
          ],
          [
           5,
           0.08,
           0.03,
           0.08,
           0.03,
           0.16,
           "steel"
          ],
          [
           5,
           0.08,
           0.03,
           0.08,
           0.03,
           0.16,
           "steel"
          ],
          [
           5,
           0.08,
           0.03,
           0.08,
           0.03,
           0.16,
           "steel"
          ],
          [
           5,
           0.08,
           0.03,
           0.08,
           0.03,
           0.16,
           "steel"
          ],
          [
           5,
           0.08,
           0.03,
           0.08,
           0.03,
           0.16,
           "steel"
          ],
          [
           5,
           0.08,
           0.03,
           0.08,
           0.03,
           0.16,
           "steel"
          ]
         ],
         "fill": "toself",
         "fillcolor": "#525252",
         "hoverinfo": "text",
         "hoverlabel": {
          "bgcolor": "#525252"
         },
         "hoveron": "points+fills",
         "hovertemplate": "Element Number: 5<br>Left Outer Diameter: 0.08 m<br>Left Inner Diameter: 0.03 m<br>Right Outer Diameter: 0.08 m<br>Right Inner Diameter: 0.03 m<br>Element Length: 0.16 m<br>Material: steel<br>",
         "legendgroup": "Shaft",
         "line": {
          "color": "black",
          "width": 1.5
         },
         "mode": "lines",
         "name": "ShaftElement 5",
         "opacity": 0.5,
         "showlegend": false,
         "text": "Element Number: 5<br>Left Outer Diameter: 0.08 m<br>Left Inner Diameter: 0.03 m<br>Right Outer Diameter: 0.08 m<br>Right Inner Diameter: 0.03 m<br>Element Length: 0.16 m<br>Material: steel<br>",
         "type": "scatter",
         "x": [
          0.6400000000000001,
          0.6400000000000001,
          0.8000000000000002,
          0.8000000000000002,
          0.6400000000000001,
          0.6400000000000001,
          0.6400000000000001,
          0.8000000000000002,
          0.8000000000000002,
          0.6400000000000001
         ],
         "y": [
          0.015,
          0.04,
          0.04,
          0.015,
          0.015,
          -0.015,
          -0.04,
          -0.04,
          -0.015,
          -0.015
         ]
        },
        {
         "customdata": [
          [
           6,
           0.08,
           0.03,
           0.08,
           0.03,
           0.2,
           "steel"
          ],
          [
           6,
           0.08,
           0.03,
           0.08,
           0.03,
           0.2,
           "steel"
          ],
          [
           6,
           0.08,
           0.03,
           0.08,
           0.03,
           0.2,
           "steel"
          ],
          [
           6,
           0.08,
           0.03,
           0.08,
           0.03,
           0.2,
           "steel"
          ],
          [
           6,
           0.08,
           0.03,
           0.08,
           0.03,
           0.2,
           "steel"
          ],
          [
           6,
           0.08,
           0.03,
           0.08,
           0.03,
           0.2,
           "steel"
          ],
          [
           6,
           0.08,
           0.03,
           0.08,
           0.03,
           0.2,
           "steel"
          ],
          [
           6,
           0.08,
           0.03,
           0.08,
           0.03,
           0.2,
           "steel"
          ],
          [
           6,
           0.08,
           0.03,
           0.08,
           0.03,
           0.2,
           "steel"
          ],
          [
           6,
           0.08,
           0.03,
           0.08,
           0.03,
           0.2,
           "steel"
          ]
         ],
         "fill": "toself",
         "fillcolor": "#525252",
         "hoverinfo": "text",
         "hoverlabel": {
          "bgcolor": "#525252"
         },
         "hoveron": "points+fills",
         "hovertemplate": "Element Number: 6<br>Left Outer Diameter: 0.08 m<br>Left Inner Diameter: 0.03 m<br>Right Outer Diameter: 0.08 m<br>Right Inner Diameter: 0.03 m<br>Element Length: 0.2 m<br>Material: steel<br>",
         "legendgroup": "Shaft",
         "line": {
          "color": "black",
          "width": 1.5
         },
         "mode": "lines",
         "name": "ShaftElement 6",
         "opacity": 0.5,
         "showlegend": false,
         "text": "Element Number: 6<br>Left Outer Diameter: 0.08 m<br>Left Inner Diameter: 0.03 m<br>Right Outer Diameter: 0.08 m<br>Right Inner Diameter: 0.03 m<br>Element Length: 0.2 m<br>Material: steel<br>",
         "type": "scatter",
         "x": [
          0.8000000000000002,
          0.8000000000000002,
          1.0000000000000002,
          1.0000000000000002,
          0.8000000000000002,
          0.8000000000000002,
          0.8000000000000002,
          1.0000000000000002,
          1.0000000000000002,
          0.8000000000000002
         ],
         "y": [
          0.015,
          0.04,
          0.04,
          0.015,
          0.015,
          -0.015,
          -0.04,
          -0.04,
          -0.015,
          -0.015
         ]
        },
        {
         "customdata": [
          [
           7,
           0.08,
           0.03,
           0.08,
           0.03,
           0.2,
           "steel"
          ],
          [
           7,
           0.08,
           0.03,
           0.08,
           0.03,
           0.2,
           "steel"
          ],
          [
           7,
           0.08,
           0.03,
           0.08,
           0.03,
           0.2,
           "steel"
          ],
          [
           7,
           0.08,
           0.03,
           0.08,
           0.03,
           0.2,
           "steel"
          ],
          [
           7,
           0.08,
           0.03,
           0.08,
           0.03,
           0.2,
           "steel"
          ],
          [
           7,
           0.08,
           0.03,
           0.08,
           0.03,
           0.2,
           "steel"
          ],
          [
           7,
           0.08,
           0.03,
           0.08,
           0.03,
           0.2,
           "steel"
          ],
          [
           7,
           0.08,
           0.03,
           0.08,
           0.03,
           0.2,
           "steel"
          ],
          [
           7,
           0.08,
           0.03,
           0.08,
           0.03,
           0.2,
           "steel"
          ],
          [
           7,
           0.08,
           0.03,
           0.08,
           0.03,
           0.2,
           "steel"
          ]
         ],
         "fill": "toself",
         "fillcolor": "#525252",
         "hoverinfo": "text",
         "hoverlabel": {
          "bgcolor": "#525252"
         },
         "hoveron": "points+fills",
         "hovertemplate": "Element Number: 7<br>Left Outer Diameter: 0.08 m<br>Left Inner Diameter: 0.03 m<br>Right Outer Diameter: 0.08 m<br>Right Inner Diameter: 0.03 m<br>Element Length: 0.2 m<br>Material: steel<br>",
         "legendgroup": "Shaft",
         "line": {
          "color": "black",
          "width": 1.5
         },
         "mode": "lines",
         "name": "ShaftElement 7",
         "opacity": 0.5,
         "showlegend": false,
         "text": "Element Number: 7<br>Left Outer Diameter: 0.08 m<br>Left Inner Diameter: 0.03 m<br>Right Outer Diameter: 0.08 m<br>Right Inner Diameter: 0.03 m<br>Element Length: 0.2 m<br>Material: steel<br>",
         "type": "scatter",
         "x": [
          1.0000000000000002,
          1.0000000000000002,
          1.2000000000000002,
          1.2000000000000002,
          1.0000000000000002,
          1.0000000000000002,
          1.0000000000000002,
          1.2000000000000002,
          1.2000000000000002,
          1.0000000000000002
         ],
         "y": [
          0.015,
          0.04,
          0.04,
          0.015,
          0.015,
          -0.015,
          -0.04,
          -0.04,
          -0.015,
          -0.015
         ]
        },
        {
         "customdata": [
          [
           3,
           0.3820337516309053,
           0.19156577488388787,
           16.466972053056264
          ],
          [
           3,
           0.3820337516309053,
           0.19156577488388787,
           16.466972053056264
          ],
          [
           3,
           0.3820337516309053,
           0.19156577488388787,
           16.466972053056264
          ],
          [
           3,
           0.3820337516309053,
           0.19156577488388787,
           16.466972053056264
          ],
          [
           3,
           0.3820337516309053,
           0.19156577488388787,
           16.466972053056264
          ],
          [
           3,
           0.3820337516309053,
           0.19156577488388787,
           16.466972053056264
          ],
          [
           3,
           0.3820337516309053,
           0.19156577488388787,
           16.466972053056264
          ],
          [
           3,
           0.3820337516309053,
           0.19156577488388787,
           16.466972053056264
          ],
          [
           3,
           0.3820337516309053,
           0.19156577488388787,
           16.466972053056264
          ]
         ],
         "fill": "toself",
         "fillcolor": "Firebrick",
         "hoverinfo": "text",
         "hoverlabel": {
          "bgcolor": "Firebrick"
         },
         "hoveron": "points+fills",
         "hovertemplate": "Disk Node: 3<br>Polar Inertia: 3.820e-01<br>Diametral Inertia: 1.916e-01<br>Disk mass: 16.467<br>",
         "legendgroup": "disks",
         "line": {
          "color": "Firebrick",
          "width": 2.0
         },
         "mode": "lines",
         "name": "Disk 0",
         "opacity": 0.8,
         "showlegend": false,
         "text": "Disk Node: 3<br>Polar Inertia: 3.820e-01<br>Diametral Inertia: 1.916e-01<br>Disk mass: 16.467<br>",
         "type": "scatter",
         "x": [
          0.56,
          0.5642666666666667,
          0.5557333333333334,
          0.56,
          null,
          0.56,
          0.5642666666666667,
          0.5557333333333334,
          0.56
         ],
         "y": [
          0.08,
          0.29333333333333333,
          0.29333333333333333,
          0.08,
          null,
          -0.08,
          -0.29333333333333333,
          -0.29333333333333333,
          -0.08
         ]
        },
        {
         "customdata": [
          [
           4,
           0.7640675032618106,
           0.38642494417838696,
           32.93394410611253
          ],
          [
           4,
           0.7640675032618106,
           0.38642494417838696,
           32.93394410611253
          ],
          [
           4,
           0.7640675032618106,
           0.38642494417838696,
           32.93394410611253
          ],
          [
           4,
           0.7640675032618106,
           0.38642494417838696,
           32.93394410611253
          ],
          [
           4,
           0.7640675032618106,
           0.38642494417838696,
           32.93394410611253
          ],
          [
           4,
           0.7640675032618106,
           0.38642494417838696,
           32.93394410611253
          ],
          [
           4,
           0.7640675032618106,
           0.38642494417838696,
           32.93394410611253
          ],
          [
           4,
           0.7640675032618106,
           0.38642494417838696,
           32.93394410611253
          ],
          [
           4,
           0.7640675032618106,
           0.38642494417838696,
           32.93394410611253
          ]
         ],
         "fill": "toself",
         "fillcolor": "Firebrick",
         "hoverinfo": "text",
         "hoverlabel": {
          "bgcolor": "Firebrick"
         },
         "hoveron": "points+fills",
         "hovertemplate": "Disk Node: 4<br>Polar Inertia: 7.641e-01<br>Diametral Inertia: 3.864e-01<br>Disk mass: 32.934<br>",
         "legendgroup": "disks",
         "line": {
          "color": "Firebrick",
          "width": 2.0
         },
         "mode": "lines",
         "name": "Disk 1",
         "opacity": 0.8,
         "showlegend": false,
         "text": "Disk Node: 4<br>Polar Inertia: 7.641e-01<br>Diametral Inertia: 3.864e-01<br>Disk mass: 32.934<br>",
         "type": "scatter",
         "x": [
          0.6000000000000001,
          0.6042666666666667,
          0.5957333333333334,
          0.6000000000000001,
          null,
          0.6000000000000001,
          0.6042666666666667,
          0.5957333333333334,
          0.6000000000000001
         ],
         "y": [
          0.08,
          0.29333333333333333,
          0.29333333333333333,
          0.08,
          null,
          -0.08,
          -0.29333333333333333,
          -0.29333333333333333,
          -0.08
         ]
        },
        {
         "customdata": [
          [
           5,
           0.3820337516309053,
           0.19156577488388787,
           16.466972053056264
          ],
          [
           5,
           0.3820337516309053,
           0.19156577488388787,
           16.466972053056264
          ],
          [
           5,
           0.3820337516309053,
           0.19156577488388787,
           16.466972053056264
          ],
          [
           5,
           0.3820337516309053,
           0.19156577488388787,
           16.466972053056264
          ],
          [
           5,
           0.3820337516309053,
           0.19156577488388787,
           16.466972053056264
          ],
          [
           5,
           0.3820337516309053,
           0.19156577488388787,
           16.466972053056264
          ],
          [
           5,
           0.3820337516309053,
           0.19156577488388787,
           16.466972053056264
          ],
          [
           5,
           0.3820337516309053,
           0.19156577488388787,
           16.466972053056264
          ],
          [
           5,
           0.3820337516309053,
           0.19156577488388787,
           16.466972053056264
          ]
         ],
         "fill": "toself",
         "fillcolor": "Firebrick",
         "hoverinfo": "text",
         "hoverlabel": {
          "bgcolor": "Firebrick"
         },
         "hoveron": "points+fills",
         "hovertemplate": "Disk Node: 5<br>Polar Inertia: 3.820e-01<br>Diametral Inertia: 1.916e-01<br>Disk mass: 16.467<br>",
         "legendgroup": "disks",
         "line": {
          "color": "Firebrick",
          "width": 2.0
         },
         "mode": "lines",
         "name": "Disk 2",
         "opacity": 0.8,
         "showlegend": false,
         "text": "Disk Node: 5<br>Polar Inertia: 3.820e-01<br>Diametral Inertia: 1.916e-01<br>Disk mass: 16.467<br>",
         "type": "scatter",
         "x": [
          0.6400000000000001,
          0.6442666666666668,
          0.6357333333333335,
          0.6400000000000001,
          null,
          0.6400000000000001,
          0.6442666666666668,
          0.6357333333333335,
          0.6400000000000001
         ],
         "y": [
          0.08,
          0.29333333333333333,
          0.29333333333333333,
          0.08,
          null,
          -0.08,
          -0.29333333333333333,
          -0.29333333333333333,
          -0.08
         ]
        },
        {
         "hoverinfo": "none",
         "legendgroup": "bearings",
         "line": {
          "color": "#355d7a",
          "width": 1
         },
         "mode": "lines",
         "name": "Bearing 0",
         "showlegend": false,
         "type": "scatter",
         "x": [
          0.0,
          0.0,
          -0.015238095238095236,
          0.015238095238095236
         ],
         "y": [
          0.04,
          0.06666666666666667,
          0.06666666666666667,
          0.06666666666666667
         ]
        },
        {
         "hoverinfo": "none",
         "legendgroup": "bearings",
         "line": {
          "color": "#355d7a",
          "width": 1
         },
         "mode": "lines",
         "name": "Bearing 0",
         "showlegend": false,
         "type": "scatter",
         "x": [
          0.0,
          0.0,
          -0.015238095238095236,
          0.015238095238095236
         ],
         "y": [
          -0.04,
          -0.06666666666666667,
          -0.06666666666666667,
          -0.06666666666666667
         ]
        },
        {
         "hoverinfo": "none",
         "legendgroup": "bearings",
         "line": {
          "color": "#355d7a",
          "width": 1
         },
         "mode": "lines",
         "name": "Bearing 0",
         "showlegend": false,
         "type": "scatter",
         "x": [
          0.0,
          0.0,
          -0.015238095238095236,
          0.015238095238095236
         ],
         "y": [
          0.14666666666666667,
          0.12,
          0.12,
          0.12
         ]
        },
        {
         "hoverinfo": "none",
         "legendgroup": "bearings",
         "line": {
          "color": "#355d7a",
          "width": 1
         },
         "mode": "lines",
         "name": "Bearing 0",
         "showlegend": false,
         "type": "scatter",
         "x": [
          0.0,
          0.0,
          -0.015238095238095236,
          0.015238095238095236
         ],
         "y": [
          -0.14666666666666667,
          -0.12,
          -0.12,
          -0.12
         ]
        },
        {
         "hoverinfo": "none",
         "legendgroup": "bearings",
         "line": {
          "color": "#355d7a",
          "width": 1
         },
         "mode": "lines",
         "name": "Bearing 0",
         "showlegend": false,
         "type": "scatter",
         "x": [
          -0.022857142857142854,
          0.022857142857142854
         ],
         "y": [
          0.14666666666666667,
          0.14666666666666667
         ]
        },
        {
         "hoverinfo": "none",
         "legendgroup": "bearings",
         "line": {
          "color": "#355d7a",
          "width": 1
         },
         "mode": "lines",
         "name": "Bearing 0",
         "showlegend": false,
         "type": "scatter",
         "x": [
          -0.022857142857142854,
          0.022857142857142854
         ],
         "y": [
          -0.14666666666666667,
          -0.14666666666666667
         ]
        },
        {
         "hoverinfo": "none",
         "legendgroup": "bearings",
         "line": {
          "color": "#355d7a",
          "width": 1
         },
         "mode": "lines",
         "name": "Bearing 0",
         "showlegend": false,
         "type": "scatter",
         "x": [
          -0.022857142857142854,
          -0.013714285714285712
         ],
         "y": [
          0.14666666666666667,
          0.16133333333333336
         ]
        },
        {
         "hoverinfo": "none",
         "legendgroup": "bearings",
         "line": {
          "color": "#355d7a",
          "width": 1
         },
         "mode": "lines",
         "name": "Bearing 0",
         "showlegend": false,
         "type": "scatter",
         "x": [
          -0.022857142857142854,
          -0.013714285714285712
         ],
         "y": [
          -0.14666666666666667,
          -0.16133333333333336
         ]
        },
        {
         "hoverinfo": "none",
         "legendgroup": "bearings",
         "line": {
          "color": "#355d7a",
          "width": 1
         },
         "mode": "lines",
         "name": "Bearing 0",
         "showlegend": false,
         "type": "scatter",
         "x": [
          -0.013714285714285712,
          -0.00457142857142857
         ],
         "y": [
          0.14666666666666667,
          0.16133333333333336
         ]
        },
        {
         "hoverinfo": "none",
         "legendgroup": "bearings",
         "line": {
          "color": "#355d7a",
          "width": 1
         },
         "mode": "lines",
         "name": "Bearing 0",
         "showlegend": false,
         "type": "scatter",
         "x": [
          -0.013714285714285712,
          -0.00457142857142857
         ],
         "y": [
          -0.14666666666666667,
          -0.16133333333333336
         ]
        },
        {
         "hoverinfo": "none",
         "legendgroup": "bearings",
         "line": {
          "color": "#355d7a",
          "width": 1
         },
         "mode": "lines",
         "name": "Bearing 0",
         "showlegend": false,
         "type": "scatter",
         "x": [
          -0.00457142857142857,
          0.0045714285714285735
         ],
         "y": [
          0.14666666666666667,
          0.16133333333333336
         ]
        },
        {
         "hoverinfo": "none",
         "legendgroup": "bearings",
         "line": {
          "color": "#355d7a",
          "width": 1
         },
         "mode": "lines",
         "name": "Bearing 0",
         "showlegend": false,
         "type": "scatter",
         "x": [
          -0.00457142857142857,
          0.0045714285714285735
         ],
         "y": [
          -0.14666666666666667,
          -0.16133333333333336
         ]
        },
        {
         "hoverinfo": "none",
         "legendgroup": "bearings",
         "line": {
          "color": "#355d7a",
          "width": 1
         },
         "mode": "lines",
         "name": "Bearing 0",
         "showlegend": false,
         "type": "scatter",
         "x": [
          0.0045714285714285735,
          0.013714285714285714
         ],
         "y": [
          0.14666666666666667,
          0.16133333333333336
         ]
        },
        {
         "hoverinfo": "none",
         "legendgroup": "bearings",
         "line": {
          "color": "#355d7a",
          "width": 1
         },
         "mode": "lines",
         "name": "Bearing 0",
         "showlegend": false,
         "type": "scatter",
         "x": [
          0.0045714285714285735,
          0.013714285714285714
         ],
         "y": [
          -0.14666666666666667,
          -0.16133333333333336
         ]
        },
        {
         "hoverinfo": "none",
         "legendgroup": "bearings",
         "line": {
          "color": "#355d7a",
          "width": 1
         },
         "mode": "lines",
         "name": "Bearing 0",
         "showlegend": false,
         "type": "scatter",
         "x": [
          0.013714285714285714,
          0.022857142857142854
         ],
         "y": [
          0.14666666666666667,
          0.16133333333333336
         ]
        },
        {
         "hoverinfo": "none",
         "legendgroup": "bearings",
         "line": {
          "color": "#355d7a",
          "width": 1
         },
         "mode": "lines",
         "name": "Bearing 0",
         "showlegend": false,
         "type": "scatter",
         "x": [
          0.013714285714285714,
          0.022857142857142854
         ],
         "y": [
          -0.14666666666666667,
          -0.16133333333333336
         ]
        },
        {
         "hoverinfo": "none",
         "legendgroup": "bearings",
         "line": {
          "color": "#355d7a",
          "width": 1
         },
         "mode": "lines",
         "name": "Bearing 0",
         "showlegend": false,
         "type": "scatter",
         "x": [
          0.022857142857142854,
          0.032
         ],
         "y": [
          0.14666666666666667,
          0.16133333333333336
         ]
        },
        {
         "hoverinfo": "none",
         "legendgroup": "bearings",
         "line": {
          "color": "#355d7a",
          "width": 1
         },
         "mode": "lines",
         "name": "Bearing 0",
         "showlegend": false,
         "type": "scatter",
         "x": [
          0.022857142857142854,
          0.032
         ],
         "y": [
          -0.14666666666666667,
          -0.16133333333333336
         ]
        },
        {
         "hoverinfo": "none",
         "legendgroup": "bearings",
         "line": {
          "color": "#355d7a",
          "width": 1
         },
         "mode": "lines",
         "name": "Bearing 0",
         "showlegend": false,
         "type": "scatter",
         "x": [
          -0.015238095238095236,
          -0.015238095238095236,
          -0.022857142857142854,
          -0.007619047619047618,
          -0.022857142857142854,
          -0.007619047619047618,
          -0.022857142857142854,
          -0.007619047619047618,
          -0.015238095238095236,
          -0.015238095238095236
         ],
         "y": [
          0.06666666666666667,
          0.07428571428571429,
          0.07428571428571429,
          0.0819047619047619,
          0.08952380952380952,
          0.09714285714285714,
          0.10476190476190475,
          0.11238095238095237,
          0.11238095238095237,
          0.12
         ]
        },
        {
         "hoverinfo": "none",
         "legendgroup": "bearings",
         "line": {
          "color": "#355d7a",
          "width": 1
         },
         "mode": "lines",
         "name": "Bearing 0",
         "showlegend": false,
         "type": "scatter",
         "x": [
          -0.015238095238095236,
          -0.015238095238095236,
          -0.022857142857142854,
          -0.007619047619047618,
          -0.022857142857142854,
          -0.007619047619047618,
          -0.022857142857142854,
          -0.007619047619047618,
          -0.015238095238095236,
          -0.015238095238095236
         ],
         "y": [
          -0.06666666666666667,
          -0.07428571428571429,
          -0.07428571428571429,
          -0.0819047619047619,
          -0.08952380952380952,
          -0.09714285714285714,
          -0.10476190476190475,
          -0.11238095238095237,
          -0.11238095238095237,
          -0.12
         ]
        },
        {
         "hoverinfo": "none",
         "legendgroup": "bearings",
         "line": {
          "color": "#355d7a",
          "width": 1
         },
         "mode": "lines",
         "name": "Bearing 0",
         "showlegend": false,
         "type": "scatter",
         "x": [
          0.015238095238095236,
          0.015238095238095236
         ],
         "y": [
          0.06666666666666667,
          0.0819047619047619
         ]
        },
        {
         "hoverinfo": "none",
         "legendgroup": "bearings",
         "line": {
          "color": "#355d7a",
          "width": 1
         },
         "mode": "lines",
         "name": "Bearing 0",
         "showlegend": false,
         "type": "scatter",
         "x": [
          0.015238095238095236,
          0.015238095238095236
         ],
         "y": [
          -0.06666666666666667,
          -0.0819047619047619
         ]
        },
        {
         "hoverinfo": "none",
         "legendgroup": "bearings",
         "line": {
          "color": "#355d7a",
          "width": 1
         },
         "mode": "lines",
         "name": "Bearing 0",
         "showlegend": false,
         "type": "scatter",
         "x": [
          0.0,
          0.0,
          0.030476190476190473,
          0.030476190476190473
         ],
         "y": [
          0.10476190476190475,
          0.0819047619047619,
          0.0819047619047619,
          0.10476190476190475
         ]
        },
        {
         "hoverinfo": "none",
         "legendgroup": "bearings",
         "line": {
          "color": "#355d7a",
          "width": 1
         },
         "mode": "lines",
         "name": "Bearing 0",
         "showlegend": false,
         "type": "scatter",
         "x": [
          0.0,
          0.0,
          0.030476190476190473,
          0.030476190476190473
         ],
         "y": [
          -0.10476190476190475,
          -0.0819047619047619,
          -0.0819047619047619,
          -0.10476190476190475
         ]
        },
        {
         "hoverinfo": "none",
         "legendgroup": "bearings",
         "line": {
          "color": "#355d7a",
          "width": 1
         },
         "mode": "lines",
         "name": "Bearing 0",
         "showlegend": false,
         "type": "scatter",
         "x": [
          0.0,
          0.030476190476190473,
          0.015238095238095236,
          0.015238095238095236
         ],
         "y": [
          0.09714285714285714,
          0.09714285714285714,
          0.09714285714285714,
          0.12
         ]
        },
        {
         "hoverinfo": "none",
         "legendgroup": "bearings",
         "line": {
          "color": "#355d7a",
          "width": 1
         },
         "mode": "lines",
         "name": "Bearing 0",
         "showlegend": false,
         "type": "scatter",
         "x": [
          0.0,
          0.030476190476190473,
          0.015238095238095236,
          0.015238095238095236
         ],
         "y": [
          -0.09714285714285714,
          -0.09714285714285714,
          -0.09714285714285714,
          -0.12
         ]
        },
        {
         "hoverinfo": "none",
         "legendgroup": "bearings",
         "line": {
          "color": "#355d7a",
          "width": 1
         },
         "mode": "lines",
         "name": "Bearing 1",
         "showlegend": false,
         "type": "scatter",
         "x": [
          1.2000000000000002,
          1.2000000000000002,
          1.184761904761905,
          1.2152380952380955
         ],
         "y": [
          0.04,
          0.06666666666666667,
          0.06666666666666667,
          0.06666666666666667
         ]
        },
        {
         "hoverinfo": "none",
         "legendgroup": "bearings",
         "line": {
          "color": "#355d7a",
          "width": 1
         },
         "mode": "lines",
         "name": "Bearing 1",
         "showlegend": false,
         "type": "scatter",
         "x": [
          1.2000000000000002,
          1.2000000000000002,
          1.184761904761905,
          1.2152380952380955
         ],
         "y": [
          -0.04,
          -0.06666666666666667,
          -0.06666666666666667,
          -0.06666666666666667
         ]
        },
        {
         "hoverinfo": "none",
         "legendgroup": "bearings",
         "line": {
          "color": "#355d7a",
          "width": 1
         },
         "mode": "lines",
         "name": "Bearing 1",
         "showlegend": false,
         "type": "scatter",
         "x": [
          1.2000000000000002,
          1.2000000000000002,
          1.184761904761905,
          1.2152380952380955
         ],
         "y": [
          0.14666666666666667,
          0.12,
          0.12,
          0.12
         ]
        },
        {
         "hoverinfo": "none",
         "legendgroup": "bearings",
         "line": {
          "color": "#355d7a",
          "width": 1
         },
         "mode": "lines",
         "name": "Bearing 1",
         "showlegend": false,
         "type": "scatter",
         "x": [
          1.2000000000000002,
          1.2000000000000002,
          1.184761904761905,
          1.2152380952380955
         ],
         "y": [
          -0.14666666666666667,
          -0.12,
          -0.12,
          -0.12
         ]
        },
        {
         "hoverinfo": "none",
         "legendgroup": "bearings",
         "line": {
          "color": "#355d7a",
          "width": 1
         },
         "mode": "lines",
         "name": "Bearing 1",
         "showlegend": false,
         "type": "scatter",
         "x": [
          1.1771428571428573,
          1.222857142857143
         ],
         "y": [
          0.14666666666666667,
          0.14666666666666667
         ]
        },
        {
         "hoverinfo": "none",
         "legendgroup": "bearings",
         "line": {
          "color": "#355d7a",
          "width": 1
         },
         "mode": "lines",
         "name": "Bearing 1",
         "showlegend": false,
         "type": "scatter",
         "x": [
          1.1771428571428573,
          1.222857142857143
         ],
         "y": [
          -0.14666666666666667,
          -0.14666666666666667
         ]
        },
        {
         "hoverinfo": "none",
         "legendgroup": "bearings",
         "line": {
          "color": "#355d7a",
          "width": 1
         },
         "mode": "lines",
         "name": "Bearing 1",
         "showlegend": false,
         "type": "scatter",
         "x": [
          1.1771428571428573,
          1.1862857142857144
         ],
         "y": [
          0.14666666666666667,
          0.16133333333333336
         ]
        },
        {
         "hoverinfo": "none",
         "legendgroup": "bearings",
         "line": {
          "color": "#355d7a",
          "width": 1
         },
         "mode": "lines",
         "name": "Bearing 1",
         "showlegend": false,
         "type": "scatter",
         "x": [
          1.1771428571428573,
          1.1862857142857144
         ],
         "y": [
          -0.14666666666666667,
          -0.16133333333333336
         ]
        },
        {
         "hoverinfo": "none",
         "legendgroup": "bearings",
         "line": {
          "color": "#355d7a",
          "width": 1
         },
         "mode": "lines",
         "name": "Bearing 1",
         "showlegend": false,
         "type": "scatter",
         "x": [
          1.1862857142857144,
          1.1954285714285715
         ],
         "y": [
          0.14666666666666667,
          0.16133333333333336
         ]
        },
        {
         "hoverinfo": "none",
         "legendgroup": "bearings",
         "line": {
          "color": "#355d7a",
          "width": 1
         },
         "mode": "lines",
         "name": "Bearing 1",
         "showlegend": false,
         "type": "scatter",
         "x": [
          1.1862857142857144,
          1.1954285714285715
         ],
         "y": [
          -0.14666666666666667,
          -0.16133333333333336
         ]
        },
        {
         "hoverinfo": "none",
         "legendgroup": "bearings",
         "line": {
          "color": "#355d7a",
          "width": 1
         },
         "mode": "lines",
         "name": "Bearing 1",
         "showlegend": false,
         "type": "scatter",
         "x": [
          1.1954285714285715,
          1.2045714285714288
         ],
         "y": [
          0.14666666666666667,
          0.16133333333333336
         ]
        },
        {
         "hoverinfo": "none",
         "legendgroup": "bearings",
         "line": {
          "color": "#355d7a",
          "width": 1
         },
         "mode": "lines",
         "name": "Bearing 1",
         "showlegend": false,
         "type": "scatter",
         "x": [
          1.1954285714285715,
          1.2045714285714288
         ],
         "y": [
          -0.14666666666666667,
          -0.16133333333333336
         ]
        },
        {
         "hoverinfo": "none",
         "legendgroup": "bearings",
         "line": {
          "color": "#355d7a",
          "width": 1
         },
         "mode": "lines",
         "name": "Bearing 1",
         "showlegend": false,
         "type": "scatter",
         "x": [
          1.2045714285714288,
          1.213714285714286
         ],
         "y": [
          0.14666666666666667,
          0.16133333333333336
         ]
        },
        {
         "hoverinfo": "none",
         "legendgroup": "bearings",
         "line": {
          "color": "#355d7a",
          "width": 1
         },
         "mode": "lines",
         "name": "Bearing 1",
         "showlegend": false,
         "type": "scatter",
         "x": [
          1.2045714285714288,
          1.213714285714286
         ],
         "y": [
          -0.14666666666666667,
          -0.16133333333333336
         ]
        },
        {
         "hoverinfo": "none",
         "legendgroup": "bearings",
         "line": {
          "color": "#355d7a",
          "width": 1
         },
         "mode": "lines",
         "name": "Bearing 1",
         "showlegend": false,
         "type": "scatter",
         "x": [
          1.213714285714286,
          1.222857142857143
         ],
         "y": [
          0.14666666666666667,
          0.16133333333333336
         ]
        },
        {
         "hoverinfo": "none",
         "legendgroup": "bearings",
         "line": {
          "color": "#355d7a",
          "width": 1
         },
         "mode": "lines",
         "name": "Bearing 1",
         "showlegend": false,
         "type": "scatter",
         "x": [
          1.213714285714286,
          1.222857142857143
         ],
         "y": [
          -0.14666666666666667,
          -0.16133333333333336
         ]
        },
        {
         "hoverinfo": "none",
         "legendgroup": "bearings",
         "line": {
          "color": "#355d7a",
          "width": 1
         },
         "mode": "lines",
         "name": "Bearing 1",
         "showlegend": false,
         "type": "scatter",
         "x": [
          1.222857142857143,
          1.2320000000000002
         ],
         "y": [
          0.14666666666666667,
          0.16133333333333336
         ]
        },
        {
         "hoverinfo": "none",
         "legendgroup": "bearings",
         "line": {
          "color": "#355d7a",
          "width": 1
         },
         "mode": "lines",
         "name": "Bearing 1",
         "showlegend": false,
         "type": "scatter",
         "x": [
          1.222857142857143,
          1.2320000000000002
         ],
         "y": [
          -0.14666666666666667,
          -0.16133333333333336
         ]
        },
        {
         "hoverinfo": "none",
         "legendgroup": "bearings",
         "line": {
          "color": "#355d7a",
          "width": 1
         },
         "mode": "lines",
         "name": "Bearing 1",
         "showlegend": false,
         "type": "scatter",
         "x": [
          1.184761904761905,
          1.184761904761905,
          1.1771428571428573,
          1.1923809523809525,
          1.1771428571428573,
          1.1923809523809525,
          1.1771428571428573,
          1.1923809523809525,
          1.184761904761905,
          1.184761904761905
         ],
         "y": [
          0.06666666666666667,
          0.07428571428571429,
          0.07428571428571429,
          0.0819047619047619,
          0.08952380952380952,
          0.09714285714285714,
          0.10476190476190475,
          0.11238095238095237,
          0.11238095238095237,
          0.12
         ]
        },
        {
         "hoverinfo": "none",
         "legendgroup": "bearings",
         "line": {
          "color": "#355d7a",
          "width": 1
         },
         "mode": "lines",
         "name": "Bearing 1",
         "showlegend": false,
         "type": "scatter",
         "x": [
          1.184761904761905,
          1.184761904761905,
          1.1771428571428573,
          1.1923809523809525,
          1.1771428571428573,
          1.1923809523809525,
          1.1771428571428573,
          1.1923809523809525,
          1.184761904761905,
          1.184761904761905
         ],
         "y": [
          -0.06666666666666667,
          -0.07428571428571429,
          -0.07428571428571429,
          -0.0819047619047619,
          -0.08952380952380952,
          -0.09714285714285714,
          -0.10476190476190475,
          -0.11238095238095237,
          -0.11238095238095237,
          -0.12
         ]
        },
        {
         "hoverinfo": "none",
         "legendgroup": "bearings",
         "line": {
          "color": "#355d7a",
          "width": 1
         },
         "mode": "lines",
         "name": "Bearing 1",
         "showlegend": false,
         "type": "scatter",
         "x": [
          1.2152380952380955,
          1.2152380952380955
         ],
         "y": [
          0.06666666666666667,
          0.0819047619047619
         ]
        },
        {
         "hoverinfo": "none",
         "legendgroup": "bearings",
         "line": {
          "color": "#355d7a",
          "width": 1
         },
         "mode": "lines",
         "name": "Bearing 1",
         "showlegend": false,
         "type": "scatter",
         "x": [
          1.2152380952380955,
          1.2152380952380955
         ],
         "y": [
          -0.06666666666666667,
          -0.0819047619047619
         ]
        },
        {
         "hoverinfo": "none",
         "legendgroup": "bearings",
         "line": {
          "color": "#355d7a",
          "width": 1
         },
         "mode": "lines",
         "name": "Bearing 1",
         "showlegend": false,
         "type": "scatter",
         "x": [
          1.2000000000000002,
          1.2000000000000002,
          1.2304761904761907,
          1.2304761904761907
         ],
         "y": [
          0.10476190476190475,
          0.0819047619047619,
          0.0819047619047619,
          0.10476190476190475
         ]
        },
        {
         "hoverinfo": "none",
         "legendgroup": "bearings",
         "line": {
          "color": "#355d7a",
          "width": 1
         },
         "mode": "lines",
         "name": "Bearing 1",
         "showlegend": false,
         "type": "scatter",
         "x": [
          1.2000000000000002,
          1.2000000000000002,
          1.2304761904761907,
          1.2304761904761907
         ],
         "y": [
          -0.10476190476190475,
          -0.0819047619047619,
          -0.0819047619047619,
          -0.10476190476190475
         ]
        },
        {
         "hoverinfo": "none",
         "legendgroup": "bearings",
         "line": {
          "color": "#355d7a",
          "width": 1
         },
         "mode": "lines",
         "name": "Bearing 1",
         "showlegend": false,
         "type": "scatter",
         "x": [
          1.2000000000000002,
          1.2304761904761907,
          1.2152380952380955,
          1.2152380952380955
         ],
         "y": [
          0.09714285714285714,
          0.09714285714285714,
          0.09714285714285714,
          0.12
         ]
        },
        {
         "hoverinfo": "none",
         "legendgroup": "bearings",
         "line": {
          "color": "#355d7a",
          "width": 1
         },
         "mode": "lines",
         "name": "Bearing 1",
         "showlegend": false,
         "type": "scatter",
         "x": [
          1.2000000000000002,
          1.2304761904761907,
          1.2152380952380955,
          1.2152380952380955
         ],
         "y": [
          -0.09714285714285714,
          -0.09714285714285714,
          -0.09714285714285714,
          -0.12
         ]
        }
       ],
       "layout": {
        "shapes": [
         {
          "fillcolor": "Firebrick",
          "line": {
           "color": "Firebrick"
          },
          "type": "circle",
          "x0": 0.5466666666666667,
          "x1": 0.5733333333333334,
          "xref": "x",
          "y0": 0.28,
          "y1": 0.30666666666666664,
          "yref": "y"
         },
         {
          "fillcolor": "Firebrick",
          "line": {
           "color": "Firebrick"
          },
          "type": "circle",
          "x0": 0.5466666666666667,
          "x1": 0.5733333333333334,
          "xref": "x",
          "y0": -0.30666666666666664,
          "y1": -0.28,
          "yref": "y"
         },
         {
          "fillcolor": "Firebrick",
          "line": {
           "color": "Firebrick"
          },
          "type": "circle",
          "x0": 0.5866666666666668,
          "x1": 0.6133333333333334,
          "xref": "x",
          "y0": 0.28,
          "y1": 0.30666666666666664,
          "yref": "y"
         },
         {
          "fillcolor": "Firebrick",
          "line": {
           "color": "Firebrick"
          },
          "type": "circle",
          "x0": 0.5866666666666668,
          "x1": 0.6133333333333334,
          "xref": "x",
          "y0": -0.30666666666666664,
          "y1": -0.28,
          "yref": "y"
         },
         {
          "fillcolor": "Firebrick",
          "line": {
           "color": "Firebrick"
          },
          "type": "circle",
          "x0": 0.6266666666666668,
          "x1": 0.6533333333333334,
          "xref": "x",
          "y0": 0.28,
          "y1": 0.30666666666666664,
          "yref": "y"
         },
         {
          "fillcolor": "Firebrick",
          "line": {
           "color": "Firebrick"
          },
          "type": "circle",
          "x0": 0.6266666666666668,
          "x1": 0.6533333333333334,
          "xref": "x",
          "y0": -0.30666666666666664,
          "y1": -0.28,
          "yref": "y"
         }
        ],
        "template": {
         "data": {
          "bar": [
           {
            "error_x": {
             "color": "#2a3f5f"
            },
            "error_y": {
             "color": "#2a3f5f"
            },
            "marker": {
             "line": {
              "color": "white",
              "width": 0.5
             }
            },
            "type": "bar"
           }
          ],
          "barpolar": [
           {
            "marker": {
             "line": {
              "color": "white",
              "width": 0.5
             }
            },
            "type": "barpolar"
           }
          ],
          "carpet": [
           {
            "aaxis": {
             "endlinecolor": "#2a3f5f",
             "gridcolor": "#C8D4E3",
             "linecolor": "#C8D4E3",
             "minorgridcolor": "#C8D4E3",
             "startlinecolor": "#2a3f5f"
            },
            "baxis": {
             "endlinecolor": "#2a3f5f",
             "gridcolor": "#C8D4E3",
             "linecolor": "#C8D4E3",
             "minorgridcolor": "#C8D4E3",
             "startlinecolor": "#2a3f5f"
            },
            "type": "carpet"
           }
          ],
          "choropleth": [
           {
            "colorbar": {
             "outlinewidth": 0,
             "ticks": ""
            },
            "type": "choropleth"
           }
          ],
          "contour": [
           {
            "colorbar": {
             "outlinewidth": 0,
             "ticks": ""
            },
            "colorscale": [
             [
              0.0,
              "#0d0887"
             ],
             [
              0.1111111111111111,
              "#46039f"
             ],
             [
              0.2222222222222222,
              "#7201a8"
             ],
             [
              0.3333333333333333,
              "#9c179e"
             ],
             [
              0.4444444444444444,
              "#bd3786"
             ],
             [
              0.5555555555555556,
              "#d8576b"
             ],
             [
              0.6666666666666666,
              "#ed7953"
             ],
             [
              0.7777777777777778,
              "#fb9f3a"
             ],
             [
              0.8888888888888888,
              "#fdca26"
             ],
             [
              1.0,
              "#f0f921"
             ]
            ],
            "type": "contour"
           }
          ],
          "contourcarpet": [
           {
            "colorbar": {
             "outlinewidth": 0,
             "ticks": ""
            },
            "type": "contourcarpet"
           }
          ],
          "heatmap": [
           {
            "colorbar": {
             "outlinewidth": 0,
             "ticks": ""
            },
            "colorscale": [
             [
              0.0,
              "#0d0887"
             ],
             [
              0.1111111111111111,
              "#46039f"
             ],
             [
              0.2222222222222222,
              "#7201a8"
             ],
             [
              0.3333333333333333,
              "#9c179e"
             ],
             [
              0.4444444444444444,
              "#bd3786"
             ],
             [
              0.5555555555555556,
              "#d8576b"
             ],
             [
              0.6666666666666666,
              "#ed7953"
             ],
             [
              0.7777777777777778,
              "#fb9f3a"
             ],
             [
              0.8888888888888888,
              "#fdca26"
             ],
             [
              1.0,
              "#f0f921"
             ]
            ],
            "type": "heatmap"
           }
          ],
          "heatmapgl": [
           {
            "colorbar": {
             "outlinewidth": 0,
             "ticks": ""
            },
            "colorscale": [
             [
              0.0,
              "#0d0887"
             ],
             [
              0.1111111111111111,
              "#46039f"
             ],
             [
              0.2222222222222222,
              "#7201a8"
             ],
             [
              0.3333333333333333,
              "#9c179e"
             ],
             [
              0.4444444444444444,
              "#bd3786"
             ],
             [
              0.5555555555555556,
              "#d8576b"
             ],
             [
              0.6666666666666666,
              "#ed7953"
             ],
             [
              0.7777777777777778,
              "#fb9f3a"
             ],
             [
              0.8888888888888888,
              "#fdca26"
             ],
             [
              1.0,
              "#f0f921"
             ]
            ],
            "type": "heatmapgl"
           }
          ],
          "histogram": [
           {
            "marker": {
             "colorbar": {
              "outlinewidth": 0,
              "ticks": ""
             }
            },
            "type": "histogram"
           }
          ],
          "histogram2d": [
           {
            "colorbar": {
             "outlinewidth": 0,
             "ticks": ""
            },
            "colorscale": [
             [
              0.0,
              "#0d0887"
             ],
             [
              0.1111111111111111,
              "#46039f"
             ],
             [
              0.2222222222222222,
              "#7201a8"
             ],
             [
              0.3333333333333333,
              "#9c179e"
             ],
             [
              0.4444444444444444,
              "#bd3786"
             ],
             [
              0.5555555555555556,
              "#d8576b"
             ],
             [
              0.6666666666666666,
              "#ed7953"
             ],
             [
              0.7777777777777778,
              "#fb9f3a"
             ],
             [
              0.8888888888888888,
              "#fdca26"
             ],
             [
              1.0,
              "#f0f921"
             ]
            ],
            "type": "histogram2d"
           }
          ],
          "histogram2dcontour": [
           {
            "colorbar": {
             "outlinewidth": 0,
             "ticks": ""
            },
            "colorscale": [
             [
              0.0,
              "#0d0887"
             ],
             [
              0.1111111111111111,
              "#46039f"
             ],
             [
              0.2222222222222222,
              "#7201a8"
             ],
             [
              0.3333333333333333,
              "#9c179e"
             ],
             [
              0.4444444444444444,
              "#bd3786"
             ],
             [
              0.5555555555555556,
              "#d8576b"
             ],
             [
              0.6666666666666666,
              "#ed7953"
             ],
             [
              0.7777777777777778,
              "#fb9f3a"
             ],
             [
              0.8888888888888888,
              "#fdca26"
             ],
             [
              1.0,
              "#f0f921"
             ]
            ],
            "type": "histogram2dcontour"
           }
          ],
          "mesh3d": [
           {
            "colorbar": {
             "outlinewidth": 0,
             "ticks": ""
            },
            "type": "mesh3d"
           }
          ],
          "parcoords": [
           {
            "line": {
             "colorbar": {
              "outlinewidth": 0,
              "ticks": ""
             }
            },
            "type": "parcoords"
           }
          ],
          "pie": [
           {
            "automargin": true,
            "type": "pie"
           }
          ],
          "scatter": [
           {
            "marker": {
             "colorbar": {
              "outlinewidth": 0,
              "ticks": ""
             }
            },
            "type": "scatter"
           }
          ],
          "scatter3d": [
           {
            "line": {
             "colorbar": {
              "outlinewidth": 0,
              "ticks": ""
             }
            },
            "marker": {
             "colorbar": {
              "outlinewidth": 0,
              "ticks": ""
             },
             "size": 4
            },
            "type": "scatter3d"
           }
          ],
          "scattercarpet": [
           {
            "marker": {
             "colorbar": {
              "outlinewidth": 0,
              "ticks": ""
             }
            },
            "type": "scattercarpet"
           }
          ],
          "scattergeo": [
           {
            "marker": {
             "colorbar": {
              "outlinewidth": 0,
              "ticks": ""
             }
            },
            "type": "scattergeo"
           }
          ],
          "scattergl": [
           {
            "marker": {
             "colorbar": {
              "outlinewidth": 0,
              "ticks": ""
             }
            },
            "type": "scattergl"
           }
          ],
          "scattermapbox": [
           {
            "marker": {
             "colorbar": {
              "outlinewidth": 0,
              "ticks": ""
             }
            },
            "type": "scattermapbox"
           }
          ],
          "scatterpolar": [
           {
            "marker": {
             "colorbar": {
              "outlinewidth": 0,
              "ticks": ""
             }
            },
            "type": "scatterpolar"
           }
          ],
          "scatterpolargl": [
           {
            "marker": {
             "colorbar": {
              "outlinewidth": 0,
              "ticks": ""
             }
            },
            "type": "scatterpolargl"
           }
          ],
          "scatterternary": [
           {
            "marker": {
             "colorbar": {
              "outlinewidth": 0,
              "ticks": ""
             }
            },
            "type": "scatterternary"
           }
          ],
          "surface": [
           {
            "colorbar": {
             "outlinewidth": 0,
             "ticks": ""
            },
            "colorscale": [
             [
              0.0,
              "#0d0887"
             ],
             [
              0.1111111111111111,
              "#46039f"
             ],
             [
              0.2222222222222222,
              "#7201a8"
             ],
             [
              0.3333333333333333,
              "#9c179e"
             ],
             [
              0.4444444444444444,
              "#bd3786"
             ],
             [
              0.5555555555555556,
              "#d8576b"
             ],
             [
              0.6666666666666666,
              "#ed7953"
             ],
             [
              0.7777777777777778,
              "#fb9f3a"
             ],
             [
              0.8888888888888888,
              "#fdca26"
             ],
             [
              1.0,
              "#f0f921"
             ]
            ],
            "type": "surface"
           }
          ],
          "table": [
           {
            "cells": {
             "fill": {
              "color": "#EBF0F8"
             },
             "line": {
              "color": "white"
             }
            },
            "header": {
             "fill": {
              "color": "#C8D4E3"
             },
             "line": {
              "color": "white"
             }
            },
            "type": "table"
           }
          ]
         },
         "layout": {
          "annotationdefaults": {
           "arrowcolor": "#2a3f5f",
           "arrowhead": 0,
           "arrowwidth": 1
          },
          "coloraxis": {
           "colorbar": {
            "outlinewidth": 0,
            "ticks": ""
           }
          },
          "colorscale": {
           "diverging": [
            [
             0,
             "#8e0152"
            ],
            [
             0.1,
             "#c51b7d"
            ],
            [
             0.2,
             "#de77ae"
            ],
            [
             0.3,
             "#f1b6da"
            ],
            [
             0.4,
             "#fde0ef"
            ],
            [
             0.5,
             "#f7f7f7"
            ],
            [
             0.6,
             "#e6f5d0"
            ],
            [
             0.7,
             "#b8e186"
            ],
            [
             0.8,
             "#7fbc41"
            ],
            [
             0.9,
             "#4d9221"
            ],
            [
             1,
             "#276419"
            ]
           ],
           "sequential": [
            [
             0.0,
             "#0d0887"
            ],
            [
             0.1111111111111111,
             "#46039f"
            ],
            [
             0.2222222222222222,
             "#7201a8"
            ],
            [
             0.3333333333333333,
             "#9c179e"
            ],
            [
             0.4444444444444444,
             "#bd3786"
            ],
            [
             0.5555555555555556,
             "#d8576b"
            ],
            [
             0.6666666666666666,
             "#ed7953"
            ],
            [
             0.7777777777777778,
             "#fb9f3a"
            ],
            [
             0.8888888888888888,
             "#fdca26"
            ],
            [
             1.0,
             "#f0f921"
            ]
           ],
           "sequentialminus": [
            [
             0.0,
             "#0d0887"
            ],
            [
             0.1111111111111111,
             "#46039f"
            ],
            [
             0.2222222222222222,
             "#7201a8"
            ],
            [
             0.3333333333333333,
             "#9c179e"
            ],
            [
             0.4444444444444444,
             "#bd3786"
            ],
            [
             0.5555555555555556,
             "#d8576b"
            ],
            [
             0.6666666666666666,
             "#ed7953"
            ],
            [
             0.7777777777777778,
             "#fb9f3a"
            ],
            [
             0.8888888888888888,
             "#fdca26"
            ],
            [
             1.0,
             "#f0f921"
            ]
           ]
          },
          "colorway": [
           "#1f77b4",
           "#ff7f0e",
           "#2ca02c",
           "#d62728",
           "#9467bd",
           "#8c564b",
           "#e377c2",
           "#7f7f7f",
           "#bcbd22",
           "#17becf"
          ],
          "font": {
           "color": "#2a3f5f"
          },
          "geo": {
           "bgcolor": "white",
           "lakecolor": "white",
           "landcolor": "white",
           "showlakes": true,
           "showland": true,
           "subunitcolor": "#C8D4E3"
          },
          "hoverlabel": {
           "align": "left"
          },
          "hovermode": "closest",
          "mapbox": {
           "style": "light"
          },
          "paper_bgcolor": "white",
          "plot_bgcolor": "white",
          "polar": {
           "angularaxis": {
            "gridcolor": "#EBF0F8",
            "linecolor": "#EBF0F8",
            "ticks": ""
           },
           "bgcolor": "white",
           "radialaxis": {
            "gridcolor": "#EBF0F8",
            "linecolor": "#EBF0F8",
            "ticks": ""
           }
          },
          "scene": {
           "camera": {
            "center": {
             "x": 0,
             "y": 0,
             "z": 0
            },
            "eye": {
             "x": 2.0,
             "y": 2.0,
             "z": 2.0
            },
            "up": {
             "x": 0,
             "y": 0,
             "z": 1
            }
           },
           "xaxis": {
            "backgroundcolor": "white",
            "gridcolor": "#DFE8F3",
            "gridwidth": 2,
            "linecolor": "#EBF0F8",
            "showbackground": true,
            "showspikes": false,
            "ticks": "",
            "zerolinecolor": "#EBF0F8"
           },
           "yaxis": {
            "backgroundcolor": "white",
            "gridcolor": "#DFE8F3",
            "gridwidth": 2,
            "linecolor": "#EBF0F8",
            "showbackground": true,
            "showspikes": false,
            "ticks": "",
            "zerolinecolor": "#EBF0F8"
           },
           "zaxis": {
            "backgroundcolor": "white",
            "gridcolor": "#DFE8F3",
            "gridwidth": 2,
            "linecolor": "#EBF0F8",
            "showbackground": true,
            "showspikes": false,
            "ticks": "",
            "zerolinecolor": "#EBF0F8"
           }
          },
          "shapedefaults": {
           "line": {
            "color": "#2a3f5f"
           }
          },
          "ternary": {
           "aaxis": {
            "gridcolor": "#DFE8F3",
            "linecolor": "#A2B1C6",
            "ticks": ""
           },
           "baxis": {
            "gridcolor": "#DFE8F3",
            "linecolor": "#A2B1C6",
            "ticks": ""
           },
           "bgcolor": "white",
           "caxis": {
            "gridcolor": "#DFE8F3",
            "linecolor": "#A2B1C6",
            "ticks": ""
           }
          },
          "title": {
           "x": 0.05
          },
          "xaxis": {
           "automargin": true,
           "gridcolor": "#EBF0F8",
           "linecolor": "black",
           "linewidth": 2.0,
           "mirror": true,
           "showline": true,
           "ticks": "",
           "title": {
            "standoff": 15
           },
           "zeroline": false,
           "zerolinecolor": "#EBF0F8",
           "zerolinewidth": 2
          },
          "yaxis": {
           "automargin": true,
           "gridcolor": "#EBF0F8",
           "linecolor": "black",
           "linewidth": 2.0,
           "mirror": true,
           "showline": true,
           "ticks": "",
           "title": {
            "standoff": 15
           },
           "zeroline": false,
           "zerolinecolor": "#EBF0F8",
           "zerolinewidth": 2
          }
         }
        },
        "title": {
         "text": "Rotor Model"
        },
        "xaxis": {
         "mirror": true,
         "range": [
          -0.12000000000000002,
          1.3200000000000003
         ],
         "showgrid": false,
         "title": {
          "text": "Axial location (m)"
         }
        },
        "yaxis": {
         "mirror": true,
         "range": [
          -0.36000000000000004,
          0.36000000000000004
         ],
         "showgrid": false,
         "title": {
          "text": "Shaft radius (m)"
         }
        }
       }
      }
     },
     "metadata": {},
     "output_type": "display_data"
    }
   ],
   "source": [
    "shaft = [\n",
    "    rs.ShaftElement(n=0, L=L, idl=idl, odl=odl, material=steel),\n",
    "    rs.ShaftElement(n=1, L=L, idl=idl, odl=odl, material=steel),\n",
    "    rs.ShaftElement(n=2, L=0.16, idl=idl, odl=odl, material=steel),\n",
    "    rs.ShaftElement(n=3, L=0.04, idl=idl, odl=0.16, material=steel),\n",
    "    rs.ShaftElement(n=4, L=0.04, idl=idl, odl=0.16, material=steel),\n",
    "    rs.ShaftElement(n=5, L=0.16, idl=idl, odl=odl, material=steel),\n",
    "    rs.ShaftElement(n=6, L=L, idl=idl, odl=odl, material=steel),\n",
    "    rs.ShaftElement(n=7, L=L, idl=idl, odl=odl, material=steel),\n",
    "]\n",
    "bearings = [\n",
    "    rs.BearingElement(n=0, kxx=1e20, cxx=0),\n",
    "    rs.BearingElement(n=len(shaft), kxx=1e20, cxx=0),\n",
    "]\n",
    "disks = [\n",
    "    rs.DiskElement.from_geometry(n=3, material=steel, width=0.02, o_d=0.4, i_d=0.16),\n",
    "    rs.DiskElement.from_geometry(n=4, material=steel, width=0.04, o_d=0.4, i_d=0.16),\n",
    "    rs.DiskElement.from_geometry(n=5, material=steel, width=0.02, o_d=0.4, i_d=0.16),\n",
    "]\n",
    "\n",
    "rotor3 = rs.Rotor(shaft_elements=shaft, disk_elements=disks, bearing_elements=bearings)\n",
    "rotor3.plot_rotor()"
   ]
  },
  {
   "cell_type": "code",
   "execution_count": 7,
   "id": "564552a7",
   "metadata": {
    "execution": {
     "iopub.execute_input": "2023-05-04T01:02:24.061751Z",
     "iopub.status.busy": "2023-05-04T01:02:24.061617Z",
     "iopub.status.idle": "2023-05-04T01:02:24.127377Z",
     "shell.execute_reply": "2023-05-04T01:02:24.126934Z"
    }
   },
   "outputs": [
    {
     "data": {
      "application/vnd.plotly.v1+json": {
       "config": {
        "plotlyServerURL": "https://plot.ly"
       },
       "data": [
        {
         "hoverinfo": "none",
         "line": {
          "color": "black",
          "dash": "dashdot",
          "width": 3.0
         },
         "mode": "lines",
         "opacity": 0.7,
         "showlegend": false,
         "type": "scatter",
         "x": [
          -0.24,
          1.44
         ],
         "y": [
          0,
          0
         ]
        },
        {
         "hoverinfo": "none",
         "marker": {
          "color": "#ffcc99",
          "line": {
           "color": "black",
           "width": 1.0
          },
          "opacity": 0.7,
          "size": 20
         },
         "mode": "markers+text",
         "showlegend": false,
         "text": [
          "0",
          "1",
          "2",
          "3",
          "4",
          "5",
          "6",
          "7"
         ],
         "type": "scatter",
         "x": [
          0.0,
          0.2,
          0.4,
          0.56,
          0.64,
          0.8,
          1.0,
          1.2
         ],
         "y": [
          0.0,
          0.0,
          0.0,
          0.0,
          0.0,
          0.0,
          0.0,
          0.0
         ]
        },
        {
         "customdata": [
          [
           0,
           0.08,
           0.03,
           0.08,
           0.03,
           0.2,
           "steel"
          ],
          [
           0,
           0.08,
           0.03,
           0.08,
           0.03,
           0.2,
           "steel"
          ],
          [
           0,
           0.08,
           0.03,
           0.08,
           0.03,
           0.2,
           "steel"
          ],
          [
           0,
           0.08,
           0.03,
           0.08,
           0.03,
           0.2,
           "steel"
          ],
          [
           0,
           0.08,
           0.03,
           0.08,
           0.03,
           0.2,
           "steel"
          ],
          [
           0,
           0.08,
           0.03,
           0.08,
           0.03,
           0.2,
           "steel"
          ],
          [
           0,
           0.08,
           0.03,
           0.08,
           0.03,
           0.2,
           "steel"
          ],
          [
           0,
           0.08,
           0.03,
           0.08,
           0.03,
           0.2,
           "steel"
          ],
          [
           0,
           0.08,
           0.03,
           0.08,
           0.03,
           0.2,
           "steel"
          ],
          [
           0,
           0.08,
           0.03,
           0.08,
           0.03,
           0.2,
           "steel"
          ]
         ],
         "fill": "toself",
         "fillcolor": "#525252",
         "hoverinfo": "text",
         "hoverlabel": {
          "bgcolor": "#525252"
         },
         "hoveron": "points+fills",
         "hovertemplate": "Element Number: 0<br>Left Outer Diameter: 0.08 m<br>Left Inner Diameter: 0.03 m<br>Right Outer Diameter: 0.08 m<br>Right Inner Diameter: 0.03 m<br>Element Length: 0.2 m<br>Material: steel<br>",
         "legendgroup": "Shaft",
         "line": {
          "color": "black",
          "width": 1.5
         },
         "mode": "lines",
         "name": "ShaftElement 0",
         "opacity": 0.5,
         "showlegend": false,
         "text": "Element Number: 0<br>Left Outer Diameter: 0.08 m<br>Left Inner Diameter: 0.03 m<br>Right Outer Diameter: 0.08 m<br>Right Inner Diameter: 0.03 m<br>Element Length: 0.2 m<br>Material: steel<br>",
         "type": "scatter",
         "x": [
          0.0,
          0.0,
          0.2,
          0.2,
          0.0,
          0.0,
          0.0,
          0.2,
          0.2,
          0.0
         ],
         "y": [
          0.015,
          0.04,
          0.04,
          0.015,
          0.015,
          -0.015,
          -0.04,
          -0.04,
          -0.015,
          -0.015
         ]
        },
        {
         "customdata": [
          [
           1,
           0.08,
           0.03,
           0.08,
           0.03,
           0.2,
           "steel"
          ],
          [
           1,
           0.08,
           0.03,
           0.08,
           0.03,
           0.2,
           "steel"
          ],
          [
           1,
           0.08,
           0.03,
           0.08,
           0.03,
           0.2,
           "steel"
          ],
          [
           1,
           0.08,
           0.03,
           0.08,
           0.03,
           0.2,
           "steel"
          ],
          [
           1,
           0.08,
           0.03,
           0.08,
           0.03,
           0.2,
           "steel"
          ],
          [
           1,
           0.08,
           0.03,
           0.08,
           0.03,
           0.2,
           "steel"
          ],
          [
           1,
           0.08,
           0.03,
           0.08,
           0.03,
           0.2,
           "steel"
          ],
          [
           1,
           0.08,
           0.03,
           0.08,
           0.03,
           0.2,
           "steel"
          ],
          [
           1,
           0.08,
           0.03,
           0.08,
           0.03,
           0.2,
           "steel"
          ],
          [
           1,
           0.08,
           0.03,
           0.08,
           0.03,
           0.2,
           "steel"
          ]
         ],
         "fill": "toself",
         "fillcolor": "#525252",
         "hoverinfo": "text",
         "hoverlabel": {
          "bgcolor": "#525252"
         },
         "hoveron": "points+fills",
         "hovertemplate": "Element Number: 1<br>Left Outer Diameter: 0.08 m<br>Left Inner Diameter: 0.03 m<br>Right Outer Diameter: 0.08 m<br>Right Inner Diameter: 0.03 m<br>Element Length: 0.2 m<br>Material: steel<br>",
         "legendgroup": "Shaft",
         "line": {
          "color": "black",
          "width": 1.5
         },
         "mode": "lines",
         "name": "ShaftElement 1",
         "opacity": 0.5,
         "showlegend": false,
         "text": "Element Number: 1<br>Left Outer Diameter: 0.08 m<br>Left Inner Diameter: 0.03 m<br>Right Outer Diameter: 0.08 m<br>Right Inner Diameter: 0.03 m<br>Element Length: 0.2 m<br>Material: steel<br>",
         "type": "scatter",
         "x": [
          0.2,
          0.2,
          0.4,
          0.4,
          0.2,
          0.2,
          0.2,
          0.4,
          0.4,
          0.2
         ],
         "y": [
          0.015,
          0.04,
          0.04,
          0.015,
          0.015,
          -0.015,
          -0.04,
          -0.04,
          -0.015,
          -0.015
         ]
        },
        {
         "customdata": [
          [
           2,
           0.08,
           0.03,
           0.08,
           0.03,
           0.16,
           "steel"
          ],
          [
           2,
           0.08,
           0.03,
           0.08,
           0.03,
           0.16,
           "steel"
          ],
          [
           2,
           0.08,
           0.03,
           0.08,
           0.03,
           0.16,
           "steel"
          ],
          [
           2,
           0.08,
           0.03,
           0.08,
           0.03,
           0.16,
           "steel"
          ],
          [
           2,
           0.08,
           0.03,
           0.08,
           0.03,
           0.16,
           "steel"
          ],
          [
           2,
           0.08,
           0.03,
           0.08,
           0.03,
           0.16,
           "steel"
          ],
          [
           2,
           0.08,
           0.03,
           0.08,
           0.03,
           0.16,
           "steel"
          ],
          [
           2,
           0.08,
           0.03,
           0.08,
           0.03,
           0.16,
           "steel"
          ],
          [
           2,
           0.08,
           0.03,
           0.08,
           0.03,
           0.16,
           "steel"
          ],
          [
           2,
           0.08,
           0.03,
           0.08,
           0.03,
           0.16,
           "steel"
          ]
         ],
         "fill": "toself",
         "fillcolor": "#525252",
         "hoverinfo": "text",
         "hoverlabel": {
          "bgcolor": "#525252"
         },
         "hoveron": "points+fills",
         "hovertemplate": "Element Number: 2<br>Left Outer Diameter: 0.08 m<br>Left Inner Diameter: 0.03 m<br>Right Outer Diameter: 0.08 m<br>Right Inner Diameter: 0.03 m<br>Element Length: 0.16 m<br>Material: steel<br>",
         "legendgroup": "Shaft",
         "line": {
          "color": "black",
          "width": 1.5
         },
         "mode": "lines",
         "name": "ShaftElement 2",
         "opacity": 0.5,
         "showlegend": false,
         "text": "Element Number: 2<br>Left Outer Diameter: 0.08 m<br>Left Inner Diameter: 0.03 m<br>Right Outer Diameter: 0.08 m<br>Right Inner Diameter: 0.03 m<br>Element Length: 0.16 m<br>Material: steel<br>",
         "type": "scatter",
         "x": [
          0.4,
          0.4,
          0.56,
          0.56,
          0.4,
          0.4,
          0.4,
          0.56,
          0.56,
          0.4
         ],
         "y": [
          0.015,
          0.04,
          0.04,
          0.015,
          0.015,
          -0.015,
          -0.04,
          -0.04,
          -0.015,
          -0.015
         ]
        },
        {
         "customdata": [
          [
           3,
           0.4,
           0.03,
           0.4,
           0.03,
           0.08,
           "steel"
          ],
          [
           3,
           0.4,
           0.03,
           0.4,
           0.03,
           0.08,
           "steel"
          ],
          [
           3,
           0.4,
           0.03,
           0.4,
           0.03,
           0.08,
           "steel"
          ],
          [
           3,
           0.4,
           0.03,
           0.4,
           0.03,
           0.08,
           "steel"
          ],
          [
           3,
           0.4,
           0.03,
           0.4,
           0.03,
           0.08,
           "steel"
          ],
          [
           3,
           0.4,
           0.03,
           0.4,
           0.03,
           0.08,
           "steel"
          ],
          [
           3,
           0.4,
           0.03,
           0.4,
           0.03,
           0.08,
           "steel"
          ],
          [
           3,
           0.4,
           0.03,
           0.4,
           0.03,
           0.08,
           "steel"
          ],
          [
           3,
           0.4,
           0.03,
           0.4,
           0.03,
           0.08,
           "steel"
          ],
          [
           3,
           0.4,
           0.03,
           0.4,
           0.03,
           0.08,
           "steel"
          ]
         ],
         "fill": "toself",
         "fillcolor": "#525252",
         "hoverinfo": "text",
         "hoverlabel": {
          "bgcolor": "#525252"
         },
         "hoveron": "points+fills",
         "hovertemplate": "Element Number: 3<br>Left Outer Diameter: 0.4 m<br>Left Inner Diameter: 0.03 m<br>Right Outer Diameter: 0.4 m<br>Right Inner Diameter: 0.03 m<br>Element Length: 0.08 m<br>Material: steel<br>",
         "legendgroup": "Shaft",
         "line": {
          "color": "black",
          "width": 1.5
         },
         "mode": "lines",
         "name": "ShaftElement 3",
         "opacity": 0.5,
         "showlegend": false,
         "text": "Element Number: 3<br>Left Outer Diameter: 0.4 m<br>Left Inner Diameter: 0.03 m<br>Right Outer Diameter: 0.4 m<br>Right Inner Diameter: 0.03 m<br>Element Length: 0.08 m<br>Material: steel<br>",
         "type": "scatter",
         "x": [
          0.56,
          0.56,
          0.64,
          0.64,
          0.56,
          0.56,
          0.56,
          0.64,
          0.64,
          0.56
         ],
         "y": [
          0.015,
          0.2,
          0.2,
          0.015,
          0.015,
          -0.015,
          -0.2,
          -0.2,
          -0.015,
          -0.015
         ]
        },
        {
         "customdata": [
          [
           4,
           0.08,
           0.03,
           0.08,
           0.03,
           0.16,
           "steel"
          ],
          [
           4,
           0.08,
           0.03,
           0.08,
           0.03,
           0.16,
           "steel"
          ],
          [
           4,
           0.08,
           0.03,
           0.08,
           0.03,
           0.16,
           "steel"
          ],
          [
           4,
           0.08,
           0.03,
           0.08,
           0.03,
           0.16,
           "steel"
          ],
          [
           4,
           0.08,
           0.03,
           0.08,
           0.03,
           0.16,
           "steel"
          ],
          [
           4,
           0.08,
           0.03,
           0.08,
           0.03,
           0.16,
           "steel"
          ],
          [
           4,
           0.08,
           0.03,
           0.08,
           0.03,
           0.16,
           "steel"
          ],
          [
           4,
           0.08,
           0.03,
           0.08,
           0.03,
           0.16,
           "steel"
          ],
          [
           4,
           0.08,
           0.03,
           0.08,
           0.03,
           0.16,
           "steel"
          ],
          [
           4,
           0.08,
           0.03,
           0.08,
           0.03,
           0.16,
           "steel"
          ]
         ],
         "fill": "toself",
         "fillcolor": "#525252",
         "hoverinfo": "text",
         "hoverlabel": {
          "bgcolor": "#525252"
         },
         "hoveron": "points+fills",
         "hovertemplate": "Element Number: 4<br>Left Outer Diameter: 0.08 m<br>Left Inner Diameter: 0.03 m<br>Right Outer Diameter: 0.08 m<br>Right Inner Diameter: 0.03 m<br>Element Length: 0.16 m<br>Material: steel<br>",
         "legendgroup": "Shaft",
         "line": {
          "color": "black",
          "width": 1.5
         },
         "mode": "lines",
         "name": "ShaftElement 4",
         "opacity": 0.5,
         "showlegend": false,
         "text": "Element Number: 4<br>Left Outer Diameter: 0.08 m<br>Left Inner Diameter: 0.03 m<br>Right Outer Diameter: 0.08 m<br>Right Inner Diameter: 0.03 m<br>Element Length: 0.16 m<br>Material: steel<br>",
         "type": "scatter",
         "x": [
          0.64,
          0.64,
          0.8,
          0.8,
          0.64,
          0.64,
          0.64,
          0.8,
          0.8,
          0.64
         ],
         "y": [
          0.015,
          0.04,
          0.04,
          0.015,
          0.015,
          -0.015,
          -0.04,
          -0.04,
          -0.015,
          -0.015
         ]
        },
        {
         "customdata": [
          [
           5,
           0.08,
           0.03,
           0.08,
           0.03,
           0.2,
           "steel"
          ],
          [
           5,
           0.08,
           0.03,
           0.08,
           0.03,
           0.2,
           "steel"
          ],
          [
           5,
           0.08,
           0.03,
           0.08,
           0.03,
           0.2,
           "steel"
          ],
          [
           5,
           0.08,
           0.03,
           0.08,
           0.03,
           0.2,
           "steel"
          ],
          [
           5,
           0.08,
           0.03,
           0.08,
           0.03,
           0.2,
           "steel"
          ],
          [
           5,
           0.08,
           0.03,
           0.08,
           0.03,
           0.2,
           "steel"
          ],
          [
           5,
           0.08,
           0.03,
           0.08,
           0.03,
           0.2,
           "steel"
          ],
          [
           5,
           0.08,
           0.03,
           0.08,
           0.03,
           0.2,
           "steel"
          ],
          [
           5,
           0.08,
           0.03,
           0.08,
           0.03,
           0.2,
           "steel"
          ],
          [
           5,
           0.08,
           0.03,
           0.08,
           0.03,
           0.2,
           "steel"
          ]
         ],
         "fill": "toself",
         "fillcolor": "#525252",
         "hoverinfo": "text",
         "hoverlabel": {
          "bgcolor": "#525252"
         },
         "hoveron": "points+fills",
         "hovertemplate": "Element Number: 5<br>Left Outer Diameter: 0.08 m<br>Left Inner Diameter: 0.03 m<br>Right Outer Diameter: 0.08 m<br>Right Inner Diameter: 0.03 m<br>Element Length: 0.2 m<br>Material: steel<br>",
         "legendgroup": "Shaft",
         "line": {
          "color": "black",
          "width": 1.5
         },
         "mode": "lines",
         "name": "ShaftElement 5",
         "opacity": 0.5,
         "showlegend": false,
         "text": "Element Number: 5<br>Left Outer Diameter: 0.08 m<br>Left Inner Diameter: 0.03 m<br>Right Outer Diameter: 0.08 m<br>Right Inner Diameter: 0.03 m<br>Element Length: 0.2 m<br>Material: steel<br>",
         "type": "scatter",
         "x": [
          0.8,
          0.8,
          1.0,
          1.0,
          0.8,
          0.8,
          0.8,
          1.0,
          1.0,
          0.8
         ],
         "y": [
          0.015,
          0.04,
          0.04,
          0.015,
          0.015,
          -0.015,
          -0.04,
          -0.04,
          -0.015,
          -0.015
         ]
        },
        {
         "customdata": [
          [
           6,
           0.08,
           0.03,
           0.08,
           0.03,
           0.2,
           "steel"
          ],
          [
           6,
           0.08,
           0.03,
           0.08,
           0.03,
           0.2,
           "steel"
          ],
          [
           6,
           0.08,
           0.03,
           0.08,
           0.03,
           0.2,
           "steel"
          ],
          [
           6,
           0.08,
           0.03,
           0.08,
           0.03,
           0.2,
           "steel"
          ],
          [
           6,
           0.08,
           0.03,
           0.08,
           0.03,
           0.2,
           "steel"
          ],
          [
           6,
           0.08,
           0.03,
           0.08,
           0.03,
           0.2,
           "steel"
          ],
          [
           6,
           0.08,
           0.03,
           0.08,
           0.03,
           0.2,
           "steel"
          ],
          [
           6,
           0.08,
           0.03,
           0.08,
           0.03,
           0.2,
           "steel"
          ],
          [
           6,
           0.08,
           0.03,
           0.08,
           0.03,
           0.2,
           "steel"
          ],
          [
           6,
           0.08,
           0.03,
           0.08,
           0.03,
           0.2,
           "steel"
          ]
         ],
         "fill": "toself",
         "fillcolor": "#525252",
         "hoverinfo": "text",
         "hoverlabel": {
          "bgcolor": "#525252"
         },
         "hoveron": "points+fills",
         "hovertemplate": "Element Number: 6<br>Left Outer Diameter: 0.08 m<br>Left Inner Diameter: 0.03 m<br>Right Outer Diameter: 0.08 m<br>Right Inner Diameter: 0.03 m<br>Element Length: 0.2 m<br>Material: steel<br>",
         "legendgroup": "Shaft",
         "line": {
          "color": "black",
          "width": 1.5
         },
         "mode": "lines",
         "name": "ShaftElement 6",
         "opacity": 0.5,
         "showlegend": false,
         "text": "Element Number: 6<br>Left Outer Diameter: 0.08 m<br>Left Inner Diameter: 0.03 m<br>Right Outer Diameter: 0.08 m<br>Right Inner Diameter: 0.03 m<br>Element Length: 0.2 m<br>Material: steel<br>",
         "type": "scatter",
         "x": [
          1.0,
          1.0,
          1.2,
          1.2,
          1.0,
          1.0,
          1.0,
          1.2,
          1.2,
          1.0
         ],
         "y": [
          0.015,
          0.04,
          0.04,
          0.015,
          0.015,
          -0.015,
          -0.04,
          -0.04,
          -0.015,
          -0.015
         ]
        },
        {
         "hoverinfo": "none",
         "legendgroup": "bearings",
         "line": {
          "color": "#355d7a",
          "width": 1
         },
         "mode": "lines",
         "name": "Bearing 0",
         "showlegend": false,
         "type": "scatter",
         "x": [
          0.0,
          0.0,
          -0.022857142857142857,
          0.022857142857142857
         ],
         "y": [
          0.04,
          0.08,
          0.08,
          0.08
         ]
        },
        {
         "hoverinfo": "none",
         "legendgroup": "bearings",
         "line": {
          "color": "#355d7a",
          "width": 1
         },
         "mode": "lines",
         "name": "Bearing 0",
         "showlegend": false,
         "type": "scatter",
         "x": [
          0.0,
          0.0,
          -0.022857142857142857,
          0.022857142857142857
         ],
         "y": [
          -0.04,
          -0.08,
          -0.08,
          -0.08
         ]
        },
        {
         "hoverinfo": "none",
         "legendgroup": "bearings",
         "line": {
          "color": "#355d7a",
          "width": 1
         },
         "mode": "lines",
         "name": "Bearing 0",
         "showlegend": false,
         "type": "scatter",
         "x": [
          0.0,
          0.0,
          -0.022857142857142857,
          0.022857142857142857
         ],
         "y": [
          0.2,
          0.16,
          0.16,
          0.16
         ]
        },
        {
         "hoverinfo": "none",
         "legendgroup": "bearings",
         "line": {
          "color": "#355d7a",
          "width": 1
         },
         "mode": "lines",
         "name": "Bearing 0",
         "showlegend": false,
         "type": "scatter",
         "x": [
          0.0,
          0.0,
          -0.022857142857142857,
          0.022857142857142857
         ],
         "y": [
          -0.2,
          -0.16,
          -0.16,
          -0.16
         ]
        },
        {
         "hoverinfo": "none",
         "legendgroup": "bearings",
         "line": {
          "color": "#355d7a",
          "width": 1
         },
         "mode": "lines",
         "name": "Bearing 0",
         "showlegend": false,
         "type": "scatter",
         "x": [
          -0.03428571428571429,
          0.03428571428571429
         ],
         "y": [
          0.2,
          0.2
         ]
        },
        {
         "hoverinfo": "none",
         "legendgroup": "bearings",
         "line": {
          "color": "#355d7a",
          "width": 1
         },
         "mode": "lines",
         "name": "Bearing 0",
         "showlegend": false,
         "type": "scatter",
         "x": [
          -0.03428571428571429,
          0.03428571428571429
         ],
         "y": [
          -0.2,
          -0.2
         ]
        },
        {
         "hoverinfo": "none",
         "legendgroup": "bearings",
         "line": {
          "color": "#355d7a",
          "width": 1
         },
         "mode": "lines",
         "name": "Bearing 0",
         "showlegend": false,
         "type": "scatter",
         "x": [
          -0.03428571428571429,
          -0.020571428571428574
         ],
         "y": [
          0.2,
          0.22000000000000003
         ]
        },
        {
         "hoverinfo": "none",
         "legendgroup": "bearings",
         "line": {
          "color": "#355d7a",
          "width": 1
         },
         "mode": "lines",
         "name": "Bearing 0",
         "showlegend": false,
         "type": "scatter",
         "x": [
          -0.03428571428571429,
          -0.020571428571428574
         ],
         "y": [
          -0.2,
          -0.22000000000000003
         ]
        },
        {
         "hoverinfo": "none",
         "legendgroup": "bearings",
         "line": {
          "color": "#355d7a",
          "width": 1
         },
         "mode": "lines",
         "name": "Bearing 0",
         "showlegend": false,
         "type": "scatter",
         "x": [
          -0.020571428571428574,
          -0.006857142857142857
         ],
         "y": [
          0.2,
          0.22000000000000003
         ]
        },
        {
         "hoverinfo": "none",
         "legendgroup": "bearings",
         "line": {
          "color": "#355d7a",
          "width": 1
         },
         "mode": "lines",
         "name": "Bearing 0",
         "showlegend": false,
         "type": "scatter",
         "x": [
          -0.020571428571428574,
          -0.006857142857142857
         ],
         "y": [
          -0.2,
          -0.22000000000000003
         ]
        },
        {
         "hoverinfo": "none",
         "legendgroup": "bearings",
         "line": {
          "color": "#355d7a",
          "width": 1
         },
         "mode": "lines",
         "name": "Bearing 0",
         "showlegend": false,
         "type": "scatter",
         "x": [
          -0.006857142857142857,
          0.00685714285714286
         ],
         "y": [
          0.2,
          0.22000000000000003
         ]
        },
        {
         "hoverinfo": "none",
         "legendgroup": "bearings",
         "line": {
          "color": "#355d7a",
          "width": 1
         },
         "mode": "lines",
         "name": "Bearing 0",
         "showlegend": false,
         "type": "scatter",
         "x": [
          -0.006857142857142857,
          0.00685714285714286
         ],
         "y": [
          -0.2,
          -0.22000000000000003
         ]
        },
        {
         "hoverinfo": "none",
         "legendgroup": "bearings",
         "line": {
          "color": "#355d7a",
          "width": 1
         },
         "mode": "lines",
         "name": "Bearing 0",
         "showlegend": false,
         "type": "scatter",
         "x": [
          0.00685714285714286,
          0.020571428571428574
         ],
         "y": [
          0.2,
          0.22000000000000003
         ]
        },
        {
         "hoverinfo": "none",
         "legendgroup": "bearings",
         "line": {
          "color": "#355d7a",
          "width": 1
         },
         "mode": "lines",
         "name": "Bearing 0",
         "showlegend": false,
         "type": "scatter",
         "x": [
          0.00685714285714286,
          0.020571428571428574
         ],
         "y": [
          -0.2,
          -0.22000000000000003
         ]
        },
        {
         "hoverinfo": "none",
         "legendgroup": "bearings",
         "line": {
          "color": "#355d7a",
          "width": 1
         },
         "mode": "lines",
         "name": "Bearing 0",
         "showlegend": false,
         "type": "scatter",
         "x": [
          0.020571428571428574,
          0.03428571428571429
         ],
         "y": [
          0.2,
          0.22000000000000003
         ]
        },
        {
         "hoverinfo": "none",
         "legendgroup": "bearings",
         "line": {
          "color": "#355d7a",
          "width": 1
         },
         "mode": "lines",
         "name": "Bearing 0",
         "showlegend": false,
         "type": "scatter",
         "x": [
          0.020571428571428574,
          0.03428571428571429
         ],
         "y": [
          -0.2,
          -0.22000000000000003
         ]
        },
        {
         "hoverinfo": "none",
         "legendgroup": "bearings",
         "line": {
          "color": "#355d7a",
          "width": 1
         },
         "mode": "lines",
         "name": "Bearing 0",
         "showlegend": false,
         "type": "scatter",
         "x": [
          0.03428571428571429,
          0.04800000000000001
         ],
         "y": [
          0.2,
          0.22000000000000003
         ]
        },
        {
         "hoverinfo": "none",
         "legendgroup": "bearings",
         "line": {
          "color": "#355d7a",
          "width": 1
         },
         "mode": "lines",
         "name": "Bearing 0",
         "showlegend": false,
         "type": "scatter",
         "x": [
          0.03428571428571429,
          0.04800000000000001
         ],
         "y": [
          -0.2,
          -0.22000000000000003
         ]
        },
        {
         "hoverinfo": "none",
         "legendgroup": "bearings",
         "line": {
          "color": "#355d7a",
          "width": 1
         },
         "mode": "lines",
         "name": "Bearing 0",
         "showlegend": false,
         "type": "scatter",
         "x": [
          -0.022857142857142857,
          -0.022857142857142857,
          -0.03428571428571429,
          -0.011428571428571429,
          -0.03428571428571429,
          -0.011428571428571429,
          -0.03428571428571429,
          -0.011428571428571429,
          -0.022857142857142857,
          -0.022857142857142857
         ],
         "y": [
          0.08,
          0.09142857142857143,
          0.09142857142857143,
          0.10285714285714286,
          0.1142857142857143,
          0.12571428571428572,
          0.13714285714285715,
          0.14857142857142858,
          0.14857142857142858,
          0.16
         ]
        },
        {
         "hoverinfo": "none",
         "legendgroup": "bearings",
         "line": {
          "color": "#355d7a",
          "width": 1
         },
         "mode": "lines",
         "name": "Bearing 0",
         "showlegend": false,
         "type": "scatter",
         "x": [
          -0.022857142857142857,
          -0.022857142857142857,
          -0.03428571428571429,
          -0.011428571428571429,
          -0.03428571428571429,
          -0.011428571428571429,
          -0.03428571428571429,
          -0.011428571428571429,
          -0.022857142857142857,
          -0.022857142857142857
         ],
         "y": [
          -0.08,
          -0.09142857142857143,
          -0.09142857142857143,
          -0.10285714285714286,
          -0.1142857142857143,
          -0.12571428571428572,
          -0.13714285714285715,
          -0.14857142857142858,
          -0.14857142857142858,
          -0.16
         ]
        },
        {
         "hoverinfo": "none",
         "legendgroup": "bearings",
         "line": {
          "color": "#355d7a",
          "width": 1
         },
         "mode": "lines",
         "name": "Bearing 0",
         "showlegend": false,
         "type": "scatter",
         "x": [
          0.022857142857142857,
          0.022857142857142857
         ],
         "y": [
          0.08,
          0.10285714285714286
         ]
        },
        {
         "hoverinfo": "none",
         "legendgroup": "bearings",
         "line": {
          "color": "#355d7a",
          "width": 1
         },
         "mode": "lines",
         "name": "Bearing 0",
         "showlegend": false,
         "type": "scatter",
         "x": [
          0.022857142857142857,
          0.022857142857142857
         ],
         "y": [
          -0.08,
          -0.10285714285714286
         ]
        },
        {
         "hoverinfo": "none",
         "legendgroup": "bearings",
         "line": {
          "color": "#355d7a",
          "width": 1
         },
         "mode": "lines",
         "name": "Bearing 0",
         "showlegend": false,
         "type": "scatter",
         "x": [
          0.0,
          0.0,
          0.045714285714285714,
          0.045714285714285714
         ],
         "y": [
          0.13714285714285715,
          0.10285714285714286,
          0.10285714285714286,
          0.13714285714285715
         ]
        },
        {
         "hoverinfo": "none",
         "legendgroup": "bearings",
         "line": {
          "color": "#355d7a",
          "width": 1
         },
         "mode": "lines",
         "name": "Bearing 0",
         "showlegend": false,
         "type": "scatter",
         "x": [
          0.0,
          0.0,
          0.045714285714285714,
          0.045714285714285714
         ],
         "y": [
          -0.13714285714285715,
          -0.10285714285714286,
          -0.10285714285714286,
          -0.13714285714285715
         ]
        },
        {
         "hoverinfo": "none",
         "legendgroup": "bearings",
         "line": {
          "color": "#355d7a",
          "width": 1
         },
         "mode": "lines",
         "name": "Bearing 0",
         "showlegend": false,
         "type": "scatter",
         "x": [
          0.0,
          0.045714285714285714,
          0.022857142857142857,
          0.022857142857142857
         ],
         "y": [
          0.12571428571428572,
          0.12571428571428572,
          0.12571428571428572,
          0.16
         ]
        },
        {
         "hoverinfo": "none",
         "legendgroup": "bearings",
         "line": {
          "color": "#355d7a",
          "width": 1
         },
         "mode": "lines",
         "name": "Bearing 0",
         "showlegend": false,
         "type": "scatter",
         "x": [
          0.0,
          0.045714285714285714,
          0.022857142857142857,
          0.022857142857142857
         ],
         "y": [
          -0.12571428571428572,
          -0.12571428571428572,
          -0.12571428571428572,
          -0.16
         ]
        },
        {
         "hoverinfo": "none",
         "legendgroup": "bearings",
         "line": {
          "color": "#355d7a",
          "width": 1
         },
         "mode": "lines",
         "name": "Bearing 1",
         "showlegend": false,
         "type": "scatter",
         "x": [
          1.2,
          1.2,
          1.177142857142857,
          1.2228571428571429
         ],
         "y": [
          0.04,
          0.08,
          0.08,
          0.08
         ]
        },
        {
         "hoverinfo": "none",
         "legendgroup": "bearings",
         "line": {
          "color": "#355d7a",
          "width": 1
         },
         "mode": "lines",
         "name": "Bearing 1",
         "showlegend": false,
         "type": "scatter",
         "x": [
          1.2,
          1.2,
          1.177142857142857,
          1.2228571428571429
         ],
         "y": [
          -0.04,
          -0.08,
          -0.08,
          -0.08
         ]
        },
        {
         "hoverinfo": "none",
         "legendgroup": "bearings",
         "line": {
          "color": "#355d7a",
          "width": 1
         },
         "mode": "lines",
         "name": "Bearing 1",
         "showlegend": false,
         "type": "scatter",
         "x": [
          1.2,
          1.2,
          1.177142857142857,
          1.2228571428571429
         ],
         "y": [
          0.2,
          0.16,
          0.16,
          0.16
         ]
        },
        {
         "hoverinfo": "none",
         "legendgroup": "bearings",
         "line": {
          "color": "#355d7a",
          "width": 1
         },
         "mode": "lines",
         "name": "Bearing 1",
         "showlegend": false,
         "type": "scatter",
         "x": [
          1.2,
          1.2,
          1.177142857142857,
          1.2228571428571429
         ],
         "y": [
          -0.2,
          -0.16,
          -0.16,
          -0.16
         ]
        },
        {
         "hoverinfo": "none",
         "legendgroup": "bearings",
         "line": {
          "color": "#355d7a",
          "width": 1
         },
         "mode": "lines",
         "name": "Bearing 1",
         "showlegend": false,
         "type": "scatter",
         "x": [
          1.1657142857142857,
          1.2342857142857142
         ],
         "y": [
          0.2,
          0.2
         ]
        },
        {
         "hoverinfo": "none",
         "legendgroup": "bearings",
         "line": {
          "color": "#355d7a",
          "width": 1
         },
         "mode": "lines",
         "name": "Bearing 1",
         "showlegend": false,
         "type": "scatter",
         "x": [
          1.1657142857142857,
          1.2342857142857142
         ],
         "y": [
          -0.2,
          -0.2
         ]
        },
        {
         "hoverinfo": "none",
         "legendgroup": "bearings",
         "line": {
          "color": "#355d7a",
          "width": 1
         },
         "mode": "lines",
         "name": "Bearing 1",
         "showlegend": false,
         "type": "scatter",
         "x": [
          1.1657142857142857,
          1.1794285714285715
         ],
         "y": [
          0.2,
          0.22000000000000003
         ]
        },
        {
         "hoverinfo": "none",
         "legendgroup": "bearings",
         "line": {
          "color": "#355d7a",
          "width": 1
         },
         "mode": "lines",
         "name": "Bearing 1",
         "showlegend": false,
         "type": "scatter",
         "x": [
          1.1657142857142857,
          1.1794285714285715
         ],
         "y": [
          -0.2,
          -0.22000000000000003
         ]
        },
        {
         "hoverinfo": "none",
         "legendgroup": "bearings",
         "line": {
          "color": "#355d7a",
          "width": 1
         },
         "mode": "lines",
         "name": "Bearing 1",
         "showlegend": false,
         "type": "scatter",
         "x": [
          1.1794285714285715,
          1.193142857142857
         ],
         "y": [
          0.2,
          0.22000000000000003
         ]
        },
        {
         "hoverinfo": "none",
         "legendgroup": "bearings",
         "line": {
          "color": "#355d7a",
          "width": 1
         },
         "mode": "lines",
         "name": "Bearing 1",
         "showlegend": false,
         "type": "scatter",
         "x": [
          1.1794285714285715,
          1.193142857142857
         ],
         "y": [
          -0.2,
          -0.22000000000000003
         ]
        },
        {
         "hoverinfo": "none",
         "legendgroup": "bearings",
         "line": {
          "color": "#355d7a",
          "width": 1
         },
         "mode": "lines",
         "name": "Bearing 1",
         "showlegend": false,
         "type": "scatter",
         "x": [
          1.193142857142857,
          1.2068571428571429
         ],
         "y": [
          0.2,
          0.22000000000000003
         ]
        },
        {
         "hoverinfo": "none",
         "legendgroup": "bearings",
         "line": {
          "color": "#355d7a",
          "width": 1
         },
         "mode": "lines",
         "name": "Bearing 1",
         "showlegend": false,
         "type": "scatter",
         "x": [
          1.193142857142857,
          1.2068571428571429
         ],
         "y": [
          -0.2,
          -0.22000000000000003
         ]
        },
        {
         "hoverinfo": "none",
         "legendgroup": "bearings",
         "line": {
          "color": "#355d7a",
          "width": 1
         },
         "mode": "lines",
         "name": "Bearing 1",
         "showlegend": false,
         "type": "scatter",
         "x": [
          1.2068571428571429,
          1.2205714285714284
         ],
         "y": [
          0.2,
          0.22000000000000003
         ]
        },
        {
         "hoverinfo": "none",
         "legendgroup": "bearings",
         "line": {
          "color": "#355d7a",
          "width": 1
         },
         "mode": "lines",
         "name": "Bearing 1",
         "showlegend": false,
         "type": "scatter",
         "x": [
          1.2068571428571429,
          1.2205714285714284
         ],
         "y": [
          -0.2,
          -0.22000000000000003
         ]
        },
        {
         "hoverinfo": "none",
         "legendgroup": "bearings",
         "line": {
          "color": "#355d7a",
          "width": 1
         },
         "mode": "lines",
         "name": "Bearing 1",
         "showlegend": false,
         "type": "scatter",
         "x": [
          1.2205714285714284,
          1.2342857142857142
         ],
         "y": [
          0.2,
          0.22000000000000003
         ]
        },
        {
         "hoverinfo": "none",
         "legendgroup": "bearings",
         "line": {
          "color": "#355d7a",
          "width": 1
         },
         "mode": "lines",
         "name": "Bearing 1",
         "showlegend": false,
         "type": "scatter",
         "x": [
          1.2205714285714284,
          1.2342857142857142
         ],
         "y": [
          -0.2,
          -0.22000000000000003
         ]
        },
        {
         "hoverinfo": "none",
         "legendgroup": "bearings",
         "line": {
          "color": "#355d7a",
          "width": 1
         },
         "mode": "lines",
         "name": "Bearing 1",
         "showlegend": false,
         "type": "scatter",
         "x": [
          1.2342857142857142,
          1.248
         ],
         "y": [
          0.2,
          0.22000000000000003
         ]
        },
        {
         "hoverinfo": "none",
         "legendgroup": "bearings",
         "line": {
          "color": "#355d7a",
          "width": 1
         },
         "mode": "lines",
         "name": "Bearing 1",
         "showlegend": false,
         "type": "scatter",
         "x": [
          1.2342857142857142,
          1.248
         ],
         "y": [
          -0.2,
          -0.22000000000000003
         ]
        },
        {
         "hoverinfo": "none",
         "legendgroup": "bearings",
         "line": {
          "color": "#355d7a",
          "width": 1
         },
         "mode": "lines",
         "name": "Bearing 1",
         "showlegend": false,
         "type": "scatter",
         "x": [
          1.177142857142857,
          1.177142857142857,
          1.1657142857142857,
          1.1885714285714284,
          1.1657142857142857,
          1.1885714285714284,
          1.1657142857142857,
          1.1885714285714284,
          1.177142857142857,
          1.177142857142857
         ],
         "y": [
          0.08,
          0.09142857142857143,
          0.09142857142857143,
          0.10285714285714286,
          0.1142857142857143,
          0.12571428571428572,
          0.13714285714285715,
          0.14857142857142858,
          0.14857142857142858,
          0.16
         ]
        },
        {
         "hoverinfo": "none",
         "legendgroup": "bearings",
         "line": {
          "color": "#355d7a",
          "width": 1
         },
         "mode": "lines",
         "name": "Bearing 1",
         "showlegend": false,
         "type": "scatter",
         "x": [
          1.177142857142857,
          1.177142857142857,
          1.1657142857142857,
          1.1885714285714284,
          1.1657142857142857,
          1.1885714285714284,
          1.1657142857142857,
          1.1885714285714284,
          1.177142857142857,
          1.177142857142857
         ],
         "y": [
          -0.08,
          -0.09142857142857143,
          -0.09142857142857143,
          -0.10285714285714286,
          -0.1142857142857143,
          -0.12571428571428572,
          -0.13714285714285715,
          -0.14857142857142858,
          -0.14857142857142858,
          -0.16
         ]
        },
        {
         "hoverinfo": "none",
         "legendgroup": "bearings",
         "line": {
          "color": "#355d7a",
          "width": 1
         },
         "mode": "lines",
         "name": "Bearing 1",
         "showlegend": false,
         "type": "scatter",
         "x": [
          1.2228571428571429,
          1.2228571428571429
         ],
         "y": [
          0.08,
          0.10285714285714286
         ]
        },
        {
         "hoverinfo": "none",
         "legendgroup": "bearings",
         "line": {
          "color": "#355d7a",
          "width": 1
         },
         "mode": "lines",
         "name": "Bearing 1",
         "showlegend": false,
         "type": "scatter",
         "x": [
          1.2228571428571429,
          1.2228571428571429
         ],
         "y": [
          -0.08,
          -0.10285714285714286
         ]
        },
        {
         "hoverinfo": "none",
         "legendgroup": "bearings",
         "line": {
          "color": "#355d7a",
          "width": 1
         },
         "mode": "lines",
         "name": "Bearing 1",
         "showlegend": false,
         "type": "scatter",
         "x": [
          1.2,
          1.2,
          1.2457142857142858,
          1.2457142857142858
         ],
         "y": [
          0.13714285714285715,
          0.10285714285714286,
          0.10285714285714286,
          0.13714285714285715
         ]
        },
        {
         "hoverinfo": "none",
         "legendgroup": "bearings",
         "line": {
          "color": "#355d7a",
          "width": 1
         },
         "mode": "lines",
         "name": "Bearing 1",
         "showlegend": false,
         "type": "scatter",
         "x": [
          1.2,
          1.2,
          1.2457142857142858,
          1.2457142857142858
         ],
         "y": [
          -0.13714285714285715,
          -0.10285714285714286,
          -0.10285714285714286,
          -0.13714285714285715
         ]
        },
        {
         "hoverinfo": "none",
         "legendgroup": "bearings",
         "line": {
          "color": "#355d7a",
          "width": 1
         },
         "mode": "lines",
         "name": "Bearing 1",
         "showlegend": false,
         "type": "scatter",
         "x": [
          1.2,
          1.2457142857142858,
          1.2228571428571429,
          1.2228571428571429
         ],
         "y": [
          0.12571428571428572,
          0.12571428571428572,
          0.12571428571428572,
          0.16
         ]
        },
        {
         "hoverinfo": "none",
         "legendgroup": "bearings",
         "line": {
          "color": "#355d7a",
          "width": 1
         },
         "mode": "lines",
         "name": "Bearing 1",
         "showlegend": false,
         "type": "scatter",
         "x": [
          1.2,
          1.2457142857142858,
          1.2228571428571429,
          1.2228571428571429
         ],
         "y": [
          -0.12571428571428572,
          -0.12571428571428572,
          -0.12571428571428572,
          -0.16
         ]
        }
       ],
       "layout": {
        "template": {
         "data": {
          "bar": [
           {
            "error_x": {
             "color": "#2a3f5f"
            },
            "error_y": {
             "color": "#2a3f5f"
            },
            "marker": {
             "line": {
              "color": "white",
              "width": 0.5
             }
            },
            "type": "bar"
           }
          ],
          "barpolar": [
           {
            "marker": {
             "line": {
              "color": "white",
              "width": 0.5
             }
            },
            "type": "barpolar"
           }
          ],
          "carpet": [
           {
            "aaxis": {
             "endlinecolor": "#2a3f5f",
             "gridcolor": "#C8D4E3",
             "linecolor": "#C8D4E3",
             "minorgridcolor": "#C8D4E3",
             "startlinecolor": "#2a3f5f"
            },
            "baxis": {
             "endlinecolor": "#2a3f5f",
             "gridcolor": "#C8D4E3",
             "linecolor": "#C8D4E3",
             "minorgridcolor": "#C8D4E3",
             "startlinecolor": "#2a3f5f"
            },
            "type": "carpet"
           }
          ],
          "choropleth": [
           {
            "colorbar": {
             "outlinewidth": 0,
             "ticks": ""
            },
            "type": "choropleth"
           }
          ],
          "contour": [
           {
            "colorbar": {
             "outlinewidth": 0,
             "ticks": ""
            },
            "colorscale": [
             [
              0.0,
              "#0d0887"
             ],
             [
              0.1111111111111111,
              "#46039f"
             ],
             [
              0.2222222222222222,
              "#7201a8"
             ],
             [
              0.3333333333333333,
              "#9c179e"
             ],
             [
              0.4444444444444444,
              "#bd3786"
             ],
             [
              0.5555555555555556,
              "#d8576b"
             ],
             [
              0.6666666666666666,
              "#ed7953"
             ],
             [
              0.7777777777777778,
              "#fb9f3a"
             ],
             [
              0.8888888888888888,
              "#fdca26"
             ],
             [
              1.0,
              "#f0f921"
             ]
            ],
            "type": "contour"
           }
          ],
          "contourcarpet": [
           {
            "colorbar": {
             "outlinewidth": 0,
             "ticks": ""
            },
            "type": "contourcarpet"
           }
          ],
          "heatmap": [
           {
            "colorbar": {
             "outlinewidth": 0,
             "ticks": ""
            },
            "colorscale": [
             [
              0.0,
              "#0d0887"
             ],
             [
              0.1111111111111111,
              "#46039f"
             ],
             [
              0.2222222222222222,
              "#7201a8"
             ],
             [
              0.3333333333333333,
              "#9c179e"
             ],
             [
              0.4444444444444444,
              "#bd3786"
             ],
             [
              0.5555555555555556,
              "#d8576b"
             ],
             [
              0.6666666666666666,
              "#ed7953"
             ],
             [
              0.7777777777777778,
              "#fb9f3a"
             ],
             [
              0.8888888888888888,
              "#fdca26"
             ],
             [
              1.0,
              "#f0f921"
             ]
            ],
            "type": "heatmap"
           }
          ],
          "heatmapgl": [
           {
            "colorbar": {
             "outlinewidth": 0,
             "ticks": ""
            },
            "colorscale": [
             [
              0.0,
              "#0d0887"
             ],
             [
              0.1111111111111111,
              "#46039f"
             ],
             [
              0.2222222222222222,
              "#7201a8"
             ],
             [
              0.3333333333333333,
              "#9c179e"
             ],
             [
              0.4444444444444444,
              "#bd3786"
             ],
             [
              0.5555555555555556,
              "#d8576b"
             ],
             [
              0.6666666666666666,
              "#ed7953"
             ],
             [
              0.7777777777777778,
              "#fb9f3a"
             ],
             [
              0.8888888888888888,
              "#fdca26"
             ],
             [
              1.0,
              "#f0f921"
             ]
            ],
            "type": "heatmapgl"
           }
          ],
          "histogram": [
           {
            "marker": {
             "colorbar": {
              "outlinewidth": 0,
              "ticks": ""
             }
            },
            "type": "histogram"
           }
          ],
          "histogram2d": [
           {
            "colorbar": {
             "outlinewidth": 0,
             "ticks": ""
            },
            "colorscale": [
             [
              0.0,
              "#0d0887"
             ],
             [
              0.1111111111111111,
              "#46039f"
             ],
             [
              0.2222222222222222,
              "#7201a8"
             ],
             [
              0.3333333333333333,
              "#9c179e"
             ],
             [
              0.4444444444444444,
              "#bd3786"
             ],
             [
              0.5555555555555556,
              "#d8576b"
             ],
             [
              0.6666666666666666,
              "#ed7953"
             ],
             [
              0.7777777777777778,
              "#fb9f3a"
             ],
             [
              0.8888888888888888,
              "#fdca26"
             ],
             [
              1.0,
              "#f0f921"
             ]
            ],
            "type": "histogram2d"
           }
          ],
          "histogram2dcontour": [
           {
            "colorbar": {
             "outlinewidth": 0,
             "ticks": ""
            },
            "colorscale": [
             [
              0.0,
              "#0d0887"
             ],
             [
              0.1111111111111111,
              "#46039f"
             ],
             [
              0.2222222222222222,
              "#7201a8"
             ],
             [
              0.3333333333333333,
              "#9c179e"
             ],
             [
              0.4444444444444444,
              "#bd3786"
             ],
             [
              0.5555555555555556,
              "#d8576b"
             ],
             [
              0.6666666666666666,
              "#ed7953"
             ],
             [
              0.7777777777777778,
              "#fb9f3a"
             ],
             [
              0.8888888888888888,
              "#fdca26"
             ],
             [
              1.0,
              "#f0f921"
             ]
            ],
            "type": "histogram2dcontour"
           }
          ],
          "mesh3d": [
           {
            "colorbar": {
             "outlinewidth": 0,
             "ticks": ""
            },
            "type": "mesh3d"
           }
          ],
          "parcoords": [
           {
            "line": {
             "colorbar": {
              "outlinewidth": 0,
              "ticks": ""
             }
            },
            "type": "parcoords"
           }
          ],
          "pie": [
           {
            "automargin": true,
            "type": "pie"
           }
          ],
          "scatter": [
           {
            "marker": {
             "colorbar": {
              "outlinewidth": 0,
              "ticks": ""
             }
            },
            "type": "scatter"
           }
          ],
          "scatter3d": [
           {
            "line": {
             "colorbar": {
              "outlinewidth": 0,
              "ticks": ""
             }
            },
            "marker": {
             "colorbar": {
              "outlinewidth": 0,
              "ticks": ""
             },
             "size": 4
            },
            "type": "scatter3d"
           }
          ],
          "scattercarpet": [
           {
            "marker": {
             "colorbar": {
              "outlinewidth": 0,
              "ticks": ""
             }
            },
            "type": "scattercarpet"
           }
          ],
          "scattergeo": [
           {
            "marker": {
             "colorbar": {
              "outlinewidth": 0,
              "ticks": ""
             }
            },
            "type": "scattergeo"
           }
          ],
          "scattergl": [
           {
            "marker": {
             "colorbar": {
              "outlinewidth": 0,
              "ticks": ""
             }
            },
            "type": "scattergl"
           }
          ],
          "scattermapbox": [
           {
            "marker": {
             "colorbar": {
              "outlinewidth": 0,
              "ticks": ""
             }
            },
            "type": "scattermapbox"
           }
          ],
          "scatterpolar": [
           {
            "marker": {
             "colorbar": {
              "outlinewidth": 0,
              "ticks": ""
             }
            },
            "type": "scatterpolar"
           }
          ],
          "scatterpolargl": [
           {
            "marker": {
             "colorbar": {
              "outlinewidth": 0,
              "ticks": ""
             }
            },
            "type": "scatterpolargl"
           }
          ],
          "scatterternary": [
           {
            "marker": {
             "colorbar": {
              "outlinewidth": 0,
              "ticks": ""
             }
            },
            "type": "scatterternary"
           }
          ],
          "surface": [
           {
            "colorbar": {
             "outlinewidth": 0,
             "ticks": ""
            },
            "colorscale": [
             [
              0.0,
              "#0d0887"
             ],
             [
              0.1111111111111111,
              "#46039f"
             ],
             [
              0.2222222222222222,
              "#7201a8"
             ],
             [
              0.3333333333333333,
              "#9c179e"
             ],
             [
              0.4444444444444444,
              "#bd3786"
             ],
             [
              0.5555555555555556,
              "#d8576b"
             ],
             [
              0.6666666666666666,
              "#ed7953"
             ],
             [
              0.7777777777777778,
              "#fb9f3a"
             ],
             [
              0.8888888888888888,
              "#fdca26"
             ],
             [
              1.0,
              "#f0f921"
             ]
            ],
            "type": "surface"
           }
          ],
          "table": [
           {
            "cells": {
             "fill": {
              "color": "#EBF0F8"
             },
             "line": {
              "color": "white"
             }
            },
            "header": {
             "fill": {
              "color": "#C8D4E3"
             },
             "line": {
              "color": "white"
             }
            },
            "type": "table"
           }
          ]
         },
         "layout": {
          "annotationdefaults": {
           "arrowcolor": "#2a3f5f",
           "arrowhead": 0,
           "arrowwidth": 1
          },
          "coloraxis": {
           "colorbar": {
            "outlinewidth": 0,
            "ticks": ""
           }
          },
          "colorscale": {
           "diverging": [
            [
             0,
             "#8e0152"
            ],
            [
             0.1,
             "#c51b7d"
            ],
            [
             0.2,
             "#de77ae"
            ],
            [
             0.3,
             "#f1b6da"
            ],
            [
             0.4,
             "#fde0ef"
            ],
            [
             0.5,
             "#f7f7f7"
            ],
            [
             0.6,
             "#e6f5d0"
            ],
            [
             0.7,
             "#b8e186"
            ],
            [
             0.8,
             "#7fbc41"
            ],
            [
             0.9,
             "#4d9221"
            ],
            [
             1,
             "#276419"
            ]
           ],
           "sequential": [
            [
             0.0,
             "#0d0887"
            ],
            [
             0.1111111111111111,
             "#46039f"
            ],
            [
             0.2222222222222222,
             "#7201a8"
            ],
            [
             0.3333333333333333,
             "#9c179e"
            ],
            [
             0.4444444444444444,
             "#bd3786"
            ],
            [
             0.5555555555555556,
             "#d8576b"
            ],
            [
             0.6666666666666666,
             "#ed7953"
            ],
            [
             0.7777777777777778,
             "#fb9f3a"
            ],
            [
             0.8888888888888888,
             "#fdca26"
            ],
            [
             1.0,
             "#f0f921"
            ]
           ],
           "sequentialminus": [
            [
             0.0,
             "#0d0887"
            ],
            [
             0.1111111111111111,
             "#46039f"
            ],
            [
             0.2222222222222222,
             "#7201a8"
            ],
            [
             0.3333333333333333,
             "#9c179e"
            ],
            [
             0.4444444444444444,
             "#bd3786"
            ],
            [
             0.5555555555555556,
             "#d8576b"
            ],
            [
             0.6666666666666666,
             "#ed7953"
            ],
            [
             0.7777777777777778,
             "#fb9f3a"
            ],
            [
             0.8888888888888888,
             "#fdca26"
            ],
            [
             1.0,
             "#f0f921"
            ]
           ]
          },
          "colorway": [
           "#1f77b4",
           "#ff7f0e",
           "#2ca02c",
           "#d62728",
           "#9467bd",
           "#8c564b",
           "#e377c2",
           "#7f7f7f",
           "#bcbd22",
           "#17becf"
          ],
          "font": {
           "color": "#2a3f5f"
          },
          "geo": {
           "bgcolor": "white",
           "lakecolor": "white",
           "landcolor": "white",
           "showlakes": true,
           "showland": true,
           "subunitcolor": "#C8D4E3"
          },
          "hoverlabel": {
           "align": "left"
          },
          "hovermode": "closest",
          "mapbox": {
           "style": "light"
          },
          "paper_bgcolor": "white",
          "plot_bgcolor": "white",
          "polar": {
           "angularaxis": {
            "gridcolor": "#EBF0F8",
            "linecolor": "#EBF0F8",
            "ticks": ""
           },
           "bgcolor": "white",
           "radialaxis": {
            "gridcolor": "#EBF0F8",
            "linecolor": "#EBF0F8",
            "ticks": ""
           }
          },
          "scene": {
           "camera": {
            "center": {
             "x": 0,
             "y": 0,
             "z": 0
            },
            "eye": {
             "x": 2.0,
             "y": 2.0,
             "z": 2.0
            },
            "up": {
             "x": 0,
             "y": 0,
             "z": 1
            }
           },
           "xaxis": {
            "backgroundcolor": "white",
            "gridcolor": "#DFE8F3",
            "gridwidth": 2,
            "linecolor": "#EBF0F8",
            "showbackground": true,
            "showspikes": false,
            "ticks": "",
            "zerolinecolor": "#EBF0F8"
           },
           "yaxis": {
            "backgroundcolor": "white",
            "gridcolor": "#DFE8F3",
            "gridwidth": 2,
            "linecolor": "#EBF0F8",
            "showbackground": true,
            "showspikes": false,
            "ticks": "",
            "zerolinecolor": "#EBF0F8"
           },
           "zaxis": {
            "backgroundcolor": "white",
            "gridcolor": "#DFE8F3",
            "gridwidth": 2,
            "linecolor": "#EBF0F8",
            "showbackground": true,
            "showspikes": false,
            "ticks": "",
            "zerolinecolor": "#EBF0F8"
           }
          },
          "shapedefaults": {
           "line": {
            "color": "#2a3f5f"
           }
          },
          "ternary": {
           "aaxis": {
            "gridcolor": "#DFE8F3",
            "linecolor": "#A2B1C6",
            "ticks": ""
           },
           "baxis": {
            "gridcolor": "#DFE8F3",
            "linecolor": "#A2B1C6",
            "ticks": ""
           },
           "bgcolor": "white",
           "caxis": {
            "gridcolor": "#DFE8F3",
            "linecolor": "#A2B1C6",
            "ticks": ""
           }
          },
          "title": {
           "x": 0.05
          },
          "xaxis": {
           "automargin": true,
           "gridcolor": "#EBF0F8",
           "linecolor": "black",
           "linewidth": 2.0,
           "mirror": true,
           "showline": true,
           "ticks": "",
           "title": {
            "standoff": 15
           },
           "zeroline": false,
           "zerolinecolor": "#EBF0F8",
           "zerolinewidth": 2
          },
          "yaxis": {
           "automargin": true,
           "gridcolor": "#EBF0F8",
           "linecolor": "black",
           "linewidth": 2.0,
           "mirror": true,
           "showline": true,
           "ticks": "",
           "title": {
            "standoff": 15
           },
           "zeroline": false,
           "zerolinecolor": "#EBF0F8",
           "zerolinewidth": 2
          }
         }
        },
        "title": {
         "text": "Rotor Model"
        },
        "xaxis": {
         "mirror": true,
         "range": [
          -0.12,
          1.32
         ],
         "showgrid": false,
         "title": {
          "text": "Axial location (m)"
         }
        },
        "yaxis": {
         "mirror": true,
         "range": [
          -0.36,
          0.36
         ],
         "showgrid": false,
         "title": {
          "text": "Shaft radius (m)"
         }
        }
       }
      }
     },
     "metadata": {},
     "output_type": "display_data"
    }
   ],
   "source": [
    "shaft = [\n",
    "    rs.ShaftElement(n=0, L=L, idl=idl, odl=odl, material=steel),\n",
    "    rs.ShaftElement(n=1, L=L, idl=idl, odl=odl, material=steel),\n",
    "    rs.ShaftElement(n=2, L=0.16, idl=idl, odl=odl, material=steel),\n",
    "    rs.ShaftElement(n=3, L=0.08, idl=idl, odl=0.4, material=steel),\n",
    "    rs.ShaftElement(n=4, L=0.16, idl=idl, odl=odl, material=steel),\n",
    "    rs.ShaftElement(n=5, L=L, idl=idl, odl=odl, material=steel),\n",
    "    rs.ShaftElement(n=6, L=L, idl=idl, odl=odl, material=steel),\n",
    "]\n",
    "bearings = [\n",
    "    rs.BearingElement(n=0, kxx=1e20, cxx=0),\n",
    "    rs.BearingElement(n=len(shaft), kxx=1e20, cxx=0),\n",
    "]\n",
    "\n",
    "rotor4 = rs.Rotor(shaft_elements=shaft, bearing_elements=bearings)\n",
    "rotor4.plot_rotor()"
   ]
  },
  {
   "cell_type": "code",
   "execution_count": 8,
   "id": "b213cf39",
   "metadata": {
    "execution": {
     "iopub.execute_input": "2023-05-04T01:02:24.128994Z",
     "iopub.status.busy": "2023-05-04T01:02:24.128850Z",
     "iopub.status.idle": "2023-05-04T01:02:24.321039Z",
     "shell.execute_reply": "2023-05-04T01:02:24.320691Z"
    }
   },
   "outputs": [
    {
     "name": "stdout",
     "output_type": "stream",
     "text": [
      "Rotor 1: [53.6381 53.7015 261.6727 326.3376 736.6157 737.8977] Hz\n",
      "Rotor 2: [58.6241 58.6904 278.2302 337.0536 826.5594 827.9640] Hz\n",
      "Rotor 3: [58.6354 58.7020 276.8475 334.4568 827.8520 829.3194] Hz\n",
      "Rotor 4: [58.9916 59.0582 279.3234 337.7512 835.2375 836.6597] Hz\n"
     ]
    }
   ],
   "source": [
    "for i, rotor in enumerate([rotor1, rotor2, rotor3, rotor4]):\n",
    "    modal = rotor.run_modal(rs.Q_(3000, \"RPM\"))\n",
    "    print(f\"Rotor {i + 1}: {Q_(modal.wd, 'rad/s').to('Hz'):.4f}\")"
   ]
  },
  {
   "cell_type": "markdown",
   "id": "3c76782d",
   "metadata": {},
   "source": [
    "## References\n",
    "\n",
    "```{bibliography}\n",
    ":filter: docname in docnames\n",
    "```"
   ]
  }
 ],
 "metadata": {
  "kernelspec": {
   "display_name": "Python [conda env:rs] *",
   "language": "python",
   "name": "conda-env-rs-py"
  },
  "language_info": {
   "codemirror_mode": {
    "name": "ipython",
    "version": 3
   },
   "file_extension": ".py",
   "mimetype": "text/x-python",
   "name": "python",
   "nbconvert_exporter": "python",
   "pygments_lexer": "ipython3",
   "version": "3.10.9"
  }
 },
 "nbformat": 4,
 "nbformat_minor": 5
}
