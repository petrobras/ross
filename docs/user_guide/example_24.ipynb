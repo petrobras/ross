{
 "cells": [
  {
   "cell_type": "markdown",
   "id": "ff27d267",
   "metadata": {},
   "source": [
    "# Example 24 - A Tapared Shaft\n",
    "\n",
    "This example is based on Example 5.9.10 from {cite}`friswell2010dynamics`.\n",
    "\n",
    "```\n",
    "A Tapered Shaft. Consider a tapered shaft of length 1.5 m and\n",
    "a diameter that changes linearly from 25 to 40 mm. A disk of diameter 250 mm\n",
    "and thickness 40 mm is placed at the center of the shaft, and short bearings\n",
    "of stiffness 10 MN/m and damping 1 kNs/m are attached at the ends of the\n",
    "shaft. The Young’s modulus and mass density are 211 GN/mz and 7,810 kg/m3,\n",
    "respectively. Estimate the first pair of natural frequencies of this machine at\n",
    "3,000 rev/min using a stepped shaft diameter and elements of uniform diameter\n",
    "and by using tapered elements.\n",
    "```"
   ]
  },
  {
   "cell_type": "code",
   "execution_count": 1,
   "id": "1b95c56e",
   "metadata": {
    "execution": {
     "iopub.execute_input": "2023-05-04T01:02:05.451090Z",
     "iopub.status.busy": "2023-05-04T01:02:05.450766Z",
     "iopub.status.idle": "2023-05-04T01:02:06.361302Z",
     "shell.execute_reply": "2023-05-04T01:02:06.360885Z"
    }
   },
   "outputs": [],
   "source": [
    "import ross as rs\n",
    "import numpy as np\n",
    "import plotly.graph_objects as go\n",
    "from IPython.display import display"
   ]
  },
  {
   "cell_type": "code",
   "execution_count": 2,
   "id": "8cfdac8d",
   "metadata": {
    "execution": {
     "iopub.execute_input": "2023-05-04T01:02:06.363595Z",
     "iopub.status.busy": "2023-05-04T01:02:06.363435Z",
     "iopub.status.idle": "2023-05-04T01:02:06.365601Z",
     "shell.execute_reply": "2023-05-04T01:02:06.365256Z"
    }
   },
   "outputs": [],
   "source": [
    "Q_ = rs.Q_"
   ]
  },
  {
   "cell_type": "code",
   "execution_count": 3,
   "id": "30dfd52f",
   "metadata": {
    "execution": {
     "iopub.execute_input": "2023-05-04T01:02:06.367764Z",
     "iopub.status.busy": "2023-05-04T01:02:06.367604Z",
     "iopub.status.idle": "2023-05-04T01:02:06.370449Z",
     "shell.execute_reply": "2023-05-04T01:02:06.370050Z"
    }
   },
   "outputs": [],
   "source": [
    "steel = rs.Material(\"steel\", E=211e9, G_s=81.2e9, rho=7810)"
   ]
  },
  {
   "cell_type": "code",
   "execution_count": 4,
   "id": "f283e5bb",
   "metadata": {
    "execution": {
     "iopub.execute_input": "2023-05-04T01:02:06.372354Z",
     "iopub.status.busy": "2023-05-04T01:02:06.372025Z",
     "iopub.status.idle": "2023-05-04T01:02:09.730426Z",
     "shell.execute_reply": "2023-05-04T01:02:09.730067Z"
    }
   },
   "outputs": [
    {
     "data": {
      "application/vnd.plotly.v1+json": {
       "config": {
        "plotlyServerURL": "https://plot.ly"
       },
       "data": [
        {
         "hoverinfo": "none",
         "line": {
          "color": "black",
          "dash": "dashdot",
          "width": 3.0
         },
         "mode": "lines",
         "opacity": 0.7,
         "showlegend": false,
         "type": "scatter",
         "x": [
          -0.30000000000000004,
          1.7999999999999998
         ],
         "y": [
          0,
          0
         ]
        },
        {
         "hoverinfo": "none",
         "marker": {
          "color": "#ffcc99",
          "line": {
           "color": "black",
           "width": 1.0
          },
          "opacity": 0.7,
          "size": 20
         },
         "mode": "markers+text",
         "showlegend": false,
         "text": [
          "0",
          "2",
          "4",
          "6"
         ],
         "type": "scatter",
         "x": [
          0.0,
          0.5,
          1.0,
          1.5
         ],
         "y": [
          0.0,
          0.0,
          0.0,
          0.0
         ]
        },
        {
         "customdata": [
          [
           0,
           0.026250000000000002,
           0.0,
           0.026250000000000002,
           0.0,
           0.25,
           "steel"
          ],
          [
           0,
           0.026250000000000002,
           0.0,
           0.026250000000000002,
           0.0,
           0.25,
           "steel"
          ],
          [
           0,
           0.026250000000000002,
           0.0,
           0.026250000000000002,
           0.0,
           0.25,
           "steel"
          ],
          [
           0,
           0.026250000000000002,
           0.0,
           0.026250000000000002,
           0.0,
           0.25,
           "steel"
          ],
          [
           0,
           0.026250000000000002,
           0.0,
           0.026250000000000002,
           0.0,
           0.25,
           "steel"
          ],
          [
           0,
           0.026250000000000002,
           0.0,
           0.026250000000000002,
           0.0,
           0.25,
           "steel"
          ],
          [
           0,
           0.026250000000000002,
           0.0,
           0.026250000000000002,
           0.0,
           0.25,
           "steel"
          ],
          [
           0,
           0.026250000000000002,
           0.0,
           0.026250000000000002,
           0.0,
           0.25,
           "steel"
          ],
          [
           0,
           0.026250000000000002,
           0.0,
           0.026250000000000002,
           0.0,
           0.25,
           "steel"
          ],
          [
           0,
           0.026250000000000002,
           0.0,
           0.026250000000000002,
           0.0,
           0.25,
           "steel"
          ]
         ],
         "fill": "toself",
         "fillcolor": "#525252",
         "hoverinfo": "text",
         "hoverlabel": {
          "bgcolor": "#525252"
         },
         "hoveron": "points+fills",
         "hovertemplate": "Element Number: 0<br>Left Outer Diameter: 0.02625 m<br>Left Inner Diameter: 0.0 m<br>Right Outer Diameter: 0.02625 m<br>Right Inner Diameter: 0.0 m<br>Element Length: 0.25 m<br>Material: steel<br>",
         "legendgroup": "Shaft",
         "line": {
          "color": "black",
          "width": 1.5
         },
         "mode": "lines",
         "name": "ShaftElement 0",
         "opacity": 0.5,
         "showlegend": false,
         "text": "Element Number: 0<br>Left Outer Diameter: 0.02625 m<br>Left Inner Diameter: 0.0 m<br>Right Outer Diameter: 0.02625 m<br>Right Inner Diameter: 0.0 m<br>Element Length: 0.25 m<br>Material: steel<br>",
         "type": "scatter",
         "x": [
          0.0,
          0.0,
          0.25,
          0.25,
          0.0,
          0.0,
          0.0,
          0.25,
          0.25,
          0.0
         ],
         "y": [
          0.0,
          0.013125000000000001,
          0.013125000000000001,
          0.0,
          0.0,
          -0.0,
          -0.013125000000000001,
          -0.013125000000000001,
          -0.0,
          -0.0
         ]
        },
        {
         "customdata": [
          [
           1,
           0.02875,
           0.0,
           0.02875,
           0.0,
           0.25,
           "steel"
          ],
          [
           1,
           0.02875,
           0.0,
           0.02875,
           0.0,
           0.25,
           "steel"
          ],
          [
           1,
           0.02875,
           0.0,
           0.02875,
           0.0,
           0.25,
           "steel"
          ],
          [
           1,
           0.02875,
           0.0,
           0.02875,
           0.0,
           0.25,
           "steel"
          ],
          [
           1,
           0.02875,
           0.0,
           0.02875,
           0.0,
           0.25,
           "steel"
          ],
          [
           1,
           0.02875,
           0.0,
           0.02875,
           0.0,
           0.25,
           "steel"
          ],
          [
           1,
           0.02875,
           0.0,
           0.02875,
           0.0,
           0.25,
           "steel"
          ],
          [
           1,
           0.02875,
           0.0,
           0.02875,
           0.0,
           0.25,
           "steel"
          ],
          [
           1,
           0.02875,
           0.0,
           0.02875,
           0.0,
           0.25,
           "steel"
          ],
          [
           1,
           0.02875,
           0.0,
           0.02875,
           0.0,
           0.25,
           "steel"
          ]
         ],
         "fill": "toself",
         "fillcolor": "#525252",
         "hoverinfo": "text",
         "hoverlabel": {
          "bgcolor": "#525252"
         },
         "hoveron": "points+fills",
         "hovertemplate": "Element Number: 1<br>Left Outer Diameter: 0.02875 m<br>Left Inner Diameter: 0.0 m<br>Right Outer Diameter: 0.02875 m<br>Right Inner Diameter: 0.0 m<br>Element Length: 0.25 m<br>Material: steel<br>",
         "legendgroup": "Shaft",
         "line": {
          "color": "black",
          "width": 1.5
         },
         "mode": "lines",
         "name": "ShaftElement 1",
         "opacity": 0.5,
         "showlegend": false,
         "text": "Element Number: 1<br>Left Outer Diameter: 0.02875 m<br>Left Inner Diameter: 0.0 m<br>Right Outer Diameter: 0.02875 m<br>Right Inner Diameter: 0.0 m<br>Element Length: 0.25 m<br>Material: steel<br>",
         "type": "scatter",
         "x": [
          0.25,
          0.25,
          0.5,
          0.5,
          0.25,
          0.25,
          0.25,
          0.5,
          0.5,
          0.25
         ],
         "y": [
          0.0,
          0.014375,
          0.014375,
          0.0,
          0.0,
          -0.0,
          -0.014375,
          -0.014375,
          -0.0,
          -0.0
         ]
        },
        {
         "customdata": [
          [
           2,
           0.03125,
           0.0,
           0.03125,
           0.0,
           0.25,
           "steel"
          ],
          [
           2,
           0.03125,
           0.0,
           0.03125,
           0.0,
           0.25,
           "steel"
          ],
          [
           2,
           0.03125,
           0.0,
           0.03125,
           0.0,
           0.25,
           "steel"
          ],
          [
           2,
           0.03125,
           0.0,
           0.03125,
           0.0,
           0.25,
           "steel"
          ],
          [
           2,
           0.03125,
           0.0,
           0.03125,
           0.0,
           0.25,
           "steel"
          ],
          [
           2,
           0.03125,
           0.0,
           0.03125,
           0.0,
           0.25,
           "steel"
          ],
          [
           2,
           0.03125,
           0.0,
           0.03125,
           0.0,
           0.25,
           "steel"
          ],
          [
           2,
           0.03125,
           0.0,
           0.03125,
           0.0,
           0.25,
           "steel"
          ],
          [
           2,
           0.03125,
           0.0,
           0.03125,
           0.0,
           0.25,
           "steel"
          ],
          [
           2,
           0.03125,
           0.0,
           0.03125,
           0.0,
           0.25,
           "steel"
          ]
         ],
         "fill": "toself",
         "fillcolor": "#525252",
         "hoverinfo": "text",
         "hoverlabel": {
          "bgcolor": "#525252"
         },
         "hoveron": "points+fills",
         "hovertemplate": "Element Number: 2<br>Left Outer Diameter: 0.03125 m<br>Left Inner Diameter: 0.0 m<br>Right Outer Diameter: 0.03125 m<br>Right Inner Diameter: 0.0 m<br>Element Length: 0.25 m<br>Material: steel<br>",
         "legendgroup": "Shaft",
         "line": {
          "color": "black",
          "width": 1.5
         },
         "mode": "lines",
         "name": "ShaftElement 2",
         "opacity": 0.5,
         "showlegend": false,
         "text": "Element Number: 2<br>Left Outer Diameter: 0.03125 m<br>Left Inner Diameter: 0.0 m<br>Right Outer Diameter: 0.03125 m<br>Right Inner Diameter: 0.0 m<br>Element Length: 0.25 m<br>Material: steel<br>",
         "type": "scatter",
         "x": [
          0.5,
          0.5,
          0.75,
          0.75,
          0.5,
          0.5,
          0.5,
          0.75,
          0.75,
          0.5
         ],
         "y": [
          0.0,
          0.015625,
          0.015625,
          0.0,
          0.0,
          -0.0,
          -0.015625,
          -0.015625,
          -0.0,
          -0.0
         ]
        },
        {
         "customdata": [
          [
           3,
           0.03375,
           0.0,
           0.03375,
           0.0,
           0.25,
           "steel"
          ],
          [
           3,
           0.03375,
           0.0,
           0.03375,
           0.0,
           0.25,
           "steel"
          ],
          [
           3,
           0.03375,
           0.0,
           0.03375,
           0.0,
           0.25,
           "steel"
          ],
          [
           3,
           0.03375,
           0.0,
           0.03375,
           0.0,
           0.25,
           "steel"
          ],
          [
           3,
           0.03375,
           0.0,
           0.03375,
           0.0,
           0.25,
           "steel"
          ],
          [
           3,
           0.03375,
           0.0,
           0.03375,
           0.0,
           0.25,
           "steel"
          ],
          [
           3,
           0.03375,
           0.0,
           0.03375,
           0.0,
           0.25,
           "steel"
          ],
          [
           3,
           0.03375,
           0.0,
           0.03375,
           0.0,
           0.25,
           "steel"
          ],
          [
           3,
           0.03375,
           0.0,
           0.03375,
           0.0,
           0.25,
           "steel"
          ],
          [
           3,
           0.03375,
           0.0,
           0.03375,
           0.0,
           0.25,
           "steel"
          ]
         ],
         "fill": "toself",
         "fillcolor": "#525252",
         "hoverinfo": "text",
         "hoverlabel": {
          "bgcolor": "#525252"
         },
         "hoveron": "points+fills",
         "hovertemplate": "Element Number: 3<br>Left Outer Diameter: 0.03375 m<br>Left Inner Diameter: 0.0 m<br>Right Outer Diameter: 0.03375 m<br>Right Inner Diameter: 0.0 m<br>Element Length: 0.25 m<br>Material: steel<br>",
         "legendgroup": "Shaft",
         "line": {
          "color": "black",
          "width": 1.5
         },
         "mode": "lines",
         "name": "ShaftElement 3",
         "opacity": 0.5,
         "showlegend": false,
         "text": "Element Number: 3<br>Left Outer Diameter: 0.03375 m<br>Left Inner Diameter: 0.0 m<br>Right Outer Diameter: 0.03375 m<br>Right Inner Diameter: 0.0 m<br>Element Length: 0.25 m<br>Material: steel<br>",
         "type": "scatter",
         "x": [
          0.75,
          0.75,
          1.0,
          1.0,
          0.75,
          0.75,
          0.75,
          1.0,
          1.0,
          0.75
         ],
         "y": [
          0.0,
          0.016875,
          0.016875,
          0.0,
          0.0,
          -0.0,
          -0.016875,
          -0.016875,
          -0.0,
          -0.0
         ]
        },
        {
         "customdata": [
          [
           4,
           0.036250000000000004,
           0.0,
           0.036250000000000004,
           0.0,
           0.25,
           "steel"
          ],
          [
           4,
           0.036250000000000004,
           0.0,
           0.036250000000000004,
           0.0,
           0.25,
           "steel"
          ],
          [
           4,
           0.036250000000000004,
           0.0,
           0.036250000000000004,
           0.0,
           0.25,
           "steel"
          ],
          [
           4,
           0.036250000000000004,
           0.0,
           0.036250000000000004,
           0.0,
           0.25,
           "steel"
          ],
          [
           4,
           0.036250000000000004,
           0.0,
           0.036250000000000004,
           0.0,
           0.25,
           "steel"
          ],
          [
           4,
           0.036250000000000004,
           0.0,
           0.036250000000000004,
           0.0,
           0.25,
           "steel"
          ],
          [
           4,
           0.036250000000000004,
           0.0,
           0.036250000000000004,
           0.0,
           0.25,
           "steel"
          ],
          [
           4,
           0.036250000000000004,
           0.0,
           0.036250000000000004,
           0.0,
           0.25,
           "steel"
          ],
          [
           4,
           0.036250000000000004,
           0.0,
           0.036250000000000004,
           0.0,
           0.25,
           "steel"
          ],
          [
           4,
           0.036250000000000004,
           0.0,
           0.036250000000000004,
           0.0,
           0.25,
           "steel"
          ]
         ],
         "fill": "toself",
         "fillcolor": "#525252",
         "hoverinfo": "text",
         "hoverlabel": {
          "bgcolor": "#525252"
         },
         "hoveron": "points+fills",
         "hovertemplate": "Element Number: 4<br>Left Outer Diameter: 0.03625 m<br>Left Inner Diameter: 0.0 m<br>Right Outer Diameter: 0.03625 m<br>Right Inner Diameter: 0.0 m<br>Element Length: 0.25 m<br>Material: steel<br>",
         "legendgroup": "Shaft",
         "line": {
          "color": "black",
          "width": 1.5
         },
         "mode": "lines",
         "name": "ShaftElement 4",
         "opacity": 0.5,
         "showlegend": false,
         "text": "Element Number: 4<br>Left Outer Diameter: 0.03625 m<br>Left Inner Diameter: 0.0 m<br>Right Outer Diameter: 0.03625 m<br>Right Inner Diameter: 0.0 m<br>Element Length: 0.25 m<br>Material: steel<br>",
         "type": "scatter",
         "x": [
          1.0,
          1.0,
          1.25,
          1.25,
          1.0,
          1.0,
          1.0,
          1.25,
          1.25,
          1.0
         ],
         "y": [
          0.0,
          0.018125000000000002,
          0.018125000000000002,
          0.0,
          0.0,
          -0.0,
          -0.018125000000000002,
          -0.018125000000000002,
          -0.0,
          -0.0
         ]
        },
        {
         "customdata": [
          [
           5,
           0.03875000000000001,
           0.0,
           0.03875000000000001,
           0.0,
           0.25,
           "steel"
          ],
          [
           5,
           0.03875000000000001,
           0.0,
           0.03875000000000001,
           0.0,
           0.25,
           "steel"
          ],
          [
           5,
           0.03875000000000001,
           0.0,
           0.03875000000000001,
           0.0,
           0.25,
           "steel"
          ],
          [
           5,
           0.03875000000000001,
           0.0,
           0.03875000000000001,
           0.0,
           0.25,
           "steel"
          ],
          [
           5,
           0.03875000000000001,
           0.0,
           0.03875000000000001,
           0.0,
           0.25,
           "steel"
          ],
          [
           5,
           0.03875000000000001,
           0.0,
           0.03875000000000001,
           0.0,
           0.25,
           "steel"
          ],
          [
           5,
           0.03875000000000001,
           0.0,
           0.03875000000000001,
           0.0,
           0.25,
           "steel"
          ],
          [
           5,
           0.03875000000000001,
           0.0,
           0.03875000000000001,
           0.0,
           0.25,
           "steel"
          ],
          [
           5,
           0.03875000000000001,
           0.0,
           0.03875000000000001,
           0.0,
           0.25,
           "steel"
          ],
          [
           5,
           0.03875000000000001,
           0.0,
           0.03875000000000001,
           0.0,
           0.25,
           "steel"
          ]
         ],
         "fill": "toself",
         "fillcolor": "#525252",
         "hoverinfo": "text",
         "hoverlabel": {
          "bgcolor": "#525252"
         },
         "hoveron": "points+fills",
         "hovertemplate": "Element Number: 5<br>Left Outer Diameter: 0.03875 m<br>Left Inner Diameter: 0.0 m<br>Right Outer Diameter: 0.03875 m<br>Right Inner Diameter: 0.0 m<br>Element Length: 0.25 m<br>Material: steel<br>",
         "legendgroup": "Shaft",
         "line": {
          "color": "black",
          "width": 1.5
         },
         "mode": "lines",
         "name": "ShaftElement 5",
         "opacity": 0.5,
         "showlegend": false,
         "text": "Element Number: 5<br>Left Outer Diameter: 0.03875 m<br>Left Inner Diameter: 0.0 m<br>Right Outer Diameter: 0.03875 m<br>Right Inner Diameter: 0.0 m<br>Element Length: 0.25 m<br>Material: steel<br>",
         "type": "scatter",
         "x": [
          1.25,
          1.25,
          1.5,
          1.5,
          1.25,
          1.25,
          1.25,
          1.5,
          1.5,
          1.25
         ],
         "y": [
          0.0,
          0.019375000000000003,
          0.019375000000000003,
          0.0,
          0.0,
          -0.0,
          -0.019375000000000003,
          -0.019375000000000003,
          -0.0,
          -0.0
         ]
        },
        {
         "customdata": [
          [
           3,
           0.11980389953386858,
           0.061946602985645645,
           15.334899140335178
          ],
          [
           3,
           0.11980389953386858,
           0.061946602985645645,
           15.334899140335178
          ],
          [
           3,
           0.11980389953386858,
           0.061946602985645645,
           15.334899140335178
          ],
          [
           3,
           0.11980389953386858,
           0.061946602985645645,
           15.334899140335178
          ],
          [
           3,
           0.11980389953386858,
           0.061946602985645645,
           15.334899140335178
          ],
          [
           3,
           0.11980389953386858,
           0.061946602985645645,
           15.334899140335178
          ],
          [
           3,
           0.11980389953386858,
           0.061946602985645645,
           15.334899140335178
          ],
          [
           3,
           0.11980389953386858,
           0.061946602985645645,
           15.334899140335178
          ],
          [
           3,
           0.11980389953386858,
           0.061946602985645645,
           15.334899140335178
          ]
         ],
         "fill": "toself",
         "fillcolor": "Firebrick",
         "hoverinfo": "text",
         "hoverlabel": {
          "bgcolor": "Firebrick"
         },
         "hoveron": "points+fills",
         "hovertemplate": "Disk Node: 3<br>Polar Inertia: 1.198e-01<br>Diametral Inertia: 6.195e-02<br>Disk mass: 15.335<br>",
         "legendgroup": "disks",
         "line": {
          "color": "Firebrick",
          "width": 2.0
         },
         "mode": "lines",
         "name": "Disk 0",
         "opacity": 0.8,
         "showlegend": false,
         "text": "Disk Node: 3<br>Polar Inertia: 1.198e-01<br>Diametral Inertia: 6.195e-02<br>Disk mass: 15.335<br>",
         "type": "scatter",
         "x": [
          0.75,
          0.7513357142857143,
          0.7486642857142857,
          0.75,
          null,
          0.75,
          0.7513357142857143,
          0.7486642857142857,
          0.75
         ],
         "y": [
          0.016875,
          0.0836607142857143,
          0.0836607142857143,
          0.016875,
          null,
          -0.016875,
          -0.0836607142857143,
          -0.0836607142857143,
          -0.016875
         ]
        },
        {
         "hoverinfo": "none",
         "legendgroup": "bearings",
         "line": {
          "color": "#355d7a",
          "width": 1
         },
         "mode": "lines",
         "name": "Bearing 0",
         "showlegend": false,
         "type": "scatter",
         "x": [
          0.0,
          0.0,
          -0.009540816326530614,
          0.009540816326530614
         ],
         "y": [
          0.013125000000000001,
          0.029821428571428575,
          0.029821428571428575,
          0.029821428571428575
         ]
        },
        {
         "hoverinfo": "none",
         "legendgroup": "bearings",
         "line": {
          "color": "#355d7a",
          "width": 1
         },
         "mode": "lines",
         "name": "Bearing 0",
         "showlegend": false,
         "type": "scatter",
         "x": [
          0.0,
          0.0,
          -0.009540816326530614,
          0.009540816326530614
         ],
         "y": [
          -0.013125000000000001,
          -0.029821428571428575,
          -0.029821428571428575,
          -0.029821428571428575
         ]
        },
        {
         "hoverinfo": "none",
         "legendgroup": "bearings",
         "line": {
          "color": "#355d7a",
          "width": 1
         },
         "mode": "lines",
         "name": "Bearing 0",
         "showlegend": false,
         "type": "scatter",
         "x": [
          0.0,
          0.0,
          -0.009540816326530614,
          0.009540816326530614
         ],
         "y": [
          0.0799107142857143,
          0.06321428571428572,
          0.06321428571428572,
          0.06321428571428572
         ]
        },
        {
         "hoverinfo": "none",
         "legendgroup": "bearings",
         "line": {
          "color": "#355d7a",
          "width": 1
         },
         "mode": "lines",
         "name": "Bearing 0",
         "showlegend": false,
         "type": "scatter",
         "x": [
          0.0,
          0.0,
          -0.009540816326530614,
          0.009540816326530614
         ],
         "y": [
          -0.0799107142857143,
          -0.06321428571428572,
          -0.06321428571428572,
          -0.06321428571428572
         ]
        },
        {
         "hoverinfo": "none",
         "legendgroup": "bearings",
         "line": {
          "color": "#355d7a",
          "width": 1
         },
         "mode": "lines",
         "name": "Bearing 0",
         "showlegend": false,
         "type": "scatter",
         "x": [
          -0.01431122448979592,
          0.01431122448979592
         ],
         "y": [
          0.0799107142857143,
          0.0799107142857143
         ]
        },
        {
         "hoverinfo": "none",
         "legendgroup": "bearings",
         "line": {
          "color": "#355d7a",
          "width": 1
         },
         "mode": "lines",
         "name": "Bearing 0",
         "showlegend": false,
         "type": "scatter",
         "x": [
          -0.01431122448979592,
          0.01431122448979592
         ],
         "y": [
          -0.0799107142857143,
          -0.0799107142857143
         ]
        },
        {
         "hoverinfo": "none",
         "legendgroup": "bearings",
         "line": {
          "color": "#355d7a",
          "width": 1
         },
         "mode": "lines",
         "name": "Bearing 0",
         "showlegend": false,
         "type": "scatter",
         "x": [
          -0.01431122448979592,
          -0.008586734693877551
         ],
         "y": [
          0.0799107142857143,
          0.08790178571428572
         ]
        },
        {
         "hoverinfo": "none",
         "legendgroup": "bearings",
         "line": {
          "color": "#355d7a",
          "width": 1
         },
         "mode": "lines",
         "name": "Bearing 0",
         "showlegend": false,
         "type": "scatter",
         "x": [
          -0.01431122448979592,
          -0.008586734693877551
         ],
         "y": [
          -0.0799107142857143,
          -0.08790178571428572
         ]
        },
        {
         "hoverinfo": "none",
         "legendgroup": "bearings",
         "line": {
          "color": "#355d7a",
          "width": 1
         },
         "mode": "lines",
         "name": "Bearing 0",
         "showlegend": false,
         "type": "scatter",
         "x": [
          -0.008586734693877551,
          -0.0028622448979591843
         ],
         "y": [
          0.0799107142857143,
          0.08790178571428572
         ]
        },
        {
         "hoverinfo": "none",
         "legendgroup": "bearings",
         "line": {
          "color": "#355d7a",
          "width": 1
         },
         "mode": "lines",
         "name": "Bearing 0",
         "showlegend": false,
         "type": "scatter",
         "x": [
          -0.008586734693877551,
          -0.0028622448979591843
         ],
         "y": [
          -0.0799107142857143,
          -0.08790178571428572
         ]
        },
        {
         "hoverinfo": "none",
         "legendgroup": "bearings",
         "line": {
          "color": "#355d7a",
          "width": 1
         },
         "mode": "lines",
         "name": "Bearing 0",
         "showlegend": false,
         "type": "scatter",
         "x": [
          -0.0028622448979591843,
          0.0028622448979591826
         ],
         "y": [
          0.0799107142857143,
          0.08790178571428572
         ]
        },
        {
         "hoverinfo": "none",
         "legendgroup": "bearings",
         "line": {
          "color": "#355d7a",
          "width": 1
         },
         "mode": "lines",
         "name": "Bearing 0",
         "showlegend": false,
         "type": "scatter",
         "x": [
          -0.0028622448979591843,
          0.0028622448979591826
         ],
         "y": [
          -0.0799107142857143,
          -0.08790178571428572
         ]
        },
        {
         "hoverinfo": "none",
         "legendgroup": "bearings",
         "line": {
          "color": "#355d7a",
          "width": 1
         },
         "mode": "lines",
         "name": "Bearing 0",
         "showlegend": false,
         "type": "scatter",
         "x": [
          0.0028622448979591826,
          0.008586734693877551
         ],
         "y": [
          0.0799107142857143,
          0.08790178571428572
         ]
        },
        {
         "hoverinfo": "none",
         "legendgroup": "bearings",
         "line": {
          "color": "#355d7a",
          "width": 1
         },
         "mode": "lines",
         "name": "Bearing 0",
         "showlegend": false,
         "type": "scatter",
         "x": [
          0.0028622448979591826,
          0.008586734693877551
         ],
         "y": [
          -0.0799107142857143,
          -0.08790178571428572
         ]
        },
        {
         "hoverinfo": "none",
         "legendgroup": "bearings",
         "line": {
          "color": "#355d7a",
          "width": 1
         },
         "mode": "lines",
         "name": "Bearing 0",
         "showlegend": false,
         "type": "scatter",
         "x": [
          0.008586734693877551,
          0.01431122448979592
         ],
         "y": [
          0.0799107142857143,
          0.08790178571428572
         ]
        },
        {
         "hoverinfo": "none",
         "legendgroup": "bearings",
         "line": {
          "color": "#355d7a",
          "width": 1
         },
         "mode": "lines",
         "name": "Bearing 0",
         "showlegend": false,
         "type": "scatter",
         "x": [
          0.008586734693877551,
          0.01431122448979592
         ],
         "y": [
          -0.0799107142857143,
          -0.08790178571428572
         ]
        },
        {
         "hoverinfo": "none",
         "legendgroup": "bearings",
         "line": {
          "color": "#355d7a",
          "width": 1
         },
         "mode": "lines",
         "name": "Bearing 0",
         "showlegend": false,
         "type": "scatter",
         "x": [
          0.01431122448979592,
          0.020035714285714285
         ],
         "y": [
          0.0799107142857143,
          0.08790178571428572
         ]
        },
        {
         "hoverinfo": "none",
         "legendgroup": "bearings",
         "line": {
          "color": "#355d7a",
          "width": 1
         },
         "mode": "lines",
         "name": "Bearing 0",
         "showlegend": false,
         "type": "scatter",
         "x": [
          0.01431122448979592,
          0.020035714285714285
         ],
         "y": [
          -0.0799107142857143,
          -0.08790178571428572
         ]
        },
        {
         "hoverinfo": "none",
         "legendgroup": "bearings",
         "line": {
          "color": "#355d7a",
          "width": 1
         },
         "mode": "lines",
         "name": "Bearing 0",
         "showlegend": false,
         "type": "scatter",
         "x": [
          -0.009540816326530614,
          -0.009540816326530614,
          -0.01431122448979592,
          -0.004770408163265307,
          -0.01431122448979592,
          -0.004770408163265307,
          -0.01431122448979592,
          -0.004770408163265307,
          -0.009540816326530614,
          -0.009540816326530614
         ],
         "y": [
          0.029821428571428575,
          0.03459183673469388,
          0.03459183673469388,
          0.03936224489795919,
          0.04413265306122449,
          0.0489030612244898,
          0.05367346938775511,
          0.058443877551020415,
          0.058443877551020415,
          0.06321428571428572
         ]
        },
        {
         "hoverinfo": "none",
         "legendgroup": "bearings",
         "line": {
          "color": "#355d7a",
          "width": 1
         },
         "mode": "lines",
         "name": "Bearing 0",
         "showlegend": false,
         "type": "scatter",
         "x": [
          -0.009540816326530614,
          -0.009540816326530614,
          -0.01431122448979592,
          -0.004770408163265307,
          -0.01431122448979592,
          -0.004770408163265307,
          -0.01431122448979592,
          -0.004770408163265307,
          -0.009540816326530614,
          -0.009540816326530614
         ],
         "y": [
          -0.029821428571428575,
          -0.03459183673469388,
          -0.03459183673469388,
          -0.03936224489795919,
          -0.04413265306122449,
          -0.0489030612244898,
          -0.05367346938775511,
          -0.058443877551020415,
          -0.058443877551020415,
          -0.06321428571428572
         ]
        },
        {
         "hoverinfo": "none",
         "legendgroup": "bearings",
         "line": {
          "color": "#355d7a",
          "width": 1
         },
         "mode": "lines",
         "name": "Bearing 0",
         "showlegend": false,
         "type": "scatter",
         "x": [
          0.009540816326530614,
          0.009540816326530614
         ],
         "y": [
          0.029821428571428575,
          0.03936224489795919
         ]
        },
        {
         "hoverinfo": "none",
         "legendgroup": "bearings",
         "line": {
          "color": "#355d7a",
          "width": 1
         },
         "mode": "lines",
         "name": "Bearing 0",
         "showlegend": false,
         "type": "scatter",
         "x": [
          0.009540816326530614,
          0.009540816326530614
         ],
         "y": [
          -0.029821428571428575,
          -0.03936224489795919
         ]
        },
        {
         "hoverinfo": "none",
         "legendgroup": "bearings",
         "line": {
          "color": "#355d7a",
          "width": 1
         },
         "mode": "lines",
         "name": "Bearing 0",
         "showlegend": false,
         "type": "scatter",
         "x": [
          0.0,
          0.0,
          0.019081632653061228,
          0.019081632653061228
         ],
         "y": [
          0.05367346938775511,
          0.03936224489795919,
          0.03936224489795919,
          0.05367346938775511
         ]
        },
        {
         "hoverinfo": "none",
         "legendgroup": "bearings",
         "line": {
          "color": "#355d7a",
          "width": 1
         },
         "mode": "lines",
         "name": "Bearing 0",
         "showlegend": false,
         "type": "scatter",
         "x": [
          0.0,
          0.0,
          0.019081632653061228,
          0.019081632653061228
         ],
         "y": [
          -0.05367346938775511,
          -0.03936224489795919,
          -0.03936224489795919,
          -0.05367346938775511
         ]
        },
        {
         "hoverinfo": "none",
         "legendgroup": "bearings",
         "line": {
          "color": "#355d7a",
          "width": 1
         },
         "mode": "lines",
         "name": "Bearing 0",
         "showlegend": false,
         "type": "scatter",
         "x": [
          0.0,
          0.019081632653061228,
          0.009540816326530614,
          0.009540816326530614
         ],
         "y": [
          0.0489030612244898,
          0.0489030612244898,
          0.0489030612244898,
          0.06321428571428572
         ]
        },
        {
         "hoverinfo": "none",
         "legendgroup": "bearings",
         "line": {
          "color": "#355d7a",
          "width": 1
         },
         "mode": "lines",
         "name": "Bearing 0",
         "showlegend": false,
         "type": "scatter",
         "x": [
          0.0,
          0.019081632653061228,
          0.009540816326530614,
          0.009540816326530614
         ],
         "y": [
          -0.0489030612244898,
          -0.0489030612244898,
          -0.0489030612244898,
          -0.06321428571428572
         ]
        },
        {
         "hoverinfo": "none",
         "legendgroup": "bearings",
         "line": {
          "color": "#355d7a",
          "width": 1
         },
         "mode": "lines",
         "name": "Bearing 1",
         "showlegend": false,
         "type": "scatter",
         "x": [
          1.5,
          1.5,
          1.4904591836734693,
          1.5095408163265307
         ],
         "y": [
          0.019375000000000003,
          0.036071428571428574,
          0.036071428571428574,
          0.036071428571428574
         ]
        },
        {
         "hoverinfo": "none",
         "legendgroup": "bearings",
         "line": {
          "color": "#355d7a",
          "width": 1
         },
         "mode": "lines",
         "name": "Bearing 1",
         "showlegend": false,
         "type": "scatter",
         "x": [
          1.5,
          1.5,
          1.4904591836734693,
          1.5095408163265307
         ],
         "y": [
          -0.019375000000000003,
          -0.036071428571428574,
          -0.036071428571428574,
          -0.036071428571428574
         ]
        },
        {
         "hoverinfo": "none",
         "legendgroup": "bearings",
         "line": {
          "color": "#355d7a",
          "width": 1
         },
         "mode": "lines",
         "name": "Bearing 1",
         "showlegend": false,
         "type": "scatter",
         "x": [
          1.5,
          1.5,
          1.4904591836734693,
          1.5095408163265307
         ],
         "y": [
          0.0861607142857143,
          0.06946428571428573,
          0.06946428571428573,
          0.06946428571428573
         ]
        },
        {
         "hoverinfo": "none",
         "legendgroup": "bearings",
         "line": {
          "color": "#355d7a",
          "width": 1
         },
         "mode": "lines",
         "name": "Bearing 1",
         "showlegend": false,
         "type": "scatter",
         "x": [
          1.5,
          1.5,
          1.4904591836734693,
          1.5095408163265307
         ],
         "y": [
          -0.0861607142857143,
          -0.06946428571428573,
          -0.06946428571428573,
          -0.06946428571428573
         ]
        },
        {
         "hoverinfo": "none",
         "legendgroup": "bearings",
         "line": {
          "color": "#355d7a",
          "width": 1
         },
         "mode": "lines",
         "name": "Bearing 1",
         "showlegend": false,
         "type": "scatter",
         "x": [
          1.485688775510204,
          1.514311224489796
         ],
         "y": [
          0.0861607142857143,
          0.0861607142857143
         ]
        },
        {
         "hoverinfo": "none",
         "legendgroup": "bearings",
         "line": {
          "color": "#355d7a",
          "width": 1
         },
         "mode": "lines",
         "name": "Bearing 1",
         "showlegend": false,
         "type": "scatter",
         "x": [
          1.485688775510204,
          1.514311224489796
         ],
         "y": [
          -0.0861607142857143,
          -0.0861607142857143
         ]
        },
        {
         "hoverinfo": "none",
         "legendgroup": "bearings",
         "line": {
          "color": "#355d7a",
          "width": 1
         },
         "mode": "lines",
         "name": "Bearing 1",
         "showlegend": false,
         "type": "scatter",
         "x": [
          1.485688775510204,
          1.4914132653061223
         ],
         "y": [
          0.0861607142857143,
          0.09477678571428573
         ]
        },
        {
         "hoverinfo": "none",
         "legendgroup": "bearings",
         "line": {
          "color": "#355d7a",
          "width": 1
         },
         "mode": "lines",
         "name": "Bearing 1",
         "showlegend": false,
         "type": "scatter",
         "x": [
          1.485688775510204,
          1.4914132653061223
         ],
         "y": [
          -0.0861607142857143,
          -0.09477678571428573
         ]
        },
        {
         "hoverinfo": "none",
         "legendgroup": "bearings",
         "line": {
          "color": "#355d7a",
          "width": 1
         },
         "mode": "lines",
         "name": "Bearing 1",
         "showlegend": false,
         "type": "scatter",
         "x": [
          1.4914132653061223,
          1.4971377551020408
         ],
         "y": [
          0.0861607142857143,
          0.09477678571428573
         ]
        },
        {
         "hoverinfo": "none",
         "legendgroup": "bearings",
         "line": {
          "color": "#355d7a",
          "width": 1
         },
         "mode": "lines",
         "name": "Bearing 1",
         "showlegend": false,
         "type": "scatter",
         "x": [
          1.4914132653061223,
          1.4971377551020408
         ],
         "y": [
          -0.0861607142857143,
          -0.09477678571428573
         ]
        },
        {
         "hoverinfo": "none",
         "legendgroup": "bearings",
         "line": {
          "color": "#355d7a",
          "width": 1
         },
         "mode": "lines",
         "name": "Bearing 1",
         "showlegend": false,
         "type": "scatter",
         "x": [
          1.4971377551020408,
          1.5028622448979592
         ],
         "y": [
          0.0861607142857143,
          0.09477678571428573
         ]
        },
        {
         "hoverinfo": "none",
         "legendgroup": "bearings",
         "line": {
          "color": "#355d7a",
          "width": 1
         },
         "mode": "lines",
         "name": "Bearing 1",
         "showlegend": false,
         "type": "scatter",
         "x": [
          1.4971377551020408,
          1.5028622448979592
         ],
         "y": [
          -0.0861607142857143,
          -0.09477678571428573
         ]
        },
        {
         "hoverinfo": "none",
         "legendgroup": "bearings",
         "line": {
          "color": "#355d7a",
          "width": 1
         },
         "mode": "lines",
         "name": "Bearing 1",
         "showlegend": false,
         "type": "scatter",
         "x": [
          1.5028622448979592,
          1.5085867346938777
         ],
         "y": [
          0.0861607142857143,
          0.09477678571428573
         ]
        },
        {
         "hoverinfo": "none",
         "legendgroup": "bearings",
         "line": {
          "color": "#355d7a",
          "width": 1
         },
         "mode": "lines",
         "name": "Bearing 1",
         "showlegend": false,
         "type": "scatter",
         "x": [
          1.5028622448979592,
          1.5085867346938777
         ],
         "y": [
          -0.0861607142857143,
          -0.09477678571428573
         ]
        },
        {
         "hoverinfo": "none",
         "legendgroup": "bearings",
         "line": {
          "color": "#355d7a",
          "width": 1
         },
         "mode": "lines",
         "name": "Bearing 1",
         "showlegend": false,
         "type": "scatter",
         "x": [
          1.5085867346938777,
          1.514311224489796
         ],
         "y": [
          0.0861607142857143,
          0.09477678571428573
         ]
        },
        {
         "hoverinfo": "none",
         "legendgroup": "bearings",
         "line": {
          "color": "#355d7a",
          "width": 1
         },
         "mode": "lines",
         "name": "Bearing 1",
         "showlegend": false,
         "type": "scatter",
         "x": [
          1.5085867346938777,
          1.514311224489796
         ],
         "y": [
          -0.0861607142857143,
          -0.09477678571428573
         ]
        },
        {
         "hoverinfo": "none",
         "legendgroup": "bearings",
         "line": {
          "color": "#355d7a",
          "width": 1
         },
         "mode": "lines",
         "name": "Bearing 1",
         "showlegend": false,
         "type": "scatter",
         "x": [
          1.514311224489796,
          1.5200357142857144
         ],
         "y": [
          0.0861607142857143,
          0.09477678571428573
         ]
        },
        {
         "hoverinfo": "none",
         "legendgroup": "bearings",
         "line": {
          "color": "#355d7a",
          "width": 1
         },
         "mode": "lines",
         "name": "Bearing 1",
         "showlegend": false,
         "type": "scatter",
         "x": [
          1.514311224489796,
          1.5200357142857144
         ],
         "y": [
          -0.0861607142857143,
          -0.09477678571428573
         ]
        },
        {
         "hoverinfo": "none",
         "legendgroup": "bearings",
         "line": {
          "color": "#355d7a",
          "width": 1
         },
         "mode": "lines",
         "name": "Bearing 1",
         "showlegend": false,
         "type": "scatter",
         "x": [
          1.4904591836734693,
          1.4904591836734693,
          1.485688775510204,
          1.4952295918367347,
          1.485688775510204,
          1.4952295918367347,
          1.485688775510204,
          1.4952295918367347,
          1.4904591836734693,
          1.4904591836734693
         ],
         "y": [
          0.036071428571428574,
          0.04084183673469388,
          0.04084183673469388,
          0.04561224489795919,
          0.0503826530612245,
          0.055153061224489805,
          0.05992346938775511,
          0.0646938775510204,
          0.06469387755102042,
          0.06946428571428573
         ]
        },
        {
         "hoverinfo": "none",
         "legendgroup": "bearings",
         "line": {
          "color": "#355d7a",
          "width": 1
         },
         "mode": "lines",
         "name": "Bearing 1",
         "showlegend": false,
         "type": "scatter",
         "x": [
          1.4904591836734693,
          1.4904591836734693,
          1.485688775510204,
          1.4952295918367347,
          1.485688775510204,
          1.4952295918367347,
          1.485688775510204,
          1.4952295918367347,
          1.4904591836734693,
          1.4904591836734693
         ],
         "y": [
          -0.036071428571428574,
          -0.04084183673469388,
          -0.04084183673469388,
          -0.04561224489795919,
          -0.0503826530612245,
          -0.055153061224489805,
          -0.05992346938775511,
          -0.0646938775510204,
          -0.06469387755102042,
          -0.06946428571428573
         ]
        },
        {
         "hoverinfo": "none",
         "legendgroup": "bearings",
         "line": {
          "color": "#355d7a",
          "width": 1
         },
         "mode": "lines",
         "name": "Bearing 1",
         "showlegend": false,
         "type": "scatter",
         "x": [
          1.5095408163265307,
          1.5095408163265307
         ],
         "y": [
          0.036071428571428574,
          0.04561224489795919
         ]
        },
        {
         "hoverinfo": "none",
         "legendgroup": "bearings",
         "line": {
          "color": "#355d7a",
          "width": 1
         },
         "mode": "lines",
         "name": "Bearing 1",
         "showlegend": false,
         "type": "scatter",
         "x": [
          1.5095408163265307,
          1.5095408163265307
         ],
         "y": [
          -0.036071428571428574,
          -0.04561224489795919
         ]
        },
        {
         "hoverinfo": "none",
         "legendgroup": "bearings",
         "line": {
          "color": "#355d7a",
          "width": 1
         },
         "mode": "lines",
         "name": "Bearing 1",
         "showlegend": false,
         "type": "scatter",
         "x": [
          1.5,
          1.5,
          1.5190816326530614,
          1.5190816326530614
         ],
         "y": [
          0.05992346938775511,
          0.04561224489795919,
          0.04561224489795919,
          0.05992346938775511
         ]
        },
        {
         "hoverinfo": "none",
         "legendgroup": "bearings",
         "line": {
          "color": "#355d7a",
          "width": 1
         },
         "mode": "lines",
         "name": "Bearing 1",
         "showlegend": false,
         "type": "scatter",
         "x": [
          1.5,
          1.5,
          1.5190816326530614,
          1.5190816326530614
         ],
         "y": [
          -0.05992346938775511,
          -0.04561224489795919,
          -0.04561224489795919,
          -0.05992346938775511
         ]
        },
        {
         "hoverinfo": "none",
         "legendgroup": "bearings",
         "line": {
          "color": "#355d7a",
          "width": 1
         },
         "mode": "lines",
         "name": "Bearing 1",
         "showlegend": false,
         "type": "scatter",
         "x": [
          1.5,
          1.5190816326530614,
          1.5095408163265307,
          1.5095408163265307
         ],
         "y": [
          0.055153061224489805,
          0.055153061224489805,
          0.055153061224489805,
          0.06946428571428573
         ]
        },
        {
         "hoverinfo": "none",
         "legendgroup": "bearings",
         "line": {
          "color": "#355d7a",
          "width": 1
         },
         "mode": "lines",
         "name": "Bearing 1",
         "showlegend": false,
         "type": "scatter",
         "x": [
          1.5,
          1.5190816326530614,
          1.5095408163265307,
          1.5095408163265307
         ],
         "y": [
          -0.055153061224489805,
          -0.055153061224489805,
          -0.055153061224489805,
          -0.06946428571428573
         ]
        }
       ],
       "layout": {
        "shapes": [
         {
          "fillcolor": "Firebrick",
          "line": {
           "color": "Firebrick"
          },
          "type": "circle",
          "x0": 0.7458258928571428,
          "x1": 0.7541741071428572,
          "xref": "x",
          "y0": 0.07948660714285716,
          "y1": 0.08783482142857144,
          "yref": "y"
         },
         {
          "fillcolor": "Firebrick",
          "line": {
           "color": "Firebrick"
          },
          "type": "circle",
          "x0": 0.7458258928571428,
          "x1": 0.7541741071428572,
          "xref": "x",
          "y0": -0.08783482142857144,
          "y1": -0.07948660714285716,
          "yref": "y"
         }
        ],
        "template": {
         "data": {
          "bar": [
           {
            "error_x": {
             "color": "#2a3f5f"
            },
            "error_y": {
             "color": "#2a3f5f"
            },
            "marker": {
             "line": {
              "color": "white",
              "width": 0.5
             }
            },
            "type": "bar"
           }
          ],
          "barpolar": [
           {
            "marker": {
             "line": {
              "color": "white",
              "width": 0.5
             }
            },
            "type": "barpolar"
           }
          ],
          "carpet": [
           {
            "aaxis": {
             "endlinecolor": "#2a3f5f",
             "gridcolor": "#C8D4E3",
             "linecolor": "#C8D4E3",
             "minorgridcolor": "#C8D4E3",
             "startlinecolor": "#2a3f5f"
            },
            "baxis": {
             "endlinecolor": "#2a3f5f",
             "gridcolor": "#C8D4E3",
             "linecolor": "#C8D4E3",
             "minorgridcolor": "#C8D4E3",
             "startlinecolor": "#2a3f5f"
            },
            "type": "carpet"
           }
          ],
          "choropleth": [
           {
            "colorbar": {
             "outlinewidth": 0,
             "ticks": ""
            },
            "type": "choropleth"
           }
          ],
          "contour": [
           {
            "colorbar": {
             "outlinewidth": 0,
             "ticks": ""
            },
            "colorscale": [
             [
              0.0,
              "#0d0887"
             ],
             [
              0.1111111111111111,
              "#46039f"
             ],
             [
              0.2222222222222222,
              "#7201a8"
             ],
             [
              0.3333333333333333,
              "#9c179e"
             ],
             [
              0.4444444444444444,
              "#bd3786"
             ],
             [
              0.5555555555555556,
              "#d8576b"
             ],
             [
              0.6666666666666666,
              "#ed7953"
             ],
             [
              0.7777777777777778,
              "#fb9f3a"
             ],
             [
              0.8888888888888888,
              "#fdca26"
             ],
             [
              1.0,
              "#f0f921"
             ]
            ],
            "type": "contour"
           }
          ],
          "contourcarpet": [
           {
            "colorbar": {
             "outlinewidth": 0,
             "ticks": ""
            },
            "type": "contourcarpet"
           }
          ],
          "heatmap": [
           {
            "colorbar": {
             "outlinewidth": 0,
             "ticks": ""
            },
            "colorscale": [
             [
              0.0,
              "#0d0887"
             ],
             [
              0.1111111111111111,
              "#46039f"
             ],
             [
              0.2222222222222222,
              "#7201a8"
             ],
             [
              0.3333333333333333,
              "#9c179e"
             ],
             [
              0.4444444444444444,
              "#bd3786"
             ],
             [
              0.5555555555555556,
              "#d8576b"
             ],
             [
              0.6666666666666666,
              "#ed7953"
             ],
             [
              0.7777777777777778,
              "#fb9f3a"
             ],
             [
              0.8888888888888888,
              "#fdca26"
             ],
             [
              1.0,
              "#f0f921"
             ]
            ],
            "type": "heatmap"
           }
          ],
          "heatmapgl": [
           {
            "colorbar": {
             "outlinewidth": 0,
             "ticks": ""
            },
            "colorscale": [
             [
              0.0,
              "#0d0887"
             ],
             [
              0.1111111111111111,
              "#46039f"
             ],
             [
              0.2222222222222222,
              "#7201a8"
             ],
             [
              0.3333333333333333,
              "#9c179e"
             ],
             [
              0.4444444444444444,
              "#bd3786"
             ],
             [
              0.5555555555555556,
              "#d8576b"
             ],
             [
              0.6666666666666666,
              "#ed7953"
             ],
             [
              0.7777777777777778,
              "#fb9f3a"
             ],
             [
              0.8888888888888888,
              "#fdca26"
             ],
             [
              1.0,
              "#f0f921"
             ]
            ],
            "type": "heatmapgl"
           }
          ],
          "histogram": [
           {
            "marker": {
             "colorbar": {
              "outlinewidth": 0,
              "ticks": ""
             }
            },
            "type": "histogram"
           }
          ],
          "histogram2d": [
           {
            "colorbar": {
             "outlinewidth": 0,
             "ticks": ""
            },
            "colorscale": [
             [
              0.0,
              "#0d0887"
             ],
             [
              0.1111111111111111,
              "#46039f"
             ],
             [
              0.2222222222222222,
              "#7201a8"
             ],
             [
              0.3333333333333333,
              "#9c179e"
             ],
             [
              0.4444444444444444,
              "#bd3786"
             ],
             [
              0.5555555555555556,
              "#d8576b"
             ],
             [
              0.6666666666666666,
              "#ed7953"
             ],
             [
              0.7777777777777778,
              "#fb9f3a"
             ],
             [
              0.8888888888888888,
              "#fdca26"
             ],
             [
              1.0,
              "#f0f921"
             ]
            ],
            "type": "histogram2d"
           }
          ],
          "histogram2dcontour": [
           {
            "colorbar": {
             "outlinewidth": 0,
             "ticks": ""
            },
            "colorscale": [
             [
              0.0,
              "#0d0887"
             ],
             [
              0.1111111111111111,
              "#46039f"
             ],
             [
              0.2222222222222222,
              "#7201a8"
             ],
             [
              0.3333333333333333,
              "#9c179e"
             ],
             [
              0.4444444444444444,
              "#bd3786"
             ],
             [
              0.5555555555555556,
              "#d8576b"
             ],
             [
              0.6666666666666666,
              "#ed7953"
             ],
             [
              0.7777777777777778,
              "#fb9f3a"
             ],
             [
              0.8888888888888888,
              "#fdca26"
             ],
             [
              1.0,
              "#f0f921"
             ]
            ],
            "type": "histogram2dcontour"
           }
          ],
          "mesh3d": [
           {
            "colorbar": {
             "outlinewidth": 0,
             "ticks": ""
            },
            "type": "mesh3d"
           }
          ],
          "parcoords": [
           {
            "line": {
             "colorbar": {
              "outlinewidth": 0,
              "ticks": ""
             }
            },
            "type": "parcoords"
           }
          ],
          "pie": [
           {
            "automargin": true,
            "type": "pie"
           }
          ],
          "scatter": [
           {
            "marker": {
             "colorbar": {
              "outlinewidth": 0,
              "ticks": ""
             }
            },
            "type": "scatter"
           }
          ],
          "scatter3d": [
           {
            "line": {
             "colorbar": {
              "outlinewidth": 0,
              "ticks": ""
             }
            },
            "marker": {
             "colorbar": {
              "outlinewidth": 0,
              "ticks": ""
             },
             "size": 4
            },
            "type": "scatter3d"
           }
          ],
          "scattercarpet": [
           {
            "marker": {
             "colorbar": {
              "outlinewidth": 0,
              "ticks": ""
             }
            },
            "type": "scattercarpet"
           }
          ],
          "scattergeo": [
           {
            "marker": {
             "colorbar": {
              "outlinewidth": 0,
              "ticks": ""
             }
            },
            "type": "scattergeo"
           }
          ],
          "scattergl": [
           {
            "marker": {
             "colorbar": {
              "outlinewidth": 0,
              "ticks": ""
             }
            },
            "type": "scattergl"
           }
          ],
          "scattermapbox": [
           {
            "marker": {
             "colorbar": {
              "outlinewidth": 0,
              "ticks": ""
             }
            },
            "type": "scattermapbox"
           }
          ],
          "scatterpolar": [
           {
            "marker": {
             "colorbar": {
              "outlinewidth": 0,
              "ticks": ""
             }
            },
            "type": "scatterpolar"
           }
          ],
          "scatterpolargl": [
           {
            "marker": {
             "colorbar": {
              "outlinewidth": 0,
              "ticks": ""
             }
            },
            "type": "scatterpolargl"
           }
          ],
          "scatterternary": [
           {
            "marker": {
             "colorbar": {
              "outlinewidth": 0,
              "ticks": ""
             }
            },
            "type": "scatterternary"
           }
          ],
          "surface": [
           {
            "colorbar": {
             "outlinewidth": 0,
             "ticks": ""
            },
            "colorscale": [
             [
              0.0,
              "#0d0887"
             ],
             [
              0.1111111111111111,
              "#46039f"
             ],
             [
              0.2222222222222222,
              "#7201a8"
             ],
             [
              0.3333333333333333,
              "#9c179e"
             ],
             [
              0.4444444444444444,
              "#bd3786"
             ],
             [
              0.5555555555555556,
              "#d8576b"
             ],
             [
              0.6666666666666666,
              "#ed7953"
             ],
             [
              0.7777777777777778,
              "#fb9f3a"
             ],
             [
              0.8888888888888888,
              "#fdca26"
             ],
             [
              1.0,
              "#f0f921"
             ]
            ],
            "type": "surface"
           }
          ],
          "table": [
           {
            "cells": {
             "fill": {
              "color": "#EBF0F8"
             },
             "line": {
              "color": "white"
             }
            },
            "header": {
             "fill": {
              "color": "#C8D4E3"
             },
             "line": {
              "color": "white"
             }
            },
            "type": "table"
           }
          ]
         },
         "layout": {
          "annotationdefaults": {
           "arrowcolor": "#2a3f5f",
           "arrowhead": 0,
           "arrowwidth": 1
          },
          "coloraxis": {
           "colorbar": {
            "outlinewidth": 0,
            "ticks": ""
           }
          },
          "colorscale": {
           "diverging": [
            [
             0,
             "#8e0152"
            ],
            [
             0.1,
             "#c51b7d"
            ],
            [
             0.2,
             "#de77ae"
            ],
            [
             0.3,
             "#f1b6da"
            ],
            [
             0.4,
             "#fde0ef"
            ],
            [
             0.5,
             "#f7f7f7"
            ],
            [
             0.6,
             "#e6f5d0"
            ],
            [
             0.7,
             "#b8e186"
            ],
            [
             0.8,
             "#7fbc41"
            ],
            [
             0.9,
             "#4d9221"
            ],
            [
             1,
             "#276419"
            ]
           ],
           "sequential": [
            [
             0.0,
             "#0d0887"
            ],
            [
             0.1111111111111111,
             "#46039f"
            ],
            [
             0.2222222222222222,
             "#7201a8"
            ],
            [
             0.3333333333333333,
             "#9c179e"
            ],
            [
             0.4444444444444444,
             "#bd3786"
            ],
            [
             0.5555555555555556,
             "#d8576b"
            ],
            [
             0.6666666666666666,
             "#ed7953"
            ],
            [
             0.7777777777777778,
             "#fb9f3a"
            ],
            [
             0.8888888888888888,
             "#fdca26"
            ],
            [
             1.0,
             "#f0f921"
            ]
           ],
           "sequentialminus": [
            [
             0.0,
             "#0d0887"
            ],
            [
             0.1111111111111111,
             "#46039f"
            ],
            [
             0.2222222222222222,
             "#7201a8"
            ],
            [
             0.3333333333333333,
             "#9c179e"
            ],
            [
             0.4444444444444444,
             "#bd3786"
            ],
            [
             0.5555555555555556,
             "#d8576b"
            ],
            [
             0.6666666666666666,
             "#ed7953"
            ],
            [
             0.7777777777777778,
             "#fb9f3a"
            ],
            [
             0.8888888888888888,
             "#fdca26"
            ],
            [
             1.0,
             "#f0f921"
            ]
           ]
          },
          "colorway": [
           "#1f77b4",
           "#ff7f0e",
           "#2ca02c",
           "#d62728",
           "#9467bd",
           "#8c564b",
           "#e377c2",
           "#7f7f7f",
           "#bcbd22",
           "#17becf"
          ],
          "font": {
           "color": "#2a3f5f"
          },
          "geo": {
           "bgcolor": "white",
           "lakecolor": "white",
           "landcolor": "white",
           "showlakes": true,
           "showland": true,
           "subunitcolor": "#C8D4E3"
          },
          "hoverlabel": {
           "align": "left"
          },
          "hovermode": "closest",
          "mapbox": {
           "style": "light"
          },
          "paper_bgcolor": "white",
          "plot_bgcolor": "white",
          "polar": {
           "angularaxis": {
            "gridcolor": "#EBF0F8",
            "linecolor": "#EBF0F8",
            "ticks": ""
           },
           "bgcolor": "white",
           "radialaxis": {
            "gridcolor": "#EBF0F8",
            "linecolor": "#EBF0F8",
            "ticks": ""
           }
          },
          "scene": {
           "camera": {
            "center": {
             "x": 0,
             "y": 0,
             "z": 0
            },
            "eye": {
             "x": 2.0,
             "y": 2.0,
             "z": 2.0
            },
            "up": {
             "x": 0,
             "y": 0,
             "z": 1
            }
           },
           "xaxis": {
            "backgroundcolor": "white",
            "gridcolor": "#DFE8F3",
            "gridwidth": 2,
            "linecolor": "#EBF0F8",
            "showbackground": true,
            "showspikes": false,
            "ticks": "",
            "zerolinecolor": "#EBF0F8"
           },
           "yaxis": {
            "backgroundcolor": "white",
            "gridcolor": "#DFE8F3",
            "gridwidth": 2,
            "linecolor": "#EBF0F8",
            "showbackground": true,
            "showspikes": false,
            "ticks": "",
            "zerolinecolor": "#EBF0F8"
           },
           "zaxis": {
            "backgroundcolor": "white",
            "gridcolor": "#DFE8F3",
            "gridwidth": 2,
            "linecolor": "#EBF0F8",
            "showbackground": true,
            "showspikes": false,
            "ticks": "",
            "zerolinecolor": "#EBF0F8"
           }
          },
          "shapedefaults": {
           "line": {
            "color": "#2a3f5f"
           }
          },
          "ternary": {
           "aaxis": {
            "gridcolor": "#DFE8F3",
            "linecolor": "#A2B1C6",
            "ticks": ""
           },
           "baxis": {
            "gridcolor": "#DFE8F3",
            "linecolor": "#A2B1C6",
            "ticks": ""
           },
           "bgcolor": "white",
           "caxis": {
            "gridcolor": "#DFE8F3",
            "linecolor": "#A2B1C6",
            "ticks": ""
           }
          },
          "title": {
           "x": 0.05
          },
          "xaxis": {
           "automargin": true,
           "gridcolor": "#EBF0F8",
           "linecolor": "black",
           "linewidth": 2.0,
           "mirror": true,
           "showline": true,
           "ticks": "",
           "title": {
            "standoff": 15
           },
           "zeroline": false,
           "zerolinecolor": "#EBF0F8",
           "zerolinewidth": 2
          },
          "yaxis": {
           "automargin": true,
           "gridcolor": "#EBF0F8",
           "linecolor": "black",
           "linewidth": 2.0,
           "mirror": true,
           "showline": true,
           "ticks": "",
           "title": {
            "standoff": 15
           },
           "zeroline": false,
           "zerolinecolor": "#EBF0F8",
           "zerolinewidth": 2
          }
         }
        },
        "title": {
         "text": "Uniform shaft elements"
        },
        "xaxis": {
         "mirror": true,
         "range": [
          -0.15000000000000002,
          1.6500000000000001
         ],
         "showgrid": false,
         "title": {
          "text": "Axial location (m)"
         }
        },
        "yaxis": {
         "mirror": true,
         "range": [
          -0.44999999999999996,
          0.44999999999999996
         ],
         "showgrid": false,
         "title": {
          "text": "Shaft radius (m)"
         }
        }
       }
      }
     },
     "metadata": {},
     "output_type": "display_data"
    },
    {
     "data": {
      "application/vnd.plotly.v1+json": {
       "config": {
        "plotlyServerURL": "https://plot.ly"
       },
       "data": [
        {
         "hoverinfo": "none",
         "line": {
          "color": "black",
          "dash": "dashdot",
          "width": 3.0
         },
         "mode": "lines",
         "opacity": 0.7,
         "showlegend": false,
         "type": "scatter",
         "x": [
          -0.30000000000000004,
          1.7999999999999998
         ],
         "y": [
          0,
          0
         ]
        },
        {
         "hoverinfo": "none",
         "marker": {
          "color": "#ffcc99",
          "line": {
           "color": "black",
           "width": 1.0
          },
          "opacity": 0.7,
          "size": 20
         },
         "mode": "markers+text",
         "showlegend": false,
         "text": [
          "0",
          "2",
          "4",
          "6"
         ],
         "type": "scatter",
         "x": [
          0.0,
          0.5,
          1.0,
          1.5
         ],
         "y": [
          0.0,
          0.0,
          0.0,
          0.0
         ]
        },
        {
         "customdata": [
          [
           0,
           0.025,
           0.0,
           0.0275,
           0.0,
           0.25,
           "steel"
          ],
          [
           0,
           0.025,
           0.0,
           0.0275,
           0.0,
           0.25,
           "steel"
          ],
          [
           0,
           0.025,
           0.0,
           0.0275,
           0.0,
           0.25,
           "steel"
          ],
          [
           0,
           0.025,
           0.0,
           0.0275,
           0.0,
           0.25,
           "steel"
          ],
          [
           0,
           0.025,
           0.0,
           0.0275,
           0.0,
           0.25,
           "steel"
          ],
          [
           0,
           0.025,
           0.0,
           0.0275,
           0.0,
           0.25,
           "steel"
          ],
          [
           0,
           0.025,
           0.0,
           0.0275,
           0.0,
           0.25,
           "steel"
          ],
          [
           0,
           0.025,
           0.0,
           0.0275,
           0.0,
           0.25,
           "steel"
          ],
          [
           0,
           0.025,
           0.0,
           0.0275,
           0.0,
           0.25,
           "steel"
          ],
          [
           0,
           0.025,
           0.0,
           0.0275,
           0.0,
           0.25,
           "steel"
          ]
         ],
         "fill": "toself",
         "fillcolor": "#525252",
         "hoverinfo": "text",
         "hoverlabel": {
          "bgcolor": "#525252"
         },
         "hoveron": "points+fills",
         "hovertemplate": "Element Number: 0<br>Left Outer Diameter: 0.025 m<br>Left Inner Diameter: 0.0 m<br>Right Outer Diameter: 0.0275 m<br>Right Inner Diameter: 0.0 m<br>Element Length: 0.25 m<br>Material: steel<br>",
         "legendgroup": "Shaft",
         "line": {
          "color": "black",
          "width": 1.5
         },
         "mode": "lines",
         "name": "ShaftElement 0",
         "opacity": 0.5,
         "showlegend": false,
         "text": "Element Number: 0<br>Left Outer Diameter: 0.025 m<br>Left Inner Diameter: 0.0 m<br>Right Outer Diameter: 0.0275 m<br>Right Inner Diameter: 0.0 m<br>Element Length: 0.25 m<br>Material: steel<br>",
         "type": "scatter",
         "x": [
          0.0,
          0.0,
          0.25,
          0.25,
          0.0,
          0.0,
          0.0,
          0.25,
          0.25,
          0.0
         ],
         "y": [
          0.0,
          0.0125,
          0.01375,
          0.0,
          0.0,
          -0.0,
          -0.0125,
          -0.01375,
          -0.0,
          -0.0
         ]
        },
        {
         "customdata": [
          [
           1,
           0.0275,
           0.0,
           0.030000000000000002,
           0.0,
           0.25,
           "steel"
          ],
          [
           1,
           0.0275,
           0.0,
           0.030000000000000002,
           0.0,
           0.25,
           "steel"
          ],
          [
           1,
           0.0275,
           0.0,
           0.030000000000000002,
           0.0,
           0.25,
           "steel"
          ],
          [
           1,
           0.0275,
           0.0,
           0.030000000000000002,
           0.0,
           0.25,
           "steel"
          ],
          [
           1,
           0.0275,
           0.0,
           0.030000000000000002,
           0.0,
           0.25,
           "steel"
          ],
          [
           1,
           0.0275,
           0.0,
           0.030000000000000002,
           0.0,
           0.25,
           "steel"
          ],
          [
           1,
           0.0275,
           0.0,
           0.030000000000000002,
           0.0,
           0.25,
           "steel"
          ],
          [
           1,
           0.0275,
           0.0,
           0.030000000000000002,
           0.0,
           0.25,
           "steel"
          ],
          [
           1,
           0.0275,
           0.0,
           0.030000000000000002,
           0.0,
           0.25,
           "steel"
          ],
          [
           1,
           0.0275,
           0.0,
           0.030000000000000002,
           0.0,
           0.25,
           "steel"
          ]
         ],
         "fill": "toself",
         "fillcolor": "#525252",
         "hoverinfo": "text",
         "hoverlabel": {
          "bgcolor": "#525252"
         },
         "hoveron": "points+fills",
         "hovertemplate": "Element Number: 1<br>Left Outer Diameter: 0.0275 m<br>Left Inner Diameter: 0.0 m<br>Right Outer Diameter: 0.03 m<br>Right Inner Diameter: 0.0 m<br>Element Length: 0.25 m<br>Material: steel<br>",
         "legendgroup": "Shaft",
         "line": {
          "color": "black",
          "width": 1.5
         },
         "mode": "lines",
         "name": "ShaftElement 1",
         "opacity": 0.5,
         "showlegend": false,
         "text": "Element Number: 1<br>Left Outer Diameter: 0.0275 m<br>Left Inner Diameter: 0.0 m<br>Right Outer Diameter: 0.03 m<br>Right Inner Diameter: 0.0 m<br>Element Length: 0.25 m<br>Material: steel<br>",
         "type": "scatter",
         "x": [
          0.25,
          0.25,
          0.5,
          0.5,
          0.25,
          0.25,
          0.25,
          0.5,
          0.5,
          0.25
         ],
         "y": [
          0.0,
          0.01375,
          0.015000000000000001,
          0.0,
          0.0,
          -0.0,
          -0.01375,
          -0.015000000000000001,
          -0.0,
          -0.0
         ]
        },
        {
         "customdata": [
          [
           2,
           0.030000000000000002,
           0.0,
           0.0325,
           0.0,
           0.25,
           "steel"
          ],
          [
           2,
           0.030000000000000002,
           0.0,
           0.0325,
           0.0,
           0.25,
           "steel"
          ],
          [
           2,
           0.030000000000000002,
           0.0,
           0.0325,
           0.0,
           0.25,
           "steel"
          ],
          [
           2,
           0.030000000000000002,
           0.0,
           0.0325,
           0.0,
           0.25,
           "steel"
          ],
          [
           2,
           0.030000000000000002,
           0.0,
           0.0325,
           0.0,
           0.25,
           "steel"
          ],
          [
           2,
           0.030000000000000002,
           0.0,
           0.0325,
           0.0,
           0.25,
           "steel"
          ],
          [
           2,
           0.030000000000000002,
           0.0,
           0.0325,
           0.0,
           0.25,
           "steel"
          ],
          [
           2,
           0.030000000000000002,
           0.0,
           0.0325,
           0.0,
           0.25,
           "steel"
          ],
          [
           2,
           0.030000000000000002,
           0.0,
           0.0325,
           0.0,
           0.25,
           "steel"
          ],
          [
           2,
           0.030000000000000002,
           0.0,
           0.0325,
           0.0,
           0.25,
           "steel"
          ]
         ],
         "fill": "toself",
         "fillcolor": "#525252",
         "hoverinfo": "text",
         "hoverlabel": {
          "bgcolor": "#525252"
         },
         "hoveron": "points+fills",
         "hovertemplate": "Element Number: 2<br>Left Outer Diameter: 0.03 m<br>Left Inner Diameter: 0.0 m<br>Right Outer Diameter: 0.0325 m<br>Right Inner Diameter: 0.0 m<br>Element Length: 0.25 m<br>Material: steel<br>",
         "legendgroup": "Shaft",
         "line": {
          "color": "black",
          "width": 1.5
         },
         "mode": "lines",
         "name": "ShaftElement 2",
         "opacity": 0.5,
         "showlegend": false,
         "text": "Element Number: 2<br>Left Outer Diameter: 0.03 m<br>Left Inner Diameter: 0.0 m<br>Right Outer Diameter: 0.0325 m<br>Right Inner Diameter: 0.0 m<br>Element Length: 0.25 m<br>Material: steel<br>",
         "type": "scatter",
         "x": [
          0.5,
          0.5,
          0.75,
          0.75,
          0.5,
          0.5,
          0.5,
          0.75,
          0.75,
          0.5
         ],
         "y": [
          0.0,
          0.015000000000000001,
          0.01625,
          0.0,
          0.0,
          -0.0,
          -0.015000000000000001,
          -0.01625,
          -0.0,
          -0.0
         ]
        },
        {
         "customdata": [
          [
           3,
           0.0325,
           0.0,
           0.035,
           0.0,
           0.25,
           "steel"
          ],
          [
           3,
           0.0325,
           0.0,
           0.035,
           0.0,
           0.25,
           "steel"
          ],
          [
           3,
           0.0325,
           0.0,
           0.035,
           0.0,
           0.25,
           "steel"
          ],
          [
           3,
           0.0325,
           0.0,
           0.035,
           0.0,
           0.25,
           "steel"
          ],
          [
           3,
           0.0325,
           0.0,
           0.035,
           0.0,
           0.25,
           "steel"
          ],
          [
           3,
           0.0325,
           0.0,
           0.035,
           0.0,
           0.25,
           "steel"
          ],
          [
           3,
           0.0325,
           0.0,
           0.035,
           0.0,
           0.25,
           "steel"
          ],
          [
           3,
           0.0325,
           0.0,
           0.035,
           0.0,
           0.25,
           "steel"
          ],
          [
           3,
           0.0325,
           0.0,
           0.035,
           0.0,
           0.25,
           "steel"
          ],
          [
           3,
           0.0325,
           0.0,
           0.035,
           0.0,
           0.25,
           "steel"
          ]
         ],
         "fill": "toself",
         "fillcolor": "#525252",
         "hoverinfo": "text",
         "hoverlabel": {
          "bgcolor": "#525252"
         },
         "hoveron": "points+fills",
         "hovertemplate": "Element Number: 3<br>Left Outer Diameter: 0.0325 m<br>Left Inner Diameter: 0.0 m<br>Right Outer Diameter: 0.035 m<br>Right Inner Diameter: 0.0 m<br>Element Length: 0.25 m<br>Material: steel<br>",
         "legendgroup": "Shaft",
         "line": {
          "color": "black",
          "width": 1.5
         },
         "mode": "lines",
         "name": "ShaftElement 3",
         "opacity": 0.5,
         "showlegend": false,
         "text": "Element Number: 3<br>Left Outer Diameter: 0.0325 m<br>Left Inner Diameter: 0.0 m<br>Right Outer Diameter: 0.035 m<br>Right Inner Diameter: 0.0 m<br>Element Length: 0.25 m<br>Material: steel<br>",
         "type": "scatter",
         "x": [
          0.75,
          0.75,
          1.0,
          1.0,
          0.75,
          0.75,
          0.75,
          1.0,
          1.0,
          0.75
         ],
         "y": [
          0.0,
          0.01625,
          0.0175,
          0.0,
          0.0,
          -0.0,
          -0.01625,
          -0.0175,
          -0.0,
          -0.0
         ]
        },
        {
         "customdata": [
          [
           4,
           0.035,
           0.0,
           0.037500000000000006,
           0.0,
           0.25,
           "steel"
          ],
          [
           4,
           0.035,
           0.0,
           0.037500000000000006,
           0.0,
           0.25,
           "steel"
          ],
          [
           4,
           0.035,
           0.0,
           0.037500000000000006,
           0.0,
           0.25,
           "steel"
          ],
          [
           4,
           0.035,
           0.0,
           0.037500000000000006,
           0.0,
           0.25,
           "steel"
          ],
          [
           4,
           0.035,
           0.0,
           0.037500000000000006,
           0.0,
           0.25,
           "steel"
          ],
          [
           4,
           0.035,
           0.0,
           0.037500000000000006,
           0.0,
           0.25,
           "steel"
          ],
          [
           4,
           0.035,
           0.0,
           0.037500000000000006,
           0.0,
           0.25,
           "steel"
          ],
          [
           4,
           0.035,
           0.0,
           0.037500000000000006,
           0.0,
           0.25,
           "steel"
          ],
          [
           4,
           0.035,
           0.0,
           0.037500000000000006,
           0.0,
           0.25,
           "steel"
          ],
          [
           4,
           0.035,
           0.0,
           0.037500000000000006,
           0.0,
           0.25,
           "steel"
          ]
         ],
         "fill": "toself",
         "fillcolor": "#525252",
         "hoverinfo": "text",
         "hoverlabel": {
          "bgcolor": "#525252"
         },
         "hoveron": "points+fills",
         "hovertemplate": "Element Number: 4<br>Left Outer Diameter: 0.035 m<br>Left Inner Diameter: 0.0 m<br>Right Outer Diameter: 0.0375 m<br>Right Inner Diameter: 0.0 m<br>Element Length: 0.25 m<br>Material: steel<br>",
         "legendgroup": "Shaft",
         "line": {
          "color": "black",
          "width": 1.5
         },
         "mode": "lines",
         "name": "ShaftElement 4",
         "opacity": 0.5,
         "showlegend": false,
         "text": "Element Number: 4<br>Left Outer Diameter: 0.035 m<br>Left Inner Diameter: 0.0 m<br>Right Outer Diameter: 0.0375 m<br>Right Inner Diameter: 0.0 m<br>Element Length: 0.25 m<br>Material: steel<br>",
         "type": "scatter",
         "x": [
          1.0,
          1.0,
          1.25,
          1.25,
          1.0,
          1.0,
          1.0,
          1.25,
          1.25,
          1.0
         ],
         "y": [
          0.0,
          0.0175,
          0.018750000000000003,
          0.0,
          0.0,
          -0.0,
          -0.0175,
          -0.018750000000000003,
          -0.0,
          -0.0
         ]
        },
        {
         "customdata": [
          [
           5,
           0.037500000000000006,
           0.0,
           0.04,
           0.0,
           0.25,
           "steel"
          ],
          [
           5,
           0.037500000000000006,
           0.0,
           0.04,
           0.0,
           0.25,
           "steel"
          ],
          [
           5,
           0.037500000000000006,
           0.0,
           0.04,
           0.0,
           0.25,
           "steel"
          ],
          [
           5,
           0.037500000000000006,
           0.0,
           0.04,
           0.0,
           0.25,
           "steel"
          ],
          [
           5,
           0.037500000000000006,
           0.0,
           0.04,
           0.0,
           0.25,
           "steel"
          ],
          [
           5,
           0.037500000000000006,
           0.0,
           0.04,
           0.0,
           0.25,
           "steel"
          ],
          [
           5,
           0.037500000000000006,
           0.0,
           0.04,
           0.0,
           0.25,
           "steel"
          ],
          [
           5,
           0.037500000000000006,
           0.0,
           0.04,
           0.0,
           0.25,
           "steel"
          ],
          [
           5,
           0.037500000000000006,
           0.0,
           0.04,
           0.0,
           0.25,
           "steel"
          ],
          [
           5,
           0.037500000000000006,
           0.0,
           0.04,
           0.0,
           0.25,
           "steel"
          ]
         ],
         "fill": "toself",
         "fillcolor": "#525252",
         "hoverinfo": "text",
         "hoverlabel": {
          "bgcolor": "#525252"
         },
         "hoveron": "points+fills",
         "hovertemplate": "Element Number: 5<br>Left Outer Diameter: 0.0375 m<br>Left Inner Diameter: 0.0 m<br>Right Outer Diameter: 0.04 m<br>Right Inner Diameter: 0.0 m<br>Element Length: 0.25 m<br>Material: steel<br>",
         "legendgroup": "Shaft",
         "line": {
          "color": "black",
          "width": 1.5
         },
         "mode": "lines",
         "name": "ShaftElement 5",
         "opacity": 0.5,
         "showlegend": false,
         "text": "Element Number: 5<br>Left Outer Diameter: 0.0375 m<br>Left Inner Diameter: 0.0 m<br>Right Outer Diameter: 0.04 m<br>Right Inner Diameter: 0.0 m<br>Element Length: 0.25 m<br>Material: steel<br>",
         "type": "scatter",
         "x": [
          1.25,
          1.25,
          1.5,
          1.5,
          1.25,
          1.25,
          1.25,
          1.5,
          1.5,
          1.25
         ],
         "y": [
          0.0,
          0.018750000000000003,
          0.02,
          0.0,
          0.0,
          -0.0,
          -0.018750000000000003,
          -0.02,
          -0.0,
          -0.0
         ]
        },
        {
         "customdata": [
          [
           3,
           0.11980389953386858,
           0.061946602985645645,
           15.334899140335178
          ],
          [
           3,
           0.11980389953386858,
           0.061946602985645645,
           15.334899140335178
          ],
          [
           3,
           0.11980389953386858,
           0.061946602985645645,
           15.334899140335178
          ],
          [
           3,
           0.11980389953386858,
           0.061946602985645645,
           15.334899140335178
          ],
          [
           3,
           0.11980389953386858,
           0.061946602985645645,
           15.334899140335178
          ],
          [
           3,
           0.11980389953386858,
           0.061946602985645645,
           15.334899140335178
          ],
          [
           3,
           0.11980389953386858,
           0.061946602985645645,
           15.334899140335178
          ],
          [
           3,
           0.11980389953386858,
           0.061946602985645645,
           15.334899140335178
          ],
          [
           3,
           0.11980389953386858,
           0.061946602985645645,
           15.334899140335178
          ]
         ],
         "fill": "toself",
         "fillcolor": "Firebrick",
         "hoverinfo": "text",
         "hoverlabel": {
          "bgcolor": "Firebrick"
         },
         "hoveron": "points+fills",
         "hovertemplate": "Disk Node: 3<br>Polar Inertia: 1.198e-01<br>Diametral Inertia: 6.195e-02<br>Disk mass: 15.335<br>",
         "legendgroup": "disks",
         "line": {
          "color": "Firebrick",
          "width": 2.0
         },
         "mode": "lines",
         "name": "Disk 0",
         "opacity": 0.8,
         "showlegend": false,
         "text": "Disk Node: 3<br>Polar Inertia: 1.198e-01<br>Diametral Inertia: 6.195e-02<br>Disk mass: 15.335<br>",
         "type": "scatter",
         "x": [
          0.75,
          0.7513357142857143,
          0.7486642857142857,
          0.75,
          null,
          0.75,
          0.7513357142857143,
          0.7486642857142857,
          0.75
         ],
         "y": [
          0.016875,
          0.0836607142857143,
          0.0836607142857143,
          0.016875,
          null,
          -0.016875,
          -0.0836607142857143,
          -0.0836607142857143,
          -0.016875
         ]
        },
        {
         "hoverinfo": "none",
         "legendgroup": "bearings",
         "line": {
          "color": "#355d7a",
          "width": 1
         },
         "mode": "lines",
         "name": "Bearing 0",
         "showlegend": false,
         "type": "scatter",
         "x": [
          0.0,
          0.0,
          -0.009540816326530614,
          0.009540816326530614
         ],
         "y": [
          0.0125,
          0.029196428571428575,
          0.029196428571428575,
          0.029196428571428575
         ]
        },
        {
         "hoverinfo": "none",
         "legendgroup": "bearings",
         "line": {
          "color": "#355d7a",
          "width": 1
         },
         "mode": "lines",
         "name": "Bearing 0",
         "showlegend": false,
         "type": "scatter",
         "x": [
          0.0,
          0.0,
          -0.009540816326530614,
          0.009540816326530614
         ],
         "y": [
          -0.0125,
          -0.029196428571428575,
          -0.029196428571428575,
          -0.029196428571428575
         ]
        },
        {
         "hoverinfo": "none",
         "legendgroup": "bearings",
         "line": {
          "color": "#355d7a",
          "width": 1
         },
         "mode": "lines",
         "name": "Bearing 0",
         "showlegend": false,
         "type": "scatter",
         "x": [
          0.0,
          0.0,
          -0.009540816326530614,
          0.009540816326530614
         ],
         "y": [
          0.07928571428571429,
          0.06258928571428572,
          0.06258928571428572,
          0.06258928571428572
         ]
        },
        {
         "hoverinfo": "none",
         "legendgroup": "bearings",
         "line": {
          "color": "#355d7a",
          "width": 1
         },
         "mode": "lines",
         "name": "Bearing 0",
         "showlegend": false,
         "type": "scatter",
         "x": [
          0.0,
          0.0,
          -0.009540816326530614,
          0.009540816326530614
         ],
         "y": [
          -0.07928571428571429,
          -0.06258928571428572,
          -0.06258928571428572,
          -0.06258928571428572
         ]
        },
        {
         "hoverinfo": "none",
         "legendgroup": "bearings",
         "line": {
          "color": "#355d7a",
          "width": 1
         },
         "mode": "lines",
         "name": "Bearing 0",
         "showlegend": false,
         "type": "scatter",
         "x": [
          -0.01431122448979592,
          0.01431122448979592
         ],
         "y": [
          0.07928571428571429,
          0.07928571428571429
         ]
        },
        {
         "hoverinfo": "none",
         "legendgroup": "bearings",
         "line": {
          "color": "#355d7a",
          "width": 1
         },
         "mode": "lines",
         "name": "Bearing 0",
         "showlegend": false,
         "type": "scatter",
         "x": [
          -0.01431122448979592,
          0.01431122448979592
         ],
         "y": [
          -0.07928571428571429,
          -0.07928571428571429
         ]
        },
        {
         "hoverinfo": "none",
         "legendgroup": "bearings",
         "line": {
          "color": "#355d7a",
          "width": 1
         },
         "mode": "lines",
         "name": "Bearing 0",
         "showlegend": false,
         "type": "scatter",
         "x": [
          -0.01431122448979592,
          -0.008586734693877551
         ],
         "y": [
          0.07928571428571429,
          0.08721428571428573
         ]
        },
        {
         "hoverinfo": "none",
         "legendgroup": "bearings",
         "line": {
          "color": "#355d7a",
          "width": 1
         },
         "mode": "lines",
         "name": "Bearing 0",
         "showlegend": false,
         "type": "scatter",
         "x": [
          -0.01431122448979592,
          -0.008586734693877551
         ],
         "y": [
          -0.07928571428571429,
          -0.08721428571428573
         ]
        },
        {
         "hoverinfo": "none",
         "legendgroup": "bearings",
         "line": {
          "color": "#355d7a",
          "width": 1
         },
         "mode": "lines",
         "name": "Bearing 0",
         "showlegend": false,
         "type": "scatter",
         "x": [
          -0.008586734693877551,
          -0.0028622448979591843
         ],
         "y": [
          0.07928571428571429,
          0.08721428571428573
         ]
        },
        {
         "hoverinfo": "none",
         "legendgroup": "bearings",
         "line": {
          "color": "#355d7a",
          "width": 1
         },
         "mode": "lines",
         "name": "Bearing 0",
         "showlegend": false,
         "type": "scatter",
         "x": [
          -0.008586734693877551,
          -0.0028622448979591843
         ],
         "y": [
          -0.07928571428571429,
          -0.08721428571428573
         ]
        },
        {
         "hoverinfo": "none",
         "legendgroup": "bearings",
         "line": {
          "color": "#355d7a",
          "width": 1
         },
         "mode": "lines",
         "name": "Bearing 0",
         "showlegend": false,
         "type": "scatter",
         "x": [
          -0.0028622448979591843,
          0.0028622448979591826
         ],
         "y": [
          0.07928571428571429,
          0.08721428571428573
         ]
        },
        {
         "hoverinfo": "none",
         "legendgroup": "bearings",
         "line": {
          "color": "#355d7a",
          "width": 1
         },
         "mode": "lines",
         "name": "Bearing 0",
         "showlegend": false,
         "type": "scatter",
         "x": [
          -0.0028622448979591843,
          0.0028622448979591826
         ],
         "y": [
          -0.07928571428571429,
          -0.08721428571428573
         ]
        },
        {
         "hoverinfo": "none",
         "legendgroup": "bearings",
         "line": {
          "color": "#355d7a",
          "width": 1
         },
         "mode": "lines",
         "name": "Bearing 0",
         "showlegend": false,
         "type": "scatter",
         "x": [
          0.0028622448979591826,
          0.008586734693877551
         ],
         "y": [
          0.07928571428571429,
          0.08721428571428573
         ]
        },
        {
         "hoverinfo": "none",
         "legendgroup": "bearings",
         "line": {
          "color": "#355d7a",
          "width": 1
         },
         "mode": "lines",
         "name": "Bearing 0",
         "showlegend": false,
         "type": "scatter",
         "x": [
          0.0028622448979591826,
          0.008586734693877551
         ],
         "y": [
          -0.07928571428571429,
          -0.08721428571428573
         ]
        },
        {
         "hoverinfo": "none",
         "legendgroup": "bearings",
         "line": {
          "color": "#355d7a",
          "width": 1
         },
         "mode": "lines",
         "name": "Bearing 0",
         "showlegend": false,
         "type": "scatter",
         "x": [
          0.008586734693877551,
          0.01431122448979592
         ],
         "y": [
          0.07928571428571429,
          0.08721428571428573
         ]
        },
        {
         "hoverinfo": "none",
         "legendgroup": "bearings",
         "line": {
          "color": "#355d7a",
          "width": 1
         },
         "mode": "lines",
         "name": "Bearing 0",
         "showlegend": false,
         "type": "scatter",
         "x": [
          0.008586734693877551,
          0.01431122448979592
         ],
         "y": [
          -0.07928571428571429,
          -0.08721428571428573
         ]
        },
        {
         "hoverinfo": "none",
         "legendgroup": "bearings",
         "line": {
          "color": "#355d7a",
          "width": 1
         },
         "mode": "lines",
         "name": "Bearing 0",
         "showlegend": false,
         "type": "scatter",
         "x": [
          0.01431122448979592,
          0.020035714285714285
         ],
         "y": [
          0.07928571428571429,
          0.08721428571428573
         ]
        },
        {
         "hoverinfo": "none",
         "legendgroup": "bearings",
         "line": {
          "color": "#355d7a",
          "width": 1
         },
         "mode": "lines",
         "name": "Bearing 0",
         "showlegend": false,
         "type": "scatter",
         "x": [
          0.01431122448979592,
          0.020035714285714285
         ],
         "y": [
          -0.07928571428571429,
          -0.08721428571428573
         ]
        },
        {
         "hoverinfo": "none",
         "legendgroup": "bearings",
         "line": {
          "color": "#355d7a",
          "width": 1
         },
         "mode": "lines",
         "name": "Bearing 0",
         "showlegend": false,
         "type": "scatter",
         "x": [
          -0.009540816326530614,
          -0.009540816326530614,
          -0.01431122448979592,
          -0.004770408163265307,
          -0.01431122448979592,
          -0.004770408163265307,
          -0.01431122448979592,
          -0.004770408163265307,
          -0.009540816326530614,
          -0.009540816326530614
         ],
         "y": [
          0.029196428571428575,
          0.03396683673469388,
          0.03396683673469388,
          0.03873724489795919,
          0.04350765306122449,
          0.0482780612244898,
          0.05304846938775511,
          0.057818877551020414,
          0.057818877551020414,
          0.06258928571428572
         ]
        },
        {
         "hoverinfo": "none",
         "legendgroup": "bearings",
         "line": {
          "color": "#355d7a",
          "width": 1
         },
         "mode": "lines",
         "name": "Bearing 0",
         "showlegend": false,
         "type": "scatter",
         "x": [
          -0.009540816326530614,
          -0.009540816326530614,
          -0.01431122448979592,
          -0.004770408163265307,
          -0.01431122448979592,
          -0.004770408163265307,
          -0.01431122448979592,
          -0.004770408163265307,
          -0.009540816326530614,
          -0.009540816326530614
         ],
         "y": [
          -0.029196428571428575,
          -0.03396683673469388,
          -0.03396683673469388,
          -0.03873724489795919,
          -0.04350765306122449,
          -0.0482780612244898,
          -0.05304846938775511,
          -0.057818877551020414,
          -0.057818877551020414,
          -0.06258928571428572
         ]
        },
        {
         "hoverinfo": "none",
         "legendgroup": "bearings",
         "line": {
          "color": "#355d7a",
          "width": 1
         },
         "mode": "lines",
         "name": "Bearing 0",
         "showlegend": false,
         "type": "scatter",
         "x": [
          0.009540816326530614,
          0.009540816326530614
         ],
         "y": [
          0.029196428571428575,
          0.03873724489795919
         ]
        },
        {
         "hoverinfo": "none",
         "legendgroup": "bearings",
         "line": {
          "color": "#355d7a",
          "width": 1
         },
         "mode": "lines",
         "name": "Bearing 0",
         "showlegend": false,
         "type": "scatter",
         "x": [
          0.009540816326530614,
          0.009540816326530614
         ],
         "y": [
          -0.029196428571428575,
          -0.03873724489795919
         ]
        },
        {
         "hoverinfo": "none",
         "legendgroup": "bearings",
         "line": {
          "color": "#355d7a",
          "width": 1
         },
         "mode": "lines",
         "name": "Bearing 0",
         "showlegend": false,
         "type": "scatter",
         "x": [
          0.0,
          0.0,
          0.019081632653061228,
          0.019081632653061228
         ],
         "y": [
          0.05304846938775511,
          0.03873724489795919,
          0.03873724489795919,
          0.05304846938775511
         ]
        },
        {
         "hoverinfo": "none",
         "legendgroup": "bearings",
         "line": {
          "color": "#355d7a",
          "width": 1
         },
         "mode": "lines",
         "name": "Bearing 0",
         "showlegend": false,
         "type": "scatter",
         "x": [
          0.0,
          0.0,
          0.019081632653061228,
          0.019081632653061228
         ],
         "y": [
          -0.05304846938775511,
          -0.03873724489795919,
          -0.03873724489795919,
          -0.05304846938775511
         ]
        },
        {
         "hoverinfo": "none",
         "legendgroup": "bearings",
         "line": {
          "color": "#355d7a",
          "width": 1
         },
         "mode": "lines",
         "name": "Bearing 0",
         "showlegend": false,
         "type": "scatter",
         "x": [
          0.0,
          0.019081632653061228,
          0.009540816326530614,
          0.009540816326530614
         ],
         "y": [
          0.0482780612244898,
          0.0482780612244898,
          0.0482780612244898,
          0.06258928571428572
         ]
        },
        {
         "hoverinfo": "none",
         "legendgroup": "bearings",
         "line": {
          "color": "#355d7a",
          "width": 1
         },
         "mode": "lines",
         "name": "Bearing 0",
         "showlegend": false,
         "type": "scatter",
         "x": [
          0.0,
          0.019081632653061228,
          0.009540816326530614,
          0.009540816326530614
         ],
         "y": [
          -0.0482780612244898,
          -0.0482780612244898,
          -0.0482780612244898,
          -0.06258928571428572
         ]
        },
        {
         "hoverinfo": "none",
         "legendgroup": "bearings",
         "line": {
          "color": "#355d7a",
          "width": 1
         },
         "mode": "lines",
         "name": "Bearing 1",
         "showlegend": false,
         "type": "scatter",
         "x": [
          1.5,
          1.5,
          1.4904591836734693,
          1.5095408163265307
         ],
         "y": [
          0.02,
          0.036696428571428574,
          0.036696428571428574,
          0.036696428571428574
         ]
        },
        {
         "hoverinfo": "none",
         "legendgroup": "bearings",
         "line": {
          "color": "#355d7a",
          "width": 1
         },
         "mode": "lines",
         "name": "Bearing 1",
         "showlegend": false,
         "type": "scatter",
         "x": [
          1.5,
          1.5,
          1.4904591836734693,
          1.5095408163265307
         ],
         "y": [
          -0.02,
          -0.036696428571428574,
          -0.036696428571428574,
          -0.036696428571428574
         ]
        },
        {
         "hoverinfo": "none",
         "legendgroup": "bearings",
         "line": {
          "color": "#355d7a",
          "width": 1
         },
         "mode": "lines",
         "name": "Bearing 1",
         "showlegend": false,
         "type": "scatter",
         "x": [
          1.5,
          1.5,
          1.4904591836734693,
          1.5095408163265307
         ],
         "y": [
          0.0867857142857143,
          0.07008928571428573,
          0.07008928571428573,
          0.07008928571428573
         ]
        },
        {
         "hoverinfo": "none",
         "legendgroup": "bearings",
         "line": {
          "color": "#355d7a",
          "width": 1
         },
         "mode": "lines",
         "name": "Bearing 1",
         "showlegend": false,
         "type": "scatter",
         "x": [
          1.5,
          1.5,
          1.4904591836734693,
          1.5095408163265307
         ],
         "y": [
          -0.0867857142857143,
          -0.07008928571428573,
          -0.07008928571428573,
          -0.07008928571428573
         ]
        },
        {
         "hoverinfo": "none",
         "legendgroup": "bearings",
         "line": {
          "color": "#355d7a",
          "width": 1
         },
         "mode": "lines",
         "name": "Bearing 1",
         "showlegend": false,
         "type": "scatter",
         "x": [
          1.485688775510204,
          1.514311224489796
         ],
         "y": [
          0.0867857142857143,
          0.0867857142857143
         ]
        },
        {
         "hoverinfo": "none",
         "legendgroup": "bearings",
         "line": {
          "color": "#355d7a",
          "width": 1
         },
         "mode": "lines",
         "name": "Bearing 1",
         "showlegend": false,
         "type": "scatter",
         "x": [
          1.485688775510204,
          1.514311224489796
         ],
         "y": [
          -0.0867857142857143,
          -0.0867857142857143
         ]
        },
        {
         "hoverinfo": "none",
         "legendgroup": "bearings",
         "line": {
          "color": "#355d7a",
          "width": 1
         },
         "mode": "lines",
         "name": "Bearing 1",
         "showlegend": false,
         "type": "scatter",
         "x": [
          1.485688775510204,
          1.4914132653061223
         ],
         "y": [
          0.0867857142857143,
          0.09546428571428574
         ]
        },
        {
         "hoverinfo": "none",
         "legendgroup": "bearings",
         "line": {
          "color": "#355d7a",
          "width": 1
         },
         "mode": "lines",
         "name": "Bearing 1",
         "showlegend": false,
         "type": "scatter",
         "x": [
          1.485688775510204,
          1.4914132653061223
         ],
         "y": [
          -0.0867857142857143,
          -0.09546428571428574
         ]
        },
        {
         "hoverinfo": "none",
         "legendgroup": "bearings",
         "line": {
          "color": "#355d7a",
          "width": 1
         },
         "mode": "lines",
         "name": "Bearing 1",
         "showlegend": false,
         "type": "scatter",
         "x": [
          1.4914132653061223,
          1.4971377551020408
         ],
         "y": [
          0.0867857142857143,
          0.09546428571428574
         ]
        },
        {
         "hoverinfo": "none",
         "legendgroup": "bearings",
         "line": {
          "color": "#355d7a",
          "width": 1
         },
         "mode": "lines",
         "name": "Bearing 1",
         "showlegend": false,
         "type": "scatter",
         "x": [
          1.4914132653061223,
          1.4971377551020408
         ],
         "y": [
          -0.0867857142857143,
          -0.09546428571428574
         ]
        },
        {
         "hoverinfo": "none",
         "legendgroup": "bearings",
         "line": {
          "color": "#355d7a",
          "width": 1
         },
         "mode": "lines",
         "name": "Bearing 1",
         "showlegend": false,
         "type": "scatter",
         "x": [
          1.4971377551020408,
          1.5028622448979592
         ],
         "y": [
          0.0867857142857143,
          0.09546428571428574
         ]
        },
        {
         "hoverinfo": "none",
         "legendgroup": "bearings",
         "line": {
          "color": "#355d7a",
          "width": 1
         },
         "mode": "lines",
         "name": "Bearing 1",
         "showlegend": false,
         "type": "scatter",
         "x": [
          1.4971377551020408,
          1.5028622448979592
         ],
         "y": [
          -0.0867857142857143,
          -0.09546428571428574
         ]
        },
        {
         "hoverinfo": "none",
         "legendgroup": "bearings",
         "line": {
          "color": "#355d7a",
          "width": 1
         },
         "mode": "lines",
         "name": "Bearing 1",
         "showlegend": false,
         "type": "scatter",
         "x": [
          1.5028622448979592,
          1.5085867346938777
         ],
         "y": [
          0.0867857142857143,
          0.09546428571428574
         ]
        },
        {
         "hoverinfo": "none",
         "legendgroup": "bearings",
         "line": {
          "color": "#355d7a",
          "width": 1
         },
         "mode": "lines",
         "name": "Bearing 1",
         "showlegend": false,
         "type": "scatter",
         "x": [
          1.5028622448979592,
          1.5085867346938777
         ],
         "y": [
          -0.0867857142857143,
          -0.09546428571428574
         ]
        },
        {
         "hoverinfo": "none",
         "legendgroup": "bearings",
         "line": {
          "color": "#355d7a",
          "width": 1
         },
         "mode": "lines",
         "name": "Bearing 1",
         "showlegend": false,
         "type": "scatter",
         "x": [
          1.5085867346938777,
          1.514311224489796
         ],
         "y": [
          0.0867857142857143,
          0.09546428571428574
         ]
        },
        {
         "hoverinfo": "none",
         "legendgroup": "bearings",
         "line": {
          "color": "#355d7a",
          "width": 1
         },
         "mode": "lines",
         "name": "Bearing 1",
         "showlegend": false,
         "type": "scatter",
         "x": [
          1.5085867346938777,
          1.514311224489796
         ],
         "y": [
          -0.0867857142857143,
          -0.09546428571428574
         ]
        },
        {
         "hoverinfo": "none",
         "legendgroup": "bearings",
         "line": {
          "color": "#355d7a",
          "width": 1
         },
         "mode": "lines",
         "name": "Bearing 1",
         "showlegend": false,
         "type": "scatter",
         "x": [
          1.514311224489796,
          1.5200357142857144
         ],
         "y": [
          0.0867857142857143,
          0.09546428571428574
         ]
        },
        {
         "hoverinfo": "none",
         "legendgroup": "bearings",
         "line": {
          "color": "#355d7a",
          "width": 1
         },
         "mode": "lines",
         "name": "Bearing 1",
         "showlegend": false,
         "type": "scatter",
         "x": [
          1.514311224489796,
          1.5200357142857144
         ],
         "y": [
          -0.0867857142857143,
          -0.09546428571428574
         ]
        },
        {
         "hoverinfo": "none",
         "legendgroup": "bearings",
         "line": {
          "color": "#355d7a",
          "width": 1
         },
         "mode": "lines",
         "name": "Bearing 1",
         "showlegend": false,
         "type": "scatter",
         "x": [
          1.4904591836734693,
          1.4904591836734693,
          1.485688775510204,
          1.4952295918367347,
          1.485688775510204,
          1.4952295918367347,
          1.485688775510204,
          1.4952295918367347,
          1.4904591836734693,
          1.4904591836734693
         ],
         "y": [
          0.036696428571428574,
          0.04146683673469388,
          0.04146683673469388,
          0.04623724489795919,
          0.0510076530612245,
          0.055778061224489806,
          0.06054846938775511,
          0.06531887755102042,
          0.06531887755102041,
          0.07008928571428572
         ]
        },
        {
         "hoverinfo": "none",
         "legendgroup": "bearings",
         "line": {
          "color": "#355d7a",
          "width": 1
         },
         "mode": "lines",
         "name": "Bearing 1",
         "showlegend": false,
         "type": "scatter",
         "x": [
          1.4904591836734693,
          1.4904591836734693,
          1.485688775510204,
          1.4952295918367347,
          1.485688775510204,
          1.4952295918367347,
          1.485688775510204,
          1.4952295918367347,
          1.4904591836734693,
          1.4904591836734693
         ],
         "y": [
          -0.036696428571428574,
          -0.04146683673469388,
          -0.04146683673469388,
          -0.04623724489795919,
          -0.0510076530612245,
          -0.055778061224489806,
          -0.06054846938775511,
          -0.06531887755102042,
          -0.06531887755102041,
          -0.07008928571428572
         ]
        },
        {
         "hoverinfo": "none",
         "legendgroup": "bearings",
         "line": {
          "color": "#355d7a",
          "width": 1
         },
         "mode": "lines",
         "name": "Bearing 1",
         "showlegend": false,
         "type": "scatter",
         "x": [
          1.5095408163265307,
          1.5095408163265307
         ],
         "y": [
          0.036696428571428574,
          0.04623724489795919
         ]
        },
        {
         "hoverinfo": "none",
         "legendgroup": "bearings",
         "line": {
          "color": "#355d7a",
          "width": 1
         },
         "mode": "lines",
         "name": "Bearing 1",
         "showlegend": false,
         "type": "scatter",
         "x": [
          1.5095408163265307,
          1.5095408163265307
         ],
         "y": [
          -0.036696428571428574,
          -0.04623724489795919
         ]
        },
        {
         "hoverinfo": "none",
         "legendgroup": "bearings",
         "line": {
          "color": "#355d7a",
          "width": 1
         },
         "mode": "lines",
         "name": "Bearing 1",
         "showlegend": false,
         "type": "scatter",
         "x": [
          1.5,
          1.5,
          1.5190816326530614,
          1.5190816326530614
         ],
         "y": [
          0.06054846938775511,
          0.04623724489795919,
          0.04623724489795919,
          0.06054846938775511
         ]
        },
        {
         "hoverinfo": "none",
         "legendgroup": "bearings",
         "line": {
          "color": "#355d7a",
          "width": 1
         },
         "mode": "lines",
         "name": "Bearing 1",
         "showlegend": false,
         "type": "scatter",
         "x": [
          1.5,
          1.5,
          1.5190816326530614,
          1.5190816326530614
         ],
         "y": [
          -0.06054846938775511,
          -0.04623724489795919,
          -0.04623724489795919,
          -0.06054846938775511
         ]
        },
        {
         "hoverinfo": "none",
         "legendgroup": "bearings",
         "line": {
          "color": "#355d7a",
          "width": 1
         },
         "mode": "lines",
         "name": "Bearing 1",
         "showlegend": false,
         "type": "scatter",
         "x": [
          1.5,
          1.5190816326530614,
          1.5095408163265307,
          1.5095408163265307
         ],
         "y": [
          0.055778061224489806,
          0.055778061224489806,
          0.055778061224489806,
          0.07008928571428573
         ]
        },
        {
         "hoverinfo": "none",
         "legendgroup": "bearings",
         "line": {
          "color": "#355d7a",
          "width": 1
         },
         "mode": "lines",
         "name": "Bearing 1",
         "showlegend": false,
         "type": "scatter",
         "x": [
          1.5,
          1.5190816326530614,
          1.5095408163265307,
          1.5095408163265307
         ],
         "y": [
          -0.055778061224489806,
          -0.055778061224489806,
          -0.055778061224489806,
          -0.07008928571428573
         ]
        }
       ],
       "layout": {
        "shapes": [
         {
          "fillcolor": "Firebrick",
          "line": {
           "color": "Firebrick"
          },
          "type": "circle",
          "x0": 0.7458258928571428,
          "x1": 0.7541741071428572,
          "xref": "x",
          "y0": 0.07948660714285716,
          "y1": 0.08783482142857144,
          "yref": "y"
         },
         {
          "fillcolor": "Firebrick",
          "line": {
           "color": "Firebrick"
          },
          "type": "circle",
          "x0": 0.7458258928571428,
          "x1": 0.7541741071428572,
          "xref": "x",
          "y0": -0.08783482142857144,
          "y1": -0.07948660714285716,
          "yref": "y"
         }
        ],
        "template": {
         "data": {
          "bar": [
           {
            "error_x": {
             "color": "#2a3f5f"
            },
            "error_y": {
             "color": "#2a3f5f"
            },
            "marker": {
             "line": {
              "color": "white",
              "width": 0.5
             }
            },
            "type": "bar"
           }
          ],
          "barpolar": [
           {
            "marker": {
             "line": {
              "color": "white",
              "width": 0.5
             }
            },
            "type": "barpolar"
           }
          ],
          "carpet": [
           {
            "aaxis": {
             "endlinecolor": "#2a3f5f",
             "gridcolor": "#C8D4E3",
             "linecolor": "#C8D4E3",
             "minorgridcolor": "#C8D4E3",
             "startlinecolor": "#2a3f5f"
            },
            "baxis": {
             "endlinecolor": "#2a3f5f",
             "gridcolor": "#C8D4E3",
             "linecolor": "#C8D4E3",
             "minorgridcolor": "#C8D4E3",
             "startlinecolor": "#2a3f5f"
            },
            "type": "carpet"
           }
          ],
          "choropleth": [
           {
            "colorbar": {
             "outlinewidth": 0,
             "ticks": ""
            },
            "type": "choropleth"
           }
          ],
          "contour": [
           {
            "colorbar": {
             "outlinewidth": 0,
             "ticks": ""
            },
            "colorscale": [
             [
              0.0,
              "#0d0887"
             ],
             [
              0.1111111111111111,
              "#46039f"
             ],
             [
              0.2222222222222222,
              "#7201a8"
             ],
             [
              0.3333333333333333,
              "#9c179e"
             ],
             [
              0.4444444444444444,
              "#bd3786"
             ],
             [
              0.5555555555555556,
              "#d8576b"
             ],
             [
              0.6666666666666666,
              "#ed7953"
             ],
             [
              0.7777777777777778,
              "#fb9f3a"
             ],
             [
              0.8888888888888888,
              "#fdca26"
             ],
             [
              1.0,
              "#f0f921"
             ]
            ],
            "type": "contour"
           }
          ],
          "contourcarpet": [
           {
            "colorbar": {
             "outlinewidth": 0,
             "ticks": ""
            },
            "type": "contourcarpet"
           }
          ],
          "heatmap": [
           {
            "colorbar": {
             "outlinewidth": 0,
             "ticks": ""
            },
            "colorscale": [
             [
              0.0,
              "#0d0887"
             ],
             [
              0.1111111111111111,
              "#46039f"
             ],
             [
              0.2222222222222222,
              "#7201a8"
             ],
             [
              0.3333333333333333,
              "#9c179e"
             ],
             [
              0.4444444444444444,
              "#bd3786"
             ],
             [
              0.5555555555555556,
              "#d8576b"
             ],
             [
              0.6666666666666666,
              "#ed7953"
             ],
             [
              0.7777777777777778,
              "#fb9f3a"
             ],
             [
              0.8888888888888888,
              "#fdca26"
             ],
             [
              1.0,
              "#f0f921"
             ]
            ],
            "type": "heatmap"
           }
          ],
          "heatmapgl": [
           {
            "colorbar": {
             "outlinewidth": 0,
             "ticks": ""
            },
            "colorscale": [
             [
              0.0,
              "#0d0887"
             ],
             [
              0.1111111111111111,
              "#46039f"
             ],
             [
              0.2222222222222222,
              "#7201a8"
             ],
             [
              0.3333333333333333,
              "#9c179e"
             ],
             [
              0.4444444444444444,
              "#bd3786"
             ],
             [
              0.5555555555555556,
              "#d8576b"
             ],
             [
              0.6666666666666666,
              "#ed7953"
             ],
             [
              0.7777777777777778,
              "#fb9f3a"
             ],
             [
              0.8888888888888888,
              "#fdca26"
             ],
             [
              1.0,
              "#f0f921"
             ]
            ],
            "type": "heatmapgl"
           }
          ],
          "histogram": [
           {
            "marker": {
             "colorbar": {
              "outlinewidth": 0,
              "ticks": ""
             }
            },
            "type": "histogram"
           }
          ],
          "histogram2d": [
           {
            "colorbar": {
             "outlinewidth": 0,
             "ticks": ""
            },
            "colorscale": [
             [
              0.0,
              "#0d0887"
             ],
             [
              0.1111111111111111,
              "#46039f"
             ],
             [
              0.2222222222222222,
              "#7201a8"
             ],
             [
              0.3333333333333333,
              "#9c179e"
             ],
             [
              0.4444444444444444,
              "#bd3786"
             ],
             [
              0.5555555555555556,
              "#d8576b"
             ],
             [
              0.6666666666666666,
              "#ed7953"
             ],
             [
              0.7777777777777778,
              "#fb9f3a"
             ],
             [
              0.8888888888888888,
              "#fdca26"
             ],
             [
              1.0,
              "#f0f921"
             ]
            ],
            "type": "histogram2d"
           }
          ],
          "histogram2dcontour": [
           {
            "colorbar": {
             "outlinewidth": 0,
             "ticks": ""
            },
            "colorscale": [
             [
              0.0,
              "#0d0887"
             ],
             [
              0.1111111111111111,
              "#46039f"
             ],
             [
              0.2222222222222222,
              "#7201a8"
             ],
             [
              0.3333333333333333,
              "#9c179e"
             ],
             [
              0.4444444444444444,
              "#bd3786"
             ],
             [
              0.5555555555555556,
              "#d8576b"
             ],
             [
              0.6666666666666666,
              "#ed7953"
             ],
             [
              0.7777777777777778,
              "#fb9f3a"
             ],
             [
              0.8888888888888888,
              "#fdca26"
             ],
             [
              1.0,
              "#f0f921"
             ]
            ],
            "type": "histogram2dcontour"
           }
          ],
          "mesh3d": [
           {
            "colorbar": {
             "outlinewidth": 0,
             "ticks": ""
            },
            "type": "mesh3d"
           }
          ],
          "parcoords": [
           {
            "line": {
             "colorbar": {
              "outlinewidth": 0,
              "ticks": ""
             }
            },
            "type": "parcoords"
           }
          ],
          "pie": [
           {
            "automargin": true,
            "type": "pie"
           }
          ],
          "scatter": [
           {
            "marker": {
             "colorbar": {
              "outlinewidth": 0,
              "ticks": ""
             }
            },
            "type": "scatter"
           }
          ],
          "scatter3d": [
           {
            "line": {
             "colorbar": {
              "outlinewidth": 0,
              "ticks": ""
             }
            },
            "marker": {
             "colorbar": {
              "outlinewidth": 0,
              "ticks": ""
             },
             "size": 4
            },
            "type": "scatter3d"
           }
          ],
          "scattercarpet": [
           {
            "marker": {
             "colorbar": {
              "outlinewidth": 0,
              "ticks": ""
             }
            },
            "type": "scattercarpet"
           }
          ],
          "scattergeo": [
           {
            "marker": {
             "colorbar": {
              "outlinewidth": 0,
              "ticks": ""
             }
            },
            "type": "scattergeo"
           }
          ],
          "scattergl": [
           {
            "marker": {
             "colorbar": {
              "outlinewidth": 0,
              "ticks": ""
             }
            },
            "type": "scattergl"
           }
          ],
          "scattermapbox": [
           {
            "marker": {
             "colorbar": {
              "outlinewidth": 0,
              "ticks": ""
             }
            },
            "type": "scattermapbox"
           }
          ],
          "scatterpolar": [
           {
            "marker": {
             "colorbar": {
              "outlinewidth": 0,
              "ticks": ""
             }
            },
            "type": "scatterpolar"
           }
          ],
          "scatterpolargl": [
           {
            "marker": {
             "colorbar": {
              "outlinewidth": 0,
              "ticks": ""
             }
            },
            "type": "scatterpolargl"
           }
          ],
          "scatterternary": [
           {
            "marker": {
             "colorbar": {
              "outlinewidth": 0,
              "ticks": ""
             }
            },
            "type": "scatterternary"
           }
          ],
          "surface": [
           {
            "colorbar": {
             "outlinewidth": 0,
             "ticks": ""
            },
            "colorscale": [
             [
              0.0,
              "#0d0887"
             ],
             [
              0.1111111111111111,
              "#46039f"
             ],
             [
              0.2222222222222222,
              "#7201a8"
             ],
             [
              0.3333333333333333,
              "#9c179e"
             ],
             [
              0.4444444444444444,
              "#bd3786"
             ],
             [
              0.5555555555555556,
              "#d8576b"
             ],
             [
              0.6666666666666666,
              "#ed7953"
             ],
             [
              0.7777777777777778,
              "#fb9f3a"
             ],
             [
              0.8888888888888888,
              "#fdca26"
             ],
             [
              1.0,
              "#f0f921"
             ]
            ],
            "type": "surface"
           }
          ],
          "table": [
           {
            "cells": {
             "fill": {
              "color": "#EBF0F8"
             },
             "line": {
              "color": "white"
             }
            },
            "header": {
             "fill": {
              "color": "#C8D4E3"
             },
             "line": {
              "color": "white"
             }
            },
            "type": "table"
           }
          ]
         },
         "layout": {
          "annotationdefaults": {
           "arrowcolor": "#2a3f5f",
           "arrowhead": 0,
           "arrowwidth": 1
          },
          "coloraxis": {
           "colorbar": {
            "outlinewidth": 0,
            "ticks": ""
           }
          },
          "colorscale": {
           "diverging": [
            [
             0,
             "#8e0152"
            ],
            [
             0.1,
             "#c51b7d"
            ],
            [
             0.2,
             "#de77ae"
            ],
            [
             0.3,
             "#f1b6da"
            ],
            [
             0.4,
             "#fde0ef"
            ],
            [
             0.5,
             "#f7f7f7"
            ],
            [
             0.6,
             "#e6f5d0"
            ],
            [
             0.7,
             "#b8e186"
            ],
            [
             0.8,
             "#7fbc41"
            ],
            [
             0.9,
             "#4d9221"
            ],
            [
             1,
             "#276419"
            ]
           ],
           "sequential": [
            [
             0.0,
             "#0d0887"
            ],
            [
             0.1111111111111111,
             "#46039f"
            ],
            [
             0.2222222222222222,
             "#7201a8"
            ],
            [
             0.3333333333333333,
             "#9c179e"
            ],
            [
             0.4444444444444444,
             "#bd3786"
            ],
            [
             0.5555555555555556,
             "#d8576b"
            ],
            [
             0.6666666666666666,
             "#ed7953"
            ],
            [
             0.7777777777777778,
             "#fb9f3a"
            ],
            [
             0.8888888888888888,
             "#fdca26"
            ],
            [
             1.0,
             "#f0f921"
            ]
           ],
           "sequentialminus": [
            [
             0.0,
             "#0d0887"
            ],
            [
             0.1111111111111111,
             "#46039f"
            ],
            [
             0.2222222222222222,
             "#7201a8"
            ],
            [
             0.3333333333333333,
             "#9c179e"
            ],
            [
             0.4444444444444444,
             "#bd3786"
            ],
            [
             0.5555555555555556,
             "#d8576b"
            ],
            [
             0.6666666666666666,
             "#ed7953"
            ],
            [
             0.7777777777777778,
             "#fb9f3a"
            ],
            [
             0.8888888888888888,
             "#fdca26"
            ],
            [
             1.0,
             "#f0f921"
            ]
           ]
          },
          "colorway": [
           "#1f77b4",
           "#ff7f0e",
           "#2ca02c",
           "#d62728",
           "#9467bd",
           "#8c564b",
           "#e377c2",
           "#7f7f7f",
           "#bcbd22",
           "#17becf"
          ],
          "font": {
           "color": "#2a3f5f"
          },
          "geo": {
           "bgcolor": "white",
           "lakecolor": "white",
           "landcolor": "white",
           "showlakes": true,
           "showland": true,
           "subunitcolor": "#C8D4E3"
          },
          "hoverlabel": {
           "align": "left"
          },
          "hovermode": "closest",
          "mapbox": {
           "style": "light"
          },
          "paper_bgcolor": "white",
          "plot_bgcolor": "white",
          "polar": {
           "angularaxis": {
            "gridcolor": "#EBF0F8",
            "linecolor": "#EBF0F8",
            "ticks": ""
           },
           "bgcolor": "white",
           "radialaxis": {
            "gridcolor": "#EBF0F8",
            "linecolor": "#EBF0F8",
            "ticks": ""
           }
          },
          "scene": {
           "camera": {
            "center": {
             "x": 0,
             "y": 0,
             "z": 0
            },
            "eye": {
             "x": 2.0,
             "y": 2.0,
             "z": 2.0
            },
            "up": {
             "x": 0,
             "y": 0,
             "z": 1
            }
           },
           "xaxis": {
            "backgroundcolor": "white",
            "gridcolor": "#DFE8F3",
            "gridwidth": 2,
            "linecolor": "#EBF0F8",
            "showbackground": true,
            "showspikes": false,
            "ticks": "",
            "zerolinecolor": "#EBF0F8"
           },
           "yaxis": {
            "backgroundcolor": "white",
            "gridcolor": "#DFE8F3",
            "gridwidth": 2,
            "linecolor": "#EBF0F8",
            "showbackground": true,
            "showspikes": false,
            "ticks": "",
            "zerolinecolor": "#EBF0F8"
           },
           "zaxis": {
            "backgroundcolor": "white",
            "gridcolor": "#DFE8F3",
            "gridwidth": 2,
            "linecolor": "#EBF0F8",
            "showbackground": true,
            "showspikes": false,
            "ticks": "",
            "zerolinecolor": "#EBF0F8"
           }
          },
          "shapedefaults": {
           "line": {
            "color": "#2a3f5f"
           }
          },
          "ternary": {
           "aaxis": {
            "gridcolor": "#DFE8F3",
            "linecolor": "#A2B1C6",
            "ticks": ""
           },
           "baxis": {
            "gridcolor": "#DFE8F3",
            "linecolor": "#A2B1C6",
            "ticks": ""
           },
           "bgcolor": "white",
           "caxis": {
            "gridcolor": "#DFE8F3",
            "linecolor": "#A2B1C6",
            "ticks": ""
           }
          },
          "title": {
           "x": 0.05
          },
          "xaxis": {
           "automargin": true,
           "gridcolor": "#EBF0F8",
           "linecolor": "black",
           "linewidth": 2.0,
           "mirror": true,
           "showline": true,
           "ticks": "",
           "title": {
            "standoff": 15
           },
           "zeroline": false,
           "zerolinecolor": "#EBF0F8",
           "zerolinewidth": 2
          },
          "yaxis": {
           "automargin": true,
           "gridcolor": "#EBF0F8",
           "linecolor": "black",
           "linewidth": 2.0,
           "mirror": true,
           "showline": true,
           "ticks": "",
           "title": {
            "standoff": 15
           },
           "zeroline": false,
           "zerolinecolor": "#EBF0F8",
           "zerolinewidth": 2
          }
         }
        },
        "title": {
         "text": "Tapared shaft elements"
        },
        "xaxis": {
         "mirror": true,
         "range": [
          -0.15000000000000002,
          1.6500000000000001
         ],
         "showgrid": false,
         "title": {
          "text": "Axial location (m)"
         }
        },
        "yaxis": {
         "mirror": true,
         "range": [
          -0.44999999999999996,
          0.44999999999999996
         ],
         "showgrid": false,
         "title": {
          "text": "Shaft radius (m)"
         }
        }
       }
      }
     },
     "metadata": {},
     "output_type": "display_data"
    }
   ],
   "source": [
    "shaft_length = 1.5\n",
    "diameter_left = 0.025\n",
    "diameter_right = 0.04\n",
    "\n",
    "min_elements = 4\n",
    "max_elements = 30\n",
    "step = 2\n",
    "num_simulations = (max_elements - min_elements) // step\n",
    "\n",
    "results = np.zeros((2, num_simulations))\n",
    "results_tapared = np.zeros((2, num_simulations))\n",
    "\n",
    "\n",
    "for i, N in enumerate(range(min_elements, max_elements, step)):\n",
    "    L = shaft_length / N\n",
    "\n",
    "    odl_array = np.linspace(diameter_left, diameter_right, N + 1)[:-1]\n",
    "    idl_array = np.zeros_like(odl_array)\n",
    "\n",
    "    odr_array = np.linspace(diameter_left, diameter_right, N + 1)[1:]\n",
    "    idr_array = np.zeros_like(odr_array)\n",
    "    \n",
    "    id_array = np.zeros(N)\n",
    "    od_array = np.mean(np.array([odl_array, odr_array]), axis=0)\n",
    "\n",
    "    shaft = []\n",
    "    shaft_tapared = []\n",
    "\n",
    "    for n in range(N):\n",
    "        shaft.append(\n",
    "            rs.ShaftElement(n=n, L=L, idl=id_array[n], odl=od_array[n], material=steel)\n",
    "        )\n",
    "        shaft_tapared.append(\n",
    "            rs.ShaftElement(\n",
    "                n=n,\n",
    "                L=L,\n",
    "                idl=idl_array[n],\n",
    "                idr=idr_array[n],\n",
    "                odl=odl_array[n],\n",
    "                odr=odr_array[n],\n",
    "                material=steel,\n",
    "            )\n",
    "        )\n",
    "\n",
    "    bearings = [\n",
    "        rs.BearingElement(n=0, kxx=1e7, cxx=1e3, scale_factor=2),\n",
    "        rs.BearingElement(n=N, kxx=1e7, cxx=1e3, scale_factor=2),\n",
    "    ]\n",
    "    disks = [\n",
    "        rs.DiskElement.from_geometry(\n",
    "            n=N // 2, material=steel, width=0.04, i_d=0.0, o_d=0.25\n",
    "        ),\n",
    "    ]\n",
    "\n",
    "    rotor = rs.Rotor(\n",
    "        shaft_elements=shaft, disk_elements=disks, bearing_elements=bearings\n",
    "    )\n",
    "    rotor_tapared = rs.Rotor(\n",
    "        shaft_elements=shaft_tapared, disk_elements=disks, bearing_elements=bearings\n",
    "    )\n",
    "    \n",
    "    modal = rotor.run_modal(speed=Q_(3000, \"RPM\"))\n",
    "    modal_tapared = rotor_tapared.run_modal(speed=Q_(3000, \"RPM\"))\n",
    "    \n",
    "    results[:, i] = Q_(modal.wd[:2], \"rad/s\").to(\"Hz\").m\n",
    "    results_tapared[:, i] = Q_(modal_tapared.wd[:2], \"rad/s\").to(\"Hz\").m\n",
    "    \n",
    "    if N == 6:\n",
    "        display(rotor.plot_rotor(nodes=2, title=dict(text=\"Uniform shaft elements\")))\n",
    "        display(rotor_tapared.plot_rotor(nodes=2, title=dict(text=\"Tapared shaft elements\")))"
   ]
  },
  {
   "cell_type": "code",
   "execution_count": 5,
   "id": "ffa46a08",
   "metadata": {
    "execution": {
     "iopub.execute_input": "2023-05-04T01:02:09.732388Z",
     "iopub.status.busy": "2023-05-04T01:02:09.732008Z",
     "iopub.status.idle": "2023-05-04T01:02:09.740026Z",
     "shell.execute_reply": "2023-05-04T01:02:09.739722Z"
    }
   },
   "outputs": [
    {
     "data": {
      "application/vnd.plotly.v1+json": {
       "config": {
        "plotlyServerURL": "https://plot.ly"
       },
       "data": [
        {
         "line": {
          "dash": "dash"
         },
         "name": "Uniform Elements - Mode 0",
         "type": "scatter",
         "x": [
          4,
          6,
          8,
          10,
          12,
          14,
          16,
          18,
          20,
          22,
          24,
          26,
          28
         ],
         "y": [
          13.814074639133917,
          13.874759748946285,
          13.894251654334127,
          13.902944151348628,
          13.907576146885452,
          13.91033809353974,
          13.912118121540836,
          13.913332750929772,
          13.914198687395698,
          13.914837833293006,
          13.915323070618406,
          13.915700174463174,
          13.915999059139837
         ]
        },
        {
         "name": "Tapared Elements - Mode 0",
         "type": "scatter",
         "x": [
          4,
          6,
          8,
          10,
          12,
          14,
          16,
          18,
          20,
          22,
          24,
          26,
          28
         ],
         "y": [
          13.926234210473218,
          13.921102104135603,
          13.920171436405571,
          13.91986883334868,
          13.919712873997742,
          13.919600433028354,
          13.919503157232416,
          13.919412292947067,
          13.919325193251828,
          13.919241270882786,
          13.919160634289648,
          13.91908355403107,
          13.919010285145077
         ]
        },
        {
         "line": {
          "dash": "dash"
         },
         "name": "Uniform Elements - Mode 1",
         "type": "scatter",
         "x": [
          4,
          6,
          8,
          10,
          12,
          14,
          16,
          18,
          20,
          22,
          24,
          26,
          28
         ],
         "y": [
          13.86384696532169,
          13.916282254676382,
          13.933066985995987,
          13.940539814111975,
          13.94451829501881,
          13.946889291029011,
          13.948416830903028,
          13.949458927470578,
          13.950201738406259,
          13.950749939213166,
          13.951166093048448,
          13.951489486191821,
          13.951745785773022
         ]
        },
        {
         "name": "Tapared Elements - Mode 1",
         "type": "scatter",
         "x": [
          4,
          6,
          8,
          10,
          12,
          14,
          16,
          18,
          20,
          22,
          24,
          26,
          28
         ],
         "y": [
          13.961686631488194,
          13.956575073476513,
          13.955648429070058,
          13.95534693427607,
          13.955191310623226,
          13.955078946757821,
          13.954981653498296,
          13.954890741024649,
          13.954803590519118,
          13.954719627597232,
          13.954638966163975,
          13.95456187838778,
          13.954488618701156
         ]
        }
       ],
       "layout": {
        "template": {
         "data": {
          "bar": [
           {
            "error_x": {
             "color": "#2a3f5f"
            },
            "error_y": {
             "color": "#2a3f5f"
            },
            "marker": {
             "line": {
              "color": "white",
              "width": 0.5
             }
            },
            "type": "bar"
           }
          ],
          "barpolar": [
           {
            "marker": {
             "line": {
              "color": "white",
              "width": 0.5
             }
            },
            "type": "barpolar"
           }
          ],
          "carpet": [
           {
            "aaxis": {
             "endlinecolor": "#2a3f5f",
             "gridcolor": "#C8D4E3",
             "linecolor": "#C8D4E3",
             "minorgridcolor": "#C8D4E3",
             "startlinecolor": "#2a3f5f"
            },
            "baxis": {
             "endlinecolor": "#2a3f5f",
             "gridcolor": "#C8D4E3",
             "linecolor": "#C8D4E3",
             "minorgridcolor": "#C8D4E3",
             "startlinecolor": "#2a3f5f"
            },
            "type": "carpet"
           }
          ],
          "choropleth": [
           {
            "colorbar": {
             "outlinewidth": 0,
             "ticks": ""
            },
            "type": "choropleth"
           }
          ],
          "contour": [
           {
            "colorbar": {
             "outlinewidth": 0,
             "ticks": ""
            },
            "colorscale": [
             [
              0.0,
              "#0d0887"
             ],
             [
              0.1111111111111111,
              "#46039f"
             ],
             [
              0.2222222222222222,
              "#7201a8"
             ],
             [
              0.3333333333333333,
              "#9c179e"
             ],
             [
              0.4444444444444444,
              "#bd3786"
             ],
             [
              0.5555555555555556,
              "#d8576b"
             ],
             [
              0.6666666666666666,
              "#ed7953"
             ],
             [
              0.7777777777777778,
              "#fb9f3a"
             ],
             [
              0.8888888888888888,
              "#fdca26"
             ],
             [
              1.0,
              "#f0f921"
             ]
            ],
            "type": "contour"
           }
          ],
          "contourcarpet": [
           {
            "colorbar": {
             "outlinewidth": 0,
             "ticks": ""
            },
            "type": "contourcarpet"
           }
          ],
          "heatmap": [
           {
            "colorbar": {
             "outlinewidth": 0,
             "ticks": ""
            },
            "colorscale": [
             [
              0.0,
              "#0d0887"
             ],
             [
              0.1111111111111111,
              "#46039f"
             ],
             [
              0.2222222222222222,
              "#7201a8"
             ],
             [
              0.3333333333333333,
              "#9c179e"
             ],
             [
              0.4444444444444444,
              "#bd3786"
             ],
             [
              0.5555555555555556,
              "#d8576b"
             ],
             [
              0.6666666666666666,
              "#ed7953"
             ],
             [
              0.7777777777777778,
              "#fb9f3a"
             ],
             [
              0.8888888888888888,
              "#fdca26"
             ],
             [
              1.0,
              "#f0f921"
             ]
            ],
            "type": "heatmap"
           }
          ],
          "heatmapgl": [
           {
            "colorbar": {
             "outlinewidth": 0,
             "ticks": ""
            },
            "colorscale": [
             [
              0.0,
              "#0d0887"
             ],
             [
              0.1111111111111111,
              "#46039f"
             ],
             [
              0.2222222222222222,
              "#7201a8"
             ],
             [
              0.3333333333333333,
              "#9c179e"
             ],
             [
              0.4444444444444444,
              "#bd3786"
             ],
             [
              0.5555555555555556,
              "#d8576b"
             ],
             [
              0.6666666666666666,
              "#ed7953"
             ],
             [
              0.7777777777777778,
              "#fb9f3a"
             ],
             [
              0.8888888888888888,
              "#fdca26"
             ],
             [
              1.0,
              "#f0f921"
             ]
            ],
            "type": "heatmapgl"
           }
          ],
          "histogram": [
           {
            "marker": {
             "colorbar": {
              "outlinewidth": 0,
              "ticks": ""
             }
            },
            "type": "histogram"
           }
          ],
          "histogram2d": [
           {
            "colorbar": {
             "outlinewidth": 0,
             "ticks": ""
            },
            "colorscale": [
             [
              0.0,
              "#0d0887"
             ],
             [
              0.1111111111111111,
              "#46039f"
             ],
             [
              0.2222222222222222,
              "#7201a8"
             ],
             [
              0.3333333333333333,
              "#9c179e"
             ],
             [
              0.4444444444444444,
              "#bd3786"
             ],
             [
              0.5555555555555556,
              "#d8576b"
             ],
             [
              0.6666666666666666,
              "#ed7953"
             ],
             [
              0.7777777777777778,
              "#fb9f3a"
             ],
             [
              0.8888888888888888,
              "#fdca26"
             ],
             [
              1.0,
              "#f0f921"
             ]
            ],
            "type": "histogram2d"
           }
          ],
          "histogram2dcontour": [
           {
            "colorbar": {
             "outlinewidth": 0,
             "ticks": ""
            },
            "colorscale": [
             [
              0.0,
              "#0d0887"
             ],
             [
              0.1111111111111111,
              "#46039f"
             ],
             [
              0.2222222222222222,
              "#7201a8"
             ],
             [
              0.3333333333333333,
              "#9c179e"
             ],
             [
              0.4444444444444444,
              "#bd3786"
             ],
             [
              0.5555555555555556,
              "#d8576b"
             ],
             [
              0.6666666666666666,
              "#ed7953"
             ],
             [
              0.7777777777777778,
              "#fb9f3a"
             ],
             [
              0.8888888888888888,
              "#fdca26"
             ],
             [
              1.0,
              "#f0f921"
             ]
            ],
            "type": "histogram2dcontour"
           }
          ],
          "mesh3d": [
           {
            "colorbar": {
             "outlinewidth": 0,
             "ticks": ""
            },
            "type": "mesh3d"
           }
          ],
          "parcoords": [
           {
            "line": {
             "colorbar": {
              "outlinewidth": 0,
              "ticks": ""
             }
            },
            "type": "parcoords"
           }
          ],
          "pie": [
           {
            "automargin": true,
            "type": "pie"
           }
          ],
          "scatter": [
           {
            "marker": {
             "colorbar": {
              "outlinewidth": 0,
              "ticks": ""
             }
            },
            "type": "scatter"
           }
          ],
          "scatter3d": [
           {
            "line": {
             "colorbar": {
              "outlinewidth": 0,
              "ticks": ""
             }
            },
            "marker": {
             "colorbar": {
              "outlinewidth": 0,
              "ticks": ""
             },
             "size": 4
            },
            "type": "scatter3d"
           }
          ],
          "scattercarpet": [
           {
            "marker": {
             "colorbar": {
              "outlinewidth": 0,
              "ticks": ""
             }
            },
            "type": "scattercarpet"
           }
          ],
          "scattergeo": [
           {
            "marker": {
             "colorbar": {
              "outlinewidth": 0,
              "ticks": ""
             }
            },
            "type": "scattergeo"
           }
          ],
          "scattergl": [
           {
            "marker": {
             "colorbar": {
              "outlinewidth": 0,
              "ticks": ""
             }
            },
            "type": "scattergl"
           }
          ],
          "scattermapbox": [
           {
            "marker": {
             "colorbar": {
              "outlinewidth": 0,
              "ticks": ""
             }
            },
            "type": "scattermapbox"
           }
          ],
          "scatterpolar": [
           {
            "marker": {
             "colorbar": {
              "outlinewidth": 0,
              "ticks": ""
             }
            },
            "type": "scatterpolar"
           }
          ],
          "scatterpolargl": [
           {
            "marker": {
             "colorbar": {
              "outlinewidth": 0,
              "ticks": ""
             }
            },
            "type": "scatterpolargl"
           }
          ],
          "scatterternary": [
           {
            "marker": {
             "colorbar": {
              "outlinewidth": 0,
              "ticks": ""
             }
            },
            "type": "scatterternary"
           }
          ],
          "surface": [
           {
            "colorbar": {
             "outlinewidth": 0,
             "ticks": ""
            },
            "colorscale": [
             [
              0.0,
              "#0d0887"
             ],
             [
              0.1111111111111111,
              "#46039f"
             ],
             [
              0.2222222222222222,
              "#7201a8"
             ],
             [
              0.3333333333333333,
              "#9c179e"
             ],
             [
              0.4444444444444444,
              "#bd3786"
             ],
             [
              0.5555555555555556,
              "#d8576b"
             ],
             [
              0.6666666666666666,
              "#ed7953"
             ],
             [
              0.7777777777777778,
              "#fb9f3a"
             ],
             [
              0.8888888888888888,
              "#fdca26"
             ],
             [
              1.0,
              "#f0f921"
             ]
            ],
            "type": "surface"
           }
          ],
          "table": [
           {
            "cells": {
             "fill": {
              "color": "#EBF0F8"
             },
             "line": {
              "color": "white"
             }
            },
            "header": {
             "fill": {
              "color": "#C8D4E3"
             },
             "line": {
              "color": "white"
             }
            },
            "type": "table"
           }
          ]
         },
         "layout": {
          "annotationdefaults": {
           "arrowcolor": "#2a3f5f",
           "arrowhead": 0,
           "arrowwidth": 1
          },
          "coloraxis": {
           "colorbar": {
            "outlinewidth": 0,
            "ticks": ""
           }
          },
          "colorscale": {
           "diverging": [
            [
             0,
             "#8e0152"
            ],
            [
             0.1,
             "#c51b7d"
            ],
            [
             0.2,
             "#de77ae"
            ],
            [
             0.3,
             "#f1b6da"
            ],
            [
             0.4,
             "#fde0ef"
            ],
            [
             0.5,
             "#f7f7f7"
            ],
            [
             0.6,
             "#e6f5d0"
            ],
            [
             0.7,
             "#b8e186"
            ],
            [
             0.8,
             "#7fbc41"
            ],
            [
             0.9,
             "#4d9221"
            ],
            [
             1,
             "#276419"
            ]
           ],
           "sequential": [
            [
             0.0,
             "#0d0887"
            ],
            [
             0.1111111111111111,
             "#46039f"
            ],
            [
             0.2222222222222222,
             "#7201a8"
            ],
            [
             0.3333333333333333,
             "#9c179e"
            ],
            [
             0.4444444444444444,
             "#bd3786"
            ],
            [
             0.5555555555555556,
             "#d8576b"
            ],
            [
             0.6666666666666666,
             "#ed7953"
            ],
            [
             0.7777777777777778,
             "#fb9f3a"
            ],
            [
             0.8888888888888888,
             "#fdca26"
            ],
            [
             1.0,
             "#f0f921"
            ]
           ],
           "sequentialminus": [
            [
             0.0,
             "#0d0887"
            ],
            [
             0.1111111111111111,
             "#46039f"
            ],
            [
             0.2222222222222222,
             "#7201a8"
            ],
            [
             0.3333333333333333,
             "#9c179e"
            ],
            [
             0.4444444444444444,
             "#bd3786"
            ],
            [
             0.5555555555555556,
             "#d8576b"
            ],
            [
             0.6666666666666666,
             "#ed7953"
            ],
            [
             0.7777777777777778,
             "#fb9f3a"
            ],
            [
             0.8888888888888888,
             "#fdca26"
            ],
            [
             1.0,
             "#f0f921"
            ]
           ]
          },
          "colorway": [
           "#1f77b4",
           "#ff7f0e",
           "#2ca02c",
           "#d62728",
           "#9467bd",
           "#8c564b",
           "#e377c2",
           "#7f7f7f",
           "#bcbd22",
           "#17becf"
          ],
          "font": {
           "color": "#2a3f5f"
          },
          "geo": {
           "bgcolor": "white",
           "lakecolor": "white",
           "landcolor": "white",
           "showlakes": true,
           "showland": true,
           "subunitcolor": "#C8D4E3"
          },
          "hoverlabel": {
           "align": "left"
          },
          "hovermode": "closest",
          "mapbox": {
           "style": "light"
          },
          "paper_bgcolor": "white",
          "plot_bgcolor": "white",
          "polar": {
           "angularaxis": {
            "gridcolor": "#EBF0F8",
            "linecolor": "#EBF0F8",
            "ticks": ""
           },
           "bgcolor": "white",
           "radialaxis": {
            "gridcolor": "#EBF0F8",
            "linecolor": "#EBF0F8",
            "ticks": ""
           }
          },
          "scene": {
           "camera": {
            "center": {
             "x": 0,
             "y": 0,
             "z": 0
            },
            "eye": {
             "x": 2.0,
             "y": 2.0,
             "z": 2.0
            },
            "up": {
             "x": 0,
             "y": 0,
             "z": 1
            }
           },
           "xaxis": {
            "backgroundcolor": "white",
            "gridcolor": "#DFE8F3",
            "gridwidth": 2,
            "linecolor": "#EBF0F8",
            "showbackground": true,
            "showspikes": false,
            "ticks": "",
            "zerolinecolor": "#EBF0F8"
           },
           "yaxis": {
            "backgroundcolor": "white",
            "gridcolor": "#DFE8F3",
            "gridwidth": 2,
            "linecolor": "#EBF0F8",
            "showbackground": true,
            "showspikes": false,
            "ticks": "",
            "zerolinecolor": "#EBF0F8"
           },
           "zaxis": {
            "backgroundcolor": "white",
            "gridcolor": "#DFE8F3",
            "gridwidth": 2,
            "linecolor": "#EBF0F8",
            "showbackground": true,
            "showspikes": false,
            "ticks": "",
            "zerolinecolor": "#EBF0F8"
           }
          },
          "shapedefaults": {
           "line": {
            "color": "#2a3f5f"
           }
          },
          "ternary": {
           "aaxis": {
            "gridcolor": "#DFE8F3",
            "linecolor": "#A2B1C6",
            "ticks": ""
           },
           "baxis": {
            "gridcolor": "#DFE8F3",
            "linecolor": "#A2B1C6",
            "ticks": ""
           },
           "bgcolor": "white",
           "caxis": {
            "gridcolor": "#DFE8F3",
            "linecolor": "#A2B1C6",
            "ticks": ""
           }
          },
          "title": {
           "x": 0.05
          },
          "xaxis": {
           "automargin": true,
           "gridcolor": "#EBF0F8",
           "linecolor": "black",
           "linewidth": 2.0,
           "mirror": true,
           "showline": true,
           "ticks": "",
           "title": {
            "standoff": 15
           },
           "zeroline": false,
           "zerolinecolor": "#EBF0F8",
           "zerolinewidth": 2
          },
          "yaxis": {
           "automargin": true,
           "gridcolor": "#EBF0F8",
           "linecolor": "black",
           "linewidth": 2.0,
           "mirror": true,
           "showline": true,
           "ticks": "",
           "title": {
            "standoff": 15
           },
           "zeroline": false,
           "zerolinecolor": "#EBF0F8",
           "zerolinewidth": 2
          }
         }
        },
        "xaxis": {
         "title": {
          "text": "Number of Elements"
         }
        },
        "yaxis": {
         "title": {
          "text": "Natural Frequency (Hz)"
         }
        }
       }
      }
     },
     "metadata": {},
     "output_type": "display_data"
    }
   ],
   "source": [
    "fig = go.Figure()\n",
    "\n",
    "N_eigen = 2\n",
    "\n",
    "for i in range(N_eigen):\n",
    "    fig.add_trace(\n",
    "        go.Scatter(\n",
    "            x=list(range(min_elements, max_elements, step)),\n",
    "            y=results[i, :],\n",
    "            line=dict(dash=\"dash\"),\n",
    "            name=f\"Uniform Elements - Mode {i}\",\n",
    "        )\n",
    "    )\n",
    "    fig.add_trace(\n",
    "        go.Scatter(\n",
    "            x=list(range(min_elements, max_elements, step)),\n",
    "            y=results_tapared[i, :],\n",
    "            name=f\"Tapared Elements - Mode {i}\",\n",
    "        )\n",
    "    )\n",
    "\n",
    "fig.update_layout(\n",
    "    xaxis=dict(title=\"Number of Elements\"),\n",
    "    yaxis=dict(title=\"Natural Frequency (Hz)\")\n",
    ")"
   ]
  },
  {
   "cell_type": "markdown",
   "id": "0dc94f45",
   "metadata": {},
   "source": [
    "## References\n",
    "\n",
    "```{bibliography}\n",
    ":filter: docname in docnames\n",
    "```"
   ]
  }
 ],
 "metadata": {
  "kernelspec": {
   "display_name": "Python [conda env:rs] *",
   "language": "python",
   "name": "conda-env-rs-py"
  },
  "language_info": {
   "codemirror_mode": {
    "name": "ipython",
    "version": 3
   },
   "file_extension": ".py",
   "mimetype": "text/x-python",
   "name": "python",
   "nbconvert_exporter": "python",
   "pygments_lexer": "ipython3",
   "version": "3.10.9"
  }
 },
 "nbformat": 4,
 "nbformat_minor": 5
}
