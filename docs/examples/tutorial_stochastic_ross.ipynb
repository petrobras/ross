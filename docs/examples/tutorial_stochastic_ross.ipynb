{
 "cells": [
  {
   "cell_type": "markdown",
   "metadata": {},
   "source": [
    "STOCHASTIC ROSS - Tutorial\n",
    "============================"
   ]
  },
  {
   "cell_type": "markdown",
   "metadata": {},
   "source": [
    "[Go to the Download page to download this notebook](https://ross-rotordynamics.github.io/ross-website/download.html)"
   ]
  },
  {
   "cell_type": "markdown",
   "metadata": {},
   "source": [
    "This is a basic tutorial on how to use STOCHASTIC ROSS - a ROSS' module for stochastic rotordynamics analysis. Before starting this tutorial, be sure you're already familiar with ROSS library.\n",
    "\n",
    "If you've already used ROSS, you've noticed the graphs present deterministic results, considering a set of parameters. In other words, the model always produce the same output from a given starting condition or initial state [@...]. In STOCHASTIC ROSS, the concept is different, and we'll work it stochastic processes.\n",
    "\n",
    "A stochastic process is defined as a indexed collection of random variables defined on a common probability space ($\\Omega$, $\\mathcal{F}$, $P$} where $\\Omega$ is a sample space, $\\mathcal{F}$ is a $\\sigma$-algebra, and $P$ is a probability measure. The index is often assumed to be time. [@...].\n",
    "\n",
    "This new module allows you to work with random variables applied to the ROSS' functions. Basically, any element or material can be receive a parameter considered random. Moreover, some methods are also able to receive a random variable (random force, random unbalance...). It means that a parameter, once assumed deterministic (int or float in python language), now follows a distribution (list or array), like uniform distribution, normal distribution, etc.\n",
    "\n",
    "As consequence, plots do not display deterministic results anymore. Instead, plots shows the expectation $E(X_t(t))$ (or mean) for a stochastic process and intervals of confidence (user choice).\n",
    "\n",
    "Where:\n",
    "- $X_t$ is the stochastic process;\n",
    "- $t$ is the index time\n"
   ]
  },
  {
   "cell_type": "code",
   "execution_count": 1,
   "metadata": {},
   "outputs": [
    {
     "data": {
      "text/html": [
       "\n",
       "    <div class=\"bk-root\">\n",
       "        <a href=\"https://bokeh.org\" target=\"_blank\" class=\"bk-logo bk-logo-small bk-logo-notebook\"></a>\n",
       "        <span id=\"1001\">Loading BokehJS ...</span>\n",
       "    </div>"
      ]
     },
     "metadata": {},
     "output_type": "display_data"
    },
    {
     "data": {
      "application/javascript": [
       "\n",
       "(function(root) {\n",
       "  function now() {\n",
       "    return new Date();\n",
       "  }\n",
       "\n",
       "  var force = true;\n",
       "\n",
       "  if (typeof root._bokeh_onload_callbacks === \"undefined\" || force === true) {\n",
       "    root._bokeh_onload_callbacks = [];\n",
       "    root._bokeh_is_loading = undefined;\n",
       "  }\n",
       "\n",
       "  var JS_MIME_TYPE = 'application/javascript';\n",
       "  var HTML_MIME_TYPE = 'text/html';\n",
       "  var EXEC_MIME_TYPE = 'application/vnd.bokehjs_exec.v0+json';\n",
       "  var CLASS_NAME = 'output_bokeh rendered_html';\n",
       "\n",
       "  /**\n",
       "   * Render data to the DOM node\n",
       "   */\n",
       "  function render(props, node) {\n",
       "    var script = document.createElement(\"script\");\n",
       "    node.appendChild(script);\n",
       "  }\n",
       "\n",
       "  /**\n",
       "   * Handle when an output is cleared or removed\n",
       "   */\n",
       "  function handleClearOutput(event, handle) {\n",
       "    var cell = handle.cell;\n",
       "\n",
       "    var id = cell.output_area._bokeh_element_id;\n",
       "    var server_id = cell.output_area._bokeh_server_id;\n",
       "    // Clean up Bokeh references\n",
       "    if (id != null && id in Bokeh.index) {\n",
       "      Bokeh.index[id].model.document.clear();\n",
       "      delete Bokeh.index[id];\n",
       "    }\n",
       "\n",
       "    if (server_id !== undefined) {\n",
       "      // Clean up Bokeh references\n",
       "      var cmd = \"from bokeh.io.state import curstate; print(curstate().uuid_to_server['\" + server_id + \"'].get_sessions()[0].document.roots[0]._id)\";\n",
       "      cell.notebook.kernel.execute(cmd, {\n",
       "        iopub: {\n",
       "          output: function(msg) {\n",
       "            var id = msg.content.text.trim();\n",
       "            if (id in Bokeh.index) {\n",
       "              Bokeh.index[id].model.document.clear();\n",
       "              delete Bokeh.index[id];\n",
       "            }\n",
       "          }\n",
       "        }\n",
       "      });\n",
       "      // Destroy server and session\n",
       "      var cmd = \"import bokeh.io.notebook as ion; ion.destroy_server('\" + server_id + \"')\";\n",
       "      cell.notebook.kernel.execute(cmd);\n",
       "    }\n",
       "  }\n",
       "\n",
       "  /**\n",
       "   * Handle when a new output is added\n",
       "   */\n",
       "  function handleAddOutput(event, handle) {\n",
       "    var output_area = handle.output_area;\n",
       "    var output = handle.output;\n",
       "\n",
       "    // limit handleAddOutput to display_data with EXEC_MIME_TYPE content only\n",
       "    if ((output.output_type != \"display_data\") || (!output.data.hasOwnProperty(EXEC_MIME_TYPE))) {\n",
       "      return\n",
       "    }\n",
       "\n",
       "    var toinsert = output_area.element.find(\".\" + CLASS_NAME.split(' ')[0]);\n",
       "\n",
       "    if (output.metadata[EXEC_MIME_TYPE][\"id\"] !== undefined) {\n",
       "      toinsert[toinsert.length - 1].firstChild.textContent = output.data[JS_MIME_TYPE];\n",
       "      // store reference to embed id on output_area\n",
       "      output_area._bokeh_element_id = output.metadata[EXEC_MIME_TYPE][\"id\"];\n",
       "    }\n",
       "    if (output.metadata[EXEC_MIME_TYPE][\"server_id\"] !== undefined) {\n",
       "      var bk_div = document.createElement(\"div\");\n",
       "      bk_div.innerHTML = output.data[HTML_MIME_TYPE];\n",
       "      var script_attrs = bk_div.children[0].attributes;\n",
       "      for (var i = 0; i < script_attrs.length; i++) {\n",
       "        toinsert[toinsert.length - 1].firstChild.setAttribute(script_attrs[i].name, script_attrs[i].value);\n",
       "        toinsert[toinsert.length - 1].firstChild.textContent = bk_div.children[0].textContent\n",
       "      }\n",
       "      // store reference to server id on output_area\n",
       "      output_area._bokeh_server_id = output.metadata[EXEC_MIME_TYPE][\"server_id\"];\n",
       "    }\n",
       "  }\n",
       "\n",
       "  function register_renderer(events, OutputArea) {\n",
       "\n",
       "    function append_mime(data, metadata, element) {\n",
       "      // create a DOM node to render to\n",
       "      var toinsert = this.create_output_subarea(\n",
       "        metadata,\n",
       "        CLASS_NAME,\n",
       "        EXEC_MIME_TYPE\n",
       "      );\n",
       "      this.keyboard_manager.register_events(toinsert);\n",
       "      // Render to node\n",
       "      var props = {data: data, metadata: metadata[EXEC_MIME_TYPE]};\n",
       "      render(props, toinsert[toinsert.length - 1]);\n",
       "      element.append(toinsert);\n",
       "      return toinsert\n",
       "    }\n",
       "\n",
       "    /* Handle when an output is cleared or removed */\n",
       "    events.on('clear_output.CodeCell', handleClearOutput);\n",
       "    events.on('delete.Cell', handleClearOutput);\n",
       "\n",
       "    /* Handle when a new output is added */\n",
       "    events.on('output_added.OutputArea', handleAddOutput);\n",
       "\n",
       "    /**\n",
       "     * Register the mime type and append_mime function with output_area\n",
       "     */\n",
       "    OutputArea.prototype.register_mime_type(EXEC_MIME_TYPE, append_mime, {\n",
       "      /* Is output safe? */\n",
       "      safe: true,\n",
       "      /* Index of renderer in `output_area.display_order` */\n",
       "      index: 0\n",
       "    });\n",
       "  }\n",
       "\n",
       "  // register the mime type if in Jupyter Notebook environment and previously unregistered\n",
       "  if (root.Jupyter !== undefined) {\n",
       "    var events = require('base/js/events');\n",
       "    var OutputArea = require('notebook/js/outputarea').OutputArea;\n",
       "\n",
       "    if (OutputArea.prototype.mime_types().indexOf(EXEC_MIME_TYPE) == -1) {\n",
       "      register_renderer(events, OutputArea);\n",
       "    }\n",
       "  }\n",
       "\n",
       "  \n",
       "  if (typeof (root._bokeh_timeout) === \"undefined\" || force === true) {\n",
       "    root._bokeh_timeout = Date.now() + 5000;\n",
       "    root._bokeh_failed_load = false;\n",
       "  }\n",
       "\n",
       "  var NB_LOAD_WARNING = {'data': {'text/html':\n",
       "     \"<div style='background-color: #fdd'>\\n\"+\n",
       "     \"<p>\\n\"+\n",
       "     \"BokehJS does not appear to have successfully loaded. If loading BokehJS from CDN, this \\n\"+\n",
       "     \"may be due to a slow or bad network connection. Possible fixes:\\n\"+\n",
       "     \"</p>\\n\"+\n",
       "     \"<ul>\\n\"+\n",
       "     \"<li>re-rerun `output_notebook()` to attempt to load from CDN again, or</li>\\n\"+\n",
       "     \"<li>use INLINE resources instead, as so:</li>\\n\"+\n",
       "     \"</ul>\\n\"+\n",
       "     \"<code>\\n\"+\n",
       "     \"from bokeh.resources import INLINE\\n\"+\n",
       "     \"output_notebook(resources=INLINE)\\n\"+\n",
       "     \"</code>\\n\"+\n",
       "     \"</div>\"}};\n",
       "\n",
       "  function display_loaded() {\n",
       "    var el = document.getElementById(\"1001\");\n",
       "    if (el != null) {\n",
       "      el.textContent = \"BokehJS is loading...\";\n",
       "    }\n",
       "    if (root.Bokeh !== undefined) {\n",
       "      if (el != null) {\n",
       "        el.textContent = \"BokehJS \" + root.Bokeh.version + \" successfully loaded.\";\n",
       "      }\n",
       "    } else if (Date.now() < root._bokeh_timeout) {\n",
       "      setTimeout(display_loaded, 100)\n",
       "    }\n",
       "  }\n",
       "\n",
       "\n",
       "  function run_callbacks() {\n",
       "    try {\n",
       "      root._bokeh_onload_callbacks.forEach(function(callback) {\n",
       "        if (callback != null)\n",
       "          callback();\n",
       "      });\n",
       "    } finally {\n",
       "      delete root._bokeh_onload_callbacks\n",
       "    }\n",
       "    console.debug(\"Bokeh: all callbacks have finished\");\n",
       "  }\n",
       "\n",
       "  function load_libs(css_urls, js_urls, callback) {\n",
       "    if (css_urls == null) css_urls = [];\n",
       "    if (js_urls == null) js_urls = [];\n",
       "\n",
       "    root._bokeh_onload_callbacks.push(callback);\n",
       "    if (root._bokeh_is_loading > 0) {\n",
       "      console.debug(\"Bokeh: BokehJS is being loaded, scheduling callback at\", now());\n",
       "      return null;\n",
       "    }\n",
       "    if (js_urls == null || js_urls.length === 0) {\n",
       "      run_callbacks();\n",
       "      return null;\n",
       "    }\n",
       "    console.debug(\"Bokeh: BokehJS not loaded, scheduling load and callback at\", now());\n",
       "    root._bokeh_is_loading = css_urls.length + js_urls.length;\n",
       "\n",
       "    function on_load() {\n",
       "      root._bokeh_is_loading--;\n",
       "      if (root._bokeh_is_loading === 0) {\n",
       "        console.debug(\"Bokeh: all BokehJS libraries/stylesheets loaded\");\n",
       "        run_callbacks()\n",
       "      }\n",
       "    }\n",
       "\n",
       "    function on_error() {\n",
       "      console.error(\"failed to load \" + url);\n",
       "    }\n",
       "\n",
       "    for (var i = 0; i < css_urls.length; i++) {\n",
       "      var url = css_urls[i];\n",
       "      const element = document.createElement(\"link\");\n",
       "      element.onload = on_load;\n",
       "      element.onerror = on_error;\n",
       "      element.rel = \"stylesheet\";\n",
       "      element.type = \"text/css\";\n",
       "      element.href = url;\n",
       "      console.debug(\"Bokeh: injecting link tag for BokehJS stylesheet: \", url);\n",
       "      document.body.appendChild(element);\n",
       "    }\n",
       "\n",
       "    for (var i = 0; i < js_urls.length; i++) {\n",
       "      var url = js_urls[i];\n",
       "      var element = document.createElement('script');\n",
       "      element.onload = on_load;\n",
       "      element.onerror = on_error;\n",
       "      element.async = false;\n",
       "      element.src = url;\n",
       "      \n",
       "      console.debug(\"Bokeh: injecting script tag for BokehJS library: \", url);\n",
       "      document.head.appendChild(element);\n",
       "    }\n",
       "  };var element = document.getElementById(\"1001\");\n",
       "  if (element == null) {\n",
       "    console.error(\"Bokeh: ERROR: autoload.js configured with elementid '1001' but no matching script tag was found. \")\n",
       "    return false;\n",
       "  }\n",
       "\n",
       "  function inject_raw_css(css) {\n",
       "    const element = document.createElement(\"style\");\n",
       "    element.appendChild(document.createTextNode(css));\n",
       "    document.body.appendChild(element);\n",
       "  }\n",
       "\n",
       "  \n",
       "  var js_urls = [\"https://cdn.bokeh.org/bokeh/release/bokeh-2.0.0.min.js\", \"https://cdn.bokeh.org/bokeh/release/bokeh-widgets-2.0.0.min.js\", \"https://cdn.bokeh.org/bokeh/release/bokeh-tables-2.0.0.min.js\", \"https://cdn.bokeh.org/bokeh/release/bokeh-gl-2.0.0.min.js\"];\n",
       "  var css_urls = [];\n",
       "  \n",
       "\n",
       "  var inline_js = [\n",
       "    function(Bokeh) {\n",
       "      Bokeh.set_log_level(\"info\");\n",
       "    },\n",
       "    function(Bokeh) {\n",
       "    \n",
       "    \n",
       "    }\n",
       "  ];\n",
       "\n",
       "  function run_inline_js() {\n",
       "    \n",
       "    if (root.Bokeh !== undefined || force === true) {\n",
       "      \n",
       "    for (var i = 0; i < inline_js.length; i++) {\n",
       "      inline_js[i].call(root, root.Bokeh);\n",
       "    }\n",
       "    if (force === true) {\n",
       "        display_loaded();\n",
       "      }} else if (Date.now() < root._bokeh_timeout) {\n",
       "      setTimeout(run_inline_js, 100);\n",
       "    } else if (!root._bokeh_failed_load) {\n",
       "      console.log(\"Bokeh: BokehJS failed to load within specified timeout.\");\n",
       "      root._bokeh_failed_load = true;\n",
       "    } else if (force !== true) {\n",
       "      var cell = $(document.getElementById(\"1001\")).parents('.cell').data().cell;\n",
       "      cell.output_area.append_execute_result(NB_LOAD_WARNING)\n",
       "    }\n",
       "\n",
       "  }\n",
       "\n",
       "  if (root._bokeh_is_loading === 0) {\n",
       "    console.debug(\"Bokeh: BokehJS loaded, going straight to plotting\");\n",
       "    run_inline_js();\n",
       "  } else {\n",
       "    load_libs(css_urls, js_urls, function() {\n",
       "      console.debug(\"Bokeh: BokehJS plotting callback run at\", now());\n",
       "      run_inline_js();\n",
       "    });\n",
       "  }\n",
       "}(window));"
      ],
      "application/vnd.bokehjs_load.v0+json": "\n(function(root) {\n  function now() {\n    return new Date();\n  }\n\n  var force = true;\n\n  if (typeof root._bokeh_onload_callbacks === \"undefined\" || force === true) {\n    root._bokeh_onload_callbacks = [];\n    root._bokeh_is_loading = undefined;\n  }\n\n  \n\n  \n  if (typeof (root._bokeh_timeout) === \"undefined\" || force === true) {\n    root._bokeh_timeout = Date.now() + 5000;\n    root._bokeh_failed_load = false;\n  }\n\n  var NB_LOAD_WARNING = {'data': {'text/html':\n     \"<div style='background-color: #fdd'>\\n\"+\n     \"<p>\\n\"+\n     \"BokehJS does not appear to have successfully loaded. If loading BokehJS from CDN, this \\n\"+\n     \"may be due to a slow or bad network connection. Possible fixes:\\n\"+\n     \"</p>\\n\"+\n     \"<ul>\\n\"+\n     \"<li>re-rerun `output_notebook()` to attempt to load from CDN again, or</li>\\n\"+\n     \"<li>use INLINE resources instead, as so:</li>\\n\"+\n     \"</ul>\\n\"+\n     \"<code>\\n\"+\n     \"from bokeh.resources import INLINE\\n\"+\n     \"output_notebook(resources=INLINE)\\n\"+\n     \"</code>\\n\"+\n     \"</div>\"}};\n\n  function display_loaded() {\n    var el = document.getElementById(\"1001\");\n    if (el != null) {\n      el.textContent = \"BokehJS is loading...\";\n    }\n    if (root.Bokeh !== undefined) {\n      if (el != null) {\n        el.textContent = \"BokehJS \" + root.Bokeh.version + \" successfully loaded.\";\n      }\n    } else if (Date.now() < root._bokeh_timeout) {\n      setTimeout(display_loaded, 100)\n    }\n  }\n\n\n  function run_callbacks() {\n    try {\n      root._bokeh_onload_callbacks.forEach(function(callback) {\n        if (callback != null)\n          callback();\n      });\n    } finally {\n      delete root._bokeh_onload_callbacks\n    }\n    console.debug(\"Bokeh: all callbacks have finished\");\n  }\n\n  function load_libs(css_urls, js_urls, callback) {\n    if (css_urls == null) css_urls = [];\n    if (js_urls == null) js_urls = [];\n\n    root._bokeh_onload_callbacks.push(callback);\n    if (root._bokeh_is_loading > 0) {\n      console.debug(\"Bokeh: BokehJS is being loaded, scheduling callback at\", now());\n      return null;\n    }\n    if (js_urls == null || js_urls.length === 0) {\n      run_callbacks();\n      return null;\n    }\n    console.debug(\"Bokeh: BokehJS not loaded, scheduling load and callback at\", now());\n    root._bokeh_is_loading = css_urls.length + js_urls.length;\n\n    function on_load() {\n      root._bokeh_is_loading--;\n      if (root._bokeh_is_loading === 0) {\n        console.debug(\"Bokeh: all BokehJS libraries/stylesheets loaded\");\n        run_callbacks()\n      }\n    }\n\n    function on_error() {\n      console.error(\"failed to load \" + url);\n    }\n\n    for (var i = 0; i < css_urls.length; i++) {\n      var url = css_urls[i];\n      const element = document.createElement(\"link\");\n      element.onload = on_load;\n      element.onerror = on_error;\n      element.rel = \"stylesheet\";\n      element.type = \"text/css\";\n      element.href = url;\n      console.debug(\"Bokeh: injecting link tag for BokehJS stylesheet: \", url);\n      document.body.appendChild(element);\n    }\n\n    for (var i = 0; i < js_urls.length; i++) {\n      var url = js_urls[i];\n      var element = document.createElement('script');\n      element.onload = on_load;\n      element.onerror = on_error;\n      element.async = false;\n      element.src = url;\n      \n      console.debug(\"Bokeh: injecting script tag for BokehJS library: \", url);\n      document.head.appendChild(element);\n    }\n  };var element = document.getElementById(\"1001\");\n  if (element == null) {\n    console.error(\"Bokeh: ERROR: autoload.js configured with elementid '1001' but no matching script tag was found. \")\n    return false;\n  }\n\n  function inject_raw_css(css) {\n    const element = document.createElement(\"style\");\n    element.appendChild(document.createTextNode(css));\n    document.body.appendChild(element);\n  }\n\n  \n  var js_urls = [\"https://cdn.bokeh.org/bokeh/release/bokeh-2.0.0.min.js\", \"https://cdn.bokeh.org/bokeh/release/bokeh-widgets-2.0.0.min.js\", \"https://cdn.bokeh.org/bokeh/release/bokeh-tables-2.0.0.min.js\", \"https://cdn.bokeh.org/bokeh/release/bokeh-gl-2.0.0.min.js\"];\n  var css_urls = [];\n  \n\n  var inline_js = [\n    function(Bokeh) {\n      Bokeh.set_log_level(\"info\");\n    },\n    function(Bokeh) {\n    \n    \n    }\n  ];\n\n  function run_inline_js() {\n    \n    if (root.Bokeh !== undefined || force === true) {\n      \n    for (var i = 0; i < inline_js.length; i++) {\n      inline_js[i].call(root, root.Bokeh);\n    }\n    if (force === true) {\n        display_loaded();\n      }} else if (Date.now() < root._bokeh_timeout) {\n      setTimeout(run_inline_js, 100);\n    } else if (!root._bokeh_failed_load) {\n      console.log(\"Bokeh: BokehJS failed to load within specified timeout.\");\n      root._bokeh_failed_load = true;\n    } else if (force !== true) {\n      var cell = $(document.getElementById(\"1001\")).parents('.cell').data().cell;\n      cell.output_area.append_execute_result(NB_LOAD_WARNING)\n    }\n\n  }\n\n  if (root._bokeh_is_loading === 0) {\n    console.debug(\"Bokeh: BokehJS loaded, going straight to plotting\");\n    run_inline_js();\n  } else {\n    load_libs(css_urls, js_urls, function() {\n      console.debug(\"Bokeh: BokehJS plotting callback run at\", now());\n      run_inline_js();\n    });\n  }\n}(window));"
     },
     "metadata": {},
     "output_type": "display_data"
    }
   ],
   "source": [
    "import ross as rs\n",
    "import ross.stochastic as srs\n",
    "from bokeh.io import output_notebook, show\n",
    "import numpy as np\n",
    "\n",
    "output_notebook()"
   ]
  },
  {
   "cell_type": "markdown",
   "metadata": {},
   "source": [
    "## Random Sampling\n",
    "\n",
    "Arrays of random numbers can be creating using [`numpy.random`](https://docs.scipy.org/doc/numpy-1.14.0/reference/routines.random.html) package.\n",
    "\n",
    "`numpy.random` has a large set of distributions that cover most of our needs to run STOCHASTIC ROSS.\n",
    "In this [LINK](https://docs.scipy.org/doc/numpy-1.14.0/reference/routines.random.html) you can find a list of numpy random numbers generators.\n",
    "\n",
    "When using STOCHASTIC ROSS, **all the randam variables must have the same size**."
   ]
  },
  {
   "cell_type": "markdown",
   "metadata": {},
   "source": [
    "## Classes Name\n",
    "\n",
    "It's important to highlight that in STOCHASTIC ROSS, the classes name are the same than ROSS, but with a \"**ST_**\" prefix to differ."
   ]
  },
  {
   "cell_type": "markdown",
   "metadata": {},
   "source": [
    "## ST_Material\n",
    "\n",
    "There is a class called ST_Material to hold material's properties, where:\n",
    "\n",
    "`ST_Material` allows you to create a material with random properties. It creates an object containing a generator with random instances of [`rs.Material`](https://ross-rotordynamics.github.io/ross-website/generated/material/ross.Material.html#ross.Material).\n",
    "\n",
    "The instantiation is the same than `rs.Material` class. It has the same parameters and assumptions. The only difference is that you are able to select some parameters to consider as random and instantiate it as a list.\n",
    "\n",
    "The parameters which can be passed as random are:\n",
    "- `rho` - Density\n",
    "- `E` - Young's modulus\n",
    "- `G_s` - Shear modulus\n",
    "- `Poisson` - Poisson ratio"
   ]
  },
  {
   "cell_type": "markdown",
   "metadata": {},
   "source": [
    "```text\n",
    "name : str\n",
    "    Material name.\n",
    "rho : float, list, pint.Quantity\n",
    "    Density (kg/m**3).\n",
    "    Input a list to make it random.\n",
    "E : float, list, pint.Quantity\n",
    "    Young's modulus (N/m**2).\n",
    "    Input a list to make it random.\n",
    "G_s : float, list\n",
    "    Shear modulus (N/m**2).\n",
    "    Input a list to make it random.\n",
    "Poisson : float, list\n",
    "    Poisson ratio (dimensionless).\n",
    "    Input a list to make it random.\n",
    "color : str\n",
    "    Can be used on plots.\n",
    "```"
   ]
  },
  {
   "cell_type": "markdown",
   "metadata": {},
   "source": [
    "Note that, to instantiate a ST_Material class, you only need to give 2 out of the following parameters: `E`, `G_s` ,`Poisson`.\n",
    "\n",
    "Let's consider that the Young's Modulus is a random variable the follows a uniform distribution from $208e9$ to $211e9$ $N/m^2$."
   ]
  },
  {
   "cell_type": "code",
   "execution_count": 2,
   "metadata": {},
   "outputs": [
    {
     "name": "stdout",
     "output_type": "stream",
     "text": [
      "[2.10607544e+11 2.10187885e+11 2.10878153e+11 2.10901796e+11\n",
      " 2.09693088e+11]\n"
     ]
    }
   ],
   "source": [
    "var_size = 5\n",
    "E = np.random.uniform(208e9, 211e9, var_size)\n",
    "rand_mat = srs.ST_Material(name=\"Steel\", rho=7810, E=E, G_s=81.2e9)\n",
    "\n",
    "# Random values for Young's Modulus\n",
    "print(rand_mat.E)"
   ]
  },
  {
   "cell_type": "markdown",
   "metadata": {},
   "source": [
    "You can return the random Materials created using the following command:\n",
    "`.__iter__()`\n",
    "It returns a generator with the random objects. It consumes less computational memory and runs loops faster."
   ]
  },
  {
   "cell_type": "code",
   "execution_count": 3,
   "metadata": {},
   "outputs": [
    {
     "data": {
      "text/plain": [
       "[Material(name=\"Steel\", rho=7.81000e+03, G_s=8.12000e+10, E=2.10608e+11, color='#525252'),\n",
       " Material(name=\"Steel\", rho=7.81000e+03, G_s=8.12000e+10, E=2.10188e+11, color='#525252'),\n",
       " Material(name=\"Steel\", rho=7.81000e+03, G_s=8.12000e+10, E=2.10878e+11, color='#525252'),\n",
       " Material(name=\"Steel\", rho=7.81000e+03, G_s=8.12000e+10, E=2.10902e+11, color='#525252'),\n",
       " Material(name=\"Steel\", rho=7.81000e+03, G_s=8.12000e+10, E=2.09693e+11, color='#525252')]"
      ]
     },
     "execution_count": 3,
     "metadata": {},
     "output_type": "execute_result"
    }
   ],
   "source": [
    "list(rand_mat.__iter__())"
   ]
  },
  {
   "cell_type": "markdown",
   "metadata": {},
   "source": [
    "You can pass one or all parameters as random (but remember the rule of given only 2 out of `E`, `G_s` ,`Poisson`).\n",
    "\n",
    "Let's see another example considering all parameters as random."
   ]
  },
  {
   "cell_type": "code",
   "execution_count": 4,
   "metadata": {},
   "outputs": [
    {
     "data": {
      "text/plain": [
       "[Material(name=\"Steel\", rho=7.79950e+03, G_s=8.06095e+10, E=2.08860e+11, color='#525252'),\n",
       " Material(name=\"Steel\", rho=7.78138e+03, G_s=8.14704e+10, E=2.10672e+11, color='#525252'),\n",
       " Material(name=\"Steel\", rho=7.80211e+03, G_s=8.06219e+10, E=2.08804e+11, color='#525252'),\n",
       " Material(name=\"Steel\", rho=7.84357e+03, G_s=8.10678e+10, E=2.09074e+11, color='#525252'),\n",
       " Material(name=\"Steel\", rho=7.79006e+03, G_s=8.01316e+10, E=2.09037e+11, color='#525252')]"
      ]
     },
     "execution_count": 4,
     "metadata": {},
     "output_type": "execute_result"
    }
   ],
   "source": [
    "var_size = 5\n",
    "E = np.random.uniform(208e9, 211e9, var_size)\n",
    "rho = np.random.uniform(7780, 7850, var_size)\n",
    "G_s = np.random.uniform(79.8e9, 81.5e9, var_size)\n",
    "rand_mat = srs.ST_Material(name=\"Steel\", rho=rho, E=E, G_s=G_s)\n",
    "\n",
    "list(rand_mat.__iter__())"
   ]
  },
  {
   "cell_type": "markdown",
   "metadata": {},
   "source": [
    "## ST_ShaftElement\n",
    "\n",
    "`ST_ShaftElement` allows you to create random shaft element. It creates an object containing a generator with random instances of `ShaftElement`.\n",
    "\n",
    "The instantiation is the same than [`rs.ShaftElement`](https://ross-rotordynamics.github.io/ross-website/generated/elements/ross.ShaftElement.html#ross.ShaftElement) class. It has the same parameters and the same beam model and assumptions. The only difference is that you are able to select some parameters to consider as random and instantiate it as a list.\n",
    "\n",
    "The parameters which can be passed as random are:\n",
    "- `L` - Length\n",
    "- `idl` - Inner diameter of the element at the left position\n",
    "- `odl` - Outer diameter of the element at the left position\n",
    "- `idr` - Inner diameter of the element at the right position\n",
    "- `odr` - Outer diameter of the element at the right position.\n",
    "- `material` - Shaft material\n",
    "\n",
    "The selected parameters must be appended to `is_random` list as string.\n",
    "\n",
    "You can return the random shaft element created using the following command:\n",
    "`.__iter__()`."
   ]
  },
  {
   "cell_type": "markdown",
   "metadata": {},
   "source": [
    "```text\n",
    "L : float, pint.Quantity, list\n",
    "    Element length.\n",
    "    Input a list to make it random.\n",
    "idl : float, pint.Quantity, list\n",
    "    Inner diameter of the element at the left position.\n",
    "    Input a list to make it random.\n",
    "odl : float, pint.Quantity, list\n",
    "    Outer diameter of the element at the left position.\n",
    "    Input a list to make it random.\n",
    "idr : float, pint.Quantity, list, optional\n",
    "    Inner diameter of the element at the right position\n",
    "    Default is equal to idl value (cylindrical element)\n",
    "    Input a list to make it random.\n",
    "odr : float, pint.Quantity, list, optional\n",
    "    Outer diameter of the element at the right position.\n",
    "    Default is equal to odl value (cylindrical element)\n",
    "    Input a list to make it random.\n",
    "material : ross.material, list of ross.material\n",
    "    Shaft material.\n",
    "    Input a list to make it random.\n",
    "n : int, optional\n",
    "    Element number (coincident with it's first node).\n",
    "    If not given, it will be set when the rotor is assembled\n",
    "    according to the element's position in the list supplied to\n",
    "shear_effects : bool, optional\n",
    "    Determine if shear effects are taken into account.\n",
    "    Default is True.\n",
    "rotary_inertia : bool, optional\n",
    "    Determine if rotary_inertia effects are taken into account.\n",
    "    Default is True.\n",
    "gyroscopic : bool, optional\n",
    "    Determine if gyroscopic effects are taken into account.\n",
    "    Default is True.\n",
    "shear_method_calc : str, optional\n",
    "    Determines which shear calculation method the user will adopt.\n",
    "    Default is 'cowper'\n",
    "is_random : list\n",
    "    List of the object attributes to become random.\n",
    "    Possibilities:\n",
    "        [\"L\", \"idl\", \"odl\", \"idr\", \"odr\", \"material\"]\n",
    "```"
   ]
  },
  {
   "cell_type": "markdown",
   "metadata": {},
   "source": [
    "### Cylindrical shaft element with random outer diameter\n",
    "If you want to create a cylindrical element with random outer diameter, making sure both `odl` and `odr` are the same, input only `odl` parameter.\n",
    "\n",
    "The same logic is applied to inner diameter."
   ]
  },
  {
   "cell_type": "code",
   "execution_count": 5,
   "metadata": {},
   "outputs": [
    {
     "data": {
      "text/plain": [
       "[ShaftElement(L=0.25, idl=0.0, idr=0.0, odl=0.052823,  odr=0.052823, material='Steel', n=None),\n",
       " ShaftElement(L=0.25, idl=0.0, idr=0.0, odl=0.040779,  odr=0.040779, material='Steel', n=None),\n",
       " ShaftElement(L=0.25, idl=0.0, idr=0.0, odl=0.043602,  odr=0.043602, material='Steel', n=None),\n",
       " ShaftElement(L=0.25, idl=0.0, idr=0.0, odl=0.059894,  odr=0.059894, material='Steel', n=None),\n",
       " ShaftElement(L=0.25, idl=0.0, idr=0.0, odl=0.052015,  odr=0.052015, material='Steel', n=None)]"
      ]
     },
     "execution_count": 5,
     "metadata": {},
     "output_type": "execute_result"
    }
   ],
   "source": [
    "# Creating a cylindrical shaft element with random outer diameter and material.\n",
    "var_size = 5\n",
    "L = 0.25\n",
    "i_d = 0.0\n",
    "o_d = np.random.uniform(0.04, 0.06, var_size)\n",
    "is_random = [\"odl\", \"material\"]\n",
    "\n",
    "r_s0 = srs.ST_ShaftElement(\n",
    "    L=L,\n",
    "    idl=i_d,\n",
    "    odl=o_d,\n",
    "    material=rand_mat,\n",
    "    shear_effects=True,\n",
    "    rotary_inertia=True,\n",
    "    gyroscopic=True,\n",
    "    is_random=is_random,\n",
    ")\n",
    "list(r_s0.__iter__())"
   ]
  },
  {
   "cell_type": "markdown",
   "metadata": {},
   "source": [
    "### Conical shaft element with random outer diameter\n",
    "If you want to create a conical element with random outer diameter, input lists for `odl` ans `odr` parameters."
   ]
  },
  {
   "cell_type": "code",
   "execution_count": 6,
   "metadata": {},
   "outputs": [
    {
     "data": {
      "text/plain": [
       "[ShaftElement(L=0.25, idl=0.0, idr=0.0, odl=0.043091,  odr=0.06266, material='Steel', n=None),\n",
       " ShaftElement(L=0.25, idl=0.0, idr=0.0, odl=0.057763,  odr=0.062411, material='Steel', n=None),\n",
       " ShaftElement(L=0.25, idl=0.0, idr=0.0, odl=0.050922,  odr=0.06203, material='Steel', n=None),\n",
       " ShaftElement(L=0.25, idl=0.0, idr=0.0, odl=0.050134,  odr=0.062758, material='Steel', n=None),\n",
       " ShaftElement(L=0.25, idl=0.0, idr=0.0, odl=0.051719,  odr=0.06511, material='Steel', n=None)]"
      ]
     },
     "execution_count": 6,
     "metadata": {},
     "output_type": "execute_result"
    }
   ],
   "source": [
    "# Creating a conical shaft element with random outer diameter and material.\n",
    "var_size = 5\n",
    "L = 0.25\n",
    "idl = 0.0\n",
    "idr = 0.0\n",
    "odl = np.random.uniform(0.04, 0.06, var_size)\n",
    "odr = np.random.uniform(0.06, 0.07, var_size)\n",
    "is_random = [\"odl\", \"odr\", \"material\"]\n",
    "\n",
    "r_s1 = srs.ST_ShaftElement(\n",
    "    L=L,\n",
    "    idl=idl,\n",
    "    odl=odl,\n",
    "    idr=idr,\n",
    "    odr=odr,\n",
    "    material=rand_mat,\n",
    "    shear_effects=True,\n",
    "    rotary_inertia=True,\n",
    "    gyroscopic=True,\n",
    "    is_random=is_random,\n",
    ")\n",
    "list(r_s1.__iter__())"
   ]
  },
  {
   "cell_type": "markdown",
   "metadata": {},
   "source": [
    "### Creating a list of shaft elements\n",
    "\n",
    "Let's see 2 examples of building rotor shafts:\n",
    "- a shaft with 5 shaft elements considered random\n",
    "```\n",
    "shaft_elements = [\n",
    "    ST_ShaftElement,\n",
    "    ST_ShaftElement,\n",
    "    ST_ShaftElement,\n",
    "    ST_ShaftElement,\n",
    "    ST_ShaftElement,\n",
    "]\n",
    "```\n",
    "- a shaft with 5 elements, being only the 3rd element considered as random. So we want;\n",
    "```\n",
    "shaft_elements = [\n",
    "    ShaftElement,\n",
    "    ShaftElement,\n",
    "    ST_ShaftElement,\n",
    "    ShaftElement,\n",
    "    ShaftElement,\n",
    "]\n",
    "```\n",
    "\n",
    "First we create the deterministic shaft elements."
   ]
  },
  {
   "cell_type": "code",
   "execution_count": 7,
   "metadata": {},
   "outputs": [
    {
     "name": "stdout",
     "output_type": "stream",
     "text": [
      "Element 0\n",
      "[ShaftElement(L=0.25, idl=0.0, idr=0.0, odl=0.051009,  odr=0.051009, material='Steel', n=None), ShaftElement(L=0.25, idl=0.0, idr=0.0, odl=0.042486,  odr=0.042486, material='Steel', n=None), ShaftElement(L=0.25, idl=0.0, idr=0.0, odl=0.051592,  odr=0.051592, material='Steel', n=None), ShaftElement(L=0.25, idl=0.0, idr=0.0, odl=0.041415,  odr=0.041415, material='Steel', n=None), ShaftElement(L=0.25, idl=0.0, idr=0.0, odl=0.044239,  odr=0.044239, material='Steel', n=None)]\n",
      "Element 1\n",
      "[ShaftElement(L=0.25, idl=0.0, idr=0.0, odl=0.04943,  odr=0.04943, material='Steel', n=None), ShaftElement(L=0.25, idl=0.0, idr=0.0, odl=0.049317,  odr=0.049317, material='Steel', n=None), ShaftElement(L=0.25, idl=0.0, idr=0.0, odl=0.055273,  odr=0.055273, material='Steel', n=None), ShaftElement(L=0.25, idl=0.0, idr=0.0, odl=0.056038,  odr=0.056038, material='Steel', n=None), ShaftElement(L=0.25, idl=0.0, idr=0.0, odl=0.046424,  odr=0.046424, material='Steel', n=None)]\n",
      "Element 2\n",
      "[ShaftElement(L=0.25, idl=0.0, idr=0.0, odl=0.050348,  odr=0.050348, material='Steel', n=None), ShaftElement(L=0.25, idl=0.0, idr=0.0, odl=0.059248,  odr=0.059248, material='Steel', n=None), ShaftElement(L=0.25, idl=0.0, idr=0.0, odl=0.040816,  odr=0.040816, material='Steel', n=None), ShaftElement(L=0.25, idl=0.0, idr=0.0, odl=0.05692,  odr=0.05692, material='Steel', n=None), ShaftElement(L=0.25, idl=0.0, idr=0.0, odl=0.057259,  odr=0.057259, material='Steel', n=None)]\n",
      "Element 3\n",
      "[ShaftElement(L=0.25, idl=0.0, idr=0.0, odl=0.049212,  odr=0.049212, material='Steel', n=None), ShaftElement(L=0.25, idl=0.0, idr=0.0, odl=0.043246,  odr=0.043246, material='Steel', n=None), ShaftElement(L=0.25, idl=0.0, idr=0.0, odl=0.042171,  odr=0.042171, material='Steel', n=None), ShaftElement(L=0.25, idl=0.0, idr=0.0, odl=0.044425,  odr=0.044425, material='Steel', n=None), ShaftElement(L=0.25, idl=0.0, idr=0.0, odl=0.042306,  odr=0.042306, material='Steel', n=None)]\n",
      "Element 4\n",
      "[ShaftElement(L=0.25, idl=0.0, idr=0.0, odl=0.047735,  odr=0.047735, material='Steel', n=None), ShaftElement(L=0.25, idl=0.0, idr=0.0, odl=0.041021,  odr=0.041021, material='Steel', n=None), ShaftElement(L=0.25, idl=0.0, idr=0.0, odl=0.043774,  odr=0.043774, material='Steel', n=None), ShaftElement(L=0.25, idl=0.0, idr=0.0, odl=0.053297,  odr=0.053297, material='Steel', n=None), ShaftElement(L=0.25, idl=0.0, idr=0.0, odl=0.055231,  odr=0.055231, material='Steel', n=None)]\n"
     ]
    }
   ],
   "source": [
    "################ EXAMPLE 1 #################\n",
    "\n",
    "# Creating 5 random shaft elements\n",
    "from ross.materials import steel\n",
    "L = 0.25\n",
    "N = 5       # Number of elements\n",
    "l_list = [L for _ in range(N)]\n",
    "shaft_elements = [\n",
    "    srs.ST_ShaftElement(\n",
    "        L=l,\n",
    "        idl=0.0,\n",
    "        odl=np.random.uniform(0.04, 0.06, var_size),\n",
    "        material=steel,\n",
    "        shear_effects=True,\n",
    "        rotary_inertia=True,\n",
    "        gyroscopic=True,\n",
    "        is_random=[\"odl\"],\n",
    "    )\n",
    "    for l in l_list\n",
    "]\n",
    "\n",
    "# printing\n",
    "for i in range(N):\n",
    "    print(\"Element\", i)\n",
    "    print(list(shaft_elements[i].__iter__()))"
   ]
  },
  {
   "cell_type": "code",
   "execution_count": 8,
   "metadata": {},
   "outputs": [
    {
     "data": {
      "text/plain": [
       "[ShaftElement(L=0.25, idl=0.0, idr=0.0, odl=0.05,  odr=0.05, material='Steel', n=None),\n",
       " ShaftElement(L=0.25, idl=0.0, idr=0.0, odl=0.05,  odr=0.05, material='Steel', n=None),\n",
       " <ross.stochastic.st_shaft_element.ST_ShaftElement at 0x2aeb038bf08>,\n",
       " ShaftElement(L=0.25, idl=0.0, idr=0.0, odl=0.05,  odr=0.05, material='Steel', n=None),\n",
       " ShaftElement(L=0.25, idl=0.0, idr=0.0, odl=0.05,  odr=0.05, material='Steel', n=None)]"
      ]
     },
     "execution_count": 8,
     "metadata": {},
     "output_type": "execute_result"
    }
   ],
   "source": [
    "################ EXAMPLE 2 #################\n",
    "\n",
    "# Creating shaft elements\n",
    "from ross.materials import steel\n",
    "L = 0.25\n",
    "i_d = 0.0\n",
    "o_d = 0.05\n",
    "N = 4       # Number of elements\n",
    "l_list = [L for _ in range(N)]\n",
    "shaft_elements = [\n",
    "    rs.ShaftElement(\n",
    "        L=l,\n",
    "        idl=i_d,\n",
    "        odl=o_d,\n",
    "        material=steel,\n",
    "        shear_effects=True,\n",
    "        rotary_inertia=True,\n",
    "        gyroscopic=True,\n",
    "    )\n",
    "    for l in l_list\n",
    "]\n",
    "shaft_elements\n",
    "\n",
    "# Adding the random shaft element instance to the list\n",
    "shaft_elements.insert(2, r_s0)\n",
    "shaft_elements"
   ]
  },
  {
   "cell_type": "markdown",
   "metadata": {},
   "source": [
    "## ST_DiskElement\n",
    "\n",
    "This class represents a random Disk element.\n",
    "\n",
    "`ST_DiskElement` allows you to create random disk element. It creates an object containing a generator with random instances of [`rs.DiskElement`](https://ross-rotordynamics.github.io/ross-website/generated/elements/ross.DiskElement.html#ross.DiskElement).\n",
    "\n",
    "The instantiation is the same than `DiskElement` class. It has the same parameters and assumptions. The only difference is that you are able to select some parameters to consider as random and instantiate it as a list.\n",
    "\n",
    "The parameters which can be passed as random are:\n",
    "- `m` - mass\n",
    "- `Id` - Diametral moment of inertia.\n",
    "- `Ip` - Polar moment of inertia\n",
    "\n",
    "The selected parameters must be appended to `is_random` list as string.\n",
    "\n",
    "You can return the random disk element created using the following command:\n",
    "`.__iter__()`."
   ]
  },
  {
   "cell_type": "markdown",
   "metadata": {},
   "source": [
    "```text\n",
    "n: int\n",
    "    Node in which the disk will be inserted.\n",
    "m : float, list\n",
    "    Mass of the disk element.\n",
    "    Input a list to make it random.\n",
    "Id : float, list\n",
    "    Diametral moment of inertia.\n",
    "    Input a list to make it random.\n",
    "Ip : float, list\n",
    "    Polar moment of inertia\n",
    "    Input a list to make it random.\n",
    "tag : str, optional\n",
    "    A tag to name the element\n",
    "    Default is None\n",
    "color : str, optional\n",
    "    A color to be used when the element is represented.\n",
    "    Default is '#b2182b' (Cardinal).\n",
    "is_random : list\n",
    "    List of the object attributes to become random.\n",
    "    Possibilities:\n",
    "        [\"m\", \"Id\", \"Ip\"]\n",
    "```    "
   ]
  },
  {
   "cell_type": "markdown",
   "metadata": {},
   "source": [
    "All the values are following the S.I. convention for the units.  "
   ]
  },
  {
   "cell_type": "code",
   "execution_count": 9,
   "metadata": {},
   "outputs": [
    {
     "data": {
      "text/plain": [
       "[DiskElement(Id=0.17306, Ip=0.32391, m=32.553, color='#b2182b', n=2, tag=None),\n",
       " DiskElement(Id=0.17582, Ip=0.32874, m=32.529, color='#b2182b', n=2, tag=None),\n",
       " DiskElement(Id=0.171, Ip=0.32333, m=32.555, color='#b2182b', n=2, tag=None),\n",
       " DiskElement(Id=0.17373, Ip=0.32877, m=32.818, color='#b2182b', n=2, tag=None),\n",
       " DiskElement(Id=0.17204, Ip=0.32505, m=32.596, color='#b2182b', n=2, tag=None)]"
      ]
     },
     "execution_count": 9,
     "metadata": {},
     "output_type": "execute_result"
    }
   ],
   "source": [
    "m = np.random.uniform(32.0, 33.0, var_size)\n",
    "Id = np.random.uniform(0.17, 0.18, var_size)\n",
    "Ip = np.random.uniform(0.32, 0.33, var_size)\n",
    "is_random = [\"m\", \"Id\", \"Ip\"]\n",
    "\n",
    "disk0 = srs.ST_DiskElement(n=2, m=m, Id=Id, Ip=Ip, is_random=is_random)\n",
    "list(disk0.__iter__())"
   ]
  },
  {
   "cell_type": "markdown",
   "metadata": {},
   "source": [
    "### From geometry DiskElement instantiation\n",
    "\n",
    "Besides the instantiation previously explained, there is a way to instantiate a ST_DiskElement with only geometrical parameters (for cylindrical disks) and the disk’s material, as we can see in the following code.\n",
    "\n",
    "Use the classmethod `ST_DiskElement.from_geometry`."
   ]
  },
  {
   "cell_type": "markdown",
   "metadata": {},
   "source": [
    "```text\n",
    "n: int\n",
    "    Node in which the disk will be inserted.\n",
    "material: ross.Material, list of ross.Material\n",
    "    Disk material.\n",
    "    Input a list to make it random.\n",
    "width: float, list\n",
    "    The disk width.\n",
    "    Input a list to make it random.\n",
    "i_d: float, list\n",
    "    Inner diameter.\n",
    "    Input a list to make it random.\n",
    "o_d: float, list\n",
    "    Outer diameter.\n",
    "    Input a list to make it random.\n",
    "tag : str, optional\n",
    "    A tag to name the element\n",
    "    Default is None\n",
    "is_random : list\n",
    "    List of the object attributes to become random.\n",
    "    Possibilities:\n",
    "        [\"material\", \"width\", \"i_d\", \"o_d\"]\n",
    "```"
   ]
  },
  {
   "cell_type": "code",
   "execution_count": 10,
   "metadata": {},
   "outputs": [
    {
     "data": {
      "text/plain": [
       "[DiskElement(Id=0.50538, Ip=0.96467, m=56.43, color='#b2182b', n=3, tag=None),\n",
       " DiskElement(Id=0.52021, Ip=0.9939, m=56.952, color='#b2182b', n=3, tag=None),\n",
       " DiskElement(Id=0.64174, Ip=1.2313, m=63.896, color='#b2182b', n=3, tag=None),\n",
       " DiskElement(Id=0.44159, Ip=0.8402, m=52.629, color='#b2182b', n=3, tag=None),\n",
       " DiskElement(Id=0.4996, Ip=0.95362, m=55.805, color='#b2182b', n=3, tag=None)]"
      ]
     },
     "execution_count": 10,
     "metadata": {},
     "output_type": "execute_result"
    }
   ],
   "source": [
    "i_d = np.random.uniform(0.05, 0.06, var_size)\n",
    "o_d = np.random.uniform(0.35, 0.39, var_size)\n",
    "disk1 = srs.ST_DiskElement.from_geometry(n=3,\n",
    "                                         material=steel,\n",
    "                                         width=0.07,\n",
    "                                         i_d=i_d,\n",
    "                                         o_d=o_d,\n",
    "                                         is_random=[\"i_d\", \"o_d\"],\n",
    "                                         )\n",
    "list(disk1.__iter__())"
   ]
  },
  {
   "cell_type": "markdown",
   "metadata": {},
   "source": [
    "## ST_BearingElement\n",
    "\n",
    "This class represents a random bearing element.\n",
    "\n",
    "`ST_BearingElement` allows you to create random disk element. It creates an object containing a generator with random instances of [`rs.BearingElement`](https://ross-rotordynamics.github.io/ross-website/generated/elements/ross.BearingElement.html#ross.BearingElement).\n",
    "\n",
    "The instantiation is the same than `BearingElement` class. It has the same parameters and assumptions. The only difference is that you are able to select some parameters to consider as random and instantiate it as a list.\n",
    "\n",
    "If you're considering constant coefficients, use an 1-D array to make it random.\n",
    "If you're considering varying coefficients to the frequency, use a 2-D array to make it random\n",
    "\n",
    "The parameters which can be passed as random are:\n",
    "- `kxx` - Direct stiffness in the x direction.\n",
    "- `cxx` - Direct damping in the x direction.\n",
    "- `kyy` - Direct stiffness in the y direction.\n",
    "- `cyy` - Direct damping in the y direction.\n",
    "- `kxy` - Cross coupled stiffness in the x direction.\n",
    "- `cxy` - Cross coupled damping in the x direction.\n",
    "- `kyx` - Cross coupled stiffness in the y direction.\n",
    "- `cyx` - Cross coupled damping in the y direction.\n",
    "\n",
    "The selected parameters must be appended to `is_random` list as string.\n",
    "\n",
    "You can return the random disk element created using the following command:\n",
    "`.__iter__()`."
   ]
  },
  {
   "cell_type": "markdown",
   "metadata": {},
   "source": [
    "```text\n",
    "n: int\n",
    "    Node which the bearing will be located in\n",
    "kxx: float, 1-D array, 2-D array\n",
    "    Direct stiffness in the x direction.\n",
    "cxx: float, 1-D array, 2-D array\n",
    "    Direct damping in the x direction.\n",
    "kyy: float, 1-D array, 2-D array, optional\n",
    "    Direct stiffness in the y direction.\n",
    "    (defaults to kxx)\n",
    "kxy: float, 1-D array, 2-D array, optional\n",
    "    Cross coupled stiffness in the x direction.\n",
    "    (defaults to 0)\n",
    "kyx: float, 1-D array, 2-D array, optional\n",
    "    Cross coupled stiffness in the y direction.\n",
    "    (defaults to 0)\n",
    "cyy: float, 1-D array, 2-D array, optional\n",
    "    Direct damping in the y direction.\n",
    "    (defaults to cxx)\n",
    "cxy: float, 1-D array, 2-D array, optional\n",
    "    Cross coupled damping in the x direction.\n",
    "    (defaults to 0)\n",
    "cyx: float, 1-D array, 2-D array, optional\n",
    "    Cross coupled damping in the y direction.\n",
    "    (defaults to 0)\n",
    "frequency: array, optional\n",
    "    Array with the frequencies (rad/s).\n",
    "tag: str, optional\n",
    "    A tag to name the element\n",
    "    Default is None.\n",
    "n_link: int, optional\n",
    "    Node to which the bearing will connect. If None the bearing is\n",
    "    connected to ground.\n",
    "    Default is None.\n",
    "scale_factor: float, optional\n",
    "    The scale factor is used to scale the bearing drawing.\n",
    "    Default is 1.\n",
    "is_random : list\n",
    "    List of the object attributes to become stochastic.\n",
    "    Possibilities:\n",
    "        [\"kxx\", \"kxy\", \"kyx\", \"kyy\", \"cxx\", \"cxy\", \"cyx\", \"cyy\"]\n",
    "```\n"
   ]
  },
  {
   "cell_type": "markdown",
   "metadata": {},
   "source": [
    "Bearing with random constant values for each coefficient:"
   ]
  },
  {
   "cell_type": "code",
   "execution_count": 11,
   "metadata": {},
   "outputs": [
    {
     "data": {
      "text/plain": [
       "[BearingElement(n=0, n_link=None,\n",
       "  kxx=['1.11e+06'], kxy=['0.00e+00'],\n",
       "  kyx=['0.00e+00'], kyy=['1.11e+06'],\n",
       "  cxx=['1.39e+03'], cxy=['0.00e+00'],\n",
       "  cyx=['0.00e+00'], cyy=['1.39e+03'],\n",
       "  frequency=nan, tag=None),\n",
       " BearingElement(n=0, n_link=None,\n",
       "  kxx=['1.48e+06'], kxy=['0.00e+00'],\n",
       "  kyx=['0.00e+00'], kyy=['1.48e+06'],\n",
       "  cxx=['1.48e+03'], cxy=['0.00e+00'],\n",
       "  cyx=['0.00e+00'], cyy=['1.48e+03'],\n",
       "  frequency=nan, tag=None),\n",
       " BearingElement(n=0, n_link=None,\n",
       "  kxx=['1.98e+06'], kxy=['0.00e+00'],\n",
       "  kyx=['0.00e+00'], kyy=['1.98e+06'],\n",
       "  cxx=['1.07e+03'], cxy=['0.00e+00'],\n",
       "  cyx=['0.00e+00'], cyy=['1.07e+03'],\n",
       "  frequency=nan, tag=None),\n",
       " BearingElement(n=0, n_link=None,\n",
       "  kxx=['1.97e+06'], kxy=['0.00e+00'],\n",
       "  kyx=['0.00e+00'], kyy=['1.97e+06'],\n",
       "  cxx=['1.18e+03'], cxy=['0.00e+00'],\n",
       "  cyx=['0.00e+00'], cyy=['1.18e+03'],\n",
       "  frequency=nan, tag=None),\n",
       " BearingElement(n=0, n_link=None,\n",
       "  kxx=['1.42e+06'], kxy=['0.00e+00'],\n",
       "  kyx=['0.00e+00'], kyy=['1.42e+06'],\n",
       "  cxx=['1.89e+03'], cxy=['0.00e+00'],\n",
       "  cyx=['0.00e+00'], cyy=['1.89e+03'],\n",
       "  frequency=nan, tag=None)]"
      ]
     },
     "execution_count": 11,
     "metadata": {},
     "output_type": "execute_result"
    }
   ],
   "source": [
    "# Building bearing elements and matching their coefficients.\n",
    "var_size = 5\n",
    "kxx = np.random.uniform(1e6, 2e6, var_size)\n",
    "cxx = np.random.uniform(1e3, 2e3, var_size)\n",
    "brg0 = srs.ST_BearingElement(n=0,\n",
    "                             kxx=kxx,\n",
    "                             cxx=cxx,\n",
    "                             is_random=[\"kxx\", \"cxx\"],\n",
    "                             )\n",
    "# set kxx and cxx again, if you want different coefficients for the next bearing\n",
    "# it will get new random values.\n",
    "# kxx = np.random.uniform(1e6, 2e6, var_size)\n",
    "# cxx = np.random.uniform(1e6, 2e6, var_size)\n",
    "brg1 = srs.ST_BearingElement(n=5,\n",
    "                             kxx=kxx,\n",
    "                             cxx=cxx,\n",
    "                             is_random=[\"kxx\", \"cxx\"],\n",
    "                             )\n",
    "list(brg0.__iter__())"
   ]
  },
  {
   "cell_type": "markdown",
   "metadata": {},
   "source": [
    "The coefficients could be an array with different values for different rotation speeds, in that case you only have to give a parameter 'frequency' which is a array with the same size as the coefficients array.\n",
    "\n",
    "To make it random, check the example below:"
   ]
  },
  {
   "cell_type": "code",
   "execution_count": 12,
   "metadata": {},
   "outputs": [
    {
     "data": {
      "text/plain": [
       "[BearingElement(n=1, n_link=None,\n",
       "  kxx=['1.07e+06', '2.64e+06'], kxy=['0.00e+00', '0.00e+00'],\n",
       "  kyx=['0.00e+00', '0.00e+00'], kyy=['1.07e+06', '2.64e+06'],\n",
       "  cxx=['1.80e+03', '2.86e+03'], cxy=['0.00e+00', '0.00e+00'],\n",
       "  cyx=['0.00e+00', '0.00e+00'], cyy=['1.80e+03', '2.86e+03'],\n",
       "  frequency=[500. 800.], tag=None),\n",
       " BearingElement(n=1, n_link=None,\n",
       "  kxx=['1.26e+06', '2.70e+06'], kxy=['0.00e+00', '0.00e+00'],\n",
       "  kyx=['0.00e+00', '0.00e+00'], kyy=['1.26e+06', '2.70e+06'],\n",
       "  cxx=['1.16e+03', '2.96e+03'], cxy=['0.00e+00', '0.00e+00'],\n",
       "  cyx=['0.00e+00', '0.00e+00'], cyy=['1.16e+03', '2.96e+03'],\n",
       "  frequency=[500. 800.], tag=None),\n",
       " BearingElement(n=1, n_link=None,\n",
       "  kxx=['1.78e+06', '2.89e+06'], kxy=['0.00e+00', '0.00e+00'],\n",
       "  kyx=['0.00e+00', '0.00e+00'], kyy=['1.78e+06', '2.89e+06'],\n",
       "  cxx=['1.80e+03', '2.64e+03'], cxy=['0.00e+00', '0.00e+00'],\n",
       "  cyx=['0.00e+00', '0.00e+00'], cyy=['1.80e+03', '2.64e+03'],\n",
       "  frequency=[500. 800.], tag=None),\n",
       " BearingElement(n=1, n_link=None,\n",
       "  kxx=['1.52e+06', '2.86e+06'], kxy=['0.00e+00', '0.00e+00'],\n",
       "  kyx=['0.00e+00', '0.00e+00'], kyy=['1.52e+06', '2.86e+06'],\n",
       "  cxx=['1.86e+03', '2.85e+03'], cxy=['0.00e+00', '0.00e+00'],\n",
       "  cyx=['0.00e+00', '0.00e+00'], cyy=['1.86e+03', '2.85e+03'],\n",
       "  frequency=[500. 800.], tag=None),\n",
       " BearingElement(n=1, n_link=None,\n",
       "  kxx=['1.60e+06', '2.70e+06'], kxy=['0.00e+00', '0.00e+00'],\n",
       "  kyx=['0.00e+00', '0.00e+00'], kyy=['1.60e+06', '2.70e+06'],\n",
       "  cxx=['1.64e+03', '2.10e+03'], cxy=['0.00e+00', '0.00e+00'],\n",
       "  cyx=['0.00e+00', '0.00e+00'], cyy=['1.64e+03', '2.10e+03'],\n",
       "  frequency=[500. 800.], tag=None)]"
      ]
     },
     "execution_count": 12,
     "metadata": {},
     "output_type": "execute_result"
    }
   ],
   "source": [
    "kxx = [np.random.uniform(1e6, 2e6, var_size),\n",
    "       np.random.uniform(2.3e6, 3.3e6, var_size)]\n",
    "cxx = [np.random.uniform(1e3, 2e3, var_size),\n",
    "       np.random.uniform(2.1e3, 3.1e3, var_size)]\n",
    "frequency = np.linspace(500, 800, len(kxx))\n",
    "brg2 = srs.ST_BearingElement(n=1,\n",
    "                             kxx=kxx,\n",
    "                             cxx=cxx,\n",
    "                             frequency=frequency,\n",
    "                             is_random=[\"kxx\", \"cxx\"],\n",
    "                             )\n",
    "list(brg2.__iter__())"
   ]
  },
  {
   "cell_type": "markdown",
   "metadata": {},
   "source": [
    "## ST_Rotor\n",
    "\n",
    "This class will create several instances of [`rs.Rotor`](https://ross-rotordynamics.github.io/ross-website/generated/results/ross.Rotor.html#ross.Rotor) class. The number of rotors to be created depends on the amount of random elements instantiated and theirs respective sizes.\n",
    "\n",
    "To use this class, you only have to give all the already instantiated elements in a list format, as it follows."
   ]
  },
  {
   "cell_type": "markdown",
   "metadata": {},
   "source": [
    "```text\n",
    "    shaft_elements : list\n",
    "        List with the shaft elements\n",
    "    disk_elements : list\n",
    "        List with the disk elements\n",
    "    bearing_seal_elements : list\n",
    "        List with the bearing elements\n",
    "    point_mass_elements: list\n",
    "        List with the point mass elements\n",
    "    sparse : bool, optional\n",
    "        If sparse, eigenvalues will be calculated with arpack.\n",
    "        Default is True.\n",
    "    n_eigen : int, optional\n",
    "        Number of eigenvalues calculated by arpack.\n",
    "        Default is 12.\n",
    "    tag : str\n",
    "        A tag for the rotor\n",
    "```\n",
    "\n",
    "It's important to notice the `n_eigen` parameter, which will determine how many eigenvalues will be calculated by the other functions, then how many natural frequencies and mode shapes (always half the value of `n_eigen`) will be available to retrieve."
   ]
  },
  {
   "cell_type": "code",
   "execution_count": 13,
   "metadata": {},
   "outputs": [
    {
     "name": "stdout",
     "output_type": "stream",
     "text": [
      "[ShaftElement(L=0.25, idl=0.0, idr=0.0, odl=0.05,  odr=0.05, material='Steel', n=None), ShaftElement(L=0.25, idl=0.0, idr=0.0, odl=0.05,  odr=0.05, material='Steel', n=None), [ShaftElement(L=0.25, idl=0.0, idr=0.0, odl=0.052823,  odr=0.052823, material='Steel', n=None), ShaftElement(L=0.25, idl=0.0, idr=0.0, odl=0.040779,  odr=0.040779, material='Steel', n=None), ShaftElement(L=0.25, idl=0.0, idr=0.0, odl=0.043602,  odr=0.043602, material='Steel', n=None), ShaftElement(L=0.25, idl=0.0, idr=0.0, odl=0.059894,  odr=0.059894, material='Steel', n=None), ShaftElement(L=0.25, idl=0.0, idr=0.0, odl=0.052015,  odr=0.052015, material='Steel', n=None)], ShaftElement(L=0.25, idl=0.0, idr=0.0, odl=0.05,  odr=0.05, material='Steel', n=None), ShaftElement(L=0.25, idl=0.0, idr=0.0, odl=0.05,  odr=0.05, material='Steel', n=None)]\n"
     ]
    }
   ],
   "source": [
    "rotor1 = srs.ST_Rotor(\n",
    "    shaft_elements,\n",
    "    [disk0, disk1],\n",
    "    [brg0, brg1],\n",
    ")"
   ]
  },
  {
   "cell_type": "markdown",
   "metadata": {},
   "source": [
    "### Visualizing the Rotor\n",
    "\n",
    "It is interesting to plot the rotor to check if the geometry checks with what you wanted to model. Differently from ROSS `Rotor` class, the object here holds serveral instances of rotors. So, an index is needed to indicate which rotor to plot \n",
    "you can plot it with the following code.\n",
    "\n",
    "Note: You can choose plotting rotor with `plot_type='matplotlib` or `plot_type='bokeh'`. The default is the bokeh output."
   ]
  },
  {
   "cell_type": "code",
   "execution_count": 14,
   "metadata": {},
   "outputs": [
    {
     "data": {
      "text/html": [
       "\n",
       "\n",
       "\n",
       "\n",
       "\n",
       "\n",
       "  <div class=\"bk-root\" id=\"3c0b316c-51d7-40f4-b3a0-5a6480973e0e\" data-root-id=\"1002\"></div>\n"
      ]
     },
     "metadata": {},
     "output_type": "display_data"
    },
    {
     "data": {
      "application/javascript": [
       "(function(root) {\n",
       "  function embed_document(root) {\n",
       "    \n",
       "  var docs_json = {\"9a6ffe84-dcfe-43dd-bf51-cc0fdcbc8a63\":{\"roots\":{\"references\":[{\"attributes\":{\"below\":[{\"id\":\"1013\"}],\"center\":[{\"id\":\"1016\"},{\"id\":\"1020\"},{\"id\":\"1061\"}],\"left\":[{\"id\":\"1017\"}],\"match_aspect\":true,\"plot_width\":800,\"renderers\":[{\"id\":\"1033\"},{\"id\":\"1039\"},{\"id\":\"1042\"},{\"id\":\"1048\"},{\"id\":\"1066\"},{\"id\":\"1086\"},{\"id\":\"1104\"},{\"id\":\"1126\"},{\"id\":\"1146\"},{\"id\":\"1170\"},{\"id\":\"1192\"},{\"id\":\"1218\"},{\"id\":\"1242\"},{\"id\":\"1272\"},{\"id\":\"1299\"},{\"id\":\"1304\"},{\"id\":\"1309\"},{\"id\":\"1317\"},{\"id\":\"1347\"},{\"id\":\"1352\"},{\"id\":\"1357\"},{\"id\":\"1364\"},{\"id\":\"1369\"},{\"id\":\"1374\"},{\"id\":\"1413\"},{\"id\":\"1453\"},{\"id\":\"1458\"},{\"id\":\"1463\"},{\"id\":\"1468\"},{\"id\":\"1473\"},{\"id\":\"1478\"},{\"id\":\"1483\"},{\"id\":\"1488\"},{\"id\":\"1493\"},{\"id\":\"1498\"},{\"id\":\"1503\"},{\"id\":\"1508\"},{\"id\":\"1513\"},{\"id\":\"1518\"},{\"id\":\"1523\"},{\"id\":\"1528\"},{\"id\":\"1533\"},{\"id\":\"1538\"},{\"id\":\"1543\"},{\"id\":\"1548\"},{\"id\":\"1553\"},{\"id\":\"1558\"},{\"id\":\"1563\"},{\"id\":\"1568\"},{\"id\":\"1573\"},{\"id\":\"1663\"},{\"id\":\"1755\"},{\"id\":\"1760\"},{\"id\":\"1765\"},{\"id\":\"1770\"},{\"id\":\"1775\"},{\"id\":\"1780\"},{\"id\":\"1785\"},{\"id\":\"1790\"},{\"id\":\"1795\"},{\"id\":\"1800\"},{\"id\":\"1805\"},{\"id\":\"1810\"},{\"id\":\"1815\"},{\"id\":\"1820\"},{\"id\":\"1825\"},{\"id\":\"1830\"},{\"id\":\"1835\"},{\"id\":\"1840\"},{\"id\":\"1845\"},{\"id\":\"1850\"},{\"id\":\"1855\"},{\"id\":\"1860\"}],\"title\":{\"id\":\"1003\"},\"toolbar\":{\"id\":\"1025\"},\"x_range\":{\"id\":\"1005\"},\"x_scale\":{\"id\":\"1009\"},\"y_range\":{\"id\":\"1007\"},\"y_scale\":{\"id\":\"1011\"}},\"id\":\"1002\",\"subtype\":\"Figure\",\"type\":\"Plot\"},{\"attributes\":{},\"id\":\"1618\",\"type\":\"UnionRenderers\"},{\"attributes\":{\"line_alpha\":0.1,\"line_color\":\"#4d4d4d\",\"line_width\":3,\"x\":{\"field\":\"x\"},\"y\":{\"field\":\"y\"}},\"id\":\"1517\",\"type\":\"Line\"},{\"attributes\":{},\"id\":\"1617\",\"type\":\"Selection\"},{\"attributes\":{},\"id\":\"1620\",\"type\":\"UnionRenderers\"},{\"attributes\":{\"data\":{\"x\":[0.019467204254819487,0.03244534042469915],\"y\":[-0.125941059099064,-0.13853516500897042]},\"selected\":{\"id\":\"1635\"},\"selection_policy\":{\"id\":\"1634\"}},\"id\":\"1505\",\"type\":\"ColumnDataSource\"},{\"attributes\":{},\"id\":\"1619\",\"type\":\"Selection\"},{\"attributes\":{},\"id\":\"1622\",\"type\":\"UnionRenderers\"},{\"attributes\":{\"line_alpha\":0.1,\"line_color\":\"#4d4d4d\",\"line_width\":3,\"x\":{\"field\":\"x\"},\"y\":{\"field\":\"y\"}},\"id\":\"1507\",\"type\":\"Line\"},{\"attributes\":{},\"id\":\"1621\",\"type\":\"Selection\"},{\"attributes\":{},\"id\":\"1624\",\"type\":\"UnionRenderers\"},{\"attributes\":{},\"id\":\"1623\",\"type\":\"Selection\"},{\"attributes\":{\"line_color\":\"#4d4d4d\",\"line_width\":3,\"x\":{\"field\":\"x\"},\"y\":{\"field\":\"y\"}},\"id\":\"1506\",\"type\":\"Line\"},{\"attributes\":{},\"id\":\"1626\",\"type\":\"UnionRenderers\"},{\"attributes\":{\"data_source\":{\"id\":\"1505\"},\"glyph\":{\"id\":\"1506\"},\"hover_glyph\":null,\"muted_glyph\":null,\"nonselection_glyph\":{\"id\":\"1507\"},\"selection_glyph\":null,\"view\":{\"id\":\"1509\"}},\"id\":\"1508\",\"type\":\"GlyphRenderer\"},{\"attributes\":{\"source\":{\"id\":\"1505\"}},\"id\":\"1509\",\"type\":\"CDSView\"},{\"attributes\":{},\"id\":\"1625\",\"type\":\"Selection\"},{\"attributes\":{\"data\":{\"x\":[0.03244534042469915,0.0454234765945788],\"y\":[0.125941059099064,0.13853516500897042]},\"selected\":{\"id\":\"1637\"},\"selection_policy\":{\"id\":\"1636\"}},\"id\":\"1510\",\"type\":\"ColumnDataSource\"},{\"attributes\":{},\"id\":\"1628\",\"type\":\"UnionRenderers\"},{\"attributes\":{},\"id\":\"1627\",\"type\":\"Selection\"},{\"attributes\":{\"line_alpha\":0.1,\"line_color\":\"#4d4d4d\",\"line_width\":3,\"x\":{\"field\":\"x\"},\"y\":{\"field\":\"y\"}},\"id\":\"1512\",\"type\":\"Line\"},{\"attributes\":{},\"id\":\"1630\",\"type\":\"UnionRenderers\"},{\"attributes\":{\"data\":{\"x\":{\"__ndarray__\":\"/nGn80XXmb/+cafzRdeZv/82EPisnKC//nUu9zF1kr//NhD4rJygv/51LvcxdZK//zYQ+KycoL/+dS73MXWSv/5xp/NF15m//nGn80XXmb8=\",\"dtype\":\"float64\",\"shape\":[10]},\"y\":{\"__ndarray__\":\"zIWgxm+4qT/MA93EeWmtP8wD3cR5aa0/5sCM4UGNsD/m/6rgxmWyP+Y+yd9LPrQ/5n3n3tAWtj/lvAXeVe+3P+W8Bd5V77c/5fsj3drHuT8=\",\"dtype\":\"float64\",\"shape\":[10]}},\"selected\":{\"id\":\"1641\"},\"selection_policy\":{\"id\":\"1640\"}},\"id\":\"1520\",\"type\":\"ColumnDataSource\"},{\"attributes\":{},\"id\":\"1629\",\"type\":\"Selection\"},{\"attributes\":{\"data\":{\"x\":[0.025235264774766,0.025235264774766],\"y\":[-0.050235264774766,-0.0646554160746323]},\"selected\":{\"id\":\"1647\"},\"selection_policy\":{\"id\":\"1646\"}},\"id\":\"1535\",\"type\":\"ColumnDataSource\"},{\"attributes\":{},\"id\":\"1632\",\"type\":\"UnionRenderers\"},{\"attributes\":{\"line_color\":\"#4d4d4d\",\"line_width\":3,\"x\":{\"field\":\"x\"},\"y\":{\"field\":\"y\"}},\"id\":\"1511\",\"type\":\"Line\"},{\"attributes\":{},\"id\":\"1631\",\"type\":\"Selection\"},{\"attributes\":{\"data_source\":{\"id\":\"1510\"},\"glyph\":{\"id\":\"1511\"},\"hover_glyph\":null,\"muted_glyph\":null,\"nonselection_glyph\":{\"id\":\"1512\"},\"selection_glyph\":null,\"view\":{\"id\":\"1514\"}},\"id\":\"1513\",\"type\":\"GlyphRenderer\"},{\"attributes\":{\"source\":{\"id\":\"1510\"}},\"id\":\"1514\",\"type\":\"CDSView\"},{\"attributes\":{},\"id\":\"1634\",\"type\":\"UnionRenderers\"},{\"attributes\":{},\"id\":\"1633\",\"type\":\"Selection\"},{\"attributes\":{},\"id\":\"1636\",\"type\":\"UnionRenderers\"},{\"attributes\":{\"line_color\":\"#4d4d4d\",\"line_width\":3,\"x\":{\"field\":\"x\"},\"y\":{\"field\":\"y\"}},\"id\":\"1516\",\"type\":\"Line\"},{\"attributes\":{},\"id\":\"1635\",\"type\":\"Selection\"},{\"attributes\":{\"line_alpha\":0.1,\"line_color\":\"#4d4d4d\",\"line_width\":3,\"x\":{\"field\":\"x\"},\"y\":{\"field\":\"y\"}},\"id\":\"1527\",\"type\":\"Line\"},{\"attributes\":{},\"id\":\"1638\",\"type\":\"UnionRenderers\"},{\"attributes\":{\"data\":{\"x\":{\"__ndarray__\":\"/nGn80XXmb/+cafzRdeZv/82EPisnKC//nUu9zF1kr//NhD4rJygv/51LvcxdZK//zYQ+KycoL/+dS73MXWSv/5xp/NF15m//nGn80XXmb8=\",\"dtype\":\"float64\",\"shape\":[10]},\"y\":[-0.050235264774766,-0.05744534042469915,-0.05744534042469915,-0.0646554160746323,-0.07186549172456544,-0.07907556737449858,-0.08628564302443173,-0.09349571867436486,-0.09349571867436486,-0.100705794324298]},\"selected\":{\"id\":\"1643\"},\"selection_policy\":{\"id\":\"1642\"}},\"id\":\"1525\",\"type\":\"ColumnDataSource\"},{\"attributes\":{\"data_source\":{\"id\":\"1515\"},\"glyph\":{\"id\":\"1516\"},\"hover_glyph\":null,\"muted_glyph\":null,\"nonselection_glyph\":{\"id\":\"1517\"},\"selection_glyph\":null,\"view\":{\"id\":\"1519\"}},\"id\":\"1518\",\"type\":\"GlyphRenderer\"},{\"attributes\":{},\"id\":\"1637\",\"type\":\"Selection\"},{\"attributes\":{\"source\":{\"id\":\"1515\"}},\"id\":\"1519\",\"type\":\"CDSView\"},{\"attributes\":{},\"id\":\"1640\",\"type\":\"UnionRenderers\"},{\"attributes\":{\"line_alpha\":0.1,\"line_color\":\"#4d4d4d\",\"line_width\":3,\"x\":{\"field\":\"x\"},\"y\":{\"field\":\"y\"}},\"id\":\"1522\",\"type\":\"Line\"},{\"attributes\":{},\"id\":\"1639\",\"type\":\"Selection\"},{\"attributes\":{},\"id\":\"1642\",\"type\":\"UnionRenderers\"},{\"attributes\":{\"line_color\":\"#4d4d4d\",\"line_width\":3,\"x\":{\"field\":\"x\"},\"y\":{\"field\":\"y\"}},\"id\":\"1521\",\"type\":\"Line\"},{\"attributes\":{},\"id\":\"1641\",\"type\":\"Selection\"},{\"attributes\":{\"data\":{\"x\":[0.025235264774766,0.025235264774766],\"y\":[0.050235264774766,0.0646554160746323]},\"selected\":{\"id\":\"1645\"},\"selection_policy\":{\"id\":\"1644\"}},\"id\":\"1530\",\"type\":\"ColumnDataSource\"},{\"attributes\":{},\"id\":\"1644\",\"type\":\"UnionRenderers\"},{\"attributes\":{\"data_source\":{\"id\":\"1520\"},\"glyph\":{\"id\":\"1521\"},\"hover_glyph\":null,\"muted_glyph\":null,\"nonselection_glyph\":{\"id\":\"1522\"},\"selection_glyph\":null,\"view\":{\"id\":\"1524\"}},\"id\":\"1523\",\"type\":\"GlyphRenderer\"},{\"attributes\":{\"source\":{\"id\":\"1520\"}},\"id\":\"1524\",\"type\":\"CDSView\"},{\"attributes\":{},\"id\":\"1643\",\"type\":\"Selection\"},{\"attributes\":{},\"id\":\"1646\",\"type\":\"UnionRenderers\"},{\"attributes\":{\"data\":{\"x\":[0.010815113474899715,0.010815113474899715,0.039655416074632285,0.039655416074632285],\"y\":[-0.08628564302443173,-0.0646554160746323,-0.0646554160746323,-0.08628564302443173]},\"selected\":{\"id\":\"1651\"},\"selection_policy\":{\"id\":\"1650\"}},\"id\":\"1545\",\"type\":\"ColumnDataSource\"},{\"attributes\":{},\"id\":\"1645\",\"type\":\"Selection\"},{\"attributes\":{\"line_color\":\"#4d4d4d\",\"line_width\":3,\"x\":{\"field\":\"x\"},\"y\":{\"field\":\"y\"}},\"id\":\"1526\",\"type\":\"Line\"},{\"attributes\":{\"data\":{\"x\":[0.010815113474899715,0.010815113474899715,0.039655416074632285,0.039655416074632285],\"y\":[0.08628564302443173,0.0646554160746323,0.0646554160746323,0.08628564302443173]},\"selected\":{\"id\":\"1649\"},\"selection_policy\":{\"id\":\"1648\"}},\"id\":\"1540\",\"type\":\"ColumnDataSource\"},{\"attributes\":{\"data_source\":{\"id\":\"1525\"},\"glyph\":{\"id\":\"1526\"},\"hover_glyph\":null,\"muted_glyph\":null,\"nonselection_glyph\":{\"id\":\"1527\"},\"selection_glyph\":null,\"view\":{\"id\":\"1529\"}},\"id\":\"1528\",\"type\":\"GlyphRenderer\"},{\"attributes\":{\"source\":{\"id\":\"1525\"}},\"id\":\"1529\",\"type\":\"CDSView\"},{\"attributes\":{},\"id\":\"1647\",\"type\":\"Selection\"},{\"attributes\":{\"data_source\":{\"id\":\"1842\"},\"glyph\":{\"id\":\"1843\"},\"hover_glyph\":null,\"muted_glyph\":null,\"nonselection_glyph\":{\"id\":\"1844\"},\"selection_glyph\":null,\"view\":{\"id\":\"1846\"}},\"id\":\"1845\",\"type\":\"GlyphRenderer\"},{\"attributes\":{},\"id\":\"1648\",\"type\":\"UnionRenderers\"},{\"attributes\":{\"data_source\":{\"id\":\"1787\"},\"glyph\":{\"id\":\"1788\"},\"hover_glyph\":null,\"muted_glyph\":null,\"nonselection_glyph\":{\"id\":\"1789\"},\"selection_glyph\":null,\"view\":{\"id\":\"1791\"}},\"id\":\"1790\",\"type\":\"GlyphRenderer\"},{\"attributes\":{},\"id\":\"1650\",\"type\":\"UnionRenderers\"},{\"attributes\":{\"data\":{\"x\":{\"__ndarray__\":\"OGIx6KKY8z84YjHoopjzP0h+P5gae/M/KEYjOCu28z9Ifj+YGnvzPyhGIzgrtvM/SH4/mBp78z8oRiM4K7bzPzhiMeiimPM/OGIx6KKY8z8=\",\"dtype\":\"float64\",\"shape\":[10]},\"y\":{\"__ndarray__\":\"zIWgxm+4qT/MA93EeWmtP8wD3cR5aa0/5sCM4UGNsD/m/6rgxmWyP+Y+yd9LPrQ/5n3n3tAWtj/lvAXeVe+3P+W8Bd5V77c/5fsj3drHuT8=\",\"dtype\":\"float64\",\"shape\":[10]}},\"selected\":{\"id\":\"1981\"},\"selection_policy\":{\"id\":\"1980\"}},\"id\":\"1822\",\"type\":\"ColumnDataSource\"},{\"attributes\":{},\"id\":\"1649\",\"type\":\"Selection\"},{\"attributes\":{\"line_alpha\":0.1,\"line_color\":\"#4d4d4d\",\"line_width\":3,\"x\":{\"field\":\"x\"},\"y\":{\"field\":\"y\"}},\"id\":\"1799\",\"type\":\"Line\"},{\"attributes\":{},\"id\":\"1652\",\"type\":\"UnionRenderers\"},{\"attributes\":{\"line_alpha\":0.1,\"line_color\":\"#4d4d4d\",\"line_width\":3,\"x\":{\"field\":\"x\"},\"y\":{\"field\":\"y\"}},\"id\":\"1849\",\"type\":\"Line\"},{\"attributes\":{},\"id\":\"1651\",\"type\":\"Selection\"},{\"attributes\":{\"source\":{\"id\":\"1842\"}},\"id\":\"1846\",\"type\":\"CDSView\"},{\"attributes\":{\"source\":{\"id\":\"1787\"}},\"id\":\"1791\",\"type\":\"CDSView\"},{\"attributes\":{},\"id\":\"1654\",\"type\":\"UnionRenderers\"},{\"attributes\":{},\"id\":\"1653\",\"type\":\"Selection\"},{\"attributes\":{\"line_alpha\":0.1,\"line_color\":\"#4d4d4d\",\"line_width\":3,\"x\":{\"field\":\"x\"},\"y\":{\"field\":\"y\"}},\"id\":\"1794\",\"type\":\"Line\"},{\"attributes\":{},\"id\":\"1656\",\"type\":\"UnionRenderers\"},{\"attributes\":{\"line_color\":\"#4d4d4d\",\"line_width\":3,\"x\":{\"field\":\"x\"},\"y\":{\"field\":\"y\"}},\"id\":\"1848\",\"type\":\"Line\"},{\"attributes\":{},\"id\":\"1021\",\"type\":\"PanTool\"},{\"attributes\":{\"data\":{\"x\":[1.2694672042548194,1.2824453404246992],\"y\":[0.125941059099064,0.13853516500897042]},\"selected\":{\"id\":\"1973\"},\"selection_policy\":{\"id\":\"1972\"}},\"id\":\"1802\",\"type\":\"ColumnDataSource\"},{\"attributes\":{},\"id\":\"1655\",\"type\":\"Selection\"},{\"attributes\":{\"line_alpha\":0.1,\"line_color\":\"#4d4d4d\",\"line_width\":3,\"x\":{\"field\":\"x\"},\"y\":{\"field\":\"y\"}},\"id\":\"1809\",\"type\":\"Line\"},{\"attributes\":{\"line_alpha\":0.1,\"line_color\":\"#4d4d4d\",\"line_width\":3,\"x\":{\"field\":\"x\"},\"y\":{\"field\":\"y\"}},\"id\":\"1859\",\"type\":\"Line\"},{\"attributes\":{},\"id\":\"1658\",\"type\":\"UnionRenderers\"},{\"attributes\":{\"data_source\":{\"id\":\"1847\"},\"glyph\":{\"id\":\"1848\"},\"hover_glyph\":null,\"muted_glyph\":null,\"nonselection_glyph\":{\"id\":\"1849\"},\"selection_glyph\":null,\"view\":{\"id\":\"1851\"}},\"id\":\"1850\",\"type\":\"GlyphRenderer\"},{\"attributes\":{\"line_color\":\"#4d4d4d\",\"line_width\":3,\"x\":{\"field\":\"x\"},\"y\":{\"field\":\"y\"}},\"id\":\"1793\",\"type\":\"Line\"},{\"attributes\":{\"source\":{\"id\":\"1847\"}},\"id\":\"1851\",\"type\":\"CDSView\"},{\"attributes\":{},\"id\":\"1014\",\"type\":\"BasicTicker\"},{\"attributes\":{},\"id\":\"1657\",\"type\":\"Selection\"},{\"attributes\":{\"data_source\":{\"id\":\"1792\"},\"glyph\":{\"id\":\"1793\"},\"hover_glyph\":null,\"muted_glyph\":null,\"nonselection_glyph\":{\"id\":\"1794\"},\"selection_glyph\":null,\"view\":{\"id\":\"1796\"}},\"id\":\"1795\",\"type\":\"GlyphRenderer\"},{\"attributes\":{},\"id\":\"1022\",\"type\":\"WheelZoomTool\"},{\"attributes\":{\"data\":{\"x\":[1.2175546595753008,1.2305327957451806],\"y\":[0.125941059099064,0.13853516500897042]},\"selected\":{\"id\":\"1957\"},\"selection_policy\":{\"id\":\"1956\"}},\"id\":\"1762\",\"type\":\"ColumnDataSource\"},{\"attributes\":{\"source\":{\"id\":\"1792\"}},\"id\":\"1796\",\"type\":\"CDSView\"},{\"attributes\":{\"line_alpha\":0.1,\"line_color\":\"#4d4d4d\",\"line_width\":3,\"x\":{\"field\":\"x\"},\"y\":{\"field\":\"y\"}},\"id\":\"1854\",\"type\":\"Line\"},{\"attributes\":{},\"id\":\"1659\",\"type\":\"Selection\"},{\"attributes\":{},\"id\":\"1023\",\"type\":\"ResetTool\"},{\"attributes\":{\"line_alpha\":0.1,\"line_color\":\"#4d4d4d\",\"line_width\":3,\"x\":{\"field\":\"x\"},\"y\":{\"field\":\"y\"}},\"id\":\"1662\",\"type\":\"Line\"},{\"attributes\":{\"line_color\":\"#4d4d4d\",\"line_width\":3,\"x\":{\"field\":\"x\"},\"y\":{\"field\":\"y\"}},\"id\":\"1798\",\"type\":\"Line\"},{\"attributes\":{\"line_color\":\"#4d4d4d\",\"line_width\":3,\"x\":{\"field\":\"x\"},\"y\":{\"field\":\"y\"}},\"id\":\"1853\",\"type\":\"Line\"},{\"attributes\":{\"data_source\":{\"id\":\"1852\"},\"glyph\":{\"id\":\"1853\"},\"hover_glyph\":null,\"muted_glyph\":null,\"nonselection_glyph\":{\"id\":\"1854\"},\"selection_glyph\":null,\"view\":{\"id\":\"1856\"}},\"id\":\"1855\",\"type\":\"GlyphRenderer\"},{\"attributes\":{\"axis_label\":\"Axial location (m)\",\"axis_label_text_font_size\":\"14pt\",\"formatter\":{\"id\":\"1053\"},\"ticker\":{\"id\":\"1014\"}},\"id\":\"1013\",\"type\":\"LinearAxis\"},{\"attributes\":{\"data\":{\"x\":[1.2694672042548194,1.2824453404246992],\"y\":[-0.125941059099064,-0.13853516500897042]},\"selected\":{\"id\":\"1975\"},\"selection_policy\":{\"id\":\"1974\"}},\"id\":\"1807\",\"type\":\"ColumnDataSource\"},{\"attributes\":{\"data_source\":{\"id\":\"1797\"},\"glyph\":{\"id\":\"1798\"},\"hover_glyph\":null,\"muted_glyph\":null,\"nonselection_glyph\":{\"id\":\"1799\"},\"selection_glyph\":null,\"view\":{\"id\":\"1801\"}},\"id\":\"1800\",\"type\":\"GlyphRenderer\"},{\"attributes\":{\"source\":{\"id\":\"1852\"}},\"id\":\"1856\",\"type\":\"CDSView\"},{\"attributes\":{\"source\":{\"id\":\"1797\"}},\"id\":\"1801\",\"type\":\"CDSView\"},{\"attributes\":{\"data_source\":{\"id\":\"1030\"},\"glyph\":{\"id\":\"1031\"},\"hover_glyph\":null,\"muted_glyph\":null,\"nonselection_glyph\":{\"id\":\"1032\"},\"selection_glyph\":null,\"view\":{\"id\":\"1034\"}},\"id\":\"1033\",\"type\":\"GlyphRenderer\"},{\"attributes\":{\"line_color\":\"#4d4d4d\",\"line_width\":3,\"x\":{\"field\":\"x\"},\"y\":{\"field\":\"y\"}},\"id\":\"1661\",\"type\":\"Line\"},{\"attributes\":{\"line_alpha\":0.1,\"line_color\":\"#4d4d4d\",\"line_width\":3,\"x\":{\"field\":\"x\"},\"y\":{\"field\":\"y\"}},\"id\":\"1804\",\"type\":\"Line\"},{\"attributes\":{},\"id\":\"1951\",\"type\":\"Selection\"},{\"attributes\":{\"line_color\":\"#4d4d4d\",\"line_width\":3,\"x\":{\"field\":\"x\"},\"y\":{\"field\":\"y\"}},\"id\":\"1858\",\"type\":\"Line\"},{\"attributes\":{\"data_source\":{\"id\":\"1660\"},\"glyph\":{\"id\":\"1661\"},\"hover_glyph\":null,\"muted_glyph\":null,\"nonselection_glyph\":{\"id\":\"1662\"},\"selection_glyph\":null,\"view\":{\"id\":\"1664\"}},\"id\":\"1663\",\"type\":\"GlyphRenderer\"},{\"attributes\":{\"data\":{\"x\":[1.2824453404246992,1.295423476594579],\"y\":[0.125941059099064,0.13853516500897042]},\"selected\":{\"id\":\"1977\"},\"selection_policy\":{\"id\":\"1976\"}},\"id\":\"1812\",\"type\":\"ColumnDataSource\"},{\"attributes\":{\"source\":{\"id\":\"1660\"}},\"id\":\"1664\",\"type\":\"CDSView\"},{\"attributes\":{\"data\":{\"x\":[1.2824453404246992,1.295423476594579],\"y\":[-0.125941059099064,-0.13853516500897042]},\"selected\":{\"id\":\"1979\"},\"selection_policy\":{\"id\":\"1978\"}},\"id\":\"1817\",\"type\":\"ColumnDataSource\"},{\"attributes\":{},\"id\":\"1751\",\"type\":\"Selection\"},{\"attributes\":{},\"id\":\"1953\",\"type\":\"Selection\"},{\"attributes\":{\"line_alpha\":0.1,\"line_color\":\"#4d4d4d\",\"line_width\":3,\"x\":{\"field\":\"x\"},\"y\":{\"field\":\"y\"}},\"id\":\"1759\",\"type\":\"Line\"},{\"attributes\":{\"data_source\":{\"id\":\"1857\"},\"glyph\":{\"id\":\"1858\"},\"hover_glyph\":null,\"muted_glyph\":null,\"nonselection_glyph\":{\"id\":\"1859\"},\"selection_glyph\":null,\"view\":{\"id\":\"1861\"}},\"id\":\"1860\",\"type\":\"GlyphRenderer\"},{\"attributes\":{\"axis\":{\"id\":\"1013\"},\"ticker\":null},\"id\":\"1016\",\"type\":\"Grid\"},{\"attributes\":{\"line_color\":\"#4d4d4d\",\"line_width\":3,\"x\":{\"field\":\"x\"},\"y\":{\"field\":\"y\"}},\"id\":\"1803\",\"type\":\"Line\"},{\"attributes\":{\"source\":{\"id\":\"1857\"}},\"id\":\"1861\",\"type\":\"CDSView\"},{\"attributes\":{},\"id\":\"1750\",\"type\":\"UnionRenderers\"},{\"attributes\":{\"data_source\":{\"id\":\"1802\"},\"glyph\":{\"id\":\"1803\"},\"hover_glyph\":null,\"muted_glyph\":null,\"nonselection_glyph\":{\"id\":\"1804\"},\"selection_glyph\":null,\"view\":{\"id\":\"1806\"}},\"id\":\"1805\",\"type\":\"GlyphRenderer\"},{\"attributes\":{},\"id\":\"1954\",\"type\":\"UnionRenderers\"},{\"attributes\":{\"source\":{\"id\":\"1802\"}},\"id\":\"1806\",\"type\":\"CDSView\"},{\"attributes\":{},\"id\":\"1950\",\"type\":\"UnionRenderers\"},{\"attributes\":{},\"id\":\"1018\",\"type\":\"BasicTicker\"},{\"attributes\":{\"data\":{\"x\":[0.0,0.25,0.5,0.75,1.0,1.25],\"y\":{\"__ndarray__\":\"AAAAAAAAAAAAAAAAAAAAAAAAAAAAAAAAAAAAAAAAAAAAAAAAAAAAAAAAAAAAAAAA\",\"dtype\":\"float64\",\"shape\":[6]}},\"selected\":{\"id\":\"1058\"},\"selection_policy\":{\"id\":\"1057\"}},\"id\":\"1036\",\"type\":\"ColumnDataSource\"},{\"attributes\":{},\"id\":\"1952\",\"type\":\"UnionRenderers\"},{\"attributes\":{\"line_alpha\":0.1,\"line_color\":\"#4d4d4d\",\"line_width\":3,\"x\":{\"field\":\"x\"},\"y\":{\"field\":\"y\"}},\"id\":\"1754\",\"type\":\"Line\"},{\"attributes\":{},\"id\":\"1956\",\"type\":\"UnionRenderers\"},{\"attributes\":{\"data_source\":{\"id\":\"1812\"},\"glyph\":{\"id\":\"1813\"},\"hover_glyph\":null,\"muted_glyph\":null,\"nonselection_glyph\":{\"id\":\"1814\"},\"selection_glyph\":null,\"view\":{\"id\":\"1816\"}},\"id\":\"1815\",\"type\":\"GlyphRenderer\"},{\"attributes\":{},\"id\":\"1955\",\"type\":\"Selection\"},{\"attributes\":{\"line_color\":\"#4d4d4d\",\"line_width\":3,\"x\":{\"field\":\"x\"},\"y\":{\"field\":\"y\"}},\"id\":\"1808\",\"type\":\"Line\"},{\"attributes\":{\"data\":{\"x\":[1.2175546595753008,1.2305327957451806],\"y\":[-0.125941059099064,-0.13853516500897042]},\"selected\":{\"id\":\"1959\"},\"selection_policy\":{\"id\":\"1958\"}},\"id\":\"1767\",\"type\":\"ColumnDataSource\"},{\"attributes\":{},\"id\":\"1958\",\"type\":\"UnionRenderers\"},{\"attributes\":{\"line_color\":\"#4d4d4d\",\"line_width\":3,\"x\":{\"field\":\"x\"},\"y\":{\"field\":\"y\"}},\"id\":\"1753\",\"type\":\"Line\"},{\"attributes\":{},\"id\":\"1957\",\"type\":\"Selection\"},{\"attributes\":{\"data_source\":{\"id\":\"1752\"},\"glyph\":{\"id\":\"1753\"},\"hover_glyph\":null,\"muted_glyph\":null,\"nonselection_glyph\":{\"id\":\"1754\"},\"selection_glyph\":null,\"view\":{\"id\":\"1756\"}},\"id\":\"1755\",\"type\":\"GlyphRenderer\"},{\"attributes\":{\"data_source\":{\"id\":\"1807\"},\"glyph\":{\"id\":\"1808\"},\"hover_glyph\":null,\"muted_glyph\":null,\"nonselection_glyph\":{\"id\":\"1809\"},\"selection_glyph\":null,\"view\":{\"id\":\"1811\"}},\"id\":\"1810\",\"type\":\"GlyphRenderer\"},{\"attributes\":{\"source\":{\"id\":\"1752\"}},\"id\":\"1756\",\"type\":\"CDSView\"},{\"attributes\":{\"source\":{\"id\":\"1807\"}},\"id\":\"1811\",\"type\":\"CDSView\"},{\"attributes\":{},\"id\":\"1960\",\"type\":\"UnionRenderers\"},{\"attributes\":{\"data_source\":{\"id\":\"1757\"},\"glyph\":{\"id\":\"1758\"},\"hover_glyph\":null,\"muted_glyph\":null,\"nonselection_glyph\":{\"id\":\"1759\"},\"selection_glyph\":null,\"view\":{\"id\":\"1761\"}},\"id\":\"1760\",\"type\":\"GlyphRenderer\"},{\"attributes\":{},\"id\":\"1959\",\"type\":\"Selection\"},{\"attributes\":{\"source\":{\"id\":\"1812\"}},\"id\":\"1816\",\"type\":\"CDSView\"},{\"attributes\":{\"source\":{\"id\":\"1757\"}},\"id\":\"1761\",\"type\":\"CDSView\"},{\"attributes\":{\"line_color\":\"#4d4d4d\",\"line_width\":3,\"x\":{\"field\":\"x\"},\"y\":{\"field\":\"y\"}},\"id\":\"1758\",\"type\":\"Line\"},{\"attributes\":{\"line_color\":\"#4d4d4d\",\"line_width\":3,\"x\":{\"field\":\"x\"},\"y\":{\"field\":\"y\"}},\"id\":\"1813\",\"type\":\"Line\"},{\"attributes\":{},\"id\":\"1961\",\"type\":\"Selection\"},{\"attributes\":{\"data\":{\"x\":[1.275235264774766,1.275235264774766],\"y\":[-0.050235264774766,-0.0646554160746323]},\"selected\":{\"id\":\"1987\"},\"selection_policy\":{\"id\":\"1986\"}},\"id\":\"1837\",\"type\":\"ColumnDataSource\"},{\"attributes\":{},\"id\":\"1962\",\"type\":\"UnionRenderers\"},{\"attributes\":{\"active_drag\":\"auto\",\"active_inspect\":\"auto\",\"active_multi\":null,\"active_scroll\":\"auto\",\"active_tap\":\"auto\",\"tools\":[{\"id\":\"1021\"},{\"id\":\"1022\"},{\"id\":\"1023\"},{\"id\":\"1024\"},{\"id\":\"1265\"},{\"id\":\"1359\"},{\"id\":\"1359\"}]},\"id\":\"1025\",\"type\":\"Toolbar\"},{\"attributes\":{\"line_alpha\":0.1,\"line_color\":\"#4d4d4d\",\"line_width\":3,\"x\":{\"field\":\"x\"},\"y\":{\"field\":\"y\"}},\"id\":\"1814\",\"type\":\"Line\"},{\"attributes\":{\"source\":{\"id\":\"1214\"}},\"id\":\"1243\",\"type\":\"CDSView\"},{\"attributes\":{},\"id\":\"1973\",\"type\":\"Selection\"},{\"attributes\":{},\"id\":\"1263\",\"type\":\"UnionRenderers\"},{\"attributes\":{\"fill_alpha\":{\"value\":0.5},\"fill_color\":{\"value\":\"#525252\"},\"line_color\":{\"value\":\"#1a1a1a\"},\"xs\":{\"field\":\"z_l\"},\"ys\":{\"field\":\"y_l\"}},\"id\":\"1240\",\"type\":\"Patches\"},{\"attributes\":{\"data_source\":{\"id\":\"1214\"},\"glyph\":{\"id\":\"1240\"},\"hover_glyph\":null,\"muted_glyph\":null,\"name\":\"l_shaft\",\"nonselection_glyph\":{\"id\":\"1241\"},\"selection_glyph\":null,\"view\":{\"id\":\"1243\"}},\"id\":\"1242\",\"type\":\"GlyphRenderer\"},{\"attributes\":{\"fill_alpha\":{\"value\":0.1},\"fill_color\":{\"value\":\"#525252\"},\"line_alpha\":{\"value\":0.1},\"line_color\":{\"value\":\"#1a1a1a\"},\"xs\":{\"field\":\"z_l\"},\"ys\":{\"field\":\"y_l\"}},\"id\":\"1241\",\"type\":\"Patches\"},{\"attributes\":{},\"id\":\"1264\",\"type\":\"Selection\"},{\"attributes\":{\"callback\":null,\"names\":[\"l_shaft\",\"u_shaft\"],\"tooltips\":[[\"Element Number :\",\"@elnum\"],[\"Left Outer Diameter :\",\"@out_d_l\"],[\"Left Inner Diameter :\",\"@in_d_l\"],[\"Right Outer Diameter :\",\"@out_d_r\"],[\"Right Inner Diameter :\",\"@in_d_r\"],[\"Element Length :\",\"@length\"],[\"Material :\",\"@mat\"]]},\"id\":\"1265\",\"type\":\"HoverTool\"},{\"attributes\":{\"data\":{\"ID\":[0.17305824077858717],\"IP\":[0.3239115357383063],\"elnum\":[2],\"mass\":[32.5525410994956],\"radius\":[0.008411754924921999],\"tag\":[\"Disk 0\"],\"yl_circle\":[-0.12735264774766],\"yu_circle\":[0.12735264774766],\"z_circle\":[0.5]},\"selected\":{\"id\":\"1343\"},\"selection_policy\":{\"id\":\"1342\"}},\"id\":\"1268\",\"type\":\"ColumnDataSource\"},{\"attributes\":{\"data\":{\"ID\":[0.17305824077858717],\"IP\":[0.3239115357383063],\"elnum\":[2],\"mass\":[32.5525410994956],\"tag\":[\"Disk 0\"],\"y_l\":[[-0.026411588648596003,-0.12735264774766,-0.12735264774766]],\"y_u\":[[0.026411588648596003,0.12735264774766,0.12735264774766]],\"z_l\":[[0.5,0.508411754924922,0.491588245075078]],\"z_u\":[[0.5,0.508411754924922,0.491588245075078]]},\"selected\":{\"id\":\"1341\"},\"selection_policy\":{\"id\":\"1340\"}},\"id\":\"1267\",\"type\":\"ColumnDataSource\"},{\"attributes\":{\"source\":{\"id\":\"1267\"}},\"id\":\"1273\",\"type\":\"CDSView\"},{\"attributes\":{},\"id\":\"1024\",\"type\":\"SaveTool\"},{\"attributes\":{\"label\":{\"value\":\"Disk\"},\"renderers\":[{\"id\":\"1272\"},{\"id\":\"1317\"}]},\"id\":\"1295\",\"type\":\"LegendItem\"},{\"attributes\":{\"fill_color\":{\"value\":\"#b2182b\"},\"line_color\":{\"value\":\"#b2182b\"},\"line_width\":{\"value\":2},\"xs\":{\"field\":\"z_u\"},\"ys\":{\"field\":\"y_u\"}},\"id\":\"1270\",\"type\":\"Patches\"},{\"attributes\":{\"data_source\":{\"id\":\"1267\"},\"glyph\":{\"id\":\"1270\"},\"hover_glyph\":null,\"muted_glyph\":null,\"name\":\"ub_disk\",\"nonselection_glyph\":{\"id\":\"1271\"},\"selection_glyph\":null,\"view\":{\"id\":\"1273\"}},\"id\":\"1272\",\"type\":\"GlyphRenderer\"},{\"attributes\":{\"fill_alpha\":{\"value\":0.1},\"fill_color\":{\"value\":\"#b2182b\"},\"line_alpha\":{\"value\":0.1},\"line_color\":{\"value\":\"#b2182b\"},\"line_width\":{\"value\":2},\"xs\":{\"field\":\"z_u\"},\"ys\":{\"field\":\"y_u\"}},\"id\":\"1271\",\"type\":\"Patches\"},{\"attributes\":{\"fill_alpha\":{\"value\":0.1},\"fill_color\":{\"value\":\"#b2182b\"},\"line_alpha\":{\"value\":0.1},\"line_color\":{\"value\":\"#b2182b\"},\"radius\":{\"field\":\"radius\",\"units\":\"data\"},\"x\":{\"field\":\"z_circle\"},\"y\":{\"field\":\"yu_circle\"}},\"id\":\"1303\",\"type\":\"Circle\"},{\"attributes\":{},\"id\":\"1408\",\"type\":\"Selection\"},{\"attributes\":{\"source\":{\"id\":\"1267\"}},\"id\":\"1300\",\"type\":\"CDSView\"},{\"attributes\":{\"fill_color\":{\"value\":\"#b2182b\"},\"line_color\":{\"value\":\"#b2182b\"},\"line_width\":{\"value\":2},\"xs\":{\"field\":\"z_l\"},\"ys\":{\"field\":\"y_l\"}},\"id\":\"1297\",\"type\":\"Patches\"},{\"attributes\":{\"data_source\":{\"id\":\"1267\"},\"glyph\":{\"id\":\"1297\"},\"hover_glyph\":null,\"muted_glyph\":null,\"name\":\"ub_disk\",\"nonselection_glyph\":{\"id\":\"1298\"},\"selection_glyph\":null,\"view\":{\"id\":\"1300\"}},\"id\":\"1299\",\"type\":\"GlyphRenderer\"},{\"attributes\":{\"fill_alpha\":{\"value\":0.1},\"fill_color\":{\"value\":\"#b2182b\"},\"line_alpha\":{\"value\":0.1},\"line_color\":{\"value\":\"#b2182b\"},\"line_width\":{\"value\":2},\"xs\":{\"field\":\"z_l\"},\"ys\":{\"field\":\"y_l\"}},\"id\":\"1298\",\"type\":\"Patches\"},{\"attributes\":{\"data\":{\"x\":[0.0,0.0,-0.025235264774766,0.025235264774766],\"y\":[0.025,0.050235264774766,0.050235264774766,0.050235264774766]},\"selected\":{\"id\":\"1406\"},\"selection_policy\":{\"id\":\"1405\"}},\"id\":\"1361\",\"type\":\"ColumnDataSource\"},{\"attributes\":{\"data_source\":{\"id\":\"1268\"},\"glyph\":{\"id\":\"1302\"},\"hover_glyph\":null,\"muted_glyph\":null,\"name\":\"uc_disk\",\"nonselection_glyph\":{\"id\":\"1303\"},\"selection_glyph\":null,\"view\":{\"id\":\"1305\"}},\"id\":\"1304\",\"type\":\"GlyphRenderer\"},{\"attributes\":{\"source\":{\"id\":\"1030\"}},\"id\":\"1034\",\"type\":\"CDSView\"},{\"attributes\":{\"data\":{\"ID\":[0.505376346822356],\"IP\":[0.9646685671361247],\"elnum\":[3],\"mass\":[56.429542663576264],\"radius\":[0.008411754924921999],\"tag\":[\"Disk 1\"],\"yl_circle\":[-0.125941059099064],\"yu_circle\":[0.125941059099064],\"z_circle\":[0.75]},\"selected\":{\"id\":\"1404\"},\"selection_policy\":{\"id\":\"1403\"}},\"id\":\"1313\",\"type\":\"ColumnDataSource\"},{\"attributes\":{\"text_align\":\"center\",\"text_baseline\":\"middle\",\"text_color\":{\"value\":\"#1a1a1a\"},\"text_font_style\":\"bold\",\"x\":{\"field\":\"x\"},\"y\":{\"field\":\"y\"}},\"id\":\"1041\",\"type\":\"Text\"},{\"attributes\":{\"fill_color\":{\"value\":\"#b2182b\"},\"line_color\":{\"value\":\"#b2182b\"},\"radius\":{\"field\":\"radius\",\"units\":\"data\"},\"x\":{\"field\":\"z_circle\"},\"y\":{\"field\":\"yu_circle\"}},\"id\":\"1302\",\"type\":\"Circle\"},{\"attributes\":{},\"id\":\"1404\",\"type\":\"Selection\"},{\"attributes\":{\"source\":{\"id\":\"1268\"}},\"id\":\"1305\",\"type\":\"CDSView\"},{\"attributes\":{},\"id\":\"1401\",\"type\":\"UnionRenderers\"},{\"attributes\":{\"source\":{\"id\":\"1268\"}},\"id\":\"1310\",\"type\":\"CDSView\"},{\"attributes\":{},\"id\":\"1403\",\"type\":\"UnionRenderers\"},{\"attributes\":{\"source\":{\"id\":\"1371\"}},\"id\":\"1375\",\"type\":\"CDSView\"},{\"attributes\":{\"source\":{\"id\":\"1555\"}},\"id\":\"1559\",\"type\":\"CDSView\"},{\"attributes\":{\"line_alpha\":0.1,\"line_color\":\"#4d4d4d\",\"line_width\":3,\"x\":{\"field\":\"x\"},\"y\":{\"field\":\"y\"}},\"id\":\"1567\",\"type\":\"Line\"},{\"attributes\":{},\"id\":\"1402\",\"type\":\"Selection\"},{\"attributes\":{\"data_source\":{\"id\":\"1268\"},\"glyph\":{\"id\":\"1307\"},\"hover_glyph\":null,\"muted_glyph\":null,\"name\":\"lc_disk\",\"nonselection_glyph\":{\"id\":\"1308\"},\"selection_glyph\":null,\"view\":{\"id\":\"1310\"}},\"id\":\"1309\",\"type\":\"GlyphRenderer\"},{\"attributes\":{\"fill_color\":{\"value\":\"#b2182b\"},\"line_color\":{\"value\":\"#b2182b\"},\"radius\":{\"field\":\"radius\",\"units\":\"data\"},\"x\":{\"field\":\"z_circle\"},\"y\":{\"field\":\"yl_circle\"}},\"id\":\"1307\",\"type\":\"Circle\"},{\"attributes\":{\"line_alpha\":0.1,\"line_color\":\"#4d4d4d\",\"line_width\":3,\"x\":{\"field\":\"x\"},\"y\":{\"field\":\"y\"}},\"id\":\"1562\",\"type\":\"Line\"},{\"attributes\":{\"label\":{\"value\":\"Bearing\"},\"renderers\":[{\"id\":\"1374\"},{\"id\":\"1413\"},{\"id\":\"1573\"},{\"id\":\"1663\"}]},\"id\":\"1409\",\"type\":\"LegendItem\"},{\"attributes\":{\"fill_alpha\":{\"value\":0.1},\"fill_color\":{\"value\":\"#b2182b\"},\"line_alpha\":{\"value\":0.1},\"line_color\":{\"value\":\"#b2182b\"},\"radius\":{\"field\":\"radius\",\"units\":\"data\"},\"x\":{\"field\":\"z_circle\"},\"y\":{\"field\":\"yl_circle\"}},\"id\":\"1308\",\"type\":\"Circle\"},{\"attributes\":{\"data\":{\"x\":[0.0,0.0,-0.025235264774766,0.025235264774766],\"y\":[-0.125941059099064,-0.10070579432429799,-0.10070579432429799,-0.10070579432429799]},\"selected\":{\"id\":\"1611\"},\"selection_policy\":{\"id\":\"1610\"}},\"id\":\"1410\",\"type\":\"ColumnDataSource\"},{\"attributes\":{},\"id\":\"1448\",\"type\":\"UnionRenderers\"},{\"attributes\":{\"line_alpha\":0.1,\"line_color\":\"#4d4d4d\",\"line_width\":3,\"x\":{\"field\":\"x\"},\"y\":{\"field\":\"y\"}},\"id\":\"1412\",\"type\":\"Line\"},{\"attributes\":{},\"id\":\"1343\",\"type\":\"Selection\"},{\"attributes\":{\"data\":{\"ID\":[0.505376346822356],\"IP\":[0.9646685671361247],\"elnum\":[3],\"mass\":[56.429542663576264],\"tag\":[\"Disk 1\"],\"y_l\":[[-0.025,-0.125941059099064,-0.125941059099064]],\"y_u\":[[0.025,0.125941059099064,0.125941059099064]],\"z_l\":[[0.75,0.758411754924922,0.741588245075078]],\"z_u\":[[0.75,0.758411754924922,0.741588245075078]]},\"selected\":{\"id\":\"1402\"},\"selection_policy\":{\"id\":\"1401\"}},\"id\":\"1312\",\"type\":\"ColumnDataSource\"},{\"attributes\":{\"data\":{\"x\":[1.2175546595753008,1.2824453404246992],\"y\":[0.125941059099064,0.125941059099064]},\"selected\":{\"id\":\"1953\"},\"selection_policy\":{\"id\":\"1952\"}},\"id\":\"1752\",\"type\":\"ColumnDataSource\"},{\"attributes\":{\"axis\":{\"id\":\"1017\"},\"dimension\":1,\"ticker\":null},\"id\":\"1020\",\"type\":\"Grid\"},{\"attributes\":{\"data\":{\"x\":[1.25,1.25,1.224764735225234,1.275235264774766],\"y\":[-0.125941059099064,-0.10070579432429799,-0.10070579432429799,-0.10070579432429799]},\"selected\":{\"id\":\"1951\"},\"selection_policy\":{\"id\":\"1950\"}},\"id\":\"1660\",\"type\":\"ColumnDataSource\"},{\"attributes\":{\"line_alpha\":0.1,\"line_color\":\"#1a1a1a\",\"line_dash\":[2,4,6,4],\"line_width\":3,\"x\":{\"field\":\"x\"},\"y\":{\"field\":\"y\"}},\"id\":\"1032\",\"type\":\"Line\"},{\"attributes\":{\"source\":{\"id\":\"1313\"}},\"id\":\"1353\",\"type\":\"CDSView\"},{\"attributes\":{\"data\":{\"x\":[0.03244534042469915,0.0454234765945788],\"y\":[-0.125941059099064,-0.13853516500897042]},\"selected\":{\"id\":\"1639\"},\"selection_policy\":{\"id\":\"1638\"}},\"id\":\"1515\",\"type\":\"ColumnDataSource\"},{\"attributes\":{\"line_color\":\"#4d4d4d\",\"line_width\":3,\"x\":{\"field\":\"x\"},\"y\":{\"field\":\"y\"}},\"id\":\"1561\",\"type\":\"Line\"},{\"attributes\":{\"data_source\":{\"id\":\"1560\"},\"glyph\":{\"id\":\"1561\"},\"hover_glyph\":null,\"muted_glyph\":null,\"nonselection_glyph\":{\"id\":\"1562\"},\"selection_glyph\":null,\"view\":{\"id\":\"1564\"}},\"id\":\"1563\",\"type\":\"GlyphRenderer\"},{\"attributes\":{\"source\":{\"id\":\"1312\"}},\"id\":\"1348\",\"type\":\"CDSView\"},{\"attributes\":{\"line_color\":\"#4d4d4d\",\"line_width\":3,\"x\":{\"field\":\"x\"},\"y\":{\"field\":\"y\"}},\"id\":\"1411\",\"type\":\"Line\"},{\"attributes\":{\"source\":{\"id\":\"1560\"}},\"id\":\"1564\",\"type\":\"CDSView\"},{\"attributes\":{\"data_source\":{\"id\":\"1410\"},\"glyph\":{\"id\":\"1411\"},\"hover_glyph\":null,\"muted_glyph\":null,\"nonselection_glyph\":{\"id\":\"1412\"},\"selection_glyph\":null,\"view\":{\"id\":\"1414\"}},\"id\":\"1413\",\"type\":\"GlyphRenderer\"},{\"attributes\":{\"fill_color\":{\"value\":\"#b2182b\"},\"line_color\":{\"value\":\"#b2182b\"},\"line_width\":{\"value\":2},\"xs\":{\"field\":\"z_l\"},\"ys\":{\"field\":\"y_l\"}},\"id\":\"1345\",\"type\":\"Patches\"},{\"attributes\":{\"source\":{\"id\":\"1410\"}},\"id\":\"1414\",\"type\":\"CDSView\"},{\"attributes\":{},\"id\":\"1449\",\"type\":\"Selection\"},{\"attributes\":{},\"id\":\"1612\",\"type\":\"UnionRenderers\"},{\"attributes\":{\"line_color\":\"#4d4d4d\",\"line_width\":3,\"x\":{\"field\":\"x\"},\"y\":{\"field\":\"y\"}},\"id\":\"1566\",\"type\":\"Line\"},{\"attributes\":{\"data_source\":{\"id\":\"1312\"},\"glyph\":{\"id\":\"1345\"},\"hover_glyph\":null,\"muted_glyph\":null,\"name\":\"ub_disk\",\"nonselection_glyph\":{\"id\":\"1346\"},\"selection_glyph\":null,\"view\":{\"id\":\"1348\"}},\"id\":\"1347\",\"type\":\"GlyphRenderer\"},{\"attributes\":{\"fill_alpha\":{\"value\":0.1},\"fill_color\":{\"value\":\"#b2182b\"},\"line_alpha\":{\"value\":0.1},\"line_color\":{\"value\":\"#b2182b\"},\"line_width\":{\"value\":2},\"xs\":{\"field\":\"z_l\"},\"ys\":{\"field\":\"y_l\"}},\"id\":\"1346\",\"type\":\"Patches\"},{\"attributes\":{\"data\":{\"x\":[-0.03244534042469915,0.03244534042469915],\"y\":[0.125941059099064,0.125941059099064]},\"selected\":{\"id\":\"1613\"},\"selection_policy\":{\"id\":\"1612\"}},\"id\":\"1450\",\"type\":\"ColumnDataSource\"},{\"attributes\":{},\"id\":\"1613\",\"type\":\"Selection\"},{\"attributes\":{\"data_source\":{\"id\":\"1565\"},\"glyph\":{\"id\":\"1566\"},\"hover_glyph\":null,\"muted_glyph\":null,\"nonselection_glyph\":{\"id\":\"1567\"},\"selection_glyph\":null,\"view\":{\"id\":\"1569\"}},\"id\":\"1568\",\"type\":\"GlyphRenderer\"},{\"attributes\":{},\"id\":\"1406\",\"type\":\"Selection\"},{\"attributes\":{\"source\":{\"id\":\"1565\"}},\"id\":\"1569\",\"type\":\"CDSView\"},{\"attributes\":{},\"id\":\"1407\",\"type\":\"UnionRenderers\"},{\"attributes\":{\"data_source\":{\"id\":\"1313\"},\"glyph\":{\"id\":\"1350\"},\"hover_glyph\":null,\"muted_glyph\":null,\"name\":\"uc_disk\",\"nonselection_glyph\":{\"id\":\"1351\"},\"selection_glyph\":null,\"view\":{\"id\":\"1353\"}},\"id\":\"1352\",\"type\":\"GlyphRenderer\"},{\"attributes\":{\"line_alpha\":0.1,\"line_color\":\"#4d4d4d\",\"line_width\":3,\"x\":{\"field\":\"x\"},\"y\":{\"field\":\"y\"}},\"id\":\"1452\",\"type\":\"Line\"},{\"attributes\":{\"line_alpha\":0.1,\"line_color\":\"#4d4d4d\",\"line_width\":3,\"x\":{\"field\":\"x\"},\"y\":{\"field\":\"y\"}},\"id\":\"1572\",\"type\":\"Line\"},{\"attributes\":{\"fill_color\":{\"value\":\"#b2182b\"},\"line_color\":{\"value\":\"#b2182b\"},\"radius\":{\"field\":\"radius\",\"units\":\"data\"},\"x\":{\"field\":\"z_circle\"},\"y\":{\"field\":\"yu_circle\"}},\"id\":\"1350\",\"type\":\"Circle\"},{\"attributes\":{\"source\":{\"id\":\"1313\"}},\"id\":\"1358\",\"type\":\"CDSView\"},{\"attributes\":{},\"id\":\"1610\",\"type\":\"UnionRenderers\"},{\"attributes\":{\"data\":{\"x\":[1.2175546595753008,1.2824453404246992],\"y\":[-0.125941059099064,-0.125941059099064]},\"selected\":{\"id\":\"1955\"},\"selection_policy\":{\"id\":\"1954\"}},\"id\":\"1757\",\"type\":\"ColumnDataSource\"},{\"attributes\":{\"fill_alpha\":{\"value\":0.1},\"fill_color\":{\"value\":\"#b2182b\"},\"line_alpha\":{\"value\":0.1},\"line_color\":{\"value\":\"#b2182b\"},\"radius\":{\"field\":\"radius\",\"units\":\"data\"},\"x\":{\"field\":\"z_circle\"},\"y\":{\"field\":\"yu_circle\"}},\"id\":\"1351\",\"type\":\"Circle\"},{\"attributes\":{\"line_color\":\"#4d4d4d\",\"line_width\":3,\"x\":{\"field\":\"x\"},\"y\":{\"field\":\"y\"}},\"id\":\"1451\",\"type\":\"Line\"},{\"attributes\":{\"line_color\":\"#4d4d4d\",\"line_width\":3,\"x\":{\"field\":\"x\"},\"y\":{\"field\":\"y\"}},\"id\":\"1571\",\"type\":\"Line\"},{\"attributes\":{\"data_source\":{\"id\":\"1450\"},\"glyph\":{\"id\":\"1451\"},\"hover_glyph\":null,\"muted_glyph\":null,\"nonselection_glyph\":{\"id\":\"1452\"},\"selection_glyph\":null,\"view\":{\"id\":\"1454\"}},\"id\":\"1453\",\"type\":\"GlyphRenderer\"},{\"attributes\":{\"data_source\":{\"id\":\"1570\"},\"glyph\":{\"id\":\"1571\"},\"hover_glyph\":null,\"muted_glyph\":null,\"nonselection_glyph\":{\"id\":\"1572\"},\"selection_glyph\":null,\"view\":{\"id\":\"1574\"}},\"id\":\"1573\",\"type\":\"GlyphRenderer\"},{\"attributes\":{\"source\":{\"id\":\"1450\"}},\"id\":\"1454\",\"type\":\"CDSView\"},{\"attributes\":{\"data\":{\"x\":[-0.03244534042469915,0.03244534042469915],\"y\":[-0.125941059099064,-0.125941059099064]},\"selected\":{\"id\":\"1615\"},\"selection_policy\":{\"id\":\"1614\"}},\"id\":\"1455\",\"type\":\"ColumnDataSource\"},{\"attributes\":{\"source\":{\"id\":\"1570\"}},\"id\":\"1574\",\"type\":\"CDSView\"},{\"attributes\":{\"data_source\":{\"id\":\"1455\"},\"glyph\":{\"id\":\"1456\"},\"hover_glyph\":null,\"muted_glyph\":null,\"nonselection_glyph\":{\"id\":\"1457\"},\"selection_glyph\":null,\"view\":{\"id\":\"1459\"}},\"id\":\"1458\",\"type\":\"GlyphRenderer\"},{\"attributes\":{},\"id\":\"1405\",\"type\":\"UnionRenderers\"},{\"attributes\":{},\"id\":\"1611\",\"type\":\"Selection\"},{\"attributes\":{\"data_source\":{\"id\":\"1313\"},\"glyph\":{\"id\":\"1355\"},\"hover_glyph\":null,\"muted_glyph\":null,\"name\":\"lc_disk\",\"nonselection_glyph\":{\"id\":\"1356\"},\"selection_glyph\":null,\"view\":{\"id\":\"1358\"}},\"id\":\"1357\",\"type\":\"GlyphRenderer\"},{\"attributes\":{\"fill_color\":{\"value\":\"#b2182b\"},\"line_color\":{\"value\":\"#b2182b\"},\"radius\":{\"field\":\"radius\",\"units\":\"data\"},\"x\":{\"field\":\"z_circle\"},\"y\":{\"field\":\"yl_circle\"}},\"id\":\"1355\",\"type\":\"Circle\"},{\"attributes\":{},\"id\":\"1614\",\"type\":\"UnionRenderers\"},{\"attributes\":{\"source\":{\"id\":\"1455\"}},\"id\":\"1459\",\"type\":\"CDSView\"},{\"attributes\":{},\"id\":\"1057\",\"type\":\"UnionRenderers\"},{\"attributes\":{\"line_color\":\"#4d4d4d\",\"line_width\":3,\"x\":{\"field\":\"x\"},\"y\":{\"field\":\"y\"}},\"id\":\"1456\",\"type\":\"Line\"},{\"attributes\":{},\"id\":\"1615\",\"type\":\"Selection\"},{\"attributes\":{},\"id\":\"1985\",\"type\":\"Selection\"},{\"attributes\":{\"fill_alpha\":{\"value\":0.1},\"fill_color\":{\"value\":\"#b2182b\"},\"line_alpha\":{\"value\":0.1},\"line_color\":{\"value\":\"#b2182b\"},\"radius\":{\"field\":\"radius\",\"units\":\"data\"},\"x\":{\"field\":\"z_circle\"},\"y\":{\"field\":\"yl_circle\"}},\"id\":\"1356\",\"type\":\"Circle\"},{\"attributes\":{},\"id\":\"1616\",\"type\":\"UnionRenderers\"},{\"attributes\":{\"line_alpha\":0.1,\"line_color\":\"#4d4d4d\",\"line_width\":3,\"x\":{\"field\":\"x\"},\"y\":{\"field\":\"y\"}},\"id\":\"1457\",\"type\":\"Line\"},{\"attributes\":{\"callback\":null,\"names\":[\"uc_disk\",\"lc_disk\",\"ub_disk\",\"lb_disk\"],\"tooltips\":[[\"Disk Node :\",\"@elnum\"],[\"Polar Moment of Inertia :\",\"@IP\"],[\"Diametral Moment of Inertia :\",\"@ID\"],[\"Disk mass :\",\"@mass\"],[\"Tag :\",\"@tag\"]]},\"id\":\"1359\",\"type\":\"HoverTool\"},{\"attributes\":{\"line_color\":\"#1a1a1a\",\"line_dash\":[2,4,6,4],\"line_width\":3,\"x\":{\"field\":\"x\"},\"y\":{\"field\":\"y\"}},\"id\":\"1031\",\"type\":\"Line\"},{\"attributes\":{\"source\":{\"id\":\"1312\"}},\"id\":\"1318\",\"type\":\"CDSView\"},{\"attributes\":{\"fill_alpha\":{\"value\":0.5},\"fill_color\":{\"value\":\"#525252\"},\"line_color\":{\"value\":\"#1a1a1a\"},\"xs\":{\"field\":\"z_u\"},\"ys\":{\"field\":\"y_u\"}},\"id\":\"1168\",\"type\":\"Patches\"},{\"attributes\":{\"source\":{\"id\":\"1166\"}},\"id\":\"1171\",\"type\":\"CDSView\"},{\"attributes\":{\"fill_alpha\":{\"value\":0.1},\"fill_color\":{\"value\":\"#525252\"},\"line_alpha\":{\"value\":0.1},\"line_color\":{\"value\":\"#1a1a1a\"},\"xs\":{\"field\":\"z_u\"},\"ys\":{\"field\":\"y_u\"}},\"id\":\"1169\",\"type\":\"Patches\"},{\"attributes\":{\"data_source\":{\"id\":\"1166\"},\"glyph\":{\"id\":\"1168\"},\"hover_glyph\":null,\"muted_glyph\":null,\"name\":\"u_shaft\",\"nonselection_glyph\":{\"id\":\"1169\"},\"selection_glyph\":null,\"view\":{\"id\":\"1171\"}},\"id\":\"1170\",\"type\":\"GlyphRenderer\"},{\"attributes\":{},\"id\":\"1991\",\"type\":\"Selection\"},{\"attributes\":{\"line_alpha\":0.1,\"line_color\":\"#4d4d4d\",\"line_width\":3,\"x\":{\"field\":\"x\"},\"y\":{\"field\":\"y\"}},\"id\":\"1532\",\"type\":\"Line\"},{\"attributes\":{},\"id\":\"1119\",\"type\":\"UnionRenderers\"},{\"attributes\":{},\"id\":\"1964\",\"type\":\"UnionRenderers\"},{\"attributes\":{\"source\":{\"id\":\"1082\"}},\"id\":\"1105\",\"type\":\"CDSView\"},{\"attributes\":{},\"id\":\"1058\",\"type\":\"Selection\"},{\"attributes\":{},\"id\":\"1963\",\"type\":\"Selection\"},{\"attributes\":{\"line_color\":\"#4d4d4d\",\"line_width\":3,\"x\":{\"field\":\"x\"},\"y\":{\"field\":\"y\"}},\"id\":\"1481\",\"type\":\"Line\"},{\"attributes\":{\"line_alpha\":0.1,\"line_color\":\"#4d4d4d\",\"line_width\":3,\"x\":{\"field\":\"x\"},\"y\":{\"field\":\"y\"}},\"id\":\"1819\",\"type\":\"Line\"},{\"attributes\":{},\"id\":\"1059\",\"type\":\"UnionRenderers\"},{\"attributes\":{},\"id\":\"1966\",\"type\":\"UnionRenderers\"},{\"attributes\":{\"data\":{\"x\":[-0.03244534042469915,-0.019467204254819487],\"y\":[0.125941059099064,0.13853516500897042]},\"selected\":{\"id\":\"1617\"},\"selection_policy\":{\"id\":\"1616\"}},\"id\":\"1460\",\"type\":\"ColumnDataSource\"},{\"attributes\":{\"line_alpha\":0.1,\"line_color\":\"#4d4d4d\",\"line_width\":3,\"x\":{\"field\":\"x\"},\"y\":{\"field\":\"y\"}},\"id\":\"1537\",\"type\":\"Line\"},{\"attributes\":{\"end\":0.375,\"start\":-0.375},\"id\":\"1007\",\"type\":\"Range1d\"},{\"attributes\":{},\"id\":\"1060\",\"type\":\"Selection\"},{\"attributes\":{},\"id\":\"1965\",\"type\":\"Selection\"},{\"attributes\":{},\"id\":\"1120\",\"type\":\"Selection\"},{\"attributes\":{\"items\":[{\"id\":\"1062\"},{\"id\":\"1295\"},{\"id\":\"1409\"}]},\"id\":\"1061\",\"type\":\"Legend\"},{\"attributes\":{},\"id\":\"1968\",\"type\":\"UnionRenderers\"},{\"attributes\":{\"line_alpha\":0.1,\"line_color\":\"#4d4d4d\",\"line_width\":3,\"x\":{\"field\":\"x\"},\"y\":{\"field\":\"y\"}},\"id\":\"1462\",\"type\":\"Line\"},{\"attributes\":{\"line_color\":\"#4d4d4d\",\"line_width\":3,\"x\":{\"field\":\"x\"},\"y\":{\"field\":\"y\"}},\"id\":\"1818\",\"type\":\"Line\"},{\"attributes\":{},\"id\":\"1967\",\"type\":\"Selection\"},{\"attributes\":{\"line_color\":\"#4d4d4d\",\"line_width\":3,\"x\":{\"field\":\"x\"},\"y\":{\"field\":\"y\"}},\"id\":\"1531\",\"type\":\"Line\"},{\"attributes\":{\"line_alpha\":0.1,\"line_color\":\"#4d4d4d\",\"line_width\":3,\"x\":{\"field\":\"x\"},\"y\":{\"field\":\"y\"}},\"id\":\"1829\",\"type\":\"Line\"},{\"attributes\":{\"data_source\":{\"id\":\"1530\"},\"glyph\":{\"id\":\"1531\"},\"hover_glyph\":null,\"muted_glyph\":null,\"nonselection_glyph\":{\"id\":\"1532\"},\"selection_glyph\":null,\"view\":{\"id\":\"1534\"}},\"id\":\"1533\",\"type\":\"GlyphRenderer\"},{\"attributes\":{},\"id\":\"1970\",\"type\":\"UnionRenderers\"},{\"attributes\":{\"data_source\":{\"id\":\"1312\"},\"glyph\":{\"id\":\"1315\"},\"hover_glyph\":null,\"muted_glyph\":null,\"name\":\"ub_disk\",\"nonselection_glyph\":{\"id\":\"1316\"},\"selection_glyph\":null,\"view\":{\"id\":\"1318\"}},\"id\":\"1317\",\"type\":\"GlyphRenderer\"},{\"attributes\":{\"source\":{\"id\":\"1530\"}},\"id\":\"1534\",\"type\":\"CDSView\"},{\"attributes\":{\"data\":{\"x\":{\"__ndarray__\":\"OGIx6KKY8z84YjHoopjzP0h+P5gae/M/KEYjOCu28z9Ifj+YGnvzPyhGIzgrtvM/SH4/mBp78z8oRiM4K7bzPzhiMeiimPM/OGIx6KKY8z8=\",\"dtype\":\"float64\",\"shape\":[10]},\"y\":[-0.050235264774766,-0.05744534042469915,-0.05744534042469915,-0.0646554160746323,-0.07186549172456544,-0.07907556737449858,-0.08628564302443173,-0.09349571867436486,-0.09349571867436486,-0.100705794324298]},\"selected\":{\"id\":\"1983\"},\"selection_policy\":{\"id\":\"1982\"}},\"id\":\"1827\",\"type\":\"ColumnDataSource\"},{\"attributes\":{\"data_source\":{\"id\":\"1817\"},\"glyph\":{\"id\":\"1818\"},\"hover_glyph\":null,\"muted_glyph\":null,\"nonselection_glyph\":{\"id\":\"1819\"},\"selection_glyph\":null,\"view\":{\"id\":\"1821\"}},\"id\":\"1820\",\"type\":\"GlyphRenderer\"},{\"attributes\":{\"label\":{\"value\":\"Shaft\"},\"renderers\":[{\"id\":\"1048\"},{\"id\":\"1066\"},{\"id\":\"1086\"},{\"id\":\"1104\"},{\"id\":\"1126\"},{\"id\":\"1146\"},{\"id\":\"1170\"},{\"id\":\"1192\"},{\"id\":\"1218\"},{\"id\":\"1242\"}]},\"id\":\"1062\",\"type\":\"LegendItem\"},{\"attributes\":{},\"id\":\"1969\",\"type\":\"Selection\"},{\"attributes\":{\"source\":{\"id\":\"1817\"}},\"id\":\"1821\",\"type\":\"CDSView\"},{\"attributes\":{\"line_color\":\"#4d4d4d\",\"line_width\":3,\"x\":{\"field\":\"x\"},\"y\":{\"field\":\"y\"}},\"id\":\"1461\",\"type\":\"Line\"},{\"attributes\":{},\"id\":\"1972\",\"type\":\"UnionRenderers\"},{\"attributes\":{\"data_source\":{\"id\":\"1460\"},\"glyph\":{\"id\":\"1461\"},\"hover_glyph\":null,\"muted_glyph\":null,\"nonselection_glyph\":{\"id\":\"1462\"},\"selection_glyph\":null,\"view\":{\"id\":\"1464\"}},\"id\":\"1463\",\"type\":\"GlyphRenderer\"},{\"attributes\":{\"data\":{\"text\":[\"0\",\"1\",\"2\",\"3\",\"4\",\"5\"],\"x\":[0.0,0.25,0.5,0.75,1.0,1.25],\"y\":{\"__ndarray__\":\"AAAAAAAAAAAAAAAAAAAAAAAAAAAAAAAAAAAAAAAAAAAAAAAAAAAAAAAAAAAAAAAA\",\"dtype\":\"float64\",\"shape\":[6]}},\"selected\":{\"id\":\"1060\"},\"selection_policy\":{\"id\":\"1059\"}},\"id\":\"1035\",\"type\":\"ColumnDataSource\"},{\"attributes\":{\"line_alpha\":0.1,\"line_color\":\"#4d4d4d\",\"line_width\":3,\"x\":{\"field\":\"x\"},\"y\":{\"field\":\"y\"}},\"id\":\"1824\",\"type\":\"Line\"},{\"attributes\":{\"text\":\"Rotor model\"},\"id\":\"1003\",\"type\":\"Title\"},{\"attributes\":{\"source\":{\"id\":\"1460\"}},\"id\":\"1464\",\"type\":\"CDSView\"},{\"attributes\":{},\"id\":\"1340\",\"type\":\"UnionRenderers\"},{\"attributes\":{},\"id\":\"1971\",\"type\":\"Selection\"},{\"attributes\":{\"data\":{\"elnum\":[2],\"in_d_l\":[0.0],\"in_d_r\":[0.0],\"length\":[0.25],\"mat\":[\"Steel\"],\"out_d_l\":[0.052823177297192006],\"out_d_r\":[0.052823177297192006],\"sld\":[138.31919527730165],\"y_l\":[[-0.0,-0.026411588648596003,-0.026411588648596003,-0.0]],\"y_u\":[[0.0,0.026411588648596003,0.026411588648596003,0.0]],\"z_l\":[[0.5,0.5,0.75,0.75]],\"z_u\":[[0.5,0.5,0.75,0.75]]},\"selected\":{\"id\":\"1164\"},\"selection_policy\":{\"id\":\"1163\"}},\"id\":\"1122\",\"type\":\"ColumnDataSource\"},{\"attributes\":{\"data\":{\"x\":[-0.03244534042469915,-0.019467204254819487],\"y\":[-0.125941059099064,-0.13853516500897042]},\"selected\":{\"id\":\"1619\"},\"selection_policy\":{\"id\":\"1618\"}},\"id\":\"1465\",\"type\":\"ColumnDataSource\"},{\"attributes\":{\"line_color\":\"#4d4d4d\",\"line_width\":3,\"x\":{\"field\":\"x\"},\"y\":{\"field\":\"y\"}},\"id\":\"1536\",\"type\":\"Line\"},{\"attributes\":{\"end\":1.375,\"start\":-0.125},\"id\":\"1005\",\"type\":\"Range1d\"},{\"attributes\":{\"fill_alpha\":{\"value\":0.8},\"fill_color\":{\"value\":\"#fddbc7\"},\"line_color\":{\"value\":\"#1f77b4\"},\"size\":{\"units\":\"screen\",\"value\":30},\"x\":{\"field\":\"x\"},\"y\":{\"field\":\"y\"}},\"id\":\"1037\",\"type\":\"Circle\"},{\"attributes\":{\"source\":{\"id\":\"1044\"}},\"id\":\"1067\",\"type\":\"CDSView\"},{\"attributes\":{\"source\":{\"id\":\"1122\"}},\"id\":\"1127\",\"type\":\"CDSView\"},{\"attributes\":{\"line_color\":\"#4d4d4d\",\"line_width\":3,\"x\":{\"field\":\"x\"},\"y\":{\"field\":\"y\"}},\"id\":\"1823\",\"type\":\"Line\"},{\"attributes\":{},\"id\":\"1974\",\"type\":\"UnionRenderers\"},{\"attributes\":{\"line_alpha\":0.1,\"line_color\":\"#4d4d4d\",\"line_width\":3,\"x\":{\"field\":\"x\"},\"y\":{\"field\":\"y\"}},\"id\":\"1373\",\"type\":\"Line\"},{\"attributes\":{\"line_alpha\":0.1,\"line_color\":\"#4d4d4d\",\"line_width\":3,\"x\":{\"field\":\"x\"},\"y\":{\"field\":\"y\"}},\"id\":\"1547\",\"type\":\"Line\"},{\"attributes\":{\"data\":{\"x\":[1.2608151134748997,1.2896554160746323,1.275235264774766,1.275235264774766],\"y\":[0.07907556737449858,0.07907556737449858,0.07907556737449858,0.10070579432429799]},\"selected\":{\"id\":\"1993\"},\"selection_policy\":{\"id\":\"1992\"}},\"id\":\"1852\",\"type\":\"ColumnDataSource\"},{\"attributes\":{},\"id\":\"1079\",\"type\":\"UnionRenderers\"},{\"attributes\":{\"data_source\":{\"id\":\"1535\"},\"glyph\":{\"id\":\"1536\"},\"hover_glyph\":null,\"muted_glyph\":null,\"nonselection_glyph\":{\"id\":\"1537\"},\"selection_glyph\":null,\"view\":{\"id\":\"1539\"}},\"id\":\"1538\",\"type\":\"GlyphRenderer\"},{\"attributes\":{\"fill_alpha\":{\"value\":0.5},\"fill_color\":{\"value\":\"#525252\"},\"line_color\":{\"value\":\"#1a1a1a\"},\"xs\":{\"field\":\"z_l\"},\"ys\":{\"field\":\"y_l\"}},\"id\":\"1064\",\"type\":\"Patches\"},{\"attributes\":{\"fill_alpha\":{\"value\":0.5},\"fill_color\":{\"value\":\"#525252\"},\"line_color\":{\"value\":\"#1a1a1a\"},\"xs\":{\"field\":\"z_u\"},\"ys\":{\"field\":\"y_u\"}},\"id\":\"1124\",\"type\":\"Patches\"},{\"attributes\":{\"line_alpha\":0.1,\"line_color\":\"#4d4d4d\",\"line_width\":3,\"x\":{\"field\":\"x\"},\"y\":{\"field\":\"y\"}},\"id\":\"1467\",\"type\":\"Line\"},{\"attributes\":{\"source\":{\"id\":\"1535\"}},\"id\":\"1539\",\"type\":\"CDSView\"},{\"attributes\":{\"data\":{\"x\":[1.275235264774766,1.275235264774766],\"y\":[0.050235264774766,0.0646554160746323]},\"selected\":{\"id\":\"1985\"},\"selection_policy\":{\"id\":\"1984\"}},\"id\":\"1832\",\"type\":\"ColumnDataSource\"},{\"attributes\":{},\"id\":\"1976\",\"type\":\"UnionRenderers\"},{\"attributes\":{\"data_source\":{\"id\":\"1822\"},\"glyph\":{\"id\":\"1823\"},\"hover_glyph\":null,\"muted_glyph\":null,\"nonselection_glyph\":{\"id\":\"1824\"},\"selection_glyph\":null,\"view\":{\"id\":\"1826\"}},\"id\":\"1825\",\"type\":\"GlyphRenderer\"},{\"attributes\":{\"source\":{\"id\":\"1822\"}},\"id\":\"1826\",\"type\":\"CDSView\"},{\"attributes\":{},\"id\":\"1975\",\"type\":\"Selection\"},{\"attributes\":{\"line_alpha\":0.1,\"line_color\":\"#4d4d4d\",\"line_width\":3,\"x\":{\"field\":\"x\"},\"y\":{\"field\":\"y\"}},\"id\":\"1363\",\"type\":\"Line\"},{\"attributes\":{\"line_alpha\":0.1,\"line_color\":\"#4d4d4d\",\"line_width\":3,\"x\":{\"field\":\"x\"},\"y\":{\"field\":\"y\"}},\"id\":\"1542\",\"type\":\"Line\"},{\"attributes\":{\"data_source\":{\"id\":\"1044\"},\"glyph\":{\"id\":\"1064\"},\"hover_glyph\":null,\"muted_glyph\":null,\"name\":\"l_shaft\",\"nonselection_glyph\":{\"id\":\"1065\"},\"selection_glyph\":null,\"view\":{\"id\":\"1067\"}},\"id\":\"1066\",\"type\":\"GlyphRenderer\"},{\"attributes\":{\"data_source\":{\"id\":\"1122\"},\"glyph\":{\"id\":\"1124\"},\"hover_glyph\":null,\"muted_glyph\":null,\"name\":\"u_shaft\",\"nonselection_glyph\":{\"id\":\"1125\"},\"selection_glyph\":null,\"view\":{\"id\":\"1127\"}},\"id\":\"1126\",\"type\":\"GlyphRenderer\"},{\"attributes\":{},\"id\":\"1978\",\"type\":\"UnionRenderers\"},{\"attributes\":{\"fill_alpha\":{\"value\":0.1},\"fill_color\":{\"value\":\"#525252\"},\"line_alpha\":{\"value\":0.1},\"line_color\":{\"value\":\"#1a1a1a\"},\"xs\":{\"field\":\"z_l\"},\"ys\":{\"field\":\"y_l\"}},\"id\":\"1065\",\"type\":\"Patches\"},{\"attributes\":{\"fill_alpha\":{\"value\":0.1},\"fill_color\":{\"value\":\"#525252\"},\"line_alpha\":{\"value\":0.1},\"line_color\":{\"value\":\"#1a1a1a\"},\"xs\":{\"field\":\"z_u\"},\"ys\":{\"field\":\"y_u\"}},\"id\":\"1125\",\"type\":\"Patches\"},{\"attributes\":{\"line_color\":\"#4d4d4d\",\"line_width\":3,\"x\":{\"field\":\"x\"},\"y\":{\"field\":\"y\"}},\"id\":\"1466\",\"type\":\"Line\"},{\"attributes\":{\"data\":{\"x\":[1.25,1.25,1.224764735225234,1.275235264774766],\"y\":[0.025,0.050235264774766,0.050235264774766,0.050235264774766]},\"selected\":{\"id\":\"1657\"},\"selection_policy\":{\"id\":\"1656\"}},\"id\":\"1560\",\"type\":\"ColumnDataSource\"},{\"attributes\":{\"data\":{\"x\":[0.010815113474899715,0.039655416074632285,0.025235264774766,0.025235264774766],\"y\":[0.07907556737449858,0.07907556737449858,0.07907556737449858,0.10070579432429799]},\"selected\":{\"id\":\"1653\"},\"selection_policy\":{\"id\":\"1652\"}},\"id\":\"1550\",\"type\":\"ColumnDataSource\"},{\"attributes\":{},\"id\":\"1977\",\"type\":\"Selection\"},{\"attributes\":{\"data_source\":{\"id\":\"1465\"},\"glyph\":{\"id\":\"1466\"},\"hover_glyph\":null,\"muted_glyph\":null,\"nonselection_glyph\":{\"id\":\"1467\"},\"selection_glyph\":null,\"view\":{\"id\":\"1469\"}},\"id\":\"1468\",\"type\":\"GlyphRenderer\"},{\"attributes\":{\"fill_alpha\":{\"value\":0.1},\"fill_color\":{\"value\":\"#fddbc7\"},\"line_alpha\":{\"value\":0.1},\"line_color\":{\"value\":\"#1f77b4\"},\"size\":{\"units\":\"screen\",\"value\":30},\"x\":{\"field\":\"x\"},\"y\":{\"field\":\"y\"}},\"id\":\"1038\",\"type\":\"Circle\"},{\"attributes\":{\"line_color\":\"#4d4d4d\",\"line_width\":3,\"x\":{\"field\":\"x\"},\"y\":{\"field\":\"y\"}},\"id\":\"1828\",\"type\":\"Line\"},{\"attributes\":{},\"id\":\"1080\",\"type\":\"Selection\"},{\"attributes\":{\"source\":{\"id\":\"1465\"}},\"id\":\"1469\",\"type\":\"CDSView\"},{\"attributes\":{},\"id\":\"1980\",\"type\":\"UnionRenderers\"},{\"attributes\":{\"data\":{\"x\":[-0.019467204254819487,-0.00648906808493983],\"y\":[0.125941059099064,0.13853516500897042]},\"selected\":{\"id\":\"1621\"},\"selection_policy\":{\"id\":\"1620\"}},\"id\":\"1470\",\"type\":\"ColumnDataSource\"},{\"attributes\":{\"fill_color\":{\"value\":\"#b2182b\"},\"line_color\":{\"value\":\"#b2182b\"},\"line_width\":{\"value\":2},\"xs\":{\"field\":\"z_u\"},\"ys\":{\"field\":\"y_u\"}},\"id\":\"1315\",\"type\":\"Patches\"},{\"attributes\":{\"line_color\":\"#4d4d4d\",\"line_width\":3,\"x\":{\"field\":\"x\"},\"y\":{\"field\":\"y\"}},\"id\":\"1541\",\"type\":\"Line\"},{\"attributes\":{\"line_alpha\":0.1,\"line_color\":\"#4d4d4d\",\"line_width\":3,\"x\":{\"field\":\"x\"},\"y\":{\"field\":\"y\"}},\"id\":\"1839\",\"type\":\"Line\"},{\"attributes\":{},\"id\":\"1979\",\"type\":\"Selection\"},{\"attributes\":{\"data_source\":{\"id\":\"1540\"},\"glyph\":{\"id\":\"1541\"},\"hover_glyph\":null,\"muted_glyph\":null,\"nonselection_glyph\":{\"id\":\"1542\"},\"selection_glyph\":null,\"view\":{\"id\":\"1544\"}},\"id\":\"1543\",\"type\":\"GlyphRenderer\"},{\"attributes\":{\"data_source\":{\"id\":\"1827\"},\"glyph\":{\"id\":\"1828\"},\"hover_glyph\":null,\"muted_glyph\":null,\"nonselection_glyph\":{\"id\":\"1829\"},\"selection_glyph\":null,\"view\":{\"id\":\"1831\"}},\"id\":\"1830\",\"type\":\"GlyphRenderer\"},{\"attributes\":{\"source\":{\"id\":\"1122\"}},\"id\":\"1147\",\"type\":\"CDSView\"},{\"attributes\":{\"source\":{\"id\":\"1540\"}},\"id\":\"1544\",\"type\":\"CDSView\"},{\"attributes\":{\"source\":{\"id\":\"1827\"}},\"id\":\"1831\",\"type\":\"CDSView\"},{\"attributes\":{},\"id\":\"1982\",\"type\":\"UnionRenderers\"},{\"attributes\":{\"data\":{\"elnum\":[3],\"in_d_l\":[0.0],\"in_d_r\":[0.0],\"length\":[0.25],\"mat\":[\"Steel\"],\"out_d_l\":[0.05],\"out_d_r\":[0.05],\"sld\":[153.93364928909952],\"y_l\":[[-0.0,-0.025,-0.025,-0.0]],\"y_u\":[[0.0,0.025,0.025,0.0]],\"z_l\":[[0.75,0.75,1.0,1.0]],\"z_u\":[[0.75,0.75,1.0,1.0]]},\"selected\":{\"id\":\"1212\"},\"selection_policy\":{\"id\":\"1211\"}},\"id\":\"1166\",\"type\":\"ColumnDataSource\"},{\"attributes\":{\"line_alpha\":0.1,\"line_color\":\"#4d4d4d\",\"line_width\":3,\"x\":{\"field\":\"x\"},\"y\":{\"field\":\"y\"}},\"id\":\"1472\",\"type\":\"Line\"},{\"attributes\":{},\"id\":\"1163\",\"type\":\"UnionRenderers\"},{\"attributes\":{\"fill_alpha\":{\"value\":0.5},\"fill_color\":{\"value\":\"#525252\"},\"line_color\":{\"value\":\"#1a1a1a\"},\"xs\":{\"field\":\"z_l\"},\"ys\":{\"field\":\"y_l\"}},\"id\":\"1144\",\"type\":\"Patches\"},{\"attributes\":{},\"id\":\"1981\",\"type\":\"Selection\"},{\"attributes\":{},\"id\":\"1011\",\"type\":\"LinearScale\"},{\"attributes\":{\"line_alpha\":0.1,\"line_color\":\"#4d4d4d\",\"line_width\":3,\"x\":{\"field\":\"x\"},\"y\":{\"field\":\"y\"}},\"id\":\"1834\",\"type\":\"Line\"},{\"attributes\":{\"line_color\":\"#4d4d4d\",\"line_width\":3,\"x\":{\"field\":\"x\"},\"y\":{\"field\":\"y\"}},\"id\":\"1362\",\"type\":\"Line\"},{\"attributes\":{},\"id\":\"1984\",\"type\":\"UnionRenderers\"},{\"attributes\":{\"data_source\":{\"id\":\"1361\"},\"glyph\":{\"id\":\"1362\"},\"hover_glyph\":null,\"muted_glyph\":null,\"nonselection_glyph\":{\"id\":\"1363\"},\"selection_glyph\":null,\"view\":{\"id\":\"1365\"}},\"id\":\"1364\",\"type\":\"GlyphRenderer\"},{\"attributes\":{\"source\":{\"id\":\"1361\"}},\"id\":\"1365\",\"type\":\"CDSView\"},{\"attributes\":{\"line_color\":\"#4d4d4d\",\"line_width\":3,\"x\":{\"field\":\"x\"},\"y\":{\"field\":\"y\"}},\"id\":\"1546\",\"type\":\"Line\"},{\"attributes\":{\"data\":{\"x\":[1.2608151134748997,1.2608151134748997,1.2896554160746323,1.2896554160746323],\"y\":[0.08628564302443173,0.0646554160746323,0.0646554160746323,0.08628564302443173]},\"selected\":{\"id\":\"1989\"},\"selection_policy\":{\"id\":\"1988\"}},\"id\":\"1842\",\"type\":\"ColumnDataSource\"},{\"attributes\":{},\"id\":\"1983\",\"type\":\"Selection\"},{\"attributes\":{\"data_source\":{\"id\":\"1122\"},\"glyph\":{\"id\":\"1144\"},\"hover_glyph\":null,\"muted_glyph\":null,\"name\":\"l_shaft\",\"nonselection_glyph\":{\"id\":\"1145\"},\"selection_glyph\":null,\"view\":{\"id\":\"1147\"}},\"id\":\"1146\",\"type\":\"GlyphRenderer\"},{\"attributes\":{\"data\":{\"x\":[0.0,0.0,-0.025235264774766,0.025235264774766],\"y\":[-0.025,-0.050235264774766,-0.050235264774766,-0.050235264774766]},\"selected\":{\"id\":\"1408\"},\"selection_policy\":{\"id\":\"1407\"}},\"id\":\"1366\",\"type\":\"ColumnDataSource\"},{\"attributes\":{},\"id\":\"1342\",\"type\":\"UnionRenderers\"},{\"attributes\":{\"line_color\":\"#4d4d4d\",\"line_width\":3,\"x\":{\"field\":\"x\"},\"y\":{\"field\":\"y\"}},\"id\":\"1471\",\"type\":\"Line\"},{\"attributes\":{\"data\":{\"elnum\":[1],\"in_d_l\":[0.0],\"in_d_r\":[0.0],\"length\":[0.25],\"mat\":[\"Steel\"],\"out_d_l\":[0.05],\"out_d_r\":[0.05],\"sld\":[153.93364928909952],\"y_l\":[[-0.0,-0.025,-0.025,-0.0]],\"y_u\":[[0.0,0.025,0.025,0.0]],\"z_l\":[[0.25,0.25,0.5,0.5]],\"z_u\":[[0.25,0.25,0.5,0.5]]},\"selected\":{\"id\":\"1120\"},\"selection_policy\":{\"id\":\"1119\"}},\"id\":\"1082\",\"type\":\"ColumnDataSource\"},{\"attributes\":{\"fill_alpha\":{\"value\":0.1},\"fill_color\":{\"value\":\"#525252\"},\"line_alpha\":{\"value\":0.1},\"line_color\":{\"value\":\"#1a1a1a\"},\"xs\":{\"field\":\"z_l\"},\"ys\":{\"field\":\"y_l\"}},\"id\":\"1145\",\"type\":\"Patches\"},{\"attributes\":{\"data\":{\"x\":[1.2608151134748997,1.2608151134748997,1.2896554160746323,1.2896554160746323],\"y\":[-0.08628564302443173,-0.0646554160746323,-0.0646554160746323,-0.08628564302443173]},\"selected\":{\"id\":\"1991\"},\"selection_policy\":{\"id\":\"1990\"}},\"id\":\"1847\",\"type\":\"ColumnDataSource\"},{\"attributes\":{\"data_source\":{\"id\":\"1470\"},\"glyph\":{\"id\":\"1471\"},\"hover_glyph\":null,\"muted_glyph\":null,\"nonselection_glyph\":{\"id\":\"1472\"},\"selection_glyph\":null,\"view\":{\"id\":\"1474\"}},\"id\":\"1473\",\"type\":\"GlyphRenderer\"},{\"attributes\":{\"source\":{\"id\":\"1082\"}},\"id\":\"1087\",\"type\":\"CDSView\"},{\"attributes\":{\"data\":{\"x\":[0.010815113474899715,0.039655416074632285,0.025235264774766,0.025235264774766],\"y\":[-0.07907556737449858,-0.07907556737449858,-0.07907556737449858,-0.10070579432429799]},\"selected\":{\"id\":\"1655\"},\"selection_policy\":{\"id\":\"1654\"}},\"id\":\"1555\",\"type\":\"ColumnDataSource\"},{\"attributes\":{},\"id\":\"1986\",\"type\":\"UnionRenderers\"},{\"attributes\":{\"data_source\":{\"id\":\"1545\"},\"glyph\":{\"id\":\"1546\"},\"hover_glyph\":null,\"muted_glyph\":null,\"nonselection_glyph\":{\"id\":\"1547\"},\"selection_glyph\":null,\"view\":{\"id\":\"1549\"}},\"id\":\"1548\",\"type\":\"GlyphRenderer\"},{\"attributes\":{\"source\":{\"id\":\"1470\"}},\"id\":\"1474\",\"type\":\"CDSView\"},{\"attributes\":{\"line_color\":\"#4d4d4d\",\"line_width\":3,\"x\":{\"field\":\"x\"},\"y\":{\"field\":\"y\"}},\"id\":\"1833\",\"type\":\"Line\"},{\"attributes\":{},\"id\":\"1164\",\"type\":\"Selection\"},{\"attributes\":{\"data_source\":{\"id\":\"1832\"},\"glyph\":{\"id\":\"1833\"},\"hover_glyph\":null,\"muted_glyph\":null,\"nonselection_glyph\":{\"id\":\"1834\"},\"selection_glyph\":null,\"view\":{\"id\":\"1836\"}},\"id\":\"1835\",\"type\":\"GlyphRenderer\"},{\"attributes\":{\"line_alpha\":0.1,\"line_color\":\"#4d4d4d\",\"line_width\":3,\"x\":{\"field\":\"x\"},\"y\":{\"field\":\"y\"}},\"id\":\"1368\",\"type\":\"Line\"},{\"attributes\":{\"data\":{\"x\":[-0.019467204254819487,-0.00648906808493983],\"y\":[-0.125941059099064,-0.13853516500897042]},\"selected\":{\"id\":\"1623\"},\"selection_policy\":{\"id\":\"1622\"}},\"id\":\"1475\",\"type\":\"ColumnDataSource\"},{\"attributes\":{\"source\":{\"id\":\"1545\"}},\"id\":\"1549\",\"type\":\"CDSView\"},{\"attributes\":{\"fill_alpha\":{\"value\":0.5},\"fill_color\":{\"value\":\"#525252\"},\"line_color\":{\"value\":\"#1a1a1a\"},\"xs\":{\"field\":\"z_u\"},\"ys\":{\"field\":\"y_u\"}},\"id\":\"1084\",\"type\":\"Patches\"},{\"attributes\":{\"source\":{\"id\":\"1832\"}},\"id\":\"1836\",\"type\":\"CDSView\"},{\"attributes\":{},\"id\":\"1988\",\"type\":\"UnionRenderers\"},{\"attributes\":{\"line_alpha\":0.1,\"line_color\":\"#4d4d4d\",\"line_width\":3,\"x\":{\"field\":\"x\"},\"y\":{\"field\":\"y\"}},\"id\":\"1552\",\"type\":\"Line\"},{\"attributes\":{},\"id\":\"1987\",\"type\":\"Selection\"},{\"attributes\":{\"line_alpha\":0.1,\"line_color\":\"#4d4d4d\",\"line_width\":3,\"x\":{\"field\":\"x\"},\"y\":{\"field\":\"y\"}},\"id\":\"1477\",\"type\":\"Line\"},{\"attributes\":{\"data\":{\"elnum\":[4],\"in_d_l\":[0.0],\"in_d_r\":[0.0],\"length\":[0.25],\"mat\":[\"Steel\"],\"out_d_l\":[0.05],\"out_d_r\":[0.05],\"sld\":[153.93364928909952],\"y_l\":[[-0.0,-0.025,-0.025,-0.0]],\"y_u\":[[0.0,0.025,0.025,0.0]],\"z_l\":[[1.0,1.0,1.25,1.25]],\"z_u\":[[1.0,1.0,1.25,1.25]]},\"selected\":{\"id\":\"1264\"},\"selection_policy\":{\"id\":\"1263\"}},\"id\":\"1214\",\"type\":\"ColumnDataSource\"},{\"attributes\":{},\"id\":\"1990\",\"type\":\"UnionRenderers\"},{\"attributes\":{\"line_alpha\":0.1,\"line_color\":\"#4d4d4d\",\"line_width\":3,\"x\":{\"field\":\"x\"},\"y\":{\"field\":\"y\"}},\"id\":\"1557\",\"type\":\"Line\"},{\"attributes\":{\"data_source\":{\"id\":\"1082\"},\"glyph\":{\"id\":\"1084\"},\"hover_glyph\":null,\"muted_glyph\":null,\"name\":\"u_shaft\",\"nonselection_glyph\":{\"id\":\"1085\"},\"selection_glyph\":null,\"view\":{\"id\":\"1087\"}},\"id\":\"1086\",\"type\":\"GlyphRenderer\"},{\"attributes\":{\"source\":{\"id\":\"1214\"}},\"id\":\"1219\",\"type\":\"CDSView\"},{\"attributes\":{\"data\":{\"x\":[1.25,1.25,1.224764735225234,1.275235264774766],\"y\":[0.125941059099064,0.10070579432429799,0.10070579432429799,0.10070579432429799]},\"selected\":{\"id\":\"1751\"},\"selection_policy\":{\"id\":\"1750\"}},\"id\":\"1570\",\"type\":\"ColumnDataSource\"},{\"attributes\":{\"fill_alpha\":{\"value\":0.1},\"fill_color\":{\"value\":\"#525252\"},\"line_alpha\":{\"value\":0.1},\"line_color\":{\"value\":\"#1a1a1a\"},\"xs\":{\"field\":\"z_u\"},\"ys\":{\"field\":\"y_u\"}},\"id\":\"1085\",\"type\":\"Patches\"},{\"attributes\":{\"line_color\":\"#4d4d4d\",\"line_width\":3,\"x\":{\"field\":\"x\"},\"y\":{\"field\":\"y\"}},\"id\":\"1367\",\"type\":\"Line\"},{\"attributes\":{\"line_color\":\"#4d4d4d\",\"line_width\":3,\"x\":{\"field\":\"x\"},\"y\":{\"field\":\"y\"}},\"id\":\"1838\",\"type\":\"Line\"},{\"attributes\":{\"data\":{\"x\":[1.25,1.25,1.224764735225234,1.275235264774766],\"y\":[-0.025,-0.050235264774766,-0.050235264774766,-0.050235264774766]},\"selected\":{\"id\":\"1659\"},\"selection_policy\":{\"id\":\"1658\"}},\"id\":\"1565\",\"type\":\"ColumnDataSource\"},{\"attributes\":{\"data_source\":{\"id\":\"1366\"},\"glyph\":{\"id\":\"1367\"},\"hover_glyph\":null,\"muted_glyph\":null,\"nonselection_glyph\":{\"id\":\"1368\"},\"selection_glyph\":null,\"view\":{\"id\":\"1370\"}},\"id\":\"1369\",\"type\":\"GlyphRenderer\"},{\"attributes\":{},\"id\":\"1989\",\"type\":\"Selection\"},{\"attributes\":{\"fill_alpha\":{\"value\":0.5},\"fill_color\":{\"value\":\"#525252\"},\"line_color\":{\"value\":\"#1a1a1a\"},\"xs\":{\"field\":\"z_u\"},\"ys\":{\"field\":\"y_u\"}},\"id\":\"1216\",\"type\":\"Patches\"},{\"attributes\":{\"source\":{\"id\":\"1366\"}},\"id\":\"1370\",\"type\":\"CDSView\"},{\"attributes\":{},\"id\":\"1992\",\"type\":\"UnionRenderers\"},{\"attributes\":{\"data\":{\"x\":[0.0,0.0,-0.025235264774766,0.025235264774766],\"y\":[0.125941059099064,0.10070579432429799,0.10070579432429799,0.10070579432429799]},\"selected\":{\"id\":\"1449\"},\"selection_policy\":{\"id\":\"1448\"}},\"id\":\"1371\",\"type\":\"ColumnDataSource\"},{\"attributes\":{\"line_color\":\"#4d4d4d\",\"line_width\":3,\"x\":{\"field\":\"x\"},\"y\":{\"field\":\"y\"}},\"id\":\"1551\",\"type\":\"Line\"},{\"attributes\":{\"line_color\":\"#4d4d4d\",\"line_width\":3,\"x\":{\"field\":\"x\"},\"y\":{\"field\":\"y\"}},\"id\":\"1843\",\"type\":\"Line\"},{\"attributes\":{\"line_color\":\"#4d4d4d\",\"line_width\":3,\"x\":{\"field\":\"x\"},\"y\":{\"field\":\"y\"}},\"id\":\"1476\",\"type\":\"Line\"},{\"attributes\":{\"data_source\":{\"id\":\"1371\"},\"glyph\":{\"id\":\"1372\"},\"hover_glyph\":null,\"muted_glyph\":null,\"nonselection_glyph\":{\"id\":\"1373\"},\"selection_glyph\":null,\"view\":{\"id\":\"1375\"}},\"id\":\"1374\",\"type\":\"GlyphRenderer\"},{\"attributes\":{\"data_source\":{\"id\":\"1550\"},\"glyph\":{\"id\":\"1551\"},\"hover_glyph\":null,\"muted_glyph\":null,\"nonselection_glyph\":{\"id\":\"1552\"},\"selection_glyph\":null,\"view\":{\"id\":\"1554\"}},\"id\":\"1553\",\"type\":\"GlyphRenderer\"},{\"attributes\":{\"data_source\":{\"id\":\"1837\"},\"glyph\":{\"id\":\"1838\"},\"hover_glyph\":null,\"muted_glyph\":null,\"nonselection_glyph\":{\"id\":\"1839\"},\"selection_glyph\":null,\"view\":{\"id\":\"1841\"}},\"id\":\"1840\",\"type\":\"GlyphRenderer\"},{\"attributes\":{\"data_source\":{\"id\":\"1475\"},\"glyph\":{\"id\":\"1476\"},\"hover_glyph\":null,\"muted_glyph\":null,\"nonselection_glyph\":{\"id\":\"1477\"},\"selection_glyph\":null,\"view\":{\"id\":\"1479\"}},\"id\":\"1478\",\"type\":\"GlyphRenderer\"},{\"attributes\":{\"fill_alpha\":{\"value\":0.1},\"fill_color\":{\"value\":\"#525252\"},\"line_alpha\":{\"value\":0.1},\"line_color\":{\"value\":\"#1a1a1a\"},\"xs\":{\"field\":\"z_l\"},\"ys\":{\"field\":\"y_l\"}},\"id\":\"1103\",\"type\":\"Patches\"},{\"attributes\":{\"source\":{\"id\":\"1550\"}},\"id\":\"1554\",\"type\":\"CDSView\"},{\"attributes\":{\"source\":{\"id\":\"1837\"}},\"id\":\"1841\",\"type\":\"CDSView\"},{\"attributes\":{\"data_source\":{\"id\":\"1555\"},\"glyph\":{\"id\":\"1556\"},\"hover_glyph\":null,\"muted_glyph\":null,\"nonselection_glyph\":{\"id\":\"1557\"},\"selection_glyph\":null,\"view\":{\"id\":\"1559\"}},\"id\":\"1558\",\"type\":\"GlyphRenderer\"},{\"attributes\":{\"source\":{\"id\":\"1475\"}},\"id\":\"1479\",\"type\":\"CDSView\"},{\"attributes\":{\"data_source\":{\"id\":\"1082\"},\"glyph\":{\"id\":\"1102\"},\"hover_glyph\":null,\"muted_glyph\":null,\"name\":\"l_shaft\",\"nonselection_glyph\":{\"id\":\"1103\"},\"selection_glyph\":null,\"view\":{\"id\":\"1105\"}},\"id\":\"1104\",\"type\":\"GlyphRenderer\"},{\"attributes\":{\"data_source\":{\"id\":\"1214\"},\"glyph\":{\"id\":\"1216\"},\"hover_glyph\":null,\"muted_glyph\":null,\"name\":\"u_shaft\",\"nonselection_glyph\":{\"id\":\"1217\"},\"selection_glyph\":null,\"view\":{\"id\":\"1219\"}},\"id\":\"1218\",\"type\":\"GlyphRenderer\"},{\"attributes\":{\"data\":{\"x\":[-0.00648906808493983,0.006489068084939827],\"y\":[0.125941059099064,0.13853516500897042]},\"selected\":{\"id\":\"1625\"},\"selection_policy\":{\"id\":\"1624\"}},\"id\":\"1480\",\"type\":\"ColumnDataSource\"},{\"attributes\":{},\"id\":\"1009\",\"type\":\"LinearScale\"},{\"attributes\":{\"fill_alpha\":{\"value\":0.1},\"fill_color\":{\"value\":\"#525252\"},\"line_alpha\":{\"value\":0.1},\"line_color\":{\"value\":\"#1a1a1a\"},\"xs\":{\"field\":\"z_u\"},\"ys\":{\"field\":\"y_u\"}},\"id\":\"1217\",\"type\":\"Patches\"},{\"attributes\":{\"line_color\":\"#4d4d4d\",\"line_width\":3,\"x\":{\"field\":\"x\"},\"y\":{\"field\":\"y\"}},\"id\":\"1372\",\"type\":\"Line\"},{\"attributes\":{\"line_color\":\"#4d4d4d\",\"line_width\":3,\"x\":{\"field\":\"x\"},\"y\":{\"field\":\"y\"}},\"id\":\"1556\",\"type\":\"Line\"},{\"attributes\":{\"fill_alpha\":{\"value\":0.5},\"fill_color\":{\"value\":\"#525252\"},\"line_color\":{\"value\":\"#1a1a1a\"},\"xs\":{\"field\":\"z_l\"},\"ys\":{\"field\":\"y_l\"}},\"id\":\"1102\",\"type\":\"Patches\"},{\"attributes\":{\"line_alpha\":0.1,\"line_color\":\"#4d4d4d\",\"line_width\":3,\"x\":{\"field\":\"x\"},\"y\":{\"field\":\"y\"}},\"id\":\"1844\",\"type\":\"Line\"},{\"attributes\":{\"fill_alpha\":{\"value\":0.1},\"fill_color\":{\"value\":\"#b2182b\"},\"line_alpha\":{\"value\":0.1},\"line_color\":{\"value\":\"#b2182b\"},\"line_width\":{\"value\":2},\"xs\":{\"field\":\"z_u\"},\"ys\":{\"field\":\"y_u\"}},\"id\":\"1316\",\"type\":\"Patches\"},{\"attributes\":{\"data\":{\"x\":[1.2608151134748997,1.2896554160746323,1.275235264774766,1.275235264774766],\"y\":[-0.07907556737449858,-0.07907556737449858,-0.07907556737449858,-0.10070579432429799]},\"selected\":{\"id\":\"1995\"},\"selection_policy\":{\"id\":\"1994\"}},\"id\":\"1857\",\"type\":\"ColumnDataSource\"},{\"attributes\":{},\"id\":\"1993\",\"type\":\"Selection\"},{\"attributes\":{\"line_alpha\":0.1,\"line_color\":\"#4d4d4d\",\"line_width\":3,\"x\":{\"field\":\"x\"},\"y\":{\"field\":\"y\"}},\"id\":\"1769\",\"type\":\"Line\"},{\"attributes\":{\"data\":{\"x\":[1.2564890680849399,1.2694672042548194],\"y\":[0.125941059099064,0.13853516500897042]},\"selected\":{\"id\":\"1969\"},\"selection_policy\":{\"id\":\"1968\"}},\"id\":\"1792\",\"type\":\"ColumnDataSource\"},{\"attributes\":{\"line_alpha\":0.1,\"line_color\":\"#4d4d4d\",\"line_width\":3,\"x\":{\"field\":\"x\"},\"y\":{\"field\":\"y\"}},\"id\":\"1764\",\"type\":\"Line\"},{\"attributes\":{\"data\":{\"x\":[1.2305327957451806,1.2435109319150601],\"y\":[0.125941059099064,0.13853516500897042]},\"selected\":{\"id\":\"1961\"},\"selection_policy\":{\"id\":\"1960\"}},\"id\":\"1772\",\"type\":\"ColumnDataSource\"},{\"attributes\":{},\"id\":\"1211\",\"type\":\"UnionRenderers\"},{\"attributes\":{\"line_alpha\":0.1,\"line_color\":\"#4d4d4d\",\"line_width\":3,\"x\":{\"field\":\"x\"},\"y\":{\"field\":\"y\"}},\"id\":\"1779\",\"type\":\"Line\"},{\"attributes\":{\"fill_alpha\":{\"value\":0.1},\"fill_color\":{\"value\":\"#525252\"},\"line_alpha\":{\"value\":0.1},\"line_color\":{\"value\":\"#1a1a1a\"},\"xs\":{\"field\":\"z_l\"},\"ys\":{\"field\":\"y_l\"}},\"id\":\"1191\",\"type\":\"Patches\"},{\"attributes\":{\"line_color\":\"#4d4d4d\",\"line_width\":3,\"x\":{\"field\":\"x\"},\"y\":{\"field\":\"y\"}},\"id\":\"1763\",\"type\":\"Line\"},{\"attributes\":{\"data_source\":{\"id\":\"1762\"},\"glyph\":{\"id\":\"1763\"},\"hover_glyph\":null,\"muted_glyph\":null,\"nonselection_glyph\":{\"id\":\"1764\"},\"selection_glyph\":null,\"view\":{\"id\":\"1766\"}},\"id\":\"1765\",\"type\":\"GlyphRenderer\"},{\"attributes\":{\"source\":{\"id\":\"1762\"}},\"id\":\"1766\",\"type\":\"CDSView\"},{\"attributes\":{\"line_color\":\"#4d4d4d\",\"line_width\":3,\"x\":{\"field\":\"x\"},\"y\":{\"field\":\"y\"}},\"id\":\"1768\",\"type\":\"Line\"},{\"attributes\":{\"data\":{\"x\":[1.2305327957451806,1.2435109319150601],\"y\":[-0.125941059099064,-0.13853516500897042]},\"selected\":{\"id\":\"1963\"},\"selection_policy\":{\"id\":\"1962\"}},\"id\":\"1777\",\"type\":\"ColumnDataSource\"},{\"attributes\":{\"data_source\":{\"id\":\"1767\"},\"glyph\":{\"id\":\"1768\"},\"hover_glyph\":null,\"muted_glyph\":null,\"nonselection_glyph\":{\"id\":\"1769\"},\"selection_glyph\":null,\"view\":{\"id\":\"1771\"}},\"id\":\"1770\",\"type\":\"GlyphRenderer\"},{\"attributes\":{\"source\":{\"id\":\"1767\"}},\"id\":\"1771\",\"type\":\"CDSView\"},{\"attributes\":{\"line_alpha\":0.1,\"line_color\":\"#4d4d4d\",\"line_width\":3,\"x\":{\"field\":\"x\"},\"y\":{\"field\":\"y\"}},\"id\":\"1774\",\"type\":\"Line\"},{\"attributes\":{\"data\":{\"x\":[1.2435109319150601,1.2564890680849399],\"y\":[0.125941059099064,0.13853516500897042]},\"selected\":{\"id\":\"1965\"},\"selection_policy\":{\"id\":\"1964\"}},\"id\":\"1782\",\"type\":\"ColumnDataSource\"},{\"attributes\":{\"line_color\":\"#4d4d4d\",\"line_width\":3,\"x\":{\"field\":\"x\"},\"y\":{\"field\":\"y\"}},\"id\":\"1773\",\"type\":\"Line\"},{\"attributes\":{\"data_source\":{\"id\":\"1772\"},\"glyph\":{\"id\":\"1773\"},\"hover_glyph\":null,\"muted_glyph\":null,\"nonselection_glyph\":{\"id\":\"1774\"},\"selection_glyph\":null,\"view\":{\"id\":\"1776\"}},\"id\":\"1775\",\"type\":\"GlyphRenderer\"},{\"attributes\":{\"source\":{\"id\":\"1772\"}},\"id\":\"1776\",\"type\":\"CDSView\"},{\"attributes\":{\"data_source\":{\"id\":\"1166\"},\"glyph\":{\"id\":\"1190\"},\"hover_glyph\":null,\"muted_glyph\":null,\"name\":\"l_shaft\",\"nonselection_glyph\":{\"id\":\"1191\"},\"selection_glyph\":null,\"view\":{\"id\":\"1193\"}},\"id\":\"1192\",\"type\":\"GlyphRenderer\"},{\"attributes\":{\"line_alpha\":0.1,\"line_color\":\"#4d4d4d\",\"line_width\":3,\"x\":{\"field\":\"x\"},\"y\":{\"field\":\"y\"}},\"id\":\"1789\",\"type\":\"Line\"},{\"attributes\":{\"axis_label\":\"Shaft radius (m)\",\"axis_label_text_font_size\":\"14pt\",\"formatter\":{\"id\":\"1051\"},\"ticker\":{\"id\":\"1018\"}},\"id\":\"1017\",\"type\":\"LinearAxis\"},{\"attributes\":{\"line_color\":\"#4d4d4d\",\"line_width\":3,\"x\":{\"field\":\"x\"},\"y\":{\"field\":\"y\"}},\"id\":\"1778\",\"type\":\"Line\"},{\"attributes\":{},\"id\":\"1341\",\"type\":\"Selection\"},{\"attributes\":{\"data\":{\"x\":[1.2435109319150601,1.2564890680849399],\"y\":[-0.125941059099064,-0.13853516500897042]},\"selected\":{\"id\":\"1967\"},\"selection_policy\":{\"id\":\"1966\"}},\"id\":\"1787\",\"type\":\"ColumnDataSource\"},{\"attributes\":{\"data_source\":{\"id\":\"1777\"},\"glyph\":{\"id\":\"1778\"},\"hover_glyph\":null,\"muted_glyph\":null,\"nonselection_glyph\":{\"id\":\"1779\"},\"selection_glyph\":null,\"view\":{\"id\":\"1781\"}},\"id\":\"1780\",\"type\":\"GlyphRenderer\"},{\"attributes\":{},\"id\":\"1212\",\"type\":\"Selection\"},{\"attributes\":{\"source\":{\"id\":\"1777\"}},\"id\":\"1781\",\"type\":\"CDSView\"},{\"attributes\":{\"line_alpha\":0.1,\"line_color\":\"#4d4d4d\",\"line_width\":3,\"x\":{\"field\":\"x\"},\"y\":{\"field\":\"y\"}},\"id\":\"1784\",\"type\":\"Line\"},{\"attributes\":{\"data\":{\"x\":[-0.25,1.5],\"y\":[0,0]},\"selected\":{\"id\":\"1056\"},\"selection_policy\":{\"id\":\"1055\"}},\"id\":\"1030\",\"type\":\"ColumnDataSource\"},{\"attributes\":{\"source\":{\"id\":\"1166\"}},\"id\":\"1193\",\"type\":\"CDSView\"},{\"attributes\":{\"fill_alpha\":{\"value\":0.5},\"fill_color\":{\"value\":\"#525252\"},\"line_color\":{\"value\":\"#1a1a1a\"},\"xs\":{\"field\":\"z_l\"},\"ys\":{\"field\":\"y_l\"}},\"id\":\"1190\",\"type\":\"Patches\"},{\"attributes\":{\"data\":{\"x\":[1.2564890680849399,1.2694672042548194],\"y\":[-0.125941059099064,-0.13853516500897042]},\"selected\":{\"id\":\"1971\"},\"selection_policy\":{\"id\":\"1970\"}},\"id\":\"1797\",\"type\":\"ColumnDataSource\"},{\"attributes\":{\"line_color\":\"#4d4d4d\",\"line_width\":3,\"x\":{\"field\":\"x\"},\"y\":{\"field\":\"y\"}},\"id\":\"1783\",\"type\":\"Line\"},{\"attributes\":{\"data_source\":{\"id\":\"1782\"},\"glyph\":{\"id\":\"1783\"},\"hover_glyph\":null,\"muted_glyph\":null,\"nonselection_glyph\":{\"id\":\"1784\"},\"selection_glyph\":null,\"view\":{\"id\":\"1786\"}},\"id\":\"1785\",\"type\":\"GlyphRenderer\"},{\"attributes\":{\"source\":{\"id\":\"1782\"}},\"id\":\"1786\",\"type\":\"CDSView\"},{\"attributes\":{\"line_color\":\"#4d4d4d\",\"line_width\":3,\"x\":{\"field\":\"x\"},\"y\":{\"field\":\"y\"}},\"id\":\"1788\",\"type\":\"Line\"},{\"attributes\":{},\"id\":\"1994\",\"type\":\"UnionRenderers\"},{\"attributes\":{\"data_source\":{\"id\":\"1480\"},\"glyph\":{\"id\":\"1481\"},\"hover_glyph\":null,\"muted_glyph\":null,\"nonselection_glyph\":{\"id\":\"1482\"},\"selection_glyph\":null,\"view\":{\"id\":\"1484\"}},\"id\":\"1483\",\"type\":\"GlyphRenderer\"},{\"attributes\":{},\"id\":\"1995\",\"type\":\"Selection\"},{\"attributes\":{\"line_alpha\":0.1,\"line_color\":\"#4d4d4d\",\"line_width\":3,\"x\":{\"field\":\"x\"},\"y\":{\"field\":\"y\"}},\"id\":\"1482\",\"type\":\"Line\"},{\"attributes\":{},\"id\":\"1055\",\"type\":\"UnionRenderers\"},{\"attributes\":{\"source\":{\"id\":\"1480\"}},\"id\":\"1484\",\"type\":\"CDSView\"},{\"attributes\":{\"data\":{\"x\":[-0.00648906808493983,0.006489068084939827],\"y\":[-0.125941059099064,-0.13853516500897042]},\"selected\":{\"id\":\"1627\"},\"selection_policy\":{\"id\":\"1626\"}},\"id\":\"1485\",\"type\":\"ColumnDataSource\"},{\"attributes\":{\"line_alpha\":0.1,\"line_color\":\"#4d4d4d\",\"line_width\":3,\"x\":{\"field\":\"x\"},\"y\":{\"field\":\"y\"}},\"id\":\"1487\",\"type\":\"Line\"},{\"attributes\":{\"line_color\":\"#4d4d4d\",\"line_width\":3,\"x\":{\"field\":\"x\"},\"y\":{\"field\":\"y\"}},\"id\":\"1486\",\"type\":\"Line\"},{\"attributes\":{\"data_source\":{\"id\":\"1485\"},\"glyph\":{\"id\":\"1486\"},\"hover_glyph\":null,\"muted_glyph\":null,\"nonselection_glyph\":{\"id\":\"1487\"},\"selection_glyph\":null,\"view\":{\"id\":\"1489\"}},\"id\":\"1488\",\"type\":\"GlyphRenderer\"},{\"attributes\":{\"source\":{\"id\":\"1485\"}},\"id\":\"1489\",\"type\":\"CDSView\"},{\"attributes\":{},\"id\":\"1056\",\"type\":\"Selection\"},{\"attributes\":{\"data_source\":{\"id\":\"1035\"},\"glyph\":{\"id\":\"1041\"},\"hover_glyph\":null,\"muted_glyph\":null,\"view\":{\"id\":\"1043\"}},\"id\":\"1042\",\"type\":\"GlyphRenderer\"},{\"attributes\":{\"data\":{\"x\":[0.006489068084939827,0.019467204254819487],\"y\":[0.125941059099064,0.13853516500897042]},\"selected\":{\"id\":\"1629\"},\"selection_policy\":{\"id\":\"1628\"}},\"id\":\"1490\",\"type\":\"ColumnDataSource\"},{\"attributes\":{\"line_alpha\":0.1,\"line_color\":\"#4d4d4d\",\"line_width\":3,\"x\":{\"field\":\"x\"},\"y\":{\"field\":\"y\"}},\"id\":\"1492\",\"type\":\"Line\"},{\"attributes\":{\"data\":{\"elnum\":[0],\"in_d_l\":[0.0],\"in_d_r\":[0.0],\"length\":[0.25],\"mat\":[\"Steel\"],\"out_d_l\":[0.05],\"out_d_r\":[0.05],\"sld\":[153.93364928909952],\"y_l\":[[-0.0,-0.025,-0.025,-0.0]],\"y_u\":[[0.0,0.025,0.025,0.0]],\"z_l\":[[0.0,0.0,0.25,0.25]],\"z_u\":[[0.0,0.0,0.25,0.25]]},\"selected\":{\"id\":\"1080\"},\"selection_policy\":{\"id\":\"1079\"}},\"id\":\"1044\",\"type\":\"ColumnDataSource\"},{\"attributes\":{\"line_color\":\"#4d4d4d\",\"line_width\":3,\"x\":{\"field\":\"x\"},\"y\":{\"field\":\"y\"}},\"id\":\"1491\",\"type\":\"Line\"},{\"attributes\":{\"data_source\":{\"id\":\"1490\"},\"glyph\":{\"id\":\"1491\"},\"hover_glyph\":null,\"muted_glyph\":null,\"nonselection_glyph\":{\"id\":\"1492\"},\"selection_glyph\":null,\"view\":{\"id\":\"1494\"}},\"id\":\"1493\",\"type\":\"GlyphRenderer\"},{\"attributes\":{\"source\":{\"id\":\"1490\"}},\"id\":\"1494\",\"type\":\"CDSView\"},{\"attributes\":{\"data\":{\"x\":[0.006489068084939827,0.019467204254819487],\"y\":[-0.125941059099064,-0.13853516500897042]},\"selected\":{\"id\":\"1631\"},\"selection_policy\":{\"id\":\"1630\"}},\"id\":\"1495\",\"type\":\"ColumnDataSource\"},{\"attributes\":{\"line_alpha\":0.1,\"line_color\":\"#4d4d4d\",\"line_width\":3,\"x\":{\"field\":\"x\"},\"y\":{\"field\":\"y\"}},\"id\":\"1497\",\"type\":\"Line\"},{\"attributes\":{\"fill_alpha\":{\"value\":0.5},\"fill_color\":{\"value\":\"#525252\"},\"line_color\":{\"value\":\"#1a1a1a\"},\"xs\":{\"field\":\"z_u\"},\"ys\":{\"field\":\"y_u\"}},\"id\":\"1046\",\"type\":\"Patches\"},{\"attributes\":{\"source\":{\"id\":\"1044\"}},\"id\":\"1049\",\"type\":\"CDSView\"},{\"attributes\":{\"line_color\":\"#4d4d4d\",\"line_width\":3,\"x\":{\"field\":\"x\"},\"y\":{\"field\":\"y\"}},\"id\":\"1496\",\"type\":\"Line\"},{\"attributes\":{},\"id\":\"1053\",\"type\":\"BasicTickFormatter\"},{\"attributes\":{\"data_source\":{\"id\":\"1495\"},\"glyph\":{\"id\":\"1496\"},\"hover_glyph\":null,\"muted_glyph\":null,\"nonselection_glyph\":{\"id\":\"1497\"},\"selection_glyph\":null,\"view\":{\"id\":\"1499\"}},\"id\":\"1498\",\"type\":\"GlyphRenderer\"},{\"attributes\":{\"fill_alpha\":{\"value\":0.1},\"fill_color\":{\"value\":\"#525252\"},\"line_alpha\":{\"value\":0.1},\"line_color\":{\"value\":\"#1a1a1a\"},\"xs\":{\"field\":\"z_u\"},\"ys\":{\"field\":\"y_u\"}},\"id\":\"1047\",\"type\":\"Patches\"},{\"attributes\":{\"source\":{\"id\":\"1495\"}},\"id\":\"1499\",\"type\":\"CDSView\"},{\"attributes\":{\"data\":{\"x\":[0.019467204254819487,0.03244534042469915],\"y\":[0.125941059099064,0.13853516500897042]},\"selected\":{\"id\":\"1633\"},\"selection_policy\":{\"id\":\"1632\"}},\"id\":\"1500\",\"type\":\"ColumnDataSource\"},{\"attributes\":{\"data_source\":{\"id\":\"1500\"},\"glyph\":{\"id\":\"1501\"},\"hover_glyph\":null,\"muted_glyph\":null,\"nonselection_glyph\":{\"id\":\"1502\"},\"selection_glyph\":null,\"view\":{\"id\":\"1504\"}},\"id\":\"1503\",\"type\":\"GlyphRenderer\"},{\"attributes\":{\"source\":{\"id\":\"1036\"}},\"id\":\"1040\",\"type\":\"CDSView\"},{\"attributes\":{\"source\":{\"id\":\"1035\"}},\"id\":\"1043\",\"type\":\"CDSView\"},{\"attributes\":{\"data_source\":{\"id\":\"1036\"},\"glyph\":{\"id\":\"1037\"},\"hover_glyph\":null,\"muted_glyph\":null,\"nonselection_glyph\":{\"id\":\"1038\"},\"selection_glyph\":null,\"view\":{\"id\":\"1040\"}},\"id\":\"1039\",\"type\":\"GlyphRenderer\"},{\"attributes\":{\"source\":{\"id\":\"1500\"}},\"id\":\"1504\",\"type\":\"CDSView\"},{\"attributes\":{\"line_color\":\"#4d4d4d\",\"line_width\":3,\"x\":{\"field\":\"x\"},\"y\":{\"field\":\"y\"}},\"id\":\"1501\",\"type\":\"Line\"},{\"attributes\":{\"data_source\":{\"id\":\"1044\"},\"glyph\":{\"id\":\"1046\"},\"hover_glyph\":null,\"muted_glyph\":null,\"name\":\"u_shaft\",\"nonselection_glyph\":{\"id\":\"1047\"},\"selection_glyph\":null,\"view\":{\"id\":\"1049\"}},\"id\":\"1048\",\"type\":\"GlyphRenderer\"},{\"attributes\":{},\"id\":\"1051\",\"type\":\"BasicTickFormatter\"},{\"attributes\":{\"line_alpha\":0.1,\"line_color\":\"#4d4d4d\",\"line_width\":3,\"x\":{\"field\":\"x\"},\"y\":{\"field\":\"y\"}},\"id\":\"1502\",\"type\":\"Line\"}],\"root_ids\":[\"1002\"]},\"title\":\"Bokeh Application\",\"version\":\"2.0.0\"}};\n",
       "  var render_items = [{\"docid\":\"9a6ffe84-dcfe-43dd-bf51-cc0fdcbc8a63\",\"root_ids\":[\"1002\"],\"roots\":{\"1002\":\"3c0b316c-51d7-40f4-b3a0-5a6480973e0e\"}}];\n",
       "  root.Bokeh.embed.embed_items_notebook(docs_json, render_items);\n",
       "\n",
       "  }\n",
       "  if (root.Bokeh !== undefined) {\n",
       "    embed_document(root);\n",
       "  } else {\n",
       "    var attempts = 0;\n",
       "    var timer = setInterval(function(root) {\n",
       "      if (root.Bokeh !== undefined) {\n",
       "        clearInterval(timer);\n",
       "        embed_document(root);\n",
       "      } else {\n",
       "        attempts++;\n",
       "        if (attempts > 100) {\n",
       "          clearInterval(timer);\n",
       "          console.log(\"Bokeh: ERROR: Unable to run BokehJS code because BokehJS library is missing\");\n",
       "        }\n",
       "      }\n",
       "    }, 10, root)\n",
       "  }\n",
       "})(window);"
      ],
      "application/vnd.bokehjs_exec.v0+json": ""
     },
     "metadata": {
      "application/vnd.bokehjs_exec.v0+json": {
       "id": "1002"
      }
     },
     "output_type": "display_data"
    }
   ],
   "source": [
    "rotor_list = list(rotor1.__iter__())\n",
    "show(rotor_list[0].plot_rotor(plot_type='bokeh'))"
   ]
  },
  {
   "cell_type": "markdown",
   "metadata": {},
   "source": [
    "## Running the simulation\n",
    "\n",
    "After you verify that everything is fine with the rotor, you should \n",
    "run the simulation and obtain results.\n",
    "To do that you only need to use the one of the `.run_()` methods available.\n",
    "\n",
    "For now, STOCHASTIC ROSS has only a few stochastic analysis as shown below."
   ]
  },
  {
   "cell_type": "markdown",
   "metadata": {},
   "source": [
    "## Obtaining results\n",
    "\n",
    "These are the following stochastic analysis you can do with the program:\n",
    "\n",
    "- `.run_campbell()` - Campbell Diagram\n",
    "- `.run_freq_response()` - Frequency response\n",
    "- `.run_unbalance_response()` - Unbalance response\n",
    "- `.run_time_response()` - Time response\n",
    "\n",
    "## Plotting results\n",
    "\n",
    "As it has been spoken before, STOCHASTIC ROSS presents results, not deterministic as ROSS does, but in the form of expectation (mean values) and percentiles (or confidence intervals). When plotting these analysis, it will always display the expectation and you are able to choose which percentile to plot. \n",
    "\n",
    "To return a plot, you need to enter the command `.plot()` rigth before the command the run an analysis:\n",
    "`.run_something().plot()`\n",
    "\n",
    "`.plot()` methods have two main arguments:\n",
    "```text\n",
    "percentile : list, optional\n",
    "    Sequence of percentiles to compute, which must be between\n",
    "    0 and 100 inclusive.\n",
    "conf_interval : list, optional\n",
    "    Sequence of confidence intervals to compute, which must be between\n",
    "    0 and 100 inclusive.\n",
    "```\n",
    "\n",
    "### Plot interaction\n",
    "\n",
    "You can click on the legend label to ommit an object from the graph."
   ]
  },
  {
   "cell_type": "markdown",
   "metadata": {},
   "source": [
    "### Campbell Diagram\n",
    "\n",
    "This function will calculate the damped natural frequencies for a speed range.\n",
    "\n",
    "```text\n",
    "speed_range : array\n",
    "    Array with the desired range of frequencies.\n",
    "frequencies : int, optional\n",
    "    Number of frequencies that will be calculated.\n",
    "    Default is 6.\n",
    "frequency_type : str, optional\n",
    "    Choose between displaying results related to the undamped natural\n",
    "    frequencies (\"wn\") or damped natural frequencies (\"wd\").\n",
    "    The default is \"wd\".\n",
    "```\n",
    "\n",
    "To run the Campbell Diagram, use the command `.run_campbell()`\n",
    "\n",
    "To plot the figure, use `.run_campbell().plot()`\n",
    "\n",
    "Notice that there're two plots. You can plot both or one of them:\n",
    "- damped natural frequency vs frequency;\n",
    "    - use `.run_campbell().plot_nat_freq()`\n",
    "- log dec vs frequency\n",
    "    - use `.run_campbell().plot_log_dec()`"
   ]
  },
  {
   "cell_type": "code",
   "execution_count": 16,
   "metadata": {},
   "outputs": [
    {
     "data": {
      "text/html": [
       "\n",
       "\n",
       "\n",
       "\n",
       "\n",
       "\n",
       "  <div class=\"bk-root\" id=\"e0cccc49-1c3d-4cad-b932-3eb08fcb92bd\" data-root-id=\"4735\"></div>\n"
      ]
     },
     "metadata": {},
     "output_type": "display_data"
    },
    {
     "data": {
      "application/javascript": [
       "(function(root) {\n",
       "  function embed_document(root) {\n",
       "    \n",
       "  var docs_json = {\"86baaf97-e8db-49e0-b5d0-fb3018df0d19\":{\"roots\":{\"references\":[{\"attributes\":{\"below\":[{\"id\":\"4746\"}],\"center\":[{\"id\":\"4749\"},{\"id\":\"4753\"},{\"id\":\"4777\"}],\"left\":[{\"id\":\"4750\"}],\"plot_height\":900,\"plot_width\":900,\"renderers\":[{\"id\":\"4769\"},{\"id\":\"4783\"},{\"id\":\"4798\"},{\"id\":\"4814\"},{\"id\":\"4833\"},{\"id\":\"4854\"},{\"id\":\"4876\"},{\"id\":\"4901\"},{\"id\":\"4928\"},{\"id\":\"4956\"},{\"id\":\"4987\"},{\"id\":\"5020\"},{\"id\":\"5054\"},{\"id\":\"5091\"},{\"id\":\"5130\"},{\"id\":\"5170\"},{\"id\":\"5213\"},{\"id\":\"5258\"}],\"title\":{\"id\":\"4736\"},\"toolbar\":{\"id\":\"4759\"},\"x_range\":{\"id\":\"4738\"},\"x_scale\":{\"id\":\"4742\"},\"y_range\":{\"id\":\"4740\"},\"y_scale\":{\"id\":\"4744\"}},\"id\":\"4735\",\"subtype\":\"Figure\",\"type\":\"Plot\"},{\"attributes\":{},\"id\":\"4747\",\"type\":\"BasicTicker\"},{\"attributes\":{},\"id\":\"4809\",\"type\":\"Selection\"},{\"attributes\":{},\"id\":\"5084\",\"type\":\"UnionRenderers\"},{\"attributes\":{},\"id\":\"4738\",\"type\":\"DataRange1d\"},{\"attributes\":{},\"id\":\"5048\",\"type\":\"UnionRenderers\"},{\"attributes\":{\"line_alpha\":0.1,\"line_color\":\"#d62728\",\"line_width\":2.5,\"x\":{\"field\":\"x\"},\"y\":{\"field\":\"y\"}},\"id\":\"4985\",\"type\":\"Line\"},{\"attributes\":{},\"id\":\"4847\",\"type\":\"UnionRenderers\"},{\"attributes\":{},\"id\":\"5206\",\"type\":\"UnionRenderers\"},{\"attributes\":{\"source\":{\"id\":\"4810\"}},\"id\":\"4815\",\"type\":\"CDSView\"},{\"attributes\":{},\"id\":\"4740\",\"type\":\"DataRange1d\"},{\"attributes\":{\"data\":{\"x\":{\"__ndarray__\":\"AAAAAAAAAACrqqqqqqowQKuqqqqqqkBAAAAAAAAASUCrqqqqqqpQQFZVVVVV1VRAAAAAAAAAWUCrqqqqqipdQKuqqqqqqmBAAAAAAADAYkBWVVVVVdVkQKuqqqqq6mZAAAAAAAAAaUBWVVVVVRVrQKuqqqqqKm1AAQAAAABAb0CrqqqqqqpwQFZVVVVVtXFAAAAAAADAckCrqqqqqspzQFZVVVVV1XRAAAAAAADgdUCrqqqqqup2QFZVVVVV9XdAAAAAAAAAeUCrqqqqqgp6QFZVVVVVFXtAAQAAAAAgfECrqqqqqip9QFZVVVVVNX5AAAAAAABAf0A=\",\"dtype\":\"float64\",\"shape\":[31]},\"y\":{\"__ndarray__\":\"8dLoXiyXeED6ak6pzmR4QOeNEX6NMnhAH8xFsmsAeED25AMcbM53QODfNZGRnHdAezxZ5t5qd0DLwzjtVjl3QFUToHP8B3dA8xIKQtLWdkC9fkwa26V2QHsPQ7YZdXZAaId7xpBEdkAaj+XwQhR2QD4KiM8y5HVA3lc+72K0dUBwjH/O1YR1QCKXMdyNVXVAAzuKdo0mdUAw5P/p1vd0QNNkS3BsyXRAkfB8L1CbdEDJVSQ5hG10QMDejokKQHRAWWMaB+USdEAoMJ+BFeZzQDpF8LGduXNASrpyOX+Nc0AJ2suhu2FzQO3UpVxUNnNAMqqKw0oLc0A=\",\"dtype\":\"float64\",\"shape\":[31]}},\"selected\":{\"id\":\"4981\"},\"selection_policy\":{\"id\":\"4980\"}},\"id\":\"4924\",\"type\":\"ColumnDataSource\"},{\"attributes\":{},\"id\":\"4792\",\"type\":\"Selection\"},{\"attributes\":{},\"id\":\"4894\",\"type\":\"UnionRenderers\"},{\"attributes\":{\"data_source\":{\"id\":\"4810\"},\"glyph\":{\"id\":\"4811\"},\"hover_glyph\":null,\"muted_glyph\":{\"id\":\"4813\"},\"nonselection_glyph\":{\"id\":\"4812\"},\"selection_glyph\":null,\"view\":{\"id\":\"4815\"}},\"id\":\"4814\",\"type\":\"GlyphRenderer\"},{\"attributes\":{\"label\":{\"value\":\"Mean - Mode 3\"},\"renderers\":[{\"id\":\"4876\"}]},\"id\":\"4896\",\"type\":\"LegendItem\"},{\"attributes\":{\"data\":{\"x\":{\"__ndarray__\":\"AAAAAAAAAACrqqqqqqowQKuqqqqqqkBAAAAAAAAASUCrqqqqqqpQQFZVVVVV1VRAAAAAAAAAWUCrqqqqqipdQKuqqqqqqmBAAAAAAADAYkBWVVVVVdVkQKuqqqqq6mZAAAAAAAAAaUBWVVVVVRVrQKuqqqqqKm1AAQAAAABAb0CrqqqqqqpwQFZVVVVVtXFAAAAAAADAckCrqqqqqspzQFZVVVVV1XRAAAAAAADgdUCrqqqqqup2QFZVVVVV9XdAAAAAAAAAeUCrqqqqqgp6QFZVVVVVFXtAAQAAAAAgfECrqqqqqip9QFZVVVVVNX5AAAAAAABAf0A=\",\"dtype\":\"float64\",\"shape\":[31]},\"y\":{\"__ndarray__\":\"rDqxBvT4VkArkUKDWv5WQN6xQum4A1dARxANSg8JV0D079q2XQ5XQC8yw0CkE1dALiu6+OIYV0DxfJHvGR5XQOT79zVJI1dAyJB53HAoV0CDKX/zkC1XQDKkToupMldAO8wKtLo3V0CcULN9xDxXQNLAJPjGQVdAmZMYM8JGV0DcLCU+tktXQHbmvSijUFdAXSEzAolVV0BhVbLZZ1pXQJAmRr4/X1dAAn7WvhBkV0CCoyjq2mhXQKRd306ebVdA8hB7+1pyV0CA4Vn+EHdXQNjbt2XAe1dAbxivP2mAV0BP6TeaC4VXQBoDKYOniVdAoqs3CD2OV0A=\",\"dtype\":\"float64\",\"shape\":[31]}},\"selected\":{\"id\":\"4895\"},\"selection_policy\":{\"id\":\"4894\"}},\"id\":\"4850\",\"type\":\"ColumnDataSource\"},{\"attributes\":{},\"id\":\"4827\",\"type\":\"Selection\"},{\"attributes\":{\"line_alpha\":0.1,\"line_color\":\"#ff7f0e\",\"line_width\":2.5,\"x\":{\"field\":\"x\"},\"y\":{\"field\":\"y\"}},\"id\":\"4852\",\"type\":\"Line\"},{\"attributes\":{\"text\":\"Campbell Diagram\",\"text_font_size\":{\"value\":\"14pt\"}},\"id\":\"4736\",\"type\":\"Title\"},{\"attributes\":{\"label\":{\"value\":\"Mean - Mode 6\"},\"renderers\":[{\"id\":\"5170\"}]},\"id\":\"5208\",\"type\":\"LegendItem\"},{\"attributes\":{},\"id\":\"4895\",\"type\":\"Selection\"},{\"attributes\":{},\"id\":\"4808\",\"type\":\"UnionRenderers\"},{\"attributes\":{},\"id\":\"5164\",\"type\":\"UnionRenderers\"},{\"attributes\":{\"line_alpha\":0.1,\"line_color\":\"#d62728\",\"line_width\":2.5,\"x\":{\"field\":\"x\"},\"y\":{\"field\":\"y\"}},\"id\":\"4986\",\"type\":\"Line\"},{\"attributes\":{\"line_alpha\":0.1,\"line_color\":\"#1f77b4\",\"line_width\":2.5,\"x\":{\"field\":\"x\"},\"y\":{\"field\":\"y\"}},\"id\":\"4796\",\"type\":\"Line\"},{\"attributes\":{\"line_alpha\":0.1,\"line_color\":\"#9467bd\",\"line_width\":3.0,\"x\":{\"field\":\"x\"},\"y\":{\"field\":\"y\"}},\"id\":\"5053\",\"type\":\"Line\"},{\"attributes\":{\"source\":{\"id\":\"4794\"}},\"id\":\"4799\",\"type\":\"CDSView\"},{\"attributes\":{\"data_source\":{\"id\":\"5166\"},\"glyph\":{\"id\":\"5167\"},\"hover_glyph\":null,\"muted_glyph\":{\"id\":\"5169\"},\"nonselection_glyph\":{\"id\":\"5168\"},\"selection_glyph\":null,\"view\":{\"id\":\"5171\"}},\"id\":\"5170\",\"type\":\"GlyphRenderer\"},{\"attributes\":{\"source\":{\"id\":\"4850\"}},\"id\":\"4855\",\"type\":\"CDSView\"},{\"attributes\":{\"source\":{\"id\":\"4872\"}},\"id\":\"4877\",\"type\":\"CDSView\"},{\"attributes\":{\"line_alpha\":0.1,\"line_color\":\"#8c564b\",\"line_width\":3.0,\"x\":{\"field\":\"x\"},\"y\":{\"field\":\"y\"}},\"id\":\"5168\",\"type\":\"Line\"},{\"attributes\":{\"data_source\":{\"id\":\"5050\"},\"glyph\":{\"id\":\"5051\"},\"hover_glyph\":null,\"muted_glyph\":{\"id\":\"5053\"},\"nonselection_glyph\":{\"id\":\"5052\"},\"selection_glyph\":null,\"view\":{\"id\":\"5055\"}},\"id\":\"5054\",\"type\":\"GlyphRenderer\"},{\"attributes\":{\"label\":{\"value\":\"Mean - Mode 2\"},\"renderers\":[{\"id\":\"4814\"}]},\"id\":\"4828\",\"type\":\"LegendItem\"},{\"attributes\":{},\"id\":\"4871\",\"type\":\"Selection\"},{\"attributes\":{\"data_source\":{\"id\":\"4765\"},\"glyph\":{\"id\":\"4766\"},\"hover_glyph\":null,\"muted_glyph\":{\"id\":\"4768\"},\"nonselection_glyph\":{\"id\":\"4767\"},\"selection_glyph\":null,\"view\":{\"id\":\"4770\"}},\"id\":\"4769\",\"type\":\"GlyphRenderer\"},{\"attributes\":{\"line_alpha\":0.1,\"line_color\":\"#2ca02c\",\"line_width\":3.0,\"x\":{\"field\":\"x\"},\"y\":{\"field\":\"y\"}},\"id\":\"4875\",\"type\":\"Line\"},{\"attributes\":{\"source\":{\"id\":\"5050\"}},\"id\":\"5055\",\"type\":\"CDSView\"},{\"attributes\":{},\"id\":\"5165\",\"type\":\"Selection\"},{\"attributes\":{},\"id\":\"4758\",\"type\":\"SaveTool\"},{\"attributes\":{\"line_color\":\"#2ca02c\",\"line_width\":3.0,\"x\":{\"field\":\"x\"},\"y\":{\"field\":\"y\"}},\"id\":\"4873\",\"type\":\"Line\"},{\"attributes\":{},\"id\":\"4754\",\"type\":\"PanTool\"},{\"attributes\":{\"label\":{\"value\":\"Interval 90 - Mode 2\"},\"renderers\":[{\"id\":\"4833\"},{\"id\":\"4854\"}]},\"id\":\"4849\",\"type\":\"LegendItem\"},{\"attributes\":{},\"id\":\"4756\",\"type\":\"WheelZoomTool\"},{\"attributes\":{\"line_alpha\":0.1,\"line_color\":\"#d62728\",\"line_width\":2.5,\"x\":{\"field\":\"x\"},\"y\":{\"field\":\"y\"}},\"id\":\"5018\",\"type\":\"Line\"},{\"attributes\":{\"line_alpha\":0.1,\"line_color\":\"#1f77b4\",\"line_width\":3.0,\"x\":{\"field\":\"x\"},\"y\":{\"field\":\"y\"}},\"id\":\"4768\",\"type\":\"Line\"},{\"attributes\":{\"line_alpha\":0.6,\"line_color\":\"#1f77b4\",\"line_width\":2.5,\"x\":{\"field\":\"x\"},\"y\":{\"field\":\"y\"}},\"id\":\"4795\",\"type\":\"Line\"},{\"attributes\":{\"line_alpha\":0.1,\"line_color\":\"#1f77b4\",\"line_width\":2.5,\"x\":{\"field\":\"x\"},\"y\":{\"field\":\"y\"}},\"id\":\"4797\",\"type\":\"Line\"},{\"attributes\":{\"data\":{\"x\":{\"__ndarray__\":\"AAAAAAAAAACrqqqqqqowQKuqqqqqqkBAAAAAAAAASUCrqqqqqqpQQFZVVVVV1VRAAAAAAAAAWUCrqqqqqipdQKuqqqqqqmBAAAAAAADAYkBWVVVVVdVkQKuqqqqq6mZAAAAAAAAAaUBWVVVVVRVrQKuqqqqqKm1AAQAAAABAb0CrqqqqqqpwQFZVVVVVtXFAAAAAAADAckCrqqqqqspzQFZVVVVV1XRAAAAAAADgdUCrqqqqqup2QFZVVVVV9XdAAAAAAAAAeUCrqqqqqgp6QFZVVVVVFXtAAQAAAAAgfECrqqqqqip9QFZVVVVVNX5AAAAAAABAf0A=\",\"dtype\":\"float64\",\"shape\":[31]},\"y\":{\"__ndarray__\":\"A4Qi/zL7ekDI5JlTzDB7QGIzqUlkZntAGF/kbvebe0CD7iFpgtF7QHIN4fcBB3xAQj179XI8fECuDiBY0nF8QPUMnTIdp3xATn3ytFDcfEAa4bYsahF9QK6ZTAVnRn1AUkzrx0R7fUBog4EbAbB9QNPUcMSZ5H1AvW0ppAwZfkBtn6e4V01+QAbp1xt5gX5AMsDkAm+1fkBCN3K9N+l+QF4UyrTRHH9AKGP8ajtQf0Bob/d5c4N/QJNJmZJ4tn9ATey9e0npf0DWTKaI8g2AQHWYoiElJ4BAgGNoCjxAgEAdz6rNNlmAQJ1lyP4UcoBACPZaOdaKgEA=\",\"dtype\":\"float64\",\"shape\":[31]}},\"selected\":{\"id\":\"5014\"},\"selection_policy\":{\"id\":\"5013\"}},\"id\":\"4952\",\"type\":\"ColumnDataSource\"},{\"attributes\":{},\"id\":\"5557\",\"type\":\"UnionRenderers\"},{\"attributes\":{\"source\":{\"id\":\"4779\"}},\"id\":\"4784\",\"type\":\"CDSView\"},{\"attributes\":{\"line_alpha\":0.1,\"line_color\":\"#9467bd\",\"line_width\":3.0,\"x\":{\"field\":\"x\"},\"y\":{\"field\":\"y\"}},\"id\":\"5052\",\"type\":\"Line\"},{\"attributes\":{\"bottom_units\":\"screen\",\"fill_alpha\":0.5,\"fill_color\":\"lightgrey\",\"left_units\":\"screen\",\"level\":\"overlay\",\"line_alpha\":1.0,\"line_color\":\"black\",\"line_dash\":[4,4],\"line_width\":2,\"render_mode\":\"css\",\"right_units\":\"screen\",\"top_units\":\"screen\"},\"id\":\"4776\",\"type\":\"BoxAnnotation\"},{\"attributes\":{\"data_source\":{\"id\":\"5016\"},\"glyph\":{\"id\":\"5017\"},\"hover_glyph\":null,\"muted_glyph\":{\"id\":\"5019\"},\"nonselection_glyph\":{\"id\":\"5018\"},\"selection_glyph\":null,\"view\":{\"id\":\"5021\"}},\"id\":\"5020\",\"type\":\"GlyphRenderer\"},{\"attributes\":{\"source\":{\"id\":\"5126\"}},\"id\":\"5131\",\"type\":\"CDSView\"},{\"attributes\":{\"line_alpha\":0.1,\"line_color\":\"#2ca02c\",\"line_width\":3.0,\"x\":{\"field\":\"x\"},\"y\":{\"field\":\"y\"}},\"id\":\"4874\",\"type\":\"Line\"},{\"attributes\":{\"line_alpha\":0.6,\"line_color\":\"#8c564b\",\"line_width\":2.5,\"x\":{\"field\":\"x\"},\"y\":{\"field\":\"y\"}},\"id\":\"5210\",\"type\":\"Line\"},{\"attributes\":{\"line_alpha\":0.1,\"line_color\":\"#1f77b4\",\"line_width\":3.0,\"x\":{\"field\":\"x\"},\"y\":{\"field\":\"y\"}},\"id\":\"4767\",\"type\":\"Line\"},{\"attributes\":{\"data\":{\"x\":{\"__ndarray__\":\"AAAAAAAAAACrqqqqqqowQKuqqqqqqkBAAAAAAAAASUCrqqqqqqpQQFZVVVVV1VRAAAAAAAAAWUCrqqqqqipdQKuqqqqqqmBAAAAAAADAYkBWVVVVVdVkQKuqqqqq6mZAAAAAAAAAaUBWVVVVVRVrQKuqqqqqKm1AAQAAAABAb0CrqqqqqqpwQFZVVVVVtXFAAAAAAADAckCrqqqqqspzQFZVVVVV1XRAAAAAAADgdUCrqqqqqup2QFZVVVVV9XdAAAAAAAAAeUCrqqqqqgp6QFZVVVVVFXtAAQAAAAAgfECrqqqqqip9QFZVVVVVNX5AAAAAAABAf0A=\",\"dtype\":\"float64\",\"shape\":[31]},\"y\":{\"__ndarray__\":\"JlppHMg7XUBRYMvikjxdQOuYjBZdPV1Aa9TguCY+XUA6SPfK7z5dQGS1+k24P11AooARQ4BAXUCqvl2rR0FdQDRO/YcOQl1AWu0J2tRCXUBYTJmimkNdQIYjveJfRF1ATESDmyRFXUAHrvXN6EVdQJeeGnusRl1A36X0o29HXUAGuYJJMkhdQFBCwGz0SF1AZi+lDrZJXUATByYwd0pdQN72M9I3S11A1t289fdLXUCcaKubt0xdQI8W58R2TV1AoURUcjVOXUBBS9Sk805dQMKARV2xT11AR0WDnG5QXUDTG2ZjK1FdQNurw7LnUV1AyNJui6NSXUA=\",\"dtype\":\"float64\",\"shape\":[31]}},\"selected\":{\"id\":\"4871\"},\"selection_policy\":{\"id\":\"4870\"}},\"id\":\"4829\",\"type\":\"ColumnDataSource\"},{\"attributes\":{\"line_alpha\":0.1,\"line_color\":\"#ff7f0e\",\"line_width\":2.5,\"x\":{\"field\":\"x\"},\"y\":{\"field\":\"y\"}},\"id\":\"4853\",\"type\":\"Line\"},{\"attributes\":{},\"id\":\"4772\",\"type\":\"BasicTickFormatter\"},{\"attributes\":{\"line_color\":\"#9467bd\",\"line_width\":3.0,\"x\":{\"field\":\"x\"},\"y\":{\"field\":\"y\"}},\"id\":\"5051\",\"type\":\"Line\"},{\"attributes\":{\"active_drag\":\"auto\",\"active_inspect\":\"auto\",\"active_multi\":null,\"active_scroll\":\"auto\",\"active_tap\":\"auto\",\"tools\":[{\"id\":\"4754\"},{\"id\":\"4755\"},{\"id\":\"4756\"},{\"id\":\"4757\"},{\"id\":\"4758\"}]},\"id\":\"4759\",\"type\":\"Toolbar\"},{\"attributes\":{\"data_source\":{\"id\":\"4872\"},\"glyph\":{\"id\":\"4873\"},\"hover_glyph\":null,\"muted_glyph\":{\"id\":\"4875\"},\"nonselection_glyph\":{\"id\":\"4874\"},\"selection_glyph\":null,\"view\":{\"id\":\"4877\"}},\"id\":\"4876\",\"type\":\"GlyphRenderer\"},{\"attributes\":{},\"id\":\"5207\",\"type\":\"Selection\"},{\"attributes\":{\"line_alpha\":0.1,\"line_color\":\"#8c564b\",\"line_width\":3.0,\"x\":{\"field\":\"x\"},\"y\":{\"field\":\"y\"}},\"id\":\"5169\",\"type\":\"Line\"},{\"attributes\":{},\"id\":\"4870\",\"type\":\"UnionRenderers\"},{\"attributes\":{\"line_alpha\":0.6,\"line_color\":\"#9467bd\",\"line_width\":2.5,\"x\":{\"field\":\"x\"},\"y\":{\"field\":\"y\"}},\"id\":\"5088\",\"type\":\"Line\"},{\"attributes\":{\"data_source\":{\"id\":\"4794\"},\"glyph\":{\"id\":\"4795\"},\"hover_glyph\":null,\"muted_glyph\":{\"id\":\"4797\"},\"nonselection_glyph\":{\"id\":\"4796\"},\"selection_glyph\":null,\"view\":{\"id\":\"4799\"}},\"id\":\"4798\",\"type\":\"GlyphRenderer\"},{\"attributes\":{\"line_alpha\":0.6,\"line_color\":\"#ff7f0e\",\"line_width\":2.5,\"x\":{\"field\":\"x\"},\"y\":{\"field\":\"y\"}},\"id\":\"4851\",\"type\":\"Line\"},{\"attributes\":{\"line_alpha\":0.1,\"line_color\":\"#ff7f0e\",\"line_width\":3.0,\"x\":{\"field\":\"x\"},\"y\":{\"field\":\"y\"}},\"id\":\"4813\",\"type\":\"Line\"},{\"attributes\":{\"source\":{\"id\":\"4829\"}},\"id\":\"4834\",\"type\":\"CDSView\"},{\"attributes\":{\"source\":{\"id\":\"5166\"}},\"id\":\"5171\",\"type\":\"CDSView\"},{\"attributes\":{},\"id\":\"4757\",\"type\":\"ResetTool\"},{\"attributes\":{\"line_alpha\":0.1,\"line_color\":\"#d62728\",\"line_width\":2.5,\"x\":{\"field\":\"x\"},\"y\":{\"field\":\"y\"}},\"id\":\"5019\",\"type\":\"Line\"},{\"attributes\":{\"data\":{\"x\":{\"__ndarray__\":\"AAAAAAAAAACrqqqqqqowQKuqqqqqqkBAAAAAAAAASUCrqqqqqqpQQFZVVVVV1VRAAAAAAAAAWUCrqqqqqipdQKuqqqqqqmBAAAAAAADAYkBWVVVVVdVkQKuqqqqq6mZAAAAAAAAAaUBWVVVVVRVrQKuqqqqqKm1AAQAAAABAb0CrqqqqqqpwQFZVVVVVtXFAAAAAAADAckCrqqqqqspzQFZVVVVV1XRAAAAAAADgdUCrqqqqqup2QFZVVVVV9XdAAAAAAAAAeUCrqqqqqgp6QFZVVVVVFXtAAQAAAAAgfECrqqqqqip9QFZVVVVVNX5AAAAAAABAf0A=\",\"dtype\":\"float64\",\"shape\":[31]},\"y\":{\"__ndarray__\":\"gyzKGXQsjUA4PWct+kmNQNM5iq9wZ41Ai6w7z9OEjUCeGB6nH6KNQPA7Q0NQv41AQ69Op2HcjUCo29HUT/mNQEALxdEWFo5AbmsHr7IyjkCVvseOH0+OQDDPvqpZa45ApjMfWl2HjkBWJSQXJ6OOQJseKISzvo5AcFUwcP/ZjkAQgt7aB/WOQK4Cu/fJD49A3brQMEMqj0DbcJgocUSPQHAaMrtRXo9AYEDz/uJ3j0A4M1JEI5GPQILYORURqo9AU1HWM6vCj0COvOiY8NqPQE1xtXHg8o9AX6zPDj0FkEBfpsCV3hCQQIlPbKtUHJBA6VdoQp8nkEA=\",\"dtype\":\"float64\",\"shape\":[31]}},\"selected\":{\"id\":\"5252\"},\"selection_policy\":{\"id\":\"5251\"}},\"id\":\"5166\",\"type\":\"ColumnDataSource\"},{\"attributes\":{\"data_source\":{\"id\":\"4829\"},\"glyph\":{\"id\":\"4830\"},\"hover_glyph\":null,\"muted_glyph\":{\"id\":\"4832\"},\"nonselection_glyph\":{\"id\":\"4831\"},\"selection_glyph\":null,\"view\":{\"id\":\"4834\"}},\"id\":\"4833\",\"type\":\"GlyphRenderer\"},{\"attributes\":{\"line_alpha\":0.1,\"line_color\":\"#ff7f0e\",\"line_width\":3.0,\"x\":{\"field\":\"x\"},\"y\":{\"field\":\"y\"}},\"id\":\"4812\",\"type\":\"Line\"},{\"attributes\":{\"overlay\":{\"id\":\"4776\"}},\"id\":\"4755\",\"type\":\"BoxZoomTool\"},{\"attributes\":{\"line_alpha\":0.1,\"line_color\":\"#ff7f0e\",\"line_width\":2.5,\"x\":{\"field\":\"x\"},\"y\":{\"field\":\"y\"}},\"id\":\"4832\",\"type\":\"Line\"},{\"attributes\":{\"line_alpha\":0.6,\"line_color\":\"#d62728\",\"line_width\":2.5,\"x\":{\"field\":\"x\"},\"y\":{\"field\":\"y\"}},\"id\":\"5017\",\"type\":\"Line\"},{\"attributes\":{\"line_alpha\":0.1,\"line_color\":\"#ff7f0e\",\"line_width\":2.5,\"x\":{\"field\":\"x\"},\"y\":{\"field\":\"y\"}},\"id\":\"4831\",\"type\":\"Line\"},{\"attributes\":{\"data_source\":{\"id\":\"4983\"},\"glyph\":{\"id\":\"4984\"},\"hover_glyph\":null,\"muted_glyph\":{\"id\":\"4986\"},\"nonselection_glyph\":{\"id\":\"4985\"},\"selection_glyph\":null,\"view\":{\"id\":\"4988\"}},\"id\":\"4987\",\"type\":\"GlyphRenderer\"},{\"attributes\":{\"label\":{\"value\":\"Interval 90 - Mode 1\"},\"renderers\":[{\"id\":\"4783\"},{\"id\":\"4798\"}]},\"id\":\"4793\",\"type\":\"LegendItem\"},{\"attributes\":{\"source\":{\"id\":\"4765\"}},\"id\":\"4770\",\"type\":\"CDSView\"},{\"attributes\":{\"data\":{\"x\":{\"__ndarray__\":\"AAAAAAAAAACrqqqqqqowQKuqqqqqqkBAAAAAAAAASUCrqqqqqqpQQFZVVVVV1VRAAAAAAAAAWUCrqqqqqipdQKuqqqqqqmBAAAAAAADAYkBWVVVVVdVkQKuqqqqq6mZAAAAAAAAAaUBWVVVVVRVrQKuqqqqqKm1AAQAAAABAb0CrqqqqqqpwQFZVVVVVtXFAAAAAAADAckCrqqqqqspzQFZVVVVV1XRAAAAAAADgdUCrqqqqqup2QFZVVVVV9XdAAAAAAAAAeUCrqqqqqgp6QFZVVVVVFXtAAQAAAAAgfECrqqqqqip9QFZVVVVVNX5AAAAAAABAf0A=\",\"dtype\":\"float64\",\"shape\":[31]},\"y\":{\"__ndarray__\":\"PW8i/zL7ekBAO1bVm8V6QNJ2IXQKkHpASitKjIJaekBt7ELfByV6QFsB0zye73lAdvuYgEm6eUAQ92uPDYV5QB2uoVTuT3lAXAo/v+8aeUCKYBm/FeZ4QGBf70FksXhAS9V/MN98eEAzQaVrikh4QCplfMlpFHhAiW6cEoHgd0DFS2b/06x3QAbWcDVmeXdALrIWRTtGd0B+TCqnVhN3QOOy07q74HZAKWObw22udkCKiqTnb3x2QDV9GC7FSnZAnnXEfXAZdkDmS+qbdOh1QIXOQyvUt3VAmF44q5GHdUBKhkN3r1d1QFYSi8YvKHVAJb+iqxT5dEA=\",\"dtype\":\"float64\",\"shape\":[31]}},\"selected\":{\"id\":\"4922\"},\"selection_policy\":{\"id\":\"4921\"}},\"id\":\"4872\",\"type\":\"ColumnDataSource\"},{\"attributes\":{\"data\":{\"x\":{\"__ndarray__\":\"AAAAAAAAAACrqqqqqqowQKuqqqqqqkBAAAAAAAAASUCrqqqqqqpQQFZVVVVV1VRAAAAAAAAAWUCrqqqqqipdQKuqqqqqqmBAAAAAAADAYkBWVVVVVdVkQKuqqqqq6mZAAAAAAAAAaUBWVVVVVRVrQKuqqqqqKm1AAQAAAABAb0CrqqqqqqpwQFZVVVVVtXFAAAAAAADAckCrqqqqqspzQFZVVVVV1XRAAAAAAADgdUCrqqqqqup2QFZVVVVV9XdAAAAAAAAAeUCrqqqqqgp6QFZVVVVVFXtAAQAAAAAgfECrqqqqqip9QFZVVVVVNX5AAAAAAABAf0A=\",\"dtype\":\"float64\",\"shape\":[31]},\"y\":{\"__ndarray__\":\"mhP+u5d+kUCDsHTUmYWRQMVihJ+IjJFAvi9mYGSTkUBjQm5ZLZqRQAbd68vjoJFAxu8O+IenkUCWkNIcGq6RQJpJ6neatJFAUp62RQm7kUAX9jjBZsGRQHJODiSzx5FADN5qpu7NkUBR/Rl/GdSRQLE2f+Mz2pFAqA2aBz7gkUByHQweOOaRQAz9H1gi7JFAqvvR5fzxkUBfOtr1x/eRQM0BU0dlAJJANlabM38JkkBOZ1pdfBKSQHcBazlcG5JAT1/kUB4kkkACQtNAwiySQDidwLlHNZJAijwKf649kkDiVhZm9kWSQAW0aVUfTpJANuylQylWkkA=\",\"dtype\":\"float64\",\"shape\":[31]}},\"selected\":{\"id\":\"5299\"},\"selection_policy\":{\"id\":\"5298\"}},\"id\":\"5209\",\"type\":\"ColumnDataSource\"},{\"attributes\":{\"line_color\":\"#ff7f0e\",\"line_width\":3.0,\"x\":{\"field\":\"x\"},\"y\":{\"field\":\"y\"}},\"id\":\"4811\",\"type\":\"Line\"},{\"attributes\":{\"line_alpha\":0.6,\"line_color\":\"#ff7f0e\",\"line_width\":2.5,\"x\":{\"field\":\"x\"},\"y\":{\"field\":\"y\"}},\"id\":\"4830\",\"type\":\"Line\"},{\"attributes\":{},\"id\":\"5049\",\"type\":\"Selection\"},{\"attributes\":{\"axis\":{\"id\":\"4746\"},\"ticker\":null},\"id\":\"4749\",\"type\":\"Grid\"},{\"attributes\":{\"data_source\":{\"id\":\"4850\"},\"glyph\":{\"id\":\"4851\"},\"hover_glyph\":null,\"muted_glyph\":{\"id\":\"4853\"},\"nonselection_glyph\":{\"id\":\"4852\"},\"selection_glyph\":null,\"view\":{\"id\":\"4855\"}},\"id\":\"4854\",\"type\":\"GlyphRenderer\"},{\"attributes\":{},\"id\":\"4826\",\"type\":\"UnionRenderers\"},{\"attributes\":{},\"id\":\"4848\",\"type\":\"Selection\"},{\"attributes\":{\"source\":{\"id\":\"5016\"}},\"id\":\"5021\",\"type\":\"CDSView\"},{\"attributes\":{\"data_source\":{\"id\":\"5209\"},\"glyph\":{\"id\":\"5210\"},\"hover_glyph\":null,\"muted_glyph\":{\"id\":\"5212\"},\"nonselection_glyph\":{\"id\":\"5211\"},\"selection_glyph\":null,\"view\":{\"id\":\"5214\"}},\"id\":\"5213\",\"type\":\"GlyphRenderer\"},{\"attributes\":{\"line_alpha\":0.6,\"line_color\":\"#1f77b4\",\"line_width\":2.5,\"x\":{\"field\":\"x\"},\"y\":{\"field\":\"y\"}},\"id\":\"4780\",\"type\":\"Line\"},{\"attributes\":{\"line_alpha\":0.1,\"line_color\":\"#9467bd\",\"line_width\":2.5,\"x\":{\"field\":\"x\"},\"y\":{\"field\":\"y\"}},\"id\":\"5129\",\"type\":\"Line\"},{\"attributes\":{\"source\":{\"id\":\"4983\"}},\"id\":\"4988\",\"type\":\"CDSView\"},{\"attributes\":{\"data\":{\"x\":{\"__ndarray__\":\"AAAAAAAAAACrqqqqqqowQKuqqqqqqkBAAAAAAAAASUCrqqqqqqpQQFZVVVVV1VRAAAAAAAAAWUCrqqqqqipdQKuqqqqqqmBAAAAAAADAYkBWVVVVVdVkQKuqqqqq6mZAAAAAAAAAaUBWVVVVVRVrQKuqqqqqKm1AAQAAAABAb0CrqqqqqqpwQFZVVVVVtXFAAAAAAADAckCrqqqqqspzQFZVVVVV1XRAAAAAAADgdUCrqqqqqup2QFZVVVVV9XdAAAAAAAAAeUCrqqqqqgp6QFZVVVVVFXtAAQAAAAAgfECrqqqqqip9QFZVVVVVNX5AAAAAAABAf0A=\",\"dtype\":\"float64\",\"shape\":[31]},\"y\":{\"__ndarray__\":\"zVqMF0igWUCLFRurkJ1ZQOa5dlTVmllADDJCChaYWUBU9gfDUpVZQMr1OXWLkllAAYkxF8CPWUA6Vi+f8IxZQNJNWwMdillAuJTEOUWHWUBsgmE4aYRZQDWVD/WIgVlAf3STZaR+WUCC7Jh/u3tZQDr0sjjOeFlAPrRbhtx1WUCYk/Rd5nJZQP5DxrTrb1lAKdgAgOxsWUCW2Lu06GlZQARj9kfgZllAckeXLtNjWUDBMW1dwWBZQK3RLsmqXVlAQgx7Zo9aWUDsMdkpb1dZQGo4uQdKVFlAI/1z9B9RWUA6jEvk8E1ZQNxua8u8SllASP7onYNHWUA=\",\"dtype\":\"float64\",\"shape\":[31]}},\"selected\":{\"id\":\"4792\"},\"selection_policy\":{\"id\":\"4791\"}},\"id\":\"4765\",\"type\":\"ColumnDataSource\"},{\"attributes\":{\"line_alpha\":0.1,\"line_color\":\"#8c564b\",\"line_width\":2.5,\"x\":{\"field\":\"x\"},\"y\":{\"field\":\"y\"}},\"id\":\"5211\",\"type\":\"Line\"},{\"attributes\":{\"line_alpha\":0.1,\"line_color\":\"#2ca02c\",\"line_width\":2.5,\"x\":{\"field\":\"x\"},\"y\":{\"field\":\"y\"}},\"id\":\"4899\",\"type\":\"Line\"},{\"attributes\":{},\"id\":\"4791\",\"type\":\"UnionRenderers\"},{\"attributes\":{\"line_alpha\":0.1,\"line_color\":\"#8c564b\",\"line_width\":2.5,\"x\":{\"field\":\"x\"},\"y\":{\"field\":\"y\"}},\"id\":\"5212\",\"type\":\"Line\"},{\"attributes\":{\"line_alpha\":0.1,\"line_color\":\"#d62728\",\"line_width\":3.0,\"x\":{\"field\":\"x\"},\"y\":{\"field\":\"y\"}},\"id\":\"4955\",\"type\":\"Line\"},{\"attributes\":{\"axis\":{\"id\":\"4750\"},\"dimension\":1,\"ticker\":null},\"id\":\"4753\",\"type\":\"Grid\"},{\"attributes\":{\"label\":{\"value\":\"Interval 90 - Mode 6\"},\"renderers\":[{\"id\":\"5213\"},{\"id\":\"5258\"}]},\"id\":\"5253\",\"type\":\"LegendItem\"},{\"attributes\":{\"data_source\":{\"id\":\"4952\"},\"glyph\":{\"id\":\"4953\"},\"hover_glyph\":null,\"muted_glyph\":{\"id\":\"4955\"},\"nonselection_glyph\":{\"id\":\"4954\"},\"selection_glyph\":null,\"view\":{\"id\":\"4957\"}},\"id\":\"4956\",\"type\":\"GlyphRenderer\"},{\"attributes\":{},\"id\":\"5124\",\"type\":\"Selection\"},{\"attributes\":{\"source\":{\"id\":\"5087\"}},\"id\":\"5092\",\"type\":\"CDSView\"},{\"attributes\":{},\"id\":\"5298\",\"type\":\"UnionRenderers\"},{\"attributes\":{\"line_alpha\":0.1,\"line_color\":\"#2ca02c\",\"line_width\":2.5,\"x\":{\"field\":\"x\"},\"y\":{\"field\":\"y\"}},\"id\":\"4900\",\"type\":\"Line\"},{\"attributes\":{\"source\":{\"id\":\"5209\"}},\"id\":\"5214\",\"type\":\"CDSView\"},{\"attributes\":{},\"id\":\"4951\",\"type\":\"Selection\"},{\"attributes\":{},\"id\":\"5013\",\"type\":\"UnionRenderers\"},{\"attributes\":{\"source\":{\"id\":\"4897\"}},\"id\":\"4902\",\"type\":\"CDSView\"},{\"attributes\":{},\"id\":\"5123\",\"type\":\"UnionRenderers\"},{\"attributes\":{},\"id\":\"5251\",\"type\":\"UnionRenderers\"},{\"attributes\":{},\"id\":\"5085\",\"type\":\"Selection\"},{\"attributes\":{},\"id\":\"5252\",\"type\":\"Selection\"},{\"attributes\":{\"data\":{\"x\":{\"__ndarray__\":\"AAAAAAAAAACrqqqqqqowQKuqqqqqqkBAAAAAAAAASUCrqqqqqqpQQFZVVVVV1VRAAAAAAAAAWUCrqqqqqipdQKuqqqqqqmBAAAAAAADAYkBWVVVVVdVkQKuqqqqq6mZAAAAAAAAAaUBWVVVVVRVrQKuqqqqqKm1AAQAAAABAb0CrqqqqqqpwQFZVVVVVtXFAAAAAAADAckCrqqqqqspzQFZVVVVV1XRAAAAAAADgdUCrqqqqqup2QFZVVVVV9XdAAAAAAAAAeUCrqqqqqgp6QFZVVVVVFXtAAQAAAAAgfECrqqqqqip9QFZVVVVVNX5AAAAAAABAf0A=\",\"dtype\":\"float64\",\"shape\":[31]},\"y\":{\"__ndarray__\":\"RkW5fZD3iEDNP7NIRsmIQDEqDcQQm4hA0ItW/vhsiECkjVXLBz+IQMXeWbhFEYhAD96dAbvjh0Ay4dCIb7aHQGpM3sxqiYdAiyz84rNch0ARIghxUTCHQKvsLqlJBIdAZujWRqLYhkA97cGMYK2GQALwUkSJgoZAHwHlvSBYhkB+YBrSKi6GQNTYC+SqBIZA+P885KPbhUAJczxUGLOFQMhT1EoKi4VAwwSyeHtjhUD3x20tbTyFQLon2VzgFYVASv6ApNXvhEB5sk5RTcqEQMiwNmVHpYRA5yvmnMOAhEBZGWB1wVyEQFw1gDFAOYRAHk1Y3z4WhEA=\",\"dtype\":\"float64\",\"shape\":[31]}},\"selected\":{\"id\":\"5207\"},\"selection_policy\":{\"id\":\"5206\"}},\"id\":\"5126\",\"type\":\"ColumnDataSource\"},{\"attributes\":{\"data\":{\"x\":{\"__ndarray__\":\"AAAAAAAAAACrqqqqqqowQKuqqqqqqkBAAAAAAAAASUCrqqqqqqpQQFZVVVVV1VRAAAAAAAAAWUCrqqqqqipdQKuqqqqqqmBAAAAAAADAYkBWVVVVVdVkQKuqqqqq6mZAAAAAAAAAaUBWVVVVVRVrQKuqqqqqKm1AAQAAAABAb0CrqqqqqqpwQFZVVVVVtXFAAAAAAADAckCrqqqqqspzQFZVVVVV1XRAAAAAAADgdUCrqqqqqup2QFZVVVVV9XdAAAAAAAAAeUCrqqqqqgp6QFZVVVVVFXtAAQAAAAAgfECrqqqqqip9QFZVVVVVNX5AAAAAAABAf0A=\",\"dtype\":\"float64\",\"shape\":[31]},\"y\":{\"__ndarray__\":\"yluMF0igWUBtRw+j+6JZQNpZ0FarpVlADvHjO1eoWUC6ZEZb/6pZQD4p3L2jrVlA/vJxbESwWUCV1Lxv4bJZQMVnWtB6tVlAmvHQlhC4WUCWiY/LorpZQL1C7nYxvVlAUFQuoby/WUBwRnpSRMJZQOsa5pLIxFlARnpvaknHWUBD4/3gxslZQPPVYv5AzFlA4wNayrfOWUAdf4lMK9FZQBbqgYyb01lAq6W+kQjWWUCwBqZjcthZQG2DiQnZ2llA8+OlijzdWUCreCPunN9ZQMtIFjv64VlA1UN+eFTkWUCWd0etq+ZZQI4/SuD/6FlAenhLGFHrWUA=\",\"dtype\":\"float64\",\"shape\":[31]}},\"selected\":{\"id\":\"4848\"},\"selection_policy\":{\"id\":\"4847\"}},\"id\":\"4810\",\"type\":\"ColumnDataSource\"},{\"attributes\":{\"line_alpha\":0.1,\"line_color\":\"#8c564b\",\"line_width\":2.5,\"x\":{\"field\":\"x\"},\"y\":{\"field\":\"y\"}},\"id\":\"5256\",\"type\":\"Line\"},{\"attributes\":{\"label\":{\"value\":\"Interval 90 - Mode 4\"},\"renderers\":[{\"id\":\"4987\"},{\"id\":\"5020\"}]},\"id\":\"5015\",\"type\":\"LegendItem\"},{\"attributes\":{\"line_alpha\":0.6,\"line_color\":\"#2ca02c\",\"line_width\":2.5,\"x\":{\"field\":\"x\"},\"y\":{\"field\":\"y\"}},\"id\":\"4898\",\"type\":\"Line\"},{\"attributes\":{\"line_alpha\":0.6,\"line_color\":\"#8c564b\",\"line_width\":2.5,\"x\":{\"field\":\"x\"},\"y\":{\"field\":\"y\"}},\"id\":\"5255\",\"type\":\"Line\"},{\"attributes\":{\"data\":{\"x\":{\"__ndarray__\":\"AAAAAAAAAACrqqqqqqowQKuqqqqqqkBAAAAAAAAASUCrqqqqqqpQQFZVVVVV1VRAAAAAAAAAWUCrqqqqqipdQKuqqqqqqmBAAAAAAADAYkBWVVVVVdVkQKuqqqqq6mZAAAAAAAAAaUBWVVVVVRVrQKuqqqqqKm1AAQAAAABAb0CrqqqqqqpwQFZVVVVVtXFAAAAAAADAckCrqqqqqspzQFZVVVVV1XRAAAAAAADgdUCrqqqqqup2QFZVVVVV9XdAAAAAAAAAeUCrqqqqqgp6QFZVVVVVFXtAAQAAAAAgfECrqqqqqip9QFZVVVVVNX5AAAAAAABAf0A=\",\"dtype\":\"float64\",\"shape\":[31]},\"y\":{\"__ndarray__\":\"8P3oXiyXeEAT6/vLo8l4QKvv7CAy/HhA8hh8ktQueUBc2sVaiGF5QNm2NbpKlHlAFT1r+BjHeUDv/Q5l8Pl5QKI1mVjOLHpAgUgJNbBfekD3O45mk5J6QLtzIWR1xXpA1QQTsFP4ekDV54jYKyt7QIHn8Hf7XXtAKfFmNcCQe0COHg/Fd8N7QEzZZOgf9ntAa55/brYofECiT040OVt8QD4zyCSmjXxAb7gWOfu/fEB+vrV4NvJ8QABDjflVJH1A0tYC4FdWfUDSxAVfOoh9QGYTE7j7uX1AbCI1O5rrfUCzwPxGFB1+QOxKdUhoTn5ADo0Tu5R/fkA=\",\"dtype\":\"float64\",\"shape\":[31]}},\"selected\":{\"id\":\"5085\"},\"selection_policy\":{\"id\":\"5084\"}},\"id\":\"5016\",\"type\":\"ColumnDataSource\"},{\"attributes\":{\"data_source\":{\"id\":\"5254\"},\"glyph\":{\"id\":\"5255\"},\"hover_glyph\":null,\"muted_glyph\":{\"id\":\"5257\"},\"nonselection_glyph\":{\"id\":\"5256\"},\"selection_glyph\":null,\"view\":{\"id\":\"5259\"}},\"id\":\"5258\",\"type\":\"GlyphRenderer\"},{\"attributes\":{\"line_alpha\":0.1,\"line_color\":\"#1f77b4\",\"line_width\":2.5,\"x\":{\"field\":\"x\"},\"y\":{\"field\":\"y\"}},\"id\":\"4781\",\"type\":\"Line\"},{\"attributes\":{\"label\":{\"value\":\"Mean - Mode 1\"},\"renderers\":[{\"id\":\"4769\"}]},\"id\":\"4778\",\"type\":\"LegendItem\"},{\"attributes\":{\"data\":{\"x\":{\"__ndarray__\":\"AAAAAAAAAACrqqqqqqowQKuqqqqqqkBAAAAAAAAASUCrqqqqqqpQQFZVVVVV1VRAAAAAAAAAWUCrqqqqqipdQKuqqqqqqmBAAAAAAADAYkBWVVVVVdVkQKuqqqqq6mZAAAAAAAAAaUBWVVVVVRVrQKuqqqqqKm1AAQAAAABAb0CrqqqqqqpwQFZVVVVVtXFAAAAAAADAckCrqqqqqspzQFZVVVVV1XRAAAAAAADgdUCrqqqqqup2QFZVVVVV9XdAAAAAAAAAeUCrqqqqqgp6QFZVVVVVFXtAAQAAAAAgfECrqqqqqip9QFZVVVVVNX5AAAAAAABAf0A=\",\"dtype\":\"float64\",\"shape\":[31]},\"y\":{\"__ndarray__\":\"kHvW65dvfUCaCSsu0Dp9QLvzV6UgBn1AEZAk+YvRfEAbRiHZFJ18QBo3Cvu9aHxA5PESGYo0fECwYR7wewB8QLKj5z2WzHtAWDEgv9uYe0CwcoctT2V7QH8lAT7zMXtAlMqunsr+ekAB9xD118t6QByrNNwdmXpAfE7x4p5mekC8rjqKXTR6QGC/ikNcAnpALCBmb53QeUA8u/1bI595QBnl70PwbXlA5UIqTQY9eUCX0u2HZwx5QFZz9e0V3HhA602/YROseECjTM4un354QGhWUHirUXhALnOG3wMleECOtWceqfh3QMAiEuSbzHdAaU3X1Nygd0A=\",\"dtype\":\"float64\",\"shape\":[31]}},\"selected\":{\"id\":\"4951\"},\"selection_policy\":{\"id\":\"4950\"}},\"id\":\"4897\",\"type\":\"ColumnDataSource\"},{\"attributes\":{\"line_alpha\":0.1,\"line_color\":\"#8c564b\",\"line_width\":2.5,\"x\":{\"field\":\"x\"},\"y\":{\"field\":\"y\"}},\"id\":\"5257\",\"type\":\"Line\"},{\"attributes\":{\"data_source\":{\"id\":\"5087\"},\"glyph\":{\"id\":\"5088\"},\"hover_glyph\":null,\"muted_glyph\":{\"id\":\"5090\"},\"nonselection_glyph\":{\"id\":\"5089\"},\"selection_glyph\":null,\"view\":{\"id\":\"5092\"}},\"id\":\"5091\",\"type\":\"GlyphRenderer\"},{\"attributes\":{\"data\":{\"x\":{\"__ndarray__\":\"AAAAAAAAAACrqqqqqqowQKuqqqqqqkBAAAAAAAAASUCrqqqqqqpQQFZVVVVV1VRAAAAAAAAAWUCrqqqqqipdQKuqqqqqqmBAAAAAAADAYkBWVVVVVdVkQKuqqqqq6mZAAAAAAAAAaUBWVVVVVRVrQKuqqqqqKm1AAQAAAABAb0CrqqqqqqpwQFZVVVVVtXFAAAAAAADAckCrqqqqqspzQFZVVVVV1XRAAAAAAADgdUCrqqqqqup2QFZVVVVV9XdAAAAAAAAAeUCrqqqqqgp6QFZVVVVVFXtAAQAAAAAgfECrqqqqqip9QFZVVVVVNX5AAAAAAABAf0A=\",\"dtype\":\"float64\",\"shape\":[31]},\"y\":{\"__ndarray__\":\"tFdpHMg7XUA6GC7C/DpdQOZr3NIwOl1AFVQyTWQ5XUDV2OgvlzhdQJT2s3nJN11ALpFCKfs2XUBYPD49LDZdQPdCS7RcNV1ArGUIjYw0XUAy3g7GuzNdQFYp8l3qMl1A0/w/UxgyXUAQEYCkRTFdQJ8WNFByMF1Ab4XXVJ4vXUDahd+wyS5dQM7GumL0LV1AhlzRaB4tXUDcm4TBRyxdQKb4LmtwK11AHtMjZJgqXUC6Ya+qvyldQM55Fj3mKF1Ag26WGQwoXUB642Q+MSddQLqfr6lVJl1AVGOcWXklXUC1tUhMnCRdQPa8yX++I11A3gMs8t8iXUA=\",\"dtype\":\"float64\",\"shape\":[31]}},\"selected\":{\"id\":\"4809\"},\"selection_policy\":{\"id\":\"4808\"}},\"id\":\"4779\",\"type\":\"ColumnDataSource\"},{\"attributes\":{\"line_alpha\":0.6,\"line_color\":\"#2ca02c\",\"line_width\":2.5,\"x\":{\"field\":\"x\"},\"y\":{\"field\":\"y\"}},\"id\":\"4925\",\"type\":\"Line\"},{\"attributes\":{\"line_alpha\":0.1,\"line_color\":\"#2ca02c\",\"line_width\":2.5,\"x\":{\"field\":\"x\"},\"y\":{\"field\":\"y\"}},\"id\":\"4926\",\"type\":\"Line\"},{\"attributes\":{\"label\":{\"value\":\"Interval 90 - Mode 3\"},\"renderers\":[{\"id\":\"4901\"},{\"id\":\"4928\"}]},\"id\":\"4923\",\"type\":\"LegendItem\"},{\"attributes\":{\"line_alpha\":0.1,\"line_color\":\"#9467bd\",\"line_width\":2.5,\"x\":{\"field\":\"x\"},\"y\":{\"field\":\"y\"}},\"id\":\"5089\",\"type\":\"Line\"},{\"attributes\":{\"source\":{\"id\":\"4924\"}},\"id\":\"4929\",\"type\":\"CDSView\"},{\"attributes\":{},\"id\":\"4921\",\"type\":\"UnionRenderers\"},{\"attributes\":{\"background_fill_alpha\":0.1,\"click_policy\":\"mute\",\"items\":[{\"id\":\"4778\"},{\"id\":\"4793\"},{\"id\":\"4828\"},{\"id\":\"4849\"},{\"id\":\"4896\"},{\"id\":\"4923\"},{\"id\":\"4982\"},{\"id\":\"5015\"},{\"id\":\"5086\"},{\"id\":\"5125\"},{\"id\":\"5208\"},{\"id\":\"5253\"}]},\"id\":\"4777\",\"type\":\"Legend\"},{\"attributes\":{\"line_color\":\"#1f77b4\",\"line_width\":3.0,\"x\":{\"field\":\"x\"},\"y\":{\"field\":\"y\"}},\"id\":\"4766\",\"type\":\"Line\"},{\"attributes\":{\"source\":{\"id\":\"4952\"}},\"id\":\"4957\",\"type\":\"CDSView\"},{\"attributes\":{\"label\":{\"value\":\"Interval 90 - Mode 5\"},\"renderers\":[{\"id\":\"5091\"},{\"id\":\"5130\"}]},\"id\":\"5125\",\"type\":\"LegendItem\"},{\"attributes\":{\"source\":{\"id\":\"5254\"}},\"id\":\"5259\",\"type\":\"CDSView\"},{\"attributes\":{},\"id\":\"4742\",\"type\":\"LinearScale\"},{\"attributes\":{},\"id\":\"5299\",\"type\":\"Selection\"},{\"attributes\":{},\"id\":\"4981\",\"type\":\"Selection\"},{\"attributes\":{},\"id\":\"5558\",\"type\":\"Selection\"},{\"attributes\":{\"data_source\":{\"id\":\"5126\"},\"glyph\":{\"id\":\"5127\"},\"hover_glyph\":null,\"muted_glyph\":{\"id\":\"5129\"},\"nonselection_glyph\":{\"id\":\"5128\"},\"selection_glyph\":null,\"view\":{\"id\":\"5131\"}},\"id\":\"5130\",\"type\":\"GlyphRenderer\"},{\"attributes\":{\"label\":{\"value\":\"Mean - Mode 5\"},\"renderers\":[{\"id\":\"5054\"}]},\"id\":\"5086\",\"type\":\"LegendItem\"},{\"attributes\":{\"line_color\":\"#d62728\",\"line_width\":3.0,\"x\":{\"field\":\"x\"},\"y\":{\"field\":\"y\"}},\"id\":\"4953\",\"type\":\"Line\"},{\"attributes\":{},\"id\":\"4751\",\"type\":\"BasicTicker\"},{\"attributes\":{\"line_alpha\":0.6,\"line_color\":\"#9467bd\",\"line_width\":2.5,\"x\":{\"field\":\"x\"},\"y\":{\"field\":\"y\"}},\"id\":\"5127\",\"type\":\"Line\"},{\"attributes\":{\"data_source\":{\"id\":\"4897\"},\"glyph\":{\"id\":\"4898\"},\"hover_glyph\":null,\"muted_glyph\":{\"id\":\"4900\"},\"nonselection_glyph\":{\"id\":\"4899\"},\"selection_glyph\":null,\"view\":{\"id\":\"4902\"}},\"id\":\"4901\",\"type\":\"GlyphRenderer\"},{\"attributes\":{\"line_alpha\":0.1,\"line_color\":\"#9467bd\",\"line_width\":2.5,\"x\":{\"field\":\"x\"},\"y\":{\"field\":\"y\"}},\"id\":\"5128\",\"type\":\"Line\"},{\"attributes\":{\"axis_label\":\"Damped Natural Frequencies\",\"axis_label_text_font_size\":\"14pt\",\"formatter\":{\"id\":\"4772\"},\"major_label_text_font_size\":\"14pt\",\"ticker\":{\"id\":\"4751\"}},\"id\":\"4750\",\"type\":\"LinearAxis\"},{\"attributes\":{\"data\":{\"x\":{\"__ndarray__\":\"AAAAAAAAAACrqqqqqqowQKuqqqqqqkBAAAAAAAAASUCrqqqqqqpQQFZVVVVV1VRAAAAAAAAAWUCrqqqqqipdQKuqqqqqqmBAAAAAAADAYkBWVVVVVdVkQKuqqqqq6mZAAAAAAAAAaUBWVVVVVRVrQKuqqqqqKm1AAQAAAABAb0CrqqqqqqpwQFZVVVVVtXFAAAAAAADAckCrqqqqqspzQFZVVVVV1XRAAAAAAADgdUCrqqqqqup2QFZVVVVV9XdAAAAAAAAAeUCrqqqqqgp6QFZVVVVVFXtAAQAAAAAgfECrqqqqqip9QFZVVVVVNX5AAAAAAABAf0A=\",\"dtype\":\"float64\",\"shape\":[31]},\"y\":{\"__ndarray__\":\"UJG5fZD3iEBWFGAm5iWJQCtTFOU9VIlAM7NfSY6CiUBBmzjezbCJQOBTezjz3olAbEJQBfUMikDjQ0gYyjqKQOAc83hpaIpAWBa8b8qVikCDmUamZb6KQDT9NZYN5IpAGZOSq2MJi0B8DwdCYy6LQPGDExMIU4tAVGgpN053i0BquaolMpuLQJbZ4LOwvotAP5gGE8fhi0D6hojNcgSMQOS5mMOxJoxAOnQ5J4JIjECa6N934mmMQBBmzX3RioxAW2w9RU6rjEBGFoIZWMuMQNCQI4Du6oxARJgaNBEKjUDMyy8hwCiNQMXaj1/7Ro1AxcmcL8NkjUA=\",\"dtype\":\"float64\",\"shape\":[31]}},\"selected\":{\"id\":\"5558\"},\"selection_policy\":{\"id\":\"5557\"}},\"id\":\"5254\",\"type\":\"ColumnDataSource\"},{\"attributes\":{},\"id\":\"5014\",\"type\":\"Selection\"},{\"attributes\":{\"label\":{\"value\":\"Mean - Mode 4\"},\"renderers\":[{\"id\":\"4956\"}]},\"id\":\"4982\",\"type\":\"LegendItem\"},{\"attributes\":{},\"id\":\"4744\",\"type\":\"LinearScale\"},{\"attributes\":{\"data_source\":{\"id\":\"4924\"},\"glyph\":{\"id\":\"4925\"},\"hover_glyph\":null,\"muted_glyph\":{\"id\":\"4927\"},\"nonselection_glyph\":{\"id\":\"4926\"},\"selection_glyph\":null,\"view\":{\"id\":\"4929\"}},\"id\":\"4928\",\"type\":\"GlyphRenderer\"},{\"attributes\":{\"axis_label\":\"Rotor Speed\",\"axis_label_text_font_size\":\"14pt\",\"formatter\":{\"id\":\"4774\"},\"major_label_text_font_size\":\"14pt\",\"ticker\":{\"id\":\"4747\"}},\"id\":\"4746\",\"type\":\"LinearAxis\"},{\"attributes\":{\"data\":{\"x\":{\"__ndarray__\":\"AAAAAAAAAACrqqqqqqowQKuqqqqqqkBAAAAAAAAASUCrqqqqqqpQQFZVVVVV1VRAAAAAAAAAWUCrqqqqqipdQKuqqqqqqmBAAAAAAADAYkBWVVVVVdVkQKuqqqqq6mZAAAAAAAAAaUBWVVVVVRVrQKuqqqqqKm1AAQAAAABAb0CrqqqqqqpwQFZVVVVVtXFAAAAAAADAckCrqqqqqspzQFZVVVVV1XRAAAAAAADgdUCrqqqqqup2QFZVVVVV9XdAAAAAAAAAeUCrqqqqqgp6QFZVVVVVFXtAAQAAAAAgfECrqqqqqip9QFZVVVVVNX5AAAAAAABAf0A=\",\"dtype\":\"float64\",\"shape\":[31]},\"y\":{\"__ndarray__\":\"oMDJGXQsjUBNfc8r4g6NQGrBvvtH8YxA2j2L/qjTjED6kumBCLaMQEIV+qhpmIxA0NSPac96jECuohaKPF2MQOtrFaCzP4xAq6RMDzcijEAGNWYJyQSMQJ3oMo5r54tADUVobCDKi0A2qNVC6ayLQCagAYLHj4tAAFQkbrxyi0BWWG8hyVWLQAZvlY7uOItAvfeDgy0ci0CrFUGshv+KQFq135X64opAjqB+sYnGikCwn0VXNKqKQGCUV8n6jYpAs9euNt1xikCSFdy921WKQGKGoG/2OYpAkHJeUS0eikA1fFpfgAKKQOiFy47v5olAfWG2z3rLiUA=\",\"dtype\":\"float64\",\"shape\":[31]}},\"selected\":{\"id\":\"5124\"},\"selection_policy\":{\"id\":\"5123\"}},\"id\":\"5050\",\"type\":\"ColumnDataSource\"},{\"attributes\":{\"data_source\":{\"id\":\"4779\"},\"glyph\":{\"id\":\"4780\"},\"hover_glyph\":null,\"muted_glyph\":{\"id\":\"4782\"},\"nonselection_glyph\":{\"id\":\"4781\"},\"selection_glyph\":null,\"view\":{\"id\":\"4784\"}},\"id\":\"4783\",\"type\":\"GlyphRenderer\"},{\"attributes\":{\"line_alpha\":0.1,\"line_color\":\"#d62728\",\"line_width\":3.0,\"x\":{\"field\":\"x\"},\"y\":{\"field\":\"y\"}},\"id\":\"4954\",\"type\":\"Line\"},{\"attributes\":{\"line_alpha\":0.1,\"line_color\":\"#9467bd\",\"line_width\":2.5,\"x\":{\"field\":\"x\"},\"y\":{\"field\":\"y\"}},\"id\":\"5090\",\"type\":\"Line\"},{\"attributes\":{},\"id\":\"4774\",\"type\":\"BasicTickFormatter\"},{\"attributes\":{\"line_alpha\":0.6,\"line_color\":\"#d62728\",\"line_width\":2.5,\"x\":{\"field\":\"x\"},\"y\":{\"field\":\"y\"}},\"id\":\"4984\",\"type\":\"Line\"},{\"attributes\":{\"line_color\":\"#8c564b\",\"line_width\":3.0,\"x\":{\"field\":\"x\"},\"y\":{\"field\":\"y\"}},\"id\":\"5167\",\"type\":\"Line\"},{\"attributes\":{\"line_alpha\":0.1,\"line_color\":\"#2ca02c\",\"line_width\":2.5,\"x\":{\"field\":\"x\"},\"y\":{\"field\":\"y\"}},\"id\":\"4927\",\"type\":\"Line\"},{\"attributes\":{\"data\":{\"x\":{\"__ndarray__\":\"AAAAAAAAAACrqqqqqqowQKuqqqqqqkBAAAAAAAAASUCrqqqqqqpQQFZVVVVV1VRAAAAAAAAAWUCrqqqqqipdQKuqqqqqqmBAAAAAAADAYkBWVVVVVdVkQKuqqqqq6mZAAAAAAAAAaUBWVVVVVRVrQKuqqqqqKm1AAQAAAABAb0CrqqqqqqpwQFZVVVVVtXFAAAAAAADAckCrqqqqqspzQFZVVVVV1XRAAAAAAADgdUCrqqqqqup2QFZVVVVV9XdAAAAAAAAAeUCrqqqqqgp6QFZVVVVVFXtAAQAAAAAgfECrqqqqqip9QFZVVVVVNX5AAAAAAABAf0A=\",\"dtype\":\"float64\",\"shape\":[31]},\"y\":{\"__ndarray__\":\"YoPW65dvfUCbdt4/daR9QAiud5Zl2X1A5yvMZ2YOfkAyTR45dUN+QIVVyJ2PeH5A+oYYOLOtfkBLQgi63eJ+QMxA0OUMGH9AzCtZjj5Nf0CelIqXcIJ/QM9Uevagt39AWDN9sc3sf0CsQQ5w+hCAQGfleFWKK4BAIxK2pRVGgEA0r8CFm2CAQMgJpyIbe4BAAnBTsZOVgEBs3k5uBLCAQLTpfp1syoBAuhjgicvkgEBayT2FIP+AQO2X6OdqGYFApk5sEKozgUBb8EVj3U2BQLD2mkoEaIFAwujxNR6CgUAxIe2ZKpyBQJowCPAotoFAHOxXthjQgUA=\",\"dtype\":\"float64\",\"shape\":[31]}},\"selected\":{\"id\":\"5049\"},\"selection_policy\":{\"id\":\"5048\"}},\"id\":\"4983\",\"type\":\"ColumnDataSource\"},{\"attributes\":{\"data\":{\"x\":{\"__ndarray__\":\"AAAAAAAAAACrqqqqqqowQKuqqqqqqkBAAAAAAAAASUCrqqqqqqpQQFZVVVVV1VRAAAAAAAAAWUCrqqqqqipdQKuqqqqqqmBAAAAAAADAYkBWVVVVVdVkQKuqqqqq6mZAAAAAAAAAaUBWVVVVVRVrQKuqqqqqKm1AAQAAAABAb0CrqqqqqqpwQFZVVVVVtXFAAAAAAADAckCrqqqqqspzQFZVVVVV1XRAAAAAAADgdUCrqqqqqup2QFZVVVVV9XdAAAAAAAAAeUCrqqqqqgp6QFZVVVVVFXtAAQAAAAAgfECrqqqqqip9QFZVVVVVNX5AAAAAAABAf0A=\",\"dtype\":\"float64\",\"shape\":[31]},\"y\":{\"__ndarray__\":\"hjixBvT4VkBrNxFihfNWQDZhw4MO7lZAmhEHWo/oVkBAePrSB+NWQGXsmtx33VZAfUrFZN/XVkA9WDZZPtJWQKEti6eUzFZAsbBBPeLGVkB8D7kHJ8FWQJNIMvRiu1ZACMPQ75W1VkBI5Zrnv69WQPi9esjgqVZAqrg+f/ijVkBcWpr4Bp5WQA4LJyEMmFZAoO1k5QeSVkCXwLsx+otWQJzQe/LihVZA/vPeE8J/VkAOlwmCl3lWQB7XCyljc1ZApqni9CRtVkAmFnnR3GZWQIB8qaqKYFZAHO8+bC5aVkCRmvYByFNWQIxAgVdXTVZAKcOEWNxGVkA=\",\"dtype\":\"float64\",\"shape\":[31]}},\"selected\":{\"id\":\"4827\"},\"selection_policy\":{\"id\":\"4826\"}},\"id\":\"4794\",\"type\":\"ColumnDataSource\"},{\"attributes\":{\"line_alpha\":0.1,\"line_color\":\"#1f77b4\",\"line_width\":2.5,\"x\":{\"field\":\"x\"},\"y\":{\"field\":\"y\"}},\"id\":\"4782\",\"type\":\"Line\"},{\"attributes\":{},\"id\":\"4922\",\"type\":\"Selection\"},{\"attributes\":{},\"id\":\"4950\",\"type\":\"UnionRenderers\"},{\"attributes\":{},\"id\":\"4980\",\"type\":\"UnionRenderers\"},{\"attributes\":{\"data\":{\"x\":{\"__ndarray__\":\"AAAAAAAAAACrqqqqqqowQKuqqqqqqkBAAAAAAAAASUCrqqqqqqpQQFZVVVVV1VRAAAAAAAAAWUCrqqqqqipdQKuqqqqqqmBAAAAAAADAYkBWVVVVVdVkQKuqqqqq6mZAAAAAAAAAaUBWVVVVVRVrQKuqqqqqKm1AAQAAAABAb0CrqqqqqqpwQFZVVVVVtXFAAAAAAADAckCrqqqqqspzQFZVVVVV1XRAAAAAAADgdUCrqqqqqup2QFZVVVVV9XdAAAAAAAAAeUCrqqqqqgp6QFZVVVVVFXtAAQAAAAAgfECrqqqqqip9QFZVVVVVNX5AAAAAAABAf0A=\",\"dtype\":\"float64\",\"shape\":[31]},\"y\":{\"__ndarray__\":\"hpT9u5d+kUBs5iMSgneRQHZxVZJYcJFAPH2X9xppkUDLFLz8yGGRQF6bnFxiWpFAJiRa0uZSkUCpHKQZVkuRQNcNAu+vQ5FAm/EnEPQ7kUDeukg8IjSRQAdbcjQ6LJFA/CPruzskkUA3oZOYJhyRQMGGSZP6E5FAsfhMeLcLkUBZwKUXXQORQH+wh0Xr+pBAC8a02mHykECE6ty0wOmQQGV2+LYH4ZBA+MqdyTbYkEC+Ck7bTc+QQPYSveBMxpBAcZ8N1TO9kEBP5wS6ArSQQFQRM5i5qpBAxiMRf1ihkEA8BhOF35eQQGddrsdOjpBAq/VVa6aEkEA=\",\"dtype\":\"float64\",\"shape\":[31]}},\"selected\":{\"id\":\"5165\"},\"selection_policy\":{\"id\":\"5164\"}},\"id\":\"5087\",\"type\":\"ColumnDataSource\"}],\"root_ids\":[\"4735\"]},\"title\":\"Bokeh Application\",\"version\":\"2.0.0\"}};\n",
       "  var render_items = [{\"docid\":\"86baaf97-e8db-49e0-b5d0-fb3018df0d19\",\"root_ids\":[\"4735\"],\"roots\":{\"4735\":\"e0cccc49-1c3d-4cad-b932-3eb08fcb92bd\"}}];\n",
       "  root.Bokeh.embed.embed_items_notebook(docs_json, render_items);\n",
       "\n",
       "  }\n",
       "  if (root.Bokeh !== undefined) {\n",
       "    embed_document(root);\n",
       "  } else {\n",
       "    var attempts = 0;\n",
       "    var timer = setInterval(function(root) {\n",
       "      if (root.Bokeh !== undefined) {\n",
       "        clearInterval(timer);\n",
       "        embed_document(root);\n",
       "      } else {\n",
       "        attempts++;\n",
       "        if (attempts > 100) {\n",
       "          clearInterval(timer);\n",
       "          console.log(\"Bokeh: ERROR: Unable to run BokehJS code because BokehJS library is missing\");\n",
       "        }\n",
       "      }\n",
       "    }, 10, root)\n",
       "  }\n",
       "})(window);"
      ],
      "application/vnd.bokehjs_exec.v0+json": ""
     },
     "metadata": {
      "application/vnd.bokehjs_exec.v0+json": {
       "id": "4735"
      }
     },
     "output_type": "display_data"
    }
   ],
   "source": [
    "samples = 31\n",
    "speed_range = np.linspace(0, 500, samples)\n",
    "\n",
    "results = rotor1.run_campbell(speed_range)\n",
    "\n",
    "show(results.plot_nat_freq(conf_interval=[90]))"
   ]
  },
  {
   "cell_type": "markdown",
   "metadata": {},
   "source": [
    "### Frenquency Response\n",
    "\n",
    "```text\n",
    "speed_range : array\n",
    "    Array with the desired range of frequencies.\n",
    "inp : int\n",
    "    Degree of freedom to be excited.\n",
    "out : int\n",
    "    Degree of freedom to be observed.\n",
    "modes : list, optional\n",
    "    Modes that will be used to calculate the frequency response\n",
    "    (all modes will be used if a list is not given).\n",
    "```\n",
    "\n",
    "We can put the frequency response of selecting the input and output degree of freedom.\n",
    "- Input is the degree of freedom to be excited;\n",
    "- Output is the degree of freedom to be observed.\n",
    "\n",
    "Each shaft node has 4 local degrees of freedom (dof) $[x, y, \\alpha, \\beta]$, and each degree of freedom has it own index:\n",
    "- $x$ -> index 0\n",
    "- $y$ -> index 1\n",
    "- $\\alpha$ -> index 2\n",
    "- $\\beta$ -> index 3\n",
    "\n",
    "Taking the rotor built as example, let's excite the node 3 (in the $y$ direction) and observe the response on the node 2 (also in $y$ direction):\n",
    "\n",
    "$global\\_dof = dof\\_per\\_node * node\\_number + dof\\_index$\n",
    "\n",
    "node 2, local dof $y$:\n",
    "\n",
    "$out = 4 * 2 + 1 = 9$\n",
    "\n",
    "node 3, local dof $y$:\n",
    "\n",
    "$inp = 4 * 3 + 1 = 13$\n",
    "\n",
    "To run the Frequency Response, use the command `.run_freq_response()`\n",
    "\n",
    "To plot the figure, use the command `run_freq_response().plot()`"
   ]
  },
  {
   "cell_type": "code",
   "execution_count": 21,
   "metadata": {},
   "outputs": [
    {
     "data": {
      "text/html": [
       "\n",
       "\n",
       "\n",
       "\n",
       "\n",
       "\n",
       "  <div class=\"bk-root\" id=\"de3cb15d-e39b-4ab9-9e1e-d623798f0085\" data-root-id=\"7879\"></div>\n"
      ]
     },
     "metadata": {},
     "output_type": "display_data"
    },
    {
     "data": {
      "application/javascript": [
       "(function(root) {\n",
       "  function embed_document(root) {\n",
       "    \n",
       "  var docs_json = {\"f9e695a2-ec89-4ce3-8f25-e989da77ebff\":{\"roots\":{\"references\":[{\"attributes\":{\"children\":[{\"id\":\"7878\"},{\"id\":\"7876\"}]},\"id\":\"7879\",\"type\":\"Column\"},{\"attributes\":{\"text\":\"Frequency Response - Phase\",\"text_font_size\":{\"value\":\"14pt\"}},\"id\":\"7777\",\"type\":\"Title\"},{\"attributes\":{},\"id\":\"7832\",\"type\":\"Selection\"},{\"attributes\":{\"axis_label\":\"Phase angle\",\"axis_label_text_font_size\":\"14pt\",\"formatter\":{\"id\":\"7813\"},\"major_label_text_font_size\":\"14pt\",\"ticker\":{\"id\":\"7792\"}},\"id\":\"7791\",\"type\":\"LinearAxis\"},{\"attributes\":{\"axis\":{\"id\":\"7716\"},\"dimension\":1,\"ticker\":null},\"id\":\"7719\",\"type\":\"Grid\"},{\"attributes\":{\"line_alpha\":0.1,\"line_color\":\"#1f77b4\",\"line_width\":3,\"x\":{\"field\":\"x\"},\"y\":{\"field\":\"y\"}},\"id\":\"7747\",\"type\":\"Line\"},{\"attributes\":{\"line_color\":\"#1f77b4\",\"line_width\":3,\"x\":{\"field\":\"x\"},\"y\":{\"field\":\"y\"}},\"id\":\"7746\",\"type\":\"Line\"},{\"attributes\":{\"data_source\":{\"id\":\"7833\"},\"glyph\":{\"id\":\"7834\"},\"hover_glyph\":null,\"muted_glyph\":{\"id\":\"7836\"},\"nonselection_glyph\":{\"id\":\"7835\"},\"selection_glyph\":null,\"view\":{\"id\":\"7838\"}},\"id\":\"7837\",\"type\":\"GlyphRenderer\"},{\"attributes\":{\"label\":{\"value\":\"confidence interval: 90%\"},\"renderers\":[{\"id\":\"7735\"},{\"id\":\"7749\"}]},\"id\":\"7744\",\"type\":\"LegendItem\"},{\"attributes\":{},\"id\":\"7708\",\"type\":\"LinearScale\"},{\"attributes\":{},\"id\":\"7706\",\"type\":\"DataRange1d\"},{\"attributes\":{\"line_alpha\":0.1,\"line_width\":3,\"x\":{\"field\":\"x\"},\"y\":{\"field\":\"y\"}},\"id\":\"7835\",\"type\":\"Line\"},{\"attributes\":{},\"id\":\"7717\",\"type\":\"BasicTicker\"},{\"attributes\":{},\"id\":\"7773\",\"type\":\"UnionRenderers\"},{\"attributes\":{},\"id\":\"7831\",\"type\":\"UnionRenderers\"},{\"attributes\":{\"label\":{\"value\":\"Mean\"},\"renderers\":[{\"id\":\"7763\"}]},\"id\":\"7775\",\"type\":\"LegendItem\"},{\"attributes\":{\"axis\":{\"id\":\"7712\"},\"ticker\":null},\"id\":\"7715\",\"type\":\"Grid\"},{\"attributes\":{\"data\":{\"x\":{\"__ndarray__\":\"AAAAAAAAAACrqqqqqqowQKuqqqqqqkBAAAAAAAAASUCrqqqqqqpQQFZVVVVV1VRAAAAAAAAAWUCrqqqqqipdQKuqqqqqqmBAAAAAAADAYkBWVVVVVdVkQKuqqqqq6mZAAAAAAAAAaUBWVVVVVRVrQKuqqqqqKm1AAQAAAABAb0CrqqqqqqpwQFZVVVVVtXFAAAAAAADAckCrqqqqqspzQFZVVVVV1XRAAAAAAADgdUCrqqqqqup2QFZVVVVV9XdAAAAAAAAAeUCrqqqqqgp6QFZVVVVVFXtAAQAAAAAgfECrqqqqqip9QFZVVVVVNX5AAAAAAABAf0A=\",\"dtype\":\"float64\",\"shape\":[31]},\"y\":{\"__ndarray__\":\"mCUFnEUCsz4iBr9D+KyzPmiL8JpX+7U+zAyhFllHuz7y6IIHQX/EPgZleeKys9w+bKa8fvop8D5YOgJiCrLlPg8S1+aCB8Y+qgQ/lSK4sz5ALFdUE8ioPklVKD2dw6E+W21eV+ljmz4xjKTAJyWWPjtkmTuViJI+aKlvVkjxjz5X3rWm/0CMPjqLJydsBIo+Qro6ulpviD6J5IZMOT+HPlNh9QZRsYY+29q0vcY4hz48lj0fbj+DPgg/j6UAmYI+KQAFy6D+gD7Aecx2wuJ4PjxaK+ulhXQ+qC3F3JhidD5NRlQ7+250PlX/7J6/OnQ+BY7T+5aOdD4=\",\"dtype\":\"float64\",\"shape\":[31]}},\"selected\":{\"id\":\"7758\"},\"selection_policy\":{\"id\":\"7757\"}},\"id\":\"7731\",\"type\":\"ColumnDataSource\"},{\"attributes\":{\"line_color\":\"#1f77b4\",\"line_width\":3,\"x\":{\"field\":\"x\"},\"y\":{\"field\":\"y\"}},\"id\":\"7732\",\"type\":\"Line\"},{\"attributes\":{\"line_alpha\":0.1,\"line_color\":\"#1f77b4\",\"line_width\":3,\"x\":{\"field\":\"x\"},\"y\":{\"field\":\"y\"}},\"id\":\"7748\",\"type\":\"Line\"},{\"attributes\":{\"active_drag\":\"auto\",\"active_inspect\":\"auto\",\"active_multi\":null,\"active_scroll\":\"auto\",\"active_tap\":\"auto\",\"tools\":[{\"id\":\"7720\"},{\"id\":\"7721\"},{\"id\":\"7722\"},{\"id\":\"7723\"},{\"id\":\"7724\"}]},\"id\":\"7725\",\"type\":\"Toolbar\"},{\"attributes\":{},\"id\":\"7779\",\"type\":\"DataRange1d\"},{\"attributes\":{},\"id\":\"7713\",\"type\":\"BasicTicker\"},{\"attributes\":{\"children\":[[{\"id\":\"7701\"},0,0],[{\"id\":\"7776\"},1,0]]},\"id\":\"7876\",\"type\":\"GridBox\"},{\"attributes\":{},\"id\":\"7720\",\"type\":\"PanTool\"},{\"attributes\":{},\"id\":\"7848\",\"type\":\"Selection\"},{\"attributes\":{\"line_color\":\"#1f77b4\",\"line_width\":3,\"x\":{\"field\":\"x\"},\"y\":{\"field\":\"y\"}},\"id\":\"7821\",\"type\":\"Line\"},{\"attributes\":{\"data\":{\"x\":{\"__ndarray__\":\"AAAAAAAAAACrqqqqqqowQKuqqqqqqkBAAAAAAAAASUCrqqqqqqpQQFZVVVVV1VRAAAAAAAAAWUCrqqqqqipdQKuqqqqqqmBAAAAAAADAYkBWVVVVVdVkQKuqqqqq6mZAAAAAAAAAaUBWVVVVVRVrQKuqqqqqKm1AAQAAAABAb0CrqqqqqqpwQFZVVVVVtXFAAAAAAADAckCrqqqqqspzQFZVVVVV1XRAAAAAAADgdUCrqqqqqup2QFZVVVVV9XdAAAAAAAAAeUCrqqqqqgp6QFZVVVVVFXtAAQAAAAAgfECrqqqqqip9QFZVVVVVNX5AAAAAAABAf0A=\",\"dtype\":\"float64\",\"shape\":[31]},\"y\":{\"__ndarray__\":\"M6Sle6KCkTwiTgS4cVt4vyILufadvIq/M8QBJKTil7/KC1Cx+KmlvxjUVqB8e7q/QzQKooHJ+b/hiT6n6fgDwG38EICFfgjA5s+2vz7ACMBwCG19Q94IwDdxWQwA8wjAbmDESS0FCcDmiGwrffPjv/p7DitEEP4/qzhKZj3X/T8GXnJL79EIQJCxDHbOmAhA4+DREMJCCECzp8vobcEHQGpbG7YKBwdAST+Nlnr6BUAgbdNLGbQEQMOE+B41qgRAtejdc0D3BEC8bP5d+eMEQKgbvTWYDgVANURK4Q9GBUBs3rP4pjkFQMsXbf0R7ARAJU2jBHVvBEA=\",\"dtype\":\"float64\",\"shape\":[31]}},\"selected\":{\"id\":\"7874\"},\"selection_policy\":{\"id\":\"7873\"}},\"id\":\"7833\",\"type\":\"ColumnDataSource\"},{\"attributes\":{\"line_width\":3,\"x\":{\"field\":\"x\"},\"y\":{\"field\":\"y\"}},\"id\":\"7834\",\"type\":\"Line\"},{\"attributes\":{},\"id\":\"7774\",\"type\":\"Selection\"},{\"attributes\":{},\"id\":\"7847\",\"type\":\"UnionRenderers\"},{\"attributes\":{\"source\":{\"id\":\"7833\"}},\"id\":\"7838\",\"type\":\"CDSView\"},{\"attributes\":{\"axis_label\":\"Amplitude (\\u03bc pk-pk)\",\"axis_label_text_font_size\":\"14pt\",\"formatter\":{\"id\":\"7738\"},\"major_label_text_font_size\":\"14pt\",\"ticker\":{\"id\":\"7717\"}},\"id\":\"7716\",\"type\":\"LinearAxis\"},{\"attributes\":{\"data\":{\"x\":{\"__ndarray__\":\"AAAAAAAAAACrqqqqqqowQKuqqqqqqkBAAAAAAAAASUCrqqqqqqpQQFZVVVVV1VRAAAAAAAAAWUCrqqqqqipdQKuqqqqqqmBAAAAAAADAYkBWVVVVVdVkQKuqqqqq6mZAAAAAAAAAaUBWVVVVVRVrQKuqqqqqKm1AAQAAAABAb0CrqqqqqqpwQFZVVVVVtXFAAAAAAADAckCrqqqqqspzQFZVVVVV1XRAAAAAAADgdUCrqqqqqup2QFZVVVVV9XdAAAAAAAAAeUCrqqqqqgp6QFZVVVVVFXtAAQAAAAAgfECrqqqqqip9QFZVVVVVNX5AAAAAAABAf0A=\",\"dtype\":\"float64\",\"shape\":[31]},\"y\":{\"__ndarray__\":\"uky5q6y4pz4a4kuTJD2oPt64zsn87qk+PVUQjFxYrT5wTtRbzfqxPi+gnayPZbk+Tt/3xaqfyD4QVFTPwkPAPigdpiQaMrI+kGwueT57qD782o+9xuShPiyiV2Hg3Js+bZkWAU6olj7N+IzvTwqTPoMg/U9Pb5A+SKDpmV8KjT6epSIKUSCKPlaEAlRVBog+XWD7yPaghj7QVZf6kleFPlItMW+UgII+Txb7cbgHfz4w5Y1URUx6PjfUHTSDBXI+Xx4aqqgHcD7mp74mB4pwPuL7A3uq03A+aliUpPhpbT7OVxLQ6JlsPugjLePwkGw+rptJvog1aj4=\",\"dtype\":\"float64\",\"shape\":[31]}},\"selected\":{\"id\":\"7774\"},\"selection_policy\":{\"id\":\"7773\"}},\"id\":\"7745\",\"type\":\"ColumnDataSource\"},{\"attributes\":{\"line_alpha\":0.1,\"line_width\":3,\"x\":{\"field\":\"x\"},\"y\":{\"field\":\"y\"}},\"id\":\"7836\",\"type\":\"Line\"},{\"attributes\":{\"axis_label\":\"Frequency\",\"axis_label_text_font_size\":\"14pt\",\"formatter\":{\"id\":\"7740\"},\"major_label_text_font_size\":\"14pt\",\"ticker\":{\"id\":\"7713\"}},\"id\":\"7712\",\"type\":\"LinearAxis\"},{\"attributes\":{\"data\":{\"x\":{\"__ndarray__\":\"AAAAAAAAAACrqqqqqqowQKuqqqqqqkBAAAAAAAAASUCrqqqqqqpQQFZVVVVV1VRAAAAAAAAAWUCrqqqqqipdQKuqqqqqqmBAAAAAAADAYkBWVVVVVdVkQKuqqqqq6mZAAAAAAAAAaUBWVVVVVRVrQKuqqqqqKm1AAQAAAABAb0CrqqqqqqpwQFZVVVVVtXFAAAAAAADAckCrqqqqqspzQFZVVVVV1XRAAAAAAADgdUCrqqqqqup2QFZVVVVV9XdAAAAAAAAAeUCrqqqqqgp6QFZVVVVVFXtAAQAAAAAgfECrqqqqqip9QFZVVVVVNX5AAAAAAABAf0A=\",\"dtype\":\"float64\",\"shape\":[31]},\"y\":{\"__ndarray__\":\"dxJnxywdzjx8yFUcVExlv1DAEjmgYXe/CUbm1DDmhL90YUEpbP2Sv4GXqW1nnKO/5POmBGYZxL/jKvx3+4Puv26eNcDIIQjAYlc/shmJCMAjFzwijLUIwHerdfzM1AjAaLRpsUzuCMB6DEGQmB8JQEdF7cP4HglATt5KGDMKCUABXD/kFxUJQATQVttXAQlAkHgXwNvkCECUILPhfbcIQAoGsjg6ZAhA5LL7XrbSB0CiNPYrJCQHQMagdn5LDgZA7AliOmiHBUAwSfqNUKYGQMa3nGYJ/wZA9h5vYLf7BkB6yffnouIGQDB9p2g3rgZAeDM+QGQuBkA=\",\"dtype\":\"float64\",\"shape\":[31]}},\"selected\":{\"id\":\"7832\"},\"selection_policy\":{\"id\":\"7831\"}},\"id\":\"7806\",\"type\":\"ColumnDataSource\"},{\"attributes\":{},\"id\":\"7861\",\"type\":\"Selection\"},{\"attributes\":{},\"id\":\"7724\",\"type\":\"SaveTool\"},{\"attributes\":{},\"id\":\"7704\",\"type\":\"DataRange1d\"},{\"attributes\":{\"data_source\":{\"id\":\"7806\"},\"glyph\":{\"id\":\"7807\"},\"hover_glyph\":null,\"muted_glyph\":{\"id\":\"7809\"},\"nonselection_glyph\":{\"id\":\"7808\"},\"selection_glyph\":null,\"view\":{\"id\":\"7811\"}},\"id\":\"7810\",\"type\":\"GlyphRenderer\"},{\"attributes\":{\"line_alpha\":0.1,\"line_color\":\"#1f77b4\",\"line_width\":3,\"x\":{\"field\":\"x\"},\"y\":{\"field\":\"y\"}},\"id\":\"7822\",\"type\":\"Line\"},{\"attributes\":{},\"id\":\"7757\",\"type\":\"UnionRenderers\"},{\"attributes\":{},\"id\":\"7722\",\"type\":\"WheelZoomTool\"},{\"attributes\":{\"axis\":{\"id\":\"7791\"},\"dimension\":1,\"ticker\":null},\"id\":\"7794\",\"type\":\"Grid\"},{\"attributes\":{},\"id\":\"7815\",\"type\":\"BasicTickFormatter\"},{\"attributes\":{\"source\":{\"id\":\"7731\"}},\"id\":\"7736\",\"type\":\"CDSView\"},{\"attributes\":{\"background_fill_alpha\":0.1,\"click_policy\":\"mute\",\"items\":[{\"id\":\"7819\"},{\"id\":\"7849\"}]},\"id\":\"7818\",\"type\":\"Legend\"},{\"attributes\":{\"line_alpha\":0.1,\"line_color\":\"#1f77b4\",\"line_width\":3,\"x\":{\"field\":\"x\"},\"y\":{\"field\":\"y\"}},\"id\":\"7734\",\"type\":\"Line\"},{\"attributes\":{\"line_width\":3,\"x\":{\"field\":\"x\"},\"y\":{\"field\":\"y\"}},\"id\":\"7760\",\"type\":\"Line\"},{\"attributes\":{},\"id\":\"7738\",\"type\":\"BasicTickFormatter\"},{\"attributes\":{},\"id\":\"7781\",\"type\":\"DataRange1d\"},{\"attributes\":{\"axis\":{\"id\":\"7787\"},\"ticker\":null},\"id\":\"7790\",\"type\":\"Grid\"},{\"attributes\":{\"data\":{\"x\":{\"__ndarray__\":\"AAAAAAAAAACrqqqqqqowQKuqqqqqqkBAAAAAAAAASUCrqqqqqqpQQFZVVVVV1VRAAAAAAAAAWUCrqqqqqipdQKuqqqqqqmBAAAAAAADAYkBWVVVVVdVkQKuqqqqq6mZAAAAAAAAAaUBWVVVVVRVrQKuqqqqqKm1AAQAAAABAb0CrqqqqqqpwQFZVVVVVtXFAAAAAAADAckCrqqqqqspzQFZVVVVV1XRAAAAAAADgdUCrqqqqqup2QFZVVVVV9XdAAAAAAAAAeUCrqqqqqgp6QFZVVVVVFXtAAQAAAAAgfECrqqqqqip9QFZVVVVVNX5AAAAAAABAf0A=\",\"dtype\":\"float64\",\"shape\":[31]},\"y\":{\"__ndarray__\":\"4w99uUvirj7FK48jYcyvPkI62DIZc7E+ZlgKPcXYtD64mCxAEcy8PqPJZDjbgM4+lkbFUouf4j6SbRUBbuzSPrtUKZeWcLo+6+n3kk+brT6FI4g+1HOkPghQXjFz8J4+miYthC+4mD6jX+dGXoaUPrK+KZ9mjpE+a6AMNafIjj4lRHYi5pOLPpUMONZEMIk+QvX92kBjhz7LCdD2PvOFPsLicDetp4Q+S+5xpGM1gz52Dr/3BAaAPqsa1h1i8nk+GfFoyHVNdz6x1L8eVVp0PnXXHAtNMnI+4MrRsYVacT7S/egr2QRxPjq3SK7JwnA+Hp5bYcZzcD4=\",\"dtype\":\"float64\",\"shape\":[31]}},\"selected\":{\"id\":\"7861\"},\"selection_policy\":{\"id\":\"7860\"}},\"id\":\"7759\",\"type\":\"ColumnDataSource\"},{\"attributes\":{},\"id\":\"7798\",\"type\":\"ResetTool\"},{\"attributes\":{\"data_source\":{\"id\":\"7759\"},\"glyph\":{\"id\":\"7760\"},\"hover_glyph\":null,\"muted_glyph\":{\"id\":\"7762\"},\"nonselection_glyph\":{\"id\":\"7761\"},\"selection_glyph\":null,\"view\":{\"id\":\"7764\"}},\"id\":\"7763\",\"type\":\"GlyphRenderer\"},{\"attributes\":{},\"id\":\"7813\",\"type\":\"BasicTickFormatter\"},{\"attributes\":{\"line_alpha\":0.1,\"line_width\":3,\"x\":{\"field\":\"x\"},\"y\":{\"field\":\"y\"}},\"id\":\"7761\",\"type\":\"Line\"},{\"attributes\":{\"label\":{\"value\":\"Mean\"},\"renderers\":[{\"id\":\"7837\"}]},\"id\":\"7849\",\"type\":\"LegendItem\"},{\"attributes\":{\"data\":{\"x\":{\"__ndarray__\":\"AAAAAAAAAACrqqqqqqowQKuqqqqqqkBAAAAAAAAASUCrqqqqqqpQQFZVVVVV1VRAAAAAAAAAWUCrqqqqqipdQKuqqqqqqmBAAAAAAADAYkBWVVVVVdVkQKuqqqqq6mZAAAAAAAAAaUBWVVVVVRVrQKuqqqqqKm1AAQAAAABAb0CrqqqqqqpwQFZVVVVVtXFAAAAAAADAckCrqqqqqspzQFZVVVVV1XRAAAAAAADgdUCrqqqqqup2QFZVVVVV9XdAAAAAAAAAeUCrqqqqqgp6QFZVVVVVFXtAAQAAAAAgfECrqqqqqip9QFZVVVVVNX5AAAAAAABAf0A=\",\"dtype\":\"float64\",\"shape\":[31]},\"y\":{\"__ndarray__\":\"X+RAQP/7z7woiKLmS/GDvwZaFgYl5pW/zwhBMP+No7/kbMNYl5uxv26dBMNYeMS/IkTUlEH0B8CFTgcd9NIIwKOhwTkQ9AjA8LaaYYQCCcCyC2Kh5QsJwKD+lJe1EwnA0wpong8dCcCgri3ZmBoJwLZ/qAaBGP6/7KGrmVVC/r88kZnBB4MIQMDa0S4CGAhA+LdM5mV3B0DVJOeFfZkGQBxWT1TLqAVAFLnlyJ8CBUCxA+5XiOABQJ5p/RQCzgJAjRqNeAwaBEDbI5bAx3YCQEf4g8A74gJAbvpauEM8BEBoJSmnJwEEQFznQ3w9awNA7RPYRPvCAkA=\",\"dtype\":\"float64\",\"shape\":[31]}},\"selected\":{\"id\":\"7848\"},\"selection_policy\":{\"id\":\"7847\"}},\"id\":\"7820\",\"type\":\"ColumnDataSource\"},{\"attributes\":{},\"id\":\"7788\",\"type\":\"BasicTicker\"},{\"attributes\":{},\"id\":\"7785\",\"type\":\"LinearScale\"},{\"attributes\":{\"source\":{\"id\":\"7806\"}},\"id\":\"7811\",\"type\":\"CDSView\"},{\"attributes\":{},\"id\":\"7860\",\"type\":\"UnionRenderers\"},{\"attributes\":{\"below\":[{\"id\":\"7787\"}],\"center\":[{\"id\":\"7790\"},{\"id\":\"7794\"},{\"id\":\"7818\"}],\"left\":[{\"id\":\"7791\"}],\"plot_height\":480,\"plot_width\":640,\"renderers\":[{\"id\":\"7810\"},{\"id\":\"7823\"},{\"id\":\"7837\"}],\"title\":{\"id\":\"7777\"},\"toolbar\":{\"id\":\"7800\"},\"toolbar_location\":null,\"x_range\":{\"id\":\"7779\"},\"x_scale\":{\"id\":\"7783\"},\"y_range\":{\"id\":\"7781\"},\"y_scale\":{\"id\":\"7785\"}},\"id\":\"7776\",\"subtype\":\"Figure\",\"type\":\"Plot\"},{\"attributes\":{\"overlay\":{\"id\":\"7817\"}},\"id\":\"7796\",\"type\":\"BoxZoomTool\"},{\"attributes\":{\"bottom_units\":\"screen\",\"fill_alpha\":0.5,\"fill_color\":\"lightgrey\",\"left_units\":\"screen\",\"level\":\"overlay\",\"line_alpha\":1.0,\"line_color\":\"black\",\"line_dash\":[4,4],\"line_width\":2,\"render_mode\":\"css\",\"right_units\":\"screen\",\"top_units\":\"screen\"},\"id\":\"7742\",\"type\":\"BoxAnnotation\"},{\"attributes\":{\"source\":{\"id\":\"7759\"}},\"id\":\"7764\",\"type\":\"CDSView\"},{\"attributes\":{\"line_alpha\":0.1,\"line_color\":\"#1f77b4\",\"line_width\":3,\"x\":{\"field\":\"x\"},\"y\":{\"field\":\"y\"}},\"id\":\"7808\",\"type\":\"Line\"},{\"attributes\":{\"data_source\":{\"id\":\"7820\"},\"glyph\":{\"id\":\"7821\"},\"hover_glyph\":null,\"muted_glyph\":null,\"nonselection_glyph\":{\"id\":\"7822\"},\"selection_glyph\":null,\"view\":{\"id\":\"7824\"}},\"id\":\"7823\",\"type\":\"GlyphRenderer\"},{\"attributes\":{\"data_source\":{\"id\":\"7745\"},\"glyph\":{\"id\":\"7746\"},\"hover_glyph\":null,\"muted_glyph\":{\"id\":\"7748\"},\"nonselection_glyph\":{\"id\":\"7747\"},\"selection_glyph\":null,\"view\":{\"id\":\"7750\"}},\"id\":\"7749\",\"type\":\"GlyphRenderer\"},{\"attributes\":{},\"id\":\"7740\",\"type\":\"BasicTickFormatter\"},{\"attributes\":{\"line_color\":\"#1f77b4\",\"line_width\":3,\"x\":{\"field\":\"x\"},\"y\":{\"field\":\"y\"}},\"id\":\"7807\",\"type\":\"Line\"},{\"attributes\":{\"bottom_units\":\"screen\",\"fill_alpha\":0.5,\"fill_color\":\"lightgrey\",\"left_units\":\"screen\",\"level\":\"overlay\",\"line_alpha\":1.0,\"line_color\":\"black\",\"line_dash\":[4,4],\"line_width\":2,\"render_mode\":\"css\",\"right_units\":\"screen\",\"top_units\":\"screen\"},\"id\":\"7817\",\"type\":\"BoxAnnotation\"},{\"attributes\":{\"source\":{\"id\":\"7745\"}},\"id\":\"7750\",\"type\":\"CDSView\"},{\"attributes\":{},\"id\":\"7797\",\"type\":\"WheelZoomTool\"},{\"attributes\":{},\"id\":\"7792\",\"type\":\"BasicTicker\"},{\"attributes\":{},\"id\":\"7710\",\"type\":\"LinearScale\"},{\"attributes\":{\"axis_label\":\"Frequency\",\"axis_label_text_font_size\":\"14pt\",\"formatter\":{\"id\":\"7815\"},\"major_label_text_font_size\":\"14pt\",\"ticker\":{\"id\":\"7788\"}},\"id\":\"7787\",\"type\":\"LinearAxis\"},{\"attributes\":{},\"id\":\"7795\",\"type\":\"PanTool\"},{\"attributes\":{},\"id\":\"7758\",\"type\":\"Selection\"},{\"attributes\":{\"overlay\":{\"id\":\"7742\"}},\"id\":\"7721\",\"type\":\"BoxZoomTool\"},{\"attributes\":{\"below\":[{\"id\":\"7712\"}],\"center\":[{\"id\":\"7715\"},{\"id\":\"7719\"},{\"id\":\"7743\"}],\"left\":[{\"id\":\"7716\"}],\"plot_height\":480,\"plot_width\":640,\"renderers\":[{\"id\":\"7735\"},{\"id\":\"7749\"},{\"id\":\"7763\"}],\"title\":{\"id\":\"7702\"},\"toolbar\":{\"id\":\"7725\"},\"toolbar_location\":null,\"x_range\":{\"id\":\"7704\"},\"x_scale\":{\"id\":\"7708\"},\"y_range\":{\"id\":\"7706\"},\"y_scale\":{\"id\":\"7710\"}},\"id\":\"7701\",\"subtype\":\"Figure\",\"type\":\"Plot\"},{\"attributes\":{},\"id\":\"7873\",\"type\":\"UnionRenderers\"},{\"attributes\":{},\"id\":\"7783\",\"type\":\"LinearScale\"},{\"attributes\":{\"line_alpha\":0.1,\"line_width\":3,\"x\":{\"field\":\"x\"},\"y\":{\"field\":\"y\"}},\"id\":\"7762\",\"type\":\"Line\"},{\"attributes\":{\"source\":{\"id\":\"7820\"}},\"id\":\"7824\",\"type\":\"CDSView\"},{\"attributes\":{},\"id\":\"7799\",\"type\":\"SaveTool\"},{\"attributes\":{\"text\":\"Frequency Response - Magnitude\",\"text_font_size\":{\"value\":\"14pt\"}},\"id\":\"7702\",\"type\":\"Title\"},{\"attributes\":{\"toolbars\":[{\"id\":\"7725\"},{\"id\":\"7800\"}],\"tools\":[{\"id\":\"7720\"},{\"id\":\"7721\"},{\"id\":\"7722\"},{\"id\":\"7723\"},{\"id\":\"7724\"},{\"id\":\"7795\"},{\"id\":\"7796\"},{\"id\":\"7797\"},{\"id\":\"7798\"},{\"id\":\"7799\"}]},\"id\":\"7877\",\"type\":\"ProxyToolbar\"},{\"attributes\":{\"label\":{\"value\":\"confidence interval: 90%\"},\"renderers\":[{\"id\":\"7810\"},{\"id\":\"7823\"}]},\"id\":\"7819\",\"type\":\"LegendItem\"},{\"attributes\":{\"data_source\":{\"id\":\"7731\"},\"glyph\":{\"id\":\"7732\"},\"hover_glyph\":null,\"muted_glyph\":{\"id\":\"7734\"},\"nonselection_glyph\":{\"id\":\"7733\"},\"selection_glyph\":null,\"view\":{\"id\":\"7736\"}},\"id\":\"7735\",\"type\":\"GlyphRenderer\"},{\"attributes\":{\"active_drag\":\"auto\",\"active_inspect\":\"auto\",\"active_multi\":null,\"active_scroll\":\"auto\",\"active_tap\":\"auto\",\"tools\":[{\"id\":\"7795\"},{\"id\":\"7796\"},{\"id\":\"7797\"},{\"id\":\"7798\"},{\"id\":\"7799\"}]},\"id\":\"7800\",\"type\":\"Toolbar\"},{\"attributes\":{},\"id\":\"7723\",\"type\":\"ResetTool\"},{\"attributes\":{\"background_fill_alpha\":0.1,\"click_policy\":\"mute\",\"items\":[{\"id\":\"7744\"},{\"id\":\"7775\"}]},\"id\":\"7743\",\"type\":\"Legend\"},{\"attributes\":{\"line_alpha\":0.1,\"line_color\":\"#1f77b4\",\"line_width\":3,\"x\":{\"field\":\"x\"},\"y\":{\"field\":\"y\"}},\"id\":\"7809\",\"type\":\"Line\"},{\"attributes\":{\"toolbar\":{\"id\":\"7877\"},\"toolbar_location\":\"above\"},\"id\":\"7878\",\"type\":\"ToolbarBox\"},{\"attributes\":{},\"id\":\"7874\",\"type\":\"Selection\"},{\"attributes\":{\"line_alpha\":0.1,\"line_color\":\"#1f77b4\",\"line_width\":3,\"x\":{\"field\":\"x\"},\"y\":{\"field\":\"y\"}},\"id\":\"7733\",\"type\":\"Line\"}],\"root_ids\":[\"7879\"]},\"title\":\"Bokeh Application\",\"version\":\"2.0.0\"}};\n",
       "  var render_items = [{\"docid\":\"f9e695a2-ec89-4ce3-8f25-e989da77ebff\",\"root_ids\":[\"7879\"],\"roots\":{\"7879\":\"de3cb15d-e39b-4ab9-9e1e-d623798f0085\"}}];\n",
       "  root.Bokeh.embed.embed_items_notebook(docs_json, render_items);\n",
       "\n",
       "  }\n",
       "  if (root.Bokeh !== undefined) {\n",
       "    embed_document(root);\n",
       "  } else {\n",
       "    var attempts = 0;\n",
       "    var timer = setInterval(function(root) {\n",
       "      if (root.Bokeh !== undefined) {\n",
       "        clearInterval(timer);\n",
       "        embed_document(root);\n",
       "      } else {\n",
       "        attempts++;\n",
       "        if (attempts > 100) {\n",
       "          clearInterval(timer);\n",
       "          console.log(\"Bokeh: ERROR: Unable to run BokehJS code because BokehJS library is missing\");\n",
       "        }\n",
       "      }\n",
       "    }, 10, root)\n",
       "  }\n",
       "})(window);"
      ],
      "application/vnd.bokehjs_exec.v0+json": ""
     },
     "metadata": {
      "application/vnd.bokehjs_exec.v0+json": {
       "id": "7879"
      }
     },
     "output_type": "display_data"
    }
   ],
   "source": [
    "speed_range = np.linspace(0, 500, 31)\n",
    "inp = 13\n",
    "out = 9\n",
    "results = rotor1.run_freq_response(speed_range, inp, out)\n",
    "show(results.plot(conf_interval=[90]))"
   ]
  },
  {
   "cell_type": "markdown",
   "metadata": {},
   "source": [
    "### Unbalance Response\n",
    "\n",
    "This method returns the unbalanced response for a mdof system given magnitide and phase of the unbalance, the node where it's applied and a frequency range.\n",
    "\n",
    "```text\n",
    "node : list, int\n",
    "    Node where the unbalance is applied.\n",
    "magnitude : list, float\n",
    "    Unbalance magnitude.\n",
    "    If node is int, input a list to make make it random.\n",
    "    If node is list, input a list of lists to make it random.\n",
    "phase : list, float\n",
    "    Unbalance phase.\n",
    "    If node is int, input a list to make make it random.\n",
    "    If node is list, input a list of lists to make it random.\n",
    "frequency_range : list, float\n",
    "    Array with the desired range of frequencies.\n",
    "```\n",
    "\n",
    "In this analysis, you can enter **magnitude** and **phase** as random variables.\n",
    "\n",
    "To run the Unbalance Response, use the command `.run_unbalance_response()`\n",
    "\n",
    "To plot the figure, use the command `.run_unbalance_response().plot(dof)`\n",
    "\n",
    "Where `dof` is the degree of freedom for which you want to plot the response, which follows the same logic applied to Frequency Response.\n",
    "\n",
    "In this following example, we can obtain the response for a random unbalance(kg.m) with a uniform distribution and its respective phase in a selected node. Notice that it's possible to add multiple unbalances instantiating node, magnitude and phase as lists.\n",
    "\n",
    "```text\n",
    "Unbalance: node = 3\n",
    "           magnitude = np.random.uniform(0.001, 0.002, 10)\n",
    "           phase = 0\n",
    "```"
   ]
  },
  {
   "cell_type": "code",
   "execution_count": 22,
   "metadata": {},
   "outputs": [
    {
     "data": {
      "text/html": [
       "\n",
       "\n",
       "\n",
       "\n",
       "\n",
       "\n",
       "  <div class=\"bk-root\" id=\"f5da0181-7049-491d-b5d6-579477865dcb\" data-root-id=\"8557\"></div>\n"
      ]
     },
     "metadata": {},
     "output_type": "display_data"
    },
    {
     "data": {
      "application/javascript": [
       "(function(root) {\n",
       "  function embed_document(root) {\n",
       "    \n",
       "  var docs_json = {\"7d02f90a-93d5-4883-9a0c-9a1ea8c8c279\":{\"roots\":{\"references\":[{\"attributes\":{\"children\":[{\"id\":\"8556\"},{\"id\":\"8554\"}]},\"id\":\"8557\",\"type\":\"Column\"},{\"attributes\":{\"line_alpha\":0.1,\"line_color\":\"#1f77b4\",\"line_width\":3,\"x\":{\"field\":\"x\"},\"y\":{\"field\":\"y\"}},\"id\":\"8412\",\"type\":\"Line\"},{\"attributes\":{\"active_drag\":\"auto\",\"active_inspect\":\"auto\",\"active_multi\":null,\"active_scroll\":\"auto\",\"active_tap\":\"auto\",\"tools\":[{\"id\":\"8398\"},{\"id\":\"8399\"},{\"id\":\"8400\"},{\"id\":\"8401\"},{\"id\":\"8402\"}]},\"id\":\"8403\",\"type\":\"Toolbar\"},{\"attributes\":{\"axis_label\":\"Amplitude (\\u03bc pk-pk)\",\"axis_label_text_font_size\":\"14pt\",\"formatter\":{\"id\":\"8416\"},\"major_label_text_font_size\":\"14pt\",\"ticker\":{\"id\":\"8395\"}},\"id\":\"8394\",\"type\":\"LinearAxis\"},{\"attributes\":{\"label\":{\"value\":\"Mean\"},\"renderers\":[{\"id\":\"8441\"}]},\"id\":\"8453\",\"type\":\"LegendItem\"},{\"attributes\":{},\"id\":\"8457\",\"type\":\"DataRange1d\"},{\"attributes\":{},\"id\":\"8391\",\"type\":\"BasicTicker\"},{\"attributes\":{\"line_alpha\":0.1,\"line_color\":\"#1f77b4\",\"line_width\":3,\"x\":{\"field\":\"x\"},\"y\":{\"field\":\"y\"}},\"id\":\"8425\",\"type\":\"Line\"},{\"attributes\":{},\"id\":\"8452\",\"type\":\"Selection\"},{\"attributes\":{},\"id\":\"8384\",\"type\":\"DataRange1d\"},{\"attributes\":{},\"id\":\"8470\",\"type\":\"BasicTicker\"},{\"attributes\":{\"label\":{\"value\":\"confidence interval: 90%\"},\"renderers\":[{\"id\":\"8413\"},{\"id\":\"8427\"}]},\"id\":\"8422\",\"type\":\"LegendItem\"},{\"attributes\":{\"data_source\":{\"id\":\"8409\"},\"glyph\":{\"id\":\"8410\"},\"hover_glyph\":null,\"muted_glyph\":{\"id\":\"8412\"},\"nonselection_glyph\":{\"id\":\"8411\"},\"selection_glyph\":null,\"view\":{\"id\":\"8414\"}},\"id\":\"8413\",\"type\":\"GlyphRenderer\"},{\"attributes\":{\"line_alpha\":0.1,\"line_color\":\"#1f77b4\",\"line_width\":3,\"x\":{\"field\":\"x\"},\"y\":{\"field\":\"y\"}},\"id\":\"8411\",\"type\":\"Line\"},{\"attributes\":{\"below\":[{\"id\":\"8465\"}],\"center\":[{\"id\":\"8468\"},{\"id\":\"8472\"},{\"id\":\"8496\"}],\"left\":[{\"id\":\"8469\"}],\"plot_height\":480,\"plot_width\":640,\"renderers\":[{\"id\":\"8488\"},{\"id\":\"8501\"},{\"id\":\"8515\"}],\"title\":{\"id\":\"8455\"},\"toolbar\":{\"id\":\"8478\"},\"toolbar_location\":null,\"x_range\":{\"id\":\"8457\"},\"x_scale\":{\"id\":\"8461\"},\"y_range\":{\"id\":\"8459\"},\"y_scale\":{\"id\":\"8463\"}},\"id\":\"8454\",\"subtype\":\"Figure\",\"type\":\"Plot\"},{\"attributes\":{\"text\":\"Unbalance Response - Phase\",\"text_font_size\":{\"value\":\"14pt\"}},\"id\":\"8455\",\"type\":\"Title\"},{\"attributes\":{\"data\":{\"x\":{\"__ndarray__\":\"AAAAAAAAAACrqqqqqqowQKuqqqqqqkBAAAAAAAAASUCrqqqqqqpQQFZVVVVV1VRAAAAAAAAAWUCrqqqqqipdQKuqqqqqqmBAAAAAAADAYkBWVVVVVdVkQKuqqqqq6mZAAAAAAAAAaUBWVVVVVRVrQKuqqqqqKm1AAQAAAABAb0CrqqqqqqpwQFZVVVVVtXFAAAAAAADAckCrqqqqqspzQFZVVVVV1XRAAAAAAADgdUCrqqqqqup2QFZVVVVV9XdAAAAAAAAAeUCrqqqqqgp6QFZVVVVVFXtAAQAAAAAgfECrqqqqqip9QFZVVVVVNX5AAAAAAABAf0A=\",\"dtype\":\"float64\",\"shape\":[31]},\"y\":{\"__ndarray__\":\"AAAAAAAAAAC4VCzPoDr5v3Y4HzLTV/m/Dg+eS4mB+b+tznifIc75vzbJs521wPq/htnAOFbm5L94NNE2uu3uPwIta7J0g/o/c8xX1VoJ+j+QxGIRFdz5P9KuxMFAx/k/I9aswCa/+T82DOIb9L/5P2Wx53CUyPk/E01Xz1vZ+T8Txs4GrPP5P5aDoMH7Gfo/LuJZahhQ+j8NJjr4mZv6P9v0AReBBPs/wP4yqNyV+z9wMlLVCV78P8adU4Okbf0/Orev7pHT/j/eV93G1UkAQDPbMJicTgFAbu4WVytyAkCuuWNGBsEDQAN8iXYBDAVAWv7cmzih9z8=\",\"dtype\":\"float64\",\"shape\":[31]}},\"selected\":{\"id\":\"8552\"},\"selection_policy\":{\"id\":\"8551\"}},\"id\":\"8511\",\"type\":\"ColumnDataSource\"},{\"attributes\":{\"axis\":{\"id\":\"8390\"},\"ticker\":null},\"id\":\"8393\",\"type\":\"Grid\"},{\"attributes\":{},\"id\":\"8461\",\"type\":\"LinearScale\"},{\"attributes\":{},\"id\":\"8476\",\"type\":\"ResetTool\"},{\"attributes\":{},\"id\":\"8477\",\"type\":\"SaveTool\"},{\"attributes\":{\"axis_label\":\"Frequency\",\"axis_label_text_font_size\":\"14pt\",\"formatter\":{\"id\":\"8493\"},\"major_label_text_font_size\":\"14pt\",\"ticker\":{\"id\":\"8466\"}},\"id\":\"8465\",\"type\":\"LinearAxis\"},{\"attributes\":{\"data\":{\"x\":{\"__ndarray__\":\"AAAAAAAAAACrqqqqqqowQKuqqqqqqkBAAAAAAAAASUCrqqqqqqpQQFZVVVVV1VRAAAAAAAAAWUCrqqqqqipdQKuqqqqqqmBAAAAAAADAYkBWVVVVVdVkQKuqqqqq6mZAAAAAAAAAaUBWVVVVVRVrQKuqqqqqKm1AAQAAAABAb0CrqqqqqqpwQFZVVVVVtXFAAAAAAADAckCrqqqqqspzQFZVVVVV1XRAAAAAAADgdUCrqqqqqup2QFZVVVVV9XdAAAAAAAAAeUCrqqqqqgp6QFZVVVVVFXtAAQAAAAAgfECrqqqqqip9QFZVVVVVNX5AAAAAAABAf0A=\",\"dtype\":\"float64\",\"shape\":[31]},\"y\":{\"__ndarray__\":\"AAAAAAAAAABm+YqoEtmTPt1p5YJuOrU+jiFyd00Pyz7VTPMlRMXdPnDUdOSIOPA+48Q+PEbVCD9mA19wA58CP2rHE/d9Gfk+K/XYh0vG8z7/tavSwQvxPn4snjoByO4+MQ+kusWD7D5K8q/tD9LqPvwJIZ5Cduk+PF1fXElO6D4h5gXQLUXnPki98RX/TOY+iNNSUsZb5T60s3Em52nkPuTcO2c9ceM+q8qI1a1s4j7iQ4jeEVjhPg6n4veLMOA+WQ/zghrr3T7astW5Db7aPg0oUHIHWdc+YDSu8ysz1D5WiNpxPcjSPrEZ5Imn1dU+IIiug0sb3z4=\",\"dtype\":\"float64\",\"shape\":[31]}},\"selected\":{\"id\":\"8452\"},\"selection_policy\":{\"id\":\"8451\"}},\"id\":\"8423\",\"type\":\"ColumnDataSource\"},{\"attributes\":{\"data\":{\"x\":{\"__ndarray__\":\"AAAAAAAAAACrqqqqqqowQKuqqqqqqkBAAAAAAAAASUCrqqqqqqpQQFZVVVVV1VRAAAAAAAAAWUCrqqqqqipdQKuqqqqqqmBAAAAAAADAYkBWVVVVVdVkQKuqqqqq6mZAAAAAAAAAaUBWVVVVVRVrQKuqqqqqKm1AAQAAAABAb0CrqqqqqqpwQFZVVVVVtXFAAAAAAADAckCrqqqqqspzQFZVVVVV1XRAAAAAAADgdUCrqqqqqup2QFZVVVVV9XdAAAAAAAAAeUCrqqqqqgp6QFZVVVVVFXtAAQAAAAAgfECrqqqqqip9QFZVVVVVNX5AAAAAAABAf0A=\",\"dtype\":\"float64\",\"shape\":[31]},\"y\":{\"__ndarray__\":\"AAAAAAAAAAAJRyRGziz5v0TolzGiOfm/bBM6XPpL+b9fxoEBuG35v67JdrrNvPm/ZpJdrBFb/D9nXDG8Xn79P+rpxU0WNfs/BEXk3KqG+j/zvZo5CkP6P3Tr610TIvo/KAnpRTcZ+j/TvfbD/R36P0vcYWKKL/o/bp8eLQRP+j8qOt9cQX/6PwPwfM/pxPo/WEDAktwm+z9kQHaLrq77P45zPNbfaPw/5v2IV8Zj/T9DIC/jJb3+Pw9Ae44gOwBAdgf3r2E9AUCG8GeVt2ECQBDxXTv3/gNAItrE2tg8BUDRXDyN4A4GQDNVr/WhygdAuiCn1HuHBkA=\",\"dtype\":\"float64\",\"shape\":[31]}},\"selected\":{\"id\":\"8510\"},\"selection_policy\":{\"id\":\"8509\"}},\"id\":\"8484\",\"type\":\"ColumnDataSource\"},{\"attributes\":{},\"id\":\"8475\",\"type\":\"WheelZoomTool\"},{\"attributes\":{},\"id\":\"8493\",\"type\":\"BasicTickFormatter\"},{\"attributes\":{\"source\":{\"id\":\"8409\"}},\"id\":\"8414\",\"type\":\"CDSView\"},{\"attributes\":{},\"id\":\"8491\",\"type\":\"BasicTickFormatter\"},{\"attributes\":{\"line_alpha\":0.1,\"line_color\":\"#1f77b4\",\"line_width\":3,\"x\":{\"field\":\"x\"},\"y\":{\"field\":\"y\"}},\"id\":\"8426\",\"type\":\"Line\"},{\"attributes\":{\"label\":{\"value\":\"confidence interval: 90%\"},\"renderers\":[{\"id\":\"8488\"},{\"id\":\"8501\"}]},\"id\":\"8497\",\"type\":\"LegendItem\"},{\"attributes\":{\"data_source\":{\"id\":\"8498\"},\"glyph\":{\"id\":\"8499\"},\"hover_glyph\":null,\"muted_glyph\":null,\"nonselection_glyph\":{\"id\":\"8500\"},\"selection_glyph\":null,\"view\":{\"id\":\"8502\"}},\"id\":\"8501\",\"type\":\"GlyphRenderer\"},{\"attributes\":{\"below\":[{\"id\":\"8390\"}],\"center\":[{\"id\":\"8393\"},{\"id\":\"8397\"},{\"id\":\"8421\"}],\"left\":[{\"id\":\"8394\"}],\"plot_height\":480,\"plot_width\":640,\"renderers\":[{\"id\":\"8413\"},{\"id\":\"8427\"},{\"id\":\"8441\"}],\"title\":{\"id\":\"8380\"},\"toolbar\":{\"id\":\"8403\"},\"toolbar_location\":null,\"x_range\":{\"id\":\"8382\"},\"x_scale\":{\"id\":\"8386\"},\"y_range\":{\"id\":\"8384\"},\"y_scale\":{\"id\":\"8388\"}},\"id\":\"8379\",\"subtype\":\"Figure\",\"type\":\"Plot\"},{\"attributes\":{},\"id\":\"8416\",\"type\":\"BasicTickFormatter\"},{\"attributes\":{\"axis\":{\"id\":\"8465\"},\"ticker\":null},\"id\":\"8468\",\"type\":\"Grid\"},{\"attributes\":{\"source\":{\"id\":\"8484\"}},\"id\":\"8489\",\"type\":\"CDSView\"},{\"attributes\":{},\"id\":\"8466\",\"type\":\"BasicTicker\"},{\"attributes\":{\"line_color\":\"#1f77b4\",\"line_width\":3,\"x\":{\"field\":\"x\"},\"y\":{\"field\":\"y\"}},\"id\":\"8485\",\"type\":\"Line\"},{\"attributes\":{\"background_fill_alpha\":0.1,\"click_policy\":\"mute\",\"items\":[{\"id\":\"8422\"},{\"id\":\"8453\"}]},\"id\":\"8421\",\"type\":\"Legend\"},{\"attributes\":{\"source\":{\"id\":\"8437\"}},\"id\":\"8442\",\"type\":\"CDSView\"},{\"attributes\":{},\"id\":\"8418\",\"type\":\"BasicTickFormatter\"},{\"attributes\":{\"data\":{\"x\":{\"__ndarray__\":\"AAAAAAAAAACrqqqqqqowQKuqqqqqqkBAAAAAAAAASUCrqqqqqqpQQFZVVVVV1VRAAAAAAAAAWUCrqqqqqipdQKuqqqqqqmBAAAAAAADAYkBWVVVVVdVkQKuqqqqq6mZAAAAAAAAAaUBWVVVVVRVrQKuqqqqqKm1AAQAAAABAb0CrqqqqqqpwQFZVVVVVtXFAAAAAAADAckCrqqqqqspzQFZVVVVV1XRAAAAAAADgdUCrqqqqqup2QFZVVVVV9XdAAAAAAAAAeUCrqqqqqgp6QFZVVVVVFXtAAQAAAAAgfECrqqqqqip9QFZVVVVVNX5AAAAAAABAf0A=\",\"dtype\":\"float64\",\"shape\":[31]},\"y\":{\"__ndarray__\":\"AAAAAAAAAAB1dJX6N0r5v/kc9jfrefm/1DbY8P+9+b8sYHl4Szn6v/JKAV6mpfu/3g37Cm76BsBg+Y1/+O70v+ZMliKQjfk/kAMXSFp1+T9OJH4IHWr5P5ETjOomZfk/MvRsqz9k+T8aO/7OqGb5P2fzXeDnaPk/Do5HvkRu+T8BvkskHHf5P6K8Xa4xhPk/p3KSSsiW+T+085vV17D5P755sm5w1fk/dpXd524J+j+RZitTzlT6P8QBmN0+xfo/eJANVolz+z89TS3zM3v8P4UHErblBf4/HwBEdwNJAEDSKGfPQfsBQARxHGZ2LQNArIJXEdvY/r8=\",\"dtype\":\"float64\",\"shape\":[31]}},\"selected\":{\"id\":\"8526\"},\"selection_policy\":{\"id\":\"8525\"}},\"id\":\"8498\",\"type\":\"ColumnDataSource\"},{\"attributes\":{\"data_source\":{\"id\":\"8423\"},\"glyph\":{\"id\":\"8424\"},\"hover_glyph\":null,\"muted_glyph\":{\"id\":\"8426\"},\"nonselection_glyph\":{\"id\":\"8425\"},\"selection_glyph\":null,\"view\":{\"id\":\"8428\"}},\"id\":\"8427\",\"type\":\"GlyphRenderer\"},{\"attributes\":{\"background_fill_alpha\":0.1,\"click_policy\":\"mute\",\"items\":[{\"id\":\"8497\"},{\"id\":\"8527\"}]},\"id\":\"8496\",\"type\":\"Legend\"},{\"attributes\":{\"bottom_units\":\"screen\",\"fill_alpha\":0.5,\"fill_color\":\"lightgrey\",\"left_units\":\"screen\",\"level\":\"overlay\",\"line_alpha\":1.0,\"line_color\":\"black\",\"line_dash\":[4,4],\"line_width\":2,\"render_mode\":\"css\",\"right_units\":\"screen\",\"top_units\":\"screen\"},\"id\":\"8420\",\"type\":\"BoxAnnotation\"},{\"attributes\":{},\"id\":\"8451\",\"type\":\"UnionRenderers\"},{\"attributes\":{},\"id\":\"8463\",\"type\":\"LinearScale\"},{\"attributes\":{\"source\":{\"id\":\"8498\"}},\"id\":\"8502\",\"type\":\"CDSView\"},{\"attributes\":{\"axis\":{\"id\":\"8469\"},\"dimension\":1,\"ticker\":null},\"id\":\"8472\",\"type\":\"Grid\"},{\"attributes\":{\"data_source\":{\"id\":\"8484\"},\"glyph\":{\"id\":\"8485\"},\"hover_glyph\":null,\"muted_glyph\":{\"id\":\"8487\"},\"nonselection_glyph\":{\"id\":\"8486\"},\"selection_glyph\":null,\"view\":{\"id\":\"8489\"}},\"id\":\"8488\",\"type\":\"GlyphRenderer\"},{\"attributes\":{},\"id\":\"8459\",\"type\":\"DataRange1d\"},{\"attributes\":{\"data_source\":{\"id\":\"8437\"},\"glyph\":{\"id\":\"8438\"},\"hover_glyph\":null,\"muted_glyph\":{\"id\":\"8440\"},\"nonselection_glyph\":{\"id\":\"8439\"},\"selection_glyph\":null,\"view\":{\"id\":\"8442\"}},\"id\":\"8441\",\"type\":\"GlyphRenderer\"},{\"attributes\":{},\"id\":\"8473\",\"type\":\"PanTool\"},{\"attributes\":{\"bottom_units\":\"screen\",\"fill_alpha\":0.5,\"fill_color\":\"lightgrey\",\"left_units\":\"screen\",\"level\":\"overlay\",\"line_alpha\":1.0,\"line_color\":\"black\",\"line_dash\":[4,4],\"line_width\":2,\"render_mode\":\"css\",\"right_units\":\"screen\",\"top_units\":\"screen\"},\"id\":\"8495\",\"type\":\"BoxAnnotation\"},{\"attributes\":{\"line_width\":3,\"x\":{\"field\":\"x\"},\"y\":{\"field\":\"y\"}},\"id\":\"8438\",\"type\":\"Line\"},{\"attributes\":{\"line_alpha\":0.1,\"line_color\":\"#1f77b4\",\"line_width\":3,\"x\":{\"field\":\"x\"},\"y\":{\"field\":\"y\"}},\"id\":\"8486\",\"type\":\"Line\"},{\"attributes\":{\"line_alpha\":0.1,\"line_color\":\"#1f77b4\",\"line_width\":3,\"x\":{\"field\":\"x\"},\"y\":{\"field\":\"y\"}},\"id\":\"8500\",\"type\":\"Line\"},{\"attributes\":{},\"id\":\"8388\",\"type\":\"LinearScale\"},{\"attributes\":{\"active_drag\":\"auto\",\"active_inspect\":\"auto\",\"active_multi\":null,\"active_scroll\":\"auto\",\"active_tap\":\"auto\",\"tools\":[{\"id\":\"8473\"},{\"id\":\"8474\"},{\"id\":\"8475\"},{\"id\":\"8476\"},{\"id\":\"8477\"}]},\"id\":\"8478\",\"type\":\"Toolbar\"},{\"attributes\":{\"overlay\":{\"id\":\"8495\"}},\"id\":\"8474\",\"type\":\"BoxZoomTool\"},{\"attributes\":{},\"id\":\"8382\",\"type\":\"DataRange1d\"},{\"attributes\":{\"source\":{\"id\":\"8511\"}},\"id\":\"8516\",\"type\":\"CDSView\"},{\"attributes\":{\"data_source\":{\"id\":\"8511\"},\"glyph\":{\"id\":\"8512\"},\"hover_glyph\":null,\"muted_glyph\":{\"id\":\"8514\"},\"nonselection_glyph\":{\"id\":\"8513\"},\"selection_glyph\":null,\"view\":{\"id\":\"8516\"}},\"id\":\"8515\",\"type\":\"GlyphRenderer\"},{\"attributes\":{\"line_alpha\":0.1,\"line_width\":3,\"x\":{\"field\":\"x\"},\"y\":{\"field\":\"y\"}},\"id\":\"8439\",\"type\":\"Line\"},{\"attributes\":{},\"id\":\"8400\",\"type\":\"WheelZoomTool\"},{\"attributes\":{},\"id\":\"8398\",\"type\":\"PanTool\"},{\"attributes\":{\"line_alpha\":0.1,\"line_width\":3,\"x\":{\"field\":\"x\"},\"y\":{\"field\":\"y\"}},\"id\":\"8513\",\"type\":\"Line\"},{\"attributes\":{},\"id\":\"8538\",\"type\":\"UnionRenderers\"},{\"attributes\":{},\"id\":\"8401\",\"type\":\"ResetTool\"},{\"attributes\":{},\"id\":\"8386\",\"type\":\"LinearScale\"},{\"attributes\":{\"line_alpha\":0.1,\"line_width\":3,\"x\":{\"field\":\"x\"},\"y\":{\"field\":\"y\"}},\"id\":\"8440\",\"type\":\"Line\"},{\"attributes\":{},\"id\":\"8539\",\"type\":\"Selection\"},{\"attributes\":{\"text\":\"Unbalance Response - Magnitude\",\"text_font_size\":{\"value\":\"14pt\"}},\"id\":\"8380\",\"type\":\"Title\"},{\"attributes\":{},\"id\":\"8551\",\"type\":\"UnionRenderers\"},{\"attributes\":{\"line_width\":3,\"x\":{\"field\":\"x\"},\"y\":{\"field\":\"y\"}},\"id\":\"8512\",\"type\":\"Line\"},{\"attributes\":{\"line_alpha\":0.1,\"line_width\":3,\"x\":{\"field\":\"x\"},\"y\":{\"field\":\"y\"}},\"id\":\"8514\",\"type\":\"Line\"},{\"attributes\":{\"line_color\":\"#1f77b4\",\"line_width\":3,\"x\":{\"field\":\"x\"},\"y\":{\"field\":\"y\"}},\"id\":\"8410\",\"type\":\"Line\"},{\"attributes\":{\"axis_label\":\"Phase angle\",\"axis_label_text_font_size\":\"14pt\",\"formatter\":{\"id\":\"8491\"},\"major_label_text_font_size\":\"14pt\",\"ticker\":{\"id\":\"8470\"}},\"id\":\"8469\",\"type\":\"LinearAxis\"},{\"attributes\":{},\"id\":\"8510\",\"type\":\"Selection\"},{\"attributes\":{\"line_alpha\":0.1,\"line_color\":\"#1f77b4\",\"line_width\":3,\"x\":{\"field\":\"x\"},\"y\":{\"field\":\"y\"}},\"id\":\"8487\",\"type\":\"Line\"},{\"attributes\":{},\"id\":\"8509\",\"type\":\"UnionRenderers\"},{\"attributes\":{\"label\":{\"value\":\"Mean\"},\"renderers\":[{\"id\":\"8515\"}]},\"id\":\"8527\",\"type\":\"LegendItem\"},{\"attributes\":{\"line_color\":\"#1f77b4\",\"line_width\":3,\"x\":{\"field\":\"x\"},\"y\":{\"field\":\"y\"}},\"id\":\"8499\",\"type\":\"Line\"},{\"attributes\":{\"children\":[[{\"id\":\"8379\"},0,0],[{\"id\":\"8454\"},1,0]]},\"id\":\"8554\",\"type\":\"GridBox\"},{\"attributes\":{},\"id\":\"8395\",\"type\":\"BasicTicker\"},{\"attributes\":{\"axis\":{\"id\":\"8394\"},\"dimension\":1,\"ticker\":null},\"id\":\"8397\",\"type\":\"Grid\"},{\"attributes\":{\"data\":{\"x\":{\"__ndarray__\":\"AAAAAAAAAACrqqqqqqowQKuqqqqqqkBAAAAAAAAASUCrqqqqqqpQQFZVVVVV1VRAAAAAAAAAWUCrqqqqqipdQKuqqqqqqmBAAAAAAADAYkBWVVVVVdVkQKuqqqqq6mZAAAAAAAAAaUBWVVVVVRVrQKuqqqqqKm1AAQAAAABAb0CrqqqqqqpwQFZVVVVVtXFAAAAAAADAckCrqqqqqspzQFZVVVVV1XRAAAAAAADgdUCrqqqqqup2QFZVVVVV9XdAAAAAAAAAeUCrqqqqqgp6QFZVVVVVFXtAAQAAAAAgfECrqqqqqip9QFZVVVVVNX5AAAAAAABAf0A=\",\"dtype\":\"float64\",\"shape\":[31]},\"y\":{\"__ndarray__\":\"AAAAAAAAAADehSK0PfGlPuExXOzVWsg+dX2+yD7L4D5m9A+2ie/1Plx43/SzdhY/WPoDIGjvMj+iaYAw2FkqPyXaqo/C7RE/7+BZ+wgoBD+hCdlJJtj+Pp8y5IufUfs+0FTVb5U2+T7MPo+6nKH3PsuT30P4VPY+hDx8NS0z9T6rcZ7pfSr0Pnos5vsEMPM+iAs+3Kw98j41YxZ9zVHxPto5ZQgYcPA+YQi9bI9H7z5pYmIonQXuPq7QDGfoYO0+9Zs5yVC37T5sUi1UJ2nvPh11G1ZTWPE+2VAy0UK68z7Ku5VUOp/2PrZ3T5dRsPk+fWow3sW+/T4=\",\"dtype\":\"float64\",\"shape\":[31]}},\"selected\":{\"id\":\"8436\"},\"selection_policy\":{\"id\":\"8435\"}},\"id\":\"8409\",\"type\":\"ColumnDataSource\"},{\"attributes\":{\"source\":{\"id\":\"8423\"}},\"id\":\"8428\",\"type\":\"CDSView\"},{\"attributes\":{},\"id\":\"8402\",\"type\":\"SaveTool\"},{\"attributes\":{},\"id\":\"8436\",\"type\":\"Selection\"},{\"attributes\":{\"toolbars\":[{\"id\":\"8403\"},{\"id\":\"8478\"}],\"tools\":[{\"id\":\"8398\"},{\"id\":\"8399\"},{\"id\":\"8400\"},{\"id\":\"8401\"},{\"id\":\"8402\"},{\"id\":\"8473\"},{\"id\":\"8474\"},{\"id\":\"8475\"},{\"id\":\"8476\"},{\"id\":\"8477\"}]},\"id\":\"8555\",\"type\":\"ProxyToolbar\"},{\"attributes\":{\"line_color\":\"#1f77b4\",\"line_width\":3,\"x\":{\"field\":\"x\"},\"y\":{\"field\":\"y\"}},\"id\":\"8424\",\"type\":\"Line\"},{\"attributes\":{\"axis_label\":\"Frequency\",\"axis_label_text_font_size\":\"14pt\",\"formatter\":{\"id\":\"8418\"},\"major_label_text_font_size\":\"14pt\",\"ticker\":{\"id\":\"8391\"}},\"id\":\"8390\",\"type\":\"LinearAxis\"},{\"attributes\":{},\"id\":\"8552\",\"type\":\"Selection\"},{\"attributes\":{},\"id\":\"8435\",\"type\":\"UnionRenderers\"},{\"attributes\":{},\"id\":\"8526\",\"type\":\"Selection\"},{\"attributes\":{},\"id\":\"8525\",\"type\":\"UnionRenderers\"},{\"attributes\":{\"data\":{\"x\":{\"__ndarray__\":\"AAAAAAAAAACrqqqqqqowQKuqqqqqqkBAAAAAAAAASUCrqqqqqqpQQFZVVVVV1VRAAAAAAAAAWUCrqqqqqipdQKuqqqqqqmBAAAAAAADAYkBWVVVVVdVkQKuqqqqq6mZAAAAAAAAAaUBWVVVVVRVrQKuqqqqqKm1AAQAAAABAb0CrqqqqqqpwQFZVVVVVtXFAAAAAAADAckCrqqqqqspzQFZVVVVV1XRAAAAAAADgdUCrqqqqqup2QFZVVVVV9XdAAAAAAAAAeUCrqqqqqgp6QFZVVVVVFXtAAQAAAAAgfECrqqqqqip9QFZVVVVVNX5AAAAAAABAf0A=\",\"dtype\":\"float64\",\"shape\":[31]},\"y\":{\"__ndarray__\":\"AAAAAAAAAADNcJYteJGdPqx8eBPXK8A+ceIPkj+d1T44kBzXlVbqPj+QEp+sfAU/pT6ywswgIz9qYfbi/h8YP9w2yT1gKgY/pjumO7rZ/j52mIIChKH5PjmuMnVyuPY+rUj79GfO9D45eTGp92fzPmPolIIBTPI+KaLdfA9c8T6OyS3nNYbwPnVWmgJXfu8+Wx3PgTn/7T7ytYBrDYbsPiYiiff+Dus+gGh1voac6T7YY5pDEDroPqFul6MAAOc+jKpnoQYY5j4m5CxbK77lPgWIdU6QNeY+iuImU6yv5z7VL5qbN07qPsa8/tmzOO4+7gQxsWSu8T4=\",\"dtype\":\"float64\",\"shape\":[31]}},\"selected\":{\"id\":\"8539\"},\"selection_policy\":{\"id\":\"8538\"}},\"id\":\"8437\",\"type\":\"ColumnDataSource\"},{\"attributes\":{\"overlay\":{\"id\":\"8420\"}},\"id\":\"8399\",\"type\":\"BoxZoomTool\"},{\"attributes\":{\"toolbar\":{\"id\":\"8555\"},\"toolbar_location\":\"above\"},\"id\":\"8556\",\"type\":\"ToolbarBox\"}],\"root_ids\":[\"8557\"]},\"title\":\"Bokeh Application\",\"version\":\"2.0.0\"}};\n",
       "  var render_items = [{\"docid\":\"7d02f90a-93d5-4883-9a0c-9a1ea8c8c279\",\"root_ids\":[\"8557\"],\"roots\":{\"8557\":\"f5da0181-7049-491d-b5d6-579477865dcb\"}}];\n",
       "  root.Bokeh.embed.embed_items_notebook(docs_json, render_items);\n",
       "\n",
       "  }\n",
       "  if (root.Bokeh !== undefined) {\n",
       "    embed_document(root);\n",
       "  } else {\n",
       "    var attempts = 0;\n",
       "    var timer = setInterval(function(root) {\n",
       "      if (root.Bokeh !== undefined) {\n",
       "        clearInterval(timer);\n",
       "        embed_document(root);\n",
       "      } else {\n",
       "        attempts++;\n",
       "        if (attempts > 100) {\n",
       "          clearInterval(timer);\n",
       "          console.log(\"Bokeh: ERROR: Unable to run BokehJS code because BokehJS library is missing\");\n",
       "        }\n",
       "      }\n",
       "    }, 10, root)\n",
       "  }\n",
       "})(window);"
      ],
      "application/vnd.bokehjs_exec.v0+json": ""
     },
     "metadata": {
      "application/vnd.bokehjs_exec.v0+json": {
       "id": "8557"
      }
     },
     "output_type": "display_data"
    }
   ],
   "source": [
    "freq_range = np.linspace(0, 500, 31)\n",
    "n = 3\n",
    "m = np.random.uniform(0.001, 0.002, 10)\n",
    "p = 0.0\n",
    "dof = 13\n",
    "results = rotor1.run_unbalance_response(n, m, p, freq_range)\n",
    "show(results.plot(dof, conf_interval=[90]))"
   ]
  },
  {
   "cell_type": "markdown",
   "metadata": {},
   "source": [
    "### Time Response\n",
    "\n",
    "This function will take a rotor object and plot its time response given a force and a time.\n",
    "The **force** and **ic** parameters can be passed as random.\n",
    "\n",
    "This function takes the following parameters:\n",
    "```text\n",
    "speed: float\n",
    "    Rotor speed\n",
    "force : 2-dimensional array, 3-dimensional array\n",
    "    Force array (needs to have the same number of rows as time array).\n",
    "    Each column corresponds to a dof and each row to a time step.\n",
    "    Inputing a 3-dimensional array, the method considers the force as\n",
    "    a random variable. The 3rd dimension must have the same size than\n",
    "    ST_Rotor.rotor_list\n",
    "time_range : 1-dimensional array\n",
    "    Time array.\n",
    "dof : int\n",
    "    Degree of freedom that will be observed.\n",
    "ic : 1-dimensional array, 2-dimensional array, optional\n",
    "    The initial conditions on the state vector (zero by default).\n",
    "    Inputing a 2-dimensional array, the method considers the \n",
    "    initial condition as a random variable.\n",
    "```\n",
    "\n",
    "To run the Time Response, use the command `.run_time_response()`\n",
    "\n",
    "To plot the figure, use the command `.run_time_response().plot()`\n",
    "\n",
    "In the following example, let's apply harmonic forces to the node 3 in both directions $x$ and $y$. Also lets analyze the first 10 seconds from the response for a speed of 100.0 rad/s (~955.0 RPM)."
   ]
  },
  {
   "cell_type": "code",
   "execution_count": 24,
   "metadata": {},
   "outputs": [
    {
     "data": {
      "text/html": [
       "\n",
       "\n",
       "\n",
       "\n",
       "\n",
       "\n",
       "  <div class=\"bk-root\" id=\"9f5ca8a0-fdaa-4632-bb4e-17f22d76cffc\" data-root-id=\"9081\"></div>\n"
      ]
     },
     "metadata": {},
     "output_type": "display_data"
    },
    {
     "data": {
      "application/javascript": [
       "(function(root) {\n",
       "  function embed_document(root) {\n",
       "    \n",
       "  var docs_json = {\"435ded7e-aaec-461f-8993-7f81ce269782\":{\"roots\":{\"references\":[{\"attributes\":{\"below\":[{\"id\":\"9092\"}],\"center\":[{\"id\":\"9095\"},{\"id\":\"9099\"},{\"id\":\"9123\"}],\"left\":[{\"id\":\"9096\"}],\"plot_height\":900,\"plot_width\":900,\"renderers\":[{\"id\":\"9115\"},{\"id\":\"9128\"},{\"id\":\"9142\"}],\"title\":{\"id\":\"9082\"},\"toolbar\":{\"id\":\"9105\"},\"x_range\":{\"id\":\"9084\"},\"x_scale\":{\"id\":\"9088\"},\"y_range\":{\"id\":\"9086\"},\"y_scale\":{\"id\":\"9090\"}},\"id\":\"9081\",\"subtype\":\"Figure\",\"type\":\"Plot\"},{\"attributes\":{\"axis\":{\"id\":\"9096\"},\"dimension\":1,\"ticker\":null},\"id\":\"9099\",\"type\":\"Grid\"},{\"attributes\":{\"bottom_units\":\"screen\",\"fill_alpha\":0.5,\"fill_color\":\"lightgrey\",\"left_units\":\"screen\",\"level\":\"overlay\",\"line_alpha\":1.0,\"line_color\":\"black\",\"line_dash\":[4,4],\"line_width\":2,\"render_mode\":\"css\",\"right_units\":\"screen\",\"top_units\":\"screen\"},\"id\":\"9122\",\"type\":\"BoxAnnotation\"},{\"attributes\":{\"label\":{\"value\":\"confidence interval: 90%\"},\"renderers\":[{\"id\":\"9115\"},{\"id\":\"9128\"}]},\"id\":\"9124\",\"type\":\"LegendItem\"},{\"attributes\":{\"data_source\":{\"id\":\"9111\"},\"glyph\":{\"id\":\"9112\"},\"hover_glyph\":null,\"muted_glyph\":{\"id\":\"9114\"},\"nonselection_glyph\":{\"id\":\"9113\"},\"selection_glyph\":null,\"view\":{\"id\":\"9116\"}},\"id\":\"9115\",\"type\":\"GlyphRenderer\"},{\"attributes\":{},\"id\":\"9152\",\"type\":\"UnionRenderers\"},{\"attributes\":{},\"id\":\"9102\",\"type\":\"WheelZoomTool\"},{\"attributes\":{},\"id\":\"9093\",\"type\":\"BasicTicker\"},{\"attributes\":{},\"id\":\"9120\",\"type\":\"BasicTickFormatter\"},{\"attributes\":{\"line_alpha\":0.1,\"line_width\":3,\"x\":{\"field\":\"x\"},\"y\":{\"field\":\"y\"}},\"id\":\"9140\",\"type\":\"Line\"},{\"attributes\":{},\"id\":\"9153\",\"type\":\"Selection\"},{\"attributes\":{\"active_drag\":\"auto\",\"active_inspect\":\"auto\",\"active_multi\":null,\"active_scroll\":\"auto\",\"active_tap\":\"auto\",\"tools\":[{\"id\":\"9100\"},{\"id\":\"9101\"},{\"id\":\"9102\"},{\"id\":\"9103\"},{\"id\":\"9104\"}]},\"id\":\"9105\",\"type\":\"Toolbar\"},{\"attributes\":{},\"id\":\"9544\",\"type\":\"UnionRenderers\"},{\"attributes\":{},\"id\":\"9103\",\"type\":\"ResetTool\"},{\"attributes\":{\"line_alpha\":0.1,\"line_width\":3,\"x\":{\"field\":\"x\"},\"y\":{\"field\":\"y\"}},\"id\":\"9141\",\"type\":\"Line\"},{\"attributes\":{},\"id\":\"9136\",\"type\":\"UnionRenderers\"},{\"attributes\":{\"text\":\"Response for node 2 and degree of freedom y\",\"text_font_size\":{\"value\":\"14pt\"}},\"id\":\"9082\",\"type\":\"Title\"},{\"attributes\":{\"data\":{\"x\":{\"__ndarray__\":\"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\",\"dtype\":\"float64\",\"shape\":[1000]},\"y\":{\"__ndarray__\":\"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\",\"dtype\":\"float64\",\"shape\":[1000]}},\"selected\":{\"id\":\"9545\"},\"selection_policy\":{\"id\":\"9544\"}},\"id\":\"9138\",\"type\":\"ColumnDataSource\"},{\"attributes\":{\"data\":{\"x\":{\"__ndarray__\":\"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\",\"dtype\":\"float64\",\"shape\":[1000]},\"y\":{\"__ndarray__\":\"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\",\"dtype\":\"float64\",\"shape\":[1000]}},\"selected\":{\"id\":\"9137\"},\"selection_policy\":{\"id\":\"9136\"}},\"id\":\"9111\",\"type\":\"ColumnDataSource\"},{\"attributes\":{\"axis\":{\"id\":\"9092\"},\"ticker\":null},\"id\":\"9095\",\"type\":\"Grid\"},{\"attributes\":{\"background_fill_alpha\":0.1,\"click_policy\":\"mute\",\"items\":[{\"id\":\"9124\"},{\"id\":\"9154\"}]},\"id\":\"9123\",\"type\":\"Legend\"},{\"attributes\":{\"data_source\":{\"id\":\"9125\"},\"glyph\":{\"id\":\"9126\"},\"hover_glyph\":null,\"muted_glyph\":null,\"nonselection_glyph\":{\"id\":\"9127\"},\"selection_glyph\":null,\"view\":{\"id\":\"9129\"}},\"id\":\"9128\",\"type\":\"GlyphRenderer\"},{\"attributes\":{\"overlay\":{\"id\":\"9122\"}},\"id\":\"9101\",\"type\":\"BoxZoomTool\"},{\"attributes\":{\"line_alpha\":0.1,\"line_color\":\"#1f77b4\",\"line_width\":3,\"x\":{\"field\":\"x\"},\"y\":{\"field\":\"y\"}},\"id\":\"9113\",\"type\":\"Line\"},{\"attributes\":{\"data_source\":{\"id\":\"9138\"},\"glyph\":{\"id\":\"9139\"},\"hover_glyph\":null,\"muted_glyph\":{\"id\":\"9141\"},\"nonselection_glyph\":{\"id\":\"9140\"},\"selection_glyph\":null,\"view\":{\"id\":\"9143\"}},\"id\":\"9142\",\"type\":\"GlyphRenderer\"},{\"attributes\":{},\"id\":\"9086\",\"type\":\"DataRange1d\"},{\"attributes\":{\"label\":{\"value\":\"Mean\"},\"renderers\":[{\"id\":\"9142\"}]},\"id\":\"9154\",\"type\":\"LegendItem\"},{\"attributes\":{},\"id\":\"9100\",\"type\":\"PanTool\"},{\"attributes\":{},\"id\":\"9097\",\"type\":\"BasicTicker\"},{\"attributes\":{\"line_alpha\":0.1,\"line_color\":\"#1f77b4\",\"line_width\":3,\"x\":{\"field\":\"x\"},\"y\":{\"field\":\"y\"}},\"id\":\"9114\",\"type\":\"Line\"},{\"attributes\":{\"axis_label\":\"Time (s)\",\"axis_label_text_font_size\":\"14pt\",\"formatter\":{\"id\":\"9120\"},\"major_label_text_font_size\":\"14pt\",\"ticker\":{\"id\":\"9093\"}},\"id\":\"9092\",\"type\":\"LinearAxis\"},{\"attributes\":{},\"id\":\"9084\",\"type\":\"DataRange1d\"},{\"attributes\":{},\"id\":\"9104\",\"type\":\"SaveTool\"},{\"attributes\":{\"source\":{\"id\":\"9138\"}},\"id\":\"9143\",\"type\":\"CDSView\"},{\"attributes\":{},\"id\":\"9090\",\"type\":\"LinearScale\"},{\"attributes\":{\"axis_label\":\"Amplitude\",\"axis_label_text_font_size\":\"14pt\",\"formatter\":{\"id\":\"9118\"},\"major_label_text_font_size\":\"14pt\",\"ticker\":{\"id\":\"9097\"}},\"id\":\"9096\",\"type\":\"LinearAxis\"},{\"attributes\":{\"line_width\":3,\"x\":{\"field\":\"x\"},\"y\":{\"field\":\"y\"}},\"id\":\"9139\",\"type\":\"Line\"},{\"attributes\":{},\"id\":\"9118\",\"type\":\"BasicTickFormatter\"},{\"attributes\":{\"line_alpha\":0.1,\"line_color\":\"#1f77b4\",\"line_width\":3,\"x\":{\"field\":\"x\"},\"y\":{\"field\":\"y\"}},\"id\":\"9127\",\"type\":\"Line\"},{\"attributes\":{\"source\":{\"id\":\"9111\"}},\"id\":\"9116\",\"type\":\"CDSView\"},{\"attributes\":{\"line_color\":\"#1f77b4\",\"line_width\":3,\"x\":{\"field\":\"x\"},\"y\":{\"field\":\"y\"}},\"id\":\"9126\",\"type\":\"Line\"},{\"attributes\":{},\"id\":\"9088\",\"type\":\"LinearScale\"},{\"attributes\":{\"source\":{\"id\":\"9125\"}},\"id\":\"9129\",\"type\":\"CDSView\"},{\"attributes\":{\"data\":{\"x\":{\"__ndarray__\":\"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\",\"dtype\":\"float64\",\"shape\":[1000]},\"y\":{\"__ndarray__\":\"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\",\"dtype\":\"float64\",\"shape\":[1000]}},\"selected\":{\"id\":\"9153\"},\"selection_policy\":{\"id\":\"9152\"}},\"id\":\"9125\",\"type\":\"ColumnDataSource\"},{\"attributes\":{},\"id\":\"9545\",\"type\":\"Selection\"},{\"attributes\":{},\"id\":\"9137\",\"type\":\"Selection\"},{\"attributes\":{\"line_color\":\"#1f77b4\",\"line_width\":3,\"x\":{\"field\":\"x\"},\"y\":{\"field\":\"y\"}},\"id\":\"9112\",\"type\":\"Line\"}],\"root_ids\":[\"9081\"]},\"title\":\"Bokeh Application\",\"version\":\"2.0.0\"}};\n",
       "  var render_items = [{\"docid\":\"435ded7e-aaec-461f-8993-7f81ce269782\",\"root_ids\":[\"9081\"],\"roots\":{\"9081\":\"9f5ca8a0-fdaa-4632-bb4e-17f22d76cffc\"}}];\n",
       "  root.Bokeh.embed.embed_items_notebook(docs_json, render_items);\n",
       "\n",
       "  }\n",
       "  if (root.Bokeh !== undefined) {\n",
       "    embed_document(root);\n",
       "  } else {\n",
       "    var attempts = 0;\n",
       "    var timer = setInterval(function(root) {\n",
       "      if (root.Bokeh !== undefined) {\n",
       "        clearInterval(timer);\n",
       "        embed_document(root);\n",
       "      } else {\n",
       "        attempts++;\n",
       "        if (attempts > 100) {\n",
       "          clearInterval(timer);\n",
       "          console.log(\"Bokeh: ERROR: Unable to run BokehJS code because BokehJS library is missing\");\n",
       "        }\n",
       "      }\n",
       "    }, 10, root)\n",
       "  }\n",
       "})(window);"
      ],
      "application/vnd.bokehjs_exec.v0+json": ""
     },
     "metadata": {
      "application/vnd.bokehjs_exec.v0+json": {
       "id": "9081"
      }
     },
     "output_type": "display_data"
    }
   ],
   "source": [
    "size = 1000\n",
    "ndof = rotor1.ndof\n",
    "node = 3 # node where the force is applied\n",
    "dof = 9\n",
    "speed = 250.0\n",
    "\n",
    "t = np.linspace(0, 10, size)\n",
    "F = np.zeros((size, ndof))\n",
    "F[:, 4 * node] = 10 * np.cos(2 * t)\n",
    "F[:, 4 * node + 1] = 10 * np.sin(2 * t)\n",
    "results = rotor1.run_time_response(speed, F, t, dof)\n",
    "\n",
    "show(results.plot(conf_interval=[90]))"
   ]
  }
 ],
 "metadata": {
  "kernelspec": {
   "display_name": "Python 3",
   "language": "python",
   "name": "python3"
  },
  "language_info": {
   "codemirror_mode": {
    "name": "ipython",
    "version": 3
   },
   "file_extension": ".py",
   "mimetype": "text/x-python",
   "name": "python",
   "nbconvert_exporter": "python",
   "pygments_lexer": "ipython3",
   "version": "3.7.6"
  }
 },
 "nbformat": 4,
 "nbformat_minor": 2
}
