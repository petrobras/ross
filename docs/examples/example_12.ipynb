{
 "metadata": {
  "language_info": {
   "codemirror_mode": {
    "name": "ipython",
    "version": 3
   },
   "file_extension": ".py",
   "mimetype": "text/x-python",
   "name": "python",
   "nbconvert_exporter": "python",
   "pygments_lexer": "ipython3",
   "version": 3
  },
  "orig_nbformat": 2
 },
 "nbformat": 4,
 "nbformat_minor": 2,
 "cells": [
  {
   "source": [
    "Example 10 - Example of impact phenomena in rotor-casing dynamical systems.\n",
    "=====\n",
    "In this example, we use the rotor seen in Example 10 for demonstrating the results obtained when we have vibrations due to contact between a rotor and a casing or stator for example."
   ],
   "cell_type": "markdown",
   "metadata": {}
  },
  {
   "cell_type": "code",
   "execution_count": null,
   "metadata": {},
   "outputs": [],
   "source": [
    "import sys\n",
    "sys.path.append(os.path.dirname(os.path.dirname(os.getcwd())))"
   ]
  },
  {
   "cell_type": "code",
   "execution_count": null,
   "metadata": {},
   "outputs": [],
   "source": [
    "import numpy as np\n",
    "import scipy\n",
    "import toml\n",
    "\n",
    "import ross as rs\n",
    "from ross.defects import *\n",
    "from ross.defects.rubbing import rubbing_example"
   ]
  },
  {
   "cell_type": "code",
   "execution_count": null,
   "metadata": {},
   "outputs": [],
   "source": [
    "\"\"\"Create example rotor with given number of elements.\"\"\"\n",
    "steel2 = rs.Material(name=\"Steel\", rho=7850, E=2.17e11, Poisson=0.2992610837438423)\n",
    "#  Rotor with 6 DoFs, with internal damping, with 10 shaft elements, 2 disks and 2 bearings.\n",
    "i_d = 0\n",
    "o_d = 0.019\n",
    "n = 33\n",
    "\n",
    "# fmt: off\n",
    "L = np.array(\n",
    "        [0  ,  25,  64, 104, 124, 143, 175, 207, 239, 271,\n",
    "         303, 335, 345, 355, 380, 408, 436, 466, 496, 526,\n",
    "         556, 586, 614, 647, 657, 667, 702, 737, 772, 807,\n",
    "         842, 862, 881, 914]\n",
    "         )/ 1000\n",
    "# fmt: on\n",
    "\n",
    "L = [L[i] - L[i - 1] for i in range(1, len(L))]\n",
    "\n",
    "shaft_elem = [\n",
    "    rs.ShaftElement6DoF(\n",
    "        material=steel2,\n",
    "        L=l,\n",
    "        idl=i_d,\n",
    "        odl=o_d,\n",
    "        idr=i_d,\n",
    "        odr=o_d,\n",
    "        alpha=8.0501,\n",
    "        beta=1.0e-5,\n",
    "        rotary_inertia=True,\n",
    "        shear_effects=True,\n",
    "    )\n",
    "    for l in L\n",
    "]\n",
    "\n",
    "Id = 0.003844540885417\n",
    "Ip = 0.007513248437500\n",
    "\n",
    "disk0 = rs.DiskElement6DoF(n=12, m=2.6375, Id=Id, Ip=Ip)\n",
    "disk1 = rs.DiskElement6DoF(n=24, m=2.6375, Id=Id, Ip=Ip)\n",
    "\n",
    "kxx1 = 4.40e5\n",
    "kyy1 = 4.6114e5\n",
    "kzz = 0\n",
    "cxx1 = 27.4\n",
    "cyy1 = 2.505\n",
    "czz = 0\n",
    "kxx2 = 9.50e5\n",
    "kyy2 = 1.09e8\n",
    "cxx2 = 50.4\n",
    "cyy2 = 100.4553\n",
    "\n",
    "bearing0 = rs.BearingElement6DoF(\n",
    "    n=4, kxx=kxx1, kyy=kyy1, cxx=cxx1, cyy=cyy1, kzz=kzz, czz=czz\n",
    ")\n",
    "bearing1 = rs.BearingElement6DoF(\n",
    "    n=31, kxx=kxx2, kyy=kyy2, cxx=cxx2, cyy=cyy2, kzz=kzz, czz=czz\n",
    ")\n",
    "\n",
    "rotor = rs.Rotor(shaft_elem, [disk0, disk1], [bearing0, bearing1])"
   ]
  },
  {
   "cell_type": "code",
   "execution_count": null,
   "metadata": {},
   "outputs": [],
   "source": [
    "\"\"\"Inserting a mass and phase unbalance and defining the local response.\"\"\"\n",
    "massunbt = np.array([5e-4, 0])\n",
    "phaseunbt = np.array([-np.pi / 2, 0])\n",
    "probe1 = (14, 0)\n",
    "probe2 = (22, 0)"
   ]
  },
  {
   "cell_type": "code",
   "execution_count": null,
   "metadata": {},
   "outputs": [],
   "source": [
    "\"\"\"Calculate the response when a rotor makes contact with a casing or stator.\"\"\"\n",
    "rubbing = rotor.run_rubbing(\n",
    "    dt=0.0001,\n",
    "    tI=0,\n",
    "    tF=30,\n",
    "    deltaRUB=7.95e-5,\n",
    "    kRUB=1.1e6,\n",
    "    cRUB=40,\n",
    "    miRUB=0.3,\n",
    "    posRUB=12,\n",
    "    speed=1200,\n",
    "    massunb=massunbt,\n",
    "    phaseunb=phaseunbt,\n",
    "    print_progress=False,\n",
    ")"
   ]
  },
  {
   "cell_type": "code",
   "execution_count": null,
   "metadata": {},
   "outputs": [],
   "source": [
    "\"\"\"Plots the time response for the two given probes.\"\"\"\n",
    "results = rubbing.run_time_response()\n",
    "results.plot_1d([probe1, probe2]).show()"
   ]
  },
  {
   "cell_type": "code",
   "execution_count": null,
   "metadata": {},
   "outputs": [],
   "source": [
    "\"\"\"Plots the frequency response for the two given probes.\"\"\"\n",
    "rubbing.plot_dfft([probe1, probe2], range_freq=[0, 100], yaxis_type=\"log\").show()"
   ]
  }
 ]
}