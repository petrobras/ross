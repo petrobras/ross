{
 "cells": [
  {
   "cell_type": "markdown",
   "id": "qualified-tokyo",
   "metadata": {},
   "source": [
    "# Overview"
   ]
  },
  {
   "cell_type": "code",
   "execution_count": 1,
   "id": "standard-hybrid",
   "metadata": {
    "execution": {
     "iopub.execute_input": "2023-05-04T01:05:20.638399Z",
     "iopub.status.busy": "2023-05-04T01:05:20.637839Z",
     "iopub.status.idle": "2023-05-04T01:05:21.614709Z",
     "shell.execute_reply": "2023-05-04T01:05:21.614199Z"
    }
   },
   "outputs": [],
   "source": [
    "import ross as rs\n",
    "import numpy as np\n",
    "# import plotly just to guarantee that plots will appear in the docs\n",
    "import plotly.graph_objects as go"
   ]
  },
  {
   "cell_type": "markdown",
   "id": "cosmetic-diesel",
   "metadata": {},
   "source": [
    "With ROSS you can assembly a model by defining some elements and then creating a rotor.\n",
    "We start with the shaft elements:"
   ]
  },
  {
   "cell_type": "code",
   "execution_count": 2,
   "id": "vietnamese-harvest",
   "metadata": {
    "execution": {
     "iopub.execute_input": "2023-05-04T01:05:21.617016Z",
     "iopub.status.busy": "2023-05-04T01:05:21.616850Z",
     "iopub.status.idle": "2023-05-04T01:05:21.621286Z",
     "shell.execute_reply": "2023-05-04T01:05:21.620713Z"
    }
   },
   "outputs": [],
   "source": [
    "steel = rs.Material(name=\"Steel\", rho=7810, E=211e9, G_s=81.2e9)\n",
    "# Creating a list of shaft elements\n",
    "L = 0.25\n",
    "i_d = 0\n",
    "o_d = 0.05\n",
    "N_elem = 6\n",
    "\n",
    "shaft_elements = [\n",
    "    rs.ShaftElement(\n",
    "        L=L,\n",
    "        idl=i_d,\n",
    "        odl=o_d,\n",
    "        material=steel,\n",
    "        shear_effects=True,\n",
    "        rotary_inertia=True,\n",
    "        gyroscopic=True,\n",
    "    )\n",
    "    for _ in range(N_elem)\n",
    "]"
   ]
  },
  {
   "cell_type": "markdown",
   "id": "gross-canadian",
   "metadata": {},
   "source": [
    "The disks elements can be defined as:"
   ]
  },
  {
   "cell_type": "code",
   "execution_count": 3,
   "id": "caroline-robinson",
   "metadata": {
    "execution": {
     "iopub.execute_input": "2023-05-04T01:05:21.623200Z",
     "iopub.status.busy": "2023-05-04T01:05:21.622925Z",
     "iopub.status.idle": "2023-05-04T01:05:21.626389Z",
     "shell.execute_reply": "2023-05-04T01:05:21.625879Z"
    }
   },
   "outputs": [],
   "source": [
    "disk = rs.DiskElement(\n",
    "    n=2,\n",
    "    m=32.58,\n",
    "    Ip=0.178,\n",
    "    Id=0.329,\n",
    "    tag=\"Disk\"\n",
    ")"
   ]
  },
  {
   "cell_type": "markdown",
   "id": "coastal-tobago",
   "metadata": {},
   "source": [
    "Now we define the bearing elements:"
   ]
  },
  {
   "cell_type": "code",
   "execution_count": 4,
   "id": "broadband-gross",
   "metadata": {
    "execution": {
     "iopub.execute_input": "2023-05-04T01:05:21.628260Z",
     "iopub.status.busy": "2023-05-04T01:05:21.628031Z",
     "iopub.status.idle": "2023-05-04T01:05:21.636624Z",
     "shell.execute_reply": "2023-05-04T01:05:21.636096Z"
    }
   },
   "outputs": [],
   "source": [
    "bearing0 = rs.BearingElement(\n",
    "    n=0, \n",
    "    kxx=[0.5e6, 1.0e6, 2.5e6],\n",
    "    kyy=[1.5e6, 2.0e6, 3.5e6],\n",
    "    cxx=[0.5e3, 1.0e3, 1.5e3],\n",
    "    frequency=[0, 1000, 2000],\n",
    ")\n",
    "bearing1 = rs.BearingElement(\n",
    "    n=5, \n",
    "    kxx=[0.5e6, 1.0e6, 2.5e6],\n",
    "    kyy=[1.5e6, 2.0e6, 3.5e6],\n",
    "    cxx=[0.5e3, 1.0e3, 1.5e3],\n",
    "    frequency=[0, 1000, 2000],\n",
    ")\n",
    "bearings = [bearing0, bearing1]"
   ]
  },
  {
   "cell_type": "markdown",
   "id": "worldwide-acting",
   "metadata": {},
   "source": [
    "Finally, we assemble these elements in a rotor:"
   ]
  },
  {
   "cell_type": "code",
   "execution_count": 5,
   "id": "returning-sherman",
   "metadata": {
    "execution": {
     "iopub.execute_input": "2023-05-04T01:05:21.638670Z",
     "iopub.status.busy": "2023-05-04T01:05:21.638300Z",
     "iopub.status.idle": "2023-05-04T01:05:21.809357Z",
     "shell.execute_reply": "2023-05-04T01:05:21.808886Z"
    }
   },
   "outputs": [
    {
     "data": {
      "application/vnd.plotly.v1+json": {
       "config": {
        "plotlyServerURL": "https://plot.ly"
       },
       "data": [
        {
         "hoverinfo": "none",
         "line": {
          "color": "black",
          "dash": "dashdot",
          "width": 3.0
         },
         "mode": "lines",
         "opacity": 0.7,
         "showlegend": false,
         "type": "scatter",
         "x": [
          -0.30000000000000004,
          1.7999999999999998
         ],
         "y": [
          0,
          0
         ]
        },
        {
         "hoverinfo": "none",
         "marker": {
          "color": "#ffcc99",
          "line": {
           "color": "black",
           "width": 1.0
          },
          "opacity": 0.7,
          "size": 20
         },
         "mode": "markers+text",
         "showlegend": false,
         "text": [
          "0",
          "1",
          "2",
          "3",
          "4",
          "5",
          "6"
         ],
         "type": "scatter",
         "x": [
          0.0,
          0.25,
          0.5,
          0.75,
          1.0,
          1.25,
          1.5
         ],
         "y": [
          0.0,
          0.0,
          0.0,
          0.0,
          0.0,
          0.0,
          0.0
         ]
        },
        {
         "customdata": [
          [
           0,
           0.05,
           0.0,
           0.05,
           0.0,
           0.25,
           "Steel"
          ],
          [
           0,
           0.05,
           0.0,
           0.05,
           0.0,
           0.25,
           "Steel"
          ],
          [
           0,
           0.05,
           0.0,
           0.05,
           0.0,
           0.25,
           "Steel"
          ],
          [
           0,
           0.05,
           0.0,
           0.05,
           0.0,
           0.25,
           "Steel"
          ],
          [
           0,
           0.05,
           0.0,
           0.05,
           0.0,
           0.25,
           "Steel"
          ],
          [
           0,
           0.05,
           0.0,
           0.05,
           0.0,
           0.25,
           "Steel"
          ],
          [
           0,
           0.05,
           0.0,
           0.05,
           0.0,
           0.25,
           "Steel"
          ],
          [
           0,
           0.05,
           0.0,
           0.05,
           0.0,
           0.25,
           "Steel"
          ],
          [
           0,
           0.05,
           0.0,
           0.05,
           0.0,
           0.25,
           "Steel"
          ],
          [
           0,
           0.05,
           0.0,
           0.05,
           0.0,
           0.25,
           "Steel"
          ]
         ],
         "fill": "toself",
         "fillcolor": "#525252",
         "hoverinfo": "text",
         "hoverlabel": {
          "bgcolor": "#525252"
         },
         "hoveron": "points+fills",
         "hovertemplate": "Element Number: 0<br>Left Outer Diameter: 0.05 m<br>Left Inner Diameter: 0.0 m<br>Right Outer Diameter: 0.05 m<br>Right Inner Diameter: 0.0 m<br>Element Length: 0.25 m<br>Material: Steel<br>",
         "legendgroup": "Shaft",
         "line": {
          "color": "black",
          "width": 1.5
         },
         "mode": "lines",
         "name": "ShaftElement 0",
         "opacity": 0.5,
         "showlegend": false,
         "text": "Element Number: 0<br>Left Outer Diameter: 0.05 m<br>Left Inner Diameter: 0.0 m<br>Right Outer Diameter: 0.05 m<br>Right Inner Diameter: 0.0 m<br>Element Length: 0.25 m<br>Material: Steel<br>",
         "type": "scatter",
         "x": [
          0.0,
          0.0,
          0.25,
          0.25,
          0.0,
          0.0,
          0.0,
          0.25,
          0.25,
          0.0
         ],
         "y": [
          0.0,
          0.025,
          0.025,
          0.0,
          0.0,
          -0.0,
          -0.025,
          -0.025,
          -0.0,
          -0.0
         ]
        },
        {
         "customdata": [
          [
           1,
           0.05,
           0.0,
           0.05,
           0.0,
           0.25,
           "Steel"
          ],
          [
           1,
           0.05,
           0.0,
           0.05,
           0.0,
           0.25,
           "Steel"
          ],
          [
           1,
           0.05,
           0.0,
           0.05,
           0.0,
           0.25,
           "Steel"
          ],
          [
           1,
           0.05,
           0.0,
           0.05,
           0.0,
           0.25,
           "Steel"
          ],
          [
           1,
           0.05,
           0.0,
           0.05,
           0.0,
           0.25,
           "Steel"
          ],
          [
           1,
           0.05,
           0.0,
           0.05,
           0.0,
           0.25,
           "Steel"
          ],
          [
           1,
           0.05,
           0.0,
           0.05,
           0.0,
           0.25,
           "Steel"
          ],
          [
           1,
           0.05,
           0.0,
           0.05,
           0.0,
           0.25,
           "Steel"
          ],
          [
           1,
           0.05,
           0.0,
           0.05,
           0.0,
           0.25,
           "Steel"
          ],
          [
           1,
           0.05,
           0.0,
           0.05,
           0.0,
           0.25,
           "Steel"
          ]
         ],
         "fill": "toself",
         "fillcolor": "#525252",
         "hoverinfo": "text",
         "hoverlabel": {
          "bgcolor": "#525252"
         },
         "hoveron": "points+fills",
         "hovertemplate": "Element Number: 1<br>Left Outer Diameter: 0.05 m<br>Left Inner Diameter: 0.0 m<br>Right Outer Diameter: 0.05 m<br>Right Inner Diameter: 0.0 m<br>Element Length: 0.25 m<br>Material: Steel<br>",
         "legendgroup": "Shaft",
         "line": {
          "color": "black",
          "width": 1.5
         },
         "mode": "lines",
         "name": "ShaftElement 1",
         "opacity": 0.5,
         "showlegend": false,
         "text": "Element Number: 1<br>Left Outer Diameter: 0.05 m<br>Left Inner Diameter: 0.0 m<br>Right Outer Diameter: 0.05 m<br>Right Inner Diameter: 0.0 m<br>Element Length: 0.25 m<br>Material: Steel<br>",
         "type": "scatter",
         "x": [
          0.25,
          0.25,
          0.5,
          0.5,
          0.25,
          0.25,
          0.25,
          0.5,
          0.5,
          0.25
         ],
         "y": [
          0.0,
          0.025,
          0.025,
          0.0,
          0.0,
          -0.0,
          -0.025,
          -0.025,
          -0.0,
          -0.0
         ]
        },
        {
         "customdata": [
          [
           2,
           0.05,
           0.0,
           0.05,
           0.0,
           0.25,
           "Steel"
          ],
          [
           2,
           0.05,
           0.0,
           0.05,
           0.0,
           0.25,
           "Steel"
          ],
          [
           2,
           0.05,
           0.0,
           0.05,
           0.0,
           0.25,
           "Steel"
          ],
          [
           2,
           0.05,
           0.0,
           0.05,
           0.0,
           0.25,
           "Steel"
          ],
          [
           2,
           0.05,
           0.0,
           0.05,
           0.0,
           0.25,
           "Steel"
          ],
          [
           2,
           0.05,
           0.0,
           0.05,
           0.0,
           0.25,
           "Steel"
          ],
          [
           2,
           0.05,
           0.0,
           0.05,
           0.0,
           0.25,
           "Steel"
          ],
          [
           2,
           0.05,
           0.0,
           0.05,
           0.0,
           0.25,
           "Steel"
          ],
          [
           2,
           0.05,
           0.0,
           0.05,
           0.0,
           0.25,
           "Steel"
          ],
          [
           2,
           0.05,
           0.0,
           0.05,
           0.0,
           0.25,
           "Steel"
          ]
         ],
         "fill": "toself",
         "fillcolor": "#525252",
         "hoverinfo": "text",
         "hoverlabel": {
          "bgcolor": "#525252"
         },
         "hoveron": "points+fills",
         "hovertemplate": "Element Number: 2<br>Left Outer Diameter: 0.05 m<br>Left Inner Diameter: 0.0 m<br>Right Outer Diameter: 0.05 m<br>Right Inner Diameter: 0.0 m<br>Element Length: 0.25 m<br>Material: Steel<br>",
         "legendgroup": "Shaft",
         "line": {
          "color": "black",
          "width": 1.5
         },
         "mode": "lines",
         "name": "ShaftElement 2",
         "opacity": 0.5,
         "showlegend": false,
         "text": "Element Number: 2<br>Left Outer Diameter: 0.05 m<br>Left Inner Diameter: 0.0 m<br>Right Outer Diameter: 0.05 m<br>Right Inner Diameter: 0.0 m<br>Element Length: 0.25 m<br>Material: Steel<br>",
         "type": "scatter",
         "x": [
          0.5,
          0.5,
          0.75,
          0.75,
          0.5,
          0.5,
          0.5,
          0.75,
          0.75,
          0.5
         ],
         "y": [
          0.0,
          0.025,
          0.025,
          0.0,
          0.0,
          -0.0,
          -0.025,
          -0.025,
          -0.0,
          -0.0
         ]
        },
        {
         "customdata": [
          [
           3,
           0.05,
           0.0,
           0.05,
           0.0,
           0.25,
           "Steel"
          ],
          [
           3,
           0.05,
           0.0,
           0.05,
           0.0,
           0.25,
           "Steel"
          ],
          [
           3,
           0.05,
           0.0,
           0.05,
           0.0,
           0.25,
           "Steel"
          ],
          [
           3,
           0.05,
           0.0,
           0.05,
           0.0,
           0.25,
           "Steel"
          ],
          [
           3,
           0.05,
           0.0,
           0.05,
           0.0,
           0.25,
           "Steel"
          ],
          [
           3,
           0.05,
           0.0,
           0.05,
           0.0,
           0.25,
           "Steel"
          ],
          [
           3,
           0.05,
           0.0,
           0.05,
           0.0,
           0.25,
           "Steel"
          ],
          [
           3,
           0.05,
           0.0,
           0.05,
           0.0,
           0.25,
           "Steel"
          ],
          [
           3,
           0.05,
           0.0,
           0.05,
           0.0,
           0.25,
           "Steel"
          ],
          [
           3,
           0.05,
           0.0,
           0.05,
           0.0,
           0.25,
           "Steel"
          ]
         ],
         "fill": "toself",
         "fillcolor": "#525252",
         "hoverinfo": "text",
         "hoverlabel": {
          "bgcolor": "#525252"
         },
         "hoveron": "points+fills",
         "hovertemplate": "Element Number: 3<br>Left Outer Diameter: 0.05 m<br>Left Inner Diameter: 0.0 m<br>Right Outer Diameter: 0.05 m<br>Right Inner Diameter: 0.0 m<br>Element Length: 0.25 m<br>Material: Steel<br>",
         "legendgroup": "Shaft",
         "line": {
          "color": "black",
          "width": 1.5
         },
         "mode": "lines",
         "name": "ShaftElement 3",
         "opacity": 0.5,
         "showlegend": false,
         "text": "Element Number: 3<br>Left Outer Diameter: 0.05 m<br>Left Inner Diameter: 0.0 m<br>Right Outer Diameter: 0.05 m<br>Right Inner Diameter: 0.0 m<br>Element Length: 0.25 m<br>Material: Steel<br>",
         "type": "scatter",
         "x": [
          0.75,
          0.75,
          1.0,
          1.0,
          0.75,
          0.75,
          0.75,
          1.0,
          1.0,
          0.75
         ],
         "y": [
          0.0,
          0.025,
          0.025,
          0.0,
          0.0,
          -0.0,
          -0.025,
          -0.025,
          -0.0,
          -0.0
         ]
        },
        {
         "customdata": [
          [
           4,
           0.05,
           0.0,
           0.05,
           0.0,
           0.25,
           "Steel"
          ],
          [
           4,
           0.05,
           0.0,
           0.05,
           0.0,
           0.25,
           "Steel"
          ],
          [
           4,
           0.05,
           0.0,
           0.05,
           0.0,
           0.25,
           "Steel"
          ],
          [
           4,
           0.05,
           0.0,
           0.05,
           0.0,
           0.25,
           "Steel"
          ],
          [
           4,
           0.05,
           0.0,
           0.05,
           0.0,
           0.25,
           "Steel"
          ],
          [
           4,
           0.05,
           0.0,
           0.05,
           0.0,
           0.25,
           "Steel"
          ],
          [
           4,
           0.05,
           0.0,
           0.05,
           0.0,
           0.25,
           "Steel"
          ],
          [
           4,
           0.05,
           0.0,
           0.05,
           0.0,
           0.25,
           "Steel"
          ],
          [
           4,
           0.05,
           0.0,
           0.05,
           0.0,
           0.25,
           "Steel"
          ],
          [
           4,
           0.05,
           0.0,
           0.05,
           0.0,
           0.25,
           "Steel"
          ]
         ],
         "fill": "toself",
         "fillcolor": "#525252",
         "hoverinfo": "text",
         "hoverlabel": {
          "bgcolor": "#525252"
         },
         "hoveron": "points+fills",
         "hovertemplate": "Element Number: 4<br>Left Outer Diameter: 0.05 m<br>Left Inner Diameter: 0.0 m<br>Right Outer Diameter: 0.05 m<br>Right Inner Diameter: 0.0 m<br>Element Length: 0.25 m<br>Material: Steel<br>",
         "legendgroup": "Shaft",
         "line": {
          "color": "black",
          "width": 1.5
         },
         "mode": "lines",
         "name": "ShaftElement 4",
         "opacity": 0.5,
         "showlegend": false,
         "text": "Element Number: 4<br>Left Outer Diameter: 0.05 m<br>Left Inner Diameter: 0.0 m<br>Right Outer Diameter: 0.05 m<br>Right Inner Diameter: 0.0 m<br>Element Length: 0.25 m<br>Material: Steel<br>",
         "type": "scatter",
         "x": [
          1.0,
          1.0,
          1.25,
          1.25,
          1.0,
          1.0,
          1.0,
          1.25,
          1.25,
          1.0
         ],
         "y": [
          0.0,
          0.025,
          0.025,
          0.0,
          0.0,
          -0.0,
          -0.025,
          -0.025,
          -0.0,
          -0.0
         ]
        },
        {
         "customdata": [
          [
           5,
           0.05,
           0.0,
           0.05,
           0.0,
           0.25,
           "Steel"
          ],
          [
           5,
           0.05,
           0.0,
           0.05,
           0.0,
           0.25,
           "Steel"
          ],
          [
           5,
           0.05,
           0.0,
           0.05,
           0.0,
           0.25,
           "Steel"
          ],
          [
           5,
           0.05,
           0.0,
           0.05,
           0.0,
           0.25,
           "Steel"
          ],
          [
           5,
           0.05,
           0.0,
           0.05,
           0.0,
           0.25,
           "Steel"
          ],
          [
           5,
           0.05,
           0.0,
           0.05,
           0.0,
           0.25,
           "Steel"
          ],
          [
           5,
           0.05,
           0.0,
           0.05,
           0.0,
           0.25,
           "Steel"
          ],
          [
           5,
           0.05,
           0.0,
           0.05,
           0.0,
           0.25,
           "Steel"
          ],
          [
           5,
           0.05,
           0.0,
           0.05,
           0.0,
           0.25,
           "Steel"
          ],
          [
           5,
           0.05,
           0.0,
           0.05,
           0.0,
           0.25,
           "Steel"
          ]
         ],
         "fill": "toself",
         "fillcolor": "#525252",
         "hoverinfo": "text",
         "hoverlabel": {
          "bgcolor": "#525252"
         },
         "hoveron": "points+fills",
         "hovertemplate": "Element Number: 5<br>Left Outer Diameter: 0.05 m<br>Left Inner Diameter: 0.0 m<br>Right Outer Diameter: 0.05 m<br>Right Inner Diameter: 0.0 m<br>Element Length: 0.25 m<br>Material: Steel<br>",
         "legendgroup": "Shaft",
         "line": {
          "color": "black",
          "width": 1.5
         },
         "mode": "lines",
         "name": "ShaftElement 5",
         "opacity": 0.5,
         "showlegend": false,
         "text": "Element Number: 5<br>Left Outer Diameter: 0.05 m<br>Left Inner Diameter: 0.0 m<br>Right Outer Diameter: 0.05 m<br>Right Inner Diameter: 0.0 m<br>Element Length: 0.25 m<br>Material: Steel<br>",
         "type": "scatter",
         "x": [
          1.25,
          1.25,
          1.5,
          1.5,
          1.25,
          1.25,
          1.25,
          1.5,
          1.5,
          1.25
         ],
         "y": [
          0.0,
          0.025,
          0.025,
          0.0,
          0.0,
          -0.0,
          -0.025,
          -0.025,
          -0.0,
          -0.0
         ]
        },
        {
         "customdata": [
          [
           2,
           0.178,
           0.329,
           32.58
          ],
          [
           2,
           0.178,
           0.329,
           32.58
          ],
          [
           2,
           0.178,
           0.329,
           32.58
          ],
          [
           2,
           0.178,
           0.329,
           32.58
          ],
          [
           2,
           0.178,
           0.329,
           32.58
          ],
          [
           2,
           0.178,
           0.329,
           32.58
          ],
          [
           2,
           0.178,
           0.329,
           32.58
          ],
          [
           2,
           0.178,
           0.329,
           32.58
          ],
          [
           2,
           0.178,
           0.329,
           32.58
          ]
         ],
         "fill": "toself",
         "fillcolor": "Firebrick",
         "hoverinfo": "text",
         "hoverlabel": {
          "bgcolor": "Firebrick"
         },
         "hoveron": "points+fills",
         "hovertemplate": "Disk Node: 2<br>Polar Inertia: 1.780e-01<br>Diametral Inertia: 3.290e-01<br>Disk mass: 32.580<br>",
         "legendgroup": "disks",
         "line": {
          "color": "Firebrick",
          "width": 2.0
         },
         "mode": "lines",
         "name": "Disk",
         "opacity": 0.8,
         "showlegend": false,
         "text": "Disk Node: 2<br>Polar Inertia: 1.780e-01<br>Diametral Inertia: 3.290e-01<br>Disk mass: 32.580<br>",
         "type": "scatter",
         "x": [
          0.5,
          0.502,
          0.498,
          0.5,
          null,
          0.5,
          0.502,
          0.498,
          0.5
         ],
         "y": [
          0.025,
          0.125,
          0.125,
          0.025,
          null,
          -0.025,
          -0.125,
          -0.125,
          -0.025
         ]
        },
        {
         "hoverinfo": "none",
         "legendgroup": "bearings",
         "line": {
          "color": "#355d7a",
          "width": 1
         },
         "mode": "lines",
         "name": "Bearing 0",
         "showlegend": false,
         "type": "scatter",
         "x": [
          0.0,
          0.0,
          -0.007142857142857143,
          0.007142857142857143
         ],
         "y": [
          0.025,
          0.0375,
          0.0375,
          0.0375
         ]
        },
        {
         "hoverinfo": "none",
         "legendgroup": "bearings",
         "line": {
          "color": "#355d7a",
          "width": 1
         },
         "mode": "lines",
         "name": "Bearing 0",
         "showlegend": false,
         "type": "scatter",
         "x": [
          0.0,
          0.0,
          -0.007142857142857143,
          0.007142857142857143
         ],
         "y": [
          -0.025,
          -0.0375,
          -0.0375,
          -0.0375
         ]
        },
        {
         "hoverinfo": "none",
         "legendgroup": "bearings",
         "line": {
          "color": "#355d7a",
          "width": 1
         },
         "mode": "lines",
         "name": "Bearing 0",
         "showlegend": false,
         "type": "scatter",
         "x": [
          0.0,
          0.0,
          -0.007142857142857143,
          0.007142857142857143
         ],
         "y": [
          0.075,
          0.0625,
          0.0625,
          0.0625
         ]
        },
        {
         "hoverinfo": "none",
         "legendgroup": "bearings",
         "line": {
          "color": "#355d7a",
          "width": 1
         },
         "mode": "lines",
         "name": "Bearing 0",
         "showlegend": false,
         "type": "scatter",
         "x": [
          0.0,
          0.0,
          -0.007142857142857143,
          0.007142857142857143
         ],
         "y": [
          -0.075,
          -0.0625,
          -0.0625,
          -0.0625
         ]
        },
        {
         "hoverinfo": "none",
         "legendgroup": "bearings",
         "line": {
          "color": "#355d7a",
          "width": 1
         },
         "mode": "lines",
         "name": "Bearing 0",
         "showlegend": false,
         "type": "scatter",
         "x": [
          -0.010714285714285714,
          0.010714285714285714
         ],
         "y": [
          0.075,
          0.075
         ]
        },
        {
         "hoverinfo": "none",
         "legendgroup": "bearings",
         "line": {
          "color": "#355d7a",
          "width": 1
         },
         "mode": "lines",
         "name": "Bearing 0",
         "showlegend": false,
         "type": "scatter",
         "x": [
          -0.010714285714285714,
          0.010714285714285714
         ],
         "y": [
          -0.075,
          -0.075
         ]
        },
        {
         "hoverinfo": "none",
         "legendgroup": "bearings",
         "line": {
          "color": "#355d7a",
          "width": 1
         },
         "mode": "lines",
         "name": "Bearing 0",
         "showlegend": false,
         "type": "scatter",
         "x": [
          -0.010714285714285714,
          -0.0064285714285714285
         ],
         "y": [
          0.075,
          0.0825
         ]
        },
        {
         "hoverinfo": "none",
         "legendgroup": "bearings",
         "line": {
          "color": "#355d7a",
          "width": 1
         },
         "mode": "lines",
         "name": "Bearing 0",
         "showlegend": false,
         "type": "scatter",
         "x": [
          -0.010714285714285714,
          -0.0064285714285714285
         ],
         "y": [
          -0.075,
          -0.0825
         ]
        },
        {
         "hoverinfo": "none",
         "legendgroup": "bearings",
         "line": {
          "color": "#355d7a",
          "width": 1
         },
         "mode": "lines",
         "name": "Bearing 0",
         "showlegend": false,
         "type": "scatter",
         "x": [
          -0.0064285714285714285,
          -0.0021428571428571425
         ],
         "y": [
          0.075,
          0.0825
         ]
        },
        {
         "hoverinfo": "none",
         "legendgroup": "bearings",
         "line": {
          "color": "#355d7a",
          "width": 1
         },
         "mode": "lines",
         "name": "Bearing 0",
         "showlegend": false,
         "type": "scatter",
         "x": [
          -0.0064285714285714285,
          -0.0021428571428571425
         ],
         "y": [
          -0.075,
          -0.0825
         ]
        },
        {
         "hoverinfo": "none",
         "legendgroup": "bearings",
         "line": {
          "color": "#355d7a",
          "width": 1
         },
         "mode": "lines",
         "name": "Bearing 0",
         "showlegend": false,
         "type": "scatter",
         "x": [
          -0.0021428571428571425,
          0.0021428571428571443
         ],
         "y": [
          0.075,
          0.0825
         ]
        },
        {
         "hoverinfo": "none",
         "legendgroup": "bearings",
         "line": {
          "color": "#355d7a",
          "width": 1
         },
         "mode": "lines",
         "name": "Bearing 0",
         "showlegend": false,
         "type": "scatter",
         "x": [
          -0.0021428571428571425,
          0.0021428571428571443
         ],
         "y": [
          -0.075,
          -0.0825
         ]
        },
        {
         "hoverinfo": "none",
         "legendgroup": "bearings",
         "line": {
          "color": "#355d7a",
          "width": 1
         },
         "mode": "lines",
         "name": "Bearing 0",
         "showlegend": false,
         "type": "scatter",
         "x": [
          0.0021428571428571443,
          0.006428571428571429
         ],
         "y": [
          0.075,
          0.0825
         ]
        },
        {
         "hoverinfo": "none",
         "legendgroup": "bearings",
         "line": {
          "color": "#355d7a",
          "width": 1
         },
         "mode": "lines",
         "name": "Bearing 0",
         "showlegend": false,
         "type": "scatter",
         "x": [
          0.0021428571428571443,
          0.006428571428571429
         ],
         "y": [
          -0.075,
          -0.0825
         ]
        },
        {
         "hoverinfo": "none",
         "legendgroup": "bearings",
         "line": {
          "color": "#355d7a",
          "width": 1
         },
         "mode": "lines",
         "name": "Bearing 0",
         "showlegend": false,
         "type": "scatter",
         "x": [
          0.006428571428571429,
          0.010714285714285714
         ],
         "y": [
          0.075,
          0.0825
         ]
        },
        {
         "hoverinfo": "none",
         "legendgroup": "bearings",
         "line": {
          "color": "#355d7a",
          "width": 1
         },
         "mode": "lines",
         "name": "Bearing 0",
         "showlegend": false,
         "type": "scatter",
         "x": [
          0.006428571428571429,
          0.010714285714285714
         ],
         "y": [
          -0.075,
          -0.0825
         ]
        },
        {
         "hoverinfo": "none",
         "legendgroup": "bearings",
         "line": {
          "color": "#355d7a",
          "width": 1
         },
         "mode": "lines",
         "name": "Bearing 0",
         "showlegend": false,
         "type": "scatter",
         "x": [
          0.010714285714285714,
          0.015000000000000003
         ],
         "y": [
          0.075,
          0.0825
         ]
        },
        {
         "hoverinfo": "none",
         "legendgroup": "bearings",
         "line": {
          "color": "#355d7a",
          "width": 1
         },
         "mode": "lines",
         "name": "Bearing 0",
         "showlegend": false,
         "type": "scatter",
         "x": [
          0.010714285714285714,
          0.015000000000000003
         ],
         "y": [
          -0.075,
          -0.0825
         ]
        },
        {
         "hoverinfo": "none",
         "legendgroup": "bearings",
         "line": {
          "color": "#355d7a",
          "width": 1
         },
         "mode": "lines",
         "name": "Bearing 0",
         "showlegend": false,
         "type": "scatter",
         "x": [
          -0.007142857142857143,
          -0.007142857142857143,
          -0.010714285714285714,
          -0.0035714285714285713,
          -0.010714285714285714,
          -0.0035714285714285713,
          -0.010714285714285714,
          -0.0035714285714285713,
          -0.007142857142857143,
          -0.007142857142857143
         ],
         "y": [
          0.0375,
          0.04107142857142857,
          0.04107142857142857,
          0.044642857142857144,
          0.04821428571428571,
          0.05178571428571428,
          0.055357142857142855,
          0.05892857142857143,
          0.05892857142857143,
          0.0625
         ]
        },
        {
         "hoverinfo": "none",
         "legendgroup": "bearings",
         "line": {
          "color": "#355d7a",
          "width": 1
         },
         "mode": "lines",
         "name": "Bearing 0",
         "showlegend": false,
         "type": "scatter",
         "x": [
          -0.007142857142857143,
          -0.007142857142857143,
          -0.010714285714285714,
          -0.0035714285714285713,
          -0.010714285714285714,
          -0.0035714285714285713,
          -0.010714285714285714,
          -0.0035714285714285713,
          -0.007142857142857143,
          -0.007142857142857143
         ],
         "y": [
          -0.0375,
          -0.04107142857142857,
          -0.04107142857142857,
          -0.044642857142857144,
          -0.04821428571428571,
          -0.05178571428571428,
          -0.055357142857142855,
          -0.05892857142857143,
          -0.05892857142857143,
          -0.0625
         ]
        },
        {
         "hoverinfo": "none",
         "legendgroup": "bearings",
         "line": {
          "color": "#355d7a",
          "width": 1
         },
         "mode": "lines",
         "name": "Bearing 0",
         "showlegend": false,
         "type": "scatter",
         "x": [
          0.007142857142857143,
          0.007142857142857143
         ],
         "y": [
          0.0375,
          0.044642857142857144
         ]
        },
        {
         "hoverinfo": "none",
         "legendgroup": "bearings",
         "line": {
          "color": "#355d7a",
          "width": 1
         },
         "mode": "lines",
         "name": "Bearing 0",
         "showlegend": false,
         "type": "scatter",
         "x": [
          0.007142857142857143,
          0.007142857142857143
         ],
         "y": [
          -0.0375,
          -0.044642857142857144
         ]
        },
        {
         "hoverinfo": "none",
         "legendgroup": "bearings",
         "line": {
          "color": "#355d7a",
          "width": 1
         },
         "mode": "lines",
         "name": "Bearing 0",
         "showlegend": false,
         "type": "scatter",
         "x": [
          0.0,
          0.0,
          0.014285714285714285,
          0.014285714285714285
         ],
         "y": [
          0.055357142857142855,
          0.044642857142857144,
          0.044642857142857144,
          0.055357142857142855
         ]
        },
        {
         "hoverinfo": "none",
         "legendgroup": "bearings",
         "line": {
          "color": "#355d7a",
          "width": 1
         },
         "mode": "lines",
         "name": "Bearing 0",
         "showlegend": false,
         "type": "scatter",
         "x": [
          0.0,
          0.0,
          0.014285714285714285,
          0.014285714285714285
         ],
         "y": [
          -0.055357142857142855,
          -0.044642857142857144,
          -0.044642857142857144,
          -0.055357142857142855
         ]
        },
        {
         "hoverinfo": "none",
         "legendgroup": "bearings",
         "line": {
          "color": "#355d7a",
          "width": 1
         },
         "mode": "lines",
         "name": "Bearing 0",
         "showlegend": false,
         "type": "scatter",
         "x": [
          0.0,
          0.014285714285714285,
          0.007142857142857143,
          0.007142857142857143
         ],
         "y": [
          0.05178571428571428,
          0.05178571428571428,
          0.05178571428571428,
          0.0625
         ]
        },
        {
         "hoverinfo": "none",
         "legendgroup": "bearings",
         "line": {
          "color": "#355d7a",
          "width": 1
         },
         "mode": "lines",
         "name": "Bearing 0",
         "showlegend": false,
         "type": "scatter",
         "x": [
          0.0,
          0.014285714285714285,
          0.007142857142857143,
          0.007142857142857143
         ],
         "y": [
          -0.05178571428571428,
          -0.05178571428571428,
          -0.05178571428571428,
          -0.0625
         ]
        },
        {
         "hoverinfo": "none",
         "legendgroup": "bearings",
         "line": {
          "color": "#355d7a",
          "width": 1
         },
         "mode": "lines",
         "name": "Bearing 1",
         "showlegend": false,
         "type": "scatter",
         "x": [
          1.25,
          1.25,
          1.2428571428571429,
          1.2571428571428571
         ],
         "y": [
          0.025,
          0.0375,
          0.0375,
          0.0375
         ]
        },
        {
         "hoverinfo": "none",
         "legendgroup": "bearings",
         "line": {
          "color": "#355d7a",
          "width": 1
         },
         "mode": "lines",
         "name": "Bearing 1",
         "showlegend": false,
         "type": "scatter",
         "x": [
          1.25,
          1.25,
          1.2428571428571429,
          1.2571428571428571
         ],
         "y": [
          -0.025,
          -0.0375,
          -0.0375,
          -0.0375
         ]
        },
        {
         "hoverinfo": "none",
         "legendgroup": "bearings",
         "line": {
          "color": "#355d7a",
          "width": 1
         },
         "mode": "lines",
         "name": "Bearing 1",
         "showlegend": false,
         "type": "scatter",
         "x": [
          1.25,
          1.25,
          1.2428571428571429,
          1.2571428571428571
         ],
         "y": [
          0.075,
          0.0625,
          0.0625,
          0.0625
         ]
        },
        {
         "hoverinfo": "none",
         "legendgroup": "bearings",
         "line": {
          "color": "#355d7a",
          "width": 1
         },
         "mode": "lines",
         "name": "Bearing 1",
         "showlegend": false,
         "type": "scatter",
         "x": [
          1.25,
          1.25,
          1.2428571428571429,
          1.2571428571428571
         ],
         "y": [
          -0.075,
          -0.0625,
          -0.0625,
          -0.0625
         ]
        },
        {
         "hoverinfo": "none",
         "legendgroup": "bearings",
         "line": {
          "color": "#355d7a",
          "width": 1
         },
         "mode": "lines",
         "name": "Bearing 1",
         "showlegend": false,
         "type": "scatter",
         "x": [
          1.2392857142857143,
          1.2607142857142857
         ],
         "y": [
          0.075,
          0.075
         ]
        },
        {
         "hoverinfo": "none",
         "legendgroup": "bearings",
         "line": {
          "color": "#355d7a",
          "width": 1
         },
         "mode": "lines",
         "name": "Bearing 1",
         "showlegend": false,
         "type": "scatter",
         "x": [
          1.2392857142857143,
          1.2607142857142857
         ],
         "y": [
          -0.075,
          -0.075
         ]
        },
        {
         "hoverinfo": "none",
         "legendgroup": "bearings",
         "line": {
          "color": "#355d7a",
          "width": 1
         },
         "mode": "lines",
         "name": "Bearing 1",
         "showlegend": false,
         "type": "scatter",
         "x": [
          1.2392857142857143,
          1.2435714285714285
         ],
         "y": [
          0.075,
          0.0825
         ]
        },
        {
         "hoverinfo": "none",
         "legendgroup": "bearings",
         "line": {
          "color": "#355d7a",
          "width": 1
         },
         "mode": "lines",
         "name": "Bearing 1",
         "showlegend": false,
         "type": "scatter",
         "x": [
          1.2392857142857143,
          1.2435714285714285
         ],
         "y": [
          -0.075,
          -0.0825
         ]
        },
        {
         "hoverinfo": "none",
         "legendgroup": "bearings",
         "line": {
          "color": "#355d7a",
          "width": 1
         },
         "mode": "lines",
         "name": "Bearing 1",
         "showlegend": false,
         "type": "scatter",
         "x": [
          1.2435714285714285,
          1.2478571428571428
         ],
         "y": [
          0.075,
          0.0825
         ]
        },
        {
         "hoverinfo": "none",
         "legendgroup": "bearings",
         "line": {
          "color": "#355d7a",
          "width": 1
         },
         "mode": "lines",
         "name": "Bearing 1",
         "showlegend": false,
         "type": "scatter",
         "x": [
          1.2435714285714285,
          1.2478571428571428
         ],
         "y": [
          -0.075,
          -0.0825
         ]
        },
        {
         "hoverinfo": "none",
         "legendgroup": "bearings",
         "line": {
          "color": "#355d7a",
          "width": 1
         },
         "mode": "lines",
         "name": "Bearing 1",
         "showlegend": false,
         "type": "scatter",
         "x": [
          1.2478571428571428,
          1.2521428571428572
         ],
         "y": [
          0.075,
          0.0825
         ]
        },
        {
         "hoverinfo": "none",
         "legendgroup": "bearings",
         "line": {
          "color": "#355d7a",
          "width": 1
         },
         "mode": "lines",
         "name": "Bearing 1",
         "showlegend": false,
         "type": "scatter",
         "x": [
          1.2478571428571428,
          1.2521428571428572
         ],
         "y": [
          -0.075,
          -0.0825
         ]
        },
        {
         "hoverinfo": "none",
         "legendgroup": "bearings",
         "line": {
          "color": "#355d7a",
          "width": 1
         },
         "mode": "lines",
         "name": "Bearing 1",
         "showlegend": false,
         "type": "scatter",
         "x": [
          1.2521428571428572,
          1.2564285714285715
         ],
         "y": [
          0.075,
          0.0825
         ]
        },
        {
         "hoverinfo": "none",
         "legendgroup": "bearings",
         "line": {
          "color": "#355d7a",
          "width": 1
         },
         "mode": "lines",
         "name": "Bearing 1",
         "showlegend": false,
         "type": "scatter",
         "x": [
          1.2521428571428572,
          1.2564285714285715
         ],
         "y": [
          -0.075,
          -0.0825
         ]
        },
        {
         "hoverinfo": "none",
         "legendgroup": "bearings",
         "line": {
          "color": "#355d7a",
          "width": 1
         },
         "mode": "lines",
         "name": "Bearing 1",
         "showlegend": false,
         "type": "scatter",
         "x": [
          1.2564285714285715,
          1.2607142857142857
         ],
         "y": [
          0.075,
          0.0825
         ]
        },
        {
         "hoverinfo": "none",
         "legendgroup": "bearings",
         "line": {
          "color": "#355d7a",
          "width": 1
         },
         "mode": "lines",
         "name": "Bearing 1",
         "showlegend": false,
         "type": "scatter",
         "x": [
          1.2564285714285715,
          1.2607142857142857
         ],
         "y": [
          -0.075,
          -0.0825
         ]
        },
        {
         "hoverinfo": "none",
         "legendgroup": "bearings",
         "line": {
          "color": "#355d7a",
          "width": 1
         },
         "mode": "lines",
         "name": "Bearing 1",
         "showlegend": false,
         "type": "scatter",
         "x": [
          1.2607142857142857,
          1.265
         ],
         "y": [
          0.075,
          0.0825
         ]
        },
        {
         "hoverinfo": "none",
         "legendgroup": "bearings",
         "line": {
          "color": "#355d7a",
          "width": 1
         },
         "mode": "lines",
         "name": "Bearing 1",
         "showlegend": false,
         "type": "scatter",
         "x": [
          1.2607142857142857,
          1.265
         ],
         "y": [
          -0.075,
          -0.0825
         ]
        },
        {
         "hoverinfo": "none",
         "legendgroup": "bearings",
         "line": {
          "color": "#355d7a",
          "width": 1
         },
         "mode": "lines",
         "name": "Bearing 1",
         "showlegend": false,
         "type": "scatter",
         "x": [
          1.2428571428571429,
          1.2428571428571429,
          1.2392857142857143,
          1.2464285714285714,
          1.2392857142857143,
          1.2464285714285714,
          1.2392857142857143,
          1.2464285714285714,
          1.2428571428571429,
          1.2428571428571429
         ],
         "y": [
          0.0375,
          0.04107142857142857,
          0.04107142857142857,
          0.044642857142857144,
          0.04821428571428571,
          0.05178571428571428,
          0.055357142857142855,
          0.05892857142857143,
          0.05892857142857143,
          0.0625
         ]
        },
        {
         "hoverinfo": "none",
         "legendgroup": "bearings",
         "line": {
          "color": "#355d7a",
          "width": 1
         },
         "mode": "lines",
         "name": "Bearing 1",
         "showlegend": false,
         "type": "scatter",
         "x": [
          1.2428571428571429,
          1.2428571428571429,
          1.2392857142857143,
          1.2464285714285714,
          1.2392857142857143,
          1.2464285714285714,
          1.2392857142857143,
          1.2464285714285714,
          1.2428571428571429,
          1.2428571428571429
         ],
         "y": [
          -0.0375,
          -0.04107142857142857,
          -0.04107142857142857,
          -0.044642857142857144,
          -0.04821428571428571,
          -0.05178571428571428,
          -0.055357142857142855,
          -0.05892857142857143,
          -0.05892857142857143,
          -0.0625
         ]
        },
        {
         "hoverinfo": "none",
         "legendgroup": "bearings",
         "line": {
          "color": "#355d7a",
          "width": 1
         },
         "mode": "lines",
         "name": "Bearing 1",
         "showlegend": false,
         "type": "scatter",
         "x": [
          1.2571428571428571,
          1.2571428571428571
         ],
         "y": [
          0.0375,
          0.044642857142857144
         ]
        },
        {
         "hoverinfo": "none",
         "legendgroup": "bearings",
         "line": {
          "color": "#355d7a",
          "width": 1
         },
         "mode": "lines",
         "name": "Bearing 1",
         "showlegend": false,
         "type": "scatter",
         "x": [
          1.2571428571428571,
          1.2571428571428571
         ],
         "y": [
          -0.0375,
          -0.044642857142857144
         ]
        },
        {
         "hoverinfo": "none",
         "legendgroup": "bearings",
         "line": {
          "color": "#355d7a",
          "width": 1
         },
         "mode": "lines",
         "name": "Bearing 1",
         "showlegend": false,
         "type": "scatter",
         "x": [
          1.25,
          1.25,
          1.2642857142857142,
          1.2642857142857142
         ],
         "y": [
          0.055357142857142855,
          0.044642857142857144,
          0.044642857142857144,
          0.055357142857142855
         ]
        },
        {
         "hoverinfo": "none",
         "legendgroup": "bearings",
         "line": {
          "color": "#355d7a",
          "width": 1
         },
         "mode": "lines",
         "name": "Bearing 1",
         "showlegend": false,
         "type": "scatter",
         "x": [
          1.25,
          1.25,
          1.2642857142857142,
          1.2642857142857142
         ],
         "y": [
          -0.055357142857142855,
          -0.044642857142857144,
          -0.044642857142857144,
          -0.055357142857142855
         ]
        },
        {
         "hoverinfo": "none",
         "legendgroup": "bearings",
         "line": {
          "color": "#355d7a",
          "width": 1
         },
         "mode": "lines",
         "name": "Bearing 1",
         "showlegend": false,
         "type": "scatter",
         "x": [
          1.25,
          1.2642857142857142,
          1.2571428571428571,
          1.2571428571428571
         ],
         "y": [
          0.05178571428571428,
          0.05178571428571428,
          0.05178571428571428,
          0.0625
         ]
        },
        {
         "hoverinfo": "none",
         "legendgroup": "bearings",
         "line": {
          "color": "#355d7a",
          "width": 1
         },
         "mode": "lines",
         "name": "Bearing 1",
         "showlegend": false,
         "type": "scatter",
         "x": [
          1.25,
          1.2642857142857142,
          1.2571428571428571,
          1.2571428571428571
         ],
         "y": [
          -0.05178571428571428,
          -0.05178571428571428,
          -0.05178571428571428,
          -0.0625
         ]
        }
       ],
       "layout": {
        "shapes": [
         {
          "fillcolor": "Firebrick",
          "line": {
           "color": "Firebrick"
          },
          "type": "circle",
          "x0": 0.49375,
          "x1": 0.50625,
          "xref": "x",
          "y0": 0.11875,
          "y1": 0.13125,
          "yref": "y"
         },
         {
          "fillcolor": "Firebrick",
          "line": {
           "color": "Firebrick"
          },
          "type": "circle",
          "x0": 0.49375,
          "x1": 0.50625,
          "xref": "x",
          "y0": -0.13125,
          "y1": -0.11875,
          "yref": "y"
         }
        ],
        "template": {
         "data": {
          "bar": [
           {
            "error_x": {
             "color": "#2a3f5f"
            },
            "error_y": {
             "color": "#2a3f5f"
            },
            "marker": {
             "line": {
              "color": "white",
              "width": 0.5
             }
            },
            "type": "bar"
           }
          ],
          "barpolar": [
           {
            "marker": {
             "line": {
              "color": "white",
              "width": 0.5
             }
            },
            "type": "barpolar"
           }
          ],
          "carpet": [
           {
            "aaxis": {
             "endlinecolor": "#2a3f5f",
             "gridcolor": "#C8D4E3",
             "linecolor": "#C8D4E3",
             "minorgridcolor": "#C8D4E3",
             "startlinecolor": "#2a3f5f"
            },
            "baxis": {
             "endlinecolor": "#2a3f5f",
             "gridcolor": "#C8D4E3",
             "linecolor": "#C8D4E3",
             "minorgridcolor": "#C8D4E3",
             "startlinecolor": "#2a3f5f"
            },
            "type": "carpet"
           }
          ],
          "choropleth": [
           {
            "colorbar": {
             "outlinewidth": 0,
             "ticks": ""
            },
            "type": "choropleth"
           }
          ],
          "contour": [
           {
            "colorbar": {
             "outlinewidth": 0,
             "ticks": ""
            },
            "colorscale": [
             [
              0.0,
              "#0d0887"
             ],
             [
              0.1111111111111111,
              "#46039f"
             ],
             [
              0.2222222222222222,
              "#7201a8"
             ],
             [
              0.3333333333333333,
              "#9c179e"
             ],
             [
              0.4444444444444444,
              "#bd3786"
             ],
             [
              0.5555555555555556,
              "#d8576b"
             ],
             [
              0.6666666666666666,
              "#ed7953"
             ],
             [
              0.7777777777777778,
              "#fb9f3a"
             ],
             [
              0.8888888888888888,
              "#fdca26"
             ],
             [
              1.0,
              "#f0f921"
             ]
            ],
            "type": "contour"
           }
          ],
          "contourcarpet": [
           {
            "colorbar": {
             "outlinewidth": 0,
             "ticks": ""
            },
            "type": "contourcarpet"
           }
          ],
          "heatmap": [
           {
            "colorbar": {
             "outlinewidth": 0,
             "ticks": ""
            },
            "colorscale": [
             [
              0.0,
              "#0d0887"
             ],
             [
              0.1111111111111111,
              "#46039f"
             ],
             [
              0.2222222222222222,
              "#7201a8"
             ],
             [
              0.3333333333333333,
              "#9c179e"
             ],
             [
              0.4444444444444444,
              "#bd3786"
             ],
             [
              0.5555555555555556,
              "#d8576b"
             ],
             [
              0.6666666666666666,
              "#ed7953"
             ],
             [
              0.7777777777777778,
              "#fb9f3a"
             ],
             [
              0.8888888888888888,
              "#fdca26"
             ],
             [
              1.0,
              "#f0f921"
             ]
            ],
            "type": "heatmap"
           }
          ],
          "heatmapgl": [
           {
            "colorbar": {
             "outlinewidth": 0,
             "ticks": ""
            },
            "colorscale": [
             [
              0.0,
              "#0d0887"
             ],
             [
              0.1111111111111111,
              "#46039f"
             ],
             [
              0.2222222222222222,
              "#7201a8"
             ],
             [
              0.3333333333333333,
              "#9c179e"
             ],
             [
              0.4444444444444444,
              "#bd3786"
             ],
             [
              0.5555555555555556,
              "#d8576b"
             ],
             [
              0.6666666666666666,
              "#ed7953"
             ],
             [
              0.7777777777777778,
              "#fb9f3a"
             ],
             [
              0.8888888888888888,
              "#fdca26"
             ],
             [
              1.0,
              "#f0f921"
             ]
            ],
            "type": "heatmapgl"
           }
          ],
          "histogram": [
           {
            "marker": {
             "colorbar": {
              "outlinewidth": 0,
              "ticks": ""
             }
            },
            "type": "histogram"
           }
          ],
          "histogram2d": [
           {
            "colorbar": {
             "outlinewidth": 0,
             "ticks": ""
            },
            "colorscale": [
             [
              0.0,
              "#0d0887"
             ],
             [
              0.1111111111111111,
              "#46039f"
             ],
             [
              0.2222222222222222,
              "#7201a8"
             ],
             [
              0.3333333333333333,
              "#9c179e"
             ],
             [
              0.4444444444444444,
              "#bd3786"
             ],
             [
              0.5555555555555556,
              "#d8576b"
             ],
             [
              0.6666666666666666,
              "#ed7953"
             ],
             [
              0.7777777777777778,
              "#fb9f3a"
             ],
             [
              0.8888888888888888,
              "#fdca26"
             ],
             [
              1.0,
              "#f0f921"
             ]
            ],
            "type": "histogram2d"
           }
          ],
          "histogram2dcontour": [
           {
            "colorbar": {
             "outlinewidth": 0,
             "ticks": ""
            },
            "colorscale": [
             [
              0.0,
              "#0d0887"
             ],
             [
              0.1111111111111111,
              "#46039f"
             ],
             [
              0.2222222222222222,
              "#7201a8"
             ],
             [
              0.3333333333333333,
              "#9c179e"
             ],
             [
              0.4444444444444444,
              "#bd3786"
             ],
             [
              0.5555555555555556,
              "#d8576b"
             ],
             [
              0.6666666666666666,
              "#ed7953"
             ],
             [
              0.7777777777777778,
              "#fb9f3a"
             ],
             [
              0.8888888888888888,
              "#fdca26"
             ],
             [
              1.0,
              "#f0f921"
             ]
            ],
            "type": "histogram2dcontour"
           }
          ],
          "mesh3d": [
           {
            "colorbar": {
             "outlinewidth": 0,
             "ticks": ""
            },
            "type": "mesh3d"
           }
          ],
          "parcoords": [
           {
            "line": {
             "colorbar": {
              "outlinewidth": 0,
              "ticks": ""
             }
            },
            "type": "parcoords"
           }
          ],
          "pie": [
           {
            "automargin": true,
            "type": "pie"
           }
          ],
          "scatter": [
           {
            "marker": {
             "colorbar": {
              "outlinewidth": 0,
              "ticks": ""
             }
            },
            "type": "scatter"
           }
          ],
          "scatter3d": [
           {
            "line": {
             "colorbar": {
              "outlinewidth": 0,
              "ticks": ""
             }
            },
            "marker": {
             "colorbar": {
              "outlinewidth": 0,
              "ticks": ""
             },
             "size": 4
            },
            "type": "scatter3d"
           }
          ],
          "scattercarpet": [
           {
            "marker": {
             "colorbar": {
              "outlinewidth": 0,
              "ticks": ""
             }
            },
            "type": "scattercarpet"
           }
          ],
          "scattergeo": [
           {
            "marker": {
             "colorbar": {
              "outlinewidth": 0,
              "ticks": ""
             }
            },
            "type": "scattergeo"
           }
          ],
          "scattergl": [
           {
            "marker": {
             "colorbar": {
              "outlinewidth": 0,
              "ticks": ""
             }
            },
            "type": "scattergl"
           }
          ],
          "scattermapbox": [
           {
            "marker": {
             "colorbar": {
              "outlinewidth": 0,
              "ticks": ""
             }
            },
            "type": "scattermapbox"
           }
          ],
          "scatterpolar": [
           {
            "marker": {
             "colorbar": {
              "outlinewidth": 0,
              "ticks": ""
             }
            },
            "type": "scatterpolar"
           }
          ],
          "scatterpolargl": [
           {
            "marker": {
             "colorbar": {
              "outlinewidth": 0,
              "ticks": ""
             }
            },
            "type": "scatterpolargl"
           }
          ],
          "scatterternary": [
           {
            "marker": {
             "colorbar": {
              "outlinewidth": 0,
              "ticks": ""
             }
            },
            "type": "scatterternary"
           }
          ],
          "surface": [
           {
            "colorbar": {
             "outlinewidth": 0,
             "ticks": ""
            },
            "colorscale": [
             [
              0.0,
              "#0d0887"
             ],
             [
              0.1111111111111111,
              "#46039f"
             ],
             [
              0.2222222222222222,
              "#7201a8"
             ],
             [
              0.3333333333333333,
              "#9c179e"
             ],
             [
              0.4444444444444444,
              "#bd3786"
             ],
             [
              0.5555555555555556,
              "#d8576b"
             ],
             [
              0.6666666666666666,
              "#ed7953"
             ],
             [
              0.7777777777777778,
              "#fb9f3a"
             ],
             [
              0.8888888888888888,
              "#fdca26"
             ],
             [
              1.0,
              "#f0f921"
             ]
            ],
            "type": "surface"
           }
          ],
          "table": [
           {
            "cells": {
             "fill": {
              "color": "#EBF0F8"
             },
             "line": {
              "color": "white"
             }
            },
            "header": {
             "fill": {
              "color": "#C8D4E3"
             },
             "line": {
              "color": "white"
             }
            },
            "type": "table"
           }
          ]
         },
         "layout": {
          "annotationdefaults": {
           "arrowcolor": "#2a3f5f",
           "arrowhead": 0,
           "arrowwidth": 1
          },
          "coloraxis": {
           "colorbar": {
            "outlinewidth": 0,
            "ticks": ""
           }
          },
          "colorscale": {
           "diverging": [
            [
             0,
             "#8e0152"
            ],
            [
             0.1,
             "#c51b7d"
            ],
            [
             0.2,
             "#de77ae"
            ],
            [
             0.3,
             "#f1b6da"
            ],
            [
             0.4,
             "#fde0ef"
            ],
            [
             0.5,
             "#f7f7f7"
            ],
            [
             0.6,
             "#e6f5d0"
            ],
            [
             0.7,
             "#b8e186"
            ],
            [
             0.8,
             "#7fbc41"
            ],
            [
             0.9,
             "#4d9221"
            ],
            [
             1,
             "#276419"
            ]
           ],
           "sequential": [
            [
             0.0,
             "#0d0887"
            ],
            [
             0.1111111111111111,
             "#46039f"
            ],
            [
             0.2222222222222222,
             "#7201a8"
            ],
            [
             0.3333333333333333,
             "#9c179e"
            ],
            [
             0.4444444444444444,
             "#bd3786"
            ],
            [
             0.5555555555555556,
             "#d8576b"
            ],
            [
             0.6666666666666666,
             "#ed7953"
            ],
            [
             0.7777777777777778,
             "#fb9f3a"
            ],
            [
             0.8888888888888888,
             "#fdca26"
            ],
            [
             1.0,
             "#f0f921"
            ]
           ],
           "sequentialminus": [
            [
             0.0,
             "#0d0887"
            ],
            [
             0.1111111111111111,
             "#46039f"
            ],
            [
             0.2222222222222222,
             "#7201a8"
            ],
            [
             0.3333333333333333,
             "#9c179e"
            ],
            [
             0.4444444444444444,
             "#bd3786"
            ],
            [
             0.5555555555555556,
             "#d8576b"
            ],
            [
             0.6666666666666666,
             "#ed7953"
            ],
            [
             0.7777777777777778,
             "#fb9f3a"
            ],
            [
             0.8888888888888888,
             "#fdca26"
            ],
            [
             1.0,
             "#f0f921"
            ]
           ]
          },
          "colorway": [
           "#1f77b4",
           "#ff7f0e",
           "#2ca02c",
           "#d62728",
           "#9467bd",
           "#8c564b",
           "#e377c2",
           "#7f7f7f",
           "#bcbd22",
           "#17becf"
          ],
          "font": {
           "color": "#2a3f5f"
          },
          "geo": {
           "bgcolor": "white",
           "lakecolor": "white",
           "landcolor": "white",
           "showlakes": true,
           "showland": true,
           "subunitcolor": "#C8D4E3"
          },
          "hoverlabel": {
           "align": "left"
          },
          "hovermode": "closest",
          "mapbox": {
           "style": "light"
          },
          "paper_bgcolor": "white",
          "plot_bgcolor": "white",
          "polar": {
           "angularaxis": {
            "gridcolor": "#EBF0F8",
            "linecolor": "#EBF0F8",
            "ticks": ""
           },
           "bgcolor": "white",
           "radialaxis": {
            "gridcolor": "#EBF0F8",
            "linecolor": "#EBF0F8",
            "ticks": ""
           }
          },
          "scene": {
           "camera": {
            "center": {
             "x": 0,
             "y": 0,
             "z": 0
            },
            "eye": {
             "x": 2.0,
             "y": 2.0,
             "z": 2.0
            },
            "up": {
             "x": 0,
             "y": 0,
             "z": 1
            }
           },
           "xaxis": {
            "backgroundcolor": "white",
            "gridcolor": "#DFE8F3",
            "gridwidth": 2,
            "linecolor": "#EBF0F8",
            "showbackground": true,
            "showspikes": false,
            "ticks": "",
            "zerolinecolor": "#EBF0F8"
           },
           "yaxis": {
            "backgroundcolor": "white",
            "gridcolor": "#DFE8F3",
            "gridwidth": 2,
            "linecolor": "#EBF0F8",
            "showbackground": true,
            "showspikes": false,
            "ticks": "",
            "zerolinecolor": "#EBF0F8"
           },
           "zaxis": {
            "backgroundcolor": "white",
            "gridcolor": "#DFE8F3",
            "gridwidth": 2,
            "linecolor": "#EBF0F8",
            "showbackground": true,
            "showspikes": false,
            "ticks": "",
            "zerolinecolor": "#EBF0F8"
           }
          },
          "shapedefaults": {
           "line": {
            "color": "#2a3f5f"
           }
          },
          "ternary": {
           "aaxis": {
            "gridcolor": "#DFE8F3",
            "linecolor": "#A2B1C6",
            "ticks": ""
           },
           "baxis": {
            "gridcolor": "#DFE8F3",
            "linecolor": "#A2B1C6",
            "ticks": ""
           },
           "bgcolor": "white",
           "caxis": {
            "gridcolor": "#DFE8F3",
            "linecolor": "#A2B1C6",
            "ticks": ""
           }
          },
          "title": {
           "x": 0.05
          },
          "xaxis": {
           "automargin": true,
           "gridcolor": "#EBF0F8",
           "linecolor": "black",
           "linewidth": 2.0,
           "mirror": true,
           "showline": true,
           "ticks": "",
           "title": {
            "standoff": 15
           },
           "zeroline": false,
           "zerolinecolor": "#EBF0F8",
           "zerolinewidth": 2
          },
          "yaxis": {
           "automargin": true,
           "gridcolor": "#EBF0F8",
           "linecolor": "black",
           "linewidth": 2.0,
           "mirror": true,
           "showline": true,
           "ticks": "",
           "title": {
            "standoff": 15
           },
           "zeroline": false,
           "zerolinecolor": "#EBF0F8",
           "zerolinewidth": 2
          }
         }
        },
        "title": {
         "text": "Rotor Model"
        },
        "xaxis": {
         "mirror": true,
         "range": [
          -0.15000000000000002,
          1.6500000000000001
         ],
         "showgrid": false,
         "title": {
          "text": "Axial location (m)"
         }
        },
        "yaxis": {
         "mirror": true,
         "range": [
          -0.44999999999999996,
          0.44999999999999996
         ],
         "showgrid": false,
         "title": {
          "text": "Shaft radius (m)"
         }
        }
       }
      }
     },
     "metadata": {},
     "output_type": "display_data"
    }
   ],
   "source": [
    "rotor = rs.Rotor(shaft_elements=shaft_elements, disk_elements=[disk], bearing_elements=bearings)\n",
    "rotor.plot_rotor()"
   ]
  },
  {
   "cell_type": "markdown",
   "id": "german-blocking",
   "metadata": {},
   "source": [
    "And now we are able to start running some analysis:"
   ]
  },
  {
   "cell_type": "code",
   "execution_count": 6,
   "id": "transsexual-saturday",
   "metadata": {
    "execution": {
     "iopub.execute_input": "2023-05-04T01:05:21.813003Z",
     "iopub.status.busy": "2023-05-04T01:05:21.812539Z",
     "iopub.status.idle": "2023-05-04T01:05:23.542286Z",
     "shell.execute_reply": "2023-05-04T01:05:23.541867Z"
    }
   },
   "outputs": [
    {
     "data": {
      "application/vnd.plotly.v1+json": {
       "config": {
        "plotlyServerURL": "https://plot.ly"
       },
       "data": [
        {
         "hovertemplate": "Frequency (rad/s): %{x:.2f}<br>Critical Speed (rad/s): %{y:.2f}",
         "legendgroup": "Crit. Speed",
         "marker": {
          "color": "black",
          "symbol": "x"
         },
         "mode": "markers",
         "name": "Crit. Speed",
         "showlegend": true,
         "type": "scatter",
         "x": [
          114.22115929315827,
          155.24405249184883,
          261.8623811497395,
          436.32248114992416,
          636.3550092386326,
          803.8717420920557
         ],
         "y": [
          114.22115929315827,
          155.24405249184883,
          261.8623811497395,
          436.32248114992416,
          636.3550092386326,
          803.8717420920557
         ]
        },
        {
         "hoverinfo": "none",
         "legendgroup": "Forward",
         "marker": {
          "color": [
           0.2519950805147971,
           0.2570454049410176,
           0.2618801636134887,
           0.2664880605695982,
           0.27085874827980727,
           0.27498288871315996,
           0.2788522038998239,
           0.2824595155130995,
           0.2857987731522744,
           0.288865071277926,
           0.2916546549049441
          ],
          "coloraxis": "coloraxis",
          "symbol": "triangle-up"
         },
         "mode": "markers",
         "name": "Forward",
         "showlegend": false,
         "type": "scatter",
         "x": [
          0.0,
          20.408163265306122,
          40.816326530612244,
          61.224489795918366,
          81.63265306122449,
          102.0408163265306,
          122.44897959183673,
          142.85714285714286,
          163.26530612244898,
          183.6734693877551,
          204.0816326530612
         ],
         "y": [
          113.68014829562215,
          113.69970658026543,
          113.75270959314193,
          113.83904275322729,
          113.95851112304103,
          114.11084059071162,
          114.29567956420492,
          114.51260114583464,
          114.76110576660784,
          115.04062424168497,
          115.35052121128663
         ]
        },
        {
         "hoverinfo": "none",
         "legendgroup": "Forward",
         "marker": {
          "color": [
           0.06750416906245688
          ],
          "coloraxis": "coloraxis",
          "symbol": "triangle-up"
         },
         "mode": "markers",
         "name": "Forward",
         "showlegend": false,
         "type": "scatter",
         "x": [
          0.0
         ],
         "y": [
          154.9722488727136
         ]
        },
        {
         "hoverinfo": "none",
         "legendgroup": "Forward",
         "marker": {
          "color": [
           0.7608447515340216
          ],
          "coloraxis": "coloraxis",
          "symbol": "triangle-up"
         },
         "mode": "markers",
         "name": "Forward",
         "showlegend": false,
         "type": "scatter",
         "x": [
          0.0
         ],
         "y": [
          254.67140726500358
         ]
        },
        {
         "hoverinfo": "none",
         "legendgroup": "Forward",
         "marker": {
          "color": [
           0.41029715410295525
          ],
          "coloraxis": "coloraxis",
          "symbol": "triangle-up"
         },
         "mode": "markers",
         "name": "Forward",
         "showlegend": false,
         "type": "scatter",
         "x": [
          0.0
         ],
         "y": [
          425.1913420280708
         ]
        },
        {
         "hoverinfo": "none",
         "legendgroup": "Forward",
         "marker": {
          "color": [
           0.5365494088373522
          ],
          "coloraxis": "coloraxis",
          "symbol": "triangle-up"
         },
         "mode": "markers",
         "name": "Forward",
         "showlegend": false,
         "type": "scatter",
         "x": [
          0.0
         ],
         "y": [
          613.425404014819
         ]
        },
        {
         "hoverinfo": "none",
         "legendgroup": "Forward",
         "marker": {
          "color": [
           0.32077879153113276,
           0.32737669105411676,
           0.3339989673789037,
           0.34064666319420306,
           0.3473207875291884,
           0.3540223191643632,
           0.36075220880932324,
           0.3675113800201071,
           0.37430072796861935,
           0.3811211167303911,
           0.3879733742111576,
           0.39485828462415207,
           0.4017765780770781,
           0.4087289173452997,
           0.41571588196556075,
           0.4227379479491434,
           0.4297954652521775,
           0.436888630353419,
           0.4440174563313178,
           0.4511817382214292,
           0.45838101501255946,
           0.4656145288904118,
           0.47288117973546284,
           0.48017947773014796,
           0.48750749384493425,
           0.49486280765795465,
           0.5022424545880287,
           0.5096428746570433,
           0.5170598607400761,
           0.5244885106947919,
           0.5319231841333628,
           0.5393574644777539,
           0.5467841291722589,
           0.5541951298527954,
           0.5615815825602087,
           0.568933772079446,
           0.5762411689032003,
           0.583492462433784,
           0.5906756074712977,
           0.5977778885027599,
           0.6047859964053081,
           0.6116861196362747,
           0.6184640472214453,
           0.6251052799262324,
           0.6315951501091611,
           0.6379189434183169,
           0.6440620230799312,
           0.6500099497977838,
           0.6557485997178618,
           0.661264269832497
          ],
          "coloraxis": "coloraxis",
          "symbol": "triangle-up"
         },
         "mode": "markers",
         "name": "Forward",
         "showlegend": false,
         "type": "scatter",
         "x": [
          0.0,
          20.408163265306122,
          40.816326530612244,
          61.224489795918366,
          81.63265306122449,
          102.0408163265306,
          122.44897959183673,
          142.85714285714286,
          163.26530612244898,
          183.6734693877551,
          204.0816326530612,
          224.48979591836735,
          244.89795918367346,
          265.3061224489796,
          285.7142857142857,
          306.1224489795918,
          326.53061224489795,
          346.9387755102041,
          367.3469387755102,
          387.7551020408163,
          408.1632653061224,
          428.57142857142856,
          448.9795918367347,
          469.3877551020408,
          489.7959183673469,
          510.2040816326531,
          530.6122448979592,
          551.0204081632653,
          571.4285714285714,
          591.8367346938776,
          612.2448979591836,
          632.6530612244898,
          653.0612244897959,
          673.469387755102,
          693.8775510204082,
          714.2857142857142,
          734.6938775510204,
          755.1020408163265,
          775.5102040816327,
          795.9183673469388,
          816.3265306122448,
          836.734693877551,
          857.1428571428571,
          877.5510204081633,
          897.9591836734694,
          918.3673469387755,
          938.7755102040816,
          959.1836734693877,
          979.5918367346939,
          1000.0
         ],
         "y": [
          748.4483979604494,
          748.5521051855493,
          748.7235142638893,
          748.9623939366145,
          749.2685288744304,
          749.6417214069143,
          750.0817934001872,
          750.5885879293198,
          751.1619711231823,
          751.8018339448689,
          752.5080939798738,
          753.2806972998413,
          754.1196202643671,
          755.0248714076406,
          755.9964932092294,
          757.0345639242958,
          758.1391993166263,
          759.310554246674,
          760.5488242114168,
          761.8542465760155,
          763.2271016349986,
          764.6677132282175,
          766.1764490983265,
          767.7537205796436,
          769.3999817590476,
          771.1157279718636,
          772.9014934604766,
          774.7578480689453,
          776.6853931161202,
          778.6847560521912,
          780.7565840274117,
          782.901536442625,
          785.1202761741082,
          787.4134597730608,
          789.7817267226436,
          792.2256876369431,
          794.7459119069143,
          797.3429147378365,
          800.017144099966,
          802.7689675850233,
          805.5986597478569,
          808.5063901731291,
          811.4922124336047,
          814.5560545465902,
          817.697710755141,
          820.9168351996788,
          824.2129373504825,
          827.5853794360097,
          831.0333756460321,
          834.555993326654
         ]
        },
        {
         "hoverinfo": "none",
         "legendgroup": "Mixed",
         "marker": {
          "color": [
           0.25769389364168654,
           0.25424505397337555,
           0.25074818480626065,
           0.2472102360955231,
           0.2436378508940486,
           0.24003736344605078,
           0.23641479890407507,
           0.23277587452968315
          ],
          "coloraxis": "coloraxis",
          "symbol": "circle"
         },
         "mode": "markers",
         "name": "Mixed",
         "showlegend": false,
         "type": "scatter",
         "x": [
          857.1428571428571,
          877.5510204081633,
          897.9591836734694,
          918.3673469387755,
          938.7755102040816,
          959.1836734693877,
          979.5918367346939,
          1000.0
         ],
         "y": [
          135.67899893124584,
          136.45439711400573,
          137.22864429409447,
          138.00113634295204,
          138.7713008079801,
          139.5385964712836,
          140.30251282007154,
          141.0625694403812
         ]
        },
        {
         "hoverinfo": "none",
         "legendgroup": "Mixed",
         "marker": {
          "color": [
           0.06886650784174334,
           0.07020034069261437,
           0.07150410222024119,
           0.07277628313013189,
           0.0740154345787823,
           0.07522017229539181,
           0.0763891804620624,
           0.07752121532394957,
           0.0786151085070788,
           0.0796697700248043,
           0.08068419095057786,
           0.08165744575235366,
           0.0825886942531753,
           0.08347718323646287,
           0.08432224766402185,
           0.08512331151766535,
           0.0858798882653244,
           0.08659158094080108,
           0.08725808186766669,
           0.08787917200898893,
           0.08845471998680501,
           0.08898468075547467,
           0.08946909396895246,
           0.0899080820556306,
           0.09030184800796758,
           0.09065067293213808,
           0.09095491336181227,
           0.0912149983670422,
           0.09143142648233078,
           0.0916047624712265,
           0.09173563396529379,
           0.09182472798183357,
           0.09187278735988152,
           0.09188060712639223,
           0.09184903082136311,
           0.09177894679101857,
           0.09167128448328134,
           0.09152701075470704,
           0.09134712620433497,
           0.09113266155672016,
           0.09088467410824803,
           0.09060424424262557,
           0.09029247203908407,
           0.08995047397248608,
           0.08957937972442392,
           0.08918032910804453,
           0.08875446912270124,
           0.08830295112319567,
           0.0878269281374135
          ],
          "coloraxis": "coloraxis",
          "symbol": "circle"
         },
         "mode": "markers",
         "name": "Mixed",
         "showlegend": false,
         "type": "scatter",
         "x": [
          20.408163265306122,
          40.816326530612244,
          61.224489795918366,
          81.63265306122449,
          102.0408163265306,
          122.44897959183673,
          142.85714285714286,
          163.26530612244898,
          183.6734693877551,
          204.0816326530612,
          224.48979591836735,
          244.89795918367346,
          265.3061224489796,
          285.7142857142857,
          306.1224489795918,
          326.53061224489795,
          346.9387755102041,
          367.3469387755102,
          387.7551020408163,
          408.1632653061224,
          428.57142857142856,
          448.9795918367347,
          469.3877551020408,
          489.7959183673469,
          510.2040816326531,
          530.6122448979592,
          551.0204081632653,
          571.4285714285714,
          591.8367346938776,
          612.2448979591836,
          632.6530612244898,
          653.0612244897959,
          673.469387755102,
          693.8775510204082,
          714.2857142857142,
          734.6938775510204,
          755.1020408163265,
          775.5102040816327,
          795.9183673469388,
          816.3265306122448,
          836.734693877551,
          857.1428571428571,
          877.5510204081633,
          897.9591836734694,
          918.3673469387755,
          938.7755102040816,
          959.1836734693877,
          979.5918367346939,
          1000.0
         ],
         "y": [
          154.97850862616716,
          154.99370500420267,
          155.01782002781343,
          155.05082509020238,
          155.0926810318499,
          155.14333825379708,
          155.20273685456652,
          155.27080680065743,
          155.34746812340808,
          155.43263114461215,
          155.5261967297106,
          155.62805656407076,
          155.73809345718246,
          155.85618166406317,
          155.98218723507895,
          156.1159683775956,
          156.25737584038566,
          156.40625331212112,
          156.56243783199577,
          156.72576021712234,
          156.89604549244655,
          157.07311333539366,
          157.25677852348514,
          157.44685138521214,
          157.64313825480346,
          157.84544192613,
          158.0535621066054,
          158.26729586504663,
          158.48643807759592,
          158.71078186609705,
          158.94011902784612,
          159.17424045728987,
          159.4129365573417,
          159.65599763856804,
          159.90321430503337,
          160.15437782878806,
          160.40928050850533,
          160.66771601341543,
          160.92947971168343,
          161.1943689835745,
          161.4621835169987,
          161.73272558699736,
          162.00580031812368,
          162.28121593257234,
          162.55878397524717,
          162.83831952894118,
          163.1196414087354,
          163.40257234011167,
          163.68693912464195
         ]
        },
        {
         "hoverinfo": "none",
         "legendgroup": "Mixed",
         "marker": {
          "color": [
           0.4186758636340772,
           0.4269893121143678,
           0.4352337283440814,
           0.44340543415795697,
           0.4515008519166537,
           0.45951651162343776,
           0.4674490575009165,
           0.47529525415295576,
           0.48305199215155653,
           0.4907162930397421,
           0.49828531386198605,
           0.5057563510074606,
           0.5131268435111727,
           0.5203943757048216,
           0.5275566793083539,
           0.5346116348488319,
           0.5415572725681098,
           0.5483917726433968,
           0.5551134648643721,
           0.5617208277913732,
           0.5682124873711317,
           0.5745872149359256,
           0.5808439248551205,
           0.586981671622037,
           0.5929996466175536,
           0.5988971743555841,
           0.6046737084955829,
           0.6103288273796046,
           0.6158622294626992,
           0.621273728246283,
           0.6265632472336231,
           0.631730814517282,
           0.6367765572289993,
           0.6417006959460525,
           0.6465035388901269,
           0.6511854760958597,
           0.6557469735549881,
           0.6601885672559199,
           0.6645108573114101,
           0.6687145020233818,
           0.672800212061761,
           0.6767687445914403,
           0.6806208975531517,
           0.6843575040263171,
           0.6879794265712454,
           0.6914875518492339,
           0.6948827851650676,
           0.6981660452574742,
           0.7013382591664212
          ],
          "coloraxis": "coloraxis",
          "symbol": "circle"
         },
         "mode": "markers",
         "name": "Mixed",
         "showlegend": false,
         "type": "scatter",
         "x": [
          20.408163265306122,
          40.816326530612244,
          61.224489795918366,
          81.63265306122449,
          102.0408163265306,
          122.44897959183673,
          142.85714285714286,
          163.26530612244898,
          183.6734693877551,
          204.0816326530612,
          224.48979591836735,
          244.89795918367346,
          265.3061224489796,
          285.7142857142857,
          306.1224489795918,
          326.53061224489795,
          346.9387755102041,
          367.3469387755102,
          387.7551020408163,
          408.1632653061224,
          428.57142857142856,
          448.9795918367347,
          469.3877551020408,
          489.7959183673469,
          510.2040816326531,
          530.6122448979592,
          551.0204081632653,
          571.4285714285714,
          591.8367346938776,
          612.2448979591836,
          632.6530612244898,
          653.0612244897959,
          673.469387755102,
          693.8775510204082,
          714.2857142857142,
          734.6938775510204,
          755.1020408163265,
          775.5102040816327,
          795.9183673469388,
          816.3265306122448,
          836.734693877551,
          857.1428571428571,
          877.5510204081633,
          897.9591836734694,
          918.3673469387755,
          938.7755102040816,
          959.1836734693877,
          979.5918367346939,
          1000.0
         ],
         "y": [
          425.1876447254926,
          425.2362386197475,
          425.33710173161444,
          425.49018702139267,
          425.6954224975699,
          425.9527113894017,
          426.2619323611028,
          426.622939775732,
          427.0355640147311,
          427.4996118388292,
          428.0148667952746,
          428.5810896655816,
          429.1980189562098,
          429.86537142640464,
          430.5828426478107,
          431.3501076027527,
          432.16682129766303,
          433.03261942479696,
          433.94711901746916,
          434.90991915313947,
          435.9206016527312,
          436.9787317981063,
          438.08385906885985,
          439.2355178716487,
          440.4332282779795,
          441.6764967712329,
          442.9648169777725,
          444.2976704029982,
          445.6745271594121,
          447.09484667849813,
          448.5580784183493,
          450.06366255484045,
          451.611030652046,
          453.19960632435783,
          454.8288058718593,
          456.49803889713974,
          458.20670890292564,
          459.95421386007115,
          461.7399467649237,
          463.5632961516084,
          465.4236465995641,
          467.3203791999785,
          469.25287200622614,
          471.22050044758345,
          473.22263772764734,
          475.25865518205785,
          477.32792261774665,
          479.429808627294,
          481.563680860627
         ]
        },
        {
         "hoverinfo": "none",
         "legendgroup": "Backward",
         "marker": {
          "color": [
           0.29416491443291937,
           0.2963943700680097,
           0.2983426465580592,
           0.3000104390547578,
           0.3013994709160536,
           0.3025124445952679,
           0.3033529864670547,
           0.30392558681380694,
           0.30423553587917074,
           0.304288857118485,
           0.3040922385743825,
           0.30365296328917224,
           0.3029788396394209,
           0.302078132326746,
           0.300959494677936,
           0.2996319029460195,
           0.29810459295878106,
           0.2963869996632093,
           0.294488699802103,
           0.29241935802493274,
           0.2901886765876893,
           0.28780634874744776,
           0.28528201592772395,
           0.282625228635212,
           0.27984541110827893,
           0.2769518295845254,
           0.2739535641396339,
           0.2708594838914905,
           0.2676782254951158,
           0.2644181746752197,
           0.2610874507147989
          ],
          "coloraxis": "coloraxis",
          "symbol": "triangle-down"
         },
         "mode": "markers",
         "name": "Backward",
         "showlegend": false,
         "type": "scatter",
         "x": [
          224.48979591836735,
          244.89795918367346,
          265.3061224489796,
          285.7142857142857,
          306.1224489795918,
          326.53061224489795,
          346.9387755102041,
          367.3469387755102,
          387.7551020408163,
          408.1632653061224,
          428.57142857142856,
          448.9795918367347,
          469.3877551020408,
          489.7959183673469,
          510.2040816326531,
          530.6122448979592,
          551.0204081632653,
          571.4285714285714,
          591.8367346938776,
          612.2448979591836,
          632.6530612244898,
          653.0612244897959,
          673.469387755102,
          693.8775510204082,
          714.2857142857142,
          734.6938775510204,
          755.1020408163265,
          775.5102040816327,
          795.9183673469388,
          816.3265306122448,
          836.734693877551
         ],
         "y": [
          115.69009892167462,
          116.05860130638368,
          116.45521831409356,
          116.87909043514291,
          117.32931338835213,
          117.80494290066144,
          118.30499955668617,
          118.82847365006964,
          119.3743300158048,
          119.94151278896273,
          120.52895006074509,
          121.13555840446938,
          121.76024723363842,
          122.40192297680674,
          123.05949304746716,
          123.73186958495454,
          124.41797296742709,
          125.1167350757974,
          125.82710230855331,
          126.54803834244407,
          127.27852664040866,
          128.0175727039064,
          128.76420608240892,
          129.51748213638376,
          130.27648356712845,
          131.04032172234693,
          131.8081376822298,
          132.57910314274847,
          133.35242110174912,
          134.12732636681488,
          134.90308588697454
         ]
        },
        {
         "hoverinfo": "none",
         "legendgroup": "Backward",
         "marker": {
          "color": [
           0.7764378809765837,
           0.7916581780588264,
           0.8064846381828565,
           0.8208978466173186,
           0.8348800940294281,
           0.8484154734283182,
           0.8614899573025405,
           0.8740914542898249,
           0.8862098449724591,
           0.8978369969277664,
           0.9089667596390262,
           0.9195949398736722,
           0.9297192589461338,
           0.9393392931923636,
           0.9484563993548774,
           0.9570736267430087,
           0.9651956180809427,
           0.9728285011768699,
           0.9799797732317207,
           0.9866581800486559,
           0.9928735917419483,
           0.9986368770216192,
           1.003959777497377,
           1.0088547836359065,
           1.013335013569635,
           1.0174140960101594,
           1.0211060581426545,
           1.0244252192971068,
           1.0273860910410622,
           1.030003284072164,
           1.032291422254749,
           1.0342650639577786,
           1.035938630677012,
           1.037326342955407,
           1.0384421634143879,
           1.0392997466153886,
           1.0399123955661411,
           1.0402930244331277,
           1.0404541271579553,
           1.0404077515376977,
           1.040165478371814,
           1.0397384052647964,
           1.039137134622214,
           1.0383717654810944,
           1.0374518887185675,
           1.0363865852393799,
           1.0351844268611539,
           1.0338534793305068,
           1.0324013074271792
          ],
          "coloraxis": "coloraxis",
          "symbol": "triangle-down"
         },
         "mode": "markers",
         "name": "Backward",
         "showlegend": false,
         "type": "scatter",
         "x": [
          20.408163265306122,
          40.816326530612244,
          61.224489795918366,
          81.63265306122449,
          102.0408163265306,
          122.44897959183673,
          142.85714285714286,
          163.26530612244898,
          183.6734693877551,
          204.0816326530612,
          224.48979591836735,
          244.89795918367346,
          265.3061224489796,
          285.7142857142857,
          306.1224489795918,
          326.53061224489795,
          346.9387755102041,
          367.3469387755102,
          387.7551020408163,
          408.1632653061224,
          428.57142857142856,
          448.9795918367347,
          469.3877551020408,
          489.7959183673469,
          510.2040816326531,
          530.6122448979592,
          551.0204081632653,
          571.4285714285714,
          591.8367346938776,
          612.2448979591836,
          632.6530612244898,
          653.0612244897959,
          673.469387755102,
          693.8775510204082,
          714.2857142857142,
          734.6938775510204,
          755.1020408163265,
          775.5102040816327,
          795.9183673469388,
          816.3265306122448,
          836.734693877551,
          857.1428571428571,
          877.5510204081633,
          897.9591836734694,
          918.3673469387755,
          938.7755102040816,
          959.1836734693877,
          979.5918367346939,
          1000.0
         ],
         "y": [
          254.65961947289256,
          254.74607485512666,
          254.93067020460634,
          255.21315995909697,
          255.59315760341124,
          256.0701380001888,
          256.6434405690226,
          257.3122732983163,
          258.0757174982336,
          258.9327332497021,
          259.88216552195496,
          260.9227507785757,
          262.0531241011746,
          263.2718266496774,
          264.5773134545361,
          265.96796138888124,
          267.442077260117,
          268.9979059768872,
          270.6336386271961,
          272.3474205095072,
          274.13735893942857,
          276.0015308574673,
          277.9379901520286,
          279.9447746547932,
          282.0199127699843,
          284.16142972084236,
          286.36735339526865,
          288.6357197322093,
          290.9645777134163,
          293.3519938690034,
          295.796056375259,
          298.29487870475015,
          300.84660285207354,
          303.4494021392097,
          306.10148363575166,
          308.8010901827534,
          311.54650207495746,
          314.33603837351615,
          317.16805793016096,
          320.04096009463524,
          322.95318514625484,
          325.9032144933474,
          328.8895706040789,
          331.9108167707765,
          334.9655566483409,
          338.0524336429646,
          341.1701301545473,
          344.31736666001456,
          347.49290071260276
         ]
        },
        {
         "hoverinfo": "none",
         "legendgroup": "Backward",
         "marker": {
          "color": [
           0.5476570787307136,
           0.5585698659474939,
           0.5692757066713582,
           0.5797626100204369,
           0.5900186639057619,
           0.6000320447686097,
           0.6097910260544456,
           0.619283995109786,
           0.6284994663501741,
           0.6374261020732483,
           0.6460527339510179,
           0.6543683894369625,
           0.6623623215102148,
           0.6700240417195292,
           0.6773433582252957,
           0.684310416180307,
           0.6909157447300373,
           0.6971503056842135,
           0.7030055469817628,
           0.7084734614362226,
           0.713546645614121,
           0.7182183652629138,
           0.7224826217349785,
           0.7263342191546036,
           0.7297688351415278,
           0.7327830897220928,
           0.7353746128081594,
           0.7375421110373245,
           0.739285427554885,
           0.7406055988952269,
           0.7415049024440189,
           0.7419868948338925,
           0.7420564388709344,
           0.7417197190346766,
           0.7409842396768526,
           0.739858809945507,
           0.738353510896699,
           0.7364796466435217,
           0.7342496768037275,
           0.7316771349677343,
           0.7287765314138367,
           0.7255632428493372,
           0.7220533925956915,
           0.7182637222523386,
           0.7142114597622108,
           0.7099141854288534,
           0.7053897008143928,
           0.7006559016501752,
           0.6957306598005815
          ],
          "coloraxis": "coloraxis",
          "symbol": "triangle-down"
         },
         "mode": "markers",
         "name": "Backward",
         "showlegend": false,
         "type": "scatter",
         "x": [
          20.408163265306122,
          40.816326530612244,
          61.224489795918366,
          81.63265306122449,
          102.0408163265306,
          122.44897959183673,
          142.85714285714286,
          163.26530612244898,
          183.6734693877551,
          204.0816326530612,
          224.48979591836735,
          244.89795918367346,
          265.3061224489796,
          285.7142857142857,
          306.1224489795918,
          326.53061224489795,
          346.9387755102041,
          367.3469387755102,
          387.7551020408163,
          408.1632653061224,
          428.57142857142856,
          448.9795918367347,
          469.3877551020408,
          489.7959183673469,
          510.2040816326531,
          530.6122448979592,
          551.0204081632653,
          571.4285714285714,
          591.8367346938776,
          612.2448979591836,
          632.6530612244898,
          653.0612244897959,
          673.469387755102,
          693.8775510204082,
          714.2857142857142,
          734.6938775510204,
          755.1020408163265,
          775.5102040816327,
          795.9183673469388,
          816.3265306122448,
          836.734693877551,
          857.1428571428571,
          877.5510204081633,
          897.9591836734694,
          918.3673469387755,
          938.7755102040816,
          959.1836734693877,
          979.5918367346939,
          1000.0
         ],
         "y": [
          613.4259239883016,
          613.4774515752697,
          613.5803842798962,
          613.7350414956479,
          613.9416618063764,
          614.2004007912913,
          614.5113281988793,
          614.8744262688781,
          615.2895868553721,
          615.7566094025279,
          616.2751985141618,
          616.8449618756097,
          617.4654081427175,
          618.1359447253321,
          618.8558760135231,
          619.6244014253391,
          620.4406140153891,
          621.3034989311899,
          622.2119324547045,
          623.1646813445511,
          624.1604026548416,
          625.1976439269182,
          626.2748443733761,
          627.3903363681549,
          628.5423480410607,
          629.7290067662065,
          630.9483436317965,
          632.1982991511809,
          633.4767298516123,
          634.7814165303672,
          636.110073542834,
          637.4603592978648,
          638.8298882082773,
          640.2162435976401,
          641.6169915602549,
          643.0296957692655,
          644.4519327847138,
          645.8813076195189,
          647.3154693262981,
          648.7521262273801,
          650.1890605388452,
          651.6241418714706,
          653.0553395170205,
          654.4807332193313,
          655.8985220293905,
          657.3070315044274,
          658.7047186322058,
          660.0901752740562,
          661.4621289473444
         ]
        },
        {
         "hoverinfo": "none",
         "line": {
          "color": "blue",
          "dash": "dashdot"
         },
         "mode": "lines",
         "name": "1x speed",
         "type": "scatter",
         "x": [
          0.0,
          20.408163265306122,
          40.816326530612244,
          61.224489795918366,
          81.63265306122449,
          102.0408163265306,
          122.44897959183673,
          142.85714285714286,
          163.26530612244898,
          183.6734693877551,
          204.0816326530612,
          224.48979591836735,
          244.89795918367346,
          265.3061224489796,
          285.7142857142857,
          306.1224489795918,
          326.53061224489795,
          346.9387755102041,
          367.3469387755102,
          387.7551020408163,
          408.1632653061224,
          428.57142857142856,
          448.9795918367347,
          469.3877551020408,
          489.7959183673469,
          510.2040816326531,
          530.6122448979592,
          551.0204081632653,
          571.4285714285714,
          591.8367346938776,
          612.2448979591836,
          632.6530612244898,
          653.0612244897959,
          673.469387755102,
          693.8775510204082,
          714.2857142857142,
          734.6938775510204,
          755.1020408163265,
          775.5102040816327,
          795.9183673469388,
          816.3265306122448,
          836.734693877551,
          857.1428571428571,
          877.5510204081633,
          897.9591836734694,
          918.3673469387755,
          938.7755102040816,
          959.1836734693877,
          979.5918367346939,
          1000.0
         ],
         "y": [
          0.0,
          20.408163265306122,
          40.816326530612244,
          61.224489795918366,
          81.63265306122449,
          102.0408163265306,
          122.44897959183673,
          142.85714285714286,
          163.26530612244898,
          183.6734693877551,
          204.0816326530612,
          224.48979591836735,
          244.89795918367346,
          265.3061224489796,
          285.7142857142857,
          306.1224489795918,
          326.53061224489795,
          346.9387755102041,
          367.3469387755102,
          387.7551020408163,
          408.1632653061224,
          428.57142857142856,
          448.9795918367347,
          469.3877551020408,
          489.7959183673469,
          510.2040816326531,
          530.6122448979592,
          551.0204081632653,
          571.4285714285714,
          591.8367346938776,
          612.2448979591836,
          632.6530612244898,
          653.0612244897959,
          673.469387755102,
          693.8775510204082,
          714.2857142857142,
          734.6938775510204,
          755.1020408163265,
          775.5102040816327,
          795.9183673469388,
          816.3265306122448,
          836.734693877551,
          857.1428571428571,
          877.5510204081633,
          897.9591836734694,
          918.3673469387755,
          938.7755102040816,
          959.1836734693877,
          979.5918367346939,
          1000.0
         ]
        },
        {
         "hoverinfo": "none",
         "legendgroup": "Forward",
         "marker": {
          "color": "black",
          "symbol": "triangle-up"
         },
         "mode": "markers",
         "name": "Forward",
         "type": "scatter",
         "x": [
          0
         ],
         "y": [
          0
         ]
        },
        {
         "hoverinfo": "none",
         "legendgroup": "Mixed",
         "marker": {
          "color": "black",
          "symbol": "circle"
         },
         "mode": "markers",
         "name": "Mixed",
         "type": "scatter",
         "x": [
          0
         ],
         "y": [
          0
         ]
        },
        {
         "hoverinfo": "none",
         "legendgroup": "Backward",
         "marker": {
          "color": "black",
          "symbol": "triangle-down"
         },
         "mode": "markers",
         "name": "Backward",
         "type": "scatter",
         "x": [
          0
         ],
         "y": [
          0
         ]
        }
       ],
       "layout": {
        "coloraxis": {
         "cmax": 1.0,
         "cmin": 0.0,
         "colorbar": {
          "title": {
           "side": "right",
           "text": "<b>Log Dec</b>"
          }
         },
         "colorscale": [
          [
           0.0,
           "rgb(103,0,31)"
          ],
          [
           0.1,
           "rgb(178,24,43)"
          ],
          [
           0.2,
           "rgb(214,96,77)"
          ],
          [
           0.3,
           "rgb(244,165,130)"
          ],
          [
           0.4,
           "rgb(253,219,199)"
          ],
          [
           0.5,
           "rgb(247,247,247)"
          ],
          [
           0.6,
           "rgb(209,229,240)"
          ],
          [
           0.7,
           "rgb(146,197,222)"
          ],
          [
           0.8,
           "rgb(67,147,195)"
          ],
          [
           0.9,
           "rgb(33,102,172)"
          ],
          [
           1.0,
           "rgb(5,48,97)"
          ]
         ]
        },
        "legend": {
         "itemsizing": "constant",
         "orientation": "h",
         "x": 0.5,
         "xanchor": "center",
         "y": -0.3,
         "yanchor": "bottom"
        },
        "template": {
         "data": {
          "bar": [
           {
            "error_x": {
             "color": "#2a3f5f"
            },
            "error_y": {
             "color": "#2a3f5f"
            },
            "marker": {
             "line": {
              "color": "white",
              "width": 0.5
             }
            },
            "type": "bar"
           }
          ],
          "barpolar": [
           {
            "marker": {
             "line": {
              "color": "white",
              "width": 0.5
             }
            },
            "type": "barpolar"
           }
          ],
          "carpet": [
           {
            "aaxis": {
             "endlinecolor": "#2a3f5f",
             "gridcolor": "#C8D4E3",
             "linecolor": "#C8D4E3",
             "minorgridcolor": "#C8D4E3",
             "startlinecolor": "#2a3f5f"
            },
            "baxis": {
             "endlinecolor": "#2a3f5f",
             "gridcolor": "#C8D4E3",
             "linecolor": "#C8D4E3",
             "minorgridcolor": "#C8D4E3",
             "startlinecolor": "#2a3f5f"
            },
            "type": "carpet"
           }
          ],
          "choropleth": [
           {
            "colorbar": {
             "outlinewidth": 0,
             "ticks": ""
            },
            "type": "choropleth"
           }
          ],
          "contour": [
           {
            "colorbar": {
             "outlinewidth": 0,
             "ticks": ""
            },
            "colorscale": [
             [
              0.0,
              "#0d0887"
             ],
             [
              0.1111111111111111,
              "#46039f"
             ],
             [
              0.2222222222222222,
              "#7201a8"
             ],
             [
              0.3333333333333333,
              "#9c179e"
             ],
             [
              0.4444444444444444,
              "#bd3786"
             ],
             [
              0.5555555555555556,
              "#d8576b"
             ],
             [
              0.6666666666666666,
              "#ed7953"
             ],
             [
              0.7777777777777778,
              "#fb9f3a"
             ],
             [
              0.8888888888888888,
              "#fdca26"
             ],
             [
              1.0,
              "#f0f921"
             ]
            ],
            "type": "contour"
           }
          ],
          "contourcarpet": [
           {
            "colorbar": {
             "outlinewidth": 0,
             "ticks": ""
            },
            "type": "contourcarpet"
           }
          ],
          "heatmap": [
           {
            "colorbar": {
             "outlinewidth": 0,
             "ticks": ""
            },
            "colorscale": [
             [
              0.0,
              "#0d0887"
             ],
             [
              0.1111111111111111,
              "#46039f"
             ],
             [
              0.2222222222222222,
              "#7201a8"
             ],
             [
              0.3333333333333333,
              "#9c179e"
             ],
             [
              0.4444444444444444,
              "#bd3786"
             ],
             [
              0.5555555555555556,
              "#d8576b"
             ],
             [
              0.6666666666666666,
              "#ed7953"
             ],
             [
              0.7777777777777778,
              "#fb9f3a"
             ],
             [
              0.8888888888888888,
              "#fdca26"
             ],
             [
              1.0,
              "#f0f921"
             ]
            ],
            "type": "heatmap"
           }
          ],
          "heatmapgl": [
           {
            "colorbar": {
             "outlinewidth": 0,
             "ticks": ""
            },
            "colorscale": [
             [
              0.0,
              "#0d0887"
             ],
             [
              0.1111111111111111,
              "#46039f"
             ],
             [
              0.2222222222222222,
              "#7201a8"
             ],
             [
              0.3333333333333333,
              "#9c179e"
             ],
             [
              0.4444444444444444,
              "#bd3786"
             ],
             [
              0.5555555555555556,
              "#d8576b"
             ],
             [
              0.6666666666666666,
              "#ed7953"
             ],
             [
              0.7777777777777778,
              "#fb9f3a"
             ],
             [
              0.8888888888888888,
              "#fdca26"
             ],
             [
              1.0,
              "#f0f921"
             ]
            ],
            "type": "heatmapgl"
           }
          ],
          "histogram": [
           {
            "marker": {
             "colorbar": {
              "outlinewidth": 0,
              "ticks": ""
             }
            },
            "type": "histogram"
           }
          ],
          "histogram2d": [
           {
            "colorbar": {
             "outlinewidth": 0,
             "ticks": ""
            },
            "colorscale": [
             [
              0.0,
              "#0d0887"
             ],
             [
              0.1111111111111111,
              "#46039f"
             ],
             [
              0.2222222222222222,
              "#7201a8"
             ],
             [
              0.3333333333333333,
              "#9c179e"
             ],
             [
              0.4444444444444444,
              "#bd3786"
             ],
             [
              0.5555555555555556,
              "#d8576b"
             ],
             [
              0.6666666666666666,
              "#ed7953"
             ],
             [
              0.7777777777777778,
              "#fb9f3a"
             ],
             [
              0.8888888888888888,
              "#fdca26"
             ],
             [
              1.0,
              "#f0f921"
             ]
            ],
            "type": "histogram2d"
           }
          ],
          "histogram2dcontour": [
           {
            "colorbar": {
             "outlinewidth": 0,
             "ticks": ""
            },
            "colorscale": [
             [
              0.0,
              "#0d0887"
             ],
             [
              0.1111111111111111,
              "#46039f"
             ],
             [
              0.2222222222222222,
              "#7201a8"
             ],
             [
              0.3333333333333333,
              "#9c179e"
             ],
             [
              0.4444444444444444,
              "#bd3786"
             ],
             [
              0.5555555555555556,
              "#d8576b"
             ],
             [
              0.6666666666666666,
              "#ed7953"
             ],
             [
              0.7777777777777778,
              "#fb9f3a"
             ],
             [
              0.8888888888888888,
              "#fdca26"
             ],
             [
              1.0,
              "#f0f921"
             ]
            ],
            "type": "histogram2dcontour"
           }
          ],
          "mesh3d": [
           {
            "colorbar": {
             "outlinewidth": 0,
             "ticks": ""
            },
            "type": "mesh3d"
           }
          ],
          "parcoords": [
           {
            "line": {
             "colorbar": {
              "outlinewidth": 0,
              "ticks": ""
             }
            },
            "type": "parcoords"
           }
          ],
          "pie": [
           {
            "automargin": true,
            "type": "pie"
           }
          ],
          "scatter": [
           {
            "marker": {
             "colorbar": {
              "outlinewidth": 0,
              "ticks": ""
             }
            },
            "type": "scatter"
           }
          ],
          "scatter3d": [
           {
            "line": {
             "colorbar": {
              "outlinewidth": 0,
              "ticks": ""
             }
            },
            "marker": {
             "colorbar": {
              "outlinewidth": 0,
              "ticks": ""
             },
             "size": 4
            },
            "type": "scatter3d"
           }
          ],
          "scattercarpet": [
           {
            "marker": {
             "colorbar": {
              "outlinewidth": 0,
              "ticks": ""
             }
            },
            "type": "scattercarpet"
           }
          ],
          "scattergeo": [
           {
            "marker": {
             "colorbar": {
              "outlinewidth": 0,
              "ticks": ""
             }
            },
            "type": "scattergeo"
           }
          ],
          "scattergl": [
           {
            "marker": {
             "colorbar": {
              "outlinewidth": 0,
              "ticks": ""
             }
            },
            "type": "scattergl"
           }
          ],
          "scattermapbox": [
           {
            "marker": {
             "colorbar": {
              "outlinewidth": 0,
              "ticks": ""
             }
            },
            "type": "scattermapbox"
           }
          ],
          "scatterpolar": [
           {
            "marker": {
             "colorbar": {
              "outlinewidth": 0,
              "ticks": ""
             }
            },
            "type": "scatterpolar"
           }
          ],
          "scatterpolargl": [
           {
            "marker": {
             "colorbar": {
              "outlinewidth": 0,
              "ticks": ""
             }
            },
            "type": "scatterpolargl"
           }
          ],
          "scatterternary": [
           {
            "marker": {
             "colorbar": {
              "outlinewidth": 0,
              "ticks": ""
             }
            },
            "type": "scatterternary"
           }
          ],
          "surface": [
           {
            "colorbar": {
             "outlinewidth": 0,
             "ticks": ""
            },
            "colorscale": [
             [
              0.0,
              "#0d0887"
             ],
             [
              0.1111111111111111,
              "#46039f"
             ],
             [
              0.2222222222222222,
              "#7201a8"
             ],
             [
              0.3333333333333333,
              "#9c179e"
             ],
             [
              0.4444444444444444,
              "#bd3786"
             ],
             [
              0.5555555555555556,
              "#d8576b"
             ],
             [
              0.6666666666666666,
              "#ed7953"
             ],
             [
              0.7777777777777778,
              "#fb9f3a"
             ],
             [
              0.8888888888888888,
              "#fdca26"
             ],
             [
              1.0,
              "#f0f921"
             ]
            ],
            "type": "surface"
           }
          ],
          "table": [
           {
            "cells": {
             "fill": {
              "color": "#EBF0F8"
             },
             "line": {
              "color": "white"
             }
            },
            "header": {
             "fill": {
              "color": "#C8D4E3"
             },
             "line": {
              "color": "white"
             }
            },
            "type": "table"
           }
          ]
         },
         "layout": {
          "annotationdefaults": {
           "arrowcolor": "#2a3f5f",
           "arrowhead": 0,
           "arrowwidth": 1
          },
          "coloraxis": {
           "colorbar": {
            "outlinewidth": 0,
            "ticks": ""
           }
          },
          "colorscale": {
           "diverging": [
            [
             0,
             "#8e0152"
            ],
            [
             0.1,
             "#c51b7d"
            ],
            [
             0.2,
             "#de77ae"
            ],
            [
             0.3,
             "#f1b6da"
            ],
            [
             0.4,
             "#fde0ef"
            ],
            [
             0.5,
             "#f7f7f7"
            ],
            [
             0.6,
             "#e6f5d0"
            ],
            [
             0.7,
             "#b8e186"
            ],
            [
             0.8,
             "#7fbc41"
            ],
            [
             0.9,
             "#4d9221"
            ],
            [
             1,
             "#276419"
            ]
           ],
           "sequential": [
            [
             0.0,
             "#0d0887"
            ],
            [
             0.1111111111111111,
             "#46039f"
            ],
            [
             0.2222222222222222,
             "#7201a8"
            ],
            [
             0.3333333333333333,
             "#9c179e"
            ],
            [
             0.4444444444444444,
             "#bd3786"
            ],
            [
             0.5555555555555556,
             "#d8576b"
            ],
            [
             0.6666666666666666,
             "#ed7953"
            ],
            [
             0.7777777777777778,
             "#fb9f3a"
            ],
            [
             0.8888888888888888,
             "#fdca26"
            ],
            [
             1.0,
             "#f0f921"
            ]
           ],
           "sequentialminus": [
            [
             0.0,
             "#0d0887"
            ],
            [
             0.1111111111111111,
             "#46039f"
            ],
            [
             0.2222222222222222,
             "#7201a8"
            ],
            [
             0.3333333333333333,
             "#9c179e"
            ],
            [
             0.4444444444444444,
             "#bd3786"
            ],
            [
             0.5555555555555556,
             "#d8576b"
            ],
            [
             0.6666666666666666,
             "#ed7953"
            ],
            [
             0.7777777777777778,
             "#fb9f3a"
            ],
            [
             0.8888888888888888,
             "#fdca26"
            ],
            [
             1.0,
             "#f0f921"
            ]
           ]
          },
          "colorway": [
           "#1f77b4",
           "#ff7f0e",
           "#2ca02c",
           "#d62728",
           "#9467bd",
           "#8c564b",
           "#e377c2",
           "#7f7f7f",
           "#bcbd22",
           "#17becf"
          ],
          "font": {
           "color": "#2a3f5f"
          },
          "geo": {
           "bgcolor": "white",
           "lakecolor": "white",
           "landcolor": "white",
           "showlakes": true,
           "showland": true,
           "subunitcolor": "#C8D4E3"
          },
          "hoverlabel": {
           "align": "left"
          },
          "hovermode": "closest",
          "mapbox": {
           "style": "light"
          },
          "paper_bgcolor": "white",
          "plot_bgcolor": "white",
          "polar": {
           "angularaxis": {
            "gridcolor": "#EBF0F8",
            "linecolor": "#EBF0F8",
            "ticks": ""
           },
           "bgcolor": "white",
           "radialaxis": {
            "gridcolor": "#EBF0F8",
            "linecolor": "#EBF0F8",
            "ticks": ""
           }
          },
          "scene": {
           "camera": {
            "center": {
             "x": 0,
             "y": 0,
             "z": 0
            },
            "eye": {
             "x": 2.0,
             "y": 2.0,
             "z": 2.0
            },
            "up": {
             "x": 0,
             "y": 0,
             "z": 1
            }
           },
           "xaxis": {
            "backgroundcolor": "white",
            "gridcolor": "#DFE8F3",
            "gridwidth": 2,
            "linecolor": "#EBF0F8",
            "showbackground": true,
            "showspikes": false,
            "ticks": "",
            "zerolinecolor": "#EBF0F8"
           },
           "yaxis": {
            "backgroundcolor": "white",
            "gridcolor": "#DFE8F3",
            "gridwidth": 2,
            "linecolor": "#EBF0F8",
            "showbackground": true,
            "showspikes": false,
            "ticks": "",
            "zerolinecolor": "#EBF0F8"
           },
           "zaxis": {
            "backgroundcolor": "white",
            "gridcolor": "#DFE8F3",
            "gridwidth": 2,
            "linecolor": "#EBF0F8",
            "showbackground": true,
            "showspikes": false,
            "ticks": "",
            "zerolinecolor": "#EBF0F8"
           }
          },
          "shapedefaults": {
           "line": {
            "color": "#2a3f5f"
           }
          },
          "ternary": {
           "aaxis": {
            "gridcolor": "#DFE8F3",
            "linecolor": "#A2B1C6",
            "ticks": ""
           },
           "baxis": {
            "gridcolor": "#DFE8F3",
            "linecolor": "#A2B1C6",
            "ticks": ""
           },
           "bgcolor": "white",
           "caxis": {
            "gridcolor": "#DFE8F3",
            "linecolor": "#A2B1C6",
            "ticks": ""
           }
          },
          "title": {
           "x": 0.05
          },
          "xaxis": {
           "automargin": true,
           "gridcolor": "#EBF0F8",
           "linecolor": "black",
           "linewidth": 2.0,
           "mirror": true,
           "showline": true,
           "ticks": "",
           "title": {
            "standoff": 15
           },
           "zeroline": false,
           "zerolinecolor": "#EBF0F8",
           "zerolinewidth": 2
          },
          "yaxis": {
           "automargin": true,
           "gridcolor": "#EBF0F8",
           "linecolor": "black",
           "linewidth": 2.0,
           "mirror": true,
           "showline": true,
           "ticks": "",
           "title": {
            "standoff": 15
           },
           "zeroline": false,
           "zerolinecolor": "#EBF0F8",
           "zerolinewidth": 2
          }
         }
        },
        "xaxis": {
         "exponentformat": "none",
         "range": [
          0.0,
          1000.0
         ],
         "title": {
          "text": "Frequency (rad/s)"
         }
        },
        "yaxis": {
         "range": [
          0,
          918.0115926593194
         ],
         "title": {
          "text": "Natural Frequencies (rad/s)"
         }
        }
       }
      }
     },
     "metadata": {},
     "output_type": "display_data"
    }
   ],
   "source": [
    "campbell = rotor.run_campbell(speed_range=np.linspace(0, 1000))\n",
    "campbell.plot()"
   ]
  }
 ],
 "metadata": {
  "kernelspec": {
   "display_name": "Python [conda env:rs] *",
   "language": "python",
   "name": "conda-env-rs-py"
  },
  "language_info": {
   "codemirror_mode": {
    "name": "ipython",
    "version": 3
   },
   "file_extension": ".py",
   "mimetype": "text/x-python",
   "name": "python",
   "nbconvert_exporter": "python",
   "pygments_lexer": "ipython3",
   "version": "3.10.9"
  },
  "widgets": {
   "application/vnd.jupyter.widget-state+json": {
    "state": {},
    "version_major": 2,
    "version_minor": 0
   }
  }
 },
 "nbformat": 4,
 "nbformat_minor": 5
}
